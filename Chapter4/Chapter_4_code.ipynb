{
 "cells": [
  {
   "cell_type": "markdown",
   "metadata": {},
   "source": [
    "## Loading and Saving Data with Pandas"
   ]
  },
  {
   "cell_type": "markdown",
   "metadata": {},
   "source": [
    "The pygmentize command-line tool can be used to display a text file in IPython or Jupyter.  It can be installed with `conda install -c conda-forge pygments` or with pip. We can take a look at the CSV with this tool:"
   ]
  },
  {
   "cell_type": "code",
   "execution_count": 1,
   "metadata": {},
   "outputs": [
    {
     "name": "stdout",
     "output_type": "stream",
     "text": [
      "Track,Composer,Milliseconds,Bytes,UnitPrice,Genre,Album,Artist\n",
      "All the Best Cowboys Have Daddy Issues,,2555492,211743651,1.99,TV Shows,\"Lost, Season 1\",Lost\n",
      "Beira Mar,Gilberto Gil,295444,9597994,0.99,Latin,Unplugged,Eric Clapton\n",
      "Brasil,\"Milton Nascimento, Fernando Brant\",155428,5252560,0.99,Latin,Milton Nascimento Ao Vivo,Milton Nascimento\n",
      "Ben Franklin,,1271938,264168080,1.99,Comedy,\"The Office, Season 3\",The Office\n",
      "O Último Romântico (Ao Vivo),,231993,7692697,0.99,Latin,Lulu Santos - RCA 100 Anos De Música - Álbum 02,Lulu Santos\n",
      "Freewheel Burning,,265952,8713599,0.99,Metal,Living After Midnight,Judas Priest\n",
      "That's The Way,Robert Plant,343431,11248455,0.99,Rock,BBC Sessions [Disc 2] [Live],Led Zeppelin\n",
      "Mellowship Slinky In B Major,Anthony Kiedis/Chad Smith/Flea/John Frusciante,240091,7971384,0.99,Alternative & Punk,Blood Sugar Sex Magik,Red Hot Chili Peppers\n",
      "\"Diga Lá, Coração\",,255921,8280636,0.99,Latin,Meus Momentos,Gonzaguinha\n",
      "Come As You Are,Kurt Cobain,219219,7123357,0.99,Rock,Nevermind,Nirvana\n",
      "The Spirit Of Radio,Geddy Lee And Alex Lifeson/Geddy Lee And Neil Peart/Rush,299154,9862012,0.99,Rock,Retrospective I (1974-1980),Rush\n",
      "Midnight Blue,David Coverdale/Earl Slick,298631,9750990,0.99,Rock,Into The Light,David Coverdale\n",
      "Se Liga,,410409,13559173,0.99,Hip Hop/Rap,Os Cães Ladram Mas A Caravana Não Pára,Planet Hemp\n",
      "Carnival Of Sorts,R.E.M.,233482,7669658,0.99,Alternative & Punk,The Best Of R.E.M.: The IRS Years,R.E.M.\n",
      "Paranoid,\"A. F. Iommi, W. Ward, T. Butler, J. Osbourne\",176352,5729813,0.99,Metal,Tribute,Ozzy Osbourne\n",
      "Got That Feeling,Mike Patton,140852,4643227,0.99,Alternative & Punk,Album Of The Year,Faith No More\n",
      "What Is And What Should Never Be,\"Jimmy Page, Robert Plant\",287973,9369385,0.99,Rock,Led Zeppelin II,Led Zeppelin\n",
      "The Zephyr Song,\"Anthony Kiedis, Flea, John Frusciante, and Chad Smith\",232960,7690312,0.99,Rock,By The Way,Red Hot Chili Peppers\n",
      "Run Silent Run Deep,Bruce Dickinson/Steve Harris,275408,4407296,0.99,Metal,No Prayer For The Dying,Iron Maiden\n",
      "Realidade Virtual,Bino Farias/Da Gama/Lazão/Toni Garrido,195239,6503533,0.99,Reggae,Acústico MTV [Live],Cidade Negra\n",
      "Há Quanto Tempo,,270027,9004470,0.99,Latin,Jota Quest-1995,Jota Quest\n",
      "Oprah,,6635,224313,0.99,Alternative & Punk,Body Count,Body Count\n",
      "As Aparências Enganam,,247379,8014346,0.99,Latin,Elis Regina-Minha História,Elis Regina\n",
      "Confidence Man,,2615244,223756475,1.99,TV Shows,\"Lost, Season 1\",Lost\n",
      "Os Alquimistas Estão Chegando,,367281,12304520,0.99,Latin,Jorge Ben Jor 25 Anos,Jorge Ben\n",
      "Springsville,J. Carisi,207725,6776219,0.99,Jazz,Miles Ahead,Miles Davis\n",
      "Wake Up,Alanis Morissette & Glenn Ballard,293485,9703359,0.99,Rock,Jagged Little Pill,Alanis Morissette\n",
      "Ave Maria,Franz Schubert,338243,5605648,0.99,Classical,A Soprano Inspired,\"Britten Sinfonia, Ivor Bolton & Lesley Garrett\"\n",
      "A Banda,,132493,4349539,0.99,Latin,Minha Historia,Chico Buarque\n",
      "Fight Fire With Fire,Metallica,285753,9420856,0.99,Metal,Ride The Lightning,Metallica\n",
      "Sound of a Gun,,260154,4234990,0.99,Alternative,Revelations,Audioslave\n",
      "RV,,223242,7288162,0.99,Alternative & Punk,Angel Dust,Faith No More\n",
      "É que Nessa Encarnação Eu Nasci Manga,Lucina/Luli,196519,6568081,0.99,Pop,Axé Bahia 2001,Various Artists\n",
      "Do The Evolution,Eddie Vedder & Stone Gossard,225462,7377286,0.99,Rock,Live On Two Legs [Live],Pearl Jam\n",
      "Prowler,Steve Harris,255634,4091904,0.99,Metal,A Real Dead One,Iron Maiden\n",
      "They Can't Take That Away From Me,george gershwin/ira gershwin,161227,5240043,0.99,Easy Listening,My Way: The Best Of Frank Sinatra [Disc 1],Frank Sinatra\n",
      "The Real Problem,,11650,387360,0.99,Alternative & Punk,Body Count,Body Count\n",
      "Tempus Fugit,Miles Davis,231784,7548434,0.99,Jazz,The Essential Miles Davis [Disc 1],Miles Davis\n",
      "Diwali,,1279904,252726644,1.99,TV Shows,\"The Office, Season 3\",The Office\n",
      "Bring'em Back Alive,Audioslave/Chris Cornell,329534,7911634,0.99,Rock,Audioslave,Audioslave\n",
      "Time Is On My Side,Jerry Ragavoy,179983,5855836,0.99,Rock,\"Hot Rocks, 1964-1971 (Disc 1)\",The Rolling Stones\n",
      "The Ocean,John Bonham/John Paul Jones,271098,8846469,0.99,Rock,Houses Of The Holy,Led Zeppelin\n",
      "Minority,Billie Joe Armstrong -Words Green Day -Music,168803,5535061,0.99,Alternative & Punk,International Superhits,Green Day\n",
      "The Messenger,Daniel Lanois,212062,6975437,0.99,Alternative & Punk,Tangents,The Tea Party\n",
      "Quanta (Live),,357485,11774865,0.99,Latin,Quanta Gente Veio Ver (Live),Gilberto Gil\n",
      "Ironic,Alanis Morissette & Glenn Ballard,229825,7598866,0.99,Rock,Jagged Little Pill,Alanis Morissette\n",
      "Faraó Divindade Do Egito,,228571,7523278,0.99,Latin,Olodum,Olodum\n",
      "\"Nabucco: Chorus, \"\"Va, Pensiero, Sull'ali Dorate\"\"\",Giuseppe Verdi,274504,4498583,0.99,Classical,Great Opera Choruses,\"Chicago Symphony Chorus, Chicago Symphony Orchestra & Sir Georg Solti\"\n",
      "Redundant,Billie Joe Armstrong -Words Green Day -Music,198164,6481753,0.99,Alternative & Punk,International Superhits,Green Day\n",
      "Leave Us Leap,,182726,5898810,0.99,Jazz,Up An' Atom,Gene Krupa\n",
      "Flight Of The Icarus,Adrian Smith/Bruce Dickinson,230269,3686400,0.99,Metal,Piece Of Mind,Iron Maiden\n",
      "Adoled (Ocean),,185103,6009946,0.99,Hip Hop/Rap,Os Cães Ladram Mas A Caravana Não Pára,Planet Hemp\n",
      "Let's See Action,Pete Townshend,243513,8078418,0.99,Rock,My Generation - The Very Best Of The Who,The Who\n",
      "\"Toccata and Fugue in D Minor, BWV 565: I. Toccata\",Johann Sebastian Bach,153901,2649938,0.99,Classical,Bach: Toccata & Fugue in D Minor,Ton Koopman\n",
      "Blind Curve: Vocal Under A Bloodlight / Passing Strangers / Mylo / Perimeter Walk / Threshold,\"Kelly, Mosley, Rothery, Trewaves\",569704,18578995,0.99,Rock,Misplaced Childhood,Marillion\n",
      "Dirty Little Thing,\"Dave Kushner, Duff, Keith Nelson, Matt Sorum, Scott Weiland & Slash\",237844,7732982,0.99,Rock,Contraband,Velvet Revolver\n",
      "Só Tinha De Ser Com Você,Vários,389642,13085596,0.99,Latin,Chill: Brazil (Disc 2),Antônio Carlos Jobim\n",
      "Slug,\"Brian Eno, Bono, Adam Clayton, The Edge & Larry Mullen Jnr.\",281469,9295950,0.99,Soundtrack,Original Soundtracks 1,Passengers\n",
      "Black Mountain Side,Jimmy Page,132702,4440602,0.99,Rock,Led Zeppelin I,Led Zeppelin\n",
      "Pensamento,Bino/Da Gama/Ras Bernardo,192391,6399761,0.99,Reggae,Cidade Negra - Hits,Cidade Negra\n",
      "Even Better Than The Real Thing,U2,221361,7279392,0.99,Rock,Achtung Baby,U2\n",
      "Powerslave,Dickinson,407823,9791106,0.99,Metal,Powerslave,Iron Maiden\n",
      "Loud Love,Chris Cornell,297456,9660953,0.99,Rock,A-Sides,Soundgarden\n",
      "2 Minutes To Midnight,Smith/Dickinson,366550,8799380,0.99,Metal,Live After Death,Iron Maiden\n",
      "Out Of Exile,\"Cornell, Commerford, Morello, Wilk\",291291,9506571,0.99,Alternative & Punk,Out Of Exile,Audioslave\n",
      "Spank Thru,Kurt Cobain,190354,6186487,0.99,Rock,From The Muddy Banks Of The Wishkah [Live],Nirvana\n",
      "London Calling,Joe Strummer/Mick Jones,199706,6569007,0.99,Alternative & Punk,The Singles,The Clash\n",
      "Break on Through,\"Robby Krieger, Ray Manzarek, John Densmore, Jim Morrison\",149342,4943144,0.99,Rock,The Doors,The Doors\n",
      "We Are The Champions,Mercury,182883,5939794,0.99,Rock,News Of The World,Queen\n",
      "Hard Lovin' Man,\"Blackmore, Gillan, Glover, Lord, Paice\",431203,13931179,0.99,Rock,Deep Purple In Rock,Deep Purple\n",
      "Jingo,M.Babatunde Olantunji,592953,19736495,0.99,Rock,Santana - As Years Go By,Santana\n",
      "200 Years Old,Frank Zappa,272561,8912465,0.99,Rock,Bongo Fury,Frank Zappa & Captain Beefheart\n",
      "Santa Clara Clareou,,380081,12524725,0.99,Latin,Jorge Ben Jor 25 Anos,Jorge Ben\n",
      "Juventude Transviada (Ao Vivo),,278622,9183808,0.99,Latin,Cássia Eller - Coleção Sem Limite [Disc 2],Cássia Eller\n",
      "Rollover D.J.,C. Cester/N. Cester,196702,6406517,0.99,Alternative & Punk,Get Born,JET\n",
      "Leave,Bill Berry-Peter Buck-Mike Mills-Michael Stipe,437968,14433365,0.99,Rock,New Adventures In Hi-Fi,R.E.M.\n",
      "God Part II,\"Bono/Clayton, Adam/Mullen Jr., Larry/The Edge\",195604,6497570,0.99,Rock,Rattle And Hum,U2\n",
      "Cold Gin,Ace Frehley,262243,8609783,0.99,Rock,Greatest Kiss,Kiss\n",
      "Sister Morphine,Faithfull/Jagger/Richards,376215,12345289,0.99,Rock,No Security,The Rolling Stones\n",
      "Nefertiti,Miles Davis,473495,15478450,0.99,Jazz,The Essential Miles Davis [Disc 2],Miles Davis\n",
      "Take the Box,Luke Smith,199160,3281526,0.99,Pop,Frank,Amy Winehouse\n",
      "Good Riddance (Time Of Your Life),Billie Joe Armstrong -Words Green Day -Music,153600,5075241,0.99,Alternative & Punk,International Superhits,Green Day\n",
      "Can't Keep,Eddie Vedder,219428,7215713,0.99,Rock,Riot Act,Pearl Jam\n",
      "Wall Of Denial,Doyle Bramhall/Stevie Ray Vaughan,336927,11085915,0.99,Blues,In Step,Stevie Ray Vaughan & Double Trouble\n",
      "If God Will Send His Angels,\"Bono, The Edge, Adam Clayton, and Larry Mullen\",322533,10563329,0.99,Rock,Pop,U2\n",
      "Viradouro,Dadinho/Gilbreto Gomes/Gustavo/P.C. Portugal/R. Mocoto,344320,11484362,0.99,Latin,Sambas De Enredo 2001,Various Artists\n",
      "Surrender,U2,333505,11221406,0.99,Rock,War,U2\n",
      "Funky Monks,Anthony Kiedis/Chad Smith/Flea/John Frusciante,323395,10708168,0.99,Alternative & Punk,Blood Sugar Sex Magik,Red Hot Chili Peppers\n",
      "Back in the Village,Dickinson/Smith,320548,7696518,0.99,Metal,Powerslave,Iron Maiden\n",
      "Freedom For My People,\"Mabins, Macie/Magee, Sterling/Robinson, Bobby\",38164,1249764,0.99,Rock,Rattle And Hum,U2\n",
      "Um Jantar Pra Dois,,244009,8021589,0.99,Latin,The Best of Ed Motta,Ed Motta\n",
      "Hang 'Em High,Alex Van Halen/David Lee Roth/Edward Van Halen/Michael Anthony,210259,6872314,0.99,Rock,Diver Down,Van Halen\n",
      "Spirit's in the Material World,G M Sumner,181133,5986622,0.99,Rock,The Police Greatest Hits,The Police\n",
      "Maquinarama,Chico Amaral/Samuel Rosa,245629,8213710,0.99,Rock,Maquinarama,Skank\n",
      "Believe,,310778,10317185,0.99,Jazz,Heart of the Night,Spyro Gyra\n",
      "The Wait,Killing Joke,295418,9688418,0.99,Metal,Garage Inc. (Disc 2),Metallica\n",
      "Near Wild Heaven,Bill Berry/Michael Stipe/Mike Mills/Peter Buck,199862,6610009,0.99,Alternative & Punk,Out Of Time,R.E.M. Feat. Kate Pearson\n",
      "Desordem,Charles Gavin/Marcelo Fromer/Sérgio Britto,213289,7067340,0.99,Alternative & Punk,Volume Dois,Titãs\n",
      "Canário Do Reino,,139337,4552858,0.99,Latin,Serie Sem Limite (Disc 2),Tim Maia\n",
      "O Pulso,Titãs,199131,6566998,0.99,Alternative & Punk,Acústico,Titãs\n",
      "Fear Of The Dark,Steve Harris,431333,6906078,0.99,Metal,A Real Live One,Iron Maiden\n",
      "Every Little Thing She Does is Magic,G M Sumner,261120,8646853,0.99,Rock,The Police Greatest Hits,The Police\n",
      "O Livro Dos Dias,Renato Russo,257253,8570929,0.99,Latin,A TempestadeTempestade Ou O Livro Dos Dias,Legião Urbana\n",
      "Arc,Pearl Jam,65593,2099421,0.99,Rock,Riot Act,Pearl Jam\n",
      "All My Life,Foo Fighters,263653,8665545,0.99,Alternative & Punk,One By One,Foo Fighters\n",
      "Put You Down,Jerry Cantrell,196231,6420530,0.99,Rock,Facelift,Alice In Chains\n",
      "Já Foi,Mônica Marianno,245681,8094872,0.99,World,Demorou...,Mônica Marianno\n",
      "Gatas Extraordinárias,,212506,7095702,0.99,Latin,Cássia Eller - Coleção Sem Limite [Disc 2],Cássia Eller\n",
      "Carta Ao Tom 74,,162560,5382354,0.99,Bossa Nova,Vinícius De Moraes - Sem Limite,Toquinho & Vinícius\n",
      "Babyface,U2; Bono,241998,7942573,0.99,Rock,Zooropa,U2\n",
      "Light My Way,Audioslave/Chris Cornell,303595,7289084,0.99,Rock,Audioslave,Audioslave\n",
      "Solar,\"Milton Nascimento, Fernando Brant\",156212,5098288,0.99,Latin,Milton Nascimento Ao Vivo,Milton Nascimento\n",
      "Something Nice Back Home,,2612779,484711353,1.99,Drama,\"LOST, Season 4\",Lost\n",
      "Murder On the Rising Star,,2935894,551759986,1.99,Sci Fi & Fantasy,\"Battlestar Galactica (Classic), Season 1\",Battlestar Galactica (Classic)\n",
      "Think,Lowman Pauling,166739,5513208,0.99,R&B/Soul,Sex Machine,James Brown\n",
      "Ando Meio Desligado,Caetano Veloso,195813,6547648,0.99,Latin,Chill: Brazil (Disc 1),Marcos Valle\n",
      "Trac Trac,Fito Paez/Herbert Vianna,231653,7638256,0.99,Latin,Arquivo II,Os Paralamas Do Sucesso\n",
      "Whiplash,\"James Hetfield, Lars Ulrich\",249208,8102839,0.99,Metal,Kill 'Em All,Metallica\n",
      "Brave New World,Bruce Dickinson/David Murray/Steve Harris,378984,15161472,0.99,Rock,Brave New World,Iron Maiden\n",
      "A Statistic,,6373,211997,0.99,Alternative & Punk,Body Count,Body Count\n",
      "Manifest Destiny,Toby Smith,382197,12676962,0.99,Electronica/Dance,The Return Of The Space Cowboy,Jamiroquai\n",
      "Falamansa Song,,237165,7921313,0.99,Latin,Deixa Entrar,Falamansa\n",
      "Song For Lorraine,Jay Beckenstein,240091,8101723,0.99,Jazz,Morning Dance,Spyro Gyra\n",
      "Diamante De Mendigo,,206053,6775101,0.99,Rock,Raul Seixas,Raul Seixas\n",
      "Corcovado (Quiet Nights Of Quiet Stars),,205662,6687994,0.99,Jazz,Warner 25 Anos,Antônio Carlos Jobim\n",
      "KKK Bitch,,173008,5709631,0.99,Alternative & Punk,Body Count,Body Count\n",
      "União Da Ilha,\"Dito/Djalma Falcao/Ilha, Almir Da/Márcio André\",330945,11100945,0.99,Latin,Sambas De Enredo 2001,Various Artists\n",
      "Your Mirror,Mick Hucknall,240666,7893821,0.99,Rock,Greatest Hits,Lenny Kravitz\n",
      "Maybe I'm A Leo,Ian Gillan/Ian Paice/Jon Lord/Ritchie Blckmore/Roger Glover,290455,9502646,0.99,Rock,Machine Head,Deep Purple\n",
      "Not The Doctor,Alanis Morissette & Glenn Ballard,227631,7604601,0.99,Rock,Jagged Little Pill,Alanis Morissette\n",
      "Suck My Kiss,Anthony Kiedis/Chad Smith/Flea/John Frusciante,217234,7129137,0.99,Alternative & Punk,Blood Sugar Sex Magik,Red Hot Chili Peppers\n",
      "The Unforgettable Fire,U2,295183,9684664,0.99,Rock,The Best Of 1980-1990,U2\n",
      "You Learn,Alanis Morissette & Glenn Ballard,239699,7824837,0.99,Rock,Jagged Little Pill,Alanis Morissette\n",
      "Losing My Religion,Bill Berry/Michael Stipe/Mike Mills/Peter Buck,269035,8885672,0.99,Alternative & Punk,Out Of Time,R.E.M. Feat. Kate Pearson\n",
      "\"Concert pour 4 Parties de V**les, H. 545: I. Prelude\",Marc-Antoine Charpentier,110266,1973559,0.99,Classical,\"Charpentier: Divertissements, Airs & Concerts\",Les Arts Florissants & William Christie\n",
      "Flip The Switch,Jagger/Richards,252421,8336591,0.99,Rock,No Security,The Rolling Stones\n",
      "Enquanto O Mundo Explode,Chico Science,88764,2968650,0.99,Latin,Afrociberdelia,Chico Science & Nação Zumbi\n",
      "So Central Rain,R.E.M.,194768,6414550,0.99,Alternative & Punk,The Best Of R.E.M.: The IRS Years,R.E.M.\n",
      "Riviera Paradise,Stevie Ray Vaughan,528692,17232776,0.99,Blues,In Step,Stevie Ray Vaughan & Double Trouble\n",
      "Caffeine,,267937,8747367,0.99,Alternative & Punk,Angel Dust,Faith No More\n",
      "Palco (Live),,238315,8026622,0.99,Latin,Quanta Gente Veio Ver (Live),Gilberto Gil\n",
      "Walk On,\"Adam Clayton, Bono, Larry Mullen, The Edge\",296280,9800861,0.99,Rock,All That You Can't Leave Behind,U2\n",
      "Layla,Clapton/Gordon,430733,14115792,0.99,Blues,The Cream Of Clapton,Eric Clapton\n",
      "End Of The Night,\"Robby Krieger, Ray Manzarek, John Densmore, Jim Morrison\",172695,5589732,0.99,Rock,The Doors,The Doors\n",
      "Revolution,,256026,8371254,0.99,Rock,\"Pure Cult: The Best Of The Cult (For Rockers, Ravers, Lovers & Sinners) [UK]\",The Cult\n",
      "Sweet Child O' Mine,,356424,5879347,0.99,Rock,Appetite for Destruction,Guns N' Roses\n",
      "Heaven Can Wait,,440555,10577743,0.99,Rock,Live At Donington 1992 (Disc 2),Iron Maiden\n",
      "Love Comes,\"Darius \"\"Take One\"\" Minwalla/Jon Auer/Ken Stringfellow/Matt Harris\",199923,3240609,0.99,Rock,Every Kind of Light,The Posies\n",
      "The 23rd Psalm,,2610416,487401604,1.99,TV Shows,\"Lost, Season 2\",Lost\n",
      "Dude (Looks Like A Lady),\"Steven Tyler, Joe Perry, Desmond Child\",264855,8679940,0.99,Rock,Big Ones,Aerosmith\n",
      "Minas,\"Milton Nascimento, Caetano Veloso\",152293,4921056,0.99,Latin,Minas,Milton Nascimento\n",
      "Pride (In The Name Of Love),U2,230243,7549085,0.99,Rock,The Best Of 1980-1990,U2\n",
      "Put The Finger On You,\"Angus Young, Malcolm Young, Brian Johnson\",205662,6713451,0.99,Rock,For Those About To Rock We Salute You,AC/DC\n",
      "Get On The Snake,Chris Cornell/Kim Thayil,225123,7313744,0.99,Rock,A-Sides,Soundgarden\n",
      "A Festa Do Santo Reis,,159791,5204995,0.99,Latin,Serie Sem Limite (Disc 2),Tim Maia\n",
      "Wanted Dread And Alive,,260310,8670933,0.99,Reggae,Greatest Hits,Lenny Kravitz\n",
      "Tanto Tempo,Vários,170292,5572240,0.99,Latin,Chill: Brazil (Disc 2),Antônio Carlos Jobim\n",
      "Infinite Dreams,Steve Harris,369005,8858669,0.99,Metal,Seventh Son of a Seventh Son,Iron Maiden\n",
      "Feirinha da Pavuna/Luz do Repente/Bagaço da Laranja,\"Arlindo Cruz/Franco/Marquinhos PQD/Negro, Jovelina Pérolo/Zeca Pagodinho\",107206,3593684,0.99,Latin,Ao Vivo [IMPORT],Zeca Pagodinho\n",
      "Motéis,,213498,7041077,0.99,Latin,Roda De Funk,Funk Como Le Gusta\n",
      "Corduroy,Pearl Jam & Eddie Vedder,305293,9991106,0.99,Rock,Live On Two Legs [Live],Pearl Jam\n",
      "Why Go,Jeff Ament,200254,6539287,0.99,Rock,Ten,Pearl Jam\n",
      "\"Hail, Hail\",Stone Gossard & Eddie Vedder & Jeff Ament & Mike McCready,223764,7364206,0.99,Rock,Live On Two Legs [Live],Pearl Jam\n",
      "Flight Of The Rat,\"Blackmore, Gillan, Glover, Lord, Paice\",478302,15563967,0.99,Rock,Deep Purple In Rock,Deep Purple\n",
      "Groovus Interruptus,Jim Beard,319373,10602166,0.99,Jazz,Outbreak,Dennis Chambers\n",
      "Wrathchild,Steve Harris,185808,7434368,0.99,Metal,Rock In Rio [CD1],Iron Maiden\n",
      "Nene 2001,,284969,9694508,0.99,Soundtrack,Carnaval 2001,Various Artists\n",
      "Nightrain,,268537,4457283,0.99,Rock,Appetite for Destruction,Guns N' Roses\n",
      "Elderly Woman Behind The Counter In A Small Town,Dave Abbruzzese & Jeff Ament & Stone Gossard & Mike McCready & Eddie Vedder,229328,7509304,0.99,Rock,Live On Two Legs [Live],Pearl Jam\n",
      "The Outlaw Torn,\"James Hetfield, Lars Ulrich\",588721,19286261,0.99,Metal,Load,Metallica\n",
      "Battery,J.Hetfield/L.Ulrich,312424,10229577,0.99,Metal,Master Of Puppets,Metallica\n",
      "Lords Of The Backstage,\"Kelly, Mosley, Rothery, Trewaves\",112875,3741319,0.99,Rock,Misplaced Childhood,Marillion\n",
      "The River (Remix),The Tea Party,343170,11193268,0.99,Alternative & Punk,Tangents,The Tea Party\n",
      "Bowels Of The Devil,,223216,7324125,0.99,Alternative & Punk,Body Count,Body Count\n",
      "Don't Go Back To Rockville,R.E.M.,272352,9010715,0.99,Alternative & Punk,The Best Of R.E.M.: The IRS Years,R.E.M.\n",
      "Macô,Chico Science,249600,8253934,0.99,Latin,Afrociberdelia,Chico Science & Nação Zumbi\n",
      "Love Is The Colour,R. Carless,251585,8419165,0.99,Jazz,Blue Moods,Incognito\n",
      "Without You,Van Halen,390295,12619558,0.99,Rock,Van Halen III,Van Halen\n",
      "Phantom Lord,\"James Hetfield, Lars Ulrich, Dave Mustaine\",302053,9817143,0.99,Metal,Kill 'Em All,Metallica\n",
      "Don't Take Your Love From Me,,282331,9244238,0.99,Jazz,Up An' Atom,Gene Krupa\n",
      "On The Run,\"Gilmour, Waters\",214595,7206300,0.99,Rock,Dark Side Of The Moon,Pink Floyd\n",
      "Set It Off,Audioslave/Chris Cornell,263262,6321091,0.99,Rock,Audioslave,Audioslave\n",
      "Get Me Outta Here,C. Cester/N. Cester,176274,5729098,0.99,Alternative & Punk,Get Born,JET\n",
      "Surprise! You're Dead!,Faith No More,147226,4823036,0.99,Alternative & Punk,The Real Thing,Faith No More\n",
      "Linha Do Horizonte,Vários,279484,9275929,0.99,Latin,Chill: Brazil (Disc 2),Antônio Carlos Jobim\n",
      "Cigano,,304692,10037362,0.99,Latin,Djavan Ao Vivo - Vol. 02,Djavan\n",
      "She Wears Black,G Harvey/R Hope-Taylor,528666,17617944,0.99,Jazz,Blue Moods,Incognito\n",
      "Losfer Words,Steve Harris,252891,6074756,0.99,Metal,Powerslave,Iron Maiden\n",
      "Blood Brothers,Steve Harris,434442,17379456,0.99,Rock,Brave New World,Iron Maiden\n",
      "\"War of the Gods, Pt. 2\",,2923381,487899692,1.99,Sci Fi & Fantasy,\"Battlestar Galactica (Classic), Season 1\",Battlestar Galactica (Classic)\n",
      "Let There Be Rock,AC/DC,366654,12021261,0.99,Rock,Let There Be Rock,AC/DC\n",
      "The Negotiation,,1767851,371663719,1.99,Comedy,\"The Office, Season 3\",The Office\n",
      "Vida Boa,Fausto Nilo - Armandinho,281730,9411272,0.99,Latin,Prenda Minha,Caetano Veloso\n",
      "Fast And Loose,Clarke/Kilmister/Taylor,203337,6643350,0.99,Metal,Ace Of Spades,Motörhead\n",
      "They're Red Hot,Robert Johnson,71941,2382220,0.99,Alternative & Punk,Blood Sugar Sex Magik,Red Hot Chili Peppers\n",
      "Dr. Heckyll & Mr. Jive,,278465,9110403,0.99,Rock,The Best Of Men At Work,Men At Work\n",
      "Territorial Pissings,Kurt Cobain,143281,4613880,0.99,Rock,Nevermind,Nirvana\n",
      "The Pan Piper,Miles Davis,233769,7593713,0.99,Jazz,The Essential Miles Davis [Disc 1],Miles Davis\n",
      "Ali,Nando Reis/Samuel Rosa,306390,10110351,0.99,Rock,Maquinarama,Skank\n",
      "Sangue De Bairro,Chico Science,132231,4415557,0.99,Latin,Afrociberdelia,Chico Science & Nação Zumbi\n",
      "Beijo do Olhar,Mônica Marianno,252682,8369029,0.99,World,Demorou...,Mônica Marianno\n",
      "Pretinha,,265273,8914579,0.99,Jazz,Quanta Gente Veio ver--Bônus De Carnaval,Gilberto Gil\n",
      "Fortuneteller,\"Blackmore, Glover, Turner, Lord, Paice\",349335,11369671,0.99,Rock,Slaves And Masters,Deep Purple\n",
      "Surrender,,287634,9422926,0.99,Jazz,Heart of the Night,Spyro Gyra\n",
      "Killers,Paul Di'Anno/Steve Harris,309995,10009697,0.99,Rock,The Beast Live,Paul D'Ianno\n",
      "Be Quick Or Be Dead,Bruce Dickinson/Janick Gers,196911,3151872,0.99,Metal,A Real Live One,Iron Maiden\n",
      "Pau-De-Arara,\"Guio De Morais E Seus \"\"Parentes\"\"/Luiz Gonzaga\",191660,6340649,0.99,Soundtrack,As Canções de Eu Tu Eles,Gilberto Gil\n",
      "On Mercury,\"Anthony Kiedis, Flea, John Frusciante, and Chad Smith\",208509,6834762,0.99,Rock,By The Way,Red Hot Chili Peppers\n",
      "On A Plain,Kurt Cobain,196440,6390635,0.99,Rock,Nevermind,Nirvana\n",
      "\"Lost (Pilot, Part 2)\",,2436583,204995876,1.99,TV Shows,\"Lost, Season 1\",Lost\n",
      "O Bicho Tá Pregando,,171964,5683369,0.99,Hip Hop/Rap,Os Cães Ladram Mas A Caravana Não Pára,Planet Hemp\n",
      "Lookin' For A Reason,J.C. Fogerty,209789,6933135,0.99,Rock,\"Chronicle, Vol. 2\",Creedence Clearwater Revival\n",
      "Be Yourself,\"Cornell, Commerford, Morello, Wilk\",279484,9106160,0.99,Alternative & Punk,Out Of Exile,Audioslave\n",
      "Não Sei O Que Eu Quero Da Vida,,151849,5024963,0.99,Latin,Cássia Eller - Coleção Sem Limite [Disc 2],Cássia Eller\n",
      "Shamrocks And Shenanigans (Boom Shalock Lock Boom/Butch Vig Mix),E. Schrody/L. Dimant,237035,9483705,0.99,Hip Hop/Rap,House of Pain,House Of Pain\n",
      "Talk About The Passion,R.E.M.,203206,6725435,0.99,Alternative & Punk,The Best Of R.E.M.: The IRS Years,R.E.M.\n",
      "Rasul,Jeremy Wall,238315,7854737,0.99,Jazz,Morning Dance,Spyro Gyra\n",
      "Tim Tim Por Tim Tim,Vários,213237,7143328,0.99,Latin,Chill: Brazil (Disc 2),Antônio Carlos Jobim\n",
      "Pini Di Roma (Pinien Von Rom) \\ I Pini Della Via Appia,,286741,4718950,0.99,Classical,Respighi:Pines of Rome,Eugene Ormandy\n",
      "Die Die My Darling,Danzig,149315,4867667,0.99,Metal,Garage Inc. (Disc 1),Metallica\n",
      "Enter Sandman,Apocalyptica,221701,7286305,0.99,Metal,Plays Metallica By Four Cellos,Apocalyptica\n",
      "Harvester Of Sorrow,James Hetfield and Lars Ulrich,345547,11377339,0.99,Metal,...And Justice For All,Metallica\n",
      "Child In Time (Son Of Aleric - Instrumental),\"Richie Blackmore, Ian Gillian, Roger Glover, Jon Lord, Ian Paice\",602880,19712753,0.99,Rock,Knocking at Your Back Door: The Best Of Deep Purple in the 80's,Deep Purple\n",
      "I'm A Greedy Man Pt.1,Charles Bobbitt/James Brown,217730,7251211,0.99,R&B/Soul,Sex Machine,James Brown\n",
      "The One I Love,R.E.M.,197355,6495125,0.99,Alternative & Punk,The Best Of R.E.M.: The IRS Years,R.E.M.\n",
      "Onibusfobia,,315977,10474904,0.99,Latin,Jota Quest-1995,Jota Quest\n",
      "O Estrangeiro,,374700,12472890,0.99,Latin,Minha Historia,Chico Buarque\n",
      "Voce Nao Entende Nada - Cotidiano,,421982,13885612,0.99,Latin,Minha Historia,Chico Buarque\n",
      "Planet Home,Jay Kay/Toby Smith,284447,9566237,0.99,R&B/Soul,Synkronized,Jamiroquai\n",
      "Give Peace a Chance,,274644,4448025,0.99,Pop,Instant Karma: The Amnesty International Campaign to Save Darfur,U2\n",
      "Flor De Lis,Djavan,236355,7801108,0.99,Latin,Djavan Ao Vivo - Vol. 1,Djavan\n",
      "Esperando Por Mim,Renato Russo,261668,8844133,0.99,Latin,A TempestadeTempestade Ou O Livro Dos Dias,Legião Urbana\n",
      "Iron Maiden,Steve Harris,351869,14076032,0.99,Rock,Rock In Rio [CD2],Iron Maiden\n",
      "Dead Horse,,257600,4394014,0.99,Rock,Use Your Illusion I,Guns N' Roses\n",
      "Sheer Heart Attack,Taylor,207386,6642685,0.99,Rock,News Of The World,Queen\n",
      "Light My Fire,\"Robby Krieger, Ray Manzarek, John Densmore, Jim Morrison\",428329,13963351,0.99,Rock,The Doors,The Doors\n",
      "Chão de Giz (Elba Ramalho),,274834,9016916,0.99,Latin,Vozes do MPB,Various Artists\n",
      "Waiting On A Sign,The Tea Party,261903,8558590,0.99,Alternative & Punk,Tangents,The Tea Party\n",
      "Wildest Dreams,Adrian Smith/Steve Harris,232777,9312384,0.99,Heavy Metal,Dance Of Death,Iron Maiden\n",
      "Murders In The Rue Morgue,Steve Harris,258377,6205786,0.99,Heavy Metal,Killers,Iron Maiden\n",
      "Pot-Pourri N.º 4,,392437,13125975,0.99,Bossa Nova,Vinícius De Moraes - Sem Limite,Toquinho & Vinícius\n",
      "The Witch,,258768,8725403,0.99,Rock,\"Pure Cult: The Best Of The Cult (For Rockers, Ravers, Lovers & Sinners) [UK]\",The Cult\n",
      "Sobremesa,Chico Science,240091,7960868,0.99,Latin,Afrociberdelia,Chico Science & Nação Zumbi\n",
      "Outbreak,Jim Beard & Jon Herington,659226,21685807,0.99,Jazz,Outbreak,Dennis Chambers\n",
      "Construção / Deus Lhe Pague,,383059,12675305,0.99,Latin,Minha Historia,Chico Buarque\n",
      "My Funny Valentine (Live),Miles Davis,907520,29416781,0.99,Jazz,The Essential Miles Davis [Disc 2],Miles Davis\n",
      "Angel,Carolyn Franklin and Sonny Saunders,240561,7880256,0.99,Rock,Greatest Hits,Lenny Kravitz\n",
      "Heaven Can Wait,Steve Harris,441417,10596431,0.99,Metal,Somewhere in Time,Iron Maiden\n",
      "Company Man,,2601101,503786316,1.99,Drama,\"Heroes, Season 1\",Heroes\n",
      "Perfect,Billy Corgan,203023,6734636,0.99,Alternative & Punk,Rotten Apples: Greatest Hits,Smashing Pumpkins\n",
      "Sleep On The Sidewalk,May,187428,6099840,0.99,Rock,News Of The World,Queen\n",
      "Domingo,Sérgio Britto/Toni Bellotto,208613,6883180,0.99,Alternative & Punk,Volume Dois,Titãs\n",
      "Seu Balancê,Paulinho Rezende/Toninho Geraes,219454,7311219,0.99,Latin,Ao Vivo [IMPORT],Zeca Pagodinho\n",
      "Alive,Stone Gossard,341080,11176623,0.99,Rock,Ten,Pearl Jam\n",
      "Get Up (I Feel Like Being A) Sex Machine,Bobby Byrd/James Brown/Ron Lenhoff,316551,10498031,0.99,R&B/Soul,Sex Machine,James Brown\n",
      "Blood Brothers,Steve Harris,435513,17422464,0.99,Metal,Rock In Rio [CD1],Iron Maiden\n",
      "Runnin' With The Devil,\"Edward Van Halen, Alex Van Halen, David Lee Roth, Michael Anthony\",215902,7061901,0.99,Rock,\"The Best Of Van Halen, Vol. I\",Van Halen\n",
      "Milk It,Kurt Cobain,225724,7406945,0.99,Rock,From The Muddy Banks Of The Wishkah [Live],Nirvana\n",
      "Gone,Eddie Vedder,249547,8158204,0.99,Alternative & Punk,Pearl Jam,Pearl Jam\n",
      "When You Gonna Learn (Digeridoo),\"Jay Kay/Kay, Jay\",230635,7655482,0.99,Rock,Emergency On Planet Earth,Jamiroquai\n",
      "Angela,,169508,5574957,0.99,Jazz,Warner 25 Anos,Antônio Carlos Jobim\n",
      "Locomotive,Slash/W. Axl Rose,522396,17236842,0.99,Metal,Use Your Illusion II,Guns N' Roses\n",
      "The Angel And The Gambler,Steve Harris,592744,23711872,0.99,Rock,Virtual XI,Iron Maiden\n",
      "Bye Bye Blackbird,Miles Davis,476003,15549224,0.99,Jazz,The Essential Miles Davis [Disc 1],Miles Davis\n",
      "Angel Of Harlem,\"Bono/Clayton, Adam/Mullen Jr., Larry/The Edge\",229276,7498022,0.99,Rock,Rattle And Hum,U2\n",
      "Hello Mary Lou,J.C. Fogerty,132832,4476563,0.99,Rock,\"Chronicle, Vol. 2\",Creedence Clearwater Revival\n",
      "Bushleager,Stone Gossard,237479,7849757,0.99,Rock,Riot Act,Pearl Jam\n",
      "The Worst,Jagger/Richards,144613,4750094,0.99,Rock,Voodoo Lounge,The Rolling Stones\n",
      "Saint Of Me,Jagger/Richards,325694,10725160,0.99,Rock,No Security,The Rolling Stones\n",
      "Dirty Water Dog,Van Halen,327392,10709202,0.99,Rock,Van Halen III,Van Halen\n",
      "Times of Trouble,,342539,5795951,0.99,Alternative,Temple of the Dog,Temple of the Dog\n",
      "Jerusalem,Roy Z,402390,13194463,0.99,Metal,Chemical Wedding,Bruce Dickinson\n",
      "Pretty Noose,Chris Cornell,253570,8317931,0.99,Rock,A-Sides,Soundgarden\n",
      "Bê-a-Bá,Rodolfo,249051,8130636,0.99,Alternative & Punk,Cesta Básica,Raimundos\n",
      "Esquinas,,280999,9096726,0.99,Latin,Djavan Ao Vivo - Vol. 02,Djavan\n",
      "Wasting Love,,336953,8091301,0.99,Rock,Live At Donington 1992 (Disc 1),Iron Maiden\n",
      "Hot Dog,Jimmy Page & Robert Plant,197198,6536167,0.99,Rock,In Through The Out Door,Led Zeppelin\n",
      "As Rosas Não Falam (Beth Carvalho),,116767,3836641,0.99,Latin,Vozes do MPB,Various Artists\n"
     ]
    },
    {
     "name": "stdout",
     "output_type": "stream",
     "text": [
      "Boogie Blues,,204199,6603153,0.99,Jazz,Up An' Atom,Gene Krupa\n",
      "Numbers,,2609772,214709143,1.99,TV Shows,\"Lost, Season 1\",Lost\n",
      "Beach Games,,1676134,333671149,1.99,Comedy,\"The Office, Season 3\",The Office\n",
      "Maracatu Atômico,Chico Science,284264,9670057,0.99,Latin,Afrociberdelia,Chico Science & Nação Zumbi\n",
      "Eruption,\"Edward Van Halen, Alex Van Halen, Michael Anthony and David Lee Roth\",102556,3286026,0.99,Rock,Van Halen,Van Halen\n",
      "Tempo Perdido,Renato Russo,302158,9963914,0.99,Latin,Mais Do Mesmo,Legião Urbana\n",
      "You Got No Right,\"Dave Kushner, Duff, Matt Sorum, Scott Weiland & Slash\",335412,10991094,0.99,Rock,Contraband,Velvet Revolver\n",
      "Wasting Love,Bruce Dickinson/Janick Gers,350981,14041216,0.99,Rock,Fear Of The Dark,Iron Maiden\n",
      "Somebody Stole My Guitar,\"Ian Gillan, Roger Glover, Jon Lord, Steve Morse, Ian Paice\",249443,8180421,0.99,Rock,Purpendicular,Deep Purple\n",
      "'Round Midnight,Miles Davis,357459,11590284,0.99,Jazz,The Essential Miles Davis [Disc 1],Miles Davis\n",
      "Aquilo,,246073,8167819,0.99,Latin,Lulu Santos - RCA 100 Anos De Música - Álbum 02,Lulu Santos\n",
      "Flash,\"May, Brian\",168489,5464986,0.99,Rock,Greatest Hits I,Queen\n",
      "Smooth,M. Itaal Shur & Rob Thomas,298161,9867455,0.99,Rock,Supernatural,Santana\n",
      "Childhoods End?,\"Kelly, Mosley, Rothery, Trewaves\",272796,9015366,0.99,Rock,Misplaced Childhood,Marillion\n",
      "Dream Of Mirrors,Janick Gers/Steve Harris,561162,22448256,0.99,Rock,Brave New World,Iron Maiden\n",
      "Royal Orleans,John Bonham/John Paul Jones,179591,5930027,0.99,Rock,Presence,Led Zeppelin\n",
      "The Wicker Man,Adrian Smith/Bruce Dickinson/Steve Harris,281782,11272320,0.99,Metal,Rock In Rio [CD1],Iron Maiden\n",
      "It's Too Funky In Here,Brad Shapiro/George Jackson/Robert Miller/Walter Shaw,239072,7973979,0.99,R&B/Soul,Sex Machine,James Brown\n",
      "Night Flight,John Paul Jones/Robert Plant,217547,7160647,0.99,Rock,Physical Graffiti [Disc 2],Led Zeppelin\n",
      "Won't Get Fooled Again (Full Length Version),John Entwistle/Pete Townshend,513750,16855521,0.99,Rock,My Generation - The Very Best Of The Who,The Who\n",
      "She Loves Me Not,Bill Gould/Mike Bordin/Mike Patton,209867,6887544,0.99,Alternative & Punk,Album Of The Year,Faith No More\n",
      "Beth,\"Peter Criss, Stan Penridge, Bob Ezrin\",170187,5577807,0.99,Rock,Unplugged [Live],Kiss\n",
      "Exploder,Audioslave/Chris Cornell,206053,4948095,0.99,Rock,Audioslave,Audioslave\n",
      "Os Cegos Do Castelo,Titãs,296829,9868187,0.99,Alternative & Punk,Acústico,Titãs\n",
      "The Star Spangled Banner,\"Hendrix, Jimi\",43232,1385810,0.99,Rock,Rattle And Hum,U2\n"
     ]
    }
   ],
   "source": [
    "!pygmentize -l text data/itunes_data.csv"
   ]
  },
  {
   "cell_type": "code",
   "execution_count": 2,
   "metadata": {},
   "outputs": [],
   "source": [
    "import pandas as pd"
   ]
  },
  {
   "cell_type": "code",
   "execution_count": 3,
   "metadata": {},
   "outputs": [
    {
     "data": {
      "text/html": [
       "<div>\n",
       "<style scoped>\n",
       "    .dataframe tbody tr th:only-of-type {\n",
       "        vertical-align: middle;\n",
       "    }\n",
       "\n",
       "    .dataframe tbody tr th {\n",
       "        vertical-align: top;\n",
       "    }\n",
       "\n",
       "    .dataframe thead th {\n",
       "        text-align: right;\n",
       "    }\n",
       "</style>\n",
       "<table border=\"1\" class=\"dataframe\">\n",
       "  <thead>\n",
       "    <tr style=\"text-align: right;\">\n",
       "      <th></th>\n",
       "      <th>Track</th>\n",
       "      <th>Composer</th>\n",
       "      <th>Milliseconds</th>\n",
       "      <th>Bytes</th>\n",
       "      <th>UnitPrice</th>\n",
       "      <th>Genre</th>\n",
       "      <th>Album</th>\n",
       "      <th>Artist</th>\n",
       "    </tr>\n",
       "  </thead>\n",
       "  <tbody>\n",
       "    <tr>\n",
       "      <th>0</th>\n",
       "      <td>All the Best Cowboys Have Daddy Issues</td>\n",
       "      <td>NaN</td>\n",
       "      <td>2555492</td>\n",
       "      <td>211743651</td>\n",
       "      <td>1.99</td>\n",
       "      <td>TV Shows</td>\n",
       "      <td>Lost, Season 1</td>\n",
       "      <td>Lost</td>\n",
       "    </tr>\n",
       "    <tr>\n",
       "      <th>1</th>\n",
       "      <td>Beira Mar</td>\n",
       "      <td>Gilberto Gil</td>\n",
       "      <td>295444</td>\n",
       "      <td>9597994</td>\n",
       "      <td>0.99</td>\n",
       "      <td>Latin</td>\n",
       "      <td>Unplugged</td>\n",
       "      <td>Eric Clapton</td>\n",
       "    </tr>\n",
       "    <tr>\n",
       "      <th>2</th>\n",
       "      <td>Brasil</td>\n",
       "      <td>Milton Nascimento, Fernando Brant</td>\n",
       "      <td>155428</td>\n",
       "      <td>5252560</td>\n",
       "      <td>0.99</td>\n",
       "      <td>Latin</td>\n",
       "      <td>Milton Nascimento Ao Vivo</td>\n",
       "      <td>Milton Nascimento</td>\n",
       "    </tr>\n",
       "    <tr>\n",
       "      <th>3</th>\n",
       "      <td>Ben Franklin</td>\n",
       "      <td>NaN</td>\n",
       "      <td>1271938</td>\n",
       "      <td>264168080</td>\n",
       "      <td>1.99</td>\n",
       "      <td>Comedy</td>\n",
       "      <td>The Office, Season 3</td>\n",
       "      <td>The Office</td>\n",
       "    </tr>\n",
       "    <tr>\n",
       "      <th>4</th>\n",
       "      <td>O Último Romântico (Ao Vivo)</td>\n",
       "      <td>NaN</td>\n",
       "      <td>231993</td>\n",
       "      <td>7692697</td>\n",
       "      <td>0.99</td>\n",
       "      <td>Latin</td>\n",
       "      <td>Lulu Santos - RCA 100 Anos De Música - Álbum 02</td>\n",
       "      <td>Lulu Santos</td>\n",
       "    </tr>\n",
       "  </tbody>\n",
       "</table>\n",
       "</div>"
      ],
      "text/plain": [
       "                                    Track                           Composer  \\\n",
       "0  All the Best Cowboys Have Daddy Issues                                NaN   \n",
       "1                               Beira Mar                       Gilberto Gil   \n",
       "2                                  Brasil  Milton Nascimento, Fernando Brant   \n",
       "3                            Ben Franklin                                NaN   \n",
       "4            O Último Romântico (Ao Vivo)                                NaN   \n",
       "\n",
       "   Milliseconds      Bytes  UnitPrice     Genre  \\\n",
       "0       2555492  211743651       1.99  TV Shows   \n",
       "1        295444    9597994       0.99     Latin   \n",
       "2        155428    5252560       0.99     Latin   \n",
       "3       1271938  264168080       1.99    Comedy   \n",
       "4        231993    7692697       0.99     Latin   \n",
       "\n",
       "                                             Album             Artist  \n",
       "0                                   Lost, Season 1               Lost  \n",
       "1                                        Unplugged       Eric Clapton  \n",
       "2                        Milton Nascimento Ao Vivo  Milton Nascimento  \n",
       "3                             The Office, Season 3         The Office  \n",
       "4  Lulu Santos - RCA 100 Anos De Música - Álbum 02        Lulu Santos  "
      ]
     },
     "execution_count": 3,
     "metadata": {},
     "output_type": "execute_result"
    }
   ],
   "source": [
    "csv_df = pd.read_csv('data/itunes_data.csv')\n",
    "csv_df.head()"
   ]
  },
  {
   "cell_type": "code",
   "execution_count": 4,
   "metadata": {},
   "outputs": [
    {
     "data": {
      "text/html": [
       "<div>\n",
       "<style scoped>\n",
       "    .dataframe tbody tr th:only-of-type {\n",
       "        vertical-align: middle;\n",
       "    }\n",
       "\n",
       "    .dataframe tbody tr th {\n",
       "        vertical-align: top;\n",
       "    }\n",
       "\n",
       "    .dataframe thead th {\n",
       "        text-align: right;\n",
       "    }\n",
       "</style>\n",
       "<table border=\"1\" class=\"dataframe\">\n",
       "  <thead>\n",
       "    <tr style=\"text-align: right;\">\n",
       "      <th></th>\n",
       "      <th>Track</th>\n",
       "      <th>Composer</th>\n",
       "      <th>Milliseconds</th>\n",
       "      <th>Bytes</th>\n",
       "      <th>UnitPrice</th>\n",
       "      <th>Genre</th>\n",
       "      <th>Album</th>\n",
       "      <th>Artist</th>\n",
       "    </tr>\n",
       "  </thead>\n",
       "  <tbody>\n",
       "    <tr>\n",
       "      <th>0</th>\n",
       "      <td>My Time After Awhile</td>\n",
       "      <td>Robert Geddins/Ron Badger/Sheldon Feinberg</td>\n",
       "      <td>182491</td>\n",
       "      <td>6022698</td>\n",
       "      <td>0.99</td>\n",
       "      <td>Blues</td>\n",
       "      <td>The Best Of Buddy Guy - The Millenium Collection</td>\n",
       "      <td>Buddy Guy</td>\n",
       "    </tr>\n",
       "    <tr>\n",
       "      <th>1</th>\n",
       "      <td>Be Quick Or Be Dead</td>\n",
       "      <td>Bruce Dickinson/Janick Gers</td>\n",
       "      <td>204512</td>\n",
       "      <td>8181888</td>\n",
       "      <td>0.99</td>\n",
       "      <td>Rock</td>\n",
       "      <td>Fear Of The Dark</td>\n",
       "      <td>Iron Maiden</td>\n",
       "    </tr>\n",
       "    <tr>\n",
       "      <th>2</th>\n",
       "      <td>Água E Fogo</td>\n",
       "      <td>Chico Amaral/Edgard Scandurra/Samuel Rosa</td>\n",
       "      <td>278987</td>\n",
       "      <td>9272272</td>\n",
       "      <td>0.99</td>\n",
       "      <td>Rock</td>\n",
       "      <td>Maquinarama</td>\n",
       "      <td>Skank</td>\n",
       "    </tr>\n",
       "    <tr>\n",
       "      <th>3</th>\n",
       "      <td>Ozone Baby</td>\n",
       "      <td>Jimmy Page, Robert Plant</td>\n",
       "      <td>215954</td>\n",
       "      <td>7079588</td>\n",
       "      <td>0.99</td>\n",
       "      <td>Rock</td>\n",
       "      <td>Coda</td>\n",
       "      <td>Led Zeppelin</td>\n",
       "    </tr>\n",
       "    <tr>\n",
       "      <th>4</th>\n",
       "      <td>Bop Boogie</td>\n",
       "      <td>NaN</td>\n",
       "      <td>189596</td>\n",
       "      <td>6093124</td>\n",
       "      <td>0.99</td>\n",
       "      <td>Jazz</td>\n",
       "      <td>Up An' Atom</td>\n",
       "      <td>Gene Krupa</td>\n",
       "    </tr>\n",
       "  </tbody>\n",
       "</table>\n",
       "</div>"
      ],
      "text/plain": [
       "                  Track                                    Composer  \\\n",
       "0  My Time After Awhile  Robert Geddins/Ron Badger/Sheldon Feinberg   \n",
       "1   Be Quick Or Be Dead                 Bruce Dickinson/Janick Gers   \n",
       "2           Água E Fogo   Chico Amaral/Edgard Scandurra/Samuel Rosa   \n",
       "3            Ozone Baby                    Jimmy Page, Robert Plant   \n",
       "4            Bop Boogie                                         NaN   \n",
       "\n",
       "   Milliseconds    Bytes  UnitPrice  Genre  \\\n",
       "0        182491  6022698       0.99  Blues   \n",
       "1        204512  8181888       0.99   Rock   \n",
       "2        278987  9272272       0.99   Rock   \n",
       "3        215954  7079588       0.99   Rock   \n",
       "4        189596  6093124       0.99   Jazz   \n",
       "\n",
       "                                              Album        Artist  \n",
       "0  The Best Of Buddy Guy - The Millenium Collection     Buddy Guy  \n",
       "1                                  Fear Of The Dark   Iron Maiden  \n",
       "2                                       Maquinarama         Skank  \n",
       "3                                              Coda  Led Zeppelin  \n",
       "4                                       Up An' Atom    Gene Krupa  "
      ]
     },
     "execution_count": 4,
     "metadata": {},
     "output_type": "execute_result"
    }
   ],
   "source": [
    "excel_df = pd.read_excel('data/itunes_data.xlsx', engine='openpyxl')\n",
    "excel_df.head()"
   ]
  },
  {
   "cell_type": "code",
   "execution_count": 5,
   "metadata": {},
   "outputs": [],
   "source": [
    "from sqlalchemy import create_engine\n",
    "engine = create_engine('sqlite:///data/chinook.db')"
   ]
  },
  {
   "cell_type": "code",
   "execution_count": 6,
   "metadata": {},
   "outputs": [],
   "source": [
    "query = \"\"\"SELECT tracks.name as Track, tracks.composer, tracks.milliseconds,\n",
    "tracks.bytes, tracks.unitprice,\n",
    "genres.name as Genre,\n",
    "albums.title as Album,\n",
    "artists.name as Artist\n",
    "FROM tracks\n",
    "JOIN genres ON tracks.genreid = genres.genreid\n",
    "JOIN albums ON tracks.albumid = albums.albumid\n",
    "JOIN artists ON albums.artistid = artists.artistid;\n",
    "\"\"\""
   ]
  },
  {
   "cell_type": "code",
   "execution_count": 7,
   "metadata": {},
   "outputs": [],
   "source": [
    "with engine.connect() as connection:\n",
    "    sql_df = pd.read_sql_query(query, connection)"
   ]
  },
  {
   "cell_type": "code",
   "execution_count": 8,
   "metadata": {},
   "outputs": [
    {
     "data": {
      "text/html": [
       "<div>\n",
       "<style scoped>\n",
       "    .dataframe tbody tr th:only-of-type {\n",
       "        vertical-align: middle;\n",
       "    }\n",
       "\n",
       "    .dataframe tbody tr th {\n",
       "        vertical-align: top;\n",
       "    }\n",
       "\n",
       "    .dataframe thead th {\n",
       "        text-align: right;\n",
       "    }\n",
       "</style>\n",
       "<table border=\"1\" class=\"dataframe\">\n",
       "  <thead>\n",
       "    <tr style=\"text-align: right;\">\n",
       "      <th></th>\n",
       "      <th>0</th>\n",
       "      <th>1</th>\n",
       "    </tr>\n",
       "  </thead>\n",
       "  <tbody>\n",
       "    <tr>\n",
       "      <th>Track</th>\n",
       "      <td>For Those About To Rock (We Salute You)</td>\n",
       "      <td>Put The Finger On You</td>\n",
       "    </tr>\n",
       "    <tr>\n",
       "      <th>Composer</th>\n",
       "      <td>Angus Young, Malcolm Young, Brian Johnson</td>\n",
       "      <td>Angus Young, Malcolm Young, Brian Johnson</td>\n",
       "    </tr>\n",
       "    <tr>\n",
       "      <th>Milliseconds</th>\n",
       "      <td>343719</td>\n",
       "      <td>205662</td>\n",
       "    </tr>\n",
       "    <tr>\n",
       "      <th>Bytes</th>\n",
       "      <td>11170334</td>\n",
       "      <td>6713451</td>\n",
       "    </tr>\n",
       "    <tr>\n",
       "      <th>UnitPrice</th>\n",
       "      <td>0.99</td>\n",
       "      <td>0.99</td>\n",
       "    </tr>\n",
       "    <tr>\n",
       "      <th>Genre</th>\n",
       "      <td>Rock</td>\n",
       "      <td>Rock</td>\n",
       "    </tr>\n",
       "    <tr>\n",
       "      <th>Album</th>\n",
       "      <td>For Those About To Rock We Salute You</td>\n",
       "      <td>For Those About To Rock We Salute You</td>\n",
       "    </tr>\n",
       "    <tr>\n",
       "      <th>Artist</th>\n",
       "      <td>AC/DC</td>\n",
       "      <td>AC/DC</td>\n",
       "    </tr>\n",
       "  </tbody>\n",
       "</table>\n",
       "</div>"
      ],
      "text/plain": [
       "                                                      0  \\\n",
       "Track           For Those About To Rock (We Salute You)   \n",
       "Composer      Angus Young, Malcolm Young, Brian Johnson   \n",
       "Milliseconds                                     343719   \n",
       "Bytes                                          11170334   \n",
       "UnitPrice                                          0.99   \n",
       "Genre                                              Rock   \n",
       "Album             For Those About To Rock We Salute You   \n",
       "Artist                                            AC/DC   \n",
       "\n",
       "                                                      1  \n",
       "Track                             Put The Finger On You  \n",
       "Composer      Angus Young, Malcolm Young, Brian Johnson  \n",
       "Milliseconds                                     205662  \n",
       "Bytes                                           6713451  \n",
       "UnitPrice                                          0.99  \n",
       "Genre                                              Rock  \n",
       "Album             For Those About To Rock We Salute You  \n",
       "Artist                                            AC/DC  "
      ]
     },
     "execution_count": 8,
     "metadata": {},
     "output_type": "execute_result"
    }
   ],
   "source": [
    "sql_df.head(2).T"
   ]
  },
  {
   "cell_type": "code",
   "execution_count": 9,
   "metadata": {},
   "outputs": [
    {
     "data": {
      "text/html": [
       "<div>\n",
       "<style scoped>\n",
       "    .dataframe tbody tr th:only-of-type {\n",
       "        vertical-align: middle;\n",
       "    }\n",
       "\n",
       "    .dataframe tbody tr th {\n",
       "        vertical-align: top;\n",
       "    }\n",
       "\n",
       "    .dataframe thead th {\n",
       "        text-align: right;\n",
       "    }\n",
       "</style>\n",
       "<table border=\"1\" class=\"dataframe\">\n",
       "  <thead>\n",
       "    <tr style=\"text-align: right;\">\n",
       "      <th></th>\n",
       "      <th>seconds</th>\n",
       "      <th>intensity</th>\n",
       "    </tr>\n",
       "  </thead>\n",
       "  <tbody>\n",
       "    <tr>\n",
       "      <th>0</th>\n",
       "      <td>1</td>\n",
       "      <td>12</td>\n",
       "    </tr>\n",
       "    <tr>\n",
       "      <th>1</th>\n",
       "      <td>2</td>\n",
       "      <td>11</td>\n",
       "    </tr>\n",
       "    <tr>\n",
       "      <th>2</th>\n",
       "      <td>3</td>\n",
       "      <td>12</td>\n",
       "    </tr>\n",
       "    <tr>\n",
       "      <th>3</th>\n",
       "      <td>4</td>\n",
       "      <td>14</td>\n",
       "    </tr>\n",
       "  </tbody>\n",
       "</table>\n",
       "</div>"
      ],
      "text/plain": [
       "   seconds  intensity\n",
       "0        1         12\n",
       "1        2         11\n",
       "2        3         12\n",
       "3        4         14"
      ]
     },
     "execution_count": 9,
     "metadata": {},
     "output_type": "execute_result"
    }
   ],
   "source": [
    "# create dataframe from lists\n",
    "df = pd.DataFrame(data={'seconds': [1, 2, 3, 4], 'intensity': [12, 11, 12, 14]})\n",
    "df.head()"
   ]
  },
  {
   "cell_type": "markdown",
   "metadata": {},
   "source": [
    "## Understanding the DataFrame Structure and Combining/Concatenating Multiple DataFrames"
   ]
  },
  {
   "cell_type": "code",
   "execution_count": 10,
   "metadata": {},
   "outputs": [
    {
     "data": {
      "text/plain": [
       "RangeIndex(start=0, stop=3503, step=1)"
      ]
     },
     "execution_count": 10,
     "metadata": {},
     "output_type": "execute_result"
    }
   ],
   "source": [
    "sql_df.index"
   ]
  },
  {
   "cell_type": "code",
   "execution_count": 11,
   "metadata": {},
   "outputs": [
    {
     "data": {
      "text/plain": [
       "Index(['Track', 'Composer', 'Milliseconds', 'Bytes', 'UnitPrice', 'Genre',\n",
       "       'Album', 'Artist'],\n",
       "      dtype='object')"
      ]
     },
     "execution_count": 11,
     "metadata": {},
     "output_type": "execute_result"
    }
   ],
   "source": [
    "sql_df.columns"
   ]
  },
  {
   "cell_type": "code",
   "execution_count": 12,
   "metadata": {},
   "outputs": [
    {
     "data": {
      "text/plain": [
       "pandas.core.frame.DataFrame"
      ]
     },
     "execution_count": 12,
     "metadata": {},
     "output_type": "execute_result"
    }
   ],
   "source": [
    "type(sql_df)"
   ]
  },
  {
   "cell_type": "code",
   "execution_count": 13,
   "metadata": {},
   "outputs": [
    {
     "data": {
      "text/html": [
       "<div>\n",
       "<style scoped>\n",
       "    .dataframe tbody tr th:only-of-type {\n",
       "        vertical-align: middle;\n",
       "    }\n",
       "\n",
       "    .dataframe tbody tr th {\n",
       "        vertical-align: top;\n",
       "    }\n",
       "\n",
       "    .dataframe thead th {\n",
       "        text-align: right;\n",
       "    }\n",
       "</style>\n",
       "<table border=\"1\" class=\"dataframe\">\n",
       "  <thead>\n",
       "    <tr style=\"text-align: right;\">\n",
       "      <th></th>\n",
       "      <th>Track</th>\n",
       "      <th>Composer</th>\n",
       "      <th>Milliseconds</th>\n",
       "      <th>Bytes</th>\n",
       "      <th>UnitPrice</th>\n",
       "      <th>Genre</th>\n",
       "      <th>Album</th>\n",
       "      <th>Artist</th>\n",
       "    </tr>\n",
       "  </thead>\n",
       "  <tbody>\n",
       "    <tr>\n",
       "      <th>0</th>\n",
       "      <td>All the Best Cowboys Have Daddy Issues</td>\n",
       "      <td>NaN</td>\n",
       "      <td>2555492</td>\n",
       "      <td>211743651</td>\n",
       "      <td>1.99</td>\n",
       "      <td>TV Shows</td>\n",
       "      <td>Lost, Season 1</td>\n",
       "      <td>Lost</td>\n",
       "    </tr>\n",
       "    <tr>\n",
       "      <th>1</th>\n",
       "      <td>Beira Mar</td>\n",
       "      <td>Gilberto Gil</td>\n",
       "      <td>295444</td>\n",
       "      <td>9597994</td>\n",
       "      <td>0.99</td>\n",
       "      <td>Latin</td>\n",
       "      <td>Unplugged</td>\n",
       "      <td>Eric Clapton</td>\n",
       "    </tr>\n",
       "    <tr>\n",
       "      <th>2</th>\n",
       "      <td>Brasil</td>\n",
       "      <td>Milton Nascimento, Fernando Brant</td>\n",
       "      <td>155428</td>\n",
       "      <td>5252560</td>\n",
       "      <td>0.99</td>\n",
       "      <td>Latin</td>\n",
       "      <td>Milton Nascimento Ao Vivo</td>\n",
       "      <td>Milton Nascimento</td>\n",
       "    </tr>\n",
       "    <tr>\n",
       "      <th>3</th>\n",
       "      <td>Ben Franklin</td>\n",
       "      <td>NaN</td>\n",
       "      <td>1271938</td>\n",
       "      <td>264168080</td>\n",
       "      <td>1.99</td>\n",
       "      <td>Comedy</td>\n",
       "      <td>The Office, Season 3</td>\n",
       "      <td>The Office</td>\n",
       "    </tr>\n",
       "    <tr>\n",
       "      <th>4</th>\n",
       "      <td>O Último Romântico (Ao Vivo)</td>\n",
       "      <td>NaN</td>\n",
       "      <td>231993</td>\n",
       "      <td>7692697</td>\n",
       "      <td>0.99</td>\n",
       "      <td>Latin</td>\n",
       "      <td>Lulu Santos - RCA 100 Anos De Música - Álbum 02</td>\n",
       "      <td>Lulu Santos</td>\n",
       "    </tr>\n",
       "  </tbody>\n",
       "</table>\n",
       "</div>"
      ],
      "text/plain": [
       "                                    Track                           Composer  \\\n",
       "0  All the Best Cowboys Have Daddy Issues                                NaN   \n",
       "1                               Beira Mar                       Gilberto Gil   \n",
       "2                                  Brasil  Milton Nascimento, Fernando Brant   \n",
       "3                            Ben Franklin                                NaN   \n",
       "4            O Último Romântico (Ao Vivo)                                NaN   \n",
       "\n",
       "   Milliseconds      Bytes  UnitPrice     Genre  \\\n",
       "0       2555492  211743651       1.99  TV Shows   \n",
       "1        295444    9597994       0.99     Latin   \n",
       "2        155428    5252560       0.99     Latin   \n",
       "3       1271938  264168080       1.99    Comedy   \n",
       "4        231993    7692697       0.99     Latin   \n",
       "\n",
       "                                             Album             Artist  \n",
       "0                                   Lost, Season 1               Lost  \n",
       "1                                        Unplugged       Eric Clapton  \n",
       "2                        Milton Nascimento Ao Vivo  Milton Nascimento  \n",
       "3                             The Office, Season 3         The Office  \n",
       "4  Lulu Santos - RCA 100 Anos De Música - Álbum 02        Lulu Santos  "
      ]
     },
     "execution_count": 13,
     "metadata": {},
     "output_type": "execute_result"
    }
   ],
   "source": [
    "itunes_df = pd.concat([csv_df, excel_df, sql_df], axis=0)\n",
    "itunes_df.head()"
   ]
  },
  {
   "cell_type": "markdown",
   "metadata": {},
   "source": [
    "## Exploratory Data Analysis (EDA) and Basic Data Cleaning with pandas"
   ]
  },
  {
   "cell_type": "code",
   "execution_count": 14,
   "metadata": {},
   "outputs": [
    {
     "data": {
      "text/html": [
       "<div>\n",
       "<style scoped>\n",
       "    .dataframe tbody tr th:only-of-type {\n",
       "        vertical-align: middle;\n",
       "    }\n",
       "\n",
       "    .dataframe tbody tr th {\n",
       "        vertical-align: top;\n",
       "    }\n",
       "\n",
       "    .dataframe thead th {\n",
       "        text-align: right;\n",
       "    }\n",
       "</style>\n",
       "<table border=\"1\" class=\"dataframe\">\n",
       "  <thead>\n",
       "    <tr style=\"text-align: right;\">\n",
       "      <th></th>\n",
       "      <th>Track</th>\n",
       "      <th>Composer</th>\n",
       "      <th>Milliseconds</th>\n",
       "      <th>Bytes</th>\n",
       "      <th>UnitPrice</th>\n",
       "      <th>Genre</th>\n",
       "      <th>Album</th>\n",
       "      <th>Artist</th>\n",
       "    </tr>\n",
       "  </thead>\n",
       "  <tbody>\n",
       "    <tr>\n",
       "      <th>3498</th>\n",
       "      <td>Pini Di Roma (Pinien Von Rom) \\ I Pini Della V...</td>\n",
       "      <td>None</td>\n",
       "      <td>286741</td>\n",
       "      <td>4718950</td>\n",
       "      <td>0.99</td>\n",
       "      <td>Classical</td>\n",
       "      <td>Respighi:Pines of Rome</td>\n",
       "      <td>Eugene Ormandy</td>\n",
       "    </tr>\n",
       "    <tr>\n",
       "      <th>3499</th>\n",
       "      <td>String Quartet No. 12 in C Minor, D. 703 \"Quar...</td>\n",
       "      <td>Franz Schubert</td>\n",
       "      <td>139200</td>\n",
       "      <td>2283131</td>\n",
       "      <td>0.99</td>\n",
       "      <td>Classical</td>\n",
       "      <td>Schubert: The Late String Quartets &amp; String Qu...</td>\n",
       "      <td>Emerson String Quartet</td>\n",
       "    </tr>\n",
       "    <tr>\n",
       "      <th>3500</th>\n",
       "      <td>L'orfeo, Act 3, Sinfonia (Orchestra)</td>\n",
       "      <td>Claudio Monteverdi</td>\n",
       "      <td>66639</td>\n",
       "      <td>1189062</td>\n",
       "      <td>0.99</td>\n",
       "      <td>Classical</td>\n",
       "      <td>Monteverdi: L'Orfeo</td>\n",
       "      <td>C. Monteverdi, Nigel Rogers - Chiaroscuro; Lon...</td>\n",
       "    </tr>\n",
       "    <tr>\n",
       "      <th>3501</th>\n",
       "      <td>Quintet for Horn, Violin, 2 Violas, and Cello ...</td>\n",
       "      <td>Wolfgang Amadeus Mozart</td>\n",
       "      <td>221331</td>\n",
       "      <td>3665114</td>\n",
       "      <td>0.99</td>\n",
       "      <td>Classical</td>\n",
       "      <td>Mozart: Chamber Music</td>\n",
       "      <td>Nash Ensemble</td>\n",
       "    </tr>\n",
       "    <tr>\n",
       "      <th>3502</th>\n",
       "      <td>Koyaanisqatsi</td>\n",
       "      <td>Philip Glass</td>\n",
       "      <td>206005</td>\n",
       "      <td>3305164</td>\n",
       "      <td>0.99</td>\n",
       "      <td>Soundtrack</td>\n",
       "      <td>Koyaanisqatsi (Soundtrack from the Motion Pict...</td>\n",
       "      <td>Philip Glass Ensemble</td>\n",
       "    </tr>\n",
       "  </tbody>\n",
       "</table>\n",
       "</div>"
      ],
      "text/plain": [
       "                                                  Track  \\\n",
       "3498  Pini Di Roma (Pinien Von Rom) \\ I Pini Della V...   \n",
       "3499  String Quartet No. 12 in C Minor, D. 703 \"Quar...   \n",
       "3500               L'orfeo, Act 3, Sinfonia (Orchestra)   \n",
       "3501  Quintet for Horn, Violin, 2 Violas, and Cello ...   \n",
       "3502                                      Koyaanisqatsi   \n",
       "\n",
       "                     Composer  Milliseconds    Bytes  UnitPrice       Genre  \\\n",
       "3498                     None        286741  4718950       0.99   Classical   \n",
       "3499           Franz Schubert        139200  2283131       0.99   Classical   \n",
       "3500       Claudio Monteverdi         66639  1189062       0.99   Classical   \n",
       "3501  Wolfgang Amadeus Mozart        221331  3665114       0.99   Classical   \n",
       "3502             Philip Glass        206005  3305164       0.99  Soundtrack   \n",
       "\n",
       "                                                  Album  \\\n",
       "3498                             Respighi:Pines of Rome   \n",
       "3499  Schubert: The Late String Quartets & String Qu...   \n",
       "3500                                Monteverdi: L'Orfeo   \n",
       "3501                              Mozart: Chamber Music   \n",
       "3502  Koyaanisqatsi (Soundtrack from the Motion Pict...   \n",
       "\n",
       "                                                 Artist  \n",
       "3498                                     Eugene Ormandy  \n",
       "3499                             Emerson String Quartet  \n",
       "3500  C. Monteverdi, Nigel Rogers - Chiaroscuro; Lon...  \n",
       "3501                                      Nash Ensemble  \n",
       "3502                              Philip Glass Ensemble  "
      ]
     },
     "execution_count": 14,
     "metadata": {},
     "output_type": "execute_result"
    }
   ],
   "source": [
    "itunes_df.tail()"
   ]
  },
  {
   "cell_type": "code",
   "execution_count": 15,
   "metadata": {},
   "outputs": [
    {
     "name": "stdout",
     "output_type": "stream",
     "text": [
      "Track           All the Best Cowboys Have Daddy Issues\n",
      "Composer                                           NaN\n",
      "Milliseconds                                   2555492\n",
      "Bytes                                        211743651\n",
      "UnitPrice                                         1.99\n",
      "Genre                                         TV Shows\n",
      "Album                                   Lost, Season 1\n",
      "Artist                                            Lost\n",
      "Name: 0, dtype: object\n",
      "Track                                               Koyaanisqatsi\n",
      "Composer                                             Philip Glass\n",
      "Milliseconds                                               206005\n",
      "Bytes                                                     3305164\n",
      "UnitPrice                                                    0.99\n",
      "Genre                                                  Soundtrack\n",
      "Album           Koyaanisqatsi (Soundtrack from the Motion Pict...\n",
      "Artist                                      Philip Glass Ensemble\n",
      "Name: 3502, dtype: object\n"
     ]
    }
   ],
   "source": [
    "print(itunes_df.iloc[0])\n",
    "print(itunes_df.iloc[-1])"
   ]
  },
  {
   "cell_type": "code",
   "execution_count": 16,
   "metadata": {},
   "outputs": [
    {
     "data": {
      "text/plain": [
       "'All the Best Cowboys Have Daddy Issues'"
      ]
     },
     "execution_count": 16,
     "metadata": {},
     "output_type": "execute_result"
    }
   ],
   "source": [
    "itunes_df.iloc[0, 0]"
   ]
  },
  {
   "cell_type": "code",
   "execution_count": 17,
   "metadata": {},
   "outputs": [
    {
     "data": {
      "text/plain": [
       "'Philip Glass Ensemble'"
      ]
     },
     "execution_count": 17,
     "metadata": {},
     "output_type": "execute_result"
    }
   ],
   "source": [
    "itunes_df.iloc[-1, -1]"
   ]
  },
  {
   "cell_type": "code",
   "execution_count": 18,
   "metadata": {},
   "outputs": [
    {
     "data": {
      "text/plain": [
       "Track                                               Koyaanisqatsi\n",
       "Composer                                             Philip Glass\n",
       "Milliseconds                                               206005\n",
       "Bytes                                                     3305164\n",
       "UnitPrice                                                    0.99\n",
       "Genre                                                  Soundtrack\n",
       "Album           Koyaanisqatsi (Soundtrack from the Motion Pict...\n",
       "Artist                                      Philip Glass Ensemble\n",
       "Name: 3502, dtype: object"
      ]
     },
     "execution_count": 18,
     "metadata": {},
     "output_type": "execute_result"
    }
   ],
   "source": [
    "itunes_df.loc[3502]"
   ]
  },
  {
   "cell_type": "code",
   "execution_count": 19,
   "metadata": {},
   "outputs": [
    {
     "data": {
      "text/html": [
       "<div>\n",
       "<style scoped>\n",
       "    .dataframe tbody tr th:only-of-type {\n",
       "        vertical-align: middle;\n",
       "    }\n",
       "\n",
       "    .dataframe tbody tr th {\n",
       "        vertical-align: top;\n",
       "    }\n",
       "\n",
       "    .dataframe thead th {\n",
       "        text-align: right;\n",
       "    }\n",
       "</style>\n",
       "<table border=\"1\" class=\"dataframe\">\n",
       "  <thead>\n",
       "    <tr style=\"text-align: right;\">\n",
       "      <th></th>\n",
       "      <th>Track</th>\n",
       "      <th>Composer</th>\n",
       "      <th>Milliseconds</th>\n",
       "      <th>Bytes</th>\n",
       "      <th>UnitPrice</th>\n",
       "      <th>Genre</th>\n",
       "      <th>Album</th>\n",
       "      <th>Artist</th>\n",
       "    </tr>\n",
       "  </thead>\n",
       "  <tbody>\n",
       "    <tr>\n",
       "      <th>3502</th>\n",
       "      <td>Koyaanisqatsi</td>\n",
       "      <td>Philip Glass</td>\n",
       "      <td>206005</td>\n",
       "      <td>3305164</td>\n",
       "      <td>0.99</td>\n",
       "      <td>Soundtrack</td>\n",
       "      <td>Koyaanisqatsi (Soundtrack from the Motion Pict...</td>\n",
       "      <td>Philip Glass Ensemble</td>\n",
       "    </tr>\n",
       "    <tr>\n",
       "      <th>3502</th>\n",
       "      <td>Koyaanisqatsi</td>\n",
       "      <td>Philip Glass</td>\n",
       "      <td>206005</td>\n",
       "      <td>3305164</td>\n",
       "      <td>0.99</td>\n",
       "      <td>Soundtrack</td>\n",
       "      <td>Koyaanisqatsi (Soundtrack from the Motion Pict...</td>\n",
       "      <td>Philip Glass Ensemble</td>\n",
       "    </tr>\n",
       "  </tbody>\n",
       "</table>\n",
       "</div>"
      ],
      "text/plain": [
       "              Track      Composer  Milliseconds    Bytes  UnitPrice  \\\n",
       "3502  Koyaanisqatsi  Philip Glass        206005  3305164       0.99   \n",
       "3502  Koyaanisqatsi  Philip Glass        206005  3305164       0.99   \n",
       "\n",
       "           Genre                                              Album  \\\n",
       "3502  Soundtrack  Koyaanisqatsi (Soundtrack from the Motion Pict...   \n",
       "3502  Soundtrack  Koyaanisqatsi (Soundtrack from the Motion Pict...   \n",
       "\n",
       "                     Artist  \n",
       "3502  Philip Glass Ensemble  \n",
       "3502  Philip Glass Ensemble  "
      ]
     },
     "execution_count": 19,
     "metadata": {},
     "output_type": "execute_result"
    }
   ],
   "source": [
    "test_df = itunes_df.copy()\n",
    "test_df = test_df.append(itunes_df.loc[3502])\n",
    "test_df.loc[3502]"
   ]
  },
  {
   "cell_type": "code",
   "execution_count": 20,
   "metadata": {},
   "outputs": [
    {
     "data": {
      "text/html": [
       "<div>\n",
       "<style scoped>\n",
       "    .dataframe tbody tr th:only-of-type {\n",
       "        vertical-align: middle;\n",
       "    }\n",
       "\n",
       "    .dataframe tbody tr th {\n",
       "        vertical-align: top;\n",
       "    }\n",
       "\n",
       "    .dataframe thead th {\n",
       "        text-align: right;\n",
       "    }\n",
       "</style>\n",
       "<table border=\"1\" class=\"dataframe\">\n",
       "  <thead>\n",
       "    <tr style=\"text-align: right;\">\n",
       "      <th></th>\n",
       "      <th>Track</th>\n",
       "      <th>Composer</th>\n",
       "      <th>Milliseconds</th>\n",
       "      <th>Bytes</th>\n",
       "      <th>UnitPrice</th>\n",
       "      <th>Genre</th>\n",
       "      <th>Album</th>\n",
       "      <th>Artist</th>\n",
       "    </tr>\n",
       "  </thead>\n",
       "  <tbody>\n",
       "    <tr>\n",
       "      <th>0</th>\n",
       "      <td>All the Best Cowboys Have Daddy Issues</td>\n",
       "      <td>NaN</td>\n",
       "      <td>2555492</td>\n",
       "      <td>211743651</td>\n",
       "      <td>1.99</td>\n",
       "      <td>TV Shows</td>\n",
       "      <td>Lost, Season 1</td>\n",
       "      <td>Lost</td>\n",
       "    </tr>\n",
       "    <tr>\n",
       "      <th>1</th>\n",
       "      <td>Beira Mar</td>\n",
       "      <td>Gilberto Gil</td>\n",
       "      <td>295444</td>\n",
       "      <td>9597994</td>\n",
       "      <td>0.99</td>\n",
       "      <td>Latin</td>\n",
       "      <td>Unplugged</td>\n",
       "      <td>Eric Clapton</td>\n",
       "    </tr>\n",
       "    <tr>\n",
       "      <th>2</th>\n",
       "      <td>Brasil</td>\n",
       "      <td>Milton Nascimento, Fernando Brant</td>\n",
       "      <td>155428</td>\n",
       "      <td>5252560</td>\n",
       "      <td>0.99</td>\n",
       "      <td>Latin</td>\n",
       "      <td>Milton Nascimento Ao Vivo</td>\n",
       "      <td>Milton Nascimento</td>\n",
       "    </tr>\n",
       "    <tr>\n",
       "      <th>3</th>\n",
       "      <td>Ben Franklin</td>\n",
       "      <td>NaN</td>\n",
       "      <td>1271938</td>\n",
       "      <td>264168080</td>\n",
       "      <td>1.99</td>\n",
       "      <td>Comedy</td>\n",
       "      <td>The Office, Season 3</td>\n",
       "      <td>The Office</td>\n",
       "    </tr>\n",
       "    <tr>\n",
       "      <th>4</th>\n",
       "      <td>O Último Romântico (Ao Vivo)</td>\n",
       "      <td>NaN</td>\n",
       "      <td>231993</td>\n",
       "      <td>7692697</td>\n",
       "      <td>0.99</td>\n",
       "      <td>Latin</td>\n",
       "      <td>Lulu Santos - RCA 100 Anos De Música - Álbum 02</td>\n",
       "      <td>Lulu Santos</td>\n",
       "    </tr>\n",
       "  </tbody>\n",
       "</table>\n",
       "</div>"
      ],
      "text/plain": [
       "                                    Track                           Composer  \\\n",
       "0  All the Best Cowboys Have Daddy Issues                                NaN   \n",
       "1                               Beira Mar                       Gilberto Gil   \n",
       "2                                  Brasil  Milton Nascimento, Fernando Brant   \n",
       "3                            Ben Franklin                                NaN   \n",
       "4            O Último Romântico (Ao Vivo)                                NaN   \n",
       "\n",
       "   Milliseconds      Bytes  UnitPrice     Genre  \\\n",
       "0       2555492  211743651       1.99  TV Shows   \n",
       "1        295444    9597994       0.99     Latin   \n",
       "2        155428    5252560       0.99     Latin   \n",
       "3       1271938  264168080       1.99    Comedy   \n",
       "4        231993    7692697       0.99     Latin   \n",
       "\n",
       "                                             Album             Artist  \n",
       "0                                   Lost, Season 1               Lost  \n",
       "1                                        Unplugged       Eric Clapton  \n",
       "2                        Milton Nascimento Ao Vivo  Milton Nascimento  \n",
       "3                             The Office, Season 3         The Office  \n",
       "4  Lulu Santos - RCA 100 Anos De Música - Álbum 02        Lulu Santos  "
      ]
     },
     "execution_count": 20,
     "metadata": {},
     "output_type": "execute_result"
    }
   ],
   "source": [
    "test_df.reset_index(inplace=True, drop=True)\n",
    "test_df.head()"
   ]
  },
  {
   "cell_type": "code",
   "execution_count": 21,
   "metadata": {},
   "outputs": [
    {
     "data": {
      "text/plain": [
       "RangeIndex(start=0, stop=4022, step=1)"
      ]
     },
     "execution_count": 21,
     "metadata": {},
     "output_type": "execute_result"
    }
   ],
   "source": [
    "test_df.index"
   ]
  },
  {
   "cell_type": "code",
   "execution_count": 22,
   "metadata": {},
   "outputs": [
    {
     "data": {
      "text/plain": [
       "(4021, 8)"
      ]
     },
     "execution_count": 22,
     "metadata": {},
     "output_type": "execute_result"
    }
   ],
   "source": [
    "itunes_df.shape"
   ]
  },
  {
   "cell_type": "code",
   "execution_count": 23,
   "metadata": {},
   "outputs": [
    {
     "name": "stdout",
     "output_type": "stream",
     "text": [
      "<class 'pandas.core.frame.DataFrame'>\n",
      "Int64Index: 4021 entries, 0 to 3502\n",
      "Data columns (total 8 columns):\n",
      " #   Column        Non-Null Count  Dtype  \n",
      "---  ------        --------------  -----  \n",
      " 0   Track         4021 non-null   object \n",
      " 1   Composer      2908 non-null   object \n",
      " 2   Milliseconds  4021 non-null   int64  \n",
      " 3   Bytes         4021 non-null   int64  \n",
      " 4   UnitPrice     4021 non-null   float64\n",
      " 5   Genre         4021 non-null   object \n",
      " 6   Album         4021 non-null   object \n",
      " 7   Artist        4021 non-null   object \n",
      "dtypes: float64(1), int64(2), object(5)\n",
      "memory usage: 442.7+ KB\n"
     ]
    }
   ],
   "source": [
    "itunes_df.info()"
   ]
  },
  {
   "cell_type": "code",
   "execution_count": 24,
   "metadata": {},
   "outputs": [
    {
     "data": {
      "text/plain": [
       "Track              0\n",
       "Composer        1113\n",
       "Milliseconds       0\n",
       "Bytes              0\n",
       "UnitPrice          0\n",
       "Genre              0\n",
       "Album              0\n",
       "Artist             0\n",
       "dtype: int64"
      ]
     },
     "execution_count": 24,
     "metadata": {},
     "output_type": "execute_result"
    }
   ],
   "source": [
    "itunes_df.isna().sum()"
   ]
  },
  {
   "cell_type": "code",
   "execution_count": 25,
   "metadata": {},
   "outputs": [
    {
     "data": {
      "text/plain": [
       "pandas.core.frame.DataFrame"
      ]
     },
     "execution_count": 25,
     "metadata": {},
     "output_type": "execute_result"
    }
   ],
   "source": [
    "type(itunes_df.isna())"
   ]
  },
  {
   "cell_type": "code",
   "execution_count": 26,
   "metadata": {},
   "outputs": [
    {
     "data": {
      "text/html": [
       "<div>\n",
       "<style scoped>\n",
       "    .dataframe tbody tr th:only-of-type {\n",
       "        vertical-align: middle;\n",
       "    }\n",
       "\n",
       "    .dataframe tbody tr th {\n",
       "        vertical-align: top;\n",
       "    }\n",
       "\n",
       "    .dataframe thead th {\n",
       "        text-align: right;\n",
       "    }\n",
       "</style>\n",
       "<table border=\"1\" class=\"dataframe\">\n",
       "  <thead>\n",
       "    <tr style=\"text-align: right;\">\n",
       "      <th></th>\n",
       "      <th>Milliseconds</th>\n",
       "      <th>Bytes</th>\n",
       "      <th>UnitPrice</th>\n",
       "    </tr>\n",
       "  </thead>\n",
       "  <tbody>\n",
       "    <tr>\n",
       "      <th>count</th>\n",
       "      <td>4.021000e+03</td>\n",
       "      <td>4.021000e+03</td>\n",
       "      <td>4021.000000</td>\n",
       "    </tr>\n",
       "    <tr>\n",
       "      <th>mean</th>\n",
       "      <td>3.927276e+05</td>\n",
       "      <td>3.311048e+07</td>\n",
       "      <td>1.050184</td>\n",
       "    </tr>\n",
       "    <tr>\n",
       "      <th>std</th>\n",
       "      <td>5.337745e+05</td>\n",
       "      <td>1.042268e+08</td>\n",
       "      <td>0.237857</td>\n",
       "    </tr>\n",
       "    <tr>\n",
       "      <th>min</th>\n",
       "      <td>1.071000e+03</td>\n",
       "      <td>3.874700e+04</td>\n",
       "      <td>0.990000</td>\n",
       "    </tr>\n",
       "    <tr>\n",
       "      <th>25%</th>\n",
       "      <td>2.069680e+05</td>\n",
       "      <td>6.372433e+06</td>\n",
       "      <td>0.990000</td>\n",
       "    </tr>\n",
       "    <tr>\n",
       "      <th>50%</th>\n",
       "      <td>2.554770e+05</td>\n",
       "      <td>8.102839e+06</td>\n",
       "      <td>0.990000</td>\n",
       "    </tr>\n",
       "    <tr>\n",
       "      <th>75%</th>\n",
       "      <td>3.217240e+05</td>\n",
       "      <td>1.025143e+07</td>\n",
       "      <td>0.990000</td>\n",
       "    </tr>\n",
       "    <tr>\n",
       "      <th>max</th>\n",
       "      <td>5.286953e+06</td>\n",
       "      <td>1.059546e+09</td>\n",
       "      <td>1.990000</td>\n",
       "    </tr>\n",
       "  </tbody>\n",
       "</table>\n",
       "</div>"
      ],
      "text/plain": [
       "       Milliseconds         Bytes    UnitPrice\n",
       "count  4.021000e+03  4.021000e+03  4021.000000\n",
       "mean   3.927276e+05  3.311048e+07     1.050184\n",
       "std    5.337745e+05  1.042268e+08     0.237857\n",
       "min    1.071000e+03  3.874700e+04     0.990000\n",
       "25%    2.069680e+05  6.372433e+06     0.990000\n",
       "50%    2.554770e+05  8.102839e+06     0.990000\n",
       "75%    3.217240e+05  1.025143e+07     0.990000\n",
       "max    5.286953e+06  1.059546e+09     1.990000"
      ]
     },
     "execution_count": 26,
     "metadata": {},
     "output_type": "execute_result"
    }
   ],
   "source": [
    "itunes_df.describe()"
   ]
  },
  {
   "cell_type": "code",
   "execution_count": 27,
   "metadata": {},
   "outputs": [
    {
     "data": {
      "text/plain": [
       "0    Rock\n",
       "dtype: object"
      ]
     },
     "execution_count": 27,
     "metadata": {},
     "output_type": "execute_result"
    }
   ],
   "source": [
    "itunes_df['Genre'].mode()"
   ]
  },
  {
   "cell_type": "code",
   "execution_count": 28,
   "metadata": {},
   "outputs": [
    {
     "data": {
      "text/plain": [
       "Rock                  1498\n",
       "Latin                  656\n",
       "Metal                  420\n",
       "Alternative & Punk     393\n",
       "Jazz                   160\n",
       "TV Shows               105\n",
       "Blues                   92\n",
       "Classical               85\n",
       "Drama                   71\n",
       "R&B/Soul                69\n",
       "Reggae                  64\n",
       "Pop                     51\n",
       "Soundtrack              50\n",
       "Alternative             45\n",
       "Hip Hop/Rap             40\n",
       "Electronica/Dance       35\n",
       "World                   32\n",
       "Sci Fi & Fantasy        31\n",
       "Heavy Metal             31\n",
       "Easy Listening          28\n",
       "Comedy                  20\n",
       "Bossa Nova              17\n",
       "Science Fiction         15\n",
       "Rock And Roll           12\n",
       "Opera                    1\n",
       "Name: Genre, dtype: int64"
      ]
     },
     "execution_count": 28,
     "metadata": {},
     "output_type": "execute_result"
    }
   ],
   "source": [
    "itunes_df['Genre'].value_counts()"
   ]
  },
  {
   "cell_type": "code",
   "execution_count": 29,
   "metadata": {},
   "outputs": [
    {
     "data": {
      "text/plain": [
       "Rock                  1498\n",
       "Latin                  656\n",
       "Metal                  420\n",
       "Alternative & Punk     393\n",
       "Jazz                   160\n",
       "Name: Genre, dtype: int64"
      ]
     },
     "execution_count": 29,
     "metadata": {},
     "output_type": "execute_result"
    }
   ],
   "source": [
    "itunes_df['Genre'].value_counts()[:5]"
   ]
  },
  {
   "cell_type": "code",
   "execution_count": 30,
   "metadata": {},
   "outputs": [
    {
     "data": {
      "text/plain": [
       "(204,)"
      ]
     },
     "execution_count": 30,
     "metadata": {},
     "output_type": "execute_result"
    }
   ],
   "source": [
    "itunes_df['Artist'].unique().shape"
   ]
  },
  {
   "cell_type": "code",
   "execution_count": 31,
   "metadata": {},
   "outputs": [
    {
     "data": {
      "text/html": [
       "<div>\n",
       "<style scoped>\n",
       "    .dataframe tbody tr th:only-of-type {\n",
       "        vertical-align: middle;\n",
       "    }\n",
       "\n",
       "    .dataframe tbody tr th {\n",
       "        vertical-align: top;\n",
       "    }\n",
       "\n",
       "    .dataframe thead th {\n",
       "        text-align: right;\n",
       "    }\n",
       "</style>\n",
       "<table border=\"1\" class=\"dataframe\">\n",
       "  <thead>\n",
       "    <tr style=\"text-align: right;\">\n",
       "      <th></th>\n",
       "      <th>Milliseconds</th>\n",
       "      <th>Bytes</th>\n",
       "      <th>UnitPrice</th>\n",
       "    </tr>\n",
       "  </thead>\n",
       "  <tbody>\n",
       "    <tr>\n",
       "      <th>Milliseconds</th>\n",
       "      <td>1.000000</td>\n",
       "      <td>0.957791</td>\n",
       "      <td>0.934829</td>\n",
       "    </tr>\n",
       "    <tr>\n",
       "      <th>Bytes</th>\n",
       "      <td>0.957791</td>\n",
       "      <td>1.000000</td>\n",
       "      <td>0.938734</td>\n",
       "    </tr>\n",
       "    <tr>\n",
       "      <th>UnitPrice</th>\n",
       "      <td>0.934829</td>\n",
       "      <td>0.938734</td>\n",
       "      <td>1.000000</td>\n",
       "    </tr>\n",
       "  </tbody>\n",
       "</table>\n",
       "</div>"
      ],
      "text/plain": [
       "              Milliseconds     Bytes  UnitPrice\n",
       "Milliseconds      1.000000  0.957791   0.934829\n",
       "Bytes             0.957791  1.000000   0.938734\n",
       "UnitPrice         0.934829  0.938734   1.000000"
      ]
     },
     "execution_count": 31,
     "metadata": {},
     "output_type": "execute_result"
    }
   ],
   "source": [
    "itunes_df.corr()"
   ]
  },
  {
   "cell_type": "markdown",
   "metadata": {},
   "source": [
    "## Plotting with DataFrames"
   ]
  },
  {
   "cell_type": "code",
   "execution_count": 32,
   "metadata": {},
   "outputs": [],
   "source": [
    "import matplotlib.pyplot as plt"
   ]
  },
  {
   "cell_type": "code",
   "execution_count": 33,
   "metadata": {},
   "outputs": [
    {
     "data": {
      "image/png": "[encoded data removed]",
      "text/plain": [
       "<Figure size 432x288 with 1 Axes>"
      ]
     },
     "metadata": {
      "needs_background": "light"
     },
     "output_type": "display_data"
    }
   ],
   "source": [
    "itunes_df['Milliseconds'].hist(bins=30)\n",
    "plt.show()"
   ]
  },
  {
   "cell_type": "code",
   "execution_count": 34,
   "metadata": {},
   "outputs": [
    {
     "data": {
      "image/png": "[encoded data removed]",
      "text/plain": [
       "<Figure size 396x396 with 1 Axes>"
      ]
     },
     "metadata": {},
     "output_type": "display_data"
    }
   ],
   "source": [
    "# this cell is for saving the image; more on this is chapter 5\n",
    "f = plt.figure(figsize=(5.5, 5.5))  # this changes the size of the image -- more on this is chapter 5\n",
    "f.patch.set_facecolor('w')  # sets background color behind axis labels\n",
    "itunes_df['Milliseconds'].hist(bins=30)\n",
    "plt.tight_layout()  # auto-adjust margins\n",
    "plt.savefig('B17030_04_06.png', dpi=300)"
   ]
  },
  {
   "cell_type": "code",
   "execution_count": 35,
   "metadata": {},
   "outputs": [
    {
     "data": {
      "image/png": "[encoded data removed]",
      "text/plain": [
       "<Figure size 576x576 with 1 Axes>"
      ]
     },
     "metadata": {
      "needs_background": "light"
     },
     "output_type": "display_data"
    }
   ],
   "source": [
    "# figsize increases the size of the image -- more on this is chapter 5\n",
    "itunes_df.plot.scatter(x='Milliseconds', y='Bytes', figsize=(8, 8))\n",
    "plt.show()"
   ]
  },
  {
   "cell_type": "code",
   "execution_count": 36,
   "metadata": {},
   "outputs": [
    {
     "data": {
      "text/plain": [
       "<Figure size 432x288 with 0 Axes>"
      ]
     },
     "metadata": {},
     "output_type": "display_data"
    },
    {
     "data": {
      "image/png": "[encoded data removed]",
      "text/plain": [
       "<Figure size 396x396 with 1 Axes>"
      ]
     },
     "metadata": {
      "needs_background": "light"
     },
     "output_type": "display_data"
    }
   ],
   "source": [
    "# saving the image -- more on this in chapter 5\n",
    "f = plt.figure()\n",
    "itunes_df.plot.scatter(x='Milliseconds', y='Bytes', figsize=(5.5, 5.5))\n",
    "f.patch.set_facecolor('w')  # sets background color behind axis labels\n",
    "plt.tight_layout()  # auto-adjust margins\n",
    "plt.savefig('B17030_04_07.png', dpi=300)"
   ]
  },
  {
   "cell_type": "code",
   "execution_count": 37,
   "metadata": {},
   "outputs": [
    {
     "data": {
      "image/png": "[encoded data removed]",
      "text/plain": [
       "<Figure size 432x288 with 1 Axes>"
      ]
     },
     "metadata": {
      "needs_background": "light"
     },
     "output_type": "display_data"
    }
   ],
   "source": [
    "itunes_df['Genre'].value_counts().plot.bar()\n",
    "plt.show()"
   ]
  },
  {
   "cell_type": "code",
   "execution_count": 38,
   "metadata": {},
   "outputs": [
    {
     "data": {
      "image/png": "[encoded data removed]",
      "text/plain": [
       "<Figure size 396x396 with 1 Axes>"
      ]
     },
     "metadata": {},
     "output_type": "display_data"
    }
   ],
   "source": [
    "# saving the image -- more on this in chapter 5\n",
    "f = plt.figure(figsize=(5.5, 5.5))\n",
    "itunes_df['Genre'].value_counts().plot.bar()\n",
    "f.patch.set_facecolor('w')  # sets background color behind axis labels\n",
    "plt.tight_layout()  # auto-adjust margins\n",
    "plt.savefig('B17030_04_08.png', dpi=300)"
   ]
  },
  {
   "cell_type": "markdown",
   "metadata": {},
   "source": [
    "## Cleaning Data, Filtering DataFrames"
   ]
  },
  {
   "cell_type": "code",
   "execution_count": 39,
   "metadata": {},
   "outputs": [
    {
     "data": {
      "text/html": [
       "<div>\n",
       "<style scoped>\n",
       "    .dataframe tbody tr th:only-of-type {\n",
       "        vertical-align: middle;\n",
       "    }\n",
       "\n",
       "    .dataframe tbody tr th {\n",
       "        vertical-align: top;\n",
       "    }\n",
       "\n",
       "    .dataframe thead th {\n",
       "        text-align: right;\n",
       "    }\n",
       "</style>\n",
       "<table border=\"1\" class=\"dataframe\">\n",
       "  <thead>\n",
       "    <tr style=\"text-align: right;\">\n",
       "      <th></th>\n",
       "      <th>Track</th>\n",
       "      <th>Composer</th>\n",
       "      <th>Milliseconds</th>\n",
       "      <th>Bytes</th>\n",
       "      <th>UnitPrice</th>\n",
       "      <th>Genre</th>\n",
       "      <th>Album</th>\n",
       "      <th>Artist</th>\n",
       "    </tr>\n",
       "  </thead>\n",
       "  <tbody>\n",
       "    <tr>\n",
       "      <th>2833</th>\n",
       "      <td>Occupation / Precipice</td>\n",
       "      <td>None</td>\n",
       "      <td>5286953</td>\n",
       "      <td>1054423946</td>\n",
       "      <td>1.99</td>\n",
       "      <td>TV Shows</td>\n",
       "      <td>Battlestar Galactica, Season 3</td>\n",
       "      <td>Battlestar Galactica</td>\n",
       "    </tr>\n",
       "    <tr>\n",
       "      <th>2898</th>\n",
       "      <td>Through a Looking Glass</td>\n",
       "      <td>None</td>\n",
       "      <td>5088838</td>\n",
       "      <td>1059546140</td>\n",
       "      <td>1.99</td>\n",
       "      <td>Drama</td>\n",
       "      <td>Lost, Season 3</td>\n",
       "      <td>Lost</td>\n",
       "    </tr>\n",
       "  </tbody>\n",
       "</table>\n",
       "</div>"
      ],
      "text/plain": [
       "                        Track Composer  Milliseconds       Bytes  UnitPrice  \\\n",
       "2833   Occupation / Precipice     None       5286953  1054423946       1.99   \n",
       "2898  Through a Looking Glass     None       5088838  1059546140       1.99   \n",
       "\n",
       "         Genre                           Album                Artist  \n",
       "2833  TV Shows  Battlestar Galactica, Season 3  Battlestar Galactica  \n",
       "2898     Drama                  Lost, Season 3                  Lost  "
      ]
     },
     "execution_count": 39,
     "metadata": {},
     "output_type": "execute_result"
    }
   ],
   "source": [
    "itunes_df[itunes_df['Milliseconds'] > 4e6]"
   ]
  },
  {
   "cell_type": "code",
   "execution_count": 40,
   "metadata": {},
   "outputs": [
    {
     "name": "stdout",
     "output_type": "stream",
     "text": [
      "                        Track Composer  Milliseconds       Bytes  UnitPrice  \\\n",
      "2833   Occupation / Precipice     None       5286953  1054423946       1.99   \n",
      "2898  Through a Looking Glass     None       5088838  1059546140       1.99   \n",
      "\n",
      "         Genre                           Album                Artist  \n",
      "2833  TV Shows  Battlestar Galactica, Season 3  Battlestar Galactica  \n",
      "2898     Drama                  Lost, Season 3                  Lost  \n"
     ]
    }
   ],
   "source": [
    "print(itunes_df[itunes_df['Milliseconds'] > 4e6])"
   ]
  },
  {
   "cell_type": "code",
   "execution_count": 41,
   "metadata": {},
   "outputs": [
    {
     "name": "stdout",
     "output_type": "stream",
     "text": [
      "         Genre                Artist\n",
      "2833  TV Shows  Battlestar Galactica\n",
      "2898     Drama                  Lost\n"
     ]
    }
   ],
   "source": [
    "print(itunes_df[itunes_df['Milliseconds'] > 4e6][['Genre', 'Artist']])"
   ]
  },
  {
   "cell_type": "code",
   "execution_count": 42,
   "metadata": {},
   "outputs": [
    {
     "data": {
      "text/plain": [
       "0       False\n",
       "1       False\n",
       "2       False\n",
       "3       False\n",
       "4       False\n",
       "        ...  \n",
       "3498    False\n",
       "3499    False\n",
       "3500    False\n",
       "3501    False\n",
       "3502    False\n",
       "Name: Milliseconds, Length: 4021, dtype: bool"
      ]
     },
     "execution_count": 42,
     "metadata": {},
     "output_type": "execute_result"
    }
   ],
   "source": [
    "itunes_df['Milliseconds'] > 4e6"
   ]
  },
  {
   "cell_type": "code",
   "execution_count": 43,
   "metadata": {},
   "outputs": [
    {
     "data": {
      "text/plain": [
       "Drama               69\n",
       "TV Shows            67\n",
       "Sci Fi & Fantasy    31\n",
       "Science Fiction     15\n",
       "Comedy               2\n",
       "Name: Genre, dtype: int64"
      ]
     },
     "execution_count": 43,
     "metadata": {},
     "output_type": "execute_result"
    }
   ],
   "source": [
    "itunes_df[itunes_df['Milliseconds'] > 2e6]['Genre'].value_counts()"
   ]
  },
  {
   "cell_type": "code",
   "execution_count": 44,
   "metadata": {},
   "outputs": [
    {
     "data": {
      "text/plain": [
       "TV Shows    32\n",
       "Name: Genre, dtype: int64"
      ]
     },
     "execution_count": 44,
     "metadata": {},
     "output_type": "execute_result"
    }
   ],
   "source": [
    "itunes_df[(itunes_df['Milliseconds'] > 2e6) & (itunes_df['Bytes'] < 0.4e9)]['Genre'].value_counts()"
   ]
  },
  {
   "cell_type": "code",
   "execution_count": 45,
   "metadata": {},
   "outputs": [
    {
     "data": {
      "text/plain": [
       "Rock                  1498\n",
       "Latin                  656\n",
       "Metal                  420\n",
       "Alternative & Punk     393\n",
       "Jazz                   160\n",
       "Blues                   92\n",
       "Classical               85\n",
       "Drama                   71\n",
       "R&B/Soul                69\n",
       "Reggae                  64\n",
       "Pop                     51\n",
       "Soundtrack              50\n",
       "Alternative             45\n",
       "Hip Hop/Rap             40\n",
       "Electronica/Dance       35\n",
       "World                   32\n",
       "Sci Fi & Fantasy        31\n",
       "Heavy Metal             31\n",
       "Easy Listening          28\n",
       "Comedy                  20\n",
       "Bossa Nova              17\n",
       "Science Fiction         15\n",
       "Rock And Roll           12\n",
       "Opera                    1\n",
       "Name: Genre, dtype: int64"
      ]
     },
     "execution_count": 45,
     "metadata": {},
     "output_type": "execute_result"
    }
   ],
   "source": [
    "itunes_df[itunes_df['Genre'] != 'TV Shows']['Genre'].value_counts()"
   ]
  },
  {
   "cell_type": "code",
   "execution_count": 46,
   "metadata": {},
   "outputs": [
    {
     "data": {
      "text/plain": [
       "Rock                  1498\n",
       "Latin                  656\n",
       "Metal                  420\n",
       "Alternative & Punk     393\n",
       "Jazz                   160\n",
       "Blues                   92\n",
       "Classical               85\n",
       "Drama                   71\n",
       "R&B/Soul                69\n",
       "Reggae                  64\n",
       "Pop                     51\n",
       "Soundtrack              50\n",
       "Alternative             45\n",
       "Hip Hop/Rap             40\n",
       "Electronica/Dance       35\n",
       "World                   32\n",
       "Sci Fi & Fantasy        31\n",
       "Heavy Metal             31\n",
       "Easy Listening          28\n",
       "Comedy                  20\n",
       "Bossa Nova              17\n",
       "Science Fiction         15\n",
       "Rock And Roll           12\n",
       "Opera                    1\n",
       "Name: Genre, dtype: int64"
      ]
     },
     "execution_count": 46,
     "metadata": {},
     "output_type": "execute_result"
    }
   ],
   "source": [
    "itunes_df[~(itunes_df['Genre'] == 'TV Shows')]['Genre'].value_counts()"
   ]
  },
  {
   "cell_type": "code",
   "execution_count": 47,
   "metadata": {},
   "outputs": [
    {
     "data": {
      "text/plain": [
       "TV Shows    105\n",
       "Name: Genre, dtype: int64"
      ]
     },
     "execution_count": 47,
     "metadata": {},
     "output_type": "execute_result"
    }
   ],
   "source": [
    "itunes_df[itunes_df['Genre'].str.contains('TV')]['Genre'].value_counts()"
   ]
  },
  {
   "cell_type": "code",
   "execution_count": 48,
   "metadata": {},
   "outputs": [
    {
     "data": {
      "text/plain": [
       "Index(['Track', 'Milliseconds', 'Bytes', 'UnitPrice', 'Genre', 'Album',\n",
       "       'Artist'],\n",
       "      dtype='object')"
      ]
     },
     "execution_count": 48,
     "metadata": {},
     "output_type": "execute_result"
    }
   ],
   "source": [
    "itunes_df_copy = itunes_df.copy()  # make a backup for testing dropping a column\n",
    "itunes_df_copy.drop('Composer', axis=1, inplace=True)\n",
    "itunes_df_copy.columns"
   ]
  },
  {
   "cell_type": "code",
   "execution_count": 49,
   "metadata": {},
   "outputs": [],
   "source": [
    "only_music = itunes_df[~itunes_df['Genre'].isin(['Drama', 'TV Shows', 'Sci Fi & Fantasy', 'Science Fiction', 'Comedy'])]"
   ]
  },
  {
   "cell_type": "markdown",
   "metadata": {},
   "source": [
    "### Missing values"
   ]
  },
  {
   "cell_type": "code",
   "execution_count": 50,
   "metadata": {},
   "outputs": [
    {
     "data": {
      "text/html": [
       "<div>\n",
       "<style scoped>\n",
       "    .dataframe tbody tr th:only-of-type {\n",
       "        vertical-align: middle;\n",
       "    }\n",
       "\n",
       "    .dataframe tbody tr th {\n",
       "        vertical-align: top;\n",
       "    }\n",
       "\n",
       "    .dataframe thead th {\n",
       "        text-align: right;\n",
       "    }\n",
       "</style>\n",
       "<table border=\"1\" class=\"dataframe\">\n",
       "  <thead>\n",
       "    <tr style=\"text-align: right;\">\n",
       "      <th></th>\n",
       "      <th>Track</th>\n",
       "      <th>Composer</th>\n",
       "      <th>Milliseconds</th>\n",
       "      <th>Bytes</th>\n",
       "      <th>UnitPrice</th>\n",
       "      <th>Genre</th>\n",
       "      <th>Album</th>\n",
       "      <th>Artist</th>\n",
       "    </tr>\n",
       "  </thead>\n",
       "  <tbody>\n",
       "    <tr>\n",
       "      <th>0</th>\n",
       "      <td>All the Best Cowboys Have Daddy Issues</td>\n",
       "      <td>NaN</td>\n",
       "      <td>2555492</td>\n",
       "      <td>211743651</td>\n",
       "      <td>1.99</td>\n",
       "      <td>TV Shows</td>\n",
       "      <td>Lost, Season 1</td>\n",
       "      <td>Lost</td>\n",
       "    </tr>\n",
       "    <tr>\n",
       "      <th>3</th>\n",
       "      <td>Ben Franklin</td>\n",
       "      <td>NaN</td>\n",
       "      <td>1271938</td>\n",
       "      <td>264168080</td>\n",
       "      <td>1.99</td>\n",
       "      <td>Comedy</td>\n",
       "      <td>The Office, Season 3</td>\n",
       "      <td>The Office</td>\n",
       "    </tr>\n",
       "    <tr>\n",
       "      <th>4</th>\n",
       "      <td>O Último Romântico (Ao Vivo)</td>\n",
       "      <td>NaN</td>\n",
       "      <td>231993</td>\n",
       "      <td>7692697</td>\n",
       "      <td>0.99</td>\n",
       "      <td>Latin</td>\n",
       "      <td>Lulu Santos - RCA 100 Anos De Música - Álbum 02</td>\n",
       "      <td>Lulu Santos</td>\n",
       "    </tr>\n",
       "    <tr>\n",
       "      <th>5</th>\n",
       "      <td>Freewheel Burning</td>\n",
       "      <td>NaN</td>\n",
       "      <td>265952</td>\n",
       "      <td>8713599</td>\n",
       "      <td>0.99</td>\n",
       "      <td>Metal</td>\n",
       "      <td>Living After Midnight</td>\n",
       "      <td>Judas Priest</td>\n",
       "    </tr>\n",
       "    <tr>\n",
       "      <th>8</th>\n",
       "      <td>Diga Lá, Coração</td>\n",
       "      <td>NaN</td>\n",
       "      <td>255921</td>\n",
       "      <td>8280636</td>\n",
       "      <td>0.99</td>\n",
       "      <td>Latin</td>\n",
       "      <td>Meus Momentos</td>\n",
       "      <td>Gonzaguinha</td>\n",
       "    </tr>\n",
       "  </tbody>\n",
       "</table>\n",
       "</div>"
      ],
      "text/plain": [
       "                                    Track Composer  Milliseconds      Bytes  \\\n",
       "0  All the Best Cowboys Have Daddy Issues      NaN       2555492  211743651   \n",
       "3                            Ben Franklin      NaN       1271938  264168080   \n",
       "4            O Último Romântico (Ao Vivo)      NaN        231993    7692697   \n",
       "5                       Freewheel Burning      NaN        265952    8713599   \n",
       "8                        Diga Lá, Coração      NaN        255921    8280636   \n",
       "\n",
       "   UnitPrice     Genre                                            Album  \\\n",
       "0       1.99  TV Shows                                   Lost, Season 1   \n",
       "3       1.99    Comedy                             The Office, Season 3   \n",
       "4       0.99     Latin  Lulu Santos - RCA 100 Anos De Música - Álbum 02   \n",
       "5       0.99     Metal                            Living After Midnight   \n",
       "8       0.99     Latin                                    Meus Momentos   \n",
       "\n",
       "         Artist  \n",
       "0          Lost  \n",
       "3    The Office  \n",
       "4   Lulu Santos  \n",
       "5  Judas Priest  \n",
       "8   Gonzaguinha  "
      ]
     },
     "execution_count": 50,
     "metadata": {},
     "output_type": "execute_result"
    }
   ],
   "source": [
    "itunes_df[itunes_df['Composer'].isna()].head()"
   ]
  },
  {
   "cell_type": "code",
   "execution_count": 51,
   "metadata": {},
   "outputs": [
    {
     "name": "stdout",
     "output_type": "stream",
     "text": [
      "(4021, 8)\n",
      "(2908, 8)\n"
     ]
    }
   ],
   "source": [
    "itunes_df_copy = itunes_df.copy()  # make a backup for testing dropping a column\n",
    "# print shapes to check that rows were dropped\n",
    "print(itunes_df_copy.shape)\n",
    "itunes_df_copy.dropna(inplace=True)\n",
    "print(itunes_df_copy.shape)"
   ]
  },
  {
   "cell_type": "code",
   "execution_count": 52,
   "metadata": {},
   "outputs": [
    {
     "data": {
      "text/html": [
       "<div>\n",
       "<style scoped>\n",
       "    .dataframe tbody tr th:only-of-type {\n",
       "        vertical-align: middle;\n",
       "    }\n",
       "\n",
       "    .dataframe tbody tr th {\n",
       "        vertical-align: top;\n",
       "    }\n",
       "\n",
       "    .dataframe thead th {\n",
       "        text-align: right;\n",
       "    }\n",
       "</style>\n",
       "<table border=\"1\" class=\"dataframe\">\n",
       "  <thead>\n",
       "    <tr style=\"text-align: right;\">\n",
       "      <th></th>\n",
       "      <th>Track</th>\n",
       "      <th>Composer</th>\n",
       "      <th>Milliseconds</th>\n",
       "      <th>Bytes</th>\n",
       "      <th>UnitPrice</th>\n",
       "      <th>Genre</th>\n",
       "      <th>Album</th>\n",
       "      <th>Artist</th>\n",
       "    </tr>\n",
       "  </thead>\n",
       "  <tbody>\n",
       "    <tr>\n",
       "      <th>0</th>\n",
       "      <td>All the Best Cowboys Have Daddy Issues</td>\n",
       "      <td>Unknown</td>\n",
       "      <td>2555492</td>\n",
       "      <td>211743651</td>\n",
       "      <td>1.99</td>\n",
       "      <td>TV Shows</td>\n",
       "      <td>Lost, Season 1</td>\n",
       "      <td>Lost</td>\n",
       "    </tr>\n",
       "    <tr>\n",
       "      <th>1</th>\n",
       "      <td>Beira Mar</td>\n",
       "      <td>Gilberto Gil</td>\n",
       "      <td>295444</td>\n",
       "      <td>9597994</td>\n",
       "      <td>0.99</td>\n",
       "      <td>Latin</td>\n",
       "      <td>Unplugged</td>\n",
       "      <td>Eric Clapton</td>\n",
       "    </tr>\n",
       "    <tr>\n",
       "      <th>2</th>\n",
       "      <td>Brasil</td>\n",
       "      <td>Milton Nascimento, Fernando Brant</td>\n",
       "      <td>155428</td>\n",
       "      <td>5252560</td>\n",
       "      <td>0.99</td>\n",
       "      <td>Latin</td>\n",
       "      <td>Milton Nascimento Ao Vivo</td>\n",
       "      <td>Milton Nascimento</td>\n",
       "    </tr>\n",
       "    <tr>\n",
       "      <th>3</th>\n",
       "      <td>Ben Franklin</td>\n",
       "      <td>Unknown</td>\n",
       "      <td>1271938</td>\n",
       "      <td>264168080</td>\n",
       "      <td>1.99</td>\n",
       "      <td>Comedy</td>\n",
       "      <td>The Office, Season 3</td>\n",
       "      <td>The Office</td>\n",
       "    </tr>\n",
       "    <tr>\n",
       "      <th>4</th>\n",
       "      <td>O Último Romântico (Ao Vivo)</td>\n",
       "      <td>Unknown</td>\n",
       "      <td>231993</td>\n",
       "      <td>7692697</td>\n",
       "      <td>0.99</td>\n",
       "      <td>Latin</td>\n",
       "      <td>Lulu Santos - RCA 100 Anos De Música - Álbum 02</td>\n",
       "      <td>Lulu Santos</td>\n",
       "    </tr>\n",
       "  </tbody>\n",
       "</table>\n",
       "</div>"
      ],
      "text/plain": [
       "                                    Track                           Composer  \\\n",
       "0  All the Best Cowboys Have Daddy Issues                            Unknown   \n",
       "1                               Beira Mar                       Gilberto Gil   \n",
       "2                                  Brasil  Milton Nascimento, Fernando Brant   \n",
       "3                            Ben Franklin                            Unknown   \n",
       "4            O Último Romântico (Ao Vivo)                            Unknown   \n",
       "\n",
       "   Milliseconds      Bytes  UnitPrice     Genre  \\\n",
       "0       2555492  211743651       1.99  TV Shows   \n",
       "1        295444    9597994       0.99     Latin   \n",
       "2        155428    5252560       0.99     Latin   \n",
       "3       1271938  264168080       1.99    Comedy   \n",
       "4        231993    7692697       0.99     Latin   \n",
       "\n",
       "                                             Album             Artist  \n",
       "0                                   Lost, Season 1               Lost  \n",
       "1                                        Unplugged       Eric Clapton  \n",
       "2                        Milton Nascimento Ao Vivo  Milton Nascimento  \n",
       "3                             The Office, Season 3         The Office  \n",
       "4  Lulu Santos - RCA 100 Anos De Música - Álbum 02        Lulu Santos  "
      ]
     },
     "execution_count": 52,
     "metadata": {},
     "output_type": "execute_result"
    }
   ],
   "source": [
    "itunes_df_copy = itunes_df.copy()  # make a backup for testing dropping a column\n",
    "itunes_df_copy.loc[itunes_df['Composer'].isna(), 'Composer'] = 'Unknown'\n",
    "itunes_df_copy.head()"
   ]
  },
  {
   "cell_type": "code",
   "execution_count": 53,
   "metadata": {},
   "outputs": [
    {
     "data": {
      "text/html": [
       "<div>\n",
       "<style scoped>\n",
       "    .dataframe tbody tr th:only-of-type {\n",
       "        vertical-align: middle;\n",
       "    }\n",
       "\n",
       "    .dataframe tbody tr th {\n",
       "        vertical-align: top;\n",
       "    }\n",
       "\n",
       "    .dataframe thead th {\n",
       "        text-align: right;\n",
       "    }\n",
       "</style>\n",
       "<table border=\"1\" class=\"dataframe\">\n",
       "  <thead>\n",
       "    <tr style=\"text-align: right;\">\n",
       "      <th></th>\n",
       "      <th>Track</th>\n",
       "      <th>Composer</th>\n",
       "      <th>Milliseconds</th>\n",
       "      <th>Bytes</th>\n",
       "      <th>UnitPrice</th>\n",
       "      <th>Genre</th>\n",
       "      <th>Album</th>\n",
       "      <th>Artist</th>\n",
       "    </tr>\n",
       "  </thead>\n",
       "  <tbody>\n",
       "    <tr>\n",
       "      <th>0</th>\n",
       "      <td>All the Best Cowboys Have Daddy Issues</td>\n",
       "      <td>Unknown</td>\n",
       "      <td>2555492</td>\n",
       "      <td>211743651</td>\n",
       "      <td>1.99</td>\n",
       "      <td>TV Shows</td>\n",
       "      <td>Lost, Season 1</td>\n",
       "      <td>Lost</td>\n",
       "    </tr>\n",
       "    <tr>\n",
       "      <th>1</th>\n",
       "      <td>Beira Mar</td>\n",
       "      <td>Gilberto Gil</td>\n",
       "      <td>295444</td>\n",
       "      <td>9597994</td>\n",
       "      <td>0.99</td>\n",
       "      <td>Latin</td>\n",
       "      <td>Unplugged</td>\n",
       "      <td>Eric Clapton</td>\n",
       "    </tr>\n",
       "    <tr>\n",
       "      <th>2</th>\n",
       "      <td>Brasil</td>\n",
       "      <td>Milton Nascimento, Fernando Brant</td>\n",
       "      <td>155428</td>\n",
       "      <td>5252560</td>\n",
       "      <td>0.99</td>\n",
       "      <td>Latin</td>\n",
       "      <td>Milton Nascimento Ao Vivo</td>\n",
       "      <td>Milton Nascimento</td>\n",
       "    </tr>\n",
       "    <tr>\n",
       "      <th>3</th>\n",
       "      <td>Ben Franklin</td>\n",
       "      <td>Unknown</td>\n",
       "      <td>1271938</td>\n",
       "      <td>264168080</td>\n",
       "      <td>1.99</td>\n",
       "      <td>Comedy</td>\n",
       "      <td>The Office, Season 3</td>\n",
       "      <td>The Office</td>\n",
       "    </tr>\n",
       "    <tr>\n",
       "      <th>4</th>\n",
       "      <td>O Último Romântico (Ao Vivo)</td>\n",
       "      <td>Unknown</td>\n",
       "      <td>231993</td>\n",
       "      <td>7692697</td>\n",
       "      <td>0.99</td>\n",
       "      <td>Latin</td>\n",
       "      <td>Lulu Santos - RCA 100 Anos De Música - Álbum 02</td>\n",
       "      <td>Lulu Santos</td>\n",
       "    </tr>\n",
       "  </tbody>\n",
       "</table>\n",
       "</div>"
      ],
      "text/plain": [
       "                                    Track                           Composer  \\\n",
       "0  All the Best Cowboys Have Daddy Issues                            Unknown   \n",
       "1                               Beira Mar                       Gilberto Gil   \n",
       "2                                  Brasil  Milton Nascimento, Fernando Brant   \n",
       "3                            Ben Franklin                            Unknown   \n",
       "4            O Último Romântico (Ao Vivo)                            Unknown   \n",
       "\n",
       "   Milliseconds      Bytes  UnitPrice     Genre  \\\n",
       "0       2555492  211743651       1.99  TV Shows   \n",
       "1        295444    9597994       0.99     Latin   \n",
       "2        155428    5252560       0.99     Latin   \n",
       "3       1271938  264168080       1.99    Comedy   \n",
       "4        231993    7692697       0.99     Latin   \n",
       "\n",
       "                                             Album             Artist  \n",
       "0                                   Lost, Season 1               Lost  \n",
       "1                                        Unplugged       Eric Clapton  \n",
       "2                        Milton Nascimento Ao Vivo  Milton Nascimento  \n",
       "3                             The Office, Season 3         The Office  \n",
       "4  Lulu Santos - RCA 100 Anos De Música - Álbum 02        Lulu Santos  "
      ]
     },
     "execution_count": 53,
     "metadata": {},
     "output_type": "execute_result"
    }
   ],
   "source": [
    "itunes_df_copy = itunes_df.copy()  # make a backup for testing dropping a column\n",
    "itunes_df_copy['Composer'].fillna('Unknown', inplace=True)\n",
    "itunes_df_copy.head()"
   ]
  },
  {
   "cell_type": "code",
   "execution_count": 54,
   "metadata": {},
   "outputs": [
    {
     "data": {
      "text/plain": [
       "0.9398159661775678"
      ]
     },
     "execution_count": 54,
     "metadata": {},
     "output_type": "execute_result"
    }
   ],
   "source": [
    "itunes_df['UnitPrice'].value_counts().iloc[0]/itunes_df.shape[0]"
   ]
  },
  {
   "cell_type": "code",
   "execution_count": 55,
   "metadata": {},
   "outputs": [
    {
     "data": {
      "text/html": [
       "<div>\n",
       "<style scoped>\n",
       "    .dataframe tbody tr th:only-of-type {\n",
       "        vertical-align: middle;\n",
       "    }\n",
       "\n",
       "    .dataframe tbody tr th {\n",
       "        vertical-align: top;\n",
       "    }\n",
       "\n",
       "    .dataframe thead th {\n",
       "        text-align: right;\n",
       "    }\n",
       "</style>\n",
       "<table border=\"1\" class=\"dataframe\">\n",
       "  <thead>\n",
       "    <tr style=\"text-align: right;\">\n",
       "      <th></th>\n",
       "      <th>Track</th>\n",
       "      <th>Composer</th>\n",
       "      <th>Milliseconds</th>\n",
       "      <th>Bytes</th>\n",
       "      <th>UnitPrice</th>\n",
       "      <th>Genre</th>\n",
       "      <th>Album</th>\n",
       "      <th>Artist</th>\n",
       "    </tr>\n",
       "  </thead>\n",
       "  <tbody>\n",
       "    <tr>\n",
       "      <th>0</th>\n",
       "      <td>All the Best Cowboys Have Daddy Issues</td>\n",
       "      <td>NaN</td>\n",
       "      <td>2555492</td>\n",
       "      <td>211743651</td>\n",
       "      <td>1.99</td>\n",
       "      <td>TV Shows</td>\n",
       "      <td>Lost, Season 1</td>\n",
       "      <td>Lost</td>\n",
       "    </tr>\n",
       "    <tr>\n",
       "      <th>1</th>\n",
       "      <td>Beira Mar</td>\n",
       "      <td>Gilberto Gil</td>\n",
       "      <td>295444</td>\n",
       "      <td>9597994</td>\n",
       "      <td>0.99</td>\n",
       "      <td>Latin</td>\n",
       "      <td>Unplugged</td>\n",
       "      <td>Eric Clapton</td>\n",
       "    </tr>\n",
       "    <tr>\n",
       "      <th>2</th>\n",
       "      <td>Brasil</td>\n",
       "      <td>Milton Nascimento, Fernando Brant</td>\n",
       "      <td>155428</td>\n",
       "      <td>5252560</td>\n",
       "      <td>0.99</td>\n",
       "      <td>Latin</td>\n",
       "      <td>Milton Nascimento Ao Vivo</td>\n",
       "      <td>Milton Nascimento</td>\n",
       "    </tr>\n",
       "    <tr>\n",
       "      <th>3</th>\n",
       "      <td>Ben Franklin</td>\n",
       "      <td>NaN</td>\n",
       "      <td>1271938</td>\n",
       "      <td>264168080</td>\n",
       "      <td>1.99</td>\n",
       "      <td>Comedy</td>\n",
       "      <td>The Office, Season 3</td>\n",
       "      <td>The Office</td>\n",
       "    </tr>\n",
       "    <tr>\n",
       "      <th>4</th>\n",
       "      <td>O Último Romântico (Ao Vivo)</td>\n",
       "      <td>NaN</td>\n",
       "      <td>231993</td>\n",
       "      <td>7692697</td>\n",
       "      <td>0.99</td>\n",
       "      <td>Latin</td>\n",
       "      <td>Lulu Santos - RCA 100 Anos De Música - Álbum 02</td>\n",
       "      <td>Lulu Santos</td>\n",
       "    </tr>\n",
       "  </tbody>\n",
       "</table>\n",
       "</div>"
      ],
      "text/plain": [
       "                                    Track                           Composer  \\\n",
       "0  All the Best Cowboys Have Daddy Issues                                NaN   \n",
       "1                               Beira Mar                       Gilberto Gil   \n",
       "2                                  Brasil  Milton Nascimento, Fernando Brant   \n",
       "3                            Ben Franklin                                NaN   \n",
       "4            O Último Romântico (Ao Vivo)                                NaN   \n",
       "\n",
       "   Milliseconds      Bytes  UnitPrice     Genre  \\\n",
       "0       2555492  211743651       1.99  TV Shows   \n",
       "1        295444    9597994       0.99     Latin   \n",
       "2        155428    5252560       0.99     Latin   \n",
       "3       1271938  264168080       1.99    Comedy   \n",
       "4        231993    7692697       0.99     Latin   \n",
       "\n",
       "                                             Album             Artist  \n",
       "0                                   Lost, Season 1               Lost  \n",
       "1                                        Unplugged       Eric Clapton  \n",
       "2                        Milton Nascimento Ao Vivo  Milton Nascimento  \n",
       "3                             The Office, Season 3         The Office  \n",
       "4  Lulu Santos - RCA 100 Anos De Música - Álbum 02        Lulu Santos  "
      ]
     },
     "execution_count": 55,
     "metadata": {},
     "output_type": "execute_result"
    }
   ],
   "source": [
    "itunes_df_copy = itunes_df.copy()  # make a backup for testing dropping a column\n",
    "itunes_df_copy['UnitPrice'].fillna(itunes_df_copy['UnitPrice'].mode(), inplace=True)\n",
    "itunes_df_copy.head()"
   ]
  },
  {
   "cell_type": "code",
   "execution_count": 56,
   "metadata": {},
   "outputs": [
    {
     "data": {
      "image/png": "[encoded data removed]",
      "text/plain": [
       "<Figure size 396x396 with 1 Axes>"
      ]
     },
     "metadata": {
      "needs_background": "light"
     },
     "output_type": "display_data"
    }
   ],
   "source": [
    "# create distributions for plotting\n",
    "from scipy.stats import skewnorm\n",
    "df = pd.DataFrame({'normal': skewnorm.rvs(0, size=10000), 'skewed': skewnorm.rvs(10, size=10000)})\n",
    "\n",
    "df.plot.hist(bins=30, alpha=0.5, figsize=(5.5, 5.5))\n",
    "plt.vlines(df['skewed'].mean(), ymin=0, ymax=2000, label='mean', color='r')\n",
    "plt.vlines(df['skewed'].median(), ymin=0, ymax=2000, label='median', color='b')\n",
    "f.patch.set_facecolor('w')  # sets background color behind axis labels\n",
    "plt.tight_layout()  # auto-adjust margins\n",
    "plt.savefig('B17030_04_09.png', dpi=300)"
   ]
  },
  {
   "cell_type": "markdown",
   "metadata": {},
   "source": [
    "#### KNN imputation"
   ]
  },
  {
   "cell_type": "code",
   "execution_count": 57,
   "metadata": {},
   "outputs": [],
   "source": [
    "import numpy as np\n",
    "itunes_df_copy = itunes_df.copy()  # create copy of the dataframe so we don't alter the original\n",
    "itunes_df_copy.loc[0, 'Bytes'] = np.nan"
   ]
  },
  {
   "cell_type": "code",
   "execution_count": 58,
   "metadata": {},
   "outputs": [],
   "source": [
    "from sklearn.impute import KNNImputer\n",
    "imputer = KNNImputer()\n",
    "imputed = imputer.fit_transform(itunes_df_copy[['Milliseconds', 'Bytes', 'UnitPrice']])"
   ]
  },
  {
   "cell_type": "code",
   "execution_count": 59,
   "metadata": {},
   "outputs": [
    {
     "data": {
      "text/plain": [
       "0    211743651\n",
       "0      6022698\n",
       "0     11170334\n",
       "Name: Bytes, dtype: int64"
      ]
     },
     "execution_count": 59,
     "metadata": {},
     "output_type": "execute_result"
    }
   ],
   "source": [
    "# there are multiple values with the index value of 0, which is why we get multiple results\n",
    "itunes_df.loc[0, 'Bytes']"
   ]
  },
  {
   "cell_type": "code",
   "execution_count": 60,
   "metadata": {},
   "outputs": [],
   "source": [
    "itunes_df_copy['Bytes'] = imputed[:, 1]"
   ]
  },
  {
   "cell_type": "code",
   "execution_count": 61,
   "metadata": {},
   "outputs": [
    {
     "data": {
      "text/plain": [
       "0    381737603.6\n",
       "0      5454572.2\n",
       "0     11232851.2\n",
       "Name: Bytes, dtype: float64"
      ]
     },
     "execution_count": 61,
     "metadata": {},
     "output_type": "execute_result"
    }
   ],
   "source": [
    "itunes_df_copy.loc[0, 'Bytes']"
   ]
  },
  {
   "cell_type": "code",
   "execution_count": 62,
   "metadata": {},
   "outputs": [
    {
     "data": {
      "text/plain": [
       "33110484.730912708"
      ]
     },
     "execution_count": 62,
     "metadata": {},
     "output_type": "execute_result"
    }
   ],
   "source": [
    "itunes_df['Bytes'].mean()"
   ]
  },
  {
   "cell_type": "code",
   "execution_count": 63,
   "metadata": {},
   "outputs": [],
   "source": [
    "# adapted from this SO answer: https://stackoverflow.com/a/46740476/4549682\n",
    "def remove_outliers(df, column):\n",
    "    q1 = df[column].quantile(0.25)\n",
    "    q3 = df[column].quantile(0.75)\n",
    "    iqr = q3 - q1\n",
    "    upper_boundary = q3 + 1.5 * iqr\n",
    "    lower_boundary = q1 - 1.5 * iqr\n",
    "    new_df = df.loc[(df[column] > lower_boundary) & (df[column] < upper_boundary)]\n",
    "    return new_df"
   ]
  },
  {
   "cell_type": "code",
   "execution_count": 64,
   "metadata": {},
   "outputs": [],
   "source": [
    "itunes_df_clean = remove_outliers(itunes_df, 'Milliseconds')"
   ]
  },
  {
   "cell_type": "code",
   "execution_count": 65,
   "metadata": {},
   "outputs": [
    {
     "data": {
      "text/plain": [
       "(3614, 8)"
      ]
     },
     "execution_count": 65,
     "metadata": {},
     "output_type": "execute_result"
    }
   ],
   "source": [
    "itunes_df_clean.shape"
   ]
  },
  {
   "cell_type": "code",
   "execution_count": 66,
   "metadata": {},
   "outputs": [
    {
     "data": {
      "text/plain": [
       "(4021, 8)"
      ]
     },
     "execution_count": 66,
     "metadata": {},
     "output_type": "execute_result"
    }
   ],
   "source": [
    "itunes_df.shape"
   ]
  },
  {
   "cell_type": "markdown",
   "metadata": {},
   "source": [
    "### Duplicate values"
   ]
  },
  {
   "cell_type": "code",
   "execution_count": 67,
   "metadata": {},
   "outputs": [
    {
     "data": {
      "text/plain": [
       "518"
      ]
     },
     "execution_count": 67,
     "metadata": {},
     "output_type": "execute_result"
    }
   ],
   "source": [
    "itunes_df.duplicated().sum()"
   ]
  },
  {
   "cell_type": "code",
   "execution_count": 68,
   "metadata": {},
   "outputs": [],
   "source": [
    "itunes_df.drop_duplicates(inplace=True)"
   ]
  },
  {
   "cell_type": "markdown",
   "metadata": {},
   "source": [
    "## Data Transformations"
   ]
  },
  {
   "cell_type": "code",
   "execution_count": 69,
   "metadata": {},
   "outputs": [],
   "source": [
    "itunes_df['Seconds'] = itunes_df['Milliseconds'] / 1000"
   ]
  },
  {
   "cell_type": "code",
   "execution_count": 70,
   "metadata": {},
   "outputs": [],
   "source": [
    "itunes_df['len_byte_ratio'] = itunes_df['Milliseconds'] / itunes_df['Bytes']"
   ]
  },
  {
   "cell_type": "markdown",
   "metadata": {},
   "source": [
    "### Apply and Map"
   ]
  },
  {
   "cell_type": "code",
   "execution_count": 71,
   "metadata": {},
   "outputs": [
    {
     "data": {
      "text/plain": [
       "0         TV Shows\n",
       "1            Latin\n",
       "2            Latin\n",
       "3           Comedy\n",
       "4            Latin\n",
       "           ...    \n",
       "3496     Classical\n",
       "3499     Classical\n",
       "3500     Classical\n",
       "3501     Classical\n",
       "3502    Soundtrack\n",
       "Name: Genre, Length: 3503, dtype: object"
      ]
     },
     "execution_count": 71,
     "metadata": {},
     "output_type": "execute_result"
    }
   ],
   "source": [
    "genre_dict = {'metal': 'Metal', 'met': 'Metal'}\n",
    "itunes_df['Genre'].replace(genre_dict)"
   ]
  },
  {
   "cell_type": "code",
   "execution_count": 72,
   "metadata": {},
   "outputs": [
    {
     "data": {
      "text/plain": [
       "0         tv shows\n",
       "1            latin\n",
       "2            latin\n",
       "3           comedy\n",
       "4            latin\n",
       "           ...    \n",
       "3496     classical\n",
       "3499     classical\n",
       "3500     classical\n",
       "3501     classical\n",
       "3502    soundtrack\n",
       "Name: Genre, Length: 3503, dtype: object"
      ]
     },
     "execution_count": 72,
     "metadata": {},
     "output_type": "execute_result"
    }
   ],
   "source": [
    "itunes_df['Genre'].apply(lambda x: x.lower())"
   ]
  },
  {
   "cell_type": "code",
   "execution_count": 73,
   "metadata": {},
   "outputs": [
    {
     "data": {
      "text/plain": [
       "0         tv shows\n",
       "1            latin\n",
       "2            latin\n",
       "3           comedy\n",
       "4            latin\n",
       "           ...    \n",
       "3496     classical\n",
       "3499     classical\n",
       "3500     classical\n",
       "3501     classical\n",
       "3502    soundtrack\n",
       "Name: Genre, Length: 3503, dtype: object"
      ]
     },
     "execution_count": 73,
     "metadata": {},
     "output_type": "execute_result"
    }
   ],
   "source": [
    "# the above is the same as this\n",
    "def lowercase(x):\n",
    "    return x.lower()\n",
    "\n",
    "itunes_df['Genre'].apply(lowercase)"
   ]
  },
  {
   "cell_type": "code",
   "execution_count": 74,
   "metadata": {},
   "outputs": [
    {
     "data": {
      "text/plain": [
       "0         tv shows\n",
       "1            latin\n",
       "2            latin\n",
       "3           comedy\n",
       "4            latin\n",
       "           ...    \n",
       "3496     classical\n",
       "3499     classical\n",
       "3500     classical\n",
       "3501     classical\n",
       "3502    soundtrack\n",
       "Name: Genre, Length: 3503, dtype: object"
      ]
     },
     "execution_count": 74,
     "metadata": {},
     "output_type": "execute_result"
    }
   ],
   "source": [
    "# but using built-in functions is almost always faster\n",
    "itunes_df['Genre'].str.lower()"
   ]
  },
  {
   "cell_type": "markdown",
   "metadata": {},
   "source": [
    "Here would be an exception to the rule for using apply -- we want to get a hybrid score of the polarity and subjectivty of text:"
   ]
  },
  {
   "cell_type": "code",
   "execution_count": 75,
   "metadata": {},
   "outputs": [
    {
     "data": {
      "text/plain": [
       "Sentiment(polarity=0.39166666666666666, subjectivity=0.4357142857142857)"
      ]
     },
     "execution_count": 75,
     "metadata": {},
     "output_type": "execute_result"
    }
   ],
   "source": [
    "# this is a common sentiment analysis library; polarity is positive/negative sentiment,\n",
    "# subjectivety is subjective/objective rating.\n",
    "from textblob import TextBlob\n",
    "test = TextBlob(\"Textblob is amazingly simple to use. What great fun!\")\n",
    "test.sentiment"
   ]
  },
  {
   "cell_type": "code",
   "execution_count": 76,
   "metadata": {},
   "outputs": [
    {
     "data": {
      "text/plain": [
       "0.39166666666666666"
      ]
     },
     "execution_count": 76,
     "metadata": {},
     "output_type": "execute_result"
    }
   ],
   "source": [
    "test.sentiment.polarity"
   ]
  },
  {
   "cell_type": "code",
   "execution_count": 77,
   "metadata": {},
   "outputs": [],
   "source": [
    "# it would be better than apply to use a list comprehension to get sentiment of track names, like this\n",
    "itunes_df['Track_sentiment'] = [TextBlob(x).sentiment.polarity for x in itunes_df['Track']]"
   ]
  },
  {
   "cell_type": "code",
   "execution_count": 78,
   "metadata": {},
   "outputs": [],
   "source": [
    "# but, if we wanted to mix polarity and subjectivity into one column, it would be best to use apply:\n",
    "def pol_sub_mix(x):\n",
    "    tb = TextBlob(x)\n",
    "    return tb.polarity * tb.subjectivity\n",
    "\n",
    "itunes_df['Track_pol_sub_mix'] = itunes_df['Track'].apply(pol_sub_mix)"
   ]
  },
  {
   "cell_type": "code",
   "execution_count": 79,
   "metadata": {},
   "outputs": [],
   "source": [
    "# delete these columns\n",
    "itunes_df.drop(['Track_pol_sub_mix', 'Track_sentiment'], inplace=True, axis=1)"
   ]
  },
  {
   "cell_type": "code",
   "execution_count": 80,
   "metadata": {},
   "outputs": [],
   "source": [
    "# currently doesn't work with python 3.9\n",
    "# import swifter\n",
    "# itunes_df['Genre'].swifter.apply(lambda x: x.lower())"
   ]
  },
  {
   "cell_type": "markdown",
   "metadata": {},
   "source": [
    "### Group By"
   ]
  },
  {
   "cell_type": "code",
   "execution_count": 81,
   "metadata": {},
   "outputs": [
    {
     "data": {
      "text/plain": [
       "Genre\n",
       "Rock And Roll     134.643500\n",
       "Opera             174.813000\n",
       "Hip Hop/Rap       178.176286\n",
       "Easy Listening    189.164208\n",
       "Bossa Nova        219.590000\n",
       "Name: Seconds, dtype: float64"
      ]
     },
     "execution_count": 81,
     "metadata": {},
     "output_type": "execute_result"
    }
   ],
   "source": [
    "itunes_df.groupby('Genre').mean()['Seconds'].sort_values().head()"
   ]
  },
  {
   "cell_type": "markdown",
   "metadata": {},
   "source": [
    "### Saving data"
   ]
  },
  {
   "cell_type": "code",
   "execution_count": 82,
   "metadata": {},
   "outputs": [],
   "source": [
    "itunes_df.to_csv('data/cleaned_itunes_data.csv', index=False)"
   ]
  },
  {
   "cell_type": "markdown",
   "metadata": {},
   "source": [
    "# Bitcoin data analysis"
   ]
  },
  {
   "cell_type": "code",
   "execution_count": 83,
   "metadata": {},
   "outputs": [
    {
     "data": {
      "text/html": [
       "<div>\n",
       "<style scoped>\n",
       "    .dataframe tbody tr th:only-of-type {\n",
       "        vertical-align: middle;\n",
       "    }\n",
       "\n",
       "    .dataframe tbody tr th {\n",
       "        vertical-align: top;\n",
       "    }\n",
       "\n",
       "    .dataframe thead th {\n",
       "        text-align: right;\n",
       "    }\n",
       "</style>\n",
       "<table border=\"1\" class=\"dataframe\">\n",
       "  <thead>\n",
       "    <tr style=\"text-align: right;\">\n",
       "      <th></th>\n",
       "      <th>symbol</th>\n",
       "      <th>time</th>\n",
       "      <th>open</th>\n",
       "      <th>close</th>\n",
       "      <th>high</th>\n",
       "      <th>low</th>\n",
       "      <th>volume</th>\n",
       "    </tr>\n",
       "  </thead>\n",
       "  <tbody>\n",
       "    <tr>\n",
       "      <th>0</th>\n",
       "      <td>btcusd</td>\n",
       "      <td>1364688000000</td>\n",
       "      <td>92.500000</td>\n",
       "      <td>93.033000</td>\n",
       "      <td>93.74999</td>\n",
       "      <td>91.00000</td>\n",
       "      <td>3083.079791</td>\n",
       "    </tr>\n",
       "    <tr>\n",
       "      <th>1</th>\n",
       "      <td>btcusd</td>\n",
       "      <td>1364774400000</td>\n",
       "      <td>93.250000</td>\n",
       "      <td>103.999000</td>\n",
       "      <td>105.90000</td>\n",
       "      <td>92.49999</td>\n",
       "      <td>5224.401313</td>\n",
       "    </tr>\n",
       "    <tr>\n",
       "      <th>2</th>\n",
       "      <td>btcusd</td>\n",
       "      <td>1364860800000</td>\n",
       "      <td>104.000000</td>\n",
       "      <td>118.229354</td>\n",
       "      <td>118.38670</td>\n",
       "      <td>99.00000</td>\n",
       "      <td>8376.527478</td>\n",
       "    </tr>\n",
       "    <tr>\n",
       "      <th>3</th>\n",
       "      <td>btcusd</td>\n",
       "      <td>1364947200000</td>\n",
       "      <td>117.958261</td>\n",
       "      <td>134.700000</td>\n",
       "      <td>146.88000</td>\n",
       "      <td>101.51088</td>\n",
       "      <td>12996.245072</td>\n",
       "    </tr>\n",
       "    <tr>\n",
       "      <th>4</th>\n",
       "      <td>btcusd</td>\n",
       "      <td>1365033600000</td>\n",
       "      <td>134.716560</td>\n",
       "      <td>132.899000</td>\n",
       "      <td>143.00000</td>\n",
       "      <td>119.00000</td>\n",
       "      <td>6981.668305</td>\n",
       "    </tr>\n",
       "  </tbody>\n",
       "</table>\n",
       "</div>"
      ],
      "text/plain": [
       "   symbol           time        open       close       high        low  \\\n",
       "0  btcusd  1364688000000   92.500000   93.033000   93.74999   91.00000   \n",
       "1  btcusd  1364774400000   93.250000  103.999000  105.90000   92.49999   \n",
       "2  btcusd  1364860800000  104.000000  118.229354  118.38670   99.00000   \n",
       "3  btcusd  1364947200000  117.958261  134.700000  146.88000  101.51088   \n",
       "4  btcusd  1365033600000  134.716560  132.899000  143.00000  119.00000   \n",
       "\n",
       "         volume  \n",
       "0   3083.079791  \n",
       "1   5224.401313  \n",
       "2   8376.527478  \n",
       "3  12996.245072  \n",
       "4   6981.668305  "
      ]
     },
     "execution_count": 83,
     "metadata": {},
     "output_type": "execute_result"
    }
   ],
   "source": [
    "btc_df = pd.read_csv('data/bitcoin_price.csv')\n",
    "btc_df.head()"
   ]
  },
  {
   "cell_type": "code",
   "execution_count": 84,
   "metadata": {},
   "outputs": [
    {
     "data": {
      "text/plain": [
       "array(['btcusd'], dtype=object)"
      ]
     },
     "execution_count": 84,
     "metadata": {},
     "output_type": "execute_result"
    }
   ],
   "source": [
    "btc_df['symbol'].unique()"
   ]
  },
  {
   "cell_type": "code",
   "execution_count": 85,
   "metadata": {},
   "outputs": [],
   "source": [
    "btc_df.drop('symbol', axis=1, inplace=True)"
   ]
  },
  {
   "cell_type": "code",
   "execution_count": 86,
   "metadata": {},
   "outputs": [],
   "source": [
    "btc_df['time'] = pd.to_datetime(btc_df['time'], unit='ms')"
   ]
  },
  {
   "cell_type": "code",
   "execution_count": 87,
   "metadata": {},
   "outputs": [
    {
     "data": {
      "text/plain": [
       "dtype('<M8[ns]')"
      ]
     },
     "execution_count": 87,
     "metadata": {},
     "output_type": "execute_result"
    }
   ],
   "source": [
    "btc_df['time'].dtype"
   ]
  },
  {
   "cell_type": "code",
   "execution_count": 88,
   "metadata": {},
   "outputs": [
    {
     "name": "stdout",
     "output_type": "stream",
     "text": [
      "<class 'pandas.core.frame.DataFrame'>\n",
      "RangeIndex: 2793 entries, 0 to 2792\n",
      "Data columns (total 6 columns):\n",
      " #   Column  Non-Null Count  Dtype         \n",
      "---  ------  --------------  -----         \n",
      " 0   time    2793 non-null   datetime64[ns]\n",
      " 1   open    2793 non-null   float64       \n",
      " 2   close   2793 non-null   float64       \n",
      " 3   high    2793 non-null   float64       \n",
      " 4   low     2793 non-null   float64       \n",
      " 5   volume  2793 non-null   float64       \n",
      "dtypes: datetime64[ns](1), float64(5)\n",
      "memory usage: 131.0 KB\n"
     ]
    }
   ],
   "source": [
    "btc_df.info()"
   ]
  },
  {
   "cell_type": "code",
   "execution_count": 89,
   "metadata": {},
   "outputs": [],
   "source": [
    "btc_df.set_index('time', inplace=True)"
   ]
  },
  {
   "cell_type": "code",
   "execution_count": 90,
   "metadata": {},
   "outputs": [
    {
     "data": {
      "text/html": [
       "<div>\n",
       "<style scoped>\n",
       "    .dataframe tbody tr th:only-of-type {\n",
       "        vertical-align: middle;\n",
       "    }\n",
       "\n",
       "    .dataframe tbody tr th {\n",
       "        vertical-align: top;\n",
       "    }\n",
       "\n",
       "    .dataframe thead th {\n",
       "        text-align: right;\n",
       "    }\n",
       "</style>\n",
       "<table border=\"1\" class=\"dataframe\">\n",
       "  <thead>\n",
       "    <tr style=\"text-align: right;\">\n",
       "      <th></th>\n",
       "      <th>open</th>\n",
       "      <th>close</th>\n",
       "      <th>high</th>\n",
       "      <th>low</th>\n",
       "      <th>volume</th>\n",
       "    </tr>\n",
       "    <tr>\n",
       "      <th>time</th>\n",
       "      <th></th>\n",
       "      <th></th>\n",
       "      <th></th>\n",
       "      <th></th>\n",
       "      <th></th>\n",
       "    </tr>\n",
       "  </thead>\n",
       "  <tbody>\n",
       "    <tr>\n",
       "      <th>2013-03-31</th>\n",
       "      <td>92.500000</td>\n",
       "      <td>93.033000</td>\n",
       "      <td>93.74999</td>\n",
       "      <td>91.00000</td>\n",
       "      <td>3083.079791</td>\n",
       "    </tr>\n",
       "    <tr>\n",
       "      <th>2013-04-01</th>\n",
       "      <td>93.250000</td>\n",
       "      <td>103.999000</td>\n",
       "      <td>105.90000</td>\n",
       "      <td>92.49999</td>\n",
       "      <td>5224.401313</td>\n",
       "    </tr>\n",
       "    <tr>\n",
       "      <th>2013-04-02</th>\n",
       "      <td>104.000000</td>\n",
       "      <td>118.229354</td>\n",
       "      <td>118.38670</td>\n",
       "      <td>99.00000</td>\n",
       "      <td>8376.527478</td>\n",
       "    </tr>\n",
       "    <tr>\n",
       "      <th>2013-04-03</th>\n",
       "      <td>117.958261</td>\n",
       "      <td>134.700000</td>\n",
       "      <td>146.88000</td>\n",
       "      <td>101.51088</td>\n",
       "      <td>12996.245072</td>\n",
       "    </tr>\n",
       "    <tr>\n",
       "      <th>2013-04-04</th>\n",
       "      <td>134.716560</td>\n",
       "      <td>132.899000</td>\n",
       "      <td>143.00000</td>\n",
       "      <td>119.00000</td>\n",
       "      <td>6981.668305</td>\n",
       "    </tr>\n",
       "  </tbody>\n",
       "</table>\n",
       "</div>"
      ],
      "text/plain": [
       "                  open       close       high        low        volume\n",
       "time                                                                  \n",
       "2013-03-31   92.500000   93.033000   93.74999   91.00000   3083.079791\n",
       "2013-04-01   93.250000  103.999000  105.90000   92.49999   5224.401313\n",
       "2013-04-02  104.000000  118.229354  118.38670   99.00000   8376.527478\n",
       "2013-04-03  117.958261  134.700000  146.88000  101.51088  12996.245072\n",
       "2013-04-04  134.716560  132.899000  143.00000  119.00000   6981.668305"
      ]
     },
     "execution_count": 90,
     "metadata": {},
     "output_type": "execute_result"
    }
   ],
   "source": [
    "btc_df.head()"
   ]
  },
  {
   "cell_type": "code",
   "execution_count": 91,
   "metadata": {},
   "outputs": [
    {
     "data": {
      "text/plain": [
       "<AxesSubplot:xlabel='time'>"
      ]
     },
     "execution_count": 91,
     "metadata": {},
     "output_type": "execute_result"
    },
    {
     "data": {
      "image/png": "[encoded data removed]",
      "text/plain": [
       "<Figure size 432x288 with 1 Axes>"
      ]
     },
     "metadata": {
      "needs_background": "light"
     },
     "output_type": "display_data"
    }
   ],
   "source": [
    "btc_df[['close']].plot(logy=True)"
   ]
  },
  {
   "cell_type": "code",
   "execution_count": 92,
   "metadata": {},
   "outputs": [
    {
     "data": {
      "text/plain": [
       "<Figure size 396x396 with 0 Axes>"
      ]
     },
     "metadata": {},
     "output_type": "display_data"
    },
    {
     "data": {
      "image/png": "[encoded data removed]",
      "text/plain": [
       "<Figure size 396x396 with 1 Axes>"
      ]
     },
     "metadata": {
      "needs_background": "light"
     },
     "output_type": "display_data"
    }
   ],
   "source": [
    "f = plt.figure(figsize=(5.5, 5.5))\n",
    "btc_df.iloc[-3000:][['close']].plot(logy=True, figsize=(5.5, 5.5))\n",
    "f.patch.set_facecolor('w')  # sets background color behind axis labels\n",
    "plt.tight_layout()  # auto-adjust margins\n",
    "plt.savefig('B17030_04_11.png', dpi=300)"
   ]
  },
  {
   "cell_type": "markdown",
   "metadata": {},
   "source": [
    "We could load a datetime as a pandas timestamp like so. Unfortunately, this trick doesn't work with seconds since the epoch, but does work with other datetime formats. For seconds since the epoch, we can provide a conversion function to the argument `date_parser` in `read_csv`, or convert it with `to_datetime` after loading."
   ]
  },
  {
   "cell_type": "code",
   "execution_count": 93,
   "metadata": {},
   "outputs": [
    {
     "data": {
      "text/html": [
       "<div>\n",
       "<style scoped>\n",
       "    .dataframe tbody tr th:only-of-type {\n",
       "        vertical-align: middle;\n",
       "    }\n",
       "\n",
       "    .dataframe tbody tr th {\n",
       "        vertical-align: top;\n",
       "    }\n",
       "\n",
       "    .dataframe thead th {\n",
       "        text-align: right;\n",
       "    }\n",
       "</style>\n",
       "<table border=\"1\" class=\"dataframe\">\n",
       "  <thead>\n",
       "    <tr style=\"text-align: right;\">\n",
       "      <th></th>\n",
       "      <th>symbol</th>\n",
       "      <th>open</th>\n",
       "      <th>close</th>\n",
       "      <th>high</th>\n",
       "      <th>low</th>\n",
       "      <th>volume</th>\n",
       "    </tr>\n",
       "    <tr>\n",
       "      <th>time</th>\n",
       "      <th></th>\n",
       "      <th></th>\n",
       "      <th></th>\n",
       "      <th></th>\n",
       "      <th></th>\n",
       "      <th></th>\n",
       "    </tr>\n",
       "  </thead>\n",
       "  <tbody>\n",
       "    <tr>\n",
       "      <th>1364688000000</th>\n",
       "      <td>btcusd</td>\n",
       "      <td>92.500000</td>\n",
       "      <td>93.033000</td>\n",
       "      <td>93.74999</td>\n",
       "      <td>91.00000</td>\n",
       "      <td>3083.079791</td>\n",
       "    </tr>\n",
       "    <tr>\n",
       "      <th>1364774400000</th>\n",
       "      <td>btcusd</td>\n",
       "      <td>93.250000</td>\n",
       "      <td>103.999000</td>\n",
       "      <td>105.90000</td>\n",
       "      <td>92.49999</td>\n",
       "      <td>5224.401313</td>\n",
       "    </tr>\n",
       "    <tr>\n",
       "      <th>1364860800000</th>\n",
       "      <td>btcusd</td>\n",
       "      <td>104.000000</td>\n",
       "      <td>118.229354</td>\n",
       "      <td>118.38670</td>\n",
       "      <td>99.00000</td>\n",
       "      <td>8376.527478</td>\n",
       "    </tr>\n",
       "    <tr>\n",
       "      <th>1364947200000</th>\n",
       "      <td>btcusd</td>\n",
       "      <td>117.958261</td>\n",
       "      <td>134.700000</td>\n",
       "      <td>146.88000</td>\n",
       "      <td>101.51088</td>\n",
       "      <td>12996.245072</td>\n",
       "    </tr>\n",
       "    <tr>\n",
       "      <th>1365033600000</th>\n",
       "      <td>btcusd</td>\n",
       "      <td>134.716560</td>\n",
       "      <td>132.899000</td>\n",
       "      <td>143.00000</td>\n",
       "      <td>119.00000</td>\n",
       "      <td>6981.668305</td>\n",
       "    </tr>\n",
       "  </tbody>\n",
       "</table>\n",
       "</div>"
      ],
      "text/plain": [
       "               symbol        open       close       high        low  \\\n",
       "time                                                                  \n",
       "1364688000000  btcusd   92.500000   93.033000   93.74999   91.00000   \n",
       "1364774400000  btcusd   93.250000  103.999000  105.90000   92.49999   \n",
       "1364860800000  btcusd  104.000000  118.229354  118.38670   99.00000   \n",
       "1364947200000  btcusd  117.958261  134.700000  146.88000  101.51088   \n",
       "1365033600000  btcusd  134.716560  132.899000  143.00000  119.00000   \n",
       "\n",
       "                     volume  \n",
       "time                         \n",
       "1364688000000   3083.079791  \n",
       "1364774400000   5224.401313  \n",
       "1364860800000   8376.527478  \n",
       "1364947200000  12996.245072  \n",
       "1365033600000   6981.668305  "
      ]
     },
     "execution_count": 93,
     "metadata": {},
     "output_type": "execute_result"
    }
   ],
   "source": [
    "btc_df2 = pd.read_csv('data/bitcoin_price.csv', index_col='time', parse_dates=['time'], infer_datetime_format=True)\n",
    "btc_df2.head()"
   ]
  },
  {
   "cell_type": "code",
   "execution_count": 94,
   "metadata": {},
   "outputs": [
    {
     "data": {
      "text/html": [
       "<div>\n",
       "<style scoped>\n",
       "    .dataframe tbody tr th:only-of-type {\n",
       "        vertical-align: middle;\n",
       "    }\n",
       "\n",
       "    .dataframe tbody tr th {\n",
       "        vertical-align: top;\n",
       "    }\n",
       "\n",
       "    .dataframe thead th {\n",
       "        text-align: right;\n",
       "    }\n",
       "</style>\n",
       "<table border=\"1\" class=\"dataframe\">\n",
       "  <thead>\n",
       "    <tr style=\"text-align: right;\">\n",
       "      <th></th>\n",
       "      <th>symbol</th>\n",
       "      <th>open</th>\n",
       "      <th>close</th>\n",
       "      <th>high</th>\n",
       "      <th>low</th>\n",
       "      <th>volume</th>\n",
       "    </tr>\n",
       "    <tr>\n",
       "      <th>time</th>\n",
       "      <th></th>\n",
       "      <th></th>\n",
       "      <th></th>\n",
       "      <th></th>\n",
       "      <th></th>\n",
       "      <th></th>\n",
       "    </tr>\n",
       "  </thead>\n",
       "  <tbody>\n",
       "    <tr>\n",
       "      <th>2013-03-31</th>\n",
       "      <td>btcusd</td>\n",
       "      <td>92.500000</td>\n",
       "      <td>93.033000</td>\n",
       "      <td>93.74999</td>\n",
       "      <td>91.00000</td>\n",
       "      <td>3083.079791</td>\n",
       "    </tr>\n",
       "    <tr>\n",
       "      <th>2013-04-01</th>\n",
       "      <td>btcusd</td>\n",
       "      <td>93.250000</td>\n",
       "      <td>103.999000</td>\n",
       "      <td>105.90000</td>\n",
       "      <td>92.49999</td>\n",
       "      <td>5224.401313</td>\n",
       "    </tr>\n",
       "    <tr>\n",
       "      <th>2013-04-02</th>\n",
       "      <td>btcusd</td>\n",
       "      <td>104.000000</td>\n",
       "      <td>118.229354</td>\n",
       "      <td>118.38670</td>\n",
       "      <td>99.00000</td>\n",
       "      <td>8376.527478</td>\n",
       "    </tr>\n",
       "    <tr>\n",
       "      <th>2013-04-03</th>\n",
       "      <td>btcusd</td>\n",
       "      <td>117.958261</td>\n",
       "      <td>134.700000</td>\n",
       "      <td>146.88000</td>\n",
       "      <td>101.51088</td>\n",
       "      <td>12996.245072</td>\n",
       "    </tr>\n",
       "    <tr>\n",
       "      <th>2013-04-04</th>\n",
       "      <td>btcusd</td>\n",
       "      <td>134.716560</td>\n",
       "      <td>132.899000</td>\n",
       "      <td>143.00000</td>\n",
       "      <td>119.00000</td>\n",
       "      <td>6981.668305</td>\n",
       "    </tr>\n",
       "  </tbody>\n",
       "</table>\n",
       "</div>"
      ],
      "text/plain": [
       "            symbol        open       close       high        low        volume\n",
       "time                                                                          \n",
       "2013-03-31  btcusd   92.500000   93.033000   93.74999   91.00000   3083.079791\n",
       "2013-04-01  btcusd   93.250000  103.999000  105.90000   92.49999   5224.401313\n",
       "2013-04-02  btcusd  104.000000  118.229354  118.38670   99.00000   8376.527478\n",
       "2013-04-03  btcusd  117.958261  134.700000  146.88000  101.51088  12996.245072\n",
       "2013-04-04  btcusd  134.716560  132.899000  143.00000  119.00000   6981.668305"
      ]
     },
     "execution_count": 94,
     "metadata": {},
     "output_type": "execute_result"
    }
   ],
   "source": [
    "date_parser = lambda x: pd.to_datetime(x, unit='ms')\n",
    "btc_df2 = pd.read_csv('data/bitcoin_price.csv', index_col='time', parse_dates=['time'], date_parser=date_parser)\n",
    "btc_df2.head()"
   ]
  },
  {
   "cell_type": "code",
   "execution_count": 95,
   "metadata": {},
   "outputs": [
    {
     "data": {
      "text/html": [
       "<div>\n",
       "<style scoped>\n",
       "    .dataframe tbody tr th:only-of-type {\n",
       "        vertical-align: middle;\n",
       "    }\n",
       "\n",
       "    .dataframe tbody tr th {\n",
       "        vertical-align: top;\n",
       "    }\n",
       "\n",
       "    .dataframe thead th {\n",
       "        text-align: right;\n",
       "    }\n",
       "</style>\n",
       "<table border=\"1\" class=\"dataframe\">\n",
       "  <thead>\n",
       "    <tr style=\"text-align: right;\">\n",
       "      <th></th>\n",
       "      <th>open</th>\n",
       "      <th>close</th>\n",
       "      <th>high</th>\n",
       "      <th>low</th>\n",
       "      <th>volume</th>\n",
       "    </tr>\n",
       "    <tr>\n",
       "      <th>time</th>\n",
       "      <th></th>\n",
       "      <th></th>\n",
       "      <th></th>\n",
       "      <th></th>\n",
       "      <th></th>\n",
       "    </tr>\n",
       "  </thead>\n",
       "  <tbody>\n",
       "    <tr>\n",
       "      <th>2019-01-01</th>\n",
       "      <td>3832.628624</td>\n",
       "      <td>3963.1</td>\n",
       "      <td>3987.000000</td>\n",
       "      <td>3788.100000</td>\n",
       "      <td>13848.346752</td>\n",
       "    </tr>\n",
       "    <tr>\n",
       "      <th>2019-01-02</th>\n",
       "      <td>3963.000000</td>\n",
       "      <td>4048.8</td>\n",
       "      <td>4083.470676</td>\n",
       "      <td>3917.900000</td>\n",
       "      <td>19437.727989</td>\n",
       "    </tr>\n",
       "    <tr>\n",
       "      <th>2019-01-03</th>\n",
       "      <td>4049.000000</td>\n",
       "      <td>3924.3</td>\n",
       "      <td>4056.644331</td>\n",
       "      <td>3875.100000</td>\n",
       "      <td>10748.083712</td>\n",
       "    </tr>\n",
       "    <tr>\n",
       "      <th>2019-01-04</th>\n",
       "      <td>3923.200000</td>\n",
       "      <td>3954.9</td>\n",
       "      <td>3986.000000</td>\n",
       "      <td>3850.100000</td>\n",
       "      <td>13228.660465</td>\n",
       "    </tr>\n",
       "    <tr>\n",
       "      <th>2019-01-05</th>\n",
       "      <td>3954.900000</td>\n",
       "      <td>3911.9</td>\n",
       "      <td>4014.900000</td>\n",
       "      <td>3901.000000</td>\n",
       "      <td>14873.962225</td>\n",
       "    </tr>\n",
       "    <tr>\n",
       "      <th>...</th>\n",
       "      <td>...</td>\n",
       "      <td>...</td>\n",
       "      <td>...</td>\n",
       "      <td>...</td>\n",
       "      <td>...</td>\n",
       "    </tr>\n",
       "    <tr>\n",
       "      <th>2019-12-27</th>\n",
       "      <td>7231.600000</td>\n",
       "      <td>7287.0</td>\n",
       "      <td>7300.000000</td>\n",
       "      <td>7113.300000</td>\n",
       "      <td>3996.647227</td>\n",
       "    </tr>\n",
       "    <tr>\n",
       "      <th>2019-12-28</th>\n",
       "      <td>7287.000000</td>\n",
       "      <td>7334.4</td>\n",
       "      <td>7390.000000</td>\n",
       "      <td>7279.200000</td>\n",
       "      <td>2731.060711</td>\n",
       "    </tr>\n",
       "    <tr>\n",
       "      <th>2019-12-29</th>\n",
       "      <td>7334.400000</td>\n",
       "      <td>7413.6</td>\n",
       "      <td>7551.600000</td>\n",
       "      <td>7311.600000</td>\n",
       "      <td>2494.487206</td>\n",
       "    </tr>\n",
       "    <tr>\n",
       "      <th>2019-12-30</th>\n",
       "      <td>7416.100000</td>\n",
       "      <td>7260.9</td>\n",
       "      <td>7421.700000</td>\n",
       "      <td>7201.290265</td>\n",
       "      <td>4088.958159</td>\n",
       "    </tr>\n",
       "    <tr>\n",
       "      <th>2019-12-31</th>\n",
       "      <td>7260.900000</td>\n",
       "      <td>7208.3</td>\n",
       "      <td>7333.000000</td>\n",
       "      <td>7161.300000</td>\n",
       "      <td>2992.686133</td>\n",
       "    </tr>\n",
       "  </tbody>\n",
       "</table>\n",
       "<p>365 rows × 5 columns</p>\n",
       "</div>"
      ],
      "text/plain": [
       "                   open   close         high          low        volume\n",
       "time                                                                   \n",
       "2019-01-01  3832.628624  3963.1  3987.000000  3788.100000  13848.346752\n",
       "2019-01-02  3963.000000  4048.8  4083.470676  3917.900000  19437.727989\n",
       "2019-01-03  4049.000000  3924.3  4056.644331  3875.100000  10748.083712\n",
       "2019-01-04  3923.200000  3954.9  3986.000000  3850.100000  13228.660465\n",
       "2019-01-05  3954.900000  3911.9  4014.900000  3901.000000  14873.962225\n",
       "...                 ...     ...          ...          ...           ...\n",
       "2019-12-27  7231.600000  7287.0  7300.000000  7113.300000   3996.647227\n",
       "2019-12-28  7287.000000  7334.4  7390.000000  7279.200000   2731.060711\n",
       "2019-12-29  7334.400000  7413.6  7551.600000  7311.600000   2494.487206\n",
       "2019-12-30  7416.100000  7260.9  7421.700000  7201.290265   4088.958159\n",
       "2019-12-31  7260.900000  7208.3  7333.000000  7161.300000   2992.686133\n",
       "\n",
       "[365 rows x 5 columns]"
      ]
     },
     "execution_count": 95,
     "metadata": {},
     "output_type": "execute_result"
    }
   ],
   "source": [
    "btc_df.loc['1-1-2019':'12-31-2019']"
   ]
  },
  {
   "cell_type": "code",
   "execution_count": 96,
   "metadata": {},
   "outputs": [
    {
     "data": {
      "text/html": [
       "<div>\n",
       "<style scoped>\n",
       "    .dataframe tbody tr th:only-of-type {\n",
       "        vertical-align: middle;\n",
       "    }\n",
       "\n",
       "    .dataframe tbody tr th {\n",
       "        vertical-align: top;\n",
       "    }\n",
       "\n",
       "    .dataframe thead th {\n",
       "        text-align: right;\n",
       "    }\n",
       "</style>\n",
       "<table border=\"1\" class=\"dataframe\">\n",
       "  <thead>\n",
       "    <tr style=\"text-align: right;\">\n",
       "      <th></th>\n",
       "      <th>open</th>\n",
       "      <th>close</th>\n",
       "      <th>high</th>\n",
       "      <th>low</th>\n",
       "      <th>volume</th>\n",
       "    </tr>\n",
       "    <tr>\n",
       "      <th>time</th>\n",
       "      <th></th>\n",
       "      <th></th>\n",
       "      <th></th>\n",
       "      <th></th>\n",
       "      <th></th>\n",
       "    </tr>\n",
       "  </thead>\n",
       "  <tbody>\n",
       "    <tr>\n",
       "      <th>2019-01-01</th>\n",
       "      <td>3832.628624</td>\n",
       "      <td>3963.1</td>\n",
       "      <td>3987.000000</td>\n",
       "      <td>3788.100000</td>\n",
       "      <td>13848.346752</td>\n",
       "    </tr>\n",
       "    <tr>\n",
       "      <th>2019-01-02</th>\n",
       "      <td>3963.000000</td>\n",
       "      <td>4048.8</td>\n",
       "      <td>4083.470676</td>\n",
       "      <td>3917.900000</td>\n",
       "      <td>19437.727989</td>\n",
       "    </tr>\n",
       "    <tr>\n",
       "      <th>2019-01-03</th>\n",
       "      <td>4049.000000</td>\n",
       "      <td>3924.3</td>\n",
       "      <td>4056.644331</td>\n",
       "      <td>3875.100000</td>\n",
       "      <td>10748.083712</td>\n",
       "    </tr>\n",
       "    <tr>\n",
       "      <th>2019-01-04</th>\n",
       "      <td>3923.200000</td>\n",
       "      <td>3954.9</td>\n",
       "      <td>3986.000000</td>\n",
       "      <td>3850.100000</td>\n",
       "      <td>13228.660465</td>\n",
       "    </tr>\n",
       "    <tr>\n",
       "      <th>2019-01-05</th>\n",
       "      <td>3954.900000</td>\n",
       "      <td>3911.9</td>\n",
       "      <td>4014.900000</td>\n",
       "      <td>3901.000000</td>\n",
       "      <td>14873.962225</td>\n",
       "    </tr>\n",
       "    <tr>\n",
       "      <th>...</th>\n",
       "      <td>...</td>\n",
       "      <td>...</td>\n",
       "      <td>...</td>\n",
       "      <td>...</td>\n",
       "      <td>...</td>\n",
       "    </tr>\n",
       "    <tr>\n",
       "      <th>2019-12-27</th>\n",
       "      <td>7231.600000</td>\n",
       "      <td>7287.0</td>\n",
       "      <td>7300.000000</td>\n",
       "      <td>7113.300000</td>\n",
       "      <td>3996.647227</td>\n",
       "    </tr>\n",
       "    <tr>\n",
       "      <th>2019-12-28</th>\n",
       "      <td>7287.000000</td>\n",
       "      <td>7334.4</td>\n",
       "      <td>7390.000000</td>\n",
       "      <td>7279.200000</td>\n",
       "      <td>2731.060711</td>\n",
       "    </tr>\n",
       "    <tr>\n",
       "      <th>2019-12-29</th>\n",
       "      <td>7334.400000</td>\n",
       "      <td>7413.6</td>\n",
       "      <td>7551.600000</td>\n",
       "      <td>7311.600000</td>\n",
       "      <td>2494.487206</td>\n",
       "    </tr>\n",
       "    <tr>\n",
       "      <th>2019-12-30</th>\n",
       "      <td>7416.100000</td>\n",
       "      <td>7260.9</td>\n",
       "      <td>7421.700000</td>\n",
       "      <td>7201.290265</td>\n",
       "      <td>4088.958159</td>\n",
       "    </tr>\n",
       "    <tr>\n",
       "      <th>2019-12-31</th>\n",
       "      <td>7260.900000</td>\n",
       "      <td>7208.3</td>\n",
       "      <td>7333.000000</td>\n",
       "      <td>7161.300000</td>\n",
       "      <td>2992.686133</td>\n",
       "    </tr>\n",
       "  </tbody>\n",
       "</table>\n",
       "<p>365 rows × 5 columns</p>\n",
       "</div>"
      ],
      "text/plain": [
       "                   open   close         high          low        volume\n",
       "time                                                                   \n",
       "2019-01-01  3832.628624  3963.1  3987.000000  3788.100000  13848.346752\n",
       "2019-01-02  3963.000000  4048.8  4083.470676  3917.900000  19437.727989\n",
       "2019-01-03  4049.000000  3924.3  4056.644331  3875.100000  10748.083712\n",
       "2019-01-04  3923.200000  3954.9  3986.000000  3850.100000  13228.660465\n",
       "2019-01-05  3954.900000  3911.9  4014.900000  3901.000000  14873.962225\n",
       "...                 ...     ...          ...          ...           ...\n",
       "2019-12-27  7231.600000  7287.0  7300.000000  7113.300000   3996.647227\n",
       "2019-12-28  7287.000000  7334.4  7390.000000  7279.200000   2731.060711\n",
       "2019-12-29  7334.400000  7413.6  7551.600000  7311.600000   2494.487206\n",
       "2019-12-30  7416.100000  7260.9  7421.700000  7201.290265   4088.958159\n",
       "2019-12-31  7260.900000  7208.3  7333.000000  7161.300000   2992.686133\n",
       "\n",
       "[365 rows x 5 columns]"
      ]
     },
     "execution_count": 96,
     "metadata": {},
     "output_type": "execute_result"
    }
   ],
   "source": [
    "btc_df.loc['2019']"
   ]
  },
  {
   "cell_type": "markdown",
   "metadata": {},
   "source": [
    "# NumPy"
   ]
  },
  {
   "cell_type": "code",
   "execution_count": 97,
   "metadata": {},
   "outputs": [],
   "source": [
    "close_array = btc_df['close'].values"
   ]
  },
  {
   "cell_type": "code",
   "execution_count": 98,
   "metadata": {},
   "outputs": [
    {
     "data": {
      "text/plain": [
       "array([   93.033     ,   103.999     ,   118.22935407, ...,\n",
       "       17211.69580098, 17171.        , 17686.840768  ])"
      ]
     },
     "execution_count": 98,
     "metadata": {},
     "output_type": "execute_result"
    }
   ],
   "source": [
    "close_array"
   ]
  },
  {
   "cell_type": "code",
   "execution_count": 99,
   "metadata": {},
   "outputs": [
    {
     "data": {
      "text/plain": [
       "(2793,)"
      ]
     },
     "execution_count": 99,
     "metadata": {},
     "output_type": "execute_result"
    }
   ],
   "source": [
    "close_array.shape"
   ]
  },
  {
   "cell_type": "code",
   "execution_count": 100,
   "metadata": {},
   "outputs": [
    {
     "data": {
      "text/plain": [
       "dtype('float64')"
      ]
     },
     "execution_count": 100,
     "metadata": {},
     "output_type": "execute_result"
    }
   ],
   "source": [
    "close_array.dtype"
   ]
  },
  {
   "cell_type": "code",
   "execution_count": 101,
   "metadata": {},
   "outputs": [
    {
     "data": {
      "text/plain": [
       "array([   93.033     ,   103.999     ,   118.22935407, ...,\n",
       "       17211.69580098, 17171.        , 17686.840768  ])"
      ]
     },
     "execution_count": 101,
     "metadata": {},
     "output_type": "execute_result"
    }
   ],
   "source": [
    "import numpy as np\n",
    "\n",
    "close_list = btc_df['close'].to_list()\n",
    "close_array2 = np.array(close_list)\n",
    "close_array2"
   ]
  },
  {
   "cell_type": "code",
   "execution_count": 102,
   "metadata": {},
   "outputs": [
    {
     "name": "stdout",
     "output_type": "stream",
     "text": [
      "4.1 µs ± 538 ns per loop (mean ± std. dev. of 7 runs, 100000 loops each)\n"
     ]
    }
   ],
   "source": [
    "%timeit kd_close = close_array / 1000"
   ]
  },
  {
   "cell_type": "code",
   "execution_count": 103,
   "metadata": {},
   "outputs": [
    {
     "name": "stdout",
     "output_type": "stream",
     "text": [
      "247 µs ± 36.2 µs per loop (mean ± std. dev. of 7 runs, 1000 loops each)\n"
     ]
    }
   ],
   "source": [
    "%timeit kd_close_list = [c / 1000 for c in close_list]"
   ]
  },
  {
   "cell_type": "code",
   "execution_count": 104,
   "metadata": {},
   "outputs": [
    {
     "data": {
      "text/plain": [
       "array([2.86828162e+05, 5.43332512e+05, 9.90351433e+05, ...,\n",
       "       5.91110933e+08, 1.92622769e+08, 6.25398332e+07])"
      ]
     },
     "execution_count": 104,
     "metadata": {},
     "output_type": "execute_result"
    }
   ],
   "source": [
    "volume_array = btc_df['volume'].values\n",
    "close_array * volume_array"
   ]
  },
  {
   "cell_type": "code",
   "execution_count": 105,
   "metadata": {},
   "outputs": [
    {
     "data": {
      "text/plain": [
       "time\n",
       "2013-03-31    2.868282e+05\n",
       "2013-04-01    5.433325e+05\n",
       "2013-04-02    9.903514e+05\n",
       "2013-04-03    1.750594e+06\n",
       "2013-04-04    9.278567e+05\n",
       "                  ...     \n",
       "2020-11-24    2.857665e+08\n",
       "2020-11-25    2.523951e+08\n",
       "2020-11-26    5.911109e+08\n",
       "2020-11-27    1.926228e+08\n",
       "2020-11-28    6.253983e+07\n",
       "Name: market_cap, Length: 2793, dtype: float64"
      ]
     },
     "execution_count": 105,
     "metadata": {},
     "output_type": "execute_result"
    }
   ],
   "source": [
    "btc_df['market_cap'] = btc_df['close'] * btc_df['volume']\n",
    "btc_df['market_cap']"
   ]
  },
  {
   "cell_type": "code",
   "execution_count": 106,
   "metadata": {},
   "outputs": [
    {
     "data": {
      "text/plain": [
       "time\n",
       "2013-03-31    4.532954\n",
       "2013-04-01    4.644381\n",
       "2013-04-02    4.772626\n",
       "2013-04-03    4.903050\n",
       "2013-04-04    4.889589\n",
       "                ...   \n",
       "2020-11-24    9.859065\n",
       "2020-11-25    9.837722\n",
       "2020-11-26    9.753344\n",
       "2020-11-27    9.750977\n",
       "2020-11-28    9.780576\n",
       "Name: close, Length: 2793, dtype: float64"
      ]
     },
     "execution_count": 106,
     "metadata": {},
     "output_type": "execute_result"
    }
   ],
   "source": [
    "np.log(btc_df['close'])"
   ]
  }
 ],
 "metadata": {
  "kernelspec": {
   "display_name": "Python 3",
   "language": "python",
   "name": "python3"
  },
  "language_info": {
   "codemirror_mode": {
    "name": "ipython",
    "version": 3
   },
   "file_extension": ".py",
   "mimetype": "text/x-python",
   "name": "python",
   "nbconvert_exporter": "python",
   "pygments_lexer": "ipython3",
   "version": "3.8.5"
  }
 },
 "nbformat": 4,
 "nbformat_minor": 4
}

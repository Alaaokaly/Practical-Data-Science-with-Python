{
 "cells": [
  {
   "cell_type": "markdown",
   "metadata": {},
   "source": [
    "# Univariate stats feature selection"
   ]
  },
  {
   "cell_type": "code",
   "execution_count": 1,
   "metadata": {},
   "outputs": [
    {
     "data": {
      "application/vnd.jupyter.widget-view+json": {
       "model_id": "e597c8520f2e47359fd448b43d11a4bf",
       "version_major": 2,
       "version_minor": 0
      },
      "text/plain": [
       "Summarize dataset:   0%|          | 0/56 [00:00<?, ?it/s]"
      ]
     },
     "metadata": {},
     "output_type": "display_data"
    },
    {
     "data": {
      "application/vnd.jupyter.widget-view+json": {
       "model_id": "34fd27eb5aba4b068adb092e5b29ad8b",
       "version_major": 2,
       "version_minor": 0
      },
      "text/plain": [
       "Generate report structure:   0%|          | 0/1 [00:00<?, ?it/s]"
      ]
     },
     "metadata": {},
     "output_type": "display_data"
    },
    {
     "data": {
      "application/vnd.jupyter.widget-view+json": {
       "model_id": "4db6609224c9482c96433e42989ab9f1",
       "version_major": 2,
       "version_minor": 0
      },
      "text/plain": [
       "Render HTML:   0%|          | 0/1 [00:00<?, ?it/s]"
      ]
     },
     "metadata": {},
     "output_type": "display_data"
    },
    {
     "data": {
      "application/vnd.jupyter.widget-view+json": {
       "model_id": "047908fe924546cba80eb1e7f05216c7",
       "version_major": 2,
       "version_minor": 0
      },
      "text/plain": [
       "Export report to file:   0%|          | 0/1 [00:00<?, ?it/s]"
      ]
     },
     "metadata": {},
     "output_type": "display_data"
    }
   ],
   "source": [
    "import pandas as pd\n",
    "from pandas_profiling import ProfileReport\n",
    "\n",
    "loan_df = pd.read_csv('data/loan_data.csv', parse_dates=[\n",
    "                      'DATE_OF_BIRTH', 'DISBURSAL_DATE'], infer_datetime_format=True)\n",
    "# If we run ProfileReport once with minimal=True, it will not compute correlations after that\n",
    "# ProfileReport(loan_df, minimal=True)\n",
    "# we are sampling down so it runs faster\n",
    "report = ProfileReport(loan_df.sample(10000, random_state=42))\n",
    "# save as html so the notebook displays more easily\n",
    "report.to_file('loan_df1.html')"
   ]
  },
  {
   "cell_type": "code",
   "execution_count": 2,
   "metadata": {},
   "outputs": [
    {
     "data": {
      "text/plain": [
       "(133154, 41)"
      ]
     },
     "execution_count": 2,
     "metadata": {},
     "output_type": "execute_result"
    }
   ],
   "source": [
    "loan_df.shape"
   ]
  },
  {
   "cell_type": "code",
   "execution_count": 3,
   "metadata": {},
   "outputs": [
    {
     "name": "stdout",
     "output_type": "stream",
     "text": [
      "UNIQUEID\n"
     ]
    }
   ],
   "source": [
    "for col in loan_df.columns:\n",
    "    fraction_unique = loan_df[col].unique().shape[0] / loan_df.shape[0]\n",
    "    if fraction_unique > 0.5:\n",
    "        print(col)"
   ]
  },
  {
   "cell_type": "code",
   "execution_count": 4,
   "metadata": {},
   "outputs": [],
   "source": [
    "loan_df.drop('UNIQUEID', axis=1, inplace=True)"
   ]
  },
  {
   "cell_type": "code",
   "execution_count": 5,
   "metadata": {},
   "outputs": [],
   "source": [
    "# drop columns with too little variety\n",
    "drop_cols = ['MOBILENO_AVL_FLAG']\n",
    "pri_sec_cols = [c for c in loan_df.columns if c[:3] in ['PRI', 'SEC'] and c not in ['PRI_NO_ACCTS', 'PRI_OVERDUE_ACCTS']]\n",
    "drop_cols.extend(pri_sec_cols)\n",
    "loan_df.drop(columns=drop_cols, axis=1, inplace=True)"
   ]
  },
  {
   "cell_type": "code",
   "execution_count": 6,
   "metadata": {},
   "outputs": [
    {
     "data": {
      "text/plain": [
       "(133154, 26)"
      ]
     },
     "execution_count": 6,
     "metadata": {},
     "output_type": "execute_result"
    }
   ],
   "source": [
    "loan_df.shape"
   ]
  },
  {
   "cell_type": "code",
   "execution_count": 7,
   "metadata": {},
   "outputs": [
    {
     "data": {
      "image/png": "[encoded data removed]",
      "text/plain": [
       "<Figure size 396x396 with 1 Axes>"
      ]
     },
     "metadata": {
      "needs_background": "light"
     },
     "output_type": "display_data"
    }
   ],
   "source": [
    "import matplotlib.pyplot as plt\n",
    "\n",
    "f = plt.figure(figsize=(5.5, 5.5))\n",
    "loan_df.corr().loc['LOAN_DEFAULT'][:-1].plot.barh()\n",
    "plt.tight_layout()"
   ]
  },
  {
   "cell_type": "code",
   "execution_count": 8,
   "metadata": {},
   "outputs": [
    {
     "name": "stdout",
     "output_type": "stream",
     "text": [
      "DISBURSED_AMOUNT                        :  0.0827, significant: True\n",
      "ASSET_COST                              :  0.0322, significant: True\n",
      "LTV                                     :  0.0834, significant: True\n",
      "BRANCH_ID                               :  0.0129, significant: True\n",
      "SUPPLIER_ID                             :  0.0572, significant: True\n",
      "MANUFACTURER_ID                         : -0.0262, significant: True\n",
      "CURRENT_PINCODE_ID                      :  0.1029, significant: True\n",
      "STATE_ID                                :  0.0115, significant: True\n",
      "EMPLOYEE_CODE_ID                        :  0.0235, significant: True\n",
      "AADHAR_FLAG                             : -0.0565, significant: True\n",
      "PAN_FLAG                                : -0.0083, significant: True\n",
      "VOTERID_FLAG                            :  0.0592, significant: True\n",
      "DRIVING_FLAG                            : -0.0035, significant: False\n",
      "PASSPORT_FLAG                           : -0.0068, significant: True\n",
      "PERFORM_CNS_SCORE                       : -0.3918, significant: True\n",
      "PRI_OVERDUE_ACCTS                       :  0.0758, significant: True\n",
      "NEW_ACCTS_IN_LAST_SIX_MONTHS            : -0.1413, significant: True\n",
      "DELINQUENT_ACCTS_IN_LAST_SIX_MONTHS     : -0.0038, significant: False\n",
      "NO_OF_INQUIRIES                         : -0.0350, significant: True\n"
     ]
    }
   ],
   "source": [
    "from scipy.stats import pearsonr\n",
    "from pandas.api.types import is_numeric_dtype\n",
    "\n",
    "for c in loan_df.columns[:-1]:\n",
    "    if is_numeric_dtype(loan_df[c]):\n",
    "        correlation, pvalue = pearsonr(loan_df[c], loan_df['LOAN_DEFAULT'])            \n",
    "        print(f'{c : <40}: {correlation : .4f}, significant: {pvalue <= 0.05}')"
   ]
  },
  {
   "cell_type": "code",
   "execution_count": 9,
   "metadata": {},
   "outputs": [],
   "source": [
    "loan_df.drop(columns=['DRIVING_FLAG', 'DELINQUENT_ACCTS_IN_LAST_SIX_MONTHS'], axis=1, inplace=True)"
   ]
  },
  {
   "cell_type": "code",
   "execution_count": 10,
   "metadata": {},
   "outputs": [
    {
     "data": {
      "application/vnd.jupyter.widget-view+json": {
       "model_id": "aa36c2f669be4ea49ff56771bbd3d2a7",
       "version_major": 2,
       "version_minor": 0
      },
      "text/plain": [
       "Summarize dataset:   0%|          | 0/39 [00:00<?, ?it/s]"
      ]
     },
     "metadata": {},
     "output_type": "display_data"
    },
    {
     "data": {
      "application/vnd.jupyter.widget-view+json": {
       "model_id": "0ba52d81a71f4ce49ed6559b7516a757",
       "version_major": 2,
       "version_minor": 0
      },
      "text/plain": [
       "Generate report structure:   0%|          | 0/1 [00:00<?, ?it/s]"
      ]
     },
     "metadata": {},
     "output_type": "display_data"
    },
    {
     "data": {
      "application/vnd.jupyter.widget-view+json": {
       "model_id": "c7047fd79a86480096165a561e45c61c",
       "version_major": 2,
       "version_minor": 0
      },
      "text/plain": [
       "Render HTML:   0%|          | 0/1 [00:00<?, ?it/s]"
      ]
     },
     "metadata": {},
     "output_type": "display_data"
    },
    {
     "data": {
      "application/vnd.jupyter.widget-view+json": {
       "model_id": "ff3b16eff7d74a08a7cfa77f33a1c1e3",
       "version_major": 2,
       "version_minor": 0
      },
      "text/plain": [
       "Export report to file:   0%|          | 0/1 [00:00<?, ?it/s]"
      ]
     },
     "metadata": {},
     "output_type": "display_data"
    }
   ],
   "source": [
    "report = ProfileReport(loan_df.sample(10000))\n",
    "report.to_file('loan_df2.html')"
   ]
  },
  {
   "cell_type": "code",
   "execution_count": 11,
   "metadata": {},
   "outputs": [],
   "source": [
    "import phik"
   ]
  },
  {
   "cell_type": "code",
   "execution_count": 12,
   "metadata": {},
   "outputs": [],
   "source": [
    "loan_df_epoch_time = loan_df.copy()\n",
    "loan_df_epoch_time['DATE_OF_BIRTH'] = (loan_df_epoch_time['DATE_OF_BIRTH'] - pd.to_datetime('1-1-1970')).dt.total_seconds()\n",
    "loan_df_epoch_time['DISBURSAL_DATE'] = (loan_df_epoch_time['DISBURSAL_DATE'] - pd.to_datetime('1-1-1970')).dt.total_seconds()\n",
    "\n",
    "interval_columns = ['DISBURSED_AMOUNT', 'ASSET_COST', 'LTV', 'DATE_OF_BIRTH', 'DISBURSAL_DATE', 'PERFORM_CNS_SCORE',\n",
    "                   'NEW_ACCTS_IN_LAST_SIX_MONTHS', 'NO_OF_INQUIRIES']\n",
    "\n",
    "for c in loan_df_epoch_time.columns:\n",
    "    if c not in interval_columns:\n",
    "        loan_df_epoch_time[c] = loan_df_epoch_time[c].astype('category')"
   ]
  },
  {
   "cell_type": "code",
   "execution_count": 13,
   "metadata": {},
   "outputs": [],
   "source": [
    "# WARNING: this takes a very long time to run\n",
    "# loan_df_epoch_time.phik_matrix(interval_cols=interval_columns)"
   ]
  },
  {
   "cell_type": "code",
   "execution_count": 14,
   "metadata": {},
   "outputs": [],
   "source": [
    "# this also takes a long time to run\n",
    "# loan_df_epoch_time.significance_matrix(interval_cols=interval_columns)"
   ]
  },
  {
   "cell_type": "code",
   "execution_count": 15,
   "metadata": {},
   "outputs": [
    {
     "name": "stderr",
     "output_type": "stream",
     "text": [
      "C:\\Users\\words\\Anaconda3\\envs\\datasci\\lib\\site-packages\\phik\\data_quality.py:112: UserWarning: The number of unique values of variable x is large: 2869. Are you sure this is not an interval variable? Analysis might be slow.\n",
      "  warnings.warn(\n",
      "C:\\Users\\words\\Anaconda3\\envs\\datasci\\lib\\site-packages\\phik\\data_quality.py:112: UserWarning: The number of unique values of variable x is large: 2869. Are you sure this is not an interval variable? Analysis might be slow.\n",
      "  warnings.warn(\n",
      "C:\\Users\\words\\Anaconda3\\envs\\datasci\\lib\\site-packages\\phik\\data_quality.py:112: UserWarning: The number of unique values of variable x is large: 6189. Are you sure this is not an interval variable? Analysis might be slow.\n",
      "  warnings.warn(\n",
      "C:\\Users\\words\\Anaconda3\\envs\\datasci\\lib\\site-packages\\phik\\data_quality.py:112: UserWarning: The number of unique values of variable x is large: 6189. Are you sure this is not an interval variable? Analysis might be slow.\n",
      "  warnings.warn(\n",
      "C:\\Users\\words\\Anaconda3\\envs\\datasci\\lib\\site-packages\\phik\\data_quality.py:112: UserWarning: The number of unique values of variable x is large: 3221. Are you sure this is not an interval variable? Analysis might be slow.\n",
      "  warnings.warn(\n",
      "C:\\Users\\words\\Anaconda3\\envs\\datasci\\lib\\site-packages\\phik\\data_quality.py:112: UserWarning: The number of unique values of variable x is large: 3221. Are you sure this is not an interval variable? Analysis might be slow.\n",
      "  warnings.warn(\n"
     ]
    }
   ],
   "source": [
    "phik_correlations = []\n",
    "phik_significances = []\n",
    "columns = loan_df_epoch_time.columns\n",
    "y = loan_df_epoch_time['LOAN_DEFAULT']\n",
    "\n",
    "for c in columns:\n",
    "    x = loan_df_epoch_time[c]\n",
    "    if c in interval_columns:\n",
    "        phik_correlations.append(phik.phik_from_array(x, y, [c]))\n",
    "        phik_significances.append(phik.significance.significance_from_array(x, y, [c])[0])\n",
    "    else:\n",
    "        phik_correlations.append(phik.phik_from_array(x, y))\n",
    "        # currently need to set the drop over/underflow to false to avoid error. Should be fixed soon in an update\n",
    "        phik_significances.append(phik.significance.significance_from_array(x, y, drop_overflow=False, drop_underflow=False)[0])"
   ]
  },
  {
   "cell_type": "code",
   "execution_count": 16,
   "metadata": {},
   "outputs": [],
   "source": [
    "phik_df = pd.DataFrame({'phik': phik_correlations, 'p-value': phik_significances}, index=columns)\n",
    "phik_df.sort_values(by='phik', ascending=False, inplace=True)"
   ]
  },
  {
   "cell_type": "code",
   "execution_count": 17,
   "metadata": {},
   "outputs": [
    {
     "data": {
      "image/png": "[encoded data removed]",
      "text/plain": [
       "<Figure size 396x396 with 2 Axes>"
      ]
     },
     "metadata": {
      "needs_background": "light"
     },
     "output_type": "display_data"
    }
   ],
   "source": [
    "phik_df.iloc[1:].plot.bar(subplots=True, figsize=(5.5, 5.5))\n",
    "plt.tight_layout()"
   ]
  },
  {
   "cell_type": "code",
   "execution_count": 18,
   "metadata": {},
   "outputs": [
    {
     "data": {
      "text/html": [
       "<div>\n",
       "<style scoped>\n",
       "    .dataframe tbody tr th:only-of-type {\n",
       "        vertical-align: middle;\n",
       "    }\n",
       "\n",
       "    .dataframe tbody tr th {\n",
       "        vertical-align: top;\n",
       "    }\n",
       "\n",
       "    .dataframe thead th {\n",
       "        text-align: right;\n",
       "    }\n",
       "</style>\n",
       "<table border=\"1\" class=\"dataframe\">\n",
       "  <thead>\n",
       "    <tr style=\"text-align: right;\">\n",
       "      <th></th>\n",
       "      <th>phik</th>\n",
       "      <th>p-value</th>\n",
       "    </tr>\n",
       "  </thead>\n",
       "  <tbody>\n",
       "    <tr>\n",
       "      <th>LOAN_DEFAULT</th>\n",
       "      <td>1.000000</td>\n",
       "      <td>0.000000e+00</td>\n",
       "    </tr>\n",
       "    <tr>\n",
       "      <th>PERFORM_CNS_SCORE</th>\n",
       "      <td>0.571959</td>\n",
       "      <td>0.000000e+00</td>\n",
       "    </tr>\n",
       "    <tr>\n",
       "      <th>PERFORM_CNS_SCORE_DESCRIPTION</th>\n",
       "      <td>0.541453</td>\n",
       "      <td>0.000000e+00</td>\n",
       "    </tr>\n",
       "    <tr>\n",
       "      <th>CREDIT_HISTORY_LENGTH</th>\n",
       "      <td>0.397205</td>\n",
       "      <td>0.000000e+00</td>\n",
       "    </tr>\n",
       "    <tr>\n",
       "      <th>AVERAGE_ACCT_AGE</th>\n",
       "      <td>0.391147</td>\n",
       "      <td>0.000000e+00</td>\n",
       "    </tr>\n",
       "    <tr>\n",
       "      <th>EMPLOYEE_CODE_ID</th>\n",
       "      <td>0.285944</td>\n",
       "      <td>0.000000e+00</td>\n",
       "    </tr>\n",
       "    <tr>\n",
       "      <th>SUPPLIER_ID</th>\n",
       "      <td>0.268258</td>\n",
       "      <td>0.000000e+00</td>\n",
       "    </tr>\n",
       "    <tr>\n",
       "      <th>CURRENT_PINCODE_ID</th>\n",
       "      <td>0.263181</td>\n",
       "      <td>0.000000e+00</td>\n",
       "    </tr>\n",
       "    <tr>\n",
       "      <th>BRANCH_ID</th>\n",
       "      <td>0.205041</td>\n",
       "      <td>0.000000e+00</td>\n",
       "    </tr>\n",
       "    <tr>\n",
       "      <th>EMPLOYMENT_TYPE</th>\n",
       "      <td>0.201645</td>\n",
       "      <td>0.000000e+00</td>\n",
       "    </tr>\n",
       "    <tr>\n",
       "      <th>STATE_ID</th>\n",
       "      <td>0.166292</td>\n",
       "      <td>0.000000e+00</td>\n",
       "    </tr>\n",
       "    <tr>\n",
       "      <th>LTV</th>\n",
       "      <td>0.123512</td>\n",
       "      <td>1.837254e-254</td>\n",
       "    </tr>\n",
       "    <tr>\n",
       "      <th>PRI_OVERDUE_ACCTS</th>\n",
       "      <td>0.102642</td>\n",
       "      <td>3.908173e-167</td>\n",
       "    </tr>\n",
       "    <tr>\n",
       "      <th>VOTERID_FLAG</th>\n",
       "      <td>0.092798</td>\n",
       "      <td>4.455744e-101</td>\n",
       "    </tr>\n",
       "    <tr>\n",
       "      <th>AADHAR_FLAG</th>\n",
       "      <td>0.088538</td>\n",
       "      <td>1.906217e-92</td>\n",
       "    </tr>\n",
       "    <tr>\n",
       "      <th>NEW_ACCTS_IN_LAST_SIX_MONTHS</th>\n",
       "      <td>0.074080</td>\n",
       "      <td>8.624272e-101</td>\n",
       "    </tr>\n",
       "    <tr>\n",
       "      <th>DISBURSAL_DATE</th>\n",
       "      <td>0.052092</td>\n",
       "      <td>1.630852e-42</td>\n",
       "    </tr>\n",
       "    <tr>\n",
       "      <th>MANUFACTURER_ID</th>\n",
       "      <td>0.045562</td>\n",
       "      <td>4.352632e-32</td>\n",
       "    </tr>\n",
       "    <tr>\n",
       "      <th>DISBURSED_AMOUNT</th>\n",
       "      <td>0.037604</td>\n",
       "      <td>3.000055e-20</td>\n",
       "    </tr>\n",
       "    <tr>\n",
       "      <th>DATE_OF_BIRTH</th>\n",
       "      <td>0.026617</td>\n",
       "      <td>1.763414e-10</td>\n",
       "    </tr>\n",
       "    <tr>\n",
       "      <th>ASSET_COST</th>\n",
       "      <td>0.023546</td>\n",
       "      <td>2.012880e-17</td>\n",
       "    </tr>\n",
       "    <tr>\n",
       "      <th>NO_OF_INQUIRIES</th>\n",
       "      <td>0.022601</td>\n",
       "      <td>3.109191e-08</td>\n",
       "    </tr>\n",
       "    <tr>\n",
       "      <th>PAN_FLAG</th>\n",
       "      <td>0.012243</td>\n",
       "      <td>2.496994e-03</td>\n",
       "    </tr>\n",
       "    <tr>\n",
       "      <th>PASSPORT_FLAG</th>\n",
       "      <td>0.009407</td>\n",
       "      <td>1.177557e-02</td>\n",
       "    </tr>\n",
       "  </tbody>\n",
       "</table>\n",
       "</div>"
      ],
      "text/plain": [
       "                                   phik        p-value\n",
       "LOAN_DEFAULT                   1.000000   0.000000e+00\n",
       "PERFORM_CNS_SCORE              0.571959   0.000000e+00\n",
       "PERFORM_CNS_SCORE_DESCRIPTION  0.541453   0.000000e+00\n",
       "CREDIT_HISTORY_LENGTH          0.397205   0.000000e+00\n",
       "AVERAGE_ACCT_AGE               0.391147   0.000000e+00\n",
       "EMPLOYEE_CODE_ID               0.285944   0.000000e+00\n",
       "SUPPLIER_ID                    0.268258   0.000000e+00\n",
       "CURRENT_PINCODE_ID             0.263181   0.000000e+00\n",
       "BRANCH_ID                      0.205041   0.000000e+00\n",
       "EMPLOYMENT_TYPE                0.201645   0.000000e+00\n",
       "STATE_ID                       0.166292   0.000000e+00\n",
       "LTV                            0.123512  1.837254e-254\n",
       "PRI_OVERDUE_ACCTS              0.102642  3.908173e-167\n",
       "VOTERID_FLAG                   0.092798  4.455744e-101\n",
       "AADHAR_FLAG                    0.088538   1.906217e-92\n",
       "NEW_ACCTS_IN_LAST_SIX_MONTHS   0.074080  8.624272e-101\n",
       "DISBURSAL_DATE                 0.052092   1.630852e-42\n",
       "MANUFACTURER_ID                0.045562   4.352632e-32\n",
       "DISBURSED_AMOUNT               0.037604   3.000055e-20\n",
       "DATE_OF_BIRTH                  0.026617   1.763414e-10\n",
       "ASSET_COST                     0.023546   2.012880e-17\n",
       "NO_OF_INQUIRIES                0.022601   3.109191e-08\n",
       "PAN_FLAG                       0.012243   2.496994e-03\n",
       "PASSPORT_FLAG                  0.009407   1.177557e-02"
      ]
     },
     "execution_count": 18,
     "metadata": {},
     "output_type": "execute_result"
    }
   ],
   "source": [
    "phik_df"
   ]
  },
  {
   "cell_type": "markdown",
   "metadata": {},
   "source": [
    "# Mutual information score and chi-squared"
   ]
  },
  {
   "cell_type": "code",
   "execution_count": 19,
   "metadata": {},
   "outputs": [
    {
     "data": {
      "text/html": [
       "<div>\n",
       "<style scoped>\n",
       "    .dataframe tbody tr th:only-of-type {\n",
       "        vertical-align: middle;\n",
       "    }\n",
       "\n",
       "    .dataframe tbody tr th {\n",
       "        vertical-align: top;\n",
       "    }\n",
       "\n",
       "    .dataframe thead th {\n",
       "        text-align: right;\n",
       "    }\n",
       "</style>\n",
       "<table border=\"1\" class=\"dataframe\">\n",
       "  <thead>\n",
       "    <tr style=\"text-align: right;\">\n",
       "      <th></th>\n",
       "      <th>DISBURSED_AMOUNT</th>\n",
       "      <th>ASSET_COST</th>\n",
       "      <th>LTV</th>\n",
       "      <th>BRANCH_ID</th>\n",
       "      <th>SUPPLIER_ID</th>\n",
       "      <th>MANUFACTURER_ID</th>\n",
       "      <th>CURRENT_PINCODE_ID</th>\n",
       "      <th>STATE_ID</th>\n",
       "      <th>EMPLOYEE_CODE_ID</th>\n",
       "      <th>AADHAR_FLAG</th>\n",
       "      <th>PAN_FLAG</th>\n",
       "      <th>VOTERID_FLAG</th>\n",
       "      <th>PASSPORT_FLAG</th>\n",
       "      <th>PERFORM_CNS_SCORE</th>\n",
       "      <th>PRI_OVERDUE_ACCTS</th>\n",
       "      <th>NEW_ACCTS_IN_LAST_SIX_MONTHS</th>\n",
       "      <th>NO_OF_INQUIRIES</th>\n",
       "      <th>LOAN_DEFAULT</th>\n",
       "    </tr>\n",
       "  </thead>\n",
       "  <tbody>\n",
       "    <tr>\n",
       "      <th>DISBURSED_AMOUNT</th>\n",
       "      <td>1.000000</td>\n",
       "      <td>0.672905</td>\n",
       "      <td>0.533719</td>\n",
       "      <td>0.253136</td>\n",
       "      <td>0.481720</td>\n",
       "      <td>0.090964</td>\n",
       "      <td>0.516901</td>\n",
       "      <td>0.157499</td>\n",
       "      <td>0.521523</td>\n",
       "      <td>0.023587</td>\n",
       "      <td>1.578066e-02</td>\n",
       "      <td>0.022188</td>\n",
       "      <td>1.590661e-03</td>\n",
       "      <td>0.214469</td>\n",
       "      <td>0.023639</td>\n",
       "      <td>0.037129</td>\n",
       "      <td>0.027676</td>\n",
       "      <td>0.022441</td>\n",
       "    </tr>\n",
       "    <tr>\n",
       "      <th>ASSET_COST</th>\n",
       "      <td>0.672905</td>\n",
       "      <td>1.000000</td>\n",
       "      <td>0.716856</td>\n",
       "      <td>0.443739</td>\n",
       "      <td>0.700192</td>\n",
       "      <td>0.175233</td>\n",
       "      <td>0.693323</td>\n",
       "      <td>0.289881</td>\n",
       "      <td>0.719801</td>\n",
       "      <td>0.039380</td>\n",
       "      <td>2.599484e-02</td>\n",
       "      <td>0.037168</td>\n",
       "      <td>2.007877e-03</td>\n",
       "      <td>0.307866</td>\n",
       "      <td>0.037202</td>\n",
       "      <td>0.061842</td>\n",
       "      <td>0.044234</td>\n",
       "      <td>0.034935</td>\n",
       "    </tr>\n",
       "    <tr>\n",
       "      <th>LTV</th>\n",
       "      <td>0.533719</td>\n",
       "      <td>0.716856</td>\n",
       "      <td>1.000000</td>\n",
       "      <td>0.189871</td>\n",
       "      <td>0.492414</td>\n",
       "      <td>0.056161</td>\n",
       "      <td>0.534091</td>\n",
       "      <td>0.090602</td>\n",
       "      <td>0.537294</td>\n",
       "      <td>0.008447</td>\n",
       "      <td>6.104969e-03</td>\n",
       "      <td>0.008100</td>\n",
       "      <td>1.365189e-03</td>\n",
       "      <td>0.206412</td>\n",
       "      <td>0.014042</td>\n",
       "      <td>0.022028</td>\n",
       "      <td>0.017005</td>\n",
       "      <td>0.008049</td>\n",
       "    </tr>\n",
       "    <tr>\n",
       "      <th>BRANCH_ID</th>\n",
       "      <td>0.253136</td>\n",
       "      <td>0.443739</td>\n",
       "      <td>0.189871</td>\n",
       "      <td>1.000000</td>\n",
       "      <td>0.701821</td>\n",
       "      <td>0.064777</td>\n",
       "      <td>0.652846</td>\n",
       "      <td>0.755495</td>\n",
       "      <td>0.677916</td>\n",
       "      <td>0.071556</td>\n",
       "      <td>3.037022e-02</td>\n",
       "      <td>0.063769</td>\n",
       "      <td>6.593821e-04</td>\n",
       "      <td>0.053100</td>\n",
       "      <td>0.005001</td>\n",
       "      <td>0.010744</td>\n",
       "      <td>0.008039</td>\n",
       "      <td>0.005744</td>\n",
       "    </tr>\n",
       "    <tr>\n",
       "      <th>SUPPLIER_ID</th>\n",
       "      <td>0.481720</td>\n",
       "      <td>0.700192</td>\n",
       "      <td>0.492414</td>\n",
       "      <td>0.701821</td>\n",
       "      <td>1.000000</td>\n",
       "      <td>0.323717</td>\n",
       "      <td>0.712319</td>\n",
       "      <td>0.517890</td>\n",
       "      <td>0.850592</td>\n",
       "      <td>0.048490</td>\n",
       "      <td>2.820681e-02</td>\n",
       "      <td>0.043372</td>\n",
       "      <td>1.264320e-03</td>\n",
       "      <td>0.169602</td>\n",
       "      <td>0.011984</td>\n",
       "      <td>0.019655</td>\n",
       "      <td>0.016326</td>\n",
       "      <td>0.008729</td>\n",
       "    </tr>\n",
       "    <tr>\n",
       "      <th>MANUFACTURER_ID</th>\n",
       "      <td>0.090964</td>\n",
       "      <td>0.175233</td>\n",
       "      <td>0.056161</td>\n",
       "      <td>0.064777</td>\n",
       "      <td>0.323717</td>\n",
       "      <td>1.000000</td>\n",
       "      <td>0.085878</td>\n",
       "      <td>0.051946</td>\n",
       "      <td>0.180986</td>\n",
       "      <td>0.005493</td>\n",
       "      <td>3.193152e-03</td>\n",
       "      <td>0.005016</td>\n",
       "      <td>2.459346e-04</td>\n",
       "      <td>0.009500</td>\n",
       "      <td>0.001268</td>\n",
       "      <td>0.002105</td>\n",
       "      <td>0.001610</td>\n",
       "      <td>0.000612</td>\n",
       "    </tr>\n",
       "    <tr>\n",
       "      <th>CURRENT_PINCODE_ID</th>\n",
       "      <td>0.516901</td>\n",
       "      <td>0.693323</td>\n",
       "      <td>0.534091</td>\n",
       "      <td>0.652846</td>\n",
       "      <td>0.712319</td>\n",
       "      <td>0.085878</td>\n",
       "      <td>1.000000</td>\n",
       "      <td>0.492527</td>\n",
       "      <td>0.729889</td>\n",
       "      <td>0.046726</td>\n",
       "      <td>2.320907e-02</td>\n",
       "      <td>0.042112</td>\n",
       "      <td>1.410693e-03</td>\n",
       "      <td>0.202391</td>\n",
       "      <td>0.015738</td>\n",
       "      <td>0.026624</td>\n",
       "      <td>0.020378</td>\n",
       "      <td>0.011285</td>\n",
       "    </tr>\n",
       "    <tr>\n",
       "      <th>STATE_ID</th>\n",
       "      <td>0.157499</td>\n",
       "      <td>0.289881</td>\n",
       "      <td>0.090602</td>\n",
       "      <td>0.755495</td>\n",
       "      <td>0.517890</td>\n",
       "      <td>0.051946</td>\n",
       "      <td>0.492527</td>\n",
       "      <td>1.000000</td>\n",
       "      <td>0.488975</td>\n",
       "      <td>0.097543</td>\n",
       "      <td>3.884043e-02</td>\n",
       "      <td>0.086094</td>\n",
       "      <td>3.882704e-04</td>\n",
       "      <td>0.030141</td>\n",
       "      <td>0.005389</td>\n",
       "      <td>0.011247</td>\n",
       "      <td>0.008089</td>\n",
       "      <td>0.005396</td>\n",
       "    </tr>\n",
       "    <tr>\n",
       "      <th>EMPLOYEE_CODE_ID</th>\n",
       "      <td>0.521523</td>\n",
       "      <td>0.719801</td>\n",
       "      <td>0.537294</td>\n",
       "      <td>0.677916</td>\n",
       "      <td>0.850592</td>\n",
       "      <td>0.180986</td>\n",
       "      <td>0.729889</td>\n",
       "      <td>0.488975</td>\n",
       "      <td>1.000000</td>\n",
       "      <td>0.047899</td>\n",
       "      <td>3.085719e-02</td>\n",
       "      <td>0.043104</td>\n",
       "      <td>1.498260e-03</td>\n",
       "      <td>0.198448</td>\n",
       "      <td>0.013356</td>\n",
       "      <td>0.022283</td>\n",
       "      <td>0.018232</td>\n",
       "      <td>0.009203</td>\n",
       "    </tr>\n",
       "    <tr>\n",
       "      <th>AADHAR_FLAG</th>\n",
       "      <td>0.023587</td>\n",
       "      <td>0.039380</td>\n",
       "      <td>0.008447</td>\n",
       "      <td>0.071556</td>\n",
       "      <td>0.048490</td>\n",
       "      <td>0.005493</td>\n",
       "      <td>0.046726</td>\n",
       "      <td>0.097543</td>\n",
       "      <td>0.047899</td>\n",
       "      <td>1.000000</td>\n",
       "      <td>4.423808e-02</td>\n",
       "      <td>0.689471</td>\n",
       "      <td>1.083035e-02</td>\n",
       "      <td>0.003495</td>\n",
       "      <td>0.000936</td>\n",
       "      <td>0.004201</td>\n",
       "      <td>0.004158</td>\n",
       "      <td>0.002909</td>\n",
       "    </tr>\n",
       "    <tr>\n",
       "      <th>PAN_FLAG</th>\n",
       "      <td>0.015781</td>\n",
       "      <td>0.025995</td>\n",
       "      <td>0.006105</td>\n",
       "      <td>0.030370</td>\n",
       "      <td>0.028207</td>\n",
       "      <td>0.003193</td>\n",
       "      <td>0.023209</td>\n",
       "      <td>0.038840</td>\n",
       "      <td>0.030857</td>\n",
       "      <td>0.044238</td>\n",
       "      <td>1.000000e+00</td>\n",
       "      <td>0.035463</td>\n",
       "      <td>1.105434e-08</td>\n",
       "      <td>0.001413</td>\n",
       "      <td>0.000301</td>\n",
       "      <td>0.000223</td>\n",
       "      <td>0.000806</td>\n",
       "      <td>0.000077</td>\n",
       "    </tr>\n",
       "    <tr>\n",
       "      <th>VOTERID_FLAG</th>\n",
       "      <td>0.022188</td>\n",
       "      <td>0.037168</td>\n",
       "      <td>0.008100</td>\n",
       "      <td>0.063769</td>\n",
       "      <td>0.043372</td>\n",
       "      <td>0.005016</td>\n",
       "      <td>0.042112</td>\n",
       "      <td>0.086094</td>\n",
       "      <td>0.043104</td>\n",
       "      <td>0.689471</td>\n",
       "      <td>3.546336e-02</td>\n",
       "      <td>1.000000</td>\n",
       "      <td>1.171158e-03</td>\n",
       "      <td>0.003721</td>\n",
       "      <td>0.001226</td>\n",
       "      <td>0.004292</td>\n",
       "      <td>0.002960</td>\n",
       "      <td>0.003266</td>\n",
       "    </tr>\n",
       "    <tr>\n",
       "      <th>PASSPORT_FLAG</th>\n",
       "      <td>0.001591</td>\n",
       "      <td>0.002008</td>\n",
       "      <td>0.001365</td>\n",
       "      <td>0.000659</td>\n",
       "      <td>0.001264</td>\n",
       "      <td>0.000246</td>\n",
       "      <td>0.001411</td>\n",
       "      <td>0.000388</td>\n",
       "      <td>0.001498</td>\n",
       "      <td>0.010830</td>\n",
       "      <td>1.105434e-08</td>\n",
       "      <td>0.001171</td>\n",
       "      <td>1.000000e+00</td>\n",
       "      <td>0.000899</td>\n",
       "      <td>0.000436</td>\n",
       "      <td>0.000109</td>\n",
       "      <td>0.000049</td>\n",
       "      <td>0.000073</td>\n",
       "    </tr>\n",
       "    <tr>\n",
       "      <th>PERFORM_CNS_SCORE</th>\n",
       "      <td>0.214469</td>\n",
       "      <td>0.307866</td>\n",
       "      <td>0.206412</td>\n",
       "      <td>0.053100</td>\n",
       "      <td>0.169602</td>\n",
       "      <td>0.009500</td>\n",
       "      <td>0.202391</td>\n",
       "      <td>0.030141</td>\n",
       "      <td>0.198448</td>\n",
       "      <td>0.003495</td>\n",
       "      <td>1.413209e-03</td>\n",
       "      <td>0.003721</td>\n",
       "      <td>8.987865e-04</td>\n",
       "      <td>1.000000</td>\n",
       "      <td>0.140394</td>\n",
       "      <td>0.148329</td>\n",
       "      <td>0.029505</td>\n",
       "      <td>0.058873</td>\n",
       "    </tr>\n",
       "    <tr>\n",
       "      <th>PRI_OVERDUE_ACCTS</th>\n",
       "      <td>0.023639</td>\n",
       "      <td>0.037202</td>\n",
       "      <td>0.014042</td>\n",
       "      <td>0.005001</td>\n",
       "      <td>0.011984</td>\n",
       "      <td>0.001268</td>\n",
       "      <td>0.015738</td>\n",
       "      <td>0.005389</td>\n",
       "      <td>0.013356</td>\n",
       "      <td>0.000936</td>\n",
       "      <td>3.005963e-04</td>\n",
       "      <td>0.001226</td>\n",
       "      <td>4.356338e-04</td>\n",
       "      <td>0.140394</td>\n",
       "      <td>1.000000</td>\n",
       "      <td>0.013848</td>\n",
       "      <td>0.010070</td>\n",
       "      <td>0.005865</td>\n",
       "    </tr>\n",
       "    <tr>\n",
       "      <th>NEW_ACCTS_IN_LAST_SIX_MONTHS</th>\n",
       "      <td>0.037129</td>\n",
       "      <td>0.061842</td>\n",
       "      <td>0.022028</td>\n",
       "      <td>0.010744</td>\n",
       "      <td>0.019655</td>\n",
       "      <td>0.002105</td>\n",
       "      <td>0.026624</td>\n",
       "      <td>0.011247</td>\n",
       "      <td>0.022283</td>\n",
       "      <td>0.004201</td>\n",
       "      <td>2.234673e-04</td>\n",
       "      <td>0.004292</td>\n",
       "      <td>1.092751e-04</td>\n",
       "      <td>0.148329</td>\n",
       "      <td>0.013848</td>\n",
       "      <td>1.000000</td>\n",
       "      <td>0.070644</td>\n",
       "      <td>0.023744</td>\n",
       "    </tr>\n",
       "    <tr>\n",
       "      <th>NO_OF_INQUIRIES</th>\n",
       "      <td>0.027676</td>\n",
       "      <td>0.044234</td>\n",
       "      <td>0.017005</td>\n",
       "      <td>0.008039</td>\n",
       "      <td>0.016326</td>\n",
       "      <td>0.001610</td>\n",
       "      <td>0.020378</td>\n",
       "      <td>0.008089</td>\n",
       "      <td>0.018232</td>\n",
       "      <td>0.004158</td>\n",
       "      <td>8.055280e-04</td>\n",
       "      <td>0.002960</td>\n",
       "      <td>4.911708e-05</td>\n",
       "      <td>0.029505</td>\n",
       "      <td>0.010070</td>\n",
       "      <td>0.070644</td>\n",
       "      <td>1.000000</td>\n",
       "      <td>0.001568</td>\n",
       "    </tr>\n",
       "    <tr>\n",
       "      <th>LOAN_DEFAULT</th>\n",
       "      <td>0.022441</td>\n",
       "      <td>0.034935</td>\n",
       "      <td>0.008049</td>\n",
       "      <td>0.005744</td>\n",
       "      <td>0.008729</td>\n",
       "      <td>0.000612</td>\n",
       "      <td>0.011285</td>\n",
       "      <td>0.005396</td>\n",
       "      <td>0.009203</td>\n",
       "      <td>0.002909</td>\n",
       "      <td>7.683578e-05</td>\n",
       "      <td>0.003266</td>\n",
       "      <td>7.294615e-05</td>\n",
       "      <td>0.058873</td>\n",
       "      <td>0.005865</td>\n",
       "      <td>0.023744</td>\n",
       "      <td>0.001568</td>\n",
       "      <td>1.000000</td>\n",
       "    </tr>\n",
       "  </tbody>\n",
       "</table>\n",
       "</div>"
      ],
      "text/plain": [
       "                              DISBURSED_AMOUNT  ASSET_COST       LTV  \\\n",
       "DISBURSED_AMOUNT                      1.000000    0.672905  0.533719   \n",
       "ASSET_COST                            0.672905    1.000000  0.716856   \n",
       "LTV                                   0.533719    0.716856  1.000000   \n",
       "BRANCH_ID                             0.253136    0.443739  0.189871   \n",
       "SUPPLIER_ID                           0.481720    0.700192  0.492414   \n",
       "MANUFACTURER_ID                       0.090964    0.175233  0.056161   \n",
       "CURRENT_PINCODE_ID                    0.516901    0.693323  0.534091   \n",
       "STATE_ID                              0.157499    0.289881  0.090602   \n",
       "EMPLOYEE_CODE_ID                      0.521523    0.719801  0.537294   \n",
       "AADHAR_FLAG                           0.023587    0.039380  0.008447   \n",
       "PAN_FLAG                              0.015781    0.025995  0.006105   \n",
       "VOTERID_FLAG                          0.022188    0.037168  0.008100   \n",
       "PASSPORT_FLAG                         0.001591    0.002008  0.001365   \n",
       "PERFORM_CNS_SCORE                     0.214469    0.307866  0.206412   \n",
       "PRI_OVERDUE_ACCTS                     0.023639    0.037202  0.014042   \n",
       "NEW_ACCTS_IN_LAST_SIX_MONTHS          0.037129    0.061842  0.022028   \n",
       "NO_OF_INQUIRIES                       0.027676    0.044234  0.017005   \n",
       "LOAN_DEFAULT                          0.022441    0.034935  0.008049   \n",
       "\n",
       "                              BRANCH_ID  SUPPLIER_ID  MANUFACTURER_ID  \\\n",
       "DISBURSED_AMOUNT               0.253136     0.481720         0.090964   \n",
       "ASSET_COST                     0.443739     0.700192         0.175233   \n",
       "LTV                            0.189871     0.492414         0.056161   \n",
       "BRANCH_ID                      1.000000     0.701821         0.064777   \n",
       "SUPPLIER_ID                    0.701821     1.000000         0.323717   \n",
       "MANUFACTURER_ID                0.064777     0.323717         1.000000   \n",
       "CURRENT_PINCODE_ID             0.652846     0.712319         0.085878   \n",
       "STATE_ID                       0.755495     0.517890         0.051946   \n",
       "EMPLOYEE_CODE_ID               0.677916     0.850592         0.180986   \n",
       "AADHAR_FLAG                    0.071556     0.048490         0.005493   \n",
       "PAN_FLAG                       0.030370     0.028207         0.003193   \n",
       "VOTERID_FLAG                   0.063769     0.043372         0.005016   \n",
       "PASSPORT_FLAG                  0.000659     0.001264         0.000246   \n",
       "PERFORM_CNS_SCORE              0.053100     0.169602         0.009500   \n",
       "PRI_OVERDUE_ACCTS              0.005001     0.011984         0.001268   \n",
       "NEW_ACCTS_IN_LAST_SIX_MONTHS   0.010744     0.019655         0.002105   \n",
       "NO_OF_INQUIRIES                0.008039     0.016326         0.001610   \n",
       "LOAN_DEFAULT                   0.005744     0.008729         0.000612   \n",
       "\n",
       "                              CURRENT_PINCODE_ID  STATE_ID  EMPLOYEE_CODE_ID  \\\n",
       "DISBURSED_AMOUNT                        0.516901  0.157499          0.521523   \n",
       "ASSET_COST                              0.693323  0.289881          0.719801   \n",
       "LTV                                     0.534091  0.090602          0.537294   \n",
       "BRANCH_ID                               0.652846  0.755495          0.677916   \n",
       "SUPPLIER_ID                             0.712319  0.517890          0.850592   \n",
       "MANUFACTURER_ID                         0.085878  0.051946          0.180986   \n",
       "CURRENT_PINCODE_ID                      1.000000  0.492527          0.729889   \n",
       "STATE_ID                                0.492527  1.000000          0.488975   \n",
       "EMPLOYEE_CODE_ID                        0.729889  0.488975          1.000000   \n",
       "AADHAR_FLAG                             0.046726  0.097543          0.047899   \n",
       "PAN_FLAG                                0.023209  0.038840          0.030857   \n",
       "VOTERID_FLAG                            0.042112  0.086094          0.043104   \n",
       "PASSPORT_FLAG                           0.001411  0.000388          0.001498   \n",
       "PERFORM_CNS_SCORE                       0.202391  0.030141          0.198448   \n",
       "PRI_OVERDUE_ACCTS                       0.015738  0.005389          0.013356   \n",
       "NEW_ACCTS_IN_LAST_SIX_MONTHS            0.026624  0.011247          0.022283   \n",
       "NO_OF_INQUIRIES                         0.020378  0.008089          0.018232   \n",
       "LOAN_DEFAULT                            0.011285  0.005396          0.009203   \n",
       "\n",
       "                              AADHAR_FLAG      PAN_FLAG  VOTERID_FLAG  \\\n",
       "DISBURSED_AMOUNT                 0.023587  1.578066e-02      0.022188   \n",
       "ASSET_COST                       0.039380  2.599484e-02      0.037168   \n",
       "LTV                              0.008447  6.104969e-03      0.008100   \n",
       "BRANCH_ID                        0.071556  3.037022e-02      0.063769   \n",
       "SUPPLIER_ID                      0.048490  2.820681e-02      0.043372   \n",
       "MANUFACTURER_ID                  0.005493  3.193152e-03      0.005016   \n",
       "CURRENT_PINCODE_ID               0.046726  2.320907e-02      0.042112   \n",
       "STATE_ID                         0.097543  3.884043e-02      0.086094   \n",
       "EMPLOYEE_CODE_ID                 0.047899  3.085719e-02      0.043104   \n",
       "AADHAR_FLAG                      1.000000  4.423808e-02      0.689471   \n",
       "PAN_FLAG                         0.044238  1.000000e+00      0.035463   \n",
       "VOTERID_FLAG                     0.689471  3.546336e-02      1.000000   \n",
       "PASSPORT_FLAG                    0.010830  1.105434e-08      0.001171   \n",
       "PERFORM_CNS_SCORE                0.003495  1.413209e-03      0.003721   \n",
       "PRI_OVERDUE_ACCTS                0.000936  3.005963e-04      0.001226   \n",
       "NEW_ACCTS_IN_LAST_SIX_MONTHS     0.004201  2.234673e-04      0.004292   \n",
       "NO_OF_INQUIRIES                  0.004158  8.055280e-04      0.002960   \n",
       "LOAN_DEFAULT                     0.002909  7.683578e-05      0.003266   \n",
       "\n",
       "                              PASSPORT_FLAG  PERFORM_CNS_SCORE  \\\n",
       "DISBURSED_AMOUNT               1.590661e-03           0.214469   \n",
       "ASSET_COST                     2.007877e-03           0.307866   \n",
       "LTV                            1.365189e-03           0.206412   \n",
       "BRANCH_ID                      6.593821e-04           0.053100   \n",
       "SUPPLIER_ID                    1.264320e-03           0.169602   \n",
       "MANUFACTURER_ID                2.459346e-04           0.009500   \n",
       "CURRENT_PINCODE_ID             1.410693e-03           0.202391   \n",
       "STATE_ID                       3.882704e-04           0.030141   \n",
       "EMPLOYEE_CODE_ID               1.498260e-03           0.198448   \n",
       "AADHAR_FLAG                    1.083035e-02           0.003495   \n",
       "PAN_FLAG                       1.105434e-08           0.001413   \n",
       "VOTERID_FLAG                   1.171158e-03           0.003721   \n",
       "PASSPORT_FLAG                  1.000000e+00           0.000899   \n",
       "PERFORM_CNS_SCORE              8.987865e-04           1.000000   \n",
       "PRI_OVERDUE_ACCTS              4.356338e-04           0.140394   \n",
       "NEW_ACCTS_IN_LAST_SIX_MONTHS   1.092751e-04           0.148329   \n",
       "NO_OF_INQUIRIES                4.911708e-05           0.029505   \n",
       "LOAN_DEFAULT                   7.294615e-05           0.058873   \n",
       "\n",
       "                              PRI_OVERDUE_ACCTS  NEW_ACCTS_IN_LAST_SIX_MONTHS  \\\n",
       "DISBURSED_AMOUNT                       0.023639                      0.037129   \n",
       "ASSET_COST                             0.037202                      0.061842   \n",
       "LTV                                    0.014042                      0.022028   \n",
       "BRANCH_ID                              0.005001                      0.010744   \n",
       "SUPPLIER_ID                            0.011984                      0.019655   \n",
       "MANUFACTURER_ID                        0.001268                      0.002105   \n",
       "CURRENT_PINCODE_ID                     0.015738                      0.026624   \n",
       "STATE_ID                               0.005389                      0.011247   \n",
       "EMPLOYEE_CODE_ID                       0.013356                      0.022283   \n",
       "AADHAR_FLAG                            0.000936                      0.004201   \n",
       "PAN_FLAG                               0.000301                      0.000223   \n",
       "VOTERID_FLAG                           0.001226                      0.004292   \n",
       "PASSPORT_FLAG                          0.000436                      0.000109   \n",
       "PERFORM_CNS_SCORE                      0.140394                      0.148329   \n",
       "PRI_OVERDUE_ACCTS                      1.000000                      0.013848   \n",
       "NEW_ACCTS_IN_LAST_SIX_MONTHS           0.013848                      1.000000   \n",
       "NO_OF_INQUIRIES                        0.010070                      0.070644   \n",
       "LOAN_DEFAULT                           0.005865                      0.023744   \n",
       "\n",
       "                              NO_OF_INQUIRIES  LOAN_DEFAULT  \n",
       "DISBURSED_AMOUNT                     0.027676      0.022441  \n",
       "ASSET_COST                           0.044234      0.034935  \n",
       "LTV                                  0.017005      0.008049  \n",
       "BRANCH_ID                            0.008039      0.005744  \n",
       "SUPPLIER_ID                          0.016326      0.008729  \n",
       "MANUFACTURER_ID                      0.001610      0.000612  \n",
       "CURRENT_PINCODE_ID                   0.020378      0.011285  \n",
       "STATE_ID                             0.008089      0.005396  \n",
       "EMPLOYEE_CODE_ID                     0.018232      0.009203  \n",
       "AADHAR_FLAG                          0.004158      0.002909  \n",
       "PAN_FLAG                             0.000806      0.000077  \n",
       "VOTERID_FLAG                         0.002960      0.003266  \n",
       "PASSPORT_FLAG                        0.000049      0.000073  \n",
       "PERFORM_CNS_SCORE                    0.029505      0.058873  \n",
       "PRI_OVERDUE_ACCTS                    0.010070      0.005865  \n",
       "NEW_ACCTS_IN_LAST_SIX_MONTHS         0.070644      0.023744  \n",
       "NO_OF_INQUIRIES                      1.000000      0.001568  \n",
       "LOAN_DEFAULT                         0.001568      1.000000  "
      ]
     },
     "execution_count": 19,
     "metadata": {},
     "output_type": "execute_result"
    }
   ],
   "source": [
    "from sklearn.metrics import normalized_mutual_info_score\n",
    "\n",
    "loan_df.corr(method=normalized_mutual_info_score)"
   ]
  },
  {
   "cell_type": "code",
   "execution_count": 20,
   "metadata": {},
   "outputs": [],
   "source": [
    "loan_df_epoch_time['EMPLOYMENT_TYPE'] = loan_df_epoch_time['EMPLOYMENT_TYPE'].astype('category')"
   ]
  },
  {
   "cell_type": "code",
   "execution_count": 21,
   "metadata": {},
   "outputs": [
    {
     "data": {
      "text/plain": [
       "[('DISBURSED_AMOUNT', 0.00818802562686849),\n",
       " ('ASSET_COST', 0.007926959787164511),\n",
       " ('LTV', 0.010061745087821539),\n",
       " ('BRANCH_ID', 0.014021439210180509),\n",
       " ('SUPPLIER_ID', 0.022572684395657294),\n",
       " ('MANUFACTURER_ID', 0.006790207432869622),\n",
       " ('CURRENT_PINCODE_ID', 0.022244919980581646),\n",
       " ('STATE_ID', 0.008577911525640358),\n",
       " ('EMPLOYEE_CODE_ID', 0.02518303576179992),\n",
       " ('AADHAR_FLAG', 0.016287988402544418),\n",
       " ('PAN_FLAG', 0.0),\n",
       " ('VOTERID_FLAG', 0.003965252018808707),\n",
       " ('PASSPORT_FLAG', 0.0006495101398427128),\n",
       " ('PERFORM_CNS_SCORE', 0.11059829825933143),\n",
       " ('PRI_OVERDUE_ACCTS', 0.0035034353719212152),\n",
       " ('NEW_ACCTS_IN_LAST_SIX_MONTHS', 0.015548876803417322),\n",
       " ('NO_OF_INQUIRIES', 0.0026642377675822893)]"
      ]
     },
     "execution_count": 21,
     "metadata": {},
     "output_type": "execute_result"
    }
   ],
   "source": [
    "from sklearn.feature_selection import mutual_info_classif\n",
    "\n",
    "numeric_features = loan_df.select_dtypes(include=['number']).copy()\n",
    "numeric_features.drop('LOAN_DEFAULT', axis=1, inplace=True)\n",
    "list(zip(numeric_features.columns, mutual_info_classif(numeric_features, loan_df['LOAN_DEFAULT'])))"
   ]
  },
  {
   "cell_type": "code",
   "execution_count": 22,
   "metadata": {},
   "outputs": [
    {
     "data": {
      "text/plain": [
       "(array([ 8.46807323, 48.3495596 ]), array([3.61434074e-03, 3.56624293e-12]))"
      ]
     },
     "execution_count": 22,
     "metadata": {},
     "output_type": "execute_result"
    }
   ],
   "source": [
    "from sklearn.feature_selection import chi2\n",
    "\n",
    "chi2(loan_df[['PAN_FLAG', 'STATE_ID']], loan_df['LOAN_DEFAULT'])"
   ]
  },
  {
   "cell_type": "code",
   "execution_count": 23,
   "metadata": {},
   "outputs": [
    {
     "data": {
      "text/plain": [
       "(array([2.41525739e+04, 9.15861992e+00, 1.74974209e+01]),\n",
       " array([0.00000000e+00, 2.47596457e-03, 2.87881660e-05]))"
      ]
     },
     "execution_count": 23,
     "metadata": {},
     "output_type": "execute_result"
    }
   ],
   "source": [
    "from sklearn.feature_selection import f_classif\n",
    "\n",
    "f_classif(loan_df[['PERFORM_CNS_SCORE', 'PAN_FLAG', 'STATE_ID']], loan_df['LOAN_DEFAULT'])"
   ]
  },
  {
   "cell_type": "code",
   "execution_count": 24,
   "metadata": {},
   "outputs": [
    {
     "data": {
      "text/plain": [
       "(133154, 5)"
      ]
     },
     "execution_count": 24,
     "metadata": {},
     "output_type": "execute_result"
    }
   ],
   "source": [
    "from sklearn.feature_selection import SelectKBest\n",
    "\n",
    "x = SelectKBest(f_classif, k=5).fit_transform(loan_df_epoch_time[interval_columns], loan_df_epoch_time['LOAN_DEFAULT'])\n",
    "x.shape"
   ]
  },
  {
   "cell_type": "markdown",
   "metadata": {},
   "source": [
    "# Feature engineering"
   ]
  },
  {
   "cell_type": "code",
   "execution_count": 25,
   "metadata": {},
   "outputs": [
    {
     "data": {
      "text/plain": [
       "('1', '11')"
      ]
     },
     "execution_count": 25,
     "metadata": {},
     "output_type": "execute_result"
    }
   ],
   "source": [
    "import re\n",
    "# prototype regex\n",
    "re.search(r'(\\d+)yrs\\s+(\\d+)mon', '1yrs 11mon').groups()"
   ]
  },
  {
   "cell_type": "code",
   "execution_count": 26,
   "metadata": {},
   "outputs": [],
   "source": [
    "def convert_date_spans(x):\n",
    "    \"\"\"\n",
    "    Parses date spans of the form \"1yrs 1mon\"\n",
    "    into the number of months as an integer.\n",
    "    \"\"\"\n",
    "    yrs, mon = re.search(r'(\\d+)yrs\\s+(\\d+)mon', x).groups()\n",
    "    yrs, mon = int(yrs), int(mon)\n",
    "    months = yrs * 12 + mon\n",
    "    return months"
   ]
  },
  {
   "cell_type": "code",
   "execution_count": 27,
   "metadata": {},
   "outputs": [
    {
     "data": {
      "application/vnd.jupyter.widget-view+json": {
       "model_id": "740be2a1e8074da3a4d35e1fa06ce596",
       "version_major": 2,
       "version_minor": 0
      },
      "text/plain": [
       "Pandas Apply:   0%|          | 0/133154 [00:00<?, ?it/s]"
      ]
     },
     "metadata": {},
     "output_type": "display_data"
    },
    {
     "data": {
      "application/vnd.jupyter.widget-view+json": {
       "model_id": "be1e7620856546b6ae4ba73bf328aa9d",
       "version_major": 2,
       "version_minor": 0
      },
      "text/plain": [
       "Pandas Apply:   0%|          | 0/133154 [00:00<?, ?it/s]"
      ]
     },
     "metadata": {},
     "output_type": "display_data"
    }
   ],
   "source": [
    "import swifter\n",
    "\n",
    "loan_df['AVERAGE_ACCT_AGE_MONTHS'] = loan_df.swifter.apply(lambda x: convert_date_spans(x['AVERAGE_ACCT_AGE']), axis=1)\n",
    "loan_df['CREDIT_HISTORY_LENGTH_MONTHS'] = loan_df.swifter.apply(lambda x: convert_date_spans(x['CREDIT_HISTORY_LENGTH']),\n",
    "                                                      axis=1)\n",
    "loan_df.drop(['AVERAGE_ACCT_AGE', 'CREDIT_HISTORY_LENGTH'], axis=1, inplace=True)"
   ]
  },
  {
   "cell_type": "code",
   "execution_count": 28,
   "metadata": {},
   "outputs": [
    {
     "data": {
      "text/plain": [
       "<AxesSubplot:>"
      ]
     },
     "execution_count": 28,
     "metadata": {},
     "output_type": "execute_result"
    },
    {
     "data": {
      "image/png": "[encoded data removed]",
      "text/plain": [
       "<Figure size 432x288 with 1 Axes>"
      ]
     },
     "metadata": {
      "needs_background": "light"
     },
     "output_type": "display_data"
    }
   ],
   "source": [
    "import seaborn as sns\n",
    "\n",
    "sns.boxplot(data=loan_df, orient='h')"
   ]
  },
  {
   "cell_type": "code",
   "execution_count": 29,
   "metadata": {},
   "outputs": [
    {
     "data": {
      "text/plain": [
       "<AxesSubplot:>"
      ]
     },
     "execution_count": 29,
     "metadata": {},
     "output_type": "execute_result"
    },
    {
     "data": {
      "image/png": "[encoded data removed]",
      "text/plain": [
       "<Figure size 432x288 with 1 Axes>"
      ]
     },
     "metadata": {
      "needs_background": "light"
     },
     "output_type": "display_data"
    }
   ],
   "source": [
    "dropcols = ['DISBURSED_AMOUNT', 'ASSET_COST', 'PERFORM_CNS_SCORE', 'LOAN_DEFAULT'] + \\\n",
    "            [c for c in loan_df.columns if 'ID' in c or 'FLAG' in c]\n",
    "sns.boxplot(data=loan_df.drop(dropcols, axis=1), orient='h')"
   ]
  },
  {
   "cell_type": "code",
   "execution_count": 30,
   "metadata": {},
   "outputs": [
    {
     "data": {
      "text/plain": [
       "<AxesSubplot:>"
      ]
     },
     "execution_count": 30,
     "metadata": {},
     "output_type": "execute_result"
    },
    {
     "data": {
      "image/png": "[encoded data removed]",
      "text/plain": [
       "<Figure size 432x288 with 1 Axes>"
      ]
     },
     "metadata": {
      "needs_background": "light"
     },
     "output_type": "display_data"
    }
   ],
   "source": [
    "loan_df['AVERAGE_ACCT_AGE_MONTHS'].plot.box()"
   ]
  },
  {
   "cell_type": "code",
   "execution_count": 31,
   "metadata": {},
   "outputs": [
    {
     "data": {
      "image/png": "[encoded data removed]",
      "text/plain": [
       "<Figure size 396x396 with 2 Axes>"
      ]
     },
     "metadata": {
      "needs_background": "light"
     },
     "output_type": "display_data"
    }
   ],
   "source": [
    "f, ax = plt.subplots(2, 1, figsize=(5.5, 5.5))\n",
    "loan_df['AVERAGE_ACCT_AGE_MONTHS'].plot.hist(bins=30, ax=ax[0], title='AVERAGE_ACCT_AGE_MONTHS')\n",
    "loan_df['DISBURSED_AMOUNT'].plot.hist(bins=50, ax=ax[1], title='DISBURSED_AMOUNT')\n",
    "plt.tight_layout()"
   ]
  },
  {
   "cell_type": "code",
   "execution_count": 32,
   "metadata": {},
   "outputs": [
    {
     "data": {
      "text/plain": [
       "<AxesSubplot:ylabel='Frequency'>"
      ]
     },
     "execution_count": 32,
     "metadata": {},
     "output_type": "execute_result"
    },
    {
     "data": {
      "image/png": "[encoded data removed]",
      "text/plain": [
       "<Figure size 432x288 with 1 Axes>"
      ]
     },
     "metadata": {
      "needs_background": "light"
     },
     "output_type": "display_data"
    }
   ],
   "source": [
    "loan_df['AVERAGE_ACCT_AGE_MONTHS'].plot.hist(bins=30)"
   ]
  },
  {
   "cell_type": "code",
   "execution_count": 33,
   "metadata": {},
   "outputs": [
    {
     "data": {
      "text/plain": [
       "<AxesSubplot:ylabel='Frequency'>"
      ]
     },
     "execution_count": 33,
     "metadata": {},
     "output_type": "execute_result"
    },
    {
     "data": {
      "image/png": "[encoded data removed]",
      "text/plain": [
       "<Figure size 432x288 with 1 Axes>"
      ]
     },
     "metadata": {
      "needs_background": "light"
     },
     "output_type": "display_data"
    }
   ],
   "source": [
    "loan_df['DISBURSED_AMOUNT'].plot.hist(bins=50)"
   ]
  },
  {
   "cell_type": "code",
   "execution_count": 34,
   "metadata": {},
   "outputs": [
    {
     "data": {
      "text/plain": [
       "80400.0"
      ]
     },
     "execution_count": 34,
     "metadata": {},
     "output_type": "execute_result"
    }
   ],
   "source": [
    "import numpy as np\n",
    "\n",
    "q3 = loan_df['DISBURSED_AMOUNT'].quantile(0.75)\n",
    "q1 = loan_df['DISBURSED_AMOUNT'].quantile(0.25)\n",
    "iqr = (q3 - q1)\n",
    "outliers = np.where(loan_df['DISBURSED_AMOUNT'] > (q3 + 1.5 * iqr))[0]\n",
    "1.5 * iqr + q3"
   ]
  },
  {
   "cell_type": "code",
   "execution_count": 35,
   "metadata": {},
   "outputs": [
    {
     "data": {
      "text/plain": [
       "21         93799\n",
       "107        91355\n",
       "131        96190\n",
       "149       112463\n",
       "166        84023\n",
       "           ...  \n",
       "132840     93000\n",
       "132887     93520\n",
       "132924     82033\n",
       "133007     97899\n",
       "133122     85243\n",
       "Name: DISBURSED_AMOUNT, Length: 4127, dtype: int64"
      ]
     },
     "execution_count": 35,
     "metadata": {},
     "output_type": "execute_result"
    }
   ],
   "source": [
    "loan_df['DISBURSED_AMOUNT'][outliers]"
   ]
  },
  {
   "cell_type": "code",
   "execution_count": 36,
   "metadata": {},
   "outputs": [
    {
     "data": {
      "text/plain": [
       "0         48349\n",
       "1         55159\n",
       "2         67882\n",
       "3         55613\n",
       "4         46249\n",
       "          ...  \n",
       "133149    63213\n",
       "133150    48549\n",
       "133151    62613\n",
       "133152    48803\n",
       "133153    52003\n",
       "Name: DISBURSED_AMOUNT, Length: 133154, dtype: int64"
      ]
     },
     "execution_count": 36,
     "metadata": {},
     "output_type": "execute_result"
    }
   ],
   "source": [
    "loan_df['DISBURSED_AMOUNT'].clip(upper=1.5 * iqr + q3)"
   ]
  },
  {
   "cell_type": "code",
   "execution_count": 37,
   "metadata": {},
   "outputs": [
    {
     "data": {
      "text/plain": [
       "21        80400\n",
       "107       80400\n",
       "131       80400\n",
       "149       80400\n",
       "166       80400\n",
       "          ...  \n",
       "132840    80400\n",
       "132887    80400\n",
       "132924    80400\n",
       "133007    80400\n",
       "133122    80400\n",
       "Name: DISBURSED_AMOUNT, Length: 4127, dtype: int64"
      ]
     },
     "execution_count": 37,
     "metadata": {},
     "output_type": "execute_result"
    }
   ],
   "source": [
    "loan_df['DISBURSED_AMOUNT'].clip(upper=1.5 * iqr + q3)[outliers]"
   ]
  },
  {
   "cell_type": "markdown",
   "metadata": {},
   "source": [
    "## Combining multiple columns"
   ]
  },
  {
   "cell_type": "code",
   "execution_count": 38,
   "metadata": {},
   "outputs": [
    {
     "data": {
      "text/plain": [
       "0         13463\n",
       "1         15634\n",
       "2          9702\n",
       "3          7917\n",
       "4         14124\n",
       "          ...  \n",
       "133149    14085\n",
       "133150     8144\n",
       "133151    10521\n",
       "133152    12152\n",
       "133153    16312\n",
       "Length: 133154, dtype: int64"
      ]
     },
     "execution_count": 38,
     "metadata": {},
     "output_type": "execute_result"
    }
   ],
   "source": [
    "(loan_df['DISBURSAL_DATE'] - loan_df['DATE_OF_BIRTH']).dt.days"
   ]
  },
  {
   "cell_type": "code",
   "execution_count": 39,
   "metadata": {},
   "outputs": [],
   "source": [
    "loan_df['AGE'] = (loan_df['DISBURSAL_DATE'] - loan_df['DATE_OF_BIRTH']) // 365"
   ]
  },
  {
   "cell_type": "code",
   "execution_count": 40,
   "metadata": {},
   "outputs": [
    {
     "data": {
      "text/plain": [
       "0         13463\n",
       "1         15634\n",
       "2          9702\n",
       "3          7917\n",
       "4         14124\n",
       "          ...  \n",
       "133149    14085\n",
       "133150     8144\n",
       "133151    10521\n",
       "133152    12152\n",
       "133153    16312\n",
       "Length: 133154, dtype: int64"
      ]
     },
     "execution_count": 40,
     "metadata": {},
     "output_type": "execute_result"
    }
   ],
   "source": [
    "(loan_df['DISBURSAL_DATE'] - loan_df['DATE_OF_BIRTH']).dt.days"
   ]
  },
  {
   "cell_type": "code",
   "execution_count": 41,
   "metadata": {},
   "outputs": [
    {
     "data": {
      "application/vnd.jupyter.widget-view+json": {
       "model_id": "ef93a23a1914457b9f1fa2ba3471cc72",
       "version_major": 2,
       "version_minor": 0
      },
      "text/plain": [
       "Pandas Apply:   0%|          | 0/133154 [00:00<?, ?it/s]"
      ]
     },
     "metadata": {},
     "output_type": "display_data"
    }
   ],
   "source": [
    "from dateutil import relativedelta\n",
    "\n",
    "# this method of calculating age is more precise\n",
    "def calculate_age_in_years(x):\n",
    "    return relativedelta.relativedelta(x['DISBURSAL_DATE'], x['DATE_OF_BIRTH']).years\n",
    "    \n",
    "loan_df['AGE'] = loan_df.swifter.apply(lambda x: calculate_age_in_years(x), axis=1)"
   ]
  },
  {
   "cell_type": "code",
   "execution_count": 42,
   "metadata": {},
   "outputs": [
    {
     "data": {
      "text/plain": [
       "<AxesSubplot:ylabel='Frequency'>"
      ]
     },
     "execution_count": 42,
     "metadata": {},
     "output_type": "execute_result"
    },
    {
     "data": {
      "image/png": "[encoded data removed]",
      "text/plain": [
       "<Figure size 432x288 with 1 Axes>"
      ]
     },
     "metadata": {
      "needs_background": "light"
     },
     "output_type": "display_data"
    }
   ],
   "source": [
    "loan_df['AGE'].plot.hist(bins=50)"
   ]
  },
  {
   "cell_type": "markdown",
   "metadata": {},
   "source": [
    "# Transforming numeric data\n",
    "## Standardization"
   ]
  },
  {
   "cell_type": "code",
   "execution_count": 43,
   "metadata": {},
   "outputs": [
    {
     "data": {
      "image/png": "[encoded data removed]",
      "text/plain": [
       "<Figure size 396x396 with 2 Axes>"
      ]
     },
     "metadata": {
      "needs_background": "light"
     },
     "output_type": "display_data"
    }
   ],
   "source": [
    "from sklearn.preprocessing import StandardScaler\n",
    "\n",
    "scaler = StandardScaler()\n",
    "loan_df['standardized_age'] = scaler.fit_transform(loan_df['AGE'].values.reshape(-1, 1))\n",
    "\n",
    "f, ax = plt.subplots(2, 1, figsize=(5.5, 5.5))\n",
    "loan_df['AGE'].plot.hist(ax=ax[0], title='AGE', bins=50)\n",
    "loan_df['standardized_age'].plot.hist(ax=ax[1], title='standardized_age', bins=50)\n",
    "plt.tight_layout()"
   ]
  },
  {
   "cell_type": "code",
   "execution_count": 44,
   "metadata": {},
   "outputs": [
    {
     "data": {
      "text/plain": [
       "count    1.331540e+05\n",
       "mean    -5.176160e-17\n",
       "std      1.000004e+00\n",
       "min     -1.623361e+00\n",
       "25%     -8.085419e-01\n",
       "50%     -1.974278e-01\n",
       "75%      7.192434e-01\n",
       "max      3.571109e+00\n",
       "Name: standardized_age, dtype: float64"
      ]
     },
     "execution_count": 44,
     "metadata": {},
     "output_type": "execute_result"
    }
   ],
   "source": [
    "loan_df['standardized_age'].describe()"
   ]
  },
  {
   "cell_type": "markdown",
   "metadata": {},
   "source": [
    "## Box-cox and Yeo-Johnson transforms"
   ]
  },
  {
   "cell_type": "code",
   "execution_count": 45,
   "metadata": {},
   "outputs": [
    {
     "data": {
      "image/png": "[encoded data removed]",
      "text/plain": [
       "<Figure size 396x396 with 2 Axes>"
      ]
     },
     "metadata": {
      "needs_background": "light"
     },
     "output_type": "display_data"
    }
   ],
   "source": [
    "from sklearn.preprocessing import PowerTransformer\n",
    "\n",
    "pt = PowerTransformer()\n",
    "\n",
    "loan_df['xform_age'] = pt.fit_transform(loan_df['AGE'].values.reshape(-1, 1))\n",
    "\n",
    "f, ax = plt.subplots(2, 1, figsize=(5.5, 5.5))\n",
    "loan_df['AGE'].plot.hist(ax=ax[0], title='AGE', bins=50)\n",
    "loan_df['xform_age'].plot.hist(ax=ax[1], title='xform_age', bins=50)\n",
    "plt.tight_layout()"
   ]
  },
  {
   "cell_type": "code",
   "execution_count": 46,
   "metadata": {},
   "outputs": [
    {
     "data": {
      "text/plain": [
       "array([[ 0.3856874 ],\n",
       "       [ 0.90523825],\n",
       "       [-0.78502857],\n",
       "       ...,\n",
       "       [-0.50945023],\n",
       "       [ 0.08259266],\n",
       "       [ 1.05772199]])"
      ]
     },
     "execution_count": 46,
     "metadata": {},
     "output_type": "execute_result"
    }
   ],
   "source": [
    "pt.transform(loan_df['AGE'].values.reshape(-1, 1))"
   ]
  },
  {
   "cell_type": "code",
   "execution_count": 47,
   "metadata": {},
   "outputs": [],
   "source": [
    "import pickle as pk\n",
    "\n",
    "with open('age_pt.pk', 'wb') as f:\n",
    "    pk.dump(pt, f)"
   ]
  },
  {
   "cell_type": "markdown",
   "metadata": {},
   "source": [
    "# Extracting datetime features"
   ]
  },
  {
   "cell_type": "code",
   "execution_count": 48,
   "metadata": {},
   "outputs": [
    {
     "data": {
      "text/plain": [
       "0         1\n",
       "1         6\n",
       "2         3\n",
       "3         2\n",
       "4         2\n",
       "         ..\n",
       "133149    4\n",
       "133150    4\n",
       "133151    0\n",
       "133152    2\n",
       "133153    3\n",
       "Name: DISBURSAL_DATE, Length: 133154, dtype: int64"
      ]
     },
     "execution_count": 48,
     "metadata": {},
     "output_type": "execute_result"
    }
   ],
   "source": [
    "loan_df['DISBURSAL_DATE'].dt.dayofweek"
   ]
  },
  {
   "cell_type": "markdown",
   "metadata": {},
   "source": [
    "# Binning"
   ]
  },
  {
   "cell_type": "code",
   "execution_count": 49,
   "metadata": {},
   "outputs": [
    {
     "data": {
      "text/plain": [
       "0         2\n",
       "1         5\n",
       "2         8\n",
       "3         5\n",
       "4         2\n",
       "         ..\n",
       "133149    8\n",
       "133150    2\n",
       "133151    8\n",
       "133152    3\n",
       "133153    4\n",
       "Name: binned_disbursed_amount, Length: 133154, dtype: int32"
      ]
     },
     "execution_count": 49,
     "metadata": {},
     "output_type": "execute_result"
    }
   ],
   "source": [
    "from sklearn.preprocessing import KBinsDiscretizer\n",
    "\n",
    "kbd = KBinsDiscretizer(n_bins=10, encode='ordinal')\n",
    "loan_df['binned_disbursed_amount'] = kbd.fit_transform(loan_df['DISBURSED_AMOUNT'].values.reshape(-1, 1)).astype('int')\n",
    "loan_df['binned_disbursed_amount']"
   ]
  },
  {
   "cell_type": "markdown",
   "metadata": {},
   "source": [
    "# One-hot encoding and label encoding"
   ]
  },
  {
   "cell_type": "code",
   "execution_count": 50,
   "metadata": {},
   "outputs": [
    {
     "data": {
      "text/plain": [
       "array(['Salaried', 'Self employed'], dtype=object)"
      ]
     },
     "execution_count": 50,
     "metadata": {},
     "output_type": "execute_result"
    }
   ],
   "source": [
    "loan_df['EMPLOYMENT_TYPE'].fillna('Self employed', inplace=True)\n",
    "# double-check to make sure we only have 2 unique values\n",
    "loan_df['EMPLOYMENT_TYPE'].unique()"
   ]
  },
  {
   "cell_type": "code",
   "execution_count": 51,
   "metadata": {},
   "outputs": [
    {
     "data": {
      "text/plain": [
       "array([0, 1])"
      ]
     },
     "execution_count": 51,
     "metadata": {},
     "output_type": "execute_result"
    }
   ],
   "source": [
    "loan_df['EMPLOYMENT_TYPE'] = loan_df['EMPLOYMENT_TYPE'].map(lambda x: 1 if x == 'Self employed' else 0)\n",
    "# convert from object to int dtype\n",
    "loan_df['EMPLOYMENT_TYPE'] = loan_df['EMPLOYMENT_TYPE'].astype('int')\n",
    "loan_df['EMPLOYMENT_TYPE'].unique()"
   ]
  },
  {
   "cell_type": "code",
   "execution_count": 52,
   "metadata": {},
   "outputs": [
    {
     "data": {
      "text/plain": [
       "0          2\n",
       "1         34\n",
       "2          4\n",
       "3         47\n",
       "4         30\n",
       "          ..\n",
       "133149    56\n",
       "133150     1\n",
       "133151     2\n",
       "133152    24\n",
       "133153     1\n",
       "Name: le_branch_id, Length: 133154, dtype: int64"
      ]
     },
     "execution_count": 52,
     "metadata": {},
     "output_type": "execute_result"
    }
   ],
   "source": [
    "from sklearn.preprocessing import LabelEncoder\n",
    "\n",
    "le = LabelEncoder()\n",
    "loan_df['le_branch_id'] = le.fit_transform(loan_df['BRANCH_ID'])\n",
    "loan_df['le_branch_id']"
   ]
  },
  {
   "cell_type": "code",
   "execution_count": 53,
   "metadata": {},
   "outputs": [
    {
     "data": {
      "text/plain": [
       "(82,)"
      ]
     },
     "execution_count": 53,
     "metadata": {},
     "output_type": "execute_result"
    }
   ],
   "source": [
    "loan_df['BRANCH_ID'].unique().shape"
   ]
  },
  {
   "cell_type": "code",
   "execution_count": 54,
   "metadata": {},
   "outputs": [
    {
     "data": {
      "text/plain": [
       "81"
      ]
     },
     "execution_count": 54,
     "metadata": {},
     "output_type": "execute_result"
    }
   ],
   "source": [
    "loan_df['le_branch_id'].max()"
   ]
  },
  {
   "cell_type": "markdown",
   "metadata": {},
   "source": [
    "### Simplifying categorical columns"
   ]
  },
  {
   "cell_type": "code",
   "execution_count": 55,
   "metadata": {},
   "outputs": [
    {
     "data": {
      "text/plain": [
       "86     0.469434\n",
       "45     0.712679\n",
       "51     0.828297\n",
       "48     0.900701\n",
       "49     0.944493\n",
       "120    0.985889\n",
       "67     0.996523\n",
       "145    0.999902\n",
       "153    0.999970\n",
       "152    1.000000\n",
       "Name: MANUFACTURER_ID, dtype: float64"
      ]
     },
     "execution_count": 55,
     "metadata": {},
     "output_type": "execute_result"
    }
   ],
   "source": [
    "(loan_df['MANUFACTURER_ID'].value_counts().cumsum() / loan_df.shape[0])[:20]"
   ]
  },
  {
   "cell_type": "markdown",
   "metadata": {},
   "source": [
    "### Simplifying categorical columns"
   ]
  },
  {
   "cell_type": "code",
   "execution_count": 56,
   "metadata": {},
   "outputs": [
    {
     "data": {
      "text/plain": [
       "86     62507\n",
       "45     32389\n",
       "51     15395\n",
       "48      9641\n",
       "49      5831\n",
       "120     5512\n",
       "67      1416\n",
       "145      450\n",
       "153        9\n",
       "152        4\n",
       "Name: MANUFACTURER_ID, dtype: int64"
      ]
     },
     "execution_count": 56,
     "metadata": {},
     "output_type": "execute_result"
    }
   ],
   "source": [
    "loan_df['MANUFACTURER_ID'].value_counts()"
   ]
  },
  {
   "cell_type": "code",
   "execution_count": 57,
   "metadata": {},
   "outputs": [
    {
     "data": {
      "image/png": "[encoded data removed]",
      "text/plain": [
       "<Figure size 396x396 with 1 Axes>"
      ]
     },
     "metadata": {
      "needs_background": "light"
     },
     "output_type": "display_data"
    }
   ],
   "source": [
    "(loan_df['MANUFACTURER_ID'].value_counts().cumsum() / loan_df.shape[0]).reset_index(drop=True).plot(marker='.', figsize=(5.5, 5.5))\n",
    "plt.xlabel('MANUFACTURER_ID')\n",
    "plt.ylabel('cumulative percent of values')\n",
    "plt.xticks(range(loan_df['MANUFACTURER_ID'].unique().shape[0]), loan_df['MANUFACTURER_ID'].value_counts().index)\n",
    "plt.tight_layout()"
   ]
  },
  {
   "cell_type": "code",
   "execution_count": 58,
   "metadata": {},
   "outputs": [],
   "source": [
    "# any manufacterer ids not in the top 6 are set to 'other'\n",
    "loan_df.loc[~loan_df['MANUFACTURER_ID'].isin([86, 45, 51, 48, 49, 120]), 'MANUFACTURER_ID'] = 'other'\n",
    "# could also do this way\n",
    "loan_df.loc[loan_df['MANUFACTURER_ID'].isin([67, 145, 153, 152]), 'MANUFACTURER_ID'] = 'other'"
   ]
  },
  {
   "cell_type": "code",
   "execution_count": 59,
   "metadata": {},
   "outputs": [
    {
     "data": {
      "text/html": [
       "<div>\n",
       "<style scoped>\n",
       "    .dataframe tbody tr th:only-of-type {\n",
       "        vertical-align: middle;\n",
       "    }\n",
       "\n",
       "    .dataframe tbody tr th {\n",
       "        vertical-align: top;\n",
       "    }\n",
       "\n",
       "    .dataframe thead th {\n",
       "        text-align: right;\n",
       "    }\n",
       "</style>\n",
       "<table border=\"1\" class=\"dataframe\">\n",
       "  <thead>\n",
       "    <tr style=\"text-align: right;\">\n",
       "      <th></th>\n",
       "      <th>MANU_ID=45</th>\n",
       "      <th>MANU_ID=48</th>\n",
       "      <th>MANU_ID=49</th>\n",
       "      <th>MANU_ID=51</th>\n",
       "      <th>MANU_ID=86</th>\n",
       "      <th>MANU_ID=120</th>\n",
       "    </tr>\n",
       "  </thead>\n",
       "  <tbody>\n",
       "    <tr>\n",
       "      <th>0</th>\n",
       "      <td>0</td>\n",
       "      <td>0</td>\n",
       "      <td>0</td>\n",
       "      <td>1</td>\n",
       "      <td>0</td>\n",
       "      <td>0</td>\n",
       "    </tr>\n",
       "    <tr>\n",
       "      <th>1</th>\n",
       "      <td>1</td>\n",
       "      <td>0</td>\n",
       "      <td>0</td>\n",
       "      <td>0</td>\n",
       "      <td>0</td>\n",
       "      <td>0</td>\n",
       "    </tr>\n",
       "    <tr>\n",
       "      <th>2</th>\n",
       "      <td>0</td>\n",
       "      <td>0</td>\n",
       "      <td>0</td>\n",
       "      <td>1</td>\n",
       "      <td>0</td>\n",
       "      <td>0</td>\n",
       "    </tr>\n",
       "    <tr>\n",
       "      <th>3</th>\n",
       "      <td>0</td>\n",
       "      <td>0</td>\n",
       "      <td>0</td>\n",
       "      <td>0</td>\n",
       "      <td>1</td>\n",
       "      <td>0</td>\n",
       "    </tr>\n",
       "    <tr>\n",
       "      <th>4</th>\n",
       "      <td>1</td>\n",
       "      <td>0</td>\n",
       "      <td>0</td>\n",
       "      <td>0</td>\n",
       "      <td>0</td>\n",
       "      <td>0</td>\n",
       "    </tr>\n",
       "    <tr>\n",
       "      <th>...</th>\n",
       "      <td>...</td>\n",
       "      <td>...</td>\n",
       "      <td>...</td>\n",
       "      <td>...</td>\n",
       "      <td>...</td>\n",
       "      <td>...</td>\n",
       "    </tr>\n",
       "    <tr>\n",
       "      <th>133149</th>\n",
       "      <td>1</td>\n",
       "      <td>0</td>\n",
       "      <td>0</td>\n",
       "      <td>0</td>\n",
       "      <td>0</td>\n",
       "      <td>0</td>\n",
       "    </tr>\n",
       "    <tr>\n",
       "      <th>133150</th>\n",
       "      <td>0</td>\n",
       "      <td>0</td>\n",
       "      <td>1</td>\n",
       "      <td>0</td>\n",
       "      <td>0</td>\n",
       "      <td>0</td>\n",
       "    </tr>\n",
       "    <tr>\n",
       "      <th>133151</th>\n",
       "      <td>0</td>\n",
       "      <td>0</td>\n",
       "      <td>0</td>\n",
       "      <td>1</td>\n",
       "      <td>0</td>\n",
       "      <td>0</td>\n",
       "    </tr>\n",
       "    <tr>\n",
       "      <th>133152</th>\n",
       "      <td>1</td>\n",
       "      <td>0</td>\n",
       "      <td>0</td>\n",
       "      <td>0</td>\n",
       "      <td>0</td>\n",
       "      <td>0</td>\n",
       "    </tr>\n",
       "    <tr>\n",
       "      <th>133153</th>\n",
       "      <td>0</td>\n",
       "      <td>0</td>\n",
       "      <td>0</td>\n",
       "      <td>1</td>\n",
       "      <td>0</td>\n",
       "      <td>0</td>\n",
       "    </tr>\n",
       "  </tbody>\n",
       "</table>\n",
       "<p>133154 rows × 6 columns</p>\n",
       "</div>"
      ],
      "text/plain": [
       "        MANU_ID=45  MANU_ID=48  MANU_ID=49  MANU_ID=51  MANU_ID=86  \\\n",
       "0                0           0           0           1           0   \n",
       "1                1           0           0           0           0   \n",
       "2                0           0           0           1           0   \n",
       "3                0           0           0           0           1   \n",
       "4                1           0           0           0           0   \n",
       "...            ...         ...         ...         ...         ...   \n",
       "133149           1           0           0           0           0   \n",
       "133150           0           0           1           0           0   \n",
       "133151           0           0           0           1           0   \n",
       "133152           1           0           0           0           0   \n",
       "133153           0           0           0           1           0   \n",
       "\n",
       "        MANU_ID=120  \n",
       "0                 0  \n",
       "1                 0  \n",
       "2                 0  \n",
       "3                 0  \n",
       "4                 0  \n",
       "...             ...  \n",
       "133149            0  \n",
       "133150            0  \n",
       "133151            0  \n",
       "133152            0  \n",
       "133153            0  \n",
       "\n",
       "[133154 rows x 6 columns]"
      ]
     },
     "execution_count": 59,
     "metadata": {},
     "output_type": "execute_result"
    }
   ],
   "source": [
    "manufacturer_ohe = pd.get_dummies(loan_df['MANUFACTURER_ID'],\n",
    "                                    prefix='MANU_ID',\n",
    "                                    prefix_sep='=').drop(['MANU_ID=other'], axis=1)\n",
    "manufacturer_ohe"
   ]
  },
  {
   "cell_type": "code",
   "execution_count": 60,
   "metadata": {},
   "outputs": [
    {
     "data": {
      "text/html": [
       "<div>\n",
       "<style scoped>\n",
       "    .dataframe tbody tr th:only-of-type {\n",
       "        vertical-align: middle;\n",
       "    }\n",
       "\n",
       "    .dataframe tbody tr th {\n",
       "        vertical-align: top;\n",
       "    }\n",
       "\n",
       "    .dataframe thead th {\n",
       "        text-align: right;\n",
       "    }\n",
       "</style>\n",
       "<table border=\"1\" class=\"dataframe\">\n",
       "  <thead>\n",
       "    <tr style=\"text-align: right;\">\n",
       "      <th></th>\n",
       "      <th>DISBURSED_AMOUNT</th>\n",
       "      <th>ASSET_COST</th>\n",
       "      <th>LTV</th>\n",
       "      <th>BRANCH_ID</th>\n",
       "      <th>SUPPLIER_ID</th>\n",
       "      <th>MANUFACTURER_ID</th>\n",
       "      <th>CURRENT_PINCODE_ID</th>\n",
       "      <th>DATE_OF_BIRTH</th>\n",
       "      <th>EMPLOYMENT_TYPE</th>\n",
       "      <th>DISBURSAL_DATE</th>\n",
       "      <th>...</th>\n",
       "      <th>standardized_age</th>\n",
       "      <th>xform_age</th>\n",
       "      <th>binned_disbursed_amount</th>\n",
       "      <th>le_branch_id</th>\n",
       "      <th>MANU_ID=45</th>\n",
       "      <th>MANU_ID=48</th>\n",
       "      <th>MANU_ID=49</th>\n",
       "      <th>MANU_ID=51</th>\n",
       "      <th>MANU_ID=86</th>\n",
       "      <th>MANU_ID=120</th>\n",
       "    </tr>\n",
       "  </thead>\n",
       "  <tbody>\n",
       "    <tr>\n",
       "      <th>0</th>\n",
       "      <td>48349</td>\n",
       "      <td>65210</td>\n",
       "      <td>76.68</td>\n",
       "      <td>3</td>\n",
       "      <td>16092</td>\n",
       "      <td>51</td>\n",
       "      <td>51</td>\n",
       "      <td>1981-12-20</td>\n",
       "      <td>0</td>\n",
       "      <td>2018-10-30</td>\n",
       "      <td>...</td>\n",
       "      <td>0.209982</td>\n",
       "      <td>0.385687</td>\n",
       "      <td>2</td>\n",
       "      <td>2</td>\n",
       "      <td>0</td>\n",
       "      <td>0</td>\n",
       "      <td>0</td>\n",
       "      <td>1</td>\n",
       "      <td>0</td>\n",
       "      <td>0</td>\n",
       "    </tr>\n",
       "    <tr>\n",
       "      <th>1</th>\n",
       "      <td>55159</td>\n",
       "      <td>62972</td>\n",
       "      <td>88.93</td>\n",
       "      <td>72</td>\n",
       "      <td>16682</td>\n",
       "      <td>45</td>\n",
       "      <td>475</td>\n",
       "      <td>1976-01-01</td>\n",
       "      <td>1</td>\n",
       "      <td>2018-10-21</td>\n",
       "      <td>...</td>\n",
       "      <td>0.821096</td>\n",
       "      <td>0.905238</td>\n",
       "      <td>5</td>\n",
       "      <td>34</td>\n",
       "      <td>1</td>\n",
       "      <td>0</td>\n",
       "      <td>0</td>\n",
       "      <td>0</td>\n",
       "      <td>0</td>\n",
       "      <td>0</td>\n",
       "    </tr>\n",
       "    <tr>\n",
       "      <th>2</th>\n",
       "      <td>67882</td>\n",
       "      <td>113530</td>\n",
       "      <td>61.66</td>\n",
       "      <td>7</td>\n",
       "      <td>23091</td>\n",
       "      <td>51</td>\n",
       "      <td>5858</td>\n",
       "      <td>1992-03-26</td>\n",
       "      <td>1</td>\n",
       "      <td>2018-10-18</td>\n",
       "      <td>...</td>\n",
       "      <td>-0.808542</td>\n",
       "      <td>-0.785029</td>\n",
       "      <td>8</td>\n",
       "      <td>4</td>\n",
       "      <td>0</td>\n",
       "      <td>0</td>\n",
       "      <td>0</td>\n",
       "      <td>1</td>\n",
       "      <td>0</td>\n",
       "      <td>0</td>\n",
       "    </tr>\n",
       "    <tr>\n",
       "      <th>3</th>\n",
       "      <td>55613</td>\n",
       "      <td>69807</td>\n",
       "      <td>85.95</td>\n",
       "      <td>103</td>\n",
       "      <td>20285</td>\n",
       "      <td>86</td>\n",
       "      <td>6995</td>\n",
       "      <td>1997-01-01</td>\n",
       "      <td>1</td>\n",
       "      <td>2018-09-05</td>\n",
       "      <td>...</td>\n",
       "      <td>-1.317804</td>\n",
       "      <td>-1.609313</td>\n",
       "      <td>5</td>\n",
       "      <td>47</td>\n",
       "      <td>0</td>\n",
       "      <td>0</td>\n",
       "      <td>0</td>\n",
       "      <td>0</td>\n",
       "      <td>1</td>\n",
       "      <td>0</td>\n",
       "    </tr>\n",
       "    <tr>\n",
       "      <th>4</th>\n",
       "      <td>46249</td>\n",
       "      <td>67645</td>\n",
       "      <td>70.22</td>\n",
       "      <td>67</td>\n",
       "      <td>18129</td>\n",
       "      <td>45</td>\n",
       "      <td>1511</td>\n",
       "      <td>1980-02-22</td>\n",
       "      <td>0</td>\n",
       "      <td>2018-10-24</td>\n",
       "      <td>...</td>\n",
       "      <td>0.413686</td>\n",
       "      <td>0.570433</td>\n",
       "      <td>2</td>\n",
       "      <td>30</td>\n",
       "      <td>1</td>\n",
       "      <td>0</td>\n",
       "      <td>0</td>\n",
       "      <td>0</td>\n",
       "      <td>0</td>\n",
       "      <td>0</td>\n",
       "    </tr>\n",
       "    <tr>\n",
       "      <th>...</th>\n",
       "      <td>...</td>\n",
       "      <td>...</td>\n",
       "      <td>...</td>\n",
       "      <td>...</td>\n",
       "      <td>...</td>\n",
       "      <td>...</td>\n",
       "      <td>...</td>\n",
       "      <td>...</td>\n",
       "      <td>...</td>\n",
       "      <td>...</td>\n",
       "      <td>...</td>\n",
       "      <td>...</td>\n",
       "      <td>...</td>\n",
       "      <td>...</td>\n",
       "      <td>...</td>\n",
       "      <td>...</td>\n",
       "      <td>...</td>\n",
       "      <td>...</td>\n",
       "      <td>...</td>\n",
       "      <td>...</td>\n",
       "      <td>...</td>\n",
       "    </tr>\n",
       "    <tr>\n",
       "      <th>133149</th>\n",
       "      <td>63213</td>\n",
       "      <td>75976</td>\n",
       "      <td>84.24</td>\n",
       "      <td>136</td>\n",
       "      <td>23672</td>\n",
       "      <td>45</td>\n",
       "      <td>3773</td>\n",
       "      <td>1980-04-03</td>\n",
       "      <td>1</td>\n",
       "      <td>2018-10-26</td>\n",
       "      <td>...</td>\n",
       "      <td>0.413686</td>\n",
       "      <td>0.570433</td>\n",
       "      <td>8</td>\n",
       "      <td>56</td>\n",
       "      <td>1</td>\n",
       "      <td>0</td>\n",
       "      <td>0</td>\n",
       "      <td>0</td>\n",
       "      <td>0</td>\n",
       "      <td>0</td>\n",
       "    </tr>\n",
       "    <tr>\n",
       "      <th>133150</th>\n",
       "      <td>48549</td>\n",
       "      <td>98000</td>\n",
       "      <td>50.20</td>\n",
       "      <td>2</td>\n",
       "      <td>24261</td>\n",
       "      <td>49</td>\n",
       "      <td>1670</td>\n",
       "      <td>1996-04-30</td>\n",
       "      <td>0</td>\n",
       "      <td>2018-08-17</td>\n",
       "      <td>...</td>\n",
       "      <td>-1.215951</td>\n",
       "      <td>-1.425946</td>\n",
       "      <td>2</td>\n",
       "      <td>1</td>\n",
       "      <td>0</td>\n",
       "      <td>0</td>\n",
       "      <td>1</td>\n",
       "      <td>0</td>\n",
       "      <td>0</td>\n",
       "      <td>0</td>\n",
       "    </tr>\n",
       "    <tr>\n",
       "      <th>133151</th>\n",
       "      <td>62613</td>\n",
       "      <td>71751</td>\n",
       "      <td>89.75</td>\n",
       "      <td>3</td>\n",
       "      <td>17339</td>\n",
       "      <td>51</td>\n",
       "      <td>551</td>\n",
       "      <td>1990-01-01</td>\n",
       "      <td>1</td>\n",
       "      <td>2018-10-22</td>\n",
       "      <td>...</td>\n",
       "      <td>-0.604837</td>\n",
       "      <td>-0.509450</td>\n",
       "      <td>8</td>\n",
       "      <td>2</td>\n",
       "      <td>0</td>\n",
       "      <td>0</td>\n",
       "      <td>0</td>\n",
       "      <td>1</td>\n",
       "      <td>0</td>\n",
       "      <td>0</td>\n",
       "    </tr>\n",
       "    <tr>\n",
       "      <th>133152</th>\n",
       "      <td>48803</td>\n",
       "      <td>60641</td>\n",
       "      <td>83.28</td>\n",
       "      <td>61</td>\n",
       "      <td>15919</td>\n",
       "      <td>45</td>\n",
       "      <td>1377</td>\n",
       "      <td>1985-05-22</td>\n",
       "      <td>1</td>\n",
       "      <td>2018-08-29</td>\n",
       "      <td>...</td>\n",
       "      <td>-0.095575</td>\n",
       "      <td>0.082593</td>\n",
       "      <td>3</td>\n",
       "      <td>24</td>\n",
       "      <td>1</td>\n",
       "      <td>0</td>\n",
       "      <td>0</td>\n",
       "      <td>0</td>\n",
       "      <td>0</td>\n",
       "      <td>0</td>\n",
       "    </tr>\n",
       "    <tr>\n",
       "      <th>133153</th>\n",
       "      <td>52003</td>\n",
       "      <td>68000</td>\n",
       "      <td>78.24</td>\n",
       "      <td>2</td>\n",
       "      <td>16204</td>\n",
       "      <td>51</td>\n",
       "      <td>2384</td>\n",
       "      <td>1974-01-01</td>\n",
       "      <td>1</td>\n",
       "      <td>2018-08-30</td>\n",
       "      <td>...</td>\n",
       "      <td>1.024801</td>\n",
       "      <td>1.057722</td>\n",
       "      <td>4</td>\n",
       "      <td>1</td>\n",
       "      <td>0</td>\n",
       "      <td>0</td>\n",
       "      <td>0</td>\n",
       "      <td>1</td>\n",
       "      <td>0</td>\n",
       "      <td>0</td>\n",
       "    </tr>\n",
       "  </tbody>\n",
       "</table>\n",
       "<p>133154 rows × 35 columns</p>\n",
       "</div>"
      ],
      "text/plain": [
       "        DISBURSED_AMOUNT  ASSET_COST    LTV  BRANCH_ID  SUPPLIER_ID  \\\n",
       "0                  48349       65210  76.68          3        16092   \n",
       "1                  55159       62972  88.93         72        16682   \n",
       "2                  67882      113530  61.66          7        23091   \n",
       "3                  55613       69807  85.95        103        20285   \n",
       "4                  46249       67645  70.22         67        18129   \n",
       "...                  ...         ...    ...        ...          ...   \n",
       "133149             63213       75976  84.24        136        23672   \n",
       "133150             48549       98000  50.20          2        24261   \n",
       "133151             62613       71751  89.75          3        17339   \n",
       "133152             48803       60641  83.28         61        15919   \n",
       "133153             52003       68000  78.24          2        16204   \n",
       "\n",
       "       MANUFACTURER_ID  CURRENT_PINCODE_ID DATE_OF_BIRTH  EMPLOYMENT_TYPE  \\\n",
       "0                   51                  51    1981-12-20                0   \n",
       "1                   45                 475    1976-01-01                1   \n",
       "2                   51                5858    1992-03-26                1   \n",
       "3                   86                6995    1997-01-01                1   \n",
       "4                   45                1511    1980-02-22                0   \n",
       "...                ...                 ...           ...              ...   \n",
       "133149              45                3773    1980-04-03                1   \n",
       "133150              49                1670    1996-04-30                0   \n",
       "133151              51                 551    1990-01-01                1   \n",
       "133152              45                1377    1985-05-22                1   \n",
       "133153              51                2384    1974-01-01                1   \n",
       "\n",
       "       DISBURSAL_DATE  ...  standardized_age  xform_age  \\\n",
       "0          2018-10-30  ...          0.209982   0.385687   \n",
       "1          2018-10-21  ...          0.821096   0.905238   \n",
       "2          2018-10-18  ...         -0.808542  -0.785029   \n",
       "3          2018-09-05  ...         -1.317804  -1.609313   \n",
       "4          2018-10-24  ...          0.413686   0.570433   \n",
       "...               ...  ...               ...        ...   \n",
       "133149     2018-10-26  ...          0.413686   0.570433   \n",
       "133150     2018-08-17  ...         -1.215951  -1.425946   \n",
       "133151     2018-10-22  ...         -0.604837  -0.509450   \n",
       "133152     2018-08-29  ...         -0.095575   0.082593   \n",
       "133153     2018-08-30  ...          1.024801   1.057722   \n",
       "\n",
       "        binned_disbursed_amount  le_branch_id  MANU_ID=45  MANU_ID=48  \\\n",
       "0                             2             2           0           0   \n",
       "1                             5            34           1           0   \n",
       "2                             8             4           0           0   \n",
       "3                             5            47           0           0   \n",
       "4                             2            30           1           0   \n",
       "...                         ...           ...         ...         ...   \n",
       "133149                        8            56           1           0   \n",
       "133150                        2             1           0           0   \n",
       "133151                        8             2           0           0   \n",
       "133152                        3            24           1           0   \n",
       "133153                        4             1           0           0   \n",
       "\n",
       "        MANU_ID=49 MANU_ID=51  MANU_ID=86  MANU_ID=120  \n",
       "0                0          1           0            0  \n",
       "1                0          0           0            0  \n",
       "2                0          1           0            0  \n",
       "3                0          0           1            0  \n",
       "4                0          0           0            0  \n",
       "...            ...        ...         ...          ...  \n",
       "133149           0          0           0            0  \n",
       "133150           1          0           0            0  \n",
       "133151           0          1           0            0  \n",
       "133152           0          0           0            0  \n",
       "133153           0          1           0            0  \n",
       "\n",
       "[133154 rows x 35 columns]"
      ]
     },
     "execution_count": 60,
     "metadata": {},
     "output_type": "execute_result"
    }
   ],
   "source": [
    "loan_df_ohe = pd.concat([loan_df, manufacturer_ohe], axis=1)\n",
    "loan_df_ohe"
   ]
  },
  {
   "cell_type": "markdown",
   "metadata": {},
   "source": [
    "# Dimensionality Reduction\n",
    "## PCA"
   ]
  },
  {
   "cell_type": "code",
   "execution_count": 61,
   "metadata": {},
   "outputs": [],
   "source": [
    "from sklearn.decomposition import PCA\n",
    "\n",
    "ss = StandardScaler()\n",
    "scaled = ss.fit_transform(loan_df_epoch_time[interval_columns])\n",
    "pca = PCA(random_state=42)\n",
    "loan_pca = pca.fit_transform(scaled)"
   ]
  },
  {
   "cell_type": "code",
   "execution_count": 62,
   "metadata": {},
   "outputs": [
    {
     "data": {
      "text/plain": [
       "(133154, 8)"
      ]
     },
     "execution_count": 62,
     "metadata": {},
     "output_type": "execute_result"
    }
   ],
   "source": [
    "loan_pca.shape"
   ]
  },
  {
   "cell_type": "code",
   "execution_count": 63,
   "metadata": {},
   "outputs": [
    {
     "data": {
      "image/png": "[encoded data removed]",
      "text/plain": [
       "<Figure size 396x396 with 2 Axes>"
      ]
     },
     "metadata": {
      "needs_background": "light"
     },
     "output_type": "display_data"
    }
   ],
   "source": [
    "idx = pca.explained_variance_ratio_.argsort()[::-1]\n",
    "ticks = range(pca.n_components_)\n",
    "f, ax = plt.subplots(2, 1, figsize=(5.5, 5.5))\n",
    "\n",
    "ax[0].barh(ticks, pca.explained_variance_ratio_[idx])\n",
    "ax[0].set_title('explained variance ratio')\n",
    "ax[0].set_ylabel('pca component')\n",
    "ax[0].set_yticks(ticks)\n",
    "\n",
    "comp_idx = abs(pca.components_[0]).argsort()[::-1]\n",
    "ax[1].barh(ticks, abs(pca.components_[0, comp_idx]))\n",
    "plt.yticks(ticks, np.array(interval_columns)[comp_idx])\n",
    "ax[1].set_title('PCA dim-0 components')\n",
    "\n",
    "plt.tight_layout()"
   ]
  },
  {
   "cell_type": "code",
   "execution_count": 64,
   "metadata": {},
   "outputs": [
    {
     "data": {
      "text/plain": [
       "Text(0.5, 0, 'pca component')"
      ]
     },
     "execution_count": 64,
     "metadata": {},
     "output_type": "execute_result"
    },
    {
     "data": {
      "image/png": "[encoded data removed]",
      "text/plain": [
       "<Figure size 432x288 with 1 Axes>"
      ]
     },
     "metadata": {
      "needs_background": "light"
     },
     "output_type": "display_data"
    }
   ],
   "source": [
    "# we can look for an \"elbow\" in this plot. The only elbow is at component 7 (labeled \"6\" below).\n",
    "# So we could throw out the last PCA dimension\n",
    "plt.bar(ticks, pca.explained_variance_ratio_[idx].cumsum())\n",
    "plt.title('cumulative explained variance ratio')\n",
    "plt.xlabel('pca component')"
   ]
  },
  {
   "cell_type": "code",
   "execution_count": 65,
   "metadata": {},
   "outputs": [
    {
     "data": {
      "text/plain": [
       "<matplotlib.collections.PathCollection at 0x1aa21cd8eb0>"
      ]
     },
     "execution_count": 65,
     "metadata": {},
     "output_type": "execute_result"
    },
    {
     "data": {
      "image/png": "[encoded data removed]",
      "text/plain": [
       "<Figure size 432x288 with 1 Axes>"
      ]
     },
     "metadata": {
      "needs_background": "light"
     },
     "output_type": "display_data"
    }
   ],
   "source": [
    "# when clustering data, we can plot the PCA dimensions to make it easier to visualize. More on this in chapter 16.\n",
    "plt.scatter(loan_pca[:, 0], loan_pca[:, 1])"
   ]
  }
 ],
 "metadata": {
  "kernelspec": {
   "display_name": "Python 3",
   "language": "python",
   "name": "python3"
  },
  "language_info": {
   "codemirror_mode": {
    "name": "ipython",
    "version": 3
   },
   "file_extension": ".py",
   "mimetype": "text/x-python",
   "name": "python",
   "nbconvert_exporter": "python",
   "pygments_lexer": "ipython3",
   "version": "3.8.5"
  }
 },
 "nbformat": 4,
 "nbformat_minor": 4
}

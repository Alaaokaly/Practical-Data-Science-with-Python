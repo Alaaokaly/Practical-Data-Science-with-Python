{
 "cells": [
  {
   "cell_type": "markdown",
   "id": "869348ca",
   "metadata": {},
   "source": [
    "# Hyperparameter optimization"
   ]
  },
  {
   "cell_type": "code",
   "execution_count": 1,
   "id": "a811bcf6",
   "metadata": {},
   "outputs": [
    {
     "data": {
      "text/html": [
       "<div>\n",
       "<style scoped>\n",
       "    .dataframe tbody tr th:only-of-type {\n",
       "        vertical-align: middle;\n",
       "    }\n",
       "\n",
       "    .dataframe tbody tr th {\n",
       "        vertical-align: top;\n",
       "    }\n",
       "\n",
       "    .dataframe thead th {\n",
       "        text-align: right;\n",
       "    }\n",
       "</style>\n",
       "<table border=\"1\" class=\"dataframe\">\n",
       "  <thead>\n",
       "    <tr style=\"text-align: right;\">\n",
       "      <th></th>\n",
       "      <th>LotArea</th>\n",
       "      <th>YearBuilt</th>\n",
       "      <th>FullBath</th>\n",
       "      <th>TotRmsAbvGrd</th>\n",
       "      <th>GarageArea</th>\n",
       "      <th>1stFlrSF</th>\n",
       "      <th>2ndFlrSF</th>\n",
       "      <th>SalePrice</th>\n",
       "    </tr>\n",
       "    <tr>\n",
       "      <th>Id</th>\n",
       "      <th></th>\n",
       "      <th></th>\n",
       "      <th></th>\n",
       "      <th></th>\n",
       "      <th></th>\n",
       "      <th></th>\n",
       "      <th></th>\n",
       "      <th></th>\n",
       "    </tr>\n",
       "  </thead>\n",
       "  <tbody>\n",
       "    <tr>\n",
       "      <th>1</th>\n",
       "      <td>8450</td>\n",
       "      <td>2003</td>\n",
       "      <td>2</td>\n",
       "      <td>8</td>\n",
       "      <td>548</td>\n",
       "      <td>856</td>\n",
       "      <td>854</td>\n",
       "      <td>208500</td>\n",
       "    </tr>\n",
       "    <tr>\n",
       "      <th>2</th>\n",
       "      <td>9600</td>\n",
       "      <td>1976</td>\n",
       "      <td>2</td>\n",
       "      <td>6</td>\n",
       "      <td>460</td>\n",
       "      <td>1262</td>\n",
       "      <td>0</td>\n",
       "      <td>181500</td>\n",
       "    </tr>\n",
       "    <tr>\n",
       "      <th>3</th>\n",
       "      <td>11250</td>\n",
       "      <td>2001</td>\n",
       "      <td>2</td>\n",
       "      <td>6</td>\n",
       "      <td>608</td>\n",
       "      <td>920</td>\n",
       "      <td>866</td>\n",
       "      <td>223500</td>\n",
       "    </tr>\n",
       "    <tr>\n",
       "      <th>4</th>\n",
       "      <td>9550</td>\n",
       "      <td>1915</td>\n",
       "      <td>1</td>\n",
       "      <td>7</td>\n",
       "      <td>642</td>\n",
       "      <td>961</td>\n",
       "      <td>756</td>\n",
       "      <td>140000</td>\n",
       "    </tr>\n",
       "    <tr>\n",
       "      <th>5</th>\n",
       "      <td>14260</td>\n",
       "      <td>2000</td>\n",
       "      <td>2</td>\n",
       "      <td>9</td>\n",
       "      <td>836</td>\n",
       "      <td>1145</td>\n",
       "      <td>1053</td>\n",
       "      <td>250000</td>\n",
       "    </tr>\n",
       "  </tbody>\n",
       "</table>\n",
       "</div>"
      ],
      "text/plain": [
       "    LotArea  YearBuilt  FullBath  TotRmsAbvGrd  GarageArea  1stFlrSF  \\\n",
       "Id                                                                     \n",
       "1      8450       2003         2             8         548       856   \n",
       "2      9600       1976         2             6         460      1262   \n",
       "3     11250       2001         2             6         608       920   \n",
       "4      9550       1915         1             7         642       961   \n",
       "5     14260       2000         2             9         836      1145   \n",
       "\n",
       "    2ndFlrSF  SalePrice  \n",
       "Id                       \n",
       "1        854     208500  \n",
       "2          0     181500  \n",
       "3        866     223500  \n",
       "4        756     140000  \n",
       "5       1053     250000  "
      ]
     },
     "execution_count": 1,
     "metadata": {},
     "output_type": "execute_result"
    }
   ],
   "source": [
    "import pandas as pd\n",
    "\n",
    "df = pd.read_csv('data/housing_data_sample.csv', index_col='Id')\n",
    "df.head()"
   ]
  },
  {
   "cell_type": "code",
   "execution_count": 2,
   "id": "c129ff38",
   "metadata": {},
   "outputs": [],
   "source": [
    "from sklearn.neighbors import KNeighborsRegressor\n",
    "\n",
    "knn = KNeighborsRegressor()\n",
    "hyperparameters = {'n_neighbors': [3, 5, 7],\n",
    "                  'weights': ['uniform', 'distance'],\n",
    "                  'p': [1, 2]}"
   ]
  },
  {
   "cell_type": "code",
   "execution_count": 3,
   "id": "530b0374",
   "metadata": {},
   "outputs": [
    {
     "data": {
      "text/plain": [
       "GridSearchCV(estimator=KNeighborsRegressor(), n_jobs=-1,\n",
       "             param_grid={'n_neighbors': [3, 5, 7], 'p': [1, 2],\n",
       "                         'weights': ['uniform', 'distance']},\n",
       "             scoring='neg_mean_absolute_error')"
      ]
     },
     "execution_count": 3,
     "metadata": {},
     "output_type": "execute_result"
    }
   ],
   "source": [
    "from sklearn.model_selection import GridSearchCV\n",
    "\n",
    "features = df.drop('SalePrice', axis=1)\n",
    "targets = df['SalePrice']\n",
    "\n",
    "gs = GridSearchCV(knn, hyperparameters, scoring='neg_mean_absolute_error', n_jobs=-1)\n",
    "gs.fit(features, targets)"
   ]
  },
  {
   "cell_type": "code",
   "execution_count": 4,
   "id": "cb394f93",
   "metadata": {},
   "outputs": [
    {
     "name": "stdout",
     "output_type": "stream",
     "text": [
      "KNeighborsRegressor(n_neighbors=7, p=1, weights='distance')\n",
      "{'n_neighbors': 7, 'p': 1, 'weights': 'distance'}\n",
      "-30069.78491711035\n"
     ]
    }
   ],
   "source": [
    "print(gs.best_estimator_)\n",
    "print(gs.best_params_)\n",
    "print(gs.best_score_)"
   ]
  },
  {
   "cell_type": "code",
   "execution_count": 5,
   "id": "infectious-comparative",
   "metadata": {},
   "outputs": [
    {
     "data": {
      "text/plain": [
       "[({'n_neighbors': 3, 'p': 1, 'weights': 'uniform'}, -31795.947260273977),\n",
       " ({'n_neighbors': 3, 'p': 1, 'weights': 'distance'}, -31226.346501552915),\n",
       " ({'n_neighbors': 3, 'p': 2, 'weights': 'uniform'}, -32975.90890410959),\n",
       " ({'n_neighbors': 3, 'p': 2, 'weights': 'distance'}, -32338.55514879399),\n",
       " ({'n_neighbors': 5, 'p': 1, 'weights': 'uniform'}, -31175.630547945206),\n",
       " ({'n_neighbors': 5, 'p': 1, 'weights': 'distance'}, -30438.96577645269),\n",
       " ({'n_neighbors': 5, 'p': 2, 'weights': 'uniform'}, -31986.23561643836),\n",
       " ({'n_neighbors': 5, 'p': 2, 'weights': 'distance'}, -31134.3566873946),\n",
       " ({'n_neighbors': 7, 'p': 1, 'weights': 'uniform'}, -30935.39412915851),\n",
       " ({'n_neighbors': 7, 'p': 1, 'weights': 'distance'}, -30069.78491711035),\n",
       " ({'n_neighbors': 7, 'p': 2, 'weights': 'uniform'}, -32122.704011741684),\n",
       " ({'n_neighbors': 7, 'p': 2, 'weights': 'distance'}, -31028.74010010045)]"
      ]
     },
     "execution_count": 5,
     "metadata": {},
     "output_type": "execute_result"
    }
   ],
   "source": [
    "list(zip(gs.cv_results_['params'], gs.cv_results_['mean_test_score']))"
   ]
  },
  {
   "cell_type": "markdown",
   "id": "encouraging-press",
   "metadata": {},
   "source": [
    "## Random search"
   ]
  },
  {
   "cell_type": "code",
   "execution_count": 6,
   "id": "equivalent-newsletter",
   "metadata": {},
   "outputs": [
    {
     "data": {
      "text/plain": [
       "RandomizedSearchCV(estimator=KNeighborsRegressor(), n_jobs=-1,\n",
       "                   param_distributions={'n_neighbors': <scipy.stats._distn_infrastructure.rv_frozen object at 0x000001A5F0060C10>,\n",
       "                                        'p': [1, 2],\n",
       "                                        'weights': ['uniform', 'distance']},\n",
       "                   random_state=42, scoring='neg_mean_absolute_error')"
      ]
     },
     "execution_count": 6,
     "metadata": {},
     "output_type": "execute_result"
    }
   ],
   "source": [
    "from sklearn.model_selection import RandomizedSearchCV\n",
    "from scipy.stats import randint\n",
    "\n",
    "hyperparameters = {'n_neighbors': randint(low=3, high=20),\n",
    "                  'weights': ['uniform', 'distance'],\n",
    "                  'p': [1, 2]}\n",
    "rs = RandomizedSearchCV(knn, hyperparameters, scoring='neg_mean_absolute_error', n_jobs=-1, random_state=42)\n",
    "rs.fit(features, targets)"
   ]
  },
  {
   "cell_type": "code",
   "execution_count": 7,
   "id": "whole-shade",
   "metadata": {},
   "outputs": [
    {
     "name": "stdout",
     "output_type": "stream",
     "text": [
      "KNeighborsRegressor(n_neighbors=13, p=1, weights='distance')\n",
      "{'n_neighbors': 13, 'p': 1, 'weights': 'distance'}\n",
      "-29845.646440602075\n"
     ]
    }
   ],
   "source": [
    "print(rs.best_estimator_)\n",
    "print(rs.best_params_)\n",
    "print(rs.best_score_)"
   ]
  },
  {
   "cell_type": "code",
   "execution_count": 8,
   "id": "peripheral-tongue",
   "metadata": {},
   "outputs": [
    {
     "data": {
      "text/plain": [
       "[({'n_neighbors': 9, 'p': 2, 'weights': 'uniform'}, -32363.609665144595),\n",
       " ({'n_neighbors': 17, 'p': 1, 'weights': 'distance'}, -30055.746440937754),\n",
       " ({'n_neighbors': 9, 'p': 2, 'weights': 'uniform'}, -32363.609665144595),\n",
       " ({'n_neighbors': 13, 'p': 1, 'weights': 'distance'}, -29845.646440602075),\n",
       " ({'n_neighbors': 6, 'p': 2, 'weights': 'distance'}, -30997.193897640995),\n",
       " ({'n_neighbors': 5, 'p': 2, 'weights': 'uniform'}, -31986.23561643836),\n",
       " ({'n_neighbors': 4, 'p': 2, 'weights': 'distance'}, -31910.191127678332),\n",
       " ({'n_neighbors': 8, 'p': 2, 'weights': 'distance'}, -31181.05668402912),\n",
       " ({'n_neighbors': 3, 'p': 2, 'weights': 'distance'}, -32338.55514879399),\n",
       " ({'n_neighbors': 14, 'p': 1, 'weights': 'uniform'}, -30972.516438356164)]"
      ]
     },
     "execution_count": 8,
     "metadata": {},
     "output_type": "execute_result"
    }
   ],
   "source": [
    "list(zip(rs.cv_results_['params'], rs.cv_results_['mean_test_score']))"
   ]
  },
  {
   "cell_type": "markdown",
   "id": "bacterial-ecology",
   "metadata": {},
   "source": [
    "## Bayesian search"
   ]
  },
  {
   "cell_type": "code",
   "execution_count": 14,
   "id": "distinct-steel",
   "metadata": {},
   "outputs": [
    {
     "data": {
      "text/plain": [
       "BayesSearchCV(estimator=KNeighborsRegressor(), n_iter=10, n_jobs=-1,\n",
       "              random_state=42, scoring='neg_mean_absolute_error',\n",
       "              search_spaces={'n_neighbors': Integer(low=3, high=20, prior='uniform', transform='identity'),\n",
       "                             'p': Categorical(categories=(1, 2), prior=None),\n",
       "                             'weights': Categorical(categories=('uniform', 'distance'), prior=None)})"
      ]
     },
     "execution_count": 14,
     "metadata": {},
     "output_type": "execute_result"
    }
   ],
   "source": [
    "from skopt import BayesSearchCV\n",
    "from skopt.space import Real, Integer\n",
    "\n",
    "hyperparameters = {'n_neighbors': Integer(3, 20),\n",
    "                  'weights': Categorical(['uniform', 'distance']),\n",
    "                  'p': Categorical([1, 2])}\n",
    "bs = BayesSearchCV(knn, hyperparameters, scoring='neg_mean_absolute_error', n_jobs=-1, random_state=42, n_iter=10)\n",
    "bs.fit(features, targets)"
   ]
  },
  {
   "cell_type": "code",
   "execution_count": 16,
   "id": "nervous-behalf",
   "metadata": {},
   "outputs": [
    {
     "name": "stdout",
     "output_type": "stream",
     "text": [
      "KNeighborsRegressor(n_neighbors=11, weights='distance')\n",
      "OrderedDict([('n_neighbors', 11), ('p', 2), ('weights', 'distance')])\n",
      "-31143.98162060483\n"
     ]
    }
   ],
   "source": [
    "print(bs.best_estimator_)\n",
    "print(bs.best_params_)\n",
    "print(bs.best_score_)"
   ]
  },
  {
   "cell_type": "code",
   "execution_count": 17,
   "id": "directed-divorce",
   "metadata": {},
   "outputs": [
    {
     "data": {
      "text/plain": [
       "[(OrderedDict([('n_neighbors', 10), ('p', 2), ('weights', 'uniform')]),\n",
       "  -32311.303082191782),\n",
       " (OrderedDict([('n_neighbors', 17), ('p', 2), ('weights', 'distance')]),\n",
       "  -31751.25385826393),\n",
       " (OrderedDict([('n_neighbors', 11), ('p', 2), ('weights', 'distance')]),\n",
       "  -31143.98162060483),\n",
       " (OrderedDict([('n_neighbors', 17), ('p', 1), ('weights', 'uniform')]),\n",
       "  -31297.367969379535),\n",
       " (OrderedDict([('n_neighbors', 17), ('p', 1), ('weights', 'uniform')]),\n",
       "  -31297.367969379535),\n",
       " (OrderedDict([('n_neighbors', 15), ('p', 2), ('weights', 'distance')]),\n",
       "  -31517.452750704768),\n",
       " (OrderedDict([('n_neighbors', 13), ('p', 2), ('weights', 'distance')]),\n",
       "  -31348.48878798963),\n",
       " (OrderedDict([('n_neighbors', 12), ('p', 2), ('weights', 'distance')]),\n",
       "  -31259.914106215525),\n",
       " (OrderedDict([('n_neighbors', 19), ('p', 2), ('weights', 'uniform')]),\n",
       "  -33494.25966113915),\n",
       " (OrderedDict([('n_neighbors', 3), ('p', 2), ('weights', 'uniform')]),\n",
       "  -32975.90890410959)]"
      ]
     },
     "execution_count": 17,
     "metadata": {},
     "output_type": "execute_result"
    }
   ],
   "source": [
    "list(zip(bs.cv_results_['params'], bs.cv_results_['mean_test_score']))"
   ]
  },
  {
   "cell_type": "markdown",
   "id": "wired-decade",
   "metadata": {},
   "source": [
    "# Learning curves"
   ]
  },
  {
   "cell_type": "code",
   "execution_count": 33,
   "id": "absolute-maryland",
   "metadata": {},
   "outputs": [],
   "source": [
    "!start ."
   ]
  },
  {
   "cell_type": "code",
   "execution_count": 31,
   "id": "demonstrated-roman",
   "metadata": {},
   "outputs": [],
   "source": [
    "import matplotlib.pyplot as plt"
   ]
  },
  {
   "cell_type": "code",
   "execution_count": 36,
   "id": "focal-stake",
   "metadata": {},
   "outputs": [],
   "source": [
    "?lc.show"
   ]
  },
  {
   "cell_type": "code",
   "execution_count": 41,
   "id": "laughing-episode",
   "metadata": {},
   "outputs": [
    {
     "data": {
      "image/png": "[encoded data removed]",
      "text/plain": [
       "<Figure size 396x396 with 1 Axes>"
      ]
     },
     "metadata": {},
     "output_type": "display_data"
    }
   ],
   "source": [
    "from yellowbrick.model_selection import LearningCurve\n",
    "\n",
    "f = plt.figure(figsize=(5.5, 5.5))\n",
    "lc = LearningCurve(knn, scoring='neg_mean_absolute_error')\n",
    "lc.fit(features, targets)\n",
    "plt.tight_layout(pad=1.25)\n",
    "p = lc.show('B17030_13_02.png', dpi=300)"
   ]
  },
  {
   "cell_type": "markdown",
   "id": "through-eclipse",
   "metadata": {},
   "source": [
    "# Optimizing the Number of Features with ML Models"
   ]
  },
  {
   "cell_type": "code",
   "execution_count": 70,
   "id": "academic-archives",
   "metadata": {},
   "outputs": [
    {
     "data": {
      "text/plain": [
       "RFECV(estimator=LinearRegression(), scoring='neg_mean_absolute_error')"
      ]
     },
     "execution_count": 70,
     "metadata": {},
     "output_type": "execute_result"
    }
   ],
   "source": [
    "from sklearn.feature_selection import RFECV\n",
    "from sklearn.linear_model import LinearRegression\n",
    "\n",
    "lr = LinearRegression()\n",
    "feature_selector = RFECV(lr, scoring='neg_mean_absolute_error')\n",
    "feature_selector.fit(features, targets)"
   ]
  },
  {
   "cell_type": "code",
   "execution_count": 66,
   "id": "lonely-economics",
   "metadata": {},
   "outputs": [
    {
     "data": {
      "text/plain": [
       "array([-44963.06493189, -41860.3132655 , -37319.2626792 , -33319.79319284,\n",
       "       -28524.60411086, -27607.29672974, -27315.23987193])"
      ]
     },
     "execution_count": 66,
     "metadata": {},
     "output_type": "execute_result"
    }
   ],
   "source": [
    "feature_selector.grid_scores_"
   ]
  },
  {
   "cell_type": "code",
   "execution_count": 67,
   "id": "hearing-maple",
   "metadata": {},
   "outputs": [
    {
     "data": {
      "text/plain": [
       "array([ True,  True,  True,  True,  True,  True,  True])"
      ]
     },
     "execution_count": 67,
     "metadata": {},
     "output_type": "execute_result"
    }
   ],
   "source": [
    "feature_selector.support_"
   ]
  },
  {
   "cell_type": "code",
   "execution_count": 73,
   "id": "moral-spank",
   "metadata": {},
   "outputs": [
    {
     "data": {
      "text/html": [
       "<div>\n",
       "<style scoped>\n",
       "    .dataframe tbody tr th:only-of-type {\n",
       "        vertical-align: middle;\n",
       "    }\n",
       "\n",
       "    .dataframe tbody tr th {\n",
       "        vertical-align: top;\n",
       "    }\n",
       "\n",
       "    .dataframe thead th {\n",
       "        text-align: right;\n",
       "    }\n",
       "</style>\n",
       "<table border=\"1\" class=\"dataframe\">\n",
       "  <thead>\n",
       "    <tr style=\"text-align: right;\">\n",
       "      <th></th>\n",
       "      <th>LotArea</th>\n",
       "      <th>YearBuilt</th>\n",
       "      <th>FullBath</th>\n",
       "      <th>TotRmsAbvGrd</th>\n",
       "      <th>GarageArea</th>\n",
       "      <th>1stFlrSF</th>\n",
       "      <th>2ndFlrSF</th>\n",
       "    </tr>\n",
       "    <tr>\n",
       "      <th>Id</th>\n",
       "      <th></th>\n",
       "      <th></th>\n",
       "      <th></th>\n",
       "      <th></th>\n",
       "      <th></th>\n",
       "      <th></th>\n",
       "      <th></th>\n",
       "    </tr>\n",
       "  </thead>\n",
       "  <tbody>\n",
       "    <tr>\n",
       "      <th>1</th>\n",
       "      <td>8450</td>\n",
       "      <td>2003</td>\n",
       "      <td>2</td>\n",
       "      <td>8</td>\n",
       "      <td>548</td>\n",
       "      <td>856</td>\n",
       "      <td>854</td>\n",
       "    </tr>\n",
       "    <tr>\n",
       "      <th>2</th>\n",
       "      <td>9600</td>\n",
       "      <td>1976</td>\n",
       "      <td>2</td>\n",
       "      <td>6</td>\n",
       "      <td>460</td>\n",
       "      <td>1262</td>\n",
       "      <td>0</td>\n",
       "    </tr>\n",
       "    <tr>\n",
       "      <th>3</th>\n",
       "      <td>11250</td>\n",
       "      <td>2001</td>\n",
       "      <td>2</td>\n",
       "      <td>6</td>\n",
       "      <td>608</td>\n",
       "      <td>920</td>\n",
       "      <td>866</td>\n",
       "    </tr>\n",
       "    <tr>\n",
       "      <th>4</th>\n",
       "      <td>9550</td>\n",
       "      <td>1915</td>\n",
       "      <td>1</td>\n",
       "      <td>7</td>\n",
       "      <td>642</td>\n",
       "      <td>961</td>\n",
       "      <td>756</td>\n",
       "    </tr>\n",
       "    <tr>\n",
       "      <th>5</th>\n",
       "      <td>14260</td>\n",
       "      <td>2000</td>\n",
       "      <td>2</td>\n",
       "      <td>9</td>\n",
       "      <td>836</td>\n",
       "      <td>1145</td>\n",
       "      <td>1053</td>\n",
       "    </tr>\n",
       "    <tr>\n",
       "      <th>...</th>\n",
       "      <td>...</td>\n",
       "      <td>...</td>\n",
       "      <td>...</td>\n",
       "      <td>...</td>\n",
       "      <td>...</td>\n",
       "      <td>...</td>\n",
       "      <td>...</td>\n",
       "    </tr>\n",
       "    <tr>\n",
       "      <th>1456</th>\n",
       "      <td>7917</td>\n",
       "      <td>1999</td>\n",
       "      <td>2</td>\n",
       "      <td>7</td>\n",
       "      <td>460</td>\n",
       "      <td>953</td>\n",
       "      <td>694</td>\n",
       "    </tr>\n",
       "    <tr>\n",
       "      <th>1457</th>\n",
       "      <td>13175</td>\n",
       "      <td>1978</td>\n",
       "      <td>2</td>\n",
       "      <td>7</td>\n",
       "      <td>500</td>\n",
       "      <td>2073</td>\n",
       "      <td>0</td>\n",
       "    </tr>\n",
       "    <tr>\n",
       "      <th>1458</th>\n",
       "      <td>9042</td>\n",
       "      <td>1941</td>\n",
       "      <td>2</td>\n",
       "      <td>9</td>\n",
       "      <td>252</td>\n",
       "      <td>1188</td>\n",
       "      <td>1152</td>\n",
       "    </tr>\n",
       "    <tr>\n",
       "      <th>1459</th>\n",
       "      <td>9717</td>\n",
       "      <td>1950</td>\n",
       "      <td>1</td>\n",
       "      <td>5</td>\n",
       "      <td>240</td>\n",
       "      <td>1078</td>\n",
       "      <td>0</td>\n",
       "    </tr>\n",
       "    <tr>\n",
       "      <th>1460</th>\n",
       "      <td>9937</td>\n",
       "      <td>1965</td>\n",
       "      <td>1</td>\n",
       "      <td>6</td>\n",
       "      <td>276</td>\n",
       "      <td>1256</td>\n",
       "      <td>0</td>\n",
       "    </tr>\n",
       "  </tbody>\n",
       "</table>\n",
       "<p>1460 rows × 7 columns</p>\n",
       "</div>"
      ],
      "text/plain": [
       "      LotArea  YearBuilt  FullBath  TotRmsAbvGrd  GarageArea  1stFlrSF  \\\n",
       "Id                                                                       \n",
       "1        8450       2003         2             8         548       856   \n",
       "2        9600       1976         2             6         460      1262   \n",
       "3       11250       2001         2             6         608       920   \n",
       "4        9550       1915         1             7         642       961   \n",
       "5       14260       2000         2             9         836      1145   \n",
       "...       ...        ...       ...           ...         ...       ...   \n",
       "1456     7917       1999         2             7         460       953   \n",
       "1457    13175       1978         2             7         500      2073   \n",
       "1458     9042       1941         2             9         252      1188   \n",
       "1459     9717       1950         1             5         240      1078   \n",
       "1460     9937       1965         1             6         276      1256   \n",
       "\n",
       "      2ndFlrSF  \n",
       "Id              \n",
       "1          854  \n",
       "2            0  \n",
       "3          866  \n",
       "4          756  \n",
       "5         1053  \n",
       "...        ...  \n",
       "1456       694  \n",
       "1457         0  \n",
       "1458      1152  \n",
       "1459         0  \n",
       "1460         0  \n",
       "\n",
       "[1460 rows x 7 columns]"
      ]
     },
     "execution_count": 73,
     "metadata": {},
     "output_type": "execute_result"
    }
   ],
   "source": [
    "features.iloc[:, feature_selector.support_]"
   ]
  },
  {
   "cell_type": "code",
   "execution_count": 68,
   "id": "stopped-internet",
   "metadata": {},
   "outputs": [
    {
     "data": {
      "text/plain": [
       "array([1, 1, 1, 1, 1, 1, 1])"
      ]
     },
     "execution_count": 68,
     "metadata": {},
     "output_type": "execute_result"
    }
   ],
   "source": [
    "feature_selector.ranking_"
   ]
  },
  {
   "cell_type": "markdown",
   "id": "alien-title",
   "metadata": {},
   "source": [
    "# AutoML"
   ]
  },
  {
   "cell_type": "code",
   "execution_count": 78,
   "id": "returning-mining",
   "metadata": {},
   "outputs": [
    {
     "data": {
      "text/html": [
       "<style  type=\"text/css\" >\n",
       "    #T_093d58ec_a91f_11eb_a47d_b0359fc83c86 th {\n",
       "          text-align: left;\n",
       "    }#T_093d58ec_a91f_11eb_a47d_b0359fc83c86row0_col0,#T_093d58ec_a91f_11eb_a47d_b0359fc83c86row0_col2,#T_093d58ec_a91f_11eb_a47d_b0359fc83c86row1_col0,#T_093d58ec_a91f_11eb_a47d_b0359fc83c86row1_col1,#T_093d58ec_a91f_11eb_a47d_b0359fc83c86row1_col2,#T_093d58ec_a91f_11eb_a47d_b0359fc83c86row1_col3,#T_093d58ec_a91f_11eb_a47d_b0359fc83c86row1_col4,#T_093d58ec_a91f_11eb_a47d_b0359fc83c86row1_col5,#T_093d58ec_a91f_11eb_a47d_b0359fc83c86row1_col6,#T_093d58ec_a91f_11eb_a47d_b0359fc83c86row2_col0,#T_093d58ec_a91f_11eb_a47d_b0359fc83c86row2_col1,#T_093d58ec_a91f_11eb_a47d_b0359fc83c86row2_col3,#T_093d58ec_a91f_11eb_a47d_b0359fc83c86row2_col4,#T_093d58ec_a91f_11eb_a47d_b0359fc83c86row2_col5,#T_093d58ec_a91f_11eb_a47d_b0359fc83c86row2_col6,#T_093d58ec_a91f_11eb_a47d_b0359fc83c86row3_col0,#T_093d58ec_a91f_11eb_a47d_b0359fc83c86row3_col1,#T_093d58ec_a91f_11eb_a47d_b0359fc83c86row3_col2,#T_093d58ec_a91f_11eb_a47d_b0359fc83c86row3_col3,#T_093d58ec_a91f_11eb_a47d_b0359fc83c86row3_col4,#T_093d58ec_a91f_11eb_a47d_b0359fc83c86row3_col5,#T_093d58ec_a91f_11eb_a47d_b0359fc83c86row3_col6,#T_093d58ec_a91f_11eb_a47d_b0359fc83c86row4_col0,#T_093d58ec_a91f_11eb_a47d_b0359fc83c86row4_col1,#T_093d58ec_a91f_11eb_a47d_b0359fc83c86row4_col2,#T_093d58ec_a91f_11eb_a47d_b0359fc83c86row4_col3,#T_093d58ec_a91f_11eb_a47d_b0359fc83c86row4_col4,#T_093d58ec_a91f_11eb_a47d_b0359fc83c86row4_col5,#T_093d58ec_a91f_11eb_a47d_b0359fc83c86row4_col6,#T_093d58ec_a91f_11eb_a47d_b0359fc83c86row5_col0,#T_093d58ec_a91f_11eb_a47d_b0359fc83c86row5_col1,#T_093d58ec_a91f_11eb_a47d_b0359fc83c86row5_col2,#T_093d58ec_a91f_11eb_a47d_b0359fc83c86row5_col3,#T_093d58ec_a91f_11eb_a47d_b0359fc83c86row5_col4,#T_093d58ec_a91f_11eb_a47d_b0359fc83c86row5_col5,#T_093d58ec_a91f_11eb_a47d_b0359fc83c86row5_col6,#T_093d58ec_a91f_11eb_a47d_b0359fc83c86row6_col0,#T_093d58ec_a91f_11eb_a47d_b0359fc83c86row6_col1,#T_093d58ec_a91f_11eb_a47d_b0359fc83c86row6_col2,#T_093d58ec_a91f_11eb_a47d_b0359fc83c86row6_col3,#T_093d58ec_a91f_11eb_a47d_b0359fc83c86row6_col4,#T_093d58ec_a91f_11eb_a47d_b0359fc83c86row6_col5,#T_093d58ec_a91f_11eb_a47d_b0359fc83c86row6_col6,#T_093d58ec_a91f_11eb_a47d_b0359fc83c86row7_col0,#T_093d58ec_a91f_11eb_a47d_b0359fc83c86row7_col1,#T_093d58ec_a91f_11eb_a47d_b0359fc83c86row7_col2,#T_093d58ec_a91f_11eb_a47d_b0359fc83c86row7_col3,#T_093d58ec_a91f_11eb_a47d_b0359fc83c86row7_col4,#T_093d58ec_a91f_11eb_a47d_b0359fc83c86row7_col5,#T_093d58ec_a91f_11eb_a47d_b0359fc83c86row7_col6,#T_093d58ec_a91f_11eb_a47d_b0359fc83c86row8_col0,#T_093d58ec_a91f_11eb_a47d_b0359fc83c86row8_col1,#T_093d58ec_a91f_11eb_a47d_b0359fc83c86row8_col2,#T_093d58ec_a91f_11eb_a47d_b0359fc83c86row8_col3,#T_093d58ec_a91f_11eb_a47d_b0359fc83c86row8_col4,#T_093d58ec_a91f_11eb_a47d_b0359fc83c86row8_col5,#T_093d58ec_a91f_11eb_a47d_b0359fc83c86row8_col6,#T_093d58ec_a91f_11eb_a47d_b0359fc83c86row9_col0,#T_093d58ec_a91f_11eb_a47d_b0359fc83c86row9_col1,#T_093d58ec_a91f_11eb_a47d_b0359fc83c86row9_col2,#T_093d58ec_a91f_11eb_a47d_b0359fc83c86row9_col3,#T_093d58ec_a91f_11eb_a47d_b0359fc83c86row9_col4,#T_093d58ec_a91f_11eb_a47d_b0359fc83c86row9_col5,#T_093d58ec_a91f_11eb_a47d_b0359fc83c86row9_col6,#T_093d58ec_a91f_11eb_a47d_b0359fc83c86row10_col0,#T_093d58ec_a91f_11eb_a47d_b0359fc83c86row10_col1,#T_093d58ec_a91f_11eb_a47d_b0359fc83c86row10_col2,#T_093d58ec_a91f_11eb_a47d_b0359fc83c86row10_col3,#T_093d58ec_a91f_11eb_a47d_b0359fc83c86row10_col4,#T_093d58ec_a91f_11eb_a47d_b0359fc83c86row10_col5,#T_093d58ec_a91f_11eb_a47d_b0359fc83c86row10_col6,#T_093d58ec_a91f_11eb_a47d_b0359fc83c86row11_col0,#T_093d58ec_a91f_11eb_a47d_b0359fc83c86row11_col1,#T_093d58ec_a91f_11eb_a47d_b0359fc83c86row11_col2,#T_093d58ec_a91f_11eb_a47d_b0359fc83c86row11_col3,#T_093d58ec_a91f_11eb_a47d_b0359fc83c86row11_col4,#T_093d58ec_a91f_11eb_a47d_b0359fc83c86row11_col5,#T_093d58ec_a91f_11eb_a47d_b0359fc83c86row11_col6,#T_093d58ec_a91f_11eb_a47d_b0359fc83c86row12_col0,#T_093d58ec_a91f_11eb_a47d_b0359fc83c86row12_col1,#T_093d58ec_a91f_11eb_a47d_b0359fc83c86row12_col2,#T_093d58ec_a91f_11eb_a47d_b0359fc83c86row12_col3,#T_093d58ec_a91f_11eb_a47d_b0359fc83c86row12_col4,#T_093d58ec_a91f_11eb_a47d_b0359fc83c86row12_col5,#T_093d58ec_a91f_11eb_a47d_b0359fc83c86row12_col6,#T_093d58ec_a91f_11eb_a47d_b0359fc83c86row13_col0,#T_093d58ec_a91f_11eb_a47d_b0359fc83c86row13_col1,#T_093d58ec_a91f_11eb_a47d_b0359fc83c86row13_col2,#T_093d58ec_a91f_11eb_a47d_b0359fc83c86row13_col3,#T_093d58ec_a91f_11eb_a47d_b0359fc83c86row13_col4,#T_093d58ec_a91f_11eb_a47d_b0359fc83c86row13_col5,#T_093d58ec_a91f_11eb_a47d_b0359fc83c86row13_col6,#T_093d58ec_a91f_11eb_a47d_b0359fc83c86row14_col0,#T_093d58ec_a91f_11eb_a47d_b0359fc83c86row14_col1,#T_093d58ec_a91f_11eb_a47d_b0359fc83c86row14_col2,#T_093d58ec_a91f_11eb_a47d_b0359fc83c86row14_col3,#T_093d58ec_a91f_11eb_a47d_b0359fc83c86row14_col4,#T_093d58ec_a91f_11eb_a47d_b0359fc83c86row14_col5,#T_093d58ec_a91f_11eb_a47d_b0359fc83c86row14_col6,#T_093d58ec_a91f_11eb_a47d_b0359fc83c86row15_col0,#T_093d58ec_a91f_11eb_a47d_b0359fc83c86row15_col1,#T_093d58ec_a91f_11eb_a47d_b0359fc83c86row15_col2,#T_093d58ec_a91f_11eb_a47d_b0359fc83c86row15_col3,#T_093d58ec_a91f_11eb_a47d_b0359fc83c86row15_col4,#T_093d58ec_a91f_11eb_a47d_b0359fc83c86row15_col5,#T_093d58ec_a91f_11eb_a47d_b0359fc83c86row15_col6,#T_093d58ec_a91f_11eb_a47d_b0359fc83c86row16_col0,#T_093d58ec_a91f_11eb_a47d_b0359fc83c86row16_col1,#T_093d58ec_a91f_11eb_a47d_b0359fc83c86row16_col2,#T_093d58ec_a91f_11eb_a47d_b0359fc83c86row16_col3,#T_093d58ec_a91f_11eb_a47d_b0359fc83c86row16_col4,#T_093d58ec_a91f_11eb_a47d_b0359fc83c86row16_col5,#T_093d58ec_a91f_11eb_a47d_b0359fc83c86row16_col6,#T_093d58ec_a91f_11eb_a47d_b0359fc83c86row17_col0,#T_093d58ec_a91f_11eb_a47d_b0359fc83c86row17_col1,#T_093d58ec_a91f_11eb_a47d_b0359fc83c86row17_col2,#T_093d58ec_a91f_11eb_a47d_b0359fc83c86row17_col3,#T_093d58ec_a91f_11eb_a47d_b0359fc83c86row17_col4,#T_093d58ec_a91f_11eb_a47d_b0359fc83c86row17_col5,#T_093d58ec_a91f_11eb_a47d_b0359fc83c86row17_col6,#T_093d58ec_a91f_11eb_a47d_b0359fc83c86row18_col0,#T_093d58ec_a91f_11eb_a47d_b0359fc83c86row18_col1,#T_093d58ec_a91f_11eb_a47d_b0359fc83c86row18_col2,#T_093d58ec_a91f_11eb_a47d_b0359fc83c86row18_col3,#T_093d58ec_a91f_11eb_a47d_b0359fc83c86row18_col4,#T_093d58ec_a91f_11eb_a47d_b0359fc83c86row18_col5,#T_093d58ec_a91f_11eb_a47d_b0359fc83c86row18_col6{\n",
       "            text-align:  left;\n",
       "            text-align:  left;\n",
       "        }#T_093d58ec_a91f_11eb_a47d_b0359fc83c86row0_col1,#T_093d58ec_a91f_11eb_a47d_b0359fc83c86row0_col3,#T_093d58ec_a91f_11eb_a47d_b0359fc83c86row0_col4,#T_093d58ec_a91f_11eb_a47d_b0359fc83c86row0_col5,#T_093d58ec_a91f_11eb_a47d_b0359fc83c86row0_col6,#T_093d58ec_a91f_11eb_a47d_b0359fc83c86row2_col2{\n",
       "            text-align:  left;\n",
       "            text-align:  left;\n",
       "            background-color:  yellow;\n",
       "        }#T_093d58ec_a91f_11eb_a47d_b0359fc83c86row0_col7,#T_093d58ec_a91f_11eb_a47d_b0359fc83c86row1_col7,#T_093d58ec_a91f_11eb_a47d_b0359fc83c86row2_col7,#T_093d58ec_a91f_11eb_a47d_b0359fc83c86row3_col7,#T_093d58ec_a91f_11eb_a47d_b0359fc83c86row4_col7,#T_093d58ec_a91f_11eb_a47d_b0359fc83c86row5_col7,#T_093d58ec_a91f_11eb_a47d_b0359fc83c86row6_col7,#T_093d58ec_a91f_11eb_a47d_b0359fc83c86row8_col7,#T_093d58ec_a91f_11eb_a47d_b0359fc83c86row9_col7,#T_093d58ec_a91f_11eb_a47d_b0359fc83c86row10_col7,#T_093d58ec_a91f_11eb_a47d_b0359fc83c86row11_col7,#T_093d58ec_a91f_11eb_a47d_b0359fc83c86row12_col7,#T_093d58ec_a91f_11eb_a47d_b0359fc83c86row13_col7,#T_093d58ec_a91f_11eb_a47d_b0359fc83c86row14_col7,#T_093d58ec_a91f_11eb_a47d_b0359fc83c86row15_col7,#T_093d58ec_a91f_11eb_a47d_b0359fc83c86row16_col7,#T_093d58ec_a91f_11eb_a47d_b0359fc83c86row17_col7,#T_093d58ec_a91f_11eb_a47d_b0359fc83c86row18_col7{\n",
       "            text-align:  left;\n",
       "            text-align:  left;\n",
       "            background-color:  lightgrey;\n",
       "        }#T_093d58ec_a91f_11eb_a47d_b0359fc83c86row7_col7{\n",
       "            text-align:  left;\n",
       "            text-align:  left;\n",
       "            background-color:  yellow;\n",
       "            background-color:  lightgrey;\n",
       "        }</style><table id=\"T_093d58ec_a91f_11eb_a47d_b0359fc83c86\" ><thead>    <tr>        <th class=\"blank level0\" ></th>        <th class=\"col_heading level0 col0\" >Model</th>        <th class=\"col_heading level0 col1\" >MAE</th>        <th class=\"col_heading level0 col2\" >MSE</th>        <th class=\"col_heading level0 col3\" >RMSE</th>        <th class=\"col_heading level0 col4\" >R2</th>        <th class=\"col_heading level0 col5\" >RMSLE</th>        <th class=\"col_heading level0 col6\" >MAPE</th>        <th class=\"col_heading level0 col7\" >TT (Sec)</th>    </tr></thead><tbody>\n",
       "                <tr>\n",
       "                        <th id=\"T_093d58ec_a91f_11eb_a47d_b0359fc83c86level0_row0\" class=\"row_heading level0 row0\" >catboost</th>\n",
       "                        <td id=\"T_093d58ec_a91f_11eb_a47d_b0359fc83c86row0_col0\" class=\"data row0 col0\" >CatBoost Regressor</td>\n",
       "                        <td id=\"T_093d58ec_a91f_11eb_a47d_b0359fc83c86row0_col1\" class=\"data row0 col1\" >22353.7346</td>\n",
       "                        <td id=\"T_093d58ec_a91f_11eb_a47d_b0359fc83c86row0_col2\" class=\"data row0 col2\" >1418647627.3685</td>\n",
       "                        <td id=\"T_093d58ec_a91f_11eb_a47d_b0359fc83c86row0_col3\" class=\"data row0 col3\" >36051.8438</td>\n",
       "                        <td id=\"T_093d58ec_a91f_11eb_a47d_b0359fc83c86row0_col4\" class=\"data row0 col4\" >0.7920</td>\n",
       "                        <td id=\"T_093d58ec_a91f_11eb_a47d_b0359fc83c86row0_col5\" class=\"data row0 col5\" >0.1765</td>\n",
       "                        <td id=\"T_093d58ec_a91f_11eb_a47d_b0359fc83c86row0_col6\" class=\"data row0 col6\" >0.1309</td>\n",
       "                        <td id=\"T_093d58ec_a91f_11eb_a47d_b0359fc83c86row0_col7\" class=\"data row0 col7\" >0.7260</td>\n",
       "            </tr>\n",
       "            <tr>\n",
       "                        <th id=\"T_093d58ec_a91f_11eb_a47d_b0359fc83c86level0_row1\" class=\"row_heading level0 row1\" >et</th>\n",
       "                        <td id=\"T_093d58ec_a91f_11eb_a47d_b0359fc83c86row1_col0\" class=\"data row1 col0\" >Extra Trees Regressor</td>\n",
       "                        <td id=\"T_093d58ec_a91f_11eb_a47d_b0359fc83c86row1_col1\" class=\"data row1 col1\" >23329.3219</td>\n",
       "                        <td id=\"T_093d58ec_a91f_11eb_a47d_b0359fc83c86row1_col2\" class=\"data row1 col2\" >1441783942.2166</td>\n",
       "                        <td id=\"T_093d58ec_a91f_11eb_a47d_b0359fc83c86row1_col3\" class=\"data row1 col3\" >37082.8491</td>\n",
       "                        <td id=\"T_093d58ec_a91f_11eb_a47d_b0359fc83c86row1_col4\" class=\"data row1 col4\" >0.7837</td>\n",
       "                        <td id=\"T_093d58ec_a91f_11eb_a47d_b0359fc83c86row1_col5\" class=\"data row1 col5\" >0.1860</td>\n",
       "                        <td id=\"T_093d58ec_a91f_11eb_a47d_b0359fc83c86row1_col6\" class=\"data row1 col6\" >0.1388</td>\n",
       "                        <td id=\"T_093d58ec_a91f_11eb_a47d_b0359fc83c86row1_col7\" class=\"data row1 col7\" >0.0920</td>\n",
       "            </tr>\n",
       "            <tr>\n",
       "                        <th id=\"T_093d58ec_a91f_11eb_a47d_b0359fc83c86level0_row2\" class=\"row_heading level0 row2\" >gbr</th>\n",
       "                        <td id=\"T_093d58ec_a91f_11eb_a47d_b0359fc83c86row2_col0\" class=\"data row2 col0\" >Gradient Boosting Regressor</td>\n",
       "                        <td id=\"T_093d58ec_a91f_11eb_a47d_b0359fc83c86row2_col1\" class=\"data row2 col1\" >23470.9520</td>\n",
       "                        <td id=\"T_093d58ec_a91f_11eb_a47d_b0359fc83c86row2_col2\" class=\"data row2 col2\" >1403920691.4596</td>\n",
       "                        <td id=\"T_093d58ec_a91f_11eb_a47d_b0359fc83c86row2_col3\" class=\"data row2 col3\" >36394.5036</td>\n",
       "                        <td id=\"T_093d58ec_a91f_11eb_a47d_b0359fc83c86row2_col4\" class=\"data row2 col4\" >0.7888</td>\n",
       "                        <td id=\"T_093d58ec_a91f_11eb_a47d_b0359fc83c86row2_col5\" class=\"data row2 col5\" >0.1839</td>\n",
       "                        <td id=\"T_093d58ec_a91f_11eb_a47d_b0359fc83c86row2_col6\" class=\"data row2 col6\" >0.1400</td>\n",
       "                        <td id=\"T_093d58ec_a91f_11eb_a47d_b0359fc83c86row2_col7\" class=\"data row2 col7\" >0.0420</td>\n",
       "            </tr>\n",
       "            <tr>\n",
       "                        <th id=\"T_093d58ec_a91f_11eb_a47d_b0359fc83c86level0_row3\" class=\"row_heading level0 row3\" >rf</th>\n",
       "                        <td id=\"T_093d58ec_a91f_11eb_a47d_b0359fc83c86row3_col0\" class=\"data row3 col0\" >Random Forest Regressor</td>\n",
       "                        <td id=\"T_093d58ec_a91f_11eb_a47d_b0359fc83c86row3_col1\" class=\"data row3 col1\" >23566.2820</td>\n",
       "                        <td id=\"T_093d58ec_a91f_11eb_a47d_b0359fc83c86row3_col2\" class=\"data row3 col2\" >1474049881.5263</td>\n",
       "                        <td id=\"T_093d58ec_a91f_11eb_a47d_b0359fc83c86row3_col3\" class=\"data row3 col3\" >37618.4355</td>\n",
       "                        <td id=\"T_093d58ec_a91f_11eb_a47d_b0359fc83c86row3_col4\" class=\"data row3 col4\" >0.7771</td>\n",
       "                        <td id=\"T_093d58ec_a91f_11eb_a47d_b0359fc83c86row3_col5\" class=\"data row3 col5\" >0.1865</td>\n",
       "                        <td id=\"T_093d58ec_a91f_11eb_a47d_b0359fc83c86row3_col6\" class=\"data row3 col6\" >0.1392</td>\n",
       "                        <td id=\"T_093d58ec_a91f_11eb_a47d_b0359fc83c86row3_col7\" class=\"data row3 col7\" >0.1280</td>\n",
       "            </tr>\n",
       "            <tr>\n",
       "                        <th id=\"T_093d58ec_a91f_11eb_a47d_b0359fc83c86level0_row4\" class=\"row_heading level0 row4\" >lightgbm</th>\n",
       "                        <td id=\"T_093d58ec_a91f_11eb_a47d_b0359fc83c86row4_col0\" class=\"data row4 col0\" >Light Gradient Boosting Machine</td>\n",
       "                        <td id=\"T_093d58ec_a91f_11eb_a47d_b0359fc83c86row4_col1\" class=\"data row4 col1\" >23745.3886</td>\n",
       "                        <td id=\"T_093d58ec_a91f_11eb_a47d_b0359fc83c86row4_col2\" class=\"data row4 col2\" >1460994079.8343</td>\n",
       "                        <td id=\"T_093d58ec_a91f_11eb_a47d_b0359fc83c86row4_col3\" class=\"data row4 col3\" >37406.6507</td>\n",
       "                        <td id=\"T_093d58ec_a91f_11eb_a47d_b0359fc83c86row4_col4\" class=\"data row4 col4\" >0.7785</td>\n",
       "                        <td id=\"T_093d58ec_a91f_11eb_a47d_b0359fc83c86row4_col5\" class=\"data row4 col5\" >0.1863</td>\n",
       "                        <td id=\"T_093d58ec_a91f_11eb_a47d_b0359fc83c86row4_col6\" class=\"data row4 col6\" >0.1392</td>\n",
       "                        <td id=\"T_093d58ec_a91f_11eb_a47d_b0359fc83c86row4_col7\" class=\"data row4 col7\" >0.1010</td>\n",
       "            </tr>\n",
       "            <tr>\n",
       "                        <th id=\"T_093d58ec_a91f_11eb_a47d_b0359fc83c86level0_row5\" class=\"row_heading level0 row5\" >xgboost</th>\n",
       "                        <td id=\"T_093d58ec_a91f_11eb_a47d_b0359fc83c86row5_col0\" class=\"data row5 col0\" >Extreme Gradient Boosting</td>\n",
       "                        <td id=\"T_093d58ec_a91f_11eb_a47d_b0359fc83c86row5_col1\" class=\"data row5 col1\" >24041.0336</td>\n",
       "                        <td id=\"T_093d58ec_a91f_11eb_a47d_b0359fc83c86row5_col2\" class=\"data row5 col2\" >1414369004.8000</td>\n",
       "                        <td id=\"T_093d58ec_a91f_11eb_a47d_b0359fc83c86row5_col3\" class=\"data row5 col3\" >37156.4764</td>\n",
       "                        <td id=\"T_093d58ec_a91f_11eb_a47d_b0359fc83c86row5_col4\" class=\"data row5 col4\" >0.7838</td>\n",
       "                        <td id=\"T_093d58ec_a91f_11eb_a47d_b0359fc83c86row5_col5\" class=\"data row5 col5\" >0.1902</td>\n",
       "                        <td id=\"T_093d58ec_a91f_11eb_a47d_b0359fc83c86row5_col6\" class=\"data row5 col6\" >0.1417</td>\n",
       "                        <td id=\"T_093d58ec_a91f_11eb_a47d_b0359fc83c86row5_col7\" class=\"data row5 col7\" >0.3940</td>\n",
       "            </tr>\n",
       "            <tr>\n",
       "                        <th id=\"T_093d58ec_a91f_11eb_a47d_b0359fc83c86level0_row6\" class=\"row_heading level0 row6\" >br</th>\n",
       "                        <td id=\"T_093d58ec_a91f_11eb_a47d_b0359fc83c86row6_col0\" class=\"data row6 col0\" >Bayesian Ridge</td>\n",
       "                        <td id=\"T_093d58ec_a91f_11eb_a47d_b0359fc83c86row6_col1\" class=\"data row6 col1\" >27917.6710</td>\n",
       "                        <td id=\"T_093d58ec_a91f_11eb_a47d_b0359fc83c86row6_col2\" class=\"data row6 col2\" >2162130678.3645</td>\n",
       "                        <td id=\"T_093d58ec_a91f_11eb_a47d_b0359fc83c86row6_col3\" class=\"data row6 col3\" >45052.1027</td>\n",
       "                        <td id=\"T_093d58ec_a91f_11eb_a47d_b0359fc83c86row6_col4\" class=\"data row6 col4\" >0.6708</td>\n",
       "                        <td id=\"T_093d58ec_a91f_11eb_a47d_b0359fc83c86row6_col5\" class=\"data row6 col5\" >0.2147</td>\n",
       "                        <td id=\"T_093d58ec_a91f_11eb_a47d_b0359fc83c86row6_col6\" class=\"data row6 col6\" >0.1609</td>\n",
       "                        <td id=\"T_093d58ec_a91f_11eb_a47d_b0359fc83c86row6_col7\" class=\"data row6 col7\" >0.0070</td>\n",
       "            </tr>\n",
       "            <tr>\n",
       "                        <th id=\"T_093d58ec_a91f_11eb_a47d_b0359fc83c86level0_row7\" class=\"row_heading level0 row7\" >en</th>\n",
       "                        <td id=\"T_093d58ec_a91f_11eb_a47d_b0359fc83c86row7_col0\" class=\"data row7 col0\" >Elastic Net</td>\n",
       "                        <td id=\"T_093d58ec_a91f_11eb_a47d_b0359fc83c86row7_col1\" class=\"data row7 col1\" >28122.8166</td>\n",
       "                        <td id=\"T_093d58ec_a91f_11eb_a47d_b0359fc83c86row7_col2\" class=\"data row7 col2\" >2191205760.0000</td>\n",
       "                        <td id=\"T_093d58ec_a91f_11eb_a47d_b0359fc83c86row7_col3\" class=\"data row7 col3\" >45326.6930</td>\n",
       "                        <td id=\"T_093d58ec_a91f_11eb_a47d_b0359fc83c86row7_col4\" class=\"data row7 col4\" >0.6664</td>\n",
       "                        <td id=\"T_093d58ec_a91f_11eb_a47d_b0359fc83c86row7_col5\" class=\"data row7 col5\" >0.2168</td>\n",
       "                        <td id=\"T_093d58ec_a91f_11eb_a47d_b0359fc83c86row7_col6\" class=\"data row7 col6\" >0.1622</td>\n",
       "                        <td id=\"T_093d58ec_a91f_11eb_a47d_b0359fc83c86row7_col7\" class=\"data row7 col7\" >0.0050</td>\n",
       "            </tr>\n",
       "            <tr>\n",
       "                        <th id=\"T_093d58ec_a91f_11eb_a47d_b0359fc83c86level0_row8\" class=\"row_heading level0 row8\" >llar</th>\n",
       "                        <td id=\"T_093d58ec_a91f_11eb_a47d_b0359fc83c86row8_col0\" class=\"data row8 col0\" >Lasso Least Angle Regression</td>\n",
       "                        <td id=\"T_093d58ec_a91f_11eb_a47d_b0359fc83c86row8_col1\" class=\"data row8 col1\" >28277.0974</td>\n",
       "                        <td id=\"T_093d58ec_a91f_11eb_a47d_b0359fc83c86row8_col2\" class=\"data row8 col2\" >2221374815.1595</td>\n",
       "                        <td id=\"T_093d58ec_a91f_11eb_a47d_b0359fc83c86row8_col3\" class=\"data row8 col3\" >45602.8589</td>\n",
       "                        <td id=\"T_093d58ec_a91f_11eb_a47d_b0359fc83c86row8_col4\" class=\"data row8 col4\" >0.6617</td>\n",
       "                        <td id=\"T_093d58ec_a91f_11eb_a47d_b0359fc83c86row8_col5\" class=\"data row8 col5\" >0.2181</td>\n",
       "                        <td id=\"T_093d58ec_a91f_11eb_a47d_b0359fc83c86row8_col6\" class=\"data row8 col6\" >0.1632</td>\n",
       "                        <td id=\"T_093d58ec_a91f_11eb_a47d_b0359fc83c86row8_col7\" class=\"data row8 col7\" >0.0060</td>\n",
       "            </tr>\n",
       "            <tr>\n",
       "                        <th id=\"T_093d58ec_a91f_11eb_a47d_b0359fc83c86level0_row9\" class=\"row_heading level0 row9\" >ridge</th>\n",
       "                        <td id=\"T_093d58ec_a91f_11eb_a47d_b0359fc83c86row9_col0\" class=\"data row9 col0\" >Ridge Regression</td>\n",
       "                        <td id=\"T_093d58ec_a91f_11eb_a47d_b0359fc83c86row9_col1\" class=\"data row9 col1\" >28285.6875</td>\n",
       "                        <td id=\"T_093d58ec_a91f_11eb_a47d_b0359fc83c86row9_col2\" class=\"data row9 col2\" >2223337715.2000</td>\n",
       "                        <td id=\"T_093d58ec_a91f_11eb_a47d_b0359fc83c86row9_col3\" class=\"data row9 col3\" >45615.3258</td>\n",
       "                        <td id=\"T_093d58ec_a91f_11eb_a47d_b0359fc83c86row9_col4\" class=\"data row9 col4\" >0.6614</td>\n",
       "                        <td id=\"T_093d58ec_a91f_11eb_a47d_b0359fc83c86row9_col5\" class=\"data row9 col5\" >0.2184</td>\n",
       "                        <td id=\"T_093d58ec_a91f_11eb_a47d_b0359fc83c86row9_col6\" class=\"data row9 col6\" >0.1633</td>\n",
       "                        <td id=\"T_093d58ec_a91f_11eb_a47d_b0359fc83c86row9_col7\" class=\"data row9 col7\" >0.0070</td>\n",
       "            </tr>\n",
       "            <tr>\n",
       "                        <th id=\"T_093d58ec_a91f_11eb_a47d_b0359fc83c86level0_row10\" class=\"row_heading level0 row10\" >lasso</th>\n",
       "                        <td id=\"T_093d58ec_a91f_11eb_a47d_b0359fc83c86row10_col0\" class=\"data row10 col0\" >Lasso Regression</td>\n",
       "                        <td id=\"T_093d58ec_a91f_11eb_a47d_b0359fc83c86row10_col1\" class=\"data row10 col1\" >28286.2037</td>\n",
       "                        <td id=\"T_093d58ec_a91f_11eb_a47d_b0359fc83c86row10_col2\" class=\"data row10 col2\" >2223486067.2000</td>\n",
       "                        <td id=\"T_093d58ec_a91f_11eb_a47d_b0359fc83c86row10_col3\" class=\"data row10 col3\" >45616.5367</td>\n",
       "                        <td id=\"T_093d58ec_a91f_11eb_a47d_b0359fc83c86row10_col4\" class=\"data row10 col4\" >0.6614</td>\n",
       "                        <td id=\"T_093d58ec_a91f_11eb_a47d_b0359fc83c86row10_col5\" class=\"data row10 col5\" >0.2184</td>\n",
       "                        <td id=\"T_093d58ec_a91f_11eb_a47d_b0359fc83c86row10_col6\" class=\"data row10 col6\" >0.1633</td>\n",
       "                        <td id=\"T_093d58ec_a91f_11eb_a47d_b0359fc83c86row10_col7\" class=\"data row10 col7\" >0.0080</td>\n",
       "            </tr>\n",
       "            <tr>\n",
       "                        <th id=\"T_093d58ec_a91f_11eb_a47d_b0359fc83c86level0_row11\" class=\"row_heading level0 row11\" >lr</th>\n",
       "                        <td id=\"T_093d58ec_a91f_11eb_a47d_b0359fc83c86row11_col0\" class=\"data row11 col0\" >Linear Regression</td>\n",
       "                        <td id=\"T_093d58ec_a91f_11eb_a47d_b0359fc83c86row11_col1\" class=\"data row11 col1\" >28286.6674</td>\n",
       "                        <td id=\"T_093d58ec_a91f_11eb_a47d_b0359fc83c86row11_col2\" class=\"data row11 col2\" >2223548300.8000</td>\n",
       "                        <td id=\"T_093d58ec_a91f_11eb_a47d_b0359fc83c86row11_col3\" class=\"data row11 col3\" >45617.1480</td>\n",
       "                        <td id=\"T_093d58ec_a91f_11eb_a47d_b0359fc83c86row11_col4\" class=\"data row11 col4\" >0.6614</td>\n",
       "                        <td id=\"T_093d58ec_a91f_11eb_a47d_b0359fc83c86row11_col5\" class=\"data row11 col5\" >0.2184</td>\n",
       "                        <td id=\"T_093d58ec_a91f_11eb_a47d_b0359fc83c86row11_col6\" class=\"data row11 col6\" >0.1633</td>\n",
       "                        <td id=\"T_093d58ec_a91f_11eb_a47d_b0359fc83c86row11_col7\" class=\"data row11 col7\" >0.0080</td>\n",
       "            </tr>\n",
       "            <tr>\n",
       "                        <th id=\"T_093d58ec_a91f_11eb_a47d_b0359fc83c86level0_row12\" class=\"row_heading level0 row12\" >lar</th>\n",
       "                        <td id=\"T_093d58ec_a91f_11eb_a47d_b0359fc83c86row12_col0\" class=\"data row12 col0\" >Least Angle Regression</td>\n",
       "                        <td id=\"T_093d58ec_a91f_11eb_a47d_b0359fc83c86row12_col1\" class=\"data row12 col1\" >28286.6725</td>\n",
       "                        <td id=\"T_093d58ec_a91f_11eb_a47d_b0359fc83c86row12_col2\" class=\"data row12 col2\" >2223549977.0677</td>\n",
       "                        <td id=\"T_093d58ec_a91f_11eb_a47d_b0359fc83c86row12_col3\" class=\"data row12 col3\" >45617.1650</td>\n",
       "                        <td id=\"T_093d58ec_a91f_11eb_a47d_b0359fc83c86row12_col4\" class=\"data row12 col4\" >0.6614</td>\n",
       "                        <td id=\"T_093d58ec_a91f_11eb_a47d_b0359fc83c86row12_col5\" class=\"data row12 col5\" >0.2184</td>\n",
       "                        <td id=\"T_093d58ec_a91f_11eb_a47d_b0359fc83c86row12_col6\" class=\"data row12 col6\" >0.1633</td>\n",
       "                        <td id=\"T_093d58ec_a91f_11eb_a47d_b0359fc83c86row12_col7\" class=\"data row12 col7\" >0.0070</td>\n",
       "            </tr>\n",
       "            <tr>\n",
       "                        <th id=\"T_093d58ec_a91f_11eb_a47d_b0359fc83c86level0_row13\" class=\"row_heading level0 row13\" >dt</th>\n",
       "                        <td id=\"T_093d58ec_a91f_11eb_a47d_b0359fc83c86row13_col0\" class=\"data row13 col0\" >Decision Tree Regressor</td>\n",
       "                        <td id=\"T_093d58ec_a91f_11eb_a47d_b0359fc83c86row13_col1\" class=\"data row13 col1\" >31129.3049</td>\n",
       "                        <td id=\"T_093d58ec_a91f_11eb_a47d_b0359fc83c86row13_col2\" class=\"data row13 col2\" >2267183977.5862</td>\n",
       "                        <td id=\"T_093d58ec_a91f_11eb_a47d_b0359fc83c86row13_col3\" class=\"data row13 col3\" >47273.5472</td>\n",
       "                        <td id=\"T_093d58ec_a91f_11eb_a47d_b0359fc83c86row13_col4\" class=\"data row13 col4\" >0.6504</td>\n",
       "                        <td id=\"T_093d58ec_a91f_11eb_a47d_b0359fc83c86row13_col5\" class=\"data row13 col5\" >0.2515</td>\n",
       "                        <td id=\"T_093d58ec_a91f_11eb_a47d_b0359fc83c86row13_col6\" class=\"data row13 col6\" >0.1824</td>\n",
       "                        <td id=\"T_093d58ec_a91f_11eb_a47d_b0359fc83c86row13_col7\" class=\"data row13 col7\" >0.0070</td>\n",
       "            </tr>\n",
       "            <tr>\n",
       "                        <th id=\"T_093d58ec_a91f_11eb_a47d_b0359fc83c86level0_row14\" class=\"row_heading level0 row14\" >huber</th>\n",
       "                        <td id=\"T_093d58ec_a91f_11eb_a47d_b0359fc83c86row14_col0\" class=\"data row14 col0\" >Huber Regressor</td>\n",
       "                        <td id=\"T_093d58ec_a91f_11eb_a47d_b0359fc83c86row14_col1\" class=\"data row14 col1\" >31270.1470</td>\n",
       "                        <td id=\"T_093d58ec_a91f_11eb_a47d_b0359fc83c86row14_col2\" class=\"data row14 col2\" >2505940664.8500</td>\n",
       "                        <td id=\"T_093d58ec_a91f_11eb_a47d_b0359fc83c86row14_col3\" class=\"data row14 col3\" >48928.6428</td>\n",
       "                        <td id=\"T_093d58ec_a91f_11eb_a47d_b0359fc83c86row14_col4\" class=\"data row14 col4\" >0.6159</td>\n",
       "                        <td id=\"T_093d58ec_a91f_11eb_a47d_b0359fc83c86row14_col5\" class=\"data row14 col5\" >0.2343</td>\n",
       "                        <td id=\"T_093d58ec_a91f_11eb_a47d_b0359fc83c86row14_col6\" class=\"data row14 col6\" >0.1847</td>\n",
       "                        <td id=\"T_093d58ec_a91f_11eb_a47d_b0359fc83c86row14_col7\" class=\"data row14 col7\" >0.0140</td>\n",
       "            </tr>\n",
       "            <tr>\n",
       "                        <th id=\"T_093d58ec_a91f_11eb_a47d_b0359fc83c86level0_row15\" class=\"row_heading level0 row15\" >ada</th>\n",
       "                        <td id=\"T_093d58ec_a91f_11eb_a47d_b0359fc83c86row15_col0\" class=\"data row15 col0\" >AdaBoost Regressor</td>\n",
       "                        <td id=\"T_093d58ec_a91f_11eb_a47d_b0359fc83c86row15_col1\" class=\"data row15 col1\" >31745.8409</td>\n",
       "                        <td id=\"T_093d58ec_a91f_11eb_a47d_b0359fc83c86row15_col2\" class=\"data row15 col2\" >2017832544.3491</td>\n",
       "                        <td id=\"T_093d58ec_a91f_11eb_a47d_b0359fc83c86row15_col3\" class=\"data row15 col3\" >44324.3494</td>\n",
       "                        <td id=\"T_093d58ec_a91f_11eb_a47d_b0359fc83c86row15_col4\" class=\"data row15 col4\" >0.6937</td>\n",
       "                        <td id=\"T_093d58ec_a91f_11eb_a47d_b0359fc83c86row15_col5\" class=\"data row15 col5\" >0.2446</td>\n",
       "                        <td id=\"T_093d58ec_a91f_11eb_a47d_b0359fc83c86row15_col6\" class=\"data row15 col6\" >0.2075</td>\n",
       "                        <td id=\"T_093d58ec_a91f_11eb_a47d_b0359fc83c86row15_col7\" class=\"data row15 col7\" >0.0350</td>\n",
       "            </tr>\n",
       "            <tr>\n",
       "                        <th id=\"T_093d58ec_a91f_11eb_a47d_b0359fc83c86level0_row16\" class=\"row_heading level0 row16\" >knn</th>\n",
       "                        <td id=\"T_093d58ec_a91f_11eb_a47d_b0359fc83c86row16_col0\" class=\"data row16 col0\" >K Neighbors Regressor</td>\n",
       "                        <td id=\"T_093d58ec_a91f_11eb_a47d_b0359fc83c86row16_col1\" class=\"data row16 col1\" >33974.3541</td>\n",
       "                        <td id=\"T_093d58ec_a91f_11eb_a47d_b0359fc83c86row16_col2\" class=\"data row16 col2\" >2735516224.0000</td>\n",
       "                        <td id=\"T_093d58ec_a91f_11eb_a47d_b0359fc83c86row16_col3\" class=\"data row16 col3\" >51689.2941</td>\n",
       "                        <td id=\"T_093d58ec_a91f_11eb_a47d_b0359fc83c86row16_col4\" class=\"data row16 col4\" >0.5864</td>\n",
       "                        <td id=\"T_093d58ec_a91f_11eb_a47d_b0359fc83c86row16_col5\" class=\"data row16 col5\" >0.2513</td>\n",
       "                        <td id=\"T_093d58ec_a91f_11eb_a47d_b0359fc83c86row16_col6\" class=\"data row16 col6\" >0.1991</td>\n",
       "                        <td id=\"T_093d58ec_a91f_11eb_a47d_b0359fc83c86row16_col7\" class=\"data row16 col7\" >0.0110</td>\n",
       "            </tr>\n",
       "            <tr>\n",
       "                        <th id=\"T_093d58ec_a91f_11eb_a47d_b0359fc83c86level0_row17\" class=\"row_heading level0 row17\" >omp</th>\n",
       "                        <td id=\"T_093d58ec_a91f_11eb_a47d_b0359fc83c86row17_col0\" class=\"data row17 col0\" >Orthogonal Matching Pursuit</td>\n",
       "                        <td id=\"T_093d58ec_a91f_11eb_a47d_b0359fc83c86row17_col1\" class=\"data row17 col1\" >44187.6583</td>\n",
       "                        <td id=\"T_093d58ec_a91f_11eb_a47d_b0359fc83c86row17_col2\" class=\"data row17 col2\" >4234780237.2675</td>\n",
       "                        <td id=\"T_093d58ec_a91f_11eb_a47d_b0359fc83c86row17_col3\" class=\"data row17 col3\" >64456.8225</td>\n",
       "                        <td id=\"T_093d58ec_a91f_11eb_a47d_b0359fc83c86row17_col4\" class=\"data row17 col4\" >0.3527</td>\n",
       "                        <td id=\"T_093d58ec_a91f_11eb_a47d_b0359fc83c86row17_col5\" class=\"data row17 col5\" >0.3224</td>\n",
       "                        <td id=\"T_093d58ec_a91f_11eb_a47d_b0359fc83c86row17_col6\" class=\"data row17 col6\" >0.2670</td>\n",
       "                        <td id=\"T_093d58ec_a91f_11eb_a47d_b0359fc83c86row17_col7\" class=\"data row17 col7\" >0.0060</td>\n",
       "            </tr>\n",
       "            <tr>\n",
       "                        <th id=\"T_093d58ec_a91f_11eb_a47d_b0359fc83c86level0_row18\" class=\"row_heading level0 row18\" >par</th>\n",
       "                        <td id=\"T_093d58ec_a91f_11eb_a47d_b0359fc83c86row18_col0\" class=\"data row18 col0\" >Passive Aggressive Regressor</td>\n",
       "                        <td id=\"T_093d58ec_a91f_11eb_a47d_b0359fc83c86row18_col1\" class=\"data row18 col1\" >44792.7165</td>\n",
       "                        <td id=\"T_093d58ec_a91f_11eb_a47d_b0359fc83c86row18_col2\" class=\"data row18 col2\" >4859497083.9170</td>\n",
       "                        <td id=\"T_093d58ec_a91f_11eb_a47d_b0359fc83c86row18_col3\" class=\"data row18 col3\" >66193.0854</td>\n",
       "                        <td id=\"T_093d58ec_a91f_11eb_a47d_b0359fc83c86row18_col4\" class=\"data row18 col4\" >0.2468</td>\n",
       "                        <td id=\"T_093d58ec_a91f_11eb_a47d_b0359fc83c86row18_col5\" class=\"data row18 col5\" >0.3084</td>\n",
       "                        <td id=\"T_093d58ec_a91f_11eb_a47d_b0359fc83c86row18_col6\" class=\"data row18 col6\" >0.2786</td>\n",
       "                        <td id=\"T_093d58ec_a91f_11eb_a47d_b0359fc83c86row18_col7\" class=\"data row18 col7\" >0.0080</td>\n",
       "            </tr>\n",
       "    </tbody></table>"
      ],
      "text/plain": [
       "<pandas.io.formats.style.Styler at 0x1a5f5b9e910>"
      ]
     },
     "metadata": {},
     "output_type": "display_data"
    }
   ],
   "source": [
    "from pycaret.regression import setup, compare_models\n",
    "\n",
    "exp_clf = setup(df, target='SalePrice', numeric_features=['FullBath', 'TotRmsAbvGrd'])\n",
    "best = compare_models(sort='MAE')"
   ]
  },
  {
   "cell_type": "code",
   "execution_count": 80,
   "id": "capable-appendix",
   "metadata": {},
   "outputs": [
    {
     "data": {
      "text/html": [
       "<div>\n",
       "<style scoped>\n",
       "    .dataframe tbody tr th:only-of-type {\n",
       "        vertical-align: middle;\n",
       "    }\n",
       "\n",
       "    .dataframe tbody tr th {\n",
       "        vertical-align: top;\n",
       "    }\n",
       "\n",
       "    .dataframe thead th {\n",
       "        text-align: right;\n",
       "    }\n",
       "</style>\n",
       "<table border=\"1\" class=\"dataframe\">\n",
       "  <thead>\n",
       "    <tr style=\"text-align: right;\">\n",
       "      <th></th>\n",
       "      <th>LotArea</th>\n",
       "      <th>YearBuilt</th>\n",
       "      <th>FullBath</th>\n",
       "      <th>TotRmsAbvGrd</th>\n",
       "      <th>GarageArea</th>\n",
       "      <th>1stFlrSF</th>\n",
       "      <th>2ndFlrSF</th>\n",
       "      <th>Label</th>\n",
       "    </tr>\n",
       "    <tr>\n",
       "      <th>Id</th>\n",
       "      <th></th>\n",
       "      <th></th>\n",
       "      <th></th>\n",
       "      <th></th>\n",
       "      <th></th>\n",
       "      <th></th>\n",
       "      <th></th>\n",
       "      <th></th>\n",
       "    </tr>\n",
       "  </thead>\n",
       "  <tbody>\n",
       "    <tr>\n",
       "      <th>1</th>\n",
       "      <td>8450</td>\n",
       "      <td>2003</td>\n",
       "      <td>2</td>\n",
       "      <td>8</td>\n",
       "      <td>548</td>\n",
       "      <td>856</td>\n",
       "      <td>854</td>\n",
       "      <td>199941.742839</td>\n",
       "    </tr>\n",
       "    <tr>\n",
       "      <th>2</th>\n",
       "      <td>9600</td>\n",
       "      <td>1976</td>\n",
       "      <td>2</td>\n",
       "      <td>6</td>\n",
       "      <td>460</td>\n",
       "      <td>1262</td>\n",
       "      <td>0</td>\n",
       "      <td>163448.468117</td>\n",
       "    </tr>\n",
       "    <tr>\n",
       "      <th>3</th>\n",
       "      <td>11250</td>\n",
       "      <td>2001</td>\n",
       "      <td>2</td>\n",
       "      <td>6</td>\n",
       "      <td>608</td>\n",
       "      <td>920</td>\n",
       "      <td>866</td>\n",
       "      <td>215085.135861</td>\n",
       "    </tr>\n",
       "    <tr>\n",
       "      <th>4</th>\n",
       "      <td>9550</td>\n",
       "      <td>1915</td>\n",
       "      <td>1</td>\n",
       "      <td>7</td>\n",
       "      <td>642</td>\n",
       "      <td>961</td>\n",
       "      <td>756</td>\n",
       "      <td>143582.485739</td>\n",
       "    </tr>\n",
       "    <tr>\n",
       "      <th>5</th>\n",
       "      <td>14260</td>\n",
       "      <td>2000</td>\n",
       "      <td>2</td>\n",
       "      <td>9</td>\n",
       "      <td>836</td>\n",
       "      <td>1145</td>\n",
       "      <td>1053</td>\n",
       "      <td>271139.757452</td>\n",
       "    </tr>\n",
       "    <tr>\n",
       "      <th>...</th>\n",
       "      <td>...</td>\n",
       "      <td>...</td>\n",
       "      <td>...</td>\n",
       "      <td>...</td>\n",
       "      <td>...</td>\n",
       "      <td>...</td>\n",
       "      <td>...</td>\n",
       "      <td>...</td>\n",
       "    </tr>\n",
       "    <tr>\n",
       "      <th>1456</th>\n",
       "      <td>7917</td>\n",
       "      <td>1999</td>\n",
       "      <td>2</td>\n",
       "      <td>7</td>\n",
       "      <td>460</td>\n",
       "      <td>953</td>\n",
       "      <td>694</td>\n",
       "      <td>185169.027645</td>\n",
       "    </tr>\n",
       "    <tr>\n",
       "      <th>1457</th>\n",
       "      <td>13175</td>\n",
       "      <td>1978</td>\n",
       "      <td>2</td>\n",
       "      <td>7</td>\n",
       "      <td>500</td>\n",
       "      <td>2073</td>\n",
       "      <td>0</td>\n",
       "      <td>224443.620240</td>\n",
       "    </tr>\n",
       "    <tr>\n",
       "      <th>1458</th>\n",
       "      <td>9042</td>\n",
       "      <td>1941</td>\n",
       "      <td>2</td>\n",
       "      <td>9</td>\n",
       "      <td>252</td>\n",
       "      <td>1188</td>\n",
       "      <td>1152</td>\n",
       "      <td>249094.237806</td>\n",
       "    </tr>\n",
       "    <tr>\n",
       "      <th>1459</th>\n",
       "      <td>9717</td>\n",
       "      <td>1950</td>\n",
       "      <td>1</td>\n",
       "      <td>5</td>\n",
       "      <td>240</td>\n",
       "      <td>1078</td>\n",
       "      <td>0</td>\n",
       "      <td>126526.816570</td>\n",
       "    </tr>\n",
       "    <tr>\n",
       "      <th>1460</th>\n",
       "      <td>9937</td>\n",
       "      <td>1965</td>\n",
       "      <td>1</td>\n",
       "      <td>6</td>\n",
       "      <td>276</td>\n",
       "      <td>1256</td>\n",
       "      <td>0</td>\n",
       "      <td>142634.878431</td>\n",
       "    </tr>\n",
       "  </tbody>\n",
       "</table>\n",
       "<p>1460 rows × 8 columns</p>\n",
       "</div>"
      ],
      "text/plain": [
       "      LotArea  YearBuilt  FullBath  TotRmsAbvGrd  GarageArea  1stFlrSF  \\\n",
       "Id                                                                       \n",
       "1        8450       2003         2             8         548       856   \n",
       "2        9600       1976         2             6         460      1262   \n",
       "3       11250       2001         2             6         608       920   \n",
       "4        9550       1915         1             7         642       961   \n",
       "5       14260       2000         2             9         836      1145   \n",
       "...       ...        ...       ...           ...         ...       ...   \n",
       "1456     7917       1999         2             7         460       953   \n",
       "1457    13175       1978         2             7         500      2073   \n",
       "1458     9042       1941         2             9         252      1188   \n",
       "1459     9717       1950         1             5         240      1078   \n",
       "1460     9937       1965         1             6         276      1256   \n",
       "\n",
       "      2ndFlrSF          Label  \n",
       "Id                             \n",
       "1          854  199941.742839  \n",
       "2            0  163448.468117  \n",
       "3          866  215085.135861  \n",
       "4          756  143582.485739  \n",
       "5         1053  271139.757452  \n",
       "...        ...            ...  \n",
       "1456       694  185169.027645  \n",
       "1457         0  224443.620240  \n",
       "1458      1152  249094.237806  \n",
       "1459         0  126526.816570  \n",
       "1460         0  142634.878431  \n",
       "\n",
       "[1460 rows x 8 columns]"
      ]
     },
     "execution_count": 80,
     "metadata": {},
     "output_type": "execute_result"
    }
   ],
   "source": [
    "from pycaret.regression import predict_model, save_model, load_model\n",
    "\n",
    "predict_model(best, features)"
   ]
  },
  {
   "cell_type": "code",
   "execution_count": 81,
   "id": "modular-ceremony",
   "metadata": {},
   "outputs": [
    {
     "name": "stdout",
     "output_type": "stream",
     "text": [
      "Transformation Pipeline and Model Succesfully Saved\n"
     ]
    },
    {
     "data": {
      "text/plain": [
       "(Pipeline(memory=None,\n",
       "          steps=[('dtypes',\n",
       "                  DataTypes_Auto_infer(categorical_features=[],\n",
       "                                       display_types=True, features_todrop=[],\n",
       "                                       id_columns=[], ml_usecase='regression',\n",
       "                                       numerical_features=['FullBath',\n",
       "                                                           'TotRmsAbvGrd'],\n",
       "                                       target='SalePrice', time_features=[])),\n",
       "                 ('imputer',\n",
       "                  Simple_Imputer(categorical_strategy='not_available',\n",
       "                                 fill_value_categorical=None,\n",
       "                                 fill_value_nume...\n",
       "                 ('binn', 'passthrough'), ('rem_outliers', 'passthrough'),\n",
       "                 ('cluster_all', 'passthrough'),\n",
       "                 ('dummy', Dummify(target='SalePrice')),\n",
       "                 ('fix_perfect', Remove_100(target='SalePrice')),\n",
       "                 ('clean_names', Clean_Colum_Names()),\n",
       "                 ('feature_select', 'passthrough'), ('fix_multi', 'passthrough'),\n",
       "                 ('dfs', 'passthrough'), ('pca', 'passthrough'),\n",
       "                 ['trained_model',\n",
       "                  <catboost.core.CatBoostRegressor object at 0x000001A5FBB32AF0>]],\n",
       "          verbose=False),\n",
       " 'catboost_regressor.pkl')"
      ]
     },
     "execution_count": 81,
     "metadata": {},
     "output_type": "execute_result"
    }
   ],
   "source": [
    "save_model(best, 'catboost_regressor')"
   ]
  },
  {
   "cell_type": "code",
   "execution_count": 87,
   "id": "romance-cable",
   "metadata": {},
   "outputs": [
    {
     "name": "stdout",
     "output_type": "stream",
     "text": [
      "Transformation Pipeline and Model Successfully Loaded\n"
     ]
    }
   ],
   "source": [
    "cb_model = load_model('catboost_regressor')"
   ]
  },
  {
   "cell_type": "code",
   "execution_count": 98,
   "id": "prime-accident",
   "metadata": {},
   "outputs": [
    {
     "data": {
      "text/html": [
       "<style  type=\"text/css\" >\n",
       "#T_957bc6b4_a921_11eb_bf16_b0359fc83c86row10_col0,#T_957bc6b4_a921_11eb_bf16_b0359fc83c86row10_col1,#T_957bc6b4_a921_11eb_bf16_b0359fc83c86row10_col2,#T_957bc6b4_a921_11eb_bf16_b0359fc83c86row10_col3,#T_957bc6b4_a921_11eb_bf16_b0359fc83c86row10_col4,#T_957bc6b4_a921_11eb_bf16_b0359fc83c86row10_col5{\n",
       "            background:  yellow;\n",
       "        }</style><table id=\"T_957bc6b4_a921_11eb_bf16_b0359fc83c86\" ><thead>    <tr>        <th class=\"blank level0\" ></th>        <th class=\"col_heading level0 col0\" >MAE</th>        <th class=\"col_heading level0 col1\" >MSE</th>        <th class=\"col_heading level0 col2\" >RMSE</th>        <th class=\"col_heading level0 col3\" >R2</th>        <th class=\"col_heading level0 col4\" >RMSLE</th>        <th class=\"col_heading level0 col5\" >MAPE</th>    </tr></thead><tbody>\n",
       "                <tr>\n",
       "                        <th id=\"T_957bc6b4_a921_11eb_bf16_b0359fc83c86level0_row0\" class=\"row_heading level0 row0\" >0</th>\n",
       "                        <td id=\"T_957bc6b4_a921_11eb_bf16_b0359fc83c86row0_col0\" class=\"data row0 col0\" >27546.3176</td>\n",
       "                        <td id=\"T_957bc6b4_a921_11eb_bf16_b0359fc83c86row0_col1\" class=\"data row0 col1\" >1741304002.7089</td>\n",
       "                        <td id=\"T_957bc6b4_a921_11eb_bf16_b0359fc83c86row0_col2\" class=\"data row0 col2\" >41728.9348</td>\n",
       "                        <td id=\"T_957bc6b4_a921_11eb_bf16_b0359fc83c86row0_col3\" class=\"data row0 col3\" >0.6972</td>\n",
       "                        <td id=\"T_957bc6b4_a921_11eb_bf16_b0359fc83c86row0_col4\" class=\"data row0 col4\" >0.2157</td>\n",
       "                        <td id=\"T_957bc6b4_a921_11eb_bf16_b0359fc83c86row0_col5\" class=\"data row0 col5\" >0.1634</td>\n",
       "            </tr>\n",
       "            <tr>\n",
       "                        <th id=\"T_957bc6b4_a921_11eb_bf16_b0359fc83c86level0_row1\" class=\"row_heading level0 row1\" >1</th>\n",
       "                        <td id=\"T_957bc6b4_a921_11eb_bf16_b0359fc83c86row1_col0\" class=\"data row1 col0\" >32965.4216</td>\n",
       "                        <td id=\"T_957bc6b4_a921_11eb_bf16_b0359fc83c86row1_col1\" class=\"data row1 col1\" >2597362725.3726</td>\n",
       "                        <td id=\"T_957bc6b4_a921_11eb_bf16_b0359fc83c86row1_col2\" class=\"data row1 col2\" >50964.3280</td>\n",
       "                        <td id=\"T_957bc6b4_a921_11eb_bf16_b0359fc83c86row1_col3\" class=\"data row1 col3\" >0.5865</td>\n",
       "                        <td id=\"T_957bc6b4_a921_11eb_bf16_b0359fc83c86row1_col4\" class=\"data row1 col4\" >0.2509</td>\n",
       "                        <td id=\"T_957bc6b4_a921_11eb_bf16_b0359fc83c86row1_col5\" class=\"data row1 col5\" >0.1958</td>\n",
       "            </tr>\n",
       "            <tr>\n",
       "                        <th id=\"T_957bc6b4_a921_11eb_bf16_b0359fc83c86level0_row2\" class=\"row_heading level0 row2\" >2</th>\n",
       "                        <td id=\"T_957bc6b4_a921_11eb_bf16_b0359fc83c86row2_col0\" class=\"data row2 col0\" >30374.2818</td>\n",
       "                        <td id=\"T_957bc6b4_a921_11eb_bf16_b0359fc83c86row2_col1\" class=\"data row2 col1\" >2057337199.7665</td>\n",
       "                        <td id=\"T_957bc6b4_a921_11eb_bf16_b0359fc83c86row2_col2\" class=\"data row2 col2\" >45357.8791</td>\n",
       "                        <td id=\"T_957bc6b4_a921_11eb_bf16_b0359fc83c86row2_col3\" class=\"data row2 col3\" >0.6862</td>\n",
       "                        <td id=\"T_957bc6b4_a921_11eb_bf16_b0359fc83c86row2_col4\" class=\"data row2 col4\" >0.2119</td>\n",
       "                        <td id=\"T_957bc6b4_a921_11eb_bf16_b0359fc83c86row2_col5\" class=\"data row2 col5\" >0.1512</td>\n",
       "            </tr>\n",
       "            <tr>\n",
       "                        <th id=\"T_957bc6b4_a921_11eb_bf16_b0359fc83c86level0_row3\" class=\"row_heading level0 row3\" >3</th>\n",
       "                        <td id=\"T_957bc6b4_a921_11eb_bf16_b0359fc83c86row3_col0\" class=\"data row3 col0\" >28350.2213</td>\n",
       "                        <td id=\"T_957bc6b4_a921_11eb_bf16_b0359fc83c86row3_col1\" class=\"data row3 col1\" >1656986086.1066</td>\n",
       "                        <td id=\"T_957bc6b4_a921_11eb_bf16_b0359fc83c86row3_col2\" class=\"data row3 col2\" >40706.0940</td>\n",
       "                        <td id=\"T_957bc6b4_a921_11eb_bf16_b0359fc83c86row3_col3\" class=\"data row3 col3\" >0.7206</td>\n",
       "                        <td id=\"T_957bc6b4_a921_11eb_bf16_b0359fc83c86row3_col4\" class=\"data row3 col4\" >0.2078</td>\n",
       "                        <td id=\"T_957bc6b4_a921_11eb_bf16_b0359fc83c86row3_col5\" class=\"data row3 col5\" >0.1638</td>\n",
       "            </tr>\n",
       "            <tr>\n",
       "                        <th id=\"T_957bc6b4_a921_11eb_bf16_b0359fc83c86level0_row4\" class=\"row_heading level0 row4\" >4</th>\n",
       "                        <td id=\"T_957bc6b4_a921_11eb_bf16_b0359fc83c86row4_col0\" class=\"data row4 col0\" >36596.5461</td>\n",
       "                        <td id=\"T_957bc6b4_a921_11eb_bf16_b0359fc83c86row4_col1\" class=\"data row4 col1\" >3689065659.1878</td>\n",
       "                        <td id=\"T_957bc6b4_a921_11eb_bf16_b0359fc83c86row4_col2\" class=\"data row4 col2\" >60737.6791</td>\n",
       "                        <td id=\"T_957bc6b4_a921_11eb_bf16_b0359fc83c86row4_col3\" class=\"data row4 col3\" >0.4779</td>\n",
       "                        <td id=\"T_957bc6b4_a921_11eb_bf16_b0359fc83c86row4_col4\" class=\"data row4 col4\" >0.2620</td>\n",
       "                        <td id=\"T_957bc6b4_a921_11eb_bf16_b0359fc83c86row4_col5\" class=\"data row4 col5\" >0.1988</td>\n",
       "            </tr>\n",
       "            <tr>\n",
       "                        <th id=\"T_957bc6b4_a921_11eb_bf16_b0359fc83c86level0_row5\" class=\"row_heading level0 row5\" >5</th>\n",
       "                        <td id=\"T_957bc6b4_a921_11eb_bf16_b0359fc83c86row5_col0\" class=\"data row5 col0\" >38973.2105</td>\n",
       "                        <td id=\"T_957bc6b4_a921_11eb_bf16_b0359fc83c86row5_col1\" class=\"data row5 col1\" >3442995613.1897</td>\n",
       "                        <td id=\"T_957bc6b4_a921_11eb_bf16_b0359fc83c86row5_col2\" class=\"data row5 col2\" >58677.0450</td>\n",
       "                        <td id=\"T_957bc6b4_a921_11eb_bf16_b0359fc83c86row5_col3\" class=\"data row5 col3\" >0.5545</td>\n",
       "                        <td id=\"T_957bc6b4_a921_11eb_bf16_b0359fc83c86row5_col4\" class=\"data row5 col4\" >0.2629</td>\n",
       "                        <td id=\"T_957bc6b4_a921_11eb_bf16_b0359fc83c86row5_col5\" class=\"data row5 col5\" >0.2061</td>\n",
       "            </tr>\n",
       "            <tr>\n",
       "                        <th id=\"T_957bc6b4_a921_11eb_bf16_b0359fc83c86level0_row6\" class=\"row_heading level0 row6\" >6</th>\n",
       "                        <td id=\"T_957bc6b4_a921_11eb_bf16_b0359fc83c86row6_col0\" class=\"data row6 col0\" >32036.9082</td>\n",
       "                        <td id=\"T_957bc6b4_a921_11eb_bf16_b0359fc83c86row6_col1\" class=\"data row6 col1\" >3046503121.7574</td>\n",
       "                        <td id=\"T_957bc6b4_a921_11eb_bf16_b0359fc83c86row6_col2\" class=\"data row6 col2\" >55195.1368</td>\n",
       "                        <td id=\"T_957bc6b4_a921_11eb_bf16_b0359fc83c86row6_col3\" class=\"data row6 col3\" >0.6521</td>\n",
       "                        <td id=\"T_957bc6b4_a921_11eb_bf16_b0359fc83c86row6_col4\" class=\"data row6 col4\" >0.2044</td>\n",
       "                        <td id=\"T_957bc6b4_a921_11eb_bf16_b0359fc83c86row6_col5\" class=\"data row6 col5\" >0.1603</td>\n",
       "            </tr>\n",
       "            <tr>\n",
       "                        <th id=\"T_957bc6b4_a921_11eb_bf16_b0359fc83c86level0_row7\" class=\"row_heading level0 row7\" >7</th>\n",
       "                        <td id=\"T_957bc6b4_a921_11eb_bf16_b0359fc83c86row7_col0\" class=\"data row7 col0\" >37970.2218</td>\n",
       "                        <td id=\"T_957bc6b4_a921_11eb_bf16_b0359fc83c86row7_col1\" class=\"data row7 col1\" >2808882727.2243</td>\n",
       "                        <td id=\"T_957bc6b4_a921_11eb_bf16_b0359fc83c86row7_col2\" class=\"data row7 col2\" >52998.8936</td>\n",
       "                        <td id=\"T_957bc6b4_a921_11eb_bf16_b0359fc83c86row7_col3\" class=\"data row7 col3\" >0.5295</td>\n",
       "                        <td id=\"T_957bc6b4_a921_11eb_bf16_b0359fc83c86row7_col4\" class=\"data row7 col4\" >0.3015</td>\n",
       "                        <td id=\"T_957bc6b4_a921_11eb_bf16_b0359fc83c86row7_col5\" class=\"data row7 col5\" >0.2624</td>\n",
       "            </tr>\n",
       "            <tr>\n",
       "                        <th id=\"T_957bc6b4_a921_11eb_bf16_b0359fc83c86level0_row8\" class=\"row_heading level0 row8\" >8</th>\n",
       "                        <td id=\"T_957bc6b4_a921_11eb_bf16_b0359fc83c86row8_col0\" class=\"data row8 col0\" >31238.8441</td>\n",
       "                        <td id=\"T_957bc6b4_a921_11eb_bf16_b0359fc83c86row8_col1\" class=\"data row8 col1\" >1600341296.6347</td>\n",
       "                        <td id=\"T_957bc6b4_a921_11eb_bf16_b0359fc83c86row8_col2\" class=\"data row8 col2\" >40004.2660</td>\n",
       "                        <td id=\"T_957bc6b4_a921_11eb_bf16_b0359fc83c86row8_col3\" class=\"data row8 col3\" >0.7149</td>\n",
       "                        <td id=\"T_957bc6b4_a921_11eb_bf16_b0359fc83c86row8_col4\" class=\"data row8 col4\" >0.2422</td>\n",
       "                        <td id=\"T_957bc6b4_a921_11eb_bf16_b0359fc83c86row8_col5\" class=\"data row8 col5\" >0.2000</td>\n",
       "            </tr>\n",
       "            <tr>\n",
       "                        <th id=\"T_957bc6b4_a921_11eb_bf16_b0359fc83c86level0_row9\" class=\"row_heading level0 row9\" >9</th>\n",
       "                        <td id=\"T_957bc6b4_a921_11eb_bf16_b0359fc83c86row9_col0\" class=\"data row9 col0\" >32986.6757</td>\n",
       "                        <td id=\"T_957bc6b4_a921_11eb_bf16_b0359fc83c86row9_col1\" class=\"data row9 col1\" >2595224553.0895</td>\n",
       "                        <td id=\"T_957bc6b4_a921_11eb_bf16_b0359fc83c86row9_col2\" class=\"data row9 col2\" >50943.3465</td>\n",
       "                        <td id=\"T_957bc6b4_a921_11eb_bf16_b0359fc83c86row9_col3\" class=\"data row9 col3\" >0.5204</td>\n",
       "                        <td id=\"T_957bc6b4_a921_11eb_bf16_b0359fc83c86row9_col4\" class=\"data row9 col4\" >0.2703</td>\n",
       "                        <td id=\"T_957bc6b4_a921_11eb_bf16_b0359fc83c86row9_col5\" class=\"data row9 col5\" >0.2107</td>\n",
       "            </tr>\n",
       "            <tr>\n",
       "                        <th id=\"T_957bc6b4_a921_11eb_bf16_b0359fc83c86level0_row10\" class=\"row_heading level0 row10\" >Mean</th>\n",
       "                        <td id=\"T_957bc6b4_a921_11eb_bf16_b0359fc83c86row10_col0\" class=\"data row10 col0\" >32903.8649</td>\n",
       "                        <td id=\"T_957bc6b4_a921_11eb_bf16_b0359fc83c86row10_col1\" class=\"data row10 col1\" >2523600298.5038</td>\n",
       "                        <td id=\"T_957bc6b4_a921_11eb_bf16_b0359fc83c86row10_col2\" class=\"data row10 col2\" >49731.3603</td>\n",
       "                        <td id=\"T_957bc6b4_a921_11eb_bf16_b0359fc83c86row10_col3\" class=\"data row10 col3\" >0.6140</td>\n",
       "                        <td id=\"T_957bc6b4_a921_11eb_bf16_b0359fc83c86row10_col4\" class=\"data row10 col4\" >0.2430</td>\n",
       "                        <td id=\"T_957bc6b4_a921_11eb_bf16_b0359fc83c86row10_col5\" class=\"data row10 col5\" >0.1913</td>\n",
       "            </tr>\n",
       "            <tr>\n",
       "                        <th id=\"T_957bc6b4_a921_11eb_bf16_b0359fc83c86level0_row11\" class=\"row_heading level0 row11\" >SD</th>\n",
       "                        <td id=\"T_957bc6b4_a921_11eb_bf16_b0359fc83c86row11_col0\" class=\"data row11 col0\" >3681.2111</td>\n",
       "                        <td id=\"T_957bc6b4_a921_11eb_bf16_b0359fc83c86row11_col1\" class=\"data row11 col1\" >707233890.3861</td>\n",
       "                        <td id=\"T_957bc6b4_a921_11eb_bf16_b0359fc83c86row11_col2\" class=\"data row11 col2\" >7098.7395</td>\n",
       "                        <td id=\"T_957bc6b4_a921_11eb_bf16_b0359fc83c86row11_col3\" class=\"data row11 col3\" >0.0859</td>\n",
       "                        <td id=\"T_957bc6b4_a921_11eb_bf16_b0359fc83c86row11_col4\" class=\"data row11 col4\" >0.0307</td>\n",
       "                        <td id=\"T_957bc6b4_a921_11eb_bf16_b0359fc83c86row11_col5\" class=\"data row11 col5\" >0.0315</td>\n",
       "            </tr>\n",
       "    </tbody></table>"
      ],
      "text/plain": [
       "<pandas.io.formats.style.Styler at 0x1a5f58a71c0>"
      ]
     },
     "metadata": {},
     "output_type": "display_data"
    }
   ],
   "source": [
    "from pycaret.regression import tune_model\n",
    "\n",
    "tuned_knn = tune_model(knn, optimize='MAE')"
   ]
  },
  {
   "cell_type": "code",
   "execution_count": 99,
   "id": "becoming-smell",
   "metadata": {},
   "outputs": [
    {
     "data": {
      "text/plain": [
       "KNeighborsRegressor(algorithm='auto', leaf_size=30, metric='manhattan',\n",
       "                    metric_params=None, n_jobs=None, n_neighbors=3, p=2,\n",
       "                    weights='distance')"
      ]
     },
     "execution_count": 99,
     "metadata": {},
     "output_type": "execute_result"
    }
   ],
   "source": [
    "tuned_knn"
   ]
  }
 ],
 "metadata": {
  "kernelspec": {
   "display_name": "Python 3",
   "language": "python",
   "name": "python3"
  },
  "language_info": {
   "codemirror_mode": {
    "name": "ipython",
    "version": 3
   },
   "file_extension": ".py",
   "mimetype": "text/x-python",
   "name": "python",
   "nbconvert_exporter": "python",
   "pygments_lexer": "ipython3",
   "version": "3.8.5"
  }
 },
 "nbformat": 4,
 "nbformat_minor": 5
}

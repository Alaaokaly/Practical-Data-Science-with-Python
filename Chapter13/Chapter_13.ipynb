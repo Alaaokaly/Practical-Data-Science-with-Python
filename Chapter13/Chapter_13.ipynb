{
 "cells": [
  {
   "cell_type": "markdown",
   "id": "internal-halifax",
   "metadata": {},
   "source": [
    "# Regression"
   ]
  },
  {
   "cell_type": "markdown",
   "id": "silent-builder",
   "metadata": {},
   "source": [
    "Load data."
   ]
  },
  {
   "cell_type": "code",
   "execution_count": 1,
   "id": "single-hacker",
   "metadata": {},
   "outputs": [
    {
     "data": {
      "text/html": [
       "<div>\n",
       "<style scoped>\n",
       "    .dataframe tbody tr th:only-of-type {\n",
       "        vertical-align: middle;\n",
       "    }\n",
       "\n",
       "    .dataframe tbody tr th {\n",
       "        vertical-align: top;\n",
       "    }\n",
       "\n",
       "    .dataframe thead th {\n",
       "        text-align: right;\n",
       "    }\n",
       "</style>\n",
       "<table border=\"1\" class=\"dataframe\">\n",
       "  <thead>\n",
       "    <tr style=\"text-align: right;\">\n",
       "      <th></th>\n",
       "      <th>LotArea</th>\n",
       "      <th>YearBuilt</th>\n",
       "      <th>FullBath</th>\n",
       "      <th>TotRmsAbvGrd</th>\n",
       "      <th>GarageArea</th>\n",
       "      <th>1stFlrSF</th>\n",
       "      <th>2ndFlrSF</th>\n",
       "      <th>SalePrice</th>\n",
       "    </tr>\n",
       "    <tr>\n",
       "      <th>Id</th>\n",
       "      <th></th>\n",
       "      <th></th>\n",
       "      <th></th>\n",
       "      <th></th>\n",
       "      <th></th>\n",
       "      <th></th>\n",
       "      <th></th>\n",
       "      <th></th>\n",
       "    </tr>\n",
       "  </thead>\n",
       "  <tbody>\n",
       "    <tr>\n",
       "      <th>1</th>\n",
       "      <td>8450</td>\n",
       "      <td>2003</td>\n",
       "      <td>2</td>\n",
       "      <td>8</td>\n",
       "      <td>548</td>\n",
       "      <td>856</td>\n",
       "      <td>854</td>\n",
       "      <td>208500</td>\n",
       "    </tr>\n",
       "    <tr>\n",
       "      <th>2</th>\n",
       "      <td>9600</td>\n",
       "      <td>1976</td>\n",
       "      <td>2</td>\n",
       "      <td>6</td>\n",
       "      <td>460</td>\n",
       "      <td>1262</td>\n",
       "      <td>0</td>\n",
       "      <td>181500</td>\n",
       "    </tr>\n",
       "    <tr>\n",
       "      <th>3</th>\n",
       "      <td>11250</td>\n",
       "      <td>2001</td>\n",
       "      <td>2</td>\n",
       "      <td>6</td>\n",
       "      <td>608</td>\n",
       "      <td>920</td>\n",
       "      <td>866</td>\n",
       "      <td>223500</td>\n",
       "    </tr>\n",
       "    <tr>\n",
       "      <th>4</th>\n",
       "      <td>9550</td>\n",
       "      <td>1915</td>\n",
       "      <td>1</td>\n",
       "      <td>7</td>\n",
       "      <td>642</td>\n",
       "      <td>961</td>\n",
       "      <td>756</td>\n",
       "      <td>140000</td>\n",
       "    </tr>\n",
       "    <tr>\n",
       "      <th>5</th>\n",
       "      <td>14260</td>\n",
       "      <td>2000</td>\n",
       "      <td>2</td>\n",
       "      <td>9</td>\n",
       "      <td>836</td>\n",
       "      <td>1145</td>\n",
       "      <td>1053</td>\n",
       "      <td>250000</td>\n",
       "    </tr>\n",
       "  </tbody>\n",
       "</table>\n",
       "</div>"
      ],
      "text/plain": [
       "    LotArea  YearBuilt  FullBath  TotRmsAbvGrd  GarageArea  1stFlrSF  \\\n",
       "Id                                                                     \n",
       "1      8450       2003         2             8         548       856   \n",
       "2      9600       1976         2             6         460      1262   \n",
       "3     11250       2001         2             6         608       920   \n",
       "4      9550       1915         1             7         642       961   \n",
       "5     14260       2000         2             9         836      1145   \n",
       "\n",
       "    2ndFlrSF  SalePrice  \n",
       "Id                       \n",
       "1        854     208500  \n",
       "2          0     181500  \n",
       "3        866     223500  \n",
       "4        756     140000  \n",
       "5       1053     250000  "
      ]
     },
     "execution_count": 1,
     "metadata": {},
     "output_type": "execute_result"
    }
   ],
   "source": [
    "import pandas as pd\n",
    "\n",
    "df = pd.read_csv('data/housing_data_sample.csv', index_col='Id')\n",
    "df.head()"
   ]
  },
  {
   "cell_type": "code",
   "execution_count": 2,
   "id": "rising-breathing",
   "metadata": {},
   "outputs": [
    {
     "data": {
      "text/plain": [
       "LotArea         0.263843\n",
       "YearBuilt       0.522897\n",
       "FullBath        0.560664\n",
       "TotRmsAbvGrd    0.533723\n",
       "GarageArea      0.623431\n",
       "1stFlrSF        0.605852\n",
       "2ndFlrSF        0.319334\n",
       "SalePrice       1.000000\n",
       "Name: SalePrice, dtype: float64"
      ]
     },
     "execution_count": 2,
     "metadata": {},
     "output_type": "execute_result"
    }
   ],
   "source": [
    "df.corr()['SalePrice']"
   ]
  },
  {
   "cell_type": "markdown",
   "id": "different-monroe",
   "metadata": {},
   "source": [
    "## sklearn linear regression"
   ]
  },
  {
   "cell_type": "code",
   "execution_count": 3,
   "id": "informed-baseball",
   "metadata": {},
   "outputs": [],
   "source": [
    "from sklearn.model_selection import train_test_split\n",
    "\n",
    "x_train, x_test, y_train, y_test = train_test_split(df.drop('SalePrice', axis=1), df['SalePrice'], random_state=42)"
   ]
  },
  {
   "cell_type": "code",
   "execution_count": 4,
   "id": "breathing-grocery",
   "metadata": {},
   "outputs": [
    {
     "name": "stdout",
     "output_type": "stream",
     "text": [
      "0.6922037863468925\n",
      "0.7335111149578271\n"
     ]
    }
   ],
   "source": [
    "from sklearn.linear_model import LinearRegression\n",
    "\n",
    "lr = LinearRegression()\n",
    "lr.fit(x_train, y_train)\n",
    "print(lr.score(x_train, y_train))\n",
    "print(lr.score(x_test, y_test))"
   ]
  },
  {
   "cell_type": "code",
   "execution_count": 5,
   "id": "competitive-profile",
   "metadata": {},
   "outputs": [
    {
     "data": {
      "text/plain": [
       "array([ 4.69748692e-01,  8.27939635e+02, -3.57322963e+03, -2.59678130e+01,\n",
       "        6.46264545e+01,  9.74383176e+01,  7.18384417e+01])"
      ]
     },
     "execution_count": 5,
     "metadata": {},
     "output_type": "execute_result"
    }
   ],
   "source": [
    "lr.coef_"
   ]
  },
  {
   "cell_type": "code",
   "execution_count": 6,
   "id": "looking-nelson",
   "metadata": {},
   "outputs": [
    {
     "data": {
      "text/plain": [
       "-1619889.011053286"
      ]
     },
     "execution_count": 6,
     "metadata": {},
     "output_type": "execute_result"
    }
   ],
   "source": [
    "lr.intercept_"
   ]
  },
  {
   "cell_type": "code",
   "execution_count": 7,
   "id": "medical-biology",
   "metadata": {},
   "outputs": [
    {
     "data": {
      "image/png": "[encoded data removed]",
      "text/plain": [
       "<Figure size 396x396 with 1 Axes>"
      ]
     },
     "metadata": {
      "needs_background": "light"
     },
     "output_type": "display_data"
    }
   ],
   "source": [
    "import matplotlib.pyplot as plt\n",
    "import seaborn as sns\n",
    "\n",
    "f = plt.figure(figsize=(5.5, 5.5))\n",
    "sns.barplot(x=lr.coef_, y=x_train.columns, color='darkblue')\n",
    "plt.tight_layout()"
   ]
  },
  {
   "cell_type": "markdown",
   "id": "adjacent-married",
   "metadata": {},
   "source": [
    "Some more EDA on the data shows we would expect the coefficients to be positive."
   ]
  },
  {
   "cell_type": "code",
   "execution_count": 8,
   "id": "3d8f62b6",
   "metadata": {},
   "outputs": [
    {
     "data": {
      "text/plain": [
       "<AxesSubplot:xlabel='LotArea', ylabel='SalePrice'>"
      ]
     },
     "execution_count": 8,
     "metadata": {},
     "output_type": "execute_result"
    },
    {
     "data": {
      "image/png": "[encoded data removed]",
      "text/plain": [
       "<Figure size 432x288 with 1 Axes>"
      ]
     },
     "metadata": {
      "needs_background": "light"
     },
     "output_type": "display_data"
    }
   ],
   "source": [
    "sns.scatterplot(x=df['LotArea'], y=df['SalePrice'])"
   ]
  },
  {
   "cell_type": "code",
   "execution_count": 9,
   "id": "offensive-automation",
   "metadata": {},
   "outputs": [
    {
     "data": {
      "text/plain": [
       "<AxesSubplot:xlabel='FullBath', ylabel='SalePrice'>"
      ]
     },
     "execution_count": 9,
     "metadata": {},
     "output_type": "execute_result"
    },
    {
     "data": {
      "image/png": "[encoded data removed]",
      "text/plain": [
       "<Figure size 432x288 with 1 Axes>"
      ]
     },
     "metadata": {
      "needs_background": "light"
     },
     "output_type": "display_data"
    }
   ],
   "source": [
    "sns.scatterplot(x=df['FullBath'], y=df['SalePrice'])"
   ]
  },
  {
   "cell_type": "code",
   "execution_count": 10,
   "id": "coral-tracker",
   "metadata": {
    "scrolled": true
   },
   "outputs": [
    {
     "data": {
      "text/html": [
       "<div>\n",
       "<style scoped>\n",
       "    .dataframe tbody tr th:only-of-type {\n",
       "        vertical-align: middle;\n",
       "    }\n",
       "\n",
       "    .dataframe tbody tr th {\n",
       "        vertical-align: top;\n",
       "    }\n",
       "\n",
       "    .dataframe thead th {\n",
       "        text-align: right;\n",
       "    }\n",
       "</style>\n",
       "<table border=\"1\" class=\"dataframe\">\n",
       "  <thead>\n",
       "    <tr style=\"text-align: right;\">\n",
       "      <th></th>\n",
       "      <th>LotArea</th>\n",
       "      <th>YearBuilt</th>\n",
       "      <th>TotRmsAbvGrd</th>\n",
       "      <th>GarageArea</th>\n",
       "      <th>1stFlrSF</th>\n",
       "      <th>2ndFlrSF</th>\n",
       "      <th>SalePrice</th>\n",
       "    </tr>\n",
       "    <tr>\n",
       "      <th>FullBath</th>\n",
       "      <th></th>\n",
       "      <th></th>\n",
       "      <th></th>\n",
       "      <th></th>\n",
       "      <th></th>\n",
       "      <th></th>\n",
       "      <th></th>\n",
       "    </tr>\n",
       "  </thead>\n",
       "  <tbody>\n",
       "    <tr>\n",
       "      <th>0</th>\n",
       "      <td>14883.444444</td>\n",
       "      <td>1970.000000</td>\n",
       "      <td>4.777778</td>\n",
       "      <td>478.222222</td>\n",
       "      <td>1162.000000</td>\n",
       "      <td>21.333333</td>\n",
       "      <td>165200.888889</td>\n",
       "    </tr>\n",
       "    <tr>\n",
       "      <th>1</th>\n",
       "      <td>9187.786154</td>\n",
       "      <td>1954.215385</td>\n",
       "      <td>5.609231</td>\n",
       "      <td>375.616923</td>\n",
       "      <td>1003.972308</td>\n",
       "      <td>169.495385</td>\n",
       "      <td>134751.440000</td>\n",
       "    </tr>\n",
       "    <tr>\n",
       "      <th>2</th>\n",
       "      <td>11296.433594</td>\n",
       "      <td>1985.375000</td>\n",
       "      <td>7.173177</td>\n",
       "      <td>546.830729</td>\n",
       "      <td>1277.197917</td>\n",
       "      <td>466.377604</td>\n",
       "      <td>213009.825521</td>\n",
       "    </tr>\n",
       "    <tr>\n",
       "      <th>3</th>\n",
       "      <td>17360.484848</td>\n",
       "      <td>1979.181818</td>\n",
       "      <td>9.636364</td>\n",
       "      <td>670.606061</td>\n",
       "      <td>1621.424242</td>\n",
       "      <td>1153.545455</td>\n",
       "      <td>347822.909091</td>\n",
       "    </tr>\n",
       "  </tbody>\n",
       "</table>\n",
       "</div>"
      ],
      "text/plain": [
       "               LotArea    YearBuilt  TotRmsAbvGrd  GarageArea     1stFlrSF  \\\n",
       "FullBath                                                                     \n",
       "0         14883.444444  1970.000000      4.777778  478.222222  1162.000000   \n",
       "1          9187.786154  1954.215385      5.609231  375.616923  1003.972308   \n",
       "2         11296.433594  1985.375000      7.173177  546.830729  1277.197917   \n",
       "3         17360.484848  1979.181818      9.636364  670.606061  1621.424242   \n",
       "\n",
       "             2ndFlrSF      SalePrice  \n",
       "FullBath                              \n",
       "0           21.333333  165200.888889  \n",
       "1          169.495385  134751.440000  \n",
       "2          466.377604  213009.825521  \n",
       "3         1153.545455  347822.909091  "
      ]
     },
     "execution_count": 10,
     "metadata": {},
     "output_type": "execute_result"
    }
   ],
   "source": [
    "df.groupby('FullBath').mean()"
   ]
  },
  {
   "cell_type": "markdown",
   "id": "sufficient-temperature",
   "metadata": {},
   "source": [
    "If we try a linear regression model with only the FullBath column, we see it is a positive coefficient:"
   ]
  },
  {
   "cell_type": "code",
   "execution_count": 11,
   "id": "living-young",
   "metadata": {},
   "outputs": [
    {
     "data": {
      "text/plain": [
       "LinearRegression()"
      ]
     },
     "execution_count": 11,
     "metadata": {},
     "output_type": "execute_result"
    }
   ],
   "source": [
    "lr.fit(df[['FullBath']], df['SalePrice'])"
   ]
  },
  {
   "cell_type": "code",
   "execution_count": 12,
   "id": "associate-feedback",
   "metadata": {},
   "outputs": [
    {
     "data": {
      "text/plain": [
       "array([80848.16678654])"
      ]
     },
     "execution_count": 12,
     "metadata": {},
     "output_type": "execute_result"
    }
   ],
   "source": [
    "lr.coef_"
   ]
  },
  {
   "cell_type": "markdown",
   "id": "outdoor-climb",
   "metadata": {},
   "source": [
    "## Linear regression with statsmodels"
   ]
  },
  {
   "cell_type": "code",
   "execution_count": 13,
   "id": "precise-clinton",
   "metadata": {},
   "outputs": [
    {
     "data": {
      "text/html": [
       "<table class=\"simpletable\">\n",
       "<caption>OLS Regression Results</caption>\n",
       "<tr>\n",
       "  <th>Dep. Variable:</th>        <td>SalePrice</td>    <th>  R-squared:         </th> <td>   0.692</td> \n",
       "</tr>\n",
       "<tr>\n",
       "  <th>Model:</th>                   <td>OLS</td>       <th>  Adj. R-squared:    </th> <td>   0.690</td> \n",
       "</tr>\n",
       "<tr>\n",
       "  <th>Method:</th>             <td>Least Squares</td>  <th>  F-statistic:       </th> <td>   349.2</td> \n",
       "</tr>\n",
       "<tr>\n",
       "  <th>Date:</th>             <td>Sat, 21 Aug 2021</td> <th>  Prob (F-statistic):</th> <td>6.20e-273</td>\n",
       "</tr>\n",
       "<tr>\n",
       "  <th>Time:</th>                 <td>08:14:22</td>     <th>  Log-Likelihood:    </th> <td> -13242.</td> \n",
       "</tr>\n",
       "<tr>\n",
       "  <th>No. Observations:</th>      <td>  1095</td>      <th>  AIC:               </th> <td>2.650e+04</td>\n",
       "</tr>\n",
       "<tr>\n",
       "  <th>Df Residuals:</th>          <td>  1087</td>      <th>  BIC:               </th> <td>2.654e+04</td>\n",
       "</tr>\n",
       "<tr>\n",
       "  <th>Df Model:</th>              <td>     7</td>      <th>                     </th>     <td> </td>    \n",
       "</tr>\n",
       "<tr>\n",
       "  <th>Covariance Type:</th>      <td>nonrobust</td>    <th>                     </th>     <td> </td>    \n",
       "</tr>\n",
       "</table>\n",
       "<table class=\"simpletable\">\n",
       "<tr>\n",
       "        <td></td>          <th>coef</th>     <th>std err</th>      <th>t</th>      <th>P>|t|</th>  <th>[0.025</th>    <th>0.975]</th>  \n",
       "</tr>\n",
       "<tr>\n",
       "  <th>const</th>        <td> -1.62e+06</td> <td> 1.07e+05</td> <td>  -15.165</td> <td> 0.000</td> <td>-1.83e+06</td> <td>-1.41e+06</td>\n",
       "</tr>\n",
       "<tr>\n",
       "  <th>LotArea</th>      <td>    0.4697</td> <td>    0.126</td> <td>    3.729</td> <td> 0.000</td> <td>    0.223</td> <td>    0.717</td>\n",
       "</tr>\n",
       "<tr>\n",
       "  <th>YearBuilt</th>    <td>  827.9396</td> <td>   55.108</td> <td>   15.024</td> <td> 0.000</td> <td>  719.810</td> <td>  936.069</td>\n",
       "</tr>\n",
       "<tr>\n",
       "  <th>FullBath</th>     <td>-3573.2296</td> <td> 3523.070</td> <td>   -1.014</td> <td> 0.311</td> <td>-1.05e+04</td> <td> 3339.558</td>\n",
       "</tr>\n",
       "<tr>\n",
       "  <th>TotRmsAbvGrd</th> <td>  -25.9678</td> <td> 1451.611</td> <td>   -0.018</td> <td> 0.986</td> <td>-2874.245</td> <td> 2822.309</td>\n",
       "</tr>\n",
       "<tr>\n",
       "  <th>GarageArea</th>   <td>   64.6265</td> <td>    8.145</td> <td>    7.934</td> <td> 0.000</td> <td>   48.645</td> <td>   80.608</td>\n",
       "</tr>\n",
       "<tr>\n",
       "  <th>1stFlrSF</th>     <td>   97.4383</td> <td>    5.722</td> <td>   17.029</td> <td> 0.000</td> <td>   86.211</td> <td>  108.665</td>\n",
       "</tr>\n",
       "<tr>\n",
       "  <th>2ndFlrSF</th>     <td>   71.8384</td> <td>    5.337</td> <td>   13.461</td> <td> 0.000</td> <td>   61.367</td> <td>   82.310</td>\n",
       "</tr>\n",
       "</table>\n",
       "<table class=\"simpletable\">\n",
       "<tr>\n",
       "  <th>Omnibus:</th>       <td>425.967</td> <th>  Durbin-Watson:     </th> <td>   1.981</td> \n",
       "</tr>\n",
       "<tr>\n",
       "  <th>Prob(Omnibus):</th> <td> 0.000</td>  <th>  Jarque-Bera (JB):  </th> <td>33633.259</td>\n",
       "</tr>\n",
       "<tr>\n",
       "  <th>Skew:</th>          <td>-0.872</td>  <th>  Prob(JB):          </th> <td>    0.00</td> \n",
       "</tr>\n",
       "<tr>\n",
       "  <th>Kurtosis:</th>      <td>30.095</td>  <th>  Cond. No.          </th> <td>1.26e+06</td> \n",
       "</tr>\n",
       "</table><br/><br/>Notes:<br/>[1] Standard Errors assume that the covariance matrix of the errors is correctly specified.<br/>[2] The condition number is large, 1.26e+06. This might indicate that there are<br/>strong multicollinearity or other numerical problems."
      ],
      "text/plain": [
       "<class 'statsmodels.iolib.summary.Summary'>\n",
       "\"\"\"\n",
       "                            OLS Regression Results                            \n",
       "==============================================================================\n",
       "Dep. Variable:              SalePrice   R-squared:                       0.692\n",
       "Model:                            OLS   Adj. R-squared:                  0.690\n",
       "Method:                 Least Squares   F-statistic:                     349.2\n",
       "Date:                Sat, 21 Aug 2021   Prob (F-statistic):          6.20e-273\n",
       "Time:                        08:14:22   Log-Likelihood:                -13242.\n",
       "No. Observations:                1095   AIC:                         2.650e+04\n",
       "Df Residuals:                    1087   BIC:                         2.654e+04\n",
       "Df Model:                           7                                         \n",
       "Covariance Type:            nonrobust                                         \n",
       "================================================================================\n",
       "                   coef    std err          t      P>|t|      [0.025      0.975]\n",
       "--------------------------------------------------------------------------------\n",
       "const         -1.62e+06   1.07e+05    -15.165      0.000   -1.83e+06   -1.41e+06\n",
       "LotArea          0.4697      0.126      3.729      0.000       0.223       0.717\n",
       "YearBuilt      827.9396     55.108     15.024      0.000     719.810     936.069\n",
       "FullBath     -3573.2296   3523.070     -1.014      0.311   -1.05e+04    3339.558\n",
       "TotRmsAbvGrd   -25.9678   1451.611     -0.018      0.986   -2874.245    2822.309\n",
       "GarageArea      64.6265      8.145      7.934      0.000      48.645      80.608\n",
       "1stFlrSF        97.4383      5.722     17.029      0.000      86.211     108.665\n",
       "2ndFlrSF        71.8384      5.337     13.461      0.000      61.367      82.310\n",
       "==============================================================================\n",
       "Omnibus:                      425.967   Durbin-Watson:                   1.981\n",
       "Prob(Omnibus):                  0.000   Jarque-Bera (JB):            33633.259\n",
       "Skew:                          -0.872   Prob(JB):                         0.00\n",
       "Kurtosis:                      30.095   Cond. No.                     1.26e+06\n",
       "==============================================================================\n",
       "\n",
       "Notes:\n",
       "[1] Standard Errors assume that the covariance matrix of the errors is correctly specified.\n",
       "[2] The condition number is large, 1.26e+06. This might indicate that there are\n",
       "strong multicollinearity or other numerical problems.\n",
       "\"\"\""
      ]
     },
     "execution_count": 13,
     "metadata": {},
     "output_type": "execute_result"
    }
   ],
   "source": [
    "import statsmodels.api as sm\n",
    "\n",
    "sm_lr = sm.OLS(y_train, sm.add_constant(x_train))\n",
    "res = sm_lr.fit()\n",
    "res.summary()"
   ]
  },
  {
   "cell_type": "markdown",
   "id": "deluxe-rebel",
   "metadata": {},
   "source": [
    "## Regularized linear regression"
   ]
  },
  {
   "cell_type": "code",
   "execution_count": 14,
   "id": "operational-cycling",
   "metadata": {},
   "outputs": [
    {
     "data": {
      "text/plain": [
       "LassoCV()"
      ]
     },
     "execution_count": 14,
     "metadata": {},
     "output_type": "execute_result"
    }
   ],
   "source": [
    "from sklearn.linear_model import LassoCV\n",
    "\n",
    "l1_lr = LassoCV()\n",
    "l1_lr.fit(x_train, y_train)"
   ]
  },
  {
   "cell_type": "code",
   "execution_count": 15,
   "id": "innovative-campbell",
   "metadata": {},
   "outputs": [
    {
     "data": {
      "text/plain": [
       "228888.65931632475"
      ]
     },
     "execution_count": 15,
     "metadata": {},
     "output_type": "execute_result"
    }
   ],
   "source": [
    "l1_lr.alpha_"
   ]
  },
  {
   "cell_type": "code",
   "execution_count": 16,
   "id": "resistant-mathematics",
   "metadata": {},
   "outputs": [
    {
     "data": {
      "text/plain": [
       "array([4.27009150e-01, 5.07702347e+02, 0.00000000e+00, 0.00000000e+00,\n",
       "       8.02080376e+01, 9.60455704e+01, 6.70594638e+01])"
      ]
     },
     "execution_count": 16,
     "metadata": {},
     "output_type": "execute_result"
    }
   ],
   "source": [
    "l1_lr.coef_"
   ]
  },
  {
   "cell_type": "code",
   "execution_count": 17,
   "id": "lovely-luxury",
   "metadata": {},
   "outputs": [
    {
     "data": {
      "text/plain": [
       "array([ 4.69954053e-01,  8.26351818e+02, -3.35200764e+03, -4.04117423e+01,\n",
       "        6.46405511e+01,  9.73549906e+01,  7.17380056e+01])"
      ]
     },
     "execution_count": 17,
     "metadata": {},
     "output_type": "execute_result"
    }
   ],
   "source": [
    "from sklearn.linear_model import RidgeCV\n",
    "\n",
    "l2_lr = RidgeCV()\n",
    "l2_lr.fit(x_train, y_train)\n",
    "l2_lr.coef_"
   ]
  },
  {
   "cell_type": "code",
   "execution_count": 30,
   "id": "conventional-samuel",
   "metadata": {},
   "outputs": [
    {
     "data": {
      "text/plain": [
       "array([ 1.28287688,  3.46879826,  0.        ,  0.        , 27.15263788,\n",
       "       41.1722103 , 27.02242165])"
      ]
     },
     "execution_count": 30,
     "metadata": {},
     "output_type": "execute_result"
    }
   ],
   "source": [
    "from sklearn.linear_model import ElasticNetCV\n",
    "\n",
    "en_lr = ElasticNetCV()\n",
    "en_lr.fit(x_train, y_train)\n",
    "en_lr.coef_"
   ]
  },
  {
   "cell_type": "code",
   "execution_count": 31,
   "id": "fb359353",
   "metadata": {},
   "outputs": [
    {
     "data": {
      "text/plain": [
       "0.4000230813193245"
      ]
     },
     "execution_count": 31,
     "metadata": {},
     "output_type": "execute_result"
    }
   ],
   "source": [
    "en_lr.score(x_test, y_test)"
   ]
  },
  {
   "cell_type": "code",
   "execution_count": 19,
   "id": "middle-treatment",
   "metadata": {},
   "outputs": [
    {
     "data": {
      "text/plain": [
       "array([4.27009150e-01, 5.07702347e+02, 0.00000000e+00, 0.00000000e+00,\n",
       "       8.02080376e+01, 9.60455704e+01, 6.70594638e+01])"
      ]
     },
     "execution_count": 19,
     "metadata": {},
     "output_type": "execute_result"
    }
   ],
   "source": [
    "en_lr = ElasticNetCV(l1_ratio=[.1, .5, .7, .9, .95, .99, 1])\n",
    "en_lr.fit(x_train, y_train)\n",
    "en_lr.coef_"
   ]
  },
  {
   "cell_type": "code",
   "execution_count": 20,
   "id": "worthy-senator",
   "metadata": {},
   "outputs": [
    {
     "data": {
      "text/plain": [
       "228888.65931632475"
      ]
     },
     "execution_count": 20,
     "metadata": {},
     "output_type": "execute_result"
    }
   ],
   "source": [
    "en_lr.alpha_"
   ]
  },
  {
   "cell_type": "code",
   "execution_count": 21,
   "id": "south-doubt",
   "metadata": {},
   "outputs": [
    {
     "data": {
      "text/plain": [
       "0.7307830359520278"
      ]
     },
     "execution_count": 21,
     "metadata": {},
     "output_type": "execute_result"
    }
   ],
   "source": [
    "l1_lr.score(x_test, y_test)"
   ]
  },
  {
   "cell_type": "code",
   "execution_count": 22,
   "id": "classified-vienna",
   "metadata": {},
   "outputs": [
    {
     "data": {
      "text/plain": [
       "0.7335591796287048"
      ]
     },
     "execution_count": 22,
     "metadata": {},
     "output_type": "execute_result"
    }
   ],
   "source": [
    "l2_lr.score(x_test, y_test)"
   ]
  },
  {
   "cell_type": "code",
   "execution_count": 23,
   "id": "accepted-reasoning",
   "metadata": {},
   "outputs": [
    {
     "data": {
      "text/plain": [
       "0.7307830359520278"
      ]
     },
     "execution_count": 23,
     "metadata": {},
     "output_type": "execute_result"
    }
   ],
   "source": [
    "en_lr.score(x_test, y_test)"
   ]
  },
  {
   "cell_type": "code",
   "execution_count": 24,
   "id": "atomic-heather",
   "metadata": {},
   "outputs": [
    {
     "data": {
      "text/html": [
       "<table class=\"simpletable\">\n",
       "<caption>OLS Regression Results</caption>\n",
       "<tr>\n",
       "  <th>Dep. Variable:</th>        <td>SalePrice</td>    <th>  R-squared:         </th> <td>   0.614</td> \n",
       "</tr>\n",
       "<tr>\n",
       "  <th>Model:</th>                   <td>OLS</td>       <th>  Adj. R-squared:    </th> <td>   0.612</td> \n",
       "</tr>\n",
       "<tr>\n",
       "  <th>Method:</th>             <td>Least Squares</td>  <th>  F-statistic:       </th> <td>   346.1</td> \n",
       "</tr>\n",
       "<tr>\n",
       "  <th>Date:</th>             <td>Sat, 21 Aug 2021</td> <th>  Prob (F-statistic):</th> <td>4.39e-222</td>\n",
       "</tr>\n",
       "<tr>\n",
       "  <th>Time:</th>                 <td>08:14:23</td>     <th>  Log-Likelihood:    </th> <td> -13367.</td> \n",
       "</tr>\n",
       "<tr>\n",
       "  <th>No. Observations:</th>      <td>  1095</td>      <th>  AIC:               </th> <td>2.675e+04</td>\n",
       "</tr>\n",
       "<tr>\n",
       "  <th>Df Residuals:</th>          <td>  1090</td>      <th>  BIC:               </th> <td>2.678e+04</td>\n",
       "</tr>\n",
       "<tr>\n",
       "  <th>Df Model:</th>              <td>     5</td>      <th>                     </th>     <td> </td>    \n",
       "</tr>\n",
       "<tr>\n",
       "  <th>Covariance Type:</th>      <td>nonrobust</td>    <th>                     </th>     <td> </td>    \n",
       "</tr>\n",
       "</table>\n",
       "<table class=\"simpletable\">\n",
       "<tr>\n",
       "        <td></td>          <th>coef</th>     <th>std err</th>      <th>t</th>      <th>P>|t|</th>  <th>[0.025</th>    <th>0.975]</th>  \n",
       "</tr>\n",
       "<tr>\n",
       "  <th>const</th>        <td>         0</td> <td>        0</td> <td>      nan</td> <td>   nan</td> <td>        0</td> <td>        0</td>\n",
       "</tr>\n",
       "<tr>\n",
       "  <th>LotArea</th>      <td>    0.2824</td> <td>    0.140</td> <td>    2.015</td> <td> 0.044</td> <td>    0.007</td> <td>    0.557</td>\n",
       "</tr>\n",
       "<tr>\n",
       "  <th>YearBuilt</th>    <td>   -7.0154</td> <td>    2.683</td> <td>   -2.615</td> <td> 0.009</td> <td>  -12.279</td> <td>   -1.752</td>\n",
       "</tr>\n",
       "<tr>\n",
       "  <th>FullBath</th>     <td>         0</td> <td>        0</td> <td>      nan</td> <td>   nan</td> <td>        0</td> <td>        0</td>\n",
       "</tr>\n",
       "<tr>\n",
       "  <th>TotRmsAbvGrd</th> <td>         0</td> <td>        0</td> <td>      nan</td> <td>   nan</td> <td>        0</td> <td>        0</td>\n",
       "</tr>\n",
       "<tr>\n",
       "  <th>GarageArea</th>   <td>  117.8113</td> <td>    8.380</td> <td>   14.059</td> <td> 0.000</td> <td>  101.369</td> <td>  134.254</td>\n",
       "</tr>\n",
       "<tr>\n",
       "  <th>1stFlrSF</th>     <td>   97.0117</td> <td>    4.784</td> <td>   20.280</td> <td> 0.000</td> <td>   87.626</td> <td>  106.398</td>\n",
       "</tr>\n",
       "<tr>\n",
       "  <th>2ndFlrSF</th>     <td>   64.7969</td> <td>    3.580</td> <td>   18.098</td> <td> 0.000</td> <td>   57.772</td> <td>   71.822</td>\n",
       "</tr>\n",
       "</table>\n",
       "<table class=\"simpletable\">\n",
       "<tr>\n",
       "  <th>Omnibus:</th>       <td>347.240</td> <th>  Durbin-Watson:     </th> <td>   1.948</td> \n",
       "</tr>\n",
       "<tr>\n",
       "  <th>Prob(Omnibus):</th> <td> 0.000</td>  <th>  Jarque-Bera (JB):  </th> <td>14472.824</td>\n",
       "</tr>\n",
       "<tr>\n",
       "  <th>Skew:</th>          <td>-0.715</td>  <th>  Prob(JB):          </th> <td>    0.00</td> \n",
       "</tr>\n",
       "<tr>\n",
       "  <th>Kurtosis:</th>      <td>20.753</td>  <th>  Cond. No.          </th> <td>1.26e+06</td> \n",
       "</tr>\n",
       "</table><br/><br/>Notes:<br/>[1] Standard Errors assume that the covariance matrix of the errors is correctly specified.<br/>[2] The condition number is large, 1.26e+06. This might indicate that there are<br/>strong multicollinearity or other numerical problems."
      ],
      "text/plain": [
       "<class 'statsmodels.iolib.summary.Summary'>\n",
       "\"\"\"\n",
       "                            OLS Regression Results                            \n",
       "==============================================================================\n",
       "Dep. Variable:              SalePrice   R-squared:                       0.614\n",
       "Model:                            OLS   Adj. R-squared:                  0.612\n",
       "Method:                 Least Squares   F-statistic:                     346.1\n",
       "Date:                Sat, 21 Aug 2021   Prob (F-statistic):          4.39e-222\n",
       "Time:                        08:14:23   Log-Likelihood:                -13367.\n",
       "No. Observations:                1095   AIC:                         2.675e+04\n",
       "Df Residuals:                    1090   BIC:                         2.678e+04\n",
       "Df Model:                           5                                         \n",
       "Covariance Type:            nonrobust                                         \n",
       "================================================================================\n",
       "                   coef    std err          t      P>|t|      [0.025      0.975]\n",
       "--------------------------------------------------------------------------------\n",
       "const                 0          0        nan        nan           0           0\n",
       "LotArea          0.2824      0.140      2.015      0.044       0.007       0.557\n",
       "YearBuilt       -7.0154      2.683     -2.615      0.009     -12.279      -1.752\n",
       "FullBath              0          0        nan        nan           0           0\n",
       "TotRmsAbvGrd          0          0        nan        nan           0           0\n",
       "GarageArea     117.8113      8.380     14.059      0.000     101.369     134.254\n",
       "1stFlrSF        97.0117      4.784     20.280      0.000      87.626     106.398\n",
       "2ndFlrSF        64.7969      3.580     18.098      0.000      57.772      71.822\n",
       "==============================================================================\n",
       "Omnibus:                      347.240   Durbin-Watson:                   1.948\n",
       "Prob(Omnibus):                  0.000   Jarque-Bera (JB):            14472.824\n",
       "Skew:                          -0.715   Prob(JB):                         0.00\n",
       "Kurtosis:                      20.753   Cond. No.                     1.26e+06\n",
       "==============================================================================\n",
       "\n",
       "Notes:\n",
       "[1] Standard Errors assume that the covariance matrix of the errors is correctly specified.\n",
       "[2] The condition number is large, 1.26e+06. This might indicate that there are\n",
       "strong multicollinearity or other numerical problems.\n",
       "\"\"\""
      ]
     },
     "execution_count": 24,
     "metadata": {},
     "output_type": "execute_result"
    }
   ],
   "source": [
    "res = sm_lr.fit_regularized(alpha=228888.65931632475, refit=True)\n",
    "res.summary()"
   ]
  },
  {
   "cell_type": "code",
   "execution_count": 25,
   "id": "dynamic-princeton",
   "metadata": {},
   "outputs": [
    {
     "data": {
      "text/plain": [
       "<AxesSubplot:xlabel='YearBuilt', ylabel='SalePrice'>"
      ]
     },
     "execution_count": 25,
     "metadata": {},
     "output_type": "execute_result"
    },
    {
     "data": {
      "image/png": "[encoded data removed]",
      "text/plain": [
       "<Figure size 432x288 with 1 Axes>"
      ]
     },
     "metadata": {
      "needs_background": "light"
     },
     "output_type": "display_data"
    }
   ],
   "source": [
    "sns.scatterplot(x=df['YearBuilt'], y=df['SalePrice'])"
   ]
  },
  {
   "cell_type": "markdown",
   "id": "valuable-differential",
   "metadata": {},
   "source": [
    "The coefficient for YearBuilt is negative and the other coefficients from statsmodels are different than from sklearn. It's not clear why."
   ]
  },
  {
   "cell_type": "markdown",
   "id": "injured-mechanism",
   "metadata": {},
   "source": [
    "## KNN regression"
   ]
  },
  {
   "cell_type": "code",
   "execution_count": 26,
   "id": "narrow-czech",
   "metadata": {},
   "outputs": [
    {
     "name": "stdout",
     "output_type": "stream",
     "text": [
      "0.7169076259605272\n",
      "0.6053882073906485\n"
     ]
    }
   ],
   "source": [
    "from sklearn.neighbors import KNeighborsRegressor\n",
    "\n",
    "knr = KNeighborsRegressor()\n",
    "knr.fit(x_train, y_train)\n",
    "print(knr.score(x_train, y_train))\n",
    "print(knr.score(x_test, y_test))"
   ]
  },
  {
   "cell_type": "markdown",
   "id": "informal-lawyer",
   "metadata": {},
   "source": [
    "# Evaluating regression models"
   ]
  },
  {
   "cell_type": "code",
   "execution_count": 27,
   "id": "tropical-egypt",
   "metadata": {},
   "outputs": [
    {
     "data": {
      "text/plain": [
       "0.0"
      ]
     },
     "execution_count": 27,
     "metadata": {},
     "output_type": "execute_result"
    }
   ],
   "source": [
    "from sklearn.metrics import r2_score\n",
    "\n",
    "r2_score(y_train, [y_train.mean()] * y_train.shape[0])"
   ]
  },
  {
   "cell_type": "code",
   "execution_count": 28,
   "id": "changing-church",
   "metadata": {},
   "outputs": [
    {
     "name": "stdout",
     "output_type": "stream",
     "text": [
      "0.7307830359520278\n",
      "0.7255042719510871\n"
     ]
    }
   ],
   "source": [
    "r2 = r2_score(y_test, l1_lr.predict(x_test))\n",
    "n, p = x_test.shape\n",
    "adj_r2 = 1 - (1 - r2) * (n - 1) / (n - p - 1)\n",
    "print(r2)\n",
    "print(adj_r2)"
   ]
  },
  {
   "cell_type": "code",
   "execution_count": 29,
   "id": "historic-setting",
   "metadata": {},
   "outputs": [
    {
     "ename": "ModuleNotFoundError",
     "evalue": "No module named 'RegscorePy'",
     "output_type": "error",
     "traceback": [
      "\u001b[1;31m---------------------------------------------------------------------------\u001b[0m",
      "\u001b[1;31mModuleNotFoundError\u001b[0m                       Traceback (most recent call last)",
      "\u001b[1;32m<ipython-input-29-4943a3fb93e0>\u001b[0m in \u001b[0;36m<module>\u001b[1;34m\u001b[0m\n\u001b[1;32m----> 1\u001b[1;33m \u001b[1;32mfrom\u001b[0m \u001b[0mRegscorePy\u001b[0m\u001b[1;33m.\u001b[0m\u001b[0maic\u001b[0m \u001b[1;32mimport\u001b[0m \u001b[0maic\u001b[0m\u001b[1;33m\u001b[0m\u001b[1;33m\u001b[0m\u001b[0m\n\u001b[0m\u001b[0;32m      2\u001b[0m \u001b[1;33m\u001b[0m\u001b[0m\n\u001b[0;32m      3\u001b[0m \u001b[0maic\u001b[0m\u001b[1;33m(\u001b[0m\u001b[0my_train\u001b[0m\u001b[1;33m,\u001b[0m \u001b[0ml1_lr\u001b[0m\u001b[1;33m.\u001b[0m\u001b[0mpredict\u001b[0m\u001b[1;33m(\u001b[0m\u001b[0mx_train\u001b[0m\u001b[1;33m)\u001b[0m\u001b[1;33m,\u001b[0m \u001b[0mx_train\u001b[0m\u001b[1;33m.\u001b[0m\u001b[0mshape\u001b[0m\u001b[1;33m[\u001b[0m\u001b[1;36m1\u001b[0m\u001b[1;33m]\u001b[0m\u001b[1;33m)\u001b[0m\u001b[1;33m\u001b[0m\u001b[1;33m\u001b[0m\u001b[0m\n",
      "\u001b[1;31mModuleNotFoundError\u001b[0m: No module named 'RegscorePy'"
     ]
    }
   ],
   "source": [
    "from RegscorePy.aic import aic\n",
    "\n",
    "aic(y_train, l1_lr.predict(x_train), x_train.shape[1])"
   ]
  },
  {
   "cell_type": "code",
   "execution_count": null,
   "id": "exciting-virginia",
   "metadata": {},
   "outputs": [],
   "source": [
    "from sklearn.metrics import mean_squared_error as mse\n",
    "\n",
    "mse(y_test, l1_lr.predict(x_test))"
   ]
  },
  {
   "cell_type": "code",
   "execution_count": null,
   "id": "social-analysis",
   "metadata": {},
   "outputs": [],
   "source": [
    "mse(y_test, l1_lr.predict(x_test), squared=False)"
   ]
  },
  {
   "cell_type": "code",
   "execution_count": null,
   "id": "differential-level",
   "metadata": {},
   "outputs": [],
   "source": [
    "df['SalePrice'].median()"
   ]
  },
  {
   "cell_type": "code",
   "execution_count": null,
   "id": "sealed-distance",
   "metadata": {},
   "outputs": [],
   "source": [
    "from sklearn.metrics import mean_absolute_error as mae\n",
    "\n",
    "mae(y_test, l1_lr.predict(x_test))"
   ]
  },
  {
   "cell_type": "markdown",
   "id": "developmental-advantage",
   "metadata": {},
   "source": [
    "# Linear regression assumptions"
   ]
  },
  {
   "cell_type": "code",
   "execution_count": null,
   "id": "north-bahrain",
   "metadata": {},
   "outputs": [],
   "source": [
    "predictions = l1_lr.predict(df.drop('SalePrice', axis=1))\n",
    "residuals = df['SalePrice'] - predictions\n",
    "f = plt.figure(figsize=(5.5, 5.5))\n",
    "sns.regplot(x=predictions, y=residuals, lowess=True, line_kws={'color': 'red'})\n",
    "plt.xlabel('fitted values')\n",
    "plt.ylabel('residuals')\n",
    "plt.xticks([100000., 200000., 300000., 400000., 500000.])\n",
    "plt.tight_layout()"
   ]
  },
  {
   "cell_type": "code",
   "execution_count": null,
   "id": "concrete-diagnosis",
   "metadata": {},
   "outputs": [],
   "source": [
    "for i in range(1, 11):\n",
    "    print(df['SalePrice'].autocorr(i))"
   ]
  },
  {
   "cell_type": "code",
   "execution_count": null,
   "id": "arbitrary-trouble",
   "metadata": {},
   "outputs": [],
   "source": [
    "f = plt.figure(figsize=(5.5, 5.5))\n",
    "pd.plotting.autocorrelation_plot(df['SalePrice'])\n",
    "plt.tight_layout()"
   ]
  },
  {
   "cell_type": "code",
   "execution_count": null,
   "id": "radical-drunk",
   "metadata": {},
   "outputs": [],
   "source": [
    "import numpy as np\n",
    "\n",
    "standardized_residuals = np.sqrt(residuals / residuals.std())\n",
    "\n",
    "f = plt.figure(figsize=(5.5, 5.5))\n",
    "sns.regplot(x=predictions, y=standardized_residuals, lowess=True, line_kws={'color': 'red'})\n",
    "plt.xlabel('predicted values')\n",
    "plt.ylabel('sqrt(standardized residuals)')\n",
    "plt.xticks([100000., 200000., 300000., 400000., 500000.])\n",
    "plt.tight_layout()"
   ]
  },
  {
   "cell_type": "markdown",
   "id": "under-focus",
   "metadata": {},
   "source": [
    "# Forecasting"
   ]
  },
  {
   "cell_type": "code",
   "execution_count": null,
   "id": "acute-rating",
   "metadata": {},
   "outputs": [],
   "source": [
    "btc_df = pd.read_csv('data/bitcoin_price.csv')\n",
    "btc_df['time'] = pd.to_datetime(btc_df['time'], unit='ms')\n",
    "btc_df.set_index('time', inplace=True)\n",
    "btc_df = btc_df[['close', 'volume']]\n",
    "btc_df.head()"
   ]
  },
  {
   "cell_type": "code",
   "execution_count": null,
   "id": "representative-heaven",
   "metadata": {},
   "outputs": [],
   "source": [
    "btc_df['close_1d_future'] = btc_df['close'].shift(-1)\n",
    "btc_df.dropna(inplace=True)"
   ]
  },
  {
   "cell_type": "code",
   "execution_count": null,
   "id": "enabling-tractor",
   "metadata": {},
   "outputs": [],
   "source": [
    "btc_df.shape[0] * 0.75"
   ]
  },
  {
   "cell_type": "code",
   "execution_count": null,
   "id": "beautiful-probability",
   "metadata": {},
   "outputs": [],
   "source": [
    "features = btc_df.drop('close_1d_future', axis=1)\n",
    "targets = btc_df['close_1d_future']\n",
    "\n",
    "train_idx = int(0.75 * btc_df.shape[0])\n",
    "x_train = features.iloc[:train_idx]\n",
    "y_train = targets.iloc[:train_idx]\n",
    "x_test = features.iloc[train_idx:]\n",
    "y_test = targets.iloc[train_idx:]"
   ]
  },
  {
   "cell_type": "code",
   "execution_count": null,
   "id": "closed-differential",
   "metadata": {},
   "outputs": [],
   "source": [
    "from sklearn.model_selection import TimeSeriesSplit\n",
    "\n",
    "l1_lr = LassoCV(cv=TimeSeriesSplit())\n",
    "l1_lr.fit(x_train, y_train)\n",
    "print(mae(y_train, l1_lr.predict(x_train)))\n",
    "print(mae(y_test, l1_lr.predict(x_test)))"
   ]
  },
  {
   "cell_type": "code",
   "execution_count": null,
   "id": "knowing-struggle",
   "metadata": {},
   "outputs": [],
   "source": [
    "l1_lr.alpha_"
   ]
  },
  {
   "cell_type": "code",
   "execution_count": null,
   "id": "focused-reynolds",
   "metadata": {},
   "outputs": [],
   "source": [
    "train_dates = btc_df.index[:train_idx]\n",
    "test_dates = btc_df.index[train_idx:]\n",
    "train_predictions = l1_lr.predict(x_train)\n",
    "test_predictions = l1_lr.predict(x_test)\n",
    "plt.plot_date(train_dates, y_train, fmt='-', color='b')\n",
    "plt.plot_date(train_dates, train_predictions, fmt='--', color='orange')\n",
    "plt.plot_date(test_dates, y_test, fmt='-', color='k')\n",
    "plt.plot_date(test_dates, test_predictions, fmt='--', color='r')\n",
    "plt.axvline(btc_df.index[train_idx])\n",
    "plt.yscale('log')"
   ]
  },
  {
   "cell_type": "code",
   "execution_count": null,
   "id": "informal-lewis",
   "metadata": {},
   "outputs": [],
   "source": [
    "btc_df.reset_index(inplace=True)\n",
    "btc_df.drop('close_1d_future', axis=1, inplace=True)\n",
    "btc_df.rename(columns={'close': 'y', 'time': 'ds'}, inplace=True)"
   ]
  },
  {
   "cell_type": "code",
   "execution_count": null,
   "id": "dedicated-radical",
   "metadata": {},
   "outputs": [],
   "source": [
    "from prophet import Prophet\n",
    "\n",
    "m = Prophet()\n",
    "m.fit(btc_df)"
   ]
  },
  {
   "cell_type": "code",
   "execution_count": null,
   "id": "veterinary-phrase",
   "metadata": {},
   "outputs": [],
   "source": [
    "future = m.make_future_dataframe(periods=365)\n",
    "forecast = m.predict(future)"
   ]
  },
  {
   "cell_type": "code",
   "execution_count": null,
   "id": "offshore-cemetery",
   "metadata": {},
   "outputs": [],
   "source": [
    "f = plt.figure(figsize=(5.5, 5.5))\n",
    "m.plot(forecast)"
   ]
  },
  {
   "cell_type": "code",
   "execution_count": null,
   "id": "governmental-valuation",
   "metadata": {},
   "outputs": [],
   "source": [
    "components = m.plot_components(forecast)"
   ]
  }
 ],
 "metadata": {
  "kernelspec": {
   "display_name": "Python 3",
   "language": "python",
   "name": "python3"
  },
  "language_info": {
   "codemirror_mode": {
    "name": "ipython",
    "version": 3
   },
   "file_extension": ".py",
   "mimetype": "text/x-python",
   "name": "python",
   "nbconvert_exporter": "python",
   "pygments_lexer": "ipython3",
   "version": "3.8.8"
  }
 },
 "nbformat": 4,
 "nbformat_minor": 5
}

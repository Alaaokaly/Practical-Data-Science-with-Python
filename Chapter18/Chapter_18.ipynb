{
 "cells": [
  {
   "cell_type": "markdown",
   "id": "557fc29c",
   "metadata": {},
   "source": [
    "# Text cleaning"
   ]
  },
  {
   "cell_type": "code",
   "execution_count": 1,
   "id": "a8faf7db",
   "metadata": {},
   "outputs": [],
   "source": [
    "from urllib.request import urlopen\n",
    "from gutenberg_cleaner import simple_cleaner\n",
    "\n",
    "wnp = urlopen('https://www.gutenberg.org/files/2600/2600-0.txt').\\\n",
    "    read().decode('utf-8')\n",
    "wnp = simple_cleaner(wnp)"
   ]
  },
  {
   "cell_type": "code",
   "execution_count": 2,
   "id": "523068e3",
   "metadata": {},
   "outputs": [
    {
     "data": {
      "text/plain": [
       "'\\r\\n\\r\\n\\r\\n\\r\\nWAR AND PEACE\\r\\n\\r\\n\\r\\nBy Leo Tolstoy/Tolstoi\\r\\n\\r\\n\\r\\n    Contents\\r\\n\\r\\n    BOOK ONE: 1805\\r\\n\\r\\n    CHA'"
      ]
     },
     "execution_count": 2,
     "metadata": {},
     "output_type": "execute_result"
    }
   ],
   "source": [
    "wnp[:100]"
   ]
  },
  {
   "cell_type": "code",
   "execution_count": 3,
   "id": "bfa43bb1",
   "metadata": {},
   "outputs": [],
   "source": [
    "wnp = wnp.lower()"
   ]
  },
  {
   "cell_type": "code",
   "execution_count": 4,
   "id": "06b5827a",
   "metadata": {},
   "outputs": [
    {
     "data": {
      "text/plain": [
       "'war and peace by leo tolstoy/tolstoi contents book one: 1805 chapter i chapter ii chapter iii chapte'"
      ]
     },
     "execution_count": 4,
     "metadata": {},
     "output_type": "execute_result"
    }
   ],
   "source": [
    "import re\n",
    "\n",
    "wnp = re.sub(r'\\s+', ' ', wnp).strip()\n",
    "wnp[:100]"
   ]
  },
  {
   "cell_type": "markdown",
   "id": "d16c932d",
   "metadata": {},
   "source": [
    "Confusingly, both of these work (although the second version with `'\\\\s+'` is technically more correct):"
   ]
  },
  {
   "cell_type": "code",
   "execution_count": 5,
   "id": "892966c6",
   "metadata": {},
   "outputs": [
    {
     "data": {
      "text/plain": [
       "'war and peace by leo tolstoy/tolstoi contents book one: 1805 chapter i chapter ii chapter iii chapte'"
      ]
     },
     "execution_count": 5,
     "metadata": {},
     "output_type": "execute_result"
    }
   ],
   "source": [
    "re.sub('\\s+', ' ', wnp)[:100]"
   ]
  },
  {
   "cell_type": "code",
   "execution_count": 6,
   "id": "fc03c369",
   "metadata": {},
   "outputs": [
    {
     "data": {
      "text/plain": [
       "'war and peace by leo tolstoy/tolstoi contents book one: 1805 chapter i chapter ii chapter iii chapte'"
      ]
     },
     "execution_count": 6,
     "metadata": {},
     "output_type": "execute_result"
    }
   ],
   "source": [
    "re.sub('\\\\s+', ' ', wnp)[:100]"
   ]
  },
  {
   "cell_type": "code",
   "execution_count": 7,
   "id": "c1a9797f",
   "metadata": {},
   "outputs": [
    {
     "data": {
      "text/plain": [
       "'war and peace by leo tolstoytolstoi contents book one 1805 chapter i chapter ii chapter iii chapter '"
      ]
     },
     "execution_count": 7,
     "metadata": {},
     "output_type": "execute_result"
    }
   ],
   "source": [
    "import string\n",
    "\n",
    "wnp = wnp.translate(str.maketrans('', '', string.punctuation))\n",
    "wnp[:100]"
   ]
  },
  {
   "cell_type": "code",
   "execution_count": 8,
   "id": "824f1cbc",
   "metadata": {},
   "outputs": [
    {
     "data": {
      "text/plain": [
       "'0123456789!\"#$%&\\'()*+,-./:;<=>?@[\\\\]^_`{|}~'"
      ]
     },
     "execution_count": 8,
     "metadata": {},
     "output_type": "execute_result"
    }
   ],
   "source": [
    "string.digits + string.punctuation"
   ]
  },
  {
   "cell_type": "code",
   "execution_count": 9,
   "id": "742e896d",
   "metadata": {},
   "outputs": [],
   "source": [
    "wnp = re.sub(r'\\w+@\\w+\\.\\w+', '', wnp)"
   ]
  },
  {
   "cell_type": "code",
   "execution_count": 10,
   "id": "60facbdc",
   "metadata": {},
   "outputs": [
    {
     "data": {
      "text/plain": [
       "'this is an email: ; while this is not: hello@test'"
      ]
     },
     "execution_count": 10,
     "metadata": {},
     "output_type": "execute_result"
    }
   ],
   "source": [
    "email_test_string = 'this is an email: hello@test.com; while this is not: hello@test'\n",
    "re.sub(r'\\w+@\\w+\\.\\w+', '', email_test_string)"
   ]
  },
  {
   "cell_type": "code",
   "execution_count": 11,
   "id": "f7207af9",
   "metadata": {},
   "outputs": [
    {
     "data": {
      "text/plain": [
       "'war peace leo tolstoytolstoi contents book 1805 chapter chapter ii chapter iii chapter iv chapter v '"
      ]
     },
     "execution_count": 11,
     "metadata": {},
     "output_type": "execute_result"
    }
   ],
   "source": [
    "# _stop_words in sklearn 0.23 and below, _stop_word in sklearn 0.24 and above\n",
    "from sklearn.feature_extraction import _stop_words\n",
    "\n",
    "non_stopwords = []\n",
    "for word in wnp.split():\n",
    "    if word not in _stop_words.ENGLISH_STOP_WORDS:\n",
    "        non_stopwords.append(word)\n",
    "        \n",
    "cleaned_text = ' '.join(non_stopwords)\n",
    "cleaned_text[:100]"
   ]
  },
  {
   "cell_type": "code",
   "execution_count": 12,
   "id": "475ea461",
   "metadata": {},
   "outputs": [
    {
     "data": {
      "text/plain": [
       "frozenset({'a',\n",
       "           'about',\n",
       "           'above',\n",
       "           'across',\n",
       "           'after',\n",
       "           'afterwards',\n",
       "           'again',\n",
       "           'against',\n",
       "           'all',\n",
       "           'almost',\n",
       "           'alone',\n",
       "           'along',\n",
       "           'already',\n",
       "           'also',\n",
       "           'although',\n",
       "           'always',\n",
       "           'am',\n",
       "           'among',\n",
       "           'amongst',\n",
       "           'amoungst',\n",
       "           'amount',\n",
       "           'an',\n",
       "           'and',\n",
       "           'another',\n",
       "           'any',\n",
       "           'anyhow',\n",
       "           'anyone',\n",
       "           'anything',\n",
       "           'anyway',\n",
       "           'anywhere',\n",
       "           'are',\n",
       "           'around',\n",
       "           'as',\n",
       "           'at',\n",
       "           'back',\n",
       "           'be',\n",
       "           'became',\n",
       "           'because',\n",
       "           'become',\n",
       "           'becomes',\n",
       "           'becoming',\n",
       "           'been',\n",
       "           'before',\n",
       "           'beforehand',\n",
       "           'behind',\n",
       "           'being',\n",
       "           'below',\n",
       "           'beside',\n",
       "           'besides',\n",
       "           'between',\n",
       "           'beyond',\n",
       "           'bill',\n",
       "           'both',\n",
       "           'bottom',\n",
       "           'but',\n",
       "           'by',\n",
       "           'call',\n",
       "           'can',\n",
       "           'cannot',\n",
       "           'cant',\n",
       "           'co',\n",
       "           'con',\n",
       "           'could',\n",
       "           'couldnt',\n",
       "           'cry',\n",
       "           'de',\n",
       "           'describe',\n",
       "           'detail',\n",
       "           'do',\n",
       "           'done',\n",
       "           'down',\n",
       "           'due',\n",
       "           'during',\n",
       "           'each',\n",
       "           'eg',\n",
       "           'eight',\n",
       "           'either',\n",
       "           'eleven',\n",
       "           'else',\n",
       "           'elsewhere',\n",
       "           'empty',\n",
       "           'enough',\n",
       "           'etc',\n",
       "           'even',\n",
       "           'ever',\n",
       "           'every',\n",
       "           'everyone',\n",
       "           'everything',\n",
       "           'everywhere',\n",
       "           'except',\n",
       "           'few',\n",
       "           'fifteen',\n",
       "           'fifty',\n",
       "           'fill',\n",
       "           'find',\n",
       "           'fire',\n",
       "           'first',\n",
       "           'five',\n",
       "           'for',\n",
       "           'former',\n",
       "           'formerly',\n",
       "           'forty',\n",
       "           'found',\n",
       "           'four',\n",
       "           'from',\n",
       "           'front',\n",
       "           'full',\n",
       "           'further',\n",
       "           'get',\n",
       "           'give',\n",
       "           'go',\n",
       "           'had',\n",
       "           'has',\n",
       "           'hasnt',\n",
       "           'have',\n",
       "           'he',\n",
       "           'hence',\n",
       "           'her',\n",
       "           'here',\n",
       "           'hereafter',\n",
       "           'hereby',\n",
       "           'herein',\n",
       "           'hereupon',\n",
       "           'hers',\n",
       "           'herself',\n",
       "           'him',\n",
       "           'himself',\n",
       "           'his',\n",
       "           'how',\n",
       "           'however',\n",
       "           'hundred',\n",
       "           'i',\n",
       "           'ie',\n",
       "           'if',\n",
       "           'in',\n",
       "           'inc',\n",
       "           'indeed',\n",
       "           'interest',\n",
       "           'into',\n",
       "           'is',\n",
       "           'it',\n",
       "           'its',\n",
       "           'itself',\n",
       "           'keep',\n",
       "           'last',\n",
       "           'latter',\n",
       "           'latterly',\n",
       "           'least',\n",
       "           'less',\n",
       "           'ltd',\n",
       "           'made',\n",
       "           'many',\n",
       "           'may',\n",
       "           'me',\n",
       "           'meanwhile',\n",
       "           'might',\n",
       "           'mill',\n",
       "           'mine',\n",
       "           'more',\n",
       "           'moreover',\n",
       "           'most',\n",
       "           'mostly',\n",
       "           'move',\n",
       "           'much',\n",
       "           'must',\n",
       "           'my',\n",
       "           'myself',\n",
       "           'name',\n",
       "           'namely',\n",
       "           'neither',\n",
       "           'never',\n",
       "           'nevertheless',\n",
       "           'next',\n",
       "           'nine',\n",
       "           'no',\n",
       "           'nobody',\n",
       "           'none',\n",
       "           'noone',\n",
       "           'nor',\n",
       "           'not',\n",
       "           'nothing',\n",
       "           'now',\n",
       "           'nowhere',\n",
       "           'of',\n",
       "           'off',\n",
       "           'often',\n",
       "           'on',\n",
       "           'once',\n",
       "           'one',\n",
       "           'only',\n",
       "           'onto',\n",
       "           'or',\n",
       "           'other',\n",
       "           'others',\n",
       "           'otherwise',\n",
       "           'our',\n",
       "           'ours',\n",
       "           'ourselves',\n",
       "           'out',\n",
       "           'over',\n",
       "           'own',\n",
       "           'part',\n",
       "           'per',\n",
       "           'perhaps',\n",
       "           'please',\n",
       "           'put',\n",
       "           'rather',\n",
       "           're',\n",
       "           'same',\n",
       "           'see',\n",
       "           'seem',\n",
       "           'seemed',\n",
       "           'seeming',\n",
       "           'seems',\n",
       "           'serious',\n",
       "           'several',\n",
       "           'she',\n",
       "           'should',\n",
       "           'show',\n",
       "           'side',\n",
       "           'since',\n",
       "           'sincere',\n",
       "           'six',\n",
       "           'sixty',\n",
       "           'so',\n",
       "           'some',\n",
       "           'somehow',\n",
       "           'someone',\n",
       "           'something',\n",
       "           'sometime',\n",
       "           'sometimes',\n",
       "           'somewhere',\n",
       "           'still',\n",
       "           'such',\n",
       "           'system',\n",
       "           'take',\n",
       "           'ten',\n",
       "           'than',\n",
       "           'that',\n",
       "           'the',\n",
       "           'their',\n",
       "           'them',\n",
       "           'themselves',\n",
       "           'then',\n",
       "           'thence',\n",
       "           'there',\n",
       "           'thereafter',\n",
       "           'thereby',\n",
       "           'therefore',\n",
       "           'therein',\n",
       "           'thereupon',\n",
       "           'these',\n",
       "           'they',\n",
       "           'thick',\n",
       "           'thin',\n",
       "           'third',\n",
       "           'this',\n",
       "           'those',\n",
       "           'though',\n",
       "           'three',\n",
       "           'through',\n",
       "           'throughout',\n",
       "           'thru',\n",
       "           'thus',\n",
       "           'to',\n",
       "           'together',\n",
       "           'too',\n",
       "           'top',\n",
       "           'toward',\n",
       "           'towards',\n",
       "           'twelve',\n",
       "           'twenty',\n",
       "           'two',\n",
       "           'un',\n",
       "           'under',\n",
       "           'until',\n",
       "           'up',\n",
       "           'upon',\n",
       "           'us',\n",
       "           'very',\n",
       "           'via',\n",
       "           'was',\n",
       "           'we',\n",
       "           'well',\n",
       "           'were',\n",
       "           'what',\n",
       "           'whatever',\n",
       "           'when',\n",
       "           'whence',\n",
       "           'whenever',\n",
       "           'where',\n",
       "           'whereafter',\n",
       "           'whereas',\n",
       "           'whereby',\n",
       "           'wherein',\n",
       "           'whereupon',\n",
       "           'wherever',\n",
       "           'whether',\n",
       "           'which',\n",
       "           'while',\n",
       "           'whither',\n",
       "           'who',\n",
       "           'whoever',\n",
       "           'whole',\n",
       "           'whom',\n",
       "           'whose',\n",
       "           'why',\n",
       "           'will',\n",
       "           'with',\n",
       "           'within',\n",
       "           'without',\n",
       "           'would',\n",
       "           'yet',\n",
       "           'you',\n",
       "           'your',\n",
       "           'yours',\n",
       "           'yourself',\n",
       "           'yourselves'})"
      ]
     },
     "execution_count": 12,
     "metadata": {},
     "output_type": "execute_result"
    }
   ],
   "source": [
    "_stop_words.ENGLISH_STOP_WORDS"
   ]
  },
  {
   "cell_type": "code",
   "execution_count": 13,
   "id": "086d3668",
   "metadata": {},
   "outputs": [
    {
     "name": "stderr",
     "output_type": "stream",
     "text": [
      "[nltk_data] Downloading package stopwords to\n",
      "[nltk_data]     C:\\Users\\words\\AppData\\Roaming\\nltk_data...\n",
      "[nltk_data]   Package stopwords is already up-to-date!\n"
     ]
    },
    {
     "data": {
      "text/plain": [
       "True"
      ]
     },
     "execution_count": 13,
     "metadata": {},
     "output_type": "execute_result"
    }
   ],
   "source": [
    "import nltk\n",
    "\n",
    "nltk.download('stopwords')"
   ]
  },
  {
   "cell_type": "code",
   "execution_count": 14,
   "id": "0f60c7f7",
   "metadata": {},
   "outputs": [
    {
     "data": {
      "text/plain": [
       "['i',\n",
       " 'me',\n",
       " 'my',\n",
       " 'myself',\n",
       " 'we',\n",
       " 'our',\n",
       " 'ours',\n",
       " 'ourselves',\n",
       " 'you',\n",
       " \"you're\",\n",
       " \"you've\",\n",
       " \"you'll\",\n",
       " \"you'd\",\n",
       " 'your',\n",
       " 'yours',\n",
       " 'yourself',\n",
       " 'yourselves',\n",
       " 'he',\n",
       " 'him',\n",
       " 'his',\n",
       " 'himself',\n",
       " 'she',\n",
       " \"she's\",\n",
       " 'her',\n",
       " 'hers',\n",
       " 'herself',\n",
       " 'it',\n",
       " \"it's\",\n",
       " 'its',\n",
       " 'itself',\n",
       " 'they',\n",
       " 'them',\n",
       " 'their',\n",
       " 'theirs',\n",
       " 'themselves',\n",
       " 'what',\n",
       " 'which',\n",
       " 'who',\n",
       " 'whom',\n",
       " 'this',\n",
       " 'that',\n",
       " \"that'll\",\n",
       " 'these',\n",
       " 'those',\n",
       " 'am',\n",
       " 'is',\n",
       " 'are',\n",
       " 'was',\n",
       " 'were',\n",
       " 'be',\n",
       " 'been',\n",
       " 'being',\n",
       " 'have',\n",
       " 'has',\n",
       " 'had',\n",
       " 'having',\n",
       " 'do',\n",
       " 'does',\n",
       " 'did',\n",
       " 'doing',\n",
       " 'a',\n",
       " 'an',\n",
       " 'the',\n",
       " 'and',\n",
       " 'but',\n",
       " 'if',\n",
       " 'or',\n",
       " 'because',\n",
       " 'as',\n",
       " 'until',\n",
       " 'while',\n",
       " 'of',\n",
       " 'at',\n",
       " 'by',\n",
       " 'for',\n",
       " 'with',\n",
       " 'about',\n",
       " 'against',\n",
       " 'between',\n",
       " 'into',\n",
       " 'through',\n",
       " 'during',\n",
       " 'before',\n",
       " 'after',\n",
       " 'above',\n",
       " 'below',\n",
       " 'to',\n",
       " 'from',\n",
       " 'up',\n",
       " 'down',\n",
       " 'in',\n",
       " 'out',\n",
       " 'on',\n",
       " 'off',\n",
       " 'over',\n",
       " 'under',\n",
       " 'again',\n",
       " 'further',\n",
       " 'then',\n",
       " 'once',\n",
       " 'here',\n",
       " 'there',\n",
       " 'when',\n",
       " 'where',\n",
       " 'why',\n",
       " 'how',\n",
       " 'all',\n",
       " 'any',\n",
       " 'both',\n",
       " 'each',\n",
       " 'few',\n",
       " 'more',\n",
       " 'most',\n",
       " 'other',\n",
       " 'some',\n",
       " 'such',\n",
       " 'no',\n",
       " 'nor',\n",
       " 'not',\n",
       " 'only',\n",
       " 'own',\n",
       " 'same',\n",
       " 'so',\n",
       " 'than',\n",
       " 'too',\n",
       " 'very',\n",
       " 's',\n",
       " 't',\n",
       " 'can',\n",
       " 'will',\n",
       " 'just',\n",
       " 'don',\n",
       " \"don't\",\n",
       " 'should',\n",
       " \"should've\",\n",
       " 'now',\n",
       " 'd',\n",
       " 'll',\n",
       " 'm',\n",
       " 'o',\n",
       " 're',\n",
       " 've',\n",
       " 'y',\n",
       " 'ain',\n",
       " 'aren',\n",
       " \"aren't\",\n",
       " 'couldn',\n",
       " \"couldn't\",\n",
       " 'didn',\n",
       " \"didn't\",\n",
       " 'doesn',\n",
       " \"doesn't\",\n",
       " 'hadn',\n",
       " \"hadn't\",\n",
       " 'hasn',\n",
       " \"hasn't\",\n",
       " 'haven',\n",
       " \"haven't\",\n",
       " 'isn',\n",
       " \"isn't\",\n",
       " 'ma',\n",
       " 'mightn',\n",
       " \"mightn't\",\n",
       " 'mustn',\n",
       " \"mustn't\",\n",
       " 'needn',\n",
       " \"needn't\",\n",
       " 'shan',\n",
       " \"shan't\",\n",
       " 'shouldn',\n",
       " \"shouldn't\",\n",
       " 'wasn',\n",
       " \"wasn't\",\n",
       " 'weren',\n",
       " \"weren't\",\n",
       " 'won',\n",
       " \"won't\",\n",
       " 'wouldn',\n",
       " \"wouldn't\"]"
      ]
     },
     "execution_count": 14,
     "metadata": {},
     "output_type": "execute_result"
    }
   ],
   "source": [
    "nltk.corpus.stopwords.words('english')"
   ]
  },
  {
   "cell_type": "code",
   "execution_count": 15,
   "id": "023fd3d4",
   "metadata": {},
   "outputs": [],
   "source": [
    "from nltk.stem import SnowballStemmer\n",
    "\n",
    "stemmer = SnowballStemmer('english')\n",
    "stemmed_words = []\n",
    "for word in cleaned_text.split():\n",
    "    stemmed_words.append(stemmer.stem(word))\n",
    "    \n",
    "stemmed_text = ' '.join(stemmed_words)"
   ]
  },
  {
   "cell_type": "code",
   "execution_count": 16,
   "id": "e917b23e",
   "metadata": {},
   "outputs": [
    {
     "name": "stdout",
     "output_type": "stream",
     "text": [
      "“I knew you would be here,” replied Pierre. “I will come to supper\n",
      "with you. May I?” he added in a low voice so as not to disturb the\n",
      "vicomte who was continuing his story.\n",
      "\n"
     ]
    }
   ],
   "source": [
    "test_string = \"\"\"“I knew you would be here,” replied Pierre. “I will come to supper\n",
    "with you. May I?” he added in a low voice so as not to disturb the\n",
    "vicomte who was continuing his story.\n",
    "\"\"\"\n",
    "print(test_string)"
   ]
  },
  {
   "cell_type": "code",
   "execution_count": 17,
   "id": "b101f41d",
   "metadata": {},
   "outputs": [
    {
     "name": "stdout",
     "output_type": "stream",
     "text": [
      "knew repli pierr come supper ad low voic disturb vicomt continu stori\n"
     ]
    }
   ],
   "source": [
    "cleaned_string = test_string.lower()\n",
    "cleaned_string = cleaned_string.translate(str.maketrans('', '', string.punctuation + '“”'))\n",
    "\n",
    "stemmed_words = []\n",
    "for word in cleaned_string.split():\n",
    "    if word not in _stop_words.ENGLISH_STOP_WORDS:\n",
    "        stemmed_words.append(stemmer.stem(word))\n",
    "    \n",
    "stemmed_text = ' '.join(stemmed_words)\n",
    "print(stemmed_text)"
   ]
  },
  {
   "cell_type": "code",
   "execution_count": 18,
   "id": "48659443",
   "metadata": {},
   "outputs": [],
   "source": [
    "import spacy\n",
    "\n",
    "spacy_en_model = spacy.load('en_core_web_sm', disable=['parser', 'ner'])\n",
    "spacy_en_model.max_length = 4000000\n",
    "\n",
    "def clean_text_spacy(text):\n",
    "    processed_text = spacy_en_model(text)\n",
    "    lemmas = [w.lemma_ if w.lemma_ != '-PRON-'\n",
    "              else w.lower_ for w in processed_text\n",
    "              if w.is_alpha and not w.is_stop]\n",
    "    return ' '.join(lemmas).lower()\n",
    "\n",
    "wnp = urlopen('https://www.gutenberg.org/files/2600/2600-0.txt').\\\n",
    "    read().decode('utf-8')\n",
    "wnp = simple_cleaner(wnp)\n",
    "lemmatized_text = clean_text_spacy(wnp)"
   ]
  },
  {
   "cell_type": "code",
   "execution_count": 19,
   "id": "34bd96be",
   "metadata": {},
   "outputs": [
    {
     "name": "stdout",
     "output_type": "stream",
     "text": [
      "“I knew you would be here,” replied Pierre. “I will come to supper\n",
      "with you. May I?” he added in a low voice so as not to disturb the\n",
      "vicomte who was continuing his story.\n",
      "\n"
     ]
    }
   ],
   "source": [
    "print(test_string)"
   ]
  },
  {
   "cell_type": "code",
   "execution_count": 20,
   "id": "0e13944c",
   "metadata": {},
   "outputs": [
    {
     "data": {
      "text/plain": [
       "'know reply pierre come supper add low voice disturb vicomte continue story'"
      ]
     },
     "execution_count": 20,
     "metadata": {},
     "output_type": "execute_result"
    }
   ],
   "source": [
    "clean_text_spacy(test_string)"
   ]
  },
  {
   "cell_type": "code",
   "execution_count": 21,
   "id": "77e52c59",
   "metadata": {},
   "outputs": [
    {
     "data": {
      "text/plain": [
       "['tagger', 'parser', 'ner']"
      ]
     },
     "execution_count": 21,
     "metadata": {},
     "output_type": "execute_result"
    }
   ],
   "source": [
    "spacy_en_model = spacy.load('en_core_web_sm')\n",
    "spacy_en_model.pipe_names"
   ]
  },
  {
   "cell_type": "markdown",
   "id": "3d7c9da9",
   "metadata": {},
   "source": [
    "## Word vectors"
   ]
  },
  {
   "cell_type": "code",
   "execution_count": 22,
   "id": "7a8418af",
   "metadata": {},
   "outputs": [],
   "source": [
    "import spacy\n",
    "\n",
    "spacy_en_model = spacy.load('en_core_web_lg', disable=['parser', 'ner'])\n",
    "spacy_en_model.max_length = 4000000\n",
    "\n",
    "processed_text = spacy_en_model(wnp)"
   ]
  },
  {
   "cell_type": "code",
   "execution_count": 23,
   "id": "abefd0fc",
   "metadata": {},
   "outputs": [
    {
     "data": {
      "text/plain": [
       "(300,)"
      ]
     },
     "execution_count": 23,
     "metadata": {},
     "output_type": "execute_result"
    }
   ],
   "source": [
    "processed_text.vector.shape"
   ]
  },
  {
   "cell_type": "code",
   "execution_count": 24,
   "id": "299349f4",
   "metadata": {},
   "outputs": [
    {
     "name": "stdout",
     "output_type": "stream",
     "text": [
      "\r\n",
      "\r\n",
      "\r\n",
      "\r\n",
      " [0. 0. 0. 0. 0. 0. 0. 0. 0. 0. 0. 0. 0. 0. 0. 0. 0. 0. 0. 0. 0. 0. 0. 0.\n",
      " 0. 0. 0. 0. 0. 0. 0. 0. 0. 0. 0. 0. 0. 0. 0. 0. 0. 0. 0. 0. 0. 0. 0. 0.\n",
      " 0. 0. 0. 0. 0. 0. 0. 0. 0. 0. 0. 0. 0. 0. 0. 0. 0. 0. 0. 0. 0. 0. 0. 0.\n",
      " 0. 0. 0. 0. 0. 0. 0. 0. 0. 0. 0. 0. 0. 0. 0. 0. 0. 0. 0. 0. 0. 0. 0. 0.\n",
      " 0. 0. 0. 0. 0. 0. 0. 0. 0. 0. 0. 0. 0. 0. 0. 0. 0. 0. 0. 0. 0. 0. 0. 0.\n",
      " 0. 0. 0. 0. 0. 0. 0. 0. 0. 0. 0. 0. 0. 0. 0. 0. 0. 0. 0. 0. 0. 0. 0. 0.\n",
      " 0. 0. 0. 0. 0. 0. 0. 0. 0. 0. 0. 0. 0. 0. 0. 0. 0. 0. 0. 0. 0. 0. 0. 0.\n",
      " 0. 0. 0. 0. 0. 0. 0. 0. 0. 0. 0. 0. 0. 0. 0. 0. 0. 0. 0. 0. 0. 0. 0. 0.\n",
      " 0. 0. 0. 0. 0. 0. 0. 0. 0. 0. 0. 0. 0. 0. 0. 0. 0. 0. 0. 0. 0. 0. 0. 0.\n",
      " 0. 0. 0. 0. 0. 0. 0. 0. 0. 0. 0. 0. 0. 0. 0. 0. 0. 0. 0. 0. 0. 0. 0. 0.\n",
      " 0. 0. 0. 0. 0. 0. 0. 0. 0. 0. 0. 0. 0. 0. 0. 0. 0. 0. 0. 0. 0. 0. 0. 0.\n",
      " 0. 0. 0. 0. 0. 0. 0. 0. 0. 0. 0. 0. 0. 0. 0. 0. 0. 0. 0. 0. 0. 0. 0. 0.\n",
      " 0. 0. 0. 0. 0. 0. 0. 0. 0. 0. 0. 0.]\n",
      "WAR [-3.0730e-01 -1.4714e-01  6.6117e-01  1.0707e-02 -4.2548e-01 -4.8379e-01\n",
      " -5.2638e-01  7.0586e-01 -3.8561e-01  3.0728e+00 -2.1181e-01 -4.2231e-01\n",
      "  3.5130e-01 -4.4530e-01  2.3694e-01 -2.6002e-01 -2.8963e-01  3.0857e-01\n",
      " -6.4575e-01  3.2054e-01 -5.5924e-02 -2.0813e-01  3.4440e-01  1.0795e-02\n",
      " -7.4545e-02 -3.8548e-01 -6.0702e-01  3.2237e-01 -9.3341e-02  6.6126e-01\n",
      " -7.1363e-03  1.8532e-01 -3.7393e-01 -2.6076e-02  4.9744e-01 -4.1639e-01\n",
      "  5.2767e-02 -1.1967e-01  1.5338e-01  7.1576e-02 -7.3306e-02  2.9640e-01\n",
      "  4.6181e-01 -4.8285e-01 -1.1067e-02 -1.6115e-02 -2.9533e-01  1.8976e-01\n",
      "  2.0678e-01  2.7757e-01  2.6496e-01 -2.5634e-02 -4.1048e-01  2.1783e-01\n",
      " -1.0913e-01  3.1568e-01  1.3638e-01 -3.6162e-01  2.7819e-01 -1.9528e-01\n",
      " -4.3991e-01  5.1373e-01  5.8337e-01 -2.6897e-01 -3.5659e-02  4.4794e-01\n",
      "  1.7027e-02  2.1396e-01 -2.6451e-01 -1.7835e-01 -4.4925e-01 -9.5494e-02\n",
      " -1.1581e-01 -2.1970e-01  8.2708e-01 -3.9354e-01 -2.8215e-01  1.4357e-01\n",
      " -1.9401e-02  5.9181e-01 -7.9514e-02 -1.6846e-01  4.2670e-01  4.8965e-02\n",
      " -3.5715e-02  4.3702e-04 -4.1323e-01 -1.1492e+00 -2.3024e-02 -2.1631e-02\n",
      " -3.9075e-01 -2.8866e-01 -2.0323e-01  4.1405e-02 -4.6789e-01 -3.7633e-01\n",
      " -1.2661e-01 -2.8927e-01 -1.3600e-02 -2.0943e-01  2.6374e-01  6.0462e-01\n",
      "  3.7909e-02  1.1279e-01  4.6555e-02 -1.1435e+00 -6.6728e-01  2.8028e-01\n",
      "  1.1438e-01 -2.0672e-01 -5.6746e-01 -2.7321e-01 -2.0052e-01 -4.5183e-02\n",
      "  8.3824e-02 -2.4882e-02 -2.0332e-01 -2.0862e-02 -3.9751e-01 -6.3251e-01\n",
      " -2.5665e-01  1.5445e-01  1.0218e-01  3.4600e-01 -1.8854e-01 -1.2153e-01\n",
      "  2.4391e-01  2.7164e-01  1.4518e-01  1.1441e-01  5.0093e-01 -2.3864e-01\n",
      "  2.0658e-01 -3.0755e-01 -1.0151e-01  1.6840e-01 -2.8072e-01  1.0867e-01\n",
      " -1.0491e-01 -2.1823e-01 -2.0400e+00 -3.0625e-01  5.4690e-01  1.8884e-01\n",
      "  3.9976e-01  1.8794e-01  5.5508e-02  6.1705e-01 -1.2972e-01 -4.0606e-01\n",
      "  1.9359e-01  1.1488e-01  2.9622e-01  1.6477e-01 -2.8349e-01  7.0100e-02\n",
      "  8.4147e-02  8.5669e-02 -1.0135e-01  7.6131e-01  2.4091e-01  8.8009e-02\n",
      "  1.6156e-01  6.0225e-01 -7.0677e-01  6.8427e-02 -5.8679e-03 -3.2746e-01\n",
      "  2.3455e-01 -1.1501e-01 -3.3841e-01  2.9260e-01  1.0802e-02  4.6094e-01\n",
      "  4.9241e-01  4.4794e-01 -2.2935e-01 -1.8170e-01  5.1448e-01  2.8058e-01\n",
      " -2.8255e-01 -4.4502e-01 -5.3984e-01 -8.0238e-02 -4.4346e-01  2.4706e-01\n",
      " -8.8404e-02 -4.5311e-01 -2.8675e-01  4.6892e-01 -3.0129e-01  3.1616e-03\n",
      " -1.7669e-01  4.9881e-01 -4.0455e-01  1.7265e-01  7.0763e-01 -3.9676e-01\n",
      " -9.0939e-03 -2.3180e-01  2.7638e-01  2.2391e-01  9.6259e-01  1.6816e-01\n",
      "  2.9699e-01 -2.7375e-01  2.5440e-01 -2.0711e-01  1.8156e-01 -1.7873e-01\n",
      "  3.5345e-01 -6.4737e-02  2.6704e-01  9.1605e-02  4.8969e-01 -5.6520e-01\n",
      "  8.1013e-02  4.9177e-01 -1.9974e-01  1.0656e-01  1.1928e-01  2.0396e-01\n",
      "  2.7092e-01 -1.3317e-01 -3.8568e-01  2.9469e-02  9.9864e-03  8.8510e-02\n",
      "  4.2491e-02  2.9868e-02 -1.9921e-01  3.5423e-01  5.3091e-02 -5.8813e-01\n",
      " -1.7052e-01 -7.3903e-02  1.8195e-01  7.0392e-01 -1.4140e-01 -1.9800e-02\n",
      " -1.8423e-01  1.2321e-02  5.0770e-02  4.4745e-01  9.7449e-02  4.2456e-01\n",
      "  2.0555e-01  3.7444e-01  5.7010e-01 -7.2635e-01  6.0556e-01  5.6125e-01\n",
      "  4.0867e-01 -2.3671e-01 -1.9248e-01 -4.1436e-01 -3.3534e-01  5.9564e-01\n",
      " -2.0379e-01 -1.0979e-01 -1.8435e-01  4.8392e-01 -5.6776e-03  3.6866e-01\n",
      " -2.4334e-01 -5.5312e-01  3.5324e-01 -2.2517e-02  1.2511e-01  3.6127e-01\n",
      "  5.2364e-01 -8.6573e-02  2.2216e-02 -2.2745e-01  3.1314e-01  3.5122e-01\n",
      "  1.6167e-01 -1.1710e-01  3.1173e-01 -5.5322e-02  4.2065e-01  2.1272e-01\n",
      " -2.6764e-01 -6.0827e-01  2.1662e-01 -1.2543e-01 -3.0970e-02 -3.9711e-02\n",
      "  4.6854e-02 -3.3056e-01 -4.3316e-01  4.3642e-01 -5.3155e-01 -3.0558e-01\n",
      " -1.0377e-01  2.4855e-01  1.8876e-01 -8.8854e-02 -1.3557e-01  1.1429e-01]\n",
      "AND [-1.8567e-01  6.6008e-02 -2.5209e-01 -1.1725e-01  2.6513e-01  6.4908e-02\n",
      "  1.2291e-01 -9.3979e-02  2.4321e-02  2.4926e+00 -1.7916e-02 -7.1218e-02\n",
      " -2.4782e-01 -2.6237e-01 -2.2460e-01 -2.1961e-01 -1.2927e-01  1.0867e+00\n",
      " -6.6072e-01 -3.1617e-02 -5.7328e-02  5.6903e-02 -2.7939e-01 -3.9825e-01\n",
      "  1.4251e-01 -8.5146e-02 -1.4779e-01  5.5067e-02 -2.8687e-03 -2.0917e-01\n",
      " -7.0735e-02  2.2577e-01 -1.5881e-01 -1.0395e-01  9.7110e-02 -5.6251e-01\n",
      " -3.2929e-01 -2.0853e-01  9.8711e-03  4.9777e-02  1.4883e-03  1.5884e-01\n",
      "  4.2771e-02 -2.6956e-03 -2.4620e-02 -1.9213e-01 -2.2556e-01  1.0838e-01\n",
      "  9.0086e-02 -1.3291e-01  3.2559e-01 -1.7038e-01 -1.0990e-01 -2.3986e-01\n",
      " -2.4289e-02  1.4656e-02 -2.3700e-01  8.4828e-02 -3.5982e-01 -7.6746e-02\n",
      "  4.8909e-02  1.1431e-01 -2.1013e-01  2.4765e-01 -1.7531e-02 -1.4028e-01\n",
      "  4.6191e-02  2.2972e-01  1.1750e-01  1.2724e-01  1.2992e-02  4.5870e-01\n",
      "  4.1085e-01  3.9106e-02  1.5713e-01 -1.8376e-01  2.6834e-01  5.6662e-02\n",
      "  1.6844e-01 -5.3788e-02 -9.1892e-02  1.1193e-01 -8.6810e-02 -1.3324e-01\n",
      "  1.5062e-01 -3.1733e-01 -2.2078e-01  2.5038e-01  3.4131e-01  3.6419e-01\n",
      " -8.9514e-02 -2.2193e-01  2.4471e-01  4.0091e-02  4.7798e-01 -2.9996e-02\n",
      "  1.9212e-03  6.3511e-02 -2.0417e-01 -2.6478e-01  2.0649e-01  1.5573e-02\n",
      " -2.7722e-01 -1.8861e-01 -1.0289e-01 -4.9773e-01  1.4986e-01 -1.0877e-02\n",
      "  2.5085e-01 -2.8117e-01  1.8966e-01 -6.5879e-02  9.4753e-02 -1.5338e-01\n",
      " -5.5071e-02 -3.6747e-01  2.4993e-01  9.6527e-02  2.3538e-01  1.8405e-01\n",
      "  5.2859e-02  2.2967e-01  1.2582e-01  1.5536e-01 -1.7275e-01  3.3946e-01\n",
      " -1.0049e-01  7.4948e-02 -9.3575e-02 -4.0490e-02 -1.6922e-02 -5.8039e-03\n",
      " -1.8108e-01  1.9537e-01  4.5178e-01  1.0965e-01  2.3370e-01 -9.9050e-02\n",
      " -7.8633e-02  2.1678e-01 -7.1231e-01 -9.9759e-02  3.3333e-01 -1.6460e-01\n",
      " -9.1688e-02  2.1056e-01  2.3669e-02  2.8922e-02  1.1990e-01 -1.2512e-01\n",
      " -2.6037e-02 -6.2217e-02  5.5816e-01  5.0273e-03 -3.0888e-01  3.8611e-02\n",
      "  1.7568e-01 -1.1163e-01 -1.0815e-01 -1.9444e-01  2.9433e-01  1.4519e-01\n",
      " -4.2878e-02  1.8534e-01  1.8891e-02 -6.1883e-01  1.3352e-01  3.6007e-02\n",
      "  3.3995e-01  2.2109e-01 -7.9328e-02  7.1319e-02  1.7678e-01  1.6378e-01\n",
      " -2.3142e-01 -1.4340e-01 -9.8122e-02 -1.9286e-02  2.3560e-01 -3.4013e-01\n",
      " -6.1007e-02 -2.3208e-01 -3.1152e-01  1.0063e-01 -1.5957e-01  2.0183e-01\n",
      " -1.6345e-02 -1.2303e-01  2.2667e-02 -2.0986e-01 -2.0127e-01 -8.7883e-02\n",
      "  6.4731e-02  1.0195e-01 -1.7860e-01  3.3056e-01  2.1407e-01 -3.2165e-01\n",
      " -1.7106e-01  1.9407e-01 -3.8618e-01 -2.1480e-01 -5.2254e-02  2.3175e-02\n",
      "  4.7389e-01  1.8612e-01  1.2711e-01  2.0855e-01 -1.0256e-01 -1.2016e-01\n",
      " -4.0488e-01  2.9695e-02 -2.7419e-02 -8.5227e-03 -1.1415e-01  8.1134e-02\n",
      " -1.7228e-01  1.9142e-01  2.6514e-02  4.3789e-02 -1.2399e-01  1.3354e-01\n",
      "  1.0112e-01  8.1682e-02 -1.5085e-01  7.5806e-03 -1.8971e-01  2.4669e-01\n",
      "  2.2491e-01  3.5553e-01 -3.2770e-01 -2.1821e-01  1.4020e-01  2.8604e-01\n",
      "  5.5226e-02 -8.6544e-02  2.1110e-02 -1.9236e-01  7.4245e-02  7.6782e-02\n",
      "  8.1666e-04  3.4097e-02 -5.7719e-01  1.0657e-01  2.8134e-01 -1.1964e-01\n",
      " -6.8281e-01 -3.2893e-01 -2.4442e-01 -2.5847e-02  9.1273e-03  2.0250e-01\n",
      " -5.0959e-02 -1.1042e-01  1.0962e-02  7.6773e-02  4.0048e-01 -4.0739e-01\n",
      " -4.4773e-01  3.1954e-01 -3.6326e-02 -1.2789e-02 -1.7282e-01  1.4760e-01\n",
      "  2.3560e-01  8.0642e-02 -3.6528e-01 -8.3443e-03  6.2390e-01 -2.4379e-01\n",
      "  1.9917e-02 -2.8803e-01 -1.0494e-02  3.8412e-02 -1.1718e-01 -7.2462e-02\n",
      "  1.6381e-01  3.8488e-01 -2.9783e-02  2.3444e-01  4.5320e-01  1.4815e-01\n",
      " -2.7021e-02 -7.3181e-02 -1.1470e-01 -5.4545e-03  4.7796e-01  9.0912e-02\n",
      "  9.4489e-02 -3.6882e-01 -5.9396e-01 -9.7729e-02  2.0072e-01  1.7055e-01\n",
      " -4.7356e-03 -3.9709e-02  3.2498e-01 -2.3452e-02  1.2302e-01  3.3120e-01]\n",
      "PEACE [-0.014716   0.2794    -0.096438   0.1616     0.17271   -0.59026\n",
      " -0.59679   -0.12215   -0.22401    2.8973    -0.055058  -0.32255\n",
      " -0.029401  -0.20335   -0.37394   -0.09897   -0.14174    0.5651\n",
      " -0.47123    0.7261    -0.086446   0.4071     0.29562    0.045698\n",
      "  0.19745   -0.44133   -0.11531    0.028713  -0.10581    0.66649\n",
      "  0.11381    0.018328  -0.62119    0.11455    0.28847   -0.58489\n",
      "  0.55691   -0.56054    0.1369     0.2428    -0.23975    0.057518\n",
      "  0.44593   -0.25867    0.17294   -0.28848   -0.24556    0.42437\n",
      " -0.47394    0.0070548 -0.082796   0.33416   -0.15516   -0.17471\n",
      "  0.12968    0.29528   -0.20562    0.25375    0.39375    0.012629\n",
      " -0.25801    0.3119    -0.050057  -0.85827    0.024528   0.043257\n",
      " -0.39264    0.32236   -0.30012   -0.39852   -0.68572   -0.11971\n",
      " -0.048069   0.13901    0.15011   -0.086798  -0.44393    0.17695\n",
      " -0.31548   -0.081752   0.18319    0.78646   -0.13198    0.18251\n",
      " -0.31804   -0.29963   -0.21199   -0.71822    0.31462   -0.073806\n",
      "  0.14282   -0.0085753  0.14633    0.53526   -0.41879   -0.16252\n",
      " -0.057211  -0.42574   -0.068578  -0.27221    0.12511    0.26176\n",
      " -0.09889    0.041639   0.17496   -1.1043     0.2178     0.40255\n",
      " -0.13674    0.7526    -0.10259    0.42975    0.016931  -0.21545\n",
      "  0.21933   -0.309      0.39893    0.10175   -0.14342   -0.55082\n",
      " -0.045923  -0.14856    0.10413    0.66591    0.55528   -0.050838\n",
      "  0.21286    0.45855    0.061561  -0.0479     0.33202   -0.36851\n",
      " -0.22879   -0.29761   -0.57258    0.70371    0.23554    0.23485\n",
      " -0.078221   0.30687   -1.6844     0.19864    0.22522   -0.22109\n",
      "  0.15309   -0.059626   0.14284    0.65932   -0.62836   -0.63014\n",
      " -0.54095    0.18608    0.55213    0.13496   -0.27326    0.38498\n",
      "  0.23379   -0.11362   -0.60688    0.12294    0.35166    0.51759\n",
      " -0.0057761  0.35001    0.25765   -0.19957    0.32754   -0.65329\n",
      " -0.22867    0.032656   0.035811   0.42813    0.69736    0.2985\n",
      "  0.6508     0.27919   -0.41388   -0.12305   -0.20174   -0.89183\n",
      "  0.070363  -0.36709   -0.1201     0.047685  -0.059094  -0.15738\n",
      " -0.18022   -0.68502    0.055091  -0.044861  -0.34008   -0.056081\n",
      " -0.30614    0.067476   0.27952    0.36357    0.17787   -0.63746\n",
      "  0.17007    0.35229   -0.050125   0.75147    0.25413    0.084079\n",
      "  0.42873   -0.38924   -0.074776   0.15784   -0.34768   -0.50269\n",
      "  0.20158    0.33824    0.49438    0.51569    0.53694   -0.42408\n",
      " -0.20352    0.085978   0.32531    0.106      0.10957   -0.15213\n",
      "  0.14894    0.284      0.30529    0.316      0.064293   0.17293\n",
      " -0.43271    0.11692    0.21133    0.17849   -0.5106     0.068557\n",
      "  0.33222    0.038213  -0.16322   -0.064862  -0.79333   -0.23737\n",
      " -0.23925   -0.18727    0.14757   -0.17552    0.28386    0.16219\n",
      "  0.13075   -0.30017    0.13918   -0.70285   -0.011252   0.12021\n",
      "  0.066118   0.22796   -0.39298    0.41646    0.19903   -0.2579\n",
      " -0.45508   -0.0093336 -0.25794    0.011347   0.13414    0.48989\n",
      " -0.32699   -0.9491     0.048245   0.15742    0.052601  -0.28401\n",
      "  0.060441   0.16467   -0.59954    0.18568    0.058485   0.54893\n",
      "  0.58411    0.39058   -0.041051   0.34735    0.35524   -0.73799\n",
      "  0.0489    -0.20526    0.082013   0.14447   -0.24265    0.80515\n",
      " -0.046803  -0.18536    0.036163   0.34756    0.063999  -0.1138\n",
      "  0.17273   -0.092405   0.25978    0.26872   -0.0281     0.39567  ]\n",
      "\r\n",
      "\r\n",
      "\r\n",
      " [0. 0. 0. 0. 0. 0. 0. 0. 0. 0. 0. 0. 0. 0. 0. 0. 0. 0. 0. 0. 0. 0. 0. 0.\n",
      " 0. 0. 0. 0. 0. 0. 0. 0. 0. 0. 0. 0. 0. 0. 0. 0. 0. 0. 0. 0. 0. 0. 0. 0.\n",
      " 0. 0. 0. 0. 0. 0. 0. 0. 0. 0. 0. 0. 0. 0. 0. 0. 0. 0. 0. 0. 0. 0. 0. 0.\n",
      " 0. 0. 0. 0. 0. 0. 0. 0. 0. 0. 0. 0. 0. 0. 0. 0. 0. 0. 0. 0. 0. 0. 0. 0.\n",
      " 0. 0. 0. 0. 0. 0. 0. 0. 0. 0. 0. 0. 0. 0. 0. 0. 0. 0. 0. 0. 0. 0. 0. 0.\n",
      " 0. 0. 0. 0. 0. 0. 0. 0. 0. 0. 0. 0. 0. 0. 0. 0. 0. 0. 0. 0. 0. 0. 0. 0.\n",
      " 0. 0. 0. 0. 0. 0. 0. 0. 0. 0. 0. 0. 0. 0. 0. 0. 0. 0. 0. 0. 0. 0. 0. 0.\n",
      " 0. 0. 0. 0. 0. 0. 0. 0. 0. 0. 0. 0. 0. 0. 0. 0. 0. 0. 0. 0. 0. 0. 0. 0.\n",
      " 0. 0. 0. 0. 0. 0. 0. 0. 0. 0. 0. 0. 0. 0. 0. 0. 0. 0. 0. 0. 0. 0. 0. 0.\n",
      " 0. 0. 0. 0. 0. 0. 0. 0. 0. 0. 0. 0. 0. 0. 0. 0. 0. 0. 0. 0. 0. 0. 0. 0.\n",
      " 0. 0. 0. 0. 0. 0. 0. 0. 0. 0. 0. 0. 0. 0. 0. 0. 0. 0. 0. 0. 0. 0. 0. 0.\n",
      " 0. 0. 0. 0. 0. 0. 0. 0. 0. 0. 0. 0. 0. 0. 0. 0. 0. 0. 0. 0. 0. 0. 0. 0.\n",
      " 0. 0. 0. 0. 0. 0. 0. 0. 0. 0. 0. 0.]\n",
      "By [-1.5552e-01 -3.3723e-01 -9.7191e-02 -2.1617e-01 -3.0091e-01 -1.4825e-02\n",
      " -5.5501e-02 -2.8312e-02 -6.4854e-01  1.8930e+00 -5.6772e-02  1.7062e-01\n",
      " -6.3128e-01  3.9063e-02 -4.9355e-01 -6.7845e-01  1.7266e-01  1.1700e+00\n",
      " -4.3622e-02 -4.4675e-02 -5.6084e-02 -7.2703e-01 -1.0162e-01  4.3005e-01\n",
      "  1.4374e-01 -7.4174e-02 -3.3236e-01  2.8842e-01 -1.1704e-01  1.0521e-01\n",
      "  9.9627e-02  3.3434e-01 -5.4069e-01 -7.3547e-02 -7.7814e-02  3.2505e-02\n",
      " -9.3332e-04  3.5300e-01  1.8943e-01 -4.0841e-01  2.7317e-01 -1.0900e-01\n",
      " -9.9640e-03  1.0401e-01  1.0594e-01  7.6474e-02 -1.4849e-01  4.7987e-02\n",
      "  1.0360e-01 -4.6399e-02  1.5671e-01  2.1278e-01 -3.8093e-01 -9.3375e-02\n",
      " -3.8804e-01 -1.7406e-01 -3.2507e-02  1.4314e-02  1.9920e-01 -6.6915e-02\n",
      " -1.0672e-01  2.1585e-01 -6.2164e-01  3.5906e-03 -2.1094e-01  3.7030e-02\n",
      "  3.3731e-01 -7.7223e-02 -5.9763e-02 -4.3963e-01  3.1009e-01 -2.2205e-01\n",
      "  5.8459e-02  1.9276e-01  6.1255e-01 -9.5163e-01  5.3651e-01 -4.0198e-01\n",
      " -2.9058e-01  4.7020e-02  5.5323e-01  2.5048e-01 -5.1333e-01 -5.1200e-01\n",
      "  4.1632e-02 -3.7089e-01 -4.3145e-02 -1.1550e-01 -3.7281e-01  4.7959e-01\n",
      " -4.1738e-02  1.0756e-01 -1.5585e-02  5.5004e-02 -7.4831e-01 -6.2378e-01\n",
      "  2.5061e-01  2.3813e-01  1.9009e-01  2.0510e-02  4.2893e-02 -4.4668e-02\n",
      " -8.2635e-02  6.1100e-02 -6.3611e-01  3.2051e-01 -3.2208e-01 -3.2733e-01\n",
      " -1.1604e-01 -1.4944e-01 -3.0088e-01 -9.8356e-01  4.4567e-01 -1.8604e-01\n",
      " -5.6057e-01 -1.6285e-02 -7.9768e-01  1.2988e-01  3.4309e-01  4.5699e-01\n",
      "  1.8310e-01  4.0823e-01  3.2532e-01 -2.9476e-01  1.3965e-01 -2.5233e-01\n",
      "  7.0025e-02  4.4390e-01 -3.0783e-01  2.5258e-01 -6.4103e-01 -3.1084e-01\n",
      " -2.5237e-01 -2.0172e-01 -2.4098e-01 -2.2921e-01  1.6251e-01  3.5055e-01\n",
      "  8.1263e-02 -3.6493e-01 -5.6064e-01  1.7065e-01 -7.9262e-01 -1.6579e-01\n",
      " -7.8940e-02  1.7060e-01  4.0030e-01 -4.9483e-01 -3.2587e-01 -2.1023e-02\n",
      "  6.2825e-02  4.8781e-02  4.5991e-02 -5.4911e-01 -9.7007e-02  5.9897e-01\n",
      " -5.5677e-01 -1.3266e-03 -7.4376e-01  4.6287e-01  1.9096e-01  1.8797e-01\n",
      "  8.3357e-02 -4.1224e-01 -2.1765e-01  6.1719e-01  4.1073e-01  2.5436e-01\n",
      " -1.2414e-01  7.8578e-02 -3.0551e-02 -4.8284e-01  8.6345e-02  3.0545e-01\n",
      "  2.6693e-01 -1.0942e-01 -1.5056e-01  2.2011e-01  2.1464e-01  3.8590e-01\n",
      "  1.5365e-01  1.3347e-01 -2.6624e-02 -3.2004e-01 -4.2735e-01  9.5854e-02\n",
      "  1.3118e-01  8.8173e-01  5.2876e-01  3.5028e-02 -1.8786e-01  1.9844e-01\n",
      "  1.5396e-01  1.6173e-01 -3.0826e-01  4.5861e-01 -8.1368e-02  6.3976e-01\n",
      " -8.4613e-02  3.1904e-01 -2.5390e-01  1.4060e-01 -2.4869e-01 -1.1641e-01\n",
      " -1.8125e-02  2.0463e-02  1.2974e-01  1.1797e-01  2.9184e-01  1.0107e-01\n",
      " -1.7047e-01 -9.8261e-02 -2.9903e-01 -2.4117e-01  2.0546e-01  2.8265e-01\n",
      "  3.5235e-01 -1.6862e-01 -6.2493e-02  9.2172e-01 -1.1347e-01  6.2982e-02\n",
      " -9.6798e-02  4.8641e-01  3.6459e-01  1.7806e-01  2.8393e-02  2.0372e-01\n",
      "  3.9240e-01  2.3698e-02 -2.7612e-01  3.2142e-01 -2.2305e-01  6.4924e-02\n",
      "  6.5446e-02 -5.8874e-02 -6.8568e-02 -3.7992e-02 -2.3470e-01 -4.0917e-01\n",
      "  1.3658e-01  1.1062e-01  8.5836e-02  2.4299e-01 -8.6981e-03 -7.6380e-01\n",
      "  4.2889e-01 -4.7229e-01 -2.5401e-01 -1.8189e-01 -1.2111e-01  5.4179e-01\n",
      " -6.4063e-01  1.8879e-01  3.0521e-01  7.5312e-01  2.8471e-01 -2.9200e-01\n",
      "  2.0645e-01  6.3041e-02 -8.1024e-02  7.0240e-02 -4.8189e-01  4.9689e-01\n",
      " -8.3361e-02 -2.9497e-01  6.2981e-01  2.1937e-01  3.2334e-01 -3.1465e-01\n",
      "  1.1638e-01 -1.4418e-01 -2.6166e-01 -3.8820e-01  8.4871e-02 -2.0341e-01\n",
      " -7.4558e-02 -7.6230e-01  4.5314e-01  7.3782e-02 -3.0277e-02  2.8435e-02\n",
      "  5.4771e-02  2.5206e-02  4.9895e-02 -2.3581e-01  2.5715e-01 -1.0573e-01\n",
      "  5.2171e-01 -9.8388e-02 -2.0208e-01  2.4282e-01  5.0489e-01  4.2344e-01\n",
      "  4.7595e-02 -5.8269e-02 -2.0867e-01 -5.1586e-02  6.2448e-02  5.7837e-01]\n",
      "Leo [ 4.1103e-01  2.0732e-01 -1.7257e-01  2.5616e-01  2.1876e-01  4.9389e-01\n",
      "  2.2274e-01 -3.2901e-01  2.8799e-01 -2.5153e-01 -3.6264e-01 -2.8932e-01\n",
      " -3.2300e-02 -4.5174e-01 -3.7397e-01  3.6149e-01 -2.2170e-01  2.2951e-01\n",
      " -1.3235e-01  2.8923e-01  1.9473e-01 -1.0140e-01 -1.3880e-03 -5.5313e-01\n",
      "  1.7477e-01 -1.7659e-01 -7.3449e-01  1.3915e-01  6.4239e-01  3.9652e-01\n",
      "  2.9718e-01  1.5476e-01  2.8058e-01 -1.9083e-01 -5.9261e-01  4.3604e-01\n",
      "  2.2869e-02 -7.0302e-01 -2.3829e-01 -1.4044e-01  6.6364e-02  1.1838e-01\n",
      "  1.2832e-01  5.4876e-01  2.2597e-01 -1.8027e-01 -5.7261e-01 -1.7237e-01\n",
      " -8.3713e-02 -3.9319e-01  2.8407e-01 -7.6177e-02  7.2148e-01 -4.2743e-01\n",
      "  1.5734e-01  2.8473e-01 -1.4204e-01  2.7399e-01 -2.1965e-01 -3.3447e-01\n",
      "  1.4493e-01 -5.9568e-02 -3.6869e-01 -1.4055e-01  2.9370e-03 -1.4379e-01\n",
      " -4.2702e-01  3.8948e-01 -2.2372e-01 -2.8386e-01 -4.7730e-01 -5.4871e-01\n",
      "  2.9580e-01 -3.3067e-01 -1.0710e-01 -2.4839e-01 -2.4459e-01 -3.2234e-01\n",
      "  1.0741e-01  1.6976e-01 -2.0923e-01  5.0850e-01  9.8366e-02  9.0291e-01\n",
      " -4.7530e-01 -3.0840e-01  1.1050e+00 -5.4254e-01  1.1027e-02 -1.1998e-01\n",
      " -4.7928e-01 -6.3297e-01  2.6786e-01 -7.5525e-01  3.7010e-01  3.5239e-02\n",
      "  2.5141e-02  5.4526e-03 -3.9939e-01 -1.8950e-02  2.0131e-01  2.0366e-01\n",
      "  4.1972e-01  5.0027e-01 -3.7766e-01 -8.5181e-01 -2.1118e-01 -5.5172e-01\n",
      " -6.0297e-02 -1.4005e-01 -1.7782e-01 -4.6289e-02 -2.3656e-01 -4.2626e-01\n",
      "  1.7619e-01 -6.5193e-02  3.5306e-01  8.0496e-02 -4.4924e-02  2.6372e-01\n",
      " -7.1996e-02  2.0446e-01  3.7923e-01 -5.1170e-02 -1.7487e-01  1.5737e-02\n",
      " -4.2332e-02  2.3217e-01 -2.4592e-01 -3.7934e-01 -5.2612e-01 -7.6283e-01\n",
      " -1.1371e-01 -3.8272e-01 -4.0122e-01  9.5289e-02 -3.2943e-01 -1.1345e-01\n",
      " -7.5629e-01 -3.5097e-01 -1.7678e+00 -3.2032e-01 -8.8604e-02  1.0641e-01\n",
      " -2.5187e-01  5.1145e-01  4.5467e-01  3.6690e-01  1.0461e-01 -4.1738e-01\n",
      "  5.0948e-03 -2.2672e-01  3.7382e-01 -6.9857e-02  3.9161e-03  1.3240e-01\n",
      " -2.8048e-01 -2.0818e-01  2.5125e-01 -3.6658e-02  5.0448e-01 -2.5678e-01\n",
      " -4.0008e-01  7.5183e-02  4.3782e-01  2.1701e-01  3.7797e-02  3.7799e-01\n",
      " -4.4674e-01  1.6993e-01 -3.3055e-01  5.5698e-01  2.2142e-01 -5.3674e-01\n",
      " -3.8128e-01 -2.3060e-01  5.2890e-02 -2.6809e-01  7.9776e-02  8.0160e-01\n",
      "  5.4449e-01 -6.1818e-02 -1.1237e-01 -2.7480e-01 -9.0882e-02 -2.0311e-01\n",
      " -7.5858e-01  1.5276e-01  6.0186e-02 -5.6306e-01 -8.5612e-02 -4.2260e-01\n",
      " -4.9788e-01  6.3720e-02  3.9564e-01  1.0774e-01 -1.5819e-01 -5.5598e-02\n",
      "  3.1374e-01  8.8862e-02 -1.6778e-01  1.5017e-01  1.4132e-01  4.9157e-01\n",
      " -2.9311e-01  6.2066e-02  1.3316e-03 -2.0738e-01 -5.8069e-01  8.7174e-02\n",
      "  8.0707e-02  5.0283e-01  2.6429e-01  1.4555e-01 -1.3830e-01 -2.2629e-01\n",
      " -3.9810e-01 -7.8440e-02  3.4170e-01 -1.1960e-01 -3.5763e-02  2.0008e-02\n",
      " -2.5238e-02 -5.3687e-01  3.5899e-01  4.3584e-01 -2.9006e-01  3.4495e-01\n",
      "  3.8640e-01 -1.8306e-01 -7.5770e-01 -8.4672e-03 -3.9722e-01 -1.4341e-01\n",
      " -1.3069e-01  1.7211e-01 -4.0716e-01 -7.0686e-02 -1.3208e-01 -2.1911e-01\n",
      " -1.6184e-01 -5.3007e-01  1.0362e-01  1.0041e-01 -9.4226e-02 -2.8175e-01\n",
      "  3.6030e-01  5.9330e-01  2.7893e-01  2.0973e-01  1.8941e-01  2.1507e-01\n",
      " -4.8438e-01  1.0685e-01  2.8747e-01 -8.7751e-02 -6.4380e-02 -3.4010e-01\n",
      " -3.3953e-01 -8.9142e-01  3.1114e-01  4.1254e-01 -7.9645e-01  2.6918e-01\n",
      " -3.7946e-01 -4.0393e-01 -1.3843e-01  1.5431e-02 -7.4559e-01  2.7813e-01\n",
      " -5.7279e-01  3.3720e-01 -1.5482e-02  9.2411e-01  2.9538e-01 -2.5119e-01\n",
      " -2.0484e-02 -7.9918e-01 -3.5557e-01  7.3866e-02 -1.8505e-01 -5.5056e-02\n",
      "  2.8841e-02 -7.6315e-03  8.4886e-01 -4.1353e-01 -1.0031e-01 -2.2754e-01\n",
      " -3.0078e-01  1.3538e-01  3.0278e-01 -1.2054e-01 -4.2811e-01  3.4780e-01\n",
      "  1.4137e-01  4.0123e-01  4.6373e-01  5.0183e-02  5.5706e-02 -1.9838e-01]\n",
      "Tolstoy [ 2.4994e-01  5.0279e-01 -1.1673e-01  3.6522e-01 -1.2891e-01  3.6887e-01\n",
      " -5.6322e-04 -2.0558e-01 -2.8959e-01 -1.0499e+00  2.8728e-02 -3.1768e-01\n",
      "  7.6422e-03 -2.7237e-02  4.1186e-02  5.0939e-01  2.0484e-02 -1.0879e+00\n",
      " -5.1489e-02  1.1468e-01  3.5173e-01  3.3079e-01  4.8822e-01 -2.6668e-01\n",
      "  2.6398e-01 -1.3370e-01  1.1068e-01  1.4994e-01  1.2472e-01  7.9658e-01\n",
      "  7.3512e-02 -1.7148e-01 -1.4331e-01  2.4172e-01 -4.2520e-01  4.2702e-01\n",
      "  1.7481e-01 -6.2772e-01 -5.7275e-01  3.4680e-01  3.4598e-01  9.6247e-02\n",
      "  1.2628e-01  1.2218e-01  6.9765e-02  8.8835e-02 -1.4362e-01 -2.1699e-01\n",
      " -4.1540e-01 -6.8464e-01 -1.3640e-01 -4.1626e-02  4.6796e-01 -5.1629e-01\n",
      " -2.4456e-02 -1.5069e-02 -1.0005e-01 -2.6850e-01 -2.6919e-01 -3.6076e-01\n",
      "  5.3240e-01  1.0108e-01  1.1323e-01 -5.5319e-01  1.7673e-01  8.6490e-02\n",
      " -4.1092e-01  3.8334e-01 -2.8076e-01 -9.3751e-02 -4.1320e-01 -6.9369e-01\n",
      "  1.9006e-01  3.3194e-01 -1.1177e-02 -2.9150e-01 -6.3888e-03  2.3654e-02\n",
      "  7.5007e-02 -2.3596e-01  1.4277e-01  2.6640e-01  8.0796e-01 -1.0609e-01\n",
      " -2.4349e-01 -3.1038e-02  6.9657e-01 -8.9022e-01 -3.2291e-01 -3.3407e-01\n",
      " -5.2652e-01 -6.3183e-01 -4.0807e-01 -2.1016e-01 -8.4917e-02 -2.6417e-02\n",
      "  1.4151e-01 -6.6095e-01 -1.3886e-02 -2.8782e-01  2.5887e-01  1.6628e-01\n",
      "  4.7254e-01  2.1634e-01 -5.7847e-01 -1.3622e+00  1.3527e-01  3.3610e-03\n",
      " -4.4653e-01 -3.8833e-01  6.0701e-02  2.2213e-01 -6.1462e-02 -5.7120e-01\n",
      "  1.4526e-01 -2.5461e-01 -1.2241e-01  1.3766e-01 -2.3324e-01  1.1622e-02\n",
      "  7.2010e-02 -4.8857e-01  2.9902e-01  5.1467e-01  2.1079e-01 -6.0701e-02\n",
      " -5.1192e-01 -1.0296e-01 -4.6480e-01 -4.4276e-01 -1.2575e-01 -1.1276e+00\n",
      " -5.5290e-01  1.1900e-01 -8.3590e-01  4.4200e-01  3.9733e-01  3.2920e-02\n",
      " -8.1245e-01  8.9689e-03  1.8218e-01 -3.2646e-01 -4.3649e-01  1.3782e-01\n",
      " -2.8629e-01  4.6316e-01  7.2739e-01 -1.8331e-01  2.9228e-01  3.1376e-01\n",
      " -1.9515e-01  8.0239e-02  4.2978e-01  8.4015e-02 -4.0512e-02  2.2158e-01\n",
      "  4.2735e-01 -5.0385e-01  9.0693e-02  5.7641e-01  2.2935e-01 -4.4394e-01\n",
      " -1.5492e-02  7.3707e-01  4.7798e-01  1.7755e-01 -2.4700e-01  3.6656e-02\n",
      " -5.0518e-01 -1.2390e-01 -7.2195e-01  6.7502e-02 -1.5136e-01 -1.1832e-01\n",
      "  9.4840e-02 -1.3235e-02 -6.5512e-02 -4.7281e-01 -9.3101e-02  2.5352e-02\n",
      "  2.0491e-02 -5.9058e-01 -5.3949e-01 -2.2460e-01 -4.4992e-01  8.2933e-02\n",
      " -5.1061e-01 -2.5721e-01 -1.4946e-01 -3.7698e-01 -6.5713e-01  1.7884e-01\n",
      "  1.0563e-01  7.7892e-03  8.0940e-02  7.6773e-02  2.7845e-01 -2.2742e-02\n",
      "  4.8285e-01 -4.2108e-01  3.3473e-02 -3.9141e-01  2.9639e-02  2.0963e-02\n",
      " -3.4816e-01 -2.1815e-01  8.1860e-01 -1.1417e-01 -1.9440e-01  1.9069e-01\n",
      " -8.9156e-02  1.7086e-02  4.4300e-01 -4.9471e-01 -3.1055e-01 -7.9851e-01\n",
      "  1.0282e-01 -2.0783e-01  9.6713e-01  1.4066e-01  2.2956e-01 -1.8747e-01\n",
      "  3.3589e-01 -3.9658e-01 -1.7651e-01 -5.5610e-02 -3.6041e-01 -2.7269e-01\n",
      " -4.0929e-01 -4.7629e-01 -6.1241e-01  5.1529e-01 -4.2066e-01 -2.6854e-01\n",
      "  8.4963e-02  1.5845e-01 -9.4358e-02  3.3007e-02 -7.3987e-04 -3.2130e-01\n",
      " -1.4884e-01 -8.5134e-02 -7.4782e-01  2.2901e-01 -4.0757e-02  7.4723e-02\n",
      "  4.5158e-01  6.7575e-01  5.5946e-01  1.5202e-01 -9.8217e-03  3.0868e-01\n",
      "  4.7977e-02 -1.1264e-01  2.4506e-01 -6.3789e-01 -2.2077e-01 -2.9370e-01\n",
      " -5.3276e-01 -6.3416e-01  2.4242e-01  3.2196e-01 -7.3917e-01  2.3340e-01\n",
      "  1.5157e-01 -4.8481e-02  6.2486e-01  2.6463e-01 -7.1965e-01  9.4418e-02\n",
      " -6.0080e-02 -5.4735e-01 -2.9629e-01  5.6354e-01  8.2619e-01  9.9726e-02\n",
      "  2.7558e-01 -3.4223e-01 -1.6517e-01 -5.4887e-02 -3.3301e-01 -2.9294e-01\n",
      " -1.3814e-01 -4.8328e-02  1.6906e-01  2.6765e-01 -2.1572e-01 -2.8952e-01\n",
      " -1.5775e-01 -4.7607e-01  5.8938e-01  1.3874e-01 -1.9348e-01  1.1058e-01\n",
      "  2.5092e-01 -2.1024e-01  3.5700e-01 -7.0076e-01  2.7216e-01 -2.6629e-01]\n",
      "/ [ 1.9753e-02  5.3875e-01 -2.6584e-02  3.8046e-01  5.7504e-01  2.3986e-01\n",
      " -1.0575e-01 -7.4106e-02  3.8514e-01  2.3781e-01 -7.7562e-01 -2.7590e-01\n",
      " -5.4433e-01  2.9758e-02 -1.5609e-01  1.8183e-01 -3.9668e-01  1.8194e+00\n",
      " -3.7813e-01 -8.9211e-02 -3.7013e-01  4.8177e-01 -5.6283e-01 -2.0894e-02\n",
      "  2.0258e-01 -2.9594e-01 -9.9326e-02  2.2466e-01  3.7189e-01 -1.8065e-01\n",
      "  2.4478e-01  4.0402e-02 -1.1950e-01 -3.4641e-02  6.0426e-01  1.7316e-01\n",
      " -3.1257e-01  2.4381e-01  6.6353e-01  4.2369e-01 -5.9694e-02  4.0812e-02\n",
      "  1.7373e-01 -1.8038e-02 -2.9976e-01 -3.0533e-01 -2.4817e-01  2.2450e-01\n",
      "  2.5304e-01 -2.1551e-01  1.7454e-01 -4.2802e-01 -2.2749e-01  2.4044e-01\n",
      " -2.6193e-01 -1.0095e-01 -4.4977e-01  1.8930e-01  8.8834e-02 -4.5982e-01\n",
      " -1.5915e-01 -6.2432e-01 -1.0012e-01  4.4929e-01  8.9691e-02 -4.3063e-02\n",
      "  4.8688e-01 -4.1614e-01 -1.4428e-01  6.4684e-02 -4.5723e-03 -4.0733e-02\n",
      "  1.4424e-01  1.7374e-01  3.5252e-01  3.6374e-01 -3.4747e-01 -6.0953e-02\n",
      " -2.1428e-01 -3.3452e-01 -3.3873e-01 -1.8189e-01 -1.6330e-01 -7.7970e-02\n",
      " -1.3735e-01 -2.8923e-01 -5.6013e-02 -5.0227e-01  3.9576e-01  1.0673e-01\n",
      " -3.0413e-02  2.0009e-01  4.3360e-01 -4.6031e-01  4.4172e-02 -2.8781e-01\n",
      "  3.6977e-01 -6.0917e-02  4.6800e-01  1.1619e-01 -5.9204e-01  2.5179e-01\n",
      "  3.2194e-01 -6.6609e-02  3.6181e-01  1.9032e+00  1.8981e-01 -2.2169e-01\n",
      "  4.1588e-01  1.9683e-01  6.5398e-02 -4.9581e-01  2.9199e-01 -1.9328e-01\n",
      " -3.1032e-01  8.8458e-02  3.8028e-01 -8.6745e-02  2.8242e-01 -1.2009e-01\n",
      " -2.6109e-02 -3.6613e-01 -3.8756e-01 -2.2794e-01 -3.1180e-01 -1.2475e-01\n",
      " -8.8667e-02 -3.5498e-01  2.7516e-01 -4.2530e-01 -5.7480e-01  6.4795e-02\n",
      " -2.1072e-01  3.4911e-01  1.5807e-01  2.0183e-01  1.4230e-01 -4.1492e-01\n",
      "  6.7979e-02  3.7467e-01 -3.5834e-01 -3.3314e-03 -7.2615e-02 -1.8545e-01\n",
      "  1.1619e-01 -1.0267e-01 -1.6783e-02  2.6150e-02 -2.8693e-01 -1.2104e-01\n",
      "  1.6845e-01  1.9566e-01 -6.5373e-02  1.7819e-01  2.1941e-02  1.4112e-01\n",
      " -5.8015e-01 -6.6191e-02  8.3086e-01  1.1657e-01  4.0998e-01 -6.9846e-02\n",
      "  2.0721e-01 -6.0724e-01 -6.1726e-02  1.1567e-02 -4.2627e-01 -4.5762e-01\n",
      "  5.0317e-01  1.7524e-01 -1.6674e-01  8.6551e-01 -5.9784e-01  2.8941e-01\n",
      "  6.2253e-01  5.2780e-01 -1.4060e-01 -5.7531e-02  5.0170e-01 -7.2147e-01\n",
      " -2.3930e-01  1.0654e-03 -2.6001e-04 -1.2555e-01 -1.9793e-02  5.8194e-01\n",
      " -5.2858e-01  3.1601e-01 -1.8769e-01 -5.9430e-02 -5.2686e-01  2.6455e-01\n",
      "  2.4118e-01 -1.3682e-01  3.4259e-01  6.3629e-02  9.4904e-02 -4.8682e-01\n",
      " -3.2799e-02 -1.1090e-01  1.1619e-01 -2.6439e-01 -1.5514e-01  2.4366e-01\n",
      "  2.1011e-01  7.0600e-02  1.1814e-01 -1.3727e-01 -2.1012e-02 -3.0781e-01\n",
      "  1.3316e-01 -2.8421e-01  4.5436e-01 -2.4344e-01  3.3595e-01 -8.1840e-02\n",
      " -2.4875e-01 -5.1890e-02 -2.3558e-01  2.1247e-01 -3.0240e-01  3.4903e-02\n",
      "  3.9087e-01  1.4526e-02 -3.1839e-01  1.6676e-01  2.8689e-01 -8.6583e-02\n",
      "  4.4904e-01  4.3115e-02 -2.5480e-01 -1.2301e-01  2.6195e-02  1.4034e-01\n",
      "  2.4243e-01 -5.1403e-01  5.6930e-02 -6.8429e-01 -2.5791e-01  9.6562e-02\n",
      " -2.9575e-01 -2.2933e-02 -1.3568e-01 -1.3464e-01  3.7998e-01  1.8050e-01\n",
      "  1.6373e-02 -5.4296e-01 -3.0683e-02  1.7943e-01 -1.8366e-02  2.3892e-01\n",
      "  7.2408e-02 -9.2337e-01 -3.7908e-01  1.3518e-01 -3.9625e-01 -6.3278e-01\n",
      " -2.0898e-01  9.7352e-02 -4.4028e-01  6.2326e-01  2.4798e-01 -1.0575e-01\n",
      "  3.3279e-01 -1.6363e-01 -4.4192e-01 -1.8685e-01  5.2576e-01  2.7390e-02\n",
      " -1.5169e-03  1.9810e-01  2.7696e-01  2.0457e-01  9.2158e-02 -4.5474e-03\n",
      "  2.2162e-01  3.6276e-01 -2.6051e-01 -1.2777e-01  4.3707e-02 -2.8119e-01\n",
      "  4.9275e-01  2.5151e-01  2.6396e-01  4.0001e-02 -2.2159e-01 -2.9165e-01\n",
      "  5.9202e-01  2.5528e-01 -1.3784e-02 -5.3969e-02  1.4581e-01  2.5417e-01\n",
      " -8.2441e-02  6.0801e-01  2.7594e-01  3.4517e-02  1.4666e-01  1.0415e-01]\n",
      "Tolstoi [0. 0. 0. 0. 0. 0. 0. 0. 0. 0. 0. 0. 0. 0. 0. 0. 0. 0. 0. 0. 0. 0. 0. 0.\n",
      " 0. 0. 0. 0. 0. 0. 0. 0. 0. 0. 0. 0. 0. 0. 0. 0. 0. 0. 0. 0. 0. 0. 0. 0.\n",
      " 0. 0. 0. 0. 0. 0. 0. 0. 0. 0. 0. 0. 0. 0. 0. 0. 0. 0. 0. 0. 0. 0. 0. 0.\n",
      " 0. 0. 0. 0. 0. 0. 0. 0. 0. 0. 0. 0. 0. 0. 0. 0. 0. 0. 0. 0. 0. 0. 0. 0.\n",
      " 0. 0. 0. 0. 0. 0. 0. 0. 0. 0. 0. 0. 0. 0. 0. 0. 0. 0. 0. 0. 0. 0. 0. 0.\n",
      " 0. 0. 0. 0. 0. 0. 0. 0. 0. 0. 0. 0. 0. 0. 0. 0. 0. 0. 0. 0. 0. 0. 0. 0.\n",
      " 0. 0. 0. 0. 0. 0. 0. 0. 0. 0. 0. 0. 0. 0. 0. 0. 0. 0. 0. 0. 0. 0. 0. 0.\n",
      " 0. 0. 0. 0. 0. 0. 0. 0. 0. 0. 0. 0. 0. 0. 0. 0. 0. 0. 0. 0. 0. 0. 0. 0.\n",
      " 0. 0. 0. 0. 0. 0. 0. 0. 0. 0. 0. 0. 0. 0. 0. 0. 0. 0. 0. 0. 0. 0. 0. 0.\n",
      " 0. 0. 0. 0. 0. 0. 0. 0. 0. 0. 0. 0. 0. 0. 0. 0. 0. 0. 0. 0. 0. 0. 0. 0.\n",
      " 0. 0. 0. 0. 0. 0. 0. 0. 0. 0. 0. 0. 0. 0. 0. 0. 0. 0. 0. 0. 0. 0. 0. 0.\n",
      " 0. 0. 0. 0. 0. 0. 0. 0. 0. 0. 0. 0. 0. 0. 0. 0. 0. 0. 0. 0. 0. 0. 0. 0.\n",
      " 0. 0. 0. 0. 0. 0. 0. 0. 0. 0. 0. 0.]\n"
     ]
    }
   ],
   "source": [
    "for word in processed_text[:10]:\n",
    "    print(word.text, word.vector)"
   ]
  },
  {
   "cell_type": "markdown",
   "id": "4efd500f",
   "metadata": {},
   "source": [
    "## TFIDF vectors"
   ]
  },
  {
   "cell_type": "code",
   "execution_count": 25,
   "id": "919e7316",
   "metadata": {},
   "outputs": [],
   "source": [
    "from sklearn.datasets import fetch_20newsgroups\n",
    "\n",
    "newsgroups_train = fetch_20newsgroups(remove=('headers', 'footers'))"
   ]
  },
  {
   "cell_type": "code",
   "execution_count": 26,
   "id": "14e76398",
   "metadata": {},
   "outputs": [
    {
     "data": {
      "text/plain": [
       "dict_keys(['data', 'filenames', 'target_names', 'target', 'DESCR'])"
      ]
     },
     "execution_count": 26,
     "metadata": {},
     "output_type": "execute_result"
    }
   ],
   "source": [
    "newsgroups_train.keys()"
   ]
  },
  {
   "cell_type": "code",
   "execution_count": 27,
   "id": "9e999937",
   "metadata": {},
   "outputs": [],
   "source": [
    "from sklearn.feature_extraction.text import TfidfVectorizer\n",
    "\n",
    "tfidf_vectorizer = TfidfVectorizer()\n",
    "ng_train_tfidf = tfidf_vectorizer.fit_transform(newsgroups_train['data'])"
   ]
  },
  {
   "cell_type": "code",
   "execution_count": 28,
   "id": "13f5ad70",
   "metadata": {},
   "outputs": [
    {
     "data": {
      "text/plain": [
       "(11314, 114751)"
      ]
     },
     "execution_count": 28,
     "metadata": {},
     "output_type": "execute_result"
    }
   ],
   "source": [
    "ng_train_tfidf.shape"
   ]
  },
  {
   "cell_type": "code",
   "execution_count": 29,
   "id": "85175f09",
   "metadata": {},
   "outputs": [
    {
     "data": {
      "text/plain": [
       "11314"
      ]
     },
     "execution_count": 29,
     "metadata": {},
     "output_type": "execute_result"
    }
   ],
   "source": [
    "len(newsgroups_train['data'])"
   ]
  },
  {
   "cell_type": "code",
   "execution_count": 30,
   "id": "7d176b46",
   "metadata": {},
   "outputs": [
    {
     "data": {
      "text/plain": [
       "1.0"
      ]
     },
     "execution_count": 30,
     "metadata": {},
     "output_type": "execute_result"
    }
   ],
   "source": [
    "ng_train_tfidf.max()"
   ]
  },
  {
   "cell_type": "code",
   "execution_count": 31,
   "id": "12463b4f",
   "metadata": {},
   "outputs": [
    {
     "data": {
      "text/plain": [
       "dict_keys(['data', 'filenames', 'target_names', 'target', 'DESCR'])"
      ]
     },
     "execution_count": 31,
     "metadata": {},
     "output_type": "execute_result"
    }
   ],
   "source": [
    "newsgroups_train.keys()"
   ]
  },
  {
   "cell_type": "code",
   "execution_count": 32,
   "id": "f2c64052",
   "metadata": {},
   "outputs": [
    {
     "data": {
      "application/vnd.jupyter.widget-view+json": {
       "model_id": "0f2d0ea1ffb74b909d681dedbf3de5ab",
       "version_major": 2,
       "version_minor": 0
      },
      "text/plain": [
       "Pandas Apply:   0%|          | 0/11314 [00:00<?, ?it/s]"
      ]
     },
     "metadata": {},
     "output_type": "display_data"
    }
   ],
   "source": [
    "import pandas as pd\n",
    "import swifter\n",
    "\n",
    "ng_train_df = pd.DataFrame({'text': newsgroups_train['data'],\n",
    "                            'label': newsgroups_train['target']})\n",
    "ng_train_df['text'] = ng_train_df['text'].swifter.apply(clean_text_spacy)\n",
    "\n",
    "tfidf_vectorizer = TfidfVectorizer(min_df=10, max_df=0.9)\n",
    "ng_train_tfidf = tfidf_vectorizer.fit_transform(ng_train_df['text'])"
   ]
  },
  {
   "cell_type": "markdown",
   "id": "d14bd68d",
   "metadata": {},
   "source": [
    "# Basic text analysis"
   ]
  },
  {
   "cell_type": "code",
   "execution_count": 33,
   "id": "ca1bb62b",
   "metadata": {},
   "outputs": [
    {
     "data": {
      "text/html": [
       "<style type=\"text/css\">\n",
       "</style>\n",
       "<table id=\"T_7a4ab_\">\n",
       "  <thead>\n",
       "    <tr>\n",
       "      <th class=\"col_heading level0 col0\" >Description</th>\n",
       "      <th class=\"col_heading level0 col1\" >Value</th>\n",
       "    </tr>\n",
       "  </thead>\n",
       "  <tbody>\n",
       "    <tr>\n",
       "      <td id=\"T_7a4ab_row0_col0\" class=\"data row0 col0\" >session_id</td>\n",
       "      <td id=\"T_7a4ab_row0_col1\" class=\"data row0 col1\" >7608</td>\n",
       "    </tr>\n",
       "    <tr>\n",
       "      <td id=\"T_7a4ab_row1_col0\" class=\"data row1 col0\" >Documents</td>\n",
       "      <td id=\"T_7a4ab_row1_col1\" class=\"data row1 col1\" >11314</td>\n",
       "    </tr>\n",
       "    <tr>\n",
       "      <td id=\"T_7a4ab_row2_col0\" class=\"data row2 col0\" >Vocab Size</td>\n",
       "      <td id=\"T_7a4ab_row2_col1\" class=\"data row2 col1\" >40619</td>\n",
       "    </tr>\n",
       "    <tr>\n",
       "      <td id=\"T_7a4ab_row3_col0\" class=\"data row3 col0\" >Custom Stopwords</td>\n",
       "      <td id=\"T_7a4ab_row3_col1\" class=\"data row3 col1\" >True</td>\n",
       "    </tr>\n",
       "  </tbody>\n",
       "</table>\n"
      ],
      "text/plain": [
       "<pandas.io.formats.style.Styler at 0x1c157092bb0>"
      ]
     },
     "metadata": {},
     "output_type": "display_data"
    },
    {
     "data": {
      "text/html": [
       "        <script type=\"text/javascript\">\n",
       "        window.PlotlyConfig = {MathJaxConfig: 'local'};\n",
       "        if (window.MathJax) {MathJax.Hub.Config({SVG: {font: \"STIX-Web\"}});}\n",
       "        if (typeof require !== 'undefined') {\n",
       "        require.undef(\"plotly\");\n",
       "        requirejs.config({\n",
       "            paths: {\n",
       "                'plotly': ['https://cdn.plot.ly/plotly-2.4.2.min']\n",
       "            }\n",
       "        });\n",
       "        require(['plotly'], function(Plotly) {\n",
       "            window._Plotly = Plotly;\n",
       "        });\n",
       "        }\n",
       "        </script>\n",
       "        "
      ]
     },
     "metadata": {},
     "output_type": "display_data"
    },
    {
     "data": {
      "application/vnd.plotly.v1+json": {
       "config": {
        "linkText": "Export to plot.ly",
        "plotlyServerURL": "https://plot.ly",
        "showLink": true
       },
       "data": [
        {
         "marker": {
          "color": "rgba(255, 153, 51, 0.6)",
          "line": {
           "color": "rgba(255, 153, 51, 1.0)",
           "width": 1
          }
         },
         "name": "count",
         "orientation": "v",
         "text": "",
         "type": "bar",
         "x": [
          "would",
          "use",
          "say",
          "know",
          "people",
          "make",
          "think",
          "get",
          "go",
          "may",
          "time",
          "see",
          "also",
          "good",
          "well",
          "take",
          "could",
          "work",
          "want",
          "even",
          "come",
          "give",
          "thing",
          "look",
          "system",
          "year",
          "problem",
          "find",
          "way",
          "much",
          "many",
          "need",
          "try",
          "right",
          "file",
          "first",
          "call",
          "tell",
          "new",
          "article",
          "run",
          "point",
          "seem",
          "question",
          "program",
          "include",
          "really",
          "believe",
          "mean",
          "number",
          "still",
          "read",
          "case",
          "post",
          "help",
          "window",
          "must",
          "start",
          "drive",
          "let",
          "government",
          "bit",
          "follow",
          "back",
          "day",
          "long",
          "never",
          "part",
          "information",
          "car",
          "line",
          "state",
          "thank",
          "ask",
          "support",
          "key",
          "send",
          "sure",
          "put",
          "set",
          "fact",
          "game",
          "however",
          "keep",
          "reason",
          "group",
          "place",
          "hear",
          "show",
          "lot",
          "law",
          "change",
          "probably",
          "little",
          "bad",
          "true",
          "name",
          "happen",
          "course",
          "base"
         ],
         "y": [
          8544,
          8446,
          6538,
          5903,
          5667,
          5471,
          5256,
          5210,
          5192,
          4523,
          4437,
          4350,
          4157,
          3979,
          3831,
          3473,
          3335,
          3321,
          3169,
          3138,
          3113,
          3026,
          3007,
          2987,
          2934,
          2885,
          2875,
          2846,
          2814,
          2770,
          2761,
          2684,
          2650,
          2569,
          2552,
          2441,
          2417,
          2259,
          2241,
          2218,
          2207,
          2198,
          2193,
          2151,
          2054,
          2019,
          2007,
          2004,
          1924,
          1912,
          1867,
          1842,
          1793,
          1777,
          1735,
          1725,
          1708,
          1698,
          1616,
          1611,
          1609,
          1605,
          1598,
          1593,
          1588,
          1586,
          1585,
          1583,
          1567,
          1552,
          1522,
          1522,
          1478,
          1470,
          1469,
          1468,
          1457,
          1457,
          1447,
          1446,
          1428,
          1417,
          1392,
          1387,
          1383,
          1347,
          1345,
          1340,
          1339,
          1335,
          1333,
          1314,
          1312,
          1309,
          1294,
          1288,
          1286,
          1284,
          1273,
          1270
         ]
        }
       ],
       "layout": {
        "legend": {
         "bgcolor": "#F5F6F9",
         "font": {
          "color": "#4D5663"
         }
        },
        "paper_bgcolor": "#F5F6F9",
        "plot_bgcolor": "#F5F6F9",
        "template": {
         "data": {
          "bar": [
           {
            "error_x": {
             "color": "#2a3f5f"
            },
            "error_y": {
             "color": "#2a3f5f"
            },
            "marker": {
             "line": {
              "color": "#E5ECF6",
              "width": 0.5
             },
             "pattern": {
              "fillmode": "overlay",
              "size": 10,
              "solidity": 0.2
             }
            },
            "type": "bar"
           }
          ],
          "barpolar": [
           {
            "marker": {
             "line": {
              "color": "#E5ECF6",
              "width": 0.5
             },
             "pattern": {
              "fillmode": "overlay",
              "size": 10,
              "solidity": 0.2
             }
            },
            "type": "barpolar"
           }
          ],
          "carpet": [
           {
            "aaxis": {
             "endlinecolor": "#2a3f5f",
             "gridcolor": "white",
             "linecolor": "white",
             "minorgridcolor": "white",
             "startlinecolor": "#2a3f5f"
            },
            "baxis": {
             "endlinecolor": "#2a3f5f",
             "gridcolor": "white",
             "linecolor": "white",
             "minorgridcolor": "white",
             "startlinecolor": "#2a3f5f"
            },
            "type": "carpet"
           }
          ],
          "choropleth": [
           {
            "colorbar": {
             "outlinewidth": 0,
             "ticks": ""
            },
            "type": "choropleth"
           }
          ],
          "contour": [
           {
            "colorbar": {
             "outlinewidth": 0,
             "ticks": ""
            },
            "colorscale": [
             [
              0,
              "#0d0887"
             ],
             [
              0.1111111111111111,
              "#46039f"
             ],
             [
              0.2222222222222222,
              "#7201a8"
             ],
             [
              0.3333333333333333,
              "#9c179e"
             ],
             [
              0.4444444444444444,
              "#bd3786"
             ],
             [
              0.5555555555555556,
              "#d8576b"
             ],
             [
              0.6666666666666666,
              "#ed7953"
             ],
             [
              0.7777777777777778,
              "#fb9f3a"
             ],
             [
              0.8888888888888888,
              "#fdca26"
             ],
             [
              1,
              "#f0f921"
             ]
            ],
            "type": "contour"
           }
          ],
          "contourcarpet": [
           {
            "colorbar": {
             "outlinewidth": 0,
             "ticks": ""
            },
            "type": "contourcarpet"
           }
          ],
          "heatmap": [
           {
            "colorbar": {
             "outlinewidth": 0,
             "ticks": ""
            },
            "colorscale": [
             [
              0,
              "#0d0887"
             ],
             [
              0.1111111111111111,
              "#46039f"
             ],
             [
              0.2222222222222222,
              "#7201a8"
             ],
             [
              0.3333333333333333,
              "#9c179e"
             ],
             [
              0.4444444444444444,
              "#bd3786"
             ],
             [
              0.5555555555555556,
              "#d8576b"
             ],
             [
              0.6666666666666666,
              "#ed7953"
             ],
             [
              0.7777777777777778,
              "#fb9f3a"
             ],
             [
              0.8888888888888888,
              "#fdca26"
             ],
             [
              1,
              "#f0f921"
             ]
            ],
            "type": "heatmap"
           }
          ],
          "heatmapgl": [
           {
            "colorbar": {
             "outlinewidth": 0,
             "ticks": ""
            },
            "colorscale": [
             [
              0,
              "#0d0887"
             ],
             [
              0.1111111111111111,
              "#46039f"
             ],
             [
              0.2222222222222222,
              "#7201a8"
             ],
             [
              0.3333333333333333,
              "#9c179e"
             ],
             [
              0.4444444444444444,
              "#bd3786"
             ],
             [
              0.5555555555555556,
              "#d8576b"
             ],
             [
              0.6666666666666666,
              "#ed7953"
             ],
             [
              0.7777777777777778,
              "#fb9f3a"
             ],
             [
              0.8888888888888888,
              "#fdca26"
             ],
             [
              1,
              "#f0f921"
             ]
            ],
            "type": "heatmapgl"
           }
          ],
          "histogram": [
           {
            "marker": {
             "pattern": {
              "fillmode": "overlay",
              "size": 10,
              "solidity": 0.2
             }
            },
            "type": "histogram"
           }
          ],
          "histogram2d": [
           {
            "colorbar": {
             "outlinewidth": 0,
             "ticks": ""
            },
            "colorscale": [
             [
              0,
              "#0d0887"
             ],
             [
              0.1111111111111111,
              "#46039f"
             ],
             [
              0.2222222222222222,
              "#7201a8"
             ],
             [
              0.3333333333333333,
              "#9c179e"
             ],
             [
              0.4444444444444444,
              "#bd3786"
             ],
             [
              0.5555555555555556,
              "#d8576b"
             ],
             [
              0.6666666666666666,
              "#ed7953"
             ],
             [
              0.7777777777777778,
              "#fb9f3a"
             ],
             [
              0.8888888888888888,
              "#fdca26"
             ],
             [
              1,
              "#f0f921"
             ]
            ],
            "type": "histogram2d"
           }
          ],
          "histogram2dcontour": [
           {
            "colorbar": {
             "outlinewidth": 0,
             "ticks": ""
            },
            "colorscale": [
             [
              0,
              "#0d0887"
             ],
             [
              0.1111111111111111,
              "#46039f"
             ],
             [
              0.2222222222222222,
              "#7201a8"
             ],
             [
              0.3333333333333333,
              "#9c179e"
             ],
             [
              0.4444444444444444,
              "#bd3786"
             ],
             [
              0.5555555555555556,
              "#d8576b"
             ],
             [
              0.6666666666666666,
              "#ed7953"
             ],
             [
              0.7777777777777778,
              "#fb9f3a"
             ],
             [
              0.8888888888888888,
              "#fdca26"
             ],
             [
              1,
              "#f0f921"
             ]
            ],
            "type": "histogram2dcontour"
           }
          ],
          "mesh3d": [
           {
            "colorbar": {
             "outlinewidth": 0,
             "ticks": ""
            },
            "type": "mesh3d"
           }
          ],
          "parcoords": [
           {
            "line": {
             "colorbar": {
              "outlinewidth": 0,
              "ticks": ""
             }
            },
            "type": "parcoords"
           }
          ],
          "pie": [
           {
            "automargin": true,
            "type": "pie"
           }
          ],
          "scatter": [
           {
            "marker": {
             "colorbar": {
              "outlinewidth": 0,
              "ticks": ""
             }
            },
            "type": "scatter"
           }
          ],
          "scatter3d": [
           {
            "line": {
             "colorbar": {
              "outlinewidth": 0,
              "ticks": ""
             }
            },
            "marker": {
             "colorbar": {
              "outlinewidth": 0,
              "ticks": ""
             }
            },
            "type": "scatter3d"
           }
          ],
          "scattercarpet": [
           {
            "marker": {
             "colorbar": {
              "outlinewidth": 0,
              "ticks": ""
             }
            },
            "type": "scattercarpet"
           }
          ],
          "scattergeo": [
           {
            "marker": {
             "colorbar": {
              "outlinewidth": 0,
              "ticks": ""
             }
            },
            "type": "scattergeo"
           }
          ],
          "scattergl": [
           {
            "marker": {
             "colorbar": {
              "outlinewidth": 0,
              "ticks": ""
             }
            },
            "type": "scattergl"
           }
          ],
          "scattermapbox": [
           {
            "marker": {
             "colorbar": {
              "outlinewidth": 0,
              "ticks": ""
             }
            },
            "type": "scattermapbox"
           }
          ],
          "scatterpolar": [
           {
            "marker": {
             "colorbar": {
              "outlinewidth": 0,
              "ticks": ""
             }
            },
            "type": "scatterpolar"
           }
          ],
          "scatterpolargl": [
           {
            "marker": {
             "colorbar": {
              "outlinewidth": 0,
              "ticks": ""
             }
            },
            "type": "scatterpolargl"
           }
          ],
          "scatterternary": [
           {
            "marker": {
             "colorbar": {
              "outlinewidth": 0,
              "ticks": ""
             }
            },
            "type": "scatterternary"
           }
          ],
          "surface": [
           {
            "colorbar": {
             "outlinewidth": 0,
             "ticks": ""
            },
            "colorscale": [
             [
              0,
              "#0d0887"
             ],
             [
              0.1111111111111111,
              "#46039f"
             ],
             [
              0.2222222222222222,
              "#7201a8"
             ],
             [
              0.3333333333333333,
              "#9c179e"
             ],
             [
              0.4444444444444444,
              "#bd3786"
             ],
             [
              0.5555555555555556,
              "#d8576b"
             ],
             [
              0.6666666666666666,
              "#ed7953"
             ],
             [
              0.7777777777777778,
              "#fb9f3a"
             ],
             [
              0.8888888888888888,
              "#fdca26"
             ],
             [
              1,
              "#f0f921"
             ]
            ],
            "type": "surface"
           }
          ],
          "table": [
           {
            "cells": {
             "fill": {
              "color": "#EBF0F8"
             },
             "line": {
              "color": "white"
             }
            },
            "header": {
             "fill": {
              "color": "#C8D4E3"
             },
             "line": {
              "color": "white"
             }
            },
            "type": "table"
           }
          ]
         },
         "layout": {
          "annotationdefaults": {
           "arrowcolor": "#2a3f5f",
           "arrowhead": 0,
           "arrowwidth": 1
          },
          "autotypenumbers": "strict",
          "coloraxis": {
           "colorbar": {
            "outlinewidth": 0,
            "ticks": ""
           }
          },
          "colorscale": {
           "diverging": [
            [
             0,
             "#8e0152"
            ],
            [
             0.1,
             "#c51b7d"
            ],
            [
             0.2,
             "#de77ae"
            ],
            [
             0.3,
             "#f1b6da"
            ],
            [
             0.4,
             "#fde0ef"
            ],
            [
             0.5,
             "#f7f7f7"
            ],
            [
             0.6,
             "#e6f5d0"
            ],
            [
             0.7,
             "#b8e186"
            ],
            [
             0.8,
             "#7fbc41"
            ],
            [
             0.9,
             "#4d9221"
            ],
            [
             1,
             "#276419"
            ]
           ],
           "sequential": [
            [
             0,
             "#0d0887"
            ],
            [
             0.1111111111111111,
             "#46039f"
            ],
            [
             0.2222222222222222,
             "#7201a8"
            ],
            [
             0.3333333333333333,
             "#9c179e"
            ],
            [
             0.4444444444444444,
             "#bd3786"
            ],
            [
             0.5555555555555556,
             "#d8576b"
            ],
            [
             0.6666666666666666,
             "#ed7953"
            ],
            [
             0.7777777777777778,
             "#fb9f3a"
            ],
            [
             0.8888888888888888,
             "#fdca26"
            ],
            [
             1,
             "#f0f921"
            ]
           ],
           "sequentialminus": [
            [
             0,
             "#0d0887"
            ],
            [
             0.1111111111111111,
             "#46039f"
            ],
            [
             0.2222222222222222,
             "#7201a8"
            ],
            [
             0.3333333333333333,
             "#9c179e"
            ],
            [
             0.4444444444444444,
             "#bd3786"
            ],
            [
             0.5555555555555556,
             "#d8576b"
            ],
            [
             0.6666666666666666,
             "#ed7953"
            ],
            [
             0.7777777777777778,
             "#fb9f3a"
            ],
            [
             0.8888888888888888,
             "#fdca26"
            ],
            [
             1,
             "#f0f921"
            ]
           ]
          },
          "colorway": [
           "#636efa",
           "#EF553B",
           "#00cc96",
           "#ab63fa",
           "#FFA15A",
           "#19d3f3",
           "#FF6692",
           "#B6E880",
           "#FF97FF",
           "#FECB52"
          ],
          "font": {
           "color": "#2a3f5f"
          },
          "geo": {
           "bgcolor": "white",
           "lakecolor": "white",
           "landcolor": "#E5ECF6",
           "showlakes": true,
           "showland": true,
           "subunitcolor": "white"
          },
          "hoverlabel": {
           "align": "left"
          },
          "hovermode": "closest",
          "mapbox": {
           "style": "light"
          },
          "paper_bgcolor": "white",
          "plot_bgcolor": "#E5ECF6",
          "polar": {
           "angularaxis": {
            "gridcolor": "white",
            "linecolor": "white",
            "ticks": ""
           },
           "bgcolor": "#E5ECF6",
           "radialaxis": {
            "gridcolor": "white",
            "linecolor": "white",
            "ticks": ""
           }
          },
          "scene": {
           "xaxis": {
            "backgroundcolor": "#E5ECF6",
            "gridcolor": "white",
            "gridwidth": 2,
            "linecolor": "white",
            "showbackground": true,
            "ticks": "",
            "zerolinecolor": "white"
           },
           "yaxis": {
            "backgroundcolor": "#E5ECF6",
            "gridcolor": "white",
            "gridwidth": 2,
            "linecolor": "white",
            "showbackground": true,
            "ticks": "",
            "zerolinecolor": "white"
           },
           "zaxis": {
            "backgroundcolor": "#E5ECF6",
            "gridcolor": "white",
            "gridwidth": 2,
            "linecolor": "white",
            "showbackground": true,
            "ticks": "",
            "zerolinecolor": "white"
           }
          },
          "shapedefaults": {
           "line": {
            "color": "#2a3f5f"
           }
          },
          "ternary": {
           "aaxis": {
            "gridcolor": "white",
            "linecolor": "white",
            "ticks": ""
           },
           "baxis": {
            "gridcolor": "white",
            "linecolor": "white",
            "ticks": ""
           },
           "bgcolor": "#E5ECF6",
           "caxis": {
            "gridcolor": "white",
            "linecolor": "white",
            "ticks": ""
           }
          },
          "title": {
           "x": 0.05
          },
          "xaxis": {
           "automargin": true,
           "gridcolor": "white",
           "linecolor": "white",
           "ticks": "",
           "title": {
            "standoff": 15
           },
           "zerolinecolor": "white",
           "zerolinewidth": 2
          },
          "yaxis": {
           "automargin": true,
           "gridcolor": "white",
           "linecolor": "white",
           "ticks": "",
           "title": {
            "standoff": 15
           },
           "zerolinecolor": "white",
           "zerolinewidth": 2
          }
         }
        },
        "title": {
         "font": {
          "color": "#4D5663"
         },
         "text": "Top 100 words after removing stop words"
        },
        "xaxis": {
         "gridcolor": "#E1E5ED",
         "linecolor": "black",
         "showgrid": true,
         "tickfont": {
          "color": "#4D5663"
         },
         "title": {
          "font": {
           "color": "#4D5663"
          },
          "text": ""
         },
         "zerolinecolor": "#E1E5ED"
        },
        "yaxis": {
         "gridcolor": "#E1E5ED",
         "linecolor": "black",
         "showgrid": true,
         "tickfont": {
          "color": "#4D5663"
         },
         "title": {
          "font": {
           "color": "#4D5663"
          },
          "text": "Count"
         },
         "zerolinecolor": "#E1E5ED"
        }
       }
      },
      "text/html": [
       "<div>                            <div id=\"fe5d7030-5949-4e51-9411-57b147277963\" class=\"plotly-graph-div\" style=\"height:525px; width:100%;\"></div>            <script type=\"text/javascript\">                require([\"plotly\"], function(Plotly) {                    window.PLOTLYENV=window.PLOTLYENV || {};\n",
       "                    window.PLOTLYENV.BASE_URL='https://plot.ly';                                    if (document.getElementById(\"fe5d7030-5949-4e51-9411-57b147277963\")) {                    Plotly.newPlot(                        \"fe5d7030-5949-4e51-9411-57b147277963\",                        [{\"marker\":{\"color\":\"rgba(255, 153, 51, 0.6)\",\"line\":{\"color\":\"rgba(255, 153, 51, 1.0)\",\"width\":1}},\"name\":\"count\",\"orientation\":\"v\",\"text\":\"\",\"type\":\"bar\",\"x\":[\"would\",\"use\",\"say\",\"know\",\"people\",\"make\",\"think\",\"get\",\"go\",\"may\",\"time\",\"see\",\"also\",\"good\",\"well\",\"take\",\"could\",\"work\",\"want\",\"even\",\"come\",\"give\",\"thing\",\"look\",\"system\",\"year\",\"problem\",\"find\",\"way\",\"much\",\"many\",\"need\",\"try\",\"right\",\"file\",\"first\",\"call\",\"tell\",\"new\",\"article\",\"run\",\"point\",\"seem\",\"question\",\"program\",\"include\",\"really\",\"believe\",\"mean\",\"number\",\"still\",\"read\",\"case\",\"post\",\"help\",\"window\",\"must\",\"start\",\"drive\",\"let\",\"government\",\"bit\",\"follow\",\"back\",\"day\",\"long\",\"never\",\"part\",\"information\",\"car\",\"line\",\"state\",\"thank\",\"ask\",\"support\",\"key\",\"send\",\"sure\",\"put\",\"set\",\"fact\",\"game\",\"however\",\"keep\",\"reason\",\"group\",\"place\",\"hear\",\"show\",\"lot\",\"law\",\"change\",\"probably\",\"little\",\"bad\",\"true\",\"name\",\"happen\",\"course\",\"base\"],\"y\":[8544,8446,6538,5903,5667,5471,5256,5210,5192,4523,4437,4350,4157,3979,3831,3473,3335,3321,3169,3138,3113,3026,3007,2987,2934,2885,2875,2846,2814,2770,2761,2684,2650,2569,2552,2441,2417,2259,2241,2218,2207,2198,2193,2151,2054,2019,2007,2004,1924,1912,1867,1842,1793,1777,1735,1725,1708,1698,1616,1611,1609,1605,1598,1593,1588,1586,1585,1583,1567,1552,1522,1522,1478,1470,1469,1468,1457,1457,1447,1446,1428,1417,1392,1387,1383,1347,1345,1340,1339,1335,1333,1314,1312,1309,1294,1288,1286,1284,1273,1270]}],                        {\"legend\":{\"bgcolor\":\"#F5F6F9\",\"font\":{\"color\":\"#4D5663\"}},\"paper_bgcolor\":\"#F5F6F9\",\"plot_bgcolor\":\"#F5F6F9\",\"template\":{\"data\":{\"bar\":[{\"error_x\":{\"color\":\"#2a3f5f\"},\"error_y\":{\"color\":\"#2a3f5f\"},\"marker\":{\"line\":{\"color\":\"#E5ECF6\",\"width\":0.5},\"pattern\":{\"fillmode\":\"overlay\",\"size\":10,\"solidity\":0.2}},\"type\":\"bar\"}],\"barpolar\":[{\"marker\":{\"line\":{\"color\":\"#E5ECF6\",\"width\":0.5},\"pattern\":{\"fillmode\":\"overlay\",\"size\":10,\"solidity\":0.2}},\"type\":\"barpolar\"}],\"carpet\":[{\"aaxis\":{\"endlinecolor\":\"#2a3f5f\",\"gridcolor\":\"white\",\"linecolor\":\"white\",\"minorgridcolor\":\"white\",\"startlinecolor\":\"#2a3f5f\"},\"baxis\":{\"endlinecolor\":\"#2a3f5f\",\"gridcolor\":\"white\",\"linecolor\":\"white\",\"minorgridcolor\":\"white\",\"startlinecolor\":\"#2a3f5f\"},\"type\":\"carpet\"}],\"choropleth\":[{\"colorbar\":{\"outlinewidth\":0,\"ticks\":\"\"},\"type\":\"choropleth\"}],\"contour\":[{\"colorbar\":{\"outlinewidth\":0,\"ticks\":\"\"},\"colorscale\":[[0.0,\"#0d0887\"],[0.1111111111111111,\"#46039f\"],[0.2222222222222222,\"#7201a8\"],[0.3333333333333333,\"#9c179e\"],[0.4444444444444444,\"#bd3786\"],[0.5555555555555556,\"#d8576b\"],[0.6666666666666666,\"#ed7953\"],[0.7777777777777778,\"#fb9f3a\"],[0.8888888888888888,\"#fdca26\"],[1.0,\"#f0f921\"]],\"type\":\"contour\"}],\"contourcarpet\":[{\"colorbar\":{\"outlinewidth\":0,\"ticks\":\"\"},\"type\":\"contourcarpet\"}],\"heatmap\":[{\"colorbar\":{\"outlinewidth\":0,\"ticks\":\"\"},\"colorscale\":[[0.0,\"#0d0887\"],[0.1111111111111111,\"#46039f\"],[0.2222222222222222,\"#7201a8\"],[0.3333333333333333,\"#9c179e\"],[0.4444444444444444,\"#bd3786\"],[0.5555555555555556,\"#d8576b\"],[0.6666666666666666,\"#ed7953\"],[0.7777777777777778,\"#fb9f3a\"],[0.8888888888888888,\"#fdca26\"],[1.0,\"#f0f921\"]],\"type\":\"heatmap\"}],\"heatmapgl\":[{\"colorbar\":{\"outlinewidth\":0,\"ticks\":\"\"},\"colorscale\":[[0.0,\"#0d0887\"],[0.1111111111111111,\"#46039f\"],[0.2222222222222222,\"#7201a8\"],[0.3333333333333333,\"#9c179e\"],[0.4444444444444444,\"#bd3786\"],[0.5555555555555556,\"#d8576b\"],[0.6666666666666666,\"#ed7953\"],[0.7777777777777778,\"#fb9f3a\"],[0.8888888888888888,\"#fdca26\"],[1.0,\"#f0f921\"]],\"type\":\"heatmapgl\"}],\"histogram\":[{\"marker\":{\"pattern\":{\"fillmode\":\"overlay\",\"size\":10,\"solidity\":0.2}},\"type\":\"histogram\"}],\"histogram2d\":[{\"colorbar\":{\"outlinewidth\":0,\"ticks\":\"\"},\"colorscale\":[[0.0,\"#0d0887\"],[0.1111111111111111,\"#46039f\"],[0.2222222222222222,\"#7201a8\"],[0.3333333333333333,\"#9c179e\"],[0.4444444444444444,\"#bd3786\"],[0.5555555555555556,\"#d8576b\"],[0.6666666666666666,\"#ed7953\"],[0.7777777777777778,\"#fb9f3a\"],[0.8888888888888888,\"#fdca26\"],[1.0,\"#f0f921\"]],\"type\":\"histogram2d\"}],\"histogram2dcontour\":[{\"colorbar\":{\"outlinewidth\":0,\"ticks\":\"\"},\"colorscale\":[[0.0,\"#0d0887\"],[0.1111111111111111,\"#46039f\"],[0.2222222222222222,\"#7201a8\"],[0.3333333333333333,\"#9c179e\"],[0.4444444444444444,\"#bd3786\"],[0.5555555555555556,\"#d8576b\"],[0.6666666666666666,\"#ed7953\"],[0.7777777777777778,\"#fb9f3a\"],[0.8888888888888888,\"#fdca26\"],[1.0,\"#f0f921\"]],\"type\":\"histogram2dcontour\"}],\"mesh3d\":[{\"colorbar\":{\"outlinewidth\":0,\"ticks\":\"\"},\"type\":\"mesh3d\"}],\"parcoords\":[{\"line\":{\"colorbar\":{\"outlinewidth\":0,\"ticks\":\"\"}},\"type\":\"parcoords\"}],\"pie\":[{\"automargin\":true,\"type\":\"pie\"}],\"scatter\":[{\"marker\":{\"colorbar\":{\"outlinewidth\":0,\"ticks\":\"\"}},\"type\":\"scatter\"}],\"scatter3d\":[{\"line\":{\"colorbar\":{\"outlinewidth\":0,\"ticks\":\"\"}},\"marker\":{\"colorbar\":{\"outlinewidth\":0,\"ticks\":\"\"}},\"type\":\"scatter3d\"}],\"scattercarpet\":[{\"marker\":{\"colorbar\":{\"outlinewidth\":0,\"ticks\":\"\"}},\"type\":\"scattercarpet\"}],\"scattergeo\":[{\"marker\":{\"colorbar\":{\"outlinewidth\":0,\"ticks\":\"\"}},\"type\":\"scattergeo\"}],\"scattergl\":[{\"marker\":{\"colorbar\":{\"outlinewidth\":0,\"ticks\":\"\"}},\"type\":\"scattergl\"}],\"scattermapbox\":[{\"marker\":{\"colorbar\":{\"outlinewidth\":0,\"ticks\":\"\"}},\"type\":\"scattermapbox\"}],\"scatterpolar\":[{\"marker\":{\"colorbar\":{\"outlinewidth\":0,\"ticks\":\"\"}},\"type\":\"scatterpolar\"}],\"scatterpolargl\":[{\"marker\":{\"colorbar\":{\"outlinewidth\":0,\"ticks\":\"\"}},\"type\":\"scatterpolargl\"}],\"scatterternary\":[{\"marker\":{\"colorbar\":{\"outlinewidth\":0,\"ticks\":\"\"}},\"type\":\"scatterternary\"}],\"surface\":[{\"colorbar\":{\"outlinewidth\":0,\"ticks\":\"\"},\"colorscale\":[[0.0,\"#0d0887\"],[0.1111111111111111,\"#46039f\"],[0.2222222222222222,\"#7201a8\"],[0.3333333333333333,\"#9c179e\"],[0.4444444444444444,\"#bd3786\"],[0.5555555555555556,\"#d8576b\"],[0.6666666666666666,\"#ed7953\"],[0.7777777777777778,\"#fb9f3a\"],[0.8888888888888888,\"#fdca26\"],[1.0,\"#f0f921\"]],\"type\":\"surface\"}],\"table\":[{\"cells\":{\"fill\":{\"color\":\"#EBF0F8\"},\"line\":{\"color\":\"white\"}},\"header\":{\"fill\":{\"color\":\"#C8D4E3\"},\"line\":{\"color\":\"white\"}},\"type\":\"table\"}]},\"layout\":{\"annotationdefaults\":{\"arrowcolor\":\"#2a3f5f\",\"arrowhead\":0,\"arrowwidth\":1},\"autotypenumbers\":\"strict\",\"coloraxis\":{\"colorbar\":{\"outlinewidth\":0,\"ticks\":\"\"}},\"colorscale\":{\"diverging\":[[0,\"#8e0152\"],[0.1,\"#c51b7d\"],[0.2,\"#de77ae\"],[0.3,\"#f1b6da\"],[0.4,\"#fde0ef\"],[0.5,\"#f7f7f7\"],[0.6,\"#e6f5d0\"],[0.7,\"#b8e186\"],[0.8,\"#7fbc41\"],[0.9,\"#4d9221\"],[1,\"#276419\"]],\"sequential\":[[0.0,\"#0d0887\"],[0.1111111111111111,\"#46039f\"],[0.2222222222222222,\"#7201a8\"],[0.3333333333333333,\"#9c179e\"],[0.4444444444444444,\"#bd3786\"],[0.5555555555555556,\"#d8576b\"],[0.6666666666666666,\"#ed7953\"],[0.7777777777777778,\"#fb9f3a\"],[0.8888888888888888,\"#fdca26\"],[1.0,\"#f0f921\"]],\"sequentialminus\":[[0.0,\"#0d0887\"],[0.1111111111111111,\"#46039f\"],[0.2222222222222222,\"#7201a8\"],[0.3333333333333333,\"#9c179e\"],[0.4444444444444444,\"#bd3786\"],[0.5555555555555556,\"#d8576b\"],[0.6666666666666666,\"#ed7953\"],[0.7777777777777778,\"#fb9f3a\"],[0.8888888888888888,\"#fdca26\"],[1.0,\"#f0f921\"]]},\"colorway\":[\"#636efa\",\"#EF553B\",\"#00cc96\",\"#ab63fa\",\"#FFA15A\",\"#19d3f3\",\"#FF6692\",\"#B6E880\",\"#FF97FF\",\"#FECB52\"],\"font\":{\"color\":\"#2a3f5f\"},\"geo\":{\"bgcolor\":\"white\",\"lakecolor\":\"white\",\"landcolor\":\"#E5ECF6\",\"showlakes\":true,\"showland\":true,\"subunitcolor\":\"white\"},\"hoverlabel\":{\"align\":\"left\"},\"hovermode\":\"closest\",\"mapbox\":{\"style\":\"light\"},\"paper_bgcolor\":\"white\",\"plot_bgcolor\":\"#E5ECF6\",\"polar\":{\"angularaxis\":{\"gridcolor\":\"white\",\"linecolor\":\"white\",\"ticks\":\"\"},\"bgcolor\":\"#E5ECF6\",\"radialaxis\":{\"gridcolor\":\"white\",\"linecolor\":\"white\",\"ticks\":\"\"}},\"scene\":{\"xaxis\":{\"backgroundcolor\":\"#E5ECF6\",\"gridcolor\":\"white\",\"gridwidth\":2,\"linecolor\":\"white\",\"showbackground\":true,\"ticks\":\"\",\"zerolinecolor\":\"white\"},\"yaxis\":{\"backgroundcolor\":\"#E5ECF6\",\"gridcolor\":\"white\",\"gridwidth\":2,\"linecolor\":\"white\",\"showbackground\":true,\"ticks\":\"\",\"zerolinecolor\":\"white\"},\"zaxis\":{\"backgroundcolor\":\"#E5ECF6\",\"gridcolor\":\"white\",\"gridwidth\":2,\"linecolor\":\"white\",\"showbackground\":true,\"ticks\":\"\",\"zerolinecolor\":\"white\"}},\"shapedefaults\":{\"line\":{\"color\":\"#2a3f5f\"}},\"ternary\":{\"aaxis\":{\"gridcolor\":\"white\",\"linecolor\":\"white\",\"ticks\":\"\"},\"baxis\":{\"gridcolor\":\"white\",\"linecolor\":\"white\",\"ticks\":\"\"},\"bgcolor\":\"#E5ECF6\",\"caxis\":{\"gridcolor\":\"white\",\"linecolor\":\"white\",\"ticks\":\"\"}},\"title\":{\"x\":0.05},\"xaxis\":{\"automargin\":true,\"gridcolor\":\"white\",\"linecolor\":\"white\",\"ticks\":\"\",\"title\":{\"standoff\":15},\"zerolinecolor\":\"white\",\"zerolinewidth\":2},\"yaxis\":{\"automargin\":true,\"gridcolor\":\"white\",\"linecolor\":\"white\",\"ticks\":\"\",\"title\":{\"standoff\":15},\"zerolinecolor\":\"white\",\"zerolinewidth\":2}}},\"title\":{\"font\":{\"color\":\"#4D5663\"},\"text\":\"Top 100 words after removing stop words\"},\"xaxis\":{\"gridcolor\":\"#E1E5ED\",\"linecolor\":\"black\",\"showgrid\":true,\"tickfont\":{\"color\":\"#4D5663\"},\"title\":{\"font\":{\"color\":\"#4D5663\"},\"text\":\"\"},\"zerolinecolor\":\"#E1E5ED\"},\"yaxis\":{\"gridcolor\":\"#E1E5ED\",\"linecolor\":\"black\",\"showgrid\":true,\"tickfont\":{\"color\":\"#4D5663\"},\"title\":{\"font\":{\"color\":\"#4D5663\"},\"text\":\"Count\"},\"zerolinecolor\":\"#E1E5ED\"}},                        {\"showLink\": true, \"linkText\": \"Export to plot.ly\", \"plotlyServerURL\": \"https://plot.ly\", \"responsive\": true}                    ).then(function(){\n",
       "                            \n",
       "var gd = document.getElementById('fe5d7030-5949-4e51-9411-57b147277963');\n",
       "var x = new MutationObserver(function (mutations, observer) {{\n",
       "        var display = window.getComputedStyle(gd).display;\n",
       "        if (!display || display === 'none') {{\n",
       "            console.log([gd, 'removed!']);\n",
       "            Plotly.purge(gd);\n",
       "            observer.disconnect();\n",
       "        }}\n",
       "}});\n",
       "\n",
       "// Listen for the removal of the full notebook cells\n",
       "var notebookContainer = gd.closest('#notebook-container');\n",
       "if (notebookContainer) {{\n",
       "    x.observe(notebookContainer, {childList: true});\n",
       "}}\n",
       "\n",
       "// Listen for the clearing of the current output cell\n",
       "var outputEl = gd.closest('.output');\n",
       "if (outputEl) {{\n",
       "    x.observe(outputEl, {childList: true});\n",
       "}}\n",
       "\n",
       "                        })                };                });            </script>        </div>"
      ]
     },
     "metadata": {},
     "output_type": "display_data"
    }
   ],
   "source": [
    "from pycaret.nlp import setup, plot_model\n",
    "\n",
    "nlp_setup = setup(newsgroups_train['data'], custom_stopwords=['ax', 'edu', 'com', 'write'])\n",
    "plot_model(model=None, plot='frequency')"
   ]
  },
  {
   "cell_type": "code",
   "execution_count": 34,
   "id": "39a5ccad",
   "metadata": {},
   "outputs": [
    {
     "data": {
      "image/png": "[encoded data removed]",
      "text/plain": [
       "<Figure size 432x288 with 1 Axes>"
      ]
     },
     "metadata": {
      "needs_background": "light"
     },
     "output_type": "display_data"
    },
    {
     "data": {
      "text/plain": [
       "<AxesSubplot:xlabel='Samples', ylabel='Counts'>"
      ]
     },
     "execution_count": 34,
     "metadata": {},
     "output_type": "execute_result"
    }
   ],
   "source": [
    "from nltk import FreqDist\n",
    "\n",
    "fd = FreqDist(lemmatized_text.split())\n",
    "fd.plot(20)"
   ]
  },
  {
   "cell_type": "code",
   "execution_count": 35,
   "id": "2e54fa04",
   "metadata": {},
   "outputs": [
    {
     "data": {
      "text/plain": [
       "[('say', 3186),\n",
       " ('man', 1980),\n",
       " ('pierre', 1963),\n",
       " ('prince', 1931),\n",
       " ('look', 1603),\n",
       " ('come', 1576),\n",
       " ('know', 1573),\n",
       " ('go', 1365),\n",
       " ('natásha', 1211),\n",
       " ('andrew', 1141),\n",
       " ('think', 1121),\n",
       " ('face', 1085),\n",
       " ('time', 1083),\n",
       " ('ask', 987),\n",
       " ('see', 939),\n",
       " ('princess', 935),\n",
       " ('begin', 921),\n",
       " ('feel', 889),\n",
       " ('eye', 883),\n",
       " ('french', 881)]"
      ]
     },
     "execution_count": 35,
     "metadata": {},
     "output_type": "execute_result"
    }
   ],
   "source": [
    "fd.most_common(20)"
   ]
  },
  {
   "cell_type": "code",
   "execution_count": 36,
   "id": "39e88a22",
   "metadata": {},
   "outputs": [
    {
     "data": {
      "image/png": "[encoded data removed]",
      "text/plain": [
       "<Figure size 432x432 with 1 Axes>"
      ]
     },
     "metadata": {
      "needs_background": "light"
     },
     "output_type": "display_data"
    },
    {
     "data": {
      "text/plain": [
       "<AxesSubplot:xlabel='Samples', ylabel='Counts'>"
      ]
     },
     "execution_count": 36,
     "metadata": {},
     "output_type": "execute_result"
    }
   ],
   "source": [
    "import matplotlib.pyplot as plt\n",
    "from nltk import bigrams\n",
    "\n",
    "f = plt.figure(figsize=(6, 6))\n",
    "fd_bg = FreqDist(map(' '.join, bigrams(lemmatized_text.split())))\n",
    "fd_bg.plot(20)"
   ]
  },
  {
   "cell_type": "code",
   "execution_count": 37,
   "id": "888d7dcf",
   "metadata": {
    "scrolled": true
   },
   "outputs": [
    {
     "data": {
      "image/png": "[encoded data removed]",
      "text/plain": [
       "<Figure size 396x396 with 1 Axes>"
      ]
     },
     "metadata": {
      "needs_background": "light"
     },
     "output_type": "display_data"
    }
   ],
   "source": [
    "import matplotlib.pyplot as plt\n",
    "import numpy as np\n",
    "\n",
    "idx_to_word = {v: k for k, v in tfidf_vectorizer.vocabulary_.items()}\n",
    "\n",
    "num_words = 20\n",
    "tfidf_sum = np.asarray(ng_train_tfidf.sum(axis=0)).flatten()\n",
    "sorted_idx = tfidf_sum.argsort()[::-1]\n",
    "tfidf_sum = tfidf_sum[sorted_idx]\n",
    "\n",
    "f = plt.figure(figsize=(5.5, 5.5))\n",
    "xticks = range(num_words)\n",
    "plt.bar(xticks, tfidf_sum[:num_words])\n",
    "plt.xticks(xticks,\n",
    "           [idx_to_word[i] for i in sorted_idx[:num_words]],\n",
    "           rotation=90)\n",
    "plt.xlabel('word')\n",
    "plt.ylabel('TFIDF')\n",
    "plt.tight_layout()"
   ]
  },
  {
   "cell_type": "code",
   "execution_count": 38,
   "id": "2e34f49d",
   "metadata": {},
   "outputs": [
    {
     "data": {
      "image/png": "[encoded data removed]",
      "text/plain": [
       "<Figure size 432x288 with 1 Axes>"
      ]
     },
     "metadata": {
      "needs_background": "light"
     },
     "output_type": "display_data"
    }
   ],
   "source": [
    "import seaborn as sns\n",
    "\n",
    "sns.histplot(ng_train_df['text'].apply(lambda x: len(x)))\n",
    "plt.xscale('log')"
   ]
  },
  {
   "cell_type": "code",
   "execution_count": 39,
   "id": "06e82970",
   "metadata": {},
   "outputs": [],
   "source": [
    "from sklearn.feature_extraction.text import CountVectorizer\n",
    "\n",
    "def get_top_grams(docs, n=2):\n",
    "    v = CountVectorizer(ngram_range=(n, n))\n",
    "    grams = v.fit_transform(docs)\n",
    "    gram_sum = np.array(np.sum(grams, axis=0)).flatten()\n",
    "    gram_dict = {i: v for v, i in v.vocabulary_.items()}\n",
    "    top_grams = gram_sum.argsort()[::-1]\n",
    "    \n",
    "    return [gram_dict[i] for i in top_grams], gram_sum[top_grams]"
   ]
  },
  {
   "cell_type": "markdown",
   "id": "a0dacc20",
   "metadata": {},
   "source": [
    "This version also prints out top ngrams."
   ]
  },
  {
   "cell_type": "code",
   "execution_count": 40,
   "id": "e3b1ac83",
   "metadata": {},
   "outputs": [],
   "source": [
    "from sklearn.feature_extraction.text import CountVectorizer\n",
    "\n",
    "def get_top_grams(docs, n=2, top=20, verbose=False):\n",
    "    v = CountVectorizer(ngram_range=(n, n))\n",
    "    grams = v.fit_transform(docs)\n",
    "    gram_sum = np.array(np.sum(grams, axis=0)).flatten()\n",
    "    gram_dict = {i: v for v, i in v.vocabulary_.items()}\n",
    "    top_grams = gram_sum.argsort()[::-1]\n",
    "    if verbose:\n",
    "        print(f'top {top} {n}-grams:\\n')\n",
    "        for i in top_grams[:top]:\n",
    "            print('\"' + gram_dict[i] + '\" shows up', gram_sum[i], 'times')\n",
    "        print('\\n')\n",
    "    \n",
    "    return [gram_dict[i] for i in top_grams], gram_sum[top_grams]"
   ]
  },
  {
   "cell_type": "code",
   "execution_count": 41,
   "id": "eb7e3c15",
   "metadata": {},
   "outputs": [],
   "source": [
    "ngrams, ngram_counts = {}, {}\n",
    "for n in [1, 2, 3]:\n",
    "    ngrams[n], ngram_counts[n] = get_top_grams([lemmatized_text], n=n)"
   ]
  },
  {
   "cell_type": "code",
   "execution_count": 42,
   "id": "9d0827f8",
   "metadata": {},
   "outputs": [],
   "source": [
    "from scipy.stats import zipf\n",
    "\n",
    "def make_zipf_plot(counts, tokens, a=1.15):\n",
    "    # inspired from here: https://finnaarupnielsen.wordpress.com/2013/10/22/zipf-plot-for-word-counts-in-brown-corpus/\n",
    "    ranks = np.arange(1, len(counts) + 1)\n",
    "    indices = np.argsort(-counts)\n",
    "    normalized_frequencies = counts[indices] / sum(counts)\n",
    "\n",
    "    f = plt.figure(figsize=(5.5, 5.5))\n",
    "    plt.loglog(ranks, normalized_frequencies, marker=\".\")\n",
    "    \n",
    "    plt.loglog(ranks, [z for z in zipf.pmf(ranks, a)])\n",
    "    \n",
    "    plt.title(\"Zipf Plot\")\n",
    "    plt.xlabel(\"Word frequency rank\")\n",
    "    plt.ylabel(\"Word frequency\")\n",
    "    \n",
    "    ax = plt.gca()\n",
    "    ax.set_aspect('equal')  # make the plot square\n",
    "    plt.grid(True)\n",
    "    \n",
    "    # add text labels\n",
    "    last_freq = None\n",
    "    labeled_word_idxs = list(np.logspace(-0.5,\n",
    "                                         np.log10(len(counts) - 1),\n",
    "                                         10).astype(int))\n",
    "    for i in labeled_word_idxs:\n",
    "        dummy = plt.text(ranks[i],\n",
    "                         normalized_frequencies[i],\n",
    "                         \" \" + tokens[indices[i]], \n",
    "                         verticalalignment=\"bottom\",\n",
    "                         horizontalalignment=\"left\")\n",
    "    \n",
    "    plt.tight_layout()\n",
    "    \n",
    "    plt.show()"
   ]
  },
  {
   "cell_type": "code",
   "execution_count": 43,
   "id": "49a51782",
   "metadata": {},
   "outputs": [
    {
     "data": {
      "image/png": "[encoded data removed]",
      "text/plain": [
       "<Figure size 396x396 with 1 Axes>"
      ]
     },
     "metadata": {
      "needs_background": "light"
     },
     "output_type": "display_data"
    }
   ],
   "source": [
    "make_zipf_plot(ngram_counts[1], ngrams[1])"
   ]
  },
  {
   "cell_type": "code",
   "execution_count": 44,
   "id": "7f4fc54c",
   "metadata": {},
   "outputs": [
    {
     "data": {
      "image/png": "[encoded data removed]",
      "text/plain": [
       "<Figure size 396x396 with 1 Axes>"
      ]
     },
     "metadata": {
      "needs_background": "light"
     },
     "output_type": "display_data"
    }
   ],
   "source": [
    "make_zipf_plot(ngram_counts[2], ngrams[2], a=1.01)"
   ]
  },
  {
   "cell_type": "markdown",
   "id": "a9a50e1b",
   "metadata": {},
   "source": [
    "## Word collocations"
   ]
  },
  {
   "cell_type": "code",
   "execution_count": 45,
   "id": "e132a369",
   "metadata": {},
   "outputs": [
    {
     "data": {
      "text/plain": [
       "[('ab', 'ovo'),\n",
       " ('absorbed', 'querulousness'),\n",
       " ('academy', 'jotting'),\n",
       " ('achtung', 'nehmen'),\n",
       " ('agwee', 'evewythe'),\n",
       " ('ahahah', 'rrrr'),\n",
       " ('alliée', 'sincère'),\n",
       " ('alliés', 'détruite'),\n",
       " ('alphonse', 'kárlovich'),\n",
       " ('amber', 'mouthpiece')]"
      ]
     },
     "execution_count": 45,
     "metadata": {},
     "output_type": "execute_result"
    }
   ],
   "source": [
    "from nltk.collocations import BigramAssocMeasures, BigramCollocationFinder\n",
    "\n",
    "BigramCollocationFinder.from_words(lemmatized_text.split()).\\\n",
    "    nbest(BigramAssocMeasures().pmi, 10)"
   ]
  },
  {
   "cell_type": "code",
   "execution_count": 46,
   "id": "d63d6166",
   "metadata": {},
   "outputs": [
    {
     "data": {
      "text/plain": [
       "[(('ab', 'ovo'), 17.872446435470106),\n",
       " (('absorbed', 'querulousness'), 17.872446435470106),\n",
       " (('academy', 'jotting'), 17.872446435470106),\n",
       " (('achtung', 'nehmen'), 17.872446435470106),\n",
       " (('agwee', 'evewythe'), 17.872446435470106),\n",
       " (('ahahah', 'rrrr'), 17.872446435470106),\n",
       " (('alliée', 'sincère'), 17.872446435470106),\n",
       " (('alliés', 'détruite'), 17.872446435470106),\n",
       " (('alphonse', 'kárlovich'), 17.872446435470106),\n",
       " (('amber', 'mouthpiece'), 17.872446435470106),\n",
       " (('amstetten', 'melk'), 17.872446435470106),\n",
       " (('armfeldts', 'bennigsens'), 17.872446435470106),\n",
       " (('arming', 'concentrating'), 17.872446435470106),\n",
       " (('ash', 'linstock'), 17.872446435470106),\n",
       " (('att', 'ention'), 17.872446435470106),\n",
       " (('aubert', 'chalmé'), 17.872446435470106),\n",
       " (('aussi', 'spirituelle'), 17.872446435470106),\n",
       " (('awistocwacy', 'pwovince'), 17.872446435470106),\n",
       " (('awl', 'soap'), 17.872446435470106),\n",
       " (('axes', 'chopper'), 17.872446435470106),\n",
       " (('axle', 'cogs'), 17.872446435470106),\n",
       " (('baltic', 'provinces'), 17.872446435470106),\n",
       " (('barclays', 'raévskis'), 17.872446435470106),\n",
       " (('bataillon', 'ont'), 17.872446435470106),\n",
       " (('battered', 'tin'), 17.872446435470106),\n",
       " (('beaux', 'yeux'), 17.872446435470106),\n",
       " (('bestial', 'fleeting'), 17.872446435470106),\n",
       " (('bettah', 'conscwiption'), 17.872446435470106),\n",
       " (('bezúbova', 'zakhárino'), 17.872446435470106),\n",
       " (('bidden', 'disrobe'), 17.872446435470106),\n",
       " (('bleach', 'eyeball'), 17.872446435470106),\n",
       " (('bonheur', 'serait'), 17.872446435470106),\n",
       " (('boss', 'zide'), 17.872446435470106),\n",
       " (('bronnítski', 'wlocki'), 17.872446435470106),\n",
       " (('bunch', 'ravel'), 17.872446435470106),\n",
       " (('bweed', 'wostóvs'), 17.872446435470106),\n",
       " (('bwing', 'wecwuit'), 17.872446435470106),\n",
       " (('cakelike', 'aroma'), 17.872446435470106),\n",
       " (('campo', 'formio'), 17.872446435470106),\n",
       " (('catcher', 'whereabout'), 17.872446435470106),\n",
       " (('causal', 'nexus'), 17.872446435470106),\n",
       " (('cellular', 'tissue'), 17.872446435470106),\n",
       " (('certains', 'droit'), 17.872446435470106),\n",
       " (('ces', 'pleur'), 17.872446435470106),\n",
       " (('cet', 'individu'), 17.872446435470106),\n",
       " (('chopper', 'ply'), 17.872446435470106),\n",
       " (('cloudless', 'northern'), 17.872446435470106),\n",
       " (('collector', 'alms'), 17.872446435470106),\n",
       " (('collegiate', 'assessor'), 17.872446435470106),\n",
       " (('confute', 'conclusive'), 17.872446435470106),\n",
       " (('connais', 'depuis'), 17.872446435470106),\n",
       " (('consoler', 'viens'), 17.872446435470106),\n",
       " (('consummate', 'coquette'), 17.872446435470106),\n",
       " (('contraire', 'reconnaissante'), 17.872446435470106),\n",
       " (('cooked', 'sewed'), 17.872446435470106),\n",
       " (('coral', 'ivory'), 17.872446435470106),\n",
       " (('couler', 'poisonous'), 17.872446435470106),\n",
       " (('countwy', 'honowably'), 17.872446435470106),\n",
       " (('cupful', 'mull'), 17.872446435470106),\n",
       " (('cushay', 'dormir'), 17.872446435470106),\n",
       " (('cutter', 'breaker'), 17.872446435470106),\n",
       " (('danish', 'chargé'), 17.872446435470106),\n",
       " (('danser', 'qu'), 17.872446435470106),\n",
       " (('das', 'soll'), 17.872446435470106),\n",
       " (('dato', 'guai'), 17.872446435470106),\n",
       " (('debonair', 'gallantry'), 17.872446435470106),\n",
       " (('depuis', 'longtemps'), 17.872446435470106),\n",
       " (('dere', 'neffer'), 17.872446435470106),\n",
       " (('diagonal', 'parallelogram'), 17.872446435470106),\n",
       " (('diderot', 'beaumarchais'), 17.872446435470106),\n",
       " (('dilly', 'dally'), 17.872446435470106),\n",
       " (('dio', 'mi'), 17.872446435470106),\n",
       " (('directness', 'appositeness'), 17.872446435470106),\n",
       " (('discordantly', 'arduously'), 17.872446435470106),\n",
       " (('donne', 'gare'), 17.872446435470106),\n",
       " (('douceur', 'secrète'), 17.872446435470106),\n",
       " (('duchénois', 'potier'), 17.872446435470106),\n",
       " (('dwown', 'gwief'), 17.872446435470106),\n",
       " (('ein', 'mann'), 17.872446435470106),\n",
       " (('elias', 'mitrofánych'), 17.872446435470106),\n",
       " (('emblem', 'cognizable'), 17.872446435470106),\n",
       " (('empia', 'wuine'), 17.872446435470106),\n",
       " (('enticingly', 'rhythmical'), 17.872446435470106),\n",
       " (('entitle', 'majesties'), 17.872446435470106),\n",
       " (('enwich', 'pwiest'), 17.872446435470106),\n",
       " (('equestrian', 'bracelet'), 17.872446435470106),\n",
       " (('ermólovs', 'plátovs'), 17.872446435470106),\n",
       " (('euer', 'hochgeboren'), 17.872446435470106),\n",
       " (('evewy', 'bwing'), 17.872446435470106),\n",
       " (('evewythe', 'wotten'), 17.872446435470106),\n",
       " (('exhort', 'goeth'), 17.872446435470106),\n",
       " (('exultation', 'hosanna'), 17.872446435470106),\n",
       " (('fiew', 'wiz'), 17.872446435470106),\n",
       " (('flamme', 'éclairaient'), 17.872446435470106),\n",
       " (('floppy', 'brim'), 17.872446435470106),\n",
       " (('fluid', 'volatile'), 17.872446435470106),\n",
       " (('forsaken', 'lyre'), 17.872446435470106),\n",
       " (('freed', 'plowman'), 17.872446435470106),\n",
       " (('frise', 'múdrov'), 17.872446435470106),\n",
       " (('frog', 'rabbit'), 17.872446435470106),\n",
       " (('fräulein', 'mathilde'), 17.872446435470106),\n",
       " (('fussy', 'shallowness'), 17.872446435470106),\n",
       " (('garrulously', 'christmastime'), 17.872446435470106),\n",
       " (('genevese', 'tuscans'), 17.872446435470106),\n",
       " (('genug', 'preis'), 17.872446435470106),\n",
       " (('geographic', 'ethnographic'), 17.872446435470106),\n",
       " (('gird', 'loin'), 17.872446435470106),\n",
       " (('glaring', 'savagely'), 17.872446435470106),\n",
       " (('gloria', 'mundi'), 17.872446435470106),\n",
       " (('glínka', 'editor'), 17.872446435470106),\n",
       " (('gobelin', 'tapestry'), 17.872446435470106),\n",
       " (('gott', 'wie'), 17.872446435470106),\n",
       " (('gracieux', 'souverain'), 17.872446435470106),\n",
       " (('gros', 'bataillon'), 17.872446435470106),\n",
       " (('grove', 'undisturbed'), 17.872446435470106),\n",
       " (('guai', 'chi'), 17.872446435470106),\n",
       " (('gueule', 'engrêlé'), 17.872446435470106),\n",
       " (('gulf', 'bothnia'), 17.872446435470106),\n",
       " (('gusto', 'galicia'), 17.872446435470106),\n",
       " (('gwudge', 'theah'), 17.872446435470106),\n",
       " (('généraux', 'states'), 17.872446435470106),\n",
       " (('handicraft', 'gardening'), 17.872446435470106),\n",
       " (('haunch', 'slide'), 17.872446435470106),\n",
       " (('haute', 'estime'), 17.872446435470106),\n",
       " (('helter', 'skelter'), 17.872446435470106),\n",
       " (('henker', 'diese'), 17.872446435470106),\n",
       " (('highest', 'authorities'), 17.872446435470106),\n",
       " (('highnesses', 'cousins'), 17.872446435470106),\n",
       " (('homeopath', 'allopath'), 17.872446435470106),\n",
       " (('hommes', 'massacrés'), 17.872446435470106),\n",
       " (('hypothesis', 'unconfirme'), 17.872446435470106),\n",
       " (('idiocy', 'gossner'), 17.872446435470106),\n",
       " (('ilágins', 'kornikí'), 17.872446435470106),\n",
       " (('imperceptible', 'sandy'), 17.872446435470106),\n",
       " (('imprint', 'newness'), 17.872446435470106),\n",
       " (('impulsiveness', 'enthusiast'), 17.872446435470106),\n",
       " (('impute', 'nonreceipt'), 17.872446435470106),\n",
       " (('indecent', 'saw'), 17.872446435470106),\n",
       " (('inflammation', 'bowel'), 17.872446435470106),\n",
       " (('inseparably', 'interconnect'), 17.872446435470106),\n",
       " (('institutes', 'justinian'), 17.872446435470106),\n",
       " (('inviolable', 'bulwark'), 17.872446435470106),\n",
       " (('irína', 'vasílevna'), 17.872446435470106),\n",
       " (('ist', 'nur'), 17.872446435470106),\n",
       " (('jolies', 'femmes'), 17.872446435470106),\n",
       " (('kari', 'mala'), 17.872446435470106),\n",
       " (('kishenëv', 'moldavian'), 17.872446435470106),\n",
       " (('kitty', 'odýntsova'), 17.872446435470106),\n",
       " (('krieg', 'muss'), 17.872446435470106),\n",
       " (('kuz', 'mí'), 17.872446435470106),\n",
       " (('kwüdener', 'wead'), 17.872446435470106),\n",
       " (('lambach', 'amstetten'), 17.872446435470106),\n",
       " (('layer', 'slime'), 17.872446435470106),\n",
       " (('lazarchúk', 'bwought'), 17.872446435470106),\n",
       " (('leo', 'tolstoy'), 17.872446435470106),\n",
       " (('likeli', 'wogue'), 17.872446435470106),\n",
       " (('lodi', 'marengo'), 17.872446435470106),\n",
       " (('loophole', 'blockhouse'), 17.872446435470106),\n",
       " (('loquacious', 'talker'), 17.872446435470106),\n",
       " (('lubomírski', 'bronnítski'), 17.872446435470106),\n",
       " (('luthers', 'voltaires'), 17.872446435470106),\n",
       " (('lvóvich', 'púshkin'), 17.872446435470106),\n",
       " (('lyrical', 'rhapsody'), 17.872446435470106),\n",
       " (('majesties', 'highnesses'), 17.872446435470106),\n",
       " (('malefactor', 'mitigate'), 17.872446435470106),\n",
       " (('mameluke', 'rustan'), 17.872446435470106),\n",
       " (('manna', 'seekers'), 17.872446435470106),\n",
       " (('martinists', 'novíkov'), 17.872446435470106),\n",
       " (('matrëshka', 'vivandière'), 17.872446435470106),\n",
       " (('medýn', 'yukhnóv'), 17.872446435470106),\n",
       " (('mein', 'weib'), 17.872446435470106),\n",
       " (('memento', 'mori'), 17.872446435470106),\n",
       " (('mi', 'dato'), 17.872446435470106),\n",
       " (('mille', 'hommes'), 17.872446435470106),\n",
       " (('mindful', 'uprightness'), 17.872446435470106),\n",
       " (('misspell', 'punctuation'), 17.872446435470106),\n",
       " (('mmm', 'ar'), 17.872446435470106),\n",
       " (('montmorencys', 'rohans'), 17.872446435470106),\n",
       " (('moss', 'ivy'), 17.872446435470106),\n",
       " (('movable', 'trough'), 17.872446435470106),\n",
       " (('moyka', 'canal'), 17.872446435470106),\n",
       " (('mucius', 'scaevola'), 17.872446435470106),\n",
       " (('muskets', 'accouterment'), 17.872446435470106),\n",
       " (('muss', 'raum'), 17.872446435470106),\n",
       " (('muter', 'kaská'), 17.872446435470106),\n",
       " (('mí', 'ch'), 17.872446435470106),\n",
       " (('múdrov', 'diagnose'), 17.872446435470106),\n",
       " (('neffer', 'gase'), 17.872446435470106),\n",
       " (('ni', 'loi'), 17.872446435470106),\n",
       " (('noblesse', 'paraissent'), 17.872446435470106),\n",
       " (('nonhuman', 'criterion'), 17.872446435470106),\n",
       " (('noonday', 'reed'), 17.872446435470106),\n",
       " (('northerly', 'southerly'), 17.872446435470106),\n",
       " (('nos', 'alliés'), 17.872446435470106),\n",
       " (('numbed', 'stupefy'), 17.872446435470106),\n",
       " (('nymphe', 'effrayée'), 17.872446435470106),\n",
       " (('ober', 'hofmarschal'), 17.872446435470106),\n",
       " (('offahd', 'waise'), 17.872446435470106),\n",
       " (('ont', 'toujours'), 17.872446435470106),\n",
       " (('op', 'plood'), 17.872446435470106),\n",
       " (('oppressed', 'ashame'), 17.872446435470106),\n",
       " (('p', 'q'), 17.872446435470106),\n",
       " (('pagodes', 'chinoise'), 17.872446435470106),\n",
       " (('paraissent', 'être'), 17.872446435470106),\n",
       " (('paraphrase', 'restatement'), 17.872446435470106),\n",
       " (('parce', 'manqué'), 17.872446435470106),\n",
       " (('peaceably', 'harmlessly'), 17.872446435470106),\n",
       " (('perdere', 'dementat'), 17.872446435470106),\n",
       " (('permutation', 'plotting'), 17.872446435470106),\n",
       " (('personen', 'achtung'), 17.872446435470106),\n",
       " (('petting', 'spoiling'), 17.872446435470106),\n",
       " (('philology', 'geology'), 17.872446435470106),\n",
       " (('pistil', 'fertilize'), 17.872446435470106),\n",
       " (('placid', 'temperament'), 17.872446435470106),\n",
       " (('pleasurable', 'exhilarating'), 17.872446435470106),\n",
       " (('plod', 'vainglorious'), 17.872446435470106),\n",
       " (('plumes', 'voit'), 17.872446435470106),\n",
       " (('plátovs', 'milorádoviches'), 17.872446435470106),\n",
       " (('polemic', 'fain'), 17.872446435470106),\n",
       " (('posen', 'thorn'), 17.872446435470106),\n",
       " (('posthouse', 'stationmaster'), 17.872446435470106),\n",
       " (('potier', 'sorbonne'), 17.872446435470106),\n",
       " (('powerfully', 'seductive'), 17.872446435470106),\n",
       " (('predilection', 'bacchus'), 17.872446435470106),\n",
       " (('preen', 'plumage'), 17.872446435470106),\n",
       " (('preis', 'geben'), 17.872446435470106),\n",
       " (('pretended', 'sternness'), 17.872446435470106),\n",
       " (('principally', 'unnaturalness'), 17.872446435470106),\n",
       " (('privat', 'personen'), 17.872446435470106),\n",
       " (('prokhór', 'ignátych'), 17.872446435470106),\n",
       " (('présnya', 'podnovínsk'), 17.872446435470106),\n",
       " (('pua', 'fihst'), 17.872446435470106),\n",
       " (('punctuation', 'unsoundly'), 17.872446435470106),\n",
       " (('péché', 'miséricorde'), 17.872446435470106),\n",
       " (('quos', 'vult'), 17.872446435470106),\n",
       " (('radzivílov', 'natalia'), 17.872446435470106),\n",
       " (('rancor', 'unspent'), 17.872446435470106),\n",
       " (('raum', 'verlegt'), 17.872446435470106),\n",
       " (('raévskis', 'ermólovs'), 17.872446435470106),\n",
       " (('record', 'annal'), 17.872446435470106),\n",
       " (('rescind', 'premonition'), 17.872446435470106),\n",
       " (('reticent', 'taciturnity'), 17.872446435470106),\n",
       " (('roans', 'dozhoyvéyko'), 17.872446435470106),\n",
       " (('robespierre', 'behead'), 17.872446435470106),\n",
       " (('safi', 'muter'), 17.872446435470106),\n",
       " (('savor', 'juiciness'), 17.872446435470106),\n",
       " (('schon', 'fleissig'), 17.872446435470106),\n",
       " (('scour', 'countryside'), 17.872446435470106),\n",
       " (('secrète', 'ces'), 17.872446435470106),\n",
       " (('semicircular', 'façade'), 17.872446435470106),\n",
       " (('sens', 'couler'), 17.872446435470106),\n",
       " (('seruvaru', 'sedyablyaka'), 17.872446435470106),\n",
       " (('sewed', 'plane'), 17.872446435470106),\n",
       " (('sic', 'transit'), 17.872446435470106),\n",
       " (('sistine', 'madonna'), 17.872446435470106),\n",
       " (('smithereen', 'install'), 17.872446435470106),\n",
       " (('snuggle', 'bedclothe'), 17.872446435470106),\n",
       " (('soll', 'mein'), 17.872446435470106),\n",
       " (('sombre', 'retraite'), 17.872446435470106),\n",
       " (('somme', 'mackés'), 17.872446435470106),\n",
       " (('spectacled', 'wigless'), 17.872446435470106),\n",
       " (('spray', 'juniper'), 17.872446435470106),\n",
       " (('starvation', 'disintegrate'), 17.872446435470106),\n",
       " (('steins', 'armfeldts'), 17.872446435470106),\n",
       " (('stoppage', 'congestion'), 17.872446435470106),\n",
       " (('straits', 'dover'), 17.872446435470106),\n",
       " (('stromílova', 'dmítrovsk'), 17.872446435470106),\n",
       " (('sucking', 'chalice'), 17.872446435470106),\n",
       " (('sufferer', 'postulant'), 17.872446435470106),\n",
       " (('supernaturally', 'impotent'), 17.872446435470106),\n",
       " (('tableaux', 'vivant'), 17.872446435470106),\n",
       " (('theft', 'forgery'), 17.872446435470106),\n",
       " (('theoretical', 'treatise'), 17.872446435470106),\n",
       " (('tilting', 'keg'), 17.872446435470106),\n",
       " (('tittle', 'tattle'), 17.872446435470106),\n",
       " (('tolstoy', 'tolstoi'), 17.872446435470106),\n",
       " (('toujours', 'raison'), 17.872446435470106),\n",
       " (('trading', 'inhabitants'), 17.872446435470106),\n",
       " (('transgression', 'iniquity'), 17.872446435470106),\n",
       " (('transit', 'gloria'), 17.872446435470106),\n",
       " (('trata', 'tat'), 17.872446435470106),\n",
       " (('trouvez', 'là'), 17.872446435470106),\n",
       " (('tss', 'tt'), 17.872446435470106),\n",
       " (('tuscans', 'romans'), 17.872446435470106),\n",
       " (('tutti', 'quanti'), 17.872446435470106),\n",
       " (('unborn', 'babe'), 17.872446435470106),\n",
       " (('unchange', 'stonily'), 17.872446435470106),\n",
       " (('unchangingly', 'unselfishly'), 17.872446435470106),\n",
       " (('vert', 'galant'), 17.872446435470106),\n",
       " (('vien', 'consoler'), 17.872446435470106),\n",
       " (('vif', 'seruvaru'), 17.872446435470106),\n",
       " (('vight', 'tr'), 17.872446435470106),\n",
       " (('vis', 'inertiæ'), 17.872446435470106),\n",
       " (('vivarika', 'vif'), 17.872446435470106),\n",
       " (('vult', 'perdere'), 17.872446435470106),\n",
       " (('washing', 'wharf'), 17.872446435470106),\n",
       " (('wasp', 'butterfly'), 17.872446435470106),\n",
       " (('wead', 'bwethwen'), 17.872446435470106),\n",
       " (('weceive', 'evewyone'), 17.872446435470106),\n",
       " (('weconciliation', 'pwoceed'), 17.872446435470106),\n",
       " (('wefuse', 'weconciliation'), 17.872446435470106),\n",
       " (('wegular', 'bwick'), 17.872446435470106),\n",
       " (('wetweate', 'wetweating'), 17.872446435470106),\n",
       " (('wie', 'naiv'), 17.872446435470106),\n",
       " (('wobbe', 'tweasuwy'), 17.872446435470106),\n",
       " (('woodwork', 'unbuttressed'), 17.872446435470106),\n",
       " (('wotten', 'howwible'), 17.872446435470106),\n",
       " (('württembergers', 'mecklenburgers'), 17.872446435470106),\n",
       " (('york', 'america'), 17.872446435470106),\n",
       " (('zum', 'henker'), 17.872446435470106),\n",
       " (('zweck', 'ist'), 17.872446435470106),\n",
       " (('âme', 'trop'), 17.872446435470106),\n",
       " (('était', 'temps'), 17.872446435470106),\n",
       " (('état', 'généraux'), 17.872446435470106),\n",
       " (('abstiens', 'toi'), 16.872446435470106),\n",
       " (('accompaniment', 'unreasoning'), 16.872446435470106),\n",
       " (('adhere', 'officious'), 16.872446435470106),\n",
       " (('afterglow', 'sunset'), 16.872446435470106),\n",
       " (('alexanders', 'luthers'), 16.872446435470106),\n",
       " (('alexandre', 'russie'), 16.872446435470106),\n",
       " (('alexéevna', 'idiocy'), 16.872446435470106),\n",
       " (('allay', 'cushay'), 16.872446435470106),\n",
       " (('amalek', 'gideon'), 16.872446435470106),\n",
       " (('amie', 'venue'), 16.872446435470106),\n",
       " (('ansicht', 'kann'), 16.872446435470106),\n",
       " (('arc', 'amazon'), 16.872446435470106),\n",
       " (('asiatique', 'aux'), 16.872446435470106),\n",
       " (('austere', 'gibe'), 16.872446435470106),\n",
       " (('aux', 'innombrables'), 16.872446435470106),\n",
       " (('baden', 'weimar'), 16.872446435470106),\n",
       " (('bal', 'machève'), 16.872446435470106),\n",
       " (('barbarism', 'despotism'), 16.872446435470106),\n",
       " (('basket', 'panins'), 16.872446435470106),\n",
       " (('bavarians', 'württembergers'), 16.872446435470106),\n",
       " (('behead', 'despot'), 16.872446435470106),\n",
       " (('bennigsens', 'wintzingerodes'), 16.872446435470106),\n",
       " (('besprinkle', 'powdery'), 16.872446435470106),\n",
       " (('betrayal', 'bourbon'), 16.872446435470106),\n",
       " (('bile', 'accumulate'), 16.872446435470106),\n",
       " (('bisect', 'amphitheater'), 16.872446435470106),\n",
       " (('bluntness', 'geniality'), 16.872446435470106),\n",
       " (('bremen', 'hamburg'), 16.872446435470106),\n",
       " (('bronnítskis', 'wintzingerodes'), 16.872446435470106),\n",
       " (('brumaire', 'imposture'), 16.872446435470106),\n",
       " (('bumblebee', 'wasp'), 16.872446435470106),\n",
       " (('bwinge', 'wobber'), 16.872446435470106),\n",
       " (('bwother', 'gwown'), 16.872446435470106),\n",
       " (('bykov', 'rat'), 16.872446435470106),\n",
       " (('cameo', 'laocoön'), 16.872446435470106),\n",
       " (('capitale', 'asiatique'), 16.872446435470106),\n",
       " (('celui', 'devait'), 16.872446435470106),\n",
       " (('charcoal', 'flake'), 16.872446435470106),\n",
       " (('chemistry', 'botany'), 16.872446435470106),\n",
       " (('childishly', 'rash'), 16.872446435470106),\n",
       " (('coarseness', 'bluntness'), 16.872446435470106),\n",
       " (('college', 'zealously'), 16.872446435470106),\n",
       " (('comprenez', 'rien'), 16.872446435470106),\n",
       " (('conflicting', 'intersect'), 16.872446435470106),\n",
       " (('cooperation', 'coincident'), 16.872446435470106),\n",
       " (('cornfield', 'intersperse'), 16.872446435470106),\n",
       " (('corpulent', 'flaccid'), 16.872446435470106),\n",
       " (('crudele', 'affetto'), 16.872446435470106),\n",
       " (('custodian', 'enforce'), 16.872446435470106),\n",
       " (('dangereux', 'voisinage'), 16.872446435470106),\n",
       " (('danzig', 'königsberg'), 16.872446435470106),\n",
       " (('dat', 'liff'), 16.872446435470106),\n",
       " (('dat', 'zis'), 16.872446435470106),\n",
       " (('deck', 'mast'), 16.872446435470106),\n",
       " (('delve', 'insect'), 16.872446435470106),\n",
       " (('den', 'feind'), 16.872446435470106),\n",
       " (('den', 'verlust'), 16.872446435470106),\n",
       " (('deride', 'helplessness'), 16.872446435470106),\n",
       " (('despotism', 'inscribe'), 16.872446435470106),\n",
       " (('di', 'ra'), 16.872446435470106),\n",
       " (('di', 'ri'), 16.872446435470106),\n",
       " (('diese', 'russen'), 16.872446435470106),\n",
       " (('disputing', 'arguing'), 16.872446435470106),\n",
       " (('dissect', 'dissecting'), 16.872446435470106),\n",
       " (('doleful', 'nocturne'), 16.872446435470106),\n",
       " (('donc', 'enfin'), 16.872446435470106),\n",
       " (('dripping', 'microscopic'), 16.872446435470106),\n",
       " (('dwagge', 'wegiment'), 16.872446435470106),\n",
       " (('elevation', 'pedestal'), 16.872446435470106),\n",
       " (('eloquence', 'unrestrained'), 16.872446435470106),\n",
       " (('eminence', 'women'), 16.872446435470106),\n",
       " (('emptiness', 'desolation'), 16.872446435470106),\n",
       " (('expectancy', 'monologue'), 16.872446435470106),\n",
       " (('exult', 'austerity'), 16.872446435470106),\n",
       " (('feind', 'zu'), 16.872446435470106),\n",
       " (('figner', 'seslávin'), 16.872446435470106),\n",
       " (('foreman', 'spinning'), 16.872446435470106),\n",
       " (('foretaste', 'artistic'), 16.872446435470106),\n",
       " (('furieuse', 'contre'), 16.872446435470106),\n",
       " (('galant', 'triple'), 16.872446435470106),\n",
       " (('galloping', 'advent'), 16.872446435470106),\n",
       " (('ganze', 'welt'), 16.872446435470106),\n",
       " (('garnished', 'joint'), 16.872446435470106),\n",
       " (('gas', 'car'), 16.872446435470106),\n",
       " (('gervinus', 'schlosser'), 16.872446435470106),\n",
       " (('gewiss', 'nicht'), 16.872446435470106),\n",
       " (('gideon', 'midian'), 16.872446435470106),\n",
       " (('glancing', 'wrathfully'), 16.872446435470106),\n",
       " (('gossner', 'tatáwinova'), 16.872446435470106),\n",
       " (('gouvernement', 'français'), 16.872446435470106),\n",
       " (('graze', 'posthouse'), 16.872446435470106),\n",
       " (('grenadiers', 'podolian'), 16.872446435470106),\n",
       " (('gut', 'morgen'), 16.872446435470106),\n",
       " (('hallo', 'gwíska'), 16.872446435470106),\n",
       " (('helpmeet', 'masonry'), 16.872446435470106),\n",
       " (('henri', 'quatre'), 16.872446435470106),\n",
       " (('hieroglyphic', 'hieroglyph'), 16.872446435470106),\n",
       " (('hofs', 'kriegs'), 16.872446435470106),\n",
       " (('hovel', 'sívtsev'), 16.872446435470106),\n",
       " (('hugging', 'kissing'), 16.872446435470106),\n",
       " (('ich', 'nicht'), 16.872446435470106),\n",
       " (('immaculate', 'brand'), 16.872446435470106),\n",
       " (('imposture', 'swindle'), 16.872446435470106),\n",
       " (('impregnable', 'malta'), 16.872446435470106),\n",
       " (('imprudent', 'overresist'), 16.872446435470106),\n",
       " (('incursion', 'barbarian'), 16.872446435470106),\n",
       " (('inimitable', 'unteachable'), 16.872446435470106),\n",
       " (('initiator', 'settlement'), 16.872446435470106),\n",
       " (('innombrables', 'église'), 16.872446435470106),\n",
       " (('inquisitively', 'alertly'), 16.872446435470106),\n",
       " (('invalidity', 'contention'), 16.872446435470106),\n",
       " (('irredeemably', 'indebte'), 16.872446435470106),\n",
       " (('jelly', 'turk'), 16.872446435470106),\n",
       " (('joan', 'arc'), 16.872446435470106),\n",
       " (('jocose', 'chigírin'), 16.872446435470106),\n",
       " (('juan', 'serpent'), 16.872446435470106),\n",
       " (('jug', 'basin'), 16.872446435470106),\n",
       " (('kann', 'ich'), 16.872446435470106),\n",
       " (('karabákh', 'ukranian'), 16.872446435470106),\n",
       " (('karpúshka', 'jeer'), 16.872446435470106),\n",
       " (('kissing', 'outcry'), 16.872446435470106),\n",
       " (('kitchens', 'kneading'), 16.872446435470106),\n",
       " (('kriegs', 'wurst'), 16.872446435470106),\n",
       " (('kámmer', 'kollézski'), 16.872446435470106),\n",
       " (('kúdrino', 'nikítski'), 16.872446435470106),\n",
       " (('legend', 'alësha'), 16.872446435470106),\n",
       " (('lemonade', 'spiral'), 16.872446435470106),\n",
       " (('lenten', 'fare'), 16.872446435470106),\n",
       " (('liebchen', 'prater'), 16.872446435470106),\n",
       " (('machève', 'royauté'), 16.872446435470106),\n",
       " (('madcap', 'playmate'), 16.872446435470106),\n",
       " (('mala', 'tafa'), 16.872446435470106),\n",
       " (('malbrook', 'va'), 16.872446435470106),\n",
       " (('malevolently', 'hypocrite'), 16.872446435470106),\n",
       " (('mann', 'zu'), 16.872446435470106),\n",
       " (('marauding', 'insubordination'), 16.872446435470106),\n",
       " (('martiale', 'bwinge'), 16.872446435470106),\n",
       " (('mathilde', 'weally'), 16.872446435470106),\n",
       " (('mechanical', 'disruption'), 16.872446435470106),\n",
       " (('melyukóva', 'broadly'), 16.872446435470106),\n",
       " (('merrymake', 'somberly'), 16.872446435470106),\n",
       " (('mio', 'crudele'), 16.872446435470106),\n",
       " (('mokhaváya', 'kutáfyev'), 16.872446435470106),\n",
       " (('multiplicity', 'complexity'), 16.872446435470106),\n",
       " (('museum', 'belabor'), 16.872446435470106),\n",
       " (('mysteries', 'héloïse'), 16.872446435470106),\n",
       " (('na', 'tasha'), 16.872446435470106),\n",
       " (('na', 'tásha'), 16.872446435470106),\n",
       " (('nationalism', 'sided'), 16.872446435470106),\n",
       " (('natálya', 'ilyníchna'), 16.872446435470106),\n",
       " (('necessarily', 'untrustworthy'), 16.872446435470106),\n",
       " (('negligence', 'inefficiency'), 16.872446435470106),\n",
       " (('nicht', 'genug'), 16.872446435470106),\n",
       " (('nikítski', 'présnya'), 16.872446435470106),\n",
       " (('nikólski', 'tverskóy'), 16.872446435470106),\n",
       " (('nur', 'den'), 16.872446435470106),\n",
       " (('obstinate', 'contradicting'), 16.872446435470106),\n",
       " (('oscillate', 'limitless'), 16.872446435470106),\n",
       " (('ostrich', 'plumes'), 16.872446435470106),\n",
       " (('oublie', 'celui'), 16.872446435470106),\n",
       " (('pacific', 'conservative'), 16.872446435470106),\n",
       " (('patriarch', 'ponds'), 16.872446435470106),\n",
       " (('patriotisme', 'féroce'), 16.872446435470106),\n",
       " (('pear', 'granny'), 16.872446435470106),\n",
       " (('pedantic', 'preceptor'), 16.872446435470106),\n",
       " (('petisenfans', 'allay'), 16.872446435470106),\n",
       " (('petit', 'peu'), 16.872446435470106),\n",
       " (('peu', 'amoureuse'), 16.872446435470106),\n",
       " (('physiological', 'psychological'), 16.872446435470106),\n",
       " (('picturesqueness', 'chimney'), 16.872446435470106),\n",
       " (('plainer', 'unobtrusive'), 16.872446435470106),\n",
       " (('plus', 'séduisante'), 16.872446435470106),\n",
       " (('plus', 'victorieuse'), 16.872446435470106),\n",
       " (('postulant', 'accompaniment'), 16.872446435470106),\n",
       " (('pre', 'eminence'), 16.872446435470106),\n",
       " (('pronged', 'fork'), 16.872446435470106),\n",
       " (('proverbe', 'jerome'), 16.872446435470106),\n",
       " (('przazdziecka', 'rivalry'), 16.872446435470106),\n",
       " (('quarante', 'deux'), 16.872446435470106),\n",
       " (('quarante', 'mille'), 16.872446435470106),\n",
       " (('quartier', 'logement'), 16.872446435470106),\n",
       " (('quench', 'thirst'), 16.872446435470106),\n",
       " (('quoique', 'étranger'), 16.872446435470106),\n",
       " (('quoit', 'skittle'), 16.872446435470106),\n",
       " (('refine', 'compression'), 16.872446435470106),\n",
       " (('rend', 'exult'), 16.872446435470106),\n",
       " (('retribution', 'recompense'), 16.872446435470106),\n",
       " (('ri', 'di'), 16.872446435470106),\n",
       " (('robe', 'courte'), 16.872446435470106),\n",
       " (('rosenkampf', 'stuck'), 16.872446435470106),\n",
       " (('royalist', 'emigrant'), 16.872446435470106),\n",
       " (('ruby', 'earring'), 16.872446435470106),\n",
       " (('russen', 'kaiser'), 16.872446435470106),\n",
       " (('rusty', 'hinge'), 16.872446435470106),\n",
       " (('sage', 'incontestably'), 16.872446435470106),\n",
       " (('sauce', 'sour'), 16.872446435470106),\n",
       " (('schnapps', 'rath'), 16.872446435470106),\n",
       " (('schwächen', 'kann'), 16.872446435470106),\n",
       " (('scientific', 'enunciation'), 16.872446435470106),\n",
       " (('scotch', 'acts'), 16.872446435470106),\n",
       " (('scruple', 'depose'), 16.872446435470106),\n",
       " (('semiliterate', 'foreman'), 16.872446435470106),\n",
       " (('sera', 'jamais'), 16.872446435470106),\n",
       " (('shaking', 'unintentionally'), 16.872446435470106),\n",
       " (('shallow', 'braggart'), 16.872446435470106),\n",
       " (('showman', 'exhibit'), 16.872446435470106),\n",
       " (('singlehande', 'poorhouse'), 16.872446435470106),\n",
       " (('sneer', 'malevolently'), 16.872446435470106),\n",
       " (('soyez', 'tranquille'), 16.872446435470106),\n",
       " (('spinning', 'mill'), 16.872446435470106),\n",
       " (('sprang', 'helter'), 16.872446435470106),\n",
       " (('sprawling', 'unsymmetrically'), 16.872446435470106),\n",
       " (('stalk', 'wither'), 16.872446435470106),\n",
       " (('stepán', 'stepánovich'), 16.872446435470106),\n",
       " (('stepán', 'stepánych'), 16.872446435470106),\n",
       " (('strictness', 'assiduity'), 16.872446435470106),\n",
       " (('strógonov', 'richly'), 16.872446435470106),\n",
       " (('stwaight', 'wobbe'), 16.872446435470106),\n",
       " (('substantial', 'appetizing'), 16.872446435470106),\n",
       " (('suppert', 'roguet'), 16.872446435470106),\n",
       " (('surly', 'ruder'), 16.872446435470106),\n",
       " (('sushchévski', 'rogózhski'), 16.872446435470106),\n",
       " (('swaying', 'pontoon'), 16.872446435470106),\n",
       " (('sweden', 'practically'), 16.872446435470106),\n",
       " (('sívtsev', 'vrazhók'), 16.872446435470106),\n",
       " (('tafa', 'lafa'), 16.872446435470106),\n",
       " (('tafa', 'safi'), 16.872446435470106),\n",
       " (('tendre', 'mélancholie'), 16.872446435470106),\n",
       " (('thankful', 'bounty'), 16.872446435470106),\n",
       " (('thighbone', 'extract'), 16.872446435470106),\n",
       " (('thirst', 'greediness'), 16.872446435470106),\n",
       " (('thorn', 'danzig'), 16.872446435470106),\n",
       " (('thrashing', 'dislocate'), 16.872446435470106),\n",
       " (('thriving', 'touchingly'), 16.872446435470106),\n",
       " (('thwash', 'scoundwel'), 16.872446435470106),\n",
       " (('toi', 'san'), 16.872446435470106),\n",
       " (('topsy', 'turvy'), 16.872446435470106),\n",
       " (('tranquility', 'congress'), 16.872446435470106),\n",
       " (('transient', 'sweetest'), 16.872446435470106),\n",
       " (('tribe', 'caucasus'), 16.872446435470106),\n",
       " (('trooper', 'nikítenko'), 16.872446435470106),\n",
       " (('tuesdays', 'saturdays'), 16.872446435470106),\n",
       " (('twansport', 'infantwy'), 16.872446435470106),\n",
       " (('typhus', 'pesthouse'), 16.872446435470106),\n",
       " (('ultimately', 'vanquished'), 16.872446435470106),\n",
       " (('unanimous', 'humming'), 16.872446435470106),\n",
       " (('unattractive', 'martyrlike'), 16.872446435470106),\n",
       " (('unbrushed', 'tufts'), 16.872446435470106),\n",
       " (('unconciousness', 'oblivion'), 16.872446435470106),\n",
       " (('underfoot', 'provender'), 16.872446435470106),\n",
       " (('undivided', 'tensely'), 16.872446435470106),\n",
       " (('uniformed', 'besashe'), 16.872446435470106),\n",
       " (('unintentional', 'superciliousness'), 16.872446435470106),\n",
       " (('unmask', 'deceiver'), 16.872446435470106),\n",
       " (('unplaited', 'replaite'), 16.872446435470106),\n",
       " (('unsoldierly', 'comic'), 16.872446435470106),\n",
       " (('uprightness', 'meekness'), 16.872446435470106),\n",
       " (('va', 'ga'), 16.872446435470106),\n",
       " (('vainglorious', 'ambitious'), 16.872446435470106),\n",
       " (('verlegt', 'werden'), 16.872446435470106),\n",
       " (('vernal', 'vesénya'), 16.872446435470106),\n",
       " (('viens', 'calmer'), 16.872446435470106),\n",
       " (('vinegar', 'hoffman'), 16.872446435470106),\n",
       " (('vivacity', 'shiftiness'), 16.872446435470106),\n",
       " (('volkónsky', 'strógonov'), 16.872446435470106),\n",
       " (('votre', 'intimité'), 16.872446435470106),\n",
       " (('votre', 'victoire'), 16.872446435470106),\n",
       " (('walnut', 'almond'), 16.872446435470106),\n",
       " (('wegiment', 'fwo'), 16.872446435470106),\n",
       " (('weib', 'werden'), 16.872446435470106),\n",
       " (('wield', 'unlawful'), 16.872446435470106),\n",
       " (('wool', 'canvas'), 16.872446435470106),\n",
       " (('wurst', 'schnapps'), 16.872446435470106),\n",
       " (('yeux', 'sardinian'), 16.872446435470106),\n",
       " (('zavárzinsk', 'thicket'), 16.872446435470106),\n",
       " (('zu', 'schwächen'), 16.872446435470106),\n",
       " (('zu', 'sein'), 16.872446435470106),\n",
       " (('bélaya', 'tsérkov'), 16.287483934748952),\n",
       " (('frola', 'lavra'), 16.287483934748952),\n",
       " (('maria', 'theresa'), 16.287483934748952),\n",
       " (('accomplishment', 'stupendous'), 16.28748393474895),\n",
       " (('alexéy', 'petróvich'), 16.28748393474895),\n",
       " (('alte', 'herr'), 16.28748393474895),\n",
       " (('amelie', 'exquisite'), 16.28748393474895),\n",
       " (('anniversary', 'coronation'), 16.28748393474895),\n",
       " (('aspen', 'undergrowth'), 16.28748393474895),\n",
       " (('assured', 'excitable'), 16.28748393474895),\n",
       " (('authentic', 'scotch'), 16.28748393474895),\n",
       " (('avec', 'ordre'), 16.28748393474895),\n",
       " (('azóv', 'podólsk'), 16.28748393474895),\n",
       " (('basil', 'beatified'), 16.28748393474895),\n",
       " (('beatified', 'borovítski'), 16.28748393474895),\n",
       " (('beatified', 'raze'), 16.28748393474895),\n",
       " (('blunt', 'jagged'), 16.28748393474895),\n",
       " (('bondage', 'glorify'), 16.28748393474895),\n",
       " (('booby', 'refill'), 16.28748393474895),\n",
       " (('botany', 'zoology'), 16.28748393474895),\n",
       " (('bout', 'rimés'), 16.28748393474895),\n",
       " (('bowing', 'scraping'), 16.28748393474895),\n",
       " (('brindle', 'cow'), 16.28748393474895),\n",
       " (('bureau', 'screened'), 16.28748393474895),\n",
       " (('burglary', 'incendiarism'), 16.28748393474895),\n",
       " (('bweak', 'thwough'), 16.28748393474895),\n",
       " (('caesar', 'commentaries'), 16.28748393474895),\n",
       " (('caution', 'malcontent'), 16.28748393474895),\n",
       " (('charmante', 'aussi'), 16.28748393474895),\n",
       " (('cherry', 'alder'), 16.28748393474895),\n",
       " (('childbearing', 'languor'), 16.28748393474895),\n",
       " (('chinese', 'handleless'), 16.28748393474895),\n",
       " (('chinese', 'pagoda'), 16.28748393474895),\n",
       " (('christmastime', 'deem'), 16.28748393474895),\n",
       " (('chronicler', 'crusades'), 16.28748393474895),\n",
       " (('citadel', 'barricade'), 16.28748393474895),\n",
       " (('classically', 'mold'), 16.28748393474895),\n",
       " (('comme', 'cet'), 16.28748393474895),\n",
       " (('comparative', 'philology'), 16.28748393474895),\n",
       " (('compensate', 'expenditure'), 16.28748393474895),\n",
       " (('compulsion', 'correspondingly'), 16.28748393474895),\n",
       " (('coquetry', 'ulterior'), 16.28748393474895),\n",
       " (('cordiality', 'goodhearte'), 16.28748393474895),\n",
       " (('coronation', 'milan'), 16.28748393474895),\n",
       " (('craftsman', 'industrious'), 16.28748393474895),\n",
       " (('crease', 'crumpled'), 16.28748393474895),\n",
       " (('cricket', 'chirp'), 16.28748393474895),\n",
       " (('cricket', 'grasshopper'), 16.28748393474895),\n",
       " (('crusade', 'deliverance'), 16.28748393474895),\n",
       " (('cucumber', 'strawberry'), 16.28748393474895),\n",
       " (('da', 'gas'), 16.28748393474895),\n",
       " (('deject', 'shun'), 16.28748393474895),\n",
       " (('denís', 'davýdov'), 16.28748393474895),\n",
       " (('descendant', 'rúrik'), 16.28748393474895),\n",
       " (('desirable', 'imitator'), 16.28748393474895),\n",
       " (('device', 'analogy'), 16.28748393474895),\n",
       " (('diable', 'allait'), 16.28748393474895),\n",
       " (('diable', 'voyon'), 16.28748393474895),\n",
       " (('dishonesty', 'irregularity'), 16.28748393474895),\n",
       " (('diversion', 'greece'), 16.28748393474895),\n",
       " (('donor', 'contribute'), 16.28748393474895),\n",
       " (('dram', 'da'), 16.28748393474895),\n",
       " (('dreamer', 'satirist'), 16.28748393474895),\n",
       " (('dutch', 'belgians'), 16.28748393474895),\n",
       " (('dwink', 'dwown'), 16.28748393474895),\n",
       " (('edifying', 'exhortation'), 16.28748393474895),\n",
       " (('ethnographic', 'economic'), 16.28748393474895),\n",
       " (('exaggerated', 'grasseyement'), 16.28748393474895),\n",
       " (('faithfully', 'unchangingly'), 16.28748393474895),\n",
       " (('falcon', 'platósha'), 16.28748393474895),\n",
       " (('fatale', 'redoute'), 16.28748393474895),\n",
       " (('fera', 'danser'), 16.28748393474895),\n",
       " (('firewood', 'network'), 16.28748393474895),\n",
       " (('flatten', 'pancake'), 16.28748393474895),\n",
       " (('flaunt', 'dreary'), 16.28748393474895),\n",
       " (('flogging', 'drilling'), 16.28748393474895),\n",
       " (('foh', 'dwink'), 16.28748393474895),\n",
       " (('foi', 'ni'), 16.28748393474895),\n",
       " (('forefather', 'adam'), 16.28748393474895),\n",
       " (('front', 'bookcase'), 16.28748393474895),\n",
       " (('fruschtique', 'fóka'), 16.28748393474895),\n",
       " (('gathers', 'pollen'), 16.28748393474895),\n",
       " (('genoa', 'lucca'), 16.28748393474895),\n",
       " (('gingerbread', 'poppysee'), 16.28748393474895),\n",
       " (('golukhovski', 'bargain'), 16.28748393474895),\n",
       " (('goot', 'vish'), 16.28748393474895),\n",
       " (('grandiloquently', 'saltánov'), 16.28748393474895),\n",
       " (('gueules', 'maison'), 16.28748393474895),\n",
       " (('husky', 'melodious'), 16.28748393474895),\n",
       " (('impetuosity', 'catchplay'), 16.28748393474895),\n",
       " (('incontestable', 'certains'), 16.28748393474895),\n",
       " (('incredulously', 'abashed'), 16.28748393474895),\n",
       " (('individuality', 'originality'), 16.28748393474895),\n",
       " (('infest', 'lice'), 16.28748393474895),\n",
       " (('insulted', 'autocratic'), 16.28748393474895),\n",
       " (('interrupted', 'gabion'), 16.28748393474895),\n",
       " (('intimité', 'avec'), 16.28748393474895),\n",
       " (('investigation', 'abundantly'), 16.28748393474895),\n",
       " (('italians', 'neapolitans'), 16.28748393474895),\n",
       " (('jamais', 'notre'), 16.28748393474895),\n",
       " (('justly', 'unjustly'), 16.28748393474895),\n",
       " (('khamóvniki', 'unburned'), 16.28748393474895),\n",
       " (('kámenka', 'unfrocked'), 16.28748393474895),\n",
       " (('labored', 'transition'), 16.28748393474895),\n",
       " (('lance', 'unfolded'), 16.28748393474895),\n",
       " (('literally', 'penny'), 16.28748393474895),\n",
       " (('lordship', 'bishop'), 16.28748393474895),\n",
       " (('maggot', 'gnaw'), 16.28748393474895),\n",
       " (('malice', 'enmity'), 16.28748393474895),\n",
       " (('manqué', 'parole'), 16.28748393474895),\n",
       " (('marengo', 'arcola'), 16.28748393474895),\n",
       " (('markedly', 'chairman'), 16.28748393474895),\n",
       " (('mask', 'unconcern'), 16.28748393474895),\n",
       " (('matthew', 'ermíshin'), 16.28748393474895),\n",
       " (('mecklenburgers', 'spaniards'), 16.28748393474895),\n",
       " (('midian', 'david'), 16.28748393474895),\n",
       " (('mined', 'doubly'), 16.28748393474895),\n",
       " (('mischief', 'maker'), 16.28748393474895),\n",
       " (('moderate', 'amicable'), 16.28748393474895),\n",
       " (('multitude', 'immensity'), 16.28748393474895),\n",
       " (('mumble', 'toothless'), 16.28748393474895),\n",
       " (('máshka', 'woot'), 16.28748393474895),\n",
       " (('nightingale', 'trill'), 16.28748393474895),\n",
       " (('northwesterly', 'portion'), 16.28748393474895),\n",
       " (('notre', 'alliée'), 16.28748393474895),\n",
       " (('notre', 'possibilité'), 16.28748393474895),\n",
       " (('obsess', 'persistent'), 16.28748393474895),\n",
       " (('obtuseness', 'disarm'), 16.28748393474895),\n",
       " (('oily', 'fiery'), 16.28748393474895),\n",
       " (('organic', 'elemental'), 16.28748393474895),\n",
       " (('originality', 'glínka'), 16.28748393474895),\n",
       " (('outstrip', 'boss'), 16.28748393474895),\n",
       " (('paraît', 'incontestable'), 16.28748393474895),\n",
       " (('percolate', 'sand'), 16.28748393474895),\n",
       " (('picking', 'flea'), 16.28748393474895),\n",
       " (('planning', 'disquiet'), 16.28748393474895),\n",
       " (('podnovínsk', 'streets'), 16.28748393474895),\n",
       " (('poisonous', 'nourishment'), 16.28748393474895),\n",
       " (('portion', 'thighbone'), 16.28748393474895),\n",
       " (('potëmkins', 'suvórovs'), 16.28748393474895),\n",
       " (('praskóvya', 'sávishna'), 16.28748393474895),\n",
       " (('premises', 'contribute'), 16.28748393474895),\n",
       " (('profligacy', 'illuminism'), 16.28748393474895),\n",
       " (('pseudo', 'healers'), 16.28748393474895),\n",
       " (('pwince', 'andwew'), 16.28748393474895),\n",
       " (('pyramid', 'chessman'), 16.28748393474895),\n",
       " (('púshkin', 'bout'), 16.28748393474895),\n",
       " (('rainy', 'autumnal'), 16.28748393474895),\n",
       " (('ranks', 'bareheade'), 16.28748393474895),\n",
       " (('rash', 'uncalled'), 16.28748393474895),\n",
       " (('rectify', 'omission'), 16.28748393474895),\n",
       " (('refill', 'reheat'), 16.28748393474895),\n",
       " (('repetition', 'denial'), 16.28748393474895),\n",
       " (('reviendra', 'marlborough'), 16.28748393474895),\n",
       " (('righteousness', 'strengthening'), 16.28748393474895),\n",
       " (('ripple', 'eddy'), 16.28748393474895),\n",
       " (('rotten', 'maggoty'), 16.28748393474895),\n",
       " (('sailing', 'unveil'), 16.28748393474895),\n",
       " (('sans', 'reproche'), 16.28748393474895),\n",
       " (('scorch', 'intolerably'), 16.28748393474895),\n",
       " (('seller', 'buyer'), 16.28748393474895),\n",
       " (('shone', 'fairer'), 16.28748393474895),\n",
       " (('silken', 'hanging'), 16.28748393474895),\n",
       " (('solid', 'vault'), 16.28748393474895),\n",
       " (('sonata', 'dussek'), 16.28748393474895),\n",
       " (('sowing', 'reaping'), 16.28748393474895),\n",
       " (('spirituous', 'fragrant'), 16.28748393474895),\n",
       " (('splintered', 'portion'), 16.28748393474895),\n",
       " (('spotless', 'noticeably'), 16.28748393474895),\n",
       " (('strawberry', 'veal'), 16.28748393474895),\n",
       " (('stre', 'aspen'), 16.28748393474895),\n",
       " (('studied', 'carelessness'), 16.28748393474895),\n",
       " (('suited', 'careworn'), 16.28748393474895),\n",
       " (('superintend', 'placing'), 16.28748393474895),\n",
       " (('suvórovs', 'orlóvs'), 16.28748393474895),\n",
       " (('t', 'wo'), 16.28748393474895),\n",
       " (('tawny', 'tint'), 16.28748393474895),\n",
       " (('tearing', 'twisting'), 16.28748393474895),\n",
       " (('thickest', 'volley'), 16.28748393474895),\n",
       " (('thwough', 'hundwe'), 16.28748393474895),\n",
       " (('tin', 'font'), 16.28748393474895),\n",
       " (('tint', 'complexion'), 16.28748393474895),\n",
       " (('trader', 'agriculturist'), 16.28748393474895),\n",
       " (('trotter', 'stylish'), 16.28748393474895),\n",
       " (('turrete', 'nunnery'), 16.28748393474895),\n",
       " (('twofold', 'firstly'), 16.28748393474895),\n",
       " (('twy', 'afwaid'), 16.28748393474895),\n",
       " (('twy', 'thwash'), 16.28748393474895),\n",
       " (('twy', 'wobbewy'), 16.28748393474895),\n",
       " (('unabashed', 'meditative'), 16.28748393474895),\n",
       " (('uncalled', 'ignoble'), 16.28748393474895),\n",
       " (('uninterrupted', 'shaping'), 16.28748393474895),\n",
       " (('uninvited', 'defender'), 16.28748393474895),\n",
       " (('unreal', 'immobility'), 16.28748393474895),\n",
       " (('unsolicited', 'inexplicable'), 16.28748393474895),\n",
       " (('unsymmetrically', 'gnarl'), 16.28748393474895),\n",
       " (('venomously', 'retort'), 16.28748393474895),\n",
       " (('verdure', 'thicken'), 16.28748393474895),\n",
       " (('vesénny', 'vernal'), 16.28748393474895),\n",
       " (('vie', 'cavalier'), 16.28748393474895),\n",
       " (('villier', 'physician'), 16.28748393474895),\n",
       " (('visionary', 'sinful'), 16.28748393474895),\n",
       " (('vocal', 'organ'), 16.28748393474895),\n",
       " (('voluntary', 'contributions'), 16.28748393474895),\n",
       " (('warmed', 'fragrant'), 16.28748393474895),\n",
       " (('whine', 'straggling'), 16.28748393474895),\n",
       " (('witch', 'clown'), 16.28748393474895),\n",
       " (('wo', 'thwee'), 16.28748393474895),\n",
       " (('worldliness', 'senselessness'), 16.28748393474895),\n",
       " (('zen', 'vill'), 16.28748393474895),\n",
       " (('zoology', 'frog'), 16.28748393474895),\n",
       " (('blindman', 'buff'), 15.872446435470108),\n",
       " (('constantine', 'pávlovich'), 15.872446435470108),\n",
       " (('godfreys', 'minnesingers'), 15.872446435470108),\n",
       " (('ozheg', 'zheg'), 15.872446435470108),\n",
       " (('abundance', 'housewife'), 15.872446435470106),\n",
       " (('accompaniment', 'knocking'), 15.872446435470106),\n",
       " (('acquaintances', 'mixed'), 15.872446435470106),\n",
       " (('administration', 'devoutly'), 15.872446435470106),\n",
       " (('admirer', 'montesquieu'), 15.872446435470106),\n",
       " (('adonai', 'creator'), 15.872446435470106),\n",
       " (('adoration', 'lubricant'), 15.872446435470106),\n",
       " (('adèle', 'tempt'), 15.872446435470106),\n",
       " (('agent', 'nitrogen'), 15.872446435470106),\n",
       " (('aggrandizement', 'antinational'), 15.872446435470106),\n",
       " (('agricultural', 'laborer'), 15.872446435470106),\n",
       " (('allon', 'lui'), 15.872446435470106),\n",
       " (('angling', 'grandson'), 15.872446435470106),\n",
       " (('antónovna', 'narýshkina'), 15.872446435470106),\n",
       " (('appetize', 'nourish'), 15.872446435470106),\n",
       " (('approbation', 'schubert'), 15.872446435470106),\n",
       " (('arnauts', 'arnauts'), 15.872446435470106),\n",
       " (('arsenic', 'stealthily'), 15.872446435470106),\n",
       " (('assez', 'fait'), 15.872446435470106),\n",
       " (('astounding', 'egypt'), 15.872446435470106),\n",
       " (('athletic', 'nape'), 15.872446435470106),\n",
       " (('avez', 'fait'), 15.872446435470106),\n",
       " (('bah', 'scurry'), 15.872446435470106),\n",
       " (('bake', 'cooked'), 15.872446435470106),\n",
       " (('baker', 'signboard'), 15.872446435470106),\n",
       " (('bathing', 'liquid'), 15.872446435470106),\n",
       " (('beau', 'temp'), 15.872446435470106),\n",
       " (('bespatter', 'dashboard'), 15.872446435470106),\n",
       " (('blindman', 'bulff'), 15.872446435470106),\n",
       " (('bloated', 'gaunt'), 15.872446435470106),\n",
       " (('bon', 'principe'), 15.872446435470106),\n",
       " (('bone', 'bill'), 15.872446435470106),\n",
       " (('bonne', 'amie'), 15.872446435470106),\n",
       " (('bugler', 'sount'), 15.872446435470106),\n",
       " (('bump', 'paternity'), 15.872446435470106),\n",
       " (('caesars', 'alexanders'), 15.872446435470106),\n",
       " (('cahd', 'cahd'), 15.872446435470106),\n",
       " (('cardboard', 'queerly'), 15.872446435470106),\n",
       " (('cardboard', 'representing'), 15.872446435470106),\n",
       " (('carousal', 'danílov'), 15.872446435470106),\n",
       " (('cat', 'mouse'), 15.872446435470106),\n",
       " (('cheerfulness', 'infectious'), 15.872446435470106),\n",
       " (('chimney', 'stack'), 15.872446435470106),\n",
       " (('churn', 'inch'), 15.872446435470106),\n",
       " (('coarsest', 'reckless'), 15.872446435470106),\n",
       " (('colosseum', 'cabman'), 15.872446435470106),\n",
       " (('commerce', 'craftsmanship'), 15.872446435470106),\n",
       " (('commerce', 'handicraft'), 15.872446435470106),\n",
       " (('compensation', 'mutilation'), 15.872446435470106),\n",
       " (('conceite', 'selfish'), 15.872446435470106),\n",
       " (('conclusive', 'evidence'), 15.872446435470106),\n",
       " (('conducing', 'cheerfulness'), 15.872446435470106),\n",
       " (('conjugal', 'fidelity'), 15.872446435470106),\n",
       " (('conscientious', 'methodical'), 15.872446435470106),\n",
       " (('contention', 'bastard'), 15.872446435470106),\n",
       " (('conversant', 'unwritten'), 15.872446435470106),\n",
       " (('counter', 'imitation'), 15.872446435470106),\n",
       " (('courtship', 'skeptically'), 15.872446435470106),\n",
       " (('cousinage', 'dangereux'), 15.872446435470106),\n",
       " (('crafty', 'dissolute'), 15.872446435470106),\n",
       " (('cream', 'carrot'), 15.872446435470106),\n",
       " (('creation', 'firmament'), 15.872446435470106),\n",
       " (('crisis', 'convalescent'), 15.872446435470106),\n",
       " (('dangle', 'fragment'), 15.872446435470106),\n",
       " (('dealing', 'ilyúshka'), 15.872446435470106),\n",
       " (('derogatory', 'manhood'), 15.872446435470106),\n",
       " (('deserter', 'knoute'), 15.872446435470106),\n",
       " (('despised', 'rogue'), 15.872446435470106),\n",
       " (('detonator', 'explode'), 15.872446435470106),\n",
       " (('dictionary', 'unwilling'), 15.872446435470106),\n",
       " (('dimension', 'adhesion'), 15.872446435470106),\n",
       " (('disagree', 'frühstück'), 15.872446435470106),\n",
       " (('disintereste', 'crank'), 15.872446435470106),\n",
       " (('dismally', 'rack'), 15.872446435470106),\n",
       " (('doorpost', 'bowed'), 15.872446435470106),\n",
       " (('dove', 'fable'), 15.872446435470106),\n",
       " (('dowerless', 'orphan'), 15.872446435470106),\n",
       " (('drank', 'moderately'), 15.872446435470106),\n",
       " (('dumb', 'introduction'), 15.872446435470106),\n",
       " (('earnestness', 'tremor'), 15.872446435470106),\n",
       " (('elaborate', 'courtesy'), 15.872446435470106),\n",
       " (('enchantress', 'forsaken'), 15.872446435470106),\n",
       " (('epistles', 'gospels'), 15.872446435470106),\n",
       " (('ethical', 'philosophic'), 15.872446435470106),\n",
       " (('evacuate', 'malta'), 15.872446435470106),\n",
       " (('f', 'g'), 15.872446435470106),\n",
       " (('fairer', 'faraway'), 15.872446435470106),\n",
       " (('fameuse', 'ville'), 15.872446435470106),\n",
       " (('fantastic', 'transforming'), 15.872446435470106),\n",
       " (('faraway', 'dreamy'), 15.872446435470106),\n",
       " (('farming', 'bettah'), 15.872446435470106),\n",
       " (('farming', 'thrifty'), 15.872446435470106),\n",
       " (('farthest', 'unlimbered'), 15.872446435470106),\n",
       " (('feasible', 'villeneuve'), 15.872446435470106),\n",
       " (('filez', 'filez'), 15.872446435470106),\n",
       " (('firework', 'zakret'), 15.872446435470106),\n",
       " (('firmament', 'miracle'), 15.872446435470106),\n",
       " (('foreleg', 'ulyulyulyulyu'), 15.872446435470106),\n",
       " (('formidable', 'wolfhound'), 15.872446435470106),\n",
       " (('founder', 'sect'), 15.872446435470106),\n",
       " (('franc', 'pension'), 15.872446435470106),\n",
       " (('franz', 'thaler'), 15.872446435470106),\n",
       " (('français', 'sont'), 15.872446435470106),\n",
       " (('fëdor', 'fëdor'), 15.872446435470106),\n",
       " (('g', 'h'), 15.872446435470106),\n",
       " (('gang', 'carpenter'), 15.872446435470106),\n",
       " (('gav', 'moses'), 15.872446435470106),\n",
       " (('genuine', 'émigrés'), 15.872446435470106),\n",
       " (('geometric', 'formation'), 15.872446435470106),\n",
       " (('gerákov', 'lecture'), 15.872446435470106),\n",
       " (('gloat', 'gloat'), 15.872446435470106),\n",
       " (('goose', 'suckle'), 15.872446435470106),\n",
       " (('grande', 'dame'), 15.872446435470106),\n",
       " (('greasy', 'viand'), 15.872446435470106),\n",
       " (('greece', 'warsaw'), 15.872446435470106),\n",
       " (('grippe', 'grippe'), 15.872446435470106),\n",
       " (('grizzle', 'strand'), 15.872446435470106),\n",
       " (('grotesque', 'amazing'), 15.872446435470106),\n",
       " (('grunt', 'squealed'), 15.872446435470106),\n",
       " (('h', 'k'), 15.872446435470106),\n",
       " (('hatch', 'tease'), 15.872446435470106),\n",
       " (('hessians', 'bavarians'), 15.872446435470106),\n",
       " (('hi', 'tproo'), 15.872446435470106),\n",
       " (('hoch', 'oestreicher'), 15.872446435470106),\n",
       " (('iligin', 'upland'), 15.872446435470106),\n",
       " (('illustrious', 'patroness'), 15.872446435470106),\n",
       " (('impoverished', 'enrich'), 15.872446435470106),\n",
       " (('impudence', 'impudence'), 15.872446435470106),\n",
       " (('indigestion', 'indigestion'), 15.872446435470106),\n",
       " (('informed', 'foregather'), 15.872446435470106),\n",
       " (('interconnect', 'infinitesimal'), 15.872446435470106),\n",
       " (('intermittently', 'consistently'), 15.872446435470106),\n",
       " (('intricate', 'tangle'), 15.872446435470106),\n",
       " (('invest', 'pomp'), 15.872446435470106),\n",
       " (('jerome', 'jerome'), 15.872446435470106),\n",
       " (('jewish', 'greek'), 15.872446435470106),\n",
       " (('jews', 'offering'), 15.872446435470106),\n",
       " (('k', 'l'), 15.872446435470106),\n",
       " (('karpúshka', 'chigírin'), 15.872446435470106),\n",
       " (('ke', 'zaletáev'), 15.872446435470106),\n",
       " (('kepler', 'newton'), 15.872446435470106),\n",
       " (('kneading', 'bake'), 15.872446435470106),\n",
       " (('krásnaya', 'pakhrá'), 15.872446435470106),\n",
       " (('laborer', 'mikólka'), 15.872446435470106),\n",
       " (('laden', 'hardtack'), 15.872446435470106),\n",
       " (('latrine', 'voilà'), 15.872446435470106),\n",
       " (('len', 'len'), 15.872446435470106),\n",
       " (('len', 'lency'), 15.872446435470106),\n",
       " (('lenient', 'rudeness'), 15.872446435470106),\n",
       " (('liar', 'kiselëv'), 15.872446435470106),\n",
       " (('limitless', 'vista'), 15.872446435470106),\n",
       " (('limply', 'brisk'), 15.872446435470106),\n",
       " (('liquid', 'impure'), 15.872446435470106),\n",
       " (('locate', 'background'), 15.872446435470106),\n",
       " (('lorgnette', 'elevated'), 15.872446435470106),\n",
       " (('lui', 'parce'), 15.872446435470106),\n",
       " (('lyádov', 'upland'), 15.872446435470106),\n",
       " (('mare', 'foal'), 15.872446435470106),\n",
       " (('mast', 'rig'), 15.872446435470106),\n",
       " (('matchmaking', 'chronicle'), 15.872446435470106),\n",
       " (('menacingly', 'unlimbered'), 15.872446435470106),\n",
       " (('mercury', 'fluid'), 15.872446435470106),\n",
       " (('mettlesome', 'donéts'), 15.872446435470106),\n",
       " (('microscopic', 'particle'), 15.872446435470106),\n",
       " (('miracle', 'joshua'), 15.872446435470106),\n",
       " (('misshapen', 'grim'), 15.872446435470106),\n",
       " (('moldavia', 'wallachia'), 15.872446435470106),\n",
       " (('monitress', 'implicitly'), 15.872446435470106),\n",
       " (('moses', 'amalek'), 15.872446435470106),\n",
       " (('moskowa', 'sacré'), 15.872446435470106),\n",
       " (('muffled', 'guttural'), 15.872446435470106),\n",
       " (('mull', 'brandy'), 15.872446435470106),\n",
       " (('naturalist', 'follower'), 15.872446435470106),\n",
       " (('newton', 'enunciate'), 15.872446435470106),\n",
       " (('nicht', 'den'), 15.872446435470106),\n",
       " (('nikoláevna', 'ivánovs'), 15.872446435470106),\n",
       " (('nikíta', 'vanya'), 15.872446435470106),\n",
       " (('nitrogen', 'oxygen'), 15.872446435470106),\n",
       " (('nuts', 'raw'), 15.872446435470106),\n",
       " (('oestreicher', 'hoch'), 15.872446435470106),\n",
       " (('officier', 'fait'), 15.872446435470106),\n",
       " (('om', 'pa'), 15.872446435470106),\n",
       " (('oreille', 'voilà'), 15.872446435470106),\n",
       " (('otkupshchík', 'mayor'), 15.872446435470106),\n",
       " (('ouh', 'ouh'), 15.872446435470106),\n",
       " (('oval', 'antique'), 15.872446435470106),\n",
       " (('pa', 'ny'), 15.872446435470106),\n",
       " (('parisian', 'league'), 15.872446435470106),\n",
       " (('parliament', 'newspaper'), 15.872446435470106),\n",
       " (('particle', 'drizzle'), 15.872446435470106),\n",
       " (('passenger', 'carpenter'), 15.872446435470106),\n",
       " (('pe', 'vell'), 15.872446435470106),\n",
       " (('pernetti', 'fouché'), 15.872446435470106),\n",
       " (('photius', 'schelling'), 15.872446435470106),\n",
       " ...]"
      ]
     },
     "execution_count": 46,
     "metadata": {},
     "output_type": "execute_result"
    }
   ],
   "source": [
    "BigramCollocationFinder.from_words(lemmatized_text.split()).\\\n",
    "    score_ngrams(BigramAssocMeasures().pmi)"
   ]
  },
  {
   "cell_type": "markdown",
   "id": "f678414e",
   "metadata": {},
   "source": [
    "## POS tags"
   ]
  },
  {
   "cell_type": "code",
   "execution_count": 47,
   "id": "215334c4",
   "metadata": {},
   "outputs": [],
   "source": [
    "pos_dict = {}\n",
    "pos_dict['word'] = []\n",
    "pos_dict['POS'] = []\n",
    "for word in processed_text:\n",
    "    if word.is_alpha and not word.is_stop:\n",
    "        pos_dict['word'].append(word.lower_)\n",
    "        pos_dict['POS'].append(word.pos_)\n",
    "        \n",
    "wnp_pos_df = pd.DataFrame(pos_dict)"
   ]
  },
  {
   "cell_type": "code",
   "execution_count": 48,
   "id": "58c8386b",
   "metadata": {},
   "outputs": [],
   "source": [
    "pos_counts = wnp_pos_df.groupby('POS').count().\\\n",
    "                sort_values(by='word', ascending=False).head(10)\n",
    "pos_counts.columns = ['count']"
   ]
  },
  {
   "cell_type": "code",
   "execution_count": 49,
   "id": "0abe5576",
   "metadata": {},
   "outputs": [
    {
     "data": {
      "text/html": [
       "<div>\n",
       "<style scoped>\n",
       "    .dataframe tbody tr th:only-of-type {\n",
       "        vertical-align: middle;\n",
       "    }\n",
       "\n",
       "    .dataframe tbody tr th {\n",
       "        vertical-align: top;\n",
       "    }\n",
       "\n",
       "    .dataframe thead th {\n",
       "        text-align: right;\n",
       "    }\n",
       "</style>\n",
       "<table border=\"1\" class=\"dataframe\">\n",
       "  <thead>\n",
       "    <tr style=\"text-align: right;\">\n",
       "      <th></th>\n",
       "      <th>count</th>\n",
       "    </tr>\n",
       "    <tr>\n",
       "      <th>POS</th>\n",
       "      <th></th>\n",
       "    </tr>\n",
       "  </thead>\n",
       "  <tbody>\n",
       "    <tr>\n",
       "      <th>NOUN</th>\n",
       "      <td>92285</td>\n",
       "    </tr>\n",
       "    <tr>\n",
       "      <th>VERB</th>\n",
       "      <td>72675</td>\n",
       "    </tr>\n",
       "    <tr>\n",
       "      <th>PROPN</th>\n",
       "      <td>30427</td>\n",
       "    </tr>\n",
       "    <tr>\n",
       "      <th>ADJ</th>\n",
       "      <td>29536</td>\n",
       "    </tr>\n",
       "    <tr>\n",
       "      <th>ADV</th>\n",
       "      <td>11077</td>\n",
       "    </tr>\n",
       "    <tr>\n",
       "      <th>INTJ</th>\n",
       "      <td>1452</td>\n",
       "    </tr>\n",
       "    <tr>\n",
       "      <th>SCONJ</th>\n",
       "      <td>942</td>\n",
       "    </tr>\n",
       "    <tr>\n",
       "      <th>X</th>\n",
       "      <td>479</td>\n",
       "    </tr>\n",
       "    <tr>\n",
       "      <th>ADP</th>\n",
       "      <td>405</td>\n",
       "    </tr>\n",
       "    <tr>\n",
       "      <th>NUM</th>\n",
       "      <td>379</td>\n",
       "    </tr>\n",
       "  </tbody>\n",
       "</table>\n",
       "</div>"
      ],
      "text/plain": [
       "       count\n",
       "POS         \n",
       "NOUN   92285\n",
       "VERB   72675\n",
       "PROPN  30427\n",
       "ADJ    29536\n",
       "ADV    11077\n",
       "INTJ    1452\n",
       "SCONJ    942\n",
       "X        479\n",
       "ADP      405\n",
       "NUM      379"
      ]
     },
     "execution_count": 49,
     "metadata": {},
     "output_type": "execute_result"
    }
   ],
   "source": [
    "pos_counts"
   ]
  },
  {
   "cell_type": "code",
   "execution_count": 50,
   "id": "2af59ad5",
   "metadata": {},
   "outputs": [],
   "source": [
    "wnp_pos_df['count'] = 1"
   ]
  },
  {
   "cell_type": "code",
   "execution_count": 51,
   "id": "de6104c9",
   "metadata": {},
   "outputs": [
    {
     "data": {
      "text/html": [
       "<div>\n",
       "<style scoped>\n",
       "    .dataframe tbody tr th:only-of-type {\n",
       "        vertical-align: middle;\n",
       "    }\n",
       "\n",
       "    .dataframe tbody tr th {\n",
       "        vertical-align: top;\n",
       "    }\n",
       "\n",
       "    .dataframe thead th {\n",
       "        text-align: right;\n",
       "    }\n",
       "</style>\n",
       "<table border=\"1\" class=\"dataframe\">\n",
       "  <thead>\n",
       "    <tr style=\"text-align: right;\">\n",
       "      <th></th>\n",
       "      <th></th>\n",
       "      <th>count</th>\n",
       "    </tr>\n",
       "    <tr>\n",
       "      <th>POS</th>\n",
       "      <th>word</th>\n",
       "      <th></th>\n",
       "    </tr>\n",
       "  </thead>\n",
       "  <tbody>\n",
       "    <tr>\n",
       "      <th>VERB</th>\n",
       "      <th>said</th>\n",
       "      <td>2839</td>\n",
       "    </tr>\n",
       "    <tr>\n",
       "      <th rowspan=\"3\" valign=\"top\">PROPN</th>\n",
       "      <th>pierre</th>\n",
       "      <td>1963</td>\n",
       "    </tr>\n",
       "    <tr>\n",
       "      <th>prince</th>\n",
       "      <td>1590</td>\n",
       "    </tr>\n",
       "    <tr>\n",
       "      <th>natásha</th>\n",
       "      <td>1210</td>\n",
       "    </tr>\n",
       "    <tr>\n",
       "      <th>NOUN</th>\n",
       "      <th>man</th>\n",
       "      <td>1172</td>\n",
       "    </tr>\n",
       "    <tr>\n",
       "      <th>PROPN</th>\n",
       "      <th>andrew</th>\n",
       "      <td>1141</td>\n",
       "    </tr>\n",
       "    <tr>\n",
       "      <th rowspan=\"2\" valign=\"top\">NOUN</th>\n",
       "      <th>time</th>\n",
       "      <td>927</td>\n",
       "    </tr>\n",
       "    <tr>\n",
       "      <th>face</th>\n",
       "      <td>883</td>\n",
       "    </tr>\n",
       "    <tr>\n",
       "      <th rowspan=\"2\" valign=\"top\">VERB</th>\n",
       "      <th>went</th>\n",
       "      <td>862</td>\n",
       "    </tr>\n",
       "    <tr>\n",
       "      <th>know</th>\n",
       "      <td>846</td>\n",
       "    </tr>\n",
       "  </tbody>\n",
       "</table>\n",
       "</div>"
      ],
      "text/plain": [
       "               count\n",
       "POS   word          \n",
       "VERB  said      2839\n",
       "PROPN pierre    1963\n",
       "      prince    1590\n",
       "      natásha   1210\n",
       "NOUN  man       1172\n",
       "PROPN andrew    1141\n",
       "NOUN  time       927\n",
       "      face       883\n",
       "VERB  went       862\n",
       "      know       846"
      ]
     },
     "execution_count": 51,
     "metadata": {},
     "output_type": "execute_result"
    }
   ],
   "source": [
    "wnp_pos_df.groupby(['POS', 'word']).count().\\\n",
    "    sort_values(by='count', ascending=False).head(10)"
   ]
  },
  {
   "cell_type": "code",
   "execution_count": 52,
   "id": "fec3bbfb",
   "metadata": {},
   "outputs": [
    {
     "data": {
      "text/plain": [
       "{'ADJ': 'adjective',\n",
       " 'ADP': 'adposition',\n",
       " 'ADV': 'adverb',\n",
       " 'AUX': 'auxiliary',\n",
       " 'CONJ': 'conjunction',\n",
       " 'CCONJ': 'coordinating conjunction',\n",
       " 'DET': 'determiner',\n",
       " 'INTJ': 'interjection',\n",
       " 'NOUN': 'noun',\n",
       " 'NUM': 'numeral',\n",
       " 'PART': 'particle',\n",
       " 'PRON': 'pronoun',\n",
       " 'PROPN': 'proper noun',\n",
       " 'PUNCT': 'punctuation',\n",
       " 'SCONJ': 'subordinating conjunction',\n",
       " 'SYM': 'symbol',\n",
       " 'VERB': 'verb',\n",
       " 'X': 'other',\n",
       " 'EOL': 'end of line',\n",
       " 'SPACE': 'space',\n",
       " '.': 'punctuation mark, sentence closer',\n",
       " ',': 'punctuation mark, comma',\n",
       " '-LRB-': 'left round bracket',\n",
       " '-RRB-': 'right round bracket',\n",
       " '``': 'opening quotation mark',\n",
       " '\"\"': 'closing quotation mark',\n",
       " \"''\": 'closing quotation mark',\n",
       " ':': 'punctuation mark, colon or ellipsis',\n",
       " '$': 'symbol, currency',\n",
       " '#': 'symbol, number sign',\n",
       " 'AFX': 'affix',\n",
       " 'CC': 'conjunction, coordinating',\n",
       " 'CD': 'cardinal number',\n",
       " 'DT': 'determiner',\n",
       " 'EX': 'existential there',\n",
       " 'FW': 'foreign word',\n",
       " 'HYPH': 'punctuation mark, hyphen',\n",
       " 'IN': 'conjunction, subordinating or preposition',\n",
       " 'JJ': 'adjective',\n",
       " 'JJR': 'adjective, comparative',\n",
       " 'JJS': 'adjective, superlative',\n",
       " 'LS': 'list item marker',\n",
       " 'MD': 'verb, modal auxiliary',\n",
       " 'NIL': 'missing tag',\n",
       " 'NN': 'noun, singular or mass',\n",
       " 'NNP': 'noun, proper singular',\n",
       " 'NNPS': 'noun, proper plural',\n",
       " 'NNS': 'noun, plural',\n",
       " 'PDT': 'predeterminer',\n",
       " 'POS': 'possessive ending',\n",
       " 'PRP': 'pronoun, personal',\n",
       " 'PRP$': 'pronoun, possessive',\n",
       " 'RB': 'adverb',\n",
       " 'RBR': 'adverb, comparative',\n",
       " 'RBS': 'adverb, superlative',\n",
       " 'RP': 'adverb, particle',\n",
       " 'TO': 'infinitival \"to\"',\n",
       " 'UH': 'interjection',\n",
       " 'VB': 'verb, base form',\n",
       " 'VBD': 'verb, past tense',\n",
       " 'VBG': 'verb, gerund or present participle',\n",
       " 'VBN': 'verb, past participle',\n",
       " 'VBP': 'verb, non-3rd person singular present',\n",
       " 'VBZ': 'verb, 3rd person singular present',\n",
       " 'WDT': 'wh-determiner',\n",
       " 'WP': 'wh-pronoun, personal',\n",
       " 'WP$': 'wh-pronoun, possessive',\n",
       " 'WRB': 'wh-adverb',\n",
       " 'SP': 'space',\n",
       " 'ADD': 'email',\n",
       " 'NFP': 'superfluous punctuation',\n",
       " 'GW': 'additional word in multi-word expression',\n",
       " 'XX': 'unknown',\n",
       " 'BES': 'auxiliary \"be\"',\n",
       " 'HVS': 'forms of \"have\"',\n",
       " '$(': 'other sentence-internal punctuation mark',\n",
       " '$,': 'comma',\n",
       " '$.': 'sentence-final punctuation mark',\n",
       " 'ADJA': 'adjective, attributive',\n",
       " 'ADJD': 'adjective, adverbial or predicative',\n",
       " 'APPO': 'postposition',\n",
       " 'APPR': 'preposition; circumposition left',\n",
       " 'APPRART': 'preposition with article',\n",
       " 'APZR': 'circumposition right',\n",
       " 'ART': 'definite or indefinite article',\n",
       " 'CARD': 'cardinal number',\n",
       " 'FM': 'foreign language material',\n",
       " 'ITJ': 'interjection',\n",
       " 'KOKOM': 'comparative conjunction',\n",
       " 'KON': 'coordinate conjunction',\n",
       " 'KOUI': 'subordinate conjunction with \"zu\" and infinitive',\n",
       " 'KOUS': 'subordinate conjunction with sentence',\n",
       " 'NE': 'proper noun',\n",
       " 'NNE': 'proper noun',\n",
       " 'PAV': 'pronominal adverb',\n",
       " 'PROAV': 'pronominal adverb',\n",
       " 'PDAT': 'attributive demonstrative pronoun',\n",
       " 'PDS': 'substituting demonstrative pronoun',\n",
       " 'PIAT': 'attributive indefinite pronoun without determiner',\n",
       " 'PIDAT': 'attributive indefinite pronoun with determiner',\n",
       " 'PIS': 'substituting indefinite pronoun',\n",
       " 'PPER': 'non-reflexive personal pronoun',\n",
       " 'PPOSAT': 'attributive possessive pronoun',\n",
       " 'PPOSS': 'substituting possessive pronoun',\n",
       " 'PRELAT': 'attributive relative pronoun',\n",
       " 'PRELS': 'substituting relative pronoun',\n",
       " 'PRF': 'reflexive personal pronoun',\n",
       " 'PTKA': 'particle with adjective or adverb',\n",
       " 'PTKANT': 'answer particle',\n",
       " 'PTKNEG': 'negative particle',\n",
       " 'PTKVZ': 'separable verbal particle',\n",
       " 'PTKZU': '\"zu\" before infinitive',\n",
       " 'PWAT': 'attributive interrogative pronoun',\n",
       " 'PWAV': 'adverbial interrogative or relative pronoun',\n",
       " 'PWS': 'substituting interrogative pronoun',\n",
       " 'TRUNC': 'word remnant',\n",
       " 'VAFIN': 'finite verb, auxiliary',\n",
       " 'VAIMP': 'imperative, auxiliary',\n",
       " 'VAINF': 'infinitive, auxiliary',\n",
       " 'VAPP': 'perfect participle, auxiliary',\n",
       " 'VMFIN': 'finite verb, modal',\n",
       " 'VMINF': 'infinitive, modal',\n",
       " 'VMPP': 'perfect participle, modal',\n",
       " 'VVFIN': 'finite verb, full',\n",
       " 'VVIMP': 'imperative, full',\n",
       " 'VVINF': 'infinitive, full',\n",
       " 'VVIZU': 'infinitive with \"zu\", full',\n",
       " 'VVPP': 'perfect participle, full',\n",
       " 'XY': 'non-word containing non-letter',\n",
       " 'NP': 'noun phrase',\n",
       " 'PP': 'prepositional phrase',\n",
       " 'VP': 'verb phrase',\n",
       " 'ADVP': 'adverb phrase',\n",
       " 'ADJP': 'adjective phrase',\n",
       " 'SBAR': 'subordinating conjunction',\n",
       " 'PRT': 'particle',\n",
       " 'PNP': 'prepositional noun phrase',\n",
       " 'acl': 'clausal modifier of noun (adjectival clause)',\n",
       " 'acomp': 'adjectival complement',\n",
       " 'advcl': 'adverbial clause modifier',\n",
       " 'advmod': 'adverbial modifier',\n",
       " 'agent': 'agent',\n",
       " 'amod': 'adjectival modifier',\n",
       " 'appos': 'appositional modifier',\n",
       " 'attr': 'attribute',\n",
       " 'aux': 'auxiliary',\n",
       " 'auxpass': 'auxiliary (passive)',\n",
       " 'case': 'case marking',\n",
       " 'cc': 'coordinating conjunction',\n",
       " 'ccomp': 'clausal complement',\n",
       " 'clf': 'classifier',\n",
       " 'complm': 'complementizer',\n",
       " 'compound': 'compound',\n",
       " 'conj': 'conjunct',\n",
       " 'cop': 'copula',\n",
       " 'csubj': 'clausal subject',\n",
       " 'csubjpass': 'clausal subject (passive)',\n",
       " 'dative': 'dative',\n",
       " 'dep': 'unclassified dependent',\n",
       " 'det': 'determiner',\n",
       " 'discourse': 'discourse element',\n",
       " 'dislocated': 'dislocated elements',\n",
       " 'dobj': 'direct object',\n",
       " 'expl': 'expletive',\n",
       " 'fixed': 'fixed multiword expression',\n",
       " 'flat': 'flat multiword expression',\n",
       " 'goeswith': 'goes with',\n",
       " 'hmod': 'modifier in hyphenation',\n",
       " 'hyph': 'hyphen',\n",
       " 'infmod': 'infinitival modifier',\n",
       " 'intj': 'interjection',\n",
       " 'iobj': 'indirect object',\n",
       " 'list': 'list',\n",
       " 'mark': 'marker',\n",
       " 'meta': 'meta modifier',\n",
       " 'neg': 'negation modifier',\n",
       " 'nmod': 'modifier of nominal',\n",
       " 'nn': 'noun compound modifier',\n",
       " 'npadvmod': 'noun phrase as adverbial modifier',\n",
       " 'nsubj': 'nominal subject',\n",
       " 'nsubjpass': 'nominal subject (passive)',\n",
       " 'nounmod': 'modifier of nominal',\n",
       " 'npmod': 'noun phrase as adverbial modifier',\n",
       " 'num': 'number modifier',\n",
       " 'number': 'number compound modifier',\n",
       " 'nummod': 'numeric modifier',\n",
       " 'oprd': 'object predicate',\n",
       " 'obj': 'object',\n",
       " 'obl': 'oblique nominal',\n",
       " 'orphan': 'orphan',\n",
       " 'parataxis': 'parataxis',\n",
       " 'partmod': 'participal modifier',\n",
       " 'pcomp': 'complement of preposition',\n",
       " 'pobj': 'object of preposition',\n",
       " 'poss': 'possession modifier',\n",
       " 'possessive': 'possessive modifier',\n",
       " 'preconj': 'pre-correlative conjunction',\n",
       " 'prep': 'prepositional modifier',\n",
       " 'prt': 'particle',\n",
       " 'punct': 'punctuation',\n",
       " 'quantmod': 'modifier of quantifier',\n",
       " 'rcmod': 'relative clause modifier',\n",
       " 'relcl': 'relative clause modifier',\n",
       " 'reparandum': 'overridden disfluency',\n",
       " 'root': 'root',\n",
       " 'vocative': 'vocative',\n",
       " 'xcomp': 'open clausal complement',\n",
       " 'ac': 'adpositional case marker',\n",
       " 'adc': 'adjective component',\n",
       " 'ag': 'genitive attribute',\n",
       " 'ams': 'measure argument of adjective',\n",
       " 'app': 'apposition',\n",
       " 'avc': 'adverbial phrase component',\n",
       " 'cd': 'coordinating conjunction',\n",
       " 'cj': 'conjunct',\n",
       " 'cm': 'comparative conjunction',\n",
       " 'cp': 'complementizer',\n",
       " 'cvc': 'collocational verb construction',\n",
       " 'da': 'dative',\n",
       " 'dh': 'discourse-level head',\n",
       " 'dm': 'discourse marker',\n",
       " 'ep': 'expletive es',\n",
       " 'hd': 'head',\n",
       " 'ju': 'junctor',\n",
       " 'mnr': 'postnominal modifier',\n",
       " 'mo': 'modifier',\n",
       " 'ng': 'negation',\n",
       " 'nk': 'noun kernel element',\n",
       " 'nmc': 'numerical component',\n",
       " 'oa': 'accusative object',\n",
       " 'oc': 'clausal object',\n",
       " 'og': 'genitive object',\n",
       " 'op': 'prepositional object',\n",
       " 'par': 'parenthetical element',\n",
       " 'pd': 'predicate',\n",
       " 'pg': 'phrasal genitive',\n",
       " 'ph': 'placeholder',\n",
       " 'pm': 'morphological particle',\n",
       " 'pnc': 'proper noun component',\n",
       " 'rc': 'relative clause',\n",
       " 're': 'repeated element',\n",
       " 'rs': 'reported speech',\n",
       " 'sb': 'subject',\n",
       " 'sbp': 'passivized subject (PP)',\n",
       " 'sp': 'subject or predicate',\n",
       " 'svp': 'separable verb prefix',\n",
       " 'uc': 'unit component',\n",
       " 'vo': 'vocative',\n",
       " 'PERSON': 'People, including fictional',\n",
       " 'NORP': 'Nationalities or religious or political groups',\n",
       " 'FACILITY': 'Buildings, airports, highways, bridges, etc.',\n",
       " 'FAC': 'Buildings, airports, highways, bridges, etc.',\n",
       " 'ORG': 'Companies, agencies, institutions, etc.',\n",
       " 'GPE': 'Countries, cities, states',\n",
       " 'LOC': 'Non-GPE locations, mountain ranges, bodies of water',\n",
       " 'PRODUCT': 'Objects, vehicles, foods, etc. (not services)',\n",
       " 'EVENT': 'Named hurricanes, battles, wars, sports events, etc.',\n",
       " 'WORK_OF_ART': 'Titles of books, songs, etc.',\n",
       " 'LAW': 'Named documents made into laws.',\n",
       " 'LANGUAGE': 'Any named language',\n",
       " 'DATE': 'Absolute or relative dates or periods',\n",
       " 'TIME': 'Times smaller than a day',\n",
       " 'PERCENT': 'Percentage, including \"%\"',\n",
       " 'MONEY': 'Monetary values, including unit',\n",
       " 'QUANTITY': 'Measurements, as of weight or distance',\n",
       " 'ORDINAL': '\"first\", \"second\", etc.',\n",
       " 'CARDINAL': 'Numerals that do not fall under another type',\n",
       " 'PER': 'Named person or family.',\n",
       " 'MISC': 'Miscellaneous entities, e.g. events, nationalities, products or works of art',\n",
       " 'EVT': 'Festivals, cultural events, sports events, weather phenomena, wars, etc.',\n",
       " 'PROD': 'Product, i.e. artificially produced entities including speeches, radio shows, programming languages, contracts, laws and ideas',\n",
       " 'DRV': \"Words (and phrases?) that are dervied from a name, but not a name in themselves, e.g. 'Oslo-mannen' ('the man from Oslo')\",\n",
       " 'GPE_LOC': \"Geo-political entity, with a locative sense, e.g. 'John lives in Spain'\",\n",
       " 'GPE_ORG': \"Geo-political entity, with an organisation sense, e.g. 'Spain declined to meet with Belgium'\"}"
      ]
     },
     "execution_count": 52,
     "metadata": {},
     "output_type": "execute_result"
    }
   ],
   "source": [
    "from spacy.glossary import GLOSSARY\n",
    "GLOSSARY"
   ]
  },
  {
   "cell_type": "markdown",
   "id": "6ffcc9bb",
   "metadata": {},
   "source": [
    "# Topic modeling"
   ]
  },
  {
   "cell_type": "code",
   "execution_count": 53,
   "id": "67c10653",
   "metadata": {},
   "outputs": [
    {
     "data": {
      "text/plain": [
       "[('alt.atheism', 0),\n",
       " ('comp.graphics', 1),\n",
       " ('comp.os.ms-windows.misc', 2),\n",
       " ('comp.sys.ibm.pc.hardware', 3),\n",
       " ('comp.sys.mac.hardware', 4),\n",
       " ('comp.windows.x', 5),\n",
       " ('misc.forsale', 6),\n",
       " ('rec.autos', 7),\n",
       " ('rec.motorcycles', 8),\n",
       " ('rec.sport.baseball', 9),\n",
       " ('rec.sport.hockey', 10),\n",
       " ('sci.crypt', 11),\n",
       " ('sci.electronics', 12),\n",
       " ('sci.med', 13),\n",
       " ('sci.space', 14),\n",
       " ('soc.religion.christian', 15),\n",
       " ('talk.politics.guns', 16),\n",
       " ('talk.politics.mideast', 17),\n",
       " ('talk.politics.misc', 18),\n",
       " ('talk.religion.misc', 19)]"
      ]
     },
     "execution_count": 53,
     "metadata": {},
     "output_type": "execute_result"
    }
   ],
   "source": [
    "list(zip(newsgroups_train['target_names'],\n",
    "         range(len(newsgroups_train['target_names']))))"
   ]
  },
  {
   "cell_type": "code",
   "execution_count": 54,
   "id": "56860a4e",
   "metadata": {},
   "outputs": [],
   "source": [
    "space_ng = ng_train_df[ng_train_df['label'] == 14].copy().reset_index()"
   ]
  },
  {
   "cell_type": "code",
   "execution_count": 55,
   "id": "27883434",
   "metadata": {},
   "outputs": [
    {
     "data": {
      "text/html": [
       "<style type=\"text/css\">\n",
       "</style>\n",
       "<table id=\"T_c3711_\">\n",
       "  <thead>\n",
       "    <tr>\n",
       "      <th class=\"col_heading level0 col0\" >Description</th>\n",
       "      <th class=\"col_heading level0 col1\" >Value</th>\n",
       "    </tr>\n",
       "  </thead>\n",
       "  <tbody>\n",
       "    <tr>\n",
       "      <td id=\"T_c3711_row0_col0\" class=\"data row0 col0\" >session_id</td>\n",
       "      <td id=\"T_c3711_row0_col1\" class=\"data row0 col1\" >5673</td>\n",
       "    </tr>\n",
       "    <tr>\n",
       "      <td id=\"T_c3711_row1_col0\" class=\"data row1 col0\" >Documents</td>\n",
       "      <td id=\"T_c3711_row1_col1\" class=\"data row1 col1\" >593</td>\n",
       "    </tr>\n",
       "    <tr>\n",
       "      <td id=\"T_c3711_row2_col0\" class=\"data row2 col0\" >Vocab Size</td>\n",
       "      <td id=\"T_c3711_row2_col1\" class=\"data row2 col1\" >5888</td>\n",
       "    </tr>\n",
       "    <tr>\n",
       "      <td id=\"T_c3711_row3_col0\" class=\"data row3 col0\" >Custom Stopwords</td>\n",
       "      <td id=\"T_c3711_row3_col1\" class=\"data row3 col1\" >False</td>\n",
       "    </tr>\n",
       "  </tbody>\n",
       "</table>\n"
      ],
      "text/plain": [
       "<pandas.io.formats.style.Styler at 0x1c13cea6b20>"
      ]
     },
     "metadata": {},
     "output_type": "display_data"
    }
   ],
   "source": [
    "from pycaret.nlp import setup, create_model, plot_model, assign_model, tune_model\n",
    "\n",
    "space_setup = setup(space_ng, target='text')"
   ]
  },
  {
   "cell_type": "code",
   "execution_count": 56,
   "id": "0d0dccaf",
   "metadata": {},
   "outputs": [],
   "source": [
    "lda = create_model('lda')"
   ]
  },
  {
   "cell_type": "code",
   "execution_count": 57,
   "id": "afe52865",
   "metadata": {},
   "outputs": [
    {
     "data": {
      "text/html": [
       "        <script type=\"text/javascript\">\n",
       "        window.PlotlyConfig = {MathJaxConfig: 'local'};\n",
       "        if (window.MathJax) {MathJax.Hub.Config({SVG: {font: \"STIX-Web\"}});}\n",
       "        if (typeof require !== 'undefined') {\n",
       "        require.undef(\"plotly\");\n",
       "        requirejs.config({\n",
       "            paths: {\n",
       "                'plotly': ['https://cdn.plot.ly/plotly-2.4.2.min']\n",
       "            }\n",
       "        });\n",
       "        require(['plotly'], function(Plotly) {\n",
       "            window._Plotly = Plotly;\n",
       "        });\n",
       "        }\n",
       "        </script>\n",
       "        "
      ]
     },
     "metadata": {},
     "output_type": "display_data"
    },
    {
     "data": {
      "text/html": [
       "\n",
       "<link rel=\"stylesheet\" type=\"text/css\" href=\"https://cdn.jsdelivr.net/gh/bmabey/pyLDAvis@3.2.2/pyLDAvis/js/ldavis.v1.0.0.css\">\n",
       "\n",
       "\n",
       "<div id=\"ldavis_el2146819277898461925349111434\"></div>\n",
       "<script type=\"text/javascript\">\n",
       "\n",
       "var ldavis_el2146819277898461925349111434_data = {\"mdsDat\": {\"x\": [-0.1353867775649986, -0.12012380587800052, 0.10013568270458885, 0.15537490073841023], \"y\": [-0.08586487238724232, 0.17583686342200183, -0.15486592904711413, 0.06489393801235462], \"topics\": [1, 2, 3, 4], \"cluster\": [1, 1, 1, 1], \"Freq\": [39.00679521891485, 26.31328731088725, 19.290131238902532, 15.38978623129536]}, \"tinfo\": {\"Term\": [\"write\", \"image\", \"think\", \"probe\", \"thing\", \"mission\", \"people\", \"planet\", \"idea\", \"say\", \"station\", \"know\", \"information\", \"cost\", \"datum\", \"send\", \"rocket\", \"face\", \"launch\", \"file\", \"orbit\", \"try\", \"satellite\", \"surface\", \"go\", \"commercial\", \"article\", \"include\", \"age\", \"archive\", \"station\", \"russian\", \"option\", \"industry\", \"organization\", \"firm\", \"put\", \"sell\", \"pound\", \"term\", \"estimate\", \"certain\", \"magazine\", \"national\", \"economy\", \"acceleration\", \"conference\", \"legal\", \"launcher\", \"training\", \"film\", \"investor\", \"display\", \"aluminum\", \"redesign\", \"annual\", \"rule\", \"equipment\", \"decade\", \"aerospace\", \"commercial\", \"operate\", \"rocket\", \"technology\", \"advertising\", \"political\", \"vehicle\", \"funding\", \"money\", \"foot\", \"market\", \"application\", \"payload\", \"engine\", \"example\", \"build\", \"fund\", \"cost\", \"year\", \"pay\", \"launch\", \"program\", \"spend\", \"space\", \"research\", \"project\", \"development\", \"low\", \"use\", \"design\", \"support\", \"satellite\", \"include\", \"lunar\", \"write\", \"power\", \"time\", \"need\", \"know\", \"high\", \"system\", \"large\", \"think\", \"work\", \"say\", \"image\", \"probe\", \"planet\", \"archive\", \"format\", \"map\", \"astronomical\", \"file\", \"observation\", \"radar\", \"publication\", \"monthly\", \"spin\", \"database\", \"global\", \"index\", \"physics\", \"instrument\", \"disk\", \"faq\", \"galactic\", \"server\", \"lander\", \"temporary\", \"observe\", \"update\", \"comet\", \"magnetic\", \"catalog\", \"burst\", \"volume\", \"list\", \"datum\", \"planetary\", \"reference\", \"email\", \"mission\", \"distance\", \"position\", \"perform\", \"element\", \"surface\", \"contain\", \"information\", \"orbit\", \"object\", \"ring\", \"available\", \"send\", \"system\", \"shuttle\", \"solar\", \"source\", \"space\", \"book\", \"lunar\", \"earth\", \"satellite\", \"body\", \"include\", \"post\", \"time\", \"find\", \"spacecraft\", \"program\", \"ether\", \"eat\", \"dream\", \"food\", \"tax\", \"wing\", \"angle\", \"centaur\", \"crash\", \"fold\", \"shadow\", \"odd\", \"bomb\", \"plutonium\", \"taste\", \"ride\", \"imagination\", \"water\", \"boost\", \"detector\", \"uranium\", \"perturbation\", \"afford\", \"self\", \"forever\", \"sei\", \"fre\", \"lattice\", \"electrical\", \"overhead\", \"force\", \"oil\", \"plate\", \"doubt\", \"thing\", \"simply\", \"failure\", \"sort\", \"mining\", \"apparently\", \"bad\", \"say\", \"software\", \"write\", \"pat\", \"land\", \"think\", \"basically\", \"level\", \"hear\", \"problem\", \"second\", \"people\", \"fuel\", \"go\", \"right\", \"know\", \"look\", \"good\", \"article\", \"work\", \"give\", \"idea\", \"way\", \"come\", \"remember\", \"time\", \"orbit\", \"shuttle\", \"flight\", \"system\", \"space\", \"age\", \"venture\", \"prize\", \"race\", \"visible\", \"night\", \"gun\", \"marketing\", \"announce_reward_billion_corporation\", \"reward\", \"happy\", \"movie\", \"promise\", \"bug\", \"junk\", \"pure\", \"inflate\", \"complaint\", \"inexpensive_popular_technology\", \"cost_effective\", \"debate\", \"joy\", \"wise\", \"suspect\", \"past\", \"sight\", \"michael_adams_high_jack\", \"icbm\", \"flat\", \"game\", \"child\", \"thread\", \"balloon\", \"privately\", \"private\", \"guess\", \"face\", \"error\", \"write\", \"idea\", \"think\", \"different\", \"people\", \"sky\", \"try\", \"live\", \"know\", \"happen\", \"article\", \"space\", \"see\", \"talk\", \"read\", \"large\", \"long\", \"maybe\", \"tell\", \"look\", \"time\", \"go\", \"work\", \"day\", \"launch\", \"cost\", \"send\", \"want\", \"real\", \"government\", \"year\", \"new\"], \"Freq\": [405.0, 123.0, 247.0, 91.0, 131.0, 168.0, 157.0, 67.0, 98.0, 131.0, 99.0, 204.0, 105.0, 153.0, 73.0, 93.0, 116.0, 60.0, 220.0, 48.0, 225.0, 99.0, 134.0, 76.0, 127.0, 84.0, 137.0, 126.0, 29.0, 41.0, 98.01092733312808, 37.54516179924379, 32.63863972115126, 37.34478628782076, 34.718323376553535, 25.51459725854664, 28.367756773438053, 27.565130444352985, 22.49849755029936, 22.7646954982995, 20.863071780996904, 21.106425203154878, 20.30034305094686, 19.663950941099564, 18.621493391334777, 19.719654827140207, 19.098637603839915, 18.314468606176224, 18.395960483251994, 18.104372814348544, 18.95827019993419, 18.20664733960489, 17.77343522669217, 17.553403424805104, 16.64694060479047, 16.681343261749735, 32.525715618516024, 16.207642426425924, 15.852605347147437, 14.852752329869013, 80.68032700654393, 25.936182787663363, 106.80104784491981, 87.7557701414489, 33.305640550087546, 26.32778396909566, 83.76000058458244, 47.37351861226777, 84.86923268545821, 33.316692546245456, 49.445751297287316, 34.48446413352746, 48.59397179610054, 52.410826793542796, 50.11373742993513, 87.31596375380157, 47.634298427016326, 115.05051665277047, 173.06919848329883, 48.16013531178326, 152.39680475087994, 112.32787565331672, 48.936160514980735, 316.3938576852944, 53.72491909347175, 74.64533969912664, 54.27975087356437, 65.9158641121984, 101.54010683598254, 59.15861806937888, 55.21064507697763, 77.79028809231102, 72.77598415979561, 83.88796145901736, 120.52945247781643, 59.17023843020407, 83.8305690735637, 65.2112620193067, 76.43368045581065, 61.0136192893757, 73.91463016936491, 63.06566880573599, 73.11212415104883, 61.23698660361672, 59.07051324865608, 122.79051097464732, 91.18576074834463, 66.54901780063328, 40.880135962184255, 28.54398496155194, 25.48907717351196, 23.41347764237902, 47.59029952276651, 22.08017405382136, 20.959984106699345, 21.030205261447637, 19.751376486160428, 25.663830359489186, 16.811825726920926, 16.333981004750374, 16.93809590929696, 17.665857305624094, 17.068237959341094, 15.731980444998335, 14.807251948985563, 14.763943562889482, 14.439954855841266, 14.410811600357482, 14.99865822391043, 15.750512796063166, 14.572572270505885, 14.29634312810534, 13.432236577515525, 12.325873130006283, 12.972691922335748, 25.985776086127053, 46.84881517514877, 62.46740600946782, 46.99194134521183, 46.92136616714585, 40.601702919683504, 122.13458552717364, 19.965948199916333, 32.45725236830139, 25.97017667132256, 22.69061520113177, 57.56509260562255, 28.314770955320768, 72.39168989993213, 128.2647133660184, 32.056926158988695, 23.951281040989993, 66.17927752680646, 59.78125618549571, 113.16397608667312, 75.69466308604453, 43.70127081921436, 46.25357184306904, 177.51986281260744, 35.954132381388845, 70.18453782269093, 57.982851314902454, 56.05866601751099, 35.042134731796175, 52.80170186968096, 43.96581439352804, 57.488539610903835, 43.07184814500917, 37.88104911560291, 39.1633999331455, 30.192381041082754, 24.014653377761316, 18.993124022777312, 17.09103513443154, 16.476653731042184, 30.277942686676216, 14.909801992829465, 30.768229544829065, 14.518935616736217, 12.624186474868253, 13.089427922782702, 12.696574532164295, 13.831247020782598, 13.205070731998152, 11.573980055429953, 11.617880048514216, 10.928692728646679, 12.77593919544155, 10.82769556030666, 10.398030597031896, 9.305461889606502, 10.712507189622263, 9.187084242639852, 8.87764750671552, 8.976201170358104, 8.227133111004548, 8.23849458719113, 8.56034836871164, 8.354245107570824, 7.854700218395998, 21.07354772121134, 16.638510784642236, 13.099594830866781, 11.126877167574294, 92.47326378727428, 17.676887440784643, 16.994124835409146, 21.669857242881676, 13.885272889126464, 20.430052503036976, 29.512750266035244, 65.54379448360356, 40.609082599070994, 139.14452356430633, 23.390100963005434, 29.254534804901972, 85.51021505126607, 19.753316593756114, 35.07250717964645, 31.647940475294895, 42.63719149794172, 26.618005546217365, 53.33078460712264, 32.2891111839628, 45.15773942660897, 33.78523977173252, 50.86462568729585, 42.3746183508493, 37.34554921436818, 40.90638592879832, 39.81834314191242, 32.058660583509955, 32.18451441109579, 31.235468265474793, 29.35843607139415, 26.58144940289336, 36.358841090803594, 35.1542855988234, 31.497869074704425, 29.114116376269042, 31.13825945265435, 31.790962436640708, 28.551842838368664, 23.81494632259542, 23.642185717880764, 22.447654992466333, 20.406874416235386, 16.75192869094451, 17.88322772885733, 12.03590152920418, 11.793412729838373, 12.014011622838755, 12.142766534755385, 11.839173085187248, 9.358498443778064, 9.67883484412288, 8.821800856910608, 8.34660975761137, 8.49818182993732, 8.180912815432322, 8.102551255459874, 8.06465005331798, 8.201851733978678, 7.096198267751165, 8.356050889694652, 7.648006903750531, 6.9919578903718635, 6.7366115229066805, 6.355886986847997, 6.448682364953837, 6.913309888285237, 6.400903411106052, 15.557576378046912, 13.254151298484565, 20.5981735545796, 12.639223915017181, 21.066609530420497, 21.779462470258633, 36.89759736166771, 14.15655198774023, 138.18239953440522, 47.39457799317612, 89.1055420942299, 31.594571740998315, 55.81459140696655, 18.303379385120433, 40.05103368620874, 21.061515771224382, 61.43312565074781, 19.723927669929434, 42.01429811590708, 85.54025111386443, 25.728399287044383, 24.64284914679587, 28.744921191444938, 36.667553244553844, 29.91245270158306, 26.623797694217476, 23.878739436640817, 34.90982003424411, 41.15385219391194, 32.037349050657255, 33.043029308600666, 25.021728586436232, 36.03934804148528, 30.7116753045, 27.41215022810441, 27.106775108586092, 25.008368926231004, 24.401995522698996, 24.925294165871282, 23.88687111905929], \"Total\": [405.0, 123.0, 247.0, 91.0, 131.0, 168.0, 157.0, 67.0, 98.0, 131.0, 99.0, 204.0, 105.0, 153.0, 73.0, 93.0, 116.0, 60.0, 220.0, 48.0, 225.0, 99.0, 134.0, 76.0, 127.0, 84.0, 137.0, 126.0, 29.0, 41.0, 99.71903298045255, 38.22549240255486, 33.31248235060718, 38.14002652785891, 35.47364064291339, 26.185639496698645, 29.114047551049772, 28.298790926384637, 23.19771042886462, 23.483183850448132, 21.55190364895342, 21.807251553736574, 21.008879485959305, 20.352863943378825, 19.29093775139821, 20.437928203015268, 19.797714630451328, 18.985305663963285, 19.07185584120576, 18.78723548779786, 19.67472634084552, 18.910958421090534, 18.464174627873916, 18.2552103642058, 17.317714725932667, 17.353699375991994, 33.90118319627545, 16.894262131017342, 16.55100232499167, 15.526111391697583, 84.37738806148737, 27.262187685974187, 116.23506202348071, 95.24749732451164, 35.32604758402928, 27.72564569976447, 93.90413020471587, 52.04241286936941, 96.89482944524748, 36.07431541351705, 55.2521774384574, 37.62716437083485, 54.76396027058763, 59.83873132722304, 57.03521394326184, 108.3765759060938, 55.493035669623744, 153.1244003649452, 245.38751383824857, 56.34052217030536, 220.10738501121102, 153.9122282695043, 59.30634748060192, 611.244934048407, 66.73041478090124, 101.53043632496883, 68.27168931917095, 89.18611815283437, 163.78041477106188, 83.6155003731697, 75.57107303223933, 134.28700201632012, 126.02305207861215, 171.3239651647924, 405.95321698818987, 91.60568526362881, 218.83180196918306, 127.64940674214631, 204.7694730931492, 106.13486132273869, 221.29906040121188, 129.86739207230005, 247.98045677502267, 149.06763614127578, 131.85251218542433, 123.48452173087901, 91.86606525660054, 67.46253787277608, 41.555135347800515, 29.20839161978271, 26.1554933578826, 24.085856098686712, 48.974366464022594, 22.74906906961427, 21.635027391752676, 21.73070439231461, 20.51553381211692, 26.665693867681796, 17.47834171578947, 17.004745211869782, 17.652077313722913, 18.411449678613497, 17.79453423403204, 16.40574491454204, 15.482365754697, 15.441991237309978, 15.113903087138146, 15.086212745239877, 15.706797629056641, 16.50460521680533, 15.27392564457291, 14.98448728886578, 14.105445014748824, 13.002115266233712, 13.686290294938185, 28.345991979486104, 53.355691373777844, 73.65628130824399, 55.45421429952685, 55.49208279205778, 47.28001310208628, 168.00485328991445, 21.817845427731825, 38.1682221811346, 29.602666176590247, 25.340096490399645, 76.18716141391897, 33.02414001807584, 105.16933747098268, 225.72325972924256, 39.96090221426401, 27.647333460671824, 106.57294522070856, 93.4924085434931, 221.29906040121188, 147.16132281493702, 65.7311547243827, 73.13175164447772, 611.244934048407, 49.86453204653422, 171.3239651647924, 133.28510177535549, 134.28700201632012, 51.60109132428068, 126.02305207861215, 97.17826738514135, 218.83180196918306, 130.9130742685632, 87.31267236707495, 153.9122282695043, 30.90112756187916, 24.730299078885814, 19.704929724530043, 17.802746885950953, 17.184041762402437, 31.668356162401054, 15.64798943403363, 32.29698433878763, 15.257489955571893, 13.309193532731545, 13.815852421838583, 13.408242756061634, 14.624901779507812, 13.964629961461618, 12.259255192616452, 12.334460992262983, 11.61794284711171, 13.587818361176103, 11.535073848062755, 11.120670585496622, 9.994807937537871, 11.534915195849013, 9.91836622210677, 9.589056014797553, 9.697238664637888, 8.918246787925723, 8.93910401216836, 9.293929323556641, 9.071029876548975, 8.547935995690478, 23.23270148645755, 18.954890063681727, 14.881404213256237, 12.462219931770477, 131.17354138515125, 21.125513277641, 20.826025204470444, 28.17802913052079, 16.61226067540864, 27.61255828047856, 44.958748298009546, 131.85251218542433, 72.95517219614342, 405.95321698818987, 34.53984997111314, 49.17277207015313, 247.98045677502267, 27.45613079923105, 67.85377314323625, 57.696443168494596, 98.40108077878975, 46.25417232114273, 157.76112711158052, 68.17155872951079, 127.03931218194474, 76.39670259740626, 204.7694730931492, 141.7375014015209, 110.15802595317082, 137.5283016602552, 149.06763614127578, 88.33491817921431, 98.19668752970775, 99.12276022234003, 82.8086532455358, 58.94679945480706, 218.83180196918306, 225.72325972924256, 147.16132281493702, 95.98734156599035, 221.29906040121188, 611.244934048407, 29.261808704705754, 24.547010983872063, 24.391915044703428, 23.166680328249942, 21.12009357418622, 17.455184590335072, 18.68022000898126, 12.7314319984288, 12.485767133512356, 12.726511390885575, 12.867300275026409, 12.584258687771012, 10.08042240394658, 10.431022295366791, 9.532263608920497, 9.043121700869179, 9.216783975704745, 8.872703212619822, 8.79319138421271, 8.794043590368473, 8.986301943916244, 7.78870765430387, 9.17638532107778, 8.431868145124232, 7.722669057255126, 7.464957281937284, 7.060520405845086, 7.174608660624439, 7.693002650877755, 7.132267036734414, 17.843580265898265, 15.203788923533669, 24.26668228087639, 14.913667685017208, 26.9095201884492, 30.011368440390285, 60.085120562252, 18.651948371815237, 405.95321698818987, 98.19668752970775, 247.98045677502267, 64.56508068741385, 157.76112711158052, 29.68234543037343, 99.53994650369287, 37.276987107234575, 204.7694730931492, 36.07046589730558, 137.5283016602552, 611.244934048407, 59.2928469129957, 55.799981905301394, 78.08234793097691, 129.86739207230005, 85.20421030285432, 66.83970034763534, 54.5612598301699, 141.7375014015209, 218.83180196918306, 127.03931218194474, 149.06763614127578, 63.75725519036475, 220.10738501121102, 153.1244003649452, 93.4924085434931, 94.83346367831675, 64.57760723940402, 74.72320294344544, 245.38751383824857, 108.44513137463312], \"Category\": [\"Default\", \"Default\", \"Default\", \"Default\", \"Default\", \"Default\", \"Default\", \"Default\", \"Default\", \"Default\", \"Default\", \"Default\", \"Default\", \"Default\", \"Default\", \"Default\", \"Default\", \"Default\", \"Default\", \"Default\", \"Default\", \"Default\", \"Default\", \"Default\", \"Default\", \"Default\", \"Default\", \"Default\", \"Default\", \"Default\", \"Topic1\", \"Topic1\", \"Topic1\", \"Topic1\", \"Topic1\", \"Topic1\", \"Topic1\", \"Topic1\", \"Topic1\", \"Topic1\", \"Topic1\", \"Topic1\", \"Topic1\", \"Topic1\", \"Topic1\", \"Topic1\", \"Topic1\", \"Topic1\", \"Topic1\", \"Topic1\", \"Topic1\", \"Topic1\", \"Topic1\", \"Topic1\", \"Topic1\", \"Topic1\", \"Topic1\", \"Topic1\", \"Topic1\", \"Topic1\", \"Topic1\", \"Topic1\", \"Topic1\", \"Topic1\", \"Topic1\", \"Topic1\", \"Topic1\", \"Topic1\", \"Topic1\", \"Topic1\", \"Topic1\", \"Topic1\", \"Topic1\", \"Topic1\", \"Topic1\", \"Topic1\", \"Topic1\", \"Topic1\", \"Topic1\", \"Topic1\", \"Topic1\", \"Topic1\", \"Topic1\", \"Topic1\", \"Topic1\", \"Topic1\", \"Topic1\", \"Topic1\", \"Topic1\", \"Topic1\", \"Topic1\", \"Topic1\", \"Topic1\", \"Topic1\", \"Topic1\", \"Topic1\", \"Topic1\", \"Topic1\", \"Topic1\", \"Topic1\", \"Topic1\", \"Topic1\", \"Topic1\", \"Topic1\", \"Topic1\", \"Topic2\", \"Topic2\", \"Topic2\", \"Topic2\", \"Topic2\", \"Topic2\", \"Topic2\", \"Topic2\", \"Topic2\", \"Topic2\", \"Topic2\", \"Topic2\", \"Topic2\", \"Topic2\", \"Topic2\", \"Topic2\", \"Topic2\", \"Topic2\", \"Topic2\", \"Topic2\", \"Topic2\", \"Topic2\", \"Topic2\", \"Topic2\", \"Topic2\", \"Topic2\", \"Topic2\", \"Topic2\", \"Topic2\", \"Topic2\", \"Topic2\", \"Topic2\", \"Topic2\", \"Topic2\", \"Topic2\", \"Topic2\", \"Topic2\", \"Topic2\", \"Topic2\", \"Topic2\", \"Topic2\", \"Topic2\", \"Topic2\", \"Topic2\", \"Topic2\", \"Topic2\", \"Topic2\", \"Topic2\", \"Topic2\", \"Topic2\", \"Topic2\", \"Topic2\", \"Topic2\", \"Topic2\", \"Topic2\", \"Topic2\", \"Topic2\", \"Topic2\", \"Topic2\", \"Topic2\", \"Topic2\", \"Topic2\", \"Topic2\", \"Topic2\", \"Topic2\", \"Topic3\", \"Topic3\", \"Topic3\", \"Topic3\", \"Topic3\", \"Topic3\", \"Topic3\", \"Topic3\", \"Topic3\", \"Topic3\", \"Topic3\", \"Topic3\", \"Topic3\", \"Topic3\", \"Topic3\", \"Topic3\", \"Topic3\", \"Topic3\", \"Topic3\", \"Topic3\", \"Topic3\", \"Topic3\", \"Topic3\", \"Topic3\", \"Topic3\", \"Topic3\", \"Topic3\", \"Topic3\", \"Topic3\", \"Topic3\", \"Topic3\", \"Topic3\", \"Topic3\", \"Topic3\", \"Topic3\", \"Topic3\", \"Topic3\", \"Topic3\", \"Topic3\", \"Topic3\", \"Topic3\", \"Topic3\", \"Topic3\", \"Topic3\", \"Topic3\", \"Topic3\", \"Topic3\", \"Topic3\", \"Topic3\", \"Topic3\", \"Topic3\", \"Topic3\", \"Topic3\", \"Topic3\", \"Topic3\", \"Topic3\", \"Topic3\", \"Topic3\", \"Topic3\", \"Topic3\", \"Topic3\", \"Topic3\", \"Topic3\", \"Topic3\", \"Topic3\", \"Topic3\", \"Topic3\", \"Topic3\", \"Topic3\", \"Topic3\", \"Topic3\", \"Topic3\", \"Topic4\", \"Topic4\", \"Topic4\", \"Topic4\", \"Topic4\", \"Topic4\", \"Topic4\", \"Topic4\", \"Topic4\", \"Topic4\", \"Topic4\", \"Topic4\", \"Topic4\", \"Topic4\", \"Topic4\", \"Topic4\", \"Topic4\", \"Topic4\", \"Topic4\", \"Topic4\", \"Topic4\", \"Topic4\", \"Topic4\", \"Topic4\", \"Topic4\", \"Topic4\", \"Topic4\", \"Topic4\", \"Topic4\", \"Topic4\", \"Topic4\", \"Topic4\", \"Topic4\", \"Topic4\", \"Topic4\", \"Topic4\", \"Topic4\", \"Topic4\", \"Topic4\", \"Topic4\", \"Topic4\", \"Topic4\", \"Topic4\", \"Topic4\", \"Topic4\", \"Topic4\", \"Topic4\", \"Topic4\", \"Topic4\", \"Topic4\", \"Topic4\", \"Topic4\", \"Topic4\", \"Topic4\", \"Topic4\", \"Topic4\", \"Topic4\", \"Topic4\", \"Topic4\", \"Topic4\", \"Topic4\", \"Topic4\", \"Topic4\", \"Topic4\", \"Topic4\", \"Topic4\", \"Topic4\", \"Topic4\", \"Topic4\", \"Topic4\"], \"logprob\": [30.0, 29.0, 28.0, 27.0, 26.0, 25.0, 24.0, 23.0, 22.0, 21.0, 20.0, 19.0, 18.0, 17.0, 16.0, 15.0, 14.0, 13.0, 12.0, 11.0, 10.0, 9.0, 8.0, 7.0, 6.0, 5.0, 4.0, 3.0, 2.0, 1.0, -5.2029, -6.1624, -6.3025, -6.1678, -6.2407, -6.5487, -6.4427, -6.4714, -6.6745, -6.6628, -6.75, -6.7384, -6.7773, -6.8092, -6.8637, -6.8064, -6.8384, -6.8803, -6.8759, -6.8918, -6.8457, -6.8862, -6.9103, -6.9227, -6.9758, -6.9737, -6.306, -7.0025, -7.0246, -7.0898, -5.3975, -6.5323, -5.117, -5.3134, -6.2823, -6.5174, -5.36, -5.9299, -5.3469, -6.2819, -5.8871, -6.2475, -5.9045, -5.8289, -5.8737, -5.3184, -5.9244, -5.0426, -4.6343, -5.9134, -4.7615, -5.0666, -5.8975, -4.031, -5.8041, -5.4752, -5.7938, -5.5996, -5.1675, -5.7078, -5.7768, -5.434, -5.5006, -5.3585, -4.9961, -5.7076, -5.3592, -5.6103, -5.4516, -5.6769, -5.4851, -5.6438, -5.496, -5.6732, -5.7092, -4.5838, -4.8814, -5.1964, -5.6837, -6.0429, -6.1561, -6.241, -5.5317, -6.2996, -6.3517, -6.3484, -6.4111, -6.1492, -6.5722, -6.6011, -6.5648, -6.5227, -6.5571, -6.6386, -6.6992, -6.7021, -6.7243, -6.7263, -6.6864, -6.6374, -6.7152, -6.7343, -6.7967, -6.8826, -6.8315, -6.1368, -5.5474, -5.2597, -5.5443, -5.5458, -5.6905, -4.5892, -6.4003, -5.9144, -6.1374, -6.2724, -5.3414, -6.0509, -5.1122, -4.5402, -5.9268, -6.2183, -5.202, -5.3036, -4.6655, -5.0676, -5.6169, -5.5602, -4.2152, -5.8121, -5.1432, -5.3342, -5.3679, -5.8378, -5.4278, -5.6109, -5.3427, -5.6315, -5.7599, -5.7266, -5.6762, -5.9052, -6.1398, -6.2453, -6.2819, -5.6734, -6.3818, -5.6574, -6.4084, -6.5482, -6.512, -6.5425, -6.4569, -6.5032, -6.6351, -6.6313, -6.6924, -6.5363, -6.7017, -6.7422, -6.8532, -6.7124, -6.866, -6.9003, -6.8893, -6.9764, -6.975, -6.9367, -6.9611, -7.0227, -6.0358, -6.2721, -6.5113, -6.6745, -4.5569, -6.2116, -6.251, -6.0079, -6.453, -6.0668, -5.699, -4.9011, -5.3798, -4.1483, -5.9315, -5.7078, -4.6352, -6.1005, -5.5264, -5.6292, -5.3311, -5.8023, -5.1073, -5.6091, -5.2737, -5.5638, -5.1547, -5.3373, -5.4636, -5.3726, -5.3995, -5.6163, -5.6124, -5.6423, -5.7043, -5.8036, -5.4904, -5.5241, -5.6339, -5.7126, -5.6454, -5.6247, -5.5062, -5.6876, -5.6949, -5.7468, -5.8421, -6.0394, -5.9741, -6.3701, -6.3904, -6.3719, -6.3612, -6.3865, -6.6217, -6.588, -6.6807, -6.7361, -6.7181, -6.7561, -6.7658, -6.7705, -6.7536, -6.8984, -6.735, -6.8235, -6.9132, -6.9504, -7.0086, -6.9941, -6.9245, -7.0015, -6.1134, -6.2736, -5.8327, -6.3211, -5.8103, -5.777, -5.2498, -6.2078, -3.9294, -4.9994, -4.3681, -5.405, -4.8359, -5.9509, -5.1678, -5.8105, -4.74, -5.8761, -5.1199, -4.409, -5.6104, -5.6535, -5.4995, -5.2561, -5.4597, -5.5761, -5.685, -5.3052, -5.1406, -5.391, -5.3601, -5.6382, -5.2733, -5.4333, -5.547, -5.5582, -5.6387, -5.6633, -5.6421, -5.6846], \"loglift\": [30.0, 29.0, 28.0, 27.0, 26.0, 25.0, 24.0, 23.0, 22.0, 21.0, 20.0, 19.0, 18.0, 17.0, 16.0, 15.0, 14.0, 13.0, 12.0, 11.0, 10.0, 9.0, 8.0, 7.0, 6.0, 5.0, 4.0, 3.0, 2.0, 1.0, 0.9242, 0.9235, 0.921, 0.9204, 0.9199, 0.9155, 0.9155, 0.9152, 0.9108, 0.9104, 0.909, 0.9088, 0.9071, 0.907, 0.9061, 0.9057, 0.9055, 0.9055, 0.9054, 0.9044, 0.9043, 0.9035, 0.9033, 0.9022, 0.9019, 0.9019, 0.9, 0.8999, 0.8983, 0.8971, 0.8966, 0.8916, 0.8568, 0.8595, 0.8825, 0.8897, 0.8271, 0.8474, 0.8089, 0.8619, 0.8304, 0.8542, 0.8219, 0.8089, 0.8121, 0.7254, 0.7887, 0.6556, 0.5923, 0.7846, 0.5738, 0.6265, 0.7492, 0.2829, 0.7247, 0.6338, 0.7121, 0.6391, 0.4634, 0.5954, 0.6275, 0.3955, 0.3924, 0.2274, -0.2729, 0.5044, -0.0181, 0.2698, -0.044, 0.3878, -0.1552, 0.2191, -0.2799, 0.0518, 0.1385, 1.3295, 1.3277, 1.3215, 1.3187, 1.3121, 1.3093, 1.3068, 1.3064, 1.3053, 1.3034, 1.3023, 1.2971, 1.2968, 1.2962, 1.2949, 1.2938, 1.2938, 1.2934, 1.2932, 1.2905, 1.2902, 1.2895, 1.2893, 1.289, 1.2883, 1.2881, 1.2881, 1.2862, 1.2817, 1.2815, 1.2482, 1.205, 1.1703, 1.1695, 1.1673, 1.1828, 1.0162, 1.2464, 1.173, 1.2042, 1.2247, 1.0548, 1.1812, 0.9616, 0.7699, 1.1147, 1.1916, 0.8586, 0.8879, 0.6644, 0.6703, 0.9269, 0.877, 0.0987, 1.008, 0.4427, 0.5028, 0.4615, 0.9481, 0.4652, 0.542, -0.0016, 0.2234, 0.5001, -0.0335, 1.6224, 1.6162, 1.6088, 1.6048, 1.6035, 1.6007, 1.5973, 1.5971, 1.596, 1.5927, 1.5916, 1.591, 1.5898, 1.5896, 1.5881, 1.5857, 1.5844, 1.584, 1.5823, 1.5784, 1.5741, 1.5716, 1.569, 1.5685, 1.5683, 1.5649, 1.564, 1.5634, 1.5633, 1.561, 1.548, 1.5152, 1.518, 1.5322, 1.296, 1.4674, 1.4422, 1.383, 1.4663, 1.3443, 1.2247, 0.9466, 1.0597, 0.5749, 1.2558, 1.1263, 0.5809, 1.3163, 0.9856, 1.0451, 0.8093, 1.093, 0.561, 0.8983, 0.6112, 0.8297, 0.2529, 0.4381, 0.5639, 0.433, 0.3255, 0.632, 0.5301, 0.4908, 0.6086, 0.8492, -0.1493, -0.214, 0.104, 0.4526, -0.3155, -1.3107, 1.8469, 1.8412, 1.8402, 1.8399, 1.8371, 1.8303, 1.8279, 1.8153, 1.8144, 1.8139, 1.8135, 1.8104, 1.7972, 1.7966, 1.794, 1.7913, 1.7903, 1.7903, 1.7897, 1.7849, 1.7801, 1.7784, 1.7778, 1.7739, 1.7721, 1.7688, 1.7663, 1.7648, 1.7646, 1.7633, 1.7344, 1.7342, 1.7076, 1.706, 1.6267, 1.5509, 1.3839, 1.5957, 0.7938, 1.143, 0.8479, 1.1568, 0.8324, 1.388, 0.9611, 1.3005, 0.6675, 1.2678, 0.6856, -0.095, 1.0366, 1.0542, 0.8722, 0.6068, 0.8247, 0.951, 1.0451, 0.4703, 0.2005, 0.4939, 0.3649, 0.9361, 0.062, 0.2649, 0.6446, 0.6191, 0.9228, 0.7523, -0.4155, 0.3586]}, \"token.table\": {\"Topic\": [1, 1, 4, 1, 3, 4, 1, 3, 4, 1, 3, 4, 1, 2, 2, 1, 2, 3, 4, 2, 1, 2, 3, 4, 3, 4, 1, 4, 1, 3, 4, 2, 3, 4, 3, 1, 2, 3, 3, 4, 1, 2, 3, 4, 2, 2, 2, 3, 1, 1, 4, 1, 2, 3, 4, 2, 1, 2, 4, 4, 1, 1, 2, 1, 3, 4, 4, 3, 2, 1, 2, 1, 2, 3, 4, 4, 1, 1, 2, 3, 3, 1, 2, 3, 4, 1, 2, 3, 4, 2, 1, 1, 2, 3, 4, 3, 1, 2, 3, 4, 3, 1, 3, 2, 3, 2, 4, 1, 3, 4, 1, 3, 4, 1, 3, 1, 2, 3, 1, 2, 4, 3, 4, 2, 1, 2, 1, 1, 2, 3, 4, 1, 4, 1, 2, 3, 4, 3, 3, 1, 2, 4, 2, 3, 3, 2, 3, 1, 3, 1, 3, 4, 1, 4, 2, 4, 1, 2, 3, 4, 2, 1, 2, 3, 4, 1, 2, 3, 4, 1, 3, 4, 3, 4, 4, 1, 3, 4, 4, 1, 3, 4, 1, 2, 3, 4, 4, 1, 3, 4, 2, 3, 1, 2, 2, 1, 4, 4, 1, 2, 2, 1, 4, 4, 1, 2, 3, 4, 1, 2, 3, 4, 2, 1, 2, 3, 4, 3, 1, 2, 3, 4, 1, 1, 1, 2, 3, 4, 1, 2, 4, 2, 3, 4, 1, 2, 3, 4, 1, 2, 3, 4, 1, 2, 3, 4, 1, 2, 3, 4, 1, 2, 2, 1, 4, 4, 1, 3, 4, 4, 1, 3, 1, 2, 3, 1, 3, 4, 2, 4, 1, 1, 2, 3, 4, 1, 2, 3, 4, 4, 1, 2, 2, 2, 3, 2, 3, 4, 1, 2, 1, 1, 2, 3, 4, 1, 3, 4, 1, 3, 4, 1, 3, 4, 1, 2, 3, 1, 3, 4, 1, 2, 3, 2, 2, 1, 2, 4, 3, 4, 3, 1, 3, 1, 2, 4, 1, 2, 3, 4, 1, 1, 2, 3, 1, 4, 1, 4, 4, 2, 1, 3, 4, 1, 2, 3, 4, 1, 2, 3, 4, 4, 2, 4, 1, 4, 2, 1, 2, 3, 4, 1, 2, 3, 4, 1, 1, 2, 4, 1, 2, 3, 4, 1, 2, 3, 4, 3, 1, 2, 3, 4, 1, 2, 1, 2, 3, 1, 4, 1, 1, 2, 1, 2, 3, 4, 1, 2, 3, 1, 2, 3, 4, 3, 3, 1, 1, 2, 4, 2, 3, 1, 2, 3, 4, 4, 1, 3, 1, 2, 4, 2, 3, 4, 1, 2, 1, 3, 4, 1, 2, 1, 2, 3, 4, 1, 2, 4, 1, 3, 4, 2, 1, 4, 1, 3, 4, 1, 2, 4, 1, 2, 3, 4, 1, 3, 4, 3, 3, 1, 2, 4, 1, 3, 4, 2, 1, 1, 3, 4, 1, 3, 4, 3, 4, 1, 2, 3, 4, 1, 1, 2, 3, 4, 2, 3, 1, 2, 3, 4, 1, 2, 3, 4, 4, 2, 4, 1, 3, 4, 3, 1, 2, 3, 4, 1, 3, 4, 1, 2, 3, 4, 1, 2, 3, 4, 1, 2, 3, 4], \"Freq\": [0.9785727692814451, 0.9341548873109463, 0.05661544771581493, 0.9661144134275041, 0.9074075103155751, 0.9910528871489871, 0.9860198617756709, 0.958589604321672, 0.9610943301826818, 0.9796182146337443, 0.7243081136071169, 0.2535078397624909, 0.9036025054907859, 0.07972963283742229, 0.9866409929084758, 0.3126629172388502, 0.07998353696807796, 0.29812045597192693, 0.30539168660538857, 0.9549172720189955, 0.31903031233290285, 0.6192941357050468, 0.009383244480379496, 0.04691622240189748, 0.6672783637379021, 0.33363918186895103, 0.12362629407993615, 0.865384058559553, 0.036421737910281464, 0.7284347582056292, 0.21853042746168877, 0.6782802282232139, 0.21317378601301007, 0.11627661055255094, 0.9572713862336214, 0.16043467514212903, 0.7219560381395806, 0.12032600635659677, 0.9536133140445722, 0.9586788060496965, 0.8027564930209994, 0.03690834450671261, 0.04613543063339077, 0.11072503352013785, 0.9498556380035278, 0.9229267510928634, 0.03096264312204011, 0.9598419367832434, 0.9629824257427684, 0.11208512922837002, 0.8966810338269602, 0.25359668557503207, 0.12076032646430099, 0.35020494674647284, 0.26567271822146216, 0.9342995679540331, 0.95997282993607, 0.011851516418963828, 0.035554549256891485, 0.9016417892375168, 0.9597067315424204, 0.12112351745755047, 0.8478646222028533, 0.7510233491587078, 0.04571446473139961, 0.20244977238191256, 0.9097066574427565, 0.9831237014527504, 0.9726323169802003, 0.14934232090765115, 0.8417476269340337, 0.23526734259831905, 0.31368979013109205, 0.07842244753277301, 0.3921122376638651, 0.8902438455694254, 0.9667088243858398, 0.7056107986759325, 0.15547356580995123, 0.13155455568534336, 0.8992263481881946, 0.7909574310890326, 0.02929471966996417, 0.05858943933992834, 0.11717887867985669, 0.2478119725035672, 0.1239059862517836, 0.1239059862517836, 0.4956239450071344, 0.9752681199996966, 0.9748607973424824, 0.045834039997778075, 0.9166807999555615, 0.882667779915938, 0.08024252544690345, 0.964225717402458, 0.19507056417919486, 0.43515741239974237, 0.20257327818608697, 0.1650597081516264, 0.9704694602941811, 0.984918423606591, 0.8819285250820448, 0.9076524238458913, 0.07892629772572968, 0.8671740405712965, 0.12690351813238487, 0.8690023810104262, 0.10026950550120302, 0.016711584250200504, 0.9470671092894016, 0.21445480762987518, 0.750591826704563, 0.974391883986535, 0.9708383598600192, 0.8766513973234078, 0.05259908383940447, 0.07013211178587263, 0.1165013889378412, 0.2662888890007799, 0.6157930558143034, 0.8162863452384009, 0.14405053151265898, 0.9688441829666334, 0.02041884504487908, 0.980104562154196, 0.9657059351598318, 0.38193282282430324, 0.32846222762890076, 0.20624372432512375, 0.08402522102134671, 0.9929106372703997, 0.9099177938280465, 0.5313200591656975, 0.13543452488537386, 0.30212317089814167, 0.031254121127393966, 0.9767684246253434, 0.9549088187854627, 0.9147782742852799, 0.027720553766220603, 0.027720553766220603, 0.08608555493065709, 0.9038983267718994, 0.9280992570410327, 0.9928653510780249, 0.894944279550836, 0.513410587234363, 0.4694039654714176, 0.8649734046947202, 0.09010139632236669, 0.05406083779342001, 0.903109548705471, 0.07686038712386987, 0.9713773158838437, 0.8412472456649863, 0.39621930626563584, 0.18112882572143355, 0.3622576514428671, 0.05660275803794798, 0.9409138332064839, 0.3699642196793931, 0.023614737426344238, 0.3542210613951636, 0.2518905325476719, 0.39942618451337175, 0.19971309225668588, 0.33588110970442625, 0.0635450748089455, 0.6289880271268904, 0.0401481719442696, 0.3211853755541568, 0.2665656521424507, 0.7330555433917394, 0.9635860814993498, 0.055447024324390484, 0.3881291702707334, 0.5544702432439048, 0.9325965621001544, 0.2599813641231669, 0.5546269101294228, 0.17332090941544462, 0.5747404692460946, 0.20728344792482098, 0.20728344792482098, 0.00942197490567368, 0.836282546381811, 0.18330557224299857, 0.3258765728764419, 0.4786312164122741, 0.9960762553550236, 0.946811336977326, 0.5792591021717455, 0.4205579782890755, 0.9630594574149083, 0.9701094458592946, 0.909794823113164, 0.8679817191210988, 0.30427119509837297, 0.6846101889713392, 0.9553495346614641, 0.951829071757961, 0.8987370319557382, 0.9441618873797832, 0.37114907242754763, 0.07813664682685213, 0.2490605617605912, 0.2978959660273738, 0.04067291543268432, 0.1626916617307373, 0.5897572737739227, 0.20336457716342163, 0.9279996402289497, 0.48511022662968784, 0.1386029218941965, 0.09240194792946435, 0.2849060061158484, 0.9683740522093663, 0.690572013257338, 0.13629710787973776, 0.004543236929324591, 0.1635565294556853, 0.9437990801666003, 0.9481016697121959, 0.3831769228973483, 0.08842544374554191, 0.5158150885156612, 0.014737573957590318, 0.09371071522572935, 0.880880723121856, 0.018742143045145872, 0.16095721423890352, 0.26826202373150587, 0.5633502498361623, 0.42251433200354427, 0.058682546111603374, 0.16431112911248943, 0.35209527666962026, 0.3386541989619477, 0.11994002879902316, 0.2963224240917043, 0.24693535340975356, 0.7400254811729632, 0.08970005832399554, 0.12333758019549386, 0.04485002916199777, 0.49029918213253126, 0.4085826517771094, 0.0758796353300346, 0.029184475126936386, 0.9519784248068269, 0.9216299086208938, 0.9558221539899049, 0.8868428769993475, 0.0904941711223824, 0.9425491179217651, 0.29922336419791506, 0.29922336419791506, 0.40395154166718533, 0.8497957169039368, 0.12039300605008131, 0.8427510423505692, 0.24404056904980664, 0.7261694981482051, 0.023808836004859182, 0.8772397917066471, 0.06192280882635156, 0.06192280882635156, 0.9748710505493923, 0.9535722602127708, 0.9826626884373382, 0.5092072235893815, 0.11750935928985727, 0.19584893214976212, 0.18018101757778116, 0.46106265321649764, 0.12909754290061934, 0.18442506128659905, 0.22131007354391888, 0.9739226710563057, 0.17517122017083378, 0.8007827207809545, 0.9670725396576868, 0.9694263988640255, 0.9695528516682714, 0.10551366920518701, 0.8968661882440896, 0.052756834602593505, 0.953701892874006, 0.036680842033615615, 0.9906196618036937, 0.24366119852235468, 0.5670660620156618, 0.15505712633240754, 0.03544162887597886, 0.9866480960417575, 0.9358984442599096, 0.9064223713463148, 0.14476032768473723, 0.6658975073497913, 0.17371239322168466, 0.8519622848880642, 0.07099685707400535, 0.07099685707400535, 0.8947490239546588, 0.054780552487019935, 0.054780552487019935, 0.3042574611301477, 0.33595094666453806, 0.3549670379851723, 0.10134222309922869, 0.8782992668599819, 0.9536264301239502, 0.9776525104869156, 0.9931437819068064, 0.1442631565707398, 0.8475460448530963, 0.018032894571342474, 0.873573475574281, 0.06719795965956007, 0.9309233424642314, 0.9377599454868916, 0.036067690211034294, 0.1309990278371244, 0.8383937781575961, 0.026199805567424878, 0.21609769925997796, 0.45277613178281095, 0.257259165785688, 0.07203256641999264, 0.9483694551435419, 0.6440648288390175, 0.16374529546754682, 0.19649435456105618, 0.1858078466276864, 0.7803929558362829, 0.13410517400822, 0.8716836310534299, 0.9839325840556119, 0.9905725225720571, 0.49796201029696313, 0.4369870702606003, 0.06097494003636283, 0.7276874700552388, 0.2533911726085207, 0.006497209554064632, 0.012994419108129264, 0.738694747257337, 0.07879410637411595, 0.019698526593528987, 0.17728673934176087, 0.8928197291094088, 0.9663745648036594, 0.8846502639935809, 0.9617350507827414, 0.9496397277590407, 0.9706481817538742, 0.32017479830523865, 0.17929788705093364, 0.12806991932209547, 0.37140276603407685, 0.40261634197148294, 0.04645573176594034, 0.17033768314178124, 0.38713109804950285, 0.981653772974046, 0.10812353218896914, 0.8469676688135916, 0.036041177396323044, 0.27143119131118854, 0.03392889891389857, 0.45804013533763066, 0.25446674185423923, 0.8092262003360905, 0.11988536301275414, 0.07492835188297134, 0.9429135472737733, 0.9728840204308254, 0.37959753515571987, 0.02617914035556689, 0.4450453860446371, 0.15707484213340134, 0.10850956039820199, 0.8680764831856159, 0.9205483968200995, 0.0430162802252383, 0.034413024180190634, 0.9734173526906738, 0.029497495536081022, 0.9941009941695403, 0.5808454938216622, 0.4170172776155523, 0.4474696691180843, 0.00758423167996753, 0.500559290877857, 0.053089621759772714, 0.06485901378087579, 0.3675344114249628, 0.5837311240278821, 0.03373088161772248, 0.11805808566202869, 0.42163602022153107, 0.4385014610303923, 0.8970372978275368, 0.9385699683171588, 0.9894415656427902, 0.0641763336026237, 0.641763336026237, 0.2887935012118067, 0.9262994422608101, 0.940948093760109, 0.2650152856334712, 0.5164400437985593, 0.21065317575993867, 0.00679526373419157, 0.9377146761358801, 0.142008383918187, 0.8520503035091219, 0.16845030025435884, 0.20214036030523058, 0.6064210809156918, 0.3563832311998082, 0.5619889415073899, 0.08224228412303267, 0.334696691275974, 0.669393382551948, 0.14195456969229386, 0.7807501333076162, 0.10646592726922038, 0.35552273007757634, 0.6290017532141735, 0.516977699769328, 0.2912089574650012, 0.052352172128539536, 0.14069646259545, 0.5268421954445447, 0.4352174658020152, 0.034359273615948566, 0.8262184754511657, 0.11803121077873796, 0.05058480461945912, 0.9750355692604497, 0.9827612349511098, 0.010028175866848059, 0.7277917037983103, 0.19848864649044826, 0.06616288216348276, 0.2362602788441925, 0.7612831207201759, 0.9487814399263392, 0.33438912874658894, 0.5106212371400615, 0.14008193231276023, 0.01355631603026712, 0.3405019025318871, 0.21505383317803398, 0.4480288191209041, 0.9788522884512105, 0.9310964336112681, 0.923908789962017, 0.06299378113377388, 0.010498963522295648, 0.2932483606464073, 0.2565923155656064, 0.439872540969611, 0.9550005261575977, 0.9794242614832268, 0.18296372688095147, 0.7013609530436473, 0.10672884068055503, 0.29437803667822254, 0.3468015226620156, 0.3588992501967371, 0.06577307834444598, 0.8550500184777977, 0.38385645616458103, 0.26047402382596574, 0.16450990978482044, 0.1873585083660455, 0.9580973215399805, 0.3315251932426518, 0.020092435954100107, 0.25115544942625134, 0.40184871908200215, 0.9820657995235009, 0.9004675283652391, 0.6227850878420307, 0.19538355697004886, 0.12211472310628053, 0.06105736155314027, 0.8945293440967469, 0.07454411200806224, 0.03194747657488382, 0.9777157803762152, 0.9469655013481928, 0.9172372594621528, 0.07055671226631945, 0.5588744515309548, 0.14762721361195033, 0.2847096262516185, 0.9567393127026447, 0.39345151317941485, 0.15132750506900572, 0.3127435104759452, 0.141239004731072, 0.03157726264261458, 0.9473178792784374, 0.8718029725304068, 0.4092102187908079, 0.1006254636370839, 0.2683345696988904, 0.22137602000158457, 0.29806390228340074, 0.01970670428320005, 0.34240398692060087, 0.3399406488852008, 0.7050073465190081, 0.13448117014524433, 0.06112780461147469, 0.10187967435245782], \"Term\": [\"acceleration\", \"advertising\", \"advertising\", \"aerospace\", \"afford\", \"age\", \"aluminum\", \"angle\", \"announce_reward_billion_corporation\", \"annual\", \"apparently\", \"apparently\", \"application\", \"application\", \"archive\", \"article\", \"article\", \"article\", \"article\", \"astronomical\", \"available\", \"available\", \"available\", \"available\", \"bad\", \"bad\", \"balloon\", \"balloon\", \"basically\", \"basically\", \"basically\", \"body\", \"body\", \"body\", \"bomb\", \"book\", \"book\", \"book\", \"boost\", \"bug\", \"build\", \"build\", \"build\", \"build\", \"burst\", \"catalog\", \"centaur\", \"centaur\", \"certain\", \"child\", \"child\", \"come\", \"come\", \"come\", \"come\", \"comet\", \"commercial\", \"commercial\", \"commercial\", \"complaint\", \"conference\", \"contain\", \"contain\", \"cost\", \"cost\", \"cost\", \"cost_effective\", \"crash\", \"database\", \"datum\", \"datum\", \"day\", \"day\", \"day\", \"day\", \"debate\", \"decade\", \"design\", \"design\", \"design\", \"detector\", \"development\", \"development\", \"development\", \"development\", \"different\", \"different\", \"different\", \"different\", \"disk\", \"display\", \"distance\", \"distance\", \"doubt\", \"doubt\", \"dream\", \"earth\", \"earth\", \"earth\", \"earth\", \"eat\", \"economy\", \"electrical\", \"element\", \"element\", \"email\", \"email\", \"engine\", \"engine\", \"engine\", \"equipment\", \"error\", \"error\", \"estimate\", \"ether\", \"example\", \"example\", \"example\", \"face\", \"face\", \"face\", \"failure\", \"failure\", \"faq\", \"file\", \"file\", \"film\", \"find\", \"find\", \"find\", \"find\", \"firm\", \"flat\", \"flight\", \"flight\", \"flight\", \"flight\", \"fold\", \"food\", \"foot\", \"foot\", \"foot\", \"force\", \"force\", \"forever\", \"format\", \"fre\", \"fuel\", \"fuel\", \"fund\", \"fund\", \"fund\", \"funding\", \"funding\", \"galactic\", \"game\", \"give\", \"give\", \"give\", \"give\", \"global\", \"go\", \"go\", \"go\", \"go\", \"good\", \"good\", \"good\", \"good\", \"government\", \"government\", \"government\", \"guess\", \"guess\", \"gun\", \"happen\", \"happen\", \"happen\", \"happy\", \"hear\", \"hear\", \"hear\", \"high\", \"high\", \"high\", \"high\", \"icbm\", \"idea\", \"idea\", \"idea\", \"image\", \"imagination\", \"include\", \"include\", \"index\", \"industry\", \"inexpensive_popular_technology\", \"inflate\", \"information\", \"information\", \"instrument\", \"investor\", \"joy\", \"junk\", \"know\", \"know\", \"know\", \"know\", \"land\", \"land\", \"land\", \"land\", \"lander\", \"large\", \"large\", \"large\", \"large\", \"lattice\", \"launch\", \"launch\", \"launch\", \"launch\", \"launcher\", \"legal\", \"level\", \"level\", \"level\", \"level\", \"list\", \"list\", \"list\", \"live\", \"live\", \"live\", \"long\", \"long\", \"long\", \"long\", \"look\", \"look\", \"look\", \"look\", \"low\", \"low\", \"low\", \"low\", \"lunar\", \"lunar\", \"lunar\", \"lunar\", \"magazine\", \"magnetic\", \"map\", \"market\", \"market\", \"marketing\", \"maybe\", \"maybe\", \"maybe\", \"michael_adams_high_jack\", \"mining\", \"mining\", \"mission\", \"mission\", \"mission\", \"money\", \"money\", \"money\", \"monthly\", \"movie\", \"national\", \"need\", \"need\", \"need\", \"need\", \"new\", \"new\", \"new\", \"new\", \"night\", \"object\", \"object\", \"observation\", \"observe\", \"odd\", \"oil\", \"oil\", \"oil\", \"operate\", \"operate\", \"option\", \"orbit\", \"orbit\", \"orbit\", \"orbit\", \"organization\", \"overhead\", \"past\", \"pat\", \"pat\", \"pat\", \"pay\", \"pay\", \"pay\", \"payload\", \"payload\", \"payload\", \"people\", \"people\", \"people\", \"perform\", \"perform\", \"perturbation\", \"physics\", \"planet\", \"planetary\", \"planetary\", \"planetary\", \"plate\", \"plate\", \"plutonium\", \"political\", \"political\", \"position\", \"position\", \"position\", \"post\", \"post\", \"post\", \"post\", \"pound\", \"power\", \"power\", \"power\", \"private\", \"private\", \"privately\", \"privately\", \"prize\", \"probe\", \"problem\", \"problem\", \"problem\", \"program\", \"program\", \"program\", \"program\", \"project\", \"project\", \"project\", \"project\", \"promise\", \"publication\", \"pure\", \"put\", \"race\", \"radar\", \"read\", \"read\", \"read\", \"read\", \"real\", \"real\", \"real\", \"real\", \"redesign\", \"reference\", \"reference\", \"reference\", \"remember\", \"remember\", \"remember\", \"remember\", \"research\", \"research\", \"research\", \"reward\", \"ride\", \"right\", \"right\", \"right\", \"right\", \"ring\", \"ring\", \"rocket\", \"rocket\", \"rocket\", \"rule\", \"rule\", \"russian\", \"satellite\", \"satellite\", \"say\", \"say\", \"say\", \"say\", \"second\", \"second\", \"second\", \"see\", \"see\", \"see\", \"see\", \"sei\", \"self\", \"sell\", \"send\", \"send\", \"send\", \"server\", \"shadow\", \"shuttle\", \"shuttle\", \"shuttle\", \"shuttle\", \"sight\", \"simply\", \"simply\", \"sky\", \"sky\", \"sky\", \"software\", \"software\", \"software\", \"solar\", \"solar\", \"sort\", \"sort\", \"sort\", \"source\", \"source\", \"space\", \"space\", \"space\", \"space\", \"spacecraft\", \"spacecraft\", \"spacecraft\", \"spend\", \"spend\", \"spend\", \"spin\", \"station\", \"station\", \"support\", \"support\", \"support\", \"surface\", \"surface\", \"suspect\", \"system\", \"system\", \"system\", \"system\", \"talk\", \"talk\", \"talk\", \"taste\", \"tax\", \"technology\", \"technology\", \"technology\", \"tell\", \"tell\", \"tell\", \"temporary\", \"term\", \"thing\", \"thing\", \"thing\", \"think\", \"think\", \"think\", \"thread\", \"thread\", \"time\", \"time\", \"time\", \"time\", \"training\", \"try\", \"try\", \"try\", \"try\", \"update\", \"uranium\", \"use\", \"use\", \"use\", \"use\", \"vehicle\", \"vehicle\", \"vehicle\", \"venture\", \"visible\", \"volume\", \"volume\", \"want\", \"want\", \"want\", \"water\", \"way\", \"way\", \"way\", \"way\", \"wing\", \"wing\", \"wise\", \"work\", \"work\", \"work\", \"work\", \"write\", \"write\", \"write\", \"write\", \"year\", \"year\", \"year\", \"year\"]}, \"R\": 30, \"lambda.step\": 0.01, \"plot.opts\": {\"xlab\": \"PC1\", \"ylab\": \"PC2\"}, \"topic.order\": [1, 2, 4, 3]};\n",
       "\n",
       "function LDAvis_load_lib(url, callback){\n",
       "  var s = document.createElement('script');\n",
       "  s.src = url;\n",
       "  s.async = true;\n",
       "  s.onreadystatechange = s.onload = callback;\n",
       "  s.onerror = function(){console.warn(\"failed to load library \" + url);};\n",
       "  document.getElementsByTagName(\"head\")[0].appendChild(s);\n",
       "}\n",
       "\n",
       "if(typeof(LDAvis) !== \"undefined\"){\n",
       "   // already loaded: just create the visualization\n",
       "   !function(LDAvis){\n",
       "       new LDAvis(\"#\" + \"ldavis_el2146819277898461925349111434\", ldavis_el2146819277898461925349111434_data);\n",
       "   }(LDAvis);\n",
       "}else if(typeof define === \"function\" && define.amd){\n",
       "   // require.js is available: use it to load d3/LDAvis\n",
       "   require.config({paths: {d3: \"https://d3js.org/d3.v5\"}});\n",
       "   require([\"d3\"], function(d3){\n",
       "      window.d3 = d3;\n",
       "      LDAvis_load_lib(\"https://cdn.jsdelivr.net/gh/bmabey/pyLDAvis@3.2.2/pyLDAvis/js/ldavis.v3.0.0.js\", function(){\n",
       "        new LDAvis(\"#\" + \"ldavis_el2146819277898461925349111434\", ldavis_el2146819277898461925349111434_data);\n",
       "      });\n",
       "    });\n",
       "}else{\n",
       "    // require.js not available: dynamically load d3 & LDAvis\n",
       "    LDAvis_load_lib(\"https://d3js.org/d3.v5.js\", function(){\n",
       "         LDAvis_load_lib(\"https://cdn.jsdelivr.net/gh/bmabey/pyLDAvis@3.2.2/pyLDAvis/js/ldavis.v3.0.0.js\", function(){\n",
       "                 new LDAvis(\"#\" + \"ldavis_el2146819277898461925349111434\", ldavis_el2146819277898461925349111434_data);\n",
       "            })\n",
       "         });\n",
       "}\n",
       "</script>"
      ],
      "text/plain": [
       "PreparedData(topic_coordinates=              x         y  topics  cluster       Freq\n",
       "topic                                                \n",
       "0     -0.135387 -0.085865       1        1  39.006795\n",
       "1     -0.120124  0.175837       2        1  26.313287\n",
       "3      0.100136 -0.154866       3        1  19.290131\n",
       "2      0.155375  0.064894       4        1  15.389786, topic_info=           Term        Freq       Total Category  logprob  loglift\n",
       "39        write  405.000000  405.000000  Default  30.0000  30.0000\n",
       "314       image  123.000000  123.000000  Default  29.0000  29.0000\n",
       "808       think  247.000000  247.000000  Default  28.0000  28.0000\n",
       "387       probe   91.000000   91.000000  Default  27.0000  27.0000\n",
       "30        thing  131.000000  131.000000  Default  26.0000  26.0000\n",
       "..          ...         ...         ...      ...      ...      ...\n",
       "487        want   27.106775   94.833464   Topic4  -5.5582   0.6191\n",
       "23         real   25.008369   64.577607   Topic4  -5.6387   0.9228\n",
       "490  government   24.401996   74.723203   Topic4  -5.6633   0.7523\n",
       "198        year   24.925294  245.387514   Topic4  -5.6421  -0.4155\n",
       "16          new   23.886871  108.445131   Topic4  -5.6846   0.3586\n",
       "\n",
       "[312 rows x 6 columns], token_table=      Topic      Freq          Term\n",
       "term                               \n",
       "1412      1  0.978573  acceleration\n",
       "1121      1  0.934155   advertising\n",
       "1121      4  0.056615   advertising\n",
       "1565      1  0.966114     aerospace\n",
       "3831      3  0.907408        afford\n",
       "...     ...       ...           ...\n",
       "39        4  0.339941         write\n",
       "198       1  0.705007          year\n",
       "198       2  0.134481          year\n",
       "198       3  0.061128          year\n",
       "198       4  0.101880          year\n",
       "\n",
       "[520 rows x 3 columns], R=30, lambda_step=0.01, plot_opts={'xlab': 'PC1', 'ylab': 'PC2'}, topic_order=[1, 2, 4, 3])"
      ]
     },
     "metadata": {},
     "output_type": "display_data"
    }
   ],
   "source": [
    "plot_model(lda, 'topic_model')"
   ]
  },
  {
   "cell_type": "code",
   "execution_count": 58,
   "id": "3f018810",
   "metadata": {},
   "outputs": [
    {
     "data": {
      "text/html": [
       "<div>\n",
       "<style scoped>\n",
       "    .dataframe tbody tr th:only-of-type {\n",
       "        vertical-align: middle;\n",
       "    }\n",
       "\n",
       "    .dataframe tbody tr th {\n",
       "        vertical-align: top;\n",
       "    }\n",
       "\n",
       "    .dataframe thead th {\n",
       "        text-align: right;\n",
       "    }\n",
       "</style>\n",
       "<table border=\"1\" class=\"dataframe\">\n",
       "  <thead>\n",
       "    <tr style=\"text-align: right;\">\n",
       "      <th></th>\n",
       "      <th>index</th>\n",
       "      <th>text</th>\n",
       "      <th>label</th>\n",
       "      <th>Topic_0</th>\n",
       "      <th>Topic_1</th>\n",
       "      <th>Topic_2</th>\n",
       "      <th>Topic_3</th>\n",
       "      <th>Dominant_Topic</th>\n",
       "      <th>Perc_Dominant_Topic</th>\n",
       "    </tr>\n",
       "  </thead>\n",
       "  <tbody>\n",
       "    <tr>\n",
       "      <th>0</th>\n",
       "      <td>4</td>\n",
       "      <td>pack rat write clear caution warn memory verif...</td>\n",
       "      <td>14</td>\n",
       "      <td>0.004271</td>\n",
       "      <td>0.001913</td>\n",
       "      <td>0.991256</td>\n",
       "      <td>0.002559</td>\n",
       "      <td>Topic 2</td>\n",
       "      <td>0.99</td>\n",
       "    </tr>\n",
       "    <tr>\n",
       "      <th>1</th>\n",
       "      <td>13</td>\n",
       "      <td>write description option report warmly receive...</td>\n",
       "      <td>14</td>\n",
       "      <td>0.654916</td>\n",
       "      <td>0.313154</td>\n",
       "      <td>0.000578</td>\n",
       "      <td>0.031353</td>\n",
       "      <td>Topic 0</td>\n",
       "      <td>0.65</td>\n",
       "    </tr>\n",
       "    <tr>\n",
       "      <th>2</th>\n",
       "      <td>49</td>\n",
       "      <td>sez oddly call year age flight granite year re...</td>\n",
       "      <td>14</td>\n",
       "      <td>0.005640</td>\n",
       "      <td>0.002509</td>\n",
       "      <td>0.988495</td>\n",
       "      <td>0.003356</td>\n",
       "      <td>Topic 2</td>\n",
       "      <td>0.99</td>\n",
       "    </tr>\n",
       "    <tr>\n",
       "      <th>3</th>\n",
       "      <td>59</td>\n",
       "      <td>archive space upcoming planetary probe mission...</td>\n",
       "      <td>14</td>\n",
       "      <td>0.000433</td>\n",
       "      <td>0.999054</td>\n",
       "      <td>0.000259</td>\n",
       "      <td>0.000254</td>\n",
       "      <td>Topic 1</td>\n",
       "      <td>1.00</td>\n",
       "    </tr>\n",
       "    <tr>\n",
       "      <th>4</th>\n",
       "      <td>119</td>\n",
       "      <td>write atmosphere start freeze increase area pe...</td>\n",
       "      <td>14</td>\n",
       "      <td>0.010432</td>\n",
       "      <td>0.292248</td>\n",
       "      <td>0.006415</td>\n",
       "      <td>0.690905</td>\n",
       "      <td>Topic 3</td>\n",
       "      <td>0.69</td>\n",
       "    </tr>\n",
       "    <tr>\n",
       "      <th>...</th>\n",
       "      <td>...</td>\n",
       "      <td>...</td>\n",
       "      <td>...</td>\n",
       "      <td>...</td>\n",
       "      <td>...</td>\n",
       "      <td>...</td>\n",
       "      <td>...</td>\n",
       "      <td>...</td>\n",
       "      <td>...</td>\n",
       "    </tr>\n",
       "    <tr>\n",
       "      <th>588</th>\n",
       "      <td>11198</td>\n",
       "      <td>archive space controversy controversial questi...</td>\n",
       "      <td>14</td>\n",
       "      <td>0.263598</td>\n",
       "      <td>0.623786</td>\n",
       "      <td>0.000225</td>\n",
       "      <td>0.112391</td>\n",
       "      <td>Topic 1</td>\n",
       "      <td>0.62</td>\n",
       "    </tr>\n",
       "    <tr>\n",
       "      <th>589</th>\n",
       "      <td>11216</td>\n",
       "      <td>write write national year display film continu...</td>\n",
       "      <td>14</td>\n",
       "      <td>0.984808</td>\n",
       "      <td>0.004104</td>\n",
       "      <td>0.005600</td>\n",
       "      <td>0.005488</td>\n",
       "      <td>Topic 0</td>\n",
       "      <td>0.98</td>\n",
       "    </tr>\n",
       "    <tr>\n",
       "      <th>590</th>\n",
       "      <td>11261</td>\n",
       "      <td>guy write gravity maneuver fuzzy region descri...</td>\n",
       "      <td>14</td>\n",
       "      <td>0.003947</td>\n",
       "      <td>0.320108</td>\n",
       "      <td>0.002417</td>\n",
       "      <td>0.673528</td>\n",
       "      <td>Topic 3</td>\n",
       "      <td>0.67</td>\n",
       "    </tr>\n",
       "    <tr>\n",
       "      <th>591</th>\n",
       "      <td>11275</td>\n",
       "      <td>article pat write happen hypothesis shuttle fl...</td>\n",
       "      <td>14</td>\n",
       "      <td>0.003510</td>\n",
       "      <td>0.001571</td>\n",
       "      <td>0.716249</td>\n",
       "      <td>0.278669</td>\n",
       "      <td>Topic 2</td>\n",
       "      <td>0.72</td>\n",
       "    </tr>\n",
       "    <tr>\n",
       "      <th>592</th>\n",
       "      <td>11286</td>\n",
       "      <td>write leave close venus flyby venus cook foci ...</td>\n",
       "      <td>14</td>\n",
       "      <td>0.004415</td>\n",
       "      <td>0.341752</td>\n",
       "      <td>0.002716</td>\n",
       "      <td>0.651117</td>\n",
       "      <td>Topic 3</td>\n",
       "      <td>0.65</td>\n",
       "    </tr>\n",
       "  </tbody>\n",
       "</table>\n",
       "<p>593 rows × 9 columns</p>\n",
       "</div>"
      ],
      "text/plain": [
       "     index                                               text  label  \\\n",
       "0        4  pack rat write clear caution warn memory verif...     14   \n",
       "1       13  write description option report warmly receive...     14   \n",
       "2       49  sez oddly call year age flight granite year re...     14   \n",
       "3       59  archive space upcoming planetary probe mission...     14   \n",
       "4      119  write atmosphere start freeze increase area pe...     14   \n",
       "..     ...                                                ...    ...   \n",
       "588  11198  archive space controversy controversial questi...     14   \n",
       "589  11216  write write national year display film continu...     14   \n",
       "590  11261  guy write gravity maneuver fuzzy region descri...     14   \n",
       "591  11275  article pat write happen hypothesis shuttle fl...     14   \n",
       "592  11286  write leave close venus flyby venus cook foci ...     14   \n",
       "\n",
       "      Topic_0   Topic_1   Topic_2   Topic_3 Dominant_Topic  \\\n",
       "0    0.004271  0.001913  0.991256  0.002559        Topic 2   \n",
       "1    0.654916  0.313154  0.000578  0.031353        Topic 0   \n",
       "2    0.005640  0.002509  0.988495  0.003356        Topic 2   \n",
       "3    0.000433  0.999054  0.000259  0.000254        Topic 1   \n",
       "4    0.010432  0.292248  0.006415  0.690905        Topic 3   \n",
       "..        ...       ...       ...       ...            ...   \n",
       "588  0.263598  0.623786  0.000225  0.112391        Topic 1   \n",
       "589  0.984808  0.004104  0.005600  0.005488        Topic 0   \n",
       "590  0.003947  0.320108  0.002417  0.673528        Topic 3   \n",
       "591  0.003510  0.001571  0.716249  0.278669        Topic 2   \n",
       "592  0.004415  0.341752  0.002716  0.651117        Topic 3   \n",
       "\n",
       "     Perc_Dominant_Topic  \n",
       "0                   0.99  \n",
       "1                   0.65  \n",
       "2                   0.99  \n",
       "3                   1.00  \n",
       "4                   0.69  \n",
       "..                   ...  \n",
       "588                 0.62  \n",
       "589                 0.98  \n",
       "590                 0.67  \n",
       "591                 0.72  \n",
       "592                 0.65  \n",
       "\n",
       "[593 rows x 9 columns]"
      ]
     },
     "execution_count": 58,
     "metadata": {},
     "output_type": "execute_result"
    }
   ],
   "source": [
    "lda_results = assign_model(lda)\n",
    "lda_results"
   ]
  },
  {
   "cell_type": "code",
   "execution_count": 59,
   "id": "35c28341",
   "metadata": {},
   "outputs": [
    {
     "data": {
      "text/plain": [
       "0.37505798157892833"
      ]
     },
     "execution_count": 59,
     "metadata": {},
     "output_type": "execute_result"
    }
   ],
   "source": [
    "from gensim.models import CoherenceModel\n",
    "\n",
    "cm = CoherenceModel(model=lda,\n",
    "                    texts=lda_results['text'].map(str.split).tolist(),\n",
    "                    dictionary=lda.id2word)\n",
    "cm.get_coherence()"
   ]
  },
  {
   "cell_type": "code",
   "execution_count": 60,
   "id": "1d13ff70",
   "metadata": {},
   "outputs": [],
   "source": [
    "coherences = []\n",
    "for num_topics in range(2, 16):\n",
    "    lda = create_model('lda', num_topics=num_topics)\n",
    "    lda_results = assign_model(lda)\n",
    "    cm = CoherenceModel(model=lda,\n",
    "                        texts=lda_results['text'].map(str.split).tolist(),\n",
    "                        dictionary=lda.id2word)\n",
    "    coherences.append(cm.get_coherence())"
   ]
  },
  {
   "cell_type": "code",
   "execution_count": 61,
   "id": "ecd66a33",
   "metadata": {},
   "outputs": [
    {
     "data": {
      "text/plain": [
       "[0.41535367744164686,\n",
       " 0.3856949232096432,\n",
       " 0.37505798157892833,\n",
       " 0.4061773788529484,\n",
       " 0.359073676204898,\n",
       " 0.38182855703155927,\n",
       " 0.3688949359003842,\n",
       " 0.39469122268688006,\n",
       " 0.38607316321246554,\n",
       " 0.39222162167670294,\n",
       " 0.40556699059127266,\n",
       " 0.3857113857769366,\n",
       " 0.38871208900831894,\n",
       " 0.4123826257465053]"
      ]
     },
     "execution_count": 61,
     "metadata": {},
     "output_type": "execute_result"
    }
   ],
   "source": [
    "coherences"
   ]
  },
  {
   "cell_type": "code",
   "execution_count": 62,
   "id": "25430ca8",
   "metadata": {},
   "outputs": [
    {
     "data": {
      "image/png": "[encoded data removed]",
      "text/plain": [
       "<Figure size 396x396 with 1 Axes>"
      ]
     },
     "metadata": {
      "needs_background": "light"
     },
     "output_type": "display_data"
    }
   ],
   "source": [
    "f = plt.figure(figsize=(5.5, 5.5))\n",
    "plt.plot(range(2, 16), coherences)\n",
    "plt.xlabel('number of LDA topics')\n",
    "plt.ylabel('coherence score')\n",
    "plt.tight_layout()"
   ]
  },
  {
   "cell_type": "markdown",
   "id": "8fb4a301",
   "metadata": {},
   "source": [
    "## Top2Vec"
   ]
  },
  {
   "cell_type": "code",
   "execution_count": 63,
   "id": "da689e07",
   "metadata": {},
   "outputs": [
    {
     "name": "stderr",
     "output_type": "stream",
     "text": [
      "2021-09-26 17:41:47,624 - top2vec - INFO - Pre-processing documents for training\n",
      "2021-09-26 17:41:47,925 - top2vec - INFO - Creating joint document/word embedding\n",
      "2021-09-26 17:41:50,140 - top2vec - INFO - Creating lower dimension embedding of documents\n",
      "2021-09-26 17:41:56,935 - top2vec - INFO - Finding dense areas of documents\n",
      "2021-09-26 17:41:56,963 - top2vec - INFO - Finding topics\n"
     ]
    }
   ],
   "source": [
    "from top2vec import Top2Vec\n",
    "import pandas as pd\n",
    "\n",
    "raw_ng_df = pd.DataFrame({'text': newsgroups_train['data'],\n",
    "                          'label': newsgroups_train['target']})\n",
    "raw_space_df = raw_ng_df[raw_ng_df['label'] == 14].copy()\n",
    "model = Top2Vec(documents=raw_space_df['text'].to_list(), speed=\"learn\", workers=8)"
   ]
  },
  {
   "cell_type": "code",
   "execution_count": 64,
   "id": "e09fcaab",
   "metadata": {},
   "outputs": [
    {
     "data": {
      "text/plain": [
       "6"
      ]
     },
     "execution_count": 64,
     "metadata": {},
     "output_type": "execute_result"
    }
   ],
   "source": [
    "model.get_topics()[-1].shape[0]"
   ]
  },
  {
   "cell_type": "code",
   "execution_count": 65,
   "id": "7351d479",
   "metadata": {},
   "outputs": [],
   "source": [
    "topic_words, word_scores, topic_nums = model.get_topics()"
   ]
  },
  {
   "cell_type": "code",
   "execution_count": 66,
   "id": "94f8f909",
   "metadata": {},
   "outputs": [
    {
     "data": {
      "text/plain": [
       "array([['question', 'have', 'that', 'but', 'anything', 'make', 'no',\n",
       "        'again', 'how', 'those', 'every', 'part', 'not', 'different',\n",
       "        'too', 'about', 'help', 'see', 'anyone', 'can', 'this', 'long',\n",
       "        'one', 'know', 'll', 're', 'they', 'sure', 'it', 'them', 'case',\n",
       "        'way', 'done', 'find', 'very', 'really', 'some', 'only', 'take',\n",
       "        'well', 'even', 'few', 'back', 'does', 'with', 'the', 'what',\n",
       "        'lot', 'just', 'give'],\n",
       "       ['thing', 'else', 'who', 'going', 'something', 'maybe', 'too',\n",
       "        'someone', 'what', 'anything', 'idea', 'like', 'that', 'isn',\n",
       "        'really', 'done', 'say', 'know', 'want', 'problem', 'thought',\n",
       "        'am', 'doing', 'article', 'think', 'just', 'question', 'never',\n",
       "        'got', 'remember', 'sure', 'they', 'writes', 'again', 'do',\n",
       "        'see', 'make', 'much', 'people', 'didn', 'anyone', 'my', 'it',\n",
       "        'if', 'try', 'go', 'ago', 'right', 'costs', 'when'],\n",
       "       ['technical', 'space', 'exploration', 'based', 'following',\n",
       "        'date', 'non', 'shuttle', 'for', 'radio', 'science', 'solar',\n",
       "        'information', 'center', 'from', 'national', 'jpl',\n",
       "        'international', 'university', 'development', 'office', 'ca',\n",
       "        'orbital', 'also', 'payload', 'system', 'or', 'astronomy', 'on',\n",
       "        'planetary', 'public', 'including', 'by', 'control', 'society',\n",
       "        'possible', 'order', 'an', 'three', 'and', 'may', 'research',\n",
       "        'flight', 'observatory', 'program', 'technology', 'major', 'in',\n",
       "        'good', 'area'],\n",
       "       ['into', 'area', 'on', 'its', 'while', 'made', 'was', 'after',\n",
       "        'down', 'once', 'moon', 'the', 're', 'some', 'fuel', 'long',\n",
       "        'it', 'in', 'an', 'place', 'another', 'known', 'orbit', 'before',\n",
       "        'around', 'had', 'jupiter', 'found', 'at', 'days', 'when',\n",
       "        'through', 'no', 'thought', 'last', 'earth', 'years', 'venus',\n",
       "        'were', 'again', 'different', 'being', 'possible', 'every',\n",
       "        'with', 'first', 'both', 'planet', 'where', 'sun'],\n",
       "       ['done', 'else', 'going', 'costs', 'lot', 'say', 'who', 'would',\n",
       "        'working', 'doing', 'take', 'have', 'anyone', 'big', 'make',\n",
       "        'said', 'too', 'think', 'those', 'enough', 'little', 'money',\n",
       "        'cost', 'since', 'really', 'that', 'work', 'isn', 'anything',\n",
       "        'could', 'probably', 'can', 'real', 'they', 'question', 'idea',\n",
       "        'do', 'government', 'article', 'problem', 'know', 'different',\n",
       "        'much', 'but', 'thing', 'course', 'part', 'someone', 'every',\n",
       "        'didn'],\n",
       "       ['get', 'help', 'how', 'read', 'sure', 'bit', 'don', 'post',\n",
       "        'here', 'what', 'thanks', 'no', 'me', 'anything', 'your', 'll',\n",
       "        'see', 'large', 'any', 'does', 'have', 'anyone', 'give', 'if',\n",
       "        'question', 'am', 'pat', 'too', 'again', 'think', 'writes',\n",
       "        'article', 'doing', 'few', 'make', 'isn', 'who', 'someone',\n",
       "        'only', 'net', 'not', 'henry', 'this', 'going', 'old', 'need',\n",
       "        'every', 'better', 'want', 'you']], dtype='<U13')"
      ]
     },
     "execution_count": 66,
     "metadata": {},
     "output_type": "execute_result"
    }
   ],
   "source": [
    "topic_words"
   ]
  },
  {
   "cell_type": "markdown",
   "id": "e063a747",
   "metadata": {},
   "source": [
    "# Supervised learning"
   ]
  },
  {
   "cell_type": "markdown",
   "id": "b4c495f8",
   "metadata": {},
   "source": [
    "This is an example of using word vectors as features."
   ]
  },
  {
   "cell_type": "markdown",
   "id": "624e4921",
   "metadata": {},
   "source": [
    "To sample down for testing, use `.sample(100).reset_index(drop=True)` when creating the train and test dfs."
   ]
  },
  {
   "cell_type": "code",
   "execution_count": 67,
   "id": "3ef3aa25",
   "metadata": {},
   "outputs": [
    {
     "data": {
      "text/plain": [
       "dict_keys(['data', 'filenames', 'target_names', 'target', 'DESCR'])"
      ]
     },
     "execution_count": 67,
     "metadata": {},
     "output_type": "execute_result"
    }
   ],
   "source": [
    "newsgroups_train.keys()"
   ]
  },
  {
   "cell_type": "code",
   "execution_count": 68,
   "id": "cff8fd9a",
   "metadata": {},
   "outputs": [
    {
     "data": {
      "application/vnd.jupyter.widget-view+json": {
       "model_id": "c19dd58822ee466bbf8d8a5397f69b5b",
       "version_major": 2,
       "version_minor": 0
      },
      "text/plain": [
       "Pandas Apply:   0%|          | 0/11314 [00:00<?, ?it/s]"
      ]
     },
     "metadata": {},
     "output_type": "display_data"
    },
    {
     "data": {
      "application/vnd.jupyter.widget-view+json": {
       "model_id": "34cd4e6fae0c4f2cbcd7c0e10776baf6",
       "version_major": 2,
       "version_minor": 0
      },
      "text/plain": [
       "Pandas Apply:   0%|          | 0/7532 [00:00<?, ?it/s]"
      ]
     },
     "metadata": {},
     "output_type": "display_data"
    }
   ],
   "source": [
    "newsgroups_train = fetch_20newsgroups(remove=('headers', 'footers'))\n",
    "newsgroups_test = fetch_20newsgroups(subset='test',\n",
    "                                     remove=('headers', 'footers'))\n",
    "\n",
    "en_large = spacy.load('en_core_web_lg', disable=['parser', 'ner'])\n",
    "\n",
    "def get_document_vectors(text):\n",
    "    processed = en_large(text)\n",
    "    return processed.vector\n",
    "\n",
    "ng_train_df = pd.DataFrame({'text': newsgroups_train['data'],\n",
    "                            'label': newsgroups_train['target']})\n",
    "ng_train_doc_vectors = pd.DataFrame(\n",
    "    np.vstack(ng_train_df['text'].\n",
    "              swifter.apply(get_document_vectors).tolist())\n",
    ")\n",
    "ng_test_df = pd.DataFrame({'text': newsgroups_test['data'],\n",
    "                           'label': newsgroups_test['target']})\n",
    "ng_test_doc_vectors = pd.DataFrame(\n",
    "    np.vstack(ng_test_df['text'].\n",
    "              swifter.apply(get_document_vectors).tolist())\n",
    ")"
   ]
  },
  {
   "cell_type": "code",
   "execution_count": 69,
   "id": "4133a8bd",
   "metadata": {},
   "outputs": [],
   "source": [
    "ng_train_vector_df = pd.concat([ng_train_df['label'].astype('category'),\n",
    "                                ng_train_doc_vectors], axis=1)\n",
    "ng_test_vector_df = pd.concat([ng_test_df['label'].astype('category'),\n",
    "                               ng_test_doc_vectors], axis=1)"
   ]
  },
  {
   "cell_type": "code",
   "execution_count": 70,
   "id": "4bf8c614",
   "metadata": {},
   "outputs": [
    {
     "data": {
      "text/plain": [
       "10    0.053032\n",
       "15    0.052943\n",
       "8     0.052855\n",
       "9     0.052766\n",
       "11    0.052590\n",
       "7     0.052501\n",
       "13    0.052501\n",
       "5     0.052413\n",
       "14    0.052413\n",
       "12    0.052236\n",
       "2     0.052236\n",
       "3     0.052148\n",
       "6     0.051706\n",
       "1     0.051617\n",
       "4     0.051087\n",
       "17    0.049850\n",
       "16    0.048259\n",
       "0     0.042425\n",
       "18    0.041100\n",
       "19    0.033322\n",
       "Name: label, dtype: float64"
      ]
     },
     "execution_count": 70,
     "metadata": {},
     "output_type": "execute_result"
    }
   ],
   "source": [
    "ng_train_vector_df['label'].value_counts(normalize=True)"
   ]
  },
  {
   "cell_type": "code",
   "execution_count": 71,
   "id": "4d4bc129",
   "metadata": {},
   "outputs": [
    {
     "data": {
      "text/html": [
       "<div>\n",
       "<style scoped>\n",
       "    .dataframe tbody tr th:only-of-type {\n",
       "        vertical-align: middle;\n",
       "    }\n",
       "\n",
       "    .dataframe tbody tr th {\n",
       "        vertical-align: top;\n",
       "    }\n",
       "\n",
       "    .dataframe thead th {\n",
       "        text-align: right;\n",
       "    }\n",
       "</style>\n",
       "<table border=\"1\" class=\"dataframe\">\n",
       "  <thead>\n",
       "    <tr style=\"text-align: right;\">\n",
       "      <th></th>\n",
       "      <th>label</th>\n",
       "      <th>0</th>\n",
       "      <th>1</th>\n",
       "      <th>2</th>\n",
       "      <th>3</th>\n",
       "      <th>4</th>\n",
       "      <th>5</th>\n",
       "      <th>6</th>\n",
       "      <th>7</th>\n",
       "      <th>8</th>\n",
       "      <th>...</th>\n",
       "      <th>290</th>\n",
       "      <th>291</th>\n",
       "      <th>292</th>\n",
       "      <th>293</th>\n",
       "      <th>294</th>\n",
       "      <th>295</th>\n",
       "      <th>296</th>\n",
       "      <th>297</th>\n",
       "      <th>298</th>\n",
       "      <th>299</th>\n",
       "    </tr>\n",
       "  </thead>\n",
       "  <tbody>\n",
       "    <tr>\n",
       "      <th>0</th>\n",
       "      <td>7</td>\n",
       "      <td>0.054759</td>\n",
       "      <td>0.203399</td>\n",
       "      <td>-0.145479</td>\n",
       "      <td>-0.070295</td>\n",
       "      <td>0.107996</td>\n",
       "      <td>0.016977</td>\n",
       "      <td>-0.010392</td>\n",
       "      <td>-0.195820</td>\n",
       "      <td>-0.080048</td>\n",
       "      <td>...</td>\n",
       "      <td>-0.239297</td>\n",
       "      <td>-0.030296</td>\n",
       "      <td>0.077116</td>\n",
       "      <td>-0.062379</td>\n",
       "      <td>0.029934</td>\n",
       "      <td>-0.076824</td>\n",
       "      <td>-0.045755</td>\n",
       "      <td>-0.017002</td>\n",
       "      <td>-0.001008</td>\n",
       "      <td>0.117567</td>\n",
       "    </tr>\n",
       "    <tr>\n",
       "      <th>1</th>\n",
       "      <td>4</td>\n",
       "      <td>-0.016288</td>\n",
       "      <td>0.146424</td>\n",
       "      <td>-0.089363</td>\n",
       "      <td>-0.051657</td>\n",
       "      <td>0.028966</td>\n",
       "      <td>0.000430</td>\n",
       "      <td>0.026072</td>\n",
       "      <td>-0.118393</td>\n",
       "      <td>0.003177</td>\n",
       "      <td>...</td>\n",
       "      <td>-0.217318</td>\n",
       "      <td>0.051244</td>\n",
       "      <td>0.011505</td>\n",
       "      <td>-0.013299</td>\n",
       "      <td>0.024465</td>\n",
       "      <td>-0.090747</td>\n",
       "      <td>-0.010024</td>\n",
       "      <td>-0.053404</td>\n",
       "      <td>-0.058587</td>\n",
       "      <td>0.066247</td>\n",
       "    </tr>\n",
       "    <tr>\n",
       "      <th>2</th>\n",
       "      <td>4</td>\n",
       "      <td>-0.010889</td>\n",
       "      <td>0.191336</td>\n",
       "      <td>-0.159281</td>\n",
       "      <td>-0.034975</td>\n",
       "      <td>0.075878</td>\n",
       "      <td>0.007909</td>\n",
       "      <td>0.008473</td>\n",
       "      <td>-0.141111</td>\n",
       "      <td>0.013498</td>\n",
       "      <td>...</td>\n",
       "      <td>-0.205405</td>\n",
       "      <td>0.018488</td>\n",
       "      <td>0.009842</td>\n",
       "      <td>-0.051622</td>\n",
       "      <td>0.040851</td>\n",
       "      <td>-0.019679</td>\n",
       "      <td>-0.051688</td>\n",
       "      <td>-0.064055</td>\n",
       "      <td>0.038421</td>\n",
       "      <td>0.108117</td>\n",
       "    </tr>\n",
       "    <tr>\n",
       "      <th>3</th>\n",
       "      <td>1</td>\n",
       "      <td>-0.032975</td>\n",
       "      <td>0.212198</td>\n",
       "      <td>-0.103774</td>\n",
       "      <td>-0.066658</td>\n",
       "      <td>0.110629</td>\n",
       "      <td>0.073716</td>\n",
       "      <td>0.004324</td>\n",
       "      <td>-0.122965</td>\n",
       "      <td>0.021230</td>\n",
       "      <td>...</td>\n",
       "      <td>-0.123165</td>\n",
       "      <td>0.043717</td>\n",
       "      <td>-0.070767</td>\n",
       "      <td>-0.038084</td>\n",
       "      <td>0.019652</td>\n",
       "      <td>-0.027046</td>\n",
       "      <td>-0.028275</td>\n",
       "      <td>-0.081501</td>\n",
       "      <td>0.017188</td>\n",
       "      <td>0.105726</td>\n",
       "    </tr>\n",
       "    <tr>\n",
       "      <th>4</th>\n",
       "      <td>14</td>\n",
       "      <td>-0.021514</td>\n",
       "      <td>0.192841</td>\n",
       "      <td>-0.182851</td>\n",
       "      <td>-0.077671</td>\n",
       "      <td>0.122450</td>\n",
       "      <td>0.050537</td>\n",
       "      <td>0.049683</td>\n",
       "      <td>-0.125027</td>\n",
       "      <td>0.020853</td>\n",
       "      <td>...</td>\n",
       "      <td>-0.134218</td>\n",
       "      <td>0.077360</td>\n",
       "      <td>-0.085769</td>\n",
       "      <td>-0.069592</td>\n",
       "      <td>0.043777</td>\n",
       "      <td>-0.033654</td>\n",
       "      <td>-0.082722</td>\n",
       "      <td>-0.059467</td>\n",
       "      <td>-0.018412</td>\n",
       "      <td>0.030789</td>\n",
       "    </tr>\n",
       "    <tr>\n",
       "      <th>...</th>\n",
       "      <td>...</td>\n",
       "      <td>...</td>\n",
       "      <td>...</td>\n",
       "      <td>...</td>\n",
       "      <td>...</td>\n",
       "      <td>...</td>\n",
       "      <td>...</td>\n",
       "      <td>...</td>\n",
       "      <td>...</td>\n",
       "      <td>...</td>\n",
       "      <td>...</td>\n",
       "      <td>...</td>\n",
       "      <td>...</td>\n",
       "      <td>...</td>\n",
       "      <td>...</td>\n",
       "      <td>...</td>\n",
       "      <td>...</td>\n",
       "      <td>...</td>\n",
       "      <td>...</td>\n",
       "      <td>...</td>\n",
       "      <td>...</td>\n",
       "    </tr>\n",
       "    <tr>\n",
       "      <th>11309</th>\n",
       "      <td>13</td>\n",
       "      <td>-0.058751</td>\n",
       "      <td>0.194507</td>\n",
       "      <td>-0.173803</td>\n",
       "      <td>-0.041258</td>\n",
       "      <td>0.081166</td>\n",
       "      <td>-0.052215</td>\n",
       "      <td>0.016737</td>\n",
       "      <td>-0.129954</td>\n",
       "      <td>0.057909</td>\n",
       "      <td>...</td>\n",
       "      <td>-0.061515</td>\n",
       "      <td>0.021197</td>\n",
       "      <td>-0.025507</td>\n",
       "      <td>-0.049623</td>\n",
       "      <td>0.072904</td>\n",
       "      <td>-0.023158</td>\n",
       "      <td>-0.041457</td>\n",
       "      <td>-0.066105</td>\n",
       "      <td>0.005039</td>\n",
       "      <td>0.073422</td>\n",
       "    </tr>\n",
       "    <tr>\n",
       "      <th>11310</th>\n",
       "      <td>4</td>\n",
       "      <td>0.048711</td>\n",
       "      <td>0.111870</td>\n",
       "      <td>-0.118484</td>\n",
       "      <td>-0.028413</td>\n",
       "      <td>0.059593</td>\n",
       "      <td>-0.009119</td>\n",
       "      <td>-0.012691</td>\n",
       "      <td>-0.174223</td>\n",
       "      <td>0.017714</td>\n",
       "      <td>...</td>\n",
       "      <td>-0.207440</td>\n",
       "      <td>0.000102</td>\n",
       "      <td>0.017769</td>\n",
       "      <td>-0.045889</td>\n",
       "      <td>-0.028098</td>\n",
       "      <td>0.015380</td>\n",
       "      <td>0.004067</td>\n",
       "      <td>-0.069923</td>\n",
       "      <td>-0.020632</td>\n",
       "      <td>0.080148</td>\n",
       "    </tr>\n",
       "    <tr>\n",
       "      <th>11311</th>\n",
       "      <td>3</td>\n",
       "      <td>0.018623</td>\n",
       "      <td>0.135743</td>\n",
       "      <td>-0.021562</td>\n",
       "      <td>-0.039196</td>\n",
       "      <td>0.059757</td>\n",
       "      <td>-0.017441</td>\n",
       "      <td>-0.053337</td>\n",
       "      <td>-0.117367</td>\n",
       "      <td>0.040548</td>\n",
       "      <td>...</td>\n",
       "      <td>-0.212937</td>\n",
       "      <td>0.034250</td>\n",
       "      <td>0.022499</td>\n",
       "      <td>-0.092744</td>\n",
       "      <td>-0.026803</td>\n",
       "      <td>-0.071181</td>\n",
       "      <td>0.025616</td>\n",
       "      <td>-0.062586</td>\n",
       "      <td>-0.032105</td>\n",
       "      <td>0.099645</td>\n",
       "    </tr>\n",
       "    <tr>\n",
       "      <th>11312</th>\n",
       "      <td>1</td>\n",
       "      <td>-0.038034</td>\n",
       "      <td>0.186990</td>\n",
       "      <td>-0.173167</td>\n",
       "      <td>-0.006954</td>\n",
       "      <td>0.115749</td>\n",
       "      <td>-0.010950</td>\n",
       "      <td>-0.012561</td>\n",
       "      <td>-0.107813</td>\n",
       "      <td>-0.009892</td>\n",
       "      <td>...</td>\n",
       "      <td>-0.111579</td>\n",
       "      <td>0.019268</td>\n",
       "      <td>-0.072806</td>\n",
       "      <td>-0.080768</td>\n",
       "      <td>0.038476</td>\n",
       "      <td>0.000640</td>\n",
       "      <td>-0.068877</td>\n",
       "      <td>-0.106345</td>\n",
       "      <td>0.049451</td>\n",
       "      <td>0.102729</td>\n",
       "    </tr>\n",
       "    <tr>\n",
       "      <th>11313</th>\n",
       "      <td>8</td>\n",
       "      <td>-0.011839</td>\n",
       "      <td>0.218934</td>\n",
       "      <td>-0.094353</td>\n",
       "      <td>-0.030268</td>\n",
       "      <td>0.087451</td>\n",
       "      <td>0.002810</td>\n",
       "      <td>-0.006491</td>\n",
       "      <td>-0.067313</td>\n",
       "      <td>-0.028868</td>\n",
       "      <td>...</td>\n",
       "      <td>-0.143880</td>\n",
       "      <td>-0.009674</td>\n",
       "      <td>0.061531</td>\n",
       "      <td>-0.046443</td>\n",
       "      <td>-0.035056</td>\n",
       "      <td>-0.080999</td>\n",
       "      <td>0.044849</td>\n",
       "      <td>-0.045180</td>\n",
       "      <td>-0.038909</td>\n",
       "      <td>0.092776</td>\n",
       "    </tr>\n",
       "  </tbody>\n",
       "</table>\n",
       "<p>11314 rows × 301 columns</p>\n",
       "</div>"
      ],
      "text/plain": [
       "      label         0         1         2         3         4         5  \\\n",
       "0         7  0.054759  0.203399 -0.145479 -0.070295  0.107996  0.016977   \n",
       "1         4 -0.016288  0.146424 -0.089363 -0.051657  0.028966  0.000430   \n",
       "2         4 -0.010889  0.191336 -0.159281 -0.034975  0.075878  0.007909   \n",
       "3         1 -0.032975  0.212198 -0.103774 -0.066658  0.110629  0.073716   \n",
       "4        14 -0.021514  0.192841 -0.182851 -0.077671  0.122450  0.050537   \n",
       "...     ...       ...       ...       ...       ...       ...       ...   \n",
       "11309    13 -0.058751  0.194507 -0.173803 -0.041258  0.081166 -0.052215   \n",
       "11310     4  0.048711  0.111870 -0.118484 -0.028413  0.059593 -0.009119   \n",
       "11311     3  0.018623  0.135743 -0.021562 -0.039196  0.059757 -0.017441   \n",
       "11312     1 -0.038034  0.186990 -0.173167 -0.006954  0.115749 -0.010950   \n",
       "11313     8 -0.011839  0.218934 -0.094353 -0.030268  0.087451  0.002810   \n",
       "\n",
       "              6         7         8  ...       290       291       292  \\\n",
       "0     -0.010392 -0.195820 -0.080048  ... -0.239297 -0.030296  0.077116   \n",
       "1      0.026072 -0.118393  0.003177  ... -0.217318  0.051244  0.011505   \n",
       "2      0.008473 -0.141111  0.013498  ... -0.205405  0.018488  0.009842   \n",
       "3      0.004324 -0.122965  0.021230  ... -0.123165  0.043717 -0.070767   \n",
       "4      0.049683 -0.125027  0.020853  ... -0.134218  0.077360 -0.085769   \n",
       "...         ...       ...       ...  ...       ...       ...       ...   \n",
       "11309  0.016737 -0.129954  0.057909  ... -0.061515  0.021197 -0.025507   \n",
       "11310 -0.012691 -0.174223  0.017714  ... -0.207440  0.000102  0.017769   \n",
       "11311 -0.053337 -0.117367  0.040548  ... -0.212937  0.034250  0.022499   \n",
       "11312 -0.012561 -0.107813 -0.009892  ... -0.111579  0.019268 -0.072806   \n",
       "11313 -0.006491 -0.067313 -0.028868  ... -0.143880 -0.009674  0.061531   \n",
       "\n",
       "            293       294       295       296       297       298       299  \n",
       "0     -0.062379  0.029934 -0.076824 -0.045755 -0.017002 -0.001008  0.117567  \n",
       "1     -0.013299  0.024465 -0.090747 -0.010024 -0.053404 -0.058587  0.066247  \n",
       "2     -0.051622  0.040851 -0.019679 -0.051688 -0.064055  0.038421  0.108117  \n",
       "3     -0.038084  0.019652 -0.027046 -0.028275 -0.081501  0.017188  0.105726  \n",
       "4     -0.069592  0.043777 -0.033654 -0.082722 -0.059467 -0.018412  0.030789  \n",
       "...         ...       ...       ...       ...       ...       ...       ...  \n",
       "11309 -0.049623  0.072904 -0.023158 -0.041457 -0.066105  0.005039  0.073422  \n",
       "11310 -0.045889 -0.028098  0.015380  0.004067 -0.069923 -0.020632  0.080148  \n",
       "11311 -0.092744 -0.026803 -0.071181  0.025616 -0.062586 -0.032105  0.099645  \n",
       "11312 -0.080768  0.038476  0.000640 -0.068877 -0.106345  0.049451  0.102729  \n",
       "11313 -0.046443 -0.035056 -0.080999  0.044849 -0.045180 -0.038909  0.092776  \n",
       "\n",
       "[11314 rows x 301 columns]"
      ]
     },
     "execution_count": 71,
     "metadata": {},
     "output_type": "execute_result"
    }
   ],
   "source": [
    "ng_train_vector_df"
   ]
  },
  {
   "cell_type": "markdown",
   "id": "33fd9a59",
   "metadata": {},
   "source": [
    "pycaret can be used but is slow with larger feature sets."
   ]
  },
  {
   "cell_type": "code",
   "execution_count": 72,
   "id": "acdb35e7",
   "metadata": {},
   "outputs": [
    {
     "data": {
      "text/plain": [
       "Index(['label',       0,       1,       2,       3,       4,       5,       6,\n",
       "             7,       8,\n",
       "       ...\n",
       "           290,     291,     292,     293,     294,     295,     296,     297,\n",
       "           298,     299],\n",
       "      dtype='object', length=301)"
      ]
     },
     "execution_count": 72,
     "metadata": {},
     "output_type": "execute_result"
    }
   ],
   "source": [
    "ng_train_vector_df.columns"
   ]
  },
  {
   "cell_type": "code",
   "execution_count": 73,
   "id": "10f2d08f",
   "metadata": {},
   "outputs": [
    {
     "data": {
      "text/html": [
       "<style type=\"text/css\">\n",
       "#T_cfb16_row3_col0, #T_cfb16_row3_col1, #T_cfb16_row3_col2, #T_cfb16_row3_col3, #T_cfb16_row3_col4, #T_cfb16_row3_col5, #T_cfb16_row3_col6 {\n",
       "  background: yellow;\n",
       "}\n",
       "</style>\n",
       "<table id=\"T_cfb16_\">\n",
       "  <thead>\n",
       "    <tr>\n",
       "      <th class=\"blank level0\" >&nbsp;</th>\n",
       "      <th class=\"col_heading level0 col0\" >Accuracy</th>\n",
       "      <th class=\"col_heading level0 col1\" >AUC</th>\n",
       "      <th class=\"col_heading level0 col2\" >Recall</th>\n",
       "      <th class=\"col_heading level0 col3\" >Prec.</th>\n",
       "      <th class=\"col_heading level0 col4\" >F1</th>\n",
       "      <th class=\"col_heading level0 col5\" >Kappa</th>\n",
       "      <th class=\"col_heading level0 col6\" >MCC</th>\n",
       "    </tr>\n",
       "  </thead>\n",
       "  <tbody>\n",
       "    <tr>\n",
       "      <th id=\"T_cfb16_level0_row0\" class=\"row_heading level0 row0\" >0</th>\n",
       "      <td id=\"T_cfb16_row0_col0\" class=\"data row0 col0\" >0.7078</td>\n",
       "      <td id=\"T_cfb16_row0_col1\" class=\"data row0 col1\" >0.9657</td>\n",
       "      <td id=\"T_cfb16_row0_col2\" class=\"data row0 col2\" >0.6949</td>\n",
       "      <td id=\"T_cfb16_row0_col3\" class=\"data row0 col3\" >0.7054</td>\n",
       "      <td id=\"T_cfb16_row0_col4\" class=\"data row0 col4\" >0.7014</td>\n",
       "      <td id=\"T_cfb16_row0_col5\" class=\"data row0 col5\" >0.6922</td>\n",
       "      <td id=\"T_cfb16_row0_col6\" class=\"data row0 col6\" >0.6926</td>\n",
       "    </tr>\n",
       "    <tr>\n",
       "      <th id=\"T_cfb16_level0_row1\" class=\"row_heading level0 row1\" >1</th>\n",
       "      <td id=\"T_cfb16_row1_col0\" class=\"data row1 col0\" >0.7274</td>\n",
       "      <td id=\"T_cfb16_row1_col1\" class=\"data row1 col1\" >0.9694</td>\n",
       "      <td id=\"T_cfb16_row1_col2\" class=\"data row1 col2\" >0.7155</td>\n",
       "      <td id=\"T_cfb16_row1_col3\" class=\"data row1 col3\" >0.7296</td>\n",
       "      <td id=\"T_cfb16_row1_col4\" class=\"data row1 col4\" >0.7206</td>\n",
       "      <td id=\"T_cfb16_row1_col5\" class=\"data row1 col5\" >0.7128</td>\n",
       "      <td id=\"T_cfb16_row1_col6\" class=\"data row1 col6\" >0.7133</td>\n",
       "    </tr>\n",
       "    <tr>\n",
       "      <th id=\"T_cfb16_level0_row2\" class=\"row_heading level0 row2\" >2</th>\n",
       "      <td id=\"T_cfb16_row2_col0\" class=\"data row2 col0\" >0.7208</td>\n",
       "      <td id=\"T_cfb16_row2_col1\" class=\"data row2 col1\" >0.9693</td>\n",
       "      <td id=\"T_cfb16_row2_col2\" class=\"data row2 col2\" >0.7073</td>\n",
       "      <td id=\"T_cfb16_row2_col3\" class=\"data row2 col3\" >0.7164</td>\n",
       "      <td id=\"T_cfb16_row2_col4\" class=\"data row2 col4\" >0.7143</td>\n",
       "      <td id=\"T_cfb16_row2_col5\" class=\"data row2 col5\" >0.7058</td>\n",
       "      <td id=\"T_cfb16_row2_col6\" class=\"data row2 col6\" >0.7062</td>\n",
       "    </tr>\n",
       "    <tr>\n",
       "      <th id=\"T_cfb16_level0_row3\" class=\"row_heading level0 row3\" >Mean</th>\n",
       "      <td id=\"T_cfb16_row3_col0\" class=\"data row3 col0\" >0.7187</td>\n",
       "      <td id=\"T_cfb16_row3_col1\" class=\"data row3 col1\" >0.9681</td>\n",
       "      <td id=\"T_cfb16_row3_col2\" class=\"data row3 col2\" >0.7059</td>\n",
       "      <td id=\"T_cfb16_row3_col3\" class=\"data row3 col3\" >0.7172</td>\n",
       "      <td id=\"T_cfb16_row3_col4\" class=\"data row3 col4\" >0.7121</td>\n",
       "      <td id=\"T_cfb16_row3_col5\" class=\"data row3 col5\" >0.7036</td>\n",
       "      <td id=\"T_cfb16_row3_col6\" class=\"data row3 col6\" >0.7040</td>\n",
       "    </tr>\n",
       "    <tr>\n",
       "      <th id=\"T_cfb16_level0_row4\" class=\"row_heading level0 row4\" >SD</th>\n",
       "      <td id=\"T_cfb16_row4_col0\" class=\"data row4 col0\" >0.0081</td>\n",
       "      <td id=\"T_cfb16_row4_col1\" class=\"data row4 col1\" >0.0017</td>\n",
       "      <td id=\"T_cfb16_row4_col2\" class=\"data row4 col2\" >0.0085</td>\n",
       "      <td id=\"T_cfb16_row4_col3\" class=\"data row4 col3\" >0.0099</td>\n",
       "      <td id=\"T_cfb16_row4_col4\" class=\"data row4 col4\" >0.0080</td>\n",
       "      <td id=\"T_cfb16_row4_col5\" class=\"data row4 col5\" >0.0086</td>\n",
       "      <td id=\"T_cfb16_row4_col6\" class=\"data row4 col6\" >0.0086</td>\n",
       "    </tr>\n",
       "  </tbody>\n",
       "</table>\n"
      ],
      "text/plain": [
       "<pandas.io.formats.style.Styler at 0x1c0d8e42be0>"
      ]
     },
     "metadata": {},
     "output_type": "display_data"
    }
   ],
   "source": [
    "from pycaret.classification import setup, create_model, tune_model, evaluate_model\n",
    "\n",
    "ng_setup = setup(ng_train_vector_df, test_data=ng_test_vector_df, fold=3, target='label')\n",
    "lr = create_model('lr')"
   ]
  },
  {
   "cell_type": "code",
   "execution_count": 74,
   "id": "96feab23",
   "metadata": {},
   "outputs": [],
   "source": [
    "# this takes a while but could be used to fine-tune the model\n",
    "# tuned_lr = tune_model(lr, search_library='scikit-optimize')"
   ]
  },
  {
   "cell_type": "code",
   "execution_count": 75,
   "id": "9b81fe4b",
   "metadata": {},
   "outputs": [
    {
     "data": {
      "application/vnd.jupyter.widget-view+json": {
       "model_id": "4308100b65a14396a4e13f84606c672f",
       "version_major": 2,
       "version_minor": 0
      },
      "text/plain": [
       "interactive(children=(ToggleButtons(description='Plot Type:', icons=('',), options=(('Hyperparameters', 'param…"
      ]
     },
     "metadata": {},
     "output_type": "display_data"
    }
   ],
   "source": [
    "evaluate_model(lr)"
   ]
  },
  {
   "cell_type": "markdown",
   "id": "be6bb727",
   "metadata": {},
   "source": [
    "Using TFIDF vectors."
   ]
  },
  {
   "cell_type": "code",
   "execution_count": 76,
   "id": "76af904e",
   "metadata": {},
   "outputs": [],
   "source": [
    "vectorizer = TfidfVectorizer(min_df=10, max_df=0.9)\n",
    "train_tfidf = vectorizer.fit_transform(newsgroups_train['data'])\n",
    "test_tfidf = vectorizer.transform(newsgroups_test['data'])"
   ]
  },
  {
   "cell_type": "code",
   "execution_count": 77,
   "id": "39a3c09f",
   "metadata": {},
   "outputs": [
    {
     "data": {
      "text/plain": [
       "numpy.ndarray"
      ]
     },
     "execution_count": 77,
     "metadata": {},
     "output_type": "execute_result"
    }
   ],
   "source": [
    "type(newsgroups_train['target'])"
   ]
  },
  {
   "cell_type": "code",
   "execution_count": 78,
   "id": "446de6e1",
   "metadata": {},
   "outputs": [],
   "source": [
    "train_tfidf_df = pd.DataFrame(train_tfidf.todense())\n",
    "test_tfidf_df = pd.DataFrame(test_tfidf.todense())\n",
    "train_tfidf_df['label'] = pd.Series(newsgroups_train['target']).\\\n",
    "    astype('category')\n",
    "test_tfidf_df['label'] = pd.Series(newsgroups_test['target']).\\\n",
    "    astype('category')"
   ]
  },
  {
   "cell_type": "code",
   "execution_count": 79,
   "id": "2564fea6",
   "metadata": {},
   "outputs": [
    {
     "data": {
      "text/plain": [
       "(11314, 13270)"
      ]
     },
     "execution_count": 79,
     "metadata": {},
     "output_type": "execute_result"
    }
   ],
   "source": [
    "train_tfidf_df.shape"
   ]
  },
  {
   "cell_type": "code",
   "execution_count": 80,
   "id": "f10c213d",
   "metadata": {},
   "outputs": [
    {
     "data": {
      "text/plain": [
       "(7532, 13270)"
      ]
     },
     "execution_count": 80,
     "metadata": {},
     "output_type": "execute_result"
    }
   ],
   "source": [
    "test_tfidf_df.shape"
   ]
  },
  {
   "cell_type": "code",
   "execution_count": 81,
   "id": "ce19b634",
   "metadata": {},
   "outputs": [
    {
     "data": {
      "text/plain": [
       "(11314, 2)"
      ]
     },
     "execution_count": 81,
     "metadata": {},
     "output_type": "execute_result"
    }
   ],
   "source": [
    "ng_train_df.shape"
   ]
  },
  {
   "cell_type": "code",
   "execution_count": 82,
   "id": "9781581e",
   "metadata": {
    "scrolled": true
   },
   "outputs": [
    {
     "data": {
      "text/plain": [
       "0.7579989393671558"
      ]
     },
     "execution_count": 82,
     "metadata": {},
     "output_type": "execute_result"
    }
   ],
   "source": [
    "from sklearn.linear_model import LogisticRegression\n",
    "\n",
    "lr = LogisticRegression()\n",
    "lr.fit(ng_train_vector_df.drop('label', axis=1), ng_train_vector_df['label'])\n",
    "lr.score(ng_train_vector_df.drop('label', axis=1),\n",
    "         ng_train_vector_df['label'])"
   ]
  },
  {
   "cell_type": "code",
   "execution_count": 83,
   "id": "842e8a91",
   "metadata": {},
   "outputs": [
    {
     "data": {
      "text/plain": [
       "0.6882634094530006"
      ]
     },
     "execution_count": 83,
     "metadata": {},
     "output_type": "execute_result"
    }
   ],
   "source": [
    "lr.score(ng_test_vector_df.drop('label', axis=1), ng_test_vector_df['label'])"
   ]
  },
  {
   "cell_type": "code",
   "execution_count": 84,
   "id": "13df99cf",
   "metadata": {},
   "outputs": [
    {
     "data": {
      "text/plain": [
       "0.9432561428318897"
      ]
     },
     "execution_count": 84,
     "metadata": {},
     "output_type": "execute_result"
    }
   ],
   "source": [
    "lr = LogisticRegression()\n",
    "lr.fit(train_tfidf_df.drop('label', axis=1), train_tfidf_df['label'])\n",
    "lr.score(train_tfidf_df.drop('label', axis=1), train_tfidf_df['label'])"
   ]
  },
  {
   "cell_type": "code",
   "execution_count": 85,
   "id": "b0fe97b6",
   "metadata": {},
   "outputs": [
    {
     "data": {
      "text/plain": [
       "0.7683218268720128"
      ]
     },
     "execution_count": 85,
     "metadata": {},
     "output_type": "execute_result"
    }
   ],
   "source": [
    "lr.score(test_tfidf_df.drop('label', axis=1), test_tfidf_df['label'])"
   ]
  },
  {
   "cell_type": "markdown",
   "id": "988ab108",
   "metadata": {},
   "source": [
    "# Sentiment analysis"
   ]
  },
  {
   "cell_type": "code",
   "execution_count": 86,
   "id": "1f47c159",
   "metadata": {},
   "outputs": [
    {
     "data": {
      "application/vnd.jupyter.widget-view+json": {
       "model_id": "b4ae28c8a6624919978fd777bbeb37b3",
       "version_major": 2,
       "version_minor": 0
      },
      "text/plain": [
       "Pandas Apply:   0%|          | 0/11314 [00:00<?, ?it/s]"
      ]
     },
     "metadata": {},
     "output_type": "display_data"
    }
   ],
   "source": [
    "from vaderSentiment.vaderSentiment import SentimentIntensityAnalyzer\n",
    "\n",
    "vader = SentimentIntensityAnalyzer()\n",
    "\n",
    "def get_sentiment(text):\n",
    "    return vader.polarity_scores(text.lower())['compound']\n",
    "\n",
    "ng_train_df['sentiment_score'] = ng_train_df['text'].\\\n",
    "    swifter.apply(get_sentiment)"
   ]
  },
  {
   "cell_type": "code",
   "execution_count": 87,
   "id": "0bd7b692",
   "metadata": {},
   "outputs": [],
   "source": [
    "label_dict = {i: label for i, label in\n",
    "              enumerate(newsgroups_train['target_names'])}\n",
    "ng_train_df['label'].replace(label_dict, inplace=True)"
   ]
  },
  {
   "cell_type": "code",
   "execution_count": 88,
   "id": "e9344705",
   "metadata": {},
   "outputs": [
    {
     "data": {
      "text/html": [
       "<div>\n",
       "<style scoped>\n",
       "    .dataframe tbody tr th:only-of-type {\n",
       "        vertical-align: middle;\n",
       "    }\n",
       "\n",
       "    .dataframe tbody tr th {\n",
       "        vertical-align: top;\n",
       "    }\n",
       "\n",
       "    .dataframe thead th {\n",
       "        text-align: right;\n",
       "    }\n",
       "</style>\n",
       "<table border=\"1\" class=\"dataframe\">\n",
       "  <thead>\n",
       "    <tr style=\"text-align: right;\">\n",
       "      <th></th>\n",
       "      <th>sentiment_score</th>\n",
       "    </tr>\n",
       "    <tr>\n",
       "      <th>label</th>\n",
       "      <th></th>\n",
       "    </tr>\n",
       "  </thead>\n",
       "  <tbody>\n",
       "    <tr>\n",
       "      <th>comp.graphics</th>\n",
       "      <td>0.547356</td>\n",
       "    </tr>\n",
       "    <tr>\n",
       "      <th>misc.forsale</th>\n",
       "      <td>0.493030</td>\n",
       "    </tr>\n",
       "    <tr>\n",
       "      <th>rec.sport.hockey</th>\n",
       "      <td>0.470409</td>\n",
       "    </tr>\n",
       "    <tr>\n",
       "      <th>rec.sport.baseball</th>\n",
       "      <td>0.469508</td>\n",
       "    </tr>\n",
       "    <tr>\n",
       "      <th>sci.electronics</th>\n",
       "      <td>0.431782</td>\n",
       "    </tr>\n",
       "    <tr>\n",
       "      <th>comp.sys.ibm.pc.hardware</th>\n",
       "      <td>0.430881</td>\n",
       "    </tr>\n",
       "    <tr>\n",
       "      <th>sci.space</th>\n",
       "      <td>0.424613</td>\n",
       "    </tr>\n",
       "    <tr>\n",
       "      <th>soc.religion.christian</th>\n",
       "      <td>0.395767</td>\n",
       "    </tr>\n",
       "    <tr>\n",
       "      <th>comp.os.ms-windows.misc</th>\n",
       "      <td>0.394298</td>\n",
       "    </tr>\n",
       "    <tr>\n",
       "      <th>comp.sys.mac.hardware</th>\n",
       "      <td>0.377526</td>\n",
       "    </tr>\n",
       "    <tr>\n",
       "      <th>comp.windows.x</th>\n",
       "      <td>0.373962</td>\n",
       "    </tr>\n",
       "    <tr>\n",
       "      <th>sci.crypt</th>\n",
       "      <td>0.353488</td>\n",
       "    </tr>\n",
       "    <tr>\n",
       "      <th>rec.autos</th>\n",
       "      <td>0.338401</td>\n",
       "    </tr>\n",
       "    <tr>\n",
       "      <th>rec.motorcycles</th>\n",
       "      <td>0.295666</td>\n",
       "    </tr>\n",
       "    <tr>\n",
       "      <th>sci.med</th>\n",
       "      <td>0.183302</td>\n",
       "    </tr>\n",
       "    <tr>\n",
       "      <th>talk.religion.misc</th>\n",
       "      <td>0.178544</td>\n",
       "    </tr>\n",
       "    <tr>\n",
       "      <th>alt.atheism</th>\n",
       "      <td>0.125859</td>\n",
       "    </tr>\n",
       "    <tr>\n",
       "      <th>talk.politics.misc</th>\n",
       "      <td>0.104019</td>\n",
       "    </tr>\n",
       "    <tr>\n",
       "      <th>talk.politics.mideast</th>\n",
       "      <td>-0.253308</td>\n",
       "    </tr>\n",
       "    <tr>\n",
       "      <th>talk.politics.guns</th>\n",
       "      <td>-0.308504</td>\n",
       "    </tr>\n",
       "  </tbody>\n",
       "</table>\n",
       "</div>"
      ],
      "text/plain": [
       "                          sentiment_score\n",
       "label                                    \n",
       "comp.graphics                    0.547356\n",
       "misc.forsale                     0.493030\n",
       "rec.sport.hockey                 0.470409\n",
       "rec.sport.baseball               0.469508\n",
       "sci.electronics                  0.431782\n",
       "comp.sys.ibm.pc.hardware         0.430881\n",
       "sci.space                        0.424613\n",
       "soc.religion.christian           0.395767\n",
       "comp.os.ms-windows.misc          0.394298\n",
       "comp.sys.mac.hardware            0.377526\n",
       "comp.windows.x                   0.373962\n",
       "sci.crypt                        0.353488\n",
       "rec.autos                        0.338401\n",
       "rec.motorcycles                  0.295666\n",
       "sci.med                          0.183302\n",
       "talk.religion.misc               0.178544\n",
       "alt.atheism                      0.125859\n",
       "talk.politics.misc               0.104019\n",
       "talk.politics.mideast           -0.253308\n",
       "talk.politics.guns              -0.308504"
      ]
     },
     "execution_count": 88,
     "metadata": {},
     "output_type": "execute_result"
    }
   ],
   "source": [
    "ng_train_df.groupby('label').mean().\\\n",
    "    sort_values(by='sentiment_score', ascending=False)"
   ]
  },
  {
   "cell_type": "code",
   "execution_count": 89,
   "id": "b1881d3a",
   "metadata": {},
   "outputs": [
    {
     "data": {
      "text/plain": [
       "['I was shocked to see that the subject of my last rely to awesley was\\n\"Luser!\"  That was certainly not my intention.  I meant to leave the\\nsubject line unchanged.  I believe that the NNTP server I use at columbia\\nmust have put in that subject line in protest over problems with my header.\\n That was rather rude of them, but beggars can\\'t be choosers, I suppose.\\n\\nIn any case, I didn\\'t do it and I apologize to awesley for the apparent\\ninsult.',\n",
       " \"In article <C4tM1H.ECF@magpie.linknet.com>, manes@magpie.linknet.com (Steve Manes) writes:\\n>\\n>For chrissakes, take out your calculator and work out the numbers.\\n>Here... I've preformatted them for you to make it easier:\\n>\\n>\\t\\t\\thandgun homicides/population\\n>\\t\\t\\t----------------------------\\n>\\tSwitzerland :\\t24 /  6,350,000\\n>\\t         UK :    8 / 55,670,000\\n>\\n>.... and then tell me again how Switzerland is safer with a more\\n>liberal handgun law than the UK is without...by RATE or TOTAL NUMBER.\\n>Your choice.\\n\\nPlease, PAY ATTENTION.\\nI, and others, were referring to TOTAL HOMICIDE DEATHS, NOT JUST\\nHANDGUN HOMICIDES.  In terms of how likely are you to be killed,\\n(regardless of how it's done, 'cause DEAD is DEAD), the UK has a\\nhigher homicide rate. Period.  You are more likely to be killed in the\\nUK than in Switzerland.  If you were to be murdered with a handgun,\\nthen yes, Switzerland has a higher rate.  But, to belabor the point,\\nyou are MORE LIKELY to be murdered in the UK. In that sense, the\\nweapon is irrelevant.  The UK is more violent, period.\\n\\nAl\\n[standard disclaimer]\",\n",
       " '----------------------------------------------------------------------\\nOpen letter by Dr. Paul H. Blackman, Research Coordinator for\\nNRA-ILA. NRA Official Journal 1/89.\\n-----------------------------------------------------------------------\\n\\nDear sir:\\n\\nBy now, we are used to the New England Journal of Medicine\\'s publication\\nof small-scale studies related to firearms from which conclusions are\\ndrawn which are quantum leaps from the data, followed by announcements of \\nmomentus \"scientific\" findings. These are regularly released to the press\\nwithout the caveats which riddle the conclusory paragraphs, and\\noften accompanied by an editorial calling attention to the findings.\\nGenerally, while they at least present a few interesting data, however\\nmeaningless, the studies misinterpret statistics, and ignore or belittle\\nserious studies by criminologists.\\n\\nThe latest effort -- \"Handgun Regulations, Crime, Assaults, and Homicide:\\nA Tale of Two Cities,\" by J.H. Sloan, et al., with the accompanying \\neditorial, \"Firearms Injuries: A Call for Science,\" by two employees\\nof the Centers for Disease Control (November 10), however, is an insult\\nto the intelligence of any serious scholar in any field and have so few\\ndata and so many flaws that I feel compelled to write at some length\\nto call attention to various major and minor failings, in no particular\\norder.\\n\\n\\t1. The authors misleadingly cite Wright, et al. (Ref. 1) to \\n\\tsupport the statement that \"some have argued that restricting\\n\\taccess to handguns could substantially reduce our annual rate\\n\\tof homicide.\" Wright, et al., in fact studied and rejected that\\n\\tcontention.\\n\\t\\n\\t2. The authors pretended that Vancouver and Seattle are very\\n\\tsimilar cities with similar economic circumstances, histories,\\n\\tdemographic characteristics, and the like. In fact, the cities\\n\\tare very different with very different demographic characteristics\\n\\twhich appear to explain completely the higher homicide rate in\\n\\tSeattle. Both cities are over three-forths non-Hispanic white\\n\\tand *the non-Hispanic white homicide rates are reported to be\\n\\tthe same in Seattle and Vancouver*. It is the different back-\\n\\tgrounds, problems, circumstances, and behaviors of the various\\n\\tethnic minorities which explain the difference in homicide.\\n\\t\\n\\t3. The authors pretend they are evaluating Canada\\'s gun law,\\n\\tcompared to Washington State\\'s. But they do not examine at all\\n\\tthe situation in Vancouver prior to the gun law taking effect\\n\\tin 1978. As it happens, in the three years prior to that (1975-\\n\\t1977), Vancouver averaged 23 homicides per year, one-eighth\\n\\tinvolving handguns, (Ref. 2) and in the seven years of the NEJM\\n\\tarticle there were 29 homicides per year, one-eigth involving\\n\\thandguns. Surely even the medical profession recognizes that\\n\\tone must look to see the prior situation was before concluding\\n\\tthat a change made a difference? Would a physician conclude that\\n\\ta patient was benefiting from eating oat bran muffin each day\\n\\tfor seven years because his cholesterol level was 200 without\\n\\tat least seeing if it was 180 before he started the regimen?\\n\\t\\n\\t4. The authors pick two medium-sized cities to evaluate a national\\n\\tgun law. Nothing can be learned from such a tiny and arbitrarily\\n\\tselected sample. Seattle appears to have been selected because\\n\\tit was convienient for the authors rather than for any scientific\\n\\treason. Would physicians call something a scientific study which\\n\\tinvolved one experimental subject and one dissimilar \"control\"?\\n\\tHad different arbitrarily selected cities been chosen, opposite\\n\\t\"scientific\" conclusions would follow: Vancouver\\'s homicide\\n\\trate *exceeds* that of such \"wild west\" cities in Texas as\\n\\tEl Paso, Corpus Christi, Austen, and, in Colorado, Colorado\\n\\tSprings. (Ref. 3)\\n\\t\\n\\t5. The authors fail to clearly demonstrate that firearms or\\n\\thandguns \"are far more commonly owned in Seattle than in\\n\\tVancouver.\" They use two surrogate approaches in pretending\\n\\tto study the availability of firearms/handguns. The first is\\n\\tan apples-and-oranges effort to compare the number of carry\\n\\tpermits in Seattle to the number of registered handguns in\\n\\tVancouver. But the number clearly understates the number of\\n\\thandguns in Seattle, and counts primarily *protective* handgun\\n\\towners. The second, however, tells nothing about the number\\n\\tof handguns in Vancouver, and counts *non-protective* handguns\\n\\tfor the most part. Where is it difficult to obtain handguns\\n\\tlegally for protection, registration figures are\\n\\tmeaningless. There are 66,000 registered handguns in New York\\n\\tCity (New York Daily News, Sept. 27, 1987). Comparing the two,\\n\\tthat method suggests about 930 handguns per 100,000 population\\n\\tin New York City compared to 960 in Vancouver, meaning Vancouver\\n\\thas a greater \"prevalence of weapons\" than New York City.\\n\\t\\n\\tThe second method of measuring gun density is \"Cook\\'s gun\\n\\tprevalence index, a previously validated measure of intercity\\n\\tdifferences.\" But the validation was by Cook of his own\\n\\ttheory. (Ref. 4) Normally, second opinions are sought from a\\n\\tdifferent doctor. More significantly, the Cook index is\\n\\tbased on the average of the percentage of firearms involvement\\n\\tin suicide and homicide. So the authors are basically taking\\n\\ta measure of misuse. Unsurprisingly, gun misuse in homicide\\n\\t(42% in Seattle, 14% in Vancouver) is related to gun misuse in\\n\\thomicide plus suicide, divided by two (41% in Seattle, 12% in\\n\\tVancouver). The authors are not measuring the relative avail-\\n\\tability of firearms, or of handguns, in Seattle and\\n\\tVancouver.\\n\\t\\n\\t6. The authors misstate the laws of both Washington and\\n\\tCanada. They neglect to mention the significant fact that\\n\\tWashington has a waiting period and background check prior to\\n\\tthe purchase of a handgun, and that provisions exist in Canadian\\n\\tlaw for owning and carrying handguns for personal\\n\\tprotection. The authors also make it appear that it is more\\n\\tdifficult to get a handgun legally in Canada than is actually\\n\\tthe case.\\n\\t\\n\\t7. The authors ignore all other factors which might explain\\n\\tthe differences in crime rate, beyond some vague mention of the\\n\\tpenalities provided by law and the roughest of estimates of \\n\\tclearence for one particular offense -- homicide involving a\\n\\tfirearm. There is no measure of: the differences in the number\\n\\tof law enforcement officers; their aggressiveness in making\\n\\tarrests for gun law violations in the two jurisdictions; arrest\\n\\trates for other offenses; conviction rates; actual sentences\\n\\timposed for gun-related crimes, violent crimes without guns,\\n\\tor gun law violations; or incarceration rates. Whereas social\\n\\tscientists would attempt to measure and hold for such differences,\\n\\tthe authors of the NEJM \"tale of two cities\" fail even to mention\\n\\tmost factors related to crime control.\\n\\t\\n\\t8. The authors dismiss claims that handguns are an effective\\n\\tmeans for protection unless the criminal is killed. Such is not\\n\\tthe case. Criminologists (Ref. 5-8) have found that almost\\n\\t650,000 Americans annually use handguns for protection from\\n\\tcriminals, and that using a gun for protection reduces the\\n\\tliklihood that a crime -- rape, robbery, assault -- will be\\n\\tcompleted by the criminal and reduces the likelihood of injury\\n\\tto the victim. It is interesting, nonetheless, that the authors\\n\\treported the same number (four) of civilian justifiable homicides\\n\\twithout firearms in each city but that less restrictive Seattle\\n\\taccounted for 100% of the reported civilian justifiable homicides\\n\\tinvolving firearms.\\n\\t\\n\\t9. The Centers for Disease Control, which funded the \"study,\"\\n\\teditorially praised the paper, (Ref. 9) saying it \"applied\\n\\tscientific methods to examine a focus of contention betweeb\\n\\tadvocates of stricter regulation of firearms, particularly\\n\\thandguns.\" There is nothing in the paper which could possibly\\n\\tbe mistaken for \"scientific methods\" by a sociologists or\\n\\tcriminologists. The Vancouver-Seattle \"study\" is the equivolent\\n\\tof testing an experimental drug to control hypertension by finding\\n\\ttwo ordinary-looking middle-class white males, one aged 25\\n\\tand the other 40, and without first taking their vital signs,\\n\\tadministering the experimental drug to the 25-year-old while\\n\\tgiving the 40-year-old a placebo, then taking their blood pressure\\n\\tand, on finding the younger man had a lower blood pressure, \\n\\tannouncing in a \"special article\" a new medical breakthrough.\\n\\tIt would be nice to think that such a \"study\" would neither be\\n\\tfunded by the CDC or printed by the NEJM.\\n\\t\\n\\tSince the longstanding anti-gun biases of the NEJM and the CDC\\n\\tmake them willing to present shoddy research as \"scientific\\n\\tbreakthroughs\" in \"special articles\" and editorials relating\\n\\tto firearms, we are obligated to correct the record by notifying\\n\\tthe news media and those with congressional and executive oversight\\n\\tover the activities of the Centers for Disease Control about\\n\\tthe distortions contained in \"Handgun Regulations, Crime, Assaults,\\n\\tand Homicides: A Tale of Two Cities\" and \"Firearm Injuries: A Call\\n\\tfor Science.\" Clearly, all scientific standards go by the wayside\\n\\twhenever the CDC and the New England Journal of Medicine seize\\n\\tan opportunity to attack firearms ownership in America.\\n\\t\\n\\t\\t\\t\\tREFERENCES\\n\\n1. Wright JD, et al, *Weapons, crime and violence in America*: a literature\\nreview and research agenda, Washington, D.C.: Department of Justice,\\n1981.\\n\\n2. Scarff E. *Evaluation of the Canadian gun control legislation*: final\\nreport. Ottawa: Ministry of the Solicitor General of Canada, 1983,\\np. 87.\\n\\n3. Department of Justice, Federal Bureau of Investigation, *Crime in\\nthe United States*, 1987 (Uniform Crime Reports). Washington, D.C.:\\nGovernment Printing Office, 1988\\n\\n4. Cook PJ. *The role of firearms in violent crime*. In: Wolfgang M.\\nWeiner NA, eds. *Criminal violence*, Beverly Hills, Calif.: Sage, 1982:\\n236-90, pp. 270-271.\\n\\n5. Kleck G. *Crime control through the private use of armed force*.\\nSocial Problems 1988: 35:1-21.\\n\\n6. Ziegenhagen EA, Brosnan D. *Victim responses to robbery and crime\\ncontrol policy*. Criminology. 1985: 23:675-695.\\n\\n7. Lizotte AJ. *Determinants of completeing rape and assault*. Journal\\nof Quantitative Criminology. 1986: 2:203-217.\\n\\n8. Sayles SL, Kleck G. *Rape and resistance*. Paper at the American Society\\nof Criminology convention, Chicago, 1988.\\n\\n9. Mercy JA, Houk VN. *Firearm injuries: a call for science*. \\nNEJM: 319:1283-1285.\\n==========================================================================\\n\\n                             GUNS AND SPUTTER\\n                            by James D. Wright\\n          (from July 1989 issue of REASON, Free Minds & Free Markets)\\n\\n      Someone once wrote: \"Statistics are like a bikini.  What they real is\\n   suggestive, but what they conceal is vital.\"  The problem is demonstrated\\n   by the most recent entry in a long line of scientific research purporting\\n   to show a causal link between gun availability and homicide.  Funded by\\n   the federal government and published last year in the New England Journal\\n   of Medicine, the study compared homicide rates in Seattle and Vancouver and\\n   suggested that a handgun ban \"may reduce the rate of homicide in a \\n   community.\"\\n      The nine medical doctors who published \"Handgun Regulations, Crime,\\n   Assaults, and Homicide\" essentially reasoned in three steps: (1) Despite\\n   many historical, social, and demographic similarities, (2) Vancouver\\n   has a markedly lower homicide rate (3) because its stricter gun regulations\\n   make guns less available.  The second step in their reasoning seems\\n   indisputable.  The overall homicide rate in Seattle (for the period\\n   1980-86) was 11.3 per 100,000 popuation, compared with 6.9 in Vancouver.\\n   Homicide is definitely more common in Seattle.  The question then becomes,\\n   Why?\\n      The authors present a believable although not entirely accurate case\\n   to support the notion, as claimed in the third step of their reasoning,\\n   that Vancouver\\'s handgun regulations are much more stringent.  But their\\n   evidence on the difference in gun *availabilty* is indirect and \\n   unpersuasive; indeed, they acknowledge that direct evidence on the point\\n   does not exist.  They offer two fragments of inferential data in support\\n   of the claim that guns are more available in Seattle; but for all anybody\\n   knows as a matter of empirical fact, the opposite could be true.  We\\n   are therefore being asked, at the conclusion of the study, to believe that\\n   a difference in gun availability explains the difference in homicide rates\\n   when a difference in gun availability has not itself been established.\\n      Indeed, the situation is even more troublesome.  The first of the two\\n   indirect bits of evidence is a difference between the number of concealed-\\n   weapons permits issued in Seattle and the number of restricted-weapons\\n   permits issued in Vancouver.  Differences between the two cities in the\\n   permit regulations render these two numbers strictly noncomparable.\\n*     The second bit of evidence is \"Cook\\'s gun prevalence index,\" which stands\\n*  at 41 percent for Seattle but only 12 percent for Vancouver.  Cook\\'s index\\n*  however, does not measure the relative prevalence of gun ownership in \\n*  various cities.  It measures gun misuse--it is an average of the percentage\\n*  of homicides and suicides involving firearms.\\n*     In the present case, the index shows only that in homicides and suicides,\\n*  firearms are more likely to be used in Seatte than in Vancouver.  To take\\n*  Cook\\'s index as a measure of general firearms availability, it must be\\n*  assumed that the proportional involvement of guns in homicides and suicides\\n*  is directly related to their relative availability in the general \\n*  population.  But this is exactly what the authors are seeking to prove. To\\n*  assume what one is seeking to prove, then to \"prove\" it on the basis of\\n*  that assumption does ot constitute scientific evidence for anything.\\n      Even if we were to grant, on the basis of no compelling evidence, that\\n   guns are less common in Vancouver, we might still question what causes what.\\n   The authors attribute Seattle\\'s higher crime rate to a higher rate of gun\\n   ownership.  But it might well be argued that low crime or homicide rates\\n   reduce the motivation for average citizens to obtain guns--in other words,\\n   that crime rates explain the variation in gun ownership, not vice versa.\\n      In fact, it was once commonly argued that Great Britain\\'s low rate of\\n   violent crime was a function of that nation\\'s strict gun laws and the \\n   consequent low rate of gun ownership--until British researcher Colin \\n   Greenwood found that Great Britain had enjoyed low rates of violent crime\\n   for many decades before strict firearms controls were enacted.  To invoke\\n   an ancient methodological saw, correlation is not cause.\\n      Nor do the problems with this study end with its lack of direct data\\n   on gun ownership.  The authors say Seattle and Vancouver are \"similar in\\n   many ways,\" implying that they differ mainly in gun availability, gun-law\\n   stringency, and crime rates.  This is an evident attempt to establish\\n   the ceteris paribus condition of a sound scientific analysis--that \"all\\n   else is equal\" among things being compared.\\n*     Clearly the two cities are similar in some ways, but a closer look \\n*  reveals differences in ways that are relevant to their respective crime\\n*  or homicide rates.  The cities are closely matched in what percentage\\n*  of their population is white (79 percent and 76 percent).  But Seattle\\n*  is about 10 percent black, while Vancouver is less than 0.5 percent.\\n*  Vancouver\\'s minority population is overwhelmingly Asian.  So although the\\n*  authors show that th two cities are approximately comparable on a half-\\n*  dozen readily available demographic indicators, they have not shown\\n*  that all potentially relevant sources of variation have been ruled out.\\n*     In fact, the differences in racial compositions of the two cities is\\n*  particularly relevant in light of the study\\'s breakdown of homicide rates\\n*  according to the race of the victim.  For the white majority, the homicide\\n*  rates are nearly identical--6.2 per 100,000 in Seattle, 6.4 in Vancouver.\\n*  The differing overall homicide rates in the two cities are therefore due\\n*  entirely to vastly different rates among racial minorities.  For blacks,\\n*  the observed difference in homicide rate is 36.6 to 9.5 and for Hispanics\\n*  26.9 to 7.9.  (Methodoligical complexities render the Asian comparison\\n*  problematic, but it too is higher in Seattle than in Vancouver.)  Racial\\n*  minorities are much more likely to be the victims of homicide in Seattle\\n*  than in Vancouver; the white majority is equally likely to be slain\\n*  in either city.\\n      Since the nearly 2:1 initial difference in homicide reates between the\\n   cities is due exclusively to 3:1 or 4:1 differences between minority \\n   groups, it is fair to ask why postulated difference in \"gun availability\"\\n   (or gun-law strigency) would matter so dramatically to minorities but not\\n   matter at all to whites.  Can differential gun availability explain why\\n   blacks and Hispanics--but not whites--are so much more likely to be killed\\n   in Seattle than in Vancouver?  (Studies in the United States, incidentally,\\n   do not show large or consistent racial differences in gun ownership.)\\n      Or are other explanations more plausible?  Could the disparity between\\n   Canadian and American rates of poverty among racial minorities have \\n   anything to do with it?  What are the relative rates of drug or alcohol \\n   abuse?  Of homelessness among each cty\\'s minority population?  (The city\\n   of Seattle runs the largest shelter for homeless men west of the \\n   Mississippi.)  Unemployment among young, central-city, nonwhite men in the\\n   United States usually exceeds 40 percent.  What is the comparable Canadian\\n   percentage?\\n      The crucial point is that Canada and the United States differ in many\\n   ways, as do cities and population subgroups with the two countries.  Absent\\n   more detailed analysis, nearly any of these \"many ways\" might explain part\\n   or all of the difference in homicide rates.  In gross comparisons such\\n   as those between Seattle and Vancouver, all else is *not* equal.\\n*     The authors of this study acknowledge that racial patterns in homicide\\n*  result in a \"complex picture.\"  They do not acknowledge that the ensuing\\n*  complexities seriously undercut the main thrust of their argument.  They\\n*  also acknowledge that \"socio-economic status is probably an important\\n*  confounding factor in our comparison,\" remarking further that \"blacks   \\n*  in Vancouver had a slightly higher mean income in 1981 than the rest of\\n*  Vancouver\\'s population.\"  Given the evidence presented in the article,\\n*  it is possible that all of the difference in homicide rates between Seattle\\n*  and Vancouver results from greater proverty among Seattle\\'s racial\\n*  minorities.  But the authors pay no further attention to this possibility,\\n*  since \"detailed information about household incomes according to race\\n*  is not available for Vancouver.\"\\n      The largely insurmountable methodological difficulties confronted in \\n   gross comparative studies of this sort can be illustrated with as simple\\n   example.  If one were to take all U.S. couties and compare them in terms\\n   of (1) pervalence of gun ownership and (2) crime or homicide rates, one \\n   would find an astonishing pattern: Counties with more guns have less crime.\\n   Would one conclude from this evidence alone that guns actually reduce \\n   crime?  Or would one insist that other variables also be taken into\\n   account?  In this example, the \"hidden variable\" is city size: Guns are\\n   more common in small towns and rural areas, whereas crime is a big-city\\n   problem.  If researchers failed to anticipate this variable, or lacked the\\n   appropriate data to examine its possible consequences, they coud be very\\n   seriously misled.  In the study at hand, the authors matched two cities\\n   for size but not for minority poverty rates or other hidden variables,\\n   and their results are impossible to interpret.\\n      In the editorial \"Firearm Injuries: A Call for Science\" accompanying\\n   the study, two officials from the Centers for Disease Control lauded the\\n   authors for applying \"scientific methods\" to a problem of grave public\\n   heath significance.  But in attempting to draw causal conclusions from\\n   nonexperimental research, the essence of scientific method is to anticipate\\n   plausible alternative explanations for the results and try to rule them\\n   out.  Absent such effort, the results may well seem scientific but are\\n   little more than polemics masquerading as serious research.  That this\\n   study is but one of a number of recent efforts--all employing practical\\n   identical research designs and published in leading scientific journals--\\n   is cause for further concern.\\n\\n   [James D. Wright is professor of sociology at Tulane University.  He has\\n   researched extensively on the relationship of firearms and crime.]\\n\\nReason published monthly except combined August-September issue by the Reason\\nFoundation, a nonprofit, tax-exempt organization.  Subscription rate: $24.00 \\nper year.']"
      ]
     },
     "execution_count": 89,
     "metadata": {},
     "output_type": "execute_result"
    }
   ],
   "source": [
    "ng_train_df[(ng_train_df['label'] == 'talk.politics.guns') & \n",
    "            (ng_train_df['sentiment_score'] < -0.5)].\\\n",
    "    sample(3, random_state=42)['text'].tolist()"
   ]
  },
  {
   "cell_type": "code",
   "execution_count": 90,
   "id": "908f0b68",
   "metadata": {},
   "outputs": [
    {
     "data": {
      "text/html": [
       "<div>\n",
       "<style scoped>\n",
       "    .dataframe tbody tr th:only-of-type {\n",
       "        vertical-align: middle;\n",
       "    }\n",
       "\n",
       "    .dataframe tbody tr th {\n",
       "        vertical-align: top;\n",
       "    }\n",
       "\n",
       "    .dataframe thead th {\n",
       "        text-align: right;\n",
       "    }\n",
       "</style>\n",
       "<table border=\"1\" class=\"dataframe\">\n",
       "  <thead>\n",
       "    <tr style=\"text-align: right;\">\n",
       "      <th></th>\n",
       "      <th>text</th>\n",
       "      <th>label</th>\n",
       "      <th>sentiment_score</th>\n",
       "    </tr>\n",
       "  </thead>\n",
       "  <tbody>\n",
       "    <tr>\n",
       "      <th>5141</th>\n",
       "      <td>I was shocked to see that the subject of my la...</td>\n",
       "      <td>talk.politics.guns</td>\n",
       "      <td>-0.8197</td>\n",
       "    </tr>\n",
       "    <tr>\n",
       "      <th>1347</th>\n",
       "      <td>In article &lt;C4tM1H.ECF@magpie.linknet.com&gt;, ma...</td>\n",
       "      <td>talk.politics.guns</td>\n",
       "      <td>-0.9744</td>\n",
       "    </tr>\n",
       "    <tr>\n",
       "      <th>8114</th>\n",
       "      <td>----------------------------------------------...</td>\n",
       "      <td>talk.politics.guns</td>\n",
       "      <td>-0.9999</td>\n",
       "    </tr>\n",
       "  </tbody>\n",
       "</table>\n",
       "</div>"
      ],
      "text/plain": [
       "                                                   text               label  \\\n",
       "5141  I was shocked to see that the subject of my la...  talk.politics.guns   \n",
       "1347  In article <C4tM1H.ECF@magpie.linknet.com>, ma...  talk.politics.guns   \n",
       "8114  ----------------------------------------------...  talk.politics.guns   \n",
       "\n",
       "      sentiment_score  \n",
       "5141          -0.8197  \n",
       "1347          -0.9744  \n",
       "8114          -0.9999  "
      ]
     },
     "execution_count": 90,
     "metadata": {},
     "output_type": "execute_result"
    }
   ],
   "source": [
    "ng_train_df[(ng_train_df['label'] == 'talk.politics.guns') & (ng_train_df['sentiment_score'] < -0.5)].sample(3, random_state=42)"
   ]
  },
  {
   "cell_type": "code",
   "execution_count": 91,
   "id": "70d77e79",
   "metadata": {},
   "outputs": [
    {
     "data": {
      "text/plain": [
       "['I am looking for comments from people who have used/heard about PhotoShop\\nfor Windows. Is it good? How does it compare to the Mac version? Is there\\na lot of bugs (I heard the Windows version needs \"fine-tuning)?\\n\\nAny comments would be greatly appreciated..\\n\\nThank you.',\n",
       " \"bolson@carson.u.washington.edu (Edward Bolson) writes:\\n\\n>Boy, this will be embarassing if it is trivial or an FAQ:\\n\\n>Given 4 points (non coplanar), how does one find the sphere, that is,\\n>center and radius, exactly fitting those points?  I know how to do it\\n>for a circle (from 3 points), but do not immediately see a \\n>straightforward way to do it in 3-D.  I have checked some\\n>geometry books, Graphics Gems, and Farin, but am still at a loss?\\n>Please have mercy on me and provide the solution?  \\n\\nIt's not a bad question: I don't have any refs that list this algorithm\\neither. But thinking about it a bit, it shouldn't be too hard.\\n\\n1) Take three of the points and find the plane they define as well as\\nthe circle that they lie on (you say you have this algorithm already)\\n\\n2) Find the center  of this circle. The line passing through this center\\nperpendicular to the plane of the three points passes through the center of\\nthe sphere.\\n\\n3) Repeat with the unused point and two of the original points. This\\ngives you two different lines that both pass through the sphere's\\norigin. Their interection is the center of the sphere.\\n\\n4) the radius is easy to compute, it's just the distance from the center to\\nany of the original points.\\n\\nI'll leave the math to you, but this is a workable algorithm. :-)\\n\\n\\nAn alternate method would be to take pairs of points: the plane formed\\nby the perpendicular bisector of each line segment pair also contains the\\ncenter of the sphere. Three pairs will form three planes, intersecting\\nat a point. This might be easier to implement.\",\n",
       " 'I am setting up a video-aid for a computer room for the teacher to share his\\ndisplay with the class.\\n\\nI have seen people using video projector, TV sets and large monitor to do\\npresentations before. I am told that there are three ways to connect video\\nprojector: composite, Y/C & RGB.\\n\\nCan anyone explain to me the difference and their likely costs?\\n\\nPlease reply to my INETNET E-mail account as well as posting in bulletin:\\nu129008@sparc20.nuc.edu.tw\\n\\nI also like to know if there are TELNET or KERMIT for windows.']"
      ]
     },
     "execution_count": 91,
     "metadata": {},
     "output_type": "execute_result"
    }
   ],
   "source": [
    "ng_train_df[(ng_train_df['label'] == 'comp.graphics') & (ng_train_df['sentiment_score'] > 0.5)].sample(3, random_state=42)['text'].tolist()"
   ]
  },
  {
   "cell_type": "code",
   "execution_count": 92,
   "id": "d95299be",
   "metadata": {},
   "outputs": [
    {
     "data": {
      "text/html": [
       "<div>\n",
       "<style scoped>\n",
       "    .dataframe tbody tr th:only-of-type {\n",
       "        vertical-align: middle;\n",
       "    }\n",
       "\n",
       "    .dataframe tbody tr th {\n",
       "        vertical-align: top;\n",
       "    }\n",
       "\n",
       "    .dataframe thead th {\n",
       "        text-align: right;\n",
       "    }\n",
       "</style>\n",
       "<table border=\"1\" class=\"dataframe\">\n",
       "  <thead>\n",
       "    <tr style=\"text-align: right;\">\n",
       "      <th></th>\n",
       "      <th>text</th>\n",
       "      <th>label</th>\n",
       "      <th>sentiment_score</th>\n",
       "    </tr>\n",
       "  </thead>\n",
       "  <tbody>\n",
       "    <tr>\n",
       "      <th>8581</th>\n",
       "      <td>I am looking for comments from people who have...</td>\n",
       "      <td>comp.graphics</td>\n",
       "      <td>0.8693</td>\n",
       "    </tr>\n",
       "    <tr>\n",
       "      <th>8374</th>\n",
       "      <td>bolson@carson.u.washington.edu (Edward Bolson)...</td>\n",
       "      <td>comp.graphics</td>\n",
       "      <td>0.9829</td>\n",
       "    </tr>\n",
       "    <tr>\n",
       "      <th>9785</th>\n",
       "      <td>I am setting up a video-aid for a computer roo...</td>\n",
       "      <td>comp.graphics</td>\n",
       "      <td>0.7964</td>\n",
       "    </tr>\n",
       "  </tbody>\n",
       "</table>\n",
       "</div>"
      ],
      "text/plain": [
       "                                                   text          label  \\\n",
       "8581  I am looking for comments from people who have...  comp.graphics   \n",
       "8374  bolson@carson.u.washington.edu (Edward Bolson)...  comp.graphics   \n",
       "9785  I am setting up a video-aid for a computer roo...  comp.graphics   \n",
       "\n",
       "      sentiment_score  \n",
       "8581           0.8693  \n",
       "8374           0.9829  \n",
       "9785           0.7964  "
      ]
     },
     "execution_count": 92,
     "metadata": {},
     "output_type": "execute_result"
    }
   ],
   "source": [
    "ng_train_df[(ng_train_df['label'] == 'comp.graphics') & (ng_train_df['sentiment_score'] > 0.5)].sample(3, random_state=42)"
   ]
  },
  {
   "cell_type": "code",
   "execution_count": 93,
   "id": "bd0c3494",
   "metadata": {},
   "outputs": [
    {
     "data": {
      "text/plain": [
       "<AxesSubplot:xlabel='sentiment_score', ylabel='Count'>"
      ]
     },
     "execution_count": 93,
     "metadata": {},
     "output_type": "execute_result"
    },
    {
     "data": {
      "image/png": "[encoded data removed]",
      "text/plain": [
       "<Figure size 396x396 with 1 Axes>"
      ]
     },
     "metadata": {},
     "output_type": "display_data"
    }
   ],
   "source": [
    "import seaborn as sns\n",
    "import matplotlib.pyplot as plt\n",
    "\n",
    "f = plt.figure(figsize=(5.5, 5.5))\n",
    "guns_hockey_df = ng_train_df[ng_train_df['label']\\\n",
    "                     .isin(['talk.politics.guns',\n",
    "                            'rec.sport.hockey'])]\n",
    "sns.histplot(guns_hockey_df,\n",
    "             x='sentiment_score',\n",
    "             hue='label')"
   ]
  }
 ],
 "metadata": {
  "kernelspec": {
   "display_name": "Python 3 (ipykernel)",
   "language": "python",
   "name": "python3"
  },
  "language_info": {
   "codemirror_mode": {
    "name": "ipython",
    "version": 3
   },
   "file_extension": ".py",
   "mimetype": "text/x-python",
   "name": "python",
   "nbconvert_exporter": "python",
   "pygments_lexer": "ipython3",
   "version": "3.9.7"
  }
 },
 "nbformat": 4,
 "nbformat_minor": 5
}

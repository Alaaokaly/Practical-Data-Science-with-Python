{
 "cells": [
  {
   "cell_type": "markdown",
   "id": "557fc29c",
   "metadata": {},
   "source": [
    "# Text cleaning"
   ]
  },
  {
   "cell_type": "code",
   "execution_count": 1,
   "id": "a8faf7db",
   "metadata": {},
   "outputs": [],
   "source": [
    "from urllib.request import urlopen\n",
    "from gutenberg_cleaner import simple_cleaner\n",
    "\n",
    "wnp = urlopen('https://www.gutenberg.org/files/2600/2600-0.txt').read().decode('utf-8')\n",
    "wnp = simple_cleaner(wnp)"
   ]
  },
  {
   "cell_type": "code",
   "execution_count": 2,
   "id": "523068e3",
   "metadata": {},
   "outputs": [
    {
     "data": {
      "text/plain": [
       "'\\r\\n\\r\\n\\r\\n\\r\\nAn Anonymous Volunteer, and David Widger\\r\\n\\r\\n\\r\\n\\r\\n\\r\\n\\r\\n\\r\\nWAR AND PEACE\\r\\n\\r\\n\\r\\nBy Leo Tolstoy/Tols'"
      ]
     },
     "execution_count": 2,
     "metadata": {},
     "output_type": "execute_result"
    }
   ],
   "source": [
    "wnp[:100]"
   ]
  },
  {
   "cell_type": "code",
   "execution_count": 3,
   "id": "bfa43bb1",
   "metadata": {},
   "outputs": [],
   "source": [
    "wnp = wnp.lower()"
   ]
  },
  {
   "cell_type": "code",
   "execution_count": 4,
   "id": "06b5827a",
   "metadata": {},
   "outputs": [
    {
     "data": {
      "text/plain": [
       "'an anonymous volunteer, and david widger war and peace by leo tolstoy/tolstoi contents book one: 180'"
      ]
     },
     "execution_count": 4,
     "metadata": {},
     "output_type": "execute_result"
    }
   ],
   "source": [
    "import re\n",
    "\n",
    "wnp = re.sub('\\s+', ' ', wnp).strip()\n",
    "wnp[:100]"
   ]
  },
  {
   "cell_type": "code",
   "execution_count": 5,
   "id": "c1a9797f",
   "metadata": {},
   "outputs": [
    {
     "data": {
      "text/plain": [
       "'an anonymous volunteer and david widger war and peace by leo tolstoytolstoi contents book one 1805 c'"
      ]
     },
     "execution_count": 5,
     "metadata": {},
     "output_type": "execute_result"
    }
   ],
   "source": [
    "import string\n",
    "\n",
    "wnp = wnp.translate(str.maketrans('', '', string.punctuation))\n",
    "wnp[:100]"
   ]
  },
  {
   "cell_type": "code",
   "execution_count": 6,
   "id": "824f1cbc",
   "metadata": {},
   "outputs": [
    {
     "data": {
      "text/plain": [
       "'0123456789!\"#$%&\\'()*+,-./:;<=>?@[\\\\]^_`{|}~'"
      ]
     },
     "execution_count": 6,
     "metadata": {},
     "output_type": "execute_result"
    }
   ],
   "source": [
    "string.digits + string.punctuation"
   ]
  },
  {
   "cell_type": "code",
   "execution_count": 7,
   "id": "742e896d",
   "metadata": {},
   "outputs": [],
   "source": [
    "wnp = re.sub('\\w+@\\w+\\.\\w+', '', wnp)"
   ]
  },
  {
   "cell_type": "code",
   "execution_count": 8,
   "id": "f7207af9",
   "metadata": {},
   "outputs": [
    {
     "name": "stderr",
     "output_type": "stream",
     "text": [
      "C:\\Users\\words\\Anaconda3\\envs\\datasci\\lib\\site-packages\\sklearn\\utils\\deprecation.py:143: FutureWarning: The sklearn.feature_extraction.stop_words module is  deprecated in version 0.22 and will be removed in version 0.24. The corresponding classes / functions should instead be imported from sklearn.feature_extraction.text. Anything that cannot be imported from sklearn.feature_extraction.text is now part of the private API.\n",
      "  warnings.warn(message, FutureWarning)\n"
     ]
    },
    {
     "data": {
      "text/plain": [
       "'anonymous volunteer david widger war peace leo tolstoytolstoi contents book 1805 chapter chapter ii '"
      ]
     },
     "execution_count": 8,
     "metadata": {},
     "output_type": "execute_result"
    }
   ],
   "source": [
    "from sklearn.feature_extraction import stop_words\n",
    "\n",
    "non_stopwords = []\n",
    "for word in wnp.split():\n",
    "    if word not in stop_words.ENGLISH_STOP_WORDS:\n",
    "        non_stopwords.append(word)\n",
    "        \n",
    "cleaned_text = ' '.join(non_stopwords)\n",
    "cleaned_text[:100]"
   ]
  },
  {
   "cell_type": "code",
   "execution_count": 9,
   "id": "475ea461",
   "metadata": {},
   "outputs": [
    {
     "data": {
      "text/plain": [
       "frozenset({'a',\n",
       "           'about',\n",
       "           'above',\n",
       "           'across',\n",
       "           'after',\n",
       "           'afterwards',\n",
       "           'again',\n",
       "           'against',\n",
       "           'all',\n",
       "           'almost',\n",
       "           'alone',\n",
       "           'along',\n",
       "           'already',\n",
       "           'also',\n",
       "           'although',\n",
       "           'always',\n",
       "           'am',\n",
       "           'among',\n",
       "           'amongst',\n",
       "           'amoungst',\n",
       "           'amount',\n",
       "           'an',\n",
       "           'and',\n",
       "           'another',\n",
       "           'any',\n",
       "           'anyhow',\n",
       "           'anyone',\n",
       "           'anything',\n",
       "           'anyway',\n",
       "           'anywhere',\n",
       "           'are',\n",
       "           'around',\n",
       "           'as',\n",
       "           'at',\n",
       "           'back',\n",
       "           'be',\n",
       "           'became',\n",
       "           'because',\n",
       "           'become',\n",
       "           'becomes',\n",
       "           'becoming',\n",
       "           'been',\n",
       "           'before',\n",
       "           'beforehand',\n",
       "           'behind',\n",
       "           'being',\n",
       "           'below',\n",
       "           'beside',\n",
       "           'besides',\n",
       "           'between',\n",
       "           'beyond',\n",
       "           'bill',\n",
       "           'both',\n",
       "           'bottom',\n",
       "           'but',\n",
       "           'by',\n",
       "           'call',\n",
       "           'can',\n",
       "           'cannot',\n",
       "           'cant',\n",
       "           'co',\n",
       "           'con',\n",
       "           'could',\n",
       "           'couldnt',\n",
       "           'cry',\n",
       "           'de',\n",
       "           'describe',\n",
       "           'detail',\n",
       "           'do',\n",
       "           'done',\n",
       "           'down',\n",
       "           'due',\n",
       "           'during',\n",
       "           'each',\n",
       "           'eg',\n",
       "           'eight',\n",
       "           'either',\n",
       "           'eleven',\n",
       "           'else',\n",
       "           'elsewhere',\n",
       "           'empty',\n",
       "           'enough',\n",
       "           'etc',\n",
       "           'even',\n",
       "           'ever',\n",
       "           'every',\n",
       "           'everyone',\n",
       "           'everything',\n",
       "           'everywhere',\n",
       "           'except',\n",
       "           'few',\n",
       "           'fifteen',\n",
       "           'fifty',\n",
       "           'fill',\n",
       "           'find',\n",
       "           'fire',\n",
       "           'first',\n",
       "           'five',\n",
       "           'for',\n",
       "           'former',\n",
       "           'formerly',\n",
       "           'forty',\n",
       "           'found',\n",
       "           'four',\n",
       "           'from',\n",
       "           'front',\n",
       "           'full',\n",
       "           'further',\n",
       "           'get',\n",
       "           'give',\n",
       "           'go',\n",
       "           'had',\n",
       "           'has',\n",
       "           'hasnt',\n",
       "           'have',\n",
       "           'he',\n",
       "           'hence',\n",
       "           'her',\n",
       "           'here',\n",
       "           'hereafter',\n",
       "           'hereby',\n",
       "           'herein',\n",
       "           'hereupon',\n",
       "           'hers',\n",
       "           'herself',\n",
       "           'him',\n",
       "           'himself',\n",
       "           'his',\n",
       "           'how',\n",
       "           'however',\n",
       "           'hundred',\n",
       "           'i',\n",
       "           'ie',\n",
       "           'if',\n",
       "           'in',\n",
       "           'inc',\n",
       "           'indeed',\n",
       "           'interest',\n",
       "           'into',\n",
       "           'is',\n",
       "           'it',\n",
       "           'its',\n",
       "           'itself',\n",
       "           'keep',\n",
       "           'last',\n",
       "           'latter',\n",
       "           'latterly',\n",
       "           'least',\n",
       "           'less',\n",
       "           'ltd',\n",
       "           'made',\n",
       "           'many',\n",
       "           'may',\n",
       "           'me',\n",
       "           'meanwhile',\n",
       "           'might',\n",
       "           'mill',\n",
       "           'mine',\n",
       "           'more',\n",
       "           'moreover',\n",
       "           'most',\n",
       "           'mostly',\n",
       "           'move',\n",
       "           'much',\n",
       "           'must',\n",
       "           'my',\n",
       "           'myself',\n",
       "           'name',\n",
       "           'namely',\n",
       "           'neither',\n",
       "           'never',\n",
       "           'nevertheless',\n",
       "           'next',\n",
       "           'nine',\n",
       "           'no',\n",
       "           'nobody',\n",
       "           'none',\n",
       "           'noone',\n",
       "           'nor',\n",
       "           'not',\n",
       "           'nothing',\n",
       "           'now',\n",
       "           'nowhere',\n",
       "           'of',\n",
       "           'off',\n",
       "           'often',\n",
       "           'on',\n",
       "           'once',\n",
       "           'one',\n",
       "           'only',\n",
       "           'onto',\n",
       "           'or',\n",
       "           'other',\n",
       "           'others',\n",
       "           'otherwise',\n",
       "           'our',\n",
       "           'ours',\n",
       "           'ourselves',\n",
       "           'out',\n",
       "           'over',\n",
       "           'own',\n",
       "           'part',\n",
       "           'per',\n",
       "           'perhaps',\n",
       "           'please',\n",
       "           'put',\n",
       "           'rather',\n",
       "           're',\n",
       "           'same',\n",
       "           'see',\n",
       "           'seem',\n",
       "           'seemed',\n",
       "           'seeming',\n",
       "           'seems',\n",
       "           'serious',\n",
       "           'several',\n",
       "           'she',\n",
       "           'should',\n",
       "           'show',\n",
       "           'side',\n",
       "           'since',\n",
       "           'sincere',\n",
       "           'six',\n",
       "           'sixty',\n",
       "           'so',\n",
       "           'some',\n",
       "           'somehow',\n",
       "           'someone',\n",
       "           'something',\n",
       "           'sometime',\n",
       "           'sometimes',\n",
       "           'somewhere',\n",
       "           'still',\n",
       "           'such',\n",
       "           'system',\n",
       "           'take',\n",
       "           'ten',\n",
       "           'than',\n",
       "           'that',\n",
       "           'the',\n",
       "           'their',\n",
       "           'them',\n",
       "           'themselves',\n",
       "           'then',\n",
       "           'thence',\n",
       "           'there',\n",
       "           'thereafter',\n",
       "           'thereby',\n",
       "           'therefore',\n",
       "           'therein',\n",
       "           'thereupon',\n",
       "           'these',\n",
       "           'they',\n",
       "           'thick',\n",
       "           'thin',\n",
       "           'third',\n",
       "           'this',\n",
       "           'those',\n",
       "           'though',\n",
       "           'three',\n",
       "           'through',\n",
       "           'throughout',\n",
       "           'thru',\n",
       "           'thus',\n",
       "           'to',\n",
       "           'together',\n",
       "           'too',\n",
       "           'top',\n",
       "           'toward',\n",
       "           'towards',\n",
       "           'twelve',\n",
       "           'twenty',\n",
       "           'two',\n",
       "           'un',\n",
       "           'under',\n",
       "           'until',\n",
       "           'up',\n",
       "           'upon',\n",
       "           'us',\n",
       "           'very',\n",
       "           'via',\n",
       "           'was',\n",
       "           'we',\n",
       "           'well',\n",
       "           'were',\n",
       "           'what',\n",
       "           'whatever',\n",
       "           'when',\n",
       "           'whence',\n",
       "           'whenever',\n",
       "           'where',\n",
       "           'whereafter',\n",
       "           'whereas',\n",
       "           'whereby',\n",
       "           'wherein',\n",
       "           'whereupon',\n",
       "           'wherever',\n",
       "           'whether',\n",
       "           'which',\n",
       "           'while',\n",
       "           'whither',\n",
       "           'who',\n",
       "           'whoever',\n",
       "           'whole',\n",
       "           'whom',\n",
       "           'whose',\n",
       "           'why',\n",
       "           'will',\n",
       "           'with',\n",
       "           'within',\n",
       "           'without',\n",
       "           'would',\n",
       "           'yet',\n",
       "           'you',\n",
       "           'your',\n",
       "           'yours',\n",
       "           'yourself',\n",
       "           'yourselves'})"
      ]
     },
     "execution_count": 9,
     "metadata": {},
     "output_type": "execute_result"
    }
   ],
   "source": [
    "stop_words.ENGLISH_STOP_WORDS"
   ]
  },
  {
   "cell_type": "code",
   "execution_count": 10,
   "id": "086d3668",
   "metadata": {},
   "outputs": [
    {
     "name": "stderr",
     "output_type": "stream",
     "text": [
      "[nltk_data] Downloading package stopwords to\n",
      "[nltk_data]     C:\\Users\\words\\AppData\\Roaming\\nltk_data...\n",
      "[nltk_data]   Package stopwords is already up-to-date!\n"
     ]
    },
    {
     "data": {
      "text/plain": [
       "True"
      ]
     },
     "execution_count": 10,
     "metadata": {},
     "output_type": "execute_result"
    }
   ],
   "source": [
    "import nltk\n",
    "\n",
    "nltk.download('stopwords')"
   ]
  },
  {
   "cell_type": "code",
   "execution_count": 11,
   "id": "0f60c7f7",
   "metadata": {},
   "outputs": [
    {
     "data": {
      "text/plain": [
       "['i',\n",
       " 'me',\n",
       " 'my',\n",
       " 'myself',\n",
       " 'we',\n",
       " 'our',\n",
       " 'ours',\n",
       " 'ourselves',\n",
       " 'you',\n",
       " \"you're\",\n",
       " \"you've\",\n",
       " \"you'll\",\n",
       " \"you'd\",\n",
       " 'your',\n",
       " 'yours',\n",
       " 'yourself',\n",
       " 'yourselves',\n",
       " 'he',\n",
       " 'him',\n",
       " 'his',\n",
       " 'himself',\n",
       " 'she',\n",
       " \"she's\",\n",
       " 'her',\n",
       " 'hers',\n",
       " 'herself',\n",
       " 'it',\n",
       " \"it's\",\n",
       " 'its',\n",
       " 'itself',\n",
       " 'they',\n",
       " 'them',\n",
       " 'their',\n",
       " 'theirs',\n",
       " 'themselves',\n",
       " 'what',\n",
       " 'which',\n",
       " 'who',\n",
       " 'whom',\n",
       " 'this',\n",
       " 'that',\n",
       " \"that'll\",\n",
       " 'these',\n",
       " 'those',\n",
       " 'am',\n",
       " 'is',\n",
       " 'are',\n",
       " 'was',\n",
       " 'were',\n",
       " 'be',\n",
       " 'been',\n",
       " 'being',\n",
       " 'have',\n",
       " 'has',\n",
       " 'had',\n",
       " 'having',\n",
       " 'do',\n",
       " 'does',\n",
       " 'did',\n",
       " 'doing',\n",
       " 'a',\n",
       " 'an',\n",
       " 'the',\n",
       " 'and',\n",
       " 'but',\n",
       " 'if',\n",
       " 'or',\n",
       " 'because',\n",
       " 'as',\n",
       " 'until',\n",
       " 'while',\n",
       " 'of',\n",
       " 'at',\n",
       " 'by',\n",
       " 'for',\n",
       " 'with',\n",
       " 'about',\n",
       " 'against',\n",
       " 'between',\n",
       " 'into',\n",
       " 'through',\n",
       " 'during',\n",
       " 'before',\n",
       " 'after',\n",
       " 'above',\n",
       " 'below',\n",
       " 'to',\n",
       " 'from',\n",
       " 'up',\n",
       " 'down',\n",
       " 'in',\n",
       " 'out',\n",
       " 'on',\n",
       " 'off',\n",
       " 'over',\n",
       " 'under',\n",
       " 'again',\n",
       " 'further',\n",
       " 'then',\n",
       " 'once',\n",
       " 'here',\n",
       " 'there',\n",
       " 'when',\n",
       " 'where',\n",
       " 'why',\n",
       " 'how',\n",
       " 'all',\n",
       " 'any',\n",
       " 'both',\n",
       " 'each',\n",
       " 'few',\n",
       " 'more',\n",
       " 'most',\n",
       " 'other',\n",
       " 'some',\n",
       " 'such',\n",
       " 'no',\n",
       " 'nor',\n",
       " 'not',\n",
       " 'only',\n",
       " 'own',\n",
       " 'same',\n",
       " 'so',\n",
       " 'than',\n",
       " 'too',\n",
       " 'very',\n",
       " 's',\n",
       " 't',\n",
       " 'can',\n",
       " 'will',\n",
       " 'just',\n",
       " 'don',\n",
       " \"don't\",\n",
       " 'should',\n",
       " \"should've\",\n",
       " 'now',\n",
       " 'd',\n",
       " 'll',\n",
       " 'm',\n",
       " 'o',\n",
       " 're',\n",
       " 've',\n",
       " 'y',\n",
       " 'ain',\n",
       " 'aren',\n",
       " \"aren't\",\n",
       " 'couldn',\n",
       " \"couldn't\",\n",
       " 'didn',\n",
       " \"didn't\",\n",
       " 'doesn',\n",
       " \"doesn't\",\n",
       " 'hadn',\n",
       " \"hadn't\",\n",
       " 'hasn',\n",
       " \"hasn't\",\n",
       " 'haven',\n",
       " \"haven't\",\n",
       " 'isn',\n",
       " \"isn't\",\n",
       " 'ma',\n",
       " 'mightn',\n",
       " \"mightn't\",\n",
       " 'mustn',\n",
       " \"mustn't\",\n",
       " 'needn',\n",
       " \"needn't\",\n",
       " 'shan',\n",
       " \"shan't\",\n",
       " 'shouldn',\n",
       " \"shouldn't\",\n",
       " 'wasn',\n",
       " \"wasn't\",\n",
       " 'weren',\n",
       " \"weren't\",\n",
       " 'won',\n",
       " \"won't\",\n",
       " 'wouldn',\n",
       " \"wouldn't\"]"
      ]
     },
     "execution_count": 11,
     "metadata": {},
     "output_type": "execute_result"
    }
   ],
   "source": [
    "nltk.corpus.stopwords.words('english')"
   ]
  },
  {
   "cell_type": "code",
   "execution_count": 12,
   "id": "023fd3d4",
   "metadata": {},
   "outputs": [],
   "source": [
    "from nltk.stem import SnowballStemmer\n",
    "\n",
    "stemmer = SnowballStemmer('english')\n",
    "stemmed_words = []\n",
    "for w in cleaned_text.split():\n",
    "    stemmed_words.append(stemmer.stem(w))\n",
    "    \n",
    "stemmed_text = ' '.join(stemmed_words)"
   ]
  },
  {
   "cell_type": "code",
   "execution_count": 13,
   "id": "e917b23e",
   "metadata": {},
   "outputs": [
    {
     "data": {
      "text/plain": [
       "'r “i knew here” repli pierr “i come supper i” ad low voic disturb vicomt continu stori “no impossibl'"
      ]
     },
     "execution_count": 13,
     "metadata": {},
     "output_type": "execute_result"
    }
   ],
   "source": [
    "stemmed_text[20000:20100]"
   ]
  },
  {
   "cell_type": "code",
   "execution_count": 13,
   "id": "48659443",
   "metadata": {},
   "outputs": [],
   "source": [
    "import spacy\n",
    "\n",
    "spacy_en_model = spacy.load('en_core_web_sm', disable=['tok2vec', 'parser', 'ner'])\n",
    "spacy_en_model.max_length = 4000000\n",
    "\n",
    "def clean_text_spacy(text):\n",
    "    processed_text = spacy_en_model(text)\n",
    "    lemmas = [w.lemma_ if w.lemma_ != '-PRON-'\n",
    "              else w.lower_ for w in processed_text\n",
    "              if w.is_alpha and not w.is_stop]\n",
    "    return ' '.join(lemmas).lower()\n",
    "\n",
    "wnp = urlopen('https://www.gutenberg.org/files/2600/2600-0.txt').read().decode('utf-8')\n",
    "wnp = simple_cleaner(wnp)\n",
    "lemmatized_text = clean_text_spacy(wnp)"
   ]
  },
  {
   "cell_type": "code",
   "execution_count": 35,
   "id": "0e13944c",
   "metadata": {},
   "outputs": [
    {
     "data": {
      "text/plain": [
       "'iety fear son borís prince say hurry anteroom remain long petersburg tell news poor boy prince vasíli listen reluctantly politely elder'"
      ]
     },
     "execution_count": 35,
     "metadata": {},
     "output_type": "execute_result"
    }
   ],
   "source": [
    "lemmatized_text[21165:21300]"
   ]
  },
  {
   "cell_type": "code",
   "execution_count": 36,
   "id": "77e52c59",
   "metadata": {},
   "outputs": [
    {
     "data": {
      "text/plain": [
       "['tagger', 'parser', 'ner']"
      ]
     },
     "execution_count": 36,
     "metadata": {},
     "output_type": "execute_result"
    }
   ],
   "source": [
    "spacy_en_model = spacy.load('en_core_web_sm')\n",
    "spacy_en_model.pipe_names"
   ]
  },
  {
   "cell_type": "markdown",
   "id": "3d7c9da9",
   "metadata": {},
   "source": [
    "## Word vectors"
   ]
  },
  {
   "cell_type": "code",
   "execution_count": 37,
   "id": "7a8418af",
   "metadata": {},
   "outputs": [],
   "source": [
    "import spacy\n",
    "\n",
    "spacy_en_model = spacy.load('en_core_web_lg', disable=['parser', 'ner'])\n",
    "spacy_en_model.max_length = 4000000\n",
    "\n",
    "processed_text = spacy_en_model(wnp)"
   ]
  },
  {
   "cell_type": "code",
   "execution_count": 38,
   "id": "abefd0fc",
   "metadata": {},
   "outputs": [
    {
     "data": {
      "text/plain": [
       "(300,)"
      ]
     },
     "execution_count": 38,
     "metadata": {},
     "output_type": "execute_result"
    }
   ],
   "source": [
    "processed_text.vector.shape"
   ]
  },
  {
   "cell_type": "code",
   "execution_count": 39,
   "id": "299349f4",
   "metadata": {},
   "outputs": [
    {
     "name": "stdout",
     "output_type": "stream",
     "text": [
      "\r\n",
      "\r\n",
      "\r\n",
      "\r\n",
      " [0. 0. 0. 0. 0. 0. 0. 0. 0. 0. 0. 0. 0. 0. 0. 0. 0. 0. 0. 0. 0. 0. 0. 0.\n",
      " 0. 0. 0. 0. 0. 0. 0. 0. 0. 0. 0. 0. 0. 0. 0. 0. 0. 0. 0. 0. 0. 0. 0. 0.\n",
      " 0. 0. 0. 0. 0. 0. 0. 0. 0. 0. 0. 0. 0. 0. 0. 0. 0. 0. 0. 0. 0. 0. 0. 0.\n",
      " 0. 0. 0. 0. 0. 0. 0. 0. 0. 0. 0. 0. 0. 0. 0. 0. 0. 0. 0. 0. 0. 0. 0. 0.\n",
      " 0. 0. 0. 0. 0. 0. 0. 0. 0. 0. 0. 0. 0. 0. 0. 0. 0. 0. 0. 0. 0. 0. 0. 0.\n",
      " 0. 0. 0. 0. 0. 0. 0. 0. 0. 0. 0. 0. 0. 0. 0. 0. 0. 0. 0. 0. 0. 0. 0. 0.\n",
      " 0. 0. 0. 0. 0. 0. 0. 0. 0. 0. 0. 0. 0. 0. 0. 0. 0. 0. 0. 0. 0. 0. 0. 0.\n",
      " 0. 0. 0. 0. 0. 0. 0. 0. 0. 0. 0. 0. 0. 0. 0. 0. 0. 0. 0. 0. 0. 0. 0. 0.\n",
      " 0. 0. 0. 0. 0. 0. 0. 0. 0. 0. 0. 0. 0. 0. 0. 0. 0. 0. 0. 0. 0. 0. 0. 0.\n",
      " 0. 0. 0. 0. 0. 0. 0. 0. 0. 0. 0. 0. 0. 0. 0. 0. 0. 0. 0. 0. 0. 0. 0. 0.\n",
      " 0. 0. 0. 0. 0. 0. 0. 0. 0. 0. 0. 0. 0. 0. 0. 0. 0. 0. 0. 0. 0. 0. 0. 0.\n",
      " 0. 0. 0. 0. 0. 0. 0. 0. 0. 0. 0. 0. 0. 0. 0. 0. 0. 0. 0. 0. 0. 0. 0. 0.\n",
      " 0. 0. 0. 0. 0. 0. 0. 0. 0. 0. 0. 0.]\n",
      "An [-1.1662e-02  1.9483e-01  8.8854e-02  5.4694e-01  2.5764e-01  1.5619e-01\n",
      " -3.4131e-01 -2.1666e-01 -1.4187e-01  2.4525e+00 -6.4806e-02  8.5481e-02\n",
      " -1.1925e-01  8.7107e-03  1.8261e-01 -2.9207e-01 -1.1578e-01  1.5710e+00\n",
      " -3.1973e-01 -4.1279e-01 -1.8129e-01 -2.9101e-01 -2.1584e-01  1.9685e-01\n",
      "  1.5240e-01 -9.0306e-02 -9.7694e-02  9.8791e-02  6.7369e-02 -2.4964e-01\n",
      "  9.9773e-02  3.2079e-01 -5.6697e-02  3.2238e-01  1.5905e-01 -4.5345e-01\n",
      "  1.1294e-01 -5.0674e-01  2.3202e-01 -5.5625e-01  3.9208e-01  1.4811e-01\n",
      " -1.8637e-01 -6.2775e-01 -2.9390e-02 -1.0555e-01 -9.5531e-02 -9.7434e-02\n",
      "  1.9720e-01  2.2059e-01 -1.1017e-01 -4.8332e-02 -4.8414e-02  2.9998e-03\n",
      "  9.9272e-02 -2.3553e-02  1.4603e-02 -9.8494e-02 -1.4167e-01  1.1831e-01\n",
      " -1.2322e-02  3.6239e-02  1.0297e-01  1.1158e-01 -4.1930e-02 -1.6625e-01\n",
      "  2.8472e-01 -2.2051e-01 -4.9708e-02  3.2561e-01 -2.4400e-01 -2.8140e-02\n",
      " -7.1356e-03 -2.2616e-01 -8.9478e-02  8.2447e-02  4.8198e-02 -2.8326e-01\n",
      " -7.4620e-01  6.0872e-01  2.1592e-01  1.3517e-01 -5.8790e-03  1.5697e-01\n",
      "  1.7543e-02 -6.5070e-01 -6.0810e-01  1.3962e-01  2.8628e-01 -3.4076e-01\n",
      " -3.2782e-01  3.3876e-01  2.2207e-01 -1.4818e-01 -3.2918e-01 -1.5938e-01\n",
      " -3.8448e-01 -1.2595e-01 -9.9549e-02 -2.8544e-01  9.3137e-03  7.8235e-03\n",
      " -9.3138e-02 -6.8065e-02  2.6759e-02 -1.0398e+00  2.4762e-01  3.8398e-01\n",
      "  6.6230e-01 -2.6994e-01  1.9174e-01 -1.3892e-01 -3.7396e-01 -1.6413e-04\n",
      " -9.4473e-02  9.7790e-02 -4.4733e-01  1.7914e-01 -2.2492e-01  1.1517e-02\n",
      " -2.1837e-01 -2.7095e-02  2.2307e-01 -3.4854e-01 -1.8707e-01  3.0603e-03\n",
      " -4.2032e-01 -1.8487e-01 -5.6208e-01 -1.5139e-01 -1.0828e-01 -2.1532e-01\n",
      " -2.7416e-01 -2.0356e-01  2.4666e-01 -2.3746e-01 -1.2539e-01 -1.4658e-02\n",
      "  4.4677e-02 -6.8932e-01 -7.1280e-01  1.9282e-01  4.3114e-02  9.2519e-02\n",
      " -7.1066e-02 -3.7312e-01  2.5582e-01 -2.9538e-01  3.4666e-01 -2.0368e-01\n",
      "  1.8214e-01  3.2011e-01  1.0774e-01 -1.9064e-01  4.9321e-01  1.1759e-01\n",
      " -7.7502e-02 -2.0347e-01 -3.0257e-01 -2.4968e-01 -3.3035e-01 -1.1076e-01\n",
      "  1.7257e-01 -2.5248e-01 -1.5597e-01 -9.5579e-02  2.9602e-01 -1.1353e-01\n",
      "  1.1378e-01  4.2170e-02 -1.0416e-01  1.0275e-01  3.2486e-01  1.2846e-01\n",
      "  8.6711e-03 -8.7829e-02  4.1325e-02 -2.5309e-01 -4.4164e-01 -1.3862e-01\n",
      " -3.1100e-01  1.5086e-01 -2.9916e-01 -5.4871e-01 -4.6731e-01 -1.8136e-01\n",
      " -1.3318e-01  2.4436e-01  1.3889e-02 -2.1335e-01 -3.1292e-01  2.0530e-01\n",
      " -6.1686e-01  5.6070e-01  2.2628e-01  4.2597e-01 -3.0931e-01 -1.9921e-01\n",
      " -1.6589e-01  1.6017e-01  5.9949e-02  1.6039e-01 -9.4529e-02  2.1313e-01\n",
      "  4.3970e-01 -1.1975e-01  2.0910e-01  2.0094e-01  1.7543e-01  1.8910e-01\n",
      " -4.4454e-01  7.7866e-02  8.1136e-02 -3.6833e-01 -4.0159e-01  6.2475e-01\n",
      " -5.4086e-02  5.2973e-01  4.8823e-02 -3.1570e-02 -1.2963e-02  5.5686e-02\n",
      " -9.4021e-02  7.0565e-02 -3.7699e-01 -3.6916e-01  6.4286e-02  4.1971e-01\n",
      "  1.0837e-01 -1.3602e-01 -5.6549e-02 -4.0015e-02  3.4090e-01  1.1575e-01\n",
      " -5.4581e-02 -2.0758e-01  4.0873e-01  1.2970e-03 -3.6174e-01  5.9374e-01\n",
      "  7.4668e-02  2.7985e-01  3.3846e-01  5.1372e-01  4.8615e-01 -2.6198e-01\n",
      "  2.5109e-01  2.3477e-01  1.6903e-01 -1.4265e-01 -1.9448e-01 -1.0927e-01\n",
      "  2.1903e-01  1.3169e-01 -7.3529e-02  5.8470e-02  3.0656e-01 -2.1659e-01\n",
      " -3.5887e-02  2.3820e-01 -1.9286e-01  2.3738e-01  3.2946e-01 -4.3599e-01\n",
      "  1.6886e-01 -2.1193e-01 -6.9089e-02 -4.8063e-01  4.0617e-01 -5.1688e-03\n",
      "  6.8038e-01 -1.8951e-02 -2.3077e-01 -3.9166e-03 -3.6334e-01  3.2451e-01\n",
      " -3.7190e-01 -6.5041e-02  5.0366e-01  1.8549e-01  4.2846e-01  3.3319e-01\n",
      "  1.4532e-01  2.3860e-02 -7.0744e-02 -6.6983e-01 -1.1862e-01  7.2780e-02\n",
      "  2.7465e-01 -4.9775e-02  2.1254e-03  1.8468e-01 -2.1512e-03 -2.5295e-01\n",
      " -3.4570e-01 -2.7130e-01  1.2307e-01 -5.4666e-02 -1.9340e-01  1.3995e-01]\n",
      "Anonymous [-3.7055e-01  1.9856e-01 -7.5764e-02  1.9949e-01 -8.2805e-01  5.7152e-01\n",
      "  2.5191e-01 -5.7430e-01  2.3067e-01  1.7598e+00  8.5458e-02 -2.9486e-01\n",
      " -1.2764e-01 -1.7164e-01  6.3990e-02  2.8226e-01 -1.4275e-01  7.6963e-01\n",
      "  3.5573e-01 -8.3487e-02 -1.4470e-01 -1.2907e-01  2.0398e-01  6.6814e-01\n",
      "  6.4137e-03  4.1567e-01  4.2745e-01  6.0444e-02  4.5927e-01  1.6941e-01\n",
      "  6.9474e-01  4.7871e-01 -4.3448e-01 -4.9023e-02 -3.5021e-01  4.7628e-01\n",
      " -2.3337e-01  9.8259e-02  5.6132e-02 -4.5821e-02 -1.8518e-01  1.6901e-01\n",
      " -4.6724e-02  4.2459e-02 -1.8269e-01 -2.6394e-01  6.9702e-01  2.4087e-01\n",
      "  9.4294e-02  1.6422e-01 -5.7994e-01  2.3799e-02 -4.9660e-01 -1.6077e-01\n",
      " -3.7373e-01  9.2456e-02 -2.1557e-01 -2.4826e-02  3.5013e-01 -2.3893e-01\n",
      "  2.5201e-01  2.4196e-02 -4.5904e-01 -2.2768e-01 -1.2838e-01  1.7562e-01\n",
      " -7.9920e-02 -2.2671e-01 -5.6684e-02  2.5971e-01  3.3664e-01  4.2180e-02\n",
      "  2.6209e-01  1.9467e-01  3.0991e-01  1.1214e-01  6.1837e-02  2.5645e-01\n",
      "  3.6669e-02  1.1204e+00  1.1356e-01 -7.5309e-02 -2.2387e-01 -1.5269e-01\n",
      " -5.8304e-01 -1.4323e-01  6.0237e-01 -5.4694e-01 -1.8791e-01 -2.8984e-01\n",
      "  1.4024e-01 -2.4117e-01  2.1759e-01 -2.6757e-01  3.3096e-01  1.9530e-01\n",
      " -1.9694e-01  2.9773e-02 -6.3628e-02 -2.3458e-01  6.4961e-02  2.4028e-01\n",
      "  3.5968e-01  1.9447e-01 -1.9095e-01 -6.8666e-01  8.4291e-02  2.7695e-01\n",
      " -2.0862e-01  4.7411e-02  3.7845e-01 -1.0553e-01  4.7937e-01  1.3095e-01\n",
      " -1.6393e-01  4.7829e-01 -5.3209e-01 -3.7372e-01 -5.3659e-01 -4.2569e-02\n",
      "  3.6572e-01 -5.4420e-02 -1.8715e-01 -5.6614e-01 -8.1910e-02  1.0118e-01\n",
      "  3.7327e-01  2.7686e-01 -5.2642e-01  5.2120e-01  2.3865e-01  4.4823e-01\n",
      "  1.5036e-01 -3.7195e-01 -3.5954e-01 -7.6878e-02 -5.3487e-01 -4.1653e-01\n",
      "  2.9052e-01  1.5389e-01 -1.1786e+00  2.2979e-01 -3.9286e-01  1.9068e-01\n",
      " -6.0768e-01 -6.6344e-01  9.6687e-02 -8.2373e-01 -3.2815e-01 -1.8395e-01\n",
      "  5.9985e-01 -2.6188e-01 -4.7087e-01  1.5436e-01  6.1120e-02  1.1014e+00\n",
      "  1.9120e-01 -1.0984e-02 -5.7403e-01 -3.7925e-01  9.1983e-03 -3.6111e-01\n",
      "  5.5004e-01 -1.5744e-01 -2.0070e-01  1.3297e-01 -2.3773e-01  4.6272e-02\n",
      " -6.3021e-01 -2.0565e-01  4.0728e-01  2.3581e-02  4.4462e-01  5.7911e-01\n",
      "  2.3465e-01  3.5570e-01  6.9068e-03 -1.8035e-01 -7.1749e-01  2.2298e-01\n",
      "  1.1431e-01  3.1932e-01 -3.0074e-01 -6.9683e-01  5.6067e-01  2.3301e-01\n",
      " -5.1550e-02  7.0549e-02 -4.3102e-02 -5.9315e-01 -2.5101e-01  3.3583e-01\n",
      " -3.1583e-01  2.7331e-01  2.8424e-01  4.1579e-03  1.5031e-03 -1.2107e-01\n",
      "  1.7728e-01  2.7784e-01  3.8371e-01 -3.2328e-01  8.0675e-02  3.8118e-02\n",
      "  4.1026e-01 -3.2589e-01  8.0091e-02  2.1625e-01 -2.0159e-01  8.8557e-02\n",
      "  3.2181e-01 -6.7954e-03 -3.3988e-01  1.0985e-01 -1.1006e-01 -4.4223e-01\n",
      "  1.9799e-01  7.1581e-02 -6.8978e-01 -1.1654e-02  2.3126e-01  6.1816e-01\n",
      " -3.7356e-01  4.0162e-01  3.8881e-01 -1.2711e-01  9.2317e-02 -2.5163e-01\n",
      "  6.0703e-02 -3.3357e-01  1.6170e-01  2.5392e-01  3.9131e-01 -1.9508e-01\n",
      " -2.1004e-01 -8.5693e-02 -1.4674e-01 -3.3406e-01  3.7007e-01  5.4043e-02\n",
      " -3.2260e-01  3.5483e-01  2.9278e-01 -7.3087e-01  4.1756e-01  2.3955e-01\n",
      " -3.3939e-03 -7.0194e-02  1.4460e-01 -7.0029e-02  2.3812e-01  1.8205e-01\n",
      " -5.4532e-01  1.3486e-01  1.2565e-01 -5.1767e-02 -6.9779e-01 -8.1812e-01\n",
      "  4.9092e-02  2.2755e-01  1.5845e-01  5.1629e-02  1.5312e-01 -1.1202e-01\n",
      " -3.4908e-02  1.0390e-01  3.9100e-01  2.6606e-01  5.0114e-01 -5.3467e-01\n",
      " -1.4862e-01 -3.0711e-01 -2.7309e-01 -8.5262e-02  9.7665e-01 -1.2085e-01\n",
      "  1.6487e-02 -4.8698e-01  6.5278e-01 -4.0193e-01  2.1450e-01 -1.2536e-01\n",
      "  1.9907e-01 -6.8067e-02  1.5193e-01  9.5323e-02 -2.8952e-01  7.5672e-01\n",
      "  9.9179e-02  1.6962e-01 -2.8704e-01 -5.0053e-02 -2.2840e-02  3.8100e-01\n",
      "  1.3145e-02 -2.7210e-01 -2.7480e-01  1.0400e-01 -6.0095e-01  8.1384e-01]\n",
      "Volunteer [ 2.7863e-02 -1.3787e-01  4.2300e-01  3.8632e-01 -5.5468e-03  2.3859e-01\n",
      " -1.0044e-01 -1.1371e-01 -1.4344e-01  3.1943e+00 -6.2105e-01 -6.1507e-02\n",
      "  1.7865e-01 -2.5640e-01 -1.3420e-01  2.2387e-01  2.6584e-01  6.4406e-01\n",
      " -1.0476e-01  3.1081e-02  3.4694e-01 -5.4408e-01 -3.8628e-01  3.6917e-01\n",
      "  5.1511e-01  4.6127e-01 -9.5443e-02  1.7541e-01  8.5668e-01 -3.1048e-01\n",
      "  3.8473e-01 -5.6934e-01  2.6704e-01 -2.4550e-01 -4.3841e-02  2.8879e-01\n",
      "  2.4157e-01 -3.8008e-01 -1.2644e-01 -2.9501e-01 -4.1754e-02  1.8125e-01\n",
      "  1.2529e-01 -3.5724e-01 -2.2591e-01 -1.5443e-01  4.9138e-01  3.4114e-01\n",
      "  6.0488e-01 -1.4558e-01  2.7928e-01 -8.1128e-01  5.1740e-01  8.1877e-02\n",
      " -4.6320e-01 -4.3751e-01 -3.1891e-02  3.1725e-01 -2.3415e-01  3.9186e-01\n",
      " -4.0756e-01  1.2731e-01  6.6829e-02 -2.6425e-01  3.1751e-01 -3.5296e-01\n",
      " -2.2677e-01  6.3041e-01  3.9070e-01  3.0131e-01  9.3608e-02  1.4948e-01\n",
      "  5.6931e-03 -1.0367e-01  5.1648e-01  2.9424e-01 -2.7496e-03  6.1777e-01\n",
      "  3.7978e-01  2.9142e-01  5.6641e-02  2.7174e-01 -2.2592e-01  3.0191e-01\n",
      " -9.9272e-02  3.2769e-01 -7.2420e-01  1.6709e-01  1.8663e-01 -4.4116e-01\n",
      "  6.7824e-01  2.3716e-02  9.6822e-02 -4.9510e-01 -2.5318e-01  1.8524e-01\n",
      " -1.1140e-01 -2.0944e-01  3.6397e-01  3.1029e-01 -2.2884e-01 -6.1200e-01\n",
      " -8.1849e-02 -6.0567e-01 -5.0311e-01 -7.2939e-01  2.6367e-01  8.7302e-02\n",
      " -8.6521e-02 -1.8171e-01  4.1611e-01  6.6281e-02  1.7625e-01  3.0939e-01\n",
      "  7.5079e-01 -2.5782e-01  1.9742e-01  5.5102e-02 -2.2694e-01  9.6990e-02\n",
      "  6.0467e-02 -3.1540e-01  3.6910e-01 -1.4958e-01  2.8633e-01  8.7253e-02\n",
      "  1.0356e-01  2.2147e-01 -2.7640e-01  3.3819e-01  1.6982e-01  6.2408e-01\n",
      " -4.0068e-01  1.9097e-01 -8.9643e-02 -2.3425e-01  6.9842e-02 -2.1937e-02\n",
      "  4.6456e-01  2.6731e-01 -1.0651e-01  7.1100e-01  9.2384e-02  4.1467e-01\n",
      "  1.2438e-01 -1.1186e-02 -3.7825e-01  3.0149e-01 -5.8327e-01 -2.5829e-01\n",
      " -8.1745e-01  3.0887e-01 -6.6416e-01 -2.2400e-01 -2.1003e-01  4.2083e-01\n",
      "  5.1945e-01 -1.0536e-01 -1.8985e-01 -1.7140e-01  1.8524e-01  1.8811e-01\n",
      "  7.9584e-02 -1.8700e-01  5.1225e-01  2.7674e-01 -2.6295e-01 -4.7353e-01\n",
      " -3.8277e-01 -5.0340e-02  2.5912e-02  4.5704e-01  8.3522e-01  1.5490e-01\n",
      "  4.1642e-01  8.7586e-01 -3.0934e-01  2.2255e-01 -1.2555e-01  7.7458e-01\n",
      "  4.2842e-01  1.6747e-01 -4.1835e-01 -1.5664e-01  2.2516e-01  3.5780e-01\n",
      " -1.6723e-01  1.0314e-01  1.5008e-01 -4.2222e-01 -5.2577e-01  4.9491e-01\n",
      "  1.0179e-01 -1.6837e-01 -2.5583e-01  5.1830e-01  2.2430e-01 -2.2493e-01\n",
      "  7.3719e-01 -2.2819e-01  1.6202e-01 -1.0925e-01  5.1867e-02 -3.7399e-02\n",
      " -5.1058e-02  2.2420e-01  4.8104e-01 -1.4879e-01  7.8401e-01 -6.5084e-02\n",
      "  6.6315e-02  4.7844e-01  3.8752e-02  2.4078e-01 -9.9173e-02  5.0053e-01\n",
      " -1.6997e-02 -3.2031e-01 -1.0384e-01 -6.1447e-02 -1.3333e-01  4.2467e-02\n",
      "  5.5494e-01  1.2804e-01 -3.9748e-03  1.2331e-01  1.1237e-01  6.7084e-02\n",
      " -2.6146e-01 -5.6855e-02 -4.7705e-01 -1.9352e-01  2.6349e-01 -6.8460e-02\n",
      "  2.5486e-01  2.5727e-01 -1.8398e-01 -4.2262e-02  4.1442e-01  1.5071e-01\n",
      " -7.1833e-01 -1.3107e-01  6.0265e-02 -3.2055e-01  1.7468e-01  7.4445e-02\n",
      " -1.0507e-01 -6.8491e-02  5.4185e-01 -2.8706e-01  3.6210e-01  9.8456e-02\n",
      " -4.7443e-01  1.3293e-01 -5.5762e-03 -1.8959e-01 -1.2711e-01 -5.2088e-03\n",
      "  7.7239e-02  5.0329e-01  6.2812e-02 -8.1866e-02 -1.3615e-01  5.1563e-02\n",
      " -2.3722e-01 -5.0146e-02 -1.0478e-01 -2.8566e-01 -3.7134e-01  2.1570e-01\n",
      "  1.7834e-01 -2.4251e-02 -1.0930e-01  2.5651e-01 -1.2757e-01 -4.6834e-02\n",
      "  1.0859e-01 -5.3814e-01 -1.0334e-01  3.3111e-01 -4.4618e-01  2.7231e-01\n",
      " -1.4290e-01  2.9331e-01  3.3568e-03 -4.5304e-01  6.3186e-02  2.5737e-01\n",
      "  1.0338e-01  4.9758e-01  2.0660e-01  7.7787e-02  4.9474e-01  5.9232e-02\n",
      " -5.3821e-01 -5.0017e-01  4.1255e-01 -3.2609e-01 -4.7245e-01 -1.8783e-01]\n",
      ", [-0.082752   0.67204   -0.14987   -0.064983   0.056491   0.40228\n",
      "  0.0027747 -0.3311    -0.30691    2.0817     0.031819   0.013643\n",
      "  0.30265    0.0071297 -0.5819    -0.2774    -0.062254   1.1451\n",
      " -0.24232    0.1235    -0.12243    0.33152   -0.006162  -0.30541\n",
      " -0.13057   -0.054601   0.037083  -0.070552   0.5893    -0.30385\n",
      "  0.2898    -0.14653   -0.27052    0.37161    0.32031   -0.29125\n",
      "  0.0052483 -0.13212   -0.052736   0.087349  -0.26668   -0.16897\n",
      "  0.015162  -0.0083746 -0.14871    0.23413   -0.20719   -0.091386\n",
      "  0.40075   -0.17223    0.18145    0.37586   -0.28682    0.37289\n",
      " -0.16185    0.18008    0.3032    -0.13216    0.18352    0.095759\n",
      "  0.094916   0.008289   0.11761    0.34046    0.03677   -0.29077\n",
      "  0.058303  -0.027814   0.082941   0.1862    -0.031494   0.27985\n",
      " -0.074412  -0.13762   -0.21866    0.18138    0.040855  -0.113\n",
      "  0.24107    0.3657    -0.27525   -0.05684    0.34872    0.011884\n",
      "  0.14517   -0.71395    0.48497    0.14807    0.62287    0.20599\n",
      "  0.58379   -0.13438    0.40207    0.18311    0.28021   -0.42349\n",
      " -0.25626    0.17715   -0.54095    0.16596   -0.036058   0.08499\n",
      " -0.64989    0.075549  -0.28831    0.40626   -0.2802     0.094062\n",
      "  0.32406    0.28437   -0.26341    0.11553    0.071918  -0.47215\n",
      " -0.18366   -0.34709    0.29964   -0.66514    0.002516  -0.42333\n",
      "  0.27512    0.36012    0.16311    0.23964   -0.05923    0.3261\n",
      "  0.20559    0.038677  -0.045816   0.089764   0.43151   -0.15954\n",
      "  0.08532   -0.26572   -0.15001    0.084286  -0.16714   -0.43004\n",
      "  0.060807   0.13121   -0.24112    0.66554    0.4453    -0.18019\n",
      " -0.13919    0.56252    0.21457   -0.46443   -0.012211   0.029988\n",
      " -0.051094  -0.20135    0.80788    0.47377   -0.057647   0.46216\n",
      "  0.16084   -0.20954   -0.05452    0.15572   -0.13712    0.12972\n",
      " -0.011936  -0.003378  -0.13595   -0.080711   0.20065    0.054056\n",
      "  0.046816   0.059539   0.046265   0.17754   -0.31094    0.28119\n",
      " -0.24355    0.085252  -0.21011   -0.19472    0.0027297 -0.46341\n",
      "  0.14789   -0.31517   -0.065939   0.036106   0.42903   -0.33759\n",
      "  0.16432    0.32568   -0.050392  -0.054297   0.24074    0.41923\n",
      "  0.13012   -0.17167   -0.37808   -0.23089   -0.019477  -0.29291\n",
      " -0.30824    0.30297   -0.22659    0.081574  -0.18516   -0.21408\n",
      "  0.40616   -0.28974    0.074174  -0.17795    0.28595   -0.039626\n",
      " -0.2339    -0.36054   -0.067503  -0.091065   0.23438   -0.0041331\n",
      "  0.003232   0.0072134  0.008697   0.21614    0.049904   0.35582\n",
      "  0.13748    0.073361   0.14166    0.2412    -0.013322   0.15613\n",
      "  0.083381   0.088146  -0.019357   0.43795    0.083961   0.45309\n",
      " -0.50489   -0.10865   -0.2527    -0.18251    0.20441    0.13319\n",
      "  0.1294     0.050594  -0.15612   -0.39543    0.12538    0.24881\n",
      " -0.1927    -0.31847   -0.12719    0.4341     0.31177   -0.0040946\n",
      " -0.2094    -0.079961   0.1161    -0.050794   0.015266  -0.2803\n",
      " -0.12486    0.23587    0.2339    -0.14023    0.028462   0.56923\n",
      " -0.1649    -0.036429   0.010051  -0.17107   -0.042608   0.044965\n",
      " -0.4393    -0.26137    0.30088   -0.060772  -0.45312   -0.19076\n",
      " -0.20288    0.27694   -0.060888   0.11944    0.62206   -0.19343\n",
      "  0.47849   -0.30113    0.059389   0.074901   0.061068  -0.4662\n",
      "  0.40054   -0.19099   -0.14331    0.018267  -0.18643    0.20709\n",
      " -0.35598    0.05338   -0.050821  -0.1918    -0.37846   -0.06589  ]\n",
      "and [-1.8567e-01  6.6008e-02 -2.5209e-01 -1.1725e-01  2.6513e-01  6.4908e-02\n",
      "  1.2291e-01 -9.3979e-02  2.4321e-02  2.4926e+00 -1.7916e-02 -7.1218e-02\n",
      " -2.4782e-01 -2.6237e-01 -2.2460e-01 -2.1961e-01 -1.2927e-01  1.0867e+00\n",
      " -6.6072e-01 -3.1617e-02 -5.7328e-02  5.6903e-02 -2.7939e-01 -3.9825e-01\n",
      "  1.4251e-01 -8.5146e-02 -1.4779e-01  5.5067e-02 -2.8687e-03 -2.0917e-01\n",
      " -7.0735e-02  2.2577e-01 -1.5881e-01 -1.0395e-01  9.7110e-02 -5.6251e-01\n",
      " -3.2929e-01 -2.0853e-01  9.8711e-03  4.9777e-02  1.4883e-03  1.5884e-01\n",
      "  4.2771e-02 -2.6956e-03 -2.4620e-02 -1.9213e-01 -2.2556e-01  1.0838e-01\n",
      "  9.0086e-02 -1.3291e-01  3.2559e-01 -1.7038e-01 -1.0990e-01 -2.3986e-01\n",
      " -2.4289e-02  1.4656e-02 -2.3700e-01  8.4828e-02 -3.5982e-01 -7.6746e-02\n",
      "  4.8909e-02  1.1431e-01 -2.1013e-01  2.4765e-01 -1.7531e-02 -1.4028e-01\n",
      "  4.6191e-02  2.2972e-01  1.1750e-01  1.2724e-01  1.2992e-02  4.5870e-01\n",
      "  4.1085e-01  3.9106e-02  1.5713e-01 -1.8376e-01  2.6834e-01  5.6662e-02\n",
      "  1.6844e-01 -5.3788e-02 -9.1892e-02  1.1193e-01 -8.6810e-02 -1.3324e-01\n",
      "  1.5062e-01 -3.1733e-01 -2.2078e-01  2.5038e-01  3.4131e-01  3.6419e-01\n",
      " -8.9514e-02 -2.2193e-01  2.4471e-01  4.0091e-02  4.7798e-01 -2.9996e-02\n",
      "  1.9212e-03  6.3511e-02 -2.0417e-01 -2.6478e-01  2.0649e-01  1.5573e-02\n",
      " -2.7722e-01 -1.8861e-01 -1.0289e-01 -4.9773e-01  1.4986e-01 -1.0877e-02\n",
      "  2.5085e-01 -2.8117e-01  1.8966e-01 -6.5879e-02  9.4753e-02 -1.5338e-01\n",
      " -5.5071e-02 -3.6747e-01  2.4993e-01  9.6527e-02  2.3538e-01  1.8405e-01\n",
      "  5.2859e-02  2.2967e-01  1.2582e-01  1.5536e-01 -1.7275e-01  3.3946e-01\n",
      " -1.0049e-01  7.4948e-02 -9.3575e-02 -4.0490e-02 -1.6922e-02 -5.8039e-03\n",
      " -1.8108e-01  1.9537e-01  4.5178e-01  1.0965e-01  2.3370e-01 -9.9050e-02\n",
      " -7.8633e-02  2.1678e-01 -7.1231e-01 -9.9759e-02  3.3333e-01 -1.6460e-01\n",
      " -9.1688e-02  2.1056e-01  2.3669e-02  2.8922e-02  1.1990e-01 -1.2512e-01\n",
      " -2.6037e-02 -6.2217e-02  5.5816e-01  5.0273e-03 -3.0888e-01  3.8611e-02\n",
      "  1.7568e-01 -1.1163e-01 -1.0815e-01 -1.9444e-01  2.9433e-01  1.4519e-01\n",
      " -4.2878e-02  1.8534e-01  1.8891e-02 -6.1883e-01  1.3352e-01  3.6007e-02\n",
      "  3.3995e-01  2.2109e-01 -7.9328e-02  7.1319e-02  1.7678e-01  1.6378e-01\n",
      " -2.3142e-01 -1.4340e-01 -9.8122e-02 -1.9286e-02  2.3560e-01 -3.4013e-01\n",
      " -6.1007e-02 -2.3208e-01 -3.1152e-01  1.0063e-01 -1.5957e-01  2.0183e-01\n",
      " -1.6345e-02 -1.2303e-01  2.2667e-02 -2.0986e-01 -2.0127e-01 -8.7883e-02\n",
      "  6.4731e-02  1.0195e-01 -1.7860e-01  3.3056e-01  2.1407e-01 -3.2165e-01\n",
      " -1.7106e-01  1.9407e-01 -3.8618e-01 -2.1480e-01 -5.2254e-02  2.3175e-02\n",
      "  4.7389e-01  1.8612e-01  1.2711e-01  2.0855e-01 -1.0256e-01 -1.2016e-01\n",
      " -4.0488e-01  2.9695e-02 -2.7419e-02 -8.5227e-03 -1.1415e-01  8.1134e-02\n",
      " -1.7228e-01  1.9142e-01  2.6514e-02  4.3789e-02 -1.2399e-01  1.3354e-01\n",
      "  1.0112e-01  8.1682e-02 -1.5085e-01  7.5806e-03 -1.8971e-01  2.4669e-01\n",
      "  2.2491e-01  3.5553e-01 -3.2770e-01 -2.1821e-01  1.4020e-01  2.8604e-01\n",
      "  5.5226e-02 -8.6544e-02  2.1110e-02 -1.9236e-01  7.4245e-02  7.6782e-02\n",
      "  8.1666e-04  3.4097e-02 -5.7719e-01  1.0657e-01  2.8134e-01 -1.1964e-01\n",
      " -6.8281e-01 -3.2893e-01 -2.4442e-01 -2.5847e-02  9.1273e-03  2.0250e-01\n",
      " -5.0959e-02 -1.1042e-01  1.0962e-02  7.6773e-02  4.0048e-01 -4.0739e-01\n",
      " -4.4773e-01  3.1954e-01 -3.6326e-02 -1.2789e-02 -1.7282e-01  1.4760e-01\n",
      "  2.3560e-01  8.0642e-02 -3.6528e-01 -8.3443e-03  6.2390e-01 -2.4379e-01\n",
      "  1.9917e-02 -2.8803e-01 -1.0494e-02  3.8412e-02 -1.1718e-01 -7.2462e-02\n",
      "  1.6381e-01  3.8488e-01 -2.9783e-02  2.3444e-01  4.5320e-01  1.4815e-01\n",
      " -2.7021e-02 -7.3181e-02 -1.1470e-01 -5.4545e-03  4.7796e-01  9.0912e-02\n",
      "  9.4489e-02 -3.6882e-01 -5.9396e-01 -9.7729e-02  2.0072e-01  1.7055e-01\n",
      " -4.7356e-03 -3.9709e-02  3.2498e-01 -2.3452e-02  1.2302e-01  3.3120e-01]\n",
      "David [-5.7735e-01  5.3347e-01  2.5926e-01 -3.8308e-01  1.2183e-01 -7.6379e-02\n",
      "  3.3023e-01 -5.4412e-01 -2.5398e-01  7.9262e-01 -8.3110e-01 -7.0709e-01\n",
      "  1.5670e-01 -1.8455e-01 -4.4179e-01  2.1002e-01 -3.2382e-01  1.0214e+00\n",
      "  1.0326e-01 -2.9911e-02  4.7779e-01  1.0325e-01 -1.8309e-01 -2.8184e-01\n",
      "  1.1540e-01 -2.6777e-01 -9.6072e-01  6.7691e-01 -2.8034e-01  2.5375e-01\n",
      " -2.9510e-01  2.8059e-01 -1.9681e-01  2.7516e-01 -3.4862e-01  3.6850e-03\n",
      " -2.5082e-01 -8.8403e-02 -2.0309e-01  6.8673e-02  3.5637e-01 -4.0625e-02\n",
      "  1.0948e-01  4.1305e-01 -1.0382e-02  2.7714e-01  1.4251e-01 -1.8332e-01\n",
      "  5.9728e-01  5.5290e-01  2.7771e-01  4.7660e-01  2.8819e-01 -2.9971e-01\n",
      " -2.6308e-01 -1.9666e-01 -2.2288e-03  1.0677e-01  4.5286e-01 -2.8897e-01\n",
      " -2.4201e-01 -6.6553e-02 -3.0240e-01 -3.4950e-01  3.4449e-01 -1.5869e-01\n",
      " -2.6899e-01  7.6411e-02 -2.3083e-01 -6.5471e-01  5.4952e-02 -3.7510e-01\n",
      "  1.7941e-01 -1.3085e-01  9.3348e-02 -5.8563e-01 -5.0219e-01  2.1238e-01\n",
      "  6.4280e-02  3.8611e-01  3.9088e-02  6.3805e-01  2.1122e-01  3.9744e-01\n",
      " -6.5836e-02 -2.4031e-01  1.4617e+00 -7.7505e-01 -9.8934e-02 -4.4461e-01\n",
      "  5.1490e-02 -2.8523e-01  3.4425e-01 -8.1489e-01  5.1239e-01 -1.0897e-01\n",
      "  3.6917e-01 -9.9021e-02 -4.6268e-01 -5.5987e-01  4.2678e-01 -2.6814e-01\n",
      "  2.4294e-02  2.5665e-01 -2.1167e-01 -3.6682e-01  1.6493e-01 -2.5340e-01\n",
      " -1.0305e-02 -1.0211e-01  2.4407e-01  3.0173e-03  2.8925e-01 -1.6624e-01\n",
      "  2.0541e-01  2.6256e-01  5.8810e-01  3.0058e-01  3.7864e-02 -1.3089e-01\n",
      " -3.0159e-01  1.8312e-01  1.4695e-01  2.6147e-03 -6.5802e-02 -1.1731e-01\n",
      "  3.0587e-01  4.4372e-02  4.7404e-02  1.5871e-01  2.9560e-02 -3.0824e-01\n",
      " -2.3679e-02 -6.1069e-01 -2.1519e-01  9.4022e-03  2.4478e-01 -4.5931e-04\n",
      " -3.4709e-01 -8.0138e-01 -2.4530e+00 -2.2063e-01 -2.6739e-01  2.7246e-01\n",
      " -4.8298e-01 -1.5832e-02  8.5070e-01  3.7771e-02 -7.7604e-01 -2.8087e-01\n",
      "  4.6098e-01 -8.3213e-01 -1.7028e-01  3.4848e-01  2.4126e-01 -3.0469e-01\n",
      "  3.5435e-02  6.0054e-02 -3.2436e-01  4.9379e-01  7.4339e-01 -5.2949e-01\n",
      " -3.0873e-01  2.5979e-01  2.4247e-01  1.7833e-01  3.7253e-01 -1.6123e-01\n",
      " -2.6109e-01  1.7339e-01 -1.7671e-01  1.4499e-01  4.1103e-02 -1.7300e-01\n",
      "  9.7425e-03 -1.2138e-01  4.1345e-01  1.6790e-01  4.1767e-01  4.2114e-01\n",
      "  3.5572e-02 -1.3849e-01  1.6669e-01 -3.8082e-02  4.9067e-01  1.0574e-01\n",
      " -2.9316e-02  4.6734e-01  3.0298e-03 -2.4086e-01 -3.5933e-01 -1.6723e-01\n",
      " -8.7770e-02 -4.6192e-01 -2.7128e-01  8.0101e-01  2.8640e-01 -3.3364e-01\n",
      "  3.7228e-01 -9.0672e-02 -5.3090e-02 -5.9133e-01  4.1461e-01 -1.3443e-01\n",
      " -3.7769e-01 -2.4801e-01 -8.2308e-02  1.9544e-01 -1.9379e-01  1.2416e-01\n",
      " -2.0219e-01  7.1159e-01  4.2303e-01  4.5854e-01 -2.2189e-02  2.7602e-02\n",
      " -1.3614e-01  1.0270e-01  9.2037e-02  6.3893e-01 -1.5096e-01  4.6316e-01\n",
      " -1.1560e-01  4.2066e-02  1.5920e-01  2.6385e-01 -3.6119e-01 -9.0576e-02\n",
      "  1.5900e-01  1.0342e-01 -3.0457e-01 -5.6279e-02 -5.8971e-02  3.7727e-01\n",
      " -6.8974e-01 -2.8210e-01 -3.8010e-02  3.2194e-01 -1.5276e-01  7.5577e-02\n",
      "  3.6635e-02 -2.1684e-01 -2.4265e-02 -1.5735e-01 -2.2897e-01  3.7711e-01\n",
      " -3.3912e-03  4.8539e-01 -2.7294e-01 -5.2171e-01  4.3208e-01 -4.8297e-03\n",
      "  1.4451e-01  4.1973e-01  3.1377e-01 -7.7033e-01 -2.9243e-01 -1.9438e-01\n",
      "  1.7791e-01 -7.7720e-02  3.7196e-01 -1.1289e-01  3.1055e-01  3.1565e-01\n",
      " -1.1538e-01 -8.6916e-01  3.8006e-01 -7.9826e-04 -5.6098e-01  3.5370e-01\n",
      " -7.9871e-01  1.7559e-01  3.6610e-01  6.8642e-01  1.6834e-01 -2.6480e-01\n",
      "  1.5466e-01 -3.4934e-01 -4.1809e-01  1.5966e-01 -2.4113e-03 -4.5918e-01\n",
      " -2.4395e-01  4.3759e-01 -9.2746e-02 -7.1226e-02  2.7205e-02 -5.4678e-02\n",
      " -4.1227e-02 -1.9616e-01  2.7194e-01  4.2994e-01  3.9968e-01 -6.0841e-03\n",
      "  5.4247e-01 -2.2097e-01  2.1997e-01 -1.9133e-01 -1.4083e-01  1.3174e-01]\n",
      "Widger [0. 0. 0. 0. 0. 0. 0. 0. 0. 0. 0. 0. 0. 0. 0. 0. 0. 0. 0. 0. 0. 0. 0. 0.\n",
      " 0. 0. 0. 0. 0. 0. 0. 0. 0. 0. 0. 0. 0. 0. 0. 0. 0. 0. 0. 0. 0. 0. 0. 0.\n",
      " 0. 0. 0. 0. 0. 0. 0. 0. 0. 0. 0. 0. 0. 0. 0. 0. 0. 0. 0. 0. 0. 0. 0. 0.\n",
      " 0. 0. 0. 0. 0. 0. 0. 0. 0. 0. 0. 0. 0. 0. 0. 0. 0. 0. 0. 0. 0. 0. 0. 0.\n",
      " 0. 0. 0. 0. 0. 0. 0. 0. 0. 0. 0. 0. 0. 0. 0. 0. 0. 0. 0. 0. 0. 0. 0. 0.\n",
      " 0. 0. 0. 0. 0. 0. 0. 0. 0. 0. 0. 0. 0. 0. 0. 0. 0. 0. 0. 0. 0. 0. 0. 0.\n",
      " 0. 0. 0. 0. 0. 0. 0. 0. 0. 0. 0. 0. 0. 0. 0. 0. 0. 0. 0. 0. 0. 0. 0. 0.\n",
      " 0. 0. 0. 0. 0. 0. 0. 0. 0. 0. 0. 0. 0. 0. 0. 0. 0. 0. 0. 0. 0. 0. 0. 0.\n",
      " 0. 0. 0. 0. 0. 0. 0. 0. 0. 0. 0. 0. 0. 0. 0. 0. 0. 0. 0. 0. 0. 0. 0. 0.\n",
      " 0. 0. 0. 0. 0. 0. 0. 0. 0. 0. 0. 0. 0. 0. 0. 0. 0. 0. 0. 0. 0. 0. 0. 0.\n",
      " 0. 0. 0. 0. 0. 0. 0. 0. 0. 0. 0. 0. 0. 0. 0. 0. 0. 0. 0. 0. 0. 0. 0. 0.\n",
      " 0. 0. 0. 0. 0. 0. 0. 0. 0. 0. 0. 0. 0. 0. 0. 0. 0. 0. 0. 0. 0. 0. 0. 0.\n",
      " 0. 0. 0. 0. 0. 0. 0. 0. 0. 0. 0. 0.]\n",
      "\r\n",
      "\r\n",
      "\r\n",
      "\r\n",
      "\r\n",
      "\r\n",
      "\r\n",
      " [0. 0. 0. 0. 0. 0. 0. 0. 0. 0. 0. 0. 0. 0. 0. 0. 0. 0. 0. 0. 0. 0. 0. 0.\n",
      " 0. 0. 0. 0. 0. 0. 0. 0. 0. 0. 0. 0. 0. 0. 0. 0. 0. 0. 0. 0. 0. 0. 0. 0.\n",
      " 0. 0. 0. 0. 0. 0. 0. 0. 0. 0. 0. 0. 0. 0. 0. 0. 0. 0. 0. 0. 0. 0. 0. 0.\n",
      " 0. 0. 0. 0. 0. 0. 0. 0. 0. 0. 0. 0. 0. 0. 0. 0. 0. 0. 0. 0. 0. 0. 0. 0.\n",
      " 0. 0. 0. 0. 0. 0. 0. 0. 0. 0. 0. 0. 0. 0. 0. 0. 0. 0. 0. 0. 0. 0. 0. 0.\n",
      " 0. 0. 0. 0. 0. 0. 0. 0. 0. 0. 0. 0. 0. 0. 0. 0. 0. 0. 0. 0. 0. 0. 0. 0.\n",
      " 0. 0. 0. 0. 0. 0. 0. 0. 0. 0. 0. 0. 0. 0. 0. 0. 0. 0. 0. 0. 0. 0. 0. 0.\n",
      " 0. 0. 0. 0. 0. 0. 0. 0. 0. 0. 0. 0. 0. 0. 0. 0. 0. 0. 0. 0. 0. 0. 0. 0.\n",
      " 0. 0. 0. 0. 0. 0. 0. 0. 0. 0. 0. 0. 0. 0. 0. 0. 0. 0. 0. 0. 0. 0. 0. 0.\n",
      " 0. 0. 0. 0. 0. 0. 0. 0. 0. 0. 0. 0. 0. 0. 0. 0. 0. 0. 0. 0. 0. 0. 0. 0.\n",
      " 0. 0. 0. 0. 0. 0. 0. 0. 0. 0. 0. 0. 0. 0. 0. 0. 0. 0. 0. 0. 0. 0. 0. 0.\n",
      " 0. 0. 0. 0. 0. 0. 0. 0. 0. 0. 0. 0. 0. 0. 0. 0. 0. 0. 0. 0. 0. 0. 0. 0.\n",
      " 0. 0. 0. 0. 0. 0. 0. 0. 0. 0. 0. 0.]\n",
      "WAR [-3.0730e-01 -1.4714e-01  6.6117e-01  1.0707e-02 -4.2548e-01 -4.8379e-01\n",
      " -5.2638e-01  7.0586e-01 -3.8561e-01  3.0728e+00 -2.1181e-01 -4.2231e-01\n",
      "  3.5130e-01 -4.4530e-01  2.3694e-01 -2.6002e-01 -2.8963e-01  3.0857e-01\n",
      " -6.4575e-01  3.2054e-01 -5.5924e-02 -2.0813e-01  3.4440e-01  1.0795e-02\n",
      " -7.4545e-02 -3.8548e-01 -6.0702e-01  3.2237e-01 -9.3341e-02  6.6126e-01\n",
      " -7.1363e-03  1.8532e-01 -3.7393e-01 -2.6076e-02  4.9744e-01 -4.1639e-01\n",
      "  5.2767e-02 -1.1967e-01  1.5338e-01  7.1576e-02 -7.3306e-02  2.9640e-01\n",
      "  4.6181e-01 -4.8285e-01 -1.1067e-02 -1.6115e-02 -2.9533e-01  1.8976e-01\n",
      "  2.0678e-01  2.7757e-01  2.6496e-01 -2.5634e-02 -4.1048e-01  2.1783e-01\n",
      " -1.0913e-01  3.1568e-01  1.3638e-01 -3.6162e-01  2.7819e-01 -1.9528e-01\n",
      " -4.3991e-01  5.1373e-01  5.8337e-01 -2.6897e-01 -3.5659e-02  4.4794e-01\n",
      "  1.7027e-02  2.1396e-01 -2.6451e-01 -1.7835e-01 -4.4925e-01 -9.5494e-02\n",
      " -1.1581e-01 -2.1970e-01  8.2708e-01 -3.9354e-01 -2.8215e-01  1.4357e-01\n",
      " -1.9401e-02  5.9181e-01 -7.9514e-02 -1.6846e-01  4.2670e-01  4.8965e-02\n",
      " -3.5715e-02  4.3702e-04 -4.1323e-01 -1.1492e+00 -2.3024e-02 -2.1631e-02\n",
      " -3.9075e-01 -2.8866e-01 -2.0323e-01  4.1405e-02 -4.6789e-01 -3.7633e-01\n",
      " -1.2661e-01 -2.8927e-01 -1.3600e-02 -2.0943e-01  2.6374e-01  6.0462e-01\n",
      "  3.7909e-02  1.1279e-01  4.6555e-02 -1.1435e+00 -6.6728e-01  2.8028e-01\n",
      "  1.1438e-01 -2.0672e-01 -5.6746e-01 -2.7321e-01 -2.0052e-01 -4.5183e-02\n",
      "  8.3824e-02 -2.4882e-02 -2.0332e-01 -2.0862e-02 -3.9751e-01 -6.3251e-01\n",
      " -2.5665e-01  1.5445e-01  1.0218e-01  3.4600e-01 -1.8854e-01 -1.2153e-01\n",
      "  2.4391e-01  2.7164e-01  1.4518e-01  1.1441e-01  5.0093e-01 -2.3864e-01\n",
      "  2.0658e-01 -3.0755e-01 -1.0151e-01  1.6840e-01 -2.8072e-01  1.0867e-01\n",
      " -1.0491e-01 -2.1823e-01 -2.0400e+00 -3.0625e-01  5.4690e-01  1.8884e-01\n",
      "  3.9976e-01  1.8794e-01  5.5508e-02  6.1705e-01 -1.2972e-01 -4.0606e-01\n",
      "  1.9359e-01  1.1488e-01  2.9622e-01  1.6477e-01 -2.8349e-01  7.0100e-02\n",
      "  8.4147e-02  8.5669e-02 -1.0135e-01  7.6131e-01  2.4091e-01  8.8009e-02\n",
      "  1.6156e-01  6.0225e-01 -7.0677e-01  6.8427e-02 -5.8679e-03 -3.2746e-01\n",
      "  2.3455e-01 -1.1501e-01 -3.3841e-01  2.9260e-01  1.0802e-02  4.6094e-01\n",
      "  4.9241e-01  4.4794e-01 -2.2935e-01 -1.8170e-01  5.1448e-01  2.8058e-01\n",
      " -2.8255e-01 -4.4502e-01 -5.3984e-01 -8.0238e-02 -4.4346e-01  2.4706e-01\n",
      " -8.8404e-02 -4.5311e-01 -2.8675e-01  4.6892e-01 -3.0129e-01  3.1616e-03\n",
      " -1.7669e-01  4.9881e-01 -4.0455e-01  1.7265e-01  7.0763e-01 -3.9676e-01\n",
      " -9.0939e-03 -2.3180e-01  2.7638e-01  2.2391e-01  9.6259e-01  1.6816e-01\n",
      "  2.9699e-01 -2.7375e-01  2.5440e-01 -2.0711e-01  1.8156e-01 -1.7873e-01\n",
      "  3.5345e-01 -6.4737e-02  2.6704e-01  9.1605e-02  4.8969e-01 -5.6520e-01\n",
      "  8.1013e-02  4.9177e-01 -1.9974e-01  1.0656e-01  1.1928e-01  2.0396e-01\n",
      "  2.7092e-01 -1.3317e-01 -3.8568e-01  2.9469e-02  9.9864e-03  8.8510e-02\n",
      "  4.2491e-02  2.9868e-02 -1.9921e-01  3.5423e-01  5.3091e-02 -5.8813e-01\n",
      " -1.7052e-01 -7.3903e-02  1.8195e-01  7.0392e-01 -1.4140e-01 -1.9800e-02\n",
      " -1.8423e-01  1.2321e-02  5.0770e-02  4.4745e-01  9.7449e-02  4.2456e-01\n",
      "  2.0555e-01  3.7444e-01  5.7010e-01 -7.2635e-01  6.0556e-01  5.6125e-01\n",
      "  4.0867e-01 -2.3671e-01 -1.9248e-01 -4.1436e-01 -3.3534e-01  5.9564e-01\n",
      " -2.0379e-01 -1.0979e-01 -1.8435e-01  4.8392e-01 -5.6776e-03  3.6866e-01\n",
      " -2.4334e-01 -5.5312e-01  3.5324e-01 -2.2517e-02  1.2511e-01  3.6127e-01\n",
      "  5.2364e-01 -8.6573e-02  2.2216e-02 -2.2745e-01  3.1314e-01  3.5122e-01\n",
      "  1.6167e-01 -1.1710e-01  3.1173e-01 -5.5322e-02  4.2065e-01  2.1272e-01\n",
      " -2.6764e-01 -6.0827e-01  2.1662e-01 -1.2543e-01 -3.0970e-02 -3.9711e-02\n",
      "  4.6854e-02 -3.3056e-01 -4.3316e-01  4.3642e-01 -5.3155e-01 -3.0558e-01\n",
      " -1.0377e-01  2.4855e-01  1.8876e-01 -8.8854e-02 -1.3557e-01  1.1429e-01]\n"
     ]
    }
   ],
   "source": [
    "for word in processed_text[:10]:\n",
    "    print(word.text, word.vector)"
   ]
  },
  {
   "cell_type": "markdown",
   "id": "4efd500f",
   "metadata": {},
   "source": [
    "## TFIDF vectors"
   ]
  },
  {
   "cell_type": "code",
   "execution_count": 14,
   "id": "919e7316",
   "metadata": {},
   "outputs": [],
   "source": [
    "from sklearn.datasets import fetch_20newsgroups\n",
    "\n",
    "newsgroups_train = fetch_20newsgroups(remove=('headers', 'footers'))"
   ]
  },
  {
   "cell_type": "code",
   "execution_count": 15,
   "id": "14e76398",
   "metadata": {},
   "outputs": [
    {
     "data": {
      "text/plain": [
       "dict_keys(['data', 'filenames', 'target_names', 'target', 'DESCR'])"
      ]
     },
     "execution_count": 15,
     "metadata": {},
     "output_type": "execute_result"
    }
   ],
   "source": [
    "newsgroups_train.keys()"
   ]
  },
  {
   "cell_type": "code",
   "execution_count": 16,
   "id": "9e999937",
   "metadata": {},
   "outputs": [],
   "source": [
    "from sklearn.feature_extraction.text import TfidfVectorizer\n",
    "\n",
    "tfidf_vectorizer = TfidfVectorizer()\n",
    "ng_train_tfidf = tfidf_vectorizer.fit_transform(newsgroups_train['data'])"
   ]
  },
  {
   "cell_type": "code",
   "execution_count": 43,
   "id": "13f5ad70",
   "metadata": {},
   "outputs": [
    {
     "data": {
      "text/plain": [
       "(11314, 114751)"
      ]
     },
     "execution_count": 43,
     "metadata": {},
     "output_type": "execute_result"
    }
   ],
   "source": [
    "ng_train_tfidf.shape"
   ]
  },
  {
   "cell_type": "code",
   "execution_count": 44,
   "id": "85175f09",
   "metadata": {},
   "outputs": [
    {
     "data": {
      "text/plain": [
       "11314"
      ]
     },
     "execution_count": 44,
     "metadata": {},
     "output_type": "execute_result"
    }
   ],
   "source": [
    "len(newsgroups_train['data'])"
   ]
  },
  {
   "cell_type": "code",
   "execution_count": 45,
   "id": "7d176b46",
   "metadata": {},
   "outputs": [
    {
     "data": {
      "text/plain": [
       "1.0"
      ]
     },
     "execution_count": 45,
     "metadata": {},
     "output_type": "execute_result"
    }
   ],
   "source": [
    "ng_train_tfidf.max()"
   ]
  },
  {
   "cell_type": "code",
   "execution_count": 46,
   "id": "12463b4f",
   "metadata": {},
   "outputs": [
    {
     "data": {
      "text/plain": [
       "dict_keys(['data', 'filenames', 'target_names', 'target', 'DESCR'])"
      ]
     },
     "execution_count": 46,
     "metadata": {},
     "output_type": "execute_result"
    }
   ],
   "source": [
    "newsgroups_train.keys()"
   ]
  },
  {
   "cell_type": "code",
   "execution_count": 17,
   "id": "f2c64052",
   "metadata": {},
   "outputs": [
    {
     "data": {
      "application/vnd.jupyter.widget-view+json": {
       "model_id": "698843206091406cbe7051c5d38a623d",
       "version_major": 2,
       "version_minor": 0
      },
      "text/plain": [
       "Pandas Apply:   0%|          | 0/11314 [00:00<?, ?it/s]"
      ]
     },
     "metadata": {},
     "output_type": "display_data"
    },
    {
     "ename": "KeyboardInterrupt",
     "evalue": "",
     "output_type": "error",
     "traceback": [
      "\u001b[1;31m---------------------------------------------------------------------------\u001b[0m",
      "\u001b[1;31mTypeError\u001b[0m                                 Traceback (most recent call last)",
      "\u001b[1;32m~\\Anaconda3\\envs\\datasci\\lib\\site-packages\\swifter\\swifter.py\u001b[0m in \u001b[0;36mapply\u001b[1;34m(self, func, convert_dtype, args, **kwds)\u001b[0m\n\u001b[0;32m    249\u001b[0m             \u001b[1;32mwith\u001b[0m \u001b[0msuppress_stdout_stderr\u001b[0m\u001b[1;33m(\u001b[0m\u001b[1;33m)\u001b[0m\u001b[1;33m:\u001b[0m\u001b[1;33m\u001b[0m\u001b[1;33m\u001b[0m\u001b[0m\n\u001b[1;32m--> 250\u001b[1;33m                 \u001b[0mtmp_df\u001b[0m \u001b[1;33m=\u001b[0m \u001b[0mfunc\u001b[0m\u001b[1;33m(\u001b[0m\u001b[0msample\u001b[0m\u001b[1;33m,\u001b[0m \u001b[1;33m*\u001b[0m\u001b[0margs\u001b[0m\u001b[1;33m,\u001b[0m \u001b[1;33m**\u001b[0m\u001b[0mkwds\u001b[0m\u001b[1;33m)\u001b[0m\u001b[1;33m\u001b[0m\u001b[1;33m\u001b[0m\u001b[0m\n\u001b[0m\u001b[0;32m    251\u001b[0m                 \u001b[0msample_df\u001b[0m \u001b[1;33m=\u001b[0m \u001b[0msample\u001b[0m\u001b[1;33m.\u001b[0m\u001b[0mapply\u001b[0m\u001b[1;33m(\u001b[0m\u001b[0mfunc\u001b[0m\u001b[1;33m,\u001b[0m \u001b[0mconvert_dtype\u001b[0m\u001b[1;33m=\u001b[0m\u001b[0mconvert_dtype\u001b[0m\u001b[1;33m,\u001b[0m \u001b[0margs\u001b[0m\u001b[1;33m=\u001b[0m\u001b[0margs\u001b[0m\u001b[1;33m,\u001b[0m \u001b[1;33m**\u001b[0m\u001b[0mkwds\u001b[0m\u001b[1;33m)\u001b[0m\u001b[1;33m\u001b[0m\u001b[1;33m\u001b[0m\u001b[0m\n",
      "\u001b[1;32m<ipython-input-13-6f0b0e7f3db8>\u001b[0m in \u001b[0;36mclean_text_spacy\u001b[1;34m(text)\u001b[0m\n\u001b[0;32m      6\u001b[0m \u001b[1;32mdef\u001b[0m \u001b[0mclean_text_spacy\u001b[0m\u001b[1;33m(\u001b[0m\u001b[0mtext\u001b[0m\u001b[1;33m)\u001b[0m\u001b[1;33m:\u001b[0m\u001b[1;33m\u001b[0m\u001b[1;33m\u001b[0m\u001b[0m\n\u001b[1;32m----> 7\u001b[1;33m     \u001b[0mprocessed_text\u001b[0m \u001b[1;33m=\u001b[0m \u001b[0mspacy_en_model\u001b[0m\u001b[1;33m(\u001b[0m\u001b[0mtext\u001b[0m\u001b[1;33m)\u001b[0m\u001b[1;33m\u001b[0m\u001b[1;33m\u001b[0m\u001b[0m\n\u001b[0m\u001b[0;32m      8\u001b[0m     lemmas = [w.lemma_ if w.lemma_ != '-PRON-'\n",
      "\u001b[1;32m~\\Anaconda3\\envs\\datasci\\lib\\site-packages\\spacy\\language.py\u001b[0m in \u001b[0;36m__call__\u001b[1;34m(self, text, disable, component_cfg)\u001b[0m\n\u001b[0;32m    436\u001b[0m         \"\"\"\n\u001b[1;32m--> 437\u001b[1;33m         \u001b[0mdoc\u001b[0m \u001b[1;33m=\u001b[0m \u001b[0mself\u001b[0m\u001b[1;33m.\u001b[0m\u001b[0mmake_doc\u001b[0m\u001b[1;33m(\u001b[0m\u001b[0mtext\u001b[0m\u001b[1;33m)\u001b[0m\u001b[1;33m\u001b[0m\u001b[1;33m\u001b[0m\u001b[0m\n\u001b[0m\u001b[0;32m    438\u001b[0m         \u001b[1;32mif\u001b[0m \u001b[0mcomponent_cfg\u001b[0m \u001b[1;32mis\u001b[0m \u001b[1;32mNone\u001b[0m\u001b[1;33m:\u001b[0m\u001b[1;33m\u001b[0m\u001b[1;33m\u001b[0m\u001b[0m\n",
      "\u001b[1;32m~\\Anaconda3\\envs\\datasci\\lib\\site-packages\\spacy\\language.py\u001b[0m in \u001b[0;36mmake_doc\u001b[1;34m(self, text)\u001b[0m\n\u001b[0;32m    466\u001b[0m             )\n\u001b[1;32m--> 467\u001b[1;33m         \u001b[1;32mreturn\u001b[0m \u001b[0mself\u001b[0m\u001b[1;33m.\u001b[0m\u001b[0mtokenizer\u001b[0m\u001b[1;33m(\u001b[0m\u001b[0mtext\u001b[0m\u001b[1;33m)\u001b[0m\u001b[1;33m\u001b[0m\u001b[1;33m\u001b[0m\u001b[0m\n\u001b[0m\u001b[0;32m    468\u001b[0m \u001b[1;33m\u001b[0m\u001b[0m\n",
      "\u001b[1;31mTypeError\u001b[0m: Argument 'string' has incorrect type (expected str, got Series)",
      "\nDuring handling of the above exception, another exception occurred:\n",
      "\u001b[1;31mKeyboardInterrupt\u001b[0m                         Traceback (most recent call last)",
      "\u001b[1;32m<ipython-input-17-1c058657521a>\u001b[0m in \u001b[0;36m<module>\u001b[1;34m\u001b[0m\n\u001b[0;32m      3\u001b[0m \u001b[1;33m\u001b[0m\u001b[0m\n\u001b[0;32m      4\u001b[0m \u001b[0mng_train_df\u001b[0m \u001b[1;33m=\u001b[0m \u001b[0mpd\u001b[0m\u001b[1;33m.\u001b[0m\u001b[0mDataFrame\u001b[0m\u001b[1;33m(\u001b[0m\u001b[1;33m{\u001b[0m\u001b[1;34m'text'\u001b[0m\u001b[1;33m:\u001b[0m \u001b[0mnewsgroups_train\u001b[0m\u001b[1;33m[\u001b[0m\u001b[1;34m'data'\u001b[0m\u001b[1;33m]\u001b[0m\u001b[1;33m,\u001b[0m \u001b[1;34m'label'\u001b[0m\u001b[1;33m:\u001b[0m \u001b[0mnewsgroups_train\u001b[0m\u001b[1;33m[\u001b[0m\u001b[1;34m'target'\u001b[0m\u001b[1;33m]\u001b[0m\u001b[1;33m}\u001b[0m\u001b[1;33m)\u001b[0m\u001b[1;33m\u001b[0m\u001b[1;33m\u001b[0m\u001b[0m\n\u001b[1;32m----> 5\u001b[1;33m \u001b[0mng_train_df\u001b[0m\u001b[1;33m[\u001b[0m\u001b[1;34m'text'\u001b[0m\u001b[1;33m]\u001b[0m \u001b[1;33m=\u001b[0m \u001b[0mng_train_df\u001b[0m\u001b[1;33m[\u001b[0m\u001b[1;34m'text'\u001b[0m\u001b[1;33m]\u001b[0m\u001b[1;33m.\u001b[0m\u001b[0mswifter\u001b[0m\u001b[1;33m.\u001b[0m\u001b[0mapply\u001b[0m\u001b[1;33m(\u001b[0m\u001b[0mclean_text_spacy\u001b[0m\u001b[1;33m)\u001b[0m\u001b[1;33m\u001b[0m\u001b[1;33m\u001b[0m\u001b[0m\n\u001b[0m\u001b[0;32m      6\u001b[0m \u001b[1;33m\u001b[0m\u001b[0m\n\u001b[0;32m      7\u001b[0m \u001b[0mtfidf_vectorizer\u001b[0m \u001b[1;33m=\u001b[0m \u001b[0mTfidfVectorizer\u001b[0m\u001b[1;33m(\u001b[0m\u001b[0mmin_df\u001b[0m\u001b[1;33m=\u001b[0m\u001b[1;36m10\u001b[0m\u001b[1;33m,\u001b[0m \u001b[0mmax_df\u001b[0m\u001b[1;33m=\u001b[0m\u001b[1;36m0.9\u001b[0m\u001b[1;33m)\u001b[0m\u001b[1;33m\u001b[0m\u001b[1;33m\u001b[0m\u001b[0m\n",
      "\u001b[1;32m~\\Anaconda3\\envs\\datasci\\lib\\site-packages\\swifter\\swifter.py\u001b[0m in \u001b[0;36mapply\u001b[1;34m(self, func, convert_dtype, args, **kwds)\u001b[0m\n\u001b[0;32m    267\u001b[0m                 \u001b[1;32mif\u001b[0m \u001b[0mself\u001b[0m\u001b[1;33m.\u001b[0m\u001b[0m_progress_bar\u001b[0m\u001b[1;33m:\u001b[0m\u001b[1;33m\u001b[0m\u001b[1;33m\u001b[0m\u001b[0m\n\u001b[0;32m    268\u001b[0m                     \u001b[0mtqdm\u001b[0m\u001b[1;33m.\u001b[0m\u001b[0mpandas\u001b[0m\u001b[1;33m(\u001b[0m\u001b[0mdesc\u001b[0m\u001b[1;33m=\u001b[0m\u001b[0mself\u001b[0m\u001b[1;33m.\u001b[0m\u001b[0m_progress_bar_desc\u001b[0m \u001b[1;32mor\u001b[0m \u001b[1;34m\"Pandas Apply\"\u001b[0m\u001b[1;33m)\u001b[0m\u001b[1;33m\u001b[0m\u001b[1;33m\u001b[0m\u001b[0m\n\u001b[1;32m--> 269\u001b[1;33m                     \u001b[1;32mreturn\u001b[0m \u001b[0mself\u001b[0m\u001b[1;33m.\u001b[0m\u001b[0m_obj\u001b[0m\u001b[1;33m.\u001b[0m\u001b[0mprogress_apply\u001b[0m\u001b[1;33m(\u001b[0m\u001b[0mfunc\u001b[0m\u001b[1;33m,\u001b[0m \u001b[0mconvert_dtype\u001b[0m\u001b[1;33m=\u001b[0m\u001b[0mconvert_dtype\u001b[0m\u001b[1;33m,\u001b[0m \u001b[0margs\u001b[0m\u001b[1;33m=\u001b[0m\u001b[0margs\u001b[0m\u001b[1;33m,\u001b[0m \u001b[1;33m**\u001b[0m\u001b[0mkwds\u001b[0m\u001b[1;33m)\u001b[0m\u001b[1;33m\u001b[0m\u001b[1;33m\u001b[0m\u001b[0m\n\u001b[0m\u001b[0;32m    270\u001b[0m                 \u001b[1;32melse\u001b[0m\u001b[1;33m:\u001b[0m\u001b[1;33m\u001b[0m\u001b[1;33m\u001b[0m\u001b[0m\n\u001b[0;32m    271\u001b[0m                     \u001b[1;32mreturn\u001b[0m \u001b[0mself\u001b[0m\u001b[1;33m.\u001b[0m\u001b[0m_obj\u001b[0m\u001b[1;33m.\u001b[0m\u001b[0mapply\u001b[0m\u001b[1;33m(\u001b[0m\u001b[0mfunc\u001b[0m\u001b[1;33m,\u001b[0m \u001b[0mconvert_dtype\u001b[0m\u001b[1;33m=\u001b[0m\u001b[0mconvert_dtype\u001b[0m\u001b[1;33m,\u001b[0m \u001b[0margs\u001b[0m\u001b[1;33m=\u001b[0m\u001b[0margs\u001b[0m\u001b[1;33m,\u001b[0m \u001b[1;33m**\u001b[0m\u001b[0mkwds\u001b[0m\u001b[1;33m)\u001b[0m\u001b[1;33m\u001b[0m\u001b[1;33m\u001b[0m\u001b[0m\n",
      "\u001b[1;32m~\\Anaconda3\\envs\\datasci\\lib\\site-packages\\tqdm\\std.py\u001b[0m in \u001b[0;36minner\u001b[1;34m(df, func, *args, **kwargs)\u001b[0m\n\u001b[0;32m    808\u001b[0m                 \u001b[1;31m# on the df using our wrapper (which provides bar updating)\u001b[0m\u001b[1;33m\u001b[0m\u001b[1;33m\u001b[0m\u001b[1;33m\u001b[0m\u001b[0m\n\u001b[0;32m    809\u001b[0m                 \u001b[1;32mtry\u001b[0m\u001b[1;33m:\u001b[0m\u001b[1;33m\u001b[0m\u001b[1;33m\u001b[0m\u001b[0m\n\u001b[1;32m--> 810\u001b[1;33m                     \u001b[1;32mreturn\u001b[0m \u001b[0mgetattr\u001b[0m\u001b[1;33m(\u001b[0m\u001b[0mdf\u001b[0m\u001b[1;33m,\u001b[0m \u001b[0mdf_function\u001b[0m\u001b[1;33m)\u001b[0m\u001b[1;33m(\u001b[0m\u001b[0mwrapper\u001b[0m\u001b[1;33m,\u001b[0m \u001b[1;33m**\u001b[0m\u001b[0mkwargs\u001b[0m\u001b[1;33m)\u001b[0m\u001b[1;33m\u001b[0m\u001b[1;33m\u001b[0m\u001b[0m\n\u001b[0m\u001b[0;32m    811\u001b[0m                 \u001b[1;32mfinally\u001b[0m\u001b[1;33m:\u001b[0m\u001b[1;33m\u001b[0m\u001b[1;33m\u001b[0m\u001b[0m\n\u001b[0;32m    812\u001b[0m                     \u001b[0mt\u001b[0m\u001b[1;33m.\u001b[0m\u001b[0mclose\u001b[0m\u001b[1;33m(\u001b[0m\u001b[1;33m)\u001b[0m\u001b[1;33m\u001b[0m\u001b[1;33m\u001b[0m\u001b[0m\n",
      "\u001b[1;32m~\\Anaconda3\\envs\\datasci\\lib\\site-packages\\pandas\\core\\series.py\u001b[0m in \u001b[0;36mapply\u001b[1;34m(self, func, convert_dtype, args, **kwds)\u001b[0m\n\u001b[0;32m   4136\u001b[0m             \u001b[1;32melse\u001b[0m\u001b[1;33m:\u001b[0m\u001b[1;33m\u001b[0m\u001b[1;33m\u001b[0m\u001b[0m\n\u001b[0;32m   4137\u001b[0m                 \u001b[0mvalues\u001b[0m \u001b[1;33m=\u001b[0m \u001b[0mself\u001b[0m\u001b[1;33m.\u001b[0m\u001b[0mastype\u001b[0m\u001b[1;33m(\u001b[0m\u001b[0mobject\u001b[0m\u001b[1;33m)\u001b[0m\u001b[1;33m.\u001b[0m\u001b[0m_values\u001b[0m\u001b[1;33m\u001b[0m\u001b[1;33m\u001b[0m\u001b[0m\n\u001b[1;32m-> 4138\u001b[1;33m                 \u001b[0mmapped\u001b[0m \u001b[1;33m=\u001b[0m \u001b[0mlib\u001b[0m\u001b[1;33m.\u001b[0m\u001b[0mmap_infer\u001b[0m\u001b[1;33m(\u001b[0m\u001b[0mvalues\u001b[0m\u001b[1;33m,\u001b[0m \u001b[0mf\u001b[0m\u001b[1;33m,\u001b[0m \u001b[0mconvert\u001b[0m\u001b[1;33m=\u001b[0m\u001b[0mconvert_dtype\u001b[0m\u001b[1;33m)\u001b[0m\u001b[1;33m\u001b[0m\u001b[1;33m\u001b[0m\u001b[0m\n\u001b[0m\u001b[0;32m   4139\u001b[0m \u001b[1;33m\u001b[0m\u001b[0m\n\u001b[0;32m   4140\u001b[0m         \u001b[1;32mif\u001b[0m \u001b[0mlen\u001b[0m\u001b[1;33m(\u001b[0m\u001b[0mmapped\u001b[0m\u001b[1;33m)\u001b[0m \u001b[1;32mand\u001b[0m \u001b[0misinstance\u001b[0m\u001b[1;33m(\u001b[0m\u001b[0mmapped\u001b[0m\u001b[1;33m[\u001b[0m\u001b[1;36m0\u001b[0m\u001b[1;33m]\u001b[0m\u001b[1;33m,\u001b[0m \u001b[0mSeries\u001b[0m\u001b[1;33m)\u001b[0m\u001b[1;33m:\u001b[0m\u001b[1;33m\u001b[0m\u001b[1;33m\u001b[0m\u001b[0m\n",
      "\u001b[1;32mpandas\\_libs\\lib.pyx\u001b[0m in \u001b[0;36mpandas._libs.lib.map_infer\u001b[1;34m()\u001b[0m\n",
      "\u001b[1;32m~\\Anaconda3\\envs\\datasci\\lib\\site-packages\\tqdm\\std.py\u001b[0m in \u001b[0;36mwrapper\u001b[1;34m(*args, **kwargs)\u001b[0m\n\u001b[0;32m    803\u001b[0m                     \u001b[1;31m# take a fast or slow code path; so stop when t.total==t.n\u001b[0m\u001b[1;33m\u001b[0m\u001b[1;33m\u001b[0m\u001b[1;33m\u001b[0m\u001b[0m\n\u001b[0;32m    804\u001b[0m                     \u001b[0mt\u001b[0m\u001b[1;33m.\u001b[0m\u001b[0mupdate\u001b[0m\u001b[1;33m(\u001b[0m\u001b[0mn\u001b[0m\u001b[1;33m=\u001b[0m\u001b[1;36m1\u001b[0m \u001b[1;32mif\u001b[0m \u001b[1;32mnot\u001b[0m \u001b[0mt\u001b[0m\u001b[1;33m.\u001b[0m\u001b[0mtotal\u001b[0m \u001b[1;32mor\u001b[0m \u001b[0mt\u001b[0m\u001b[1;33m.\u001b[0m\u001b[0mn\u001b[0m \u001b[1;33m<\u001b[0m \u001b[0mt\u001b[0m\u001b[1;33m.\u001b[0m\u001b[0mtotal\u001b[0m \u001b[1;32melse\u001b[0m \u001b[1;36m0\u001b[0m\u001b[1;33m)\u001b[0m\u001b[1;33m\u001b[0m\u001b[1;33m\u001b[0m\u001b[0m\n\u001b[1;32m--> 805\u001b[1;33m                     \u001b[1;32mreturn\u001b[0m \u001b[0mfunc\u001b[0m\u001b[1;33m(\u001b[0m\u001b[1;33m*\u001b[0m\u001b[0margs\u001b[0m\u001b[1;33m,\u001b[0m \u001b[1;33m**\u001b[0m\u001b[0mkwargs\u001b[0m\u001b[1;33m)\u001b[0m\u001b[1;33m\u001b[0m\u001b[1;33m\u001b[0m\u001b[0m\n\u001b[0m\u001b[0;32m    806\u001b[0m \u001b[1;33m\u001b[0m\u001b[0m\n\u001b[0;32m    807\u001b[0m                 \u001b[1;31m# Apply the provided function (in **kwargs)\u001b[0m\u001b[1;33m\u001b[0m\u001b[1;33m\u001b[0m\u001b[1;33m\u001b[0m\u001b[0m\n",
      "\u001b[1;32m<ipython-input-13-6f0b0e7f3db8>\u001b[0m in \u001b[0;36mclean_text_spacy\u001b[1;34m(text)\u001b[0m\n\u001b[0;32m      5\u001b[0m \u001b[1;33m\u001b[0m\u001b[0m\n\u001b[0;32m      6\u001b[0m \u001b[1;32mdef\u001b[0m \u001b[0mclean_text_spacy\u001b[0m\u001b[1;33m(\u001b[0m\u001b[0mtext\u001b[0m\u001b[1;33m)\u001b[0m\u001b[1;33m:\u001b[0m\u001b[1;33m\u001b[0m\u001b[1;33m\u001b[0m\u001b[0m\n\u001b[1;32m----> 7\u001b[1;33m     \u001b[0mprocessed_text\u001b[0m \u001b[1;33m=\u001b[0m \u001b[0mspacy_en_model\u001b[0m\u001b[1;33m(\u001b[0m\u001b[0mtext\u001b[0m\u001b[1;33m)\u001b[0m\u001b[1;33m\u001b[0m\u001b[1;33m\u001b[0m\u001b[0m\n\u001b[0m\u001b[0;32m      8\u001b[0m     lemmas = [w.lemma_ if w.lemma_ != '-PRON-'\n\u001b[0;32m      9\u001b[0m               \u001b[1;32melse\u001b[0m \u001b[0mw\u001b[0m\u001b[1;33m.\u001b[0m\u001b[0mlower_\u001b[0m \u001b[1;32mfor\u001b[0m \u001b[0mw\u001b[0m \u001b[1;32min\u001b[0m \u001b[0mprocessed_text\u001b[0m\u001b[1;33m\u001b[0m\u001b[1;33m\u001b[0m\u001b[0m\n",
      "\u001b[1;32m~\\Anaconda3\\envs\\datasci\\lib\\site-packages\\spacy\\language.py\u001b[0m in \u001b[0;36m__call__\u001b[1;34m(self, text, disable, component_cfg)\u001b[0m\n\u001b[0;32m    443\u001b[0m             \u001b[1;32mif\u001b[0m \u001b[1;32mnot\u001b[0m \u001b[0mhasattr\u001b[0m\u001b[1;33m(\u001b[0m\u001b[0mproc\u001b[0m\u001b[1;33m,\u001b[0m \u001b[1;34m\"__call__\"\u001b[0m\u001b[1;33m)\u001b[0m\u001b[1;33m:\u001b[0m\u001b[1;33m\u001b[0m\u001b[1;33m\u001b[0m\u001b[0m\n\u001b[0;32m    444\u001b[0m                 \u001b[1;32mraise\u001b[0m \u001b[0mValueError\u001b[0m\u001b[1;33m(\u001b[0m\u001b[0mErrors\u001b[0m\u001b[1;33m.\u001b[0m\u001b[0mE003\u001b[0m\u001b[1;33m.\u001b[0m\u001b[0mformat\u001b[0m\u001b[1;33m(\u001b[0m\u001b[0mcomponent\u001b[0m\u001b[1;33m=\u001b[0m\u001b[0mtype\u001b[0m\u001b[1;33m(\u001b[0m\u001b[0mproc\u001b[0m\u001b[1;33m)\u001b[0m\u001b[1;33m,\u001b[0m \u001b[0mname\u001b[0m\u001b[1;33m=\u001b[0m\u001b[0mname\u001b[0m\u001b[1;33m)\u001b[0m\u001b[1;33m)\u001b[0m\u001b[1;33m\u001b[0m\u001b[1;33m\u001b[0m\u001b[0m\n\u001b[1;32m--> 445\u001b[1;33m             \u001b[0mdoc\u001b[0m \u001b[1;33m=\u001b[0m \u001b[0mproc\u001b[0m\u001b[1;33m(\u001b[0m\u001b[0mdoc\u001b[0m\u001b[1;33m,\u001b[0m \u001b[1;33m**\u001b[0m\u001b[0mcomponent_cfg\u001b[0m\u001b[1;33m.\u001b[0m\u001b[0mget\u001b[0m\u001b[1;33m(\u001b[0m\u001b[0mname\u001b[0m\u001b[1;33m,\u001b[0m \u001b[1;33m{\u001b[0m\u001b[1;33m}\u001b[0m\u001b[1;33m)\u001b[0m\u001b[1;33m)\u001b[0m\u001b[1;33m\u001b[0m\u001b[1;33m\u001b[0m\u001b[0m\n\u001b[0m\u001b[0;32m    446\u001b[0m             \u001b[1;32mif\u001b[0m \u001b[0mdoc\u001b[0m \u001b[1;32mis\u001b[0m \u001b[1;32mNone\u001b[0m\u001b[1;33m:\u001b[0m\u001b[1;33m\u001b[0m\u001b[1;33m\u001b[0m\u001b[0m\n\u001b[0;32m    447\u001b[0m                 \u001b[1;32mraise\u001b[0m \u001b[0mValueError\u001b[0m\u001b[1;33m(\u001b[0m\u001b[0mErrors\u001b[0m\u001b[1;33m.\u001b[0m\u001b[0mE005\u001b[0m\u001b[1;33m.\u001b[0m\u001b[0mformat\u001b[0m\u001b[1;33m(\u001b[0m\u001b[0mname\u001b[0m\u001b[1;33m=\u001b[0m\u001b[0mname\u001b[0m\u001b[1;33m)\u001b[0m\u001b[1;33m)\u001b[0m\u001b[1;33m\u001b[0m\u001b[1;33m\u001b[0m\u001b[0m\n",
      "\u001b[1;32mpipes.pyx\u001b[0m in \u001b[0;36mspacy.pipeline.pipes.Tagger.__call__\u001b[1;34m()\u001b[0m\n",
      "\u001b[1;32mpipes.pyx\u001b[0m in \u001b[0;36mspacy.pipeline.pipes.Tagger.predict\u001b[1;34m()\u001b[0m\n",
      "\u001b[1;32m~\\Anaconda3\\envs\\datasci\\lib\\site-packages\\thinc\\neural\\_classes\\model.py\u001b[0m in \u001b[0;36m__call__\u001b[1;34m(self, x)\u001b[0m\n\u001b[0;32m    165\u001b[0m             \u001b[0mMust\u001b[0m \u001b[0mmatch\u001b[0m \u001b[0mexpected\u001b[0m \u001b[0mshape\u001b[0m\u001b[1;33m\u001b[0m\u001b[1;33m\u001b[0m\u001b[0m\n\u001b[0;32m    166\u001b[0m         \"\"\"\n\u001b[1;32m--> 167\u001b[1;33m         \u001b[1;32mreturn\u001b[0m \u001b[0mself\u001b[0m\u001b[1;33m.\u001b[0m\u001b[0mpredict\u001b[0m\u001b[1;33m(\u001b[0m\u001b[0mx\u001b[0m\u001b[1;33m)\u001b[0m\u001b[1;33m\u001b[0m\u001b[1;33m\u001b[0m\u001b[0m\n\u001b[0m\u001b[0;32m    168\u001b[0m \u001b[1;33m\u001b[0m\u001b[0m\n\u001b[0;32m    169\u001b[0m     \u001b[1;32mdef\u001b[0m \u001b[0mpipe\u001b[0m\u001b[1;33m(\u001b[0m\u001b[0mself\u001b[0m\u001b[1;33m,\u001b[0m \u001b[0mstream\u001b[0m\u001b[1;33m,\u001b[0m \u001b[0mbatch_size\u001b[0m\u001b[1;33m=\u001b[0m\u001b[1;36m128\u001b[0m\u001b[1;33m)\u001b[0m\u001b[1;33m:\u001b[0m\u001b[1;33m\u001b[0m\u001b[1;33m\u001b[0m\u001b[0m\n",
      "\u001b[1;32m~\\Anaconda3\\envs\\datasci\\lib\\site-packages\\thinc\\neural\\_classes\\feed_forward.py\u001b[0m in \u001b[0;36mpredict\u001b[1;34m(self, X)\u001b[0m\n\u001b[0;32m     38\u001b[0m     \u001b[1;32mdef\u001b[0m \u001b[0mpredict\u001b[0m\u001b[1;33m(\u001b[0m\u001b[0mself\u001b[0m\u001b[1;33m,\u001b[0m \u001b[0mX\u001b[0m\u001b[1;33m)\u001b[0m\u001b[1;33m:\u001b[0m\u001b[1;33m\u001b[0m\u001b[1;33m\u001b[0m\u001b[0m\n\u001b[0;32m     39\u001b[0m         \u001b[1;32mfor\u001b[0m \u001b[0mlayer\u001b[0m \u001b[1;32min\u001b[0m \u001b[0mself\u001b[0m\u001b[1;33m.\u001b[0m\u001b[0m_layers\u001b[0m\u001b[1;33m:\u001b[0m\u001b[1;33m\u001b[0m\u001b[1;33m\u001b[0m\u001b[0m\n\u001b[1;32m---> 40\u001b[1;33m             \u001b[0mX\u001b[0m \u001b[1;33m=\u001b[0m \u001b[0mlayer\u001b[0m\u001b[1;33m(\u001b[0m\u001b[0mX\u001b[0m\u001b[1;33m)\u001b[0m\u001b[1;33m\u001b[0m\u001b[1;33m\u001b[0m\u001b[0m\n\u001b[0m\u001b[0;32m     41\u001b[0m         \u001b[1;32mreturn\u001b[0m \u001b[0mX\u001b[0m\u001b[1;33m\u001b[0m\u001b[1;33m\u001b[0m\u001b[0m\n\u001b[0;32m     42\u001b[0m \u001b[1;33m\u001b[0m\u001b[0m\n",
      "\u001b[1;32m~\\Anaconda3\\envs\\datasci\\lib\\site-packages\\thinc\\neural\\_classes\\model.py\u001b[0m in \u001b[0;36m__call__\u001b[1;34m(self, x)\u001b[0m\n\u001b[0;32m    165\u001b[0m             \u001b[0mMust\u001b[0m \u001b[0mmatch\u001b[0m \u001b[0mexpected\u001b[0m \u001b[0mshape\u001b[0m\u001b[1;33m\u001b[0m\u001b[1;33m\u001b[0m\u001b[0m\n\u001b[0;32m    166\u001b[0m         \"\"\"\n\u001b[1;32m--> 167\u001b[1;33m         \u001b[1;32mreturn\u001b[0m \u001b[0mself\u001b[0m\u001b[1;33m.\u001b[0m\u001b[0mpredict\u001b[0m\u001b[1;33m(\u001b[0m\u001b[0mx\u001b[0m\u001b[1;33m)\u001b[0m\u001b[1;33m\u001b[0m\u001b[1;33m\u001b[0m\u001b[0m\n\u001b[0m\u001b[0;32m    168\u001b[0m \u001b[1;33m\u001b[0m\u001b[0m\n\u001b[0;32m    169\u001b[0m     \u001b[1;32mdef\u001b[0m \u001b[0mpipe\u001b[0m\u001b[1;33m(\u001b[0m\u001b[0mself\u001b[0m\u001b[1;33m,\u001b[0m \u001b[0mstream\u001b[0m\u001b[1;33m,\u001b[0m \u001b[0mbatch_size\u001b[0m\u001b[1;33m=\u001b[0m\u001b[1;36m128\u001b[0m\u001b[1;33m)\u001b[0m\u001b[1;33m:\u001b[0m\u001b[1;33m\u001b[0m\u001b[1;33m\u001b[0m\u001b[0m\n",
      "\u001b[1;32m~\\Anaconda3\\envs\\datasci\\lib\\site-packages\\thinc\\api.py\u001b[0m in \u001b[0;36mpredict\u001b[1;34m(seqs_in)\u001b[0m\n\u001b[0;32m    308\u001b[0m     \u001b[1;32mdef\u001b[0m \u001b[0mpredict\u001b[0m\u001b[1;33m(\u001b[0m\u001b[0mseqs_in\u001b[0m\u001b[1;33m)\u001b[0m\u001b[1;33m:\u001b[0m\u001b[1;33m\u001b[0m\u001b[1;33m\u001b[0m\u001b[0m\n\u001b[0;32m    309\u001b[0m         \u001b[0mlengths\u001b[0m \u001b[1;33m=\u001b[0m \u001b[0mlayer\u001b[0m\u001b[1;33m.\u001b[0m\u001b[0mops\u001b[0m\u001b[1;33m.\u001b[0m\u001b[0masarray\u001b[0m\u001b[1;33m(\u001b[0m\u001b[1;33m[\u001b[0m\u001b[0mlen\u001b[0m\u001b[1;33m(\u001b[0m\u001b[0mseq\u001b[0m\u001b[1;33m)\u001b[0m \u001b[1;32mfor\u001b[0m \u001b[0mseq\u001b[0m \u001b[1;32min\u001b[0m \u001b[0mseqs_in\u001b[0m\u001b[1;33m]\u001b[0m\u001b[1;33m)\u001b[0m\u001b[1;33m\u001b[0m\u001b[1;33m\u001b[0m\u001b[0m\n\u001b[1;32m--> 310\u001b[1;33m         \u001b[0mX\u001b[0m \u001b[1;33m=\u001b[0m \u001b[0mlayer\u001b[0m\u001b[1;33m(\u001b[0m\u001b[0mlayer\u001b[0m\u001b[1;33m.\u001b[0m\u001b[0mops\u001b[0m\u001b[1;33m.\u001b[0m\u001b[0mflatten\u001b[0m\u001b[1;33m(\u001b[0m\u001b[0mseqs_in\u001b[0m\u001b[1;33m,\u001b[0m \u001b[0mpad\u001b[0m\u001b[1;33m=\u001b[0m\u001b[0mpad\u001b[0m\u001b[1;33m)\u001b[0m\u001b[1;33m)\u001b[0m\u001b[1;33m\u001b[0m\u001b[1;33m\u001b[0m\u001b[0m\n\u001b[0m\u001b[0;32m    311\u001b[0m         \u001b[1;32mreturn\u001b[0m \u001b[0mlayer\u001b[0m\u001b[1;33m.\u001b[0m\u001b[0mops\u001b[0m\u001b[1;33m.\u001b[0m\u001b[0munflatten\u001b[0m\u001b[1;33m(\u001b[0m\u001b[0mX\u001b[0m\u001b[1;33m,\u001b[0m \u001b[0mlengths\u001b[0m\u001b[1;33m,\u001b[0m \u001b[0mpad\u001b[0m\u001b[1;33m=\u001b[0m\u001b[0mpad\u001b[0m\u001b[1;33m)\u001b[0m\u001b[1;33m\u001b[0m\u001b[1;33m\u001b[0m\u001b[0m\n\u001b[0;32m    312\u001b[0m \u001b[1;33m\u001b[0m\u001b[0m\n",
      "\u001b[1;32m~\\Anaconda3\\envs\\datasci\\lib\\site-packages\\thinc\\neural\\_classes\\model.py\u001b[0m in \u001b[0;36m__call__\u001b[1;34m(self, x)\u001b[0m\n\u001b[0;32m    165\u001b[0m             \u001b[0mMust\u001b[0m \u001b[0mmatch\u001b[0m \u001b[0mexpected\u001b[0m \u001b[0mshape\u001b[0m\u001b[1;33m\u001b[0m\u001b[1;33m\u001b[0m\u001b[0m\n\u001b[0;32m    166\u001b[0m         \"\"\"\n\u001b[1;32m--> 167\u001b[1;33m         \u001b[1;32mreturn\u001b[0m \u001b[0mself\u001b[0m\u001b[1;33m.\u001b[0m\u001b[0mpredict\u001b[0m\u001b[1;33m(\u001b[0m\u001b[0mx\u001b[0m\u001b[1;33m)\u001b[0m\u001b[1;33m\u001b[0m\u001b[1;33m\u001b[0m\u001b[0m\n\u001b[0m\u001b[0;32m    168\u001b[0m \u001b[1;33m\u001b[0m\u001b[0m\n\u001b[0;32m    169\u001b[0m     \u001b[1;32mdef\u001b[0m \u001b[0mpipe\u001b[0m\u001b[1;33m(\u001b[0m\u001b[0mself\u001b[0m\u001b[1;33m,\u001b[0m \u001b[0mstream\u001b[0m\u001b[1;33m,\u001b[0m \u001b[0mbatch_size\u001b[0m\u001b[1;33m=\u001b[0m\u001b[1;36m128\u001b[0m\u001b[1;33m)\u001b[0m\u001b[1;33m:\u001b[0m\u001b[1;33m\u001b[0m\u001b[1;33m\u001b[0m\u001b[0m\n",
      "\u001b[1;32m~\\Anaconda3\\envs\\datasci\\lib\\site-packages\\thinc\\neural\\_classes\\feed_forward.py\u001b[0m in \u001b[0;36mpredict\u001b[1;34m(self, X)\u001b[0m\n\u001b[0;32m     38\u001b[0m     \u001b[1;32mdef\u001b[0m \u001b[0mpredict\u001b[0m\u001b[1;33m(\u001b[0m\u001b[0mself\u001b[0m\u001b[1;33m,\u001b[0m \u001b[0mX\u001b[0m\u001b[1;33m)\u001b[0m\u001b[1;33m:\u001b[0m\u001b[1;33m\u001b[0m\u001b[1;33m\u001b[0m\u001b[0m\n\u001b[0;32m     39\u001b[0m         \u001b[1;32mfor\u001b[0m \u001b[0mlayer\u001b[0m \u001b[1;32min\u001b[0m \u001b[0mself\u001b[0m\u001b[1;33m.\u001b[0m\u001b[0m_layers\u001b[0m\u001b[1;33m:\u001b[0m\u001b[1;33m\u001b[0m\u001b[1;33m\u001b[0m\u001b[0m\n\u001b[1;32m---> 40\u001b[1;33m             \u001b[0mX\u001b[0m \u001b[1;33m=\u001b[0m \u001b[0mlayer\u001b[0m\u001b[1;33m(\u001b[0m\u001b[0mX\u001b[0m\u001b[1;33m)\u001b[0m\u001b[1;33m\u001b[0m\u001b[1;33m\u001b[0m\u001b[0m\n\u001b[0m\u001b[0;32m     41\u001b[0m         \u001b[1;32mreturn\u001b[0m \u001b[0mX\u001b[0m\u001b[1;33m\u001b[0m\u001b[1;33m\u001b[0m\u001b[0m\n\u001b[0;32m     42\u001b[0m \u001b[1;33m\u001b[0m\u001b[0m\n",
      "\u001b[1;32m~\\Anaconda3\\envs\\datasci\\lib\\site-packages\\thinc\\neural\\_classes\\model.py\u001b[0m in \u001b[0;36m__call__\u001b[1;34m(self, x)\u001b[0m\n\u001b[0;32m    165\u001b[0m             \u001b[0mMust\u001b[0m \u001b[0mmatch\u001b[0m \u001b[0mexpected\u001b[0m \u001b[0mshape\u001b[0m\u001b[1;33m\u001b[0m\u001b[1;33m\u001b[0m\u001b[0m\n\u001b[0;32m    166\u001b[0m         \"\"\"\n\u001b[1;32m--> 167\u001b[1;33m         \u001b[1;32mreturn\u001b[0m \u001b[0mself\u001b[0m\u001b[1;33m.\u001b[0m\u001b[0mpredict\u001b[0m\u001b[1;33m(\u001b[0m\u001b[0mx\u001b[0m\u001b[1;33m)\u001b[0m\u001b[1;33m\u001b[0m\u001b[1;33m\u001b[0m\u001b[0m\n\u001b[0m\u001b[0;32m    168\u001b[0m \u001b[1;33m\u001b[0m\u001b[0m\n\u001b[0;32m    169\u001b[0m     \u001b[1;32mdef\u001b[0m \u001b[0mpipe\u001b[0m\u001b[1;33m(\u001b[0m\u001b[0mself\u001b[0m\u001b[1;33m,\u001b[0m \u001b[0mstream\u001b[0m\u001b[1;33m,\u001b[0m \u001b[0mbatch_size\u001b[0m\u001b[1;33m=\u001b[0m\u001b[1;36m128\u001b[0m\u001b[1;33m)\u001b[0m\u001b[1;33m:\u001b[0m\u001b[1;33m\u001b[0m\u001b[1;33m\u001b[0m\u001b[0m\n",
      "\u001b[1;32m~\\Anaconda3\\envs\\datasci\\lib\\site-packages\\thinc\\neural\\_classes\\model.py\u001b[0m in \u001b[0;36mpredict\u001b[1;34m(self, X)\u001b[0m\n\u001b[0;32m    129\u001b[0m \u001b[1;33m\u001b[0m\u001b[0m\n\u001b[0;32m    130\u001b[0m     \u001b[1;32mdef\u001b[0m \u001b[0mpredict\u001b[0m\u001b[1;33m(\u001b[0m\u001b[0mself\u001b[0m\u001b[1;33m,\u001b[0m \u001b[0mX\u001b[0m\u001b[1;33m)\u001b[0m\u001b[1;33m:\u001b[0m\u001b[1;33m\u001b[0m\u001b[1;33m\u001b[0m\u001b[0m\n\u001b[1;32m--> 131\u001b[1;33m         \u001b[0my\u001b[0m\u001b[1;33m,\u001b[0m \u001b[0m_\u001b[0m \u001b[1;33m=\u001b[0m \u001b[0mself\u001b[0m\u001b[1;33m.\u001b[0m\u001b[0mbegin_update\u001b[0m\u001b[1;33m(\u001b[0m\u001b[0mX\u001b[0m\u001b[1;33m,\u001b[0m \u001b[0mdrop\u001b[0m\u001b[1;33m=\u001b[0m\u001b[1;32mNone\u001b[0m\u001b[1;33m)\u001b[0m\u001b[1;33m\u001b[0m\u001b[1;33m\u001b[0m\u001b[0m\n\u001b[0m\u001b[0;32m    132\u001b[0m         \u001b[1;32mreturn\u001b[0m \u001b[0my\u001b[0m\u001b[1;33m\u001b[0m\u001b[1;33m\u001b[0m\u001b[0m\n\u001b[0;32m    133\u001b[0m \u001b[1;33m\u001b[0m\u001b[0m\n",
      "\u001b[1;32m~\\Anaconda3\\envs\\datasci\\lib\\site-packages\\thinc\\api.py\u001b[0m in \u001b[0;36muniqued_fwd\u001b[1;34m(X, drop)\u001b[0m\n\u001b[0;32m    373\u001b[0m         \u001b[1;32mif\u001b[0m \u001b[1;32mnot\u001b[0m \u001b[0misinstance\u001b[0m\u001b[1;33m(\u001b[0m\u001b[0mkeys\u001b[0m\u001b[1;33m,\u001b[0m \u001b[0mnumpy\u001b[0m\u001b[1;33m.\u001b[0m\u001b[0mndarray\u001b[0m\u001b[1;33m)\u001b[0m\u001b[1;33m:\u001b[0m\u001b[1;33m\u001b[0m\u001b[1;33m\u001b[0m\u001b[0m\n\u001b[0;32m    374\u001b[0m             \u001b[0mkeys\u001b[0m \u001b[1;33m=\u001b[0m \u001b[0mkeys\u001b[0m\u001b[1;33m.\u001b[0m\u001b[0mget\u001b[0m\u001b[1;33m(\u001b[0m\u001b[1;33m)\u001b[0m\u001b[1;33m\u001b[0m\u001b[1;33m\u001b[0m\u001b[0m\n\u001b[1;32m--> 375\u001b[1;33m         uniq_keys, ind, inv, counts = numpy.unique(\n\u001b[0m\u001b[0;32m    376\u001b[0m             \u001b[0mkeys\u001b[0m\u001b[1;33m,\u001b[0m \u001b[0mreturn_index\u001b[0m\u001b[1;33m=\u001b[0m\u001b[1;32mTrue\u001b[0m\u001b[1;33m,\u001b[0m \u001b[0mreturn_inverse\u001b[0m\u001b[1;33m=\u001b[0m\u001b[1;32mTrue\u001b[0m\u001b[1;33m,\u001b[0m \u001b[0mreturn_counts\u001b[0m\u001b[1;33m=\u001b[0m\u001b[1;32mTrue\u001b[0m\u001b[1;33m\u001b[0m\u001b[1;33m\u001b[0m\u001b[0m\n\u001b[0;32m    377\u001b[0m         )\n",
      "\u001b[1;32m<__array_function__ internals>\u001b[0m in \u001b[0;36munique\u001b[1;34m(*args, **kwargs)\u001b[0m\n",
      "\u001b[1;32m~\\Anaconda3\\envs\\datasci\\lib\\site-packages\\numpy\\lib\\arraysetops.py\u001b[0m in \u001b[0;36munique\u001b[1;34m(ar, return_index, return_inverse, return_counts, axis)\u001b[0m\n\u001b[0;32m    260\u001b[0m     \u001b[0mar\u001b[0m \u001b[1;33m=\u001b[0m \u001b[0mnp\u001b[0m\u001b[1;33m.\u001b[0m\u001b[0masanyarray\u001b[0m\u001b[1;33m(\u001b[0m\u001b[0mar\u001b[0m\u001b[1;33m)\u001b[0m\u001b[1;33m\u001b[0m\u001b[1;33m\u001b[0m\u001b[0m\n\u001b[0;32m    261\u001b[0m     \u001b[1;32mif\u001b[0m \u001b[0maxis\u001b[0m \u001b[1;32mis\u001b[0m \u001b[1;32mNone\u001b[0m\u001b[1;33m:\u001b[0m\u001b[1;33m\u001b[0m\u001b[1;33m\u001b[0m\u001b[0m\n\u001b[1;32m--> 262\u001b[1;33m         \u001b[0mret\u001b[0m \u001b[1;33m=\u001b[0m \u001b[0m_unique1d\u001b[0m\u001b[1;33m(\u001b[0m\u001b[0mar\u001b[0m\u001b[1;33m,\u001b[0m \u001b[0mreturn_index\u001b[0m\u001b[1;33m,\u001b[0m \u001b[0mreturn_inverse\u001b[0m\u001b[1;33m,\u001b[0m \u001b[0mreturn_counts\u001b[0m\u001b[1;33m)\u001b[0m\u001b[1;33m\u001b[0m\u001b[1;33m\u001b[0m\u001b[0m\n\u001b[0m\u001b[0;32m    263\u001b[0m         \u001b[1;32mreturn\u001b[0m \u001b[0m_unpack_tuple\u001b[0m\u001b[1;33m(\u001b[0m\u001b[0mret\u001b[0m\u001b[1;33m)\u001b[0m\u001b[1;33m\u001b[0m\u001b[1;33m\u001b[0m\u001b[0m\n\u001b[0;32m    264\u001b[0m \u001b[1;33m\u001b[0m\u001b[0m\n",
      "\u001b[1;32m~\\Anaconda3\\envs\\datasci\\lib\\site-packages\\numpy\\lib\\arraysetops.py\u001b[0m in \u001b[0;36m_unique1d\u001b[1;34m(ar, return_index, return_inverse, return_counts)\u001b[0m\n\u001b[0;32m    318\u001b[0m \u001b[1;33m\u001b[0m\u001b[0m\n\u001b[0;32m    319\u001b[0m     \u001b[1;32mif\u001b[0m \u001b[0moptional_indices\u001b[0m\u001b[1;33m:\u001b[0m\u001b[1;33m\u001b[0m\u001b[1;33m\u001b[0m\u001b[0m\n\u001b[1;32m--> 320\u001b[1;33m         \u001b[0mperm\u001b[0m \u001b[1;33m=\u001b[0m \u001b[0mar\u001b[0m\u001b[1;33m.\u001b[0m\u001b[0margsort\u001b[0m\u001b[1;33m(\u001b[0m\u001b[0mkind\u001b[0m\u001b[1;33m=\u001b[0m\u001b[1;34m'mergesort'\u001b[0m \u001b[1;32mif\u001b[0m \u001b[0mreturn_index\u001b[0m \u001b[1;32melse\u001b[0m \u001b[1;34m'quicksort'\u001b[0m\u001b[1;33m)\u001b[0m\u001b[1;33m\u001b[0m\u001b[1;33m\u001b[0m\u001b[0m\n\u001b[0m\u001b[0;32m    321\u001b[0m         \u001b[0maux\u001b[0m \u001b[1;33m=\u001b[0m \u001b[0mar\u001b[0m\u001b[1;33m[\u001b[0m\u001b[0mperm\u001b[0m\u001b[1;33m]\u001b[0m\u001b[1;33m\u001b[0m\u001b[1;33m\u001b[0m\u001b[0m\n\u001b[0;32m    322\u001b[0m     \u001b[1;32melse\u001b[0m\u001b[1;33m:\u001b[0m\u001b[1;33m\u001b[0m\u001b[1;33m\u001b[0m\u001b[0m\n",
      "\u001b[1;31mKeyboardInterrupt\u001b[0m: "
     ]
    }
   ],
   "source": [
    "import pandas as pd\n",
    "import swifter\n",
    "\n",
    "ng_train_df = pd.DataFrame({'text': newsgroups_train['data'], 'label': newsgroups_train['target']})\n",
    "ng_train_df['text'] = ng_train_df['text'].swifter.apply(clean_text_spacy)\n",
    "\n",
    "tfidf_vectorizer = TfidfVectorizer(min_df=10, max_df=0.9)\n",
    "ng_train_tfidf = tfidf_vectorizer.fit_transform(ng_train_df['text'])"
   ]
  },
  {
   "cell_type": "markdown",
   "id": "d14bd68d",
   "metadata": {},
   "source": [
    "# Basic text analysis"
   ]
  },
  {
   "cell_type": "code",
   "execution_count": 48,
   "id": "ca1bb62b",
   "metadata": {},
   "outputs": [
    {
     "data": {
      "text/html": [
       "<style  type=\"text/css\" >\n",
       "</style><table id=\"T_77a5c_\" ><thead>    <tr>        <th class=\"col_heading level0 col0\" >Description</th>        <th class=\"col_heading level0 col1\" >Value</th>    </tr></thead><tbody>\n",
       "                <tr>\n",
       "                                <td id=\"T_77a5c_row0_col0\" class=\"data row0 col0\" >session_id</td>\n",
       "                        <td id=\"T_77a5c_row0_col1\" class=\"data row0 col1\" >691</td>\n",
       "            </tr>\n",
       "            <tr>\n",
       "                                <td id=\"T_77a5c_row1_col0\" class=\"data row1 col0\" >Documents</td>\n",
       "                        <td id=\"T_77a5c_row1_col1\" class=\"data row1 col1\" >11314</td>\n",
       "            </tr>\n",
       "            <tr>\n",
       "                                <td id=\"T_77a5c_row2_col0\" class=\"data row2 col0\" >Vocab Size</td>\n",
       "                        <td id=\"T_77a5c_row2_col1\" class=\"data row2 col1\" >40619</td>\n",
       "            </tr>\n",
       "            <tr>\n",
       "                                <td id=\"T_77a5c_row3_col0\" class=\"data row3 col0\" >Custom Stopwords</td>\n",
       "                        <td id=\"T_77a5c_row3_col1\" class=\"data row3 col1\" >True</td>\n",
       "            </tr>\n",
       "    </tbody></table>"
      ],
      "text/plain": [
       "<pandas.io.formats.style.Styler at 0x2215060f760>"
      ]
     },
     "metadata": {},
     "output_type": "display_data"
    },
    {
     "data": {
      "text/html": [
       "        <script type=\"text/javascript\">\n",
       "        window.PlotlyConfig = {MathJaxConfig: 'local'};\n",
       "        if (window.MathJax) {MathJax.Hub.Config({SVG: {font: \"STIX-Web\"}});}\n",
       "        if (typeof require !== 'undefined') {\n",
       "        require.undef(\"plotly\");\n",
       "        requirejs.config({\n",
       "            paths: {\n",
       "                'plotly': ['https://cdn.plot.ly/plotly-latest.min']\n",
       "            }\n",
       "        });\n",
       "        require(['plotly'], function(Plotly) {\n",
       "            window._Plotly = Plotly;\n",
       "        });\n",
       "        }\n",
       "        </script>\n",
       "        "
      ]
     },
     "metadata": {},
     "output_type": "display_data"
    },
    {
     "data": {
      "application/vnd.plotly.v1+json": {
       "config": {
        "linkText": "Export to plot.ly",
        "plotlyServerURL": "https://plot.ly",
        "showLink": true
       },
       "data": [
        {
         "marker": {
          "color": "rgba(255, 153, 51, 0.6)",
          "line": {
           "color": "rgba(255, 153, 51, 1.0)",
           "width": 1
          }
         },
         "name": "count",
         "orientation": "v",
         "text": "",
         "type": "bar",
         "x": [
          "would",
          "use",
          "say",
          "know",
          "people",
          "make",
          "think",
          "get",
          "go",
          "may",
          "time",
          "see",
          "also",
          "good",
          "well",
          "take",
          "could",
          "work",
          "want",
          "even",
          "come",
          "give",
          "thing",
          "look",
          "system",
          "year",
          "problem",
          "find",
          "way",
          "much",
          "many",
          "need",
          "try",
          "right",
          "file",
          "first",
          "call",
          "tell",
          "new",
          "article",
          "run",
          "point",
          "seem",
          "question",
          "program",
          "include",
          "really",
          "believe",
          "mean",
          "number",
          "still",
          "read",
          "case",
          "post",
          "help",
          "window",
          "must",
          "start",
          "drive",
          "let",
          "government",
          "bit",
          "follow",
          "back",
          "day",
          "long",
          "never",
          "part",
          "information",
          "car",
          "line",
          "state",
          "thank",
          "ask",
          "support",
          "key",
          "send",
          "sure",
          "put",
          "set",
          "fact",
          "game",
          "however",
          "keep",
          "reason",
          "group",
          "place",
          "hear",
          "show",
          "lot",
          "law",
          "change",
          "probably",
          "little",
          "bad",
          "true",
          "name",
          "happen",
          "course",
          "base"
         ],
         "y": [
          8544,
          8446,
          6538,
          5903,
          5667,
          5471,
          5256,
          5210,
          5192,
          4523,
          4437,
          4350,
          4157,
          3979,
          3831,
          3473,
          3335,
          3321,
          3169,
          3138,
          3113,
          3026,
          3007,
          2987,
          2934,
          2885,
          2875,
          2846,
          2814,
          2770,
          2761,
          2684,
          2650,
          2569,
          2552,
          2441,
          2417,
          2259,
          2241,
          2218,
          2207,
          2198,
          2193,
          2151,
          2054,
          2019,
          2007,
          2004,
          1924,
          1912,
          1867,
          1842,
          1793,
          1777,
          1735,
          1725,
          1708,
          1698,
          1616,
          1611,
          1609,
          1605,
          1598,
          1593,
          1588,
          1586,
          1585,
          1583,
          1567,
          1552,
          1522,
          1522,
          1478,
          1470,
          1469,
          1468,
          1457,
          1457,
          1447,
          1446,
          1428,
          1417,
          1392,
          1387,
          1383,
          1347,
          1345,
          1340,
          1339,
          1335,
          1333,
          1314,
          1312,
          1309,
          1294,
          1288,
          1286,
          1284,
          1273,
          1270
         ]
        }
       ],
       "layout": {
        "legend": {
         "bgcolor": "#F5F6F9",
         "font": {
          "color": "#4D5663"
         }
        },
        "paper_bgcolor": "#F5F6F9",
        "plot_bgcolor": "#F5F6F9",
        "template": {
         "data": {
          "bar": [
           {
            "error_x": {
             "color": "#2a3f5f"
            },
            "error_y": {
             "color": "#2a3f5f"
            },
            "marker": {
             "line": {
              "color": "#E5ECF6",
              "width": 0.5
             }
            },
            "type": "bar"
           }
          ],
          "barpolar": [
           {
            "marker": {
             "line": {
              "color": "#E5ECF6",
              "width": 0.5
             }
            },
            "type": "barpolar"
           }
          ],
          "carpet": [
           {
            "aaxis": {
             "endlinecolor": "#2a3f5f",
             "gridcolor": "white",
             "linecolor": "white",
             "minorgridcolor": "white",
             "startlinecolor": "#2a3f5f"
            },
            "baxis": {
             "endlinecolor": "#2a3f5f",
             "gridcolor": "white",
             "linecolor": "white",
             "minorgridcolor": "white",
             "startlinecolor": "#2a3f5f"
            },
            "type": "carpet"
           }
          ],
          "choropleth": [
           {
            "colorbar": {
             "outlinewidth": 0,
             "ticks": ""
            },
            "type": "choropleth"
           }
          ],
          "contour": [
           {
            "colorbar": {
             "outlinewidth": 0,
             "ticks": ""
            },
            "colorscale": [
             [
              0,
              "#0d0887"
             ],
             [
              0.1111111111111111,
              "#46039f"
             ],
             [
              0.2222222222222222,
              "#7201a8"
             ],
             [
              0.3333333333333333,
              "#9c179e"
             ],
             [
              0.4444444444444444,
              "#bd3786"
             ],
             [
              0.5555555555555556,
              "#d8576b"
             ],
             [
              0.6666666666666666,
              "#ed7953"
             ],
             [
              0.7777777777777778,
              "#fb9f3a"
             ],
             [
              0.8888888888888888,
              "#fdca26"
             ],
             [
              1,
              "#f0f921"
             ]
            ],
            "type": "contour"
           }
          ],
          "contourcarpet": [
           {
            "colorbar": {
             "outlinewidth": 0,
             "ticks": ""
            },
            "type": "contourcarpet"
           }
          ],
          "heatmap": [
           {
            "colorbar": {
             "outlinewidth": 0,
             "ticks": ""
            },
            "colorscale": [
             [
              0,
              "#0d0887"
             ],
             [
              0.1111111111111111,
              "#46039f"
             ],
             [
              0.2222222222222222,
              "#7201a8"
             ],
             [
              0.3333333333333333,
              "#9c179e"
             ],
             [
              0.4444444444444444,
              "#bd3786"
             ],
             [
              0.5555555555555556,
              "#d8576b"
             ],
             [
              0.6666666666666666,
              "#ed7953"
             ],
             [
              0.7777777777777778,
              "#fb9f3a"
             ],
             [
              0.8888888888888888,
              "#fdca26"
             ],
             [
              1,
              "#f0f921"
             ]
            ],
            "type": "heatmap"
           }
          ],
          "heatmapgl": [
           {
            "colorbar": {
             "outlinewidth": 0,
             "ticks": ""
            },
            "colorscale": [
             [
              0,
              "#0d0887"
             ],
             [
              0.1111111111111111,
              "#46039f"
             ],
             [
              0.2222222222222222,
              "#7201a8"
             ],
             [
              0.3333333333333333,
              "#9c179e"
             ],
             [
              0.4444444444444444,
              "#bd3786"
             ],
             [
              0.5555555555555556,
              "#d8576b"
             ],
             [
              0.6666666666666666,
              "#ed7953"
             ],
             [
              0.7777777777777778,
              "#fb9f3a"
             ],
             [
              0.8888888888888888,
              "#fdca26"
             ],
             [
              1,
              "#f0f921"
             ]
            ],
            "type": "heatmapgl"
           }
          ],
          "histogram": [
           {
            "marker": {
             "colorbar": {
              "outlinewidth": 0,
              "ticks": ""
             }
            },
            "type": "histogram"
           }
          ],
          "histogram2d": [
           {
            "colorbar": {
             "outlinewidth": 0,
             "ticks": ""
            },
            "colorscale": [
             [
              0,
              "#0d0887"
             ],
             [
              0.1111111111111111,
              "#46039f"
             ],
             [
              0.2222222222222222,
              "#7201a8"
             ],
             [
              0.3333333333333333,
              "#9c179e"
             ],
             [
              0.4444444444444444,
              "#bd3786"
             ],
             [
              0.5555555555555556,
              "#d8576b"
             ],
             [
              0.6666666666666666,
              "#ed7953"
             ],
             [
              0.7777777777777778,
              "#fb9f3a"
             ],
             [
              0.8888888888888888,
              "#fdca26"
             ],
             [
              1,
              "#f0f921"
             ]
            ],
            "type": "histogram2d"
           }
          ],
          "histogram2dcontour": [
           {
            "colorbar": {
             "outlinewidth": 0,
             "ticks": ""
            },
            "colorscale": [
             [
              0,
              "#0d0887"
             ],
             [
              0.1111111111111111,
              "#46039f"
             ],
             [
              0.2222222222222222,
              "#7201a8"
             ],
             [
              0.3333333333333333,
              "#9c179e"
             ],
             [
              0.4444444444444444,
              "#bd3786"
             ],
             [
              0.5555555555555556,
              "#d8576b"
             ],
             [
              0.6666666666666666,
              "#ed7953"
             ],
             [
              0.7777777777777778,
              "#fb9f3a"
             ],
             [
              0.8888888888888888,
              "#fdca26"
             ],
             [
              1,
              "#f0f921"
             ]
            ],
            "type": "histogram2dcontour"
           }
          ],
          "mesh3d": [
           {
            "colorbar": {
             "outlinewidth": 0,
             "ticks": ""
            },
            "type": "mesh3d"
           }
          ],
          "parcoords": [
           {
            "line": {
             "colorbar": {
              "outlinewidth": 0,
              "ticks": ""
             }
            },
            "type": "parcoords"
           }
          ],
          "pie": [
           {
            "automargin": true,
            "type": "pie"
           }
          ],
          "scatter": [
           {
            "marker": {
             "colorbar": {
              "outlinewidth": 0,
              "ticks": ""
             }
            },
            "type": "scatter"
           }
          ],
          "scatter3d": [
           {
            "line": {
             "colorbar": {
              "outlinewidth": 0,
              "ticks": ""
             }
            },
            "marker": {
             "colorbar": {
              "outlinewidth": 0,
              "ticks": ""
             }
            },
            "type": "scatter3d"
           }
          ],
          "scattercarpet": [
           {
            "marker": {
             "colorbar": {
              "outlinewidth": 0,
              "ticks": ""
             }
            },
            "type": "scattercarpet"
           }
          ],
          "scattergeo": [
           {
            "marker": {
             "colorbar": {
              "outlinewidth": 0,
              "ticks": ""
             }
            },
            "type": "scattergeo"
           }
          ],
          "scattergl": [
           {
            "marker": {
             "colorbar": {
              "outlinewidth": 0,
              "ticks": ""
             }
            },
            "type": "scattergl"
           }
          ],
          "scattermapbox": [
           {
            "marker": {
             "colorbar": {
              "outlinewidth": 0,
              "ticks": ""
             }
            },
            "type": "scattermapbox"
           }
          ],
          "scatterpolar": [
           {
            "marker": {
             "colorbar": {
              "outlinewidth": 0,
              "ticks": ""
             }
            },
            "type": "scatterpolar"
           }
          ],
          "scatterpolargl": [
           {
            "marker": {
             "colorbar": {
              "outlinewidth": 0,
              "ticks": ""
             }
            },
            "type": "scatterpolargl"
           }
          ],
          "scatterternary": [
           {
            "marker": {
             "colorbar": {
              "outlinewidth": 0,
              "ticks": ""
             }
            },
            "type": "scatterternary"
           }
          ],
          "surface": [
           {
            "colorbar": {
             "outlinewidth": 0,
             "ticks": ""
            },
            "colorscale": [
             [
              0,
              "#0d0887"
             ],
             [
              0.1111111111111111,
              "#46039f"
             ],
             [
              0.2222222222222222,
              "#7201a8"
             ],
             [
              0.3333333333333333,
              "#9c179e"
             ],
             [
              0.4444444444444444,
              "#bd3786"
             ],
             [
              0.5555555555555556,
              "#d8576b"
             ],
             [
              0.6666666666666666,
              "#ed7953"
             ],
             [
              0.7777777777777778,
              "#fb9f3a"
             ],
             [
              0.8888888888888888,
              "#fdca26"
             ],
             [
              1,
              "#f0f921"
             ]
            ],
            "type": "surface"
           }
          ],
          "table": [
           {
            "cells": {
             "fill": {
              "color": "#EBF0F8"
             },
             "line": {
              "color": "white"
             }
            },
            "header": {
             "fill": {
              "color": "#C8D4E3"
             },
             "line": {
              "color": "white"
             }
            },
            "type": "table"
           }
          ]
         },
         "layout": {
          "annotationdefaults": {
           "arrowcolor": "#2a3f5f",
           "arrowhead": 0,
           "arrowwidth": 1
          },
          "autotypenumbers": "strict",
          "coloraxis": {
           "colorbar": {
            "outlinewidth": 0,
            "ticks": ""
           }
          },
          "colorscale": {
           "diverging": [
            [
             0,
             "#8e0152"
            ],
            [
             0.1,
             "#c51b7d"
            ],
            [
             0.2,
             "#de77ae"
            ],
            [
             0.3,
             "#f1b6da"
            ],
            [
             0.4,
             "#fde0ef"
            ],
            [
             0.5,
             "#f7f7f7"
            ],
            [
             0.6,
             "#e6f5d0"
            ],
            [
             0.7,
             "#b8e186"
            ],
            [
             0.8,
             "#7fbc41"
            ],
            [
             0.9,
             "#4d9221"
            ],
            [
             1,
             "#276419"
            ]
           ],
           "sequential": [
            [
             0,
             "#0d0887"
            ],
            [
             0.1111111111111111,
             "#46039f"
            ],
            [
             0.2222222222222222,
             "#7201a8"
            ],
            [
             0.3333333333333333,
             "#9c179e"
            ],
            [
             0.4444444444444444,
             "#bd3786"
            ],
            [
             0.5555555555555556,
             "#d8576b"
            ],
            [
             0.6666666666666666,
             "#ed7953"
            ],
            [
             0.7777777777777778,
             "#fb9f3a"
            ],
            [
             0.8888888888888888,
             "#fdca26"
            ],
            [
             1,
             "#f0f921"
            ]
           ],
           "sequentialminus": [
            [
             0,
             "#0d0887"
            ],
            [
             0.1111111111111111,
             "#46039f"
            ],
            [
             0.2222222222222222,
             "#7201a8"
            ],
            [
             0.3333333333333333,
             "#9c179e"
            ],
            [
             0.4444444444444444,
             "#bd3786"
            ],
            [
             0.5555555555555556,
             "#d8576b"
            ],
            [
             0.6666666666666666,
             "#ed7953"
            ],
            [
             0.7777777777777778,
             "#fb9f3a"
            ],
            [
             0.8888888888888888,
             "#fdca26"
            ],
            [
             1,
             "#f0f921"
            ]
           ]
          },
          "colorway": [
           "#636efa",
           "#EF553B",
           "#00cc96",
           "#ab63fa",
           "#FFA15A",
           "#19d3f3",
           "#FF6692",
           "#B6E880",
           "#FF97FF",
           "#FECB52"
          ],
          "font": {
           "color": "#2a3f5f"
          },
          "geo": {
           "bgcolor": "white",
           "lakecolor": "white",
           "landcolor": "#E5ECF6",
           "showlakes": true,
           "showland": true,
           "subunitcolor": "white"
          },
          "hoverlabel": {
           "align": "left"
          },
          "hovermode": "closest",
          "mapbox": {
           "style": "light"
          },
          "paper_bgcolor": "white",
          "plot_bgcolor": "#E5ECF6",
          "polar": {
           "angularaxis": {
            "gridcolor": "white",
            "linecolor": "white",
            "ticks": ""
           },
           "bgcolor": "#E5ECF6",
           "radialaxis": {
            "gridcolor": "white",
            "linecolor": "white",
            "ticks": ""
           }
          },
          "scene": {
           "xaxis": {
            "backgroundcolor": "#E5ECF6",
            "gridcolor": "white",
            "gridwidth": 2,
            "linecolor": "white",
            "showbackground": true,
            "ticks": "",
            "zerolinecolor": "white"
           },
           "yaxis": {
            "backgroundcolor": "#E5ECF6",
            "gridcolor": "white",
            "gridwidth": 2,
            "linecolor": "white",
            "showbackground": true,
            "ticks": "",
            "zerolinecolor": "white"
           },
           "zaxis": {
            "backgroundcolor": "#E5ECF6",
            "gridcolor": "white",
            "gridwidth": 2,
            "linecolor": "white",
            "showbackground": true,
            "ticks": "",
            "zerolinecolor": "white"
           }
          },
          "shapedefaults": {
           "line": {
            "color": "#2a3f5f"
           }
          },
          "ternary": {
           "aaxis": {
            "gridcolor": "white",
            "linecolor": "white",
            "ticks": ""
           },
           "baxis": {
            "gridcolor": "white",
            "linecolor": "white",
            "ticks": ""
           },
           "bgcolor": "#E5ECF6",
           "caxis": {
            "gridcolor": "white",
            "linecolor": "white",
            "ticks": ""
           }
          },
          "title": {
           "x": 0.05
          },
          "xaxis": {
           "automargin": true,
           "gridcolor": "white",
           "linecolor": "white",
           "ticks": "",
           "title": {
            "standoff": 15
           },
           "zerolinecolor": "white",
           "zerolinewidth": 2
          },
          "yaxis": {
           "automargin": true,
           "gridcolor": "white",
           "linecolor": "white",
           "ticks": "",
           "title": {
            "standoff": 15
           },
           "zerolinecolor": "white",
           "zerolinewidth": 2
          }
         }
        },
        "title": {
         "font": {
          "color": "#4D5663"
         },
         "text": "Top 100 words after removing stop words"
        },
        "xaxis": {
         "gridcolor": "#E1E5ED",
         "linecolor": "black",
         "showgrid": true,
         "tickfont": {
          "color": "#4D5663"
         },
         "title": {
          "font": {
           "color": "#4D5663"
          },
          "text": ""
         },
         "zerolinecolor": "#E1E5ED"
        },
        "yaxis": {
         "gridcolor": "#E1E5ED",
         "linecolor": "black",
         "showgrid": true,
         "tickfont": {
          "color": "#4D5663"
         },
         "title": {
          "font": {
           "color": "#4D5663"
          },
          "text": "Count"
         },
         "zerolinecolor": "#E1E5ED"
        }
       }
      },
      "text/html": [
       "<div>                            <div id=\"3d5c3eb3-f6a8-4890-a386-6ffb872f8adc\" class=\"plotly-graph-div\" style=\"height:525px; width:100%;\"></div>            <script type=\"text/javascript\">                require([\"plotly\"], function(Plotly) {                    window.PLOTLYENV=window.PLOTLYENV || {};\n",
       "                    window.PLOTLYENV.BASE_URL='https://plot.ly';                                    if (document.getElementById(\"3d5c3eb3-f6a8-4890-a386-6ffb872f8adc\")) {                    Plotly.newPlot(                        \"3d5c3eb3-f6a8-4890-a386-6ffb872f8adc\",                        [{\"marker\": {\"color\": \"rgba(255, 153, 51, 0.6)\", \"line\": {\"color\": \"rgba(255, 153, 51, 1.0)\", \"width\": 1}}, \"name\": \"count\", \"orientation\": \"v\", \"text\": \"\", \"type\": \"bar\", \"x\": [\"would\", \"use\", \"say\", \"know\", \"people\", \"make\", \"think\", \"get\", \"go\", \"may\", \"time\", \"see\", \"also\", \"good\", \"well\", \"take\", \"could\", \"work\", \"want\", \"even\", \"come\", \"give\", \"thing\", \"look\", \"system\", \"year\", \"problem\", \"find\", \"way\", \"much\", \"many\", \"need\", \"try\", \"right\", \"file\", \"first\", \"call\", \"tell\", \"new\", \"article\", \"run\", \"point\", \"seem\", \"question\", \"program\", \"include\", \"really\", \"believe\", \"mean\", \"number\", \"still\", \"read\", \"case\", \"post\", \"help\", \"window\", \"must\", \"start\", \"drive\", \"let\", \"government\", \"bit\", \"follow\", \"back\", \"day\", \"long\", \"never\", \"part\", \"information\", \"car\", \"line\", \"state\", \"thank\", \"ask\", \"support\", \"key\", \"send\", \"sure\", \"put\", \"set\", \"fact\", \"game\", \"however\", \"keep\", \"reason\", \"group\", \"place\", \"hear\", \"show\", \"lot\", \"law\", \"change\", \"probably\", \"little\", \"bad\", \"true\", \"name\", \"happen\", \"course\", \"base\"], \"y\": [8544, 8446, 6538, 5903, 5667, 5471, 5256, 5210, 5192, 4523, 4437, 4350, 4157, 3979, 3831, 3473, 3335, 3321, 3169, 3138, 3113, 3026, 3007, 2987, 2934, 2885, 2875, 2846, 2814, 2770, 2761, 2684, 2650, 2569, 2552, 2441, 2417, 2259, 2241, 2218, 2207, 2198, 2193, 2151, 2054, 2019, 2007, 2004, 1924, 1912, 1867, 1842, 1793, 1777, 1735, 1725, 1708, 1698, 1616, 1611, 1609, 1605, 1598, 1593, 1588, 1586, 1585, 1583, 1567, 1552, 1522, 1522, 1478, 1470, 1469, 1468, 1457, 1457, 1447, 1446, 1428, 1417, 1392, 1387, 1383, 1347, 1345, 1340, 1339, 1335, 1333, 1314, 1312, 1309, 1294, 1288, 1286, 1284, 1273, 1270]}],                        {\"legend\": {\"bgcolor\": \"#F5F6F9\", \"font\": {\"color\": \"#4D5663\"}}, \"paper_bgcolor\": \"#F5F6F9\", \"plot_bgcolor\": \"#F5F6F9\", \"template\": {\"data\": {\"bar\": [{\"error_x\": {\"color\": \"#2a3f5f\"}, \"error_y\": {\"color\": \"#2a3f5f\"}, \"marker\": {\"line\": {\"color\": \"#E5ECF6\", \"width\": 0.5}}, \"type\": \"bar\"}], \"barpolar\": [{\"marker\": {\"line\": {\"color\": \"#E5ECF6\", \"width\": 0.5}}, \"type\": \"barpolar\"}], \"carpet\": [{\"aaxis\": {\"endlinecolor\": \"#2a3f5f\", \"gridcolor\": \"white\", \"linecolor\": \"white\", \"minorgridcolor\": \"white\", \"startlinecolor\": \"#2a3f5f\"}, \"baxis\": {\"endlinecolor\": \"#2a3f5f\", \"gridcolor\": \"white\", \"linecolor\": \"white\", \"minorgridcolor\": \"white\", \"startlinecolor\": \"#2a3f5f\"}, \"type\": \"carpet\"}], \"choropleth\": [{\"colorbar\": {\"outlinewidth\": 0, \"ticks\": \"\"}, \"type\": \"choropleth\"}], \"contour\": [{\"colorbar\": {\"outlinewidth\": 0, \"ticks\": \"\"}, \"colorscale\": [[0.0, \"#0d0887\"], [0.1111111111111111, \"#46039f\"], [0.2222222222222222, \"#7201a8\"], [0.3333333333333333, \"#9c179e\"], [0.4444444444444444, \"#bd3786\"], [0.5555555555555556, \"#d8576b\"], [0.6666666666666666, \"#ed7953\"], [0.7777777777777778, \"#fb9f3a\"], [0.8888888888888888, \"#fdca26\"], [1.0, \"#f0f921\"]], \"type\": \"contour\"}], \"contourcarpet\": [{\"colorbar\": {\"outlinewidth\": 0, \"ticks\": \"\"}, \"type\": \"contourcarpet\"}], \"heatmap\": [{\"colorbar\": {\"outlinewidth\": 0, \"ticks\": \"\"}, \"colorscale\": [[0.0, \"#0d0887\"], [0.1111111111111111, \"#46039f\"], [0.2222222222222222, \"#7201a8\"], [0.3333333333333333, \"#9c179e\"], [0.4444444444444444, \"#bd3786\"], [0.5555555555555556, \"#d8576b\"], [0.6666666666666666, \"#ed7953\"], [0.7777777777777778, \"#fb9f3a\"], [0.8888888888888888, \"#fdca26\"], [1.0, \"#f0f921\"]], \"type\": \"heatmap\"}], \"heatmapgl\": [{\"colorbar\": {\"outlinewidth\": 0, \"ticks\": \"\"}, \"colorscale\": [[0.0, \"#0d0887\"], [0.1111111111111111, \"#46039f\"], [0.2222222222222222, \"#7201a8\"], [0.3333333333333333, \"#9c179e\"], [0.4444444444444444, \"#bd3786\"], [0.5555555555555556, \"#d8576b\"], [0.6666666666666666, \"#ed7953\"], [0.7777777777777778, \"#fb9f3a\"], [0.8888888888888888, \"#fdca26\"], [1.0, \"#f0f921\"]], \"type\": \"heatmapgl\"}], \"histogram\": [{\"marker\": {\"colorbar\": {\"outlinewidth\": 0, \"ticks\": \"\"}}, \"type\": \"histogram\"}], \"histogram2d\": [{\"colorbar\": {\"outlinewidth\": 0, \"ticks\": \"\"}, \"colorscale\": [[0.0, \"#0d0887\"], [0.1111111111111111, \"#46039f\"], [0.2222222222222222, \"#7201a8\"], [0.3333333333333333, \"#9c179e\"], [0.4444444444444444, \"#bd3786\"], [0.5555555555555556, \"#d8576b\"], [0.6666666666666666, \"#ed7953\"], [0.7777777777777778, \"#fb9f3a\"], [0.8888888888888888, \"#fdca26\"], [1.0, \"#f0f921\"]], \"type\": \"histogram2d\"}], \"histogram2dcontour\": [{\"colorbar\": {\"outlinewidth\": 0, \"ticks\": \"\"}, \"colorscale\": [[0.0, \"#0d0887\"], [0.1111111111111111, \"#46039f\"], [0.2222222222222222, \"#7201a8\"], [0.3333333333333333, \"#9c179e\"], [0.4444444444444444, \"#bd3786\"], [0.5555555555555556, \"#d8576b\"], [0.6666666666666666, \"#ed7953\"], [0.7777777777777778, \"#fb9f3a\"], [0.8888888888888888, \"#fdca26\"], [1.0, \"#f0f921\"]], \"type\": \"histogram2dcontour\"}], \"mesh3d\": [{\"colorbar\": {\"outlinewidth\": 0, \"ticks\": \"\"}, \"type\": \"mesh3d\"}], \"parcoords\": [{\"line\": {\"colorbar\": {\"outlinewidth\": 0, \"ticks\": \"\"}}, \"type\": \"parcoords\"}], \"pie\": [{\"automargin\": true, \"type\": \"pie\"}], \"scatter\": [{\"marker\": {\"colorbar\": {\"outlinewidth\": 0, \"ticks\": \"\"}}, \"type\": \"scatter\"}], \"scatter3d\": [{\"line\": {\"colorbar\": {\"outlinewidth\": 0, \"ticks\": \"\"}}, \"marker\": {\"colorbar\": {\"outlinewidth\": 0, \"ticks\": \"\"}}, \"type\": \"scatter3d\"}], \"scattercarpet\": [{\"marker\": {\"colorbar\": {\"outlinewidth\": 0, \"ticks\": \"\"}}, \"type\": \"scattercarpet\"}], \"scattergeo\": [{\"marker\": {\"colorbar\": {\"outlinewidth\": 0, \"ticks\": \"\"}}, \"type\": \"scattergeo\"}], \"scattergl\": [{\"marker\": {\"colorbar\": {\"outlinewidth\": 0, \"ticks\": \"\"}}, \"type\": \"scattergl\"}], \"scattermapbox\": [{\"marker\": {\"colorbar\": {\"outlinewidth\": 0, \"ticks\": \"\"}}, \"type\": \"scattermapbox\"}], \"scatterpolar\": [{\"marker\": {\"colorbar\": {\"outlinewidth\": 0, \"ticks\": \"\"}}, \"type\": \"scatterpolar\"}], \"scatterpolargl\": [{\"marker\": {\"colorbar\": {\"outlinewidth\": 0, \"ticks\": \"\"}}, \"type\": \"scatterpolargl\"}], \"scatterternary\": [{\"marker\": {\"colorbar\": {\"outlinewidth\": 0, \"ticks\": \"\"}}, \"type\": \"scatterternary\"}], \"surface\": [{\"colorbar\": {\"outlinewidth\": 0, \"ticks\": \"\"}, \"colorscale\": [[0.0, \"#0d0887\"], [0.1111111111111111, \"#46039f\"], [0.2222222222222222, \"#7201a8\"], [0.3333333333333333, \"#9c179e\"], [0.4444444444444444, \"#bd3786\"], [0.5555555555555556, \"#d8576b\"], [0.6666666666666666, \"#ed7953\"], [0.7777777777777778, \"#fb9f3a\"], [0.8888888888888888, \"#fdca26\"], [1.0, \"#f0f921\"]], \"type\": \"surface\"}], \"table\": [{\"cells\": {\"fill\": {\"color\": \"#EBF0F8\"}, \"line\": {\"color\": \"white\"}}, \"header\": {\"fill\": {\"color\": \"#C8D4E3\"}, \"line\": {\"color\": \"white\"}}, \"type\": \"table\"}]}, \"layout\": {\"annotationdefaults\": {\"arrowcolor\": \"#2a3f5f\", \"arrowhead\": 0, \"arrowwidth\": 1}, \"autotypenumbers\": \"strict\", \"coloraxis\": {\"colorbar\": {\"outlinewidth\": 0, \"ticks\": \"\"}}, \"colorscale\": {\"diverging\": [[0, \"#8e0152\"], [0.1, \"#c51b7d\"], [0.2, \"#de77ae\"], [0.3, \"#f1b6da\"], [0.4, \"#fde0ef\"], [0.5, \"#f7f7f7\"], [0.6, \"#e6f5d0\"], [0.7, \"#b8e186\"], [0.8, \"#7fbc41\"], [0.9, \"#4d9221\"], [1, \"#276419\"]], \"sequential\": [[0.0, \"#0d0887\"], [0.1111111111111111, \"#46039f\"], [0.2222222222222222, \"#7201a8\"], [0.3333333333333333, \"#9c179e\"], [0.4444444444444444, \"#bd3786\"], [0.5555555555555556, \"#d8576b\"], [0.6666666666666666, \"#ed7953\"], [0.7777777777777778, \"#fb9f3a\"], [0.8888888888888888, \"#fdca26\"], [1.0, \"#f0f921\"]], \"sequentialminus\": [[0.0, \"#0d0887\"], [0.1111111111111111, \"#46039f\"], [0.2222222222222222, \"#7201a8\"], [0.3333333333333333, \"#9c179e\"], [0.4444444444444444, \"#bd3786\"], [0.5555555555555556, \"#d8576b\"], [0.6666666666666666, \"#ed7953\"], [0.7777777777777778, \"#fb9f3a\"], [0.8888888888888888, \"#fdca26\"], [1.0, \"#f0f921\"]]}, \"colorway\": [\"#636efa\", \"#EF553B\", \"#00cc96\", \"#ab63fa\", \"#FFA15A\", \"#19d3f3\", \"#FF6692\", \"#B6E880\", \"#FF97FF\", \"#FECB52\"], \"font\": {\"color\": \"#2a3f5f\"}, \"geo\": {\"bgcolor\": \"white\", \"lakecolor\": \"white\", \"landcolor\": \"#E5ECF6\", \"showlakes\": true, \"showland\": true, \"subunitcolor\": \"white\"}, \"hoverlabel\": {\"align\": \"left\"}, \"hovermode\": \"closest\", \"mapbox\": {\"style\": \"light\"}, \"paper_bgcolor\": \"white\", \"plot_bgcolor\": \"#E5ECF6\", \"polar\": {\"angularaxis\": {\"gridcolor\": \"white\", \"linecolor\": \"white\", \"ticks\": \"\"}, \"bgcolor\": \"#E5ECF6\", \"radialaxis\": {\"gridcolor\": \"white\", \"linecolor\": \"white\", \"ticks\": \"\"}}, \"scene\": {\"xaxis\": {\"backgroundcolor\": \"#E5ECF6\", \"gridcolor\": \"white\", \"gridwidth\": 2, \"linecolor\": \"white\", \"showbackground\": true, \"ticks\": \"\", \"zerolinecolor\": \"white\"}, \"yaxis\": {\"backgroundcolor\": \"#E5ECF6\", \"gridcolor\": \"white\", \"gridwidth\": 2, \"linecolor\": \"white\", \"showbackground\": true, \"ticks\": \"\", \"zerolinecolor\": \"white\"}, \"zaxis\": {\"backgroundcolor\": \"#E5ECF6\", \"gridcolor\": \"white\", \"gridwidth\": 2, \"linecolor\": \"white\", \"showbackground\": true, \"ticks\": \"\", \"zerolinecolor\": \"white\"}}, \"shapedefaults\": {\"line\": {\"color\": \"#2a3f5f\"}}, \"ternary\": {\"aaxis\": {\"gridcolor\": \"white\", \"linecolor\": \"white\", \"ticks\": \"\"}, \"baxis\": {\"gridcolor\": \"white\", \"linecolor\": \"white\", \"ticks\": \"\"}, \"bgcolor\": \"#E5ECF6\", \"caxis\": {\"gridcolor\": \"white\", \"linecolor\": \"white\", \"ticks\": \"\"}}, \"title\": {\"x\": 0.05}, \"xaxis\": {\"automargin\": true, \"gridcolor\": \"white\", \"linecolor\": \"white\", \"ticks\": \"\", \"title\": {\"standoff\": 15}, \"zerolinecolor\": \"white\", \"zerolinewidth\": 2}, \"yaxis\": {\"automargin\": true, \"gridcolor\": \"white\", \"linecolor\": \"white\", \"ticks\": \"\", \"title\": {\"standoff\": 15}, \"zerolinecolor\": \"white\", \"zerolinewidth\": 2}}}, \"title\": {\"font\": {\"color\": \"#4D5663\"}, \"text\": \"Top 100 words after removing stop words\"}, \"xaxis\": {\"gridcolor\": \"#E1E5ED\", \"linecolor\": \"black\", \"showgrid\": true, \"tickfont\": {\"color\": \"#4D5663\"}, \"title\": {\"font\": {\"color\": \"#4D5663\"}, \"text\": \"\"}, \"zerolinecolor\": \"#E1E5ED\"}, \"yaxis\": {\"gridcolor\": \"#E1E5ED\", \"linecolor\": \"black\", \"showgrid\": true, \"tickfont\": {\"color\": \"#4D5663\"}, \"title\": {\"font\": {\"color\": \"#4D5663\"}, \"text\": \"Count\"}, \"zerolinecolor\": \"#E1E5ED\"}},                        {\"showLink\": true, \"linkText\": \"Export to plot.ly\", \"plotlyServerURL\": \"https://plot.ly\", \"responsive\": true}                    ).then(function(){\n",
       "                            \n",
       "var gd = document.getElementById('3d5c3eb3-f6a8-4890-a386-6ffb872f8adc');\n",
       "var x = new MutationObserver(function (mutations, observer) {{\n",
       "        var display = window.getComputedStyle(gd).display;\n",
       "        if (!display || display === 'none') {{\n",
       "            console.log([gd, 'removed!']);\n",
       "            Plotly.purge(gd);\n",
       "            observer.disconnect();\n",
       "        }}\n",
       "}});\n",
       "\n",
       "// Listen for the removal of the full notebook cells\n",
       "var notebookContainer = gd.closest('#notebook-container');\n",
       "if (notebookContainer) {{\n",
       "    x.observe(notebookContainer, {childList: true});\n",
       "}}\n",
       "\n",
       "// Listen for the clearing of the current output cell\n",
       "var outputEl = gd.closest('.output');\n",
       "if (outputEl) {{\n",
       "    x.observe(outputEl, {childList: true});\n",
       "}}\n",
       "\n",
       "                        })                };                });            </script>        </div>"
      ]
     },
     "metadata": {},
     "output_type": "display_data"
    }
   ],
   "source": [
    "from pycaret.nlp import setup, create_model, plot_model\n",
    "\n",
    "nlp_setup = setup(newsgroups_train['data'], custom_stopwords=['ax', 'edu', 'com', 'write'])\n",
    "plot_model(model=None, plot='frequency')"
   ]
  },
  {
   "cell_type": "code",
   "execution_count": 49,
   "id": "39a5ccad",
   "metadata": {},
   "outputs": [
    {
     "data": {
      "image/png": "[encoded data removed]",
      "text/plain": [
       "<Figure size 432x288 with 1 Axes>"
      ]
     },
     "metadata": {
      "needs_background": "light"
     },
     "output_type": "display_data"
    },
    {
     "data": {
      "text/plain": [
       "<AxesSubplot:xlabel='Samples', ylabel='Counts'>"
      ]
     },
     "execution_count": 49,
     "metadata": {},
     "output_type": "execute_result"
    }
   ],
   "source": [
    "from nltk import FreqDist\n",
    "\n",
    "fd = FreqDist(lemmatized_text.split())\n",
    "fd.plot(20)"
   ]
  },
  {
   "cell_type": "code",
   "execution_count": 50,
   "id": "2e54fa04",
   "metadata": {},
   "outputs": [
    {
     "data": {
      "text/plain": [
       "[('say', 3186),\n",
       " ('man', 1980),\n",
       " ('pierre', 1963),\n",
       " ('prince', 1931),\n",
       " ('look', 1603),\n",
       " ('come', 1576),\n",
       " ('know', 1573),\n",
       " ('go', 1365),\n",
       " ('natásha', 1211),\n",
       " ('andrew', 1141),\n",
       " ('think', 1121),\n",
       " ('face', 1085),\n",
       " ('time', 1083),\n",
       " ('ask', 987),\n",
       " ('see', 939),\n",
       " ('princess', 935),\n",
       " ('begin', 921),\n",
       " ('feel', 889),\n",
       " ('eye', 883),\n",
       " ('french', 881)]"
      ]
     },
     "execution_count": 50,
     "metadata": {},
     "output_type": "execute_result"
    }
   ],
   "source": [
    "fd.most_common(20)"
   ]
  },
  {
   "cell_type": "code",
   "execution_count": 51,
   "id": "39e88a22",
   "metadata": {},
   "outputs": [
    {
     "data": {
      "image/png": "[encoded data removed]",
      "text/plain": [
       "<Figure size 432x432 with 1 Axes>"
      ]
     },
     "metadata": {
      "needs_background": "light"
     },
     "output_type": "display_data"
    },
    {
     "data": {
      "text/plain": [
       "<AxesSubplot:xlabel='Samples', ylabel='Counts'>"
      ]
     },
     "execution_count": 51,
     "metadata": {},
     "output_type": "execute_result"
    }
   ],
   "source": [
    "import matplotlib.pyplot as plt\n",
    "from nltk import bigrams\n",
    "\n",
    "f = plt.figure(figsize=(6, 6))\n",
    "fd_bg = FreqDist(map(' '.join, bigrams(lemmatized_text.split())))\n",
    "fd_bg.plot(20)"
   ]
  },
  {
   "cell_type": "code",
   "execution_count": 52,
   "id": "888d7dcf",
   "metadata": {
    "scrolled": true
   },
   "outputs": [
    {
     "data": {
      "image/png": "[encoded data removed]",
      "text/plain": [
       "<Figure size 396x396 with 1 Axes>"
      ]
     },
     "metadata": {
      "needs_background": "light"
     },
     "output_type": "display_data"
    }
   ],
   "source": [
    "import matplotlib.pyplot as plt\n",
    "import numpy as np\n",
    "\n",
    "idx_to_word = {v: k for k, v in tfidf_vectorizer.vocabulary_.items()}\n",
    "\n",
    "num_words = 20\n",
    "tfidf_sum = np.asarray(ng_train_tfidf.sum(axis=0)).flatten()\n",
    "sorted_idx = tfidf_sum.argsort()[::-1]\n",
    "tfidf_sum = tfidf_sum[sorted_idx]\n",
    "\n",
    "f = plt.figure(figsize=(5.5, 5.5))\n",
    "xticks = range(num_words)\n",
    "plt.bar(xticks, tfidf_sum[:num_words])\n",
    "plt.xticks(xticks, [idx_to_word[i] for i in sorted_idx[:num_words]], rotation=90)\n",
    "plt.xlabel('word')\n",
    "plt.ylabel('TFIDF')\n",
    "plt.tight_layout()\n",
    "plt.savefig('B17030_18_03.png', dpi=300)"
   ]
  },
  {
   "cell_type": "code",
   "execution_count": 53,
   "id": "2e34f49d",
   "metadata": {},
   "outputs": [
    {
     "data": {
      "image/png": "[encoded data removed]",
      "text/plain": [
       "<Figure size 432x288 with 1 Axes>"
      ]
     },
     "metadata": {
      "needs_background": "light"
     },
     "output_type": "display_data"
    }
   ],
   "source": [
    "import seaborn as sns\n",
    "\n",
    "sns.histplot(ng_train_df['text'].apply(lambda x: len(x)))\n",
    "plt.xscale('log')"
   ]
  },
  {
   "cell_type": "code",
   "execution_count": 54,
   "id": "06e82970",
   "metadata": {},
   "outputs": [],
   "source": [
    "from sklearn.feature_extraction.text import CountVectorizer\n",
    "\n",
    "def get_top_grams(docs, n=2):\n",
    "    v = CountVectorizer(ngram_range=(n, n))\n",
    "    grams = v.fit_transform(docs)\n",
    "    gram_sum = np.array(np.sum(grams, axis=0)).flatten()\n",
    "    gram_dict = {i: v for v, i in v.vocabulary_.items()}\n",
    "    top_grams = gram_sum.argsort()[::-1]\n",
    "    \n",
    "    return [gram_dict[i] for i in top_grams], gram_sum[top_grams]"
   ]
  },
  {
   "cell_type": "markdown",
   "id": "a0dacc20",
   "metadata": {},
   "source": [
    "This version also prints out top ngrams."
   ]
  },
  {
   "cell_type": "code",
   "execution_count": 55,
   "id": "e3b1ac83",
   "metadata": {},
   "outputs": [],
   "source": [
    "from sklearn.feature_extraction.text import CountVectorizer\n",
    "\n",
    "def get_top_grams(docs, n=2, top=20, verbose=False):\n",
    "    v = CountVectorizer(ngram_range=(n, n))\n",
    "    grams = v.fit_transform(docs)\n",
    "    gram_sum = np.array(np.sum(grams, axis=0)).flatten()\n",
    "    gram_dict = {i: v for v, i in v.vocabulary_.items()}\n",
    "    top_grams = gram_sum.argsort()[::-1]\n",
    "    if verbose:\n",
    "        print(f'top {top} {n}-grams:\\n')\n",
    "        for i in top_grams[:top]:\n",
    "            print('\"' + gram_dict[i] + '\" shows up', gram_sum[i], 'times')\n",
    "        print('\\n')\n",
    "    \n",
    "    return [gram_dict[i] for i in top_grams], gram_sum[top_grams]"
   ]
  },
  {
   "cell_type": "code",
   "execution_count": 56,
   "id": "eb7e3c15",
   "metadata": {},
   "outputs": [],
   "source": [
    "ngrams, ngram_counts = {}, {}\n",
    "for n in [1, 2, 3]:\n",
    "    ngrams[n], ngram_counts[n] = get_top_grams([lemmatized_text], n=n)"
   ]
  },
  {
   "cell_type": "code",
   "execution_count": 57,
   "id": "9d0827f8",
   "metadata": {},
   "outputs": [],
   "source": [
    "from scipy.stats import zipf\n",
    "\n",
    "def make_zipf_plot(counts, tokens, a=1.15):\n",
    "    # inspired from here: https://finnaarupnielsen.wordpress.com/2013/10/22/zipf-plot-for-word-counts-in-brown-corpus/\n",
    "    ranks = np.arange(1, len(counts) + 1)\n",
    "    indices = np.argsort(-counts)\n",
    "    normalized_frequencies = counts[indices] / sum(counts)\n",
    "\n",
    "    f = plt.figure(figsize=(5.5, 5.5))\n",
    "    plt.loglog(ranks, normalized_frequencies, marker=\".\")\n",
    "    \n",
    "    plt.loglog(ranks, [z for z in zipf.pmf(ranks, a)])\n",
    "    \n",
    "    plt.title(\"Zipf Plot\")\n",
    "    plt.xlabel(\"Word frequency rank\")\n",
    "    plt.ylabel(\"Word frequency\")\n",
    "    \n",
    "    ax = plt.gca()\n",
    "    ax.set_aspect('equal')  # make the plot square\n",
    "    plt.grid(True)\n",
    "    \n",
    "    # add text labels\n",
    "    last_freq = None\n",
    "    for i in list(np.logspace(-0.5, np.log10(len(counts) - 1), 10).astype(int)):\n",
    "        dummy = plt.text(ranks[i], normalized_frequencies[i], \" \" + tokens[indices[i]], \n",
    "                         verticalalignment=\"bottom\",\n",
    "                         horizontalalignment=\"left\")\n",
    "    \n",
    "#     plt.tight_layout()\n",
    "#     plt.savefig('B17030_18_04.png', dpi=300)\n",
    "    \n",
    "    plt.show()"
   ]
  },
  {
   "cell_type": "code",
   "execution_count": 58,
   "id": "49a51782",
   "metadata": {},
   "outputs": [
    {
     "data": {
      "image/png": "[encoded data removed]",
      "text/plain": [
       "<Figure size 396x396 with 1 Axes>"
      ]
     },
     "metadata": {
      "needs_background": "light"
     },
     "output_type": "display_data"
    }
   ],
   "source": [
    "make_zipf_plot(ngram_counts[1], ngrams[1])"
   ]
  },
  {
   "cell_type": "code",
   "execution_count": 59,
   "id": "7f4fc54c",
   "metadata": {},
   "outputs": [
    {
     "data": {
      "image/png": "[encoded data removed]",
      "text/plain": [
       "<Figure size 396x396 with 1 Axes>"
      ]
     },
     "metadata": {
      "needs_background": "light"
     },
     "output_type": "display_data"
    }
   ],
   "source": [
    "make_zipf_plot(ngram_counts[2], ngrams[2], a=1.01)"
   ]
  },
  {
   "cell_type": "markdown",
   "id": "a9a50e1b",
   "metadata": {},
   "source": [
    "## Word collocations"
   ]
  },
  {
   "cell_type": "code",
   "execution_count": 60,
   "id": "e132a369",
   "metadata": {},
   "outputs": [
    {
     "data": {
      "text/plain": [
       "[('ab', 'ovo'),\n",
       " ('absorbed', 'querulousness'),\n",
       " ('academy', 'jotting'),\n",
       " ('achtung', 'nehmen'),\n",
       " ('agwee', 'evewythe'),\n",
       " ('ahahah', 'rrrr'),\n",
       " ('alliée', 'sincère'),\n",
       " ('alliés', 'détruite'),\n",
       " ('alphonse', 'kárlovich'),\n",
       " ('amber', 'mouthpiece')]"
      ]
     },
     "execution_count": 60,
     "metadata": {},
     "output_type": "execute_result"
    }
   ],
   "source": [
    "from nltk.collocations import BigramAssocMeasures, BigramCollocationFinder\n",
    "\n",
    "BigramCollocationFinder.from_words(lemmatized_text.split()).nbest(BigramAssocMeasures().pmi, 10)"
   ]
  },
  {
   "cell_type": "code",
   "execution_count": 61,
   "id": "d63d6166",
   "metadata": {},
   "outputs": [
    {
     "data": {
      "text/plain": [
       "[(('ab', 'ovo'), 17.872470483994736),\n",
       " (('absorbed', 'querulousness'), 17.872470483994736),\n",
       " (('academy', 'jotting'), 17.872470483994736),\n",
       " (('achtung', 'nehmen'), 17.872470483994736),\n",
       " (('agwee', 'evewythe'), 17.872470483994736),\n",
       " (('ahahah', 'rrrr'), 17.872470483994736),\n",
       " (('alliée', 'sincère'), 17.872470483994736),\n",
       " (('alliés', 'détruite'), 17.872470483994736),\n",
       " (('alphonse', 'kárlovich'), 17.872470483994736),\n",
       " (('amber', 'mouthpiece'), 17.872470483994736),\n",
       " (('amstetten', 'melk'), 17.872470483994736),\n",
       " (('armfeldts', 'bennigsens'), 17.872470483994736),\n",
       " (('arming', 'concentrating'), 17.872470483994736),\n",
       " (('ash', 'linstock'), 17.872470483994736),\n",
       " (('att', 'ention'), 17.872470483994736),\n",
       " (('aubert', 'chalmé'), 17.872470483994736),\n",
       " (('aussi', 'spirituelle'), 17.872470483994736),\n",
       " (('awistocwacy', 'pwovince'), 17.872470483994736),\n",
       " (('awl', 'soap'), 17.872470483994736),\n",
       " (('axes', 'chopper'), 17.872470483994736),\n",
       " (('axle', 'cogs'), 17.872470483994736),\n",
       " (('baltic', 'provinces'), 17.872470483994736),\n",
       " (('barclays', 'raévskis'), 17.872470483994736),\n",
       " (('bataillon', 'ont'), 17.872470483994736),\n",
       " (('battered', 'tin'), 17.872470483994736),\n",
       " (('beaux', 'yeux'), 17.872470483994736),\n",
       " (('bestial', 'fleeting'), 17.872470483994736),\n",
       " (('bettah', 'conscwiption'), 17.872470483994736),\n",
       " (('bezúbova', 'zakhárino'), 17.872470483994736),\n",
       " (('bidden', 'disrobe'), 17.872470483994736),\n",
       " (('bleach', 'eyeball'), 17.872470483994736),\n",
       " (('bonheur', 'serait'), 17.872470483994736),\n",
       " (('boss', 'zide'), 17.872470483994736),\n",
       " (('bronnítski', 'wlocki'), 17.872470483994736),\n",
       " (('bunch', 'ravel'), 17.872470483994736),\n",
       " (('bweed', 'wostóvs'), 17.872470483994736),\n",
       " (('bwing', 'wecwuit'), 17.872470483994736),\n",
       " (('cakelike', 'aroma'), 17.872470483994736),\n",
       " (('campo', 'formio'), 17.872470483994736),\n",
       " (('catcher', 'whereabout'), 17.872470483994736),\n",
       " (('causal', 'nexus'), 17.872470483994736),\n",
       " (('cellular', 'tissue'), 17.872470483994736),\n",
       " (('certains', 'droit'), 17.872470483994736),\n",
       " (('ces', 'pleur'), 17.872470483994736),\n",
       " (('cet', 'individu'), 17.872470483994736),\n",
       " (('chopper', 'ply'), 17.872470483994736),\n",
       " (('cloudless', 'northern'), 17.872470483994736),\n",
       " (('collector', 'alms'), 17.872470483994736),\n",
       " (('collegiate', 'assessor'), 17.872470483994736),\n",
       " (('confute', 'conclusive'), 17.872470483994736),\n",
       " (('connais', 'depuis'), 17.872470483994736),\n",
       " (('consoler', 'viens'), 17.872470483994736),\n",
       " (('consummate', 'coquette'), 17.872470483994736),\n",
       " (('contraire', 'reconnaissante'), 17.872470483994736),\n",
       " (('cooked', 'sewed'), 17.872470483994736),\n",
       " (('coral', 'ivory'), 17.872470483994736),\n",
       " (('couler', 'poisonous'), 17.872470483994736),\n",
       " (('countwy', 'honowably'), 17.872470483994736),\n",
       " (('cupful', 'mull'), 17.872470483994736),\n",
       " (('cushay', 'dormir'), 17.872470483994736),\n",
       " (('cutter', 'breaker'), 17.872470483994736),\n",
       " (('danish', 'chargé'), 17.872470483994736),\n",
       " (('danser', 'qu'), 17.872470483994736),\n",
       " (('das', 'soll'), 17.872470483994736),\n",
       " (('dato', 'guai'), 17.872470483994736),\n",
       " (('debonair', 'gallantry'), 17.872470483994736),\n",
       " (('depuis', 'longtemps'), 17.872470483994736),\n",
       " (('dere', 'neffer'), 17.872470483994736),\n",
       " (('diagonal', 'parallelogram'), 17.872470483994736),\n",
       " (('diderot', 'beaumarchais'), 17.872470483994736),\n",
       " (('dilly', 'dally'), 17.872470483994736),\n",
       " (('dio', 'mi'), 17.872470483994736),\n",
       " (('directness', 'appositeness'), 17.872470483994736),\n",
       " (('discordantly', 'arduously'), 17.872470483994736),\n",
       " (('donne', 'gare'), 17.872470483994736),\n",
       " (('douceur', 'secrète'), 17.872470483994736),\n",
       " (('duchénois', 'potier'), 17.872470483994736),\n",
       " (('dwown', 'gwief'), 17.872470483994736),\n",
       " (('ein', 'mann'), 17.872470483994736),\n",
       " (('elias', 'mitrofánych'), 17.872470483994736),\n",
       " (('emblem', 'cognizable'), 17.872470483994736),\n",
       " (('empia', 'wuine'), 17.872470483994736),\n",
       " (('enticingly', 'rhythmical'), 17.872470483994736),\n",
       " (('entitle', 'majesties'), 17.872470483994736),\n",
       " (('enwich', 'pwiest'), 17.872470483994736),\n",
       " (('equestrian', 'bracelet'), 17.872470483994736),\n",
       " (('ermólovs', 'plátovs'), 17.872470483994736),\n",
       " (('euer', 'hochgeboren'), 17.872470483994736),\n",
       " (('evewy', 'bwing'), 17.872470483994736),\n",
       " (('evewythe', 'wotten'), 17.872470483994736),\n",
       " (('exhort', 'goeth'), 17.872470483994736),\n",
       " (('exultation', 'hosanna'), 17.872470483994736),\n",
       " (('fiew', 'wiz'), 17.872470483994736),\n",
       " (('flamme', 'éclairaient'), 17.872470483994736),\n",
       " (('floppy', 'brim'), 17.872470483994736),\n",
       " (('fluid', 'volatile'), 17.872470483994736),\n",
       " (('forsaken', 'lyre'), 17.872470483994736),\n",
       " (('freed', 'plowman'), 17.872470483994736),\n",
       " (('frise', 'múdrov'), 17.872470483994736),\n",
       " (('frog', 'rabbit'), 17.872470483994736),\n",
       " (('fräulein', 'mathilde'), 17.872470483994736),\n",
       " (('fussy', 'shallowness'), 17.872470483994736),\n",
       " (('garrulously', 'christmastime'), 17.872470483994736),\n",
       " (('genevese', 'tuscans'), 17.872470483994736),\n",
       " (('genug', 'preis'), 17.872470483994736),\n",
       " (('geographic', 'ethnographic'), 17.872470483994736),\n",
       " (('gird', 'loin'), 17.872470483994736),\n",
       " (('glaring', 'savagely'), 17.872470483994736),\n",
       " (('gloria', 'mundi'), 17.872470483994736),\n",
       " (('glínka', 'editor'), 17.872470483994736),\n",
       " (('gobelin', 'tapestry'), 17.872470483994736),\n",
       " (('gott', 'wie'), 17.872470483994736),\n",
       " (('gracieux', 'souverain'), 17.872470483994736),\n",
       " (('gros', 'bataillon'), 17.872470483994736),\n",
       " (('grove', 'undisturbed'), 17.872470483994736),\n",
       " (('guai', 'chi'), 17.872470483994736),\n",
       " (('gueule', 'engrêlé'), 17.872470483994736),\n",
       " (('gulf', 'bothnia'), 17.872470483994736),\n",
       " (('gusto', 'galicia'), 17.872470483994736),\n",
       " (('gwudge', 'theah'), 17.872470483994736),\n",
       " (('généraux', 'states'), 17.872470483994736),\n",
       " (('handicraft', 'gardening'), 17.872470483994736),\n",
       " (('haunch', 'slide'), 17.872470483994736),\n",
       " (('haute', 'estime'), 17.872470483994736),\n",
       " (('helter', 'skelter'), 17.872470483994736),\n",
       " (('henker', 'diese'), 17.872470483994736),\n",
       " (('highest', 'authorities'), 17.872470483994736),\n",
       " (('highnesses', 'cousins'), 17.872470483994736),\n",
       " (('homeopath', 'allopath'), 17.872470483994736),\n",
       " (('hommes', 'massacrés'), 17.872470483994736),\n",
       " (('hypothesis', 'unconfirme'), 17.872470483994736),\n",
       " (('idiocy', 'gossner'), 17.872470483994736),\n",
       " (('ilágins', 'kornikí'), 17.872470483994736),\n",
       " (('imperceptible', 'sandy'), 17.872470483994736),\n",
       " (('imprint', 'newness'), 17.872470483994736),\n",
       " (('impulsiveness', 'enthusiast'), 17.872470483994736),\n",
       " (('impute', 'nonreceipt'), 17.872470483994736),\n",
       " (('indecent', 'saw'), 17.872470483994736),\n",
       " (('inflammation', 'bowel'), 17.872470483994736),\n",
       " (('inseparably', 'interconnect'), 17.872470483994736),\n",
       " (('institutes', 'justinian'), 17.872470483994736),\n",
       " (('inviolable', 'bulwark'), 17.872470483994736),\n",
       " (('irína', 'vasílevna'), 17.872470483994736),\n",
       " (('ist', 'nur'), 17.872470483994736),\n",
       " (('jolies', 'femmes'), 17.872470483994736),\n",
       " (('kari', 'mala'), 17.872470483994736),\n",
       " (('kishenëv', 'moldavian'), 17.872470483994736),\n",
       " (('kitty', 'odýntsova'), 17.872470483994736),\n",
       " (('krieg', 'muss'), 17.872470483994736),\n",
       " (('kuz', 'mí'), 17.872470483994736),\n",
       " (('kwüdener', 'wead'), 17.872470483994736),\n",
       " (('lambach', 'amstetten'), 17.872470483994736),\n",
       " (('layer', 'slime'), 17.872470483994736),\n",
       " (('lazarchúk', 'bwought'), 17.872470483994736),\n",
       " (('leo', 'tolstoy'), 17.872470483994736),\n",
       " (('likeli', 'wogue'), 17.872470483994736),\n",
       " (('lodi', 'marengo'), 17.872470483994736),\n",
       " (('loophole', 'blockhouse'), 17.872470483994736),\n",
       " (('loquacious', 'talker'), 17.872470483994736),\n",
       " (('lubomírski', 'bronnítski'), 17.872470483994736),\n",
       " (('luthers', 'voltaires'), 17.872470483994736),\n",
       " (('lvóvich', 'púshkin'), 17.872470483994736),\n",
       " (('lyrical', 'rhapsody'), 17.872470483994736),\n",
       " (('majesties', 'highnesses'), 17.872470483994736),\n",
       " (('malefactor', 'mitigate'), 17.872470483994736),\n",
       " (('mameluke', 'rustan'), 17.872470483994736),\n",
       " (('manna', 'seekers'), 17.872470483994736),\n",
       " (('martinists', 'novíkov'), 17.872470483994736),\n",
       " (('matrëshka', 'vivandière'), 17.872470483994736),\n",
       " (('medýn', 'yukhnóv'), 17.872470483994736),\n",
       " (('mein', 'weib'), 17.872470483994736),\n",
       " (('memento', 'mori'), 17.872470483994736),\n",
       " (('mi', 'dato'), 17.872470483994736),\n",
       " (('mille', 'hommes'), 17.872470483994736),\n",
       " (('mindful', 'uprightness'), 17.872470483994736),\n",
       " (('misspell', 'punctuation'), 17.872470483994736),\n",
       " (('mmm', 'ar'), 17.872470483994736),\n",
       " (('montmorencys', 'rohans'), 17.872470483994736),\n",
       " (('moss', 'ivy'), 17.872470483994736),\n",
       " (('movable', 'trough'), 17.872470483994736),\n",
       " (('moyka', 'canal'), 17.872470483994736),\n",
       " (('mucius', 'scaevola'), 17.872470483994736),\n",
       " (('muskets', 'accouterment'), 17.872470483994736),\n",
       " (('muss', 'raum'), 17.872470483994736),\n",
       " (('muter', 'kaská'), 17.872470483994736),\n",
       " (('mí', 'ch'), 17.872470483994736),\n",
       " (('múdrov', 'diagnose'), 17.872470483994736),\n",
       " (('neffer', 'gase'), 17.872470483994736),\n",
       " (('ni', 'loi'), 17.872470483994736),\n",
       " (('noblesse', 'paraissent'), 17.872470483994736),\n",
       " (('nonhuman', 'criterion'), 17.872470483994736),\n",
       " (('noonday', 'reed'), 17.872470483994736),\n",
       " (('northerly', 'southerly'), 17.872470483994736),\n",
       " (('nos', 'alliés'), 17.872470483994736),\n",
       " (('numbed', 'stupefy'), 17.872470483994736),\n",
       " (('nymphe', 'effrayée'), 17.872470483994736),\n",
       " (('ober', 'hofmarschal'), 17.872470483994736),\n",
       " (('offahd', 'waise'), 17.872470483994736),\n",
       " (('ont', 'toujours'), 17.872470483994736),\n",
       " (('op', 'plood'), 17.872470483994736),\n",
       " (('oppressed', 'ashame'), 17.872470483994736),\n",
       " (('p', 'q'), 17.872470483994736),\n",
       " (('pagodes', 'chinoise'), 17.872470483994736),\n",
       " (('paraissent', 'être'), 17.872470483994736),\n",
       " (('paraphrase', 'restatement'), 17.872470483994736),\n",
       " (('parce', 'manqué'), 17.872470483994736),\n",
       " (('peaceably', 'harmlessly'), 17.872470483994736),\n",
       " (('perdere', 'dementat'), 17.872470483994736),\n",
       " (('permutation', 'plotting'), 17.872470483994736),\n",
       " (('personen', 'achtung'), 17.872470483994736),\n",
       " (('petting', 'spoiling'), 17.872470483994736),\n",
       " (('philology', 'geology'), 17.872470483994736),\n",
       " (('pistil', 'fertilize'), 17.872470483994736),\n",
       " (('placid', 'temperament'), 17.872470483994736),\n",
       " (('pleasurable', 'exhilarating'), 17.872470483994736),\n",
       " (('plod', 'vainglorious'), 17.872470483994736),\n",
       " (('plumes', 'voit'), 17.872470483994736),\n",
       " (('plátovs', 'milorádoviches'), 17.872470483994736),\n",
       " (('polemic', 'fain'), 17.872470483994736),\n",
       " (('posen', 'thorn'), 17.872470483994736),\n",
       " (('posthouse', 'stationmaster'), 17.872470483994736),\n",
       " (('potier', 'sorbonne'), 17.872470483994736),\n",
       " (('powerfully', 'seductive'), 17.872470483994736),\n",
       " (('predilection', 'bacchus'), 17.872470483994736),\n",
       " (('preen', 'plumage'), 17.872470483994736),\n",
       " (('preis', 'geben'), 17.872470483994736),\n",
       " (('pretended', 'sternness'), 17.872470483994736),\n",
       " (('principally', 'unnaturalness'), 17.872470483994736),\n",
       " (('privat', 'personen'), 17.872470483994736),\n",
       " (('prokhór', 'ignátych'), 17.872470483994736),\n",
       " (('présnya', 'podnovínsk'), 17.872470483994736),\n",
       " (('pua', 'fihst'), 17.872470483994736),\n",
       " (('punctuation', 'unsoundly'), 17.872470483994736),\n",
       " (('péché', 'miséricorde'), 17.872470483994736),\n",
       " (('quos', 'vult'), 17.872470483994736),\n",
       " (('radzivílov', 'natalia'), 17.872470483994736),\n",
       " (('rancor', 'unspent'), 17.872470483994736),\n",
       " (('raum', 'verlegt'), 17.872470483994736),\n",
       " (('raévskis', 'ermólovs'), 17.872470483994736),\n",
       " (('record', 'annal'), 17.872470483994736),\n",
       " (('rescind', 'premonition'), 17.872470483994736),\n",
       " (('reticent', 'taciturnity'), 17.872470483994736),\n",
       " (('roans', 'dozhoyvéyko'), 17.872470483994736),\n",
       " (('robespierre', 'behead'), 17.872470483994736),\n",
       " (('safi', 'muter'), 17.872470483994736),\n",
       " (('savor', 'juiciness'), 17.872470483994736),\n",
       " (('schon', 'fleissig'), 17.872470483994736),\n",
       " (('scour', 'countryside'), 17.872470483994736),\n",
       " (('secrète', 'ces'), 17.872470483994736),\n",
       " (('semicircular', 'façade'), 17.872470483994736),\n",
       " (('sens', 'couler'), 17.872470483994736),\n",
       " (('seruvaru', 'sedyablyaka'), 17.872470483994736),\n",
       " (('sewed', 'plane'), 17.872470483994736),\n",
       " (('sic', 'transit'), 17.872470483994736),\n",
       " (('sistine', 'madonna'), 17.872470483994736),\n",
       " (('smithereen', 'install'), 17.872470483994736),\n",
       " (('snuggle', 'bedclothe'), 17.872470483994736),\n",
       " (('soll', 'mein'), 17.872470483994736),\n",
       " (('sombre', 'retraite'), 17.872470483994736),\n",
       " (('somme', 'mackés'), 17.872470483994736),\n",
       " (('spectacled', 'wigless'), 17.872470483994736),\n",
       " (('spray', 'juniper'), 17.872470483994736),\n",
       " (('starvation', 'disintegrate'), 17.872470483994736),\n",
       " (('steins', 'armfeldts'), 17.872470483994736),\n",
       " (('stoppage', 'congestion'), 17.872470483994736),\n",
       " (('straits', 'dover'), 17.872470483994736),\n",
       " (('stromílova', 'dmítrovsk'), 17.872470483994736),\n",
       " (('sucking', 'chalice'), 17.872470483994736),\n",
       " (('sufferer', 'postulant'), 17.872470483994736),\n",
       " (('supernaturally', 'impotent'), 17.872470483994736),\n",
       " (('tableaux', 'vivant'), 17.872470483994736),\n",
       " (('theft', 'forgery'), 17.872470483994736),\n",
       " (('theoretical', 'treatise'), 17.872470483994736),\n",
       " (('tilting', 'keg'), 17.872470483994736),\n",
       " (('tittle', 'tattle'), 17.872470483994736),\n",
       " (('tolstoy', 'tolstoi'), 17.872470483994736),\n",
       " (('toujours', 'raison'), 17.872470483994736),\n",
       " (('trading', 'inhabitants'), 17.872470483994736),\n",
       " (('transgression', 'iniquity'), 17.872470483994736),\n",
       " (('transit', 'gloria'), 17.872470483994736),\n",
       " (('trata', 'tat'), 17.872470483994736),\n",
       " (('trouvez', 'là'), 17.872470483994736),\n",
       " (('tss', 'tt'), 17.872470483994736),\n",
       " (('tuscans', 'romans'), 17.872470483994736),\n",
       " (('tutti', 'quanti'), 17.872470483994736),\n",
       " (('unborn', 'babe'), 17.872470483994736),\n",
       " (('unchange', 'stonily'), 17.872470483994736),\n",
       " (('unchangingly', 'unselfishly'), 17.872470483994736),\n",
       " (('vert', 'galant'), 17.872470483994736),\n",
       " (('vien', 'consoler'), 17.872470483994736),\n",
       " (('vif', 'seruvaru'), 17.872470483994736),\n",
       " (('vight', 'tr'), 17.872470483994736),\n",
       " (('vis', 'inertiæ'), 17.872470483994736),\n",
       " (('vivarika', 'vif'), 17.872470483994736),\n",
       " (('vult', 'perdere'), 17.872470483994736),\n",
       " (('washing', 'wharf'), 17.872470483994736),\n",
       " (('wasp', 'butterfly'), 17.872470483994736),\n",
       " (('wead', 'bwethwen'), 17.872470483994736),\n",
       " (('weceive', 'evewyone'), 17.872470483994736),\n",
       " (('weconciliation', 'pwoceed'), 17.872470483994736),\n",
       " (('wefuse', 'weconciliation'), 17.872470483994736),\n",
       " (('wegular', 'bwick'), 17.872470483994736),\n",
       " (('wetweate', 'wetweating'), 17.872470483994736),\n",
       " (('wie', 'naiv'), 17.872470483994736),\n",
       " (('wobbe', 'tweasuwy'), 17.872470483994736),\n",
       " (('woodwork', 'unbuttressed'), 17.872470483994736),\n",
       " (('wotten', 'howwible'), 17.872470483994736),\n",
       " (('württembergers', 'mecklenburgers'), 17.872470483994736),\n",
       " (('york', 'america'), 17.872470483994736),\n",
       " (('zum', 'henker'), 17.872470483994736),\n",
       " (('zweck', 'ist'), 17.872470483994736),\n",
       " (('âme', 'trop'), 17.872470483994736),\n",
       " (('était', 'temps'), 17.872470483994736),\n",
       " (('état', 'généraux'), 17.872470483994736),\n",
       " (('abstiens', 'toi'), 16.872470483994736),\n",
       " (('accompaniment', 'unreasoning'), 16.872470483994736),\n",
       " (('adhere', 'officious'), 16.872470483994736),\n",
       " (('afterglow', 'sunset'), 16.872470483994736),\n",
       " (('alexanders', 'luthers'), 16.872470483994736),\n",
       " (('alexandre', 'russie'), 16.872470483994736),\n",
       " (('alexéevna', 'idiocy'), 16.872470483994736),\n",
       " (('allay', 'cushay'), 16.872470483994736),\n",
       " (('amalek', 'gideon'), 16.872470483994736),\n",
       " (('amie', 'venue'), 16.872470483994736),\n",
       " (('ansicht', 'kann'), 16.872470483994736),\n",
       " (('arc', 'amazon'), 16.872470483994736),\n",
       " (('asiatique', 'aux'), 16.872470483994736),\n",
       " (('austere', 'gibe'), 16.872470483994736),\n",
       " (('aux', 'innombrables'), 16.872470483994736),\n",
       " (('baden', 'weimar'), 16.872470483994736),\n",
       " (('bal', 'machève'), 16.872470483994736),\n",
       " (('barbarism', 'despotism'), 16.872470483994736),\n",
       " (('basket', 'panins'), 16.872470483994736),\n",
       " (('bavarians', 'württembergers'), 16.872470483994736),\n",
       " (('behead', 'despot'), 16.872470483994736),\n",
       " (('bennigsens', 'wintzingerodes'), 16.872470483994736),\n",
       " (('besprinkle', 'powdery'), 16.872470483994736),\n",
       " (('betrayal', 'bourbon'), 16.872470483994736),\n",
       " (('bile', 'accumulate'), 16.872470483994736),\n",
       " (('bisect', 'amphitheater'), 16.872470483994736),\n",
       " (('bluntness', 'geniality'), 16.872470483994736),\n",
       " (('bremen', 'hamburg'), 16.872470483994736),\n",
       " (('bronnítskis', 'wintzingerodes'), 16.872470483994736),\n",
       " (('brumaire', 'imposture'), 16.872470483994736),\n",
       " (('bumblebee', 'wasp'), 16.872470483994736),\n",
       " (('bwinge', 'wobber'), 16.872470483994736),\n",
       " (('bwother', 'gwown'), 16.872470483994736),\n",
       " (('bykov', 'rat'), 16.872470483994736),\n",
       " (('cameo', 'laocoön'), 16.872470483994736),\n",
       " (('capitale', 'asiatique'), 16.872470483994736),\n",
       " (('celui', 'devait'), 16.872470483994736),\n",
       " (('charcoal', 'flake'), 16.872470483994736),\n",
       " (('chemistry', 'botany'), 16.872470483994736),\n",
       " (('childishly', 'rash'), 16.872470483994736),\n",
       " (('coarseness', 'bluntness'), 16.872470483994736),\n",
       " (('college', 'zealously'), 16.872470483994736),\n",
       " (('comprenez', 'rien'), 16.872470483994736),\n",
       " (('conflicting', 'intersect'), 16.872470483994736),\n",
       " (('cooperation', 'coincident'), 16.872470483994736),\n",
       " (('cornfield', 'intersperse'), 16.872470483994736),\n",
       " (('corpulent', 'flaccid'), 16.872470483994736),\n",
       " (('crudele', 'affetto'), 16.872470483994736),\n",
       " (('custodian', 'enforce'), 16.872470483994736),\n",
       " (('dangereux', 'voisinage'), 16.872470483994736),\n",
       " (('danzig', 'königsberg'), 16.872470483994736),\n",
       " (('dat', 'liff'), 16.872470483994736),\n",
       " (('dat', 'zis'), 16.872470483994736),\n",
       " (('deck', 'mast'), 16.872470483994736),\n",
       " (('delve', 'insect'), 16.872470483994736),\n",
       " (('den', 'feind'), 16.872470483994736),\n",
       " (('den', 'verlust'), 16.872470483994736),\n",
       " (('deride', 'helplessness'), 16.872470483994736),\n",
       " (('despotism', 'inscribe'), 16.872470483994736),\n",
       " (('di', 'ra'), 16.872470483994736),\n",
       " (('di', 'ri'), 16.872470483994736),\n",
       " (('diese', 'russen'), 16.872470483994736),\n",
       " (('disputing', 'arguing'), 16.872470483994736),\n",
       " (('dissect', 'dissecting'), 16.872470483994736),\n",
       " (('doleful', 'nocturne'), 16.872470483994736),\n",
       " (('donc', 'enfin'), 16.872470483994736),\n",
       " (('dripping', 'microscopic'), 16.872470483994736),\n",
       " (('dwagge', 'wegiment'), 16.872470483994736),\n",
       " (('elevation', 'pedestal'), 16.872470483994736),\n",
       " (('eloquence', 'unrestrained'), 16.872470483994736),\n",
       " (('eminence', 'women'), 16.872470483994736),\n",
       " (('emptiness', 'desolation'), 16.872470483994736),\n",
       " (('expectancy', 'monologue'), 16.872470483994736),\n",
       " (('exult', 'austerity'), 16.872470483994736),\n",
       " (('feind', 'zu'), 16.872470483994736),\n",
       " (('figner', 'seslávin'), 16.872470483994736),\n",
       " (('foreman', 'spinning'), 16.872470483994736),\n",
       " (('foretaste', 'artistic'), 16.872470483994736),\n",
       " (('furieuse', 'contre'), 16.872470483994736),\n",
       " (('galant', 'triple'), 16.872470483994736),\n",
       " (('galloping', 'advent'), 16.872470483994736),\n",
       " (('ganze', 'welt'), 16.872470483994736),\n",
       " (('garnished', 'joint'), 16.872470483994736),\n",
       " (('gas', 'car'), 16.872470483994736),\n",
       " (('gervinus', 'schlosser'), 16.872470483994736),\n",
       " (('gewiss', 'nicht'), 16.872470483994736),\n",
       " (('gideon', 'midian'), 16.872470483994736),\n",
       " (('glancing', 'wrathfully'), 16.872470483994736),\n",
       " (('gossner', 'tatáwinova'), 16.872470483994736),\n",
       " (('gouvernement', 'français'), 16.872470483994736),\n",
       " (('graze', 'posthouse'), 16.872470483994736),\n",
       " (('grenadiers', 'podolian'), 16.872470483994736),\n",
       " (('gut', 'morgen'), 16.872470483994736),\n",
       " (('hallo', 'gwíska'), 16.872470483994736),\n",
       " (('helpmeet', 'masonry'), 16.872470483994736),\n",
       " (('henri', 'quatre'), 16.872470483994736),\n",
       " (('hieroglyphic', 'hieroglyph'), 16.872470483994736),\n",
       " (('hofs', 'kriegs'), 16.872470483994736),\n",
       " (('hovel', 'sívtsev'), 16.872470483994736),\n",
       " (('hugging', 'kissing'), 16.872470483994736),\n",
       " (('ich', 'nicht'), 16.872470483994736),\n",
       " (('immaculate', 'brand'), 16.872470483994736),\n",
       " (('imposture', 'swindle'), 16.872470483994736),\n",
       " (('impregnable', 'malta'), 16.872470483994736),\n",
       " (('imprudent', 'overresist'), 16.872470483994736),\n",
       " (('incursion', 'barbarian'), 16.872470483994736),\n",
       " (('inimitable', 'unteachable'), 16.872470483994736),\n",
       " (('initiator', 'settlement'), 16.872470483994736),\n",
       " (('innombrables', 'église'), 16.872470483994736),\n",
       " (('inquisitively', 'alertly'), 16.872470483994736),\n",
       " (('invalidity', 'contention'), 16.872470483994736),\n",
       " (('irredeemably', 'indebte'), 16.872470483994736),\n",
       " (('jelly', 'turk'), 16.872470483994736),\n",
       " (('joan', 'arc'), 16.872470483994736),\n",
       " (('jocose', 'chigírin'), 16.872470483994736),\n",
       " (('juan', 'serpent'), 16.872470483994736),\n",
       " (('jug', 'basin'), 16.872470483994736),\n",
       " (('kann', 'ich'), 16.872470483994736),\n",
       " (('karabákh', 'ukranian'), 16.872470483994736),\n",
       " (('karpúshka', 'jeer'), 16.872470483994736),\n",
       " (('kissing', 'outcry'), 16.872470483994736),\n",
       " (('kitchens', 'kneading'), 16.872470483994736),\n",
       " (('kriegs', 'wurst'), 16.872470483994736),\n",
       " (('kámmer', 'kollézski'), 16.872470483994736),\n",
       " (('kúdrino', 'nikítski'), 16.872470483994736),\n",
       " (('legend', 'alësha'), 16.872470483994736),\n",
       " (('lemonade', 'spiral'), 16.872470483994736),\n",
       " (('lenten', 'fare'), 16.872470483994736),\n",
       " (('liebchen', 'prater'), 16.872470483994736),\n",
       " (('machève', 'royauté'), 16.872470483994736),\n",
       " (('madcap', 'playmate'), 16.872470483994736),\n",
       " (('mala', 'tafa'), 16.872470483994736),\n",
       " (('malbrook', 'va'), 16.872470483994736),\n",
       " (('malevolently', 'hypocrite'), 16.872470483994736),\n",
       " (('mann', 'zu'), 16.872470483994736),\n",
       " (('marauding', 'insubordination'), 16.872470483994736),\n",
       " (('martiale', 'bwinge'), 16.872470483994736),\n",
       " (('mathilde', 'weally'), 16.872470483994736),\n",
       " (('mechanical', 'disruption'), 16.872470483994736),\n",
       " (('melyukóva', 'broadly'), 16.872470483994736),\n",
       " (('merrymake', 'somberly'), 16.872470483994736),\n",
       " (('mio', 'crudele'), 16.872470483994736),\n",
       " (('mokhaváya', 'kutáfyev'), 16.872470483994736),\n",
       " (('multiplicity', 'complexity'), 16.872470483994736),\n",
       " (('museum', 'belabor'), 16.872470483994736),\n",
       " (('mysteries', 'héloïse'), 16.872470483994736),\n",
       " (('na', 'tasha'), 16.872470483994736),\n",
       " (('na', 'tásha'), 16.872470483994736),\n",
       " (('nationalism', 'sided'), 16.872470483994736),\n",
       " (('natálya', 'ilyníchna'), 16.872470483994736),\n",
       " (('necessarily', 'untrustworthy'), 16.872470483994736),\n",
       " (('negligence', 'inefficiency'), 16.872470483994736),\n",
       " (('nicht', 'genug'), 16.872470483994736),\n",
       " (('nikítski', 'présnya'), 16.872470483994736),\n",
       " (('nikólski', 'tverskóy'), 16.872470483994736),\n",
       " (('nur', 'den'), 16.872470483994736),\n",
       " (('obstinate', 'contradicting'), 16.872470483994736),\n",
       " (('oscillate', 'limitless'), 16.872470483994736),\n",
       " (('ostrich', 'plumes'), 16.872470483994736),\n",
       " (('oublie', 'celui'), 16.872470483994736),\n",
       " (('pacific', 'conservative'), 16.872470483994736),\n",
       " (('patriarch', 'ponds'), 16.872470483994736),\n",
       " (('patriotisme', 'féroce'), 16.872470483994736),\n",
       " (('pear', 'granny'), 16.872470483994736),\n",
       " (('pedantic', 'preceptor'), 16.872470483994736),\n",
       " (('petisenfans', 'allay'), 16.872470483994736),\n",
       " (('petit', 'peu'), 16.872470483994736),\n",
       " (('peu', 'amoureuse'), 16.872470483994736),\n",
       " (('physiological', 'psychological'), 16.872470483994736),\n",
       " (('picturesqueness', 'chimney'), 16.872470483994736),\n",
       " (('plainer', 'unobtrusive'), 16.872470483994736),\n",
       " (('plus', 'séduisante'), 16.872470483994736),\n",
       " (('plus', 'victorieuse'), 16.872470483994736),\n",
       " (('postulant', 'accompaniment'), 16.872470483994736),\n",
       " (('pre', 'eminence'), 16.872470483994736),\n",
       " (('pronged', 'fork'), 16.872470483994736),\n",
       " (('proverbe', 'jerome'), 16.872470483994736),\n",
       " (('przazdziecka', 'rivalry'), 16.872470483994736),\n",
       " (('quarante', 'deux'), 16.872470483994736),\n",
       " (('quarante', 'mille'), 16.872470483994736),\n",
       " (('quartier', 'logement'), 16.872470483994736),\n",
       " (('quench', 'thirst'), 16.872470483994736),\n",
       " (('quoique', 'étranger'), 16.872470483994736),\n",
       " (('quoit', 'skittle'), 16.872470483994736),\n",
       " (('refine', 'compression'), 16.872470483994736),\n",
       " (('rend', 'exult'), 16.872470483994736),\n",
       " (('retribution', 'recompense'), 16.872470483994736),\n",
       " (('ri', 'di'), 16.872470483994736),\n",
       " (('robe', 'courte'), 16.872470483994736),\n",
       " (('rosenkampf', 'stuck'), 16.872470483994736),\n",
       " (('royalist', 'emigrant'), 16.872470483994736),\n",
       " (('ruby', 'earring'), 16.872470483994736),\n",
       " (('russen', 'kaiser'), 16.872470483994736),\n",
       " (('rusty', 'hinge'), 16.872470483994736),\n",
       " (('sage', 'incontestably'), 16.872470483994736),\n",
       " (('sauce', 'sour'), 16.872470483994736),\n",
       " (('schnapps', 'rath'), 16.872470483994736),\n",
       " (('schwächen', 'kann'), 16.872470483994736),\n",
       " (('scientific', 'enunciation'), 16.872470483994736),\n",
       " (('scotch', 'acts'), 16.872470483994736),\n",
       " (('scruple', 'depose'), 16.872470483994736),\n",
       " (('semiliterate', 'foreman'), 16.872470483994736),\n",
       " (('sera', 'jamais'), 16.872470483994736),\n",
       " (('shaking', 'unintentionally'), 16.872470483994736),\n",
       " (('shallow', 'braggart'), 16.872470483994736),\n",
       " (('showman', 'exhibit'), 16.872470483994736),\n",
       " (('singlehande', 'poorhouse'), 16.872470483994736),\n",
       " (('sneer', 'malevolently'), 16.872470483994736),\n",
       " (('soyez', 'tranquille'), 16.872470483994736),\n",
       " (('spinning', 'mill'), 16.872470483994736),\n",
       " (('sprang', 'helter'), 16.872470483994736),\n",
       " (('sprawling', 'unsymmetrically'), 16.872470483994736),\n",
       " (('stalk', 'wither'), 16.872470483994736),\n",
       " (('stepán', 'stepánovich'), 16.872470483994736),\n",
       " (('stepán', 'stepánych'), 16.872470483994736),\n",
       " (('strictness', 'assiduity'), 16.872470483994736),\n",
       " (('strógonov', 'richly'), 16.872470483994736),\n",
       " (('stwaight', 'wobbe'), 16.872470483994736),\n",
       " (('substantial', 'appetizing'), 16.872470483994736),\n",
       " (('suppert', 'roguet'), 16.872470483994736),\n",
       " (('surly', 'ruder'), 16.872470483994736),\n",
       " (('sushchévski', 'rogózhski'), 16.872470483994736),\n",
       " (('swaying', 'pontoon'), 16.872470483994736),\n",
       " (('sweden', 'practically'), 16.872470483994736),\n",
       " (('sívtsev', 'vrazhók'), 16.872470483994736),\n",
       " (('tafa', 'lafa'), 16.872470483994736),\n",
       " (('tafa', 'safi'), 16.872470483994736),\n",
       " (('tendre', 'mélancholie'), 16.872470483994736),\n",
       " (('thankful', 'bounty'), 16.872470483994736),\n",
       " (('thighbone', 'extract'), 16.872470483994736),\n",
       " (('thirst', 'greediness'), 16.872470483994736),\n",
       " (('thorn', 'danzig'), 16.872470483994736),\n",
       " (('thrashing', 'dislocate'), 16.872470483994736),\n",
       " (('thriving', 'touchingly'), 16.872470483994736),\n",
       " (('thwash', 'scoundwel'), 16.872470483994736),\n",
       " (('toi', 'san'), 16.872470483994736),\n",
       " (('topsy', 'turvy'), 16.872470483994736),\n",
       " (('tranquility', 'congress'), 16.872470483994736),\n",
       " (('transient', 'sweetest'), 16.872470483994736),\n",
       " (('tribe', 'caucasus'), 16.872470483994736),\n",
       " (('trooper', 'nikítenko'), 16.872470483994736),\n",
       " (('tuesdays', 'saturdays'), 16.872470483994736),\n",
       " (('twansport', 'infantwy'), 16.872470483994736),\n",
       " (('typhus', 'pesthouse'), 16.872470483994736),\n",
       " (('ultimately', 'vanquished'), 16.872470483994736),\n",
       " (('unanimous', 'humming'), 16.872470483994736),\n",
       " (('unattractive', 'martyrlike'), 16.872470483994736),\n",
       " (('unbrushed', 'tufts'), 16.872470483994736),\n",
       " (('unconciousness', 'oblivion'), 16.872470483994736),\n",
       " (('underfoot', 'provender'), 16.872470483994736),\n",
       " (('undivided', 'tensely'), 16.872470483994736),\n",
       " (('uniformed', 'besashe'), 16.872470483994736),\n",
       " (('unintentional', 'superciliousness'), 16.872470483994736),\n",
       " (('unmask', 'deceiver'), 16.872470483994736),\n",
       " (('unplaited', 'replaite'), 16.872470483994736),\n",
       " (('unsoldierly', 'comic'), 16.872470483994736),\n",
       " (('uprightness', 'meekness'), 16.872470483994736),\n",
       " (('va', 'ga'), 16.872470483994736),\n",
       " (('vainglorious', 'ambitious'), 16.872470483994736),\n",
       " (('verlegt', 'werden'), 16.872470483994736),\n",
       " (('vernal', 'vesénya'), 16.872470483994736),\n",
       " (('viens', 'calmer'), 16.872470483994736),\n",
       " (('vinegar', 'hoffman'), 16.872470483994736),\n",
       " (('vivacity', 'shiftiness'), 16.872470483994736),\n",
       " (('volkónsky', 'strógonov'), 16.872470483994736),\n",
       " (('votre', 'intimité'), 16.872470483994736),\n",
       " (('votre', 'victoire'), 16.872470483994736),\n",
       " (('walnut', 'almond'), 16.872470483994736),\n",
       " (('wegiment', 'fwo'), 16.872470483994736),\n",
       " (('weib', 'werden'), 16.872470483994736),\n",
       " (('wield', 'unlawful'), 16.872470483994736),\n",
       " (('wool', 'canvas'), 16.872470483994736),\n",
       " (('wurst', 'schnapps'), 16.872470483994736),\n",
       " (('yeux', 'sardinian'), 16.872470483994736),\n",
       " (('zavárzinsk', 'thicket'), 16.872470483994736),\n",
       " (('zu', 'schwächen'), 16.872470483994736),\n",
       " (('zu', 'sein'), 16.872470483994736),\n",
       " (('accomplishment', 'stupendous'), 16.287507983273578),\n",
       " (('alexéy', 'petróvich'), 16.287507983273578),\n",
       " (('alte', 'herr'), 16.287507983273578),\n",
       " (('amelie', 'exquisite'), 16.287507983273578),\n",
       " (('anniversary', 'coronation'), 16.287507983273578),\n",
       " (('aspen', 'undergrowth'), 16.287507983273578),\n",
       " (('assured', 'excitable'), 16.287507983273578),\n",
       " (('authentic', 'scotch'), 16.287507983273578),\n",
       " (('avec', 'ordre'), 16.287507983273578),\n",
       " (('azóv', 'podólsk'), 16.287507983273578),\n",
       " (('basil', 'beatified'), 16.287507983273578),\n",
       " (('beatified', 'borovítski'), 16.287507983273578),\n",
       " (('beatified', 'raze'), 16.287507983273578),\n",
       " (('blunt', 'jagged'), 16.287507983273578),\n",
       " (('bondage', 'glorify'), 16.287507983273578),\n",
       " (('booby', 'refill'), 16.287507983273578),\n",
       " (('botany', 'zoology'), 16.287507983273578),\n",
       " (('bout', 'rimés'), 16.287507983273578),\n",
       " (('bowing', 'scraping'), 16.287507983273578),\n",
       " (('brindle', 'cow'), 16.287507983273578),\n",
       " (('bureau', 'screened'), 16.287507983273578),\n",
       " (('burglary', 'incendiarism'), 16.287507983273578),\n",
       " (('bweak', 'thwough'), 16.287507983273578),\n",
       " (('bélaya', 'tsérkov'), 16.287507983273578),\n",
       " (('caesar', 'commentaries'), 16.287507983273578),\n",
       " (('caution', 'malcontent'), 16.287507983273578),\n",
       " (('charmante', 'aussi'), 16.287507983273578),\n",
       " (('cherry', 'alder'), 16.287507983273578),\n",
       " (('childbearing', 'languor'), 16.287507983273578),\n",
       " (('chinese', 'handleless'), 16.287507983273578),\n",
       " (('chinese', 'pagoda'), 16.287507983273578),\n",
       " (('christmastime', 'deem'), 16.287507983273578),\n",
       " (('chronicler', 'crusades'), 16.287507983273578),\n",
       " (('citadel', 'barricade'), 16.287507983273578),\n",
       " (('classically', 'mold'), 16.287507983273578),\n",
       " (('comme', 'cet'), 16.287507983273578),\n",
       " (('comparative', 'philology'), 16.287507983273578),\n",
       " (('compensate', 'expenditure'), 16.287507983273578),\n",
       " (('compulsion', 'correspondingly'), 16.287507983273578),\n",
       " (('coquetry', 'ulterior'), 16.287507983273578),\n",
       " (('cordiality', 'goodhearte'), 16.287507983273578),\n",
       " (('coronation', 'milan'), 16.287507983273578),\n",
       " (('craftsman', 'industrious'), 16.287507983273578),\n",
       " (('crease', 'crumpled'), 16.287507983273578),\n",
       " (('cricket', 'chirp'), 16.287507983273578),\n",
       " (('cricket', 'grasshopper'), 16.287507983273578),\n",
       " (('crusade', 'deliverance'), 16.287507983273578),\n",
       " (('cucumber', 'strawberry'), 16.287507983273578),\n",
       " (('da', 'gas'), 16.287507983273578),\n",
       " (('deject', 'shun'), 16.287507983273578),\n",
       " (('denís', 'davýdov'), 16.287507983273578),\n",
       " (('descendant', 'rúrik'), 16.287507983273578),\n",
       " (('desirable', 'imitator'), 16.287507983273578),\n",
       " (('device', 'analogy'), 16.287507983273578),\n",
       " (('diable', 'allait'), 16.287507983273578),\n",
       " (('diable', 'voyon'), 16.287507983273578),\n",
       " (('dishonesty', 'irregularity'), 16.287507983273578),\n",
       " (('diversion', 'greece'), 16.287507983273578),\n",
       " (('donor', 'contribute'), 16.287507983273578),\n",
       " (('dram', 'da'), 16.287507983273578),\n",
       " (('dreamer', 'satirist'), 16.287507983273578),\n",
       " (('dutch', 'belgians'), 16.287507983273578),\n",
       " (('dwink', 'dwown'), 16.287507983273578),\n",
       " (('edifying', 'exhortation'), 16.287507983273578),\n",
       " (('ethnographic', 'economic'), 16.287507983273578),\n",
       " (('exaggerated', 'grasseyement'), 16.287507983273578),\n",
       " (('faithfully', 'unchangingly'), 16.287507983273578),\n",
       " (('falcon', 'platósha'), 16.287507983273578),\n",
       " (('fatale', 'redoute'), 16.287507983273578),\n",
       " (('fera', 'danser'), 16.287507983273578),\n",
       " (('firewood', 'network'), 16.287507983273578),\n",
       " (('flatten', 'pancake'), 16.287507983273578),\n",
       " (('flaunt', 'dreary'), 16.287507983273578),\n",
       " (('flogging', 'drilling'), 16.287507983273578),\n",
       " (('foh', 'dwink'), 16.287507983273578),\n",
       " (('foi', 'ni'), 16.287507983273578),\n",
       " (('forefather', 'adam'), 16.287507983273578),\n",
       " (('frola', 'lavra'), 16.287507983273578),\n",
       " (('front', 'bookcase'), 16.287507983273578),\n",
       " (('fruschtique', 'fóka'), 16.287507983273578),\n",
       " (('gathers', 'pollen'), 16.287507983273578),\n",
       " (('genoa', 'lucca'), 16.287507983273578),\n",
       " (('gingerbread', 'poppysee'), 16.287507983273578),\n",
       " (('golukhovski', 'bargain'), 16.287507983273578),\n",
       " (('goot', 'vish'), 16.287507983273578),\n",
       " (('grandiloquently', 'saltánov'), 16.287507983273578),\n",
       " (('gueules', 'maison'), 16.287507983273578),\n",
       " (('husky', 'melodious'), 16.287507983273578),\n",
       " (('impetuosity', 'catchplay'), 16.287507983273578),\n",
       " (('incontestable', 'certains'), 16.287507983273578),\n",
       " (('incredulously', 'abashed'), 16.287507983273578),\n",
       " (('individuality', 'originality'), 16.287507983273578),\n",
       " (('infest', 'lice'), 16.287507983273578),\n",
       " (('insulted', 'autocratic'), 16.287507983273578),\n",
       " (('interrupted', 'gabion'), 16.287507983273578),\n",
       " (('intimité', 'avec'), 16.287507983273578),\n",
       " (('investigation', 'abundantly'), 16.287507983273578),\n",
       " (('italians', 'neapolitans'), 16.287507983273578),\n",
       " (('jamais', 'notre'), 16.287507983273578),\n",
       " (('justly', 'unjustly'), 16.287507983273578),\n",
       " (('khamóvniki', 'unburned'), 16.287507983273578),\n",
       " (('kámenka', 'unfrocked'), 16.287507983273578),\n",
       " (('labored', 'transition'), 16.287507983273578),\n",
       " (('lance', 'unfolded'), 16.287507983273578),\n",
       " (('literally', 'penny'), 16.287507983273578),\n",
       " (('lordship', 'bishop'), 16.287507983273578),\n",
       " (('maggot', 'gnaw'), 16.287507983273578),\n",
       " (('malice', 'enmity'), 16.287507983273578),\n",
       " (('manqué', 'parole'), 16.287507983273578),\n",
       " (('marengo', 'arcola'), 16.287507983273578),\n",
       " (('maria', 'theresa'), 16.287507983273578),\n",
       " (('markedly', 'chairman'), 16.287507983273578),\n",
       " (('mask', 'unconcern'), 16.287507983273578),\n",
       " (('matthew', 'ermíshin'), 16.287507983273578),\n",
       " (('mecklenburgers', 'spaniards'), 16.287507983273578),\n",
       " (('mined', 'doubly'), 16.287507983273578),\n",
       " (('mischief', 'maker'), 16.287507983273578),\n",
       " (('moderate', 'amicable'), 16.287507983273578),\n",
       " (('multitude', 'immensity'), 16.287507983273578),\n",
       " (('mumble', 'toothless'), 16.287507983273578),\n",
       " (('máshka', 'woot'), 16.287507983273578),\n",
       " (('nightingale', 'trill'), 16.287507983273578),\n",
       " (('northwesterly', 'portion'), 16.287507983273578),\n",
       " (('notre', 'alliée'), 16.287507983273578),\n",
       " (('notre', 'possibilité'), 16.287507983273578),\n",
       " (('obsess', 'persistent'), 16.287507983273578),\n",
       " (('obtuseness', 'disarm'), 16.287507983273578),\n",
       " (('oily', 'fiery'), 16.287507983273578),\n",
       " (('organic', 'elemental'), 16.287507983273578),\n",
       " (('originality', 'glínka'), 16.287507983273578),\n",
       " (('outstrip', 'boss'), 16.287507983273578),\n",
       " (('paraît', 'incontestable'), 16.287507983273578),\n",
       " (('percolate', 'sand'), 16.287507983273578),\n",
       " (('picking', 'flea'), 16.287507983273578),\n",
       " (('planning', 'disquiet'), 16.287507983273578),\n",
       " (('podnovínsk', 'streets'), 16.287507983273578),\n",
       " (('poisonous', 'nourishment'), 16.287507983273578),\n",
       " (('portion', 'thighbone'), 16.287507983273578),\n",
       " (('potëmkins', 'suvórovs'), 16.287507983273578),\n",
       " (('praskóvya', 'sávishna'), 16.287507983273578),\n",
       " (('premises', 'contribute'), 16.287507983273578),\n",
       " (('profligacy', 'illuminism'), 16.287507983273578),\n",
       " (('pseudo', 'healers'), 16.287507983273578),\n",
       " (('pwince', 'andwew'), 16.287507983273578),\n",
       " (('pyramid', 'chessman'), 16.287507983273578),\n",
       " (('púshkin', 'bout'), 16.287507983273578),\n",
       " (('rainy', 'autumnal'), 16.287507983273578),\n",
       " (('ranks', 'bareheade'), 16.287507983273578),\n",
       " (('rash', 'uncalled'), 16.287507983273578),\n",
       " (('rectify', 'omission'), 16.287507983273578),\n",
       " (('refill', 'reheat'), 16.287507983273578),\n",
       " (('repetition', 'denial'), 16.287507983273578),\n",
       " (('reviendra', 'marlborough'), 16.287507983273578),\n",
       " (('righteousness', 'strengthening'), 16.287507983273578),\n",
       " (('ripple', 'eddy'), 16.287507983273578),\n",
       " (('rotten', 'maggoty'), 16.287507983273578),\n",
       " (('sailing', 'unveil'), 16.287507983273578),\n",
       " (('sans', 'reproche'), 16.287507983273578),\n",
       " (('scorch', 'intolerably'), 16.287507983273578),\n",
       " (('seller', 'buyer'), 16.287507983273578),\n",
       " (('shone', 'fairer'), 16.287507983273578),\n",
       " (('silken', 'hanging'), 16.287507983273578),\n",
       " (('solid', 'vault'), 16.287507983273578),\n",
       " (('sonata', 'dussek'), 16.287507983273578),\n",
       " (('sowing', 'reaping'), 16.287507983273578),\n",
       " (('spirituous', 'fragrant'), 16.287507983273578),\n",
       " (('splintered', 'portion'), 16.287507983273578),\n",
       " (('spotless', 'noticeably'), 16.287507983273578),\n",
       " (('strawberry', 'veal'), 16.287507983273578),\n",
       " (('stre', 'aspen'), 16.287507983273578),\n",
       " (('studied', 'carelessness'), 16.287507983273578),\n",
       " (('suited', 'careworn'), 16.287507983273578),\n",
       " (('superintend', 'placing'), 16.287507983273578),\n",
       " (('suvórovs', 'orlóvs'), 16.287507983273578),\n",
       " (('t', 'wo'), 16.287507983273578),\n",
       " (('tawny', 'tint'), 16.287507983273578),\n",
       " (('tearing', 'twisting'), 16.287507983273578),\n",
       " (('thickest', 'volley'), 16.287507983273578),\n",
       " (('thwough', 'hundwe'), 16.287507983273578),\n",
       " (('tin', 'font'), 16.287507983273578),\n",
       " (('tint', 'complexion'), 16.287507983273578),\n",
       " (('trader', 'agriculturist'), 16.287507983273578),\n",
       " (('trotter', 'stylish'), 16.287507983273578),\n",
       " (('turrete', 'nunnery'), 16.287507983273578),\n",
       " (('twofold', 'firstly'), 16.287507983273578),\n",
       " (('twy', 'afwaid'), 16.287507983273578),\n",
       " (('twy', 'thwash'), 16.287507983273578),\n",
       " (('twy', 'wobbewy'), 16.287507983273578),\n",
       " (('unabashed', 'meditative'), 16.287507983273578),\n",
       " (('uncalled', 'ignoble'), 16.287507983273578),\n",
       " (('uninterrupted', 'shaping'), 16.287507983273578),\n",
       " (('uninvited', 'defender'), 16.287507983273578),\n",
       " (('unreal', 'immobility'), 16.287507983273578),\n",
       " (('unsolicited', 'inexplicable'), 16.287507983273578),\n",
       " (('unsymmetrically', 'gnarl'), 16.287507983273578),\n",
       " (('venomously', 'retort'), 16.287507983273578),\n",
       " (('verdure', 'thicken'), 16.287507983273578),\n",
       " (('vesénny', 'vernal'), 16.287507983273578),\n",
       " (('vie', 'cavalier'), 16.287507983273578),\n",
       " (('villier', 'physician'), 16.287507983273578),\n",
       " (('visionary', 'sinful'), 16.287507983273578),\n",
       " (('vocal', 'organ'), 16.287507983273578),\n",
       " (('voluntary', 'contributions'), 16.287507983273578),\n",
       " (('warmed', 'fragrant'), 16.287507983273578),\n",
       " (('whine', 'straggling'), 16.287507983273578),\n",
       " (('witch', 'clown'), 16.287507983273578),\n",
       " (('wo', 'thwee'), 16.287507983273578),\n",
       " (('worldliness', 'senselessness'), 16.287507983273578),\n",
       " (('zen', 'vill'), 16.287507983273578),\n",
       " (('zoology', 'frog'), 16.287507983273578),\n",
       " (('abundance', 'housewife'), 15.872470483994736),\n",
       " (('accompaniment', 'knocking'), 15.872470483994736),\n",
       " (('acquaintances', 'mixed'), 15.872470483994736),\n",
       " (('administration', 'devoutly'), 15.872470483994736),\n",
       " (('admirer', 'montesquieu'), 15.872470483994736),\n",
       " (('adonai', 'creator'), 15.872470483994736),\n",
       " (('adoration', 'lubricant'), 15.872470483994736),\n",
       " (('adèle', 'tempt'), 15.872470483994736),\n",
       " (('agent', 'nitrogen'), 15.872470483994736),\n",
       " (('aggrandizement', 'antinational'), 15.872470483994736),\n",
       " (('agricultural', 'laborer'), 15.872470483994736),\n",
       " (('allon', 'lui'), 15.872470483994736),\n",
       " (('angling', 'grandson'), 15.872470483994736),\n",
       " (('antónovna', 'narýshkina'), 15.872470483994736),\n",
       " (('appetize', 'nourish'), 15.872470483994736),\n",
       " (('approbation', 'schubert'), 15.872470483994736),\n",
       " (('arnauts', 'arnauts'), 15.872470483994736),\n",
       " (('arsenic', 'stealthily'), 15.872470483994736),\n",
       " (('assez', 'fait'), 15.872470483994736),\n",
       " (('astounding', 'egypt'), 15.872470483994736),\n",
       " (('athletic', 'nape'), 15.872470483994736),\n",
       " (('avez', 'fait'), 15.872470483994736),\n",
       " (('bah', 'scurry'), 15.872470483994736),\n",
       " (('bake', 'cooked'), 15.872470483994736),\n",
       " (('baker', 'signboard'), 15.872470483994736),\n",
       " (('bathing', 'liquid'), 15.872470483994736),\n",
       " (('beau', 'temp'), 15.872470483994736),\n",
       " (('bespatter', 'dashboard'), 15.872470483994736),\n",
       " (('blindman', 'bulff'), 15.872470483994736),\n",
       " (('bloated', 'gaunt'), 15.872470483994736),\n",
       " (('bon', 'principe'), 15.872470483994736),\n",
       " (('bone', 'bill'), 15.872470483994736),\n",
       " (('bonne', 'amie'), 15.872470483994736),\n",
       " (('bugler', 'sount'), 15.872470483994736),\n",
       " (('bump', 'paternity'), 15.872470483994736),\n",
       " (('caesars', 'alexanders'), 15.872470483994736),\n",
       " (('cahd', 'cahd'), 15.872470483994736),\n",
       " (('cardboard', 'queerly'), 15.872470483994736),\n",
       " (('cardboard', 'representing'), 15.872470483994736),\n",
       " (('carousal', 'danílov'), 15.872470483994736),\n",
       " (('cat', 'mouse'), 15.872470483994736),\n",
       " (('cheerfulness', 'infectious'), 15.872470483994736),\n",
       " (('chimney', 'stack'), 15.872470483994736),\n",
       " (('churn', 'inch'), 15.872470483994736),\n",
       " (('coarsest', 'reckless'), 15.872470483994736),\n",
       " (('colosseum', 'cabman'), 15.872470483994736),\n",
       " (('commerce', 'craftsmanship'), 15.872470483994736),\n",
       " (('commerce', 'handicraft'), 15.872470483994736),\n",
       " (('compensation', 'mutilation'), 15.872470483994736),\n",
       " (('conceite', 'selfish'), 15.872470483994736),\n",
       " (('conclusive', 'evidence'), 15.872470483994736),\n",
       " (('conducing', 'cheerfulness'), 15.872470483994736),\n",
       " (('conjugal', 'fidelity'), 15.872470483994736),\n",
       " (('conscientious', 'methodical'), 15.872470483994736),\n",
       " (('contention', 'bastard'), 15.872470483994736),\n",
       " (('conversant', 'unwritten'), 15.872470483994736),\n",
       " (('counter', 'imitation'), 15.872470483994736),\n",
       " (('courtship', 'skeptically'), 15.872470483994736),\n",
       " (('cousinage', 'dangereux'), 15.872470483994736),\n",
       " (('crafty', 'dissolute'), 15.872470483994736),\n",
       " (('cream', 'carrot'), 15.872470483994736),\n",
       " (('creation', 'firmament'), 15.872470483994736),\n",
       " (('crisis', 'convalescent'), 15.872470483994736),\n",
       " (('dangle', 'fragment'), 15.872470483994736),\n",
       " (('david', 'widger'), 15.872470483994736),\n",
       " (('dealing', 'ilyúshka'), 15.872470483994736),\n",
       " (('derogatory', 'manhood'), 15.872470483994736),\n",
       " (('deserter', 'knoute'), 15.872470483994736),\n",
       " (('despised', 'rogue'), 15.872470483994736),\n",
       " (('detonator', 'explode'), 15.872470483994736),\n",
       " (('dictionary', 'unwilling'), 15.872470483994736),\n",
       " (('dimension', 'adhesion'), 15.872470483994736),\n",
       " (('disagree', 'frühstück'), 15.872470483994736),\n",
       " (('disintereste', 'crank'), 15.872470483994736),\n",
       " (('dismally', 'rack'), 15.872470483994736),\n",
       " (('doorpost', 'bowed'), 15.872470483994736),\n",
       " (('dove', 'fable'), 15.872470483994736),\n",
       " (('dowerless', 'orphan'), 15.872470483994736),\n",
       " (('drank', 'moderately'), 15.872470483994736),\n",
       " (('dumb', 'introduction'), 15.872470483994736),\n",
       " (('earnestness', 'tremor'), 15.872470483994736),\n",
       " (('elaborate', 'courtesy'), 15.872470483994736),\n",
       " (('enchantress', 'forsaken'), 15.872470483994736),\n",
       " (('epistles', 'gospels'), 15.872470483994736),\n",
       " (('ethical', 'philosophic'), 15.872470483994736),\n",
       " (('evacuate', 'malta'), 15.872470483994736),\n",
       " (('f', 'g'), 15.872470483994736),\n",
       " (('fairer', 'faraway'), 15.872470483994736),\n",
       " (('fameuse', 'ville'), 15.872470483994736),\n",
       " (('fantastic', 'transforming'), 15.872470483994736),\n",
       " (('faraway', 'dreamy'), 15.872470483994736),\n",
       " (('farming', 'bettah'), 15.872470483994736),\n",
       " (('farming', 'thrifty'), 15.872470483994736),\n",
       " (('farthest', 'unlimbered'), 15.872470483994736),\n",
       " (('feasible', 'villeneuve'), 15.872470483994736),\n",
       " (('filez', 'filez'), 15.872470483994736),\n",
       " (('firework', 'zakret'), 15.872470483994736),\n",
       " (('firmament', 'miracle'), 15.872470483994736),\n",
       " (('foreleg', 'ulyulyulyulyu'), 15.872470483994736),\n",
       " (('formidable', 'wolfhound'), 15.872470483994736),\n",
       " (('founder', 'sect'), 15.872470483994736),\n",
       " (('franc', 'pension'), 15.872470483994736),\n",
       " (('franz', 'thaler'), 15.872470483994736),\n",
       " (('français', 'sont'), 15.872470483994736),\n",
       " (('fëdor', 'fëdor'), 15.872470483994736),\n",
       " (('g', 'h'), 15.872470483994736),\n",
       " (('gang', 'carpenter'), 15.872470483994736),\n",
       " (('gav', 'moses'), 15.872470483994736),\n",
       " (('genuine', 'émigrés'), 15.872470483994736),\n",
       " (('geometric', 'formation'), 15.872470483994736),\n",
       " (('gerákov', 'lecture'), 15.872470483994736),\n",
       " (('gloat', 'gloat'), 15.872470483994736),\n",
       " (('goose', 'suckle'), 15.872470483994736),\n",
       " (('grande', 'dame'), 15.872470483994736),\n",
       " (('greasy', 'viand'), 15.872470483994736),\n",
       " (('greece', 'warsaw'), 15.872470483994736),\n",
       " (('grippe', 'grippe'), 15.872470483994736),\n",
       " (('grizzle', 'strand'), 15.872470483994736),\n",
       " (('grotesque', 'amazing'), 15.872470483994736),\n",
       " (('grunt', 'squealed'), 15.872470483994736),\n",
       " (('h', 'k'), 15.872470483994736),\n",
       " (('hatch', 'tease'), 15.872470483994736),\n",
       " (('hessians', 'bavarians'), 15.872470483994736),\n",
       " (('hi', 'tproo'), 15.872470483994736),\n",
       " (('hoch', 'oestreicher'), 15.872470483994736),\n",
       " (('iligin', 'upland'), 15.872470483994736),\n",
       " (('illustrious', 'patroness'), 15.872470483994736),\n",
       " (('impoverished', 'enrich'), 15.872470483994736),\n",
       " (('impudence', 'impudence'), 15.872470483994736),\n",
       " (('indigestion', 'indigestion'), 15.872470483994736),\n",
       " (('informed', 'foregather'), 15.872470483994736),\n",
       " (('interconnect', 'infinitesimal'), 15.872470483994736),\n",
       " (('intermittently', 'consistently'), 15.872470483994736),\n",
       " (('intricate', 'tangle'), 15.872470483994736),\n",
       " (('invest', 'pomp'), 15.872470483994736),\n",
       " (('jerome', 'jerome'), 15.872470483994736),\n",
       " (('jewish', 'greek'), 15.872470483994736),\n",
       " (('jews', 'offering'), 15.872470483994736),\n",
       " (('k', 'l'), 15.872470483994736),\n",
       " (('karpúshka', 'chigírin'), 15.872470483994736),\n",
       " (('ke', 'zaletáev'), 15.872470483994736),\n",
       " (('kepler', 'newton'), 15.872470483994736),\n",
       " (('kneading', 'bake'), 15.872470483994736),\n",
       " (('krásnaya', 'pakhrá'), 15.872470483994736),\n",
       " (('laborer', 'mikólka'), 15.872470483994736),\n",
       " (('laden', 'hardtack'), 15.872470483994736),\n",
       " (('latrine', 'voilà'), 15.872470483994736),\n",
       " (('len', 'len'), 15.872470483994736),\n",
       " (('len', 'lency'), 15.872470483994736),\n",
       " (('lenient', 'rudeness'), 15.872470483994736),\n",
       " (('liar', 'kiselëv'), 15.872470483994736),\n",
       " (('limitless', 'vista'), 15.872470483994736),\n",
       " (('limply', 'brisk'), 15.872470483994736),\n",
       " (('liquid', 'impure'), 15.872470483994736),\n",
       " (('locate', 'background'), 15.872470483994736),\n",
       " (('lorgnette', 'elevated'), 15.872470483994736),\n",
       " (('lui', 'parce'), 15.872470483994736),\n",
       " (('lyádov', 'upland'), 15.872470483994736),\n",
       " (('mare', 'foal'), 15.872470483994736),\n",
       " (('mast', 'rig'), 15.872470483994736),\n",
       " (('matchmaking', 'chronicle'), 15.872470483994736),\n",
       " (('menacingly', 'unlimbered'), 15.872470483994736),\n",
       " (('mercury', 'fluid'), 15.872470483994736),\n",
       " (('mettlesome', 'donéts'), 15.872470483994736),\n",
       " (('microscopic', 'particle'), 15.872470483994736),\n",
       " (('midian', 'david'), 15.872470483994736),\n",
       " (('miracle', 'joshua'), 15.872470483994736),\n",
       " (('misshapen', 'grim'), 15.872470483994736),\n",
       " (('moldavia', 'wallachia'), 15.872470483994736),\n",
       " (('monitress', 'implicitly'), 15.872470483994736),\n",
       " (('moses', 'amalek'), 15.872470483994736),\n",
       " (('moskowa', 'sacré'), 15.872470483994736),\n",
       " (('muffled', 'guttural'), 15.872470483994736),\n",
       " (('mull', 'brandy'), 15.872470483994736),\n",
       " (('naturalist', 'follower'), 15.872470483994736),\n",
       " (('newton', 'enunciate'), 15.872470483994736),\n",
       " (('nicht', 'den'), 15.872470483994736),\n",
       " (('nikoláevna', 'ivánovs'), 15.872470483994736),\n",
       " (('nikíta', 'vanya'), 15.872470483994736),\n",
       " (('nitrogen', 'oxygen'), 15.872470483994736),\n",
       " (('nuts', 'raw'), 15.872470483994736),\n",
       " (('oestreicher', 'hoch'), 15.872470483994736),\n",
       " (('officier', 'fait'), 15.872470483994736),\n",
       " (('om', 'pa'), 15.872470483994736),\n",
       " (('oreille', 'voilà'), 15.872470483994736),\n",
       " (('otkupshchík', 'mayor'), 15.872470483994736),\n",
       " (('ouh', 'ouh'), 15.872470483994736),\n",
       " (('oval', 'antique'), 15.872470483994736),\n",
       " (('pa', 'ny'), 15.872470483994736),\n",
       " (('parisian', 'league'), 15.872470483994736),\n",
       " (('parliament', 'newspaper'), 15.872470483994736),\n",
       " (('particle', 'drizzle'), 15.872470483994736),\n",
       " (('passenger', 'carpenter'), 15.872470483994736),\n",
       " (('pe', 'vell'), 15.872470483994736),\n",
       " (('pernetti', 'fouché'), 15.872470483994736),\n",
       " (('photius', 'schelling'), 15.872470483994736),\n",
       " (('piebald', 'mare'), 15.872470483994736),\n",
       " (('piedmontese', 'swiss'), 15.872470483994736),\n",
       " (('pitched', 'staccato'), 15.872470483994736),\n",
       " ...]"
      ]
     },
     "execution_count": 61,
     "metadata": {},
     "output_type": "execute_result"
    }
   ],
   "source": [
    "BigramCollocationFinder.from_words(lemmatized_text.split()).score_ngrams(BigramAssocMeasures().pmi)"
   ]
  },
  {
   "cell_type": "markdown",
   "id": "f678414e",
   "metadata": {},
   "source": [
    "## POS tags"
   ]
  },
  {
   "cell_type": "code",
   "execution_count": 62,
   "id": "215334c4",
   "metadata": {},
   "outputs": [],
   "source": [
    "pos_dict = {}\n",
    "pos_dict['word'] = []\n",
    "pos_dict['POS'] = []\n",
    "for word in processed_text:\n",
    "    if word.is_alpha and not word.is_stop:\n",
    "        pos_dict['word'].append(word.lower_)\n",
    "        pos_dict['POS'].append(word.pos_)\n",
    "        \n",
    "wnp_pos_df = pd.DataFrame(pos_dict)"
   ]
  },
  {
   "cell_type": "code",
   "execution_count": 63,
   "id": "58c8386b",
   "metadata": {},
   "outputs": [
    {
     "data": {
      "text/html": [
       "<div>\n",
       "<style scoped>\n",
       "    .dataframe tbody tr th:only-of-type {\n",
       "        vertical-align: middle;\n",
       "    }\n",
       "\n",
       "    .dataframe tbody tr th {\n",
       "        vertical-align: top;\n",
       "    }\n",
       "\n",
       "    .dataframe thead th {\n",
       "        text-align: right;\n",
       "    }\n",
       "</style>\n",
       "<table border=\"1\" class=\"dataframe\">\n",
       "  <thead>\n",
       "    <tr style=\"text-align: right;\">\n",
       "      <th></th>\n",
       "      <th>word</th>\n",
       "    </tr>\n",
       "    <tr>\n",
       "      <th>POS</th>\n",
       "      <th></th>\n",
       "    </tr>\n",
       "  </thead>\n",
       "  <tbody>\n",
       "    <tr>\n",
       "      <th>NOUN</th>\n",
       "      <td>92285</td>\n",
       "    </tr>\n",
       "    <tr>\n",
       "      <th>VERB</th>\n",
       "      <td>72675</td>\n",
       "    </tr>\n",
       "    <tr>\n",
       "      <th>PROPN</th>\n",
       "      <td>30431</td>\n",
       "    </tr>\n",
       "    <tr>\n",
       "      <th>ADJ</th>\n",
       "      <td>29536</td>\n",
       "    </tr>\n",
       "    <tr>\n",
       "      <th>ADV</th>\n",
       "      <td>11077</td>\n",
       "    </tr>\n",
       "    <tr>\n",
       "      <th>INTJ</th>\n",
       "      <td>1452</td>\n",
       "    </tr>\n",
       "    <tr>\n",
       "      <th>SCONJ</th>\n",
       "      <td>942</td>\n",
       "    </tr>\n",
       "    <tr>\n",
       "      <th>X</th>\n",
       "      <td>479</td>\n",
       "    </tr>\n",
       "    <tr>\n",
       "      <th>ADP</th>\n",
       "      <td>405</td>\n",
       "    </tr>\n",
       "    <tr>\n",
       "      <th>NUM</th>\n",
       "      <td>379</td>\n",
       "    </tr>\n",
       "  </tbody>\n",
       "</table>\n",
       "</div>"
      ],
      "text/plain": [
       "        word\n",
       "POS         \n",
       "NOUN   92285\n",
       "VERB   72675\n",
       "PROPN  30431\n",
       "ADJ    29536\n",
       "ADV    11077\n",
       "INTJ    1452\n",
       "SCONJ    942\n",
       "X        479\n",
       "ADP      405\n",
       "NUM      379"
      ]
     },
     "execution_count": 63,
     "metadata": {},
     "output_type": "execute_result"
    }
   ],
   "source": [
    "wnp_pos_df.groupby('POS').count().sort_values(by='word', ascending=False).head(10)"
   ]
  },
  {
   "cell_type": "code",
   "execution_count": 64,
   "id": "2af59ad5",
   "metadata": {},
   "outputs": [],
   "source": [
    "wnp_pos_df['count'] = 1"
   ]
  },
  {
   "cell_type": "code",
   "execution_count": 65,
   "id": "de6104c9",
   "metadata": {},
   "outputs": [
    {
     "data": {
      "text/html": [
       "<div>\n",
       "<style scoped>\n",
       "    .dataframe tbody tr th:only-of-type {\n",
       "        vertical-align: middle;\n",
       "    }\n",
       "\n",
       "    .dataframe tbody tr th {\n",
       "        vertical-align: top;\n",
       "    }\n",
       "\n",
       "    .dataframe thead th {\n",
       "        text-align: right;\n",
       "    }\n",
       "</style>\n",
       "<table border=\"1\" class=\"dataframe\">\n",
       "  <thead>\n",
       "    <tr style=\"text-align: right;\">\n",
       "      <th></th>\n",
       "      <th></th>\n",
       "      <th>count</th>\n",
       "    </tr>\n",
       "    <tr>\n",
       "      <th>POS</th>\n",
       "      <th>word</th>\n",
       "      <th></th>\n",
       "    </tr>\n",
       "  </thead>\n",
       "  <tbody>\n",
       "    <tr>\n",
       "      <th>VERB</th>\n",
       "      <th>said</th>\n",
       "      <td>2839</td>\n",
       "    </tr>\n",
       "    <tr>\n",
       "      <th rowspan=\"3\" valign=\"top\">PROPN</th>\n",
       "      <th>pierre</th>\n",
       "      <td>1963</td>\n",
       "    </tr>\n",
       "    <tr>\n",
       "      <th>prince</th>\n",
       "      <td>1590</td>\n",
       "    </tr>\n",
       "    <tr>\n",
       "      <th>natásha</th>\n",
       "      <td>1210</td>\n",
       "    </tr>\n",
       "    <tr>\n",
       "      <th>NOUN</th>\n",
       "      <th>man</th>\n",
       "      <td>1172</td>\n",
       "    </tr>\n",
       "    <tr>\n",
       "      <th>PROPN</th>\n",
       "      <th>andrew</th>\n",
       "      <td>1141</td>\n",
       "    </tr>\n",
       "    <tr>\n",
       "      <th rowspan=\"2\" valign=\"top\">NOUN</th>\n",
       "      <th>time</th>\n",
       "      <td>927</td>\n",
       "    </tr>\n",
       "    <tr>\n",
       "      <th>face</th>\n",
       "      <td>883</td>\n",
       "    </tr>\n",
       "    <tr>\n",
       "      <th rowspan=\"2\" valign=\"top\">VERB</th>\n",
       "      <th>went</th>\n",
       "      <td>862</td>\n",
       "    </tr>\n",
       "    <tr>\n",
       "      <th>know</th>\n",
       "      <td>846</td>\n",
       "    </tr>\n",
       "  </tbody>\n",
       "</table>\n",
       "</div>"
      ],
      "text/plain": [
       "               count\n",
       "POS   word          \n",
       "VERB  said      2839\n",
       "PROPN pierre    1963\n",
       "      prince    1590\n",
       "      natásha   1210\n",
       "NOUN  man       1172\n",
       "PROPN andrew    1141\n",
       "NOUN  time       927\n",
       "      face       883\n",
       "VERB  went       862\n",
       "      know       846"
      ]
     },
     "execution_count": 65,
     "metadata": {},
     "output_type": "execute_result"
    }
   ],
   "source": [
    "wnp_pos_df.groupby(['POS', 'word']).count().sort_values(by='count', ascending=False).head(10)"
   ]
  },
  {
   "cell_type": "code",
   "execution_count": 66,
   "id": "fec3bbfb",
   "metadata": {},
   "outputs": [
    {
     "data": {
      "text/plain": [
       "{'ADJ': 'adjective',\n",
       " 'ADP': 'adposition',\n",
       " 'ADV': 'adverb',\n",
       " 'AUX': 'auxiliary',\n",
       " 'CONJ': 'conjunction',\n",
       " 'CCONJ': 'coordinating conjunction',\n",
       " 'DET': 'determiner',\n",
       " 'INTJ': 'interjection',\n",
       " 'NOUN': 'noun',\n",
       " 'NUM': 'numeral',\n",
       " 'PART': 'particle',\n",
       " 'PRON': 'pronoun',\n",
       " 'PROPN': 'proper noun',\n",
       " 'PUNCT': 'punctuation',\n",
       " 'SCONJ': 'subordinating conjunction',\n",
       " 'SYM': 'symbol',\n",
       " 'VERB': 'verb',\n",
       " 'X': 'other',\n",
       " 'EOL': 'end of line',\n",
       " 'SPACE': 'space',\n",
       " '.': 'punctuation mark, sentence closer',\n",
       " ',': 'punctuation mark, comma',\n",
       " '-LRB-': 'left round bracket',\n",
       " '-RRB-': 'right round bracket',\n",
       " '``': 'opening quotation mark',\n",
       " '\"\"': 'closing quotation mark',\n",
       " \"''\": 'closing quotation mark',\n",
       " ':': 'punctuation mark, colon or ellipsis',\n",
       " '$': 'symbol, currency',\n",
       " '#': 'symbol, number sign',\n",
       " 'AFX': 'affix',\n",
       " 'CC': 'conjunction, coordinating',\n",
       " 'CD': 'cardinal number',\n",
       " 'DT': 'determiner',\n",
       " 'EX': 'existential there',\n",
       " 'FW': 'foreign word',\n",
       " 'HYPH': 'punctuation mark, hyphen',\n",
       " 'IN': 'conjunction, subordinating or preposition',\n",
       " 'JJ': 'adjective',\n",
       " 'JJR': 'adjective, comparative',\n",
       " 'JJS': 'adjective, superlative',\n",
       " 'LS': 'list item marker',\n",
       " 'MD': 'verb, modal auxiliary',\n",
       " 'NIL': 'missing tag',\n",
       " 'NN': 'noun, singular or mass',\n",
       " 'NNP': 'noun, proper singular',\n",
       " 'NNPS': 'noun, proper plural',\n",
       " 'NNS': 'noun, plural',\n",
       " 'PDT': 'predeterminer',\n",
       " 'POS': 'possessive ending',\n",
       " 'PRP': 'pronoun, personal',\n",
       " 'PRP$': 'pronoun, possessive',\n",
       " 'RB': 'adverb',\n",
       " 'RBR': 'adverb, comparative',\n",
       " 'RBS': 'adverb, superlative',\n",
       " 'RP': 'adverb, particle',\n",
       " 'TO': 'infinitival \"to\"',\n",
       " 'UH': 'interjection',\n",
       " 'VB': 'verb, base form',\n",
       " 'VBD': 'verb, past tense',\n",
       " 'VBG': 'verb, gerund or present participle',\n",
       " 'VBN': 'verb, past participle',\n",
       " 'VBP': 'verb, non-3rd person singular present',\n",
       " 'VBZ': 'verb, 3rd person singular present',\n",
       " 'WDT': 'wh-determiner',\n",
       " 'WP': 'wh-pronoun, personal',\n",
       " 'WP$': 'wh-pronoun, possessive',\n",
       " 'WRB': 'wh-adverb',\n",
       " 'SP': 'space',\n",
       " 'ADD': 'email',\n",
       " 'NFP': 'superfluous punctuation',\n",
       " 'GW': 'additional word in multi-word expression',\n",
       " 'XX': 'unknown',\n",
       " 'BES': 'auxiliary \"be\"',\n",
       " 'HVS': 'forms of \"have\"',\n",
       " '$(': 'other sentence-internal punctuation mark',\n",
       " '$,': 'comma',\n",
       " '$.': 'sentence-final punctuation mark',\n",
       " 'ADJA': 'adjective, attributive',\n",
       " 'ADJD': 'adjective, adverbial or predicative',\n",
       " 'APPO': 'postposition',\n",
       " 'APPR': 'preposition; circumposition left',\n",
       " 'APPRART': 'preposition with article',\n",
       " 'APZR': 'circumposition right',\n",
       " 'ART': 'definite or indefinite article',\n",
       " 'CARD': 'cardinal number',\n",
       " 'FM': 'foreign language material',\n",
       " 'ITJ': 'interjection',\n",
       " 'KOKOM': 'comparative conjunction',\n",
       " 'KON': 'coordinate conjunction',\n",
       " 'KOUI': 'subordinate conjunction with \"zu\" and infinitive',\n",
       " 'KOUS': 'subordinate conjunction with sentence',\n",
       " 'NE': 'proper noun',\n",
       " 'NNE': 'proper noun',\n",
       " 'PAV': 'pronominal adverb',\n",
       " 'PROAV': 'pronominal adverb',\n",
       " 'PDAT': 'attributive demonstrative pronoun',\n",
       " 'PDS': 'substituting demonstrative pronoun',\n",
       " 'PIAT': 'attributive indefinite pronoun without determiner',\n",
       " 'PIDAT': 'attributive indefinite pronoun with determiner',\n",
       " 'PIS': 'substituting indefinite pronoun',\n",
       " 'PPER': 'non-reflexive personal pronoun',\n",
       " 'PPOSAT': 'attributive possessive pronoun',\n",
       " 'PPOSS': 'substituting possessive pronoun',\n",
       " 'PRELAT': 'attributive relative pronoun',\n",
       " 'PRELS': 'substituting relative pronoun',\n",
       " 'PRF': 'reflexive personal pronoun',\n",
       " 'PTKA': 'particle with adjective or adverb',\n",
       " 'PTKANT': 'answer particle',\n",
       " 'PTKNEG': 'negative particle',\n",
       " 'PTKVZ': 'separable verbal particle',\n",
       " 'PTKZU': '\"zu\" before infinitive',\n",
       " 'PWAT': 'attributive interrogative pronoun',\n",
       " 'PWAV': 'adverbial interrogative or relative pronoun',\n",
       " 'PWS': 'substituting interrogative pronoun',\n",
       " 'TRUNC': 'word remnant',\n",
       " 'VAFIN': 'finite verb, auxiliary',\n",
       " 'VAIMP': 'imperative, auxiliary',\n",
       " 'VAINF': 'infinitive, auxiliary',\n",
       " 'VAPP': 'perfect participle, auxiliary',\n",
       " 'VMFIN': 'finite verb, modal',\n",
       " 'VMINF': 'infinitive, modal',\n",
       " 'VMPP': 'perfect participle, modal',\n",
       " 'VVFIN': 'finite verb, full',\n",
       " 'VVIMP': 'imperative, full',\n",
       " 'VVINF': 'infinitive, full',\n",
       " 'VVIZU': 'infinitive with \"zu\", full',\n",
       " 'VVPP': 'perfect participle, full',\n",
       " 'XY': 'non-word containing non-letter',\n",
       " 'NP': 'noun phrase',\n",
       " 'PP': 'prepositional phrase',\n",
       " 'VP': 'verb phrase',\n",
       " 'ADVP': 'adverb phrase',\n",
       " 'ADJP': 'adjective phrase',\n",
       " 'SBAR': 'subordinating conjunction',\n",
       " 'PRT': 'particle',\n",
       " 'PNP': 'prepositional noun phrase',\n",
       " 'acl': 'clausal modifier of noun (adjectival clause)',\n",
       " 'acomp': 'adjectival complement',\n",
       " 'advcl': 'adverbial clause modifier',\n",
       " 'advmod': 'adverbial modifier',\n",
       " 'agent': 'agent',\n",
       " 'amod': 'adjectival modifier',\n",
       " 'appos': 'appositional modifier',\n",
       " 'attr': 'attribute',\n",
       " 'aux': 'auxiliary',\n",
       " 'auxpass': 'auxiliary (passive)',\n",
       " 'case': 'case marking',\n",
       " 'cc': 'coordinating conjunction',\n",
       " 'ccomp': 'clausal complement',\n",
       " 'clf': 'classifier',\n",
       " 'complm': 'complementizer',\n",
       " 'compound': 'compound',\n",
       " 'conj': 'conjunct',\n",
       " 'cop': 'copula',\n",
       " 'csubj': 'clausal subject',\n",
       " 'csubjpass': 'clausal subject (passive)',\n",
       " 'dative': 'dative',\n",
       " 'dep': 'unclassified dependent',\n",
       " 'det': 'determiner',\n",
       " 'discourse': 'discourse element',\n",
       " 'dislocated': 'dislocated elements',\n",
       " 'dobj': 'direct object',\n",
       " 'expl': 'expletive',\n",
       " 'fixed': 'fixed multiword expression',\n",
       " 'flat': 'flat multiword expression',\n",
       " 'goeswith': 'goes with',\n",
       " 'hmod': 'modifier in hyphenation',\n",
       " 'hyph': 'hyphen',\n",
       " 'infmod': 'infinitival modifier',\n",
       " 'intj': 'interjection',\n",
       " 'iobj': 'indirect object',\n",
       " 'list': 'list',\n",
       " 'mark': 'marker',\n",
       " 'meta': 'meta modifier',\n",
       " 'neg': 'negation modifier',\n",
       " 'nmod': 'modifier of nominal',\n",
       " 'nn': 'noun compound modifier',\n",
       " 'npadvmod': 'noun phrase as adverbial modifier',\n",
       " 'nsubj': 'nominal subject',\n",
       " 'nsubjpass': 'nominal subject (passive)',\n",
       " 'nounmod': 'modifier of nominal',\n",
       " 'npmod': 'noun phrase as adverbial modifier',\n",
       " 'num': 'number modifier',\n",
       " 'number': 'number compound modifier',\n",
       " 'nummod': 'numeric modifier',\n",
       " 'oprd': 'object predicate',\n",
       " 'obj': 'object',\n",
       " 'obl': 'oblique nominal',\n",
       " 'orphan': 'orphan',\n",
       " 'parataxis': 'parataxis',\n",
       " 'partmod': 'participal modifier',\n",
       " 'pcomp': 'complement of preposition',\n",
       " 'pobj': 'object of preposition',\n",
       " 'poss': 'possession modifier',\n",
       " 'possessive': 'possessive modifier',\n",
       " 'preconj': 'pre-correlative conjunction',\n",
       " 'prep': 'prepositional modifier',\n",
       " 'prt': 'particle',\n",
       " 'punct': 'punctuation',\n",
       " 'quantmod': 'modifier of quantifier',\n",
       " 'rcmod': 'relative clause modifier',\n",
       " 'relcl': 'relative clause modifier',\n",
       " 'reparandum': 'overridden disfluency',\n",
       " 'root': 'root',\n",
       " 'vocative': 'vocative',\n",
       " 'xcomp': 'open clausal complement',\n",
       " 'ac': 'adpositional case marker',\n",
       " 'adc': 'adjective component',\n",
       " 'ag': 'genitive attribute',\n",
       " 'ams': 'measure argument of adjective',\n",
       " 'app': 'apposition',\n",
       " 'avc': 'adverbial phrase component',\n",
       " 'cd': 'coordinating conjunction',\n",
       " 'cj': 'conjunct',\n",
       " 'cm': 'comparative conjunction',\n",
       " 'cp': 'complementizer',\n",
       " 'cvc': 'collocational verb construction',\n",
       " 'da': 'dative',\n",
       " 'dh': 'discourse-level head',\n",
       " 'dm': 'discourse marker',\n",
       " 'ep': 'expletive es',\n",
       " 'hd': 'head',\n",
       " 'ju': 'junctor',\n",
       " 'mnr': 'postnominal modifier',\n",
       " 'mo': 'modifier',\n",
       " 'ng': 'negation',\n",
       " 'nk': 'noun kernel element',\n",
       " 'nmc': 'numerical component',\n",
       " 'oa': 'accusative object',\n",
       " 'oc': 'clausal object',\n",
       " 'og': 'genitive object',\n",
       " 'op': 'prepositional object',\n",
       " 'par': 'parenthetical element',\n",
       " 'pd': 'predicate',\n",
       " 'pg': 'phrasal genitive',\n",
       " 'ph': 'placeholder',\n",
       " 'pm': 'morphological particle',\n",
       " 'pnc': 'proper noun component',\n",
       " 'rc': 'relative clause',\n",
       " 're': 'repeated element',\n",
       " 'rs': 'reported speech',\n",
       " 'sb': 'subject',\n",
       " 'sbp': 'passivized subject (PP)',\n",
       " 'sp': 'subject or predicate',\n",
       " 'svp': 'separable verb prefix',\n",
       " 'uc': 'unit component',\n",
       " 'vo': 'vocative',\n",
       " 'PERSON': 'People, including fictional',\n",
       " 'NORP': 'Nationalities or religious or political groups',\n",
       " 'FACILITY': 'Buildings, airports, highways, bridges, etc.',\n",
       " 'FAC': 'Buildings, airports, highways, bridges, etc.',\n",
       " 'ORG': 'Companies, agencies, institutions, etc.',\n",
       " 'GPE': 'Countries, cities, states',\n",
       " 'LOC': 'Non-GPE locations, mountain ranges, bodies of water',\n",
       " 'PRODUCT': 'Objects, vehicles, foods, etc. (not services)',\n",
       " 'EVENT': 'Named hurricanes, battles, wars, sports events, etc.',\n",
       " 'WORK_OF_ART': 'Titles of books, songs, etc.',\n",
       " 'LAW': 'Named documents made into laws.',\n",
       " 'LANGUAGE': 'Any named language',\n",
       " 'DATE': 'Absolute or relative dates or periods',\n",
       " 'TIME': 'Times smaller than a day',\n",
       " 'PERCENT': 'Percentage, including \"%\"',\n",
       " 'MONEY': 'Monetary values, including unit',\n",
       " 'QUANTITY': 'Measurements, as of weight or distance',\n",
       " 'ORDINAL': '\"first\", \"second\", etc.',\n",
       " 'CARDINAL': 'Numerals that do not fall under another type',\n",
       " 'PER': 'Named person or family.',\n",
       " 'MISC': 'Miscellaneous entities, e.g. events, nationalities, products or works of art',\n",
       " 'EVT': 'Festivals, cultural events, sports events, weather phenomena, wars, etc.',\n",
       " 'PROD': 'Product, i.e. artificially produced entities including speeches, radio shows, programming languages, contracts, laws and ideas',\n",
       " 'DRV': \"Words (and phrases?) that are dervied from a name, but not a name in themselves, e.g. 'Oslo-mannen' ('the man from Oslo')\",\n",
       " 'GPE_LOC': \"Geo-political entity, with a locative sense, e.g. 'John lives in Spain'\",\n",
       " 'GPE_ORG': \"Geo-political entity, with an organisation sense, e.g. 'Spain declined to meet with Belgium'\"}"
      ]
     },
     "execution_count": 66,
     "metadata": {},
     "output_type": "execute_result"
    }
   ],
   "source": [
    "from spacy.glossary import GLOSSARY\n",
    "GLOSSARY"
   ]
  },
  {
   "cell_type": "markdown",
   "id": "6ffcc9bb",
   "metadata": {},
   "source": [
    "# Topic modeling"
   ]
  },
  {
   "cell_type": "code",
   "execution_count": 67,
   "id": "67c10653",
   "metadata": {},
   "outputs": [
    {
     "data": {
      "text/plain": [
       "[('alt.atheism', 0),\n",
       " ('comp.graphics', 1),\n",
       " ('comp.os.ms-windows.misc', 2),\n",
       " ('comp.sys.ibm.pc.hardware', 3),\n",
       " ('comp.sys.mac.hardware', 4),\n",
       " ('comp.windows.x', 5),\n",
       " ('misc.forsale', 6),\n",
       " ('rec.autos', 7),\n",
       " ('rec.motorcycles', 8),\n",
       " ('rec.sport.baseball', 9),\n",
       " ('rec.sport.hockey', 10),\n",
       " ('sci.crypt', 11),\n",
       " ('sci.electronics', 12),\n",
       " ('sci.med', 13),\n",
       " ('sci.space', 14),\n",
       " ('soc.religion.christian', 15),\n",
       " ('talk.politics.guns', 16),\n",
       " ('talk.politics.mideast', 17),\n",
       " ('talk.politics.misc', 18),\n",
       " ('talk.religion.misc', 19)]"
      ]
     },
     "execution_count": 67,
     "metadata": {},
     "output_type": "execute_result"
    }
   ],
   "source": [
    "list(zip(newsgroups_train['target_names'], range(len(newsgroups_train['target_names']))))"
   ]
  },
  {
   "cell_type": "code",
   "execution_count": 94,
   "id": "56860a4e",
   "metadata": {},
   "outputs": [],
   "source": [
    "space_ng = ng_train_df[ng_train_df['label'] == 14].copy().reset_index()"
   ]
  },
  {
   "cell_type": "code",
   "execution_count": 95,
   "id": "27883434",
   "metadata": {},
   "outputs": [
    {
     "data": {
      "text/html": [
       "<style  type=\"text/css\" >\n",
       "</style><table id=\"T_54f51_\" ><thead>    <tr>        <th class=\"col_heading level0 col0\" >Description</th>        <th class=\"col_heading level0 col1\" >Value</th>    </tr></thead><tbody>\n",
       "                <tr>\n",
       "                                <td id=\"T_54f51_row0_col0\" class=\"data row0 col0\" >session_id</td>\n",
       "                        <td id=\"T_54f51_row0_col1\" class=\"data row0 col1\" >6986</td>\n",
       "            </tr>\n",
       "            <tr>\n",
       "                                <td id=\"T_54f51_row1_col0\" class=\"data row1 col0\" >Documents</td>\n",
       "                        <td id=\"T_54f51_row1_col1\" class=\"data row1 col1\" >593</td>\n",
       "            </tr>\n",
       "            <tr>\n",
       "                                <td id=\"T_54f51_row2_col0\" class=\"data row2 col0\" >Vocab Size</td>\n",
       "                        <td id=\"T_54f51_row2_col1\" class=\"data row2 col1\" >5888</td>\n",
       "            </tr>\n",
       "            <tr>\n",
       "                                <td id=\"T_54f51_row3_col0\" class=\"data row3 col0\" >Custom Stopwords</td>\n",
       "                        <td id=\"T_54f51_row3_col1\" class=\"data row3 col1\" >False</td>\n",
       "            </tr>\n",
       "    </tbody></table>"
      ],
      "text/plain": [
       "<pandas.io.formats.style.Styler at 0x22142815c70>"
      ]
     },
     "metadata": {},
     "output_type": "display_data"
    }
   ],
   "source": [
    "from pycaret.nlp import setup, create_model, plot_model, assign_model, tune_model\n",
    "\n",
    "space_setup = setup(space_ng, target='text')"
   ]
  },
  {
   "cell_type": "code",
   "execution_count": 96,
   "id": "0d0dccaf",
   "metadata": {},
   "outputs": [],
   "source": [
    "lda = create_model('lda')"
   ]
  },
  {
   "cell_type": "code",
   "execution_count": 97,
   "id": "afe52865",
   "metadata": {},
   "outputs": [
    {
     "data": {
      "text/html": [
       "        <script type=\"text/javascript\">\n",
       "        window.PlotlyConfig = {MathJaxConfig: 'local'};\n",
       "        if (window.MathJax) {MathJax.Hub.Config({SVG: {font: \"STIX-Web\"}});}\n",
       "        if (typeof require !== 'undefined') {\n",
       "        require.undef(\"plotly\");\n",
       "        requirejs.config({\n",
       "            paths: {\n",
       "                'plotly': ['https://cdn.plot.ly/plotly-latest.min']\n",
       "            }\n",
       "        });\n",
       "        require(['plotly'], function(Plotly) {\n",
       "            window._Plotly = Plotly;\n",
       "        });\n",
       "        }\n",
       "        </script>\n",
       "        "
      ]
     },
     "metadata": {},
     "output_type": "display_data"
    },
    {
     "data": {
      "text/html": [
       "\n",
       "<link rel=\"stylesheet\" type=\"text/css\" href=\"https://cdn.jsdelivr.net/gh/bmabey/pyLDAvis@3.2.2/pyLDAvis/js/ldavis.v1.0.0.css\">\n",
       "\n",
       "\n",
       "<div id=\"ldavis_el224423421322889765030536310\"></div>\n",
       "<script type=\"text/javascript\">\n",
       "\n",
       "var ldavis_el224423421322889765030536310_data = {\"mdsDat\": {\"x\": [-0.13778797777315288, -0.11408046461286617, 0.08887514062160609, 0.16299330176441296], \"y\": [-0.09597338704133514, 0.16334918759778108, -0.14253194075447656, 0.07515614019803064], \"topics\": [1, 2, 3, 4], \"cluster\": [1, 1, 1, 1], \"Freq\": [39.99156678248729, 27.184980937847886, 17.403230369887414, 15.420221909777407]}, \"tinfo\": {\"Term\": [\"write\", \"think\", \"mission\", \"launch\", \"image\", \"people\", \"probe\", \"information\", \"rocket\", \"station\", \"software\", \"system\", \"time\", \"vehicle\", \"look\", \"build\", \"thing\", \"cost\", \"go\", \"face\", \"available\", \"money\", \"shuttle\", \"idea\", \"orbit\", \"try\", \"maybe\", \"right\", \"email\", \"see\", \"rocket\", \"vehicle\", \"market\", \"payload\", \"funding\", \"foot\", \"aircraft\", \"altitude\", \"venture\", \"range\", \"firm\", \"pad\", \"pilot\", \"ssto\", \"pound\", \"obvious\", \"scientist\", \"generation\", \"acceleration\", \"build\", \"deliver\", \"burn\", \"gun\", \"economy\", \"launcher\", \"aluminum\", \"total\", \"colony\", \"economic\", \"factor\", \"technology\", \"military\", \"operation\", \"launch\", \"engine\", \"low\", \"commercial\", \"model\", \"require\", \"test\", \"development\", \"power\", \"research\", \"cheap\", \"cost\", \"satellite\", \"example\", \"new\", \"year\", \"flight\", \"system\", \"use\", \"space\", \"spacecraft\", \"need\", \"work\", \"lunar\", \"program\", \"orbit\", \"write\", \"think\", \"time\", \"large\", \"money\", \"project\", \"high\", \"probe\", \"software\", \"email\", \"archive\", \"format\", \"map\", \"astronomical\", \"internet\", \"observation\", \"publication\", \"gehrel\", \"file\", \"monthly\", \"request\", \"simulation\", \"database\", \"chapter\", \"global\", \"temporary\", \"faq\", \"server\", \"update\", \"lander\", \"comet\", \"interstellar\", \"stable\", \"feed\", \"track\", \"handbook\", \"info\", \"information\", \"image\", \"contact\", \"planetary\", \"list\", \"mail\", \"mission\", \"contain\", \"available\", \"reference\", \"shuttle\", \"send\", \"address\", \"planet\", \"orbit\", \"space\", \"book\", \"include\", \"post\", \"level\", \"system\", \"lunar\", \"group\", \"surface\", \"datum\", \"find\", \"program\", \"know\", \"earth\", \"write\", \"use\", \"tax\", \"sorry\", \"rimsat\", \"redesign\", \"reward\", \"slot\", \"stupid\", \"complaint\", \"inexpensive_popular_technology\", \"race\", \"overhead\", \"announce_reward_billion_corporation\", \"mining\", \"thiokol\", \"suspect\", \"rent\", \"hang\", \"michael_adams_high_jack\", \"car\", \"game\", \"resupply\", \"percentage\", \"mix\", \"decide\", \"joke\", \"save\", \"alot\", \"taxi\", \"gibbon\", \"quote\", \"prize\", \"bolt\", \"fee\", \"basically\", \"station\", \"proposal\", \"people\", \"right\", \"maybe\", \"write\", \"guess\", \"think\", \"age\", \"ask\", \"thing\", \"russian\", \"article\", \"try\", \"hear\", \"say\", \"idea\", \"pat\", \"talk\", \"go\", \"effort\", \"problem\", \"space\", \"money\", \"work\", \"year\", \"let\", \"cost\", \"know\", \"read\", \"want\", \"company\", \"large\", \"government\", \"take\", \"old\", \"point\", \"need\", \"way\", \"time\", \"ether\", \"eat\", \"visible\", \"dream\", \"food\", \"film\", \"oil\", \"plate\", \"shadow\", \"plutonium\", \"unlikely\", \"taste\", \"imagination\", \"detector\", \"property\", \"bomb\", \"uranium\", \"astronomer\", \"junk\", \"lattice\", \"sunlight\", \"explosion\", \"inflate\", \"orion\", \"freeze\", \"advertiser\", \"theory\", \"semi\", \"theoretical\", \"complain\", \"cause\", \"sun\", \"balloon\", \"advertisement\", \"face\", \"light\", \"sky\", \"night\", \"see\", \"mile\", \"motion\", \"look\", \"ton\", \"time\", \"life\", \"write\", \"live\", \"long\", \"think\", \"day\", \"idea\", \"come\", \"know\", \"try\", \"go\", \"earth\", \"remember\", \"space\", \"thing\", \"close\", \"give\", \"year\", \"end\"], \"Freq\": [411.0, 252.0, 165.0, 228.0, 118.0, 162.0, 88.0, 102.0, 119.0, 96.0, 75.0, 224.0, 211.0, 96.0, 138.0, 112.0, 134.0, 158.0, 127.0, 56.0, 105.0, 97.0, 147.0, 98.0, 225.0, 98.0, 67.0, 77.0, 46.0, 57.0, 118.81435092050913, 95.82540277445212, 56.59550536161853, 55.66590264276741, 53.15225869442906, 36.40825738075721, 29.321582754809942, 29.51489270359975, 27.486053782336235, 27.70713407900658, 26.138587929520686, 23.72020065539869, 22.902955343441786, 22.82849984648225, 23.060383739969343, 24.927917304666533, 23.018800525686284, 21.722977141670178, 20.263987545336832, 109.18792081832663, 20.3355464874018, 20.542309891597665, 20.67028147326128, 19.092080140793488, 18.866399808706877, 18.025777895133885, 36.339714088354874, 16.123012482668052, 17.206570709542444, 20.56587789551956, 91.38561787537799, 56.151026673685266, 33.80389724623474, 205.9267294231739, 57.42593191236878, 81.98523814974, 76.77655190777165, 51.72094799820792, 52.13686946211454, 58.776160338464834, 61.47372914253151, 77.56055276590187, 57.99216798710374, 50.8840095156756, 117.82116010228383, 102.8910146399913, 49.21663597562387, 84.83509088169257, 132.70610059332893, 68.19522518253432, 121.21256226490661, 97.28236563303618, 219.2064936167859, 59.38902201489476, 74.0316982274011, 77.06554386923516, 79.66356220735851, 75.70664704537826, 86.20502098513317, 107.48459341847492, 86.86258573343085, 79.87095723916354, 68.89058125276773, 62.2115680178853, 62.81810916483897, 59.94634299556361, 88.30370886009752, 74.84845275198734, 45.85484707403372, 39.591014705266524, 27.640678881460907, 24.68201168006025, 22.66815507000549, 21.975477182618217, 21.37412144921024, 20.395215037037975, 20.343093318824117, 45.85468516044743, 19.22658348882116, 19.522934504063063, 18.324879498509844, 16.282284672546357, 22.328213158627168, 15.794269895195532, 14.567398608254482, 14.339460420189436, 13.988810527260938, 14.132174888317966, 13.954373531377755, 13.860709413025399, 13.680720777013308, 15.851351662646415, 15.00033240747067, 16.48252840907141, 13.030442564377637, 14.833604783306798, 94.78746324875158, 108.01683255610868, 29.439278606833653, 48.493616398644036, 46.60399521595224, 38.500483331920336, 129.02862464932252, 28.47519307043463, 78.35943321803559, 42.64485818226289, 97.30849248299164, 65.85912031132735, 37.76635845775791, 46.43099633163383, 122.63457617009894, 243.48715454004753, 36.83543629340709, 69.94140708395734, 58.91926691536205, 47.129462629730824, 101.67161258840645, 85.08572259368978, 38.809044366356616, 46.68628201355397, 45.3484305284701, 61.04441743113306, 56.86132210315585, 60.732895691118976, 45.41923302670169, 49.284864964310934, 40.69470155749845, 17.21264351128286, 17.09115231050658, 14.225463318671917, 15.756809216026102, 12.860394354135128, 10.716534715554433, 9.745759180427338, 8.762466555164353, 8.677784391428728, 22.80215867213736, 8.144514705129081, 12.15725780580277, 15.616725161953699, 7.658300022960254, 8.208640151223415, 7.192565243757576, 7.090687235787574, 6.817867885810904, 7.754393330605346, 6.863543927701244, 6.2733291164769, 6.537418895088925, 6.5411545870914045, 11.786346578410326, 5.784808143097821, 6.321393817120714, 6.179178387182657, 5.962225517505666, 5.397230907633869, 5.5479658254274495, 22.52556105816958, 5.919058446510586, 10.202949021129117, 22.25789615799046, 66.31881417925999, 12.704185696629256, 93.83800657148653, 45.1219211843906, 39.85194581734162, 161.03834226075008, 20.423178567730865, 102.97455504171842, 20.468104972430073, 21.66452963139031, 58.70177844449856, 22.943804933096967, 59.16882647700274, 43.86889058819771, 30.448744919877655, 53.421445127519746, 42.93764129355962, 21.873856099495036, 29.244733192160744, 47.10589801775086, 21.716902432188103, 37.855108541502375, 95.00769972349778, 35.23085640293731, 43.357523264571334, 52.32326551258656, 25.692944776748742, 37.17169485512092, 40.178121288505686, 28.660312336041443, 30.671851755607037, 25.203798180232372, 32.11929196527913, 27.378319830886433, 27.64791157629017, 25.984973811117698, 26.484448742267457, 27.836351856580716, 26.35438946603993, 26.834136907848713, 27.70513661254926, 21.981852271154164, 19.203691060843077, 17.40789139380999, 15.682541676864052, 15.859771945190186, 16.55264021768802, 13.01452698561498, 12.036590294868295, 12.145674062099214, 11.14570003129943, 10.59583338192581, 10.018447528308608, 9.566223663490428, 9.347537053481457, 12.505168729531645, 8.535244504038126, 8.690323448897177, 8.306480612198666, 7.8870708502146325, 8.602714484870493, 8.959704797293538, 7.937012806054999, 6.801081983134804, 7.40888090767146, 7.4075746085457395, 22.63518551951565, 6.7653485928633925, 14.447291119161113, 6.869238734537033, 20.733940534228932, 22.618665304709157, 19.36484064752743, 8.644370912546218, 41.87269767335382, 22.308874785994394, 21.683401052069314, 13.596545978001997, 35.97962396649937, 10.416989305263568, 11.872864191013191, 60.862176998217464, 11.04148392986278, 76.80240483318848, 24.741605570119262, 93.752102583376, 20.60590189926982, 33.255981269103756, 60.9614590118704, 26.697811881584407, 33.00363019079085, 29.624791149231086, 45.97011767754705, 30.649106789100465, 33.276353959297964, 32.47226411553861, 22.780393828733594, 50.64715728226172, 29.455078866080466, 21.748204313029213, 23.503686652494736, 26.665153583416856, 19.73387138058007], \"Total\": [411.0, 252.0, 165.0, 228.0, 118.0, 162.0, 88.0, 102.0, 119.0, 96.0, 75.0, 224.0, 211.0, 96.0, 138.0, 112.0, 134.0, 158.0, 127.0, 56.0, 105.0, 97.0, 147.0, 98.0, 225.0, 98.0, 67.0, 77.0, 46.0, 57.0, 119.48832549491286, 96.49556384960087, 57.27110217534492, 56.340729478148376, 53.83440588875001, 37.10411957585781, 29.995986271037737, 30.21370522329314, 28.14817386925856, 28.389447916388768, 26.816606785273915, 24.393746561132637, 23.563795715058397, 23.489104770274796, 23.754266116260222, 25.687006056645835, 23.735059587419084, 22.402780709854373, 20.928708570122406, 112.78119455645309, 21.00542453722639, 21.22946346166458, 21.37562614563337, 19.75031216283266, 19.526388165274128, 18.691635546066436, 37.74632994748345, 16.791162443985673, 17.927940771811517, 21.433600789109967, 97.42830778686337, 59.55981676294667, 35.509041439671414, 228.9238923588835, 61.741971065544305, 91.18941368164664, 86.26360804216132, 57.42532952585551, 57.953093986751384, 66.84645097959812, 70.85426422900186, 92.80370749168112, 68.14470128775304, 58.823333176089946, 158.11135739088186, 135.5808611112518, 57.82044799241414, 114.0842669364178, 244.29403923855048, 99.52786343108973, 224.05977680481064, 165.756043850919, 608.3485051625929, 86.80931490454435, 129.5821937009586, 152.98137542447162, 172.03074222065698, 153.2919064191775, 225.2972441776856, 411.55990322691196, 252.34927746521285, 211.9402244300038, 133.24243048898407, 97.91163544507445, 103.57229414638978, 105.48726292756332, 88.9800079537249, 75.52631577590488, 46.561859356419326, 40.26273249656411, 28.306796924406143, 25.350744691704325, 23.345807658174195, 22.64485086601989, 22.05116343522208, 21.06915807467689, 21.017376665610424, 47.428548024474175, 19.898369183693294, 20.20725461941482, 19.009212727593784, 16.94885096469888, 23.29555349360709, 16.488925557309482, 15.239550698535314, 15.015901096332469, 14.660326060412872, 14.816460965766643, 14.632720528606306, 14.536858096504906, 14.351480545195452, 16.631123714428973, 15.748406784218393, 17.32826138940863, 13.703168647549342, 15.612045528700978, 102.40862235923251, 118.04349196820735, 31.584174509688243, 53.722672153493036, 51.66893359670473, 43.755025585570536, 165.13920384490834, 32.176175587298594, 105.26054448247616, 53.65471369219974, 147.3942183863512, 94.13441769140323, 47.77812437091649, 62.7745368444582, 225.2972441776856, 608.3485051625929, 47.4518765063693, 123.3303427655449, 96.34673097481112, 70.58366524171599, 224.05977680481064, 172.03074222065698, 54.93200820212283, 75.29619925599741, 72.57622801233254, 129.89671929177752, 153.2919064191775, 206.16344350650132, 130.77314653300076, 411.55990322691196, 165.756043850919, 17.894608758877578, 17.781721822945073, 14.922198703227163, 16.52962004720394, 13.56211721173806, 11.413855555235529, 10.429114528029308, 9.435006540781103, 9.349827794220559, 24.766864177973044, 8.871545960774673, 13.24767870632737, 17.022527675374775, 8.350088145895397, 8.96174701728153, 7.868258042613687, 7.790461809349331, 7.494078891587062, 8.536697537752563, 7.569561640008219, 6.945941361241084, 7.2577536654431505, 7.28515389332566, 13.129419261133457, 6.455928297341137, 7.055131568565197, 6.897797064339638, 6.663586422084639, 6.0702087840282015, 6.24489944488992, 26.26454192981067, 6.6849976587811515, 12.006685591305542, 28.18333772450965, 96.83351078464453, 15.730102325868122, 162.5872940439706, 77.46410776196308, 67.4026297034573, 411.55990322691196, 30.596909412244756, 252.34927746521285, 31.136444741468136, 34.30393840389532, 134.03411062421162, 37.43404403186382, 141.624415910879, 98.77815171210605, 58.345480886162, 136.01458866987602, 98.52794342899841, 36.73439846158069, 58.54417734064072, 127.64968354896091, 37.41463485494833, 100.9143752853653, 608.3485051625929, 97.91163544507445, 152.98137542447162, 244.29403923855048, 56.07304858596436, 158.11135739088186, 206.16344350650132, 79.64514317351642, 97.70628749074407, 55.72764048562847, 133.24243048898407, 77.8819919254173, 84.54519813907295, 66.26459106839549, 74.65003838020846, 129.5821937009586, 99.23891920305587, 211.9402244300038, 28.40873046182338, 22.75629303690703, 19.921783751761417, 18.144905023982446, 16.398493980105865, 16.62091521419921, 17.35796219996252, 13.7473709798227, 12.742066212028348, 12.87869655205525, 11.880170479321077, 11.313506333939003, 10.725176063934576, 10.268361829023195, 10.072206979839128, 13.512533470382621, 9.236243758307262, 9.417826700512684, 9.01927796703399, 8.596275566359468, 9.40915255039723, 9.816271154274785, 8.728217005600584, 7.513707044776298, 8.199913025120662, 8.201384758338873, 25.131321988777092, 7.515705650508803, 16.060048939273578, 7.665418298838707, 23.28094248261299, 26.7556638622901, 23.103679774839907, 9.722379405455612, 56.48402334052962, 28.12622884610362, 27.5564648851565, 16.874990766874337, 57.07732886217851, 12.124050366414519, 14.478177542027767, 138.60582204478533, 13.214299087631677, 211.9402244300038, 45.68188610404326, 411.55990322691196, 36.68297292706693, 83.15853480599031, 252.34927746521285, 61.09693706889817, 98.52794342899841, 82.42680307707602, 206.16344350650132, 98.77815171210605, 127.64968354896091, 130.77314653300076, 58.663274911076016, 608.3485051625929, 134.03411062421162, 58.45984606950618, 86.92301474449401, 244.29403923855048, 71.0075585764446], \"Category\": [\"Default\", \"Default\", \"Default\", \"Default\", \"Default\", \"Default\", \"Default\", \"Default\", \"Default\", \"Default\", \"Default\", \"Default\", \"Default\", \"Default\", \"Default\", \"Default\", \"Default\", \"Default\", \"Default\", \"Default\", \"Default\", \"Default\", \"Default\", \"Default\", \"Default\", \"Default\", \"Default\", \"Default\", \"Default\", \"Default\", \"Topic1\", \"Topic1\", \"Topic1\", \"Topic1\", \"Topic1\", \"Topic1\", \"Topic1\", \"Topic1\", \"Topic1\", \"Topic1\", \"Topic1\", \"Topic1\", \"Topic1\", \"Topic1\", \"Topic1\", \"Topic1\", \"Topic1\", \"Topic1\", \"Topic1\", \"Topic1\", \"Topic1\", \"Topic1\", \"Topic1\", \"Topic1\", \"Topic1\", \"Topic1\", \"Topic1\", \"Topic1\", \"Topic1\", \"Topic1\", \"Topic1\", \"Topic1\", \"Topic1\", \"Topic1\", \"Topic1\", \"Topic1\", \"Topic1\", \"Topic1\", \"Topic1\", \"Topic1\", \"Topic1\", \"Topic1\", \"Topic1\", \"Topic1\", \"Topic1\", \"Topic1\", \"Topic1\", \"Topic1\", \"Topic1\", \"Topic1\", \"Topic1\", \"Topic1\", \"Topic1\", \"Topic1\", \"Topic1\", \"Topic1\", \"Topic1\", \"Topic1\", \"Topic1\", \"Topic1\", \"Topic1\", \"Topic1\", \"Topic1\", \"Topic1\", \"Topic1\", \"Topic1\", \"Topic2\", \"Topic2\", \"Topic2\", \"Topic2\", \"Topic2\", \"Topic2\", \"Topic2\", \"Topic2\", \"Topic2\", \"Topic2\", \"Topic2\", \"Topic2\", \"Topic2\", \"Topic2\", \"Topic2\", \"Topic2\", \"Topic2\", \"Topic2\", \"Topic2\", \"Topic2\", \"Topic2\", \"Topic2\", \"Topic2\", \"Topic2\", \"Topic2\", \"Topic2\", \"Topic2\", \"Topic2\", \"Topic2\", \"Topic2\", \"Topic2\", \"Topic2\", \"Topic2\", \"Topic2\", \"Topic2\", \"Topic2\", \"Topic2\", \"Topic2\", \"Topic2\", \"Topic2\", \"Topic2\", \"Topic2\", \"Topic2\", \"Topic2\", \"Topic2\", \"Topic2\", \"Topic2\", \"Topic2\", \"Topic2\", \"Topic2\", \"Topic2\", \"Topic2\", \"Topic2\", \"Topic2\", \"Topic2\", \"Topic2\", \"Topic2\", \"Topic2\", \"Topic2\", \"Topic2\", \"Topic2\", \"Topic3\", \"Topic3\", \"Topic3\", \"Topic3\", \"Topic3\", \"Topic3\", \"Topic3\", \"Topic3\", \"Topic3\", \"Topic3\", \"Topic3\", \"Topic3\", \"Topic3\", \"Topic3\", \"Topic3\", \"Topic3\", \"Topic3\", \"Topic3\", \"Topic3\", \"Topic3\", \"Topic3\", \"Topic3\", \"Topic3\", \"Topic3\", \"Topic3\", \"Topic3\", \"Topic3\", \"Topic3\", \"Topic3\", \"Topic3\", \"Topic3\", \"Topic3\", \"Topic3\", \"Topic3\", \"Topic3\", \"Topic3\", \"Topic3\", \"Topic3\", \"Topic3\", \"Topic3\", \"Topic3\", \"Topic3\", \"Topic3\", \"Topic3\", \"Topic3\", \"Topic3\", \"Topic3\", \"Topic3\", \"Topic3\", \"Topic3\", \"Topic3\", \"Topic3\", \"Topic3\", \"Topic3\", \"Topic3\", \"Topic3\", \"Topic3\", \"Topic3\", \"Topic3\", \"Topic3\", \"Topic3\", \"Topic3\", \"Topic3\", \"Topic3\", \"Topic3\", \"Topic3\", \"Topic3\", \"Topic3\", \"Topic3\", \"Topic3\", \"Topic3\", \"Topic3\", \"Topic3\", \"Topic3\", \"Topic4\", \"Topic4\", \"Topic4\", \"Topic4\", \"Topic4\", \"Topic4\", \"Topic4\", \"Topic4\", \"Topic4\", \"Topic4\", \"Topic4\", \"Topic4\", \"Topic4\", \"Topic4\", \"Topic4\", \"Topic4\", \"Topic4\", \"Topic4\", \"Topic4\", \"Topic4\", \"Topic4\", \"Topic4\", \"Topic4\", \"Topic4\", \"Topic4\", \"Topic4\", \"Topic4\", \"Topic4\", \"Topic4\", \"Topic4\", \"Topic4\", \"Topic4\", \"Topic4\", \"Topic4\", \"Topic4\", \"Topic4\", \"Topic4\", \"Topic4\", \"Topic4\", \"Topic4\", \"Topic4\", \"Topic4\", \"Topic4\", \"Topic4\", \"Topic4\", \"Topic4\", \"Topic4\", \"Topic4\", \"Topic4\", \"Topic4\", \"Topic4\", \"Topic4\", \"Topic4\", \"Topic4\", \"Topic4\", \"Topic4\", \"Topic4\", \"Topic4\", \"Topic4\", \"Topic4\", \"Topic4\", \"Topic4\", \"Topic4\"], \"logprob\": [30.0, 29.0, 28.0, 27.0, 26.0, 25.0, 24.0, 23.0, 22.0, 21.0, 20.0, 19.0, 18.0, 17.0, 16.0, 15.0, 14.0, 13.0, 12.0, 11.0, 10.0, 9.0, 8.0, 7.0, 6.0, 5.0, 4.0, 3.0, 2.0, 1.0, -5.0354, -5.2504, -5.777, -5.7935, -5.8398, -6.2181, -6.4346, -6.428, -6.4992, -6.4912, -6.5495, -6.6466, -6.6816, -6.6849, -6.6748, -6.5969, -6.6766, -6.7345, -6.8041, -5.1198, -6.8005, -6.7904, -6.7842, -6.8636, -6.8755, -6.9211, -6.22, -7.0327, -6.9676, -6.7893, -5.2978, -5.7849, -6.2923, -4.4854, -5.7624, -5.4064, -5.472, -5.8671, -5.859, -5.7392, -5.6943, -5.4619, -5.7526, -5.8834, -5.0437, -5.1792, -5.9167, -5.3722, -4.9248, -5.5905, -5.0154, -5.2353, -4.4229, -5.7288, -5.5084, -5.4683, -5.4351, -5.486, -5.3562, -5.1356, -5.3486, -5.4325, -5.5804, -5.6824, -5.6727, -5.7195, -4.9461, -5.1114, -5.6014, -5.7483, -6.1076, -6.2208, -6.3059, -6.337, -6.3647, -6.4116, -6.4142, -5.6014, -6.4706, -6.4553, -6.5187, -6.6368, -6.3211, -6.6673, -6.7481, -6.7639, -6.7887, -6.7785, -6.7911, -6.7979, -6.8109, -6.6637, -6.7188, -6.6246, -6.8596, -6.73, -4.8753, -4.7446, -6.0446, -5.5455, -5.5852, -5.7762, -4.5669, -6.0779, -5.0656, -5.674, -4.849, -5.2394, -5.7955, -5.5889, -4.6177, -3.9318, -5.8204, -5.1793, -5.3507, -5.574, -4.8052, -4.9833, -5.7683, -5.5835, -5.6125, -5.3153, -5.3863, -5.3204, -5.611, -5.5293, -5.7208, -6.1353, -6.1423, -6.3259, -6.2236, -6.4267, -6.6091, -6.7041, -6.8104, -6.8201, -5.854, -6.8836, -6.483, -6.2326, -6.9451, -6.8757, -7.0079, -7.0221, -7.0614, -6.9326, -7.0547, -7.1446, -7.1034, -7.1028, -6.514, -7.2257, -7.137, -7.1597, -7.1955, -7.295, -7.2675, -5.8663, -7.2027, -6.6582, -5.8782, -4.7864, -6.439, -4.4393, -5.1715, -5.2957, -3.8993, -5.9642, -4.3464, -5.962, -5.9052, -4.9084, -5.8479, -4.9005, -5.1997, -5.5649, -5.0027, -5.2212, -5.8956, -5.6052, -5.1285, -5.9028, -5.3471, -4.4269, -5.419, -5.2114, -5.0235, -5.7347, -5.3654, -5.2876, -5.6254, -5.5576, -5.7539, -5.5114, -5.6712, -5.6614, -5.7234, -5.7043, -5.6546, -5.7093, -5.6912, -5.5383, -5.7697, -5.9048, -6.003, -6.1074, -6.0961, -6.0534, -6.2939, -6.372, -6.363, -6.4489, -6.4995, -6.5555, -6.6017, -6.6248, -6.3338, -6.7157, -6.6977, -6.7429, -6.7947, -6.7078, -6.6672, -6.7884, -6.9428, -6.8572, -6.8574, -5.7404, -6.9481, -6.1894, -6.9329, -5.8282, -5.7411, -5.8965, -6.703, -5.1253, -5.7549, -5.7834, -6.2501, -5.277, -6.5165, -6.3857, -4.7513, -6.4583, -4.5187, -5.6514, -4.3193, -5.8343, -5.3557, -4.7497, -5.5753, -5.3633, -5.4713, -5.0319, -5.4373, -5.3551, -5.3795, -5.734, -4.935, -5.4771, -5.7804, -5.7028, -5.5766, -5.8776], \"loglift\": [30.0, 29.0, 28.0, 27.0, 26.0, 25.0, 24.0, 23.0, 22.0, 21.0, 20.0, 19.0, 18.0, 17.0, 16.0, 15.0, 14.0, 13.0, 12.0, 11.0, 10.0, 9.0, 8.0, 7.0, 6.0, 5.0, 4.0, 3.0, 2.0, 1.0, 0.9108, 0.9095, 0.9046, 0.9045, 0.9037, 0.8976, 0.8938, 0.8931, 0.8927, 0.8922, 0.8909, 0.8885, 0.8881, 0.888, 0.8869, 0.8865, 0.8859, 0.8857, 0.8842, 0.8841, 0.8841, 0.8836, 0.8829, 0.8826, 0.8821, 0.8802, 0.8785, 0.8759, 0.8754, 0.8752, 0.8525, 0.8576, 0.8673, 0.8106, 0.844, 0.8101, 0.8, 0.8119, 0.8107, 0.7878, 0.7745, 0.7371, 0.7552, 0.7715, 0.6224, 0.6406, 0.7554, 0.6203, 0.3063, 0.5384, 0.3021, 0.3836, -0.1042, 0.5369, 0.3567, 0.2308, 0.1466, 0.211, -0.0442, -0.4261, -0.15, -0.0594, 0.2569, 0.463, 0.4165, 0.3514, 1.2949, 1.2935, 1.2872, 1.2857, 1.2787, 1.2758, 1.273, 1.2725, 1.2713, 1.27, 1.2699, 1.2688, 1.2682, 1.2681, 1.2658, 1.2624, 1.2601, 1.2595, 1.2574, 1.2564, 1.2556, 1.2552, 1.255, 1.2549, 1.2546, 1.2545, 1.2538, 1.2525, 1.2522, 1.2514, 1.2252, 1.2137, 1.2322, 1.2001, 1.1993, 1.1746, 1.0558, 1.1803, 1.0074, 1.0728, 0.8873, 0.9453, 1.0674, 1.0009, 0.6943, 0.3868, 1.0492, 0.7353, 0.8107, 0.8986, 0.5123, 0.5985, 0.9551, 0.8245, 0.8322, 0.5474, 0.3108, 0.0803, 0.245, -0.8198, -0.1019, 1.7097, 1.7089, 1.7007, 1.7006, 1.6954, 1.6855, 1.6807, 1.6746, 1.6739, 1.6659, 1.663, 1.6626, 1.6623, 1.662, 1.6607, 1.6587, 1.6544, 1.6539, 1.6524, 1.6506, 1.6467, 1.644, 1.6408, 1.6406, 1.6388, 1.6387, 1.6385, 1.6373, 1.631, 1.6302, 1.5949, 1.6268, 1.5857, 1.5125, 1.37, 1.5349, 1.1989, 1.2081, 1.223, 0.8102, 1.3443, 0.8522, 1.329, 1.2889, 0.9229, 1.259, 0.8757, 0.9368, 1.0982, 0.814, 0.9179, 1.2301, 1.0544, 0.7516, 1.2045, 0.768, -0.1083, 0.7264, 0.4877, 0.2076, 0.9681, 0.3008, 0.1132, 0.7264, 0.5899, 0.955, 0.3258, 0.7031, 0.6308, 0.8124, 0.7123, 0.2105, 0.4226, -0.3181, 1.8444, 1.8349, 1.8328, 1.828, 1.8248, 1.8226, 1.822, 1.8147, 1.8125, 1.8109, 1.8057, 1.804, 1.8013, 1.7987, 1.7948, 1.792, 1.7906, 1.7891, 1.7872, 1.7834, 1.7799, 1.7782, 1.7745, 1.7698, 1.768, 1.7677, 1.7649, 1.7643, 1.7637, 1.7598, 1.7536, 1.7015, 1.693, 1.752, 1.5702, 1.6378, 1.6298, 1.6535, 1.408, 1.7177, 1.6711, 1.0465, 1.6899, 0.8544, 1.2563, 0.3902, 1.2928, 0.953, 0.4489, 1.0416, 0.7758, 0.8462, 0.3688, 0.6992, 0.525, 0.4764, 0.9236, -0.6164, 0.3543, 0.8807, 0.5616, -0.3455, 0.589]}, \"token.table\": {\"Topic\": [1, 2, 3, 1, 4, 4, 1, 3, 4, 1, 3, 1, 1, 3, 4, 2, 1, 2, 3, 4, 1, 2, 3, 4, 2, 1, 2, 4, 1, 2, 4, 2, 3, 4, 3, 2, 4, 2, 3, 4, 1, 3, 1, 3, 3, 4, 2, 1, 3, 4, 1, 2, 3, 4, 1, 1, 2, 3, 4, 2, 1, 2, 3, 1, 2, 3, 4, 4, 3, 1, 2, 1, 2, 1, 3, 4, 2, 1, 2, 3, 1, 2, 3, 4, 1, 3, 1, 4, 1, 2, 4, 1, 2, 3, 4, 4, 1, 1, 1, 2, 3, 2, 1, 3, 4, 1, 2, 3, 4, 1, 2, 3, 4, 4, 1, 2, 4, 1, 2, 2, 3, 2, 2, 3, 4, 1, 2, 3, 4, 1, 1, 2, 3, 4, 1, 2, 4, 1, 3, 2, 1, 3, 1, 2, 3, 4, 2, 1, 3, 4, 1, 3, 1, 2, 3, 4, 2, 3, 4, 1, 2, 3, 1, 2, 3, 4, 1, 2, 3, 4, 1, 2, 3, 4, 2, 4, 4, 1, 2, 3, 4, 3, 4, 2, 1, 2, 3, 2, 2, 3, 4, 1, 2, 3, 4, 2, 1, 2, 3, 4, 4, 1, 2, 1, 1, 3, 4, 1, 2, 1, 4, 1, 3, 4, 1, 2, 4, 1, 2, 3, 4, 1, 2, 3, 4, 1, 2, 3, 4, 1, 2, 4, 1, 2, 3, 2, 3, 2, 1, 1, 3, 4, 3, 1, 4, 1, 3, 3, 4, 1, 2, 3, 1, 2, 4, 1, 3, 2, 2, 4, 1, 2, 3, 4, 1, 2, 3, 1, 3, 4, 2, 1, 4, 1, 2, 3, 4, 1, 2, 1, 2, 3, 4, 4, 3, 1, 1, 3, 1, 1, 2, 3, 4, 3, 1, 2, 4, 2, 3, 4, 4, 1, 2, 3, 4, 1, 2, 3, 4, 1, 1, 3, 4, 1, 3, 2, 1, 2, 3, 4, 1, 2, 3, 1, 2, 3, 4, 4, 2, 3, 2, 3, 2, 3, 1, 1, 2, 3, 4, 3, 1, 2, 4, 1, 2, 3, 4, 3, 2, 1, 2, 3, 1, 2, 3, 3, 3, 1, 2, 3, 4, 3, 1, 1, 3, 1, 2, 3, 1, 2, 3, 4, 1, 1, 2, 3, 4, 4, 1, 2, 3, 4, 2, 4, 1, 2, 3, 2, 2, 3, 4, 3, 2, 3, 1, 2, 3, 4, 1, 2, 4, 1, 2, 1, 2, 3, 3, 1, 2, 4, 4, 1, 2, 3, 1, 2, 4, 1, 2, 3, 4, 1, 3, 4, 4, 3, 3, 1, 2, 3, 2, 1, 2, 1, 4, 1, 4, 1, 2, 3, 4, 1, 2, 3, 4, 3, 1, 2, 3, 4, 1, 4, 1, 3, 2, 1, 2, 3, 4, 4, 2, 4, 1, 2, 3, 4, 1, 1, 4, 1, 2, 3, 4, 1, 2, 3, 4, 1, 2, 3, 4, 1, 2, 3, 4, 1, 2, 3, 4], \"Freq\": [0.9556251372601069, 0.7953430675719738, 0.20930080725578257, 0.10285547994957493, 0.9256993195461745, 0.853514401075093, 0.19270022797461783, 0.642334093248726, 0.1284668186497452, 0.9667960152388988, 0.8698429286965998, 0.99292687799415, 0.9629975908549112, 0.90581906959055, 0.07548492246587916, 0.9934745487880999, 0.3106808929590798, 0.18358416402127442, 0.41659483374058426, 0.09179208201063721, 0.14575585873347516, 0.20405820222686522, 0.6413257784272907, 0.9556344883167219, 0.9851875907127542, 0.23750589665781194, 0.7410183975723732, 0.009500235866312478, 0.12984944516358057, 0.04328314838786019, 0.8223798193693436, 0.07096391561389478, 0.7806030717528426, 0.14192783122778957, 0.8975321019175878, 0.07400536710542438, 0.9620697723705169, 0.7797373407358004, 0.02107398218204866, 0.18966583963843792, 0.9664731822417398, 0.026600179327754308, 0.9891912736240868, 0.9371305431193878, 0.08590717499919383, 0.9020253374915351, 0.9443862325931588, 0.8670028923272591, 0.10200034027379519, 0.0170000567122992, 0.2565863752389232, 0.29079789193744626, 0.08552879174630773, 0.376326683683754, 0.9528822113046107, 0.38822323328586816, 0.09705580832146704, 0.15771568852238396, 0.3639592812055014, 0.9630691795337823, 0.8926127917390873, 0.05796186959344723, 0.04636949567475778, 0.4486104163417293, 0.017944416653669172, 0.4486104163417293, 0.08972208326834587, 0.9131921738779061, 0.9538944102581312, 0.06332285174610193, 0.9181813503184779, 0.09323668662425615, 0.870209075159724, 0.7463094489049333, 0.23401228482612316, 0.01897396903995593, 0.944016796969001, 0.34446540809136383, 0.620037734564455, 0.02755723264730911, 0.049102297822506906, 0.40918581518755753, 0.09820459564501381, 0.44192068040256216, 0.07616483106455925, 0.9139779727747109, 0.9521350051533332, 0.9738651760142811, 0.860922072422448, 0.1270212893738038, 0.9369021208725422, 0.2752858744659429, 0.34410734308242863, 0.12999610738669526, 0.24469855508083813, 0.966765543242019, 0.9482405266939224, 0.9620101111999312, 0.26727509272157, 0.133637546360785, 0.588005203987454, 0.987933055849028, 0.450656249018191, 0.2675771478545509, 0.28166015563636937, 0.9231969601276528, 0.016196437896976366, 0.048589313690929094, 0.9856125051989688, 0.8474510610230597, 0.034589839225431004, 0.05188475883814651, 0.05188475883814651, 0.9168450889909132, 0.15933709158324294, 0.10622472772216196, 0.7435730940551337, 0.9797700445493848, 0.9323449795110468, 0.08328693146792607, 0.8328693146792606, 0.9524773017059492, 0.9698799966691577, 0.021084347753677343, 0.9626425376582894, 0.2463495627485459, 0.4696038539894157, 0.16936532438962532, 0.10777793370248884, 0.9695484670445946, 0.683225758654824, 0.1607590020364292, 0.15071156440915237, 0.9756993550389867, 0.9702426687796625, 0.9891617223515098, 0.85366759117509, 0.9845005090151021, 0.9247563244616632, 0.9515935465307095, 0.9820209502083284, 0.8236948971435528, 0.3336285572381963, 0.25309752618070064, 0.13805319609856398, 0.27610639219712796, 0.9703482464269636, 0.36819519401293954, 0.36819519401293954, 0.25852002983887246, 0.6419969336156921, 0.3466783441524738, 0.10922593577724202, 0.7099685825520731, 0.12743025840678235, 0.05461296788862101, 0.03268303953600635, 0.6536607907201268, 0.2941473558240571, 0.9824273617495831, 0.9486856897382566, 0.898534666019324, 0.2056714559164098, 0.0685571519721366, 0.5141786397910245, 0.2056714559164098, 0.5687890493585106, 0.1801165322968617, 0.0947981748930851, 0.16115689731824467, 0.10149404982969364, 0.13194226477860171, 0.43642441426768264, 0.33493036443798896, 0.9149170208306582, 0.0847145389658017, 0.9323856261555353, 0.26757405566231257, 0.5675813301927842, 0.14594948490671594, 0.024324914151119325, 0.9625845735429696, 0.9165674953849895, 0.9607965831526816, 0.06835361943885113, 0.9276562638129796, 0.009764802776978733, 0.9715232893413517, 0.9755091090366199, 0.929378351750141, 0.8869889617816955, 0.2861807069018007, 0.2958817478137261, 0.19402081823850895, 0.22312394097428528, 0.9567598843038541, 0.5178530573690235, 0.18012280256313862, 0.2401637367508515, 0.06754605096117698, 0.9306355919192582, 0.8998623860416205, 0.10047007222794792, 0.9730422154461592, 0.4636808708579483, 0.4636808708579483, 0.0713355185935305, 0.32585442993411823, 0.6658764437784155, 0.43781029431334756, 0.5472628678916844, 0.14221600847687507, 0.03555400211921877, 0.7821880466228128, 0.058061968598309324, 0.9096375080401795, 0.03870797906553955, 0.21808483232549328, 0.08178181212205998, 0.1363030202034333, 0.5724726848544198, 0.24050447794276555, 0.1683531345599359, 0.19240358235421245, 0.3968323886055632, 0.3823793201332843, 0.10100585814841471, 0.07214704153458194, 0.44009695336094984, 0.8992271875578891, 0.010966185214120598, 0.08772948171296478, 0.46503316190653404, 0.49409773452569244, 0.04069040166682173, 0.8913261843197586, 0.1142725877333024, 0.9861643239293439, 0.9952663356379121, 0.17803459676269104, 0.5934486558756368, 0.22254324595336378, 0.9340707645683153, 0.08248068671589764, 0.8248068671589764, 0.9402312338012212, 0.050369530382208275, 0.9399309142052981, 0.05874568213783113, 0.21799790214448203, 0.7811591493510607, 0.9608582196750977, 0.905523754575709, 0.08706959178612586, 0.017413918357225174, 0.6332240261146509, 0.3574651760324642, 0.9548521200204936, 0.1381389331767986, 0.8288335990607917, 0.5710661155403218, 0.0848882063641019, 0.21607907074498667, 0.13119086438088476, 0.7450632964786701, 0.09641995601488672, 0.1577781098425419, 0.11851858336574658, 0.05925929168287329, 0.829630083560226, 0.9523307040778144, 0.9732547243874655, 0.9793776368539796, 0.1810921912671899, 0.25654727096185237, 0.3923664144122448, 0.16600117532825742, 0.9575026140247909, 0.028161841588964436, 0.38171794028769485, 0.5459454262254241, 0.013315742103059122, 0.062140129814275906, 0.931630679541407, 0.9017594042088952, 0.983858709028321, 0.38111417598527286, 0.5988937051197145, 0.9939523417374189, 0.2583227689898166, 0.06150542118805157, 0.5781509591676848, 0.10455921601968768, 0.9644857517456936, 0.9760736461189865, 0.7327811930174508, 0.25488041496259156, 0.8934775221689908, 0.09307057522593655, 0.9456353523215725, 0.9317713133077103, 0.2411251272011702, 0.1473542444007151, 0.34829185040169025, 0.2545209676012352, 0.14530851081662707, 0.6123715812986427, 0.13492933147258226, 0.10379179344044791, 0.9682471303230912, 0.8404836628643514, 0.04310172630073597, 0.11852974732702391, 0.1142224375364016, 0.8757053544457456, 0.9889862006504365, 0.47565076694242797, 0.06936573684577074, 0.37655685716275544, 0.079275127823738, 0.4957861231902069, 0.3718395923926551, 0.13699353403939926, 0.6082707785824979, 0.26068747653535623, 0.09655091723531713, 0.028965275170595137, 0.8935479600463638, 0.19071713189471792, 0.8264409048771111, 0.9492548268474992, 0.9607840851480297, 0.04037652860750018, 0.9286601579725041, 0.9862819482247154, 0.27622525521826713, 0.263669561799255, 0.36411510915135215, 0.10044554735209715, 0.9679593332640741, 0.11182614885283178, 0.8014207334452944, 0.07455076590188786, 0.34092880137218295, 0.0340928801372183, 0.23865016096052807, 0.3920681215780104, 0.8896505379067019, 0.9897435538217204, 0.8972773742138372, 0.034510668238993736, 0.06902133647798747, 0.8511300057664756, 0.04402396581550736, 0.10272258690285051, 0.8638137997364168, 0.9585523998235654, 0.25818408780305513, 0.038727613170458274, 0.580914197556874, 0.11618283951137481, 0.9381995427371086, 0.9959131949260295, 0.3739911185679862, 0.6144139805045489, 0.759694245602133, 0.23602151319677916, 0.8504448062646436, 0.42642484579924783, 0.13233874524804243, 0.3896640832303471, 0.05146506759646094, 0.9690306407400507, 0.052560273225888604, 0.087600455376481, 0.22776118397885062, 0.6307232787106632, 0.9313829366808837, 0.1699697134416033, 0.7011250679466137, 0.09560796381090186, 0.03186932127030062, 0.9549582964463564, 0.9417624897186732, 0.23067390547761416, 0.6580990832743698, 0.10855242610711255, 0.9469092833008907, 0.1814456252221702, 0.03628912504443404, 0.7983607509775489, 0.9637409503534768, 0.9930313590634221, 0.9560379005627926, 0.35999102182632636, 0.39944209271140324, 0.1561604889200959, 0.08383352563078833, 0.6796505658969488, 0.2188705212210513, 0.0921560089351795, 0.979177377126192, 0.9620516493493811, 0.2168670724611391, 0.0929430310547739, 0.6815822277350086, 0.9588541743523845, 0.07475052797396049, 0.07475052797396049, 0.8596310717005458, 0.9565154727584944, 0.3718647192908582, 0.6242014930953691, 0.8926830878592166, 0.5400344574359234, 0.45523565833441476, 0.0044630946895530856, 0.4021517572656411, 0.16559190005055813, 0.33118380010111625, 0.10645193574678737, 0.44410906739227657, 0.4953524213221546, 0.05124335392987806, 0.9722891980005769, 0.9500067997611985, 0.9004160252374963, 0.9340201227663104, 0.030791872179109135, 0.020527914786072757, 0.9842809868037423, 0.8826197821333418, 0.11967725859435142, 0.062266310879948765, 0.8717283523192827, 0.07958196552068136, 0.9151926034878357, 0.31335306963579174, 0.029843149489123026, 0.4401864549645646, 0.21636283379614193, 0.3447602500545825, 0.007925522989760517, 0.4081644339726666, 0.24172845118769576, 0.9580737185310448, 0.37746492066408616, 0.13211272223243015, 0.12739441072412908, 0.3633099861391829, 0.15135119817834006, 0.8324315899808703, 0.9537351061702389, 0.026492641838062193, 0.9233471056582463, 0.1417317469231831, 0.11136065829678672, 0.4454426331871469, 0.3138345824727626, 0.9259126389765935, 0.9448950078123871, 0.9744220957686636, 0.5851973644305953, 0.24735146331602484, 0.12669221291796395, 0.042230737639321315, 0.9948643872336633, 0.9592096498127535, 0.9537298585685172, 0.5117377937907691, 0.10234755875815384, 0.3172774321502769, 0.07164329113070768, 0.3627609035759375, 0.18138045178796874, 0.26199398591595485, 0.18138045178796874, 0.5033292437484695, 0.10458789480487678, 0.28107996728810636, 0.11112463823018158, 0.25998645436799506, 0.11905921742085754, 0.3911945715256748, 0.22839931505225733, 0.5444258910882673, 0.135083115833931, 0.2128582431322549, 0.11052254931867082], \"Term\": [\"acceleration\", \"address\", \"address\", \"advertisement\", \"advertisement\", \"advertiser\", \"age\", \"age\", \"age\", \"aircraft\", \"alot\", \"altitude\", \"aluminum\", \"announce_reward_billion_corporation\", \"announce_reward_billion_corporation\", \"archive\", \"article\", \"article\", \"article\", \"article\", \"ask\", \"ask\", \"ask\", \"astronomer\", \"astronomical\", \"available\", \"available\", \"available\", \"balloon\", \"balloon\", \"balloon\", \"basically\", \"basically\", \"basically\", \"bolt\", \"bomb\", \"bomb\", \"book\", \"book\", \"book\", \"build\", \"build\", \"burn\", \"car\", \"cause\", \"cause\", \"chapter\", \"cheap\", \"cheap\", \"cheap\", \"close\", \"close\", \"close\", \"close\", \"colony\", \"come\", \"come\", \"come\", \"come\", \"comet\", \"commercial\", \"commercial\", \"commercial\", \"company\", \"company\", \"company\", \"company\", \"complain\", \"complaint\", \"contact\", \"contact\", \"contain\", \"contain\", \"cost\", \"cost\", \"cost\", \"database\", \"datum\", \"datum\", \"datum\", \"day\", \"day\", \"day\", \"day\", \"decide\", \"decide\", \"deliver\", \"detector\", \"development\", \"development\", \"dream\", \"earth\", \"earth\", \"earth\", \"earth\", \"eat\", \"economic\", \"economy\", \"effort\", \"effort\", \"effort\", \"email\", \"end\", \"end\", \"end\", \"engine\", \"engine\", \"engine\", \"ether\", \"example\", \"example\", \"example\", \"example\", \"explosion\", \"face\", \"face\", \"face\", \"factor\", \"faq\", \"fee\", \"fee\", \"feed\", \"file\", \"file\", \"film\", \"find\", \"find\", \"find\", \"find\", \"firm\", \"flight\", \"flight\", \"flight\", \"food\", \"foot\", \"format\", \"freeze\", \"funding\", \"game\", \"gehrel\", \"generation\", \"gibbon\", \"give\", \"give\", \"give\", \"give\", \"global\", \"go\", \"go\", \"go\", \"government\", \"government\", \"group\", \"group\", \"group\", \"group\", \"guess\", \"guess\", \"guess\", \"gun\", \"handbook\", \"hang\", \"hear\", \"hear\", \"hear\", \"hear\", \"high\", \"high\", \"high\", \"high\", \"idea\", \"idea\", \"idea\", \"idea\", \"image\", \"image\", \"imagination\", \"include\", \"include\", \"include\", \"include\", \"inexpensive_popular_technology\", \"inflate\", \"info\", \"information\", \"information\", \"information\", \"internet\", \"interstellar\", \"joke\", \"junk\", \"know\", \"know\", \"know\", \"know\", \"lander\", \"large\", \"large\", \"large\", \"large\", \"lattice\", \"launch\", \"launch\", \"launcher\", \"let\", \"let\", \"let\", \"level\", \"level\", \"life\", \"life\", \"light\", \"light\", \"light\", \"list\", \"list\", \"list\", \"live\", \"live\", \"live\", \"live\", \"long\", \"long\", \"long\", \"long\", \"look\", \"look\", \"look\", \"look\", \"low\", \"low\", \"low\", \"lunar\", \"lunar\", \"lunar\", \"mail\", \"mail\", \"map\", \"market\", \"maybe\", \"maybe\", \"maybe\", \"michael_adams_high_jack\", \"mile\", \"mile\", \"military\", \"military\", \"mining\", \"mining\", \"mission\", \"mission\", \"mix\", \"model\", \"model\", \"model\", \"money\", \"money\", \"monthly\", \"motion\", \"motion\", \"need\", \"need\", \"need\", \"need\", \"new\", \"new\", \"new\", \"night\", \"night\", \"night\", \"observation\", \"obvious\", \"oil\", \"old\", \"old\", \"old\", \"old\", \"operation\", \"operation\", \"orbit\", \"orbit\", \"orbit\", \"orbit\", \"orion\", \"overhead\", \"pad\", \"pat\", \"pat\", \"payload\", \"people\", \"people\", \"people\", \"people\", \"percentage\", \"pilot\", \"planet\", \"planet\", \"planetary\", \"planetary\", \"plate\", \"plutonium\", \"point\", \"point\", \"point\", \"point\", \"post\", \"post\", \"post\", \"post\", \"pound\", \"power\", \"power\", \"power\", \"prize\", \"prize\", \"probe\", \"problem\", \"problem\", \"problem\", \"problem\", \"program\", \"program\", \"program\", \"project\", \"project\", \"project\", \"project\", \"property\", \"proposal\", \"proposal\", \"publication\", \"quote\", \"race\", \"race\", \"range\", \"read\", \"read\", \"read\", \"read\", \"redesign\", \"reference\", \"reference\", \"reference\", \"remember\", \"remember\", \"remember\", \"remember\", \"rent\", \"request\", \"require\", \"require\", \"require\", \"research\", \"research\", \"research\", \"resupply\", \"reward\", \"right\", \"right\", \"right\", \"right\", \"rimsat\", \"rocket\", \"russian\", \"russian\", \"satellite\", \"satellite\", \"save\", \"say\", \"say\", \"say\", \"say\", \"scientist\", \"see\", \"see\", \"see\", \"see\", \"semi\", \"send\", \"send\", \"send\", \"send\", \"server\", \"shadow\", \"shuttle\", \"shuttle\", \"shuttle\", \"simulation\", \"sky\", \"sky\", \"sky\", \"slot\", \"software\", \"sorry\", \"space\", \"space\", \"space\", \"space\", \"spacecraft\", \"spacecraft\", \"spacecraft\", \"ssto\", \"stable\", \"station\", \"station\", \"station\", \"stupid\", \"sun\", \"sun\", \"sun\", \"sunlight\", \"surface\", \"surface\", \"suspect\", \"system\", \"system\", \"system\", \"take\", \"take\", \"take\", \"take\", \"talk\", \"talk\", \"talk\", \"taste\", \"tax\", \"taxi\", \"technology\", \"technology\", \"technology\", \"temporary\", \"test\", \"test\", \"theoretical\", \"theoretical\", \"theory\", \"theory\", \"thing\", \"thing\", \"thing\", \"thing\", \"think\", \"think\", \"think\", \"think\", \"thiokol\", \"time\", \"time\", \"time\", \"time\", \"ton\", \"ton\", \"total\", \"total\", \"track\", \"try\", \"try\", \"try\", \"try\", \"unlikely\", \"update\", \"uranium\", \"use\", \"use\", \"use\", \"use\", \"vehicle\", \"venture\", \"visible\", \"want\", \"want\", \"want\", \"want\", \"way\", \"way\", \"way\", \"way\", \"work\", \"work\", \"work\", \"work\", \"write\", \"write\", \"write\", \"write\", \"year\", \"year\", \"year\", \"year\"]}, \"R\": 30, \"lambda.step\": 0.01, \"plot.opts\": {\"xlab\": \"PC1\", \"ylab\": \"PC2\"}, \"topic.order\": [4, 3, 2, 1]};\n",
       "\n",
       "function LDAvis_load_lib(url, callback){\n",
       "  var s = document.createElement('script');\n",
       "  s.src = url;\n",
       "  s.async = true;\n",
       "  s.onreadystatechange = s.onload = callback;\n",
       "  s.onerror = function(){console.warn(\"failed to load library \" + url);};\n",
       "  document.getElementsByTagName(\"head\")[0].appendChild(s);\n",
       "}\n",
       "\n",
       "if(typeof(LDAvis) !== \"undefined\"){\n",
       "   // already loaded: just create the visualization\n",
       "   !function(LDAvis){\n",
       "       new LDAvis(\"#\" + \"ldavis_el224423421322889765030536310\", ldavis_el224423421322889765030536310_data);\n",
       "   }(LDAvis);\n",
       "}else if(typeof define === \"function\" && define.amd){\n",
       "   // require.js is available: use it to load d3/LDAvis\n",
       "   require.config({paths: {d3: \"https://d3js.org/d3.v5\"}});\n",
       "   require([\"d3\"], function(d3){\n",
       "      window.d3 = d3;\n",
       "      LDAvis_load_lib(\"https://cdn.jsdelivr.net/gh/bmabey/pyLDAvis@3.2.2/pyLDAvis/js/ldavis.v3.0.0.js\", function(){\n",
       "        new LDAvis(\"#\" + \"ldavis_el224423421322889765030536310\", ldavis_el224423421322889765030536310_data);\n",
       "      });\n",
       "    });\n",
       "}else{\n",
       "    // require.js not available: dynamically load d3 & LDAvis\n",
       "    LDAvis_load_lib(\"https://d3js.org/d3.v5.js\", function(){\n",
       "         LDAvis_load_lib(\"https://cdn.jsdelivr.net/gh/bmabey/pyLDAvis@3.2.2/pyLDAvis/js/ldavis.v3.0.0.js\", function(){\n",
       "                 new LDAvis(\"#\" + \"ldavis_el224423421322889765030536310\", ldavis_el224423421322889765030536310_data);\n",
       "            })\n",
       "         });\n",
       "}\n",
       "</script>"
      ],
      "text/plain": [
       "PreparedData(topic_coordinates=              x         y  topics  cluster       Freq\n",
       "topic                                                \n",
       "3     -0.137788 -0.095973       1        1  39.991567\n",
       "2     -0.114080  0.163349       2        1  27.184981\n",
       "1      0.088875 -0.142532       3        1  17.403230\n",
       "0      0.162993  0.075156       4        1  15.420222, topic_info=        Term        Freq       Total Category  logprob  loglift\n",
       "39     write  411.000000  411.000000  Default  30.0000  30.0000\n",
       "808    think  252.000000  252.000000  Default  29.0000  29.0000\n",
       "109  mission  165.000000  165.000000  Default  28.0000  28.0000\n",
       "92    launch  228.000000  228.000000  Default  27.0000  27.0000\n",
       "314    image  118.000000  118.000000  Default  26.0000  26.0000\n",
       "..       ...         ...         ...      ...      ...      ...\n",
       "30     thing   29.455079  134.034111   Topic4  -5.4771   0.3543\n",
       "237    close   21.748204   58.459846   Topic4  -5.7804   0.8807\n",
       "724     give   23.503687   86.923015   Topic4  -5.7028   0.5616\n",
       "198     year   26.665154  244.294039   Topic4  -5.5766  -0.3455\n",
       "182      end   19.733871   71.007559   Topic4  -5.8776   0.5890\n",
       "\n",
       "[294 rows x 6 columns], token_table=      Topic      Freq           Term\n",
       "term                                \n",
       "1412      1  0.955625   acceleration\n",
       "1617      2  0.795343        address\n",
       "1617      3  0.209301        address\n",
       "5313      1  0.102855  advertisement\n",
       "5313      4  0.925699  advertisement\n",
       "...     ...       ...            ...\n",
       "39        4  0.228399          write\n",
       "198       1  0.544426           year\n",
       "198       2  0.135083           year\n",
       "198       3  0.212858           year\n",
       "198       4  0.110523           year\n",
       "\n",
       "[489 rows x 3 columns], R=30, lambda_step=0.01, plot_opts={'xlab': 'PC1', 'ylab': 'PC2'}, topic_order=[4, 3, 2, 1])"
      ]
     },
     "metadata": {},
     "output_type": "display_data"
    }
   ],
   "source": [
    "plot_model(lda, 'topic_model')"
   ]
  },
  {
   "cell_type": "code",
   "execution_count": 98,
   "id": "3f018810",
   "metadata": {},
   "outputs": [
    {
     "data": {
      "text/html": [
       "<div>\n",
       "<style scoped>\n",
       "    .dataframe tbody tr th:only-of-type {\n",
       "        vertical-align: middle;\n",
       "    }\n",
       "\n",
       "    .dataframe tbody tr th {\n",
       "        vertical-align: top;\n",
       "    }\n",
       "\n",
       "    .dataframe thead th {\n",
       "        text-align: right;\n",
       "    }\n",
       "</style>\n",
       "<table border=\"1\" class=\"dataframe\">\n",
       "  <thead>\n",
       "    <tr style=\"text-align: right;\">\n",
       "      <th></th>\n",
       "      <th>index</th>\n",
       "      <th>text</th>\n",
       "      <th>label</th>\n",
       "      <th>Topic_0</th>\n",
       "      <th>Topic_1</th>\n",
       "      <th>Topic_2</th>\n",
       "      <th>Topic_3</th>\n",
       "      <th>Dominant_Topic</th>\n",
       "      <th>Perc_Dominant_Topic</th>\n",
       "    </tr>\n",
       "  </thead>\n",
       "  <tbody>\n",
       "    <tr>\n",
       "      <th>0</th>\n",
       "      <td>4</td>\n",
       "      <td>pack rat write clear caution warn memory verif...</td>\n",
       "      <td>14</td>\n",
       "      <td>0.002110</td>\n",
       "      <td>0.344172</td>\n",
       "      <td>0.650198</td>\n",
       "      <td>0.003520</td>\n",
       "      <td>Topic 2</td>\n",
       "      <td>0.65</td>\n",
       "    </tr>\n",
       "    <tr>\n",
       "      <th>1</th>\n",
       "      <td>13</td>\n",
       "      <td>write description option report warmly receive...</td>\n",
       "      <td>14</td>\n",
       "      <td>0.000467</td>\n",
       "      <td>0.071500</td>\n",
       "      <td>0.058920</td>\n",
       "      <td>0.869113</td>\n",
       "      <td>Topic 3</td>\n",
       "      <td>0.87</td>\n",
       "    </tr>\n",
       "    <tr>\n",
       "      <th>2</th>\n",
       "      <td>49</td>\n",
       "      <td>sez oddly call year age flight granite year re...</td>\n",
       "      <td>14</td>\n",
       "      <td>0.002768</td>\n",
       "      <td>0.989497</td>\n",
       "      <td>0.003097</td>\n",
       "      <td>0.004638</td>\n",
       "      <td>Topic 1</td>\n",
       "      <td>0.99</td>\n",
       "    </tr>\n",
       "    <tr>\n",
       "      <th>3</th>\n",
       "      <td>59</td>\n",
       "      <td>archive space upcoming planetary probe mission...</td>\n",
       "      <td>14</td>\n",
       "      <td>0.000209</td>\n",
       "      <td>0.000261</td>\n",
       "      <td>0.805100</td>\n",
       "      <td>0.194430</td>\n",
       "      <td>Topic 2</td>\n",
       "      <td>0.81</td>\n",
       "    </tr>\n",
       "    <tr>\n",
       "      <th>4</th>\n",
       "      <td>119</td>\n",
       "      <td>write atmosphere start freeze increase area pe...</td>\n",
       "      <td>14</td>\n",
       "      <td>0.979064</td>\n",
       "      <td>0.006476</td>\n",
       "      <td>0.005810</td>\n",
       "      <td>0.008650</td>\n",
       "      <td>Topic 0</td>\n",
       "      <td>0.98</td>\n",
       "    </tr>\n",
       "    <tr>\n",
       "      <th>...</th>\n",
       "      <td>...</td>\n",
       "      <td>...</td>\n",
       "      <td>...</td>\n",
       "      <td>...</td>\n",
       "      <td>...</td>\n",
       "      <td>...</td>\n",
       "      <td>...</td>\n",
       "      <td>...</td>\n",
       "      <td>...</td>\n",
       "    </tr>\n",
       "    <tr>\n",
       "      <th>588</th>\n",
       "      <td>11198</td>\n",
       "      <td>archive space controversy controversial questi...</td>\n",
       "      <td>14</td>\n",
       "      <td>0.198520</td>\n",
       "      <td>0.002830</td>\n",
       "      <td>0.518197</td>\n",
       "      <td>0.280452</td>\n",
       "      <td>Topic 2</td>\n",
       "      <td>0.52</td>\n",
       "    </tr>\n",
       "    <tr>\n",
       "      <th>589</th>\n",
       "      <td>11216</td>\n",
       "      <td>write write national year display film continu...</td>\n",
       "      <td>14</td>\n",
       "      <td>0.981709</td>\n",
       "      <td>0.005656</td>\n",
       "      <td>0.005068</td>\n",
       "      <td>0.007568</td>\n",
       "      <td>Topic 0</td>\n",
       "      <td>0.98</td>\n",
       "    </tr>\n",
       "    <tr>\n",
       "      <th>590</th>\n",
       "      <td>11261</td>\n",
       "      <td>guy write gravity maneuver fuzzy region descri...</td>\n",
       "      <td>14</td>\n",
       "      <td>0.001954</td>\n",
       "      <td>0.002440</td>\n",
       "      <td>0.992342</td>\n",
       "      <td>0.003264</td>\n",
       "      <td>Topic 2</td>\n",
       "      <td>0.99</td>\n",
       "    </tr>\n",
       "    <tr>\n",
       "      <th>591</th>\n",
       "      <td>11275</td>\n",
       "      <td>article pat write happen hypothesis shuttle fl...</td>\n",
       "      <td>14</td>\n",
       "      <td>0.122759</td>\n",
       "      <td>0.129997</td>\n",
       "      <td>0.565497</td>\n",
       "      <td>0.181747</td>\n",
       "      <td>Topic 2</td>\n",
       "      <td>0.57</td>\n",
       "    </tr>\n",
       "    <tr>\n",
       "      <th>592</th>\n",
       "      <td>11286</td>\n",
       "      <td>write leave close venus flyby venus cook foci ...</td>\n",
       "      <td>14</td>\n",
       "      <td>0.488968</td>\n",
       "      <td>0.166436</td>\n",
       "      <td>0.297923</td>\n",
       "      <td>0.046673</td>\n",
       "      <td>Topic 0</td>\n",
       "      <td>0.49</td>\n",
       "    </tr>\n",
       "  </tbody>\n",
       "</table>\n",
       "<p>593 rows × 9 columns</p>\n",
       "</div>"
      ],
      "text/plain": [
       "     index                                               text  label  \\\n",
       "0        4  pack rat write clear caution warn memory verif...     14   \n",
       "1       13  write description option report warmly receive...     14   \n",
       "2       49  sez oddly call year age flight granite year re...     14   \n",
       "3       59  archive space upcoming planetary probe mission...     14   \n",
       "4      119  write atmosphere start freeze increase area pe...     14   \n",
       "..     ...                                                ...    ...   \n",
       "588  11198  archive space controversy controversial questi...     14   \n",
       "589  11216  write write national year display film continu...     14   \n",
       "590  11261  guy write gravity maneuver fuzzy region descri...     14   \n",
       "591  11275  article pat write happen hypothesis shuttle fl...     14   \n",
       "592  11286  write leave close venus flyby venus cook foci ...     14   \n",
       "\n",
       "      Topic_0   Topic_1   Topic_2   Topic_3 Dominant_Topic  \\\n",
       "0    0.002110  0.344172  0.650198  0.003520        Topic 2   \n",
       "1    0.000467  0.071500  0.058920  0.869113        Topic 3   \n",
       "2    0.002768  0.989497  0.003097  0.004638        Topic 1   \n",
       "3    0.000209  0.000261  0.805100  0.194430        Topic 2   \n",
       "4    0.979064  0.006476  0.005810  0.008650        Topic 0   \n",
       "..        ...       ...       ...       ...            ...   \n",
       "588  0.198520  0.002830  0.518197  0.280452        Topic 2   \n",
       "589  0.981709  0.005656  0.005068  0.007568        Topic 0   \n",
       "590  0.001954  0.002440  0.992342  0.003264        Topic 2   \n",
       "591  0.122759  0.129997  0.565497  0.181747        Topic 2   \n",
       "592  0.488968  0.166436  0.297923  0.046673        Topic 0   \n",
       "\n",
       "     Perc_Dominant_Topic  \n",
       "0                   0.65  \n",
       "1                   0.87  \n",
       "2                   0.99  \n",
       "3                   0.81  \n",
       "4                   0.98  \n",
       "..                   ...  \n",
       "588                 0.52  \n",
       "589                 0.98  \n",
       "590                 0.99  \n",
       "591                 0.57  \n",
       "592                 0.49  \n",
       "\n",
       "[593 rows x 9 columns]"
      ]
     },
     "execution_count": 98,
     "metadata": {},
     "output_type": "execute_result"
    }
   ],
   "source": [
    "lda_results = assign_model(lda)\n",
    "lda_results"
   ]
  },
  {
   "cell_type": "code",
   "execution_count": 117,
   "id": "35c28341",
   "metadata": {},
   "outputs": [],
   "source": [
    "from gensim.models import CoherenceModel\n",
    "\n",
    "cm = CoherenceModel(model=lda, texts=lda_results['text'].map(str.split).tolist(), dictionary=lda.id2word)\n",
    "cm.get_coherence()"
   ]
  },
  {
   "cell_type": "code",
   "execution_count": 126,
   "id": "1d13ff70",
   "metadata": {},
   "outputs": [],
   "source": [
    "coherences = []\n",
    "for num_topics in range(2, 10):\n",
    "    lda = create_model('lda', num_topics=num_topics)\n",
    "    cm = CoherenceModel(model=lda, texts=lda_results['text'].map(str.split).tolist(), dictionary=lda.id2word)\n",
    "    coherences.append(cm.get_coherence())"
   ]
  },
  {
   "cell_type": "code",
   "execution_count": 127,
   "id": "ecd66a33",
   "metadata": {},
   "outputs": [
    {
     "data": {
      "text/plain": [
       "[0.2984292463652998,\n",
       " 0.3638687628462865,\n",
       " 0.37036023762492654,\n",
       " 0.36793095041249196,\n",
       " 0.38216632472980216,\n",
       " 0.34380325473335427,\n",
       " 0.3399173789687784,\n",
       " 0.3683681776548352]"
      ]
     },
     "execution_count": 127,
     "metadata": {},
     "output_type": "execute_result"
    }
   ],
   "source": [
    "coherences"
   ]
  },
  {
   "cell_type": "code",
   "execution_count": 125,
   "id": "25430ca8",
   "metadata": {},
   "outputs": [
    {
     "data": {
      "text/plain": [
       "Text(0, 0.5, 'coherence score')"
      ]
     },
     "execution_count": 125,
     "metadata": {},
     "output_type": "execute_result"
    },
    {
     "data": {
      "image/png": "[encoded data removed]",
      "text/plain": [
       "<Figure size 432x288 with 1 Axes>"
      ]
     },
     "metadata": {
      "needs_background": "light"
     },
     "output_type": "display_data"
    }
   ],
   "source": [
    "plt.plot(range(2, 10), coherences)\n",
    "plt.xlabel('number of LDA topics')\n",
    "plt.ylabel('coherence score')"
   ]
  },
  {
   "cell_type": "markdown",
   "id": "8fb4a301",
   "metadata": {},
   "source": [
    "## Top2Vec"
   ]
  },
  {
   "cell_type": "code",
   "execution_count": 17,
   "id": "da689e07",
   "metadata": {},
   "outputs": [
    {
     "name": "stderr",
     "output_type": "stream",
     "text": [
      "2021-06-02 09:36:22,021 - top2vec - INFO - Pre-processing documents for training\n",
      "2021-06-02 09:36:22,415 - top2vec - INFO - Creating joint document/word embedding\n",
      "2021-06-02 09:36:26,692 - top2vec - INFO - Creating lower dimension embedding of documents\n",
      "2021-06-02 09:36:30,074 - top2vec - INFO - Finding dense areas of documents\n",
      "2021-06-02 09:36:30,090 - top2vec - INFO - Finding topics\n"
     ]
    }
   ],
   "source": [
    "from top2vec import Top2Vec\n",
    "import pandas as pd\n",
    "\n",
    "raw_ng_df = pd.DataFrame({'text': newsgroups_train['data'], 'label': newsgroups_train['target']})\n",
    "raw_space_df = raw_ng_df[raw_ng_df['label'] == 14].copy()\n",
    "model = Top2Vec(documents=raw_space_df['text'].to_list(), speed=\"learn\", workers=8)"
   ]
  },
  {
   "cell_type": "code",
   "execution_count": 24,
   "id": "e09fcaab",
   "metadata": {},
   "outputs": [
    {
     "data": {
      "text/plain": [
       "2"
      ]
     },
     "execution_count": 24,
     "metadata": {},
     "output_type": "execute_result"
    }
   ],
   "source": [
    "model.get_topics()[-1].shape[0]"
   ]
  },
  {
   "cell_type": "code",
   "execution_count": 21,
   "id": "7351d479",
   "metadata": {},
   "outputs": [],
   "source": [
    "topic_words, word_scores, topic_nums = model.get_topics()"
   ]
  },
  {
   "cell_type": "code",
   "execution_count": 22,
   "id": "94f8f909",
   "metadata": {},
   "outputs": [
    {
     "data": {
      "text/plain": [
       "array([['something', 'going', 'question', 'who', 'someone', 'll', 'what',\n",
       "        'like', 'work', 'not', 'too', 'anyone', 'it', 'anything',\n",
       "        'doing', 'again', 'different', 'that', 'see', 'think', 'maybe',\n",
       "        'probably', 'need', 'just', 'else', 'thing', 'know', 'would',\n",
       "        'really', 'don', 'my', 'isn', 'way', 'better', 'put', 'much',\n",
       "        'lot', 'say', 'idea', 'sure', 'make', 'bit', 'things', 'those',\n",
       "        'got', 'do', 'how', 'writes', 'go', 'big'],\n",
       "       ['on', 'the', 'based', 'after', 'an', 'date', 'at', 'from', 'in',\n",
       "        'and', 'as', 'by', 'several', 'exploration', 'time', 'following',\n",
       "        'possible', 'three', 'near', 'for', 'area', 'days', 'also',\n",
       "        'using', 'under', 'spacecraft', 'day', 'technical', 'major',\n",
       "        'solar', 'or', 'including', 'rocket', 'space', 'last', 'has',\n",
       "        'shuttle', 'another', 'control', 'to', 'orbital', 'both', 'is',\n",
       "        'second', 'great', 'found', 'air', 'order', 'low', 'world']],\n",
       "      dtype='<U11')"
      ]
     },
     "execution_count": 22,
     "metadata": {},
     "output_type": "execute_result"
    }
   ],
   "source": [
    "topic_words"
   ]
  },
  {
   "cell_type": "markdown",
   "id": "e063a747",
   "metadata": {},
   "source": [
    "# Supervised learning"
   ]
  },
  {
   "cell_type": "markdown",
   "id": "b4c495f8",
   "metadata": {},
   "source": [
    "This is an example of using word vectors as features."
   ]
  },
  {
   "cell_type": "markdown",
   "id": "624e4921",
   "metadata": {},
   "source": [
    "To sample down for testing, use `.sample(100).reset_index(drop=True)` when creating the train and test dfs."
   ]
  },
  {
   "cell_type": "code",
   "execution_count": 70,
   "id": "3ef3aa25",
   "metadata": {},
   "outputs": [
    {
     "data": {
      "text/plain": [
       "dict_keys(['data', 'filenames', 'target_names', 'target', 'DESCR'])"
      ]
     },
     "execution_count": 70,
     "metadata": {},
     "output_type": "execute_result"
    }
   ],
   "source": [
    "newsgroups_train.keys()"
   ]
  },
  {
   "cell_type": "code",
   "execution_count": 95,
   "id": "cff8fd9a",
   "metadata": {},
   "outputs": [
    {
     "data": {
      "application/vnd.jupyter.widget-view+json": {
       "model_id": "7044a59135b5435f862e1c29da20ace0",
       "version_major": 2,
       "version_minor": 0
      },
      "text/plain": [
       "Pandas Apply:   0%|          | 0/11314 [00:00<?, ?it/s]"
      ]
     },
     "metadata": {},
     "output_type": "display_data"
    },
    {
     "data": {
      "application/vnd.jupyter.widget-view+json": {
       "model_id": "fa0c00d9608949a4b6bc312d7adc0596",
       "version_major": 2,
       "version_minor": 0
      },
      "text/plain": [
       "Pandas Apply:   0%|          | 0/7532 [00:00<?, ?it/s]"
      ]
     },
     "metadata": {},
     "output_type": "display_data"
    }
   ],
   "source": [
    "newsgroups_train = fetch_20newsgroups(remove=('headers', 'footers'))\n",
    "newsgroups_test = fetch_20newsgroups(subset='test', remove=('headers', 'footers'))\n",
    "\n",
    "en_large = spacy.load('en_core_web_lg', disable=['parser', 'ner'])\n",
    "\n",
    "def get_document_vectors(text):\n",
    "    processed = en_large(text)\n",
    "    return processed.vector\n",
    "\n",
    "ng_train_df = pd.DataFrame({'text': newsgroups_train['data'], 'label': newsgroups_train['target']})\n",
    "ng_train_doc_vectors = pd.DataFrame(np.vstack(ng_train_df['text'].swifter.apply(get_document_vectors).tolist()))\n",
    "ng_test_df = pd.DataFrame({'text': newsgroups_test['data'], 'label': newsgroups_test['target']})\n",
    "ng_test_doc_vectors = pd.DataFrame(np.vstack(ng_test_df['text'].swifter.apply(get_document_vectors).tolist()))"
   ]
  },
  {
   "cell_type": "code",
   "execution_count": 96,
   "id": "4133a8bd",
   "metadata": {},
   "outputs": [],
   "source": [
    "ng_train_vector_df = pd.concat([ng_train_df['label'].astype('category'), ng_train_doc_vectors], axis=1)\n",
    "ng_test_vector_df = pd.concat([ng_test_df['label'].astype('category'), ng_test_doc_vectors], axis=1)"
   ]
  },
  {
   "cell_type": "code",
   "execution_count": 97,
   "id": "4bf8c614",
   "metadata": {},
   "outputs": [
    {
     "data": {
      "text/plain": [
       "10    0.053032\n",
       "15    0.052943\n",
       "8     0.052855\n",
       "9     0.052766\n",
       "11    0.052590\n",
       "7     0.052501\n",
       "13    0.052501\n",
       "5     0.052413\n",
       "14    0.052413\n",
       "12    0.052236\n",
       "2     0.052236\n",
       "3     0.052148\n",
       "6     0.051706\n",
       "1     0.051617\n",
       "4     0.051087\n",
       "17    0.049850\n",
       "16    0.048259\n",
       "0     0.042425\n",
       "18    0.041100\n",
       "19    0.033322\n",
       "Name: label, dtype: float64"
      ]
     },
     "execution_count": 97,
     "metadata": {},
     "output_type": "execute_result"
    }
   ],
   "source": [
    "ng_train_vector_df['label'].value_counts(normalize=True)"
   ]
  },
  {
   "cell_type": "code",
   "execution_count": 98,
   "id": "4d4bc129",
   "metadata": {},
   "outputs": [
    {
     "data": {
      "text/html": [
       "<div>\n",
       "<style scoped>\n",
       "    .dataframe tbody tr th:only-of-type {\n",
       "        vertical-align: middle;\n",
       "    }\n",
       "\n",
       "    .dataframe tbody tr th {\n",
       "        vertical-align: top;\n",
       "    }\n",
       "\n",
       "    .dataframe thead th {\n",
       "        text-align: right;\n",
       "    }\n",
       "</style>\n",
       "<table border=\"1\" class=\"dataframe\">\n",
       "  <thead>\n",
       "    <tr style=\"text-align: right;\">\n",
       "      <th></th>\n",
       "      <th>label</th>\n",
       "      <th>0</th>\n",
       "      <th>1</th>\n",
       "      <th>2</th>\n",
       "      <th>3</th>\n",
       "      <th>4</th>\n",
       "      <th>5</th>\n",
       "      <th>6</th>\n",
       "      <th>7</th>\n",
       "      <th>8</th>\n",
       "      <th>...</th>\n",
       "      <th>290</th>\n",
       "      <th>291</th>\n",
       "      <th>292</th>\n",
       "      <th>293</th>\n",
       "      <th>294</th>\n",
       "      <th>295</th>\n",
       "      <th>296</th>\n",
       "      <th>297</th>\n",
       "      <th>298</th>\n",
       "      <th>299</th>\n",
       "    </tr>\n",
       "  </thead>\n",
       "  <tbody>\n",
       "    <tr>\n",
       "      <th>0</th>\n",
       "      <td>7</td>\n",
       "      <td>0.054759</td>\n",
       "      <td>0.203399</td>\n",
       "      <td>-0.145479</td>\n",
       "      <td>-0.070295</td>\n",
       "      <td>0.107996</td>\n",
       "      <td>0.016977</td>\n",
       "      <td>-0.010392</td>\n",
       "      <td>-0.195820</td>\n",
       "      <td>-0.080048</td>\n",
       "      <td>...</td>\n",
       "      <td>-0.239297</td>\n",
       "      <td>-0.030296</td>\n",
       "      <td>0.077116</td>\n",
       "      <td>-0.062379</td>\n",
       "      <td>0.029934</td>\n",
       "      <td>-0.076824</td>\n",
       "      <td>-0.045755</td>\n",
       "      <td>-0.017002</td>\n",
       "      <td>-0.001008</td>\n",
       "      <td>0.117567</td>\n",
       "    </tr>\n",
       "    <tr>\n",
       "      <th>1</th>\n",
       "      <td>4</td>\n",
       "      <td>-0.016288</td>\n",
       "      <td>0.146424</td>\n",
       "      <td>-0.089363</td>\n",
       "      <td>-0.051657</td>\n",
       "      <td>0.028966</td>\n",
       "      <td>0.000430</td>\n",
       "      <td>0.026072</td>\n",
       "      <td>-0.118393</td>\n",
       "      <td>0.003177</td>\n",
       "      <td>...</td>\n",
       "      <td>-0.217318</td>\n",
       "      <td>0.051244</td>\n",
       "      <td>0.011505</td>\n",
       "      <td>-0.013299</td>\n",
       "      <td>0.024465</td>\n",
       "      <td>-0.090747</td>\n",
       "      <td>-0.010024</td>\n",
       "      <td>-0.053404</td>\n",
       "      <td>-0.058587</td>\n",
       "      <td>0.066247</td>\n",
       "    </tr>\n",
       "    <tr>\n",
       "      <th>2</th>\n",
       "      <td>4</td>\n",
       "      <td>-0.010889</td>\n",
       "      <td>0.191336</td>\n",
       "      <td>-0.159281</td>\n",
       "      <td>-0.034975</td>\n",
       "      <td>0.075878</td>\n",
       "      <td>0.007909</td>\n",
       "      <td>0.008473</td>\n",
       "      <td>-0.141111</td>\n",
       "      <td>0.013498</td>\n",
       "      <td>...</td>\n",
       "      <td>-0.205405</td>\n",
       "      <td>0.018488</td>\n",
       "      <td>0.009842</td>\n",
       "      <td>-0.051622</td>\n",
       "      <td>0.040851</td>\n",
       "      <td>-0.019679</td>\n",
       "      <td>-0.051688</td>\n",
       "      <td>-0.064055</td>\n",
       "      <td>0.038421</td>\n",
       "      <td>0.108117</td>\n",
       "    </tr>\n",
       "    <tr>\n",
       "      <th>3</th>\n",
       "      <td>1</td>\n",
       "      <td>-0.032975</td>\n",
       "      <td>0.212198</td>\n",
       "      <td>-0.103774</td>\n",
       "      <td>-0.066658</td>\n",
       "      <td>0.110629</td>\n",
       "      <td>0.073716</td>\n",
       "      <td>0.004324</td>\n",
       "      <td>-0.122965</td>\n",
       "      <td>0.021230</td>\n",
       "      <td>...</td>\n",
       "      <td>-0.123165</td>\n",
       "      <td>0.043717</td>\n",
       "      <td>-0.070767</td>\n",
       "      <td>-0.038084</td>\n",
       "      <td>0.019652</td>\n",
       "      <td>-0.027046</td>\n",
       "      <td>-0.028275</td>\n",
       "      <td>-0.081501</td>\n",
       "      <td>0.017188</td>\n",
       "      <td>0.105726</td>\n",
       "    </tr>\n",
       "    <tr>\n",
       "      <th>4</th>\n",
       "      <td>14</td>\n",
       "      <td>-0.021514</td>\n",
       "      <td>0.192841</td>\n",
       "      <td>-0.182851</td>\n",
       "      <td>-0.077671</td>\n",
       "      <td>0.122450</td>\n",
       "      <td>0.050537</td>\n",
       "      <td>0.049683</td>\n",
       "      <td>-0.125027</td>\n",
       "      <td>0.020853</td>\n",
       "      <td>...</td>\n",
       "      <td>-0.134218</td>\n",
       "      <td>0.077360</td>\n",
       "      <td>-0.085769</td>\n",
       "      <td>-0.069592</td>\n",
       "      <td>0.043777</td>\n",
       "      <td>-0.033654</td>\n",
       "      <td>-0.082722</td>\n",
       "      <td>-0.059467</td>\n",
       "      <td>-0.018412</td>\n",
       "      <td>0.030789</td>\n",
       "    </tr>\n",
       "    <tr>\n",
       "      <th>...</th>\n",
       "      <td>...</td>\n",
       "      <td>...</td>\n",
       "      <td>...</td>\n",
       "      <td>...</td>\n",
       "      <td>...</td>\n",
       "      <td>...</td>\n",
       "      <td>...</td>\n",
       "      <td>...</td>\n",
       "      <td>...</td>\n",
       "      <td>...</td>\n",
       "      <td>...</td>\n",
       "      <td>...</td>\n",
       "      <td>...</td>\n",
       "      <td>...</td>\n",
       "      <td>...</td>\n",
       "      <td>...</td>\n",
       "      <td>...</td>\n",
       "      <td>...</td>\n",
       "      <td>...</td>\n",
       "      <td>...</td>\n",
       "      <td>...</td>\n",
       "    </tr>\n",
       "    <tr>\n",
       "      <th>11309</th>\n",
       "      <td>13</td>\n",
       "      <td>-0.058751</td>\n",
       "      <td>0.194507</td>\n",
       "      <td>-0.173803</td>\n",
       "      <td>-0.041258</td>\n",
       "      <td>0.081166</td>\n",
       "      <td>-0.052215</td>\n",
       "      <td>0.016737</td>\n",
       "      <td>-0.129954</td>\n",
       "      <td>0.057909</td>\n",
       "      <td>...</td>\n",
       "      <td>-0.061515</td>\n",
       "      <td>0.021197</td>\n",
       "      <td>-0.025507</td>\n",
       "      <td>-0.049623</td>\n",
       "      <td>0.072904</td>\n",
       "      <td>-0.023158</td>\n",
       "      <td>-0.041457</td>\n",
       "      <td>-0.066105</td>\n",
       "      <td>0.005039</td>\n",
       "      <td>0.073422</td>\n",
       "    </tr>\n",
       "    <tr>\n",
       "      <th>11310</th>\n",
       "      <td>4</td>\n",
       "      <td>0.048711</td>\n",
       "      <td>0.111870</td>\n",
       "      <td>-0.118484</td>\n",
       "      <td>-0.028413</td>\n",
       "      <td>0.059593</td>\n",
       "      <td>-0.009119</td>\n",
       "      <td>-0.012691</td>\n",
       "      <td>-0.174223</td>\n",
       "      <td>0.017714</td>\n",
       "      <td>...</td>\n",
       "      <td>-0.207440</td>\n",
       "      <td>0.000102</td>\n",
       "      <td>0.017769</td>\n",
       "      <td>-0.045889</td>\n",
       "      <td>-0.028098</td>\n",
       "      <td>0.015380</td>\n",
       "      <td>0.004067</td>\n",
       "      <td>-0.069923</td>\n",
       "      <td>-0.020632</td>\n",
       "      <td>0.080148</td>\n",
       "    </tr>\n",
       "    <tr>\n",
       "      <th>11311</th>\n",
       "      <td>3</td>\n",
       "      <td>0.018623</td>\n",
       "      <td>0.135743</td>\n",
       "      <td>-0.021562</td>\n",
       "      <td>-0.039196</td>\n",
       "      <td>0.059757</td>\n",
       "      <td>-0.017441</td>\n",
       "      <td>-0.053337</td>\n",
       "      <td>-0.117367</td>\n",
       "      <td>0.040548</td>\n",
       "      <td>...</td>\n",
       "      <td>-0.212937</td>\n",
       "      <td>0.034250</td>\n",
       "      <td>0.022499</td>\n",
       "      <td>-0.092744</td>\n",
       "      <td>-0.026803</td>\n",
       "      <td>-0.071181</td>\n",
       "      <td>0.025616</td>\n",
       "      <td>-0.062586</td>\n",
       "      <td>-0.032105</td>\n",
       "      <td>0.099645</td>\n",
       "    </tr>\n",
       "    <tr>\n",
       "      <th>11312</th>\n",
       "      <td>1</td>\n",
       "      <td>-0.038034</td>\n",
       "      <td>0.186990</td>\n",
       "      <td>-0.173167</td>\n",
       "      <td>-0.006954</td>\n",
       "      <td>0.115749</td>\n",
       "      <td>-0.010950</td>\n",
       "      <td>-0.012561</td>\n",
       "      <td>-0.107813</td>\n",
       "      <td>-0.009892</td>\n",
       "      <td>...</td>\n",
       "      <td>-0.111579</td>\n",
       "      <td>0.019268</td>\n",
       "      <td>-0.072806</td>\n",
       "      <td>-0.080768</td>\n",
       "      <td>0.038476</td>\n",
       "      <td>0.000640</td>\n",
       "      <td>-0.068877</td>\n",
       "      <td>-0.106345</td>\n",
       "      <td>0.049451</td>\n",
       "      <td>0.102729</td>\n",
       "    </tr>\n",
       "    <tr>\n",
       "      <th>11313</th>\n",
       "      <td>8</td>\n",
       "      <td>-0.011839</td>\n",
       "      <td>0.218934</td>\n",
       "      <td>-0.094353</td>\n",
       "      <td>-0.030268</td>\n",
       "      <td>0.087451</td>\n",
       "      <td>0.002810</td>\n",
       "      <td>-0.006491</td>\n",
       "      <td>-0.067313</td>\n",
       "      <td>-0.028868</td>\n",
       "      <td>...</td>\n",
       "      <td>-0.143880</td>\n",
       "      <td>-0.009674</td>\n",
       "      <td>0.061531</td>\n",
       "      <td>-0.046443</td>\n",
       "      <td>-0.035056</td>\n",
       "      <td>-0.080999</td>\n",
       "      <td>0.044849</td>\n",
       "      <td>-0.045180</td>\n",
       "      <td>-0.038909</td>\n",
       "      <td>0.092776</td>\n",
       "    </tr>\n",
       "  </tbody>\n",
       "</table>\n",
       "<p>11314 rows × 301 columns</p>\n",
       "</div>"
      ],
      "text/plain": [
       "      label         0         1         2         3         4         5  \\\n",
       "0         7  0.054759  0.203399 -0.145479 -0.070295  0.107996  0.016977   \n",
       "1         4 -0.016288  0.146424 -0.089363 -0.051657  0.028966  0.000430   \n",
       "2         4 -0.010889  0.191336 -0.159281 -0.034975  0.075878  0.007909   \n",
       "3         1 -0.032975  0.212198 -0.103774 -0.066658  0.110629  0.073716   \n",
       "4        14 -0.021514  0.192841 -0.182851 -0.077671  0.122450  0.050537   \n",
       "...     ...       ...       ...       ...       ...       ...       ...   \n",
       "11309    13 -0.058751  0.194507 -0.173803 -0.041258  0.081166 -0.052215   \n",
       "11310     4  0.048711  0.111870 -0.118484 -0.028413  0.059593 -0.009119   \n",
       "11311     3  0.018623  0.135743 -0.021562 -0.039196  0.059757 -0.017441   \n",
       "11312     1 -0.038034  0.186990 -0.173167 -0.006954  0.115749 -0.010950   \n",
       "11313     8 -0.011839  0.218934 -0.094353 -0.030268  0.087451  0.002810   \n",
       "\n",
       "              6         7         8  ...       290       291       292  \\\n",
       "0     -0.010392 -0.195820 -0.080048  ... -0.239297 -0.030296  0.077116   \n",
       "1      0.026072 -0.118393  0.003177  ... -0.217318  0.051244  0.011505   \n",
       "2      0.008473 -0.141111  0.013498  ... -0.205405  0.018488  0.009842   \n",
       "3      0.004324 -0.122965  0.021230  ... -0.123165  0.043717 -0.070767   \n",
       "4      0.049683 -0.125027  0.020853  ... -0.134218  0.077360 -0.085769   \n",
       "...         ...       ...       ...  ...       ...       ...       ...   \n",
       "11309  0.016737 -0.129954  0.057909  ... -0.061515  0.021197 -0.025507   \n",
       "11310 -0.012691 -0.174223  0.017714  ... -0.207440  0.000102  0.017769   \n",
       "11311 -0.053337 -0.117367  0.040548  ... -0.212937  0.034250  0.022499   \n",
       "11312 -0.012561 -0.107813 -0.009892  ... -0.111579  0.019268 -0.072806   \n",
       "11313 -0.006491 -0.067313 -0.028868  ... -0.143880 -0.009674  0.061531   \n",
       "\n",
       "            293       294       295       296       297       298       299  \n",
       "0     -0.062379  0.029934 -0.076824 -0.045755 -0.017002 -0.001008  0.117567  \n",
       "1     -0.013299  0.024465 -0.090747 -0.010024 -0.053404 -0.058587  0.066247  \n",
       "2     -0.051622  0.040851 -0.019679 -0.051688 -0.064055  0.038421  0.108117  \n",
       "3     -0.038084  0.019652 -0.027046 -0.028275 -0.081501  0.017188  0.105726  \n",
       "4     -0.069592  0.043777 -0.033654 -0.082722 -0.059467 -0.018412  0.030789  \n",
       "...         ...       ...       ...       ...       ...       ...       ...  \n",
       "11309 -0.049623  0.072904 -0.023158 -0.041457 -0.066105  0.005039  0.073422  \n",
       "11310 -0.045889 -0.028098  0.015380  0.004067 -0.069923 -0.020632  0.080148  \n",
       "11311 -0.092744 -0.026803 -0.071181  0.025616 -0.062586 -0.032105  0.099645  \n",
       "11312 -0.080768  0.038476  0.000640 -0.068877 -0.106345  0.049451  0.102729  \n",
       "11313 -0.046443 -0.035056 -0.080999  0.044849 -0.045180 -0.038909  0.092776  \n",
       "\n",
       "[11314 rows x 301 columns]"
      ]
     },
     "execution_count": 98,
     "metadata": {},
     "output_type": "execute_result"
    }
   ],
   "source": [
    "ng_train_vector_df"
   ]
  },
  {
   "cell_type": "markdown",
   "id": "33fd9a59",
   "metadata": {},
   "source": [
    "pycaret can be used but is slow with larger feature sets."
   ]
  },
  {
   "cell_type": "code",
   "execution_count": 56,
   "id": "10f2d08f",
   "metadata": {},
   "outputs": [
    {
     "data": {
      "text/html": [
       "<style  type=\"text/css\" >\n",
       "#T_9f54e_row3_col0,#T_9f54e_row3_col1,#T_9f54e_row3_col2,#T_9f54e_row3_col3,#T_9f54e_row3_col4,#T_9f54e_row3_col5,#T_9f54e_row3_col6{\n",
       "            background:  yellow;\n",
       "        }</style><table id=\"T_9f54e_\" ><thead>    <tr>        <th class=\"blank level0\" ></th>        <th class=\"col_heading level0 col0\" >Accuracy</th>        <th class=\"col_heading level0 col1\" >AUC</th>        <th class=\"col_heading level0 col2\" >Recall</th>        <th class=\"col_heading level0 col3\" >Prec.</th>        <th class=\"col_heading level0 col4\" >F1</th>        <th class=\"col_heading level0 col5\" >Kappa</th>        <th class=\"col_heading level0 col6\" >MCC</th>    </tr></thead><tbody>\n",
       "                <tr>\n",
       "                        <th id=\"T_9f54e_level0_row0\" class=\"row_heading level0 row0\" >0</th>\n",
       "                        <td id=\"T_9f54e_row0_col0\" class=\"data row0 col0\" >0.7078</td>\n",
       "                        <td id=\"T_9f54e_row0_col1\" class=\"data row0 col1\" >0.9657</td>\n",
       "                        <td id=\"T_9f54e_row0_col2\" class=\"data row0 col2\" >0.6949</td>\n",
       "                        <td id=\"T_9f54e_row0_col3\" class=\"data row0 col3\" >0.7054</td>\n",
       "                        <td id=\"T_9f54e_row0_col4\" class=\"data row0 col4\" >0.7014</td>\n",
       "                        <td id=\"T_9f54e_row0_col5\" class=\"data row0 col5\" >0.6922</td>\n",
       "                        <td id=\"T_9f54e_row0_col6\" class=\"data row0 col6\" >0.6926</td>\n",
       "            </tr>\n",
       "            <tr>\n",
       "                        <th id=\"T_9f54e_level0_row1\" class=\"row_heading level0 row1\" >1</th>\n",
       "                        <td id=\"T_9f54e_row1_col0\" class=\"data row1 col0\" >0.7274</td>\n",
       "                        <td id=\"T_9f54e_row1_col1\" class=\"data row1 col1\" >0.9694</td>\n",
       "                        <td id=\"T_9f54e_row1_col2\" class=\"data row1 col2\" >0.7155</td>\n",
       "                        <td id=\"T_9f54e_row1_col3\" class=\"data row1 col3\" >0.7296</td>\n",
       "                        <td id=\"T_9f54e_row1_col4\" class=\"data row1 col4\" >0.7206</td>\n",
       "                        <td id=\"T_9f54e_row1_col5\" class=\"data row1 col5\" >0.7128</td>\n",
       "                        <td id=\"T_9f54e_row1_col6\" class=\"data row1 col6\" >0.7133</td>\n",
       "            </tr>\n",
       "            <tr>\n",
       "                        <th id=\"T_9f54e_level0_row2\" class=\"row_heading level0 row2\" >2</th>\n",
       "                        <td id=\"T_9f54e_row2_col0\" class=\"data row2 col0\" >0.7208</td>\n",
       "                        <td id=\"T_9f54e_row2_col1\" class=\"data row2 col1\" >0.9693</td>\n",
       "                        <td id=\"T_9f54e_row2_col2\" class=\"data row2 col2\" >0.7073</td>\n",
       "                        <td id=\"T_9f54e_row2_col3\" class=\"data row2 col3\" >0.7164</td>\n",
       "                        <td id=\"T_9f54e_row2_col4\" class=\"data row2 col4\" >0.7143</td>\n",
       "                        <td id=\"T_9f54e_row2_col5\" class=\"data row2 col5\" >0.7058</td>\n",
       "                        <td id=\"T_9f54e_row2_col6\" class=\"data row2 col6\" >0.7062</td>\n",
       "            </tr>\n",
       "            <tr>\n",
       "                        <th id=\"T_9f54e_level0_row3\" class=\"row_heading level0 row3\" >Mean</th>\n",
       "                        <td id=\"T_9f54e_row3_col0\" class=\"data row3 col0\" >0.7187</td>\n",
       "                        <td id=\"T_9f54e_row3_col1\" class=\"data row3 col1\" >0.9681</td>\n",
       "                        <td id=\"T_9f54e_row3_col2\" class=\"data row3 col2\" >0.7059</td>\n",
       "                        <td id=\"T_9f54e_row3_col3\" class=\"data row3 col3\" >0.7172</td>\n",
       "                        <td id=\"T_9f54e_row3_col4\" class=\"data row3 col4\" >0.7121</td>\n",
       "                        <td id=\"T_9f54e_row3_col5\" class=\"data row3 col5\" >0.7036</td>\n",
       "                        <td id=\"T_9f54e_row3_col6\" class=\"data row3 col6\" >0.7040</td>\n",
       "            </tr>\n",
       "            <tr>\n",
       "                        <th id=\"T_9f54e_level0_row4\" class=\"row_heading level0 row4\" >SD</th>\n",
       "                        <td id=\"T_9f54e_row4_col0\" class=\"data row4 col0\" >0.0081</td>\n",
       "                        <td id=\"T_9f54e_row4_col1\" class=\"data row4 col1\" >0.0017</td>\n",
       "                        <td id=\"T_9f54e_row4_col2\" class=\"data row4 col2\" >0.0085</td>\n",
       "                        <td id=\"T_9f54e_row4_col3\" class=\"data row4 col3\" >0.0099</td>\n",
       "                        <td id=\"T_9f54e_row4_col4\" class=\"data row4 col4\" >0.0080</td>\n",
       "                        <td id=\"T_9f54e_row4_col5\" class=\"data row4 col5\" >0.0086</td>\n",
       "                        <td id=\"T_9f54e_row4_col6\" class=\"data row4 col6\" >0.0086</td>\n",
       "            </tr>\n",
       "    </tbody></table>"
      ],
      "text/plain": [
       "<pandas.io.formats.style.Styler at 0x2276f1669a0>"
      ]
     },
     "metadata": {},
     "output_type": "display_data"
    }
   ],
   "source": [
    "from pycaret.classification import setup, create_model, tune_model, evaluate_model\n",
    "\n",
    "ng_setup = setup(ng_train_doc_vectors, test_data=ng_test_doc_vectors, fold=3, target='label')\n",
    "lr = create_model('lr')"
   ]
  },
  {
   "cell_type": "code",
   "execution_count": 57,
   "id": "96feab23",
   "metadata": {},
   "outputs": [],
   "source": [
    "# this takes a while but could be used to fine-tune the model\n",
    "# tuned_lr = tune_model(lr, search_library='scikit-optimize')"
   ]
  },
  {
   "cell_type": "code",
   "execution_count": 58,
   "id": "9b81fe4b",
   "metadata": {},
   "outputs": [
    {
     "data": {
      "application/vnd.jupyter.widget-view+json": {
       "model_id": "0497a99b93e046a3832163a537294d40",
       "version_major": 2,
       "version_minor": 0
      },
      "text/plain": [
       "interactive(children=(ToggleButtons(description='Plot Type:', icons=('',), options=(('Hyperparameters', 'param…"
      ]
     },
     "metadata": {},
     "output_type": "display_data"
    }
   ],
   "source": [
    "evaluate_model(lr)"
   ]
  },
  {
   "cell_type": "markdown",
   "id": "be6bb727",
   "metadata": {},
   "source": [
    "Using TFIDF vectors."
   ]
  },
  {
   "cell_type": "code",
   "execution_count": 59,
   "id": "76af904e",
   "metadata": {},
   "outputs": [],
   "source": [
    "vectorizer = TfidfVectorizer(min_df=10, max_df=0.9)\n",
    "train_tfidf = vectorizer.fit_transform(newsgroups_train['data'])\n",
    "test_tfidf = vectorizer.transform(newsgroups_test['data'])"
   ]
  },
  {
   "cell_type": "code",
   "execution_count": 60,
   "id": "446de6e1",
   "metadata": {},
   "outputs": [],
   "source": [
    "train_tfidf_df = pd.DataFrame(train_tfidf.todense())\n",
    "test_tfidf_df = pd.DataFrame(test_tfidf.todense())\n",
    "train_tfidf_df['label'] = newsgroups_train['target'].astype('category')\n",
    "test_tfidf_df['label'] = newsgroups_test['target'].astype.('category')"
   ]
  },
  {
   "cell_type": "code",
   "execution_count": 61,
   "id": "2564fea6",
   "metadata": {},
   "outputs": [
    {
     "data": {
      "text/plain": [
       "(11314, 13270)"
      ]
     },
     "execution_count": 61,
     "metadata": {},
     "output_type": "execute_result"
    }
   ],
   "source": [
    "train_tfidf_df.shape"
   ]
  },
  {
   "cell_type": "code",
   "execution_count": 62,
   "id": "f10c213d",
   "metadata": {},
   "outputs": [
    {
     "data": {
      "text/plain": [
       "(7532, 13270)"
      ]
     },
     "execution_count": 62,
     "metadata": {},
     "output_type": "execute_result"
    }
   ],
   "source": [
    "test_tfidf_df.shape"
   ]
  },
  {
   "cell_type": "code",
   "execution_count": 63,
   "id": "ce19b634",
   "metadata": {},
   "outputs": [
    {
     "data": {
      "text/plain": [
       "(11314, 301)"
      ]
     },
     "execution_count": 63,
     "metadata": {},
     "output_type": "execute_result"
    }
   ],
   "source": [
    "ng_train_df.shape"
   ]
  },
  {
   "cell_type": "code",
   "execution_count": 67,
   "id": "9781581e",
   "metadata": {
    "scrolled": true
   },
   "outputs": [
    {
     "data": {
      "text/plain": [
       "0.7579989393671558"
      ]
     },
     "execution_count": 67,
     "metadata": {},
     "output_type": "execute_result"
    }
   ],
   "source": [
    "from sklearn.linear_model import LogisticRegression\n",
    "\n",
    "lr = LogisticRegression()\n",
    "lr.fit(ng_train_vector_df.drop('label', axis=1), ng_train_vector_df['label'])\n",
    "lr.score(ng_train_vector_df.drop('label', axis=1), ng_train_vector_df['label'])"
   ]
  },
  {
   "cell_type": "code",
   "execution_count": 69,
   "id": "842e8a91",
   "metadata": {},
   "outputs": [
    {
     "data": {
      "text/plain": [
       "0.6882634094530006"
      ]
     },
     "execution_count": 69,
     "metadata": {},
     "output_type": "execute_result"
    }
   ],
   "source": [
    "lr.score(ng_test_vector_df.drop('label', axis=1), ng_test_vector_df['label'])"
   ]
  },
  {
   "cell_type": "code",
   "execution_count": 44,
   "id": "13df99cf",
   "metadata": {},
   "outputs": [
    {
     "data": {
      "text/plain": [
       "0.9432561428318897"
      ]
     },
     "execution_count": 44,
     "metadata": {},
     "output_type": "execute_result"
    }
   ],
   "source": [
    "lr = LogisticRegression()\n",
    "lr.fit(train_tfidf_df.drop('label', axis=1), train_tfidf_df['label'])\n",
    "lr.score(train_tfidf_df.drop('label', axis=1), train_tfidf_df['label'])"
   ]
  },
  {
   "cell_type": "code",
   "execution_count": 45,
   "id": "b0fe97b6",
   "metadata": {},
   "outputs": [
    {
     "data": {
      "text/plain": [
       "0.7683218268720128"
      ]
     },
     "execution_count": 45,
     "metadata": {},
     "output_type": "execute_result"
    }
   ],
   "source": [
    "lr.score(test_tfidf_df.drop('label', axis=1), test_tfidf_df['label'])"
   ]
  },
  {
   "cell_type": "markdown",
   "id": "988ab108",
   "metadata": {},
   "source": [
    "# Sentiment analysis"
   ]
  },
  {
   "cell_type": "code",
   "execution_count": 112,
   "id": "0b969dd8",
   "metadata": {},
   "outputs": [
    {
     "data": {
      "text/plain": [
       "{'neg': 0.714, 'neu': 0.286, 'pos': 0.0, 'compound': -0.3612}"
      ]
     },
     "execution_count": 112,
     "metadata": {},
     "output_type": "execute_result"
    }
   ],
   "source": [
    "vader.polarity_scores('this sucks')"
   ]
  },
  {
   "cell_type": "code",
   "execution_count": 103,
   "id": "1f47c159",
   "metadata": {},
   "outputs": [
    {
     "data": {
      "application/vnd.jupyter.widget-view+json": {
       "model_id": "da4a822ad0d1496d886f58c189676642",
       "version_major": 2,
       "version_minor": 0
      },
      "text/plain": [
       "Pandas Apply:   0%|          | 0/11314 [00:00<?, ?it/s]"
      ]
     },
     "metadata": {},
     "output_type": "display_data"
    }
   ],
   "source": [
    "from vaderSentiment.vaderSentiment import SentimentIntensityAnalyzer\n",
    "\n",
    "vader = SentimentIntensityAnalyzer()\n",
    "\n",
    "def get_sentiment(text):\n",
    "    return vader.polarity_scores(text.lower())['compound']\n",
    "\n",
    "ng_train_df['sentiment_score'] = ng_train_df['text'].swifter.apply(get_sentiment)"
   ]
  },
  {
   "cell_type": "code",
   "execution_count": 105,
   "id": "0bd7b692",
   "metadata": {},
   "outputs": [],
   "source": [
    "label_dict = {i: label for i, label in enumerate(newsgroups_train['target_names'])}\n",
    "ng_train_df['label'].replace(label_dict, inplace=True)"
   ]
  },
  {
   "cell_type": "code",
   "execution_count": 111,
   "id": "e9344705",
   "metadata": {},
   "outputs": [
    {
     "data": {
      "text/html": [
       "<div>\n",
       "<style scoped>\n",
       "    .dataframe tbody tr th:only-of-type {\n",
       "        vertical-align: middle;\n",
       "    }\n",
       "\n",
       "    .dataframe tbody tr th {\n",
       "        vertical-align: top;\n",
       "    }\n",
       "\n",
       "    .dataframe thead th {\n",
       "        text-align: right;\n",
       "    }\n",
       "</style>\n",
       "<table border=\"1\" class=\"dataframe\">\n",
       "  <thead>\n",
       "    <tr style=\"text-align: right;\">\n",
       "      <th></th>\n",
       "      <th>sentiment_score</th>\n",
       "    </tr>\n",
       "    <tr>\n",
       "      <th>label</th>\n",
       "      <th></th>\n",
       "    </tr>\n",
       "  </thead>\n",
       "  <tbody>\n",
       "    <tr>\n",
       "      <th>comp.graphics</th>\n",
       "      <td>0.547356</td>\n",
       "    </tr>\n",
       "    <tr>\n",
       "      <th>misc.forsale</th>\n",
       "      <td>0.493030</td>\n",
       "    </tr>\n",
       "    <tr>\n",
       "      <th>rec.sport.hockey</th>\n",
       "      <td>0.470409</td>\n",
       "    </tr>\n",
       "    <tr>\n",
       "      <th>rec.sport.baseball</th>\n",
       "      <td>0.469508</td>\n",
       "    </tr>\n",
       "    <tr>\n",
       "      <th>sci.electronics</th>\n",
       "      <td>0.431782</td>\n",
       "    </tr>\n",
       "    <tr>\n",
       "      <th>comp.sys.ibm.pc.hardware</th>\n",
       "      <td>0.430881</td>\n",
       "    </tr>\n",
       "    <tr>\n",
       "      <th>sci.space</th>\n",
       "      <td>0.424613</td>\n",
       "    </tr>\n",
       "    <tr>\n",
       "      <th>soc.religion.christian</th>\n",
       "      <td>0.395767</td>\n",
       "    </tr>\n",
       "    <tr>\n",
       "      <th>comp.os.ms-windows.misc</th>\n",
       "      <td>0.394298</td>\n",
       "    </tr>\n",
       "    <tr>\n",
       "      <th>comp.sys.mac.hardware</th>\n",
       "      <td>0.377526</td>\n",
       "    </tr>\n",
       "    <tr>\n",
       "      <th>comp.windows.x</th>\n",
       "      <td>0.373962</td>\n",
       "    </tr>\n",
       "    <tr>\n",
       "      <th>sci.crypt</th>\n",
       "      <td>0.353488</td>\n",
       "    </tr>\n",
       "    <tr>\n",
       "      <th>rec.autos</th>\n",
       "      <td>0.338401</td>\n",
       "    </tr>\n",
       "    <tr>\n",
       "      <th>rec.motorcycles</th>\n",
       "      <td>0.295666</td>\n",
       "    </tr>\n",
       "    <tr>\n",
       "      <th>sci.med</th>\n",
       "      <td>0.183302</td>\n",
       "    </tr>\n",
       "    <tr>\n",
       "      <th>talk.religion.misc</th>\n",
       "      <td>0.178544</td>\n",
       "    </tr>\n",
       "    <tr>\n",
       "      <th>alt.atheism</th>\n",
       "      <td>0.125859</td>\n",
       "    </tr>\n",
       "    <tr>\n",
       "      <th>talk.politics.misc</th>\n",
       "      <td>0.104019</td>\n",
       "    </tr>\n",
       "    <tr>\n",
       "      <th>talk.politics.mideast</th>\n",
       "      <td>-0.253308</td>\n",
       "    </tr>\n",
       "    <tr>\n",
       "      <th>talk.politics.guns</th>\n",
       "      <td>-0.308504</td>\n",
       "    </tr>\n",
       "  </tbody>\n",
       "</table>\n",
       "</div>"
      ],
      "text/plain": [
       "                          sentiment_score\n",
       "label                                    \n",
       "comp.graphics                    0.547356\n",
       "misc.forsale                     0.493030\n",
       "rec.sport.hockey                 0.470409\n",
       "rec.sport.baseball               0.469508\n",
       "sci.electronics                  0.431782\n",
       "comp.sys.ibm.pc.hardware         0.430881\n",
       "sci.space                        0.424613\n",
       "soc.religion.christian           0.395767\n",
       "comp.os.ms-windows.misc          0.394298\n",
       "comp.sys.mac.hardware            0.377526\n",
       "comp.windows.x                   0.373962\n",
       "sci.crypt                        0.353488\n",
       "rec.autos                        0.338401\n",
       "rec.motorcycles                  0.295666\n",
       "sci.med                          0.183302\n",
       "talk.religion.misc               0.178544\n",
       "alt.atheism                      0.125859\n",
       "talk.politics.misc               0.104019\n",
       "talk.politics.mideast           -0.253308\n",
       "talk.politics.guns              -0.308504"
      ]
     },
     "execution_count": 111,
     "metadata": {},
     "output_type": "execute_result"
    }
   ],
   "source": [
    "ng_train_df.groupby('label').mean().sort_values(by='sentiment_score', ascending=False)"
   ]
  },
  {
   "cell_type": "code",
   "execution_count": 124,
   "id": "b1881d3a",
   "metadata": {},
   "outputs": [
    {
     "data": {
      "text/plain": [
       "['I was shocked to see that the subject of my last rely to awesley was\\n\"Luser!\"  That was certainly not my intention.  I meant to leave the\\nsubject line unchanged.  I believe that the NNTP server I use at columbia\\nmust have put in that subject line in protest over problems with my header.\\n That was rather rude of them, but beggars can\\'t be choosers, I suppose.\\n\\nIn any case, I didn\\'t do it and I apologize to awesley for the apparent\\ninsult.',\n",
       " \"In article <C4tM1H.ECF@magpie.linknet.com>, manes@magpie.linknet.com (Steve Manes) writes:\\n>\\n>For chrissakes, take out your calculator and work out the numbers.\\n>Here... I've preformatted them for you to make it easier:\\n>\\n>\\t\\t\\thandgun homicides/population\\n>\\t\\t\\t----------------------------\\n>\\tSwitzerland :\\t24 /  6,350,000\\n>\\t         UK :    8 / 55,670,000\\n>\\n>.... and then tell me again how Switzerland is safer with a more\\n>liberal handgun law than the UK is without...by RATE or TOTAL NUMBER.\\n>Your choice.\\n\\nPlease, PAY ATTENTION.\\nI, and others, were referring to TOTAL HOMICIDE DEATHS, NOT JUST\\nHANDGUN HOMICIDES.  In terms of how likely are you to be killed,\\n(regardless of how it's done, 'cause DEAD is DEAD), the UK has a\\nhigher homicide rate. Period.  You are more likely to be killed in the\\nUK than in Switzerland.  If you were to be murdered with a handgun,\\nthen yes, Switzerland has a higher rate.  But, to belabor the point,\\nyou are MORE LIKELY to be murdered in the UK. In that sense, the\\nweapon is irrelevant.  The UK is more violent, period.\\n\\nAl\\n[standard disclaimer]\",\n",
       " '----------------------------------------------------------------------\\nOpen letter by Dr. Paul H. Blackman, Research Coordinator for\\nNRA-ILA. NRA Official Journal 1/89.\\n-----------------------------------------------------------------------\\n\\nDear sir:\\n\\nBy now, we are used to the New England Journal of Medicine\\'s publication\\nof small-scale studies related to firearms from which conclusions are\\ndrawn which are quantum leaps from the data, followed by announcements of \\nmomentus \"scientific\" findings. These are regularly released to the press\\nwithout the caveats which riddle the conclusory paragraphs, and\\noften accompanied by an editorial calling attention to the findings.\\nGenerally, while they at least present a few interesting data, however\\nmeaningless, the studies misinterpret statistics, and ignore or belittle\\nserious studies by criminologists.\\n\\nThe latest effort -- \"Handgun Regulations, Crime, Assaults, and Homicide:\\nA Tale of Two Cities,\" by J.H. Sloan, et al., with the accompanying \\neditorial, \"Firearms Injuries: A Call for Science,\" by two employees\\nof the Centers for Disease Control (November 10), however, is an insult\\nto the intelligence of any serious scholar in any field and have so few\\ndata and so many flaws that I feel compelled to write at some length\\nto call attention to various major and minor failings, in no particular\\norder.\\n\\n\\t1. The authors misleadingly cite Wright, et al. (Ref. 1) to \\n\\tsupport the statement that \"some have argued that restricting\\n\\taccess to handguns could substantially reduce our annual rate\\n\\tof homicide.\" Wright, et al., in fact studied and rejected that\\n\\tcontention.\\n\\t\\n\\t2. The authors pretended that Vancouver and Seattle are very\\n\\tsimilar cities with similar economic circumstances, histories,\\n\\tdemographic characteristics, and the like. In fact, the cities\\n\\tare very different with very different demographic characteristics\\n\\twhich appear to explain completely the higher homicide rate in\\n\\tSeattle. Both cities are over three-forths non-Hispanic white\\n\\tand *the non-Hispanic white homicide rates are reported to be\\n\\tthe same in Seattle and Vancouver*. It is the different back-\\n\\tgrounds, problems, circumstances, and behaviors of the various\\n\\tethnic minorities which explain the difference in homicide.\\n\\t\\n\\t3. The authors pretend they are evaluating Canada\\'s gun law,\\n\\tcompared to Washington State\\'s. But they do not examine at all\\n\\tthe situation in Vancouver prior to the gun law taking effect\\n\\tin 1978. As it happens, in the three years prior to that (1975-\\n\\t1977), Vancouver averaged 23 homicides per year, one-eighth\\n\\tinvolving handguns, (Ref. 2) and in the seven years of the NEJM\\n\\tarticle there were 29 homicides per year, one-eigth involving\\n\\thandguns. Surely even the medical profession recognizes that\\n\\tone must look to see the prior situation was before concluding\\n\\tthat a change made a difference? Would a physician conclude that\\n\\ta patient was benefiting from eating oat bran muffin each day\\n\\tfor seven years because his cholesterol level was 200 without\\n\\tat least seeing if it was 180 before he started the regimen?\\n\\t\\n\\t4. The authors pick two medium-sized cities to evaluate a national\\n\\tgun law. Nothing can be learned from such a tiny and arbitrarily\\n\\tselected sample. Seattle appears to have been selected because\\n\\tit was convienient for the authors rather than for any scientific\\n\\treason. Would physicians call something a scientific study which\\n\\tinvolved one experimental subject and one dissimilar \"control\"?\\n\\tHad different arbitrarily selected cities been chosen, opposite\\n\\t\"scientific\" conclusions would follow: Vancouver\\'s homicide\\n\\trate *exceeds* that of such \"wild west\" cities in Texas as\\n\\tEl Paso, Corpus Christi, Austen, and, in Colorado, Colorado\\n\\tSprings. (Ref. 3)\\n\\t\\n\\t5. The authors fail to clearly demonstrate that firearms or\\n\\thandguns \"are far more commonly owned in Seattle than in\\n\\tVancouver.\" They use two surrogate approaches in pretending\\n\\tto study the availability of firearms/handguns. The first is\\n\\tan apples-and-oranges effort to compare the number of carry\\n\\tpermits in Seattle to the number of registered handguns in\\n\\tVancouver. But the number clearly understates the number of\\n\\thandguns in Seattle, and counts primarily *protective* handgun\\n\\towners. The second, however, tells nothing about the number\\n\\tof handguns in Vancouver, and counts *non-protective* handguns\\n\\tfor the most part. Where is it difficult to obtain handguns\\n\\tlegally for protection, registration figures are\\n\\tmeaningless. There are 66,000 registered handguns in New York\\n\\tCity (New York Daily News, Sept. 27, 1987). Comparing the two,\\n\\tthat method suggests about 930 handguns per 100,000 population\\n\\tin New York City compared to 960 in Vancouver, meaning Vancouver\\n\\thas a greater \"prevalence of weapons\" than New York City.\\n\\t\\n\\tThe second method of measuring gun density is \"Cook\\'s gun\\n\\tprevalence index, a previously validated measure of intercity\\n\\tdifferences.\" But the validation was by Cook of his own\\n\\ttheory. (Ref. 4) Normally, second opinions are sought from a\\n\\tdifferent doctor. More significantly, the Cook index is\\n\\tbased on the average of the percentage of firearms involvement\\n\\tin suicide and homicide. So the authors are basically taking\\n\\ta measure of misuse. Unsurprisingly, gun misuse in homicide\\n\\t(42% in Seattle, 14% in Vancouver) is related to gun misuse in\\n\\thomicide plus suicide, divided by two (41% in Seattle, 12% in\\n\\tVancouver). The authors are not measuring the relative avail-\\n\\tability of firearms, or of handguns, in Seattle and\\n\\tVancouver.\\n\\t\\n\\t6. The authors misstate the laws of both Washington and\\n\\tCanada. They neglect to mention the significant fact that\\n\\tWashington has a waiting period and background check prior to\\n\\tthe purchase of a handgun, and that provisions exist in Canadian\\n\\tlaw for owning and carrying handguns for personal\\n\\tprotection. The authors also make it appear that it is more\\n\\tdifficult to get a handgun legally in Canada than is actually\\n\\tthe case.\\n\\t\\n\\t7. The authors ignore all other factors which might explain\\n\\tthe differences in crime rate, beyond some vague mention of the\\n\\tpenalities provided by law and the roughest of estimates of \\n\\tclearence for one particular offense -- homicide involving a\\n\\tfirearm. There is no measure of: the differences in the number\\n\\tof law enforcement officers; their aggressiveness in making\\n\\tarrests for gun law violations in the two jurisdictions; arrest\\n\\trates for other offenses; conviction rates; actual sentences\\n\\timposed for gun-related crimes, violent crimes without guns,\\n\\tor gun law violations; or incarceration rates. Whereas social\\n\\tscientists would attempt to measure and hold for such differences,\\n\\tthe authors of the NEJM \"tale of two cities\" fail even to mention\\n\\tmost factors related to crime control.\\n\\t\\n\\t8. The authors dismiss claims that handguns are an effective\\n\\tmeans for protection unless the criminal is killed. Such is not\\n\\tthe case. Criminologists (Ref. 5-8) have found that almost\\n\\t650,000 Americans annually use handguns for protection from\\n\\tcriminals, and that using a gun for protection reduces the\\n\\tliklihood that a crime -- rape, robbery, assault -- will be\\n\\tcompleted by the criminal and reduces the likelihood of injury\\n\\tto the victim. It is interesting, nonetheless, that the authors\\n\\treported the same number (four) of civilian justifiable homicides\\n\\twithout firearms in each city but that less restrictive Seattle\\n\\taccounted for 100% of the reported civilian justifiable homicides\\n\\tinvolving firearms.\\n\\t\\n\\t9. The Centers for Disease Control, which funded the \"study,\"\\n\\teditorially praised the paper, (Ref. 9) saying it \"applied\\n\\tscientific methods to examine a focus of contention betweeb\\n\\tadvocates of stricter regulation of firearms, particularly\\n\\thandguns.\" There is nothing in the paper which could possibly\\n\\tbe mistaken for \"scientific methods\" by a sociologists or\\n\\tcriminologists. The Vancouver-Seattle \"study\" is the equivolent\\n\\tof testing an experimental drug to control hypertension by finding\\n\\ttwo ordinary-looking middle-class white males, one aged 25\\n\\tand the other 40, and without first taking their vital signs,\\n\\tadministering the experimental drug to the 25-year-old while\\n\\tgiving the 40-year-old a placebo, then taking their blood pressure\\n\\tand, on finding the younger man had a lower blood pressure, \\n\\tannouncing in a \"special article\" a new medical breakthrough.\\n\\tIt would be nice to think that such a \"study\" would neither be\\n\\tfunded by the CDC or printed by the NEJM.\\n\\t\\n\\tSince the longstanding anti-gun biases of the NEJM and the CDC\\n\\tmake them willing to present shoddy research as \"scientific\\n\\tbreakthroughs\" in \"special articles\" and editorials relating\\n\\tto firearms, we are obligated to correct the record by notifying\\n\\tthe news media and those with congressional and executive oversight\\n\\tover the activities of the Centers for Disease Control about\\n\\tthe distortions contained in \"Handgun Regulations, Crime, Assaults,\\n\\tand Homicides: A Tale of Two Cities\" and \"Firearm Injuries: A Call\\n\\tfor Science.\" Clearly, all scientific standards go by the wayside\\n\\twhenever the CDC and the New England Journal of Medicine seize\\n\\tan opportunity to attack firearms ownership in America.\\n\\t\\n\\t\\t\\t\\tREFERENCES\\n\\n1. Wright JD, et al, *Weapons, crime and violence in America*: a literature\\nreview and research agenda, Washington, D.C.: Department of Justice,\\n1981.\\n\\n2. Scarff E. *Evaluation of the Canadian gun control legislation*: final\\nreport. Ottawa: Ministry of the Solicitor General of Canada, 1983,\\np. 87.\\n\\n3. Department of Justice, Federal Bureau of Investigation, *Crime in\\nthe United States*, 1987 (Uniform Crime Reports). Washington, D.C.:\\nGovernment Printing Office, 1988\\n\\n4. Cook PJ. *The role of firearms in violent crime*. In: Wolfgang M.\\nWeiner NA, eds. *Criminal violence*, Beverly Hills, Calif.: Sage, 1982:\\n236-90, pp. 270-271.\\n\\n5. Kleck G. *Crime control through the private use of armed force*.\\nSocial Problems 1988: 35:1-21.\\n\\n6. Ziegenhagen EA, Brosnan D. *Victim responses to robbery and crime\\ncontrol policy*. Criminology. 1985: 23:675-695.\\n\\n7. Lizotte AJ. *Determinants of completeing rape and assault*. Journal\\nof Quantitative Criminology. 1986: 2:203-217.\\n\\n8. Sayles SL, Kleck G. *Rape and resistance*. Paper at the American Society\\nof Criminology convention, Chicago, 1988.\\n\\n9. Mercy JA, Houk VN. *Firearm injuries: a call for science*. \\nNEJM: 319:1283-1285.\\n==========================================================================\\n\\n                             GUNS AND SPUTTER\\n                            by James D. Wright\\n          (from July 1989 issue of REASON, Free Minds & Free Markets)\\n\\n      Someone once wrote: \"Statistics are like a bikini.  What they real is\\n   suggestive, but what they conceal is vital.\"  The problem is demonstrated\\n   by the most recent entry in a long line of scientific research purporting\\n   to show a causal link between gun availability and homicide.  Funded by\\n   the federal government and published last year in the New England Journal\\n   of Medicine, the study compared homicide rates in Seattle and Vancouver and\\n   suggested that a handgun ban \"may reduce the rate of homicide in a \\n   community.\"\\n      The nine medical doctors who published \"Handgun Regulations, Crime,\\n   Assaults, and Homicide\" essentially reasoned in three steps: (1) Despite\\n   many historical, social, and demographic similarities, (2) Vancouver\\n   has a markedly lower homicide rate (3) because its stricter gun regulations\\n   make guns less available.  The second step in their reasoning seems\\n   indisputable.  The overall homicide rate in Seattle (for the period\\n   1980-86) was 11.3 per 100,000 popuation, compared with 6.9 in Vancouver.\\n   Homicide is definitely more common in Seattle.  The question then becomes,\\n   Why?\\n      The authors present a believable although not entirely accurate case\\n   to support the notion, as claimed in the third step of their reasoning,\\n   that Vancouver\\'s handgun regulations are much more stringent.  But their\\n   evidence on the difference in gun *availabilty* is indirect and \\n   unpersuasive; indeed, they acknowledge that direct evidence on the point\\n   does not exist.  They offer two fragments of inferential data in support\\n   of the claim that guns are more available in Seattle; but for all anybody\\n   knows as a matter of empirical fact, the opposite could be true.  We\\n   are therefore being asked, at the conclusion of the study, to believe that\\n   a difference in gun availability explains the difference in homicide rates\\n   when a difference in gun availability has not itself been established.\\n      Indeed, the situation is even more troublesome.  The first of the two\\n   indirect bits of evidence is a difference between the number of concealed-\\n   weapons permits issued in Seattle and the number of restricted-weapons\\n   permits issued in Vancouver.  Differences between the two cities in the\\n   permit regulations render these two numbers strictly noncomparable.\\n*     The second bit of evidence is \"Cook\\'s gun prevalence index,\" which stands\\n*  at 41 percent for Seattle but only 12 percent for Vancouver.  Cook\\'s index\\n*  however, does not measure the relative prevalence of gun ownership in \\n*  various cities.  It measures gun misuse--it is an average of the percentage\\n*  of homicides and suicides involving firearms.\\n*     In the present case, the index shows only that in homicides and suicides,\\n*  firearms are more likely to be used in Seatte than in Vancouver.  To take\\n*  Cook\\'s index as a measure of general firearms availability, it must be\\n*  assumed that the proportional involvement of guns in homicides and suicides\\n*  is directly related to their relative availability in the general \\n*  population.  But this is exactly what the authors are seeking to prove. To\\n*  assume what one is seeking to prove, then to \"prove\" it on the basis of\\n*  that assumption does ot constitute scientific evidence for anything.\\n      Even if we were to grant, on the basis of no compelling evidence, that\\n   guns are less common in Vancouver, we might still question what causes what.\\n   The authors attribute Seattle\\'s higher crime rate to a higher rate of gun\\n   ownership.  But it might well be argued that low crime or homicide rates\\n   reduce the motivation for average citizens to obtain guns--in other words,\\n   that crime rates explain the variation in gun ownership, not vice versa.\\n      In fact, it was once commonly argued that Great Britain\\'s low rate of\\n   violent crime was a function of that nation\\'s strict gun laws and the \\n   consequent low rate of gun ownership--until British researcher Colin \\n   Greenwood found that Great Britain had enjoyed low rates of violent crime\\n   for many decades before strict firearms controls were enacted.  To invoke\\n   an ancient methodological saw, correlation is not cause.\\n      Nor do the problems with this study end with its lack of direct data\\n   on gun ownership.  The authors say Seattle and Vancouver are \"similar in\\n   many ways,\" implying that they differ mainly in gun availability, gun-law\\n   stringency, and crime rates.  This is an evident attempt to establish\\n   the ceteris paribus condition of a sound scientific analysis--that \"all\\n   else is equal\" among things being compared.\\n*     Clearly the two cities are similar in some ways, but a closer look \\n*  reveals differences in ways that are relevant to their respective crime\\n*  or homicide rates.  The cities are closely matched in what percentage\\n*  of their population is white (79 percent and 76 percent).  But Seattle\\n*  is about 10 percent black, while Vancouver is less than 0.5 percent.\\n*  Vancouver\\'s minority population is overwhelmingly Asian.  So although the\\n*  authors show that th two cities are approximately comparable on a half-\\n*  dozen readily available demographic indicators, they have not shown\\n*  that all potentially relevant sources of variation have been ruled out.\\n*     In fact, the differences in racial compositions of the two cities is\\n*  particularly relevant in light of the study\\'s breakdown of homicide rates\\n*  according to the race of the victim.  For the white majority, the homicide\\n*  rates are nearly identical--6.2 per 100,000 in Seattle, 6.4 in Vancouver.\\n*  The differing overall homicide rates in the two cities are therefore due\\n*  entirely to vastly different rates among racial minorities.  For blacks,\\n*  the observed difference in homicide rate is 36.6 to 9.5 and for Hispanics\\n*  26.9 to 7.9.  (Methodoligical complexities render the Asian comparison\\n*  problematic, but it too is higher in Seattle than in Vancouver.)  Racial\\n*  minorities are much more likely to be the victims of homicide in Seattle\\n*  than in Vancouver; the white majority is equally likely to be slain\\n*  in either city.\\n      Since the nearly 2:1 initial difference in homicide reates between the\\n   cities is due exclusively to 3:1 or 4:1 differences between minority \\n   groups, it is fair to ask why postulated difference in \"gun availability\"\\n   (or gun-law strigency) would matter so dramatically to minorities but not\\n   matter at all to whites.  Can differential gun availability explain why\\n   blacks and Hispanics--but not whites--are so much more likely to be killed\\n   in Seattle than in Vancouver?  (Studies in the United States, incidentally,\\n   do not show large or consistent racial differences in gun ownership.)\\n      Or are other explanations more plausible?  Could the disparity between\\n   Canadian and American rates of poverty among racial minorities have \\n   anything to do with it?  What are the relative rates of drug or alcohol \\n   abuse?  Of homelessness among each cty\\'s minority population?  (The city\\n   of Seattle runs the largest shelter for homeless men west of the \\n   Mississippi.)  Unemployment among young, central-city, nonwhite men in the\\n   United States usually exceeds 40 percent.  What is the comparable Canadian\\n   percentage?\\n      The crucial point is that Canada and the United States differ in many\\n   ways, as do cities and population subgroups with the two countries.  Absent\\n   more detailed analysis, nearly any of these \"many ways\" might explain part\\n   or all of the difference in homicide rates.  In gross comparisons such\\n   as those between Seattle and Vancouver, all else is *not* equal.\\n*     The authors of this study acknowledge that racial patterns in homicide\\n*  result in a \"complex picture.\"  They do not acknowledge that the ensuing\\n*  complexities seriously undercut the main thrust of their argument.  They\\n*  also acknowledge that \"socio-economic status is probably an important\\n*  confounding factor in our comparison,\" remarking further that \"blacks   \\n*  in Vancouver had a slightly higher mean income in 1981 than the rest of\\n*  Vancouver\\'s population.\"  Given the evidence presented in the article,\\n*  it is possible that all of the difference in homicide rates between Seattle\\n*  and Vancouver results from greater proverty among Seattle\\'s racial\\n*  minorities.  But the authors pay no further attention to this possibility,\\n*  since \"detailed information about household incomes according to race\\n*  is not available for Vancouver.\"\\n      The largely insurmountable methodological difficulties confronted in \\n   gross comparative studies of this sort can be illustrated with as simple\\n   example.  If one were to take all U.S. couties and compare them in terms\\n   of (1) pervalence of gun ownership and (2) crime or homicide rates, one \\n   would find an astonishing pattern: Counties with more guns have less crime.\\n   Would one conclude from this evidence alone that guns actually reduce \\n   crime?  Or would one insist that other variables also be taken into\\n   account?  In this example, the \"hidden variable\" is city size: Guns are\\n   more common in small towns and rural areas, whereas crime is a big-city\\n   problem.  If researchers failed to anticipate this variable, or lacked the\\n   appropriate data to examine its possible consequences, they coud be very\\n   seriously misled.  In the study at hand, the authors matched two cities\\n   for size but not for minority poverty rates or other hidden variables,\\n   and their results are impossible to interpret.\\n      In the editorial \"Firearm Injuries: A Call for Science\" accompanying\\n   the study, two officials from the Centers for Disease Control lauded the\\n   authors for applying \"scientific methods\" to a problem of grave public\\n   heath significance.  But in attempting to draw causal conclusions from\\n   nonexperimental research, the essence of scientific method is to anticipate\\n   plausible alternative explanations for the results and try to rule them\\n   out.  Absent such effort, the results may well seem scientific but are\\n   little more than polemics masquerading as serious research.  That this\\n   study is but one of a number of recent efforts--all employing practical\\n   identical research designs and published in leading scientific journals--\\n   is cause for further concern.\\n\\n   [James D. Wright is professor of sociology at Tulane University.  He has\\n   researched extensively on the relationship of firearms and crime.]\\n\\nReason published monthly except combined August-September issue by the Reason\\nFoundation, a nonprofit, tax-exempt organization.  Subscription rate: $24.00 \\nper year.']"
      ]
     },
     "execution_count": 124,
     "metadata": {},
     "output_type": "execute_result"
    }
   ],
   "source": [
    "ng_train_df[(ng_train_df['label'] == 'talk.politics.guns') & (ng_train_df['sentiment_score'] < -0.5)].sample(3, random_state=42)['text'].tolist()"
   ]
  },
  {
   "cell_type": "code",
   "execution_count": 125,
   "id": "908f0b68",
   "metadata": {},
   "outputs": [
    {
     "data": {
      "text/html": [
       "<div>\n",
       "<style scoped>\n",
       "    .dataframe tbody tr th:only-of-type {\n",
       "        vertical-align: middle;\n",
       "    }\n",
       "\n",
       "    .dataframe tbody tr th {\n",
       "        vertical-align: top;\n",
       "    }\n",
       "\n",
       "    .dataframe thead th {\n",
       "        text-align: right;\n",
       "    }\n",
       "</style>\n",
       "<table border=\"1\" class=\"dataframe\">\n",
       "  <thead>\n",
       "    <tr style=\"text-align: right;\">\n",
       "      <th></th>\n",
       "      <th>text</th>\n",
       "      <th>label</th>\n",
       "      <th>sentiment_score</th>\n",
       "    </tr>\n",
       "  </thead>\n",
       "  <tbody>\n",
       "    <tr>\n",
       "      <th>5141</th>\n",
       "      <td>I was shocked to see that the subject of my la...</td>\n",
       "      <td>talk.politics.guns</td>\n",
       "      <td>-0.8197</td>\n",
       "    </tr>\n",
       "    <tr>\n",
       "      <th>1347</th>\n",
       "      <td>In article &lt;C4tM1H.ECF@magpie.linknet.com&gt;, ma...</td>\n",
       "      <td>talk.politics.guns</td>\n",
       "      <td>-0.9744</td>\n",
       "    </tr>\n",
       "    <tr>\n",
       "      <th>8114</th>\n",
       "      <td>----------------------------------------------...</td>\n",
       "      <td>talk.politics.guns</td>\n",
       "      <td>-0.9999</td>\n",
       "    </tr>\n",
       "  </tbody>\n",
       "</table>\n",
       "</div>"
      ],
      "text/plain": [
       "                                                   text               label  \\\n",
       "5141  I was shocked to see that the subject of my la...  talk.politics.guns   \n",
       "1347  In article <C4tM1H.ECF@magpie.linknet.com>, ma...  talk.politics.guns   \n",
       "8114  ----------------------------------------------...  talk.politics.guns   \n",
       "\n",
       "      sentiment_score  \n",
       "5141          -0.8197  \n",
       "1347          -0.9744  \n",
       "8114          -0.9999  "
      ]
     },
     "execution_count": 125,
     "metadata": {},
     "output_type": "execute_result"
    }
   ],
   "source": [
    "ng_train_df[(ng_train_df['label'] == 'talk.politics.guns') & (ng_train_df['sentiment_score'] < -0.5)].sample(3, random_state=42)"
   ]
  },
  {
   "cell_type": "code",
   "execution_count": 130,
   "id": "70d77e79",
   "metadata": {},
   "outputs": [
    {
     "data": {
      "text/plain": [
       "['I am looking for comments from people who have used/heard about PhotoShop\\nfor Windows. Is it good? How does it compare to the Mac version? Is there\\na lot of bugs (I heard the Windows version needs \"fine-tuning)?\\n\\nAny comments would be greatly appreciated..\\n\\nThank you.',\n",
       " \"bolson@carson.u.washington.edu (Edward Bolson) writes:\\n\\n>Boy, this will be embarassing if it is trivial or an FAQ:\\n\\n>Given 4 points (non coplanar), how does one find the sphere, that is,\\n>center and radius, exactly fitting those points?  I know how to do it\\n>for a circle (from 3 points), but do not immediately see a \\n>straightforward way to do it in 3-D.  I have checked some\\n>geometry books, Graphics Gems, and Farin, but am still at a loss?\\n>Please have mercy on me and provide the solution?  \\n\\nIt's not a bad question: I don't have any refs that list this algorithm\\neither. But thinking about it a bit, it shouldn't be too hard.\\n\\n1) Take three of the points and find the plane they define as well as\\nthe circle that they lie on (you say you have this algorithm already)\\n\\n2) Find the center  of this circle. The line passing through this center\\nperpendicular to the plane of the three points passes through the center of\\nthe sphere.\\n\\n3) Repeat with the unused point and two of the original points. This\\ngives you two different lines that both pass through the sphere's\\norigin. Their interection is the center of the sphere.\\n\\n4) the radius is easy to compute, it's just the distance from the center to\\nany of the original points.\\n\\nI'll leave the math to you, but this is a workable algorithm. :-)\\n\\n\\nAn alternate method would be to take pairs of points: the plane formed\\nby the perpendicular bisector of each line segment pair also contains the\\ncenter of the sphere. Three pairs will form three planes, intersecting\\nat a point. This might be easier to implement.\",\n",
       " 'I am setting up a video-aid for a computer room for the teacher to share his\\ndisplay with the class.\\n\\nI have seen people using video projector, TV sets and large monitor to do\\npresentations before. I am told that there are three ways to connect video\\nprojector: composite, Y/C & RGB.\\n\\nCan anyone explain to me the difference and their likely costs?\\n\\nPlease reply to my INETNET E-mail account as well as posting in bulletin:\\nu129008@sparc20.nuc.edu.tw\\n\\nI also like to know if there are TELNET or KERMIT for windows.']"
      ]
     },
     "execution_count": 130,
     "metadata": {},
     "output_type": "execute_result"
    }
   ],
   "source": [
    "ng_train_df[(ng_train_df['label'] == 'comp.graphics') & (ng_train_df['sentiment_score'] > 0.5)].sample(3, random_state=42)['text'].tolist()"
   ]
  },
  {
   "cell_type": "code",
   "execution_count": 129,
   "id": "d95299be",
   "metadata": {},
   "outputs": [
    {
     "data": {
      "text/html": [
       "<div>\n",
       "<style scoped>\n",
       "    .dataframe tbody tr th:only-of-type {\n",
       "        vertical-align: middle;\n",
       "    }\n",
       "\n",
       "    .dataframe tbody tr th {\n",
       "        vertical-align: top;\n",
       "    }\n",
       "\n",
       "    .dataframe thead th {\n",
       "        text-align: right;\n",
       "    }\n",
       "</style>\n",
       "<table border=\"1\" class=\"dataframe\">\n",
       "  <thead>\n",
       "    <tr style=\"text-align: right;\">\n",
       "      <th></th>\n",
       "      <th>text</th>\n",
       "      <th>label</th>\n",
       "      <th>sentiment_score</th>\n",
       "    </tr>\n",
       "  </thead>\n",
       "  <tbody>\n",
       "    <tr>\n",
       "      <th>8581</th>\n",
       "      <td>I am looking for comments from people who have...</td>\n",
       "      <td>comp.graphics</td>\n",
       "      <td>0.8693</td>\n",
       "    </tr>\n",
       "    <tr>\n",
       "      <th>8374</th>\n",
       "      <td>bolson@carson.u.washington.edu (Edward Bolson)...</td>\n",
       "      <td>comp.graphics</td>\n",
       "      <td>0.9829</td>\n",
       "    </tr>\n",
       "    <tr>\n",
       "      <th>9785</th>\n",
       "      <td>I am setting up a video-aid for a computer roo...</td>\n",
       "      <td>comp.graphics</td>\n",
       "      <td>0.7964</td>\n",
       "    </tr>\n",
       "  </tbody>\n",
       "</table>\n",
       "</div>"
      ],
      "text/plain": [
       "                                                   text          label  \\\n",
       "8581  I am looking for comments from people who have...  comp.graphics   \n",
       "8374  bolson@carson.u.washington.edu (Edward Bolson)...  comp.graphics   \n",
       "9785  I am setting up a video-aid for a computer roo...  comp.graphics   \n",
       "\n",
       "      sentiment_score  \n",
       "8581           0.8693  \n",
       "8374           0.9829  \n",
       "9785           0.7964  "
      ]
     },
     "execution_count": 129,
     "metadata": {},
     "output_type": "execute_result"
    }
   ],
   "source": [
    "ng_train_df[(ng_train_df['label'] == 'comp.graphics') & (ng_train_df['sentiment_score'] > 0.5)].sample(3, random_state=42)"
   ]
  },
  {
   "cell_type": "code",
   "execution_count": 134,
   "id": "bd0c3494",
   "metadata": {},
   "outputs": [
    {
     "data": {
      "image/png": "[encoded data removed]",
      "text/plain": [
       "<Figure size 396x396 with 1 Axes>"
      ]
     },
     "metadata": {},
     "output_type": "display_data"
    }
   ],
   "source": [
    "import seaborn as sns\n",
    "import matplotlib.pyplot as plt\n",
    "\n",
    "f = plt.figure(figsize=(5.5, 5.5))\n",
    "sns.histplot(ng_train_df[ng_train_df['label'].isin(['talk.politics.guns', 'rec.sport.hockey'])], x='sentiment_score', hue='label')\n",
    "plt.savefig('B17030_18_07.png', dpi=300)"
   ]
  }
 ],
 "metadata": {
  "kernelspec": {
   "display_name": "Python 3",
   "language": "python",
   "name": "python3"
  },
  "language_info": {
   "codemirror_mode": {
    "name": "ipython",
    "version": 3
   },
   "file_extension": ".py",
   "mimetype": "text/x-python",
   "name": "python",
   "nbconvert_exporter": "python",
   "pygments_lexer": "ipython3",
   "version": "3.8.5"
  }
 },
 "nbformat": 4,
 "nbformat_minor": 5
}

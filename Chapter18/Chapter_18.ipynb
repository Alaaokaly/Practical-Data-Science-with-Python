{
 "cells": [
  {
   "cell_type": "markdown",
   "id": "557fc29c",
   "metadata": {},
   "source": [
    "# Text cleaning"
   ]
  },
  {
   "cell_type": "code",
   "execution_count": 1,
   "id": "a8faf7db",
   "metadata": {},
   "outputs": [],
   "source": [
    "from urllib.request import urlopen\n",
    "from gutenberg_cleaner import simple_cleaner\n",
    "\n",
    "wnp = urlopen('https://www.gutenberg.org/files/2600/2600-0.txt').read().decode('utf-8')\n",
    "wnp = simple_cleaner(wnp)"
   ]
  },
  {
   "cell_type": "code",
   "execution_count": 2,
   "id": "523068e3",
   "metadata": {},
   "outputs": [
    {
     "data": {
      "text/plain": [
       "'\\r\\n\\r\\n\\r\\n\\r\\nWAR AND PEACE\\r\\n\\r\\n\\r\\nBy Leo Tolstoy/Tolstoi\\r\\n\\r\\n\\r\\n    Contents\\r\\n\\r\\n    BOOK ONE: 1805\\r\\n\\r\\n    CHA'"
      ]
     },
     "execution_count": 2,
     "metadata": {},
     "output_type": "execute_result"
    }
   ],
   "source": [
    "wnp[:100]"
   ]
  },
  {
   "cell_type": "code",
   "execution_count": 3,
   "id": "bfa43bb1",
   "metadata": {},
   "outputs": [],
   "source": [
    "wnp = wnp.lower()"
   ]
  },
  {
   "cell_type": "code",
   "execution_count": 4,
   "id": "06b5827a",
   "metadata": {},
   "outputs": [
    {
     "data": {
      "text/plain": [
       "'war and peace by leo tolstoy/tolstoi contents book one: 1805 chapter i chapter ii chapter iii chapte'"
      ]
     },
     "execution_count": 4,
     "metadata": {},
     "output_type": "execute_result"
    }
   ],
   "source": [
    "import re\n",
    "\n",
    "wnp = re.sub(r'\\s+', ' ', wnp).strip()\n",
    "wnp[:100]"
   ]
  },
  {
   "cell_type": "markdown",
   "id": "d16c932d",
   "metadata": {},
   "source": [
    "Confusingly, both of these work (although the second version with `'\\\\s+'` is technically more correct):"
   ]
  },
  {
   "cell_type": "code",
   "execution_count": 5,
   "id": "892966c6",
   "metadata": {},
   "outputs": [
    {
     "data": {
      "text/plain": [
       "'war and peace by leo tolstoy/tolstoi contents book one: 1805 chapter i chapter ii chapter iii chapte'"
      ]
     },
     "execution_count": 5,
     "metadata": {},
     "output_type": "execute_result"
    }
   ],
   "source": [
    "re.sub('\\s+', ' ', wnp)[:100]"
   ]
  },
  {
   "cell_type": "code",
   "execution_count": 6,
   "id": "fc03c369",
   "metadata": {},
   "outputs": [
    {
     "data": {
      "text/plain": [
       "'war and peace by leo tolstoy/tolstoi contents book one: 1805 chapter i chapter ii chapter iii chapte'"
      ]
     },
     "execution_count": 6,
     "metadata": {},
     "output_type": "execute_result"
    }
   ],
   "source": [
    "re.sub('\\\\s+', ' ', wnp)[:100]"
   ]
  },
  {
   "cell_type": "code",
   "execution_count": 7,
   "id": "c1a9797f",
   "metadata": {},
   "outputs": [
    {
     "data": {
      "text/plain": [
       "'war and peace by leo tolstoytolstoi contents book one 1805 chapter i chapter ii chapter iii chapter '"
      ]
     },
     "execution_count": 7,
     "metadata": {},
     "output_type": "execute_result"
    }
   ],
   "source": [
    "import string\n",
    "\n",
    "wnp = wnp.translate(str.maketrans('', '', string.punctuation))\n",
    "wnp[:100]"
   ]
  },
  {
   "cell_type": "code",
   "execution_count": 8,
   "id": "824f1cbc",
   "metadata": {},
   "outputs": [
    {
     "data": {
      "text/plain": [
       "'0123456789!\"#$%&\\'()*+,-./:;<=>?@[\\\\]^_`{|}~'"
      ]
     },
     "execution_count": 8,
     "metadata": {},
     "output_type": "execute_result"
    }
   ],
   "source": [
    "string.digits + string.punctuation"
   ]
  },
  {
   "cell_type": "code",
   "execution_count": 9,
   "id": "742e896d",
   "metadata": {},
   "outputs": [],
   "source": [
    "wnp = re.sub(r'\\w+@\\w+\\.\\w+', '', wnp)"
   ]
  },
  {
   "cell_type": "code",
   "execution_count": 10,
   "id": "60facbdc",
   "metadata": {},
   "outputs": [
    {
     "data": {
      "text/plain": [
       "'this is an email: ; while this is not: hello@test'"
      ]
     },
     "execution_count": 10,
     "metadata": {},
     "output_type": "execute_result"
    }
   ],
   "source": [
    "email_test_string = 'this is an email: hello@test.com; while this is not: hello@test'\n",
    "re.sub(r'\\w+@\\w+\\.\\w+', '', email_test_string)"
   ]
  },
  {
   "cell_type": "code",
   "execution_count": 11,
   "id": "f7207af9",
   "metadata": {},
   "outputs": [
    {
     "data": {
      "text/plain": [
       "'war peace leo tolstoytolstoi contents book 1805 chapter chapter ii chapter iii chapter iv chapter v '"
      ]
     },
     "execution_count": 11,
     "metadata": {},
     "output_type": "execute_result"
    }
   ],
   "source": [
    "# _stop_words in sklearn 0.23 and below, _stop_word in sklearn 0.24 and above\n",
    "from sklearn.feature_extraction import _stop_words\n",
    "\n",
    "non_stopwords = []\n",
    "for word in wnp.split():\n",
    "    if word not in _stop_words.ENGLISH_STOP_WORDS:\n",
    "        non_stopwords.append(word)\n",
    "        \n",
    "cleaned_text = ' '.join(non_stopwords)\n",
    "cleaned_text[:100]"
   ]
  },
  {
   "cell_type": "code",
   "execution_count": 12,
   "id": "475ea461",
   "metadata": {},
   "outputs": [
    {
     "data": {
      "text/plain": [
       "frozenset({'a',\n",
       "           'about',\n",
       "           'above',\n",
       "           'across',\n",
       "           'after',\n",
       "           'afterwards',\n",
       "           'again',\n",
       "           'against',\n",
       "           'all',\n",
       "           'almost',\n",
       "           'alone',\n",
       "           'along',\n",
       "           'already',\n",
       "           'also',\n",
       "           'although',\n",
       "           'always',\n",
       "           'am',\n",
       "           'among',\n",
       "           'amongst',\n",
       "           'amoungst',\n",
       "           'amount',\n",
       "           'an',\n",
       "           'and',\n",
       "           'another',\n",
       "           'any',\n",
       "           'anyhow',\n",
       "           'anyone',\n",
       "           'anything',\n",
       "           'anyway',\n",
       "           'anywhere',\n",
       "           'are',\n",
       "           'around',\n",
       "           'as',\n",
       "           'at',\n",
       "           'back',\n",
       "           'be',\n",
       "           'became',\n",
       "           'because',\n",
       "           'become',\n",
       "           'becomes',\n",
       "           'becoming',\n",
       "           'been',\n",
       "           'before',\n",
       "           'beforehand',\n",
       "           'behind',\n",
       "           'being',\n",
       "           'below',\n",
       "           'beside',\n",
       "           'besides',\n",
       "           'between',\n",
       "           'beyond',\n",
       "           'bill',\n",
       "           'both',\n",
       "           'bottom',\n",
       "           'but',\n",
       "           'by',\n",
       "           'call',\n",
       "           'can',\n",
       "           'cannot',\n",
       "           'cant',\n",
       "           'co',\n",
       "           'con',\n",
       "           'could',\n",
       "           'couldnt',\n",
       "           'cry',\n",
       "           'de',\n",
       "           'describe',\n",
       "           'detail',\n",
       "           'do',\n",
       "           'done',\n",
       "           'down',\n",
       "           'due',\n",
       "           'during',\n",
       "           'each',\n",
       "           'eg',\n",
       "           'eight',\n",
       "           'either',\n",
       "           'eleven',\n",
       "           'else',\n",
       "           'elsewhere',\n",
       "           'empty',\n",
       "           'enough',\n",
       "           'etc',\n",
       "           'even',\n",
       "           'ever',\n",
       "           'every',\n",
       "           'everyone',\n",
       "           'everything',\n",
       "           'everywhere',\n",
       "           'except',\n",
       "           'few',\n",
       "           'fifteen',\n",
       "           'fifty',\n",
       "           'fill',\n",
       "           'find',\n",
       "           'fire',\n",
       "           'first',\n",
       "           'five',\n",
       "           'for',\n",
       "           'former',\n",
       "           'formerly',\n",
       "           'forty',\n",
       "           'found',\n",
       "           'four',\n",
       "           'from',\n",
       "           'front',\n",
       "           'full',\n",
       "           'further',\n",
       "           'get',\n",
       "           'give',\n",
       "           'go',\n",
       "           'had',\n",
       "           'has',\n",
       "           'hasnt',\n",
       "           'have',\n",
       "           'he',\n",
       "           'hence',\n",
       "           'her',\n",
       "           'here',\n",
       "           'hereafter',\n",
       "           'hereby',\n",
       "           'herein',\n",
       "           'hereupon',\n",
       "           'hers',\n",
       "           'herself',\n",
       "           'him',\n",
       "           'himself',\n",
       "           'his',\n",
       "           'how',\n",
       "           'however',\n",
       "           'hundred',\n",
       "           'i',\n",
       "           'ie',\n",
       "           'if',\n",
       "           'in',\n",
       "           'inc',\n",
       "           'indeed',\n",
       "           'interest',\n",
       "           'into',\n",
       "           'is',\n",
       "           'it',\n",
       "           'its',\n",
       "           'itself',\n",
       "           'keep',\n",
       "           'last',\n",
       "           'latter',\n",
       "           'latterly',\n",
       "           'least',\n",
       "           'less',\n",
       "           'ltd',\n",
       "           'made',\n",
       "           'many',\n",
       "           'may',\n",
       "           'me',\n",
       "           'meanwhile',\n",
       "           'might',\n",
       "           'mill',\n",
       "           'mine',\n",
       "           'more',\n",
       "           'moreover',\n",
       "           'most',\n",
       "           'mostly',\n",
       "           'move',\n",
       "           'much',\n",
       "           'must',\n",
       "           'my',\n",
       "           'myself',\n",
       "           'name',\n",
       "           'namely',\n",
       "           'neither',\n",
       "           'never',\n",
       "           'nevertheless',\n",
       "           'next',\n",
       "           'nine',\n",
       "           'no',\n",
       "           'nobody',\n",
       "           'none',\n",
       "           'noone',\n",
       "           'nor',\n",
       "           'not',\n",
       "           'nothing',\n",
       "           'now',\n",
       "           'nowhere',\n",
       "           'of',\n",
       "           'off',\n",
       "           'often',\n",
       "           'on',\n",
       "           'once',\n",
       "           'one',\n",
       "           'only',\n",
       "           'onto',\n",
       "           'or',\n",
       "           'other',\n",
       "           'others',\n",
       "           'otherwise',\n",
       "           'our',\n",
       "           'ours',\n",
       "           'ourselves',\n",
       "           'out',\n",
       "           'over',\n",
       "           'own',\n",
       "           'part',\n",
       "           'per',\n",
       "           'perhaps',\n",
       "           'please',\n",
       "           'put',\n",
       "           'rather',\n",
       "           're',\n",
       "           'same',\n",
       "           'see',\n",
       "           'seem',\n",
       "           'seemed',\n",
       "           'seeming',\n",
       "           'seems',\n",
       "           'serious',\n",
       "           'several',\n",
       "           'she',\n",
       "           'should',\n",
       "           'show',\n",
       "           'side',\n",
       "           'since',\n",
       "           'sincere',\n",
       "           'six',\n",
       "           'sixty',\n",
       "           'so',\n",
       "           'some',\n",
       "           'somehow',\n",
       "           'someone',\n",
       "           'something',\n",
       "           'sometime',\n",
       "           'sometimes',\n",
       "           'somewhere',\n",
       "           'still',\n",
       "           'such',\n",
       "           'system',\n",
       "           'take',\n",
       "           'ten',\n",
       "           'than',\n",
       "           'that',\n",
       "           'the',\n",
       "           'their',\n",
       "           'them',\n",
       "           'themselves',\n",
       "           'then',\n",
       "           'thence',\n",
       "           'there',\n",
       "           'thereafter',\n",
       "           'thereby',\n",
       "           'therefore',\n",
       "           'therein',\n",
       "           'thereupon',\n",
       "           'these',\n",
       "           'they',\n",
       "           'thick',\n",
       "           'thin',\n",
       "           'third',\n",
       "           'this',\n",
       "           'those',\n",
       "           'though',\n",
       "           'three',\n",
       "           'through',\n",
       "           'throughout',\n",
       "           'thru',\n",
       "           'thus',\n",
       "           'to',\n",
       "           'together',\n",
       "           'too',\n",
       "           'top',\n",
       "           'toward',\n",
       "           'towards',\n",
       "           'twelve',\n",
       "           'twenty',\n",
       "           'two',\n",
       "           'un',\n",
       "           'under',\n",
       "           'until',\n",
       "           'up',\n",
       "           'upon',\n",
       "           'us',\n",
       "           'very',\n",
       "           'via',\n",
       "           'was',\n",
       "           'we',\n",
       "           'well',\n",
       "           'were',\n",
       "           'what',\n",
       "           'whatever',\n",
       "           'when',\n",
       "           'whence',\n",
       "           'whenever',\n",
       "           'where',\n",
       "           'whereafter',\n",
       "           'whereas',\n",
       "           'whereby',\n",
       "           'wherein',\n",
       "           'whereupon',\n",
       "           'wherever',\n",
       "           'whether',\n",
       "           'which',\n",
       "           'while',\n",
       "           'whither',\n",
       "           'who',\n",
       "           'whoever',\n",
       "           'whole',\n",
       "           'whom',\n",
       "           'whose',\n",
       "           'why',\n",
       "           'will',\n",
       "           'with',\n",
       "           'within',\n",
       "           'without',\n",
       "           'would',\n",
       "           'yet',\n",
       "           'you',\n",
       "           'your',\n",
       "           'yours',\n",
       "           'yourself',\n",
       "           'yourselves'})"
      ]
     },
     "execution_count": 12,
     "metadata": {},
     "output_type": "execute_result"
    }
   ],
   "source": [
    "_stop_words.ENGLISH_STOP_WORDS"
   ]
  },
  {
   "cell_type": "code",
   "execution_count": 13,
   "id": "086d3668",
   "metadata": {},
   "outputs": [
    {
     "name": "stderr",
     "output_type": "stream",
     "text": [
      "[nltk_data] Downloading package stopwords to\n",
      "[nltk_data]     C:\\Users\\words\\AppData\\Roaming\\nltk_data...\n",
      "[nltk_data]   Package stopwords is already up-to-date!\n"
     ]
    },
    {
     "data": {
      "text/plain": [
       "True"
      ]
     },
     "execution_count": 13,
     "metadata": {},
     "output_type": "execute_result"
    }
   ],
   "source": [
    "import nltk\n",
    "\n",
    "nltk.download('stopwords')"
   ]
  },
  {
   "cell_type": "code",
   "execution_count": 14,
   "id": "0f60c7f7",
   "metadata": {},
   "outputs": [
    {
     "data": {
      "text/plain": [
       "['i',\n",
       " 'me',\n",
       " 'my',\n",
       " 'myself',\n",
       " 'we',\n",
       " 'our',\n",
       " 'ours',\n",
       " 'ourselves',\n",
       " 'you',\n",
       " \"you're\",\n",
       " \"you've\",\n",
       " \"you'll\",\n",
       " \"you'd\",\n",
       " 'your',\n",
       " 'yours',\n",
       " 'yourself',\n",
       " 'yourselves',\n",
       " 'he',\n",
       " 'him',\n",
       " 'his',\n",
       " 'himself',\n",
       " 'she',\n",
       " \"she's\",\n",
       " 'her',\n",
       " 'hers',\n",
       " 'herself',\n",
       " 'it',\n",
       " \"it's\",\n",
       " 'its',\n",
       " 'itself',\n",
       " 'they',\n",
       " 'them',\n",
       " 'their',\n",
       " 'theirs',\n",
       " 'themselves',\n",
       " 'what',\n",
       " 'which',\n",
       " 'who',\n",
       " 'whom',\n",
       " 'this',\n",
       " 'that',\n",
       " \"that'll\",\n",
       " 'these',\n",
       " 'those',\n",
       " 'am',\n",
       " 'is',\n",
       " 'are',\n",
       " 'was',\n",
       " 'were',\n",
       " 'be',\n",
       " 'been',\n",
       " 'being',\n",
       " 'have',\n",
       " 'has',\n",
       " 'had',\n",
       " 'having',\n",
       " 'do',\n",
       " 'does',\n",
       " 'did',\n",
       " 'doing',\n",
       " 'a',\n",
       " 'an',\n",
       " 'the',\n",
       " 'and',\n",
       " 'but',\n",
       " 'if',\n",
       " 'or',\n",
       " 'because',\n",
       " 'as',\n",
       " 'until',\n",
       " 'while',\n",
       " 'of',\n",
       " 'at',\n",
       " 'by',\n",
       " 'for',\n",
       " 'with',\n",
       " 'about',\n",
       " 'against',\n",
       " 'between',\n",
       " 'into',\n",
       " 'through',\n",
       " 'during',\n",
       " 'before',\n",
       " 'after',\n",
       " 'above',\n",
       " 'below',\n",
       " 'to',\n",
       " 'from',\n",
       " 'up',\n",
       " 'down',\n",
       " 'in',\n",
       " 'out',\n",
       " 'on',\n",
       " 'off',\n",
       " 'over',\n",
       " 'under',\n",
       " 'again',\n",
       " 'further',\n",
       " 'then',\n",
       " 'once',\n",
       " 'here',\n",
       " 'there',\n",
       " 'when',\n",
       " 'where',\n",
       " 'why',\n",
       " 'how',\n",
       " 'all',\n",
       " 'any',\n",
       " 'both',\n",
       " 'each',\n",
       " 'few',\n",
       " 'more',\n",
       " 'most',\n",
       " 'other',\n",
       " 'some',\n",
       " 'such',\n",
       " 'no',\n",
       " 'nor',\n",
       " 'not',\n",
       " 'only',\n",
       " 'own',\n",
       " 'same',\n",
       " 'so',\n",
       " 'than',\n",
       " 'too',\n",
       " 'very',\n",
       " 's',\n",
       " 't',\n",
       " 'can',\n",
       " 'will',\n",
       " 'just',\n",
       " 'don',\n",
       " \"don't\",\n",
       " 'should',\n",
       " \"should've\",\n",
       " 'now',\n",
       " 'd',\n",
       " 'll',\n",
       " 'm',\n",
       " 'o',\n",
       " 're',\n",
       " 've',\n",
       " 'y',\n",
       " 'ain',\n",
       " 'aren',\n",
       " \"aren't\",\n",
       " 'couldn',\n",
       " \"couldn't\",\n",
       " 'didn',\n",
       " \"didn't\",\n",
       " 'doesn',\n",
       " \"doesn't\",\n",
       " 'hadn',\n",
       " \"hadn't\",\n",
       " 'hasn',\n",
       " \"hasn't\",\n",
       " 'haven',\n",
       " \"haven't\",\n",
       " 'isn',\n",
       " \"isn't\",\n",
       " 'ma',\n",
       " 'mightn',\n",
       " \"mightn't\",\n",
       " 'mustn',\n",
       " \"mustn't\",\n",
       " 'needn',\n",
       " \"needn't\",\n",
       " 'shan',\n",
       " \"shan't\",\n",
       " 'shouldn',\n",
       " \"shouldn't\",\n",
       " 'wasn',\n",
       " \"wasn't\",\n",
       " 'weren',\n",
       " \"weren't\",\n",
       " 'won',\n",
       " \"won't\",\n",
       " 'wouldn',\n",
       " \"wouldn't\"]"
      ]
     },
     "execution_count": 14,
     "metadata": {},
     "output_type": "execute_result"
    }
   ],
   "source": [
    "nltk.corpus.stopwords.words('english')"
   ]
  },
  {
   "cell_type": "code",
   "execution_count": 15,
   "id": "023fd3d4",
   "metadata": {},
   "outputs": [],
   "source": [
    "from nltk.stem import SnowballStemmer\n",
    "\n",
    "stemmer = SnowballStemmer('english')\n",
    "stemmed_words = []\n",
    "for word in cleaned_text.split():\n",
    "    stemmed_words.append(stemmer.stem(word))\n",
    "    \n",
    "stemmed_text = ' '.join(stemmed_words)"
   ]
  },
  {
   "cell_type": "code",
   "execution_count": 16,
   "id": "e917b23e",
   "metadata": {},
   "outputs": [
    {
     "name": "stdout",
     "output_type": "stream",
     "text": [
      "“I knew you would be here,” replied Pierre. “I will come to supper\n",
      "with you. May I?” he added in a low voice so as not to disturb the\n",
      "vicomte who was continuing his story.\n",
      "\n"
     ]
    }
   ],
   "source": [
    "test_string = \"\"\"“I knew you would be here,” replied Pierre. “I will come to supper\n",
    "with you. May I?” he added in a low voice so as not to disturb the\n",
    "vicomte who was continuing his story.\n",
    "\"\"\"\n",
    "print(test_string)"
   ]
  },
  {
   "cell_type": "code",
   "execution_count": 17,
   "id": "b101f41d",
   "metadata": {},
   "outputs": [
    {
     "name": "stdout",
     "output_type": "stream",
     "text": [
      "knew repli pierr come supper ad low voic disturb vicomt continu stori\n"
     ]
    }
   ],
   "source": [
    "cleaned_string = test_string.lower()\n",
    "cleaned_string = cleaned_string.translate(str.maketrans('', '', string.punctuation + '“”'))\n",
    "\n",
    "stemmed_words = []\n",
    "for word in cleaned_string.split():\n",
    "    if word not in _stop_words.ENGLISH_STOP_WORDS:\n",
    "        stemmed_words.append(stemmer.stem(word))\n",
    "    \n",
    "stemmed_text = ' '.join(stemmed_words)\n",
    "print(stemmed_text)"
   ]
  },
  {
   "cell_type": "code",
   "execution_count": 18,
   "id": "48659443",
   "metadata": {},
   "outputs": [],
   "source": [
    "import spacy\n",
    "\n",
    "spacy_en_model = spacy.load('en_core_web_sm', disable=['parser', 'ner'])\n",
    "spacy_en_model.max_length = 4000000\n",
    "\n",
    "def clean_text_spacy(text):\n",
    "    processed_text = spacy_en_model(text)\n",
    "    lemmas = [w.lemma_ if w.lemma_ != '-PRON-'\n",
    "              else w.lower_ for w in processed_text\n",
    "              if w.is_alpha and not w.is_stop]\n",
    "    return ' '.join(lemmas).lower()\n",
    "\n",
    "wnp = urlopen('https://www.gutenberg.org/files/2600/2600-0.txt').read().decode('utf-8')\n",
    "wnp = simple_cleaner(wnp)\n",
    "lemmatized_text = clean_text_spacy(wnp)"
   ]
  },
  {
   "cell_type": "code",
   "execution_count": 19,
   "id": "34bd96be",
   "metadata": {},
   "outputs": [
    {
     "name": "stdout",
     "output_type": "stream",
     "text": [
      "“I knew you would be here,” replied Pierre. “I will come to supper\n",
      "with you. May I?” he added in a low voice so as not to disturb the\n",
      "vicomte who was continuing his story.\n",
      "\n"
     ]
    }
   ],
   "source": [
    "print(test_string)"
   ]
  },
  {
   "cell_type": "code",
   "execution_count": 20,
   "id": "0e13944c",
   "metadata": {},
   "outputs": [
    {
     "data": {
      "text/plain": [
       "'know reply pierre come supper add low voice disturb vicomte continue story'"
      ]
     },
     "execution_count": 20,
     "metadata": {},
     "output_type": "execute_result"
    }
   ],
   "source": [
    "clean_text_spacy(test_string)"
   ]
  },
  {
   "cell_type": "code",
   "execution_count": 21,
   "id": "77e52c59",
   "metadata": {},
   "outputs": [
    {
     "data": {
      "text/plain": [
       "['tok2vec', 'tagger', 'parser', 'attribute_ruler', 'lemmatizer', 'ner']"
      ]
     },
     "execution_count": 21,
     "metadata": {},
     "output_type": "execute_result"
    }
   ],
   "source": [
    "spacy_en_model = spacy.load('en_core_web_sm')\n",
    "spacy_en_model.pipe_names"
   ]
  },
  {
   "cell_type": "markdown",
   "id": "3d7c9da9",
   "metadata": {},
   "source": [
    "## Word vectors"
   ]
  },
  {
   "cell_type": "code",
   "execution_count": 22,
   "id": "7a8418af",
   "metadata": {},
   "outputs": [],
   "source": [
    "import spacy\n",
    "\n",
    "spacy_en_model = spacy.load('en_core_web_lg', disable=['parser', 'ner'])\n",
    "spacy_en_model.max_length = 4000000\n",
    "\n",
    "processed_text = spacy_en_model(wnp)"
   ]
  },
  {
   "cell_type": "code",
   "execution_count": 23,
   "id": "abefd0fc",
   "metadata": {},
   "outputs": [
    {
     "data": {
      "text/plain": [
       "(300,)"
      ]
     },
     "execution_count": 23,
     "metadata": {},
     "output_type": "execute_result"
    }
   ],
   "source": [
    "processed_text.vector.shape"
   ]
  },
  {
   "cell_type": "code",
   "execution_count": 24,
   "id": "299349f4",
   "metadata": {},
   "outputs": [
    {
     "name": "stdout",
     "output_type": "stream",
     "text": [
      "\r\n",
      "\r\n",
      "\r\n",
      "\r\n",
      " [0. 0. 0. 0. 0. 0. 0. 0. 0. 0. 0. 0. 0. 0. 0. 0. 0. 0. 0. 0. 0. 0. 0. 0.\n",
      " 0. 0. 0. 0. 0. 0. 0. 0. 0. 0. 0. 0. 0. 0. 0. 0. 0. 0. 0. 0. 0. 0. 0. 0.\n",
      " 0. 0. 0. 0. 0. 0. 0. 0. 0. 0. 0. 0. 0. 0. 0. 0. 0. 0. 0. 0. 0. 0. 0. 0.\n",
      " 0. 0. 0. 0. 0. 0. 0. 0. 0. 0. 0. 0. 0. 0. 0. 0. 0. 0. 0. 0. 0. 0. 0. 0.\n",
      " 0. 0. 0. 0. 0. 0. 0. 0. 0. 0. 0. 0. 0. 0. 0. 0. 0. 0. 0. 0. 0. 0. 0. 0.\n",
      " 0. 0. 0. 0. 0. 0. 0. 0. 0. 0. 0. 0. 0. 0. 0. 0. 0. 0. 0. 0. 0. 0. 0. 0.\n",
      " 0. 0. 0. 0. 0. 0. 0. 0. 0. 0. 0. 0. 0. 0. 0. 0. 0. 0. 0. 0. 0. 0. 0. 0.\n",
      " 0. 0. 0. 0. 0. 0. 0. 0. 0. 0. 0. 0. 0. 0. 0. 0. 0. 0. 0. 0. 0. 0. 0. 0.\n",
      " 0. 0. 0. 0. 0. 0. 0. 0. 0. 0. 0. 0. 0. 0. 0. 0. 0. 0. 0. 0. 0. 0. 0. 0.\n",
      " 0. 0. 0. 0. 0. 0. 0. 0. 0. 0. 0. 0. 0. 0. 0. 0. 0. 0. 0. 0. 0. 0. 0. 0.\n",
      " 0. 0. 0. 0. 0. 0. 0. 0. 0. 0. 0. 0. 0. 0. 0. 0. 0. 0. 0. 0. 0. 0. 0. 0.\n",
      " 0. 0. 0. 0. 0. 0. 0. 0. 0. 0. 0. 0. 0. 0. 0. 0. 0. 0. 0. 0. 0. 0. 0. 0.\n",
      " 0. 0. 0. 0. 0. 0. 0. 0. 0. 0. 0. 0.]\n",
      "WAR [-3.0730e-01 -1.4714e-01  6.6117e-01  1.0707e-02 -4.2548e-01 -4.8379e-01\n",
      " -5.2638e-01  7.0586e-01 -3.8561e-01  3.0728e+00 -2.1181e-01 -4.2231e-01\n",
      "  3.5130e-01 -4.4530e-01  2.3694e-01 -2.6002e-01 -2.8963e-01  3.0857e-01\n",
      " -6.4575e-01  3.2054e-01 -5.5924e-02 -2.0813e-01  3.4440e-01  1.0795e-02\n",
      " -7.4545e-02 -3.8548e-01 -6.0702e-01  3.2237e-01 -9.3341e-02  6.6126e-01\n",
      " -7.1363e-03  1.8532e-01 -3.7393e-01 -2.6076e-02  4.9744e-01 -4.1639e-01\n",
      "  5.2767e-02 -1.1967e-01  1.5338e-01  7.1576e-02 -7.3306e-02  2.9640e-01\n",
      "  4.6181e-01 -4.8285e-01 -1.1067e-02 -1.6115e-02 -2.9533e-01  1.8976e-01\n",
      "  2.0678e-01  2.7757e-01  2.6496e-01 -2.5634e-02 -4.1048e-01  2.1783e-01\n",
      " -1.0913e-01  3.1568e-01  1.3638e-01 -3.6162e-01  2.7819e-01 -1.9528e-01\n",
      " -4.3991e-01  5.1373e-01  5.8337e-01 -2.6897e-01 -3.5659e-02  4.4794e-01\n",
      "  1.7027e-02  2.1396e-01 -2.6451e-01 -1.7835e-01 -4.4925e-01 -9.5494e-02\n",
      " -1.1581e-01 -2.1970e-01  8.2708e-01 -3.9354e-01 -2.8215e-01  1.4357e-01\n",
      " -1.9401e-02  5.9181e-01 -7.9514e-02 -1.6846e-01  4.2670e-01  4.8965e-02\n",
      " -3.5715e-02  4.3702e-04 -4.1323e-01 -1.1492e+00 -2.3024e-02 -2.1631e-02\n",
      " -3.9075e-01 -2.8866e-01 -2.0323e-01  4.1405e-02 -4.6789e-01 -3.7633e-01\n",
      " -1.2661e-01 -2.8927e-01 -1.3600e-02 -2.0943e-01  2.6374e-01  6.0462e-01\n",
      "  3.7909e-02  1.1279e-01  4.6555e-02 -1.1435e+00 -6.6728e-01  2.8028e-01\n",
      "  1.1438e-01 -2.0672e-01 -5.6746e-01 -2.7321e-01 -2.0052e-01 -4.5183e-02\n",
      "  8.3824e-02 -2.4882e-02 -2.0332e-01 -2.0862e-02 -3.9751e-01 -6.3251e-01\n",
      " -2.5665e-01  1.5445e-01  1.0218e-01  3.4600e-01 -1.8854e-01 -1.2153e-01\n",
      "  2.4391e-01  2.7164e-01  1.4518e-01  1.1441e-01  5.0093e-01 -2.3864e-01\n",
      "  2.0658e-01 -3.0755e-01 -1.0151e-01  1.6840e-01 -2.8072e-01  1.0867e-01\n",
      " -1.0491e-01 -2.1823e-01 -2.0400e+00 -3.0625e-01  5.4690e-01  1.8884e-01\n",
      "  3.9976e-01  1.8794e-01  5.5508e-02  6.1705e-01 -1.2972e-01 -4.0606e-01\n",
      "  1.9359e-01  1.1488e-01  2.9622e-01  1.6477e-01 -2.8349e-01  7.0100e-02\n",
      "  8.4147e-02  8.5669e-02 -1.0135e-01  7.6131e-01  2.4091e-01  8.8009e-02\n",
      "  1.6156e-01  6.0225e-01 -7.0677e-01  6.8427e-02 -5.8679e-03 -3.2746e-01\n",
      "  2.3455e-01 -1.1501e-01 -3.3841e-01  2.9260e-01  1.0802e-02  4.6094e-01\n",
      "  4.9241e-01  4.4794e-01 -2.2935e-01 -1.8170e-01  5.1448e-01  2.8058e-01\n",
      " -2.8255e-01 -4.4502e-01 -5.3984e-01 -8.0238e-02 -4.4346e-01  2.4706e-01\n",
      " -8.8404e-02 -4.5311e-01 -2.8675e-01  4.6892e-01 -3.0129e-01  3.1616e-03\n",
      " -1.7669e-01  4.9881e-01 -4.0455e-01  1.7265e-01  7.0763e-01 -3.9676e-01\n",
      " -9.0939e-03 -2.3180e-01  2.7638e-01  2.2391e-01  9.6259e-01  1.6816e-01\n",
      "  2.9699e-01 -2.7375e-01  2.5440e-01 -2.0711e-01  1.8156e-01 -1.7873e-01\n",
      "  3.5345e-01 -6.4737e-02  2.6704e-01  9.1605e-02  4.8969e-01 -5.6520e-01\n",
      "  8.1013e-02  4.9177e-01 -1.9974e-01  1.0656e-01  1.1928e-01  2.0396e-01\n",
      "  2.7092e-01 -1.3317e-01 -3.8568e-01  2.9469e-02  9.9864e-03  8.8510e-02\n",
      "  4.2491e-02  2.9868e-02 -1.9921e-01  3.5423e-01  5.3091e-02 -5.8813e-01\n",
      " -1.7052e-01 -7.3903e-02  1.8195e-01  7.0392e-01 -1.4140e-01 -1.9800e-02\n",
      " -1.8423e-01  1.2321e-02  5.0770e-02  4.4745e-01  9.7449e-02  4.2456e-01\n",
      "  2.0555e-01  3.7444e-01  5.7010e-01 -7.2635e-01  6.0556e-01  5.6125e-01\n",
      "  4.0867e-01 -2.3671e-01 -1.9248e-01 -4.1436e-01 -3.3534e-01  5.9564e-01\n",
      " -2.0379e-01 -1.0979e-01 -1.8435e-01  4.8392e-01 -5.6776e-03  3.6866e-01\n",
      " -2.4334e-01 -5.5312e-01  3.5324e-01 -2.2517e-02  1.2511e-01  3.6127e-01\n",
      "  5.2364e-01 -8.6573e-02  2.2216e-02 -2.2745e-01  3.1314e-01  3.5122e-01\n",
      "  1.6167e-01 -1.1710e-01  3.1173e-01 -5.5322e-02  4.2065e-01  2.1272e-01\n",
      " -2.6764e-01 -6.0827e-01  2.1662e-01 -1.2543e-01 -3.0970e-02 -3.9711e-02\n",
      "  4.6854e-02 -3.3056e-01 -4.3316e-01  4.3642e-01 -5.3155e-01 -3.0558e-01\n",
      " -1.0377e-01  2.4855e-01  1.8876e-01 -8.8854e-02 -1.3557e-01  1.1429e-01]\n",
      "AND [-1.8567e-01  6.6008e-02 -2.5209e-01 -1.1725e-01  2.6513e-01  6.4908e-02\n",
      "  1.2291e-01 -9.3979e-02  2.4321e-02  2.4926e+00 -1.7916e-02 -7.1218e-02\n",
      " -2.4782e-01 -2.6237e-01 -2.2460e-01 -2.1961e-01 -1.2927e-01  1.0867e+00\n",
      " -6.6072e-01 -3.1617e-02 -5.7328e-02  5.6903e-02 -2.7939e-01 -3.9825e-01\n",
      "  1.4251e-01 -8.5146e-02 -1.4779e-01  5.5067e-02 -2.8687e-03 -2.0917e-01\n",
      " -7.0735e-02  2.2577e-01 -1.5881e-01 -1.0395e-01  9.7110e-02 -5.6251e-01\n",
      " -3.2929e-01 -2.0853e-01  9.8711e-03  4.9777e-02  1.4883e-03  1.5884e-01\n",
      "  4.2771e-02 -2.6956e-03 -2.4620e-02 -1.9213e-01 -2.2556e-01  1.0838e-01\n",
      "  9.0086e-02 -1.3291e-01  3.2559e-01 -1.7038e-01 -1.0990e-01 -2.3986e-01\n",
      " -2.4289e-02  1.4656e-02 -2.3700e-01  8.4828e-02 -3.5982e-01 -7.6746e-02\n",
      "  4.8909e-02  1.1431e-01 -2.1013e-01  2.4765e-01 -1.7531e-02 -1.4028e-01\n",
      "  4.6191e-02  2.2972e-01  1.1750e-01  1.2724e-01  1.2992e-02  4.5870e-01\n",
      "  4.1085e-01  3.9106e-02  1.5713e-01 -1.8376e-01  2.6834e-01  5.6662e-02\n",
      "  1.6844e-01 -5.3788e-02 -9.1892e-02  1.1193e-01 -8.6810e-02 -1.3324e-01\n",
      "  1.5062e-01 -3.1733e-01 -2.2078e-01  2.5038e-01  3.4131e-01  3.6419e-01\n",
      " -8.9514e-02 -2.2193e-01  2.4471e-01  4.0091e-02  4.7798e-01 -2.9996e-02\n",
      "  1.9212e-03  6.3511e-02 -2.0417e-01 -2.6478e-01  2.0649e-01  1.5573e-02\n",
      " -2.7722e-01 -1.8861e-01 -1.0289e-01 -4.9773e-01  1.4986e-01 -1.0877e-02\n",
      "  2.5085e-01 -2.8117e-01  1.8966e-01 -6.5879e-02  9.4753e-02 -1.5338e-01\n",
      " -5.5071e-02 -3.6747e-01  2.4993e-01  9.6527e-02  2.3538e-01  1.8405e-01\n",
      "  5.2859e-02  2.2967e-01  1.2582e-01  1.5536e-01 -1.7275e-01  3.3946e-01\n",
      " -1.0049e-01  7.4948e-02 -9.3575e-02 -4.0490e-02 -1.6922e-02 -5.8039e-03\n",
      " -1.8108e-01  1.9537e-01  4.5178e-01  1.0965e-01  2.3370e-01 -9.9050e-02\n",
      " -7.8633e-02  2.1678e-01 -7.1231e-01 -9.9759e-02  3.3333e-01 -1.6460e-01\n",
      " -9.1688e-02  2.1056e-01  2.3669e-02  2.8922e-02  1.1990e-01 -1.2512e-01\n",
      " -2.6037e-02 -6.2217e-02  5.5816e-01  5.0273e-03 -3.0888e-01  3.8611e-02\n",
      "  1.7568e-01 -1.1163e-01 -1.0815e-01 -1.9444e-01  2.9433e-01  1.4519e-01\n",
      " -4.2878e-02  1.8534e-01  1.8891e-02 -6.1883e-01  1.3352e-01  3.6007e-02\n",
      "  3.3995e-01  2.2109e-01 -7.9328e-02  7.1319e-02  1.7678e-01  1.6378e-01\n",
      " -2.3142e-01 -1.4340e-01 -9.8122e-02 -1.9286e-02  2.3560e-01 -3.4013e-01\n",
      " -6.1007e-02 -2.3208e-01 -3.1152e-01  1.0063e-01 -1.5957e-01  2.0183e-01\n",
      " -1.6345e-02 -1.2303e-01  2.2667e-02 -2.0986e-01 -2.0127e-01 -8.7883e-02\n",
      "  6.4731e-02  1.0195e-01 -1.7860e-01  3.3056e-01  2.1407e-01 -3.2165e-01\n",
      " -1.7106e-01  1.9407e-01 -3.8618e-01 -2.1480e-01 -5.2254e-02  2.3175e-02\n",
      "  4.7389e-01  1.8612e-01  1.2711e-01  2.0855e-01 -1.0256e-01 -1.2016e-01\n",
      " -4.0488e-01  2.9695e-02 -2.7419e-02 -8.5227e-03 -1.1415e-01  8.1134e-02\n",
      " -1.7228e-01  1.9142e-01  2.6514e-02  4.3789e-02 -1.2399e-01  1.3354e-01\n",
      "  1.0112e-01  8.1682e-02 -1.5085e-01  7.5806e-03 -1.8971e-01  2.4669e-01\n",
      "  2.2491e-01  3.5553e-01 -3.2770e-01 -2.1821e-01  1.4020e-01  2.8604e-01\n",
      "  5.5226e-02 -8.6544e-02  2.1110e-02 -1.9236e-01  7.4245e-02  7.6782e-02\n",
      "  8.1666e-04  3.4097e-02 -5.7719e-01  1.0657e-01  2.8134e-01 -1.1964e-01\n",
      " -6.8281e-01 -3.2893e-01 -2.4442e-01 -2.5847e-02  9.1273e-03  2.0250e-01\n",
      " -5.0959e-02 -1.1042e-01  1.0962e-02  7.6773e-02  4.0048e-01 -4.0739e-01\n",
      " -4.4773e-01  3.1954e-01 -3.6326e-02 -1.2789e-02 -1.7282e-01  1.4760e-01\n",
      "  2.3560e-01  8.0642e-02 -3.6528e-01 -8.3443e-03  6.2390e-01 -2.4379e-01\n",
      "  1.9917e-02 -2.8803e-01 -1.0494e-02  3.8412e-02 -1.1718e-01 -7.2462e-02\n",
      "  1.6381e-01  3.8488e-01 -2.9783e-02  2.3444e-01  4.5320e-01  1.4815e-01\n",
      " -2.7021e-02 -7.3181e-02 -1.1470e-01 -5.4545e-03  4.7796e-01  9.0912e-02\n",
      "  9.4489e-02 -3.6882e-01 -5.9396e-01 -9.7729e-02  2.0072e-01  1.7055e-01\n",
      " -4.7356e-03 -3.9709e-02  3.2498e-01 -2.3452e-02  1.2302e-01  3.3120e-01]\n",
      "PEACE [-0.014716   0.2794    -0.096438   0.1616     0.17271   -0.59026\n",
      " -0.59679   -0.12215   -0.22401    2.8973    -0.055058  -0.32255\n",
      " -0.029401  -0.20335   -0.37394   -0.09897   -0.14174    0.5651\n",
      " -0.47123    0.7261    -0.086446   0.4071     0.29562    0.045698\n",
      "  0.19745   -0.44133   -0.11531    0.028713  -0.10581    0.66649\n",
      "  0.11381    0.018328  -0.62119    0.11455    0.28847   -0.58489\n",
      "  0.55691   -0.56054    0.1369     0.2428    -0.23975    0.057518\n",
      "  0.44593   -0.25867    0.17294   -0.28848   -0.24556    0.42437\n",
      " -0.47394    0.0070548 -0.082796   0.33416   -0.15516   -0.17471\n",
      "  0.12968    0.29528   -0.20562    0.25375    0.39375    0.012629\n",
      " -0.25801    0.3119    -0.050057  -0.85827    0.024528   0.043257\n",
      " -0.39264    0.32236   -0.30012   -0.39852   -0.68572   -0.11971\n",
      " -0.048069   0.13901    0.15011   -0.086798  -0.44393    0.17695\n",
      " -0.31548   -0.081752   0.18319    0.78646   -0.13198    0.18251\n",
      " -0.31804   -0.29963   -0.21199   -0.71822    0.31462   -0.073806\n",
      "  0.14282   -0.0085753  0.14633    0.53526   -0.41879   -0.16252\n",
      " -0.057211  -0.42574   -0.068578  -0.27221    0.12511    0.26176\n",
      " -0.09889    0.041639   0.17496   -1.1043     0.2178     0.40255\n",
      " -0.13674    0.7526    -0.10259    0.42975    0.016931  -0.21545\n",
      "  0.21933   -0.309      0.39893    0.10175   -0.14342   -0.55082\n",
      " -0.045923  -0.14856    0.10413    0.66591    0.55528   -0.050838\n",
      "  0.21286    0.45855    0.061561  -0.0479     0.33202   -0.36851\n",
      " -0.22879   -0.29761   -0.57258    0.70371    0.23554    0.23485\n",
      " -0.078221   0.30687   -1.6844     0.19864    0.22522   -0.22109\n",
      "  0.15309   -0.059626   0.14284    0.65932   -0.62836   -0.63014\n",
      " -0.54095    0.18608    0.55213    0.13496   -0.27326    0.38498\n",
      "  0.23379   -0.11362   -0.60688    0.12294    0.35166    0.51759\n",
      " -0.0057761  0.35001    0.25765   -0.19957    0.32754   -0.65329\n",
      " -0.22867    0.032656   0.035811   0.42813    0.69736    0.2985\n",
      "  0.6508     0.27919   -0.41388   -0.12305   -0.20174   -0.89183\n",
      "  0.070363  -0.36709   -0.1201     0.047685  -0.059094  -0.15738\n",
      " -0.18022   -0.68502    0.055091  -0.044861  -0.34008   -0.056081\n",
      " -0.30614    0.067476   0.27952    0.36357    0.17787   -0.63746\n",
      "  0.17007    0.35229   -0.050125   0.75147    0.25413    0.084079\n",
      "  0.42873   -0.38924   -0.074776   0.15784   -0.34768   -0.50269\n",
      "  0.20158    0.33824    0.49438    0.51569    0.53694   -0.42408\n",
      " -0.20352    0.085978   0.32531    0.106      0.10957   -0.15213\n",
      "  0.14894    0.284      0.30529    0.316      0.064293   0.17293\n",
      " -0.43271    0.11692    0.21133    0.17849   -0.5106     0.068557\n",
      "  0.33222    0.038213  -0.16322   -0.064862  -0.79333   -0.23737\n",
      " -0.23925   -0.18727    0.14757   -0.17552    0.28386    0.16219\n",
      "  0.13075   -0.30017    0.13918   -0.70285   -0.011252   0.12021\n",
      "  0.066118   0.22796   -0.39298    0.41646    0.19903   -0.2579\n",
      " -0.45508   -0.0093336 -0.25794    0.011347   0.13414    0.48989\n",
      " -0.32699   -0.9491     0.048245   0.15742    0.052601  -0.28401\n",
      "  0.060441   0.16467   -0.59954    0.18568    0.058485   0.54893\n",
      "  0.58411    0.39058   -0.041051   0.34735    0.35524   -0.73799\n",
      "  0.0489    -0.20526    0.082013   0.14447   -0.24265    0.80515\n",
      " -0.046803  -0.18536    0.036163   0.34756    0.063999  -0.1138\n",
      "  0.17273   -0.092405   0.25978    0.26872   -0.0281     0.39567  ]\n",
      "\r\n",
      "\r\n",
      "\r\n",
      " [0. 0. 0. 0. 0. 0. 0. 0. 0. 0. 0. 0. 0. 0. 0. 0. 0. 0. 0. 0. 0. 0. 0. 0.\n",
      " 0. 0. 0. 0. 0. 0. 0. 0. 0. 0. 0. 0. 0. 0. 0. 0. 0. 0. 0. 0. 0. 0. 0. 0.\n",
      " 0. 0. 0. 0. 0. 0. 0. 0. 0. 0. 0. 0. 0. 0. 0. 0. 0. 0. 0. 0. 0. 0. 0. 0.\n",
      " 0. 0. 0. 0. 0. 0. 0. 0. 0. 0. 0. 0. 0. 0. 0. 0. 0. 0. 0. 0. 0. 0. 0. 0.\n",
      " 0. 0. 0. 0. 0. 0. 0. 0. 0. 0. 0. 0. 0. 0. 0. 0. 0. 0. 0. 0. 0. 0. 0. 0.\n",
      " 0. 0. 0. 0. 0. 0. 0. 0. 0. 0. 0. 0. 0. 0. 0. 0. 0. 0. 0. 0. 0. 0. 0. 0.\n",
      " 0. 0. 0. 0. 0. 0. 0. 0. 0. 0. 0. 0. 0. 0. 0. 0. 0. 0. 0. 0. 0. 0. 0. 0.\n",
      " 0. 0. 0. 0. 0. 0. 0. 0. 0. 0. 0. 0. 0. 0. 0. 0. 0. 0. 0. 0. 0. 0. 0. 0.\n",
      " 0. 0. 0. 0. 0. 0. 0. 0. 0. 0. 0. 0. 0. 0. 0. 0. 0. 0. 0. 0. 0. 0. 0. 0.\n",
      " 0. 0. 0. 0. 0. 0. 0. 0. 0. 0. 0. 0. 0. 0. 0. 0. 0. 0. 0. 0. 0. 0. 0. 0.\n",
      " 0. 0. 0. 0. 0. 0. 0. 0. 0. 0. 0. 0. 0. 0. 0. 0. 0. 0. 0. 0. 0. 0. 0. 0.\n",
      " 0. 0. 0. 0. 0. 0. 0. 0. 0. 0. 0. 0. 0. 0. 0. 0. 0. 0. 0. 0. 0. 0. 0. 0.\n",
      " 0. 0. 0. 0. 0. 0. 0. 0. 0. 0. 0. 0.]\n",
      "By [-1.5552e-01 -3.3723e-01 -9.7191e-02 -2.1617e-01 -3.0091e-01 -1.4825e-02\n",
      " -5.5501e-02 -2.8312e-02 -6.4854e-01  1.8930e+00 -5.6772e-02  1.7062e-01\n",
      " -6.3128e-01  3.9063e-02 -4.9355e-01 -6.7845e-01  1.7266e-01  1.1700e+00\n",
      " -4.3622e-02 -4.4675e-02 -5.6084e-02 -7.2703e-01 -1.0162e-01  4.3005e-01\n",
      "  1.4374e-01 -7.4174e-02 -3.3236e-01  2.8842e-01 -1.1704e-01  1.0521e-01\n",
      "  9.9627e-02  3.3434e-01 -5.4069e-01 -7.3547e-02 -7.7814e-02  3.2505e-02\n",
      " -9.3332e-04  3.5300e-01  1.8943e-01 -4.0841e-01  2.7317e-01 -1.0900e-01\n",
      " -9.9640e-03  1.0401e-01  1.0594e-01  7.6474e-02 -1.4849e-01  4.7987e-02\n",
      "  1.0360e-01 -4.6399e-02  1.5671e-01  2.1278e-01 -3.8093e-01 -9.3375e-02\n",
      " -3.8804e-01 -1.7406e-01 -3.2507e-02  1.4314e-02  1.9920e-01 -6.6915e-02\n",
      " -1.0672e-01  2.1585e-01 -6.2164e-01  3.5906e-03 -2.1094e-01  3.7030e-02\n",
      "  3.3731e-01 -7.7223e-02 -5.9763e-02 -4.3963e-01  3.1009e-01 -2.2205e-01\n",
      "  5.8459e-02  1.9276e-01  6.1255e-01 -9.5163e-01  5.3651e-01 -4.0198e-01\n",
      " -2.9058e-01  4.7020e-02  5.5323e-01  2.5048e-01 -5.1333e-01 -5.1200e-01\n",
      "  4.1632e-02 -3.7089e-01 -4.3145e-02 -1.1550e-01 -3.7281e-01  4.7959e-01\n",
      " -4.1738e-02  1.0756e-01 -1.5585e-02  5.5004e-02 -7.4831e-01 -6.2378e-01\n",
      "  2.5061e-01  2.3813e-01  1.9009e-01  2.0510e-02  4.2893e-02 -4.4668e-02\n",
      " -8.2635e-02  6.1100e-02 -6.3611e-01  3.2051e-01 -3.2208e-01 -3.2733e-01\n",
      " -1.1604e-01 -1.4944e-01 -3.0088e-01 -9.8356e-01  4.4567e-01 -1.8604e-01\n",
      " -5.6057e-01 -1.6285e-02 -7.9768e-01  1.2988e-01  3.4309e-01  4.5699e-01\n",
      "  1.8310e-01  4.0823e-01  3.2532e-01 -2.9476e-01  1.3965e-01 -2.5233e-01\n",
      "  7.0025e-02  4.4390e-01 -3.0783e-01  2.5258e-01 -6.4103e-01 -3.1084e-01\n",
      " -2.5237e-01 -2.0172e-01 -2.4098e-01 -2.2921e-01  1.6251e-01  3.5055e-01\n",
      "  8.1263e-02 -3.6493e-01 -5.6064e-01  1.7065e-01 -7.9262e-01 -1.6579e-01\n",
      " -7.8940e-02  1.7060e-01  4.0030e-01 -4.9483e-01 -3.2587e-01 -2.1023e-02\n",
      "  6.2825e-02  4.8781e-02  4.5991e-02 -5.4911e-01 -9.7007e-02  5.9897e-01\n",
      " -5.5677e-01 -1.3266e-03 -7.4376e-01  4.6287e-01  1.9096e-01  1.8797e-01\n",
      "  8.3357e-02 -4.1224e-01 -2.1765e-01  6.1719e-01  4.1073e-01  2.5436e-01\n",
      " -1.2414e-01  7.8578e-02 -3.0551e-02 -4.8284e-01  8.6345e-02  3.0545e-01\n",
      "  2.6693e-01 -1.0942e-01 -1.5056e-01  2.2011e-01  2.1464e-01  3.8590e-01\n",
      "  1.5365e-01  1.3347e-01 -2.6624e-02 -3.2004e-01 -4.2735e-01  9.5854e-02\n",
      "  1.3118e-01  8.8173e-01  5.2876e-01  3.5028e-02 -1.8786e-01  1.9844e-01\n",
      "  1.5396e-01  1.6173e-01 -3.0826e-01  4.5861e-01 -8.1368e-02  6.3976e-01\n",
      " -8.4613e-02  3.1904e-01 -2.5390e-01  1.4060e-01 -2.4869e-01 -1.1641e-01\n",
      " -1.8125e-02  2.0463e-02  1.2974e-01  1.1797e-01  2.9184e-01  1.0107e-01\n",
      " -1.7047e-01 -9.8261e-02 -2.9903e-01 -2.4117e-01  2.0546e-01  2.8265e-01\n",
      "  3.5235e-01 -1.6862e-01 -6.2493e-02  9.2172e-01 -1.1347e-01  6.2982e-02\n",
      " -9.6798e-02  4.8641e-01  3.6459e-01  1.7806e-01  2.8393e-02  2.0372e-01\n",
      "  3.9240e-01  2.3698e-02 -2.7612e-01  3.2142e-01 -2.2305e-01  6.4924e-02\n",
      "  6.5446e-02 -5.8874e-02 -6.8568e-02 -3.7992e-02 -2.3470e-01 -4.0917e-01\n",
      "  1.3658e-01  1.1062e-01  8.5836e-02  2.4299e-01 -8.6981e-03 -7.6380e-01\n",
      "  4.2889e-01 -4.7229e-01 -2.5401e-01 -1.8189e-01 -1.2111e-01  5.4179e-01\n",
      " -6.4063e-01  1.8879e-01  3.0521e-01  7.5312e-01  2.8471e-01 -2.9200e-01\n",
      "  2.0645e-01  6.3041e-02 -8.1024e-02  7.0240e-02 -4.8189e-01  4.9689e-01\n",
      " -8.3361e-02 -2.9497e-01  6.2981e-01  2.1937e-01  3.2334e-01 -3.1465e-01\n",
      "  1.1638e-01 -1.4418e-01 -2.6166e-01 -3.8820e-01  8.4871e-02 -2.0341e-01\n",
      " -7.4558e-02 -7.6230e-01  4.5314e-01  7.3782e-02 -3.0277e-02  2.8435e-02\n",
      "  5.4771e-02  2.5206e-02  4.9895e-02 -2.3581e-01  2.5715e-01 -1.0573e-01\n",
      "  5.2171e-01 -9.8388e-02 -2.0208e-01  2.4282e-01  5.0489e-01  4.2344e-01\n",
      "  4.7595e-02 -5.8269e-02 -2.0867e-01 -5.1586e-02  6.2448e-02  5.7837e-01]\n",
      "Leo [ 4.1103e-01  2.0732e-01 -1.7257e-01  2.5616e-01  2.1876e-01  4.9389e-01\n",
      "  2.2274e-01 -3.2901e-01  2.8799e-01 -2.5153e-01 -3.6264e-01 -2.8932e-01\n",
      " -3.2300e-02 -4.5174e-01 -3.7397e-01  3.6149e-01 -2.2170e-01  2.2951e-01\n",
      " -1.3235e-01  2.8923e-01  1.9473e-01 -1.0140e-01 -1.3880e-03 -5.5313e-01\n",
      "  1.7477e-01 -1.7659e-01 -7.3449e-01  1.3915e-01  6.4239e-01  3.9652e-01\n",
      "  2.9718e-01  1.5476e-01  2.8058e-01 -1.9083e-01 -5.9261e-01  4.3604e-01\n",
      "  2.2869e-02 -7.0302e-01 -2.3829e-01 -1.4044e-01  6.6364e-02  1.1838e-01\n",
      "  1.2832e-01  5.4876e-01  2.2597e-01 -1.8027e-01 -5.7261e-01 -1.7237e-01\n",
      " -8.3713e-02 -3.9319e-01  2.8407e-01 -7.6177e-02  7.2148e-01 -4.2743e-01\n",
      "  1.5734e-01  2.8473e-01 -1.4204e-01  2.7399e-01 -2.1965e-01 -3.3447e-01\n",
      "  1.4493e-01 -5.9568e-02 -3.6869e-01 -1.4055e-01  2.9370e-03 -1.4379e-01\n",
      " -4.2702e-01  3.8948e-01 -2.2372e-01 -2.8386e-01 -4.7730e-01 -5.4871e-01\n",
      "  2.9580e-01 -3.3067e-01 -1.0710e-01 -2.4839e-01 -2.4459e-01 -3.2234e-01\n",
      "  1.0741e-01  1.6976e-01 -2.0923e-01  5.0850e-01  9.8366e-02  9.0291e-01\n",
      " -4.7530e-01 -3.0840e-01  1.1050e+00 -5.4254e-01  1.1027e-02 -1.1998e-01\n",
      " -4.7928e-01 -6.3297e-01  2.6786e-01 -7.5525e-01  3.7010e-01  3.5239e-02\n",
      "  2.5141e-02  5.4526e-03 -3.9939e-01 -1.8950e-02  2.0131e-01  2.0366e-01\n",
      "  4.1972e-01  5.0027e-01 -3.7766e-01 -8.5181e-01 -2.1118e-01 -5.5172e-01\n",
      " -6.0297e-02 -1.4005e-01 -1.7782e-01 -4.6289e-02 -2.3656e-01 -4.2626e-01\n",
      "  1.7619e-01 -6.5193e-02  3.5306e-01  8.0496e-02 -4.4924e-02  2.6372e-01\n",
      " -7.1996e-02  2.0446e-01  3.7923e-01 -5.1170e-02 -1.7487e-01  1.5737e-02\n",
      " -4.2332e-02  2.3217e-01 -2.4592e-01 -3.7934e-01 -5.2612e-01 -7.6283e-01\n",
      " -1.1371e-01 -3.8272e-01 -4.0122e-01  9.5289e-02 -3.2943e-01 -1.1345e-01\n",
      " -7.5629e-01 -3.5097e-01 -1.7678e+00 -3.2032e-01 -8.8604e-02  1.0641e-01\n",
      " -2.5187e-01  5.1145e-01  4.5467e-01  3.6690e-01  1.0461e-01 -4.1738e-01\n",
      "  5.0948e-03 -2.2672e-01  3.7382e-01 -6.9857e-02  3.9161e-03  1.3240e-01\n",
      " -2.8048e-01 -2.0818e-01  2.5125e-01 -3.6658e-02  5.0448e-01 -2.5678e-01\n",
      " -4.0008e-01  7.5183e-02  4.3782e-01  2.1701e-01  3.7797e-02  3.7799e-01\n",
      " -4.4674e-01  1.6993e-01 -3.3055e-01  5.5698e-01  2.2142e-01 -5.3674e-01\n",
      " -3.8128e-01 -2.3060e-01  5.2890e-02 -2.6809e-01  7.9776e-02  8.0160e-01\n",
      "  5.4449e-01 -6.1818e-02 -1.1237e-01 -2.7480e-01 -9.0882e-02 -2.0311e-01\n",
      " -7.5858e-01  1.5276e-01  6.0186e-02 -5.6306e-01 -8.5612e-02 -4.2260e-01\n",
      " -4.9788e-01  6.3720e-02  3.9564e-01  1.0774e-01 -1.5819e-01 -5.5598e-02\n",
      "  3.1374e-01  8.8862e-02 -1.6778e-01  1.5017e-01  1.4132e-01  4.9157e-01\n",
      " -2.9311e-01  6.2066e-02  1.3316e-03 -2.0738e-01 -5.8069e-01  8.7174e-02\n",
      "  8.0707e-02  5.0283e-01  2.6429e-01  1.4555e-01 -1.3830e-01 -2.2629e-01\n",
      " -3.9810e-01 -7.8440e-02  3.4170e-01 -1.1960e-01 -3.5763e-02  2.0008e-02\n",
      " -2.5238e-02 -5.3687e-01  3.5899e-01  4.3584e-01 -2.9006e-01  3.4495e-01\n",
      "  3.8640e-01 -1.8306e-01 -7.5770e-01 -8.4672e-03 -3.9722e-01 -1.4341e-01\n",
      " -1.3069e-01  1.7211e-01 -4.0716e-01 -7.0686e-02 -1.3208e-01 -2.1911e-01\n",
      " -1.6184e-01 -5.3007e-01  1.0362e-01  1.0041e-01 -9.4226e-02 -2.8175e-01\n",
      "  3.6030e-01  5.9330e-01  2.7893e-01  2.0973e-01  1.8941e-01  2.1507e-01\n",
      " -4.8438e-01  1.0685e-01  2.8747e-01 -8.7751e-02 -6.4380e-02 -3.4010e-01\n",
      " -3.3953e-01 -8.9142e-01  3.1114e-01  4.1254e-01 -7.9645e-01  2.6918e-01\n",
      " -3.7946e-01 -4.0393e-01 -1.3843e-01  1.5431e-02 -7.4559e-01  2.7813e-01\n",
      " -5.7279e-01  3.3720e-01 -1.5482e-02  9.2411e-01  2.9538e-01 -2.5119e-01\n",
      " -2.0484e-02 -7.9918e-01 -3.5557e-01  7.3866e-02 -1.8505e-01 -5.5056e-02\n",
      "  2.8841e-02 -7.6315e-03  8.4886e-01 -4.1353e-01 -1.0031e-01 -2.2754e-01\n",
      " -3.0078e-01  1.3538e-01  3.0278e-01 -1.2054e-01 -4.2811e-01  3.4780e-01\n",
      "  1.4137e-01  4.0123e-01  4.6373e-01  5.0183e-02  5.5706e-02 -1.9838e-01]\n",
      "Tolstoy [ 2.4994e-01  5.0279e-01 -1.1673e-01  3.6522e-01 -1.2891e-01  3.6887e-01\n",
      " -5.6322e-04 -2.0558e-01 -2.8959e-01 -1.0499e+00  2.8728e-02 -3.1768e-01\n",
      "  7.6422e-03 -2.7237e-02  4.1186e-02  5.0939e-01  2.0484e-02 -1.0879e+00\n",
      " -5.1489e-02  1.1468e-01  3.5173e-01  3.3079e-01  4.8822e-01 -2.6668e-01\n",
      "  2.6398e-01 -1.3370e-01  1.1068e-01  1.4994e-01  1.2472e-01  7.9658e-01\n",
      "  7.3512e-02 -1.7148e-01 -1.4331e-01  2.4172e-01 -4.2520e-01  4.2702e-01\n",
      "  1.7481e-01 -6.2772e-01 -5.7275e-01  3.4680e-01  3.4598e-01  9.6247e-02\n",
      "  1.2628e-01  1.2218e-01  6.9765e-02  8.8835e-02 -1.4362e-01 -2.1699e-01\n",
      " -4.1540e-01 -6.8464e-01 -1.3640e-01 -4.1626e-02  4.6796e-01 -5.1629e-01\n",
      " -2.4456e-02 -1.5069e-02 -1.0005e-01 -2.6850e-01 -2.6919e-01 -3.6076e-01\n",
      "  5.3240e-01  1.0108e-01  1.1323e-01 -5.5319e-01  1.7673e-01  8.6490e-02\n",
      " -4.1092e-01  3.8334e-01 -2.8076e-01 -9.3751e-02 -4.1320e-01 -6.9369e-01\n",
      "  1.9006e-01  3.3194e-01 -1.1177e-02 -2.9150e-01 -6.3888e-03  2.3654e-02\n",
      "  7.5007e-02 -2.3596e-01  1.4277e-01  2.6640e-01  8.0796e-01 -1.0609e-01\n",
      " -2.4349e-01 -3.1038e-02  6.9657e-01 -8.9022e-01 -3.2291e-01 -3.3407e-01\n",
      " -5.2652e-01 -6.3183e-01 -4.0807e-01 -2.1016e-01 -8.4917e-02 -2.6417e-02\n",
      "  1.4151e-01 -6.6095e-01 -1.3886e-02 -2.8782e-01  2.5887e-01  1.6628e-01\n",
      "  4.7254e-01  2.1634e-01 -5.7847e-01 -1.3622e+00  1.3527e-01  3.3610e-03\n",
      " -4.4653e-01 -3.8833e-01  6.0701e-02  2.2213e-01 -6.1462e-02 -5.7120e-01\n",
      "  1.4526e-01 -2.5461e-01 -1.2241e-01  1.3766e-01 -2.3324e-01  1.1622e-02\n",
      "  7.2010e-02 -4.8857e-01  2.9902e-01  5.1467e-01  2.1079e-01 -6.0701e-02\n",
      " -5.1192e-01 -1.0296e-01 -4.6480e-01 -4.4276e-01 -1.2575e-01 -1.1276e+00\n",
      " -5.5290e-01  1.1900e-01 -8.3590e-01  4.4200e-01  3.9733e-01  3.2920e-02\n",
      " -8.1245e-01  8.9689e-03  1.8218e-01 -3.2646e-01 -4.3649e-01  1.3782e-01\n",
      " -2.8629e-01  4.6316e-01  7.2739e-01 -1.8331e-01  2.9228e-01  3.1376e-01\n",
      " -1.9515e-01  8.0239e-02  4.2978e-01  8.4015e-02 -4.0512e-02  2.2158e-01\n",
      "  4.2735e-01 -5.0385e-01  9.0693e-02  5.7641e-01  2.2935e-01 -4.4394e-01\n",
      " -1.5492e-02  7.3707e-01  4.7798e-01  1.7755e-01 -2.4700e-01  3.6656e-02\n",
      " -5.0518e-01 -1.2390e-01 -7.2195e-01  6.7502e-02 -1.5136e-01 -1.1832e-01\n",
      "  9.4840e-02 -1.3235e-02 -6.5512e-02 -4.7281e-01 -9.3101e-02  2.5352e-02\n",
      "  2.0491e-02 -5.9058e-01 -5.3949e-01 -2.2460e-01 -4.4992e-01  8.2933e-02\n",
      " -5.1061e-01 -2.5721e-01 -1.4946e-01 -3.7698e-01 -6.5713e-01  1.7884e-01\n",
      "  1.0563e-01  7.7892e-03  8.0940e-02  7.6773e-02  2.7845e-01 -2.2742e-02\n",
      "  4.8285e-01 -4.2108e-01  3.3473e-02 -3.9141e-01  2.9639e-02  2.0963e-02\n",
      " -3.4816e-01 -2.1815e-01  8.1860e-01 -1.1417e-01 -1.9440e-01  1.9069e-01\n",
      " -8.9156e-02  1.7086e-02  4.4300e-01 -4.9471e-01 -3.1055e-01 -7.9851e-01\n",
      "  1.0282e-01 -2.0783e-01  9.6713e-01  1.4066e-01  2.2956e-01 -1.8747e-01\n",
      "  3.3589e-01 -3.9658e-01 -1.7651e-01 -5.5610e-02 -3.6041e-01 -2.7269e-01\n",
      " -4.0929e-01 -4.7629e-01 -6.1241e-01  5.1529e-01 -4.2066e-01 -2.6854e-01\n",
      "  8.4963e-02  1.5845e-01 -9.4358e-02  3.3007e-02 -7.3987e-04 -3.2130e-01\n",
      " -1.4884e-01 -8.5134e-02 -7.4782e-01  2.2901e-01 -4.0757e-02  7.4723e-02\n",
      "  4.5158e-01  6.7575e-01  5.5946e-01  1.5202e-01 -9.8217e-03  3.0868e-01\n",
      "  4.7977e-02 -1.1264e-01  2.4506e-01 -6.3789e-01 -2.2077e-01 -2.9370e-01\n",
      " -5.3276e-01 -6.3416e-01  2.4242e-01  3.2196e-01 -7.3917e-01  2.3340e-01\n",
      "  1.5157e-01 -4.8481e-02  6.2486e-01  2.6463e-01 -7.1965e-01  9.4418e-02\n",
      " -6.0080e-02 -5.4735e-01 -2.9629e-01  5.6354e-01  8.2619e-01  9.9726e-02\n",
      "  2.7558e-01 -3.4223e-01 -1.6517e-01 -5.4887e-02 -3.3301e-01 -2.9294e-01\n",
      " -1.3814e-01 -4.8328e-02  1.6906e-01  2.6765e-01 -2.1572e-01 -2.8952e-01\n",
      " -1.5775e-01 -4.7607e-01  5.8938e-01  1.3874e-01 -1.9348e-01  1.1058e-01\n",
      "  2.5092e-01 -2.1024e-01  3.5700e-01 -7.0076e-01  2.7216e-01 -2.6629e-01]\n",
      "/ [ 1.9753e-02  5.3875e-01 -2.6584e-02  3.8046e-01  5.7504e-01  2.3986e-01\n",
      " -1.0575e-01 -7.4106e-02  3.8514e-01  2.3781e-01 -7.7562e-01 -2.7590e-01\n",
      " -5.4433e-01  2.9758e-02 -1.5609e-01  1.8183e-01 -3.9668e-01  1.8194e+00\n",
      " -3.7813e-01 -8.9211e-02 -3.7013e-01  4.8177e-01 -5.6283e-01 -2.0894e-02\n",
      "  2.0258e-01 -2.9594e-01 -9.9326e-02  2.2466e-01  3.7189e-01 -1.8065e-01\n",
      "  2.4478e-01  4.0402e-02 -1.1950e-01 -3.4641e-02  6.0426e-01  1.7316e-01\n",
      " -3.1257e-01  2.4381e-01  6.6353e-01  4.2369e-01 -5.9694e-02  4.0812e-02\n",
      "  1.7373e-01 -1.8038e-02 -2.9976e-01 -3.0533e-01 -2.4817e-01  2.2450e-01\n",
      "  2.5304e-01 -2.1551e-01  1.7454e-01 -4.2802e-01 -2.2749e-01  2.4044e-01\n",
      " -2.6193e-01 -1.0095e-01 -4.4977e-01  1.8930e-01  8.8834e-02 -4.5982e-01\n",
      " -1.5915e-01 -6.2432e-01 -1.0012e-01  4.4929e-01  8.9691e-02 -4.3063e-02\n",
      "  4.8688e-01 -4.1614e-01 -1.4428e-01  6.4684e-02 -4.5723e-03 -4.0733e-02\n",
      "  1.4424e-01  1.7374e-01  3.5252e-01  3.6374e-01 -3.4747e-01 -6.0953e-02\n",
      " -2.1428e-01 -3.3452e-01 -3.3873e-01 -1.8189e-01 -1.6330e-01 -7.7970e-02\n",
      " -1.3735e-01 -2.8923e-01 -5.6013e-02 -5.0227e-01  3.9576e-01  1.0673e-01\n",
      " -3.0413e-02  2.0009e-01  4.3360e-01 -4.6031e-01  4.4172e-02 -2.8781e-01\n",
      "  3.6977e-01 -6.0917e-02  4.6800e-01  1.1619e-01 -5.9204e-01  2.5179e-01\n",
      "  3.2194e-01 -6.6609e-02  3.6181e-01  1.9032e+00  1.8981e-01 -2.2169e-01\n",
      "  4.1588e-01  1.9683e-01  6.5398e-02 -4.9581e-01  2.9199e-01 -1.9328e-01\n",
      " -3.1032e-01  8.8458e-02  3.8028e-01 -8.6745e-02  2.8242e-01 -1.2009e-01\n",
      " -2.6109e-02 -3.6613e-01 -3.8756e-01 -2.2794e-01 -3.1180e-01 -1.2475e-01\n",
      " -8.8667e-02 -3.5498e-01  2.7516e-01 -4.2530e-01 -5.7480e-01  6.4795e-02\n",
      " -2.1072e-01  3.4911e-01  1.5807e-01  2.0183e-01  1.4230e-01 -4.1492e-01\n",
      "  6.7979e-02  3.7467e-01 -3.5834e-01 -3.3314e-03 -7.2615e-02 -1.8545e-01\n",
      "  1.1619e-01 -1.0267e-01 -1.6783e-02  2.6150e-02 -2.8693e-01 -1.2104e-01\n",
      "  1.6845e-01  1.9566e-01 -6.5373e-02  1.7819e-01  2.1941e-02  1.4112e-01\n",
      " -5.8015e-01 -6.6191e-02  8.3086e-01  1.1657e-01  4.0998e-01 -6.9846e-02\n",
      "  2.0721e-01 -6.0724e-01 -6.1726e-02  1.1567e-02 -4.2627e-01 -4.5762e-01\n",
      "  5.0317e-01  1.7524e-01 -1.6674e-01  8.6551e-01 -5.9784e-01  2.8941e-01\n",
      "  6.2253e-01  5.2780e-01 -1.4060e-01 -5.7531e-02  5.0170e-01 -7.2147e-01\n",
      " -2.3930e-01  1.0654e-03 -2.6001e-04 -1.2555e-01 -1.9793e-02  5.8194e-01\n",
      " -5.2858e-01  3.1601e-01 -1.8769e-01 -5.9430e-02 -5.2686e-01  2.6455e-01\n",
      "  2.4118e-01 -1.3682e-01  3.4259e-01  6.3629e-02  9.4904e-02 -4.8682e-01\n",
      " -3.2799e-02 -1.1090e-01  1.1619e-01 -2.6439e-01 -1.5514e-01  2.4366e-01\n",
      "  2.1011e-01  7.0600e-02  1.1814e-01 -1.3727e-01 -2.1012e-02 -3.0781e-01\n",
      "  1.3316e-01 -2.8421e-01  4.5436e-01 -2.4344e-01  3.3595e-01 -8.1840e-02\n",
      " -2.4875e-01 -5.1890e-02 -2.3558e-01  2.1247e-01 -3.0240e-01  3.4903e-02\n",
      "  3.9087e-01  1.4526e-02 -3.1839e-01  1.6676e-01  2.8689e-01 -8.6583e-02\n",
      "  4.4904e-01  4.3115e-02 -2.5480e-01 -1.2301e-01  2.6195e-02  1.4034e-01\n",
      "  2.4243e-01 -5.1403e-01  5.6930e-02 -6.8429e-01 -2.5791e-01  9.6562e-02\n",
      " -2.9575e-01 -2.2933e-02 -1.3568e-01 -1.3464e-01  3.7998e-01  1.8050e-01\n",
      "  1.6373e-02 -5.4296e-01 -3.0683e-02  1.7943e-01 -1.8366e-02  2.3892e-01\n",
      "  7.2408e-02 -9.2337e-01 -3.7908e-01  1.3518e-01 -3.9625e-01 -6.3278e-01\n",
      " -2.0898e-01  9.7352e-02 -4.4028e-01  6.2326e-01  2.4798e-01 -1.0575e-01\n",
      "  3.3279e-01 -1.6363e-01 -4.4192e-01 -1.8685e-01  5.2576e-01  2.7390e-02\n",
      " -1.5169e-03  1.9810e-01  2.7696e-01  2.0457e-01  9.2158e-02 -4.5474e-03\n",
      "  2.2162e-01  3.6276e-01 -2.6051e-01 -1.2777e-01  4.3707e-02 -2.8119e-01\n",
      "  4.9275e-01  2.5151e-01  2.6396e-01  4.0001e-02 -2.2159e-01 -2.9165e-01\n",
      "  5.9202e-01  2.5528e-01 -1.3784e-02 -5.3969e-02  1.4581e-01  2.5417e-01\n",
      " -8.2441e-02  6.0801e-01  2.7594e-01  3.4517e-02  1.4666e-01  1.0415e-01]\n",
      "Tolstoi [0. 0. 0. 0. 0. 0. 0. 0. 0. 0. 0. 0. 0. 0. 0. 0. 0. 0. 0. 0. 0. 0. 0. 0.\n",
      " 0. 0. 0. 0. 0. 0. 0. 0. 0. 0. 0. 0. 0. 0. 0. 0. 0. 0. 0. 0. 0. 0. 0. 0.\n",
      " 0. 0. 0. 0. 0. 0. 0. 0. 0. 0. 0. 0. 0. 0. 0. 0. 0. 0. 0. 0. 0. 0. 0. 0.\n",
      " 0. 0. 0. 0. 0. 0. 0. 0. 0. 0. 0. 0. 0. 0. 0. 0. 0. 0. 0. 0. 0. 0. 0. 0.\n",
      " 0. 0. 0. 0. 0. 0. 0. 0. 0. 0. 0. 0. 0. 0. 0. 0. 0. 0. 0. 0. 0. 0. 0. 0.\n",
      " 0. 0. 0. 0. 0. 0. 0. 0. 0. 0. 0. 0. 0. 0. 0. 0. 0. 0. 0. 0. 0. 0. 0. 0.\n",
      " 0. 0. 0. 0. 0. 0. 0. 0. 0. 0. 0. 0. 0. 0. 0. 0. 0. 0. 0. 0. 0. 0. 0. 0.\n",
      " 0. 0. 0. 0. 0. 0. 0. 0. 0. 0. 0. 0. 0. 0. 0. 0. 0. 0. 0. 0. 0. 0. 0. 0.\n",
      " 0. 0. 0. 0. 0. 0. 0. 0. 0. 0. 0. 0. 0. 0. 0. 0. 0. 0. 0. 0. 0. 0. 0. 0.\n",
      " 0. 0. 0. 0. 0. 0. 0. 0. 0. 0. 0. 0. 0. 0. 0. 0. 0. 0. 0. 0. 0. 0. 0. 0.\n",
      " 0. 0. 0. 0. 0. 0. 0. 0. 0. 0. 0. 0. 0. 0. 0. 0. 0. 0. 0. 0. 0. 0. 0. 0.\n",
      " 0. 0. 0. 0. 0. 0. 0. 0. 0. 0. 0. 0. 0. 0. 0. 0. 0. 0. 0. 0. 0. 0. 0. 0.\n",
      " 0. 0. 0. 0. 0. 0. 0. 0. 0. 0. 0. 0.]\n"
     ]
    }
   ],
   "source": [
    "for word in processed_text[:10]:\n",
    "    print(word.text, word.vector)"
   ]
  },
  {
   "cell_type": "markdown",
   "id": "4efd500f",
   "metadata": {},
   "source": [
    "## TFIDF vectors"
   ]
  },
  {
   "cell_type": "code",
   "execution_count": 25,
   "id": "919e7316",
   "metadata": {},
   "outputs": [],
   "source": [
    "from sklearn.datasets import fetch_20newsgroups\n",
    "\n",
    "newsgroups_train = fetch_20newsgroups(remove=('headers', 'footers'))"
   ]
  },
  {
   "cell_type": "code",
   "execution_count": 26,
   "id": "14e76398",
   "metadata": {},
   "outputs": [
    {
     "data": {
      "text/plain": [
       "dict_keys(['data', 'filenames', 'target_names', 'target', 'DESCR'])"
      ]
     },
     "execution_count": 26,
     "metadata": {},
     "output_type": "execute_result"
    }
   ],
   "source": [
    "newsgroups_train.keys()"
   ]
  },
  {
   "cell_type": "code",
   "execution_count": 27,
   "id": "9e999937",
   "metadata": {},
   "outputs": [],
   "source": [
    "from sklearn.feature_extraction.text import TfidfVectorizer\n",
    "\n",
    "tfidf_vectorizer = TfidfVectorizer()\n",
    "ng_train_tfidf = tfidf_vectorizer.fit_transform(newsgroups_train['data'])"
   ]
  },
  {
   "cell_type": "code",
   "execution_count": 28,
   "id": "13f5ad70",
   "metadata": {},
   "outputs": [
    {
     "data": {
      "text/plain": [
       "(11314, 114751)"
      ]
     },
     "execution_count": 28,
     "metadata": {},
     "output_type": "execute_result"
    }
   ],
   "source": [
    "ng_train_tfidf.shape"
   ]
  },
  {
   "cell_type": "code",
   "execution_count": 29,
   "id": "85175f09",
   "metadata": {},
   "outputs": [
    {
     "data": {
      "text/plain": [
       "11314"
      ]
     },
     "execution_count": 29,
     "metadata": {},
     "output_type": "execute_result"
    }
   ],
   "source": [
    "len(newsgroups_train['data'])"
   ]
  },
  {
   "cell_type": "code",
   "execution_count": 30,
   "id": "7d176b46",
   "metadata": {},
   "outputs": [
    {
     "data": {
      "text/plain": [
       "1.0"
      ]
     },
     "execution_count": 30,
     "metadata": {},
     "output_type": "execute_result"
    }
   ],
   "source": [
    "ng_train_tfidf.max()"
   ]
  },
  {
   "cell_type": "code",
   "execution_count": 31,
   "id": "12463b4f",
   "metadata": {},
   "outputs": [
    {
     "data": {
      "text/plain": [
       "dict_keys(['data', 'filenames', 'target_names', 'target', 'DESCR'])"
      ]
     },
     "execution_count": 31,
     "metadata": {},
     "output_type": "execute_result"
    }
   ],
   "source": [
    "newsgroups_train.keys()"
   ]
  },
  {
   "cell_type": "code",
   "execution_count": 32,
   "id": "f2c64052",
   "metadata": {},
   "outputs": [
    {
     "data": {
      "application/vnd.jupyter.widget-view+json": {
       "model_id": "cd97f336bb934525889dafc4821b6f48",
       "version_major": 2,
       "version_minor": 0
      },
      "text/plain": [
       "Pandas Apply:   0%|          | 0/11314 [00:00<?, ?it/s]"
      ]
     },
     "metadata": {},
     "output_type": "display_data"
    }
   ],
   "source": [
    "import pandas as pd\n",
    "import swifter\n",
    "\n",
    "ng_train_df = pd.DataFrame({'text': newsgroups_train['data'], 'label': newsgroups_train['target']})\n",
    "ng_train_df['text'] = ng_train_df['text'].swifter.apply(clean_text_spacy)\n",
    "\n",
    "tfidf_vectorizer = TfidfVectorizer(min_df=10, max_df=0.9)\n",
    "ng_train_tfidf = tfidf_vectorizer.fit_transform(ng_train_df['text'])"
   ]
  },
  {
   "cell_type": "markdown",
   "id": "d14bd68d",
   "metadata": {},
   "source": [
    "# Basic text analysis"
   ]
  },
  {
   "cell_type": "code",
   "execution_count": 33,
   "id": "ca1bb62b",
   "metadata": {},
   "outputs": [
    {
     "data": {
      "text/html": [
       "<style type=\"text/css\">\n",
       "</style>\n",
       "<table id=\"T_49bbd_\">\n",
       "  <thead>\n",
       "    <tr>\n",
       "      <th class=\"col_heading level0 col0\" >Description</th>\n",
       "      <th class=\"col_heading level0 col1\" >Value</th>\n",
       "    </tr>\n",
       "  </thead>\n",
       "  <tbody>\n",
       "    <tr>\n",
       "      <td id=\"T_49bbd_row0_col0\" class=\"data row0 col0\" >session_id</td>\n",
       "      <td id=\"T_49bbd_row0_col1\" class=\"data row0 col1\" >1575</td>\n",
       "    </tr>\n",
       "    <tr>\n",
       "      <td id=\"T_49bbd_row1_col0\" class=\"data row1 col0\" >Documents</td>\n",
       "      <td id=\"T_49bbd_row1_col1\" class=\"data row1 col1\" >11314</td>\n",
       "    </tr>\n",
       "    <tr>\n",
       "      <td id=\"T_49bbd_row2_col0\" class=\"data row2 col0\" >Vocab Size</td>\n",
       "      <td id=\"T_49bbd_row2_col1\" class=\"data row2 col1\" >53620</td>\n",
       "    </tr>\n",
       "    <tr>\n",
       "      <td id=\"T_49bbd_row3_col0\" class=\"data row3 col0\" >Custom Stopwords</td>\n",
       "      <td id=\"T_49bbd_row3_col1\" class=\"data row3 col1\" >True</td>\n",
       "    </tr>\n",
       "  </tbody>\n",
       "</table>\n"
      ],
      "text/plain": [
       "<pandas.io.formats.style.Styler at 0x20364fdbc70>"
      ]
     },
     "metadata": {},
     "output_type": "display_data"
    },
    {
     "data": {
      "text/html": [
       "        <script type=\"text/javascript\">\n",
       "        window.PlotlyConfig = {MathJaxConfig: 'local'};\n",
       "        if (window.MathJax) {MathJax.Hub.Config({SVG: {font: \"STIX-Web\"}});}\n",
       "        if (typeof require !== 'undefined') {\n",
       "        require.undef(\"plotly\");\n",
       "        requirejs.config({\n",
       "            paths: {\n",
       "                'plotly': ['https://cdn.plot.ly/plotly-2.2.0.min']\n",
       "            }\n",
       "        });\n",
       "        require(['plotly'], function(Plotly) {\n",
       "            window._Plotly = Plotly;\n",
       "        });\n",
       "        }\n",
       "        </script>\n",
       "        "
      ]
     },
     "metadata": {},
     "output_type": "display_data"
    },
    {
     "data": {
      "application/vnd.plotly.v1+json": {
       "config": {
        "linkText": "Export to plot.ly",
        "plotlyServerURL": "https://plot.ly",
        "showLink": true
       },
       "data": [
        {
         "marker": {
          "color": "rgba(255, 153, 51, 0.6)",
          "line": {
           "color": "rgba(255, 153, 51, 1.0)",
           "width": 1
          }
         },
         "name": "count",
         "orientation": "v",
         "text": "",
         "type": "bar",
         "x": [
          "use",
          "get",
          "say",
          "know",
          "people",
          "make",
          "think",
          "go",
          "time",
          "see",
          "well",
          "also",
          "article",
          "good",
          "take",
          "work",
          "want",
          "even",
          "come",
          "thing",
          "look",
          "give",
          "system",
          "way",
          "problem",
          "year",
          "need",
          "find",
          "right",
          "much",
          "many",
          "try",
          "first",
          "file",
          "new",
          "call",
          "run",
          "tell",
          "point",
          "question",
          "believe",
          "seem",
          "mean",
          "program",
          "window",
          "include",
          "really",
          "post",
          "number",
          "read",
          "still",
          "case",
          "bit",
          "help",
          "day",
          "start",
          "drive",
          "back",
          "part",
          "long",
          "state",
          "information",
          "follow",
          "government",
          "game",
          "let",
          "never",
          "car",
          "ask",
          "line",
          "support",
          "sure",
          "set",
          "thank",
          "fact",
          "name",
          "key",
          "group",
          "put",
          "send",
          "lot",
          "show",
          "however",
          "keep",
          "hear",
          "change",
          "place",
          "reason",
          "little",
          "base",
          "law",
          "end",
          "probably",
          "bad",
          "leave",
          "course",
          "great",
          "happen",
          "true",
          "team"
         ],
         "y": [
          8649,
          7592,
          6474,
          6112,
          5666,
          5512,
          5310,
          5242,
          4610,
          4499,
          4403,
          4157,
          4108,
          4028,
          3489,
          3462,
          3227,
          3138,
          3138,
          3049,
          3047,
          3026,
          3020,
          3000,
          2961,
          2959,
          2897,
          2881,
          2803,
          2771,
          2758,
          2684,
          2658,
          2594,
          2500,
          2431,
          2374,
          2290,
          2287,
          2243,
          2218,
          2203,
          2200,
          2062,
          2057,
          2021,
          2007,
          2007,
          1923,
          1916,
          1867,
          1827,
          1798,
          1768,
          1755,
          1741,
          1728,
          1697,
          1691,
          1680,
          1674,
          1645,
          1623,
          1618,
          1617,
          1613,
          1585,
          1572,
          1555,
          1548,
          1531,
          1530,
          1496,
          1488,
          1484,
          1482,
          1482,
          1467,
          1465,
          1458,
          1450,
          1408,
          1392,
          1387,
          1384,
          1383,
          1369,
          1350,
          1334,
          1330,
          1321,
          1314,
          1312,
          1307,
          1298,
          1293,
          1292,
          1292,
          1287,
          1269
         ]
        }
       ],
       "layout": {
        "legend": {
         "bgcolor": "#F5F6F9",
         "font": {
          "color": "#4D5663"
         }
        },
        "paper_bgcolor": "#F5F6F9",
        "plot_bgcolor": "#F5F6F9",
        "template": {
         "data": {
          "bar": [
           {
            "error_x": {
             "color": "#2a3f5f"
            },
            "error_y": {
             "color": "#2a3f5f"
            },
            "marker": {
             "line": {
              "color": "#E5ECF6",
              "width": 0.5
             },
             "pattern": {
              "fillmode": "overlay",
              "size": 10,
              "solidity": 0.2
             }
            },
            "type": "bar"
           }
          ],
          "barpolar": [
           {
            "marker": {
             "line": {
              "color": "#E5ECF6",
              "width": 0.5
             },
             "pattern": {
              "fillmode": "overlay",
              "size": 10,
              "solidity": 0.2
             }
            },
            "type": "barpolar"
           }
          ],
          "carpet": [
           {
            "aaxis": {
             "endlinecolor": "#2a3f5f",
             "gridcolor": "white",
             "linecolor": "white",
             "minorgridcolor": "white",
             "startlinecolor": "#2a3f5f"
            },
            "baxis": {
             "endlinecolor": "#2a3f5f",
             "gridcolor": "white",
             "linecolor": "white",
             "minorgridcolor": "white",
             "startlinecolor": "#2a3f5f"
            },
            "type": "carpet"
           }
          ],
          "choropleth": [
           {
            "colorbar": {
             "outlinewidth": 0,
             "ticks": ""
            },
            "type": "choropleth"
           }
          ],
          "contour": [
           {
            "colorbar": {
             "outlinewidth": 0,
             "ticks": ""
            },
            "colorscale": [
             [
              0,
              "#0d0887"
             ],
             [
              0.1111111111111111,
              "#46039f"
             ],
             [
              0.2222222222222222,
              "#7201a8"
             ],
             [
              0.3333333333333333,
              "#9c179e"
             ],
             [
              0.4444444444444444,
              "#bd3786"
             ],
             [
              0.5555555555555556,
              "#d8576b"
             ],
             [
              0.6666666666666666,
              "#ed7953"
             ],
             [
              0.7777777777777778,
              "#fb9f3a"
             ],
             [
              0.8888888888888888,
              "#fdca26"
             ],
             [
              1,
              "#f0f921"
             ]
            ],
            "type": "contour"
           }
          ],
          "contourcarpet": [
           {
            "colorbar": {
             "outlinewidth": 0,
             "ticks": ""
            },
            "type": "contourcarpet"
           }
          ],
          "heatmap": [
           {
            "colorbar": {
             "outlinewidth": 0,
             "ticks": ""
            },
            "colorscale": [
             [
              0,
              "#0d0887"
             ],
             [
              0.1111111111111111,
              "#46039f"
             ],
             [
              0.2222222222222222,
              "#7201a8"
             ],
             [
              0.3333333333333333,
              "#9c179e"
             ],
             [
              0.4444444444444444,
              "#bd3786"
             ],
             [
              0.5555555555555556,
              "#d8576b"
             ],
             [
              0.6666666666666666,
              "#ed7953"
             ],
             [
              0.7777777777777778,
              "#fb9f3a"
             ],
             [
              0.8888888888888888,
              "#fdca26"
             ],
             [
              1,
              "#f0f921"
             ]
            ],
            "type": "heatmap"
           }
          ],
          "heatmapgl": [
           {
            "colorbar": {
             "outlinewidth": 0,
             "ticks": ""
            },
            "colorscale": [
             [
              0,
              "#0d0887"
             ],
             [
              0.1111111111111111,
              "#46039f"
             ],
             [
              0.2222222222222222,
              "#7201a8"
             ],
             [
              0.3333333333333333,
              "#9c179e"
             ],
             [
              0.4444444444444444,
              "#bd3786"
             ],
             [
              0.5555555555555556,
              "#d8576b"
             ],
             [
              0.6666666666666666,
              "#ed7953"
             ],
             [
              0.7777777777777778,
              "#fb9f3a"
             ],
             [
              0.8888888888888888,
              "#fdca26"
             ],
             [
              1,
              "#f0f921"
             ]
            ],
            "type": "heatmapgl"
           }
          ],
          "histogram": [
           {
            "marker": {
             "pattern": {
              "fillmode": "overlay",
              "size": 10,
              "solidity": 0.2
             }
            },
            "type": "histogram"
           }
          ],
          "histogram2d": [
           {
            "colorbar": {
             "outlinewidth": 0,
             "ticks": ""
            },
            "colorscale": [
             [
              0,
              "#0d0887"
             ],
             [
              0.1111111111111111,
              "#46039f"
             ],
             [
              0.2222222222222222,
              "#7201a8"
             ],
             [
              0.3333333333333333,
              "#9c179e"
             ],
             [
              0.4444444444444444,
              "#bd3786"
             ],
             [
              0.5555555555555556,
              "#d8576b"
             ],
             [
              0.6666666666666666,
              "#ed7953"
             ],
             [
              0.7777777777777778,
              "#fb9f3a"
             ],
             [
              0.8888888888888888,
              "#fdca26"
             ],
             [
              1,
              "#f0f921"
             ]
            ],
            "type": "histogram2d"
           }
          ],
          "histogram2dcontour": [
           {
            "colorbar": {
             "outlinewidth": 0,
             "ticks": ""
            },
            "colorscale": [
             [
              0,
              "#0d0887"
             ],
             [
              0.1111111111111111,
              "#46039f"
             ],
             [
              0.2222222222222222,
              "#7201a8"
             ],
             [
              0.3333333333333333,
              "#9c179e"
             ],
             [
              0.4444444444444444,
              "#bd3786"
             ],
             [
              0.5555555555555556,
              "#d8576b"
             ],
             [
              0.6666666666666666,
              "#ed7953"
             ],
             [
              0.7777777777777778,
              "#fb9f3a"
             ],
             [
              0.8888888888888888,
              "#fdca26"
             ],
             [
              1,
              "#f0f921"
             ]
            ],
            "type": "histogram2dcontour"
           }
          ],
          "mesh3d": [
           {
            "colorbar": {
             "outlinewidth": 0,
             "ticks": ""
            },
            "type": "mesh3d"
           }
          ],
          "parcoords": [
           {
            "line": {
             "colorbar": {
              "outlinewidth": 0,
              "ticks": ""
             }
            },
            "type": "parcoords"
           }
          ],
          "pie": [
           {
            "automargin": true,
            "type": "pie"
           }
          ],
          "scatter": [
           {
            "marker": {
             "colorbar": {
              "outlinewidth": 0,
              "ticks": ""
             }
            },
            "type": "scatter"
           }
          ],
          "scatter3d": [
           {
            "line": {
             "colorbar": {
              "outlinewidth": 0,
              "ticks": ""
             }
            },
            "marker": {
             "colorbar": {
              "outlinewidth": 0,
              "ticks": ""
             }
            },
            "type": "scatter3d"
           }
          ],
          "scattercarpet": [
           {
            "marker": {
             "colorbar": {
              "outlinewidth": 0,
              "ticks": ""
             }
            },
            "type": "scattercarpet"
           }
          ],
          "scattergeo": [
           {
            "marker": {
             "colorbar": {
              "outlinewidth": 0,
              "ticks": ""
             }
            },
            "type": "scattergeo"
           }
          ],
          "scattergl": [
           {
            "marker": {
             "colorbar": {
              "outlinewidth": 0,
              "ticks": ""
             }
            },
            "type": "scattergl"
           }
          ],
          "scattermapbox": [
           {
            "marker": {
             "colorbar": {
              "outlinewidth": 0,
              "ticks": ""
             }
            },
            "type": "scattermapbox"
           }
          ],
          "scatterpolar": [
           {
            "marker": {
             "colorbar": {
              "outlinewidth": 0,
              "ticks": ""
             }
            },
            "type": "scatterpolar"
           }
          ],
          "scatterpolargl": [
           {
            "marker": {
             "colorbar": {
              "outlinewidth": 0,
              "ticks": ""
             }
            },
            "type": "scatterpolargl"
           }
          ],
          "scatterternary": [
           {
            "marker": {
             "colorbar": {
              "outlinewidth": 0,
              "ticks": ""
             }
            },
            "type": "scatterternary"
           }
          ],
          "surface": [
           {
            "colorbar": {
             "outlinewidth": 0,
             "ticks": ""
            },
            "colorscale": [
             [
              0,
              "#0d0887"
             ],
             [
              0.1111111111111111,
              "#46039f"
             ],
             [
              0.2222222222222222,
              "#7201a8"
             ],
             [
              0.3333333333333333,
              "#9c179e"
             ],
             [
              0.4444444444444444,
              "#bd3786"
             ],
             [
              0.5555555555555556,
              "#d8576b"
             ],
             [
              0.6666666666666666,
              "#ed7953"
             ],
             [
              0.7777777777777778,
              "#fb9f3a"
             ],
             [
              0.8888888888888888,
              "#fdca26"
             ],
             [
              1,
              "#f0f921"
             ]
            ],
            "type": "surface"
           }
          ],
          "table": [
           {
            "cells": {
             "fill": {
              "color": "#EBF0F8"
             },
             "line": {
              "color": "white"
             }
            },
            "header": {
             "fill": {
              "color": "#C8D4E3"
             },
             "line": {
              "color": "white"
             }
            },
            "type": "table"
           }
          ]
         },
         "layout": {
          "annotationdefaults": {
           "arrowcolor": "#2a3f5f",
           "arrowhead": 0,
           "arrowwidth": 1
          },
          "autotypenumbers": "strict",
          "coloraxis": {
           "colorbar": {
            "outlinewidth": 0,
            "ticks": ""
           }
          },
          "colorscale": {
           "diverging": [
            [
             0,
             "#8e0152"
            ],
            [
             0.1,
             "#c51b7d"
            ],
            [
             0.2,
             "#de77ae"
            ],
            [
             0.3,
             "#f1b6da"
            ],
            [
             0.4,
             "#fde0ef"
            ],
            [
             0.5,
             "#f7f7f7"
            ],
            [
             0.6,
             "#e6f5d0"
            ],
            [
             0.7,
             "#b8e186"
            ],
            [
             0.8,
             "#7fbc41"
            ],
            [
             0.9,
             "#4d9221"
            ],
            [
             1,
             "#276419"
            ]
           ],
           "sequential": [
            [
             0,
             "#0d0887"
            ],
            [
             0.1111111111111111,
             "#46039f"
            ],
            [
             0.2222222222222222,
             "#7201a8"
            ],
            [
             0.3333333333333333,
             "#9c179e"
            ],
            [
             0.4444444444444444,
             "#bd3786"
            ],
            [
             0.5555555555555556,
             "#d8576b"
            ],
            [
             0.6666666666666666,
             "#ed7953"
            ],
            [
             0.7777777777777778,
             "#fb9f3a"
            ],
            [
             0.8888888888888888,
             "#fdca26"
            ],
            [
             1,
             "#f0f921"
            ]
           ],
           "sequentialminus": [
            [
             0,
             "#0d0887"
            ],
            [
             0.1111111111111111,
             "#46039f"
            ],
            [
             0.2222222222222222,
             "#7201a8"
            ],
            [
             0.3333333333333333,
             "#9c179e"
            ],
            [
             0.4444444444444444,
             "#bd3786"
            ],
            [
             0.5555555555555556,
             "#d8576b"
            ],
            [
             0.6666666666666666,
             "#ed7953"
            ],
            [
             0.7777777777777778,
             "#fb9f3a"
            ],
            [
             0.8888888888888888,
             "#fdca26"
            ],
            [
             1,
             "#f0f921"
            ]
           ]
          },
          "colorway": [
           "#636efa",
           "#EF553B",
           "#00cc96",
           "#ab63fa",
           "#FFA15A",
           "#19d3f3",
           "#FF6692",
           "#B6E880",
           "#FF97FF",
           "#FECB52"
          ],
          "font": {
           "color": "#2a3f5f"
          },
          "geo": {
           "bgcolor": "white",
           "lakecolor": "white",
           "landcolor": "#E5ECF6",
           "showlakes": true,
           "showland": true,
           "subunitcolor": "white"
          },
          "hoverlabel": {
           "align": "left"
          },
          "hovermode": "closest",
          "mapbox": {
           "style": "light"
          },
          "paper_bgcolor": "white",
          "plot_bgcolor": "#E5ECF6",
          "polar": {
           "angularaxis": {
            "gridcolor": "white",
            "linecolor": "white",
            "ticks": ""
           },
           "bgcolor": "#E5ECF6",
           "radialaxis": {
            "gridcolor": "white",
            "linecolor": "white",
            "ticks": ""
           }
          },
          "scene": {
           "xaxis": {
            "backgroundcolor": "#E5ECF6",
            "gridcolor": "white",
            "gridwidth": 2,
            "linecolor": "white",
            "showbackground": true,
            "ticks": "",
            "zerolinecolor": "white"
           },
           "yaxis": {
            "backgroundcolor": "#E5ECF6",
            "gridcolor": "white",
            "gridwidth": 2,
            "linecolor": "white",
            "showbackground": true,
            "ticks": "",
            "zerolinecolor": "white"
           },
           "zaxis": {
            "backgroundcolor": "#E5ECF6",
            "gridcolor": "white",
            "gridwidth": 2,
            "linecolor": "white",
            "showbackground": true,
            "ticks": "",
            "zerolinecolor": "white"
           }
          },
          "shapedefaults": {
           "line": {
            "color": "#2a3f5f"
           }
          },
          "ternary": {
           "aaxis": {
            "gridcolor": "white",
            "linecolor": "white",
            "ticks": ""
           },
           "baxis": {
            "gridcolor": "white",
            "linecolor": "white",
            "ticks": ""
           },
           "bgcolor": "#E5ECF6",
           "caxis": {
            "gridcolor": "white",
            "linecolor": "white",
            "ticks": ""
           }
          },
          "title": {
           "x": 0.05
          },
          "xaxis": {
           "automargin": true,
           "gridcolor": "white",
           "linecolor": "white",
           "ticks": "",
           "title": {
            "standoff": 15
           },
           "zerolinecolor": "white",
           "zerolinewidth": 2
          },
          "yaxis": {
           "automargin": true,
           "gridcolor": "white",
           "linecolor": "white",
           "ticks": "",
           "title": {
            "standoff": 15
           },
           "zerolinecolor": "white",
           "zerolinewidth": 2
          }
         }
        },
        "title": {
         "font": {
          "color": "#4D5663"
         },
         "text": "Top 100 words after removing stop words"
        },
        "xaxis": {
         "gridcolor": "#E1E5ED",
         "linecolor": "black",
         "showgrid": true,
         "tickfont": {
          "color": "#4D5663"
         },
         "title": {
          "font": {
           "color": "#4D5663"
          },
          "text": ""
         },
         "zerolinecolor": "#E1E5ED"
        },
        "yaxis": {
         "gridcolor": "#E1E5ED",
         "linecolor": "black",
         "showgrid": true,
         "tickfont": {
          "color": "#4D5663"
         },
         "title": {
          "font": {
           "color": "#4D5663"
          },
          "text": "Count"
         },
         "zerolinecolor": "#E1E5ED"
        }
       }
      },
      "text/html": [
       "<div>                            <div id=\"b29d3931-ac7e-492f-9ab3-eb1cf34ec013\" class=\"plotly-graph-div\" style=\"height:525px; width:100%;\"></div>            <script type=\"text/javascript\">                require([\"plotly\"], function(Plotly) {                    window.PLOTLYENV=window.PLOTLYENV || {};\n",
       "                    window.PLOTLYENV.BASE_URL='https://plot.ly';                                    if (document.getElementById(\"b29d3931-ac7e-492f-9ab3-eb1cf34ec013\")) {                    Plotly.newPlot(                        \"b29d3931-ac7e-492f-9ab3-eb1cf34ec013\",                        [{\"marker\":{\"color\":\"rgba(255, 153, 51, 0.6)\",\"line\":{\"color\":\"rgba(255, 153, 51, 1.0)\",\"width\":1}},\"name\":\"count\",\"orientation\":\"v\",\"text\":\"\",\"type\":\"bar\",\"x\":[\"use\",\"get\",\"say\",\"know\",\"people\",\"make\",\"think\",\"go\",\"time\",\"see\",\"well\",\"also\",\"article\",\"good\",\"take\",\"work\",\"want\",\"even\",\"come\",\"thing\",\"look\",\"give\",\"system\",\"way\",\"problem\",\"year\",\"need\",\"find\",\"right\",\"much\",\"many\",\"try\",\"first\",\"file\",\"new\",\"call\",\"run\",\"tell\",\"point\",\"question\",\"believe\",\"seem\",\"mean\",\"program\",\"window\",\"include\",\"really\",\"post\",\"number\",\"read\",\"still\",\"case\",\"bit\",\"help\",\"day\",\"start\",\"drive\",\"back\",\"part\",\"long\",\"state\",\"information\",\"follow\",\"government\",\"game\",\"let\",\"never\",\"car\",\"ask\",\"line\",\"support\",\"sure\",\"set\",\"thank\",\"fact\",\"name\",\"key\",\"group\",\"put\",\"send\",\"lot\",\"show\",\"however\",\"keep\",\"hear\",\"change\",\"place\",\"reason\",\"little\",\"base\",\"law\",\"end\",\"probably\",\"bad\",\"leave\",\"course\",\"great\",\"happen\",\"true\",\"team\"],\"y\":[8649,7592,6474,6112,5666,5512,5310,5242,4610,4499,4403,4157,4108,4028,3489,3462,3227,3138,3138,3049,3047,3026,3020,3000,2961,2959,2897,2881,2803,2771,2758,2684,2658,2594,2500,2431,2374,2290,2287,2243,2218,2203,2200,2062,2057,2021,2007,2007,1923,1916,1867,1827,1798,1768,1755,1741,1728,1697,1691,1680,1674,1645,1623,1618,1617,1613,1585,1572,1555,1548,1531,1530,1496,1488,1484,1482,1482,1467,1465,1458,1450,1408,1392,1387,1384,1383,1369,1350,1334,1330,1321,1314,1312,1307,1298,1293,1292,1292,1287,1269]}],                        {\"legend\":{\"bgcolor\":\"#F5F6F9\",\"font\":{\"color\":\"#4D5663\"}},\"paper_bgcolor\":\"#F5F6F9\",\"plot_bgcolor\":\"#F5F6F9\",\"template\":{\"data\":{\"bar\":[{\"error_x\":{\"color\":\"#2a3f5f\"},\"error_y\":{\"color\":\"#2a3f5f\"},\"marker\":{\"line\":{\"color\":\"#E5ECF6\",\"width\":0.5},\"pattern\":{\"fillmode\":\"overlay\",\"size\":10,\"solidity\":0.2}},\"type\":\"bar\"}],\"barpolar\":[{\"marker\":{\"line\":{\"color\":\"#E5ECF6\",\"width\":0.5},\"pattern\":{\"fillmode\":\"overlay\",\"size\":10,\"solidity\":0.2}},\"type\":\"barpolar\"}],\"carpet\":[{\"aaxis\":{\"endlinecolor\":\"#2a3f5f\",\"gridcolor\":\"white\",\"linecolor\":\"white\",\"minorgridcolor\":\"white\",\"startlinecolor\":\"#2a3f5f\"},\"baxis\":{\"endlinecolor\":\"#2a3f5f\",\"gridcolor\":\"white\",\"linecolor\":\"white\",\"minorgridcolor\":\"white\",\"startlinecolor\":\"#2a3f5f\"},\"type\":\"carpet\"}],\"choropleth\":[{\"colorbar\":{\"outlinewidth\":0,\"ticks\":\"\"},\"type\":\"choropleth\"}],\"contour\":[{\"colorbar\":{\"outlinewidth\":0,\"ticks\":\"\"},\"colorscale\":[[0.0,\"#0d0887\"],[0.1111111111111111,\"#46039f\"],[0.2222222222222222,\"#7201a8\"],[0.3333333333333333,\"#9c179e\"],[0.4444444444444444,\"#bd3786\"],[0.5555555555555556,\"#d8576b\"],[0.6666666666666666,\"#ed7953\"],[0.7777777777777778,\"#fb9f3a\"],[0.8888888888888888,\"#fdca26\"],[1.0,\"#f0f921\"]],\"type\":\"contour\"}],\"contourcarpet\":[{\"colorbar\":{\"outlinewidth\":0,\"ticks\":\"\"},\"type\":\"contourcarpet\"}],\"heatmap\":[{\"colorbar\":{\"outlinewidth\":0,\"ticks\":\"\"},\"colorscale\":[[0.0,\"#0d0887\"],[0.1111111111111111,\"#46039f\"],[0.2222222222222222,\"#7201a8\"],[0.3333333333333333,\"#9c179e\"],[0.4444444444444444,\"#bd3786\"],[0.5555555555555556,\"#d8576b\"],[0.6666666666666666,\"#ed7953\"],[0.7777777777777778,\"#fb9f3a\"],[0.8888888888888888,\"#fdca26\"],[1.0,\"#f0f921\"]],\"type\":\"heatmap\"}],\"heatmapgl\":[{\"colorbar\":{\"outlinewidth\":0,\"ticks\":\"\"},\"colorscale\":[[0.0,\"#0d0887\"],[0.1111111111111111,\"#46039f\"],[0.2222222222222222,\"#7201a8\"],[0.3333333333333333,\"#9c179e\"],[0.4444444444444444,\"#bd3786\"],[0.5555555555555556,\"#d8576b\"],[0.6666666666666666,\"#ed7953\"],[0.7777777777777778,\"#fb9f3a\"],[0.8888888888888888,\"#fdca26\"],[1.0,\"#f0f921\"]],\"type\":\"heatmapgl\"}],\"histogram\":[{\"marker\":{\"pattern\":{\"fillmode\":\"overlay\",\"size\":10,\"solidity\":0.2}},\"type\":\"histogram\"}],\"histogram2d\":[{\"colorbar\":{\"outlinewidth\":0,\"ticks\":\"\"},\"colorscale\":[[0.0,\"#0d0887\"],[0.1111111111111111,\"#46039f\"],[0.2222222222222222,\"#7201a8\"],[0.3333333333333333,\"#9c179e\"],[0.4444444444444444,\"#bd3786\"],[0.5555555555555556,\"#d8576b\"],[0.6666666666666666,\"#ed7953\"],[0.7777777777777778,\"#fb9f3a\"],[0.8888888888888888,\"#fdca26\"],[1.0,\"#f0f921\"]],\"type\":\"histogram2d\"}],\"histogram2dcontour\":[{\"colorbar\":{\"outlinewidth\":0,\"ticks\":\"\"},\"colorscale\":[[0.0,\"#0d0887\"],[0.1111111111111111,\"#46039f\"],[0.2222222222222222,\"#7201a8\"],[0.3333333333333333,\"#9c179e\"],[0.4444444444444444,\"#bd3786\"],[0.5555555555555556,\"#d8576b\"],[0.6666666666666666,\"#ed7953\"],[0.7777777777777778,\"#fb9f3a\"],[0.8888888888888888,\"#fdca26\"],[1.0,\"#f0f921\"]],\"type\":\"histogram2dcontour\"}],\"mesh3d\":[{\"colorbar\":{\"outlinewidth\":0,\"ticks\":\"\"},\"type\":\"mesh3d\"}],\"parcoords\":[{\"line\":{\"colorbar\":{\"outlinewidth\":0,\"ticks\":\"\"}},\"type\":\"parcoords\"}],\"pie\":[{\"automargin\":true,\"type\":\"pie\"}],\"scatter\":[{\"marker\":{\"colorbar\":{\"outlinewidth\":0,\"ticks\":\"\"}},\"type\":\"scatter\"}],\"scatter3d\":[{\"line\":{\"colorbar\":{\"outlinewidth\":0,\"ticks\":\"\"}},\"marker\":{\"colorbar\":{\"outlinewidth\":0,\"ticks\":\"\"}},\"type\":\"scatter3d\"}],\"scattercarpet\":[{\"marker\":{\"colorbar\":{\"outlinewidth\":0,\"ticks\":\"\"}},\"type\":\"scattercarpet\"}],\"scattergeo\":[{\"marker\":{\"colorbar\":{\"outlinewidth\":0,\"ticks\":\"\"}},\"type\":\"scattergeo\"}],\"scattergl\":[{\"marker\":{\"colorbar\":{\"outlinewidth\":0,\"ticks\":\"\"}},\"type\":\"scattergl\"}],\"scattermapbox\":[{\"marker\":{\"colorbar\":{\"outlinewidth\":0,\"ticks\":\"\"}},\"type\":\"scattermapbox\"}],\"scatterpolar\":[{\"marker\":{\"colorbar\":{\"outlinewidth\":0,\"ticks\":\"\"}},\"type\":\"scatterpolar\"}],\"scatterpolargl\":[{\"marker\":{\"colorbar\":{\"outlinewidth\":0,\"ticks\":\"\"}},\"type\":\"scatterpolargl\"}],\"scatterternary\":[{\"marker\":{\"colorbar\":{\"outlinewidth\":0,\"ticks\":\"\"}},\"type\":\"scatterternary\"}],\"surface\":[{\"colorbar\":{\"outlinewidth\":0,\"ticks\":\"\"},\"colorscale\":[[0.0,\"#0d0887\"],[0.1111111111111111,\"#46039f\"],[0.2222222222222222,\"#7201a8\"],[0.3333333333333333,\"#9c179e\"],[0.4444444444444444,\"#bd3786\"],[0.5555555555555556,\"#d8576b\"],[0.6666666666666666,\"#ed7953\"],[0.7777777777777778,\"#fb9f3a\"],[0.8888888888888888,\"#fdca26\"],[1.0,\"#f0f921\"]],\"type\":\"surface\"}],\"table\":[{\"cells\":{\"fill\":{\"color\":\"#EBF0F8\"},\"line\":{\"color\":\"white\"}},\"header\":{\"fill\":{\"color\":\"#C8D4E3\"},\"line\":{\"color\":\"white\"}},\"type\":\"table\"}]},\"layout\":{\"annotationdefaults\":{\"arrowcolor\":\"#2a3f5f\",\"arrowhead\":0,\"arrowwidth\":1},\"autotypenumbers\":\"strict\",\"coloraxis\":{\"colorbar\":{\"outlinewidth\":0,\"ticks\":\"\"}},\"colorscale\":{\"diverging\":[[0,\"#8e0152\"],[0.1,\"#c51b7d\"],[0.2,\"#de77ae\"],[0.3,\"#f1b6da\"],[0.4,\"#fde0ef\"],[0.5,\"#f7f7f7\"],[0.6,\"#e6f5d0\"],[0.7,\"#b8e186\"],[0.8,\"#7fbc41\"],[0.9,\"#4d9221\"],[1,\"#276419\"]],\"sequential\":[[0.0,\"#0d0887\"],[0.1111111111111111,\"#46039f\"],[0.2222222222222222,\"#7201a8\"],[0.3333333333333333,\"#9c179e\"],[0.4444444444444444,\"#bd3786\"],[0.5555555555555556,\"#d8576b\"],[0.6666666666666666,\"#ed7953\"],[0.7777777777777778,\"#fb9f3a\"],[0.8888888888888888,\"#fdca26\"],[1.0,\"#f0f921\"]],\"sequentialminus\":[[0.0,\"#0d0887\"],[0.1111111111111111,\"#46039f\"],[0.2222222222222222,\"#7201a8\"],[0.3333333333333333,\"#9c179e\"],[0.4444444444444444,\"#bd3786\"],[0.5555555555555556,\"#d8576b\"],[0.6666666666666666,\"#ed7953\"],[0.7777777777777778,\"#fb9f3a\"],[0.8888888888888888,\"#fdca26\"],[1.0,\"#f0f921\"]]},\"colorway\":[\"#636efa\",\"#EF553B\",\"#00cc96\",\"#ab63fa\",\"#FFA15A\",\"#19d3f3\",\"#FF6692\",\"#B6E880\",\"#FF97FF\",\"#FECB52\"],\"font\":{\"color\":\"#2a3f5f\"},\"geo\":{\"bgcolor\":\"white\",\"lakecolor\":\"white\",\"landcolor\":\"#E5ECF6\",\"showlakes\":true,\"showland\":true,\"subunitcolor\":\"white\"},\"hoverlabel\":{\"align\":\"left\"},\"hovermode\":\"closest\",\"mapbox\":{\"style\":\"light\"},\"paper_bgcolor\":\"white\",\"plot_bgcolor\":\"#E5ECF6\",\"polar\":{\"angularaxis\":{\"gridcolor\":\"white\",\"linecolor\":\"white\",\"ticks\":\"\"},\"bgcolor\":\"#E5ECF6\",\"radialaxis\":{\"gridcolor\":\"white\",\"linecolor\":\"white\",\"ticks\":\"\"}},\"scene\":{\"xaxis\":{\"backgroundcolor\":\"#E5ECF6\",\"gridcolor\":\"white\",\"gridwidth\":2,\"linecolor\":\"white\",\"showbackground\":true,\"ticks\":\"\",\"zerolinecolor\":\"white\"},\"yaxis\":{\"backgroundcolor\":\"#E5ECF6\",\"gridcolor\":\"white\",\"gridwidth\":2,\"linecolor\":\"white\",\"showbackground\":true,\"ticks\":\"\",\"zerolinecolor\":\"white\"},\"zaxis\":{\"backgroundcolor\":\"#E5ECF6\",\"gridcolor\":\"white\",\"gridwidth\":2,\"linecolor\":\"white\",\"showbackground\":true,\"ticks\":\"\",\"zerolinecolor\":\"white\"}},\"shapedefaults\":{\"line\":{\"color\":\"#2a3f5f\"}},\"ternary\":{\"aaxis\":{\"gridcolor\":\"white\",\"linecolor\":\"white\",\"ticks\":\"\"},\"baxis\":{\"gridcolor\":\"white\",\"linecolor\":\"white\",\"ticks\":\"\"},\"bgcolor\":\"#E5ECF6\",\"caxis\":{\"gridcolor\":\"white\",\"linecolor\":\"white\",\"ticks\":\"\"}},\"title\":{\"x\":0.05},\"xaxis\":{\"automargin\":true,\"gridcolor\":\"white\",\"linecolor\":\"white\",\"ticks\":\"\",\"title\":{\"standoff\":15},\"zerolinecolor\":\"white\",\"zerolinewidth\":2},\"yaxis\":{\"automargin\":true,\"gridcolor\":\"white\",\"linecolor\":\"white\",\"ticks\":\"\",\"title\":{\"standoff\":15},\"zerolinecolor\":\"white\",\"zerolinewidth\":2}}},\"title\":{\"font\":{\"color\":\"#4D5663\"},\"text\":\"Top 100 words after removing stop words\"},\"xaxis\":{\"gridcolor\":\"#E1E5ED\",\"linecolor\":\"black\",\"showgrid\":true,\"tickfont\":{\"color\":\"#4D5663\"},\"title\":{\"font\":{\"color\":\"#4D5663\"},\"text\":\"\"},\"zerolinecolor\":\"#E1E5ED\"},\"yaxis\":{\"gridcolor\":\"#E1E5ED\",\"linecolor\":\"black\",\"showgrid\":true,\"tickfont\":{\"color\":\"#4D5663\"},\"title\":{\"font\":{\"color\":\"#4D5663\"},\"text\":\"Count\"},\"zerolinecolor\":\"#E1E5ED\"}},                        {\"showLink\": true, \"linkText\": \"Export to plot.ly\", \"plotlyServerURL\": \"https://plot.ly\", \"responsive\": true}                    ).then(function(){\n",
       "                            \n",
       "var gd = document.getElementById('b29d3931-ac7e-492f-9ab3-eb1cf34ec013');\n",
       "var x = new MutationObserver(function (mutations, observer) {{\n",
       "        var display = window.getComputedStyle(gd).display;\n",
       "        if (!display || display === 'none') {{\n",
       "            console.log([gd, 'removed!']);\n",
       "            Plotly.purge(gd);\n",
       "            observer.disconnect();\n",
       "        }}\n",
       "}});\n",
       "\n",
       "// Listen for the removal of the full notebook cells\n",
       "var notebookContainer = gd.closest('#notebook-container');\n",
       "if (notebookContainer) {{\n",
       "    x.observe(notebookContainer, {childList: true});\n",
       "}}\n",
       "\n",
       "// Listen for the clearing of the current output cell\n",
       "var outputEl = gd.closest('.output');\n",
       "if (outputEl) {{\n",
       "    x.observe(outputEl, {childList: true});\n",
       "}}\n",
       "\n",
       "                        })                };                });            </script>        </div>"
      ]
     },
     "metadata": {},
     "output_type": "display_data"
    }
   ],
   "source": [
    "from pycaret.nlp import setup, create_model, plot_model\n",
    "\n",
    "nlp_setup = setup(newsgroups_train['data'], custom_stopwords=['ax', 'edu', 'com', 'write'])\n",
    "plot_model(model=None, plot='frequency')"
   ]
  },
  {
   "cell_type": "code",
   "execution_count": 34,
   "id": "39a5ccad",
   "metadata": {},
   "outputs": [
    {
     "data": {
      "image/png": "[encoded data removed]",
      "text/plain": [
       "<Figure size 432x288 with 1 Axes>"
      ]
     },
     "metadata": {
      "needs_background": "light"
     },
     "output_type": "display_data"
    },
    {
     "data": {
      "text/plain": [
       "<AxesSubplot:xlabel='Samples', ylabel='Counts'>"
      ]
     },
     "execution_count": 34,
     "metadata": {},
     "output_type": "execute_result"
    }
   ],
   "source": [
    "from nltk import FreqDist\n",
    "\n",
    "fd = FreqDist(lemmatized_text.split())\n",
    "fd.plot(20)"
   ]
  },
  {
   "cell_type": "code",
   "execution_count": 35,
   "id": "2e54fa04",
   "metadata": {},
   "outputs": [
    {
     "data": {
      "text/plain": [
       "[('say', 3186),\n",
       " ('man', 1981),\n",
       " ('pierre', 1963),\n",
       " ('prince', 1931),\n",
       " ('look', 1612),\n",
       " ('come', 1579),\n",
       " ('know', 1572),\n",
       " ('go', 1362),\n",
       " ('natásha', 1211),\n",
       " ('andrew', 1141),\n",
       " ('think', 1134),\n",
       " ('face', 1099),\n",
       " ('time', 1080),\n",
       " ('ask', 989),\n",
       " ('see', 942),\n",
       " ('princess', 931),\n",
       " ('begin', 922),\n",
       " ('feel', 885),\n",
       " ('eye', 882),\n",
       " ('french', 881)]"
      ]
     },
     "execution_count": 35,
     "metadata": {},
     "output_type": "execute_result"
    }
   ],
   "source": [
    "fd.most_common(20)"
   ]
  },
  {
   "cell_type": "code",
   "execution_count": 36,
   "id": "39e88a22",
   "metadata": {},
   "outputs": [
    {
     "data": {
      "image/png": "[encoded data removed]",
      "text/plain": [
       "<Figure size 432x432 with 1 Axes>"
      ]
     },
     "metadata": {
      "needs_background": "light"
     },
     "output_type": "display_data"
    },
    {
     "data": {
      "text/plain": [
       "<AxesSubplot:xlabel='Samples', ylabel='Counts'>"
      ]
     },
     "execution_count": 36,
     "metadata": {},
     "output_type": "execute_result"
    }
   ],
   "source": [
    "import matplotlib.pyplot as plt\n",
    "from nltk import bigrams\n",
    "\n",
    "f = plt.figure(figsize=(6, 6))\n",
    "fd_bg = FreqDist(map(' '.join, bigrams(lemmatized_text.split())))\n",
    "fd_bg.plot(20)"
   ]
  },
  {
   "cell_type": "code",
   "execution_count": 37,
   "id": "888d7dcf",
   "metadata": {
    "scrolled": true
   },
   "outputs": [
    {
     "data": {
      "image/png": "[encoded data removed]",
      "text/plain": [
       "<Figure size 396x396 with 1 Axes>"
      ]
     },
     "metadata": {
      "needs_background": "light"
     },
     "output_type": "display_data"
    }
   ],
   "source": [
    "import matplotlib.pyplot as plt\n",
    "import numpy as np\n",
    "\n",
    "idx_to_word = {v: k for k, v in tfidf_vectorizer.vocabulary_.items()}\n",
    "\n",
    "num_words = 20\n",
    "tfidf_sum = np.asarray(ng_train_tfidf.sum(axis=0)).flatten()\n",
    "sorted_idx = tfidf_sum.argsort()[::-1]\n",
    "tfidf_sum = tfidf_sum[sorted_idx]\n",
    "\n",
    "f = plt.figure(figsize=(5.5, 5.5))\n",
    "xticks = range(num_words)\n",
    "plt.bar(xticks, tfidf_sum[:num_words])\n",
    "plt.xticks(xticks, [idx_to_word[i] for i in sorted_idx[:num_words]], rotation=90)\n",
    "plt.xlabel('word')\n",
    "plt.ylabel('TFIDF')\n",
    "plt.tight_layout()"
   ]
  },
  {
   "cell_type": "code",
   "execution_count": 38,
   "id": "2e34f49d",
   "metadata": {},
   "outputs": [
    {
     "data": {
      "image/png": "[encoded data removed]",
      "text/plain": [
       "<Figure size 432x288 with 1 Axes>"
      ]
     },
     "metadata": {
      "needs_background": "light"
     },
     "output_type": "display_data"
    }
   ],
   "source": [
    "import seaborn as sns\n",
    "\n",
    "sns.histplot(ng_train_df['text'].apply(lambda x: len(x)))\n",
    "plt.xscale('log')"
   ]
  },
  {
   "cell_type": "code",
   "execution_count": 39,
   "id": "06e82970",
   "metadata": {},
   "outputs": [],
   "source": [
    "from sklearn.feature_extraction.text import CountVectorizer\n",
    "\n",
    "def get_top_grams(docs, n=2):\n",
    "    v = CountVectorizer(ngram_range=(n, n))\n",
    "    grams = v.fit_transform(docs)\n",
    "    gram_sum = np.array(np.sum(grams, axis=0)).flatten()\n",
    "    gram_dict = {i: v for v, i in v.vocabulary_.items()}\n",
    "    top_grams = gram_sum.argsort()[::-1]\n",
    "    \n",
    "    return [gram_dict[i] for i in top_grams], gram_sum[top_grams]"
   ]
  },
  {
   "cell_type": "markdown",
   "id": "a0dacc20",
   "metadata": {},
   "source": [
    "This version also prints out top ngrams."
   ]
  },
  {
   "cell_type": "code",
   "execution_count": 40,
   "id": "e3b1ac83",
   "metadata": {},
   "outputs": [],
   "source": [
    "from sklearn.feature_extraction.text import CountVectorizer\n",
    "\n",
    "def get_top_grams(docs, n=2, top=20, verbose=False):\n",
    "    v = CountVectorizer(ngram_range=(n, n))\n",
    "    grams = v.fit_transform(docs)\n",
    "    gram_sum = np.array(np.sum(grams, axis=0)).flatten()\n",
    "    gram_dict = {i: v for v, i in v.vocabulary_.items()}\n",
    "    top_grams = gram_sum.argsort()[::-1]\n",
    "    if verbose:\n",
    "        print(f'top {top} {n}-grams:\\n')\n",
    "        for i in top_grams[:top]:\n",
    "            print('\"' + gram_dict[i] + '\" shows up', gram_sum[i], 'times')\n",
    "        print('\\n')\n",
    "    \n",
    "    return [gram_dict[i] for i in top_grams], gram_sum[top_grams]"
   ]
  },
  {
   "cell_type": "code",
   "execution_count": 41,
   "id": "eb7e3c15",
   "metadata": {},
   "outputs": [],
   "source": [
    "ngrams, ngram_counts = {}, {}\n",
    "for n in [1, 2, 3]:\n",
    "    ngrams[n], ngram_counts[n] = get_top_grams([lemmatized_text], n=n)"
   ]
  },
  {
   "cell_type": "code",
   "execution_count": 42,
   "id": "9d0827f8",
   "metadata": {},
   "outputs": [],
   "source": [
    "from scipy.stats import zipf\n",
    "\n",
    "def make_zipf_plot(counts, tokens, a=1.15):\n",
    "    # inspired from here: https://finnaarupnielsen.wordpress.com/2013/10/22/zipf-plot-for-word-counts-in-brown-corpus/\n",
    "    ranks = np.arange(1, len(counts) + 1)\n",
    "    indices = np.argsort(-counts)\n",
    "    normalized_frequencies = counts[indices] / sum(counts)\n",
    "\n",
    "    f = plt.figure(figsize=(5.5, 5.5))\n",
    "    plt.loglog(ranks, normalized_frequencies, marker=\".\")\n",
    "    \n",
    "    plt.loglog(ranks, [z for z in zipf.pmf(ranks, a)])\n",
    "    \n",
    "    plt.title(\"Zipf Plot\")\n",
    "    plt.xlabel(\"Word frequency rank\")\n",
    "    plt.ylabel(\"Word frequency\")\n",
    "    \n",
    "    ax = plt.gca()\n",
    "    ax.set_aspect('equal')  # make the plot square\n",
    "    plt.grid(True)\n",
    "    \n",
    "    # add text labels\n",
    "    last_freq = None\n",
    "    for i in list(np.logspace(-0.5, np.log10(len(counts) - 1), 10).astype(int)):\n",
    "        dummy = plt.text(ranks[i], normalized_frequencies[i], \" \" + tokens[indices[i]], \n",
    "                         verticalalignment=\"bottom\",\n",
    "                         horizontalalignment=\"left\")\n",
    "    \n",
    "    plt.tight_layout()\n",
    "    \n",
    "    plt.show()"
   ]
  },
  {
   "cell_type": "code",
   "execution_count": 43,
   "id": "49a51782",
   "metadata": {},
   "outputs": [
    {
     "data": {
      "image/png": "[encoded data removed]",
      "text/plain": [
       "<Figure size 396x396 with 1 Axes>"
      ]
     },
     "metadata": {
      "needs_background": "light"
     },
     "output_type": "display_data"
    }
   ],
   "source": [
    "make_zipf_plot(ngram_counts[1], ngrams[1])"
   ]
  },
  {
   "cell_type": "code",
   "execution_count": 44,
   "id": "7f4fc54c",
   "metadata": {},
   "outputs": [
    {
     "data": {
      "image/png": "[encoded data removed]",
      "text/plain": [
       "<Figure size 396x396 with 1 Axes>"
      ]
     },
     "metadata": {
      "needs_background": "light"
     },
     "output_type": "display_data"
    }
   ],
   "source": [
    "make_zipf_plot(ngram_counts[2], ngrams[2], a=1.01)"
   ]
  },
  {
   "cell_type": "markdown",
   "id": "a9a50e1b",
   "metadata": {},
   "source": [
    "## Word collocations"
   ]
  },
  {
   "cell_type": "code",
   "execution_count": 45,
   "id": "e132a369",
   "metadata": {},
   "outputs": [
    {
     "data": {
      "text/plain": [
       "[('ab', 'ovo'),\n",
       " ('academy', 'jotting'),\n",
       " ('achtung', 'nehman'),\n",
       " ('agwee', 'evewythe'),\n",
       " ('ahahah', 'rrrr'),\n",
       " ('alliée', 'sincère'),\n",
       " ('alliés', 'détruite'),\n",
       " ('alphonse', 'kárlovich'),\n",
       " ('amber', 'mouthpiece'),\n",
       " ('amstetten', 'melk')]"
      ]
     },
     "execution_count": 45,
     "metadata": {},
     "output_type": "execute_result"
    }
   ],
   "source": [
    "from nltk.collocations import BigramAssocMeasures, BigramCollocationFinder\n",
    "\n",
    "BigramCollocationFinder.from_words(lemmatized_text.split()).nbest(BigramAssocMeasures().pmi, 10)"
   ]
  },
  {
   "cell_type": "code",
   "execution_count": 46,
   "id": "d63d6166",
   "metadata": {},
   "outputs": [
    {
     "data": {
      "text/plain": [
       "[(('ab', 'ovo'), 17.87246447190116),\n",
       " (('academy', 'jotting'), 17.87246447190116),\n",
       " (('achtung', 'nehman'), 17.87246447190116),\n",
       " (('agwee', 'evewythe'), 17.87246447190116),\n",
       " (('ahahah', 'rrrr'), 17.87246447190116),\n",
       " (('alliée', 'sincère'), 17.87246447190116),\n",
       " (('alliés', 'détruite'), 17.87246447190116),\n",
       " (('alphonse', 'kárlovich'), 17.87246447190116),\n",
       " (('amber', 'mouthpiece'), 17.87246447190116),\n",
       " (('amstetten', 'melk'), 17.87246447190116),\n",
       " (('aprons', 'insignia'), 17.87246447190116),\n",
       " (('ar', 'ate'), 17.87246447190116),\n",
       " (('armfeldts', 'bennigsens'), 17.87246447190116),\n",
       " (('arming', 'concentrating'), 17.87246447190116),\n",
       " (('arnauts', 'arnaut'), 17.87246447190116),\n",
       " (('att', 'ention'), 17.87246447190116),\n",
       " (('aubert', 'chalmé'), 17.87246447190116),\n",
       " (('aussi', 'spirituelle'), 17.87246447190116),\n",
       " (('awistocwacy', 'pwovince'), 17.87246447190116),\n",
       " (('awl', 'soap'), 17.87246447190116),\n",
       " (('axle', 'cog'), 17.87246447190116),\n",
       " (('baltic', 'provinces'), 17.87246447190116),\n",
       " (('barclays', 'raévskis'), 17.87246447190116),\n",
       " (('bataillon', 'ont'), 17.87246447190116),\n",
       " (('battered', 'tin'), 17.87246447190116),\n",
       " (('beaux', 'yeux'), 17.87246447190116),\n",
       " (('bestial', 'fleeting'), 17.87246447190116),\n",
       " (('bettah', 'conscwiption'), 17.87246447190116),\n",
       " (('bezúbova', 'zakhárino'), 17.87246447190116),\n",
       " (('bleached', 'eyeball'), 17.87246447190116),\n",
       " (('bonheur', 'serait'), 17.87246447190116),\n",
       " (('boss', 'zide'), 17.87246447190116),\n",
       " (('bronnítski', 'wlocki'), 17.87246447190116),\n",
       " (('bunch', 'ravel'), 17.87246447190116),\n",
       " (('bweed', 'wostóvs'), 17.87246447190116),\n",
       " (('cakelike', 'aroma'), 17.87246447190116),\n",
       " (('campo', 'formio'), 17.87246447190116),\n",
       " (('carpeted', 'gangway'), 17.87246447190116),\n",
       " (('catcher', 'whereabouts'), 17.87246447190116),\n",
       " (('causal', 'nexus'), 17.87246447190116),\n",
       " (('cellular', 'tissue'), 17.87246447190116),\n",
       " (('cet', 'individu'), 17.87246447190116),\n",
       " (('chopper', 'plied'), 17.87246447190116),\n",
       " (('cloaks', 'pelisse'), 17.87246447190116),\n",
       " (('cloudless', 'northern'), 17.87246447190116),\n",
       " (('collector', 'alms'), 17.87246447190116),\n",
       " (('collegiate', 'assessor'), 17.87246447190116),\n",
       " (('confute', 'conclusive'), 17.87246447190116),\n",
       " (('connais', 'depuis'), 17.87246447190116),\n",
       " (('consoler', 'viens'), 17.87246447190116),\n",
       " (('consummate', 'coquette'), 17.87246447190116),\n",
       " (('continued', 'abstention'), 17.87246447190116),\n",
       " (('contraire', 'reconnaissante'), 17.87246447190116),\n",
       " (('coral', 'ivory'), 17.87246447190116),\n",
       " (('couler', 'poisonous'), 17.87246447190116),\n",
       " (('countwy', 'honowably'), 17.87246447190116),\n",
       " (('cupful', 'mulled'), 17.87246447190116),\n",
       " (('cushay', 'dormir'), 17.87246447190116),\n",
       " (('cutter', 'breaker'), 17.87246447190116),\n",
       " (('danish', 'chargé'), 17.87246447190116),\n",
       " (('danser', 'qu'), 17.87246447190116),\n",
       " (('das', 'soll'), 17.87246447190116),\n",
       " (('dato', 'guai'), 17.87246447190116),\n",
       " (('debonair', 'gallantry'), 17.87246447190116),\n",
       " (('delving', 'insect'), 17.87246447190116),\n",
       " (('depuis', 'longtemps'), 17.87246447190116),\n",
       " (('dere', 'neffer'), 17.87246447190116),\n",
       " (('diagonal', 'parallelogram'), 17.87246447190116),\n",
       " (('diderot', 'beaumarchais'), 17.87246447190116),\n",
       " (('dilly', 'dally'), 17.87246447190116),\n",
       " (('dio', 'mi'), 17.87246447190116),\n",
       " (('directness', 'appositeness'), 17.87246447190116),\n",
       " (('discordantly', 'arduously'), 17.87246447190116),\n",
       " (('donne', 'gare'), 17.87246447190116),\n",
       " (('douceur', 'secrète'), 17.87246447190116),\n",
       " (('duchénois', 'potier'), 17.87246447190116),\n",
       " (('dwown', 'gwief'), 17.87246447190116),\n",
       " (('ein', 'mann'), 17.87246447190116),\n",
       " (('elias', 'mitrofánych'), 17.87246447190116),\n",
       " (('emblem', 'cognizable'), 17.87246447190116),\n",
       " (('empia', 'wuine'), 17.87246447190116),\n",
       " (('enticingly', 'rhythmical'), 17.87246447190116),\n",
       " (('enwich', 'pwiest'), 17.87246447190116),\n",
       " (('equestrian', 'bracelet'), 17.87246447190116),\n",
       " (('ermólovs', 'plátovs'), 17.87246447190116),\n",
       " (('euer', 'hochgeboren'), 17.87246447190116),\n",
       " (('evewythe', 'wotten'), 17.87246447190116),\n",
       " (('exhort', 'goeth'), 17.87246447190116),\n",
       " (('exultation', 'hosanna'), 17.87246447190116),\n",
       " (('fiew', 'wiz'), 17.87246447190116),\n",
       " (('fingerboard', 'arching'), 17.87246447190116),\n",
       " (('flamme', 'éclairaient'), 17.87246447190116),\n",
       " (('fluid', 'volatile'), 17.87246447190116),\n",
       " (('frise', 'múdrov'), 17.87246447190116),\n",
       " (('frog', 'rabbit'), 17.87246447190116),\n",
       " (('fräulein', 'mathilde'), 17.87246447190116),\n",
       " (('fussy', 'shallowness'), 17.87246447190116),\n",
       " (('garrulously', 'christmastime'), 17.87246447190116),\n",
       " (('genevese', 'tuscans'), 17.87246447190116),\n",
       " (('genug', 'preis'), 17.87246447190116),\n",
       " (('geographic', 'ethnographic'), 17.87246447190116),\n",
       " (('gird', 'loin'), 17.87246447190116),\n",
       " (('gloria', 'mundi'), 17.87246447190116),\n",
       " (('glínka', 'editor'), 17.87246447190116),\n",
       " (('gobelin', 'tapestry'), 17.87246447190116),\n",
       " (('golukhovski', 'bargaining'), 17.87246447190116),\n",
       " (('gott', 'wie'), 17.87246447190116),\n",
       " (('gracieux', 'souverain'), 17.87246447190116),\n",
       " (('gros', 'bataillon'), 17.87246447190116),\n",
       " (('grove', 'undisturbed'), 17.87246447190116),\n",
       " (('guai', 'chi'), 17.87246447190116),\n",
       " (('gulf', 'bothnia'), 17.87246447190116),\n",
       " (('gusto', 'galicia'), 17.87246447190116),\n",
       " (('gwudge', 'theah'), 17.87246447190116),\n",
       " (('généraux', 'states'), 17.87246447190116),\n",
       " (('handicraft', 'gardening'), 17.87246447190116),\n",
       " (('haunch', 'slide'), 17.87246447190116),\n",
       " (('haute', 'estime'), 17.87246447190116),\n",
       " (('helter', 'skelter'), 17.87246447190116),\n",
       " (('henker', 'diese'), 17.87246447190116),\n",
       " (('highest', 'authorities'), 17.87246447190116),\n",
       " (('highnesses', 'cousins'), 17.87246447190116),\n",
       " (('homeopath', 'allopath'), 17.87246447190116),\n",
       " (('hypothesis', 'unconfirmed'), 17.87246447190116),\n",
       " (('idiocy', 'gossner'), 17.87246447190116),\n",
       " (('ilágins', 'kornikí'), 17.87246447190116),\n",
       " (('imperceptible', 'sandy'), 17.87246447190116),\n",
       " (('imprint', 'newness'), 17.87246447190116),\n",
       " (('impulsiveness', 'enthusiast'), 17.87246447190116),\n",
       " (('inflammation', 'bowel'), 17.87246447190116),\n",
       " (('inseparably', 'interconnect'), 17.87246447190116),\n",
       " (('institutes', 'justinian'), 17.87246447190116),\n",
       " (('inviolable', 'bulwark'), 17.87246447190116),\n",
       " (('irredeemably', 'indebted'), 17.87246447190116),\n",
       " (('irína', 'vasílevna'), 17.87246447190116),\n",
       " (('ist', 'nur'), 17.87246447190116),\n",
       " (('k', 'l'), 17.87246447190116),\n",
       " (('kari', 'mala'), 17.87246447190116),\n",
       " (('kishenëv', 'moldavian'), 17.87246447190116),\n",
       " (('kitty', 'odýntsova'), 17.87246447190116),\n",
       " (('krieg', 'muss'), 17.87246447190116),\n",
       " (('kuz', 'mí'), 17.87246447190116),\n",
       " (('kwüdener', 'wead'), 17.87246447190116),\n",
       " (('lambach', 'amstetten'), 17.87246447190116),\n",
       " (('laughing', 'glum'), 17.87246447190116),\n",
       " (('layer', 'slime'), 17.87246447190116),\n",
       " (('lazarchúk', 'bwought'), 17.87246447190116),\n",
       " (('leo', 'tolstoy'), 17.87246447190116),\n",
       " (('likeli', 'wogue'), 17.87246447190116),\n",
       " (('lodi', 'marengo'), 17.87246447190116),\n",
       " (('loophole', 'blockhouse'), 17.87246447190116),\n",
       " (('loquacious', 'talker'), 17.87246447190116),\n",
       " (('lubomírski', 'bronnítski'), 17.87246447190116),\n",
       " (('lvóvich', 'púshkin'), 17.87246447190116),\n",
       " (('lyrical', 'rhapsody'), 17.87246447190116),\n",
       " (('majesties', 'highnesses'), 17.87246447190116),\n",
       " (('malefactor', 'mitigate'), 17.87246447190116),\n",
       " (('mameluke', 'rustan'), 17.87246447190116),\n",
       " (('manna', 'seekers'), 17.87246447190116),\n",
       " (('martinist', 'novíkov'), 17.87246447190116),\n",
       " (('mast', 'rigging'), 17.87246447190116),\n",
       " (('matrëshka', 'vivandière'), 17.87246447190116),\n",
       " (('medýn', 'yukhnóv'), 17.87246447190116),\n",
       " (('mein', 'weib'), 17.87246447190116),\n",
       " (('memento', 'mori'), 17.87246447190116),\n",
       " (('merrymake', 'somberly'), 17.87246447190116),\n",
       " (('mi', 'dato'), 17.87246447190116),\n",
       " (('mindful', 'uprightness'), 17.87246447190116),\n",
       " (('misspell', 'punctuation'), 17.87246447190116),\n",
       " (('mmm', 'ar'), 17.87246447190116),\n",
       " (('montmorencys', 'rohans'), 17.87246447190116),\n",
       " (('moss', 'ivy'), 17.87246447190116),\n",
       " (('movable', 'trough'), 17.87246447190116),\n",
       " (('moyka', 'canal'), 17.87246447190116),\n",
       " (('mucius', 'scaevola'), 17.87246447190116),\n",
       " (('muss', 'raum'), 17.87246447190116),\n",
       " (('muter', 'kaská'), 17.87246447190116),\n",
       " (('mí', 'ch'), 17.87246447190116),\n",
       " (('múdrov', 'diagnose'), 17.87246447190116),\n",
       " (('neffer', 'gase'), 17.87246447190116),\n",
       " (('ni', 'loi'), 17.87246447190116),\n",
       " (('noblesse', 'paraissent'), 17.87246447190116),\n",
       " (('nonhuman', 'criterion'), 17.87246447190116),\n",
       " (('noonday', 'reed'), 17.87246447190116),\n",
       " (('northerly', 'southerly'), 17.87246447190116),\n",
       " (('nos', 'alliés'), 17.87246447190116),\n",
       " (('nymphe', 'effrayée'), 17.87246447190116),\n",
       " (('ober', 'hofmarschal'), 17.87246447190116),\n",
       " (('offahd', 'waise'), 17.87246447190116),\n",
       " (('ont', 'toujour'), 17.87246447190116),\n",
       " (('op', 'plood'), 17.87246447190116),\n",
       " (('p', 'q'), 17.87246447190116),\n",
       " (('pagode', 'chinoise'), 17.87246447190116),\n",
       " (('paraissent', 'être'), 17.87246447190116),\n",
       " (('paraphrase', 'restatement'), 17.87246447190116),\n",
       " (('parce', 'manqué'), 17.87246447190116),\n",
       " (('peaceably', 'harmlessly'), 17.87246447190116),\n",
       " (('perdere', 'dementat'), 17.87246447190116),\n",
       " (('permutation', 'plotting'), 17.87246447190116),\n",
       " (('personen', 'achtung'), 17.87246447190116),\n",
       " (('philology', 'geology'), 17.87246447190116),\n",
       " (('pistil', 'fertilize'), 17.87246447190116),\n",
       " (('placid', 'temperament'), 17.87246447190116),\n",
       " (('pleasurable', 'exhilarate'), 17.87246447190116),\n",
       " (('plod', 'vainglorious'), 17.87246447190116),\n",
       " (('plátovs', 'milorádoviches'), 17.87246447190116),\n",
       " (('polemic', 'fain'), 17.87246447190116),\n",
       " (('posen', 'thorn'), 17.87246447190116),\n",
       " (('posthouse', 'stationmaster'), 17.87246447190116),\n",
       " (('potier', 'sorbonne'), 17.87246447190116),\n",
       " (('powerfully', 'seductive'), 17.87246447190116),\n",
       " (('predilection', 'bacchus'), 17.87246447190116),\n",
       " (('preen', 'plumage'), 17.87246447190116),\n",
       " (('preis', 'geben'), 17.87246447190116),\n",
       " (('principally', 'unnaturalness'), 17.87246447190116),\n",
       " (('privat', 'personen'), 17.87246447190116),\n",
       " (('prokhór', 'ignátych'), 17.87246447190116),\n",
       " (('présnya', 'podnovínsk'), 17.87246447190116),\n",
       " (('pua', 'fihst'), 17.87246447190116),\n",
       " (('punctuation', 'unsoundly'), 17.87246447190116),\n",
       " (('péché', 'miséricorde'), 17.87246447190116),\n",
       " (('quarti', 'logement'), 17.87246447190116),\n",
       " (('quartier', 'quarti'), 17.87246447190116),\n",
       " (('quos', 'vult'), 17.87246447190116),\n",
       " (('radzivílov', 'natalia'), 17.87246447190116),\n",
       " (('rancor', 'unspent'), 17.87246447190116),\n",
       " (('raum', 'verlegt'), 17.87246447190116),\n",
       " (('raévskis', 'ermólovs'), 17.87246447190116),\n",
       " (('record', 'annal'), 17.87246447190116),\n",
       " (('rescind', 'premonition'), 17.87246447190116),\n",
       " (('reticent', 'taciturnity'), 17.87246447190116),\n",
       " (('robespierre', 'behead'), 17.87246447190116),\n",
       " (('safi', 'muter'), 17.87246447190116),\n",
       " (('sailing', 'unveil'), 17.87246447190116),\n",
       " (('sans', 'reproche'), 17.87246447190116),\n",
       " (('savor', 'juiciness'), 17.87246447190116),\n",
       " (('schon', 'fleissig'), 17.87246447190116),\n",
       " (('scour', 'countryside'), 17.87246447190116),\n",
       " (('semicircular', 'façade'), 17.87246447190116),\n",
       " (('sen', 'couler'), 17.87246447190116),\n",
       " (('seruvaru', 'sedyablyaka'), 17.87246447190116),\n",
       " (('sic', 'transit'), 17.87246447190116),\n",
       " (('silken', 'hanging'), 17.87246447190116),\n",
       " (('sistine', 'madonna'), 17.87246447190116),\n",
       " (('smithereen', 'install'), 17.87246447190116),\n",
       " (('snuggle', 'bedclothe'), 17.87246447190116),\n",
       " (('soll', 'mein'), 17.87246447190116),\n",
       " (('sombre', 'retraite'), 17.87246447190116),\n",
       " (('somme', 'mackés'), 17.87246447190116),\n",
       " (('spectacled', 'wigless'), 17.87246447190116),\n",
       " (('spray', 'juniper'), 17.87246447190116),\n",
       " (('stabbing', 'hacking'), 17.87246447190116),\n",
       " (('starvation', 'disintegrate'), 17.87246447190116),\n",
       " (('steins', 'armfeldts'), 17.87246447190116),\n",
       " (('stoppage', 'congestion'), 17.87246447190116),\n",
       " (('straits', 'dover'), 17.87246447190116),\n",
       " (('stromílova', 'dmítrovsk'), 17.87246447190116),\n",
       " (('sufferer', 'postulant'), 17.87246447190116),\n",
       " (('supernaturally', 'impotent'), 17.87246447190116),\n",
       " (('tableaux', 'vivant'), 17.87246447190116),\n",
       " (('theft', 'forgery'), 17.87246447190116),\n",
       " (('theoretical', 'treatise'), 17.87246447190116),\n",
       " (('tilting', 'keg'), 17.87246447190116),\n",
       " (('tittle', 'tattle'), 17.87246447190116),\n",
       " (('tolstoi', 'contents'), 17.87246447190116),\n",
       " (('tolstoy', 'tolstoi'), 17.87246447190116),\n",
       " (('toujour', 'raison'), 17.87246447190116),\n",
       " (('transgression', 'iniquity'), 17.87246447190116),\n",
       " (('transit', 'gloria'), 17.87246447190116),\n",
       " (('trata', 'tat'), 17.87246447190116),\n",
       " (('trouvez', 'là'), 17.87246447190116),\n",
       " (('tss', 'tt'), 17.87246447190116),\n",
       " (('tuscans', 'romans'), 17.87246447190116),\n",
       " (('tutti', 'quanti'), 17.87246447190116),\n",
       " (('unabashed', 'meditative'), 17.87246447190116),\n",
       " (('unborn', 'babe'), 17.87246447190116),\n",
       " (('unchangingly', 'unselfishly'), 17.87246447190116),\n",
       " (('uniformed', 'besashe'), 17.87246447190116),\n",
       " (('vert', 'galant'), 17.87246447190116),\n",
       " (('vespers', 'matins'), 17.87246447190116),\n",
       " (('vien', 'consoler'), 17.87246447190116),\n",
       " (('vif', 'seruvaru'), 17.87246447190116),\n",
       " (('vight', 'tr'), 17.87246447190116),\n",
       " (('vis', 'inertiæ'), 17.87246447190116),\n",
       " (('vivarika', 'vif'), 17.87246447190116),\n",
       " (('vult', 'perdere'), 17.87246447190116),\n",
       " (('wasp', 'butterfly'), 17.87246447190116),\n",
       " (('wead', 'bwethwen'), 17.87246447190116),\n",
       " (('weceive', 'evewyone'), 17.87246447190116),\n",
       " (('weconciliation', 'pwoceed'), 17.87246447190116),\n",
       " (('wefuse', 'weconciliation'), 17.87246447190116),\n",
       " (('wegular', 'bwick'), 17.87246447190116),\n",
       " (('wetweate', 'wetweating'), 17.87246447190116),\n",
       " (('wie', 'naiv'), 17.87246447190116),\n",
       " (('wobbe', 'tweasuwy'), 17.87246447190116),\n",
       " (('woodwork', 'unbuttressed'), 17.87246447190116),\n",
       " (('wotten', 'howwible'), 17.87246447190116),\n",
       " (('york', 'america'), 17.87246447190116),\n",
       " (('zum', 'henker'), 17.87246447190116),\n",
       " (('zweck', 'ist'), 17.87246447190116),\n",
       " (('âme', 'trop'), 17.87246447190116),\n",
       " (('état', 'généraux'), 17.87246447190116),\n",
       " (('abstiens', 'toi'), 16.87246447190116),\n",
       " (('accompaniment', 'knocking'), 16.87246447190116),\n",
       " (('adhere', 'officious'), 16.87246447190116),\n",
       " (('afterglow', 'sunset'), 16.87246447190116),\n",
       " (('alexanders', 'luthers'), 16.87246447190116),\n",
       " (('alexandre', 'russie'), 16.87246447190116),\n",
       " (('alexéevna', 'idiocy'), 16.87246447190116),\n",
       " (('allay', 'cushay'), 16.87246447190116),\n",
       " (('amalek', 'gideon'), 16.87246447190116),\n",
       " (('amie', 'venue'), 16.87246447190116),\n",
       " (('ansicht', 'kann'), 16.87246447190116),\n",
       " (('appetizing', 'nourishing'), 16.87246447190116),\n",
       " (('arc', 'amazon'), 16.87246447190116),\n",
       " (('arched', 'spatter'), 16.87246447190116),\n",
       " (('ash', 'linstock'), 16.87246447190116),\n",
       " (('asiatique', 'aux'), 16.87246447190116),\n",
       " (('astonished', 'tearless'), 16.87246447190116),\n",
       " (('austere', 'gibe'), 16.87246447190116),\n",
       " (('aux', 'innombrable'), 16.87246447190116),\n",
       " (('baden', 'weimar'), 16.87246447190116),\n",
       " (('bal', 'machève'), 16.87246447190116),\n",
       " (('barbarism', 'despotism'), 16.87246447190116),\n",
       " (('basket', 'panins'), 16.87246447190116),\n",
       " (('behead', 'despot'), 16.87246447190116),\n",
       " (('bennigsens', 'wintzingerodes'), 16.87246447190116),\n",
       " (('besprinkle', 'powdery'), 16.87246447190116),\n",
       " (('betrayal', 'bourbon'), 16.87246447190116),\n",
       " (('bile', 'accumulate'), 16.87246447190116),\n",
       " (('bisect', 'amphitheater'), 16.87246447190116),\n",
       " (('blooded', 'grown'), 16.87246447190116),\n",
       " (('bluntness', 'geniality'), 16.87246447190116),\n",
       " (('bremen', 'hamburg'), 16.87246447190116),\n",
       " (('bronnítskis', 'wintzingerodes'), 16.87246447190116),\n",
       " (('brumaire', 'imposture'), 16.87246447190116),\n",
       " (('bumblebee', 'wasp'), 16.87246447190116),\n",
       " (('bwinge', 'wobber'), 16.87246447190116),\n",
       " (('bwother', 'gwown'), 16.87246447190116),\n",
       " (('bykov', 'rat'), 16.87246447190116),\n",
       " (('cameo', 'laocoön'), 16.87246447190116),\n",
       " (('capitale', 'asiatique'), 16.87246447190116),\n",
       " (('capless', 'disheveled'), 16.87246447190116),\n",
       " (('celui', 'devait'), 16.87246447190116),\n",
       " (('charcoal', 'flake'), 16.87246447190116),\n",
       " (('chemistry', 'botany'), 16.87246447190116),\n",
       " (('childishly', 'rash'), 16.87246447190116),\n",
       " (('coarseness', 'bluntness'), 16.87246447190116),\n",
       " (('college', 'zealously'), 16.87246447190116),\n",
       " (('comprenez', 'rien'), 16.87246447190116),\n",
       " (('confluence', 'rivers'), 16.87246447190116),\n",
       " (('consciou', 'brink'), 16.87246447190116),\n",
       " (('cooperation', 'coincident'), 16.87246447190116),\n",
       " (('cornfield', 'intersperse'), 16.87246447190116),\n",
       " (('corpulent', 'flaccid'), 16.87246447190116),\n",
       " (('covered', 'gig'), 16.87246447190116),\n",
       " (('crudele', 'affetto'), 16.87246447190116),\n",
       " (('custodian', 'enforce'), 16.87246447190116),\n",
       " (('dangereux', 'voisinage'), 16.87246447190116),\n",
       " (('danzig', 'königsberg'), 16.87246447190116),\n",
       " (('dat', 'liff'), 16.87246447190116),\n",
       " (('dat', 'zis'), 16.87246447190116),\n",
       " (('deck', 'mast'), 16.87246447190116),\n",
       " (('den', 'feind'), 16.87246447190116),\n",
       " (('den', 'verlust'), 16.87246447190116),\n",
       " (('deride', 'helplessness'), 16.87246447190116),\n",
       " (('despotism', 'inscribe'), 16.87246447190116),\n",
       " (('di', 'ra'), 16.87246447190116),\n",
       " (('di', 'ri'), 16.87246447190116),\n",
       " (('diese', 'russen'), 16.87246447190116),\n",
       " (('disputing', 'arguing'), 16.87246447190116),\n",
       " (('doleful', 'nocturne'), 16.87246447190116),\n",
       " (('donc', 'enfin'), 16.87246447190116),\n",
       " (('dwagge', 'wegiment'), 16.87246447190116),\n",
       " (('elevation', 'pedestal'), 16.87246447190116),\n",
       " (('eloquence', 'unrestrained'), 16.87246447190116),\n",
       " (('emptiness', 'desolation'), 16.87246447190116),\n",
       " (('entitle', 'majesties'), 16.87246447190116),\n",
       " (('exalted', 'patroness'), 16.87246447190116),\n",
       " (('expectancy', 'monologue'), 16.87246447190116),\n",
       " (('exult', 'austerity'), 16.87246447190116),\n",
       " (('faded', 'fading'), 16.87246447190116),\n",
       " (('feind', 'zu'), 16.87246447190116),\n",
       " (('figner', 'seslávin'), 16.87246447190116),\n",
       " (('finely', 'wrought'), 16.87246447190116),\n",
       " (('floppy', 'brim'), 16.87246447190116),\n",
       " (('foretaste', 'artistic'), 16.87246447190116),\n",
       " (('forsaken', 'lyre'), 16.87246447190116),\n",
       " (('furieuse', 'contre'), 16.87246447190116),\n",
       " (('futility', 'cunne'), 16.87246447190116),\n",
       " (('galant', 'triple'), 16.87246447190116),\n",
       " (('ganze', 'welt'), 16.87246447190116),\n",
       " (('garnish', 'joint'), 16.87246447190116),\n",
       " (('gas', 'car'), 16.87246447190116),\n",
       " (('gervinus', 'schlosser'), 16.87246447190116),\n",
       " (('gewiss', 'nicht'), 16.87246447190116),\n",
       " (('gideon', 'midian'), 16.87246447190116),\n",
       " (('glare', 'savagely'), 16.87246447190116),\n",
       " (('gossner', 'tatáwinova'), 16.87246447190116),\n",
       " (('gouvernement', 'français'), 16.87246447190116),\n",
       " (('graze', 'posthouse'), 16.87246447190116),\n",
       " (('grenadiers', 'podolian'), 16.87246447190116),\n",
       " (('gueule', 'engrêlé'), 16.87246447190116),\n",
       " (('gut', 'morgen'), 16.87246447190116),\n",
       " (('hallo', 'gwíska'), 16.87246447190116),\n",
       " (('helpmeet', 'masonry'), 16.87246447190116),\n",
       " (('henri', 'quatre'), 16.87246447190116),\n",
       " (('hieroglyphic', 'hieroglyph'), 16.87246447190116),\n",
       " (('hofs', 'kriegs'), 16.87246447190116),\n",
       " (('hovel', 'sívtsev'), 16.87246447190116),\n",
       " (('ich', 'nicht'), 16.87246447190116),\n",
       " (('immaculate', 'brand'), 16.87246447190116),\n",
       " (('imposture', 'swindle'), 16.87246447190116),\n",
       " (('impregnable', 'malta'), 16.87246447190116),\n",
       " (('imprudent', 'overresist'), 16.87246447190116),\n",
       " (('impute', 'nonreceipt'), 16.87246447190116),\n",
       " (('incursion', 'barbarian'), 16.87246447190116),\n",
       " (('indecent', 'saw'), 16.87246447190116),\n",
       " (('ingratiating', 'appealing'), 16.87246447190116),\n",
       " (('inimitable', 'unteachable'), 16.87246447190116),\n",
       " (('initiator', 'settlement'), 16.87246447190116),\n",
       " (('innombrable', 'église'), 16.87246447190116),\n",
       " (('inquisitively', 'alertly'), 16.87246447190116),\n",
       " (('invalidity', 'contention'), 16.87246447190116),\n",
       " (('jelly', 'turk'), 16.87246447190116),\n",
       " (('joan', 'arc'), 16.87246447190116),\n",
       " (('jocose', 'chigírin'), 16.87246447190116),\n",
       " (('juan', 'serpent'), 16.87246447190116),\n",
       " (('jug', 'basin'), 16.87246447190116),\n",
       " (('kann', 'ich'), 16.87246447190116),\n",
       " (('karabákh', 'ukranian'), 16.87246447190116),\n",
       " (('karpúshka', 'jeered'), 16.87246447190116),\n",
       " (('kriegs', 'wurst'), 16.87246447190116),\n",
       " (('kámmer', 'kollézski'), 16.87246447190116),\n",
       " (('kúdrino', 'nikítski'), 16.87246447190116),\n",
       " (('l', 'm'), 16.87246447190116),\n",
       " (('legend', 'alësha'), 16.87246447190116),\n",
       " (('lemonade', 'spiral'), 16.87246447190116),\n",
       " (('lenten', 'fare'), 16.87246447190116),\n",
       " (('liebchen', 'prater'), 16.87246447190116),\n",
       " (('machève', 'royauté'), 16.87246447190116),\n",
       " (('madcap', 'playmate'), 16.87246447190116),\n",
       " (('mala', 'tafa'), 16.87246447190116),\n",
       " (('malbrook', 'va'), 16.87246447190116),\n",
       " (('malevolently', 'hypocrite'), 16.87246447190116),\n",
       " (('mann', 'zu'), 16.87246447190116),\n",
       " (('marauding', 'insubordination'), 16.87246447190116),\n",
       " (('martiale', 'bwinge'), 16.87246447190116),\n",
       " (('mathilde', 'weally'), 16.87246447190116),\n",
       " (('mechanical', 'disruption'), 16.87246447190116),\n",
       " (('melyukóva', 'broadly'), 16.87246447190116),\n",
       " (('mio', 'crudele'), 16.87246447190116),\n",
       " (('mokhaváya', 'kutáfyev'), 16.87246447190116),\n",
       " (('multiplicity', 'complexity'), 16.87246447190116),\n",
       " (('museum', 'belabor'), 16.87246447190116),\n",
       " (('mysteries', 'héloïse'), 16.87246447190116),\n",
       " (('na', 'tasha'), 16.87246447190116),\n",
       " (('na', 'tásha'), 16.87246447190116),\n",
       " (('natálya', 'ilyníchna'), 16.87246447190116),\n",
       " (('necessarily', 'untrustworthy'), 16.87246447190116),\n",
       " (('negligence', 'inefficiency'), 16.87246447190116),\n",
       " (('nicht', 'genug'), 16.87246447190116),\n",
       " (('nikítski', 'présnya'), 16.87246447190116),\n",
       " (('nikólski', 'tverskóy'), 16.87246447190116),\n",
       " (('non', 'dite'), 16.87246447190116),\n",
       " (('nourishing', 'saltpeter'), 16.87246447190116),\n",
       " (('nur', 'den'), 16.87246447190116),\n",
       " (('obstinate', 'contradicting'), 16.87246447190116),\n",
       " (('oscillating', 'limitless'), 16.87246447190116),\n",
       " (('oublie', 'celui'), 16.87246447190116),\n",
       " (('pacific', 'conservative'), 16.87246447190116),\n",
       " (('patriarch', 'ponds'), 16.87246447190116),\n",
       " (('patriotisme', 'féroce'), 16.87246447190116),\n",
       " (('pear', 'granny'), 16.87246447190116),\n",
       " (('pedantic', 'preceptor'), 16.87246447190116),\n",
       " (('petisenfan', 'allay'), 16.87246447190116),\n",
       " (('petit', 'peu'), 16.87246447190116),\n",
       " (('peu', 'amoureuse'), 16.87246447190116),\n",
       " (('physiological', 'psychological'), 16.87246447190116),\n",
       " (('picturesqueness', 'chimney'), 16.87246447190116),\n",
       " (('playfulness', 'mourn'), 16.87246447190116),\n",
       " (('plus', 'séduisante'), 16.87246447190116),\n",
       " (('plus', 'victorieuse'), 16.87246447190116),\n",
       " (('postulant', 'accompaniment'), 16.87246447190116),\n",
       " (('pre', 'eminence'), 16.87246447190116),\n",
       " (('preferred', 'listening'), 16.87246447190116),\n",
       " (('pronged', 'fork'), 16.87246447190116),\n",
       " (('proverbe', 'jerome'), 16.87246447190116),\n",
       " (('przazdziecka', 'rivalry'), 16.87246447190116),\n",
       " (('quarante', 'deux'), 16.87246447190116),\n",
       " (('quarante', 'mille'), 16.87246447190116),\n",
       " (('quench', 'thirst'), 16.87246447190116),\n",
       " (('quoique', 'étranger'), 16.87246447190116),\n",
       " (('quoit', 'skittle'), 16.87246447190116),\n",
       " (('rend', 'exult'), 16.87246447190116),\n",
       " (('rente', 'sur'), 16.87246447190116),\n",
       " (('repacked', 'pressed'), 16.87246447190116),\n",
       " (('retribution', 'recompense'), 16.87246447190116),\n",
       " (('ri', 'di'), 16.87246447190116),\n",
       " (('robe', 'courte'), 16.87246447190116),\n",
       " (('royalist', 'emigrant'), 16.87246447190116),\n",
       " (('ruby', 'earring'), 16.87246447190116),\n",
       " (('russen', 'kaiser'), 16.87246447190116),\n",
       " (('rusty', 'hinge'), 16.87246447190116),\n",
       " (('sage', 'incontestably'), 16.87246447190116),\n",
       " (('sauce', 'sour'), 16.87246447190116),\n",
       " (('schnapps', 'rath'), 16.87246447190116),\n",
       " (('schwächen', 'kann'), 16.87246447190116),\n",
       " (('scientific', 'enunciation'), 16.87246447190116),\n",
       " (('scoundrels', 'blackguards'), 16.87246447190116),\n",
       " (('scruple', 'depose'), 16.87246447190116),\n",
       " (('semiliterate', 'foreman'), 16.87246447190116),\n",
       " (('sera', 'jamais'), 16.87246447190116),\n",
       " (('shallow', 'braggart'), 16.87246447190116),\n",
       " (('showman', 'exhibit'), 16.87246447190116),\n",
       " (('singlehande', 'poorhouse'), 16.87246447190116),\n",
       " (('sneer', 'malevolently'), 16.87246447190116),\n",
       " (('soyez', 'tranquille'), 16.87246447190116),\n",
       " (('stepán', 'stepánovich'), 16.87246447190116),\n",
       " (('stepán', 'stepánych'), 16.87246447190116),\n",
       " (('strictness', 'assiduity'), 16.87246447190116),\n",
       " (('strógonov', 'richly'), 16.87246447190116),\n",
       " (('stwaight', 'wobbe'), 16.87246447190116),\n",
       " (('subdue', 'chant'), 16.87246447190116),\n",
       " (('sukhtélen', 'failing'), 16.87246447190116),\n",
       " (('suppert', 'roguet'), 16.87246447190116),\n",
       " (('surly', 'ruder'), 16.87246447190116),\n",
       " (('sushchévski', 'rogózhski'), 16.87246447190116),\n",
       " (('sweden', 'practically'), 16.87246447190116),\n",
       " (('sívtsev', 'vrazhók'), 16.87246447190116),\n",
       " (('tafa', 'lafa'), 16.87246447190116),\n",
       " (('tafa', 'safi'), 16.87246447190116),\n",
       " (('tendre', 'mélancholie'), 16.87246447190116),\n",
       " (('thankful', 'bounty'), 16.87246447190116),\n",
       " (('thighbone', 'extract'), 16.87246447190116),\n",
       " (('thirst', 'greediness'), 16.87246447190116),\n",
       " (('thorn', 'danzig'), 16.87246447190116),\n",
       " (('thrashing', 'dislocate'), 16.87246447190116),\n",
       " (('thriving', 'touchingly'), 16.87246447190116),\n",
       " (('thwash', 'scoundwel'), 16.87246447190116),\n",
       " (('topsy', 'turvy'), 16.87246447190116),\n",
       " (('tranquility', 'congress'), 16.87246447190116),\n",
       " (('tribe', 'caucasus'), 16.87246447190116),\n",
       " (('trooper', 'nikítenko'), 16.87246447190116),\n",
       " (('tuesdays', 'saturdays'), 16.87246447190116),\n",
       " (('twansport', 'infantwy'), 16.87246447190116),\n",
       " (('typhus', 'pesthouse'), 16.87246447190116),\n",
       " (('unattractive', 'martyrlike'), 16.87246447190116),\n",
       " (('unconciousness', 'oblivion'), 16.87246447190116),\n",
       " (('underfoot', 'provender'), 16.87246447190116),\n",
       " (('undivided', 'tensely'), 16.87246447190116),\n",
       " (('unintentional', 'superciliousness'), 16.87246447190116),\n",
       " (('unmask', 'deceiver'), 16.87246447190116),\n",
       " (('unplaited', 'replaite'), 16.87246447190116),\n",
       " (('unsoldierly', 'comic'), 16.87246447190116),\n",
       " (('unsymmetrically', 'gnarled'), 16.87246447190116),\n",
       " (('uprightness', 'meekness'), 16.87246447190116),\n",
       " (('va', 'ga'), 16.87246447190116),\n",
       " (('vainglorious', 'ambitious'), 16.87246447190116),\n",
       " (('vehement', 'scolded'), 16.87246447190116),\n",
       " (('vengeance', 'killing'), 16.87246447190116),\n",
       " (('verlegt', 'werden'), 16.87246447190116),\n",
       " (('vernal', 'vesénya'), 16.87246447190116),\n",
       " (('vinegar', 'hoffman'), 16.87246447190116),\n",
       " (('vivacity', 'shiftiness'), 16.87246447190116),\n",
       " (('volkónsky', 'strógonov'), 16.87246447190116),\n",
       " (('votre', 'intimité'), 16.87246447190116),\n",
       " (('votre', 'victoire'), 16.87246447190116),\n",
       " (('walnut', 'almond'), 16.87246447190116),\n",
       " (('wegiment', 'fwo'), 16.87246447190116),\n",
       " (('weib', 'werden'), 16.87246447190116),\n",
       " (('wield', 'unlawful'), 16.87246447190116),\n",
       " (('wool', 'canvas'), 16.87246447190116),\n",
       " (('wurst', 'schnapps'), 16.87246447190116),\n",
       " (('württembergers', 'mecklenburgers'), 16.87246447190116),\n",
       " (('yeux', 'sardinian'), 16.87246447190116),\n",
       " (('zavárzinsk', 'thicket'), 16.87246447190116),\n",
       " (('zu', 'schwächen'), 16.87246447190116),\n",
       " (('zu', 'sein'), 16.87246447190116),\n",
       " (('accomplishment', 'stupendous'), 16.287501971180006),\n",
       " (('adèle', 'tempt'), 16.287501971180006),\n",
       " (('alexéy', 'petróvich'), 16.287501971180006),\n",
       " (('alleged', 'descendant'), 16.287501971180006),\n",
       " (('alte', 'herr'), 16.287501971180006),\n",
       " (('amelie', 'exquisite'), 16.287501971180006),\n",
       " (('anniversary', 'coronation'), 16.287501971180006),\n",
       " (('aspen', 'undergrowth'), 16.287501971180006),\n",
       " (('authentic', 'scotch'), 16.287501971180006),\n",
       " (('avec', 'ordre'), 16.287501971180006),\n",
       " (('axis', 'chopper'), 16.287501971180006),\n",
       " (('azóv', 'podólsk'), 16.287501971180006),\n",
       " (('basil', 'beatified'), 16.287501971180006),\n",
       " (('beatified', 'borovítski'), 16.287501971180006),\n",
       " (('beatified', 'raze'), 16.287501971180006),\n",
       " (('blunt', 'jagged'), 16.287501971180006),\n",
       " (('bondage', 'glorify'), 16.287501971180006),\n",
       " (('booby', 'refill'), 16.287501971180006),\n",
       " (('botany', 'zoology'), 16.287501971180006),\n",
       " (('bout', 'rimés'), 16.287501971180006),\n",
       " (('brindle', 'cow'), 16.287501971180006),\n",
       " (('bureau', 'screened'), 16.287501971180006),\n",
       " (('burglary', 'incendiarism'), 16.287501971180006),\n",
       " (('bweak', 'thwough'), 16.287501971180006),\n",
       " (('caesar', 'commentaries'), 16.287501971180006),\n",
       " (('caution', 'malcontent'), 16.287501971180006),\n",
       " (('charmante', 'aussi'), 16.287501971180006),\n",
       " (('cheeked', 'chekmár'), 16.287501971180006),\n",
       " (('cherry', 'alder'), 16.287501971180006),\n",
       " (('childbearing', 'languor'), 16.287501971180006),\n",
       " (('chinese', 'handleless'), 16.287501971180006),\n",
       " (('chinese', 'pagoda'), 16.287501971180006),\n",
       " (('christmastime', 'deem'), 16.287501971180006),\n",
       " (('citadel', 'barricade'), 16.287501971180006),\n",
       " (('classically', 'mold'), 16.287501971180006),\n",
       " (('comme', 'cet'), 16.287501971180006),\n",
       " (('comparative', 'philology'), 16.287501971180006),\n",
       " (('compensate', 'expenditure'), 16.287501971180006),\n",
       " (('compulsion', 'correspondingly'), 16.287501971180006),\n",
       " (('coquetry', 'ulterior'), 16.287501971180006),\n",
       " (('cordiality', 'goodhearte'), 16.287501971180006),\n",
       " (('coronation', 'milan'), 16.287501971180006),\n",
       " (('craftsman', 'industrious'), 16.287501971180006),\n",
       " (('cricket', 'chirp'), 16.287501971180006),\n",
       " (('cricket', 'grasshopper'), 16.287501971180006),\n",
       " (('cucumber', 'strawberry'), 16.287501971180006),\n",
       " (('da', 'gas'), 16.287501971180006),\n",
       " (('denís', 'davýdov'), 16.287501971180006),\n",
       " (('descendant', 'rúrik'), 16.287501971180006),\n",
       " (('desirable', 'imitator'), 16.287501971180006),\n",
       " (('device', 'analogy'), 16.287501971180006),\n",
       " (('diable', 'allait'), 16.287501971180006),\n",
       " (('diable', 'voyon'), 16.287501971180006),\n",
       " (('dishonesty', 'irregularity'), 16.287501971180006),\n",
       " (('diversion', 'greece'), 16.287501971180006),\n",
       " (('donor', 'contribute'), 16.287501971180006),\n",
       " (('doubly', 'mined'), 16.287501971180006),\n",
       " (('dram', 'da'), 16.287501971180006),\n",
       " (('dreamer', 'satirist'), 16.287501971180006),\n",
       " (('dripping', 'microscopic'), 16.287501971180006),\n",
       " (('dun', 'colored'), 16.287501971180006),\n",
       " (('dutch', 'belgians'), 16.287501971180006),\n",
       " (('dwink', 'dwown'), 16.287501971180006),\n",
       " (('eminence', 'women'), 16.287501971180006),\n",
       " (('ethnographic', 'economic'), 16.287501971180006),\n",
       " (('exaggerate', 'grasseyement'), 16.287501971180006),\n",
       " (('faithfully', 'unchangingly'), 16.287501971180006),\n",
       " (('falcon', 'platósha'), 16.287501971180006),\n",
       " (('fatale', 'redoute'), 16.287501971180006),\n",
       " (('fera', 'danser'), 16.287501971180006),\n",
       " (('firewood', 'network'), 16.287501971180006),\n",
       " (('flatten', 'pancake'), 16.287501971180006),\n",
       " (('flaunt', 'dreary'), 16.287501971180006),\n",
       " (('flustered', 'heated'), 16.287501971180006),\n",
       " (('foh', 'dwink'), 16.287501971180006),\n",
       " (('foi', 'ni'), 16.287501971180006),\n",
       " (('footmen', 'livery'), 16.287501971180006),\n",
       " (('forefather', 'adam'), 16.287501971180006),\n",
       " (('front', 'bookcase'), 16.287501971180006),\n",
       " (('fruschtique', 'fóka'), 16.287501971180006),\n",
       " (('genoa', 'lucca'), 16.287501971180006),\n",
       " (('gilt', 'edged'), 16.287501971180006),\n",
       " (('gingerbread', 'poppyseed'), 16.287501971180006),\n",
       " (('goot', 'vish'), 16.287501971180006),\n",
       " (('grandiloquently', 'saltánov'), 16.287501971180006),\n",
       " (('hastening', 'rectify'), 16.287501971180006),\n",
       " (('husky', 'melodious'), 16.287501971180006),\n",
       " (('impetuosity', 'catchplay'), 16.287501971180006),\n",
       " (('incredibly', 'wretche'), 16.287501971180006),\n",
       " (('individuality', 'originality'), 16.287501971180006),\n",
       " (('infest', 'lice'), 16.287501971180006),\n",
       " (('intimité', 'avec'), 16.287501971180006),\n",
       " (('investigation', 'abundantly'), 16.287501971180006),\n",
       " (('italians', 'neapolitans'), 16.287501971180006),\n",
       " (('jamais', 'notre'), 16.287501971180006),\n",
       " (('justly', 'unjustly'), 16.287501971180006),\n",
       " (('khamóvniki', 'unburned'), 16.287501971180006),\n",
       " (('kámenka', 'unfrocked'), 16.287501971180006),\n",
       " (('lament', 'aníska'), 16.287501971180006),\n",
       " (('lance', 'unfolded'), 16.287501971180006),\n",
       " (('literally', 'penny'), 16.287501971180006),\n",
       " (('livery', 'buckled'), 16.287501971180006),\n",
       " (('lordship', 'bishop'), 16.287501971180006),\n",
       " (('loudest', 'confront'), 16.287501971180006),\n",
       " (('maggot', 'gnaw'), 16.287501971180006),\n",
       " (('malice', 'enmity'), 16.287501971180006),\n",
       " (('manqué', 'parole'), 16.287501971180006),\n",
       " (('marengo', 'arcola'), 16.287501971180006),\n",
       " (('markedly', 'chairman'), 16.287501971180006),\n",
       " (('mask', 'unconcern'), 16.287501971180006),\n",
       " (('matthew', 'ermíshin'), 16.287501971180006),\n",
       " (('mecklenburgers', 'spaniards'), 16.287501971180006),\n",
       " (('midian', 'david'), 16.287501971180006),\n",
       " (('mischief', 'maker'), 16.287501971180006),\n",
       " (('moderate', 'amicable'), 16.287501971180006),\n",
       " (('multitude', 'immensity'), 16.287501971180006),\n",
       " (('mumble', 'toothless'), 16.287501971180006),\n",
       " (('máshka', 'woot'), 16.287501971180006),\n",
       " (('nightingale', 'trill'), 16.287501971180006),\n",
       " (('northwesterly', 'portion'), 16.287501971180006),\n",
       " (('notre', 'alliée'), 16.287501971180006),\n",
       " (('notre', 'possibilité'), 16.287501971180006),\n",
       " (('numb', 'stupefy'), 16.287501971180006),\n",
       " (('obsess', 'persistent'), 16.287501971180006),\n",
       " (('obtuseness', 'disarm'), 16.287501971180006),\n",
       " (('oily', 'fiery'), 16.287501971180006),\n",
       " (('organic', 'elemental'), 16.287501971180006),\n",
       " (('originality', 'glínka'), 16.287501971180006),\n",
       " (('outstrip', 'boss'), 16.287501971180006),\n",
       " (('paraît', 'incontestable'), 16.287501971180006),\n",
       " (('percolate', 'sand'), 16.287501971180006),\n",
       " (('plainer', 'unobtrusive'), 16.287501971180006),\n",
       " (('podnovínsk', 'streets'), 16.287501971180006),\n",
       " (('poisonous', 'nourishment'), 16.287501971180006),\n",
       " (('portion', 'thighbone'), 16.287501971180006),\n",
       " (('potëmkins', 'suvórovs'), 16.287501971180006),\n",
       " (('praskóvya', 'sávishna'), 16.287501971180006),\n",
       " (('premises', 'contribute'), 16.287501971180006),\n",
       " (('profligacy', 'illuminism'), 16.287501971180006),\n",
       " (('pseudo', 'healer'), 16.287501971180006),\n",
       " (('pwince', 'andwew'), 16.287501971180006),\n",
       " (('pyramid', 'chessman'), 16.287501971180006),\n",
       " (('púshkin', 'bout'), 16.287501971180006),\n",
       " (('rainy', 'autumnal'), 16.287501971180006),\n",
       " (('rash', 'uncalled'), 16.287501971180006),\n",
       " (('rectify', 'omission'), 16.287501971180006),\n",
       " (('refill', 'reheat'), 16.287501971180006),\n",
       " (('related', 'gist'), 16.287501971180006),\n",
       " (('repetition', 'denial'), 16.287501971180006),\n",
       " (('reviendra', 'marlborough'), 16.287501971180006),\n",
       " (('righteousness', 'strengthening'), 16.287501971180006),\n",
       " (('ripple', 'eddy'), 16.287501971180006),\n",
       " (('rotten', 'maggoty'), 16.287501971180006),\n",
       " (('scantily', 'clad'), 16.287501971180006),\n",
       " (('se', 'peuple'), 16.287501971180006),\n",
       " (('seller', 'buyer'), 16.287501971180006),\n",
       " (('soak', 'underclothe'), 16.287501971180006),\n",
       " (('soaked', 'streaming'), 16.287501971180006),\n",
       " (('solid', 'vault'), 16.287501971180006),\n",
       " (('sonata', 'dussek'), 16.287501971180006),\n",
       " (('spirituous', 'fragrant'), 16.287501971180006),\n",
       " (('splintered', 'portion'), 16.287501971180006),\n",
       " (('spotless', 'noticeably'), 16.287501971180006),\n",
       " (('sprang', 'helter'), 16.287501971180006),\n",
       " (('sprawl', 'unsymmetrically'), 16.287501971180006),\n",
       " (('stem', 'practiced'), 16.287501971180006),\n",
       " (('strawberry', 'veal'), 16.287501971180006),\n",
       " (('stre', 'aspen'), 16.287501971180006),\n",
       " (('superintend', 'placing'), 16.287501971180006),\n",
       " (('suvórovs', 'orlóvs'), 16.287501971180006),\n",
       " (('tawny', 'tint'), 16.287501971180006),\n",
       " (('thwough', 'hundwe'), 16.287501971180006),\n",
       " (('tin', 'font'), 16.287501971180006),\n",
       " (('tint', 'complexion'), 16.287501971180006),\n",
       " (('trader', 'agriculturist'), 16.287501971180006),\n",
       " (('trotter', 'stylish'), 16.287501971180006),\n",
       " (('turrete', 'nunnery'), 16.287501971180006),\n",
       " (('twofold', 'firstly'), 16.287501971180006),\n",
       " (('twy', 'afwaid'), 16.287501971180006),\n",
       " (('twy', 'thwash'), 16.287501971180006),\n",
       " (('twy', 'wobbewy'), 16.287501971180006),\n",
       " (('uncalled', 'ignoble'), 16.287501971180006),\n",
       " (('uninterrupted', 'shaping'), 16.287501971180006),\n",
       " (('uninvited', 'defender'), 16.287501971180006),\n",
       " (('unreal', 'immobility'), 16.287501971180006),\n",
       " (('unsolicited', 'inexplicable'), 16.287501971180006),\n",
       " (('venomously', 'retort'), 16.287501971180006),\n",
       " (('verdure', 'thicken'), 16.287501971180006),\n",
       " (('vesénny', 'vernal'), 16.287501971180006),\n",
       " (('vie', 'cavalier'), 16.287501971180006),\n",
       " (('viens', 'calmer'), 16.287501971180006),\n",
       " (('villier', 'physician'), 16.287501971180006),\n",
       " (('visionary', 'sinful'), 16.287501971180006),\n",
       " (('vocal', 'organ'), 16.287501971180006),\n",
       " (('voluntary', 'contributions'), 16.287501971180006),\n",
       " (('warmed', 'fragrant'), 16.287501971180006),\n",
       " (('washing', 'wharf'), 16.287501971180006),\n",
       " (('witch', 'clown'), 16.287501971180006),\n",
       " (('worldliness', 'senselessness'), 16.287501971180006),\n",
       " (('zen', 'vill'), 16.287501971180006),\n",
       " (('zoology', 'frog'), 16.287501971180006),\n",
       " (('était', 'temp'), 16.287501971180006),\n",
       " (('bélaya', 'tsérkov'), 16.287501971180003),\n",
       " (('frola', 'lavra'), 16.287501971180003),\n",
       " (('maria', 'theresa'), 16.287501971180003),\n",
       " (('abundance', 'housewife'), 15.87246447190116),\n",
       " (('administration', 'devoutly'), 15.87246447190116),\n",
       " (('admirer', 'montesquieu'), 15.87246447190116),\n",
       " (('adonai', 'creator'), 15.87246447190116),\n",
       " (('adoration', 'lubricant'), 15.87246447190116),\n",
       " (('agent', 'nitrogen'), 15.87246447190116),\n",
       " (('aggrandizement', 'antinational'), 15.87246447190116),\n",
       " (('agricultural', 'laborer'), 15.87246447190116),\n",
       " (('allon', 'lui'), 15.87246447190116),\n",
       " (('angling', 'grandson'), 15.87246447190116),\n",
       " (('antónovna', 'narýshkina'), 15.87246447190116),\n",
       " (('approbation', 'schubert'), 15.87246447190116),\n",
       " (('arsenic', 'stealthily'), 15.87246447190116),\n",
       " (('assez', 'fait'), 15.87246447190116),\n",
       " (('astounding', 'egypt'), 15.87246447190116),\n",
       " (('athletic', 'nape'), 15.87246447190116),\n",
       " (('avez', 'fait'), 15.87246447190116),\n",
       " (('bah', 'scurry'), 15.87246447190116),\n",
       " (('baker', 'signboard'), 15.87246447190116),\n",
       " (('bathing', 'liquid'), 15.87246447190116),\n",
       " (('bavarians', 'württembergers'), 15.87246447190116),\n",
       " (('bewitching', 'marquise'), 15.87246447190116),\n",
       " (('blindman', 'bulff'), 15.87246447190116),\n",
       " (('bloated', 'gaunt'), 15.87246447190116),\n",
       " (('bon', 'principe'), 15.87246447190116),\n",
       " (('bonne', 'amie'), 15.87246447190116),\n",
       " (('bugler', 'sount'), 15.87246447190116),\n",
       " (('bump', 'paternity'), 15.87246447190116),\n",
       " (('caesars', 'alexanders'), 15.87246447190116),\n",
       " (('cahd', 'cahd'), 15.87246447190116),\n",
       " (('cardboard', 'queerly'), 15.87246447190116),\n",
       " (('carousal', 'danílov'), 15.87246447190116),\n",
       " (('cat', 'mouse'), 15.87246447190116),\n",
       " (('cheerfulness', 'infectious'), 15.87246447190116),\n",
       " (('chimney', 'stack'), 15.87246447190116),\n",
       " (('chronicler', 'crusade'), 15.87246447190116),\n",
       " (('churn', 'inch'), 15.87246447190116),\n",
       " (('colosseum', 'cabman'), 15.87246447190116),\n",
       " (('commerce', 'craftsmanship'), 15.87246447190116),\n",
       " (('commerce', 'handicraft'), 15.87246447190116),\n",
       " (('compensation', 'mutilation'), 15.87246447190116),\n",
       " (('conclusive', 'evidence'), 15.87246447190116),\n",
       " (('conjugal', 'fidelity'), 15.87246447190116),\n",
       " (('conscientious', 'methodical'), 15.87246447190116),\n",
       " (('contention', 'bastard'), 15.87246447190116),\n",
       " (('conversant', 'unwritten'), 15.87246447190116),\n",
       " (('counter', 'imitation'), 15.87246447190116),\n",
       " (('courtship', 'skeptically'), 15.87246447190116),\n",
       " (('cousinage', 'dangereux'), 15.87246447190116),\n",
       " (('crafty', 'dissolute'), 15.87246447190116),\n",
       " (('creaking', 'corset'), 15.87246447190116),\n",
       " (('cream', 'carrot'), 15.87246447190116),\n",
       " (('creation', 'firmament'), 15.87246447190116),\n",
       " (('crisis', 'convalescent'), 15.87246447190116),\n",
       " (('dangle', 'fragment'), 15.87246447190116),\n",
       " (('deject', 'shun'), 15.87246447190116),\n",
       " (('derogatory', 'manhood'), 15.87246447190116),\n",
       " (('deserter', 'knouted'), 15.87246447190116),\n",
       " (('detonator', 'explode'), 15.87246447190116),\n",
       " (('dictionary', 'unwilling'), 15.87246447190116),\n",
       " (('dimension', 'adhesion'), 15.87246447190116),\n",
       " (('disagree', 'frühstück'), 15.87246447190116),\n",
       " (('dismally', 'rack'), 15.87246447190116),\n",
       " (('dissecting', 'dissecting'), 15.87246447190116),\n",
       " (('dite', 'lui'), 15.87246447190116),\n",
       " (('dites', 'donc'), 15.87246447190116),\n",
       " (('doorpost', 'bowed'), 15.87246447190116),\n",
       " (('dove', 'fable'), 15.87246447190116),\n",
       " (('dowerless', 'orphan'), 15.87246447190116),\n",
       " (('dumb', 'introduction'), 15.87246447190116),\n",
       " (('earnestness', 'tremor'), 15.87246447190116),\n",
       " (('elaborate', 'courtesy'), 15.87246447190116),\n",
       " (('emissary', 'retired'), 15.87246447190116),\n",
       " (('epistles', 'gospels'), 15.87246447190116),\n",
       " (('ethical', 'philosophic'), 15.87246447190116),\n",
       " (('evacuate', 'malta'), 15.87246447190116),\n",
       " (('extract', 'torn'), 15.87246447190116),\n",
       " (('f', 'g'), 15.87246447190116),\n",
       " (('fameuse', 'ville'), 15.87246447190116),\n",
       " (('faraway', 'dreamy'), 15.87246447190116),\n",
       " (('feasible', 'villeneuve'), 15.87246447190116),\n",
       " (('filez', 'filez'), 15.87246447190116),\n",
       " (('finely', 'curved'), 15.87246447190116),\n",
       " (('firework', 'zakret'), 15.87246447190116),\n",
       " (('firmament', 'miracle'), 15.87246447190116),\n",
       " (('flew', 'reckless'), 15.87246447190116),\n",
       " (('foreleg', 'ulyulyulyulyu'), 15.87246447190116),\n",
       " (('formidable', 'wolfhound'), 15.87246447190116),\n",
       " (('founder', 'sect'), 15.87246447190116),\n",
       " (('franc', 'pension'), 15.87246447190116),\n",
       " (('franz', 'thaler'), 15.87246447190116),\n",
       " (('français', 'sont'), 15.87246447190116),\n",
       " (('fëdor', 'fëdor'), 15.87246447190116),\n",
       " (('g', 'h'), 15.87246447190116),\n",
       " (('gang', 'carpenter'), 15.87246447190116),\n",
       " (('gardens', 'parqueted'), 15.87246447190116),\n",
       " (('gavest', 'moses'), 15.87246447190116),\n",
       " (('genuine', 'émigrés'), 15.87246447190116),\n",
       " (('geometric', 'formation'), 15.87246447190116),\n",
       " (('gerákov', 'lecture'), 15.87246447190116),\n",
       " (('gloat', 'gloat'), 15.87246447190116),\n",
       " (('goose', 'suckle'), 15.87246447190116),\n",
       " (('grande', 'dame'), 15.87246447190116),\n",
       " (('greasy', 'viand'), 15.87246447190116),\n",
       " (('greece', 'warsaw'), 15.87246447190116),\n",
       " (('grippe', 'grippe'), 15.87246447190116),\n",
       " (('grotesque', 'amazing'), 15.87246447190116),\n",
       " (('h', 'k'), 15.87246447190116),\n",
       " (('hatch', 'tease'), 15.87246447190116),\n",
       " (('hessians', 'bavarians'), 15.87246447190116),\n",
       " (('hi', 'tproo'), 15.87246447190116),\n",
       " (('hoch', 'oestreicher'), 15.87246447190116),\n",
       " (('hugging', 'kissing'), 15.87246447190116),\n",
       " (('humming', 'whistling'), 15.87246447190116),\n",
       " (('iligin', 'upland'), 15.87246447190116),\n",
       " (('illustrious', 'patroness'), 15.87246447190116),\n",
       " (('impoverished', 'enrich'), 15.87246447190116),\n",
       " (('impudence', 'impudence'), 15.87246447190116),\n",
       " (('indigestion', 'indigestion'), 15.87246447190116),\n",
       " (('ingratiate', 'affability'), 15.87246447190116),\n",
       " (('interconnect', 'infinitesimal'), 15.87246447190116),\n",
       " (('intermittently', 'consistently'), 15.87246447190116),\n",
       " (('intoxicated', 'elation'), 15.87246447190116),\n",
       " (('invest', 'pomp'), 15.87246447190116),\n",
       " (('jerome', 'jerome'), 15.87246447190116),\n",
       " (('jewish', 'greek'), 15.87246447190116),\n",
       " (('karpúshka', 'chigírin'), 15.87246447190116),\n",
       " (('ke', 'zaletáev'), 15.87246447190116),\n",
       " (('kepler', 'newton'), 15.87246447190116),\n",
       " (('kissing', 'outcry'), 15.87246447190116),\n",
       " (('knocking', 'mallet'), 15.87246447190116),\n",
       " (('krásnaya', 'pakhrá'), 15.87246447190116),\n",
       " (('laborer', 'mikólka'), 15.87246447190116),\n",
       " (('laden', 'hardtack'), 15.87246447190116),\n",
       " (('latrine', 'voilà'), 15.87246447190116),\n",
       " (('len', 'len'), 15.87246447190116),\n",
       " (('len', 'lency'), 15.87246447190116),\n",
       " (('lenient', 'rudeness'), 15.87246447190116),\n",
       " (('liar', 'kiselëv'), 15.87246447190116),\n",
       " (('limitless', 'vista'), 15.87246447190116),\n",
       " (('limply', 'brisk'), 15.87246447190116),\n",
       " (('liquid', 'impure'), 15.87246447190116),\n",
       " (('liquid', 'vibrating'), 15.87246447190116),\n",
       " (('locate', 'background'), 15.87246447190116),\n",
       " (('lorgnette', 'elevated'), 15.87246447190116),\n",
       " (('lui', 'parce'), 15.87246447190116),\n",
       " (('lyádov', 'upland'), 15.87246447190116),\n",
       " (('mare', 'foal'), 15.87246447190116),\n",
       " (('matchmaking', 'chronicle'), 15.87246447190116),\n",
       " (('menacingly', 'unlimbered'), 15.87246447190116),\n",
       " (('mercury', 'fluid'), 15.87246447190116),\n",
       " (('metaphysics', 'experimental'), 15.87246447190116),\n",
       " (('mettlesome', 'donéts'), 15.87246447190116),\n",
       " (('microscopic', 'particle'), 15.87246447190116),\n",
       " (('miracle', 'joshua'), 15.87246447190116),\n",
       " (('misshapen', 'grim'), 15.87246447190116),\n",
       " (('moldavia', 'wallachia'), 15.87246447190116),\n",
       " (('monitress', 'implicitly'), 15.87246447190116),\n",
       " (('moses', 'amalek'), 15.87246447190116),\n",
       " (('moskowa', 'sacré'), 15.87246447190116),\n",
       " (('mulled', 'brandy'), 15.87246447190116),\n",
       " (('muster', 'remaining'), 15.87246447190116),\n",
       " (('naturalist', 'follower'), 15.87246447190116),\n",
       " (('newton', 'enunciate'), 15.87246447190116),\n",
       " (('nicht', 'den'), 15.87246447190116),\n",
       " (('nikoláevna', 'ivánovs'), 15.87246447190116),\n",
       " (('nikíta', 'vanya'), 15.87246447190116),\n",
       " (('nitrogen', 'oxygen'), 15.87246447190116),\n",
       " (('nuts', 'raw'), 15.87246447190116),\n",
       " (('oestreicher', 'hoch'), 15.87246447190116),\n",
       " (('offici', 'fait'), 15.87246447190116),\n",
       " (('om', 'pa'), 15.87246447190116),\n",
       " (('oreille', 'voilà'), 15.87246447190116),\n",
       " (('otkupshchík', 'mayor'), 15.87246447190116),\n",
       " (('ouh', 'ouh'), 15.87246447190116),\n",
       " (('oval', 'antique'), 15.87246447190116),\n",
       " (('pa', 'ny'), 15.87246447190116),\n",
       " (('parisian', 'league'), 15.87246447190116),\n",
       " (('parliament', 'newspaper'), 15.87246447190116),\n",
       " (('parquet', 'treading'), 15.87246447190116),\n",
       " (('particle', 'drizzle'), 15.87246447190116),\n",
       " (('passenger', 'carpenter'), 15.87246447190116),\n",
       " (('pe', 'vell'), 15.87246447190116),\n",
       " (('pernetti', 'fouché'), 15.87246447190116),\n",
       " (('photius', 'schelling'), 15.87246447190116),\n",
       " (('piebald', 'mare'), 15.87246447190116),\n",
       " (('piedmontese', 'swiss'), 15.87246447190116),\n",
       " (('plot', 'hatch'), 15.87246447190116),\n",
       " (('postilion', 'scullion'), 15.87246447190116),\n",
       " (('potsdam', 'ardently'), 15.87246447190116),\n",
       " (('potsdam', 'impious'), 15.87246447190116),\n",
       " (('prettily', 'sedate'), 15.87246447190116),\n",
       " (('princesses', 'gorchakóv'), 15.87246447190116),\n",
       " (('promenade', 'concert'), 15.87246447190116),\n",
       " (('prospective', 'purchaser'), 15.87246447190116),\n",
       " (('purely', 'pacific'), 15.87246447190116),\n",
       " (('pwonounce', 'interpose'), 15.87246447190116),\n",
       " (('pávlovich', 'mindful'), 15.87246447190116),\n",
       " (('questionably', 'outcome'), 15.87246447190116),\n",
       " (('quieter', 'diffident'), 15.87246447190116),\n",
       " (('quiz', 'stolýpin'), 15.87246447190116),\n",
       " (('rabbit', 'ape'), 15.87246447190116),\n",
       " (('radiantly', 'applaud'), 15.87246447190116),\n",
       " (('radiantly', 'confiding'), 15.87246447190116),\n",
       " (('radiate', 'starwise'), 15.87246447190116),\n",
       " (('raisin', 'walnut'), 15.87246447190116),\n",
       " (('rap', 'mallet'), 15.87246447190116),\n",
       " (('ravel', 'lint'), 15.87246447190116),\n",
       " (('raw', 'scab'), 15.87246447190116),\n",
       " (('recourse', 'artifice'), 15.87246447190116),\n",
       " (('regatta', 'firework'), 15.87246447190116),\n",
       " (('regularity', 'prime'), 15.87246447190116),\n",
       " (('replenish', 'slain'), 15.87246447190116),\n",
       " (('restful', 'hopelessness'), 15.87246447190116),\n",
       " (('restrained', 'swagger'), 15.87246447190116),\n",
       " (('revelation', 'john'), 15.87246447190116),\n",
       " ...]"
      ]
     },
     "execution_count": 46,
     "metadata": {},
     "output_type": "execute_result"
    }
   ],
   "source": [
    "BigramCollocationFinder.from_words(lemmatized_text.split()).score_ngrams(BigramAssocMeasures().pmi)"
   ]
  },
  {
   "cell_type": "markdown",
   "id": "f678414e",
   "metadata": {},
   "source": [
    "## POS tags"
   ]
  },
  {
   "cell_type": "code",
   "execution_count": 47,
   "id": "215334c4",
   "metadata": {},
   "outputs": [],
   "source": [
    "pos_dict = {}\n",
    "pos_dict['word'] = []\n",
    "pos_dict['POS'] = []\n",
    "for word in processed_text:\n",
    "    if word.is_alpha and not word.is_stop:\n",
    "        pos_dict['word'].append(word.lower_)\n",
    "        pos_dict['POS'].append(word.pos_)\n",
    "        \n",
    "wnp_pos_df = pd.DataFrame(pos_dict)"
   ]
  },
  {
   "cell_type": "code",
   "execution_count": 48,
   "id": "58c8386b",
   "metadata": {},
   "outputs": [
    {
     "data": {
      "text/html": [
       "<div>\n",
       "<style scoped>\n",
       "    .dataframe tbody tr th:only-of-type {\n",
       "        vertical-align: middle;\n",
       "    }\n",
       "\n",
       "    .dataframe tbody tr th {\n",
       "        vertical-align: top;\n",
       "    }\n",
       "\n",
       "    .dataframe thead th {\n",
       "        text-align: right;\n",
       "    }\n",
       "</style>\n",
       "<table border=\"1\" class=\"dataframe\">\n",
       "  <thead>\n",
       "    <tr style=\"text-align: right;\">\n",
       "      <th></th>\n",
       "      <th>word</th>\n",
       "    </tr>\n",
       "    <tr>\n",
       "      <th>POS</th>\n",
       "      <th></th>\n",
       "    </tr>\n",
       "  </thead>\n",
       "  <tbody>\n",
       "    <tr>\n",
       "      <th>NOUN</th>\n",
       "      <td>91438</td>\n",
       "    </tr>\n",
       "    <tr>\n",
       "      <th>VERB</th>\n",
       "      <td>72857</td>\n",
       "    </tr>\n",
       "    <tr>\n",
       "      <th>PROPN</th>\n",
       "      <td>30608</td>\n",
       "    </tr>\n",
       "    <tr>\n",
       "      <th>ADJ</th>\n",
       "      <td>29702</td>\n",
       "    </tr>\n",
       "    <tr>\n",
       "      <th>ADV</th>\n",
       "      <td>11091</td>\n",
       "    </tr>\n",
       "    <tr>\n",
       "      <th>INTJ</th>\n",
       "      <td>1407</td>\n",
       "    </tr>\n",
       "    <tr>\n",
       "      <th>ADP</th>\n",
       "      <td>942</td>\n",
       "    </tr>\n",
       "    <tr>\n",
       "      <th>AUX</th>\n",
       "      <td>500</td>\n",
       "    </tr>\n",
       "    <tr>\n",
       "      <th>SCONJ</th>\n",
       "      <td>412</td>\n",
       "    </tr>\n",
       "    <tr>\n",
       "      <th>NUM</th>\n",
       "      <td>379</td>\n",
       "    </tr>\n",
       "  </tbody>\n",
       "</table>\n",
       "</div>"
      ],
      "text/plain": [
       "        word\n",
       "POS         \n",
       "NOUN   91438\n",
       "VERB   72857\n",
       "PROPN  30608\n",
       "ADJ    29702\n",
       "ADV    11091\n",
       "INTJ    1407\n",
       "ADP      942\n",
       "AUX      500\n",
       "SCONJ    412\n",
       "NUM      379"
      ]
     },
     "execution_count": 48,
     "metadata": {},
     "output_type": "execute_result"
    }
   ],
   "source": [
    "wnp_pos_df.groupby('POS').count().sort_values(by='word', ascending=False).head(10)"
   ]
  },
  {
   "cell_type": "code",
   "execution_count": 49,
   "id": "2af59ad5",
   "metadata": {},
   "outputs": [],
   "source": [
    "wnp_pos_df['count'] = 1"
   ]
  },
  {
   "cell_type": "code",
   "execution_count": 50,
   "id": "de6104c9",
   "metadata": {},
   "outputs": [
    {
     "data": {
      "text/html": [
       "<div>\n",
       "<style scoped>\n",
       "    .dataframe tbody tr th:only-of-type {\n",
       "        vertical-align: middle;\n",
       "    }\n",
       "\n",
       "    .dataframe tbody tr th {\n",
       "        vertical-align: top;\n",
       "    }\n",
       "\n",
       "    .dataframe thead th {\n",
       "        text-align: right;\n",
       "    }\n",
       "</style>\n",
       "<table border=\"1\" class=\"dataframe\">\n",
       "  <thead>\n",
       "    <tr style=\"text-align: right;\">\n",
       "      <th></th>\n",
       "      <th></th>\n",
       "      <th>count</th>\n",
       "    </tr>\n",
       "    <tr>\n",
       "      <th>POS</th>\n",
       "      <th>word</th>\n",
       "      <th></th>\n",
       "    </tr>\n",
       "  </thead>\n",
       "  <tbody>\n",
       "    <tr>\n",
       "      <th>VERB</th>\n",
       "      <th>said</th>\n",
       "      <td>2839</td>\n",
       "    </tr>\n",
       "    <tr>\n",
       "      <th rowspan=\"3\" valign=\"top\">PROPN</th>\n",
       "      <th>pierre</th>\n",
       "      <td>1963</td>\n",
       "    </tr>\n",
       "    <tr>\n",
       "      <th>prince</th>\n",
       "      <td>1592</td>\n",
       "    </tr>\n",
       "    <tr>\n",
       "      <th>natásha</th>\n",
       "      <td>1211</td>\n",
       "    </tr>\n",
       "    <tr>\n",
       "      <th>NOUN</th>\n",
       "      <th>man</th>\n",
       "      <td>1171</td>\n",
       "    </tr>\n",
       "    <tr>\n",
       "      <th>PROPN</th>\n",
       "      <th>andrew</th>\n",
       "      <td>1141</td>\n",
       "    </tr>\n",
       "    <tr>\n",
       "      <th rowspan=\"2\" valign=\"top\">NOUN</th>\n",
       "      <th>time</th>\n",
       "      <td>927</td>\n",
       "    </tr>\n",
       "    <tr>\n",
       "      <th>face</th>\n",
       "      <td>882</td>\n",
       "    </tr>\n",
       "    <tr>\n",
       "      <th rowspan=\"2\" valign=\"top\">VERB</th>\n",
       "      <th>went</th>\n",
       "      <td>862</td>\n",
       "    </tr>\n",
       "    <tr>\n",
       "      <th>know</th>\n",
       "      <td>846</td>\n",
       "    </tr>\n",
       "  </tbody>\n",
       "</table>\n",
       "</div>"
      ],
      "text/plain": [
       "               count\n",
       "POS   word          \n",
       "VERB  said      2839\n",
       "PROPN pierre    1963\n",
       "      prince    1592\n",
       "      natásha   1211\n",
       "NOUN  man       1171\n",
       "PROPN andrew    1141\n",
       "NOUN  time       927\n",
       "      face       882\n",
       "VERB  went       862\n",
       "      know       846"
      ]
     },
     "execution_count": 50,
     "metadata": {},
     "output_type": "execute_result"
    }
   ],
   "source": [
    "wnp_pos_df.groupby(['POS', 'word']).count().sort_values(by='count', ascending=False).head(10)"
   ]
  },
  {
   "cell_type": "code",
   "execution_count": 51,
   "id": "fec3bbfb",
   "metadata": {},
   "outputs": [
    {
     "data": {
      "text/plain": [
       "{'ADJ': 'adjective',\n",
       " 'ADP': 'adposition',\n",
       " 'ADV': 'adverb',\n",
       " 'AUX': 'auxiliary',\n",
       " 'CONJ': 'conjunction',\n",
       " 'CCONJ': 'coordinating conjunction',\n",
       " 'DET': 'determiner',\n",
       " 'INTJ': 'interjection',\n",
       " 'NOUN': 'noun',\n",
       " 'NUM': 'numeral',\n",
       " 'PART': 'particle',\n",
       " 'PRON': 'pronoun',\n",
       " 'PROPN': 'proper noun',\n",
       " 'PUNCT': 'punctuation',\n",
       " 'SCONJ': 'subordinating conjunction',\n",
       " 'SYM': 'symbol',\n",
       " 'VERB': 'verb',\n",
       " 'X': 'other',\n",
       " 'EOL': 'end of line',\n",
       " 'SPACE': 'space',\n",
       " '.': 'punctuation mark, sentence closer',\n",
       " ',': 'punctuation mark, comma',\n",
       " '-LRB-': 'left round bracket',\n",
       " '-RRB-': 'right round bracket',\n",
       " '``': 'opening quotation mark',\n",
       " '\"\"': 'closing quotation mark',\n",
       " \"''\": 'closing quotation mark',\n",
       " ':': 'punctuation mark, colon or ellipsis',\n",
       " '$': 'symbol, currency',\n",
       " '#': 'symbol, number sign',\n",
       " 'AFX': 'affix',\n",
       " 'CC': 'conjunction, coordinating',\n",
       " 'CD': 'cardinal number',\n",
       " 'DT': 'determiner',\n",
       " 'EX': 'existential there',\n",
       " 'FW': 'foreign word',\n",
       " 'HYPH': 'punctuation mark, hyphen',\n",
       " 'IN': 'conjunction, subordinating or preposition',\n",
       " 'JJ': 'adjective (English), other noun-modifier (Chinese)',\n",
       " 'JJR': 'adjective, comparative',\n",
       " 'JJS': 'adjective, superlative',\n",
       " 'LS': 'list item marker',\n",
       " 'MD': 'verb, modal auxiliary',\n",
       " 'NIL': 'missing tag',\n",
       " 'NN': 'noun, singular or mass',\n",
       " 'NNP': 'noun, proper singular',\n",
       " 'NNPS': 'noun, proper plural',\n",
       " 'NNS': 'noun, plural',\n",
       " 'PDT': 'predeterminer',\n",
       " 'POS': 'possessive ending',\n",
       " 'PRP': 'pronoun, personal',\n",
       " 'PRP$': 'pronoun, possessive',\n",
       " 'RB': 'adverb',\n",
       " 'RBR': 'adverb, comparative',\n",
       " 'RBS': 'adverb, superlative',\n",
       " 'RP': 'adverb, particle',\n",
       " 'TO': 'infinitival \"to\"',\n",
       " 'UH': 'interjection',\n",
       " 'VB': 'verb, base form',\n",
       " 'VBD': 'verb, past tense',\n",
       " 'VBG': 'verb, gerund or present participle',\n",
       " 'VBN': 'verb, past participle',\n",
       " 'VBP': 'verb, non-3rd person singular present',\n",
       " 'VBZ': 'verb, 3rd person singular present',\n",
       " 'WDT': 'wh-determiner',\n",
       " 'WP': 'wh-pronoun, personal',\n",
       " 'WP$': 'wh-pronoun, possessive',\n",
       " 'WRB': 'wh-adverb',\n",
       " 'SP': 'space (English), sentence-final particle (Chinese)',\n",
       " 'ADD': 'email',\n",
       " 'NFP': 'superfluous punctuation',\n",
       " 'GW': 'additional word in multi-word expression',\n",
       " 'XX': 'unknown',\n",
       " 'BES': 'auxiliary \"be\"',\n",
       " 'HVS': 'forms of \"have\"',\n",
       " '_SP': 'whitespace',\n",
       " '$(': 'other sentence-internal punctuation mark',\n",
       " '$,': 'comma',\n",
       " '$.': 'sentence-final punctuation mark',\n",
       " 'ADJA': 'adjective, attributive',\n",
       " 'ADJD': 'adjective, adverbial or predicative',\n",
       " 'APPO': 'postposition',\n",
       " 'APPR': 'preposition; circumposition left',\n",
       " 'APPRART': 'preposition with article',\n",
       " 'APZR': 'circumposition right',\n",
       " 'ART': 'definite or indefinite article',\n",
       " 'CARD': 'cardinal number',\n",
       " 'FM': 'foreign language material',\n",
       " 'ITJ': 'interjection',\n",
       " 'KOKOM': 'comparative conjunction',\n",
       " 'KON': 'coordinate conjunction',\n",
       " 'KOUI': 'subordinate conjunction with \"zu\" and infinitive',\n",
       " 'KOUS': 'subordinate conjunction with sentence',\n",
       " 'NE': 'proper noun',\n",
       " 'NNE': 'proper noun',\n",
       " 'PAV': 'pronominal adverb',\n",
       " 'PROAV': 'pronominal adverb',\n",
       " 'PDAT': 'attributive demonstrative pronoun',\n",
       " 'PDS': 'substituting demonstrative pronoun',\n",
       " 'PIAT': 'attributive indefinite pronoun without determiner',\n",
       " 'PIDAT': 'attributive indefinite pronoun with determiner',\n",
       " 'PIS': 'substituting indefinite pronoun',\n",
       " 'PPER': 'non-reflexive personal pronoun',\n",
       " 'PPOSAT': 'attributive possessive pronoun',\n",
       " 'PPOSS': 'substituting possessive pronoun',\n",
       " 'PRELAT': 'attributive relative pronoun',\n",
       " 'PRELS': 'substituting relative pronoun',\n",
       " 'PRF': 'reflexive personal pronoun',\n",
       " 'PTKA': 'particle with adjective or adverb',\n",
       " 'PTKANT': 'answer particle',\n",
       " 'PTKNEG': 'negative particle',\n",
       " 'PTKVZ': 'separable verbal particle',\n",
       " 'PTKZU': '\"zu\" before infinitive',\n",
       " 'PWAT': 'attributive interrogative pronoun',\n",
       " 'PWAV': 'adverbial interrogative or relative pronoun',\n",
       " 'PWS': 'substituting interrogative pronoun',\n",
       " 'TRUNC': 'word remnant',\n",
       " 'VAFIN': 'finite verb, auxiliary',\n",
       " 'VAIMP': 'imperative, auxiliary',\n",
       " 'VAINF': 'infinitive, auxiliary',\n",
       " 'VAPP': 'perfect participle, auxiliary',\n",
       " 'VMFIN': 'finite verb, modal',\n",
       " 'VMINF': 'infinitive, modal',\n",
       " 'VMPP': 'perfect participle, modal',\n",
       " 'VVFIN': 'finite verb, full',\n",
       " 'VVIMP': 'imperative, full',\n",
       " 'VVINF': 'infinitive, full',\n",
       " 'VVIZU': 'infinitive with \"zu\", full',\n",
       " 'VVPP': 'perfect participle, full',\n",
       " 'XY': 'non-word containing non-letter',\n",
       " 'AD': 'adverb',\n",
       " 'AS': 'aspect marker',\n",
       " 'BA': '把 in ba-construction',\n",
       " 'CS': 'subordinating conjunction',\n",
       " 'DEC': '的 in a relative clause',\n",
       " 'DEG': 'associative 的',\n",
       " 'DER': '得 in V-de const. and V-de-R',\n",
       " 'DEV': '地 before VP',\n",
       " 'ETC': 'for words 等, 等等',\n",
       " 'IJ': 'interjection',\n",
       " 'LB': '被 in long bei-const',\n",
       " 'LC': 'localizer',\n",
       " 'M': 'measure word',\n",
       " 'MSP': 'other particle',\n",
       " 'NR': 'proper noun',\n",
       " 'NT': 'temporal noun',\n",
       " 'OD': 'ordinal number',\n",
       " 'ON': 'onomatopoeia',\n",
       " 'P': 'preposition excluding 把 and 被',\n",
       " 'PN': 'pronoun',\n",
       " 'PU': 'punctuation',\n",
       " 'SB': '被 in short bei-const',\n",
       " 'VA': 'predicative adjective',\n",
       " 'VC': '是 (copula)',\n",
       " 'VE': '有 as the main verb',\n",
       " 'VV': 'other verb',\n",
       " 'NP': 'noun phrase',\n",
       " 'PP': 'prepositional phrase',\n",
       " 'VP': 'verb phrase',\n",
       " 'ADVP': 'adverb phrase',\n",
       " 'ADJP': 'adjective phrase',\n",
       " 'SBAR': 'subordinating conjunction',\n",
       " 'PRT': 'particle',\n",
       " 'PNP': 'prepositional noun phrase',\n",
       " 'acl': 'clausal modifier of noun (adjectival clause)',\n",
       " 'acomp': 'adjectival complement',\n",
       " 'advcl': 'adverbial clause modifier',\n",
       " 'advmod': 'adverbial modifier',\n",
       " 'agent': 'agent',\n",
       " 'amod': 'adjectival modifier',\n",
       " 'appos': 'appositional modifier',\n",
       " 'attr': 'attribute',\n",
       " 'aux': 'auxiliary',\n",
       " 'auxpass': 'auxiliary (passive)',\n",
       " 'case': 'case marking',\n",
       " 'cc': 'coordinating conjunction',\n",
       " 'ccomp': 'clausal complement',\n",
       " 'clf': 'classifier',\n",
       " 'complm': 'complementizer',\n",
       " 'compound': 'compound',\n",
       " 'conj': 'conjunct',\n",
       " 'cop': 'copula',\n",
       " 'csubj': 'clausal subject',\n",
       " 'csubjpass': 'clausal subject (passive)',\n",
       " 'dative': 'dative',\n",
       " 'dep': 'unclassified dependent',\n",
       " 'det': 'determiner',\n",
       " 'discourse': 'discourse element',\n",
       " 'dislocated': 'dislocated elements',\n",
       " 'dobj': 'direct object',\n",
       " 'expl': 'expletive',\n",
       " 'fixed': 'fixed multiword expression',\n",
       " 'flat': 'flat multiword expression',\n",
       " 'goeswith': 'goes with',\n",
       " 'hmod': 'modifier in hyphenation',\n",
       " 'hyph': 'hyphen',\n",
       " 'infmod': 'infinitival modifier',\n",
       " 'intj': 'interjection',\n",
       " 'iobj': 'indirect object',\n",
       " 'list': 'list',\n",
       " 'mark': 'marker',\n",
       " 'meta': 'meta modifier',\n",
       " 'neg': 'negation modifier',\n",
       " 'nmod': 'modifier of nominal',\n",
       " 'nn': 'noun compound modifier',\n",
       " 'npadvmod': 'noun phrase as adverbial modifier',\n",
       " 'nsubj': 'nominal subject',\n",
       " 'nsubjpass': 'nominal subject (passive)',\n",
       " 'nounmod': 'modifier of nominal',\n",
       " 'npmod': 'noun phrase as adverbial modifier',\n",
       " 'num': 'number modifier',\n",
       " 'number': 'number compound modifier',\n",
       " 'nummod': 'numeric modifier',\n",
       " 'oprd': 'object predicate',\n",
       " 'obj': 'object',\n",
       " 'obl': 'oblique nominal',\n",
       " 'orphan': 'orphan',\n",
       " 'parataxis': 'parataxis',\n",
       " 'partmod': 'participal modifier',\n",
       " 'pcomp': 'complement of preposition',\n",
       " 'pobj': 'object of preposition',\n",
       " 'poss': 'possession modifier',\n",
       " 'possessive': 'possessive modifier',\n",
       " 'preconj': 'pre-correlative conjunction',\n",
       " 'prep': 'prepositional modifier',\n",
       " 'prt': 'particle',\n",
       " 'punct': 'punctuation',\n",
       " 'quantmod': 'modifier of quantifier',\n",
       " 'rcmod': 'relative clause modifier',\n",
       " 'relcl': 'relative clause modifier',\n",
       " 'reparandum': 'overridden disfluency',\n",
       " 'root': 'root',\n",
       " 'vocative': 'vocative',\n",
       " 'xcomp': 'open clausal complement',\n",
       " 'ac': 'adpositional case marker',\n",
       " 'adc': 'adjective component',\n",
       " 'ag': 'genitive attribute',\n",
       " 'ams': 'measure argument of adjective',\n",
       " 'app': 'apposition',\n",
       " 'avc': 'adverbial phrase component',\n",
       " 'cd': 'coordinating conjunction',\n",
       " 'cj': 'conjunct',\n",
       " 'cm': 'comparative conjunction',\n",
       " 'cp': 'complementizer',\n",
       " 'cvc': 'collocational verb construction',\n",
       " 'da': 'dative',\n",
       " 'dh': 'discourse-level head',\n",
       " 'dm': 'discourse marker',\n",
       " 'ep': 'expletive es',\n",
       " 'hd': 'head',\n",
       " 'ju': 'junctor',\n",
       " 'mnr': 'postnominal modifier',\n",
       " 'mo': 'modifier',\n",
       " 'ng': 'negation',\n",
       " 'nk': 'noun kernel element',\n",
       " 'nmc': 'numerical component',\n",
       " 'oa': 'accusative object',\n",
       " 'oc': 'clausal object',\n",
       " 'og': 'genitive object',\n",
       " 'op': 'prepositional object',\n",
       " 'par': 'parenthetical element',\n",
       " 'pd': 'predicate',\n",
       " 'pg': 'phrasal genitive',\n",
       " 'ph': 'placeholder',\n",
       " 'pm': 'morphological particle',\n",
       " 'pnc': 'proper noun component',\n",
       " 'rc': 'relative clause',\n",
       " 're': 'repeated element',\n",
       " 'rs': 'reported speech',\n",
       " 'sb': 'subject',\n",
       " 'sbp': 'passivized subject (PP)',\n",
       " 'sp': 'subject or predicate',\n",
       " 'svp': 'separable verb prefix',\n",
       " 'uc': 'unit component',\n",
       " 'vo': 'vocative',\n",
       " 'PERSON': 'People, including fictional',\n",
       " 'NORP': 'Nationalities or religious or political groups',\n",
       " 'FACILITY': 'Buildings, airports, highways, bridges, etc.',\n",
       " 'FAC': 'Buildings, airports, highways, bridges, etc.',\n",
       " 'ORG': 'Companies, agencies, institutions, etc.',\n",
       " 'GPE': 'Countries, cities, states',\n",
       " 'LOC': 'Non-GPE locations, mountain ranges, bodies of water',\n",
       " 'PRODUCT': 'Objects, vehicles, foods, etc. (not services)',\n",
       " 'EVENT': 'Named hurricanes, battles, wars, sports events, etc.',\n",
       " 'WORK_OF_ART': 'Titles of books, songs, etc.',\n",
       " 'LAW': 'Named documents made into laws.',\n",
       " 'LANGUAGE': 'Any named language',\n",
       " 'DATE': 'Absolute or relative dates or periods',\n",
       " 'TIME': 'Times smaller than a day',\n",
       " 'PERCENT': 'Percentage, including \"%\"',\n",
       " 'MONEY': 'Monetary values, including unit',\n",
       " 'QUANTITY': 'Measurements, as of weight or distance',\n",
       " 'ORDINAL': '\"first\", \"second\", etc.',\n",
       " 'CARDINAL': 'Numerals that do not fall under another type',\n",
       " 'PER': 'Named person or family.',\n",
       " 'MISC': 'Miscellaneous entities, e.g. events, nationalities, products or works of art',\n",
       " 'EVT': 'Festivals, cultural events, sports events, weather phenomena, wars, etc.',\n",
       " 'PROD': 'Product, i.e. artificially produced entities including speeches, radio shows, programming languages, contracts, laws and ideas',\n",
       " 'DRV': \"Words (and phrases?) that are dervied from a name, but not a name in themselves, e.g. 'Oslo-mannen' ('the man from Oslo')\",\n",
       " 'GPE_LOC': \"Geo-political entity, with a locative sense, e.g. 'John lives in Spain'\",\n",
       " 'GPE_ORG': \"Geo-political entity, with an organisation sense, e.g. 'Spain declined to meet with Belgium'\"}"
      ]
     },
     "execution_count": 51,
     "metadata": {},
     "output_type": "execute_result"
    }
   ],
   "source": [
    "from spacy.glossary import GLOSSARY\n",
    "GLOSSARY"
   ]
  },
  {
   "cell_type": "markdown",
   "id": "6ffcc9bb",
   "metadata": {},
   "source": [
    "# Topic modeling"
   ]
  },
  {
   "cell_type": "code",
   "execution_count": 52,
   "id": "67c10653",
   "metadata": {},
   "outputs": [
    {
     "data": {
      "text/plain": [
       "[('alt.atheism', 0),\n",
       " ('comp.graphics', 1),\n",
       " ('comp.os.ms-windows.misc', 2),\n",
       " ('comp.sys.ibm.pc.hardware', 3),\n",
       " ('comp.sys.mac.hardware', 4),\n",
       " ('comp.windows.x', 5),\n",
       " ('misc.forsale', 6),\n",
       " ('rec.autos', 7),\n",
       " ('rec.motorcycles', 8),\n",
       " ('rec.sport.baseball', 9),\n",
       " ('rec.sport.hockey', 10),\n",
       " ('sci.crypt', 11),\n",
       " ('sci.electronics', 12),\n",
       " ('sci.med', 13),\n",
       " ('sci.space', 14),\n",
       " ('soc.religion.christian', 15),\n",
       " ('talk.politics.guns', 16),\n",
       " ('talk.politics.mideast', 17),\n",
       " ('talk.politics.misc', 18),\n",
       " ('talk.religion.misc', 19)]"
      ]
     },
     "execution_count": 52,
     "metadata": {},
     "output_type": "execute_result"
    }
   ],
   "source": [
    "list(zip(newsgroups_train['target_names'], range(len(newsgroups_train['target_names']))))"
   ]
  },
  {
   "cell_type": "code",
   "execution_count": 53,
   "id": "56860a4e",
   "metadata": {},
   "outputs": [],
   "source": [
    "space_ng = ng_train_df[ng_train_df['label'] == 14].copy().reset_index()"
   ]
  },
  {
   "cell_type": "code",
   "execution_count": 54,
   "id": "27883434",
   "metadata": {},
   "outputs": [
    {
     "data": {
      "text/html": [
       "<style type=\"text/css\">\n",
       "</style>\n",
       "<table id=\"T_95a76_\">\n",
       "  <thead>\n",
       "    <tr>\n",
       "      <th class=\"col_heading level0 col0\" >Description</th>\n",
       "      <th class=\"col_heading level0 col1\" >Value</th>\n",
       "    </tr>\n",
       "  </thead>\n",
       "  <tbody>\n",
       "    <tr>\n",
       "      <td id=\"T_95a76_row0_col0\" class=\"data row0 col0\" >session_id</td>\n",
       "      <td id=\"T_95a76_row0_col1\" class=\"data row0 col1\" >4438</td>\n",
       "    </tr>\n",
       "    <tr>\n",
       "      <td id=\"T_95a76_row1_col0\" class=\"data row1 col0\" >Documents</td>\n",
       "      <td id=\"T_95a76_row1_col1\" class=\"data row1 col1\" >593</td>\n",
       "    </tr>\n",
       "    <tr>\n",
       "      <td id=\"T_95a76_row2_col0\" class=\"data row2 col0\" >Vocab Size</td>\n",
       "      <td id=\"T_95a76_row2_col1\" class=\"data row2 col1\" >7396</td>\n",
       "    </tr>\n",
       "    <tr>\n",
       "      <td id=\"T_95a76_row3_col0\" class=\"data row3 col0\" >Custom Stopwords</td>\n",
       "      <td id=\"T_95a76_row3_col1\" class=\"data row3 col1\" >False</td>\n",
       "    </tr>\n",
       "  </tbody>\n",
       "</table>\n"
      ],
      "text/plain": [
       "<pandas.io.formats.style.Styler at 0x2036546ae20>"
      ]
     },
     "metadata": {},
     "output_type": "display_data"
    }
   ],
   "source": [
    "from pycaret.nlp import setup, create_model, plot_model, assign_model, tune_model\n",
    "\n",
    "space_setup = setup(space_ng, target='text')"
   ]
  },
  {
   "cell_type": "code",
   "execution_count": 55,
   "id": "0d0dccaf",
   "metadata": {},
   "outputs": [],
   "source": [
    "lda = create_model('lda')"
   ]
  },
  {
   "cell_type": "code",
   "execution_count": 56,
   "id": "afe52865",
   "metadata": {},
   "outputs": [
    {
     "data": {
      "text/html": [
       "        <script type=\"text/javascript\">\n",
       "        window.PlotlyConfig = {MathJaxConfig: 'local'};\n",
       "        if (window.MathJax) {MathJax.Hub.Config({SVG: {font: \"STIX-Web\"}});}\n",
       "        if (typeof require !== 'undefined') {\n",
       "        require.undef(\"plotly\");\n",
       "        requirejs.config({\n",
       "            paths: {\n",
       "                'plotly': ['https://cdn.plot.ly/plotly-2.2.0.min']\n",
       "            }\n",
       "        });\n",
       "        require(['plotly'], function(Plotly) {\n",
       "            window._Plotly = Plotly;\n",
       "        });\n",
       "        }\n",
       "        </script>\n",
       "        "
      ]
     },
     "metadata": {},
     "output_type": "display_data"
    },
    {
     "data": {
      "text/html": [
       "\n",
       "<link rel=\"stylesheet\" type=\"text/css\" href=\"https://cdn.jsdelivr.net/gh/bmabey/pyLDAvis@3.3.1/pyLDAvis/js/ldavis.v1.0.0.css\">\n",
       "\n",
       "\n",
       "<div id=\"ldavis_el631622126922321122016092596\"></div>\n",
       "<script type=\"text/javascript\">\n",
       "\n",
       "var ldavis_el631622126922321122016092596_data = {\"mdsDat\": {\"x\": [-0.19010378677616308, 0.06176977922775036, 0.19646573954782665, -0.06813173199941394], \"y\": [0.043814289195401604, 0.16845473780089107, -0.06650158365919458, -0.14576744333709807], \"topics\": [1, 2, 3, 4], \"cluster\": [1, 1, 1, 1], \"Freq\": [28.949411543555243, 28.50178583354257, 25.11721094237175, 17.43159168053044]}, \"tinfo\": {\"Term\": [\"write\", \"launch\", \"article\", \"think\", \"satellite\", \"probe\", \"space\", \"orbit\", \"image\", \"thing\", \"people\", \"station\", \"rocket\", \"post\", \"go\", \"cost\", \"information\", \"mission\", \"datum\", \"planet\", \"technology\", \"money\", \"astronomy\", \"vehicle\", \"book\", \"moon\", \"planetary\", \"get\", \"email\", \"try\", \"age\", \"prize\", \"eat\", \"basically\", \"race\", \"reality\", \"dream\", \"oil\", \"film\", \"child\", \"mining\", \"tax\", \"failure\", \"prototype\", \"colony\", \"fly_wire\", \"shoot\", \"reusable\", \"economic\", \"fold\", \"pull\", \"ride\", \"balloon\", \"smiley\", \"sweep_we\", \"miner\", \"overhead\", \"imagination\", \"liek\", \"reward\", \"spend\", \"raise\", \"mind\", \"hand\", \"money\", \"feel\", \"hear\", \"ago\", \"think\", \"people\", \"little\", \"pat\", \"try\", \"maybe\", \"fund\", \"hard\", \"get\", \"write\", \"thing\", \"kind\", \"article\", \"well\", \"tell\", \"say\", \"idea\", \"know\", \"year\", \"sure\", \"moon\", \"time\", \"go\", \"right\", \"look\", \"software\", \"work\", \"good\", \"space\", \"large\", \"way\", \"problem\", \"find\", \"need\", \"option\", \"aerospace\", \"ariane\", \"redesign\", \"capability\", \"operate\", \"conference\", \"remote_sense\", \"coverage\", \"newsletter\", \"membership\", \"aviation\", \"panel\", \"annual\", \"primarily\", \"presentation\", \"participate\", \"joint\", \"session\", \"safety\", \"martian\", \"accomplish\", \"single_stage\", \"unmanned\", \"russian\", \"purchase\", \"task\", \"clipper\", \"designate\", \"ad\", \"astronaut\", \"engine\", \"training\", \"station\", \"organization\", \"technology\", \"rocket\", \"satellite\", \"launch\", \"team\", \"space\", \"design\", \"vehicle\", \"research\", \"commercial\", \"flight\", \"service\", \"application\", \"program\", \"report\", \"include\", \"project\", \"model\", \"build\", \"test\", \"year\", \"mission\", \"power\", \"system\", \"development\", \"shuttle\", \"use\", \"lunar\", \"new\", \"information\", \"probe\", \"email\", \"file\", \"faq\", \"map\", \"astronomical\", \"format\", \"distance\", \"theory\", \"galaxy\", \"crater\", \"disk\", \"measurement\", \"burst\", \"mercury\", \"antenna\", \"detector\", \"ranger\", \"venera\", \"observe\", \"sample\", \"theoretical\", \"gif\", \"coordinate\", \"directory\", \"tracking\", \"server\", \"enter\", \"frequency\", \"universe\", \"astronomy\", \"planet\", \"meter\", \"image\", \"archive\", \"ether\", \"book\", \"star\", \"volume\", \"planetary\", \"observation\", \"reference\", \"flyby\", \"object\", \"asteroid\", \"source\", \"spin\", \"post\", \"info\", \"orbit\", \"solar\", \"datum\", \"available\", \"surface\", \"information\", \"earth\", \"mission\", \"system\", \"list\", \"send\", \"mail\", \"space\", \"body\", \"time\", \"find\", \"spacecraft\", \"lunar\", \"satellite\", \"billboard\", \"advertising\", \"pad\", \"centaur\", \"temporary\", \"grade\", \"drag\", \"mark_brader\", \"clementine\", \"marketing\", \"boost\", \"taste\", \"bomb\", \"plant\", \"bar\", \"thruster\", \"ton\", \"plutonium\", \"sunlight\", \"fuselage\", \"speculation\", \"uranium\", \"gehrel\", \"export\", \"optimistic\", \"proton\", \"typical\", \"bird\", \"prize_big_warrent\", \"freeze\", \"gun\", \"ssto\", \"comet\", \"visible\", \"cheap\", \"real\", \"fuel\", \"guess\", \"assume\", \"article\", \"cost\", \"write\", \"go\", \"light\", \"orbit\", \"actually\", \"probably\", \"mass\", \"use\", \"launch\", \"moon\", \"need\", \"low\", \"know\", \"earth\", \"want\", \"thing\", \"think\", \"system\", \"lunar\", \"base\", \"work\", \"project\", \"space\", \"time\"], \"Freq\": [423.0, 328.0, 333.0, 250.0, 247.0, 120.0, 783.0, 268.0, 116.0, 141.0, 161.0, 112.0, 131.0, 124.0, 144.0, 159.0, 123.0, 194.0, 108.0, 65.0, 104.0, 94.0, 64.0, 98.0, 61.0, 151.0, 75.0, 116.0, 48.0, 107.0, 32.65325899325215, 31.959221287609136, 25.57054803081653, 27.717295163093787, 25.448855979570105, 24.147379929730317, 19.709797989079615, 18.807461187194793, 21.059113736739395, 18.027938234730527, 19.116979518005024, 16.417128259259815, 23.299179494184013, 15.780468417247882, 16.685683668728498, 14.436146976527748, 15.154431081919125, 15.441927400456429, 15.82556700891292, 13.078453278976705, 13.54573024068677, 12.539208354266282, 30.71453434944773, 12.13881476691455, 11.564146759791019, 12.010219046767704, 11.42704919252306, 11.330053028649564, 11.550336540659245, 11.493682851534412, 55.03108490143498, 13.608755512934227, 29.2403244314383, 39.024942002013525, 83.40898280609811, 15.496769692871995, 60.38763660696682, 32.891329921516125, 203.76906007526583, 133.60943573161924, 62.703442950038514, 56.80192399657579, 88.70244104788391, 55.98047191646587, 70.85484723674413, 31.932903210924465, 87.8116257279314, 269.4059168898568, 102.26491182125493, 35.19447377560852, 194.1250994760967, 44.83162675024145, 49.85980661626588, 84.54212958231157, 77.59162176634305, 125.5040290118278, 145.60593003873933, 47.01496102262621, 83.78533840997186, 109.22195833753982, 79.10420524963456, 55.07084726822374, 78.0102829917702, 53.65527243457307, 80.193563479311, 64.72143108674975, 155.53459686766504, 62.080441577062885, 57.72713856601877, 54.56658362185099, 54.76032815513829, 54.606342146865174, 37.73696487811151, 37.52287885550346, 29.49196374139745, 28.630626920274214, 27.74215536431961, 26.941113331033957, 24.698760724171432, 22.51855248492521, 21.816775015469272, 21.67962432514968, 20.59567034196869, 19.581699691826085, 18.48374904203742, 17.54136166817737, 18.478241908790352, 16.440619628047813, 15.744530845682256, 16.49724740648771, 15.426460804911363, 17.062579597952745, 15.75444538759426, 16.313456290296134, 13.6690129825205, 14.771830599139978, 43.482996506373766, 12.747308562903772, 12.668504738977914, 12.406253994688425, 11.499880473309117, 32.76243874225141, 18.680411569245322, 56.830139110122005, 20.739733316635135, 92.280414419886, 43.66259108112466, 85.53433505183997, 104.90596370865536, 186.66219354018915, 236.35163465671573, 34.94983727016706, 452.00658506070533, 72.52039670376979, 73.075225248925, 66.40232720921982, 64.27376725602355, 83.42065494905164, 50.449712964873946, 33.86614237944996, 95.3792132412176, 49.867492483609354, 71.39297759578888, 70.79602099424228, 45.101284253460484, 66.27853018231285, 53.11454136511873, 114.58640706919849, 84.17433790583554, 60.48336554520483, 88.67224359691792, 51.52624782589551, 60.182477873635946, 66.769179443858, 62.582146885726544, 50.64608235827234, 48.043481537822046, 120.17567519181253, 47.29151532445508, 45.738596325965375, 37.184645618829016, 35.61569718119089, 29.219010993858554, 27.041595512446758, 28.24890826996666, 29.073049434218415, 30.06886459179526, 21.443046399219284, 21.252679726596135, 18.79450240205055, 18.77831796832521, 17.792867448101664, 18.191943484891688, 17.167785985647335, 17.317709073344844, 17.316879102384572, 18.119761010473166, 18.58166818220762, 17.277002164299283, 17.049806780270245, 18.661090403315757, 14.692214269711434, 15.829604473740787, 14.718760007573367, 16.633338018698257, 14.570816850600364, 14.98255077783874, 59.869738560273156, 60.79997934555495, 19.407994270011418, 104.00130111449562, 45.03669755126015, 28.531785039101624, 55.904180643901576, 53.26127311618595, 27.55761745743441, 63.59704814601221, 28.238828622641886, 46.80017918240633, 25.777264749921052, 36.18217736070315, 31.83454281275197, 59.33426396257804, 28.4048361475635, 80.13321623124098, 31.43895332063844, 144.12469057673565, 58.87387340444569, 70.38074412565187, 68.7335284264949, 49.85942880945905, 74.1563986865227, 99.99871449371567, 96.74906819508944, 97.19783915977796, 40.71797865825024, 53.224307742895036, 37.55672926671824, 141.56344685836424, 37.660292309833544, 62.03634275329279, 51.02125482517422, 46.68246663436588, 55.18117927421846, 59.41007464338314, 29.65168984519043, 29.665680594151556, 27.527330636613918, 15.455356914004314, 13.827375506325868, 16.92617256774867, 16.458299067230726, 11.9687329602484, 11.657456145502437, 11.966958670490929, 12.747513149878412, 11.846020119616647, 13.39400349809971, 11.15552299016817, 11.99694925661965, 10.976183240836118, 10.485410530006305, 12.736953002886425, 11.558836170351855, 10.89913349364321, 11.452239987790895, 9.982620302501056, 22.80246641102546, 9.51514121711173, 9.051910480013921, 9.336691504264929, 13.372479535846272, 8.835200186406118, 8.06122526848237, 9.74465149611787, 20.605340502825737, 28.12486608653994, 33.78412172803015, 17.275322487982653, 34.99303532658977, 39.74532123507922, 40.005649099677306, 25.659359767919756, 34.03540464745, 110.49530806376018, 66.47633582351487, 125.26539355960952, 52.36698010300821, 23.279704090080877, 74.44652869234145, 30.58193354070738, 32.89504756942808, 26.205475514157303, 54.05486865781732, 73.17547562642176, 44.632691433513266, 40.85060890928985, 32.25518362669605, 49.11450572175076, 45.81089385760067, 32.74798046208621, 36.00097764580154, 42.45760650681182, 41.74140415208953, 36.54282306753806, 32.655294063503966, 34.1927288614211, 30.58720089113471, 34.54310597945996, 30.202390522717817], \"Total\": [423.0, 328.0, 333.0, 250.0, 247.0, 120.0, 783.0, 268.0, 116.0, 141.0, 161.0, 112.0, 131.0, 124.0, 144.0, 159.0, 123.0, 194.0, 108.0, 65.0, 104.0, 94.0, 64.0, 98.0, 61.0, 151.0, 75.0, 116.0, 48.0, 107.0, 33.35392144813957, 32.667258033498435, 26.280237572537704, 28.50312694162416, 26.17044383395684, 24.872231200669972, 20.398132158094786, 19.50038243951102, 21.839638482557366, 18.743988926624954, 19.876467173613722, 17.107369491503945, 24.28210246749618, 16.472500802083204, 17.46673546501456, 15.1231678641898, 15.885568991287816, 16.192274819163693, 16.625709121182997, 13.766434718612006, 14.264432203356822, 13.260384419906673, 32.52657763744928, 12.855869634269856, 12.254768501490464, 12.733729076798523, 12.115430405620907, 12.014497833921508, 12.253993351490406, 12.196689243517717, 58.901577147505684, 14.460901201621606, 31.455194028140774, 42.8739689908221, 94.74031493979554, 16.605326588801784, 68.75149291214427, 36.62008051248847, 250.42105297794686, 161.45846026417263, 73.32211303054586, 66.30676985843715, 107.46539790894468, 67.46083580476919, 89.59226878920879, 36.791966444534424, 116.600704145273, 423.7379811045878, 141.22047258579397, 41.684629791961484, 333.0442796215306, 56.89857834418222, 64.9656892159317, 127.38032203992414, 115.26997145933782, 220.40294416456808, 307.9072283452095, 63.00480433279414, 151.93003059707488, 230.60981928964506, 144.2157399456127, 82.91312572568025, 144.93551751140677, 81.09915741668455, 162.03833164630208, 117.70614250227533, 783.6477347661946, 132.09213788266024, 112.33637696925057, 104.84695062295754, 130.8780989744189, 138.2618574853962, 38.39736622243328, 38.2002369333048, 30.157728152943147, 29.292899302908612, 28.436490792182106, 27.65518641479842, 25.36945333005834, 23.179439737908933, 22.49206216231858, 22.357008584620736, 21.259337111693103, 20.26099754168041, 19.160203295779155, 18.204067312890857, 19.1854135589768, 17.101637993287532, 16.41111221642888, 17.200843334666356, 16.0864388778874, 17.813147917286674, 16.49347228998385, 17.096680009557105, 14.344442658444885, 15.524440867178217, 45.754176762741245, 13.424800642956114, 13.346762456416473, 13.072713975404184, 12.17244648920252, 34.709913371174416, 19.911601136548956, 63.39631904771504, 22.291502068576722, 112.03050769149472, 50.263827089570604, 104.66811533863547, 131.2246880156551, 247.91251065947185, 328.84903638843423, 40.35826654199019, 783.6477347661946, 96.81842244551036, 98.22018785230338, 90.02187478295657, 88.61959866582697, 122.1244843765245, 68.05120587280346, 41.200113934977566, 158.44208082792892, 72.69761067552041, 125.79660771751519, 125.41135490660596, 64.70420210618154, 118.21767841363312, 84.37991783337192, 307.9072283452095, 194.5361999836798, 112.82972564810103, 240.766277208891, 90.59041359033206, 133.31328797736504, 175.9709067712609, 183.08874158612787, 132.19822343299626, 123.06979733643544, 120.87681505043805, 48.001433849244115, 46.468356032230055, 37.884405822774696, 36.30947462251628, 29.90523025385853, 27.732012326237214, 28.97750420038645, 29.91305538974466, 30.969940849972847, 22.131595751252345, 21.939018474935896, 19.496576493712904, 19.499298773349025, 18.481320414422783, 18.898521345441427, 17.856748489647217, 18.018040386766366, 18.017983441798002, 18.854592602221782, 19.35750710591239, 18.035394291086945, 17.79895459411671, 19.500560892231494, 15.37739751851877, 16.568096618851747, 15.406640587143546, 17.419458061292037, 15.273673296752587, 15.716648863593882, 64.03460853098593, 65.19846319428177, 20.41985008601886, 116.16734052861887, 48.99647907731841, 30.52309157104467, 61.92112719923842, 59.5164266906568, 29.823663792751365, 75.14599318637718, 31.293607239056925, 56.72838910191528, 28.390500991531194, 42.90519388523813, 37.35331449299727, 80.72917522467954, 32.935779791107485, 124.37888820664247, 37.486578644199774, 268.43627971085493, 83.9954021211069, 108.18919644605883, 107.96583034786826, 70.20384392498818, 123.06979733643544, 199.2250789127468, 194.5361999836798, 240.766277208891, 56.26840419010074, 93.03128269181809, 50.0853480562831, 783.6477347661946, 51.20270786986086, 230.60981928964506, 130.8780989744189, 101.28109790049083, 183.08874158612787, 247.91251065947185, 30.37304417250424, 30.400617018950175, 28.244680750023626, 16.162934904189957, 14.559977116731694, 17.83740827944983, 17.365207551068515, 12.669616867538812, 12.359661820241481, 12.691661889854215, 13.521114902851766, 12.565860143140625, 14.225213636970377, 11.879550778585752, 12.792467311787364, 11.705038381991187, 11.184290541301053, 13.588397828599188, 12.337180003621778, 11.637256337974549, 12.242914656305807, 10.682757588387592, 24.46235640374998, 10.238180261670447, 9.760477920774056, 10.068212631970626, 14.455789893520883, 9.551625497435444, 8.763889724882736, 10.61621217054392, 24.76510764995359, 35.858612063643086, 46.622409625271025, 21.251066917864463, 53.564869498318515, 64.43691686863734, 68.05426998236796, 38.253709691347446, 56.99399402130125, 333.0442796215306, 159.35938275854866, 423.7379811045878, 144.2157399456127, 38.616854909316785, 268.43627971085493, 61.22535704969914, 70.36950560765808, 48.16344089072852, 175.9709067712609, 328.84903638843423, 151.93003059707488, 138.2618574853962, 88.1424771826489, 220.40294416456808, 199.2250789127468, 97.27710297576257, 141.22047258579397, 250.42105297794686, 240.766277208891, 183.08874158612787, 121.81900460577921, 162.03833164630208, 125.41135490660596, 783.6477347661946, 230.60981928964506], \"Category\": [\"Default\", \"Default\", \"Default\", \"Default\", \"Default\", \"Default\", \"Default\", \"Default\", \"Default\", \"Default\", \"Default\", \"Default\", \"Default\", \"Default\", \"Default\", \"Default\", \"Default\", \"Default\", \"Default\", \"Default\", \"Default\", \"Default\", \"Default\", \"Default\", \"Default\", \"Default\", \"Default\", \"Default\", \"Default\", \"Default\", \"Topic1\", \"Topic1\", \"Topic1\", \"Topic1\", \"Topic1\", \"Topic1\", \"Topic1\", \"Topic1\", \"Topic1\", \"Topic1\", \"Topic1\", \"Topic1\", \"Topic1\", \"Topic1\", \"Topic1\", \"Topic1\", \"Topic1\", \"Topic1\", \"Topic1\", \"Topic1\", \"Topic1\", \"Topic1\", \"Topic1\", \"Topic1\", \"Topic1\", \"Topic1\", \"Topic1\", \"Topic1\", \"Topic1\", \"Topic1\", \"Topic1\", \"Topic1\", \"Topic1\", \"Topic1\", \"Topic1\", \"Topic1\", \"Topic1\", \"Topic1\", \"Topic1\", \"Topic1\", \"Topic1\", \"Topic1\", \"Topic1\", \"Topic1\", \"Topic1\", \"Topic1\", \"Topic1\", \"Topic1\", \"Topic1\", \"Topic1\", \"Topic1\", \"Topic1\", \"Topic1\", \"Topic1\", \"Topic1\", \"Topic1\", \"Topic1\", \"Topic1\", \"Topic1\", \"Topic1\", \"Topic1\", \"Topic1\", \"Topic1\", \"Topic1\", \"Topic1\", \"Topic1\", \"Topic1\", \"Topic1\", \"Topic1\", \"Topic1\", \"Topic1\", \"Topic1\", \"Topic2\", \"Topic2\", \"Topic2\", \"Topic2\", \"Topic2\", \"Topic2\", \"Topic2\", \"Topic2\", \"Topic2\", \"Topic2\", \"Topic2\", \"Topic2\", \"Topic2\", \"Topic2\", \"Topic2\", \"Topic2\", \"Topic2\", \"Topic2\", \"Topic2\", \"Topic2\", \"Topic2\", \"Topic2\", \"Topic2\", \"Topic2\", \"Topic2\", \"Topic2\", \"Topic2\", \"Topic2\", \"Topic2\", \"Topic2\", \"Topic2\", \"Topic2\", \"Topic2\", \"Topic2\", \"Topic2\", \"Topic2\", \"Topic2\", \"Topic2\", \"Topic2\", \"Topic2\", \"Topic2\", \"Topic2\", \"Topic2\", \"Topic2\", \"Topic2\", \"Topic2\", \"Topic2\", \"Topic2\", \"Topic2\", \"Topic2\", \"Topic2\", \"Topic2\", \"Topic2\", \"Topic2\", \"Topic2\", \"Topic2\", \"Topic2\", \"Topic2\", \"Topic2\", \"Topic2\", \"Topic2\", \"Topic2\", \"Topic2\", \"Topic2\", \"Topic2\", \"Topic3\", \"Topic3\", \"Topic3\", \"Topic3\", \"Topic3\", \"Topic3\", \"Topic3\", \"Topic3\", \"Topic3\", \"Topic3\", \"Topic3\", \"Topic3\", \"Topic3\", \"Topic3\", \"Topic3\", \"Topic3\", \"Topic3\", \"Topic3\", \"Topic3\", \"Topic3\", \"Topic3\", \"Topic3\", \"Topic3\", \"Topic3\", \"Topic3\", \"Topic3\", \"Topic3\", \"Topic3\", \"Topic3\", \"Topic3\", \"Topic3\", \"Topic3\", \"Topic3\", \"Topic3\", \"Topic3\", \"Topic3\", \"Topic3\", \"Topic3\", \"Topic3\", \"Topic3\", \"Topic3\", \"Topic3\", \"Topic3\", \"Topic3\", \"Topic3\", \"Topic3\", \"Topic3\", \"Topic3\", \"Topic3\", \"Topic3\", \"Topic3\", \"Topic3\", \"Topic3\", \"Topic3\", \"Topic3\", \"Topic3\", \"Topic3\", \"Topic3\", \"Topic3\", \"Topic3\", \"Topic3\", \"Topic3\", \"Topic3\", \"Topic3\", \"Topic3\", \"Topic3\", \"Topic3\", \"Topic3\", \"Topic4\", \"Topic4\", \"Topic4\", \"Topic4\", \"Topic4\", \"Topic4\", \"Topic4\", \"Topic4\", \"Topic4\", \"Topic4\", \"Topic4\", \"Topic4\", \"Topic4\", \"Topic4\", \"Topic4\", \"Topic4\", \"Topic4\", \"Topic4\", \"Topic4\", \"Topic4\", \"Topic4\", \"Topic4\", \"Topic4\", \"Topic4\", \"Topic4\", \"Topic4\", \"Topic4\", \"Topic4\", \"Topic4\", \"Topic4\", \"Topic4\", \"Topic4\", \"Topic4\", \"Topic4\", \"Topic4\", \"Topic4\", \"Topic4\", \"Topic4\", \"Topic4\", \"Topic4\", \"Topic4\", \"Topic4\", \"Topic4\", \"Topic4\", \"Topic4\", \"Topic4\", \"Topic4\", \"Topic4\", \"Topic4\", \"Topic4\", \"Topic4\", \"Topic4\", \"Topic4\", \"Topic4\", \"Topic4\", \"Topic4\", \"Topic4\", \"Topic4\", \"Topic4\", \"Topic4\", \"Topic4\", \"Topic4\", \"Topic4\", \"Topic4\", \"Topic4\"], \"logprob\": [30.0, 29.0, 28.0, 27.0, 26.0, 25.0, 24.0, 23.0, 22.0, 21.0, 20.0, 19.0, 18.0, 17.0, 16.0, 15.0, 14.0, 13.0, 12.0, 11.0, 10.0, 9.0, 8.0, 7.0, 6.0, 5.0, 4.0, 3.0, 2.0, 1.0, -6.2252, -6.2467, -6.4697, -6.3891, -6.4745, -6.527, -6.73, -6.7769, -6.6638, -6.8192, -6.7606, -6.9128, -6.5627, -6.9524, -6.8966, -7.0414, -6.9928, -6.974, -6.9495, -7.1402, -7.1051, -7.1823, -6.2864, -7.2147, -7.2632, -7.2254, -7.2752, -7.2837, -7.2644, -7.2693, -5.7032, -7.1004, -6.3356, -6.0469, -5.2874, -6.9705, -5.6103, -6.2179, -4.3941, -4.8162, -5.5727, -5.6716, -5.2258, -5.6861, -5.4505, -6.2475, -5.2359, -4.1149, -5.0836, -6.1502, -4.4426, -5.9082, -5.8019, -5.2739, -5.3597, -4.8788, -4.7302, -5.8607, -5.2829, -5.0178, -5.3404, -5.7025, -5.3543, -5.7286, -5.3267, -5.541, -4.6643, -5.5827, -5.6554, -5.7117, -5.7082, -5.711, -6.0649, -6.0706, -6.3114, -6.3411, -6.3726, -6.4019, -6.4888, -6.5812, -6.6129, -6.6192, -6.6705, -6.721, -6.7787, -6.831, -6.779, -6.8958, -6.9391, -6.8924, -6.9595, -6.8587, -6.9384, -6.9036, -7.0804, -7.0028, -5.9232, -7.1502, -7.1564, -7.1773, -7.2532, -6.2063, -6.7681, -5.6555, -6.6635, -5.1707, -5.9191, -5.2466, -5.0425, -4.4662, -4.2302, -6.1416, -3.5819, -5.4117, -5.4041, -5.4998, -5.5324, -5.2717, -5.7746, -6.1731, -5.1377, -5.7862, -5.4274, -5.4357, -5.8866, -5.5017, -5.7231, -4.9542, -5.2627, -5.5932, -5.2106, -5.7535, -5.5982, -5.4943, -5.5591, -5.7707, -5.8234, -4.7802, -5.7128, -5.7462, -5.9532, -5.9964, -6.1943, -6.2718, -6.2281, -6.1993, -6.1656, -6.5037, -6.5127, -6.6356, -6.6364, -6.6903, -6.6682, -6.7261, -6.7174, -6.7175, -6.6721, -6.647, -6.7198, -6.733, -6.6427, -6.8818, -6.8073, -6.88, -6.7577, -6.8901, -6.8623, -5.477, -5.4615, -6.6035, -4.9247, -5.7617, -6.2181, -5.5455, -5.5939, -6.2529, -5.4166, -6.2284, -5.7233, -6.3196, -5.9806, -6.1086, -5.486, -6.2226, -5.1854, -6.1211, -4.5985, -5.4937, -5.3152, -5.3389, -5.6599, -5.263, -4.964, -4.997, -4.9924, -5.8625, -5.5946, -5.9433, -4.6164, -5.9405, -5.4414, -5.6369, -5.7258, -5.5585, -5.4847, -5.8143, -5.8139, -5.8887, -6.4659, -6.5772, -6.375, -6.403, -6.7216, -6.7479, -6.7217, -6.6585, -6.7319, -6.6091, -6.7919, -6.7192, -6.8081, -6.8539, -6.6594, -6.7564, -6.8152, -6.7657, -6.903, -6.077, -6.951, -7.0009, -6.9699, -6.6107, -7.0251, -7.1168, -6.9271, -6.1783, -5.8672, -5.6839, -6.3546, -5.6487, -5.5214, -5.5148, -5.959, -5.6765, -4.4989, -5.007, -4.3734, -5.2456, -6.0563, -4.8938, -5.7835, -5.7105, -5.9379, -5.2139, -4.911, -5.4054, -5.4939, -5.7302, -5.3097, -5.3793, -5.715, -5.6203, -5.4554, -5.4724, -5.6054, -5.7179, -5.6719, -5.7833, -5.6617, -5.7959], \"loglift\": [30.0, 29.0, 28.0, 27.0, 26.0, 25.0, 24.0, 23.0, 22.0, 21.0, 20.0, 19.0, 18.0, 17.0, 16.0, 15.0, 14.0, 13.0, 12.0, 11.0, 10.0, 9.0, 8.0, 7.0, 6.0, 5.0, 4.0, 3.0, 2.0, 1.0, 1.2184, 1.2177, 1.2122, 1.2117, 1.2117, 1.21, 1.2053, 1.2034, 1.2032, 1.2007, 1.2007, 1.1984, 1.1983, 1.1967, 1.1939, 1.1931, 1.1925, 1.1922, 1.1903, 1.1884, 1.1879, 1.1837, 1.1823, 1.1822, 1.1816, 1.1811, 1.1811, 1.181, 1.1805, 1.1803, 1.1717, 1.1789, 1.1666, 1.1456, 1.1122, 1.1705, 1.1099, 1.1322, 1.0335, 1.0503, 1.0832, 1.0849, 1.0477, 1.0531, 1.005, 1.098, 0.9561, 0.7867, 0.9169, 1.0704, 0.6998, 1.0013, 0.975, 0.8297, 0.8438, 0.6765, 0.4907, 0.9469, 0.6445, 0.4923, 0.6391, 0.8304, 0.6202, 0.8265, 0.5362, 0.6415, -0.3775, 0.4846, 0.5738, 0.5865, 0.3683, 0.3106, 1.2379, 1.2373, 1.2329, 1.2323, 1.2305, 1.229, 1.2284, 1.2263, 1.2247, 1.2244, 1.2235, 1.2211, 1.2193, 1.2181, 1.2176, 1.2158, 1.2137, 1.2134, 1.2133, 1.2122, 1.2094, 1.2083, 1.207, 1.2055, 1.2043, 1.2034, 1.203, 1.2029, 1.1984, 1.1975, 1.1914, 1.1459, 1.183, 1.0613, 1.1144, 1.0533, 1.0314, 0.9714, 0.9249, 1.1113, 0.7049, 0.9662, 0.9595, 0.9509, 0.934, 0.8741, 0.9559, 1.0592, 0.7477, 0.8783, 0.6887, 0.6834, 0.8943, 0.6765, 0.7923, 0.2667, 0.4175, 0.6317, 0.2563, 0.6909, 0.4599, 0.2861, 0.1817, 0.2958, 0.3146, 1.3758, 1.3667, 1.3658, 1.363, 1.3623, 1.3584, 1.3564, 1.3562, 1.3531, 1.3521, 1.35, 1.3498, 1.3449, 1.3439, 1.3437, 1.3435, 1.3423, 1.342, 1.3419, 1.3419, 1.3407, 1.3387, 1.3386, 1.3376, 1.336, 1.336, 1.3359, 1.3354, 1.3345, 1.3338, 1.3144, 1.3118, 1.3308, 1.271, 1.2973, 1.3142, 1.2794, 1.2706, 1.3026, 1.2148, 1.2789, 1.1892, 1.2851, 1.2112, 1.2217, 1.0737, 1.2336, 0.942, 1.2057, 0.7597, 1.0263, 0.9517, 0.93, 1.0394, 0.875, 0.6923, 0.6831, 0.4745, 1.0582, 0.8232, 1.0937, -0.3296, 1.0744, 0.0686, 0.4396, 0.6071, 0.1823, -0.047, 1.7228, 1.7224, 1.7212, 1.7021, 1.6953, 1.6944, 1.6932, 1.69, 1.6884, 1.6881, 1.688, 1.6879, 1.6867, 1.684, 1.6827, 1.6826, 1.6824, 1.6822, 1.6817, 1.6814, 1.6801, 1.6791, 1.6766, 1.6736, 1.6715, 1.6715, 1.669, 1.6689, 1.6633, 1.6612, 1.563, 1.504, 1.4248, 1.5398, 1.3211, 1.2637, 1.2156, 1.3476, 1.2313, 0.6436, 0.8726, 0.5282, 0.7339, 1.2408, 0.4644, 1.0527, 0.9864, 1.1383, 0.5666, 0.2441, 0.5219, 0.5277, 0.7416, 0.2456, 0.277, 0.6582, 0.3801, -0.0278, -0.0054, 0.1354, 0.4304, 0.1911, 0.3359, -1.3749, -0.2859]}, \"token.table\": {\"Topic\": [2, 1, 3, 4, 2, 4, 4, 2, 1, 1, 4, 2, 3, 2, 4, 2, 3, 2, 1, 3, 4, 1, 3, 4, 1, 3, 4, 2, 4, 3, 2, 3, 4, 2, 3, 4, 2, 1, 2, 4, 1, 2, 3, 4, 1, 4, 4, 1, 3, 4, 4, 1, 3, 4, 1, 2, 4, 3, 2, 4, 1, 2, 4, 1, 4, 2, 1, 3, 4, 1, 2, 4, 2, 3, 1, 2, 4, 2, 3, 2, 3, 1, 2, 3, 4, 2, 3, 1, 2, 4, 3, 3, 3, 4, 1, 1, 2, 3, 4, 1, 1, 3, 1, 2, 4, 3, 1, 3, 4, 1, 3, 1, 2, 3, 1, 1, 2, 3, 4, 1, 2, 3, 4, 1, 1, 3, 1, 3, 4, 3, 2, 3, 4, 1, 2, 4, 4, 3, 3, 4, 1, 2, 4, 3, 1, 2, 4, 1, 2, 3, 4, 4, 1, 4, 1, 4, 1, 2, 1, 4, 1, 4, 1, 2, 3, 4, 1, 2, 3, 1, 1, 2, 3, 4, 1, 2, 3, 2, 3, 4, 2, 1, 2, 4, 1, 2, 3, 4, 1, 2, 3, 4, 2, 3, 4, 1, 1, 3, 4, 2, 3, 1, 2, 1, 2, 3, 4, 1, 2, 3, 4, 1, 2, 3, 4, 1, 2, 3, 4, 3, 4, 4, 2, 3, 4, 1, 4, 3, 2, 3, 3, 1, 3, 1, 1, 1, 2, 3, 4, 1, 2, 3, 1, 2, 4, 1, 2, 3, 4, 1, 2, 3, 4, 1, 2, 3, 4, 2, 1, 3, 4, 2, 3, 3, 1, 2, 4, 2, 1, 2, 3, 4, 1, 2, 4, 1, 4, 2, 2, 1, 3, 4, 1, 2, 3, 4, 1, 3, 2, 3, 4, 4, 4, 1, 3, 1, 2, 3, 4, 2, 2, 1, 4, 1, 2, 3, 4, 3, 1, 2, 3, 4, 1, 2, 3, 1, 2, 4, 4, 1, 1, 2, 1, 1, 3, 1, 2, 3, 4, 1, 2, 1, 2, 3, 2, 1, 2, 3, 1, 2, 4, 1, 1, 1, 1, 3, 4, 1, 2, 4, 2, 4, 2, 3, 1, 2, 3, 1, 2, 3, 4, 1, 2, 3, 4, 3, 1, 2, 3, 4, 2, 1, 1, 2, 3, 4, 2, 1, 1, 2, 3, 1, 2, 3, 4, 1, 2, 3, 4, 1, 2, 3, 4, 1, 2, 3, 4, 4, 1, 2, 3, 3, 4, 2, 4, 1, 2, 3, 1, 2, 4, 1, 3, 4, 1, 2, 3, 4, 1, 1, 2, 3, 4, 2, 4, 1, 1, 2, 1, 2, 4, 1, 3, 4, 4, 1, 2, 3, 3, 3, 1, 3, 4, 1, 3, 4, 4, 1, 2, 3, 4, 4, 3, 2, 4, 1, 2, 3, 4, 2, 4, 3, 2, 4, 1, 2, 3, 4, 1, 2, 4, 3, 1, 4, 1, 2, 3, 1, 2, 3, 4, 1, 2, 3, 4, 1, 2, 4, 1, 2, 3, 4, 1, 3, 4, 1, 2, 3, 4], \"Freq\": [0.9358542121076106, 0.4083275493143547, 0.09799861183544513, 0.5063261611497998, 0.9507370314385616, 0.028810213073895807, 0.9868220760552179, 0.9947582279750149, 0.9893889104257241, 0.9011449330032488, 0.08192226663665898, 0.9887900154738304, 0.952455468392602, 0.825240436316733, 0.1699024427710921, 0.08163851924314479, 0.9184333414853788, 0.9616108963158034, 0.5825051258062752, 0.08407290475554488, 0.3302864115396406, 0.140365667249255, 0.24563991768619625, 0.5965540858093338, 0.026771385982025043, 0.8566843514248014, 0.10708554392810017, 0.9542175875110487, 0.050221978290055196, 0.9697300356434563, 0.015616555218200583, 0.936993313092035, 0.04684966565460175, 0.28712788018317764, 0.6390910881496534, 0.07409751746662648, 0.9871182284513143, 0.9530667611433038, 0.030744089069138832, 0.9380520354304787, 0.4022360891764781, 0.20522249447779492, 0.12313349668667696, 0.2708936927106893, 0.982348359790328, 0.9877179195346528, 0.9422479977273448, 0.23436260501104253, 0.7421482492016347, 0.019530217084253544, 0.9138702821456313, 0.09689746087299579, 0.904376301481294, 0.9614591765105216, 0.24531018024674434, 0.5582921343546595, 0.18609737811821986, 0.9743940139000562, 0.9846503285031883, 0.9280492737808103, 0.2613653338675544, 0.07467580967644412, 0.653413334668886, 0.9603078656556314, 0.9709003510393415, 0.9179425192486843, 0.9732786091625755, 0.25738695396592215, 0.7292630362367795, 0.03385255682902166, 0.7221878790191288, 0.23696789780315164, 0.9854370795755144, 0.974330948991785, 0.3200313600440584, 0.2635552376833422, 0.41415823064525203, 0.9781228524637932, 0.9488696719400221, 0.3419934819318815, 0.6470146955468029, 0.10328612827406916, 0.7539887364007049, 0.041314451309627666, 0.11361474110147607, 0.9036802921875623, 0.9520210249842556, 0.14350304281409504, 0.5740121712563802, 0.2870060856281901, 0.9754576469741206, 0.9571987016644035, 0.9662667911761217, 0.9213825952236021, 0.9804819306488908, 0.19575848689752837, 0.07529172572981861, 0.5019448381987907, 0.23089462557144372, 0.9893365662405371, 0.9623649664130252, 0.9791374180115271, 0.07886893237818375, 0.8991058291112948, 0.01577378647563675, 0.9759201428760795, 0.06552416210346378, 0.9501003505002249, 0.9767360746164879, 0.94719969289264, 0.9766551486405253, 0.9033246000783642, 0.060221640005224286, 0.9899209683272374, 0.9615543781446768, 0.42023837778045786, 0.14517325777870363, 0.3896755866691518, 0.04584418666695904, 0.2865928169824716, 0.6796343945584327, 0.008188366199499189, 0.024565098598497564, 0.9257319713517594, 0.0704460974674802, 0.9157992670772427, 0.9443258378601253, 0.9736040674717046, 0.9419555524470694, 0.9820820249696729, 0.2938831024883782, 0.10285908587093236, 0.5877662049767564, 0.7924790940058414, 0.1785868380858234, 0.033485032141091886, 0.945239984454492, 0.9686812172270036, 0.04087913623262819, 0.9402201333504484, 0.7547124234375177, 0.08576277539062702, 0.15437299570312862, 0.9551122741567756, 0.5477904147618896, 0.08320867059674272, 0.3605709059192185, 0.5522226675531696, 0.15292320024549313, 0.22088906702126787, 0.07646160012274657, 0.9530532537950263, 0.31369506635625105, 0.6796726437718772, 0.16151756966045316, 0.8479672407173791, 0.9096428653094518, 0.06997252810072706, 0.869755087655928, 0.108719385956991, 0.8727083217912435, 0.1163611095721658, 0.6766723285562274, 0.06940229010833102, 0.02602585879062413, 0.23423272911561718, 0.0258248143268884, 0.0774744429806652, 0.8952602299987978, 0.915560529624701, 0.08744273951091945, 0.5644031368432074, 0.27822689844383464, 0.06359471964430506, 0.1333810707948841, 0.026676214158976818, 0.8269626389282814, 0.3900225809975341, 0.6012848123711985, 0.008125470437448627, 0.9301869500638849, 0.8396380194493042, 0.023989657698551548, 0.14393794619130929, 0.5716802036270426, 0.058982878151996466, 0.14972576761660641, 0.22232007918829438, 0.4693693432009987, 0.18169135865845112, 0.15140946554870927, 0.18926183193588658, 0.7176545280225131, 0.05777727132384639, 0.22198635824425192, 0.9792726057371727, 0.02589542836536742, 0.3625359971151439, 0.5955948524034507, 0.26657944571029685, 0.7286504849414781, 0.8592223736617398, 0.13638450375583172, 0.538170362512151, 0.13109278061193425, 0.13799240064414128, 0.1931893609017978, 0.23825062184812193, 0.28363169267633564, 0.11345267707053426, 0.3630485666257096, 0.1583931362942813, 0.3440954340186111, 0.3004007757305335, 0.2020877945823589, 0.07986367581003978, 0.13976143266756963, 0.7587049201953779, 0.019965918952509945, 0.9914767529485441, 0.9471478202900945, 0.9455026539584124, 0.9700807518691182, 0.4360153596094607, 0.5398285404688561, 0.8301112687376613, 0.16305757064489776, 0.974530067169842, 0.987801260672871, 0.9739563838714056, 0.9304671640566544, 0.9219463079469711, 0.06358250399634284, 0.942379088452933, 0.9559042778599386, 0.015421294341370287, 0.43179624155836804, 0.4986218503709726, 0.056544745918357724, 0.06181978712040803, 0.6954726051045904, 0.23182420170153012, 0.8760789960719876, 0.08444134901898676, 0.04222067450949338, 0.5528860862456594, 0.01316395443442046, 0.14480349877862506, 0.2961889747744604, 0.39779589975354795, 0.1952816235153781, 0.11572244356466849, 0.296538761634463, 0.2950115288029334, 0.3857843068961437, 0.12103037079094703, 0.19667435253528892, 0.984031469001344, 0.023307201516785545, 0.8390592546042797, 0.11653600758392772, 0.09586622523515793, 0.8947514355281407, 0.9546745654890958, 0.974339865330171, 0.9763087326560986, 0.9220859954864028, 0.9896512114885339, 0.02235167320327519, 0.1639122701573514, 0.5364401568786046, 0.27567063617372733, 0.07958009231712426, 0.8753810154883669, 0.0596850692378432, 0.9079330763929436, 0.9913371033580041, 0.9394472345690226, 0.9749491557301447, 0.8596407293205987, 0.060325665215480606, 0.07540708151935076, 0.8299348314157954, 0.0805160657343682, 0.01858063055408497, 0.07432252221633988, 0.06135113933714345, 0.9356048748914376, 0.11976686471730022, 0.8516754824341349, 0.03992228823910007, 0.9259609395187532, 0.9566985132448212, 0.35375778505833416, 0.6431959728333349, 0.08862912625692716, 0.531774757541563, 0.1595324272624689, 0.2127099030166252, 0.9355828959939434, 0.9382127700644666, 0.9795741034397745, 0.9128366799602836, 0.312635420840669, 0.14210700947303134, 0.0852642056838188, 0.46895313126100346, 0.9927462098494886, 0.5245741499701477, 0.12399025362930764, 0.0763016945411124, 0.2765936427115324, 0.20196654722524504, 0.5995881870749462, 0.19565509262445616, 0.1913702313309097, 0.5661369343539412, 0.24718654880242502, 0.8939024560746144, 0.9713157821170998, 0.9814621290502825, 0.9683570241187154, 0.9552761183041857, 0.968127767751437, 0.9434988286787235, 0.20174770351756766, 0.13967148705062377, 0.03103810823347195, 0.6207621646694389, 0.96493152569897, 0.9900010135603228, 0.035255716435150374, 0.1233950075230263, 0.8285093362260337, 0.992258668029173, 0.01375561026982599, 0.6877805134912994, 0.30262342593617175, 0.15551775647590219, 0.7331551376721103, 0.09997570059165141, 0.926367676408714, 0.9018840916887563, 0.9803637351933945, 0.6633449109368836, 0.03618244968746638, 0.30152041406221985, 0.05334362082205828, 0.8001543123308742, 0.14478982794558676, 0.9398049105544384, 0.0437118563048576, 0.9543512510499305, 0.9815313457483791, 0.008067362129808624, 0.7542983591371063, 0.2379871828293544, 0.6672930217067508, 0.13345860434135015, 0.09420607365271776, 0.10990708592817071, 0.1504870146354681, 0.1612360871094301, 0.5697008411199864, 0.11823979721358209, 0.973606148281094, 0.04408445025364267, 0.7347408375607111, 0.16164298426335644, 0.05877926700485689, 0.9324624370791704, 0.9442532406756414, 0.172525937578744, 0.45006766324889735, 0.3075462365534132, 0.0675101494873346, 0.9759877280249641, 0.9334257690363966, 0.6658515540741065, 0.02466116866941135, 0.30826460836764186, 0.09524330853807185, 0.15477037637436675, 0.7024194004682799, 0.035716240701776945, 0.0371612863831523, 0.09909676368840614, 0.7308386322019953, 0.12387095461050768, 0.19906903711849994, 0.5767897742151409, 0.18120386712068584, 0.044662924994535246, 0.11848212794642153, 0.2962053198660538, 0.4640550011234843, 0.11848212794642153, 0.8984788597161678, 0.9337610750602643, 0.03395494818400961, 0.016977474092004806, 0.8501392764218042, 0.12144846806025775, 0.19521112494750664, 0.7808444997900266, 0.03360416797861909, 0.06720833595723819, 0.890510451433406, 0.16959666069104556, 0.8212048833461153, 0.9726696049240755, 0.7459748585479917, 0.0952308330061266, 0.158718055010211, 0.05697693710723225, 0.1139538742144645, 0.712211713840403, 0.1139538742144645, 0.9792106638767205, 0.05399427258129294, 0.3696530969026978, 0.40288034156810887, 0.17444303449340798, 0.9740189834389563, 0.9549684512882699, 0.9352694467694814, 0.12389035576634146, 0.8672324903643902, 0.0382160315685316, 0.8216446787234294, 0.1433101183819935, 0.7696370284599147, 0.12314192455358634, 0.10774918398438806, 0.9615399727456856, 0.14221393322160888, 0.6281115383954393, 0.2251720609342141, 0.9425909811354313, 0.9694763581369996, 0.7222748807757542, 0.021243378846345713, 0.2549205461561485, 0.8146279938291175, 0.01597309791821799, 0.1677175281412889, 0.939766247748839, 0.47265983875169, 0.12575353508072487, 0.26885238534499795, 0.13008986387661192, 0.8941112503356619, 0.9657114132105346, 0.9420630308086195, 0.04486014432421998, 0.8281735491772859, 0.027915962331818627, 0.06513724544091012, 0.074442566218183, 0.06917643431219225, 0.8992936460584993, 0.9544019294562258, 0.9662183732306269, 0.936087889036276, 0.16479996910907663, 0.38074475621752185, 0.14775169644262043, 0.30686890799621164, 0.030543619042056703, 0.7432280633567131, 0.22398653964174914, 0.9435018105613034, 0.14116938277005212, 0.7999598356969619, 0.03353042090834761, 0.03353042090834761, 0.9388517854337332, 0.48315583587753896, 0.09251920261484789, 0.09251920261484789, 0.33923707625444227, 0.5163064856175318, 0.026705507876768887, 0.2136440630141511, 0.24925140684984295, 0.7908809202190052, 0.08787565780211169, 0.12302592092295637, 0.49371034117176865, 0.17279861941011904, 0.12342758529294216, 0.20982689499800167, 0.6348262652754861, 0.0684385193047922, 0.2949936176930698, 0.47416879683094815, 0.37348912079150026, 0.11042287049487834, 0.04546824079200873], \"Term\": [\"accomplish\", \"actually\", \"actually\", \"actually\", \"ad\", \"ad\", \"advertising\", \"aerospace\", \"age\", \"ago\", \"ago\", \"annual\", \"antenna\", \"application\", \"application\", \"archive\", \"archive\", \"ariane\", \"article\", \"article\", \"article\", \"assume\", \"assume\", \"assume\", \"asteroid\", \"asteroid\", \"asteroid\", \"astronaut\", \"astronaut\", \"astronomical\", \"astronomy\", \"astronomy\", \"astronomy\", \"available\", \"available\", \"available\", \"aviation\", \"balloon\", \"balloon\", \"bar\", \"base\", \"base\", \"base\", \"base\", \"basically\", \"billboard\", \"bird\", \"body\", \"body\", \"body\", \"bomb\", \"book\", \"book\", \"boost\", \"build\", \"build\", \"build\", \"burst\", \"capability\", \"centaur\", \"cheap\", \"cheap\", \"cheap\", \"child\", \"clementine\", \"clipper\", \"colony\", \"comet\", \"comet\", \"commercial\", \"commercial\", \"commercial\", \"conference\", \"coordinate\", \"cost\", \"cost\", \"cost\", \"coverage\", \"crater\", \"datum\", \"datum\", \"design\", \"design\", \"design\", \"design\", \"designate\", \"detector\", \"development\", \"development\", \"development\", \"directory\", \"disk\", \"distance\", \"drag\", \"dream\", \"earth\", \"earth\", \"earth\", \"earth\", \"eat\", \"economic\", \"email\", \"engine\", \"engine\", \"engine\", \"enter\", \"ether\", \"ether\", \"export\", \"failure\", \"faq\", \"feel\", \"feel\", \"file\", \"film\", \"find\", \"find\", \"find\", \"find\", \"flight\", \"flight\", \"flight\", \"flight\", \"fly_wire\", \"flyby\", \"flyby\", \"fold\", \"format\", \"freeze\", \"frequency\", \"fuel\", \"fuel\", \"fuel\", \"fund\", \"fund\", \"fund\", \"fuselage\", \"galaxy\", \"gehrel\", \"gehrel\", \"get\", \"get\", \"get\", \"gif\", \"go\", \"go\", \"go\", \"good\", \"good\", \"good\", \"good\", \"grade\", \"guess\", \"guess\", \"gun\", \"gun\", \"hand\", \"hand\", \"hard\", \"hard\", \"hear\", \"hear\", \"idea\", \"idea\", \"idea\", \"idea\", \"image\", \"image\", \"image\", \"imagination\", \"include\", \"include\", \"include\", \"include\", \"info\", \"info\", \"info\", \"information\", \"information\", \"information\", \"joint\", \"kind\", \"kind\", \"kind\", \"know\", \"know\", \"know\", \"know\", \"large\", \"large\", \"large\", \"large\", \"launch\", \"launch\", \"launch\", \"liek\", \"light\", \"light\", \"light\", \"list\", \"list\", \"little\", \"little\", \"look\", \"look\", \"look\", \"look\", \"low\", \"low\", \"low\", \"low\", \"lunar\", \"lunar\", \"lunar\", \"lunar\", \"mail\", \"mail\", \"mail\", \"mail\", \"map\", \"mark_brader\", \"marketing\", \"martian\", \"mass\", \"mass\", \"maybe\", \"maybe\", \"measurement\", \"membership\", \"mercury\", \"meter\", \"mind\", \"mind\", \"miner\", \"mining\", \"mission\", \"mission\", \"mission\", \"mission\", \"model\", \"model\", \"model\", \"money\", \"money\", \"money\", \"moon\", \"moon\", \"moon\", \"moon\", \"need\", \"need\", \"need\", \"need\", \"new\", \"new\", \"new\", \"new\", \"newsletter\", \"object\", \"object\", \"object\", \"observation\", \"observation\", \"observe\", \"oil\", \"operate\", \"optimistic\", \"option\", \"orbit\", \"orbit\", \"orbit\", \"orbit\", \"organization\", \"organization\", \"organization\", \"overhead\", \"pad\", \"panel\", \"participate\", \"pat\", \"pat\", \"pat\", \"people\", \"people\", \"people\", \"people\", \"planet\", \"planet\", \"planetary\", \"planetary\", \"planetary\", \"plant\", \"plutonium\", \"post\", \"post\", \"power\", \"power\", \"power\", \"power\", \"presentation\", \"primarily\", \"prize\", \"prize_big_warrent\", \"probably\", \"probably\", \"probably\", \"probably\", \"probe\", \"problem\", \"problem\", \"problem\", \"problem\", \"program\", \"program\", \"program\", \"project\", \"project\", \"project\", \"proton\", \"prototype\", \"pull\", \"purchase\", \"race\", \"raise\", \"ranger\", \"real\", \"real\", \"real\", \"real\", \"reality\", \"redesign\", \"reference\", \"reference\", \"reference\", \"remote_sense\", \"report\", \"report\", \"report\", \"research\", \"research\", \"research\", \"reusable\", \"reward\", \"ride\", \"right\", \"right\", \"right\", \"rocket\", \"rocket\", \"rocket\", \"russian\", \"russian\", \"safety\", \"sample\", \"satellite\", \"satellite\", \"satellite\", \"say\", \"say\", \"say\", \"say\", \"send\", \"send\", \"send\", \"send\", \"server\", \"service\", \"service\", \"service\", \"service\", \"session\", \"shoot\", \"shuttle\", \"shuttle\", \"shuttle\", \"shuttle\", \"single_stage\", \"smiley\", \"software\", \"software\", \"software\", \"solar\", \"solar\", \"solar\", \"solar\", \"source\", \"source\", \"source\", \"source\", \"space\", \"space\", \"space\", \"space\", \"spacecraft\", \"spacecraft\", \"spacecraft\", \"spacecraft\", \"speculation\", \"spend\", \"spend\", \"spend\", \"spin\", \"spin\", \"ssto\", \"ssto\", \"star\", \"star\", \"star\", \"station\", \"station\", \"sunlight\", \"sure\", \"sure\", \"sure\", \"surface\", \"surface\", \"surface\", \"surface\", \"sweep_we\", \"system\", \"system\", \"system\", \"system\", \"task\", \"taste\", \"tax\", \"team\", \"team\", \"technology\", \"technology\", \"technology\", \"tell\", \"tell\", \"tell\", \"temporary\", \"test\", \"test\", \"test\", \"theoretical\", \"theory\", \"thing\", \"thing\", \"thing\", \"think\", \"think\", \"think\", \"thruster\", \"time\", \"time\", \"time\", \"time\", \"ton\", \"tracking\", \"training\", \"training\", \"try\", \"try\", \"try\", \"try\", \"typical\", \"typical\", \"universe\", \"unmanned\", \"uranium\", \"use\", \"use\", \"use\", \"use\", \"vehicle\", \"vehicle\", \"vehicle\", \"venera\", \"visible\", \"visible\", \"volume\", \"volume\", \"volume\", \"want\", \"want\", \"want\", \"want\", \"way\", \"way\", \"way\", \"way\", \"well\", \"well\", \"well\", \"work\", \"work\", \"work\", \"work\", \"write\", \"write\", \"write\", \"year\", \"year\", \"year\", \"year\"]}, \"R\": 30, \"lambda.step\": 0.01, \"plot.opts\": {\"xlab\": \"PC1\", \"ylab\": \"PC2\"}, \"topic.order\": [3, 2, 1, 4]};\n",
       "\n",
       "function LDAvis_load_lib(url, callback){\n",
       "  var s = document.createElement('script');\n",
       "  s.src = url;\n",
       "  s.async = true;\n",
       "  s.onreadystatechange = s.onload = callback;\n",
       "  s.onerror = function(){console.warn(\"failed to load library \" + url);};\n",
       "  document.getElementsByTagName(\"head\")[0].appendChild(s);\n",
       "}\n",
       "\n",
       "if(typeof(LDAvis) !== \"undefined\"){\n",
       "   // already loaded: just create the visualization\n",
       "   !function(LDAvis){\n",
       "       new LDAvis(\"#\" + \"ldavis_el631622126922321122016092596\", ldavis_el631622126922321122016092596_data);\n",
       "   }(LDAvis);\n",
       "}else if(typeof define === \"function\" && define.amd){\n",
       "   // require.js is available: use it to load d3/LDAvis\n",
       "   require.config({paths: {d3: \"https://d3js.org/d3.v5\"}});\n",
       "   require([\"d3\"], function(d3){\n",
       "      window.d3 = d3;\n",
       "      LDAvis_load_lib(\"https://cdn.jsdelivr.net/gh/bmabey/pyLDAvis@3.3.1/pyLDAvis/js/ldavis.v3.0.0.js\", function(){\n",
       "        new LDAvis(\"#\" + \"ldavis_el631622126922321122016092596\", ldavis_el631622126922321122016092596_data);\n",
       "      });\n",
       "    });\n",
       "}else{\n",
       "    // require.js not available: dynamically load d3 & LDAvis\n",
       "    LDAvis_load_lib(\"https://d3js.org/d3.v5.js\", function(){\n",
       "         LDAvis_load_lib(\"https://cdn.jsdelivr.net/gh/bmabey/pyLDAvis@3.3.1/pyLDAvis/js/ldavis.v3.0.0.js\", function(){\n",
       "                 new LDAvis(\"#\" + \"ldavis_el631622126922321122016092596\", ldavis_el631622126922321122016092596_data);\n",
       "            })\n",
       "         });\n",
       "}\n",
       "</script>"
      ],
      "text/plain": [
       "PreparedData(topic_coordinates=              x         y  topics  cluster       Freq\n",
       "topic                                                \n",
       "2     -0.190104  0.043814       1        1  28.949412\n",
       "1      0.061770  0.168455       2        1  28.501786\n",
       "0      0.196466 -0.066502       3        1  25.117211\n",
       "3     -0.068132 -0.145767       4        1  17.431592, topic_info=          Term        Freq       Total Category  logprob  loglift\n",
       "46       write  423.000000  423.000000  Default  30.0000  30.0000\n",
       "17      launch  328.000000  328.000000  Default  29.0000  29.0000\n",
       "0      article  333.000000  333.000000  Default  28.0000  28.0000\n",
       "962      think  250.000000  250.000000  Default  27.0000  27.0000\n",
       "484  satellite  247.000000  247.000000  Default  26.0000  26.0000\n",
       "..         ...         ...         ...      ...      ...      ...\n",
       "63        base   32.655294  121.819005   Topic4  -5.7179   0.4304\n",
       "928       work   34.192729  162.038332   Topic4  -5.6719   0.1911\n",
       "463    project   30.587201  125.411355   Topic4  -5.7833   0.3359\n",
       "177      space   34.543106  783.647735   Topic4  -5.6617  -1.3749\n",
       "919       time   30.202391  230.609819   Topic4  -5.7959  -0.2859\n",
       "\n",
       "[300 rows x 6 columns], token_table=      Topic      Freq        Term\n",
       "term                             \n",
       "237       2  0.935854  accomplish\n",
       "831       1  0.408328    actually\n",
       "831       3  0.097999    actually\n",
       "831       4  0.506326    actually\n",
       "1362      2  0.950737          ad\n",
       "...     ...       ...         ...\n",
       "46        4  0.294994       write\n",
       "234       1  0.474169        year\n",
       "234       2  0.373489        year\n",
       "234       3  0.110423        year\n",
       "234       4  0.045468        year\n",
       "\n",
       "[499 rows x 3 columns], R=30, lambda_step=0.01, plot_opts={'xlab': 'PC1', 'ylab': 'PC2'}, topic_order=[3, 2, 1, 4])"
      ]
     },
     "metadata": {},
     "output_type": "display_data"
    }
   ],
   "source": [
    "plot_model(lda, 'topic_model')"
   ]
  },
  {
   "cell_type": "code",
   "execution_count": 57,
   "id": "3f018810",
   "metadata": {},
   "outputs": [
    {
     "data": {
      "text/html": [
       "<div>\n",
       "<style scoped>\n",
       "    .dataframe tbody tr th:only-of-type {\n",
       "        vertical-align: middle;\n",
       "    }\n",
       "\n",
       "    .dataframe tbody tr th {\n",
       "        vertical-align: top;\n",
       "    }\n",
       "\n",
       "    .dataframe thead th {\n",
       "        text-align: right;\n",
       "    }\n",
       "</style>\n",
       "<table border=\"1\" class=\"dataframe\">\n",
       "  <thead>\n",
       "    <tr style=\"text-align: right;\">\n",
       "      <th></th>\n",
       "      <th>index</th>\n",
       "      <th>text</th>\n",
       "      <th>label</th>\n",
       "      <th>Topic_0</th>\n",
       "      <th>Topic_1</th>\n",
       "      <th>Topic_2</th>\n",
       "      <th>Topic_3</th>\n",
       "      <th>Dominant_Topic</th>\n",
       "      <th>Perc_Dominant_Topic</th>\n",
       "    </tr>\n",
       "  </thead>\n",
       "  <tbody>\n",
       "    <tr>\n",
       "      <th>0</th>\n",
       "      <td>4</td>\n",
       "      <td>article pack rat write clear caution warn memo...</td>\n",
       "      <td>14</td>\n",
       "      <td>0.001929</td>\n",
       "      <td>0.001766</td>\n",
       "      <td>0.191230</td>\n",
       "      <td>0.805075</td>\n",
       "      <td>Topic 3</td>\n",
       "      <td>0.81</td>\n",
       "    </tr>\n",
       "    <tr>\n",
       "      <th>1</th>\n",
       "      <td>13</td>\n",
       "      <td>article write description external_tank option...</td>\n",
       "      <td>14</td>\n",
       "      <td>0.000359</td>\n",
       "      <td>0.938360</td>\n",
       "      <td>0.060858</td>\n",
       "      <td>0.000423</td>\n",
       "      <td>Topic 1</td>\n",
       "      <td>0.94</td>\n",
       "    </tr>\n",
       "    <tr>\n",
       "      <th>2</th>\n",
       "      <td>49</td>\n",
       "      <td>oddly smithsonian call year golden age flight ...</td>\n",
       "      <td>14</td>\n",
       "      <td>0.002804</td>\n",
       "      <td>0.002568</td>\n",
       "      <td>0.991331</td>\n",
       "      <td>0.003297</td>\n",
       "      <td>Topic 2</td>\n",
       "      <td>0.99</td>\n",
       "    </tr>\n",
       "    <tr>\n",
       "      <th>3</th>\n",
       "      <td>59</td>\n",
       "      <td>archive space modify_date upcoming planetary p...</td>\n",
       "      <td>14</td>\n",
       "      <td>0.751157</td>\n",
       "      <td>0.248170</td>\n",
       "      <td>0.000474</td>\n",
       "      <td>0.000200</td>\n",
       "      <td>Topic 0</td>\n",
       "      <td>0.75</td>\n",
       "    </tr>\n",
       "    <tr>\n",
       "      <th>4</th>\n",
       "      <td>119</td>\n",
       "      <td>article write pluto atmosphere start freeze in...</td>\n",
       "      <td>14</td>\n",
       "      <td>0.090835</td>\n",
       "      <td>0.003968</td>\n",
       "      <td>0.011756</td>\n",
       "      <td>0.893441</td>\n",
       "      <td>Topic 3</td>\n",
       "      <td>0.89</td>\n",
       "    </tr>\n",
       "    <tr>\n",
       "      <th>...</th>\n",
       "      <td>...</td>\n",
       "      <td>...</td>\n",
       "      <td>...</td>\n",
       "      <td>...</td>\n",
       "      <td>...</td>\n",
       "      <td>...</td>\n",
       "      <td>...</td>\n",
       "      <td>...</td>\n",
       "      <td>...</td>\n",
       "    </tr>\n",
       "    <tr>\n",
       "      <th>588</th>\n",
       "      <td>11198</td>\n",
       "      <td>archive space controversy modify_date controve...</td>\n",
       "      <td>14</td>\n",
       "      <td>0.649683</td>\n",
       "      <td>0.211882</td>\n",
       "      <td>0.086373</td>\n",
       "      <td>0.052062</td>\n",
       "      <td>Topic 0</td>\n",
       "      <td>0.65</td>\n",
       "    </tr>\n",
       "    <tr>\n",
       "      <th>589</th>\n",
       "      <td>11216</td>\n",
       "      <td>article leigh palmer write article write natio...</td>\n",
       "      <td>14</td>\n",
       "      <td>0.002489</td>\n",
       "      <td>0.002279</td>\n",
       "      <td>0.992305</td>\n",
       "      <td>0.002927</td>\n",
       "      <td>Topic 2</td>\n",
       "      <td>0.99</td>\n",
       "    </tr>\n",
       "    <tr>\n",
       "      <th>590</th>\n",
       "      <td>11261</td>\n",
       "      <td>guy write gravity maneuver exploit fuzzy regio...</td>\n",
       "      <td>14</td>\n",
       "      <td>0.603836</td>\n",
       "      <td>0.001706</td>\n",
       "      <td>0.005182</td>\n",
       "      <td>0.389277</td>\n",
       "      <td>Topic 0</td>\n",
       "      <td>0.60</td>\n",
       "    </tr>\n",
       "    <tr>\n",
       "      <th>591</th>\n",
       "      <td>11275</td>\n",
       "      <td>article pat write happen hypothesis shuttle fl...</td>\n",
       "      <td>14</td>\n",
       "      <td>0.001694</td>\n",
       "      <td>0.165090</td>\n",
       "      <td>0.313491</td>\n",
       "      <td>0.519725</td>\n",
       "      <td>Topic 3</td>\n",
       "      <td>0.52</td>\n",
       "    </tr>\n",
       "    <tr>\n",
       "      <th>592</th>\n",
       "      <td>11286</td>\n",
       "      <td>write stick leave close venus flyby point ques...</td>\n",
       "      <td>14</td>\n",
       "      <td>0.587297</td>\n",
       "      <td>0.002280</td>\n",
       "      <td>0.346455</td>\n",
       "      <td>0.063968</td>\n",
       "      <td>Topic 0</td>\n",
       "      <td>0.59</td>\n",
       "    </tr>\n",
       "  </tbody>\n",
       "</table>\n",
       "<p>593 rows × 9 columns</p>\n",
       "</div>"
      ],
      "text/plain": [
       "     index                                               text  label  \\\n",
       "0        4  article pack rat write clear caution warn memo...     14   \n",
       "1       13  article write description external_tank option...     14   \n",
       "2       49  oddly smithsonian call year golden age flight ...     14   \n",
       "3       59  archive space modify_date upcoming planetary p...     14   \n",
       "4      119  article write pluto atmosphere start freeze in...     14   \n",
       "..     ...                                                ...    ...   \n",
       "588  11198  archive space controversy modify_date controve...     14   \n",
       "589  11216  article leigh palmer write article write natio...     14   \n",
       "590  11261  guy write gravity maneuver exploit fuzzy regio...     14   \n",
       "591  11275  article pat write happen hypothesis shuttle fl...     14   \n",
       "592  11286  write stick leave close venus flyby point ques...     14   \n",
       "\n",
       "      Topic_0   Topic_1   Topic_2   Topic_3 Dominant_Topic  \\\n",
       "0    0.001929  0.001766  0.191230  0.805075        Topic 3   \n",
       "1    0.000359  0.938360  0.060858  0.000423        Topic 1   \n",
       "2    0.002804  0.002568  0.991331  0.003297        Topic 2   \n",
       "3    0.751157  0.248170  0.000474  0.000200        Topic 0   \n",
       "4    0.090835  0.003968  0.011756  0.893441        Topic 3   \n",
       "..        ...       ...       ...       ...            ...   \n",
       "588  0.649683  0.211882  0.086373  0.052062        Topic 0   \n",
       "589  0.002489  0.002279  0.992305  0.002927        Topic 2   \n",
       "590  0.603836  0.001706  0.005182  0.389277        Topic 0   \n",
       "591  0.001694  0.165090  0.313491  0.519725        Topic 3   \n",
       "592  0.587297  0.002280  0.346455  0.063968        Topic 0   \n",
       "\n",
       "     Perc_Dominant_Topic  \n",
       "0                   0.81  \n",
       "1                   0.94  \n",
       "2                   0.99  \n",
       "3                   0.75  \n",
       "4                   0.89  \n",
       "..                   ...  \n",
       "588                 0.65  \n",
       "589                 0.99  \n",
       "590                 0.60  \n",
       "591                 0.52  \n",
       "592                 0.59  \n",
       "\n",
       "[593 rows x 9 columns]"
      ]
     },
     "execution_count": 57,
     "metadata": {},
     "output_type": "execute_result"
    }
   ],
   "source": [
    "lda_results = assign_model(lda)\n",
    "lda_results"
   ]
  },
  {
   "cell_type": "code",
   "execution_count": 58,
   "id": "35c28341",
   "metadata": {},
   "outputs": [
    {
     "data": {
      "text/plain": [
       "0.3903924377119177"
      ]
     },
     "execution_count": 58,
     "metadata": {},
     "output_type": "execute_result"
    }
   ],
   "source": [
    "from gensim.models import CoherenceModel\n",
    "\n",
    "cm = CoherenceModel(model=lda, texts=lda_results['text'].map(str.split).tolist(), dictionary=lda.id2word)\n",
    "cm.get_coherence()"
   ]
  },
  {
   "cell_type": "code",
   "execution_count": 59,
   "id": "1d13ff70",
   "metadata": {},
   "outputs": [],
   "source": [
    "coherences = []\n",
    "for num_topics in range(2, 16):\n",
    "    lda = create_model('lda', num_topics=num_topics)\n",
    "    lda_results = assign_model(lda)\n",
    "    cm = CoherenceModel(model=lda, texts=lda_results['text'].map(str.split).tolist(), dictionary=lda.id2word)\n",
    "    coherences.append(cm.get_coherence())"
   ]
  },
  {
   "cell_type": "code",
   "execution_count": 60,
   "id": "ecd66a33",
   "metadata": {},
   "outputs": [
    {
     "data": {
      "text/plain": [
       "[0.3287639075960368,\n",
       " 0.41286719267286626,\n",
       " 0.3903924377119177,\n",
       " 0.3686437100082084,\n",
       " 0.371270319900679,\n",
       " 0.38012880325576887,\n",
       " 0.3916106491192418,\n",
       " 0.4229313131604606,\n",
       " 0.39865754650251406,\n",
       " 0.3671035349736236,\n",
       " 0.4271548963341792,\n",
       " 0.4135070463740813,\n",
       " 0.4320688402720529,\n",
       " 0.42903410673306314]"
      ]
     },
     "execution_count": 60,
     "metadata": {},
     "output_type": "execute_result"
    }
   ],
   "source": [
    "coherences"
   ]
  },
  {
   "cell_type": "code",
   "execution_count": 61,
   "id": "25430ca8",
   "metadata": {},
   "outputs": [
    {
     "data": {
      "image/png": "[encoded data removed]",
      "text/plain": [
       "<Figure size 396x396 with 1 Axes>"
      ]
     },
     "metadata": {
      "needs_background": "light"
     },
     "output_type": "display_data"
    }
   ],
   "source": [
    "f = plt.figure(figsize=(5.5, 5.5))\n",
    "plt.plot(range(2, 16), coherences)\n",
    "plt.xlabel('number of LDA topics')\n",
    "plt.ylabel('coherence score')\n",
    "plt.tight_layout()"
   ]
  },
  {
   "cell_type": "markdown",
   "id": "8fb4a301",
   "metadata": {},
   "source": [
    "## Top2Vec"
   ]
  },
  {
   "cell_type": "code",
   "execution_count": 62,
   "id": "da689e07",
   "metadata": {},
   "outputs": [
    {
     "name": "stderr",
     "output_type": "stream",
     "text": [
      "2021-09-04 19:56:04,348 - top2vec - INFO - Pre-processing documents for training\n",
      "2021-09-04 19:56:04,660 - top2vec - INFO - Creating joint document/word embedding\n",
      "2021-09-04 19:56:06,734 - top2vec - INFO - Creating lower dimension embedding of documents\n",
      "2021-09-04 19:56:13,466 - top2vec - INFO - Finding dense areas of documents\n",
      "2021-09-04 19:56:13,487 - top2vec - INFO - Finding topics\n"
     ]
    }
   ],
   "source": [
    "from top2vec import Top2Vec\n",
    "import pandas as pd\n",
    "\n",
    "raw_ng_df = pd.DataFrame({'text': newsgroups_train['data'], 'label': newsgroups_train['target']})\n",
    "raw_space_df = raw_ng_df[raw_ng_df['label'] == 14].copy()\n",
    "model = Top2Vec(documents=raw_space_df['text'].to_list(), speed=\"learn\", workers=8)"
   ]
  },
  {
   "cell_type": "code",
   "execution_count": 63,
   "id": "e09fcaab",
   "metadata": {},
   "outputs": [
    {
     "data": {
      "text/plain": [
       "3"
      ]
     },
     "execution_count": 63,
     "metadata": {},
     "output_type": "execute_result"
    }
   ],
   "source": [
    "model.get_topics()[-1].shape[0]"
   ]
  },
  {
   "cell_type": "code",
   "execution_count": 64,
   "id": "7351d479",
   "metadata": {},
   "outputs": [],
   "source": [
    "topic_words, word_scores, topic_nums = model.get_topics()"
   ]
  },
  {
   "cell_type": "code",
   "execution_count": 65,
   "id": "94f8f909",
   "metadata": {},
   "outputs": [
    {
     "data": {
      "text/plain": [
       "array([['again', 'need', 'about', 'no', 'one', 'much', 'so', 'have',\n",
       "        'll', 'not', 'out', 'it', 'know', 'how', 'any', 'give', 'there',\n",
       "        'can', 'back', 'those', 'that', 'all', 'old', 'want', 'every',\n",
       "        'part', 'even', 'is', 'case', 'if', 'area', 'more', 'but', 'to',\n",
       "        'remember', 'without', 'find', 'than', 'when', 'probably',\n",
       "        'some', 're', 'such', 'my', 'see', 'does', 'with', 'anyone',\n",
       "        'sure', 'large'],\n",
       "       ['say', 'really', 'going', 'maybe', 'isn', 'what', 'not', 'like',\n",
       "        'something', 'else', 'said', 'too', 'anything', 'who', 'think',\n",
       "        'll', 'even', 'idea', 'someone', 'that', 'got', 'thing', 'it',\n",
       "        'little', 'problem', 'my', 'right', 'work', 'doing', 'know',\n",
       "        'done', 'much', 'big', 'question', 'go', 'why', 'could',\n",
       "        'actually', 'they', 'so', 'sure', 'never', 'make', 'probably',\n",
       "        'since', 'have', 'when', 'you', 'do', 'then'],\n",
       "       ['date', 'an', 'exploration', 'following', 'also', 'near',\n",
       "        'solar', 'by', 'science', 'astronomy', 'shuttle', 'orbital',\n",
       "        'university', 'information', 'center', 'planetary', 'based',\n",
       "        'technical', 'system', 'research', 'non', 'for', 'space', 'from',\n",
       "        'jpl', 'days', 'support', 'has', 'is', 'office', 'and',\n",
       "        'international', 'available', 'radio', 'technology', 'area',\n",
       "        'including', 'found', 'earth', 'flight', 'missions', 'rocket',\n",
       "        'under', 'faq', 'order', 'many', 'major', 'using', 'observatory',\n",
       "        'good']], dtype='<U13')"
      ]
     },
     "execution_count": 65,
     "metadata": {},
     "output_type": "execute_result"
    }
   ],
   "source": [
    "topic_words"
   ]
  },
  {
   "cell_type": "markdown",
   "id": "e063a747",
   "metadata": {},
   "source": [
    "# Supervised learning"
   ]
  },
  {
   "cell_type": "markdown",
   "id": "b4c495f8",
   "metadata": {},
   "source": [
    "This is an example of using word vectors as features."
   ]
  },
  {
   "cell_type": "markdown",
   "id": "624e4921",
   "metadata": {},
   "source": [
    "To sample down for testing, use `.sample(100).reset_index(drop=True)` when creating the train and test dfs."
   ]
  },
  {
   "cell_type": "code",
   "execution_count": 66,
   "id": "3ef3aa25",
   "metadata": {},
   "outputs": [
    {
     "data": {
      "text/plain": [
       "dict_keys(['data', 'filenames', 'target_names', 'target', 'DESCR'])"
      ]
     },
     "execution_count": 66,
     "metadata": {},
     "output_type": "execute_result"
    }
   ],
   "source": [
    "newsgroups_train.keys()"
   ]
  },
  {
   "cell_type": "code",
   "execution_count": 67,
   "id": "cff8fd9a",
   "metadata": {},
   "outputs": [
    {
     "data": {
      "application/vnd.jupyter.widget-view+json": {
       "model_id": "5856b1c6e0bc4597910707e1cdcdad17",
       "version_major": 2,
       "version_minor": 0
      },
      "text/plain": [
       "Pandas Apply:   0%|          | 0/11314 [00:00<?, ?it/s]"
      ]
     },
     "metadata": {},
     "output_type": "display_data"
    },
    {
     "data": {
      "application/vnd.jupyter.widget-view+json": {
       "model_id": "d10b8ce1caee4273b43d7e2798d78444",
       "version_major": 2,
       "version_minor": 0
      },
      "text/plain": [
       "Pandas Apply:   0%|          | 0/7532 [00:00<?, ?it/s]"
      ]
     },
     "metadata": {},
     "output_type": "display_data"
    }
   ],
   "source": [
    "newsgroups_train = fetch_20newsgroups(remove=('headers', 'footers'))\n",
    "newsgroups_test = fetch_20newsgroups(subset='test', remove=('headers', 'footers'))\n",
    "\n",
    "en_large = spacy.load('en_core_web_lg', disable=['parser', 'ner'])\n",
    "\n",
    "def get_document_vectors(text):\n",
    "    processed = en_large(text)\n",
    "    return processed.vector\n",
    "\n",
    "ng_train_df = pd.DataFrame({'text': newsgroups_train['data'], 'label': newsgroups_train['target']})\n",
    "ng_train_doc_vectors = pd.DataFrame(np.vstack(ng_train_df['text'].swifter.apply(get_document_vectors).tolist()))\n",
    "ng_test_df = pd.DataFrame({'text': newsgroups_test['data'], 'label': newsgroups_test['target']})\n",
    "ng_test_doc_vectors = pd.DataFrame(np.vstack(ng_test_df['text'].swifter.apply(get_document_vectors).tolist()))"
   ]
  },
  {
   "cell_type": "code",
   "execution_count": 68,
   "id": "4133a8bd",
   "metadata": {},
   "outputs": [],
   "source": [
    "ng_train_vector_df = pd.concat([ng_train_df['label'].astype('category'), ng_train_doc_vectors], axis=1)\n",
    "ng_test_vector_df = pd.concat([ng_test_df['label'].astype('category'), ng_test_doc_vectors], axis=1)"
   ]
  },
  {
   "cell_type": "code",
   "execution_count": 69,
   "id": "4bf8c614",
   "metadata": {},
   "outputs": [
    {
     "data": {
      "text/plain": [
       "10    0.053032\n",
       "15    0.052943\n",
       "8     0.052855\n",
       "9     0.052766\n",
       "11    0.052590\n",
       "7     0.052501\n",
       "13    0.052501\n",
       "5     0.052413\n",
       "14    0.052413\n",
       "12    0.052236\n",
       "2     0.052236\n",
       "3     0.052148\n",
       "6     0.051706\n",
       "1     0.051617\n",
       "4     0.051087\n",
       "17    0.049850\n",
       "16    0.048259\n",
       "0     0.042425\n",
       "18    0.041100\n",
       "19    0.033322\n",
       "Name: label, dtype: float64"
      ]
     },
     "execution_count": 69,
     "metadata": {},
     "output_type": "execute_result"
    }
   ],
   "source": [
    "ng_train_vector_df['label'].value_counts(normalize=True)"
   ]
  },
  {
   "cell_type": "code",
   "execution_count": 70,
   "id": "4d4bc129",
   "metadata": {},
   "outputs": [
    {
     "data": {
      "text/html": [
       "<div>\n",
       "<style scoped>\n",
       "    .dataframe tbody tr th:only-of-type {\n",
       "        vertical-align: middle;\n",
       "    }\n",
       "\n",
       "    .dataframe tbody tr th {\n",
       "        vertical-align: top;\n",
       "    }\n",
       "\n",
       "    .dataframe thead th {\n",
       "        text-align: right;\n",
       "    }\n",
       "</style>\n",
       "<table border=\"1\" class=\"dataframe\">\n",
       "  <thead>\n",
       "    <tr style=\"text-align: right;\">\n",
       "      <th></th>\n",
       "      <th>label</th>\n",
       "      <th>0</th>\n",
       "      <th>1</th>\n",
       "      <th>2</th>\n",
       "      <th>3</th>\n",
       "      <th>4</th>\n",
       "      <th>5</th>\n",
       "      <th>6</th>\n",
       "      <th>7</th>\n",
       "      <th>8</th>\n",
       "      <th>...</th>\n",
       "      <th>290</th>\n",
       "      <th>291</th>\n",
       "      <th>292</th>\n",
       "      <th>293</th>\n",
       "      <th>294</th>\n",
       "      <th>295</th>\n",
       "      <th>296</th>\n",
       "      <th>297</th>\n",
       "      <th>298</th>\n",
       "      <th>299</th>\n",
       "    </tr>\n",
       "  </thead>\n",
       "  <tbody>\n",
       "    <tr>\n",
       "      <th>0</th>\n",
       "      <td>7</td>\n",
       "      <td>0.049449</td>\n",
       "      <td>0.208646</td>\n",
       "      <td>-0.147693</td>\n",
       "      <td>-0.069303</td>\n",
       "      <td>0.111246</td>\n",
       "      <td>0.013155</td>\n",
       "      <td>-0.011483</td>\n",
       "      <td>-0.193518</td>\n",
       "      <td>-0.076543</td>\n",
       "      <td>...</td>\n",
       "      <td>-0.238563</td>\n",
       "      <td>-0.023253</td>\n",
       "      <td>0.073658</td>\n",
       "      <td>-0.060100</td>\n",
       "      <td>0.028431</td>\n",
       "      <td>-0.066519</td>\n",
       "      <td>-0.040197</td>\n",
       "      <td>-0.013038</td>\n",
       "      <td>0.005436</td>\n",
       "      <td>0.116571</td>\n",
       "    </tr>\n",
       "    <tr>\n",
       "      <th>1</th>\n",
       "      <td>4</td>\n",
       "      <td>-0.016288</td>\n",
       "      <td>0.146424</td>\n",
       "      <td>-0.089363</td>\n",
       "      <td>-0.051657</td>\n",
       "      <td>0.028966</td>\n",
       "      <td>0.000430</td>\n",
       "      <td>0.026072</td>\n",
       "      <td>-0.118393</td>\n",
       "      <td>0.003177</td>\n",
       "      <td>...</td>\n",
       "      <td>-0.217318</td>\n",
       "      <td>0.051244</td>\n",
       "      <td>0.011505</td>\n",
       "      <td>-0.013299</td>\n",
       "      <td>0.024465</td>\n",
       "      <td>-0.090747</td>\n",
       "      <td>-0.010024</td>\n",
       "      <td>-0.053404</td>\n",
       "      <td>-0.058587</td>\n",
       "      <td>0.066247</td>\n",
       "    </tr>\n",
       "    <tr>\n",
       "      <th>2</th>\n",
       "      <td>4</td>\n",
       "      <td>-0.010889</td>\n",
       "      <td>0.191336</td>\n",
       "      <td>-0.159281</td>\n",
       "      <td>-0.034975</td>\n",
       "      <td>0.075878</td>\n",
       "      <td>0.007909</td>\n",
       "      <td>0.008473</td>\n",
       "      <td>-0.141111</td>\n",
       "      <td>0.013498</td>\n",
       "      <td>...</td>\n",
       "      <td>-0.205405</td>\n",
       "      <td>0.018488</td>\n",
       "      <td>0.009842</td>\n",
       "      <td>-0.051622</td>\n",
       "      <td>0.040851</td>\n",
       "      <td>-0.019679</td>\n",
       "      <td>-0.051688</td>\n",
       "      <td>-0.064055</td>\n",
       "      <td>0.038421</td>\n",
       "      <td>0.108117</td>\n",
       "    </tr>\n",
       "    <tr>\n",
       "      <th>3</th>\n",
       "      <td>1</td>\n",
       "      <td>-0.032975</td>\n",
       "      <td>0.212198</td>\n",
       "      <td>-0.103774</td>\n",
       "      <td>-0.066658</td>\n",
       "      <td>0.110629</td>\n",
       "      <td>0.073716</td>\n",
       "      <td>0.004324</td>\n",
       "      <td>-0.122965</td>\n",
       "      <td>0.021230</td>\n",
       "      <td>...</td>\n",
       "      <td>-0.123165</td>\n",
       "      <td>0.043717</td>\n",
       "      <td>-0.070767</td>\n",
       "      <td>-0.038084</td>\n",
       "      <td>0.019652</td>\n",
       "      <td>-0.027046</td>\n",
       "      <td>-0.028275</td>\n",
       "      <td>-0.081501</td>\n",
       "      <td>0.017188</td>\n",
       "      <td>0.105726</td>\n",
       "    </tr>\n",
       "    <tr>\n",
       "      <th>4</th>\n",
       "      <td>14</td>\n",
       "      <td>-0.020413</td>\n",
       "      <td>0.191989</td>\n",
       "      <td>-0.181565</td>\n",
       "      <td>-0.077202</td>\n",
       "      <td>0.125920</td>\n",
       "      <td>0.051840</td>\n",
       "      <td>0.052221</td>\n",
       "      <td>-0.123223</td>\n",
       "      <td>0.021617</td>\n",
       "      <td>...</td>\n",
       "      <td>-0.135401</td>\n",
       "      <td>0.078578</td>\n",
       "      <td>-0.082896</td>\n",
       "      <td>-0.071532</td>\n",
       "      <td>0.048404</td>\n",
       "      <td>-0.037308</td>\n",
       "      <td>-0.081020</td>\n",
       "      <td>-0.056971</td>\n",
       "      <td>-0.018536</td>\n",
       "      <td>0.031489</td>\n",
       "    </tr>\n",
       "    <tr>\n",
       "      <th>...</th>\n",
       "      <td>...</td>\n",
       "      <td>...</td>\n",
       "      <td>...</td>\n",
       "      <td>...</td>\n",
       "      <td>...</td>\n",
       "      <td>...</td>\n",
       "      <td>...</td>\n",
       "      <td>...</td>\n",
       "      <td>...</td>\n",
       "      <td>...</td>\n",
       "      <td>...</td>\n",
       "      <td>...</td>\n",
       "      <td>...</td>\n",
       "      <td>...</td>\n",
       "      <td>...</td>\n",
       "      <td>...</td>\n",
       "      <td>...</td>\n",
       "      <td>...</td>\n",
       "      <td>...</td>\n",
       "      <td>...</td>\n",
       "      <td>...</td>\n",
       "    </tr>\n",
       "    <tr>\n",
       "      <th>11309</th>\n",
       "      <td>13</td>\n",
       "      <td>-0.058751</td>\n",
       "      <td>0.194507</td>\n",
       "      <td>-0.173803</td>\n",
       "      <td>-0.041258</td>\n",
       "      <td>0.081166</td>\n",
       "      <td>-0.052215</td>\n",
       "      <td>0.016737</td>\n",
       "      <td>-0.129954</td>\n",
       "      <td>0.057909</td>\n",
       "      <td>...</td>\n",
       "      <td>-0.061515</td>\n",
       "      <td>0.021197</td>\n",
       "      <td>-0.025507</td>\n",
       "      <td>-0.049623</td>\n",
       "      <td>0.072904</td>\n",
       "      <td>-0.023158</td>\n",
       "      <td>-0.041457</td>\n",
       "      <td>-0.066105</td>\n",
       "      <td>0.005039</td>\n",
       "      <td>0.073422</td>\n",
       "    </tr>\n",
       "    <tr>\n",
       "      <th>11310</th>\n",
       "      <td>4</td>\n",
       "      <td>0.048711</td>\n",
       "      <td>0.111870</td>\n",
       "      <td>-0.118484</td>\n",
       "      <td>-0.028413</td>\n",
       "      <td>0.059593</td>\n",
       "      <td>-0.009119</td>\n",
       "      <td>-0.012691</td>\n",
       "      <td>-0.174223</td>\n",
       "      <td>0.017714</td>\n",
       "      <td>...</td>\n",
       "      <td>-0.207440</td>\n",
       "      <td>0.000102</td>\n",
       "      <td>0.017769</td>\n",
       "      <td>-0.045889</td>\n",
       "      <td>-0.028098</td>\n",
       "      <td>0.015380</td>\n",
       "      <td>0.004067</td>\n",
       "      <td>-0.069923</td>\n",
       "      <td>-0.020632</td>\n",
       "      <td>0.080148</td>\n",
       "    </tr>\n",
       "    <tr>\n",
       "      <th>11311</th>\n",
       "      <td>3</td>\n",
       "      <td>0.018623</td>\n",
       "      <td>0.135743</td>\n",
       "      <td>-0.021562</td>\n",
       "      <td>-0.039196</td>\n",
       "      <td>0.059757</td>\n",
       "      <td>-0.017441</td>\n",
       "      <td>-0.053337</td>\n",
       "      <td>-0.117367</td>\n",
       "      <td>0.040548</td>\n",
       "      <td>...</td>\n",
       "      <td>-0.212937</td>\n",
       "      <td>0.034250</td>\n",
       "      <td>0.022499</td>\n",
       "      <td>-0.092744</td>\n",
       "      <td>-0.026803</td>\n",
       "      <td>-0.071181</td>\n",
       "      <td>0.025616</td>\n",
       "      <td>-0.062586</td>\n",
       "      <td>-0.032105</td>\n",
       "      <td>0.099645</td>\n",
       "    </tr>\n",
       "    <tr>\n",
       "      <th>11312</th>\n",
       "      <td>1</td>\n",
       "      <td>-0.041982</td>\n",
       "      <td>0.195727</td>\n",
       "      <td>-0.172599</td>\n",
       "      <td>-0.013106</td>\n",
       "      <td>0.107306</td>\n",
       "      <td>-0.020535</td>\n",
       "      <td>-0.013844</td>\n",
       "      <td>-0.113062</td>\n",
       "      <td>-0.004407</td>\n",
       "      <td>...</td>\n",
       "      <td>-0.120684</td>\n",
       "      <td>0.027344</td>\n",
       "      <td>-0.069214</td>\n",
       "      <td>-0.080793</td>\n",
       "      <td>0.036182</td>\n",
       "      <td>0.006319</td>\n",
       "      <td>-0.065134</td>\n",
       "      <td>-0.104145</td>\n",
       "      <td>0.060681</td>\n",
       "      <td>0.101618</td>\n",
       "    </tr>\n",
       "    <tr>\n",
       "      <th>11313</th>\n",
       "      <td>8</td>\n",
       "      <td>-0.011839</td>\n",
       "      <td>0.218934</td>\n",
       "      <td>-0.094353</td>\n",
       "      <td>-0.030268</td>\n",
       "      <td>0.087451</td>\n",
       "      <td>0.002810</td>\n",
       "      <td>-0.006491</td>\n",
       "      <td>-0.067313</td>\n",
       "      <td>-0.028868</td>\n",
       "      <td>...</td>\n",
       "      <td>-0.143880</td>\n",
       "      <td>-0.009674</td>\n",
       "      <td>0.061531</td>\n",
       "      <td>-0.046443</td>\n",
       "      <td>-0.035056</td>\n",
       "      <td>-0.080999</td>\n",
       "      <td>0.044849</td>\n",
       "      <td>-0.045180</td>\n",
       "      <td>-0.038909</td>\n",
       "      <td>0.092776</td>\n",
       "    </tr>\n",
       "  </tbody>\n",
       "</table>\n",
       "<p>11314 rows × 301 columns</p>\n",
       "</div>"
      ],
      "text/plain": [
       "      label         0         1         2         3         4         5  \\\n",
       "0         7  0.049449  0.208646 -0.147693 -0.069303  0.111246  0.013155   \n",
       "1         4 -0.016288  0.146424 -0.089363 -0.051657  0.028966  0.000430   \n",
       "2         4 -0.010889  0.191336 -0.159281 -0.034975  0.075878  0.007909   \n",
       "3         1 -0.032975  0.212198 -0.103774 -0.066658  0.110629  0.073716   \n",
       "4        14 -0.020413  0.191989 -0.181565 -0.077202  0.125920  0.051840   \n",
       "...     ...       ...       ...       ...       ...       ...       ...   \n",
       "11309    13 -0.058751  0.194507 -0.173803 -0.041258  0.081166 -0.052215   \n",
       "11310     4  0.048711  0.111870 -0.118484 -0.028413  0.059593 -0.009119   \n",
       "11311     3  0.018623  0.135743 -0.021562 -0.039196  0.059757 -0.017441   \n",
       "11312     1 -0.041982  0.195727 -0.172599 -0.013106  0.107306 -0.020535   \n",
       "11313     8 -0.011839  0.218934 -0.094353 -0.030268  0.087451  0.002810   \n",
       "\n",
       "              6         7         8  ...       290       291       292  \\\n",
       "0     -0.011483 -0.193518 -0.076543  ... -0.238563 -0.023253  0.073658   \n",
       "1      0.026072 -0.118393  0.003177  ... -0.217318  0.051244  0.011505   \n",
       "2      0.008473 -0.141111  0.013498  ... -0.205405  0.018488  0.009842   \n",
       "3      0.004324 -0.122965  0.021230  ... -0.123165  0.043717 -0.070767   \n",
       "4      0.052221 -0.123223  0.021617  ... -0.135401  0.078578 -0.082896   \n",
       "...         ...       ...       ...  ...       ...       ...       ...   \n",
       "11309  0.016737 -0.129954  0.057909  ... -0.061515  0.021197 -0.025507   \n",
       "11310 -0.012691 -0.174223  0.017714  ... -0.207440  0.000102  0.017769   \n",
       "11311 -0.053337 -0.117367  0.040548  ... -0.212937  0.034250  0.022499   \n",
       "11312 -0.013844 -0.113062 -0.004407  ... -0.120684  0.027344 -0.069214   \n",
       "11313 -0.006491 -0.067313 -0.028868  ... -0.143880 -0.009674  0.061531   \n",
       "\n",
       "            293       294       295       296       297       298       299  \n",
       "0     -0.060100  0.028431 -0.066519 -0.040197 -0.013038  0.005436  0.116571  \n",
       "1     -0.013299  0.024465 -0.090747 -0.010024 -0.053404 -0.058587  0.066247  \n",
       "2     -0.051622  0.040851 -0.019679 -0.051688 -0.064055  0.038421  0.108117  \n",
       "3     -0.038084  0.019652 -0.027046 -0.028275 -0.081501  0.017188  0.105726  \n",
       "4     -0.071532  0.048404 -0.037308 -0.081020 -0.056971 -0.018536  0.031489  \n",
       "...         ...       ...       ...       ...       ...       ...       ...  \n",
       "11309 -0.049623  0.072904 -0.023158 -0.041457 -0.066105  0.005039  0.073422  \n",
       "11310 -0.045889 -0.028098  0.015380  0.004067 -0.069923 -0.020632  0.080148  \n",
       "11311 -0.092744 -0.026803 -0.071181  0.025616 -0.062586 -0.032105  0.099645  \n",
       "11312 -0.080793  0.036182  0.006319 -0.065134 -0.104145  0.060681  0.101618  \n",
       "11313 -0.046443 -0.035056 -0.080999  0.044849 -0.045180 -0.038909  0.092776  \n",
       "\n",
       "[11314 rows x 301 columns]"
      ]
     },
     "execution_count": 70,
     "metadata": {},
     "output_type": "execute_result"
    }
   ],
   "source": [
    "ng_train_vector_df"
   ]
  },
  {
   "cell_type": "markdown",
   "id": "33fd9a59",
   "metadata": {},
   "source": [
    "pycaret can be used but is slow with larger feature sets."
   ]
  },
  {
   "cell_type": "code",
   "execution_count": 71,
   "id": "acdb35e7",
   "metadata": {},
   "outputs": [
    {
     "data": {
      "text/plain": [
       "Index(['label',       0,       1,       2,       3,       4,       5,       6,\n",
       "             7,       8,\n",
       "       ...\n",
       "           290,     291,     292,     293,     294,     295,     296,     297,\n",
       "           298,     299],\n",
       "      dtype='object', length=301)"
      ]
     },
     "execution_count": 71,
     "metadata": {},
     "output_type": "execute_result"
    }
   ],
   "source": [
    "ng_train_vector_df.columns"
   ]
  },
  {
   "cell_type": "code",
   "execution_count": 72,
   "id": "10f2d08f",
   "metadata": {},
   "outputs": [
    {
     "data": {
      "text/html": [
       "<style type=\"text/css\">\n",
       "#T_8711f_row3_col0, #T_8711f_row3_col1, #T_8711f_row3_col2, #T_8711f_row3_col3, #T_8711f_row3_col4, #T_8711f_row3_col5, #T_8711f_row3_col6 {\n",
       "  background: yellow;\n",
       "}\n",
       "</style>\n",
       "<table id=\"T_8711f_\">\n",
       "  <thead>\n",
       "    <tr>\n",
       "      <th class=\"blank level0\" >&nbsp;</th>\n",
       "      <th class=\"col_heading level0 col0\" >Accuracy</th>\n",
       "      <th class=\"col_heading level0 col1\" >AUC</th>\n",
       "      <th class=\"col_heading level0 col2\" >Recall</th>\n",
       "      <th class=\"col_heading level0 col3\" >Prec.</th>\n",
       "      <th class=\"col_heading level0 col4\" >F1</th>\n",
       "      <th class=\"col_heading level0 col5\" >Kappa</th>\n",
       "      <th class=\"col_heading level0 col6\" >MCC</th>\n",
       "    </tr>\n",
       "  </thead>\n",
       "  <tbody>\n",
       "    <tr>\n",
       "      <th id=\"T_8711f_level0_row0\" class=\"row_heading level0 row0\" >0</th>\n",
       "      <td id=\"T_8711f_row0_col0\" class=\"data row0 col0\" >0.7068</td>\n",
       "      <td id=\"T_8711f_row0_col1\" class=\"data row0 col1\" >0.9656</td>\n",
       "      <td id=\"T_8711f_row0_col2\" class=\"data row0 col2\" >0.6938</td>\n",
       "      <td id=\"T_8711f_row0_col3\" class=\"data row0 col3\" >0.7038</td>\n",
       "      <td id=\"T_8711f_row0_col4\" class=\"data row0 col4\" >0.7001</td>\n",
       "      <td id=\"T_8711f_row0_col5\" class=\"data row0 col5\" >0.6911</td>\n",
       "      <td id=\"T_8711f_row0_col6\" class=\"data row0 col6\" >0.6915</td>\n",
       "    </tr>\n",
       "    <tr>\n",
       "      <th id=\"T_8711f_level0_row1\" class=\"row_heading level0 row1\" >1</th>\n",
       "      <td id=\"T_8711f_row1_col0\" class=\"data row1 col0\" >0.7263</td>\n",
       "      <td id=\"T_8711f_row1_col1\" class=\"data row1 col1\" >0.9693</td>\n",
       "      <td id=\"T_8711f_row1_col2\" class=\"data row1 col2\" >0.7144</td>\n",
       "      <td id=\"T_8711f_row1_col3\" class=\"data row1 col3\" >0.7286</td>\n",
       "      <td id=\"T_8711f_row1_col4\" class=\"data row1 col4\" >0.7196</td>\n",
       "      <td id=\"T_8711f_row1_col5\" class=\"data row1 col5\" >0.7117</td>\n",
       "      <td id=\"T_8711f_row1_col6\" class=\"data row1 col6\" >0.7122</td>\n",
       "    </tr>\n",
       "    <tr>\n",
       "      <th id=\"T_8711f_level0_row2\" class=\"row_heading level0 row2\" >2</th>\n",
       "      <td id=\"T_8711f_row2_col0\" class=\"data row2 col0\" >0.7221</td>\n",
       "      <td id=\"T_8711f_row2_col1\" class=\"data row2 col1\" >0.9692</td>\n",
       "      <td id=\"T_8711f_row2_col2\" class=\"data row2 col2\" >0.7086</td>\n",
       "      <td id=\"T_8711f_row2_col3\" class=\"data row2 col3\" >0.7182</td>\n",
       "      <td id=\"T_8711f_row2_col4\" class=\"data row2 col4\" >0.7157</td>\n",
       "      <td id=\"T_8711f_row2_col5\" class=\"data row2 col5\" >0.7072</td>\n",
       "      <td id=\"T_8711f_row2_col6\" class=\"data row2 col6\" >0.7076</td>\n",
       "    </tr>\n",
       "    <tr>\n",
       "      <th id=\"T_8711f_level0_row3\" class=\"row_heading level0 row3\" >Mean</th>\n",
       "      <td id=\"T_8711f_row3_col0\" class=\"data row3 col0\" >0.7184</td>\n",
       "      <td id=\"T_8711f_row3_col1\" class=\"data row3 col1\" >0.9681</td>\n",
       "      <td id=\"T_8711f_row3_col2\" class=\"data row3 col2\" >0.7056</td>\n",
       "      <td id=\"T_8711f_row3_col3\" class=\"data row3 col3\" >0.7169</td>\n",
       "      <td id=\"T_8711f_row3_col4\" class=\"data row3 col4\" >0.7118</td>\n",
       "      <td id=\"T_8711f_row3_col5\" class=\"data row3 col5\" >0.7033</td>\n",
       "      <td id=\"T_8711f_row3_col6\" class=\"data row3 col6\" >0.7037</td>\n",
       "    </tr>\n",
       "    <tr>\n",
       "      <th id=\"T_8711f_level0_row4\" class=\"row_heading level0 row4\" >SD</th>\n",
       "      <td id=\"T_8711f_row4_col0\" class=\"data row4 col0\" >0.0084</td>\n",
       "      <td id=\"T_8711f_row4_col1\" class=\"data row4 col1\" >0.0017</td>\n",
       "      <td id=\"T_8711f_row4_col2\" class=\"data row4 col2\" >0.0087</td>\n",
       "      <td id=\"T_8711f_row4_col3\" class=\"data row4 col3\" >0.0102</td>\n",
       "      <td id=\"T_8711f_row4_col4\" class=\"data row4 col4\" >0.0084</td>\n",
       "      <td id=\"T_8711f_row4_col5\" class=\"data row4 col5\" >0.0088</td>\n",
       "      <td id=\"T_8711f_row4_col6\" class=\"data row4 col6\" >0.0089</td>\n",
       "    </tr>\n",
       "  </tbody>\n",
       "</table>\n"
      ],
      "text/plain": [
       "<pandas.io.formats.style.Styler at 0x2037fa39850>"
      ]
     },
     "metadata": {},
     "output_type": "display_data"
    }
   ],
   "source": [
    "from pycaret.classification import setup, create_model, tune_model, evaluate_model\n",
    "\n",
    "ng_setup = setup(ng_train_vector_df, test_data=ng_test_vector_df, fold=3, target='label')\n",
    "lr = create_model('lr')"
   ]
  },
  {
   "cell_type": "code",
   "execution_count": 73,
   "id": "96feab23",
   "metadata": {},
   "outputs": [],
   "source": [
    "# this takes a while but could be used to fine-tune the model\n",
    "# tuned_lr = tune_model(lr, search_library='scikit-optimize')"
   ]
  },
  {
   "cell_type": "code",
   "execution_count": 74,
   "id": "9b81fe4b",
   "metadata": {},
   "outputs": [
    {
     "data": {
      "application/vnd.jupyter.widget-view+json": {
       "model_id": "8c5d544c3f944161bb72b15322153c98",
       "version_major": 2,
       "version_minor": 0
      },
      "text/plain": [
       "interactive(children=(ToggleButtons(description='Plot Type:', icons=('',), options=(('Hyperparameters', 'param…"
      ]
     },
     "metadata": {},
     "output_type": "display_data"
    }
   ],
   "source": [
    "evaluate_model(lr)"
   ]
  },
  {
   "cell_type": "markdown",
   "id": "be6bb727",
   "metadata": {},
   "source": [
    "Using TFIDF vectors."
   ]
  },
  {
   "cell_type": "code",
   "execution_count": 75,
   "id": "76af904e",
   "metadata": {},
   "outputs": [],
   "source": [
    "vectorizer = TfidfVectorizer(min_df=10, max_df=0.9)\n",
    "train_tfidf = vectorizer.fit_transform(newsgroups_train['data'])\n",
    "test_tfidf = vectorizer.transform(newsgroups_test['data'])"
   ]
  },
  {
   "cell_type": "code",
   "execution_count": 76,
   "id": "39a3c09f",
   "metadata": {},
   "outputs": [
    {
     "data": {
      "text/plain": [
       "numpy.ndarray"
      ]
     },
     "execution_count": 76,
     "metadata": {},
     "output_type": "execute_result"
    }
   ],
   "source": [
    "type(newsgroups_train['target'])"
   ]
  },
  {
   "cell_type": "code",
   "execution_count": 77,
   "id": "446de6e1",
   "metadata": {},
   "outputs": [],
   "source": [
    "train_tfidf_df = pd.DataFrame(train_tfidf.todense())\n",
    "test_tfidf_df = pd.DataFrame(test_tfidf.todense())\n",
    "train_tfidf_df['label'] = pd.Series(newsgroups_train['target']).astype('category')\n",
    "test_tfidf_df['label'] = pd.Series(newsgroups_test['target']).astype('category')"
   ]
  },
  {
   "cell_type": "code",
   "execution_count": 78,
   "id": "2564fea6",
   "metadata": {},
   "outputs": [
    {
     "data": {
      "text/plain": [
       "(11314, 13270)"
      ]
     },
     "execution_count": 78,
     "metadata": {},
     "output_type": "execute_result"
    }
   ],
   "source": [
    "train_tfidf_df.shape"
   ]
  },
  {
   "cell_type": "code",
   "execution_count": 79,
   "id": "f10c213d",
   "metadata": {},
   "outputs": [
    {
     "data": {
      "text/plain": [
       "(7532, 13270)"
      ]
     },
     "execution_count": 79,
     "metadata": {},
     "output_type": "execute_result"
    }
   ],
   "source": [
    "test_tfidf_df.shape"
   ]
  },
  {
   "cell_type": "code",
   "execution_count": 80,
   "id": "ce19b634",
   "metadata": {},
   "outputs": [
    {
     "data": {
      "text/plain": [
       "(11314, 2)"
      ]
     },
     "execution_count": 80,
     "metadata": {},
     "output_type": "execute_result"
    }
   ],
   "source": [
    "ng_train_df.shape"
   ]
  },
  {
   "cell_type": "code",
   "execution_count": 81,
   "id": "9781581e",
   "metadata": {
    "scrolled": true
   },
   "outputs": [
    {
     "data": {
      "text/plain": [
       "0.7585292557892876"
      ]
     },
     "execution_count": 81,
     "metadata": {},
     "output_type": "execute_result"
    }
   ],
   "source": [
    "from sklearn.linear_model import LogisticRegression\n",
    "\n",
    "lr = LogisticRegression()\n",
    "lr.fit(ng_train_vector_df.drop('label', axis=1), ng_train_vector_df['label'])\n",
    "lr.score(ng_train_vector_df.drop('label', axis=1), ng_train_vector_df['label'])"
   ]
  },
  {
   "cell_type": "code",
   "execution_count": 82,
   "id": "842e8a91",
   "metadata": {},
   "outputs": [
    {
     "data": {
      "text/plain": [
       "0.6869357408390866"
      ]
     },
     "execution_count": 82,
     "metadata": {},
     "output_type": "execute_result"
    }
   ],
   "source": [
    "lr.score(ng_test_vector_df.drop('label', axis=1), ng_test_vector_df['label'])"
   ]
  },
  {
   "cell_type": "code",
   "execution_count": 83,
   "id": "13df99cf",
   "metadata": {},
   "outputs": [
    {
     "data": {
      "text/plain": [
       "0.9432561428318897"
      ]
     },
     "execution_count": 83,
     "metadata": {},
     "output_type": "execute_result"
    }
   ],
   "source": [
    "lr = LogisticRegression()\n",
    "lr.fit(train_tfidf_df.drop('label', axis=1), train_tfidf_df['label'])\n",
    "lr.score(train_tfidf_df.drop('label', axis=1), train_tfidf_df['label'])"
   ]
  },
  {
   "cell_type": "code",
   "execution_count": 84,
   "id": "b0fe97b6",
   "metadata": {},
   "outputs": [
    {
     "data": {
      "text/plain": [
       "0.7683218268720128"
      ]
     },
     "execution_count": 84,
     "metadata": {},
     "output_type": "execute_result"
    }
   ],
   "source": [
    "lr.score(test_tfidf_df.drop('label', axis=1), test_tfidf_df['label'])"
   ]
  },
  {
   "cell_type": "markdown",
   "id": "988ab108",
   "metadata": {},
   "source": [
    "# Sentiment analysis"
   ]
  },
  {
   "cell_type": "code",
   "execution_count": 85,
   "id": "1f47c159",
   "metadata": {},
   "outputs": [
    {
     "data": {
      "application/vnd.jupyter.widget-view+json": {
       "model_id": "f01390ee61714792b54ef7bb94cd01be",
       "version_major": 2,
       "version_minor": 0
      },
      "text/plain": [
       "Pandas Apply:   0%|          | 0/11314 [00:00<?, ?it/s]"
      ]
     },
     "metadata": {},
     "output_type": "display_data"
    }
   ],
   "source": [
    "from vaderSentiment.vaderSentiment import SentimentIntensityAnalyzer\n",
    "\n",
    "vader = SentimentIntensityAnalyzer()\n",
    "\n",
    "def get_sentiment(text):\n",
    "    return vader.polarity_scores(text.lower())['compound']\n",
    "\n",
    "ng_train_df['sentiment_score'] = ng_train_df['text'].swifter.apply(get_sentiment)"
   ]
  },
  {
   "cell_type": "code",
   "execution_count": 86,
   "id": "0bd7b692",
   "metadata": {},
   "outputs": [],
   "source": [
    "label_dict = {i: label for i, label in enumerate(newsgroups_train['target_names'])}\n",
    "ng_train_df['label'].replace(label_dict, inplace=True)"
   ]
  },
  {
   "cell_type": "code",
   "execution_count": 87,
   "id": "e9344705",
   "metadata": {},
   "outputs": [
    {
     "data": {
      "text/html": [
       "<div>\n",
       "<style scoped>\n",
       "    .dataframe tbody tr th:only-of-type {\n",
       "        vertical-align: middle;\n",
       "    }\n",
       "\n",
       "    .dataframe tbody tr th {\n",
       "        vertical-align: top;\n",
       "    }\n",
       "\n",
       "    .dataframe thead th {\n",
       "        text-align: right;\n",
       "    }\n",
       "</style>\n",
       "<table border=\"1\" class=\"dataframe\">\n",
       "  <thead>\n",
       "    <tr style=\"text-align: right;\">\n",
       "      <th></th>\n",
       "      <th>sentiment_score</th>\n",
       "    </tr>\n",
       "    <tr>\n",
       "      <th>label</th>\n",
       "      <th></th>\n",
       "    </tr>\n",
       "  </thead>\n",
       "  <tbody>\n",
       "    <tr>\n",
       "      <th>comp.graphics</th>\n",
       "      <td>0.547356</td>\n",
       "    </tr>\n",
       "    <tr>\n",
       "      <th>misc.forsale</th>\n",
       "      <td>0.493030</td>\n",
       "    </tr>\n",
       "    <tr>\n",
       "      <th>rec.sport.hockey</th>\n",
       "      <td>0.470409</td>\n",
       "    </tr>\n",
       "    <tr>\n",
       "      <th>rec.sport.baseball</th>\n",
       "      <td>0.469508</td>\n",
       "    </tr>\n",
       "    <tr>\n",
       "      <th>sci.electronics</th>\n",
       "      <td>0.431782</td>\n",
       "    </tr>\n",
       "    <tr>\n",
       "      <th>comp.sys.ibm.pc.hardware</th>\n",
       "      <td>0.430881</td>\n",
       "    </tr>\n",
       "    <tr>\n",
       "      <th>sci.space</th>\n",
       "      <td>0.424613</td>\n",
       "    </tr>\n",
       "    <tr>\n",
       "      <th>soc.religion.christian</th>\n",
       "      <td>0.395767</td>\n",
       "    </tr>\n",
       "    <tr>\n",
       "      <th>comp.os.ms-windows.misc</th>\n",
       "      <td>0.394298</td>\n",
       "    </tr>\n",
       "    <tr>\n",
       "      <th>comp.sys.mac.hardware</th>\n",
       "      <td>0.377526</td>\n",
       "    </tr>\n",
       "    <tr>\n",
       "      <th>comp.windows.x</th>\n",
       "      <td>0.373962</td>\n",
       "    </tr>\n",
       "    <tr>\n",
       "      <th>sci.crypt</th>\n",
       "      <td>0.353488</td>\n",
       "    </tr>\n",
       "    <tr>\n",
       "      <th>rec.autos</th>\n",
       "      <td>0.338401</td>\n",
       "    </tr>\n",
       "    <tr>\n",
       "      <th>rec.motorcycles</th>\n",
       "      <td>0.295666</td>\n",
       "    </tr>\n",
       "    <tr>\n",
       "      <th>sci.med</th>\n",
       "      <td>0.183302</td>\n",
       "    </tr>\n",
       "    <tr>\n",
       "      <th>talk.religion.misc</th>\n",
       "      <td>0.178544</td>\n",
       "    </tr>\n",
       "    <tr>\n",
       "      <th>alt.atheism</th>\n",
       "      <td>0.125859</td>\n",
       "    </tr>\n",
       "    <tr>\n",
       "      <th>talk.politics.misc</th>\n",
       "      <td>0.104019</td>\n",
       "    </tr>\n",
       "    <tr>\n",
       "      <th>talk.politics.mideast</th>\n",
       "      <td>-0.253308</td>\n",
       "    </tr>\n",
       "    <tr>\n",
       "      <th>talk.politics.guns</th>\n",
       "      <td>-0.308504</td>\n",
       "    </tr>\n",
       "  </tbody>\n",
       "</table>\n",
       "</div>"
      ],
      "text/plain": [
       "                          sentiment_score\n",
       "label                                    \n",
       "comp.graphics                    0.547356\n",
       "misc.forsale                     0.493030\n",
       "rec.sport.hockey                 0.470409\n",
       "rec.sport.baseball               0.469508\n",
       "sci.electronics                  0.431782\n",
       "comp.sys.ibm.pc.hardware         0.430881\n",
       "sci.space                        0.424613\n",
       "soc.religion.christian           0.395767\n",
       "comp.os.ms-windows.misc          0.394298\n",
       "comp.sys.mac.hardware            0.377526\n",
       "comp.windows.x                   0.373962\n",
       "sci.crypt                        0.353488\n",
       "rec.autos                        0.338401\n",
       "rec.motorcycles                  0.295666\n",
       "sci.med                          0.183302\n",
       "talk.religion.misc               0.178544\n",
       "alt.atheism                      0.125859\n",
       "talk.politics.misc               0.104019\n",
       "talk.politics.mideast           -0.253308\n",
       "talk.politics.guns              -0.308504"
      ]
     },
     "execution_count": 87,
     "metadata": {},
     "output_type": "execute_result"
    }
   ],
   "source": [
    "ng_train_df.groupby('label').mean().sort_values(by='sentiment_score', ascending=False)"
   ]
  },
  {
   "cell_type": "code",
   "execution_count": 88,
   "id": "b1881d3a",
   "metadata": {},
   "outputs": [
    {
     "data": {
      "text/plain": [
       "['I was shocked to see that the subject of my last rely to awesley was\\n\"Luser!\"  That was certainly not my intention.  I meant to leave the\\nsubject line unchanged.  I believe that the NNTP server I use at columbia\\nmust have put in that subject line in protest over problems with my header.\\n That was rather rude of them, but beggars can\\'t be choosers, I suppose.\\n\\nIn any case, I didn\\'t do it and I apologize to awesley for the apparent\\ninsult.',\n",
       " \"In article <C4tM1H.ECF@magpie.linknet.com>, manes@magpie.linknet.com (Steve Manes) writes:\\n>\\n>For chrissakes, take out your calculator and work out the numbers.\\n>Here... I've preformatted them for you to make it easier:\\n>\\n>\\t\\t\\thandgun homicides/population\\n>\\t\\t\\t----------------------------\\n>\\tSwitzerland :\\t24 /  6,350,000\\n>\\t         UK :    8 / 55,670,000\\n>\\n>.... and then tell me again how Switzerland is safer with a more\\n>liberal handgun law than the UK is without...by RATE or TOTAL NUMBER.\\n>Your choice.\\n\\nPlease, PAY ATTENTION.\\nI, and others, were referring to TOTAL HOMICIDE DEATHS, NOT JUST\\nHANDGUN HOMICIDES.  In terms of how likely are you to be killed,\\n(regardless of how it's done, 'cause DEAD is DEAD), the UK has a\\nhigher homicide rate. Period.  You are more likely to be killed in the\\nUK than in Switzerland.  If you were to be murdered with a handgun,\\nthen yes, Switzerland has a higher rate.  But, to belabor the point,\\nyou are MORE LIKELY to be murdered in the UK. In that sense, the\\nweapon is irrelevant.  The UK is more violent, period.\\n\\nAl\\n[standard disclaimer]\",\n",
       " '----------------------------------------------------------------------\\nOpen letter by Dr. Paul H. Blackman, Research Coordinator for\\nNRA-ILA. NRA Official Journal 1/89.\\n-----------------------------------------------------------------------\\n\\nDear sir:\\n\\nBy now, we are used to the New England Journal of Medicine\\'s publication\\nof small-scale studies related to firearms from which conclusions are\\ndrawn which are quantum leaps from the data, followed by announcements of \\nmomentus \"scientific\" findings. These are regularly released to the press\\nwithout the caveats which riddle the conclusory paragraphs, and\\noften accompanied by an editorial calling attention to the findings.\\nGenerally, while they at least present a few interesting data, however\\nmeaningless, the studies misinterpret statistics, and ignore or belittle\\nserious studies by criminologists.\\n\\nThe latest effort -- \"Handgun Regulations, Crime, Assaults, and Homicide:\\nA Tale of Two Cities,\" by J.H. Sloan, et al., with the accompanying \\neditorial, \"Firearms Injuries: A Call for Science,\" by two employees\\nof the Centers for Disease Control (November 10), however, is an insult\\nto the intelligence of any serious scholar in any field and have so few\\ndata and so many flaws that I feel compelled to write at some length\\nto call attention to various major and minor failings, in no particular\\norder.\\n\\n\\t1. The authors misleadingly cite Wright, et al. (Ref. 1) to \\n\\tsupport the statement that \"some have argued that restricting\\n\\taccess to handguns could substantially reduce our annual rate\\n\\tof homicide.\" Wright, et al., in fact studied and rejected that\\n\\tcontention.\\n\\t\\n\\t2. The authors pretended that Vancouver and Seattle are very\\n\\tsimilar cities with similar economic circumstances, histories,\\n\\tdemographic characteristics, and the like. In fact, the cities\\n\\tare very different with very different demographic characteristics\\n\\twhich appear to explain completely the higher homicide rate in\\n\\tSeattle. Both cities are over three-forths non-Hispanic white\\n\\tand *the non-Hispanic white homicide rates are reported to be\\n\\tthe same in Seattle and Vancouver*. It is the different back-\\n\\tgrounds, problems, circumstances, and behaviors of the various\\n\\tethnic minorities which explain the difference in homicide.\\n\\t\\n\\t3. The authors pretend they are evaluating Canada\\'s gun law,\\n\\tcompared to Washington State\\'s. But they do not examine at all\\n\\tthe situation in Vancouver prior to the gun law taking effect\\n\\tin 1978. As it happens, in the three years prior to that (1975-\\n\\t1977), Vancouver averaged 23 homicides per year, one-eighth\\n\\tinvolving handguns, (Ref. 2) and in the seven years of the NEJM\\n\\tarticle there were 29 homicides per year, one-eigth involving\\n\\thandguns. Surely even the medical profession recognizes that\\n\\tone must look to see the prior situation was before concluding\\n\\tthat a change made a difference? Would a physician conclude that\\n\\ta patient was benefiting from eating oat bran muffin each day\\n\\tfor seven years because his cholesterol level was 200 without\\n\\tat least seeing if it was 180 before he started the regimen?\\n\\t\\n\\t4. The authors pick two medium-sized cities to evaluate a national\\n\\tgun law. Nothing can be learned from such a tiny and arbitrarily\\n\\tselected sample. Seattle appears to have been selected because\\n\\tit was convienient for the authors rather than for any scientific\\n\\treason. Would physicians call something a scientific study which\\n\\tinvolved one experimental subject and one dissimilar \"control\"?\\n\\tHad different arbitrarily selected cities been chosen, opposite\\n\\t\"scientific\" conclusions would follow: Vancouver\\'s homicide\\n\\trate *exceeds* that of such \"wild west\" cities in Texas as\\n\\tEl Paso, Corpus Christi, Austen, and, in Colorado, Colorado\\n\\tSprings. (Ref. 3)\\n\\t\\n\\t5. The authors fail to clearly demonstrate that firearms or\\n\\thandguns \"are far more commonly owned in Seattle than in\\n\\tVancouver.\" They use two surrogate approaches in pretending\\n\\tto study the availability of firearms/handguns. The first is\\n\\tan apples-and-oranges effort to compare the number of carry\\n\\tpermits in Seattle to the number of registered handguns in\\n\\tVancouver. But the number clearly understates the number of\\n\\thandguns in Seattle, and counts primarily *protective* handgun\\n\\towners. The second, however, tells nothing about the number\\n\\tof handguns in Vancouver, and counts *non-protective* handguns\\n\\tfor the most part. Where is it difficult to obtain handguns\\n\\tlegally for protection, registration figures are\\n\\tmeaningless. There are 66,000 registered handguns in New York\\n\\tCity (New York Daily News, Sept. 27, 1987). Comparing the two,\\n\\tthat method suggests about 930 handguns per 100,000 population\\n\\tin New York City compared to 960 in Vancouver, meaning Vancouver\\n\\thas a greater \"prevalence of weapons\" than New York City.\\n\\t\\n\\tThe second method of measuring gun density is \"Cook\\'s gun\\n\\tprevalence index, a previously validated measure of intercity\\n\\tdifferences.\" But the validation was by Cook of his own\\n\\ttheory. (Ref. 4) Normally, second opinions are sought from a\\n\\tdifferent doctor. More significantly, the Cook index is\\n\\tbased on the average of the percentage of firearms involvement\\n\\tin suicide and homicide. So the authors are basically taking\\n\\ta measure of misuse. Unsurprisingly, gun misuse in homicide\\n\\t(42% in Seattle, 14% in Vancouver) is related to gun misuse in\\n\\thomicide plus suicide, divided by two (41% in Seattle, 12% in\\n\\tVancouver). The authors are not measuring the relative avail-\\n\\tability of firearms, or of handguns, in Seattle and\\n\\tVancouver.\\n\\t\\n\\t6. The authors misstate the laws of both Washington and\\n\\tCanada. They neglect to mention the significant fact that\\n\\tWashington has a waiting period and background check prior to\\n\\tthe purchase of a handgun, and that provisions exist in Canadian\\n\\tlaw for owning and carrying handguns for personal\\n\\tprotection. The authors also make it appear that it is more\\n\\tdifficult to get a handgun legally in Canada than is actually\\n\\tthe case.\\n\\t\\n\\t7. The authors ignore all other factors which might explain\\n\\tthe differences in crime rate, beyond some vague mention of the\\n\\tpenalities provided by law and the roughest of estimates of \\n\\tclearence for one particular offense -- homicide involving a\\n\\tfirearm. There is no measure of: the differences in the number\\n\\tof law enforcement officers; their aggressiveness in making\\n\\tarrests for gun law violations in the two jurisdictions; arrest\\n\\trates for other offenses; conviction rates; actual sentences\\n\\timposed for gun-related crimes, violent crimes without guns,\\n\\tor gun law violations; or incarceration rates. Whereas social\\n\\tscientists would attempt to measure and hold for such differences,\\n\\tthe authors of the NEJM \"tale of two cities\" fail even to mention\\n\\tmost factors related to crime control.\\n\\t\\n\\t8. The authors dismiss claims that handguns are an effective\\n\\tmeans for protection unless the criminal is killed. Such is not\\n\\tthe case. Criminologists (Ref. 5-8) have found that almost\\n\\t650,000 Americans annually use handguns for protection from\\n\\tcriminals, and that using a gun for protection reduces the\\n\\tliklihood that a crime -- rape, robbery, assault -- will be\\n\\tcompleted by the criminal and reduces the likelihood of injury\\n\\tto the victim. It is interesting, nonetheless, that the authors\\n\\treported the same number (four) of civilian justifiable homicides\\n\\twithout firearms in each city but that less restrictive Seattle\\n\\taccounted for 100% of the reported civilian justifiable homicides\\n\\tinvolving firearms.\\n\\t\\n\\t9. The Centers for Disease Control, which funded the \"study,\"\\n\\teditorially praised the paper, (Ref. 9) saying it \"applied\\n\\tscientific methods to examine a focus of contention betweeb\\n\\tadvocates of stricter regulation of firearms, particularly\\n\\thandguns.\" There is nothing in the paper which could possibly\\n\\tbe mistaken for \"scientific methods\" by a sociologists or\\n\\tcriminologists. The Vancouver-Seattle \"study\" is the equivolent\\n\\tof testing an experimental drug to control hypertension by finding\\n\\ttwo ordinary-looking middle-class white males, one aged 25\\n\\tand the other 40, and without first taking their vital signs,\\n\\tadministering the experimental drug to the 25-year-old while\\n\\tgiving the 40-year-old a placebo, then taking their blood pressure\\n\\tand, on finding the younger man had a lower blood pressure, \\n\\tannouncing in a \"special article\" a new medical breakthrough.\\n\\tIt would be nice to think that such a \"study\" would neither be\\n\\tfunded by the CDC or printed by the NEJM.\\n\\t\\n\\tSince the longstanding anti-gun biases of the NEJM and the CDC\\n\\tmake them willing to present shoddy research as \"scientific\\n\\tbreakthroughs\" in \"special articles\" and editorials relating\\n\\tto firearms, we are obligated to correct the record by notifying\\n\\tthe news media and those with congressional and executive oversight\\n\\tover the activities of the Centers for Disease Control about\\n\\tthe distortions contained in \"Handgun Regulations, Crime, Assaults,\\n\\tand Homicides: A Tale of Two Cities\" and \"Firearm Injuries: A Call\\n\\tfor Science.\" Clearly, all scientific standards go by the wayside\\n\\twhenever the CDC and the New England Journal of Medicine seize\\n\\tan opportunity to attack firearms ownership in America.\\n\\t\\n\\t\\t\\t\\tREFERENCES\\n\\n1. Wright JD, et al, *Weapons, crime and violence in America*: a literature\\nreview and research agenda, Washington, D.C.: Department of Justice,\\n1981.\\n\\n2. Scarff E. *Evaluation of the Canadian gun control legislation*: final\\nreport. Ottawa: Ministry of the Solicitor General of Canada, 1983,\\np. 87.\\n\\n3. Department of Justice, Federal Bureau of Investigation, *Crime in\\nthe United States*, 1987 (Uniform Crime Reports). Washington, D.C.:\\nGovernment Printing Office, 1988\\n\\n4. Cook PJ. *The role of firearms in violent crime*. In: Wolfgang M.\\nWeiner NA, eds. *Criminal violence*, Beverly Hills, Calif.: Sage, 1982:\\n236-90, pp. 270-271.\\n\\n5. Kleck G. *Crime control through the private use of armed force*.\\nSocial Problems 1988: 35:1-21.\\n\\n6. Ziegenhagen EA, Brosnan D. *Victim responses to robbery and crime\\ncontrol policy*. Criminology. 1985: 23:675-695.\\n\\n7. Lizotte AJ. *Determinants of completeing rape and assault*. Journal\\nof Quantitative Criminology. 1986: 2:203-217.\\n\\n8. Sayles SL, Kleck G. *Rape and resistance*. Paper at the American Society\\nof Criminology convention, Chicago, 1988.\\n\\n9. Mercy JA, Houk VN. *Firearm injuries: a call for science*. \\nNEJM: 319:1283-1285.\\n==========================================================================\\n\\n                             GUNS AND SPUTTER\\n                            by James D. Wright\\n          (from July 1989 issue of REASON, Free Minds & Free Markets)\\n\\n      Someone once wrote: \"Statistics are like a bikini.  What they real is\\n   suggestive, but what they conceal is vital.\"  The problem is demonstrated\\n   by the most recent entry in a long line of scientific research purporting\\n   to show a causal link between gun availability and homicide.  Funded by\\n   the federal government and published last year in the New England Journal\\n   of Medicine, the study compared homicide rates in Seattle and Vancouver and\\n   suggested that a handgun ban \"may reduce the rate of homicide in a \\n   community.\"\\n      The nine medical doctors who published \"Handgun Regulations, Crime,\\n   Assaults, and Homicide\" essentially reasoned in three steps: (1) Despite\\n   many historical, social, and demographic similarities, (2) Vancouver\\n   has a markedly lower homicide rate (3) because its stricter gun regulations\\n   make guns less available.  The second step in their reasoning seems\\n   indisputable.  The overall homicide rate in Seattle (for the period\\n   1980-86) was 11.3 per 100,000 popuation, compared with 6.9 in Vancouver.\\n   Homicide is definitely more common in Seattle.  The question then becomes,\\n   Why?\\n      The authors present a believable although not entirely accurate case\\n   to support the notion, as claimed in the third step of their reasoning,\\n   that Vancouver\\'s handgun regulations are much more stringent.  But their\\n   evidence on the difference in gun *availabilty* is indirect and \\n   unpersuasive; indeed, they acknowledge that direct evidence on the point\\n   does not exist.  They offer two fragments of inferential data in support\\n   of the claim that guns are more available in Seattle; but for all anybody\\n   knows as a matter of empirical fact, the opposite could be true.  We\\n   are therefore being asked, at the conclusion of the study, to believe that\\n   a difference in gun availability explains the difference in homicide rates\\n   when a difference in gun availability has not itself been established.\\n      Indeed, the situation is even more troublesome.  The first of the two\\n   indirect bits of evidence is a difference between the number of concealed-\\n   weapons permits issued in Seattle and the number of restricted-weapons\\n   permits issued in Vancouver.  Differences between the two cities in the\\n   permit regulations render these two numbers strictly noncomparable.\\n*     The second bit of evidence is \"Cook\\'s gun prevalence index,\" which stands\\n*  at 41 percent for Seattle but only 12 percent for Vancouver.  Cook\\'s index\\n*  however, does not measure the relative prevalence of gun ownership in \\n*  various cities.  It measures gun misuse--it is an average of the percentage\\n*  of homicides and suicides involving firearms.\\n*     In the present case, the index shows only that in homicides and suicides,\\n*  firearms are more likely to be used in Seatte than in Vancouver.  To take\\n*  Cook\\'s index as a measure of general firearms availability, it must be\\n*  assumed that the proportional involvement of guns in homicides and suicides\\n*  is directly related to their relative availability in the general \\n*  population.  But this is exactly what the authors are seeking to prove. To\\n*  assume what one is seeking to prove, then to \"prove\" it on the basis of\\n*  that assumption does ot constitute scientific evidence for anything.\\n      Even if we were to grant, on the basis of no compelling evidence, that\\n   guns are less common in Vancouver, we might still question what causes what.\\n   The authors attribute Seattle\\'s higher crime rate to a higher rate of gun\\n   ownership.  But it might well be argued that low crime or homicide rates\\n   reduce the motivation for average citizens to obtain guns--in other words,\\n   that crime rates explain the variation in gun ownership, not vice versa.\\n      In fact, it was once commonly argued that Great Britain\\'s low rate of\\n   violent crime was a function of that nation\\'s strict gun laws and the \\n   consequent low rate of gun ownership--until British researcher Colin \\n   Greenwood found that Great Britain had enjoyed low rates of violent crime\\n   for many decades before strict firearms controls were enacted.  To invoke\\n   an ancient methodological saw, correlation is not cause.\\n      Nor do the problems with this study end with its lack of direct data\\n   on gun ownership.  The authors say Seattle and Vancouver are \"similar in\\n   many ways,\" implying that they differ mainly in gun availability, gun-law\\n   stringency, and crime rates.  This is an evident attempt to establish\\n   the ceteris paribus condition of a sound scientific analysis--that \"all\\n   else is equal\" among things being compared.\\n*     Clearly the two cities are similar in some ways, but a closer look \\n*  reveals differences in ways that are relevant to their respective crime\\n*  or homicide rates.  The cities are closely matched in what percentage\\n*  of their population is white (79 percent and 76 percent).  But Seattle\\n*  is about 10 percent black, while Vancouver is less than 0.5 percent.\\n*  Vancouver\\'s minority population is overwhelmingly Asian.  So although the\\n*  authors show that th two cities are approximately comparable on a half-\\n*  dozen readily available demographic indicators, they have not shown\\n*  that all potentially relevant sources of variation have been ruled out.\\n*     In fact, the differences in racial compositions of the two cities is\\n*  particularly relevant in light of the study\\'s breakdown of homicide rates\\n*  according to the race of the victim.  For the white majority, the homicide\\n*  rates are nearly identical--6.2 per 100,000 in Seattle, 6.4 in Vancouver.\\n*  The differing overall homicide rates in the two cities are therefore due\\n*  entirely to vastly different rates among racial minorities.  For blacks,\\n*  the observed difference in homicide rate is 36.6 to 9.5 and for Hispanics\\n*  26.9 to 7.9.  (Methodoligical complexities render the Asian comparison\\n*  problematic, but it too is higher in Seattle than in Vancouver.)  Racial\\n*  minorities are much more likely to be the victims of homicide in Seattle\\n*  than in Vancouver; the white majority is equally likely to be slain\\n*  in either city.\\n      Since the nearly 2:1 initial difference in homicide reates between the\\n   cities is due exclusively to 3:1 or 4:1 differences between minority \\n   groups, it is fair to ask why postulated difference in \"gun availability\"\\n   (or gun-law strigency) would matter so dramatically to minorities but not\\n   matter at all to whites.  Can differential gun availability explain why\\n   blacks and Hispanics--but not whites--are so much more likely to be killed\\n   in Seattle than in Vancouver?  (Studies in the United States, incidentally,\\n   do not show large or consistent racial differences in gun ownership.)\\n      Or are other explanations more plausible?  Could the disparity between\\n   Canadian and American rates of poverty among racial minorities have \\n   anything to do with it?  What are the relative rates of drug or alcohol \\n   abuse?  Of homelessness among each cty\\'s minority population?  (The city\\n   of Seattle runs the largest shelter for homeless men west of the \\n   Mississippi.)  Unemployment among young, central-city, nonwhite men in the\\n   United States usually exceeds 40 percent.  What is the comparable Canadian\\n   percentage?\\n      The crucial point is that Canada and the United States differ in many\\n   ways, as do cities and population subgroups with the two countries.  Absent\\n   more detailed analysis, nearly any of these \"many ways\" might explain part\\n   or all of the difference in homicide rates.  In gross comparisons such\\n   as those between Seattle and Vancouver, all else is *not* equal.\\n*     The authors of this study acknowledge that racial patterns in homicide\\n*  result in a \"complex picture.\"  They do not acknowledge that the ensuing\\n*  complexities seriously undercut the main thrust of their argument.  They\\n*  also acknowledge that \"socio-economic status is probably an important\\n*  confounding factor in our comparison,\" remarking further that \"blacks   \\n*  in Vancouver had a slightly higher mean income in 1981 than the rest of\\n*  Vancouver\\'s population.\"  Given the evidence presented in the article,\\n*  it is possible that all of the difference in homicide rates between Seattle\\n*  and Vancouver results from greater proverty among Seattle\\'s racial\\n*  minorities.  But the authors pay no further attention to this possibility,\\n*  since \"detailed information about household incomes according to race\\n*  is not available for Vancouver.\"\\n      The largely insurmountable methodological difficulties confronted in \\n   gross comparative studies of this sort can be illustrated with as simple\\n   example.  If one were to take all U.S. couties and compare them in terms\\n   of (1) pervalence of gun ownership and (2) crime or homicide rates, one \\n   would find an astonishing pattern: Counties with more guns have less crime.\\n   Would one conclude from this evidence alone that guns actually reduce \\n   crime?  Or would one insist that other variables also be taken into\\n   account?  In this example, the \"hidden variable\" is city size: Guns are\\n   more common in small towns and rural areas, whereas crime is a big-city\\n   problem.  If researchers failed to anticipate this variable, or lacked the\\n   appropriate data to examine its possible consequences, they coud be very\\n   seriously misled.  In the study at hand, the authors matched two cities\\n   for size but not for minority poverty rates or other hidden variables,\\n   and their results are impossible to interpret.\\n      In the editorial \"Firearm Injuries: A Call for Science\" accompanying\\n   the study, two officials from the Centers for Disease Control lauded the\\n   authors for applying \"scientific methods\" to a problem of grave public\\n   heath significance.  But in attempting to draw causal conclusions from\\n   nonexperimental research, the essence of scientific method is to anticipate\\n   plausible alternative explanations for the results and try to rule them\\n   out.  Absent such effort, the results may well seem scientific but are\\n   little more than polemics masquerading as serious research.  That this\\n   study is but one of a number of recent efforts--all employing practical\\n   identical research designs and published in leading scientific journals--\\n   is cause for further concern.\\n\\n   [James D. Wright is professor of sociology at Tulane University.  He has\\n   researched extensively on the relationship of firearms and crime.]\\n\\nReason published monthly except combined August-September issue by the Reason\\nFoundation, a nonprofit, tax-exempt organization.  Subscription rate: $24.00 \\nper year.']"
      ]
     },
     "execution_count": 88,
     "metadata": {},
     "output_type": "execute_result"
    }
   ],
   "source": [
    "ng_train_df[(ng_train_df['label'] == 'talk.politics.guns') & (ng_train_df['sentiment_score'] < -0.5)].sample(3, random_state=42)['text'].tolist()"
   ]
  },
  {
   "cell_type": "code",
   "execution_count": 89,
   "id": "908f0b68",
   "metadata": {},
   "outputs": [
    {
     "data": {
      "text/html": [
       "<div>\n",
       "<style scoped>\n",
       "    .dataframe tbody tr th:only-of-type {\n",
       "        vertical-align: middle;\n",
       "    }\n",
       "\n",
       "    .dataframe tbody tr th {\n",
       "        vertical-align: top;\n",
       "    }\n",
       "\n",
       "    .dataframe thead th {\n",
       "        text-align: right;\n",
       "    }\n",
       "</style>\n",
       "<table border=\"1\" class=\"dataframe\">\n",
       "  <thead>\n",
       "    <tr style=\"text-align: right;\">\n",
       "      <th></th>\n",
       "      <th>text</th>\n",
       "      <th>label</th>\n",
       "      <th>sentiment_score</th>\n",
       "    </tr>\n",
       "  </thead>\n",
       "  <tbody>\n",
       "    <tr>\n",
       "      <th>5141</th>\n",
       "      <td>I was shocked to see that the subject of my la...</td>\n",
       "      <td>talk.politics.guns</td>\n",
       "      <td>-0.8197</td>\n",
       "    </tr>\n",
       "    <tr>\n",
       "      <th>1347</th>\n",
       "      <td>In article &lt;C4tM1H.ECF@magpie.linknet.com&gt;, ma...</td>\n",
       "      <td>talk.politics.guns</td>\n",
       "      <td>-0.9744</td>\n",
       "    </tr>\n",
       "    <tr>\n",
       "      <th>8114</th>\n",
       "      <td>----------------------------------------------...</td>\n",
       "      <td>talk.politics.guns</td>\n",
       "      <td>-0.9999</td>\n",
       "    </tr>\n",
       "  </tbody>\n",
       "</table>\n",
       "</div>"
      ],
      "text/plain": [
       "                                                   text               label  \\\n",
       "5141  I was shocked to see that the subject of my la...  talk.politics.guns   \n",
       "1347  In article <C4tM1H.ECF@magpie.linknet.com>, ma...  talk.politics.guns   \n",
       "8114  ----------------------------------------------...  talk.politics.guns   \n",
       "\n",
       "      sentiment_score  \n",
       "5141          -0.8197  \n",
       "1347          -0.9744  \n",
       "8114          -0.9999  "
      ]
     },
     "execution_count": 89,
     "metadata": {},
     "output_type": "execute_result"
    }
   ],
   "source": [
    "ng_train_df[(ng_train_df['label'] == 'talk.politics.guns') & (ng_train_df['sentiment_score'] < -0.5)].sample(3, random_state=42)"
   ]
  },
  {
   "cell_type": "code",
   "execution_count": 90,
   "id": "70d77e79",
   "metadata": {},
   "outputs": [
    {
     "data": {
      "text/plain": [
       "['I am looking for comments from people who have used/heard about PhotoShop\\nfor Windows. Is it good? How does it compare to the Mac version? Is there\\na lot of bugs (I heard the Windows version needs \"fine-tuning)?\\n\\nAny comments would be greatly appreciated..\\n\\nThank you.',\n",
       " \"bolson@carson.u.washington.edu (Edward Bolson) writes:\\n\\n>Boy, this will be embarassing if it is trivial or an FAQ:\\n\\n>Given 4 points (non coplanar), how does one find the sphere, that is,\\n>center and radius, exactly fitting those points?  I know how to do it\\n>for a circle (from 3 points), but do not immediately see a \\n>straightforward way to do it in 3-D.  I have checked some\\n>geometry books, Graphics Gems, and Farin, but am still at a loss?\\n>Please have mercy on me and provide the solution?  \\n\\nIt's not a bad question: I don't have any refs that list this algorithm\\neither. But thinking about it a bit, it shouldn't be too hard.\\n\\n1) Take three of the points and find the plane they define as well as\\nthe circle that they lie on (you say you have this algorithm already)\\n\\n2) Find the center  of this circle. The line passing through this center\\nperpendicular to the plane of the three points passes through the center of\\nthe sphere.\\n\\n3) Repeat with the unused point and two of the original points. This\\ngives you two different lines that both pass through the sphere's\\norigin. Their interection is the center of the sphere.\\n\\n4) the radius is easy to compute, it's just the distance from the center to\\nany of the original points.\\n\\nI'll leave the math to you, but this is a workable algorithm. :-)\\n\\n\\nAn alternate method would be to take pairs of points: the plane formed\\nby the perpendicular bisector of each line segment pair also contains the\\ncenter of the sphere. Three pairs will form three planes, intersecting\\nat a point. This might be easier to implement.\",\n",
       " 'I am setting up a video-aid for a computer room for the teacher to share his\\ndisplay with the class.\\n\\nI have seen people using video projector, TV sets and large monitor to do\\npresentations before. I am told that there are three ways to connect video\\nprojector: composite, Y/C & RGB.\\n\\nCan anyone explain to me the difference and their likely costs?\\n\\nPlease reply to my INETNET E-mail account as well as posting in bulletin:\\nu129008@sparc20.nuc.edu.tw\\n\\nI also like to know if there are TELNET or KERMIT for windows.']"
      ]
     },
     "execution_count": 90,
     "metadata": {},
     "output_type": "execute_result"
    }
   ],
   "source": [
    "ng_train_df[(ng_train_df['label'] == 'comp.graphics') & (ng_train_df['sentiment_score'] > 0.5)].sample(3, random_state=42)['text'].tolist()"
   ]
  },
  {
   "cell_type": "code",
   "execution_count": 91,
   "id": "d95299be",
   "metadata": {},
   "outputs": [
    {
     "data": {
      "text/html": [
       "<div>\n",
       "<style scoped>\n",
       "    .dataframe tbody tr th:only-of-type {\n",
       "        vertical-align: middle;\n",
       "    }\n",
       "\n",
       "    .dataframe tbody tr th {\n",
       "        vertical-align: top;\n",
       "    }\n",
       "\n",
       "    .dataframe thead th {\n",
       "        text-align: right;\n",
       "    }\n",
       "</style>\n",
       "<table border=\"1\" class=\"dataframe\">\n",
       "  <thead>\n",
       "    <tr style=\"text-align: right;\">\n",
       "      <th></th>\n",
       "      <th>text</th>\n",
       "      <th>label</th>\n",
       "      <th>sentiment_score</th>\n",
       "    </tr>\n",
       "  </thead>\n",
       "  <tbody>\n",
       "    <tr>\n",
       "      <th>8581</th>\n",
       "      <td>I am looking for comments from people who have...</td>\n",
       "      <td>comp.graphics</td>\n",
       "      <td>0.8693</td>\n",
       "    </tr>\n",
       "    <tr>\n",
       "      <th>8374</th>\n",
       "      <td>bolson@carson.u.washington.edu (Edward Bolson)...</td>\n",
       "      <td>comp.graphics</td>\n",
       "      <td>0.9829</td>\n",
       "    </tr>\n",
       "    <tr>\n",
       "      <th>9785</th>\n",
       "      <td>I am setting up a video-aid for a computer roo...</td>\n",
       "      <td>comp.graphics</td>\n",
       "      <td>0.7964</td>\n",
       "    </tr>\n",
       "  </tbody>\n",
       "</table>\n",
       "</div>"
      ],
      "text/plain": [
       "                                                   text          label  \\\n",
       "8581  I am looking for comments from people who have...  comp.graphics   \n",
       "8374  bolson@carson.u.washington.edu (Edward Bolson)...  comp.graphics   \n",
       "9785  I am setting up a video-aid for a computer roo...  comp.graphics   \n",
       "\n",
       "      sentiment_score  \n",
       "8581           0.8693  \n",
       "8374           0.9829  \n",
       "9785           0.7964  "
      ]
     },
     "execution_count": 91,
     "metadata": {},
     "output_type": "execute_result"
    }
   ],
   "source": [
    "ng_train_df[(ng_train_df['label'] == 'comp.graphics') & (ng_train_df['sentiment_score'] > 0.5)].sample(3, random_state=42)"
   ]
  },
  {
   "cell_type": "code",
   "execution_count": 92,
   "id": "bd0c3494",
   "metadata": {},
   "outputs": [
    {
     "data": {
      "text/plain": [
       "<AxesSubplot:xlabel='sentiment_score', ylabel='Count'>"
      ]
     },
     "execution_count": 92,
     "metadata": {},
     "output_type": "execute_result"
    },
    {
     "data": {
      "image/png": "[encoded data removed]",
      "text/plain": [
       "<Figure size 396x396 with 1 Axes>"
      ]
     },
     "metadata": {},
     "output_type": "display_data"
    }
   ],
   "source": [
    "import seaborn as sns\n",
    "import matplotlib.pyplot as plt\n",
    "\n",
    "f = plt.figure(figsize=(5.5, 5.5))\n",
    "sns.histplot(ng_train_df[ng_train_df['label'].isin(['talk.politics.guns', 'rec.sport.hockey'])], x='sentiment_score', hue='label')"
   ]
  }
 ],
 "metadata": {
  "kernelspec": {
   "display_name": "Python 3 (ipykernel)",
   "language": "python",
   "name": "python3"
  },
  "language_info": {
   "codemirror_mode": {
    "name": "ipython",
    "version": 3
   },
   "file_extension": ".py",
   "mimetype": "text/x-python",
   "name": "python",
   "nbconvert_exporter": "python",
   "pygments_lexer": "ipython3",
   "version": "3.9.6"
  }
 },
 "nbformat": 4,
 "nbformat_minor": 5
}

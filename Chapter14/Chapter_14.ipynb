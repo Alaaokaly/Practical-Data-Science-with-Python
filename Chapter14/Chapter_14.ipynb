{
 "cells": [
  {
   "cell_type": "markdown",
   "id": "869348ca",
   "metadata": {},
   "source": [
    "# Hyperparameter optimization"
   ]
  },
  {
   "cell_type": "code",
   "execution_count": 1,
   "id": "a811bcf6",
   "metadata": {},
   "outputs": [
    {
     "data": {
      "text/html": [
       "<div>\n",
       "<style scoped>\n",
       "    .dataframe tbody tr th:only-of-type {\n",
       "        vertical-align: middle;\n",
       "    }\n",
       "\n",
       "    .dataframe tbody tr th {\n",
       "        vertical-align: top;\n",
       "    }\n",
       "\n",
       "    .dataframe thead th {\n",
       "        text-align: right;\n",
       "    }\n",
       "</style>\n",
       "<table border=\"1\" class=\"dataframe\">\n",
       "  <thead>\n",
       "    <tr style=\"text-align: right;\">\n",
       "      <th></th>\n",
       "      <th>LotArea</th>\n",
       "      <th>YearBuilt</th>\n",
       "      <th>FullBath</th>\n",
       "      <th>TotRmsAbvGrd</th>\n",
       "      <th>GarageArea</th>\n",
       "      <th>1stFlrSF</th>\n",
       "      <th>2ndFlrSF</th>\n",
       "      <th>SalePrice</th>\n",
       "    </tr>\n",
       "    <tr>\n",
       "      <th>Id</th>\n",
       "      <th></th>\n",
       "      <th></th>\n",
       "      <th></th>\n",
       "      <th></th>\n",
       "      <th></th>\n",
       "      <th></th>\n",
       "      <th></th>\n",
       "      <th></th>\n",
       "    </tr>\n",
       "  </thead>\n",
       "  <tbody>\n",
       "    <tr>\n",
       "      <th>1</th>\n",
       "      <td>8450</td>\n",
       "      <td>2003</td>\n",
       "      <td>2</td>\n",
       "      <td>8</td>\n",
       "      <td>548</td>\n",
       "      <td>856</td>\n",
       "      <td>854</td>\n",
       "      <td>208500</td>\n",
       "    </tr>\n",
       "    <tr>\n",
       "      <th>2</th>\n",
       "      <td>9600</td>\n",
       "      <td>1976</td>\n",
       "      <td>2</td>\n",
       "      <td>6</td>\n",
       "      <td>460</td>\n",
       "      <td>1262</td>\n",
       "      <td>0</td>\n",
       "      <td>181500</td>\n",
       "    </tr>\n",
       "    <tr>\n",
       "      <th>3</th>\n",
       "      <td>11250</td>\n",
       "      <td>2001</td>\n",
       "      <td>2</td>\n",
       "      <td>6</td>\n",
       "      <td>608</td>\n",
       "      <td>920</td>\n",
       "      <td>866</td>\n",
       "      <td>223500</td>\n",
       "    </tr>\n",
       "    <tr>\n",
       "      <th>4</th>\n",
       "      <td>9550</td>\n",
       "      <td>1915</td>\n",
       "      <td>1</td>\n",
       "      <td>7</td>\n",
       "      <td>642</td>\n",
       "      <td>961</td>\n",
       "      <td>756</td>\n",
       "      <td>140000</td>\n",
       "    </tr>\n",
       "    <tr>\n",
       "      <th>5</th>\n",
       "      <td>14260</td>\n",
       "      <td>2000</td>\n",
       "      <td>2</td>\n",
       "      <td>9</td>\n",
       "      <td>836</td>\n",
       "      <td>1145</td>\n",
       "      <td>1053</td>\n",
       "      <td>250000</td>\n",
       "    </tr>\n",
       "  </tbody>\n",
       "</table>\n",
       "</div>"
      ],
      "text/plain": [
       "    LotArea  YearBuilt  FullBath  TotRmsAbvGrd  GarageArea  1stFlrSF  \\\n",
       "Id                                                                     \n",
       "1      8450       2003         2             8         548       856   \n",
       "2      9600       1976         2             6         460      1262   \n",
       "3     11250       2001         2             6         608       920   \n",
       "4      9550       1915         1             7         642       961   \n",
       "5     14260       2000         2             9         836      1145   \n",
       "\n",
       "    2ndFlrSF  SalePrice  \n",
       "Id                       \n",
       "1        854     208500  \n",
       "2          0     181500  \n",
       "3        866     223500  \n",
       "4        756     140000  \n",
       "5       1053     250000  "
      ]
     },
     "execution_count": 1,
     "metadata": {},
     "output_type": "execute_result"
    }
   ],
   "source": [
    "import pandas as pd\n",
    "\n",
    "df = pd.read_csv('data/housing_data_sample.csv', index_col='Id')\n",
    "df.head()"
   ]
  },
  {
   "cell_type": "code",
   "execution_count": 2,
   "id": "c129ff38",
   "metadata": {},
   "outputs": [],
   "source": [
    "from sklearn.neighbors import KNeighborsRegressor\n",
    "\n",
    "knn = KNeighborsRegressor()\n",
    "hyperparameters = {'n_neighbors': [3, 5, 7],\n",
    "                  'weights': ['uniform', 'distance'],\n",
    "                  'p': [1, 2]}"
   ]
  },
  {
   "cell_type": "code",
   "execution_count": 3,
   "id": "530b0374",
   "metadata": {},
   "outputs": [
    {
     "data": {
      "text/plain": [
       "GridSearchCV(estimator=KNeighborsRegressor(), n_jobs=-1,\n",
       "             param_grid={'n_neighbors': [3, 5, 7], 'p': [1, 2],\n",
       "                         'weights': ['uniform', 'distance']},\n",
       "             scoring='neg_mean_absolute_error')"
      ]
     },
     "execution_count": 3,
     "metadata": {},
     "output_type": "execute_result"
    }
   ],
   "source": [
    "from sklearn.model_selection import GridSearchCV\n",
    "\n",
    "features = df.drop('SalePrice', axis=1)\n",
    "targets = df['SalePrice']\n",
    "\n",
    "gs = GridSearchCV(knn, hyperparameters, scoring='neg_mean_absolute_error', n_jobs=-1)\n",
    "gs.fit(features, targets)"
   ]
  },
  {
   "cell_type": "code",
   "execution_count": 4,
   "id": "cb394f93",
   "metadata": {},
   "outputs": [
    {
     "name": "stdout",
     "output_type": "stream",
     "text": [
      "KNeighborsRegressor(n_neighbors=7, p=1, weights='distance')\n",
      "{'n_neighbors': 7, 'p': 1, 'weights': 'distance'}\n",
      "-30069.78491711035\n"
     ]
    }
   ],
   "source": [
    "print(gs.best_estimator_)\n",
    "print(gs.best_params_)\n",
    "print(gs.best_score_)"
   ]
  },
  {
   "cell_type": "code",
   "execution_count": 5,
   "id": "infectious-comparative",
   "metadata": {},
   "outputs": [
    {
     "data": {
      "text/plain": [
       "[({'n_neighbors': 3, 'p': 1, 'weights': 'uniform'}, -31795.947260273977),\n",
       " ({'n_neighbors': 3, 'p': 1, 'weights': 'distance'}, -31226.346501552915),\n",
       " ({'n_neighbors': 3, 'p': 2, 'weights': 'uniform'}, -32975.90890410959),\n",
       " ({'n_neighbors': 3, 'p': 2, 'weights': 'distance'}, -32338.55514879399),\n",
       " ({'n_neighbors': 5, 'p': 1, 'weights': 'uniform'}, -31175.630547945206),\n",
       " ({'n_neighbors': 5, 'p': 1, 'weights': 'distance'}, -30438.96577645269),\n",
       " ({'n_neighbors': 5, 'p': 2, 'weights': 'uniform'}, -31986.23561643836),\n",
       " ({'n_neighbors': 5, 'p': 2, 'weights': 'distance'}, -31134.3566873946),\n",
       " ({'n_neighbors': 7, 'p': 1, 'weights': 'uniform'}, -30935.39412915851),\n",
       " ({'n_neighbors': 7, 'p': 1, 'weights': 'distance'}, -30069.78491711035),\n",
       " ({'n_neighbors': 7, 'p': 2, 'weights': 'uniform'}, -32122.704011741684),\n",
       " ({'n_neighbors': 7, 'p': 2, 'weights': 'distance'}, -31028.74010010045)]"
      ]
     },
     "execution_count": 5,
     "metadata": {},
     "output_type": "execute_result"
    }
   ],
   "source": [
    "list(zip(gs.cv_results_['params'], gs.cv_results_['mean_test_score']))"
   ]
  },
  {
   "cell_type": "markdown",
   "id": "encouraging-press",
   "metadata": {},
   "source": [
    "## Random search"
   ]
  },
  {
   "cell_type": "code",
   "execution_count": 6,
   "id": "equivalent-newsletter",
   "metadata": {},
   "outputs": [
    {
     "data": {
      "text/plain": [
       "RandomizedSearchCV(estimator=KNeighborsRegressor(), n_jobs=-1,\n",
       "                   param_distributions={'n_neighbors': <scipy.stats._distn_infrastructure.rv_frozen object at 0x000001AB2A89BA90>,\n",
       "                                        'p': [1, 2],\n",
       "                                        'weights': ['uniform', 'distance']},\n",
       "                   random_state=42, scoring='neg_mean_absolute_error')"
      ]
     },
     "execution_count": 6,
     "metadata": {},
     "output_type": "execute_result"
    }
   ],
   "source": [
    "from sklearn.model_selection import RandomizedSearchCV\n",
    "from scipy.stats import randint\n",
    "\n",
    "hyperparameters = {'n_neighbors': randint(low=3, high=20),\n",
    "                  'weights': ['uniform', 'distance'],\n",
    "                  'p': [1, 2]}\n",
    "rs = RandomizedSearchCV(knn, hyperparameters, scoring='neg_mean_absolute_error', n_jobs=-1, random_state=42)\n",
    "rs.fit(features, targets)"
   ]
  },
  {
   "cell_type": "code",
   "execution_count": 7,
   "id": "whole-shade",
   "metadata": {},
   "outputs": [
    {
     "name": "stdout",
     "output_type": "stream",
     "text": [
      "KNeighborsRegressor(n_neighbors=13, p=1, weights='distance')\n",
      "{'n_neighbors': 13, 'p': 1, 'weights': 'distance'}\n",
      "-29845.646440602075\n"
     ]
    }
   ],
   "source": [
    "print(rs.best_estimator_)\n",
    "print(rs.best_params_)\n",
    "print(rs.best_score_)"
   ]
  },
  {
   "cell_type": "code",
   "execution_count": 8,
   "id": "peripheral-tongue",
   "metadata": {},
   "outputs": [
    {
     "data": {
      "text/plain": [
       "[({'n_neighbors': 9, 'p': 2, 'weights': 'uniform'}, -32363.609665144595),\n",
       " ({'n_neighbors': 17, 'p': 1, 'weights': 'distance'}, -30055.746440937754),\n",
       " ({'n_neighbors': 9, 'p': 2, 'weights': 'uniform'}, -32363.609665144595),\n",
       " ({'n_neighbors': 13, 'p': 1, 'weights': 'distance'}, -29845.646440602075),\n",
       " ({'n_neighbors': 6, 'p': 2, 'weights': 'distance'}, -30997.193897640995),\n",
       " ({'n_neighbors': 5, 'p': 2, 'weights': 'uniform'}, -31986.23561643836),\n",
       " ({'n_neighbors': 4, 'p': 2, 'weights': 'distance'}, -31910.191127678332),\n",
       " ({'n_neighbors': 8, 'p': 2, 'weights': 'distance'}, -31181.05668402912),\n",
       " ({'n_neighbors': 3, 'p': 2, 'weights': 'distance'}, -32338.55514879399),\n",
       " ({'n_neighbors': 14, 'p': 1, 'weights': 'uniform'}, -30972.516438356164)]"
      ]
     },
     "execution_count": 8,
     "metadata": {},
     "output_type": "execute_result"
    }
   ],
   "source": [
    "list(zip(rs.cv_results_['params'], rs.cv_results_['mean_test_score']))"
   ]
  },
  {
   "cell_type": "markdown",
   "id": "bacterial-ecology",
   "metadata": {},
   "source": [
    "## Bayesian search"
   ]
  },
  {
   "cell_type": "code",
   "execution_count": 9,
   "id": "distinct-steel",
   "metadata": {},
   "outputs": [
    {
     "data": {
      "text/plain": [
       "BayesSearchCV(estimator=KNeighborsRegressor(), n_iter=10, n_jobs=-1,\n",
       "              random_state=42, scoring='neg_mean_absolute_error',\n",
       "              search_spaces={'n_neighbors': Integer(low=3, high=20, prior='uniform', transform='identity'),\n",
       "                             'p': Categorical(categories=(1, 2), prior=None),\n",
       "                             'weights': Categorical(categories=('uniform', 'distance'), prior=None)})"
      ]
     },
     "execution_count": 9,
     "metadata": {},
     "output_type": "execute_result"
    }
   ],
   "source": [
    "from skopt import BayesSearchCV\n",
    "from skopt.space import Categorical, Integer\n",
    "\n",
    "hyperparameters = {'n_neighbors': Integer(3, 20),\n",
    "                  'weights': Categorical(['uniform', 'distance']),\n",
    "                  'p': Categorical([1, 2])}\n",
    "bs = BayesSearchCV(knn, hyperparameters, scoring='neg_mean_absolute_error', n_jobs=-1, random_state=42, n_iter=10)\n",
    "bs.fit(features, targets)"
   ]
  },
  {
   "cell_type": "code",
   "execution_count": 10,
   "id": "nervous-behalf",
   "metadata": {},
   "outputs": [
    {
     "name": "stdout",
     "output_type": "stream",
     "text": [
      "KNeighborsRegressor(n_neighbors=11, weights='distance')\n",
      "OrderedDict([('n_neighbors', 11), ('p', 2), ('weights', 'distance')])\n",
      "-31143.98162060483\n"
     ]
    }
   ],
   "source": [
    "print(bs.best_estimator_)\n",
    "print(bs.best_params_)\n",
    "print(bs.best_score_)"
   ]
  },
  {
   "cell_type": "code",
   "execution_count": 11,
   "id": "directed-divorce",
   "metadata": {},
   "outputs": [
    {
     "data": {
      "text/plain": [
       "[(OrderedDict([('n_neighbors', 10), ('p', 2), ('weights', 'uniform')]),\n",
       "  -32311.303082191782),\n",
       " (OrderedDict([('n_neighbors', 17), ('p', 2), ('weights', 'distance')]),\n",
       "  -31751.25385826393),\n",
       " (OrderedDict([('n_neighbors', 11), ('p', 2), ('weights', 'distance')]),\n",
       "  -31143.98162060483),\n",
       " (OrderedDict([('n_neighbors', 17), ('p', 1), ('weights', 'uniform')]),\n",
       "  -31297.367969379535),\n",
       " (OrderedDict([('n_neighbors', 17), ('p', 1), ('weights', 'uniform')]),\n",
       "  -31297.367969379535),\n",
       " (OrderedDict([('n_neighbors', 15), ('p', 2), ('weights', 'distance')]),\n",
       "  -31517.452750704768),\n",
       " (OrderedDict([('n_neighbors', 13), ('p', 2), ('weights', 'distance')]),\n",
       "  -31348.48878798963),\n",
       " (OrderedDict([('n_neighbors', 12), ('p', 2), ('weights', 'distance')]),\n",
       "  -31259.914106215525),\n",
       " (OrderedDict([('n_neighbors', 19), ('p', 2), ('weights', 'uniform')]),\n",
       "  -33494.25966113915),\n",
       " (OrderedDict([('n_neighbors', 3), ('p', 2), ('weights', 'uniform')]),\n",
       "  -32975.90890410959)]"
      ]
     },
     "execution_count": 11,
     "metadata": {},
     "output_type": "execute_result"
    }
   ],
   "source": [
    "list(zip(bs.cv_results_['params'], bs.cv_results_['mean_test_score']))"
   ]
  },
  {
   "cell_type": "markdown",
   "id": "wired-decade",
   "metadata": {},
   "source": [
    "# Learning curves"
   ]
  },
  {
   "cell_type": "code",
   "execution_count": 12,
   "id": "demonstrated-roman",
   "metadata": {},
   "outputs": [],
   "source": [
    "import matplotlib.pyplot as plt"
   ]
  },
  {
   "cell_type": "code",
   "execution_count": 13,
   "id": "laughing-episode",
   "metadata": {},
   "outputs": [
    {
     "data": {
      "image/png": "[encoded data removed]",
      "text/plain": [
       "<Figure size 396x396 with 1 Axes>"
      ]
     },
     "metadata": {},
     "output_type": "display_data"
    }
   ],
   "source": [
    "from yellowbrick.model_selection import LearningCurve\n",
    "\n",
    "f = plt.figure(figsize=(5.5, 5.5))\n",
    "lc = LearningCurve(knn, scoring='neg_mean_absolute_error')\n",
    "lc.fit(features, targets)\n",
    "plt.tight_layout(pad=1.25)"
   ]
  },
  {
   "cell_type": "markdown",
   "id": "through-eclipse",
   "metadata": {},
   "source": [
    "# Optimizing the Number of Features with ML Models"
   ]
  },
  {
   "cell_type": "code",
   "execution_count": 14,
   "id": "academic-archives",
   "metadata": {},
   "outputs": [
    {
     "data": {
      "text/plain": [
       "RFECV(estimator=LinearRegression(), scoring='neg_mean_absolute_error')"
      ]
     },
     "execution_count": 14,
     "metadata": {},
     "output_type": "execute_result"
    }
   ],
   "source": [
    "from sklearn.feature_selection import RFECV\n",
    "from sklearn.linear_model import LinearRegression\n",
    "\n",
    "lr = LinearRegression()\n",
    "feature_selector = RFECV(lr, scoring='neg_mean_absolute_error')\n",
    "feature_selector.fit(features, targets)"
   ]
  },
  {
   "cell_type": "code",
   "execution_count": 15,
   "id": "lonely-economics",
   "metadata": {},
   "outputs": [
    {
     "data": {
      "text/plain": [
       "array([-44963.06493189, -41860.3132655 , -37319.2626792 , -33319.79319284,\n",
       "       -28524.60411086, -27607.29672974, -27315.23987193])"
      ]
     },
     "execution_count": 15,
     "metadata": {},
     "output_type": "execute_result"
    }
   ],
   "source": [
    "feature_selector.grid_scores_"
   ]
  },
  {
   "cell_type": "code",
   "execution_count": 16,
   "id": "hearing-maple",
   "metadata": {},
   "outputs": [
    {
     "data": {
      "text/plain": [
       "array([ True,  True,  True,  True,  True,  True,  True])"
      ]
     },
     "execution_count": 16,
     "metadata": {},
     "output_type": "execute_result"
    }
   ],
   "source": [
    "feature_selector.support_"
   ]
  },
  {
   "cell_type": "code",
   "execution_count": 17,
   "id": "moral-spank",
   "metadata": {},
   "outputs": [
    {
     "data": {
      "text/html": [
       "<div>\n",
       "<style scoped>\n",
       "    .dataframe tbody tr th:only-of-type {\n",
       "        vertical-align: middle;\n",
       "    }\n",
       "\n",
       "    .dataframe tbody tr th {\n",
       "        vertical-align: top;\n",
       "    }\n",
       "\n",
       "    .dataframe thead th {\n",
       "        text-align: right;\n",
       "    }\n",
       "</style>\n",
       "<table border=\"1\" class=\"dataframe\">\n",
       "  <thead>\n",
       "    <tr style=\"text-align: right;\">\n",
       "      <th></th>\n",
       "      <th>LotArea</th>\n",
       "      <th>YearBuilt</th>\n",
       "      <th>FullBath</th>\n",
       "      <th>TotRmsAbvGrd</th>\n",
       "      <th>GarageArea</th>\n",
       "      <th>1stFlrSF</th>\n",
       "      <th>2ndFlrSF</th>\n",
       "    </tr>\n",
       "    <tr>\n",
       "      <th>Id</th>\n",
       "      <th></th>\n",
       "      <th></th>\n",
       "      <th></th>\n",
       "      <th></th>\n",
       "      <th></th>\n",
       "      <th></th>\n",
       "      <th></th>\n",
       "    </tr>\n",
       "  </thead>\n",
       "  <tbody>\n",
       "    <tr>\n",
       "      <th>1</th>\n",
       "      <td>8450</td>\n",
       "      <td>2003</td>\n",
       "      <td>2</td>\n",
       "      <td>8</td>\n",
       "      <td>548</td>\n",
       "      <td>856</td>\n",
       "      <td>854</td>\n",
       "    </tr>\n",
       "    <tr>\n",
       "      <th>2</th>\n",
       "      <td>9600</td>\n",
       "      <td>1976</td>\n",
       "      <td>2</td>\n",
       "      <td>6</td>\n",
       "      <td>460</td>\n",
       "      <td>1262</td>\n",
       "      <td>0</td>\n",
       "    </tr>\n",
       "    <tr>\n",
       "      <th>3</th>\n",
       "      <td>11250</td>\n",
       "      <td>2001</td>\n",
       "      <td>2</td>\n",
       "      <td>6</td>\n",
       "      <td>608</td>\n",
       "      <td>920</td>\n",
       "      <td>866</td>\n",
       "    </tr>\n",
       "    <tr>\n",
       "      <th>4</th>\n",
       "      <td>9550</td>\n",
       "      <td>1915</td>\n",
       "      <td>1</td>\n",
       "      <td>7</td>\n",
       "      <td>642</td>\n",
       "      <td>961</td>\n",
       "      <td>756</td>\n",
       "    </tr>\n",
       "    <tr>\n",
       "      <th>5</th>\n",
       "      <td>14260</td>\n",
       "      <td>2000</td>\n",
       "      <td>2</td>\n",
       "      <td>9</td>\n",
       "      <td>836</td>\n",
       "      <td>1145</td>\n",
       "      <td>1053</td>\n",
       "    </tr>\n",
       "    <tr>\n",
       "      <th>...</th>\n",
       "      <td>...</td>\n",
       "      <td>...</td>\n",
       "      <td>...</td>\n",
       "      <td>...</td>\n",
       "      <td>...</td>\n",
       "      <td>...</td>\n",
       "      <td>...</td>\n",
       "    </tr>\n",
       "    <tr>\n",
       "      <th>1456</th>\n",
       "      <td>7917</td>\n",
       "      <td>1999</td>\n",
       "      <td>2</td>\n",
       "      <td>7</td>\n",
       "      <td>460</td>\n",
       "      <td>953</td>\n",
       "      <td>694</td>\n",
       "    </tr>\n",
       "    <tr>\n",
       "      <th>1457</th>\n",
       "      <td>13175</td>\n",
       "      <td>1978</td>\n",
       "      <td>2</td>\n",
       "      <td>7</td>\n",
       "      <td>500</td>\n",
       "      <td>2073</td>\n",
       "      <td>0</td>\n",
       "    </tr>\n",
       "    <tr>\n",
       "      <th>1458</th>\n",
       "      <td>9042</td>\n",
       "      <td>1941</td>\n",
       "      <td>2</td>\n",
       "      <td>9</td>\n",
       "      <td>252</td>\n",
       "      <td>1188</td>\n",
       "      <td>1152</td>\n",
       "    </tr>\n",
       "    <tr>\n",
       "      <th>1459</th>\n",
       "      <td>9717</td>\n",
       "      <td>1950</td>\n",
       "      <td>1</td>\n",
       "      <td>5</td>\n",
       "      <td>240</td>\n",
       "      <td>1078</td>\n",
       "      <td>0</td>\n",
       "    </tr>\n",
       "    <tr>\n",
       "      <th>1460</th>\n",
       "      <td>9937</td>\n",
       "      <td>1965</td>\n",
       "      <td>1</td>\n",
       "      <td>6</td>\n",
       "      <td>276</td>\n",
       "      <td>1256</td>\n",
       "      <td>0</td>\n",
       "    </tr>\n",
       "  </tbody>\n",
       "</table>\n",
       "<p>1460 rows × 7 columns</p>\n",
       "</div>"
      ],
      "text/plain": [
       "      LotArea  YearBuilt  FullBath  TotRmsAbvGrd  GarageArea  1stFlrSF  \\\n",
       "Id                                                                       \n",
       "1        8450       2003         2             8         548       856   \n",
       "2        9600       1976         2             6         460      1262   \n",
       "3       11250       2001         2             6         608       920   \n",
       "4        9550       1915         1             7         642       961   \n",
       "5       14260       2000         2             9         836      1145   \n",
       "...       ...        ...       ...           ...         ...       ...   \n",
       "1456     7917       1999         2             7         460       953   \n",
       "1457    13175       1978         2             7         500      2073   \n",
       "1458     9042       1941         2             9         252      1188   \n",
       "1459     9717       1950         1             5         240      1078   \n",
       "1460     9937       1965         1             6         276      1256   \n",
       "\n",
       "      2ndFlrSF  \n",
       "Id              \n",
       "1          854  \n",
       "2            0  \n",
       "3          866  \n",
       "4          756  \n",
       "5         1053  \n",
       "...        ...  \n",
       "1456       694  \n",
       "1457         0  \n",
       "1458      1152  \n",
       "1459         0  \n",
       "1460         0  \n",
       "\n",
       "[1460 rows x 7 columns]"
      ]
     },
     "execution_count": 17,
     "metadata": {},
     "output_type": "execute_result"
    }
   ],
   "source": [
    "features.iloc[:, feature_selector.support_]"
   ]
  },
  {
   "cell_type": "code",
   "execution_count": 18,
   "id": "stopped-internet",
   "metadata": {},
   "outputs": [
    {
     "data": {
      "text/plain": [
       "array([1, 1, 1, 1, 1, 1, 1])"
      ]
     },
     "execution_count": 18,
     "metadata": {},
     "output_type": "execute_result"
    }
   ],
   "source": [
    "feature_selector.ranking_"
   ]
  },
  {
   "cell_type": "markdown",
   "id": "alien-title",
   "metadata": {},
   "source": [
    "# AutoML"
   ]
  },
  {
   "cell_type": "code",
   "execution_count": 19,
   "id": "returning-mining",
   "metadata": {},
   "outputs": [
    {
     "data": {
      "text/html": [
       "<style  type=\"text/css\" >\n",
       "    #T_58927_ th {\n",
       "          text-align: left;\n",
       "    }#T_58927_row0_col0,#T_58927_row1_col0,#T_58927_row1_col1,#T_58927_row1_col2,#T_58927_row1_col3,#T_58927_row1_col4,#T_58927_row1_col5,#T_58927_row1_col6,#T_58927_row2_col0,#T_58927_row2_col1,#T_58927_row2_col2,#T_58927_row2_col3,#T_58927_row2_col4,#T_58927_row2_col5,#T_58927_row2_col6,#T_58927_row3_col0,#T_58927_row3_col1,#T_58927_row3_col2,#T_58927_row3_col3,#T_58927_row3_col4,#T_58927_row3_col5,#T_58927_row3_col6,#T_58927_row4_col0,#T_58927_row4_col1,#T_58927_row4_col2,#T_58927_row4_col3,#T_58927_row4_col4,#T_58927_row4_col5,#T_58927_row4_col6,#T_58927_row5_col0,#T_58927_row5_col1,#T_58927_row5_col2,#T_58927_row5_col3,#T_58927_row5_col4,#T_58927_row5_col5,#T_58927_row5_col6,#T_58927_row6_col0,#T_58927_row6_col1,#T_58927_row6_col2,#T_58927_row6_col3,#T_58927_row6_col4,#T_58927_row6_col5,#T_58927_row6_col6,#T_58927_row7_col0,#T_58927_row7_col1,#T_58927_row7_col2,#T_58927_row7_col3,#T_58927_row7_col4,#T_58927_row7_col5,#T_58927_row7_col6,#T_58927_row8_col0,#T_58927_row8_col1,#T_58927_row8_col2,#T_58927_row8_col3,#T_58927_row8_col4,#T_58927_row8_col5,#T_58927_row8_col6,#T_58927_row9_col0,#T_58927_row9_col1,#T_58927_row9_col2,#T_58927_row9_col3,#T_58927_row9_col4,#T_58927_row9_col5,#T_58927_row9_col6,#T_58927_row10_col0,#T_58927_row10_col1,#T_58927_row10_col2,#T_58927_row10_col3,#T_58927_row10_col4,#T_58927_row10_col5,#T_58927_row10_col6,#T_58927_row11_col0,#T_58927_row11_col1,#T_58927_row11_col2,#T_58927_row11_col3,#T_58927_row11_col4,#T_58927_row11_col5,#T_58927_row11_col6,#T_58927_row12_col0,#T_58927_row12_col1,#T_58927_row12_col2,#T_58927_row12_col3,#T_58927_row12_col4,#T_58927_row12_col5,#T_58927_row12_col6,#T_58927_row13_col0,#T_58927_row13_col1,#T_58927_row13_col2,#T_58927_row13_col3,#T_58927_row13_col4,#T_58927_row13_col5,#T_58927_row13_col6,#T_58927_row14_col0,#T_58927_row14_col1,#T_58927_row14_col2,#T_58927_row14_col3,#T_58927_row14_col4,#T_58927_row14_col5,#T_58927_row14_col6,#T_58927_row15_col0,#T_58927_row15_col1,#T_58927_row15_col2,#T_58927_row15_col3,#T_58927_row15_col4,#T_58927_row15_col5,#T_58927_row15_col6,#T_58927_row16_col0,#T_58927_row16_col1,#T_58927_row16_col2,#T_58927_row16_col3,#T_58927_row16_col4,#T_58927_row16_col5,#T_58927_row16_col6,#T_58927_row17_col0,#T_58927_row17_col1,#T_58927_row17_col2,#T_58927_row17_col3,#T_58927_row17_col4,#T_58927_row17_col5,#T_58927_row17_col6{\n",
       "            text-align:  left;\n",
       "            text-align:  left;\n",
       "        }#T_58927_row0_col1,#T_58927_row0_col2,#T_58927_row0_col3,#T_58927_row0_col4,#T_58927_row0_col5,#T_58927_row0_col6{\n",
       "            text-align:  left;\n",
       "            text-align:  left;\n",
       "            background-color:  yellow;\n",
       "        }#T_58927_row0_col7,#T_58927_row1_col7,#T_58927_row2_col7,#T_58927_row3_col7,#T_58927_row4_col7,#T_58927_row7_col7,#T_58927_row8_col7,#T_58927_row9_col7,#T_58927_row12_col7,#T_58927_row13_col7,#T_58927_row14_col7,#T_58927_row15_col7{\n",
       "            text-align:  left;\n",
       "            text-align:  left;\n",
       "            background-color:  lightgrey;\n",
       "        }#T_58927_row5_col7,#T_58927_row6_col7,#T_58927_row10_col7,#T_58927_row11_col7,#T_58927_row16_col7,#T_58927_row17_col7{\n",
       "            text-align:  left;\n",
       "            text-align:  left;\n",
       "            background-color:  yellow;\n",
       "            background-color:  lightgrey;\n",
       "        }</style><table id=\"T_58927_\" ><thead>    <tr>        <th class=\"blank level0\" ></th>        <th class=\"col_heading level0 col0\" >Model</th>        <th class=\"col_heading level0 col1\" >MAE</th>        <th class=\"col_heading level0 col2\" >MSE</th>        <th class=\"col_heading level0 col3\" >RMSE</th>        <th class=\"col_heading level0 col4\" >R2</th>        <th class=\"col_heading level0 col5\" >RMSLE</th>        <th class=\"col_heading level0 col6\" >MAPE</th>        <th class=\"col_heading level0 col7\" >TT (Sec)</th>    </tr></thead><tbody>\n",
       "                <tr>\n",
       "                        <th id=\"T_58927_level0_row0\" class=\"row_heading level0 row0\" >catboost</th>\n",
       "                        <td id=\"T_58927_row0_col0\" class=\"data row0 col0\" >CatBoost Regressor</td>\n",
       "                        <td id=\"T_58927_row0_col1\" class=\"data row0 col1\" >21993.6593</td>\n",
       "                        <td id=\"T_58927_row0_col2\" class=\"data row0 col2\" >1328972214.5384</td>\n",
       "                        <td id=\"T_58927_row0_col3\" class=\"data row0 col3\" >34903.2721</td>\n",
       "                        <td id=\"T_58927_row0_col4\" class=\"data row0 col4\" >0.7809</td>\n",
       "                        <td id=\"T_58927_row0_col5\" class=\"data row0 col5\" >0.1760</td>\n",
       "                        <td id=\"T_58927_row0_col6\" class=\"data row0 col6\" >0.1316</td>\n",
       "                        <td id=\"T_58927_row0_col7\" class=\"data row0 col7\" >0.3410</td>\n",
       "            </tr>\n",
       "            <tr>\n",
       "                        <th id=\"T_58927_level0_row1\" class=\"row_heading level0 row1\" >et</th>\n",
       "                        <td id=\"T_58927_row1_col0\" class=\"data row1 col0\" >Extra Trees Regressor</td>\n",
       "                        <td id=\"T_58927_row1_col1\" class=\"data row1 col1\" >23305.4703</td>\n",
       "                        <td id=\"T_58927_row1_col2\" class=\"data row1 col2\" >1402586540.4056</td>\n",
       "                        <td id=\"T_58927_row1_col3\" class=\"data row1 col3\" >36535.4033</td>\n",
       "                        <td id=\"T_58927_row1_col4\" class=\"data row1 col4\" >0.7663</td>\n",
       "                        <td id=\"T_58927_row1_col5\" class=\"data row1 col5\" >0.1873</td>\n",
       "                        <td id=\"T_58927_row1_col6\" class=\"data row1 col6\" >0.1401</td>\n",
       "                        <td id=\"T_58927_row1_col7\" class=\"data row1 col7\" >0.0360</td>\n",
       "            </tr>\n",
       "            <tr>\n",
       "                        <th id=\"T_58927_level0_row2\" class=\"row_heading level0 row2\" >rf</th>\n",
       "                        <td id=\"T_58927_row2_col0\" class=\"data row2 col0\" >Random Forest Regressor</td>\n",
       "                        <td id=\"T_58927_row2_col1\" class=\"data row2 col1\" >23582.9900</td>\n",
       "                        <td id=\"T_58927_row2_col2\" class=\"data row2 col2\" >1448643880.8052</td>\n",
       "                        <td id=\"T_58927_row2_col3\" class=\"data row2 col3\" >36954.0711</td>\n",
       "                        <td id=\"T_58927_row2_col4\" class=\"data row2 col4\" >0.7599</td>\n",
       "                        <td id=\"T_58927_row2_col5\" class=\"data row2 col5\" >0.1871</td>\n",
       "                        <td id=\"T_58927_row2_col6\" class=\"data row2 col6\" >0.1410</td>\n",
       "                        <td id=\"T_58927_row2_col7\" class=\"data row2 col7\" >0.0450</td>\n",
       "            </tr>\n",
       "            <tr>\n",
       "                        <th id=\"T_58927_level0_row3\" class=\"row_heading level0 row3\" >lightgbm</th>\n",
       "                        <td id=\"T_58927_row3_col0\" class=\"data row3 col0\" >Light Gradient Boosting Machine</td>\n",
       "                        <td id=\"T_58927_row3_col1\" class=\"data row3 col1\" >23859.5883</td>\n",
       "                        <td id=\"T_58927_row3_col2\" class=\"data row3 col2\" >1384599136.2361</td>\n",
       "                        <td id=\"T_58927_row3_col3\" class=\"data row3 col3\" >36635.4778</td>\n",
       "                        <td id=\"T_58927_row3_col4\" class=\"data row3 col4\" >0.7658</td>\n",
       "                        <td id=\"T_58927_row3_col5\" class=\"data row3 col5\" >0.1903</td>\n",
       "                        <td id=\"T_58927_row3_col6\" class=\"data row3 col6\" >0.1426</td>\n",
       "                        <td id=\"T_58927_row3_col7\" class=\"data row3 col7\" >0.0860</td>\n",
       "            </tr>\n",
       "            <tr>\n",
       "                        <th id=\"T_58927_level0_row4\" class=\"row_heading level0 row4\" >gbr</th>\n",
       "                        <td id=\"T_58927_row4_col0\" class=\"data row4 col0\" >Gradient Boosting Regressor</td>\n",
       "                        <td id=\"T_58927_row4_col1\" class=\"data row4 col1\" >24214.9921</td>\n",
       "                        <td id=\"T_58927_row4_col2\" class=\"data row4 col2\" >1612343469.8876</td>\n",
       "                        <td id=\"T_58927_row4_col3\" class=\"data row4 col3\" >38838.7810</td>\n",
       "                        <td id=\"T_58927_row4_col4\" class=\"data row4 col4\" >0.7319</td>\n",
       "                        <td id=\"T_58927_row4_col5\" class=\"data row4 col5\" >0.1921</td>\n",
       "                        <td id=\"T_58927_row4_col6\" class=\"data row4 col6\" >0.1439</td>\n",
       "                        <td id=\"T_58927_row4_col7\" class=\"data row4 col7\" >0.0160</td>\n",
       "            </tr>\n",
       "            <tr>\n",
       "                        <th id=\"T_58927_level0_row5\" class=\"row_heading level0 row5\" >llar</th>\n",
       "                        <td id=\"T_58927_row5_col0\" class=\"data row5 col0\" >Lasso Least Angle Regression</td>\n",
       "                        <td id=\"T_58927_row5_col1\" class=\"data row5 col1\" >26480.0953</td>\n",
       "                        <td id=\"T_58927_row5_col2\" class=\"data row5 col2\" >1625490108.4492</td>\n",
       "                        <td id=\"T_58927_row5_col3\" class=\"data row5 col3\" >39660.3091</td>\n",
       "                        <td id=\"T_58927_row5_col4\" class=\"data row5 col4\" >0.7257</td>\n",
       "                        <td id=\"T_58927_row5_col5\" class=\"data row5 col5\" >0.2182</td>\n",
       "                        <td id=\"T_58927_row5_col6\" class=\"data row5 col6\" >0.1569</td>\n",
       "                        <td id=\"T_58927_row5_col7\" class=\"data row5 col7\" >0.0040</td>\n",
       "            </tr>\n",
       "            <tr>\n",
       "                        <th id=\"T_58927_level0_row6\" class=\"row_heading level0 row6\" >ridge</th>\n",
       "                        <td id=\"T_58927_row6_col0\" class=\"data row6 col0\" >Ridge Regression</td>\n",
       "                        <td id=\"T_58927_row6_col1\" class=\"data row6 col1\" >26484.7150</td>\n",
       "                        <td id=\"T_58927_row6_col2\" class=\"data row6 col2\" >1625444300.8000</td>\n",
       "                        <td id=\"T_58927_row6_col3\" class=\"data row6 col3\" >39657.1270</td>\n",
       "                        <td id=\"T_58927_row6_col4\" class=\"data row6 col4\" >0.7256</td>\n",
       "                        <td id=\"T_58927_row6_col5\" class=\"data row6 col5\" >0.2184</td>\n",
       "                        <td id=\"T_58927_row6_col6\" class=\"data row6 col6\" >0.1570</td>\n",
       "                        <td id=\"T_58927_row6_col7\" class=\"data row6 col7\" >0.0040</td>\n",
       "            </tr>\n",
       "            <tr>\n",
       "                        <th id=\"T_58927_level0_row7\" class=\"row_heading level0 row7\" >lasso</th>\n",
       "                        <td id=\"T_58927_row7_col0\" class=\"data row7 col0\" >Lasso Regression</td>\n",
       "                        <td id=\"T_58927_row7_col1\" class=\"data row7 col1\" >26485.3982</td>\n",
       "                        <td id=\"T_58927_row7_col2\" class=\"data row7 col2\" >1625504896.0000</td>\n",
       "                        <td id=\"T_58927_row7_col3\" class=\"data row7 col3\" >39657.8930</td>\n",
       "                        <td id=\"T_58927_row7_col4\" class=\"data row7 col4\" >0.7256</td>\n",
       "                        <td id=\"T_58927_row7_col5\" class=\"data row7 col5\" >0.2184</td>\n",
       "                        <td id=\"T_58927_row7_col6\" class=\"data row7 col6\" >0.1570</td>\n",
       "                        <td id=\"T_58927_row7_col7\" class=\"data row7 col7\" >0.0870</td>\n",
       "            </tr>\n",
       "            <tr>\n",
       "                        <th id=\"T_58927_level0_row8\" class=\"row_heading level0 row8\" >lr</th>\n",
       "                        <td id=\"T_58927_row8_col0\" class=\"data row8 col0\" >Linear Regression</td>\n",
       "                        <td id=\"T_58927_row8_col1\" class=\"data row8 col1\" >26485.4213</td>\n",
       "                        <td id=\"T_58927_row8_col2\" class=\"data row8 col2\" >1625506048.0000</td>\n",
       "                        <td id=\"T_58927_row8_col3\" class=\"data row8 col3\" >39657.8891</td>\n",
       "                        <td id=\"T_58927_row8_col4\" class=\"data row8 col4\" >0.7256</td>\n",
       "                        <td id=\"T_58927_row8_col5\" class=\"data row8 col5\" >0.2184</td>\n",
       "                        <td id=\"T_58927_row8_col6\" class=\"data row8 col6\" >0.1570</td>\n",
       "                        <td id=\"T_58927_row8_col7\" class=\"data row8 col7\" >0.1080</td>\n",
       "            </tr>\n",
       "            <tr>\n",
       "                        <th id=\"T_58927_level0_row9\" class=\"row_heading level0 row9\" >en</th>\n",
       "                        <td id=\"T_58927_row9_col0\" class=\"data row9 col0\" >Elastic Net</td>\n",
       "                        <td id=\"T_58927_row9_col1\" class=\"data row9 col1\" >26492.2455</td>\n",
       "                        <td id=\"T_58927_row9_col2\" class=\"data row9 col2\" >1624553433.6000</td>\n",
       "                        <td id=\"T_58927_row9_col3\" class=\"data row9 col3\" >39663.2660</td>\n",
       "                        <td id=\"T_58927_row9_col4\" class=\"data row9 col4\" >0.7259</td>\n",
       "                        <td id=\"T_58927_row9_col5\" class=\"data row9 col5\" >0.2153</td>\n",
       "                        <td id=\"T_58927_row9_col6\" class=\"data row9 col6\" >0.1563</td>\n",
       "                        <td id=\"T_58927_row9_col7\" class=\"data row9 col7\" >0.0050</td>\n",
       "            </tr>\n",
       "            <tr>\n",
       "                        <th id=\"T_58927_level0_row10\" class=\"row_heading level0 row10\" >br</th>\n",
       "                        <td id=\"T_58927_row10_col0\" class=\"data row10 col0\" >Bayesian Ridge</td>\n",
       "                        <td id=\"T_58927_row10_col1\" class=\"data row10 col1\" >26554.0659</td>\n",
       "                        <td id=\"T_58927_row10_col2\" class=\"data row10 col2\" >1627477478.8845</td>\n",
       "                        <td id=\"T_58927_row10_col3\" class=\"data row10 col3\" >39731.9065</td>\n",
       "                        <td id=\"T_58927_row10_col4\" class=\"data row10 col4\" >0.7255</td>\n",
       "                        <td id=\"T_58927_row10_col5\" class=\"data row10 col5\" >0.2153</td>\n",
       "                        <td id=\"T_58927_row10_col6\" class=\"data row10 col6\" >0.1568</td>\n",
       "                        <td id=\"T_58927_row10_col7\" class=\"data row10 col7\" >0.0040</td>\n",
       "            </tr>\n",
       "            <tr>\n",
       "                        <th id=\"T_58927_level0_row11\" class=\"row_heading level0 row11\" >lar</th>\n",
       "                        <td id=\"T_58927_row11_col0\" class=\"data row11 col0\" >Least Angle Regression</td>\n",
       "                        <td id=\"T_58927_row11_col1\" class=\"data row11 col1\" >28426.5701</td>\n",
       "                        <td id=\"T_58927_row11_col2\" class=\"data row11 col2\" >1787472331.2842</td>\n",
       "                        <td id=\"T_58927_row11_col3\" class=\"data row11 col3\" >41578.6474</td>\n",
       "                        <td id=\"T_58927_row11_col4\" class=\"data row11 col4\" >0.6960</td>\n",
       "                        <td id=\"T_58927_row11_col5\" class=\"data row11 col5\" >0.2585</td>\n",
       "                        <td id=\"T_58927_row11_col6\" class=\"data row11 col6\" >0.1733</td>\n",
       "                        <td id=\"T_58927_row11_col7\" class=\"data row11 col7\" >0.0040</td>\n",
       "            </tr>\n",
       "            <tr>\n",
       "                        <th id=\"T_58927_level0_row12\" class=\"row_heading level0 row12\" >huber</th>\n",
       "                        <td id=\"T_58927_row12_col0\" class=\"data row12 col0\" >Huber Regressor</td>\n",
       "                        <td id=\"T_58927_row12_col1\" class=\"data row12 col1\" >30191.5947</td>\n",
       "                        <td id=\"T_58927_row12_col2\" class=\"data row12 col2\" >1984980980.7847</td>\n",
       "                        <td id=\"T_58927_row12_col3\" class=\"data row12 col3\" >44217.2195</td>\n",
       "                        <td id=\"T_58927_row12_col4\" class=\"data row12 col4\" >0.6625</td>\n",
       "                        <td id=\"T_58927_row12_col5\" class=\"data row12 col5\" >0.2314</td>\n",
       "                        <td id=\"T_58927_row12_col6\" class=\"data row12 col6\" >0.1828</td>\n",
       "                        <td id=\"T_58927_row12_col7\" class=\"data row12 col7\" >0.0070</td>\n",
       "            </tr>\n",
       "            <tr>\n",
       "                        <th id=\"T_58927_level0_row13\" class=\"row_heading level0 row13\" >ada</th>\n",
       "                        <td id=\"T_58927_row13_col0\" class=\"data row13 col0\" >AdaBoost Regressor</td>\n",
       "                        <td id=\"T_58927_row13_col1\" class=\"data row13 col1\" >30842.1600</td>\n",
       "                        <td id=\"T_58927_row13_col2\" class=\"data row13 col2\" >2046553907.9461</td>\n",
       "                        <td id=\"T_58927_row13_col3\" class=\"data row13 col3\" >44632.2261</td>\n",
       "                        <td id=\"T_58927_row13_col4\" class=\"data row13 col4\" >0.6557</td>\n",
       "                        <td id=\"T_58927_row13_col5\" class=\"data row13 col5\" >0.2382</td>\n",
       "                        <td id=\"T_58927_row13_col6\" class=\"data row13 col6\" >0.1968</td>\n",
       "                        <td id=\"T_58927_row13_col7\" class=\"data row13 col7\" >0.0160</td>\n",
       "            </tr>\n",
       "            <tr>\n",
       "                        <th id=\"T_58927_level0_row14\" class=\"row_heading level0 row14\" >knn</th>\n",
       "                        <td id=\"T_58927_row14_col0\" class=\"data row14 col0\" >K Neighbors Regressor</td>\n",
       "                        <td id=\"T_58927_row14_col1\" class=\"data row14 col1\" >32579.8746</td>\n",
       "                        <td id=\"T_58927_row14_col2\" class=\"data row14 col2\" >2483968153.6000</td>\n",
       "                        <td id=\"T_58927_row14_col3\" class=\"data row14 col3\" >49067.0191</td>\n",
       "                        <td id=\"T_58927_row14_col4\" class=\"data row14 col4\" >0.5885</td>\n",
       "                        <td id=\"T_58927_row14_col5\" class=\"data row14 col5\" >0.2476</td>\n",
       "                        <td id=\"T_58927_row14_col6\" class=\"data row14 col6\" >0.1943</td>\n",
       "                        <td id=\"T_58927_row14_col7\" class=\"data row14 col7\" >0.0050</td>\n",
       "            </tr>\n",
       "            <tr>\n",
       "                        <th id=\"T_58927_level0_row15\" class=\"row_heading level0 row15\" >dt</th>\n",
       "                        <td id=\"T_58927_row15_col0\" class=\"data row15 col0\" >Decision Tree Regressor</td>\n",
       "                        <td id=\"T_58927_row15_col1\" class=\"data row15 col1\" >33567.7728</td>\n",
       "                        <td id=\"T_58927_row15_col2\" class=\"data row15 col2\" >3006074025.6763</td>\n",
       "                        <td id=\"T_58927_row15_col3\" class=\"data row15 col3\" >53266.6204</td>\n",
       "                        <td id=\"T_58927_row15_col4\" class=\"data row15 col4\" >0.4994</td>\n",
       "                        <td id=\"T_58927_row15_col5\" class=\"data row15 col5\" >0.2659</td>\n",
       "                        <td id=\"T_58927_row15_col6\" class=\"data row15 col6\" >0.1957</td>\n",
       "                        <td id=\"T_58927_row15_col7\" class=\"data row15 col7\" >0.0050</td>\n",
       "            </tr>\n",
       "            <tr>\n",
       "                        <th id=\"T_58927_level0_row16\" class=\"row_heading level0 row16\" >omp</th>\n",
       "                        <td id=\"T_58927_row16_col0\" class=\"data row16 col0\" >Orthogonal Matching Pursuit</td>\n",
       "                        <td id=\"T_58927_row16_col1\" class=\"data row16 col1\" >41508.1441</td>\n",
       "                        <td id=\"T_58927_row16_col2\" class=\"data row16 col2\" >3476114630.3049</td>\n",
       "                        <td id=\"T_58927_row16_col3\" class=\"data row16 col3\" >58445.6937</td>\n",
       "                        <td id=\"T_58927_row16_col4\" class=\"data row16 col4\" >0.4205</td>\n",
       "                        <td id=\"T_58927_row16_col5\" class=\"data row16 col5\" >0.3122</td>\n",
       "                        <td id=\"T_58927_row16_col6\" class=\"data row16 col6\" >0.2567</td>\n",
       "                        <td id=\"T_58927_row16_col7\" class=\"data row16 col7\" >0.0040</td>\n",
       "            </tr>\n",
       "            <tr>\n",
       "                        <th id=\"T_58927_level0_row17\" class=\"row_heading level0 row17\" >par</th>\n",
       "                        <td id=\"T_58927_row17_col0\" class=\"data row17 col0\" >Passive Aggressive Regressor</td>\n",
       "                        <td id=\"T_58927_row17_col1\" class=\"data row17 col1\" >50731.9493</td>\n",
       "                        <td id=\"T_58927_row17_col2\" class=\"data row17 col2\" >5081300932.4736</td>\n",
       "                        <td id=\"T_58927_row17_col3\" class=\"data row17 col3\" >66091.9463</td>\n",
       "                        <td id=\"T_58927_row17_col4\" class=\"data row17 col4\" >0.1051</td>\n",
       "                        <td id=\"T_58927_row17_col5\" class=\"data row17 col5\" >0.3736</td>\n",
       "                        <td id=\"T_58927_row17_col6\" class=\"data row17 col6\" >0.3117</td>\n",
       "                        <td id=\"T_58927_row17_col7\" class=\"data row17 col7\" >0.0040</td>\n",
       "            </tr>\n",
       "    </tbody></table>"
      ],
      "text/plain": [
       "<pandas.io.formats.style.Styler at 0x1ab322f9f70>"
      ]
     },
     "metadata": {},
     "output_type": "display_data"
    }
   ],
   "source": [
    "from pycaret.regression import setup, compare_models\n",
    "\n",
    "exp_clf = setup(df, target='SalePrice', numeric_features=['FullBath', 'TotRmsAbvGrd'])\n",
    "best = compare_models(sort='MAE')"
   ]
  },
  {
   "cell_type": "code",
   "execution_count": 20,
   "id": "capable-appendix",
   "metadata": {},
   "outputs": [
    {
     "data": {
      "text/html": [
       "<div>\n",
       "<style scoped>\n",
       "    .dataframe tbody tr th:only-of-type {\n",
       "        vertical-align: middle;\n",
       "    }\n",
       "\n",
       "    .dataframe tbody tr th {\n",
       "        vertical-align: top;\n",
       "    }\n",
       "\n",
       "    .dataframe thead th {\n",
       "        text-align: right;\n",
       "    }\n",
       "</style>\n",
       "<table border=\"1\" class=\"dataframe\">\n",
       "  <thead>\n",
       "    <tr style=\"text-align: right;\">\n",
       "      <th></th>\n",
       "      <th>LotArea</th>\n",
       "      <th>YearBuilt</th>\n",
       "      <th>FullBath</th>\n",
       "      <th>TotRmsAbvGrd</th>\n",
       "      <th>GarageArea</th>\n",
       "      <th>1stFlrSF</th>\n",
       "      <th>2ndFlrSF</th>\n",
       "      <th>Label</th>\n",
       "    </tr>\n",
       "    <tr>\n",
       "      <th>Id</th>\n",
       "      <th></th>\n",
       "      <th></th>\n",
       "      <th></th>\n",
       "      <th></th>\n",
       "      <th></th>\n",
       "      <th></th>\n",
       "      <th></th>\n",
       "      <th></th>\n",
       "    </tr>\n",
       "  </thead>\n",
       "  <tbody>\n",
       "    <tr>\n",
       "      <th>1</th>\n",
       "      <td>8450</td>\n",
       "      <td>2003</td>\n",
       "      <td>2</td>\n",
       "      <td>8</td>\n",
       "      <td>548</td>\n",
       "      <td>856</td>\n",
       "      <td>854</td>\n",
       "      <td>201050.904357</td>\n",
       "    </tr>\n",
       "    <tr>\n",
       "      <th>2</th>\n",
       "      <td>9600</td>\n",
       "      <td>1976</td>\n",
       "      <td>2</td>\n",
       "      <td>6</td>\n",
       "      <td>460</td>\n",
       "      <td>1262</td>\n",
       "      <td>0</td>\n",
       "      <td>154772.248579</td>\n",
       "    </tr>\n",
       "    <tr>\n",
       "      <th>3</th>\n",
       "      <td>11250</td>\n",
       "      <td>2001</td>\n",
       "      <td>2</td>\n",
       "      <td>6</td>\n",
       "      <td>608</td>\n",
       "      <td>920</td>\n",
       "      <td>866</td>\n",
       "      <td>218136.279808</td>\n",
       "    </tr>\n",
       "    <tr>\n",
       "      <th>4</th>\n",
       "      <td>9550</td>\n",
       "      <td>1915</td>\n",
       "      <td>1</td>\n",
       "      <td>7</td>\n",
       "      <td>642</td>\n",
       "      <td>961</td>\n",
       "      <td>756</td>\n",
       "      <td>145837.768158</td>\n",
       "    </tr>\n",
       "    <tr>\n",
       "      <th>5</th>\n",
       "      <td>14260</td>\n",
       "      <td>2000</td>\n",
       "      <td>2</td>\n",
       "      <td>9</td>\n",
       "      <td>836</td>\n",
       "      <td>1145</td>\n",
       "      <td>1053</td>\n",
       "      <td>270732.505856</td>\n",
       "    </tr>\n",
       "    <tr>\n",
       "      <th>...</th>\n",
       "      <td>...</td>\n",
       "      <td>...</td>\n",
       "      <td>...</td>\n",
       "      <td>...</td>\n",
       "      <td>...</td>\n",
       "      <td>...</td>\n",
       "      <td>...</td>\n",
       "      <td>...</td>\n",
       "    </tr>\n",
       "    <tr>\n",
       "      <th>1456</th>\n",
       "      <td>7917</td>\n",
       "      <td>1999</td>\n",
       "      <td>2</td>\n",
       "      <td>7</td>\n",
       "      <td>460</td>\n",
       "      <td>953</td>\n",
       "      <td>694</td>\n",
       "      <td>181743.383522</td>\n",
       "    </tr>\n",
       "    <tr>\n",
       "      <th>1457</th>\n",
       "      <td>13175</td>\n",
       "      <td>1978</td>\n",
       "      <td>2</td>\n",
       "      <td>7</td>\n",
       "      <td>500</td>\n",
       "      <td>2073</td>\n",
       "      <td>0</td>\n",
       "      <td>220727.157754</td>\n",
       "    </tr>\n",
       "    <tr>\n",
       "      <th>1458</th>\n",
       "      <td>9042</td>\n",
       "      <td>1941</td>\n",
       "      <td>2</td>\n",
       "      <td>9</td>\n",
       "      <td>252</td>\n",
       "      <td>1188</td>\n",
       "      <td>1152</td>\n",
       "      <td>245466.796777</td>\n",
       "    </tr>\n",
       "    <tr>\n",
       "      <th>1459</th>\n",
       "      <td>9717</td>\n",
       "      <td>1950</td>\n",
       "      <td>1</td>\n",
       "      <td>5</td>\n",
       "      <td>240</td>\n",
       "      <td>1078</td>\n",
       "      <td>0</td>\n",
       "      <td>114082.112506</td>\n",
       "    </tr>\n",
       "    <tr>\n",
       "      <th>1460</th>\n",
       "      <td>9937</td>\n",
       "      <td>1965</td>\n",
       "      <td>1</td>\n",
       "      <td>6</td>\n",
       "      <td>276</td>\n",
       "      <td>1256</td>\n",
       "      <td>0</td>\n",
       "      <td>141271.043946</td>\n",
       "    </tr>\n",
       "  </tbody>\n",
       "</table>\n",
       "<p>1460 rows × 8 columns</p>\n",
       "</div>"
      ],
      "text/plain": [
       "      LotArea  YearBuilt  FullBath  TotRmsAbvGrd  GarageArea  1stFlrSF  \\\n",
       "Id                                                                       \n",
       "1        8450       2003         2             8         548       856   \n",
       "2        9600       1976         2             6         460      1262   \n",
       "3       11250       2001         2             6         608       920   \n",
       "4        9550       1915         1             7         642       961   \n",
       "5       14260       2000         2             9         836      1145   \n",
       "...       ...        ...       ...           ...         ...       ...   \n",
       "1456     7917       1999         2             7         460       953   \n",
       "1457    13175       1978         2             7         500      2073   \n",
       "1458     9042       1941         2             9         252      1188   \n",
       "1459     9717       1950         1             5         240      1078   \n",
       "1460     9937       1965         1             6         276      1256   \n",
       "\n",
       "      2ndFlrSF          Label  \n",
       "Id                             \n",
       "1          854  201050.904357  \n",
       "2            0  154772.248579  \n",
       "3          866  218136.279808  \n",
       "4          756  145837.768158  \n",
       "5         1053  270732.505856  \n",
       "...        ...            ...  \n",
       "1456       694  181743.383522  \n",
       "1457         0  220727.157754  \n",
       "1458      1152  245466.796777  \n",
       "1459         0  114082.112506  \n",
       "1460         0  141271.043946  \n",
       "\n",
       "[1460 rows x 8 columns]"
      ]
     },
     "execution_count": 20,
     "metadata": {},
     "output_type": "execute_result"
    }
   ],
   "source": [
    "from pycaret.regression import predict_model, save_model, load_model\n",
    "\n",
    "predict_model(best, features)"
   ]
  },
  {
   "cell_type": "code",
   "execution_count": 21,
   "id": "modular-ceremony",
   "metadata": {},
   "outputs": [
    {
     "name": "stdout",
     "output_type": "stream",
     "text": [
      "Transformation Pipeline and Model Successfully Saved\n"
     ]
    },
    {
     "data": {
      "text/plain": [
       "(Pipeline(memory=None,\n",
       "          steps=[('dtypes',\n",
       "                  DataTypes_Auto_infer(categorical_features=[],\n",
       "                                       display_types=True, features_todrop=[],\n",
       "                                       id_columns=[], ml_usecase='regression',\n",
       "                                       numerical_features=['FullBath',\n",
       "                                                           'TotRmsAbvGrd'],\n",
       "                                       target='SalePrice', time_features=[])),\n",
       "                 ('imputer',\n",
       "                  Simple_Imputer(categorical_strategy='not_available',\n",
       "                                 fill_value_categorical=None,\n",
       "                                 fill_value_nume...\n",
       "                 ('binn', 'passthrough'), ('rem_outliers', 'passthrough'),\n",
       "                 ('cluster_all', 'passthrough'),\n",
       "                 ('dummy', Dummify(target='SalePrice')),\n",
       "                 ('fix_perfect', Remove_100(target='SalePrice')),\n",
       "                 ('clean_names', Clean_Colum_Names()),\n",
       "                 ('feature_select', 'passthrough'), ('fix_multi', 'passthrough'),\n",
       "                 ('dfs', 'passthrough'), ('pca', 'passthrough'),\n",
       "                 ['trained_model',\n",
       "                  <catboost.core.CatBoostRegressor object at 0x000001AB3246B970>]],\n",
       "          verbose=False),\n",
       " 'catboost_regressor.pkl')"
      ]
     },
     "execution_count": 21,
     "metadata": {},
     "output_type": "execute_result"
    }
   ],
   "source": [
    "save_model(best, 'catboost_regressor')"
   ]
  },
  {
   "cell_type": "code",
   "execution_count": 22,
   "id": "romance-cable",
   "metadata": {},
   "outputs": [
    {
     "name": "stdout",
     "output_type": "stream",
     "text": [
      "Transformation Pipeline and Model Successfully Loaded\n"
     ]
    }
   ],
   "source": [
    "cb_model = load_model('catboost_regressor')"
   ]
  },
  {
   "cell_type": "code",
   "execution_count": 23,
   "id": "prime-accident",
   "metadata": {},
   "outputs": [
    {
     "data": {
      "text/html": [
       "<style  type=\"text/css\" >\n",
       "#T_9a508_row10_col0,#T_9a508_row10_col1,#T_9a508_row10_col2,#T_9a508_row10_col3,#T_9a508_row10_col4,#T_9a508_row10_col5{\n",
       "            background:  yellow;\n",
       "        }</style><table id=\"T_9a508_\" ><thead>    <tr>        <th class=\"blank level0\" ></th>        <th class=\"col_heading level0 col0\" >MAE</th>        <th class=\"col_heading level0 col1\" >MSE</th>        <th class=\"col_heading level0 col2\" >RMSE</th>        <th class=\"col_heading level0 col3\" >R2</th>        <th class=\"col_heading level0 col4\" >RMSLE</th>        <th class=\"col_heading level0 col5\" >MAPE</th>    </tr></thead><tbody>\n",
       "                <tr>\n",
       "                        <th id=\"T_9a508_level0_row0\" class=\"row_heading level0 row0\" >0</th>\n",
       "                        <td id=\"T_9a508_row0_col0\" class=\"data row0 col0\" >32662.2651</td>\n",
       "                        <td id=\"T_9a508_row0_col1\" class=\"data row0 col1\" >2300214617.2599</td>\n",
       "                        <td id=\"T_9a508_row0_col2\" class=\"data row0 col2\" >47960.5527</td>\n",
       "                        <td id=\"T_9a508_row0_col3\" class=\"data row0 col3\" >0.5727</td>\n",
       "                        <td id=\"T_9a508_row0_col4\" class=\"data row0 col4\" >0.2428</td>\n",
       "                        <td id=\"T_9a508_row0_col5\" class=\"data row0 col5\" >0.1896</td>\n",
       "            </tr>\n",
       "            <tr>\n",
       "                        <th id=\"T_9a508_level0_row1\" class=\"row_heading level0 row1\" >1</th>\n",
       "                        <td id=\"T_9a508_row1_col0\" class=\"data row1 col0\" >36631.2194</td>\n",
       "                        <td id=\"T_9a508_row1_col1\" class=\"data row1 col1\" >4208801978.9843</td>\n",
       "                        <td id=\"T_9a508_row1_col2\" class=\"data row1 col2\" >64875.2802</td>\n",
       "                        <td id=\"T_9a508_row1_col3\" class=\"data row1 col3\" >0.5244</td>\n",
       "                        <td id=\"T_9a508_row1_col4\" class=\"data row1 col4\" >0.2850</td>\n",
       "                        <td id=\"T_9a508_row1_col5\" class=\"data row1 col5\" >0.2207</td>\n",
       "            </tr>\n",
       "            <tr>\n",
       "                        <th id=\"T_9a508_level0_row2\" class=\"row_heading level0 row2\" >2</th>\n",
       "                        <td id=\"T_9a508_row2_col0\" class=\"data row2 col0\" >31614.2429</td>\n",
       "                        <td id=\"T_9a508_row2_col1\" class=\"data row2 col1\" >2140479718.4201</td>\n",
       "                        <td id=\"T_9a508_row2_col2\" class=\"data row2 col2\" >46265.3187</td>\n",
       "                        <td id=\"T_9a508_row2_col3\" class=\"data row2 col3\" >0.6450</td>\n",
       "                        <td id=\"T_9a508_row2_col4\" class=\"data row2 col4\" >0.2675</td>\n",
       "                        <td id=\"T_9a508_row2_col5\" class=\"data row2 col5\" >0.2057</td>\n",
       "            </tr>\n",
       "            <tr>\n",
       "                        <th id=\"T_9a508_level0_row3\" class=\"row_heading level0 row3\" >3</th>\n",
       "                        <td id=\"T_9a508_row3_col0\" class=\"data row3 col0\" >27364.9189</td>\n",
       "                        <td id=\"T_9a508_row3_col1\" class=\"data row3 col1\" >1700861399.5401</td>\n",
       "                        <td id=\"T_9a508_row3_col2\" class=\"data row3 col2\" >41241.5009</td>\n",
       "                        <td id=\"T_9a508_row3_col3\" class=\"data row3 col3\" >0.6735</td>\n",
       "                        <td id=\"T_9a508_row3_col4\" class=\"data row3 col4\" >0.2071</td>\n",
       "                        <td id=\"T_9a508_row3_col5\" class=\"data row3 col5\" >0.1561</td>\n",
       "            </tr>\n",
       "            <tr>\n",
       "                        <th id=\"T_9a508_level0_row4\" class=\"row_heading level0 row4\" >4</th>\n",
       "                        <td id=\"T_9a508_row4_col0\" class=\"data row4 col0\" >30051.0091</td>\n",
       "                        <td id=\"T_9a508_row4_col1\" class=\"data row4 col1\" >2397577515.4662</td>\n",
       "                        <td id=\"T_9a508_row4_col2\" class=\"data row4 col2\" >48965.0642</td>\n",
       "                        <td id=\"T_9a508_row4_col3\" class=\"data row4 col3\" >0.6228</td>\n",
       "                        <td id=\"T_9a508_row4_col4\" class=\"data row4 col4\" >0.2111</td>\n",
       "                        <td id=\"T_9a508_row4_col5\" class=\"data row4 col5\" >0.1588</td>\n",
       "            </tr>\n",
       "            <tr>\n",
       "                        <th id=\"T_9a508_level0_row5\" class=\"row_heading level0 row5\" >5</th>\n",
       "                        <td id=\"T_9a508_row5_col0\" class=\"data row5 col0\" >28572.4413</td>\n",
       "                        <td id=\"T_9a508_row5_col1\" class=\"data row5 col1\" >1528122522.6259</td>\n",
       "                        <td id=\"T_9a508_row5_col2\" class=\"data row5 col2\" >39091.2077</td>\n",
       "                        <td id=\"T_9a508_row5_col3\" class=\"data row5 col3\" >0.6700</td>\n",
       "                        <td id=\"T_9a508_row5_col4\" class=\"data row5 col4\" >0.2246</td>\n",
       "                        <td id=\"T_9a508_row5_col5\" class=\"data row5 col5\" >0.1792</td>\n",
       "            </tr>\n",
       "            <tr>\n",
       "                        <th id=\"T_9a508_level0_row6\" class=\"row_heading level0 row6\" >6</th>\n",
       "                        <td id=\"T_9a508_row6_col0\" class=\"data row6 col0\" >24342.1241</td>\n",
       "                        <td id=\"T_9a508_row6_col1\" class=\"data row6 col1\" >1356919563.2352</td>\n",
       "                        <td id=\"T_9a508_row6_col2\" class=\"data row6 col2\" >36836.3891</td>\n",
       "                        <td id=\"T_9a508_row6_col3\" class=\"data row6 col3\" >0.7346</td>\n",
       "                        <td id=\"T_9a508_row6_col4\" class=\"data row6 col4\" >0.2054</td>\n",
       "                        <td id=\"T_9a508_row6_col5\" class=\"data row6 col5\" >0.1593</td>\n",
       "            </tr>\n",
       "            <tr>\n",
       "                        <th id=\"T_9a508_level0_row7\" class=\"row_heading level0 row7\" >7</th>\n",
       "                        <td id=\"T_9a508_row7_col0\" class=\"data row7 col0\" >28279.2291</td>\n",
       "                        <td id=\"T_9a508_row7_col1\" class=\"data row7 col1\" >2017419012.1178</td>\n",
       "                        <td id=\"T_9a508_row7_col2\" class=\"data row7 col2\" >44915.6878</td>\n",
       "                        <td id=\"T_9a508_row7_col3\" class=\"data row7 col3\" >0.5867</td>\n",
       "                        <td id=\"T_9a508_row7_col4\" class=\"data row7 col4\" >0.2154</td>\n",
       "                        <td id=\"T_9a508_row7_col5\" class=\"data row7 col5\" >0.1660</td>\n",
       "            </tr>\n",
       "            <tr>\n",
       "                        <th id=\"T_9a508_level0_row8\" class=\"row_heading level0 row8\" >8</th>\n",
       "                        <td id=\"T_9a508_row8_col0\" class=\"data row8 col0\" >36116.7678</td>\n",
       "                        <td id=\"T_9a508_row8_col1\" class=\"data row8 col1\" >2644351988.0886</td>\n",
       "                        <td id=\"T_9a508_row8_col2\" class=\"data row8 col2\" >51423.2631</td>\n",
       "                        <td id=\"T_9a508_row8_col3\" class=\"data row8 col3\" >0.5730</td>\n",
       "                        <td id=\"T_9a508_row8_col4\" class=\"data row8 col4\" >0.3045</td>\n",
       "                        <td id=\"T_9a508_row8_col5\" class=\"data row8 col5\" >0.2437</td>\n",
       "            </tr>\n",
       "            <tr>\n",
       "                        <th id=\"T_9a508_level0_row9\" class=\"row_heading level0 row9\" >9</th>\n",
       "                        <td id=\"T_9a508_row9_col0\" class=\"data row9 col0\" >34151.0053</td>\n",
       "                        <td id=\"T_9a508_row9_col1\" class=\"data row9 col1\" >3531867099.1616</td>\n",
       "                        <td id=\"T_9a508_row9_col2\" class=\"data row9 col2\" >59429.5137</td>\n",
       "                        <td id=\"T_9a508_row9_col3\" class=\"data row9 col3\" >0.4686</td>\n",
       "                        <td id=\"T_9a508_row9_col4\" class=\"data row9 col4\" >0.2376</td>\n",
       "                        <td id=\"T_9a508_row9_col5\" class=\"data row9 col5\" >0.1648</td>\n",
       "            </tr>\n",
       "            <tr>\n",
       "                        <th id=\"T_9a508_level0_row10\" class=\"row_heading level0 row10\" >Mean</th>\n",
       "                        <td id=\"T_9a508_row10_col0\" class=\"data row10 col0\" >30978.5223</td>\n",
       "                        <td id=\"T_9a508_row10_col1\" class=\"data row10 col1\" >2382661541.4900</td>\n",
       "                        <td id=\"T_9a508_row10_col2\" class=\"data row10 col2\" >48100.3778</td>\n",
       "                        <td id=\"T_9a508_row10_col3\" class=\"data row10 col3\" >0.6071</td>\n",
       "                        <td id=\"T_9a508_row10_col4\" class=\"data row10 col4\" >0.2401</td>\n",
       "                        <td id=\"T_9a508_row10_col5\" class=\"data row10 col5\" >0.1844</td>\n",
       "            </tr>\n",
       "            <tr>\n",
       "                        <th id=\"T_9a508_level0_row11\" class=\"row_heading level0 row11\" >SD</th>\n",
       "                        <td id=\"T_9a508_row11_col0\" class=\"data row11 col0\" >3777.4850</td>\n",
       "                        <td id=\"T_9a508_row11_col1\" class=\"data row11 col1\" >846773481.9677</td>\n",
       "                        <td id=\"T_9a508_row11_col2\" class=\"data row11 col2\" >8307.5384</td>\n",
       "                        <td id=\"T_9a508_row11_col3\" class=\"data row11 col3\" >0.0742</td>\n",
       "                        <td id=\"T_9a508_row11_col4\" class=\"data row11 col4\" >0.0330</td>\n",
       "                        <td id=\"T_9a508_row11_col5\" class=\"data row11 col5\" >0.0285</td>\n",
       "            </tr>\n",
       "    </tbody></table>"
      ],
      "text/plain": [
       "<pandas.io.formats.style.Styler at 0x1ab2e866040>"
      ]
     },
     "metadata": {},
     "output_type": "display_data"
    }
   ],
   "source": [
    "from pycaret.regression import tune_model\n",
    "\n",
    "tuned_knn = tune_model(knn, optimize='MAE')"
   ]
  },
  {
   "cell_type": "code",
   "execution_count": 24,
   "id": "becoming-smell",
   "metadata": {},
   "outputs": [
    {
     "data": {
      "text/plain": [
       "KNeighborsRegressor(algorithm='auto', leaf_size=30, metric='manhattan',\n",
       "                    metric_params=None, n_jobs=None, n_neighbors=21, p=2,\n",
       "                    weights='distance')"
      ]
     },
     "execution_count": 24,
     "metadata": {},
     "output_type": "execute_result"
    }
   ],
   "source": [
    "tuned_knn"
   ]
  }
 ],
 "metadata": {
  "kernelspec": {
   "display_name": "Python 3",
   "language": "python",
   "name": "python3"
  },
  "language_info": {
   "codemirror_mode": {
    "name": "ipython",
    "version": 3
   },
   "file_extension": ".py",
   "mimetype": "text/x-python",
   "name": "python",
   "nbconvert_exporter": "python",
   "pygments_lexer": "ipython3",
   "version": "3.8.8"
  }
 },
 "nbformat": 4,
 "nbformat_minor": 5
}

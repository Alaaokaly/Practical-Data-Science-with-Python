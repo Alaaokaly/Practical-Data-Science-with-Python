{
 "cells": [
  {
   "cell_type": "markdown",
   "metadata": {},
   "source": [
    "# urllib basics"
   ]
  },
  {
   "cell_type": "code",
   "execution_count": 1,
   "metadata": {},
   "outputs": [],
   "source": [
    "from urllib.request import urlopen\n",
    "\n",
    "url = 'https://en.wikipedia.org/wiki/General-purpose_programming_language'\n",
    "page = urlopen(url).read()"
   ]
  },
  {
   "cell_type": "code",
   "execution_count": 2,
   "metadata": {},
   "outputs": [
    {
     "data": {
      "text/plain": [
       "b'<!DOCTYPE html>\\n<html class=\"client-nojs\" lang=\"en'"
      ]
     },
     "execution_count": 2,
     "metadata": {},
     "output_type": "execute_result"
    }
   ],
   "source": [
    "page[:50]"
   ]
  },
  {
   "cell_type": "code",
   "execution_count": 3,
   "metadata": {},
   "outputs": [
    {
     "data": {
      "text/plain": [
       "'<!DOCTYPE html>\\n<html class=\"client-nojs\" lang=\"en'"
      ]
     },
     "execution_count": 3,
     "metadata": {},
     "output_type": "execute_result"
    }
   ],
   "source": [
    "page[:50].decode('utf-8')"
   ]
  },
  {
   "cell_type": "code",
   "execution_count": 4,
   "metadata": {},
   "outputs": [
    {
     "data": {
      "text/plain": [
       "b'ion(){mw.config.set({\"wgBackendResponseTime\":264,\"wgHostname\":\"mw1271\"});});</script>\\n</body></html>'"
      ]
     },
     "execution_count": 4,
     "metadata": {},
     "output_type": "execute_result"
    }
   ],
   "source": [
    "page[-100:]"
   ]
  },
  {
   "cell_type": "code",
   "execution_count": 5,
   "metadata": {},
   "outputs": [],
   "source": [
    "from bs4 import UnicodeDammit"
   ]
  },
  {
   "cell_type": "code",
   "execution_count": 6,
   "metadata": {},
   "outputs": [
    {
     "data": {
      "text/plain": [
       "'utf-8'"
      ]
     },
     "execution_count": 6,
     "metadata": {},
     "output_type": "execute_result"
    }
   ],
   "source": [
    "suggestion = UnicodeDammit(page)\n",
    "suggestion.original_encoding"
   ]
  },
  {
   "cell_type": "code",
   "execution_count": 7,
   "metadata": {},
   "outputs": [
    {
     "data": {
      "text/plain": [
       "b'PK\\x03\\x04\\n\\x00\\x08\\x08\\x08\\x00j\\xa4CR\\x00\\x00\\x00\\x00\\x00\\x00'"
      ]
     },
     "execution_count": 7,
     "metadata": {},
     "output_type": "execute_result"
    }
   ],
   "source": [
    "datafile_url = 'https://docs.misoenergy.org/marketreports/20210203_mom.xlsx'\n",
    "mom_data = urlopen(datafile_url).read()\n",
    "mom_data[:20]"
   ]
  },
  {
   "cell_type": "code",
   "execution_count": 8,
   "metadata": {},
   "outputs": [
    {
     "data": {
      "text/html": [
       "<div>\n",
       "<style scoped>\n",
       "    .dataframe tbody tr th:only-of-type {\n",
       "        vertical-align: middle;\n",
       "    }\n",
       "\n",
       "    .dataframe tbody tr th {\n",
       "        vertical-align: top;\n",
       "    }\n",
       "\n",
       "    .dataframe thead th {\n",
       "        text-align: right;\n",
       "    }\n",
       "</style>\n",
       "<table border=\"1\" class=\"dataframe\">\n",
       "  <thead>\n",
       "    <tr style=\"text-align: right;\">\n",
       "      <th></th>\n",
       "      <th>Unnamed: 0</th>\n",
       "      <th>Multiday Operating Margin Forecast Report</th>\n",
       "      <th>Unnamed: 2</th>\n",
       "      <th>Unnamed: 3</th>\n",
       "      <th>Unnamed: 4</th>\n",
       "      <th>Unnamed: 5</th>\n",
       "      <th>Unnamed: 6</th>\n",
       "      <th>Unnamed: 7</th>\n",
       "      <th>Unnamed: 8</th>\n",
       "      <th>Unnamed: 9</th>\n",
       "      <th>Unnamed: 10</th>\n",
       "      <th>Unnamed: 11</th>\n",
       "    </tr>\n",
       "  </thead>\n",
       "  <tbody>\n",
       "    <tr>\n",
       "      <th>0</th>\n",
       "      <td>NaN</td>\n",
       "      <td>Publish Date: February 03, 2021</td>\n",
       "      <td>NaN</td>\n",
       "      <td>NaN</td>\n",
       "      <td>NaN</td>\n",
       "      <td>NaN</td>\n",
       "      <td>NaN</td>\n",
       "      <td>NaN</td>\n",
       "      <td>NaN</td>\n",
       "      <td>NaN</td>\n",
       "      <td>NaN</td>\n",
       "      <td>NaN</td>\n",
       "    </tr>\n",
       "    <tr>\n",
       "      <th>1</th>\n",
       "      <td>NaN</td>\n",
       "      <td>Market Date: February 03, 2021</td>\n",
       "      <td>NaN</td>\n",
       "      <td>NaN</td>\n",
       "      <td>NaN</td>\n",
       "      <td>NaN</td>\n",
       "      <td>NaN</td>\n",
       "      <td>NaN</td>\n",
       "      <td>NaN</td>\n",
       "      <td>NaN</td>\n",
       "      <td>NaN</td>\n",
       "      <td>NaN</td>\n",
       "    </tr>\n",
       "    <tr>\n",
       "      <th>2</th>\n",
       "      <td>NaN</td>\n",
       "      <td>NaN</td>\n",
       "      <td>NaN</td>\n",
       "      <td>NaN</td>\n",
       "      <td>NaN</td>\n",
       "      <td>NaN</td>\n",
       "      <td>NaN</td>\n",
       "      <td>NaN</td>\n",
       "      <td>NaN</td>\n",
       "      <td>NaN</td>\n",
       "      <td>NaN</td>\n",
       "      <td>NaN</td>\n",
       "    </tr>\n",
       "    <tr>\n",
       "      <th>3</th>\n",
       "      <td>NaN</td>\n",
       "      <td>2/4/21 HE 20**</td>\n",
       "      <td>2/5/21 HE 10**</td>\n",
       "      <td>2/6/21 HE 11</td>\n",
       "      <td>2/7/21 HE 20</td>\n",
       "      <td>2/8/21 HE 09**</td>\n",
       "      <td>2/9/21 HE 20**</td>\n",
       "      <td>NaN</td>\n",
       "      <td>NaN</td>\n",
       "      <td>NaN</td>\n",
       "      <td>NaN</td>\n",
       "      <td>NaN</td>\n",
       "    </tr>\n",
       "    <tr>\n",
       "      <th>4</th>\n",
       "      <td>RESOURCE COMMITTED</td>\n",
       "      <td>73143.8</td>\n",
       "      <td>70132.1</td>\n",
       "      <td>69823.7</td>\n",
       "      <td>80472.5</td>\n",
       "      <td>85188.6</td>\n",
       "      <td>82408.8</td>\n",
       "      <td>NaN</td>\n",
       "      <td>NaN</td>\n",
       "      <td>NaN</td>\n",
       "      <td>NaN</td>\n",
       "      <td>NaN</td>\n",
       "    </tr>\n",
       "  </tbody>\n",
       "</table>\n",
       "</div>"
      ],
      "text/plain": [
       "           Unnamed: 0 Multiday Operating Margin Forecast Report  \\\n",
       "0                 NaN           Publish Date: February 03, 2021   \n",
       "1                 NaN            Market Date: February 03, 2021   \n",
       "2                 NaN                                       NaN   \n",
       "3                 NaN                            2/4/21 HE 20**   \n",
       "4  RESOURCE COMMITTED                                   73143.8   \n",
       "\n",
       "       Unnamed: 2    Unnamed: 3    Unnamed: 4      Unnamed: 5      Unnamed: 6  \\\n",
       "0             NaN           NaN           NaN             NaN             NaN   \n",
       "1             NaN           NaN           NaN             NaN             NaN   \n",
       "2             NaN           NaN           NaN             NaN             NaN   \n",
       "3  2/5/21 HE 10**  2/6/21 HE 11  2/7/21 HE 20  2/8/21 HE 09**  2/9/21 HE 20**   \n",
       "4         70132.1       69823.7       80472.5         85188.6         82408.8   \n",
       "\n",
       "   Unnamed: 7  Unnamed: 8  Unnamed: 9  Unnamed: 10  Unnamed: 11  \n",
       "0         NaN         NaN         NaN          NaN          NaN  \n",
       "1         NaN         NaN         NaN          NaN          NaN  \n",
       "2         NaN         NaN         NaN          NaN          NaN  \n",
       "3         NaN         NaN         NaN          NaN          NaN  \n",
       "4         NaN         NaN         NaN          NaN          NaN  "
      ]
     },
     "execution_count": 8,
     "metadata": {},
     "output_type": "execute_result"
    }
   ],
   "source": [
    "import pandas as pd\n",
    "df = pd.read_excel(mom_data)\n",
    "df.head()"
   ]
  },
  {
   "cell_type": "code",
   "execution_count": 9,
   "metadata": {},
   "outputs": [
    {
     "data": {
      "text/html": [
       "<div>\n",
       "<style scoped>\n",
       "    .dataframe tbody tr th:only-of-type {\n",
       "        vertical-align: middle;\n",
       "    }\n",
       "\n",
       "    .dataframe tbody tr th {\n",
       "        vertical-align: top;\n",
       "    }\n",
       "\n",
       "    .dataframe thead th {\n",
       "        text-align: right;\n",
       "    }\n",
       "</style>\n",
       "<table border=\"1\" class=\"dataframe\">\n",
       "  <thead>\n",
       "    <tr style=\"text-align: right;\">\n",
       "      <th></th>\n",
       "      <th>Unnamed: 0</th>\n",
       "      <th>Multiday Operating Margin Forecast Report</th>\n",
       "      <th>Unnamed: 2</th>\n",
       "      <th>Unnamed: 3</th>\n",
       "      <th>Unnamed: 4</th>\n",
       "      <th>Unnamed: 5</th>\n",
       "      <th>Unnamed: 6</th>\n",
       "      <th>Unnamed: 7</th>\n",
       "      <th>Unnamed: 8</th>\n",
       "      <th>Unnamed: 9</th>\n",
       "      <th>Unnamed: 10</th>\n",
       "      <th>Unnamed: 11</th>\n",
       "    </tr>\n",
       "  </thead>\n",
       "  <tbody>\n",
       "    <tr>\n",
       "      <th>0</th>\n",
       "      <td>NaN</td>\n",
       "      <td>Publish Date: February 03, 2021</td>\n",
       "      <td>NaN</td>\n",
       "      <td>NaN</td>\n",
       "      <td>NaN</td>\n",
       "      <td>NaN</td>\n",
       "      <td>NaN</td>\n",
       "      <td>NaN</td>\n",
       "      <td>NaN</td>\n",
       "      <td>NaN</td>\n",
       "      <td>NaN</td>\n",
       "      <td>NaN</td>\n",
       "    </tr>\n",
       "    <tr>\n",
       "      <th>1</th>\n",
       "      <td>NaN</td>\n",
       "      <td>Market Date: February 03, 2021</td>\n",
       "      <td>NaN</td>\n",
       "      <td>NaN</td>\n",
       "      <td>NaN</td>\n",
       "      <td>NaN</td>\n",
       "      <td>NaN</td>\n",
       "      <td>NaN</td>\n",
       "      <td>NaN</td>\n",
       "      <td>NaN</td>\n",
       "      <td>NaN</td>\n",
       "      <td>NaN</td>\n",
       "    </tr>\n",
       "    <tr>\n",
       "      <th>2</th>\n",
       "      <td>NaN</td>\n",
       "      <td>NaN</td>\n",
       "      <td>NaN</td>\n",
       "      <td>NaN</td>\n",
       "      <td>NaN</td>\n",
       "      <td>NaN</td>\n",
       "      <td>NaN</td>\n",
       "      <td>NaN</td>\n",
       "      <td>NaN</td>\n",
       "      <td>NaN</td>\n",
       "      <td>NaN</td>\n",
       "      <td>NaN</td>\n",
       "    </tr>\n",
       "    <tr>\n",
       "      <th>3</th>\n",
       "      <td>NaN</td>\n",
       "      <td>2/4/21 HE 20**</td>\n",
       "      <td>2/5/21 HE 10**</td>\n",
       "      <td>2/6/21 HE 11</td>\n",
       "      <td>2/7/21 HE 20</td>\n",
       "      <td>2/8/21 HE 09**</td>\n",
       "      <td>2/9/21 HE 20**</td>\n",
       "      <td>NaN</td>\n",
       "      <td>NaN</td>\n",
       "      <td>NaN</td>\n",
       "      <td>NaN</td>\n",
       "      <td>NaN</td>\n",
       "    </tr>\n",
       "    <tr>\n",
       "      <th>4</th>\n",
       "      <td>RESOURCE COMMITTED</td>\n",
       "      <td>73143.8</td>\n",
       "      <td>70132.1</td>\n",
       "      <td>69823.7</td>\n",
       "      <td>80472.5</td>\n",
       "      <td>85188.6</td>\n",
       "      <td>82408.8</td>\n",
       "      <td>NaN</td>\n",
       "      <td>NaN</td>\n",
       "      <td>NaN</td>\n",
       "      <td>NaN</td>\n",
       "      <td>NaN</td>\n",
       "    </tr>\n",
       "  </tbody>\n",
       "</table>\n",
       "</div>"
      ],
      "text/plain": [
       "           Unnamed: 0 Multiday Operating Margin Forecast Report  \\\n",
       "0                 NaN           Publish Date: February 03, 2021   \n",
       "1                 NaN            Market Date: February 03, 2021   \n",
       "2                 NaN                                       NaN   \n",
       "3                 NaN                            2/4/21 HE 20**   \n",
       "4  RESOURCE COMMITTED                                   73143.8   \n",
       "\n",
       "       Unnamed: 2    Unnamed: 3    Unnamed: 4      Unnamed: 5      Unnamed: 6  \\\n",
       "0             NaN           NaN           NaN             NaN             NaN   \n",
       "1             NaN           NaN           NaN             NaN             NaN   \n",
       "2             NaN           NaN           NaN             NaN             NaN   \n",
       "3  2/5/21 HE 10**  2/6/21 HE 11  2/7/21 HE 20  2/8/21 HE 09**  2/9/21 HE 20**   \n",
       "4         70132.1       69823.7       80472.5         85188.6         82408.8   \n",
       "\n",
       "   Unnamed: 7  Unnamed: 8  Unnamed: 9  Unnamed: 10  Unnamed: 11  \n",
       "0         NaN         NaN         NaN          NaN          NaN  \n",
       "1         NaN         NaN         NaN          NaN          NaN  \n",
       "2         NaN         NaN         NaN          NaN          NaN  \n",
       "3         NaN         NaN         NaN          NaN          NaN  \n",
       "4         NaN         NaN         NaN          NaN          NaN  "
      ]
     },
     "execution_count": 9,
     "metadata": {},
     "output_type": "execute_result"
    }
   ],
   "source": [
    "df = pd.read_excel(datafile_url)\n",
    "df.head()"
   ]
  },
  {
   "cell_type": "code",
   "execution_count": 10,
   "metadata": {},
   "outputs": [],
   "source": [
    "df.to_excel('mom_report.xlsx')"
   ]
  },
  {
   "cell_type": "code",
   "execution_count": 11,
   "metadata": {},
   "outputs": [],
   "source": [
    "with open('mom_report.xlsx', 'wb') as f:\n",
    "    f.write(mom_data)"
   ]
  },
  {
   "cell_type": "code",
   "execution_count": 12,
   "metadata": {},
   "outputs": [
    {
     "data": {
      "text/html": [
       "<div>\n",
       "<style scoped>\n",
       "    .dataframe tbody tr th:only-of-type {\n",
       "        vertical-align: middle;\n",
       "    }\n",
       "\n",
       "    .dataframe tbody tr th {\n",
       "        vertical-align: top;\n",
       "    }\n",
       "\n",
       "    .dataframe thead th {\n",
       "        text-align: right;\n",
       "    }\n",
       "</style>\n",
       "<table border=\"1\" class=\"dataframe\">\n",
       "  <thead>\n",
       "    <tr style=\"text-align: right;\">\n",
       "      <th></th>\n",
       "      <th>Unnamed: 0</th>\n",
       "      <th>Multiday Operating Margin Forecast Report</th>\n",
       "      <th>Unnamed: 2</th>\n",
       "      <th>Unnamed: 3</th>\n",
       "      <th>Unnamed: 4</th>\n",
       "      <th>Unnamed: 5</th>\n",
       "      <th>Unnamed: 6</th>\n",
       "      <th>Unnamed: 7</th>\n",
       "      <th>Unnamed: 8</th>\n",
       "      <th>Unnamed: 9</th>\n",
       "      <th>Unnamed: 10</th>\n",
       "      <th>Unnamed: 11</th>\n",
       "    </tr>\n",
       "  </thead>\n",
       "  <tbody>\n",
       "    <tr>\n",
       "      <th>0</th>\n",
       "      <td>NaN</td>\n",
       "      <td>Publish Date: February 03, 2021</td>\n",
       "      <td>NaN</td>\n",
       "      <td>NaN</td>\n",
       "      <td>NaN</td>\n",
       "      <td>NaN</td>\n",
       "      <td>NaN</td>\n",
       "      <td>NaN</td>\n",
       "      <td>NaN</td>\n",
       "      <td>NaN</td>\n",
       "      <td>NaN</td>\n",
       "      <td>NaN</td>\n",
       "    </tr>\n",
       "    <tr>\n",
       "      <th>1</th>\n",
       "      <td>NaN</td>\n",
       "      <td>Market Date: February 03, 2021</td>\n",
       "      <td>NaN</td>\n",
       "      <td>NaN</td>\n",
       "      <td>NaN</td>\n",
       "      <td>NaN</td>\n",
       "      <td>NaN</td>\n",
       "      <td>NaN</td>\n",
       "      <td>NaN</td>\n",
       "      <td>NaN</td>\n",
       "      <td>NaN</td>\n",
       "      <td>NaN</td>\n",
       "    </tr>\n",
       "    <tr>\n",
       "      <th>2</th>\n",
       "      <td>NaN</td>\n",
       "      <td>NaN</td>\n",
       "      <td>NaN</td>\n",
       "      <td>NaN</td>\n",
       "      <td>NaN</td>\n",
       "      <td>NaN</td>\n",
       "      <td>NaN</td>\n",
       "      <td>NaN</td>\n",
       "      <td>NaN</td>\n",
       "      <td>NaN</td>\n",
       "      <td>NaN</td>\n",
       "      <td>NaN</td>\n",
       "    </tr>\n",
       "    <tr>\n",
       "      <th>3</th>\n",
       "      <td>NaN</td>\n",
       "      <td>2/4/21 HE 20**</td>\n",
       "      <td>2/5/21 HE 10**</td>\n",
       "      <td>2/6/21 HE 11</td>\n",
       "      <td>2/7/21 HE 20</td>\n",
       "      <td>2/8/21 HE 09**</td>\n",
       "      <td>2/9/21 HE 20**</td>\n",
       "      <td>NaN</td>\n",
       "      <td>NaN</td>\n",
       "      <td>NaN</td>\n",
       "      <td>NaN</td>\n",
       "      <td>NaN</td>\n",
       "    </tr>\n",
       "    <tr>\n",
       "      <th>4</th>\n",
       "      <td>RESOURCE COMMITTED</td>\n",
       "      <td>73143.8</td>\n",
       "      <td>70132.1</td>\n",
       "      <td>69823.7</td>\n",
       "      <td>80472.5</td>\n",
       "      <td>85188.6</td>\n",
       "      <td>82408.8</td>\n",
       "      <td>NaN</td>\n",
       "      <td>NaN</td>\n",
       "      <td>NaN</td>\n",
       "      <td>NaN</td>\n",
       "      <td>NaN</td>\n",
       "    </tr>\n",
       "  </tbody>\n",
       "</table>\n",
       "</div>"
      ],
      "text/plain": [
       "           Unnamed: 0 Multiday Operating Margin Forecast Report  \\\n",
       "0                 NaN           Publish Date: February 03, 2021   \n",
       "1                 NaN            Market Date: February 03, 2021   \n",
       "2                 NaN                                       NaN   \n",
       "3                 NaN                            2/4/21 HE 20**   \n",
       "4  RESOURCE COMMITTED                                   73143.8   \n",
       "\n",
       "       Unnamed: 2    Unnamed: 3    Unnamed: 4      Unnamed: 5      Unnamed: 6  \\\n",
       "0             NaN           NaN           NaN             NaN             NaN   \n",
       "1             NaN           NaN           NaN             NaN             NaN   \n",
       "2             NaN           NaN           NaN             NaN             NaN   \n",
       "3  2/5/21 HE 10**  2/6/21 HE 11  2/7/21 HE 20  2/8/21 HE 09**  2/9/21 HE 20**   \n",
       "4         70132.1       69823.7       80472.5         85188.6         82408.8   \n",
       "\n",
       "   Unnamed: 7  Unnamed: 8  Unnamed: 9  Unnamed: 10  Unnamed: 11  \n",
       "0         NaN         NaN         NaN          NaN          NaN  \n",
       "1         NaN         NaN         NaN          NaN          NaN  \n",
       "2         NaN         NaN         NaN          NaN          NaN  \n",
       "3         NaN         NaN         NaN          NaN          NaN  \n",
       "4         NaN         NaN         NaN          NaN          NaN  "
      ]
     },
     "execution_count": 12,
     "metadata": {},
     "output_type": "execute_result"
    }
   ],
   "source": [
    "from urllib.request import urlretrieve\n",
    "\n",
    "urlretrieve(datafile_url, 'mom_report.xlsx')\n",
    "\n",
    "df = pd.read_excel('mom_report.xlsx')\n",
    "df.head()"
   ]
  },
  {
   "cell_type": "markdown",
   "metadata": {},
   "source": [
    "## requests"
   ]
  },
  {
   "cell_type": "code",
   "execution_count": 13,
   "metadata": {},
   "outputs": [
    {
     "data": {
      "text/plain": [
       "'<!DOCTYPE html>\\n<html class=\"client-nojs\" lang=\"en'"
      ]
     },
     "execution_count": 13,
     "metadata": {},
     "output_type": "execute_result"
    }
   ],
   "source": [
    "import requests as rq\n",
    "\n",
    "url = 'https://en.wikipedia.org/wiki/General-purpose_programming_language'\n",
    "response = rq.get(url)\n",
    "response.text[:50]"
   ]
  },
  {
   "cell_type": "code",
   "execution_count": 14,
   "metadata": {},
   "outputs": [
    {
     "data": {
      "text/plain": [
       "b'<!DOCTYPE html>\\n<html class=\"client-nojs\" lang=\"en\" dir=\"ltr\">\\n<head>\\n<meta charset=\"UTF-8\"/>\\n<title>General-purpose programming language - Wikipedia</title>\\n<script>document.documentElement.className=\"client-js\";RLCONF={\"wgBreakFrames\":!1,\"wgSeparatorTransformTable\":[\"\",\"\"],\"wgDigitTransformTable\":[\"\",\"\"],\"wgDefaultDateFormat\":\"dmy\",\"wgMonthNames\":[\"\",\"January\",\"February\",\"March\",\"April\",\"May\",\"June\",\"July\",\"August\",\"September\",\"October\",\"November\",\"December\"],\"wgRequestId\":\"YEdEBWYZi8XZZLK-gLiVkAAAAMI\",\"wgCSPNonce\":!1,\"wgCanonicalNamespace\":\"\",\"wgCanonicalSpecialPageName\":!1,\"wgNamespaceNumber\":0,\"wgPageName\":\"General-purpose_programming_language\",\"wgTitle\":\"General-purpose programming language\",\"wgCurRevisionId\":1000861471,\"wgRevisionId\":1000861471,\"wgArticleId\":891926,\"wgIsArticle\":!0,\"wgIsRedirect\":!1,\"wgAction\":\"view\",\"wgUserName\":null,\"wgUserGroups\":[\"*\"],\"wgCategories\":[\"Articles needing additional references from January 2021\",\"All articles needing additional references\",\"All stub articles\",\"Programming languages\",\"Programming language topic stubs\"],\"wgPageContentLanguage\":\"en\",\"wgPageContentModel\":\"wikitext\",\\n\"wgRelevantPageName\":\"General-purpose_programming_language\",\"wgRelevantArticleId\":891926,\"wgIsProbablyEditable\":!0,\"wgRelevantPageIsProbablyEditable\":!0,\"wgRestrictionEdit\":[],\"wgRestrictionMove\":[],\"wgMediaViewerOnClick\":!0,\"wgMediaViewerEnabledByDefault\":!0,\"wgPopupsReferencePreviews\":!1,\"wgPopupsReferencePreviewsBeta\":!0,\"wgPopupsConflictsWithNavPopupGadget\":!1,\"wgPopupsConflictsWithRefTooltipsGadget\":!0,\"wgVisualEditor\":{\"pageLanguageCode\":\"en\",\"pageLanguageDir\":\"ltr\",\"pageVariantFallbacks\":\"en\"},\"wgMFDisplayWikibaseDescriptions\":{\"search\":!0,\"nearby\":!0,\"watchlist\":!0,\"tagline\":!1},\"wgWMESchemaEditAttemptStepOversample\":!1,\"wgULSCurrentAutonym\":\"English\",\"wgNoticeProject\":\"wikipedia\",\"wgCentralAuthMobileDomain\":!1,\"wgEditSubmitButtonLabelPublish\":!0,\"wgULSPosition\":\"interlanguage\",\"wgWikibaseItemId\":\"Q951497\"};RLSTATE={\"ext.globalCssJs.user.styles\":\"ready\",\"site.styles\":\"ready\",\"noscript\":\"ready\",\"user.styles\":\"ready\",\"ext.globalCssJs.user\":\\n\"ready\",\"user\":\"ready\",\"user.options\":\"loading\",\"ext.cite.styles\":\"ready\",\"skins.vector.styles.legacy\":\"ready\",\"ext.visualEditor.desktopArticleTarget.noscript\":\"ready\",\"ext.uls.interlanguage\":\"ready\",\"ext.wikimediaBadges\":\"ready\",\"wikibase.client.init\":\"ready\"};RLPAGEMODULES=[\"ext.cite.ux-enhancements\",\"site\",\"mediawiki.page.ready\",\"mediawiki.toc\",\"skins.vector.legacy.js\",\"ext.gadget.ReferenceTooltips\",\"ext.gadget.charinsert\",\"ext.gadget.extra-toolbar-buttons\",\"ext.gadget.refToolbar\",\"ext.gadget.switcher\",\"ext.centralauth.centralautologin\",\"mmv.head\",\"mmv.bootstrap.autostart\",\"ext.popups\",\"ext.visualEditor.desktopArticleTarget.init\",\"ext.visualEditor.targetLoader\",\"ext.eventLogging\",\"ext.wikimediaEvents\",\"ext.navigationTiming\",\"ext.uls.compactlinks\",\"ext.uls.interface\",\"ext.cx.eventlogging.campaigns\",\"ext.centralNotice.geoIP\",\"ext.centralNotice.startUp\"];</script>\\n<script>(RLQ=window.RLQ||[]).push(function(){mw.loader.implement(\"user.options@1hzgi\",function($,jQuery,require,module){/*@nomin*/mw.user.tokens.set({\"patrolToken\":\"+\\\\\\\\\",\"watchToken\":\"+\\\\\\\\\",\"csrfToken\":\"+\\\\\\\\\"});\\n});});</script>\\n<link rel=\"stylesheet\" href=\"/w/load.php?lang=en&amp;modules=ext.cite.styles%7Cext.uls.interlanguage%7Cext.visualEditor.desktopArticleTarget.noscript%7Cext.wikimediaBadges%7Cskins.vector.styles.legacy%7Cwikibase.client.init&amp;only=styles&amp;skin=vector\"/>\\n<script async=\"\" src=\"/w/load.php?lang=en&amp;modules=startup&amp;only=scripts&amp;raw=1&amp;skin=vector\"></script>\\n<meta name=\"ResourceLoaderDynamicStyles\" content=\"\"/>\\n<link rel=\"stylesheet\" href=\"/w/load.php?lang=en&amp;modules=site.styles&amp;only=styles&amp;skin=vector\"/>\\n<meta name=\"generator\" content=\"MediaWiki 1.36.0-wmf.33\"/>\\n<meta name=\"referrer\" content=\"origin\"/>\\n<meta name=\"referrer\" content=\"origin-when-crossorigin\"/>\\n<meta name=\"referrer\" content=\"origin-when-cross-origin\"/>\\n<meta property=\"og:title\" content=\"General-purpose programming language\"/>\\n<meta property=\"og:type\" content=\"website\"/>\\n<link rel=\"preconnect\" href=\"//upload.wikimedia.org\"/>\\n<link rel=\"alternate\" media=\"only screen and (max-width: 720px)\" href=\"//en.m.wikipedia.org/wiki/General-purpose_programming_language\"/>\\n<link rel=\"alternate\" type=\"application/x-wiki\" title=\"Edit this page\" href=\"/w/index.php?title=General-purpose_programming_language&amp;action=edit\"/>\\n<link rel=\"edit\" title=\"Edit this page\" href=\"/w/index.php?title=General-purpose_programming_language&amp;action=edit\"/>\\n<link rel=\"apple-touch-icon\" href=\"/static/apple-touch/wikipedia.png\"/>\\n<link rel=\"shortcut icon\" href=\"/static/favicon/wikipedia.ico\"/>\\n<link rel=\"search\" type=\"application/opensearchdescription+xml\" href=\"/w/opensearch_desc.php\" title=\"Wikipedia (en)\"/>\\n<link rel=\"EditURI\" type=\"application/rsd+xml\" href=\"//en.wikipedia.org/w/api.php?action=rsd\"/>\\n<link rel=\"license\" href=\"//creativecommons.org/licenses/by-sa/3.0/\"/>\\n<link rel=\"canonical\" href=\"https://en.wikipedia.org/wiki/General-purpose_programming_language\"/>\\n<link rel=\"dns-prefetch\" href=\"//login.wikimedia.org\"/>\\n<link rel=\"dns-prefetch\" href=\"//meta.wikimedia.org\" />\\n</head>\\n<body class=\"mediawiki ltr sitedir-ltr mw-hide-empty-elt ns-0 ns-subject mw-editable page-General-purpose_programming_language rootpage-General-purpose_programming_language skin-vector action-view skin-vector-legacy\"><div id=\"mw-page-base\" class=\"noprint\"></div>\\n<div id=\"mw-head-base\" class=\"noprint\"></div>\\n<div id=\"content\" class=\"mw-body\" role=\"main\">\\n\\t<a id=\"top\"></a>\\n\\t<div id=\"siteNotice\" class=\"mw-body-content\"><!-- CentralNotice --></div>\\n\\t<div class=\"mw-indicators mw-body-content\">\\n\\t</div>\\n\\t<h1 id=\"firstHeading\" class=\"firstHeading\" >General-purpose programming language</h1>\\n\\t<div id=\"bodyContent\" class=\"mw-body-content\">\\n\\t\\t<div id=\"siteSub\" class=\"noprint\">From Wikipedia, the free encyclopedia</div>\\n\\t\\t<div id=\"contentSub\"></div>\\n\\t\\t<div id=\"contentSub2\"></div>\\n\\t\\t\\n\\t\\t<div id=\"jump-to-nav\"></div>\\n\\t\\t<a class=\"mw-jump-link\" href=\"#mw-head\">Jump to navigation</a>\\n\\t\\t<a class=\"mw-jump-link\" href=\"#searchInput\">Jump to search</a>\\n\\t\\t<div id=\"mw-content-text\" lang=\"en\" dir=\"ltr\" class=\"mw-content-ltr\"><div class=\"mw-parser-output\"><table class=\"box-One_source plainlinks metadata ambox ambox-content ambox-one_source\" role=\"presentation\"><tbody><tr><td class=\"mbox-image\"><div style=\"width:52px\"><a href=\"/wiki/File:Question_book-new.svg\" class=\"image\"><img alt=\"Question book-new.svg\" src=\"//upload.wikimedia.org/wikipedia/en/thumb/9/99/Question_book-new.svg/50px-Question_book-new.svg.png\" decoding=\"async\" width=\"50\" height=\"39\" srcset=\"//upload.wikimedia.org/wikipedia/en/thumb/9/99/Question_book-new.svg/75px-Question_book-new.svg.png 1.5x, //upload.wikimedia.org/wikipedia/en/thumb/9/99/Question_book-new.svg/100px-Question_book-new.svg.png 2x\" data-file-width=\"512\" data-file-height=\"399\" /></a></div></td><td class=\"mbox-text\"><div class=\"mbox-text-span\">This article <b>relies largely or entirely on a <a href=\"/wiki/Wikipedia:Articles_with_a_single_source\" title=\"Wikipedia:Articles with a single source\">single source</a></b>.<span class=\"hide-when-compact\"> Relevant discussion may be found on the <a href=\"/wiki/Talk:General-purpose_programming_language##\" title=\"Talk:General-purpose programming language\">talk page</a>. Please help <a class=\"external text\" href=\"https://en.wikipedia.org/w/index.php?title=General-purpose_programming_language&amp;action=edit\">improve this article</a> by introducing <a href=\"/wiki/Wikipedia:Citing_sources\" title=\"Wikipedia:Citing sources\">citations</a> to <a href=\"/wiki/Wikipedia:Reliable_sources\" title=\"Wikipedia:Reliable sources\">additional sources</a>.<br /><small><span class=\"plainlinks\"><i>Find sources:</i>&#160;<a rel=\"nofollow\" class=\"external text\" href=\"//www.google.com/search?as_eq=wikipedia&amp;q=%22General-purpose+programming+language%22\">\"General-purpose programming language\"</a>&#160;\\xe2\\x80\\x93&#160;<a rel=\"nofollow\" class=\"external text\" href=\"//www.google.com/search?tbm=nws&amp;q=%22General-purpose+programming+language%22+-wikipedia\">news</a>&#160;<b>\\xc2\\xb7</b> <a rel=\"nofollow\" class=\"external text\" href=\"//www.google.com/search?&amp;q=%22General-purpose+programming+language%22+site:news.google.com/newspapers&amp;source=newspapers\">newspapers</a>&#160;<b>\\xc2\\xb7</b> <a rel=\"nofollow\" class=\"external text\" href=\"//www.google.com/search?tbs=bks:1&amp;q=%22General-purpose+programming+language%22+-wikipedia\">books</a>&#160;<b>\\xc2\\xb7</b> <a rel=\"nofollow\" class=\"external text\" href=\"//scholar.google.com/scholar?q=%22General-purpose+programming+language%22\">scholar</a>&#160;<b>\\xc2\\xb7</b> <a rel=\"nofollow\" class=\"external text\" href=\"https://www.jstor.org/action/doBasicSearch?Query=%22General-purpose+programming+language%22&amp;acc=on&amp;wc=on\">JSTOR</a></span></small></span>  <small class=\"date-container\"><i>(<span class=\"date\">January 2021</span>)</i></small></div></td></tr></tbody></table>\\n<p>In <a href=\"/wiki/Computer_software\" class=\"mw-redirect\" title=\"Computer software\">computer software</a>, a <b>general-purpose programming language</b> is a <a href=\"/wiki/Programming_language\" title=\"Programming language\">programming language</a> dedicated to a <a href=\"/wiki/General-purpose_language\" title=\"General-purpose language\">general-purpose</a>, designed to be used for writing <a href=\"/wiki/Software\" title=\"Software\">software</a> in a wide variety of application <a href=\"/wiki/Domain_(software_engineering)\" title=\"Domain (software engineering)\">domains</a>.\\n</p>\\n<div id=\"toc\" class=\"toc\" role=\"navigation\" aria-labelledby=\"mw-toc-heading\"><input type=\"checkbox\" role=\"button\" id=\"toctogglecheckbox\" class=\"toctogglecheckbox\" style=\"display:none\" /><div class=\"toctitle\" lang=\"en\" dir=\"ltr\"><h2 id=\"mw-toc-heading\">Contents</h2><span class=\"toctogglespan\"><label class=\"toctogglelabel\" for=\"toctogglecheckbox\"></label></span></div>\\n<ul>\\n<li class=\"toclevel-1 tocsection-1\"><a href=\"#History\"><span class=\"tocnumber\">1</span> <span class=\"toctext\">History</span></a></li>\\n<li class=\"toclevel-1 tocsection-2\"><a href=\"#Definitions\"><span class=\"tocnumber\">2</span> <span class=\"toctext\">Definitions</span></a></li>\\n<li class=\"toclevel-1 tocsection-3\"><a href=\"#List\"><span class=\"tocnumber\">3</span> <span class=\"toctext\">List</span></a></li>\\n<li class=\"toclevel-1 tocsection-4\"><a href=\"#Notes\"><span class=\"tocnumber\">4</span> <span class=\"toctext\">Notes</span></a></li>\\n<li class=\"toclevel-1 tocsection-5\"><a href=\"#See_also\"><span class=\"tocnumber\">5</span> <span class=\"toctext\">See also</span></a></li>\\n</ul>\\n</div>\\n\\n<h2><span class=\"mw-headline\" id=\"History\">History</span><span class=\"mw-editsection\"><span class=\"mw-editsection-bracket\">[</span><a href=\"/w/index.php?title=General-purpose_programming_language&amp;action=edit&amp;section=1\" title=\"Edit section: History\">edit</a><span class=\"mw-editsection-bracket\">]</span></span></h2>\\n<p>Early programming languages were designed either for scientific computing (numerical calculations) or commercial data processing, as was computer hardware. Scientific languages such as <a href=\"/wiki/Fortran\" title=\"Fortran\">Fortran</a> and <a href=\"/wiki/ALGOL\" title=\"ALGOL\">Algol</a> supported floating-point calculations and multidimensional arrays, while business languages such as <a href=\"/wiki/COBOL\" title=\"COBOL\">COBOL</a> supported fixed-field file formats and <a href=\"/wiki/Record_(computer_science)\" title=\"Record (computer science)\">data records</a>. Much less widely used were specialized languages such as <a href=\"/wiki/IPL-V\" class=\"mw-redirect\" title=\"IPL-V\">IPL-V</a> and <a href=\"/wiki/LISP\" class=\"mw-redirect\" title=\"LISP\">LISP</a> for <a href=\"/wiki/List_(abstract_data_type)\" title=\"List (abstract data type)\">symbolic list processing</a>; <a href=\"/wiki/COMIT\" title=\"COMIT\">COMIT</a> for string manipulation; <a href=\"/wiki/APT_(programming_language)\" title=\"APT (programming language)\">APT</a> for <a href=\"/wiki/Numerical_control\" title=\"Numerical control\">numerically controlled machines</a>. <a href=\"/wiki/Systems_programming\" title=\"Systems programming\">Systems programming</a> requiring <a href=\"/wiki/Pointer_(computer_programming)\" title=\"Pointer (computer programming)\">pointer manipulation</a> was typically done in <a href=\"/wiki/Assembly_language\" title=\"Assembly language\">assembly language</a>, though <a href=\"/wiki/JOVIAL\" title=\"JOVIAL\">JOVIAL</a> was used for some military applications.<sup id=\"cite_ref-sammet_1-0\" class=\"reference\"><a href=\"#cite_note-sammet-1\">&#91;1&#93;</a></sup>\\n</p><p><a href=\"/wiki/IBM\" title=\"IBM\">IBM</a>\\'s <a href=\"/wiki/IBM_System/360\" title=\"IBM System/360\">System/360</a>, announced in 1964, was designed as a unified hardware architecture supporting both scientific and commercial applications, and IBM developed <a href=\"/wiki/PL/I\" title=\"PL/I\">PL/I</a> for it as a single, general-purpose language that supported scientific, commercial, and systems programming. Indeed, PL/I was used as the standard systems programming language for the <a href=\"/wiki/Multics\" title=\"Multics\">Multics</a> operating system.\\n</p><p>Since PL/I, the distinction between scientific and commercial programming languages has diminished, with most languages supporting the basic features required by both, and much of the special file format handling delegated to specialized <a href=\"/wiki/Database#Database_management_system\" title=\"Database\">database management systems</a>.\\n</p><p>Many specialized languages were also developed starting in the 1960s: <a href=\"/wiki/GPSS\" title=\"GPSS\">GPSS</a> and <a href=\"/wiki/Simula\" title=\"Simula\">Simula</a> for discrete event simulation; <a href=\"/wiki/MAD_(programming_language)\" title=\"MAD (programming language)\">MAD</a>, <a href=\"/wiki/BASIC\" title=\"BASIC\">BASIC</a>, <a href=\"/wiki/Logo_(programming_language)\" title=\"Logo (programming language)\">Logo</a>, and <a href=\"/wiki/Pascal_(programming_language)\" title=\"Pascal (programming language)\">Pascal</a> for teaching programming; <a href=\"/wiki/C_(programming_language)\" title=\"C (programming language)\">C</a> for systems programming; <a href=\"/wiki/JOSS\" title=\"JOSS\">JOSS</a> and <a href=\"/wiki/APL%5C360\" class=\"mw-redirect\" title=\"APL\\\\360\">APL\\\\360</a> for interactive programming.<sup id=\"cite_ref-sammet_1-1\" class=\"reference\"><a href=\"#cite_note-sammet-1\">&#91;1&#93;</a></sup>\\n</p>\\n<h2><span class=\"mw-headline\" id=\"Definitions\">Definitions</span><span class=\"mw-editsection\"><span class=\"mw-editsection-bracket\">[</span><a href=\"/w/index.php?title=General-purpose_programming_language&amp;action=edit&amp;section=2\" title=\"Edit section: Definitions\">edit</a><span class=\"mw-editsection-bracket\">]</span></span></h2>\\n<p>A <a href=\"/wiki/Domain-specific_programming_language\" class=\"mw-redirect\" title=\"Domain-specific programming language\">domain-specific programming language</a> is designed to be used within a specific application domain.  Examples include <a href=\"/wiki/Page_description_language\" title=\"Page description language\">page description languages</a> and <a href=\"/wiki/Database_query_language\" class=\"mw-redirect\" title=\"Database query language\">database query languages</a>.\\n</p>\\n<h2><span class=\"mw-headline\" id=\"List\">List</span><span class=\"mw-editsection\"><span class=\"mw-editsection-bracket\">[</span><a href=\"/w/index.php?title=General-purpose_programming_language&amp;action=edit&amp;section=3\" title=\"Edit section: List\">edit</a><span class=\"mw-editsection-bracket\">]</span></span></h2>\\n<p>The following are some general-purpose programming languages:\\n</p>\\n<style data-mw-deduplicate=\"TemplateStyles:r998391716\">.mw-parser-output .div-col{margin-top:0.3em;column-width:30em}.mw-parser-output .div-col-small{font-size:90%}.mw-parser-output .div-col-rules{column-rule:1px solid #aaa}.mw-parser-output .div-col dl,.mw-parser-output .div-col ol,.mw-parser-output .div-col ul{margin-top:0}.mw-parser-output .div-col li,.mw-parser-output .div-col dd{page-break-inside:avoid;break-inside:avoid-column}</style><div class=\"div-col\" style=\"column-width: 15em;\">\\n<ul><li><a href=\"/wiki/C%2B%2B\" title=\"C++\">C++</a></li>\\n<li><a href=\"/wiki/C_Sharp_(programming_language)\" title=\"C Sharp (programming language)\">C#</a></li>\\n<li><a href=\"/wiki/Clojure\" title=\"Clojure\">Clojure</a></li>\\n<li><a href=\"/wiki/Crystal_(programming_language)\" title=\"Crystal (programming language)\">Crystal</a></li>\\n<li><a href=\"/wiki/Dart_(programming_language)\" title=\"Dart (programming language)\">Dart</a></li>\\n<li><a href=\"/wiki/Elixir_(programming_language)\" title=\"Elixir (programming language)\">Elixir</a></li>\\n<li><a href=\"/wiki/Erlang_(programming_language)\" title=\"Erlang (programming language)\">Erlang</a></li>\\n<li><a href=\"/wiki/F_Sharp_(programming_language)\" title=\"F Sharp (programming language)\">F#</a></li>\\n<li><a href=\"/wiki/Go_(programming_language)\" title=\"Go (programming language)\">Go</a></li>\\n<li><a href=\"/wiki/Harbour_compiler\" class=\"mw-redirect\" title=\"Harbour compiler\">Harbour</a></li>\\n<li><a href=\"/wiki/Haskell_(programming_language)\" title=\"Haskell (programming language)\">Haskell</a></li>\\n<li><a href=\"/wiki/Java_(programming_language)\" title=\"Java (programming language)\">Java</a></li>\\n<li><a href=\"/wiki/JavaScript_(programming_language)\" class=\"mw-redirect\" title=\"JavaScript (programming language)\">JavaScript</a></li>\\n<li><a href=\"/wiki/Julia_(programming_language)\" title=\"Julia (programming language)\">Julia</a></li>\\n<li><a href=\"/wiki/Kotlin_(programming_language)\" title=\"Kotlin (programming language)\">Kotlin</a></li>\\n<li><a href=\"/wiki/Lua_(programming_language)\" title=\"Lua (programming language)\">Lua</a></li>\\n<li><a href=\"/wiki/Modula-2\" title=\"Modula-2\">Modula-2</a></li>\\n<li><a href=\"/wiki/Oberon_(programming_language)\" title=\"Oberon (programming language)\">Oberon</a></li>\\n<li><a href=\"/wiki/Objective-C\" title=\"Objective-C\">Objective-C</a></li>\\n<li><a href=\"/wiki/Perl\" title=\"Perl\">Perl</a></li>\\n<li><a href=\"/wiki/PHP\" title=\"PHP\">PHP</a></li>\\n<li><a href=\"/wiki/Pike_(programming_language)\" class=\"mw-redirect\" title=\"Pike (programming language)\">Pike</a></li>\\n<li><a href=\"/wiki/PL/I\" title=\"PL/I\">PL/I</a></li>\\n<li><a href=\"/wiki/Python_(programming_language)\" title=\"Python (programming language)\">Python</a></li>\\n<li><a href=\"/wiki/Ruby_(programming_language)\" title=\"Ruby (programming language)\">Ruby</a></li>\\n<li><a href=\"/wiki/Rust_(programming_language)\" title=\"Rust (programming language)\">Rust</a></li>\\n<li><a href=\"/wiki/Scala_(programming_language)\" title=\"Scala (programming language)\">Scala</a></li>\\n<li><a href=\"/wiki/Swift_(programming_language)\" title=\"Swift (programming language)\">Swift</a></li>\\n<li><a href=\"/wiki/Tcl\" title=\"Tcl\">Tcl</a></li>\\n<li><a href=\"/wiki/Visual_Basic\" title=\"Visual Basic\">Visual Basic</a></li>\\n<li><a href=\"/wiki/Visual_Basic_.NET\" title=\"Visual Basic .NET\">Visual Basic .NET</a></li></ul>\\n</div>\\n<h2><span class=\"mw-headline\" id=\"Notes\">Notes</span><span class=\"mw-editsection\"><span class=\"mw-editsection-bracket\">[</span><a href=\"/w/index.php?title=General-purpose_programming_language&amp;action=edit&amp;section=4\" title=\"Edit section: Notes\">edit</a><span class=\"mw-editsection-bracket\">]</span></span></h2>\\n<div class=\"mw-references-wrap\"><ol class=\"references\">\\n<li id=\"cite_note-sammet-1\"><span class=\"mw-cite-backlink\">^ <a href=\"#cite_ref-sammet_1-0\"><sup><i><b>a</b></i></sup></a> <a href=\"#cite_ref-sammet_1-1\"><sup><i><b>b</b></i></sup></a></span> <span class=\"reference-text\">Jean E. Sammet, \"Programming Languages: History and Future\", <i>Communications of the ACM</i> <b>15</b>:7:601-610 (July 1972) <a href=\"/wiki/Doi_(identifier)\" class=\"mw-redirect\" title=\"Doi (identifier)\">doi</a>:<a rel=\"nofollow\" class=\"external text\" href=\"https://doi.org/10.1145%2F361454.361485\">10.1145/361454.361485</a></span>\\n</li>\\n</ol></div>\\n<h2><span class=\"mw-headline\" id=\"See_also\">See also</span><span class=\"mw-editsection\"><span class=\"mw-editsection-bracket\">[</span><a href=\"/w/index.php?title=General-purpose_programming_language&amp;action=edit&amp;section=5\" title=\"Edit section: See also\">edit</a><span class=\"mw-editsection-bracket\">]</span></span></h2>\\n<ul><li><a href=\"/wiki/General-purpose_markup_language\" title=\"General-purpose markup language\">General-purpose markup language</a></li>\\n<li><a href=\"/wiki/General-purpose_modeling_language\" class=\"mw-redirect\" title=\"General-purpose modeling language\">General-purpose modeling language</a></li></ul>\\n<p><br />\\n</p>\\n<style data-mw-deduplicate=\"TemplateStyles:r1010367695\">.mw-parser-output .asbox{position:relative}.mw-parser-output .asbox table{background:transparent}.mw-parser-output .asbox p{margin:0}.mw-parser-output .asbox p+p{margin-top:0.25em}.mw-parser-output .asbox-body{font-style:italic}.mw-parser-output .asbox-note{font-size:smaller}.mw-parser-output .asbox .navbar{position:absolute;top:-0.75em;right:1em;display:none}</style><div role=\"note\" class=\"metadata plainlinks asbox stub\"><table role=\"presentation\"><tbody><tr class=\"noresize\"><td><a href=\"/wiki/File:HelloWorld.svg\" class=\"image\"><img alt=\"Stub icon\" src=\"//upload.wikimedia.org/wikipedia/commons/thumb/2/28/HelloWorld.svg/50px-HelloWorld.svg.png\" decoding=\"async\" width=\"50\" height=\"25\" srcset=\"//upload.wikimedia.org/wikipedia/commons/thumb/2/28/HelloWorld.svg/75px-HelloWorld.svg.png 1.5x, //upload.wikimedia.org/wikipedia/commons/thumb/2/28/HelloWorld.svg/100px-HelloWorld.svg.png 2x\" data-file-width=\"512\" data-file-height=\"256\" /></a></td><td><p class=\"asbox-body\">This <a href=\"/wiki/Programming_language\" title=\"Programming language\">programming-language</a>-related article is a <a href=\"/wiki/Wikipedia:Stub\" title=\"Wikipedia:Stub\">stub</a>. You can help Wikipedia by <a class=\"external text\" href=\"https://en.wikipedia.org/w/index.php?title=General-purpose_programming_language&amp;action=edit\">expanding it</a>.</p></td></tr></tbody></table><style data-mw-deduplicate=\"TemplateStyles:r992953826\">.mw-parser-output .navbar{display:inline;font-size:88%;font-weight:normal}.mw-parser-output .navbar-collapse{float:left;text-align:left}.mw-parser-output .navbar-boxtext{word-spacing:0}.mw-parser-output .navbar ul{display:inline-block;white-space:nowrap;line-height:inherit}.mw-parser-output .navbar-brackets::before{margin-right:-0.125em;content:\"[ \"}.mw-parser-output .navbar-brackets::after{margin-left:-0.125em;content:\" ]\"}.mw-parser-output .navbar li{word-spacing:-0.125em}.mw-parser-output .navbar-mini abbr{font-variant:small-caps;border-bottom:none;text-decoration:none;cursor:inherit}.mw-parser-output .navbar-ct-full{font-size:114%;margin:0 7em}.mw-parser-output .navbar-ct-mini{font-size:114%;margin:0 4em}.mw-parser-output .infobox .navbar{font-size:100%}.mw-parser-output .navbox .navbar{display:block;font-size:100%}.mw-parser-output .navbox-title .navbar{float:left;text-align:left;margin-right:0.5em}</style><div class=\"navbar plainlinks hlist navbar-mini\"><ul><li class=\"nv-view\"><a href=\"/wiki/Template:Prog-lang-stub\" title=\"Template:Prog-lang-stub\"><abbr title=\"View this template\">v</abbr></a></li><li class=\"nv-talk\"><a href=\"/wiki/Template_talk:Prog-lang-stub\" title=\"Template talk:Prog-lang-stub\"><abbr title=\"Discuss this template\">t</abbr></a></li><li class=\"nv-edit\"><a class=\"external text\" href=\"https://en.wikipedia.org/w/index.php?title=Template:Prog-lang-stub&amp;action=edit\"><abbr title=\"Edit this template\">e</abbr></a></li></ul></div></div>\\n<!-- \\nNewPP limit report\\nParsed by mw1333\\nCached time: 20210308213845\\nCache expiry: 2592000\\nDynamic content: false\\nComplications: []\\nCPU time usage: 0.221 seconds\\nReal time usage: 0.785 seconds\\nPreprocessor visited node count: 298/1000000\\nPost\\xe2\\x80\\x90expand include size: 12364/2097152 bytes\\nTemplate argument size: 311/2097152 bytes\\nHighest expansion depth: 10/40\\nExpensive parser function count: 2/500\\nUnstrip recursion depth: 0/20\\nUnstrip post\\xe2\\x80\\x90expand size: 2767/5000000 bytes\\nLua time usage: 0.100/10.000 seconds\\nLua memory usage: 1781533/52428800 bytes\\nNumber of Wikibase entities loaded: 0/400\\n-->\\n<!--\\nTransclusion expansion time report (%,ms,calls,template)\\n100.00%  731.979      1 -total\\n 47.08%  344.586      1 Template:One_source\\n 39.76%  291.030      1 Template:Ambox\\n 22.19%  162.462      1 Template:Find_sources_mainspace\\n 20.93%  153.172      1 Template:Prog-lang-stub\\n 18.67%  136.671      1 Template:Asbox\\n 13.42%   98.252      1 Template:Div_col\\n  9.74%   71.294      1 Template:Doi\\n  7.83%   57.326      1 Template:Div_col_end\\n  3.66%   26.803      2 Template:Hide_in_print\\n-->\\n\\n<!-- Saved in parser cache with key enwiki:pcache:idhash:891926-0!canonical and timestamp 20210308213845 and revision id 1000861471. Serialized with JSON.\\n -->\\n</div><noscript><img src=\"//en.wikipedia.org/wiki/Special:CentralAutoLogin/start?type=1x1\" alt=\"\" title=\"\" width=\"1\" height=\"1\" style=\"border: none; position: absolute;\" /></noscript>\\n<div class=\"printfooter\">Retrieved from \"<a dir=\"ltr\" href=\"https://en.wikipedia.org/w/index.php?title=General-purpose_programming_language&amp;oldid=1000861471\">https://en.wikipedia.org/w/index.php?title=General-purpose_programming_language&amp;oldid=1000861471</a>\"</div></div>\\n\\t\\t<div id=\"catlinks\" class=\"catlinks\" data-mw=\"interface\"><div id=\"mw-normal-catlinks\" class=\"mw-normal-catlinks\"><a href=\"/wiki/Help:Category\" title=\"Help:Category\">Categories</a>: <ul><li><a href=\"/wiki/Category:Programming_languages\" title=\"Category:Programming languages\">Programming languages</a></li><li><a href=\"/wiki/Category:Programming_language_topic_stubs\" title=\"Category:Programming language topic stubs\">Programming language topic stubs</a></li></ul></div><div id=\"mw-hidden-catlinks\" class=\"mw-hidden-catlinks mw-hidden-cats-hidden\">Hidden categories: <ul><li><a href=\"/wiki/Category:Articles_needing_additional_references_from_January_2021\" title=\"Category:Articles needing additional references from January 2021\">Articles needing additional references from January 2021</a></li><li><a href=\"/wiki/Category:All_articles_needing_additional_references\" title=\"Category:All articles needing additional references\">All articles needing additional references</a></li><li><a href=\"/wiki/Category:All_stub_articles\" title=\"Category:All stub articles\">All stub articles</a></li></ul></div></div>\\n\\t</div>\\n</div>\\n<div id=\\'mw-data-after-content\\'>\\n\\t<div class=\"read-more-container\"></div>\\n</div>\\n\\n<div id=\"mw-navigation\">\\n\\t<h2>Navigation menu</h2>\\n\\t<div id=\"mw-head\">\\n\\t\\t<!-- Please do not use role attribute as CSS selector, it is deprecated. -->\\n<nav id=\"p-personal\" class=\"mw-portlet mw-portlet-personal vector-menu\" aria-labelledby=\"p-personal-label\" role=\"navigation\" \\n\\t >\\n\\t<h3 id=\"p-personal-label\" class=\"vector-menu-heading\">\\n\\t\\t<span>Personal tools</span>\\n\\t</h3>\\n\\t<div class=\"vector-menu-content\">\\n\\t\\t<ul class=\"vector-menu-content-list\"><li id=\"pt-anonuserpage\">Not logged in</li><li id=\"pt-anontalk\"><a href=\"/wiki/Special:MyTalk\" title=\"Discussion about edits from this IP address [n]\" accesskey=\"n\">Talk</a></li><li id=\"pt-anoncontribs\"><a href=\"/wiki/Special:MyContributions\" title=\"A list of edits made from this IP address [y]\" accesskey=\"y\">Contributions</a></li><li id=\"pt-createaccount\"><a href=\"/w/index.php?title=Special:CreateAccount&amp;returnto=General-purpose+programming+language\" title=\"You are encouraged to create an account and log in; however, it is not mandatory\">Create account</a></li><li id=\"pt-login\"><a href=\"/w/index.php?title=Special:UserLogin&amp;returnto=General-purpose+programming+language\" title=\"You&#039;re encouraged to log in; however, it&#039;s not mandatory. [o]\" accesskey=\"o\">Log in</a></li></ul>\\n\\t\\t\\n\\t</div>\\n</nav>\\n\\n\\t\\t<div id=\"left-navigation\">\\n\\t\\t\\t<!-- Please do not use role attribute as CSS selector, it is deprecated. -->\\n<nav id=\"p-namespaces\" class=\"mw-portlet mw-portlet-namespaces vector-menu vector-menu-tabs\" aria-labelledby=\"p-namespaces-label\" role=\"navigation\" \\n\\t >\\n\\t<h3 id=\"p-namespaces-label\" class=\"vector-menu-heading\">\\n\\t\\t<span>Namespaces</span>\\n\\t</h3>\\n\\t<div class=\"vector-menu-content\">\\n\\t\\t<ul class=\"vector-menu-content-list\"><li id=\"ca-nstab-main\" class=\"selected\"><a href=\"/wiki/General-purpose_programming_language\" title=\"View the content page [c]\" accesskey=\"c\">Article</a></li><li id=\"ca-talk\"><a href=\"/wiki/Talk:General-purpose_programming_language\" rel=\"discussion\" title=\"Discuss improvements to the content page [t]\" accesskey=\"t\">Talk</a></li></ul>\\n\\t\\t\\n\\t</div>\\n</nav>\\n\\n\\t\\t\\t<!-- Please do not use role attribute as CSS selector, it is deprecated. -->\\n<nav id=\"p-variants\" class=\"mw-portlet mw-portlet-variants emptyPortlet vector-menu vector-menu-dropdown\" aria-labelledby=\"p-variants-label\" role=\"navigation\" \\n\\t >\\n\\t<input type=\"checkbox\" class=\"vector-menu-checkbox\" aria-labelledby=\"p-variants-label\" />\\n\\t<h3 id=\"p-variants-label\" class=\"vector-menu-heading\">\\n\\t\\t<span>Variants</span>\\n\\t</h3>\\n\\t<div class=\"vector-menu-content\">\\n\\t\\t<ul class=\"vector-menu-content-list\"></ul>\\n\\t\\t\\n\\t</div>\\n</nav>\\n\\n\\t\\t</div>\\n\\t\\t<div id=\"right-navigation\">\\n\\t\\t\\t<!-- Please do not use role attribute as CSS selector, it is deprecated. -->\\n<nav id=\"p-views\" class=\"mw-portlet mw-portlet-views vector-menu vector-menu-tabs\" aria-labelledby=\"p-views-label\" role=\"navigation\" \\n\\t >\\n\\t<h3 id=\"p-views-label\" class=\"vector-menu-heading\">\\n\\t\\t<span>Views</span>\\n\\t</h3>\\n\\t<div class=\"vector-menu-content\">\\n\\t\\t<ul class=\"vector-menu-content-list\"><li id=\"ca-view\" class=\"selected\"><a href=\"/wiki/General-purpose_programming_language\">Read</a></li><li id=\"ca-edit\"><a href=\"/w/index.php?title=General-purpose_programming_language&amp;action=edit\" title=\"Edit this page [e]\" accesskey=\"e\">Edit</a></li><li id=\"ca-history\"><a href=\"/w/index.php?title=General-purpose_programming_language&amp;action=history\" title=\"Past revisions of this page [h]\" accesskey=\"h\">View history</a></li></ul>\\n\\t\\t\\n\\t</div>\\n</nav>\\n\\n\\t\\t\\t<!-- Please do not use role attribute as CSS selector, it is deprecated. -->\\n<nav id=\"p-cactions\" class=\"mw-portlet mw-portlet-cactions emptyPortlet vector-menu vector-menu-dropdown\" aria-labelledby=\"p-cactions-label\" role=\"navigation\" \\n\\t >\\n\\t<input type=\"checkbox\" class=\"vector-menu-checkbox\" aria-labelledby=\"p-cactions-label\" />\\n\\t<h3 id=\"p-cactions-label\" class=\"vector-menu-heading\">\\n\\t\\t<span>More</span>\\n\\t</h3>\\n\\t<div class=\"vector-menu-content\">\\n\\t\\t<ul class=\"vector-menu-content-list\"></ul>\\n\\t\\t\\n\\t</div>\\n</nav>\\n\\n\\t\\t\\t<div id=\"p-search\" role=\"search\" >\\n\\t<h3 >\\n\\t\\t<label for=\"searchInput\">Search</label>\\n\\t</h3>\\n\\t<form action=\"/w/index.php\" id=\"searchform\">\\n\\t\\t<div id=\"simpleSearch\" data-search-loc=\"header-navigation\">\\n\\t\\t\\t<input type=\"search\" name=\"search\" placeholder=\"Search Wikipedia\" autocapitalize=\"sentences\" title=\"Search Wikipedia [f]\" accesskey=\"f\" id=\"searchInput\"/>\\n\\t\\t\\t<input type=\"hidden\" name=\"title\" value=\"Special:Search\"/>\\n\\t\\t\\t<input type=\"submit\" name=\"fulltext\" value=\"Search\" title=\"Search Wikipedia for this text\" id=\"mw-searchButton\" class=\"searchButton mw-fallbackSearchButton\"/>\\n\\t\\t\\t<input type=\"submit\" name=\"go\" value=\"Go\" title=\"Go to a page with this exact name if it exists\" id=\"searchButton\" class=\"searchButton\"/>\\n\\t\\t</div>\\n\\t</form>\\n</div>\\n\\n\\t\\t</div>\\n\\t</div>\\n\\t\\n<div id=\"mw-panel\">\\n\\t<div id=\"p-logo\" role=\"banner\">\\n\\t\\t<a class=\"mw-wiki-logo\" href=\"/wiki/Main_Page\"\\n\\t\\t\\ttitle=\"Visit the main page\"></a>\\n\\t</div>\\n\\t<!-- Please do not use role attribute as CSS selector, it is deprecated. -->\\n<nav id=\"p-navigation\" class=\"mw-portlet mw-portlet-navigation vector-menu vector-menu-portal portal\" aria-labelledby=\"p-navigation-label\" role=\"navigation\" \\n\\t >\\n\\t<h3 id=\"p-navigation-label\" class=\"vector-menu-heading\">\\n\\t\\t<span>Navigation</span>\\n\\t</h3>\\n\\t<div class=\"vector-menu-content\">\\n\\t\\t<ul class=\"vector-menu-content-list\"><li id=\"n-mainpage-description\"><a href=\"/wiki/Main_Page\" title=\"Visit the main page [z]\" accesskey=\"z\">Main page</a></li><li id=\"n-contents\"><a href=\"/wiki/Wikipedia:Contents\" title=\"Guides to browsing Wikipedia\">Contents</a></li><li id=\"n-currentevents\"><a href=\"/wiki/Portal:Current_events\" title=\"Articles related to current events\">Current events</a></li><li id=\"n-randompage\"><a href=\"/wiki/Special:Random\" title=\"Visit a randomly selected article [x]\" accesskey=\"x\">Random article</a></li><li id=\"n-aboutsite\"><a href=\"/wiki/Wikipedia:About\" title=\"Learn about Wikipedia and how it works\">About Wikipedia</a></li><li id=\"n-contactpage\"><a href=\"//en.wikipedia.org/wiki/Wikipedia:Contact_us\" title=\"How to contact Wikipedia\">Contact us</a></li><li id=\"n-sitesupport\"><a href=\"https://donate.wikimedia.org/wiki/Special:FundraiserRedirector?utm_source=donate&amp;utm_medium=sidebar&amp;utm_campaign=C13_en.wikipedia.org&amp;uselang=en\" title=\"Support us by donating to the Wikimedia Foundation\">Donate</a></li></ul>\\n\\t\\t\\n\\t</div>\\n</nav>\\n\\n\\t<!-- Please do not use role attribute as CSS selector, it is deprecated. -->\\n<nav id=\"p-interaction\" class=\"mw-portlet mw-portlet-interaction vector-menu vector-menu-portal portal\" aria-labelledby=\"p-interaction-label\" role=\"navigation\" \\n\\t >\\n\\t<h3 id=\"p-interaction-label\" class=\"vector-menu-heading\">\\n\\t\\t<span>Contribute</span>\\n\\t</h3>\\n\\t<div class=\"vector-menu-content\">\\n\\t\\t<ul class=\"vector-menu-content-list\"><li id=\"n-help\"><a href=\"/wiki/Help:Contents\" title=\"Guidance on how to use and edit Wikipedia\">Help</a></li><li id=\"n-introduction\"><a href=\"/wiki/Help:Introduction\" title=\"Learn how to edit Wikipedia\">Learn to edit</a></li><li id=\"n-portal\"><a href=\"/wiki/Wikipedia:Community_portal\" title=\"The hub for editors\">Community portal</a></li><li id=\"n-recentchanges\"><a href=\"/wiki/Special:RecentChanges\" title=\"A list of recent changes to Wikipedia [r]\" accesskey=\"r\">Recent changes</a></li><li id=\"n-upload\"><a href=\"/wiki/Wikipedia:File_Upload_Wizard\" title=\"Add images or other media for use on Wikipedia\">Upload file</a></li></ul>\\n\\t\\t\\n\\t</div>\\n</nav>\\n<!-- Please do not use role attribute as CSS selector, it is deprecated. -->\\n<nav id=\"p-tb\" class=\"mw-portlet mw-portlet-tb vector-menu vector-menu-portal portal\" aria-labelledby=\"p-tb-label\" role=\"navigation\" \\n\\t >\\n\\t<h3 id=\"p-tb-label\" class=\"vector-menu-heading\">\\n\\t\\t<span>Tools</span>\\n\\t</h3>\\n\\t<div class=\"vector-menu-content\">\\n\\t\\t<ul class=\"vector-menu-content-list\"><li id=\"t-whatlinkshere\"><a href=\"/wiki/Special:WhatLinksHere/General-purpose_programming_language\" title=\"List of all English Wikipedia pages containing links to this page [j]\" accesskey=\"j\">What links here</a></li><li id=\"t-recentchangeslinked\"><a href=\"/wiki/Special:RecentChangesLinked/General-purpose_programming_language\" rel=\"nofollow\" title=\"Recent changes in pages linked from this page [k]\" accesskey=\"k\">Related changes</a></li><li id=\"t-upload\"><a href=\"/wiki/Wikipedia:File_Upload_Wizard\" title=\"Upload files [u]\" accesskey=\"u\">Upload file</a></li><li id=\"t-specialpages\"><a href=\"/wiki/Special:SpecialPages\" title=\"A list of all special pages [q]\" accesskey=\"q\">Special pages</a></li><li id=\"t-permalink\"><a href=\"/w/index.php?title=General-purpose_programming_language&amp;oldid=1000861471\" title=\"Permanent link to this revision of this page\">Permanent link</a></li><li id=\"t-info\"><a href=\"/w/index.php?title=General-purpose_programming_language&amp;action=info\" title=\"More information about this page\">Page information</a></li><li id=\"t-cite\"><a href=\"/w/index.php?title=Special:CiteThisPage&amp;page=General-purpose_programming_language&amp;id=1000861471&amp;wpFormIdentifier=titleform\" title=\"Information on how to cite this page\">Cite this page</a></li><li id=\"t-wikibase\"><a href=\"https://www.wikidata.org/wiki/Special:EntityPage/Q951497\" title=\"Structured data on this page hosted by Wikidata [g]\" accesskey=\"g\">Wikidata item</a></li></ul>\\n\\t\\t\\n\\t</div>\\n</nav>\\n<!-- Please do not use role attribute as CSS selector, it is deprecated. -->\\n<nav id=\"p-coll-print_export\" class=\"mw-portlet mw-portlet-coll-print_export vector-menu vector-menu-portal portal\" aria-labelledby=\"p-coll-print_export-label\" role=\"navigation\" \\n\\t >\\n\\t<h3 id=\"p-coll-print_export-label\" class=\"vector-menu-heading\">\\n\\t\\t<span>Print/export</span>\\n\\t</h3>\\n\\t<div class=\"vector-menu-content\">\\n\\t\\t<ul class=\"vector-menu-content-list\"><li id=\"coll-download-as-rl\"><a href=\"/w/index.php?title=Special:DownloadAsPdf&amp;page=General-purpose_programming_language&amp;action=show-download-screen\" title=\"Download this page as a PDF file\">Download as PDF</a></li><li id=\"t-print\"><a href=\"/w/index.php?title=General-purpose_programming_language&amp;printable=yes\" title=\"Printable version of this page [p]\" accesskey=\"p\">Printable version</a></li></ul>\\n\\t\\t\\n\\t</div>\\n</nav>\\n\\n\\t<!-- Please do not use role attribute as CSS selector, it is deprecated. -->\\n<nav id=\"p-lang\" class=\"mw-portlet mw-portlet-lang vector-menu vector-menu-portal portal\" aria-labelledby=\"p-lang-label\" role=\"navigation\" \\n\\t >\\n\\t<h3 id=\"p-lang-label\" class=\"vector-menu-heading\">\\n\\t\\t<span>Languages</span>\\n\\t</h3>\\n\\t<div class=\"vector-menu-content\">\\n\\t\\t<ul class=\"vector-menu-content-list\"><li class=\"interlanguage-link interwiki-ar\"><a href=\"https://ar.wikipedia.org/wiki/%D9%84%D8%BA%D8%A9_%D8%A8%D8%B1%D9%85%D8%AC%D8%A9_%D9%85%D8%AA%D8%B9%D8%AF%D8%AF%D8%A9_%D8%A7%D9%84%D8%A7%D8%B3%D8%AA%D8%AE%D8%AF%D8%A7%D9%85%D8%A7%D8%AA\" title=\"\\xd9\\x84\\xd8\\xba\\xd8\\xa9 \\xd8\\xa8\\xd8\\xb1\\xd9\\x85\\xd8\\xac\\xd8\\xa9 \\xd9\\x85\\xd8\\xaa\\xd8\\xb9\\xd8\\xaf\\xd8\\xaf\\xd8\\xa9 \\xd8\\xa7\\xd9\\x84\\xd8\\xa7\\xd8\\xb3\\xd8\\xaa\\xd8\\xae\\xd8\\xaf\\xd8\\xa7\\xd9\\x85\\xd8\\xa7\\xd8\\xaa \\xe2\\x80\\x93 Arabic\" lang=\"ar\" hreflang=\"ar\" class=\"interlanguage-link-target\">\\xd8\\xa7\\xd9\\x84\\xd8\\xb9\\xd8\\xb1\\xd8\\xa8\\xd9\\x8a\\xd8\\xa9</a></li><li class=\"interlanguage-link interwiki-az\"><a href=\"https://az.wikipedia.org/wiki/%C3%87oxm%C9%99qs%C9%99dli_dil\" title=\"\\xc3\\x87oxm\\xc9\\x99qs\\xc9\\x99dli dil \\xe2\\x80\\x93 Azerbaijani\" lang=\"az\" hreflang=\"az\" class=\"interlanguage-link-target\">Az\\xc9\\x99rbaycanca</a></li><li class=\"interlanguage-link interwiki-bs\"><a href=\"https://bs.wikipedia.org/wiki/Programski_jezik_op%C4%87e_namjene\" title=\"Programski jezik op\\xc4\\x87e namjene \\xe2\\x80\\x93 Bosnian\" lang=\"bs\" hreflang=\"bs\" class=\"interlanguage-link-target\">Bosanski</a></li><li class=\"interlanguage-link interwiki-ca\"><a href=\"https://ca.wikipedia.org/wiki/Llenguatge_de_programaci%C3%B3_de_prop%C3%B2sit_general\" title=\"Llenguatge de programaci\\xc3\\xb3 de prop\\xc3\\xb2sit general \\xe2\\x80\\x93 Catalan\" lang=\"ca\" hreflang=\"ca\" class=\"interlanguage-link-target\">Catal\\xc3\\xa0</a></li><li class=\"interlanguage-link interwiki-de\"><a href=\"https://de.wikipedia.org/wiki/General_Purpose_Language\" title=\"General Purpose Language \\xe2\\x80\\x93 German\" lang=\"de\" hreflang=\"de\" class=\"interlanguage-link-target\">Deutsch</a></li><li class=\"interlanguage-link interwiki-eo\"><a href=\"https://eo.wikipedia.org/wiki/%C4%9Ceneralcela_programlingvo\" title=\"\\xc4\\x9ceneralcela programlingvo \\xe2\\x80\\x93 Esperanto\" lang=\"eo\" hreflang=\"eo\" class=\"interlanguage-link-target\">Esperanto</a></li><li class=\"interlanguage-link interwiki-fa\"><a href=\"https://fa.wikipedia.org/wiki/%D8%B2%D8%A8%D8%A7%D9%86_%D8%A8%D8%B1%D9%86%D8%A7%D9%85%D9%87%E2%80%8C%D9%86%D9%88%DB%8C%D8%B3%DB%8C_%D9%87%D9%85%D9%87%E2%80%8C%D9%85%D9%86%D8%B8%D9%88%D8%B1%D9%87\" title=\"\\xd8\\xb2\\xd8\\xa8\\xd8\\xa7\\xd9\\x86 \\xd8\\xa8\\xd8\\xb1\\xd9\\x86\\xd8\\xa7\\xd9\\x85\\xd9\\x87\\xe2\\x80\\x8c\\xd9\\x86\\xd9\\x88\\xdb\\x8c\\xd8\\xb3\\xdb\\x8c \\xd9\\x87\\xd9\\x85\\xd9\\x87\\xe2\\x80\\x8c\\xd9\\x85\\xd9\\x86\\xd8\\xb8\\xd9\\x88\\xd8\\xb1\\xd9\\x87 \\xe2\\x80\\x93 Persian\" lang=\"fa\" hreflang=\"fa\" class=\"interlanguage-link-target\">\\xd9\\x81\\xd8\\xa7\\xd8\\xb1\\xd8\\xb3\\xdb\\x8c</a></li><li class=\"interlanguage-link interwiki-fr\"><a href=\"https://fr.wikipedia.org/wiki/Langage_de_programmation_%C3%A0_usage_g%C3%A9n%C3%A9ral\" title=\"Langage de programmation \\xc3\\xa0 usage g\\xc3\\xa9n\\xc3\\xa9ral \\xe2\\x80\\x93 French\" lang=\"fr\" hreflang=\"fr\" class=\"interlanguage-link-target\">Fran\\xc3\\xa7ais</a></li><li class=\"interlanguage-link interwiki-ko\"><a href=\"https://ko.wikipedia.org/wiki/%EB%B2%94%EC%9A%A9_%ED%94%84%EB%A1%9C%EA%B7%B8%EB%9E%98%EB%B0%8D_%EC%96%B8%EC%96%B4\" title=\"\\xeb\\xb2\\x94\\xec\\x9a\\xa9 \\xed\\x94\\x84\\xeb\\xa1\\x9c\\xea\\xb7\\xb8\\xeb\\x9e\\x98\\xeb\\xb0\\x8d \\xec\\x96\\xb8\\xec\\x96\\xb4 \\xe2\\x80\\x93 Korean\" lang=\"ko\" hreflang=\"ko\" class=\"interlanguage-link-target\">\\xed\\x95\\x9c\\xea\\xb5\\xad\\xec\\x96\\xb4</a></li><li class=\"interlanguage-link interwiki-hu\"><a href=\"https://hu.wikipedia.org/wiki/%C3%81ltal%C3%A1nos_c%C3%A9l%C3%BA_programoz%C3%A1si_nyelv\" title=\"\\xc3\\x81ltal\\xc3\\xa1nos c\\xc3\\xa9l\\xc3\\xba programoz\\xc3\\xa1si nyelv \\xe2\\x80\\x93 Hungarian\" lang=\"hu\" hreflang=\"hu\" class=\"interlanguage-link-target\">Magyar</a></li><li class=\"interlanguage-link interwiki-ja\"><a href=\"https://ja.wikipedia.org/wiki/%E6%B1%8E%E7%94%A8%E3%83%97%E3%83%AD%E3%82%B0%E3%83%A9%E3%83%9F%E3%83%B3%E3%82%B0%E8%A8%80%E8%AA%9E\" title=\"\\xe6\\xb1\\x8e\\xe7\\x94\\xa8\\xe3\\x83\\x97\\xe3\\x83\\xad\\xe3\\x82\\xb0\\xe3\\x83\\xa9\\xe3\\x83\\x9f\\xe3\\x83\\xb3\\xe3\\x82\\xb0\\xe8\\xa8\\x80\\xe8\\xaa\\x9e \\xe2\\x80\\x93 Japanese\" lang=\"ja\" hreflang=\"ja\" class=\"interlanguage-link-target\">\\xe6\\x97\\xa5\\xe6\\x9c\\xac\\xe8\\xaa\\x9e</a></li><li class=\"interlanguage-link interwiki-pt\"><a href=\"https://pt.wikipedia.org/wiki/Linguagem_de_programa%C3%A7%C3%A3o_para_prop%C3%B3sitos_diversos\" title=\"Linguagem de programa\\xc3\\xa7\\xc3\\xa3o para prop\\xc3\\xb3sitos diversos \\xe2\\x80\\x93 Portuguese\" lang=\"pt\" hreflang=\"pt\" class=\"interlanguage-link-target\">Portugu\\xc3\\xaas</a></li><li class=\"interlanguage-link interwiki-simple\"><a href=\"https://simple.wikipedia.org/wiki/General-purpose_programming_language\" title=\"General-purpose programming language \\xe2\\x80\\x93 Simple English\" lang=\"en-simple\" hreflang=\"en-simple\" class=\"interlanguage-link-target\">Simple English</a></li><li class=\"interlanguage-link interwiki-fi\"><a href=\"https://fi.wikipedia.org/wiki/Yleisk%C3%A4ytt%C3%B6inen_ohjelmointikieli\" title=\"Yleisk\\xc3\\xa4ytt\\xc3\\xb6inen ohjelmointikieli \\xe2\\x80\\x93 Finnish\" lang=\"fi\" hreflang=\"fi\" class=\"interlanguage-link-target\">Suomi</a></li><li class=\"interlanguage-link interwiki-uk\"><a href=\"https://uk.wikipedia.org/wiki/%D0%9C%D0%BE%D0%B2%D0%B0_%D0%BF%D1%80%D0%BE%D0%B3%D1%80%D0%B0%D0%BC%D1%83%D0%B2%D0%B0%D0%BD%D0%BD%D1%8F_%D0%B7%D0%B0%D0%B3%D0%B0%D0%BB%D1%8C%D0%BD%D0%BE%D0%B3%D0%BE_%D0%BF%D1%80%D0%B8%D0%B7%D0%BD%D0%B0%D1%87%D0%B5%D0%BD%D0%BD%D1%8F\" title=\"\\xd0\\x9c\\xd0\\xbe\\xd0\\xb2\\xd0\\xb0 \\xd0\\xbf\\xd1\\x80\\xd0\\xbe\\xd0\\xb3\\xd1\\x80\\xd0\\xb0\\xd0\\xbc\\xd1\\x83\\xd0\\xb2\\xd0\\xb0\\xd0\\xbd\\xd0\\xbd\\xd1\\x8f \\xd0\\xb7\\xd0\\xb0\\xd0\\xb3\\xd0\\xb0\\xd0\\xbb\\xd1\\x8c\\xd0\\xbd\\xd0\\xbe\\xd0\\xb3\\xd0\\xbe \\xd0\\xbf\\xd1\\x80\\xd0\\xb8\\xd0\\xb7\\xd0\\xbd\\xd0\\xb0\\xd1\\x87\\xd0\\xb5\\xd0\\xbd\\xd0\\xbd\\xd1\\x8f \\xe2\\x80\\x93 Ukrainian\" lang=\"uk\" hreflang=\"uk\" class=\"interlanguage-link-target\">\\xd0\\xa3\\xd0\\xba\\xd1\\x80\\xd0\\xb0\\xd1\\x97\\xd0\\xbd\\xd1\\x81\\xd1\\x8c\\xd0\\xba\\xd0\\xb0</a></li><li class=\"interlanguage-link interwiki-zh\"><a href=\"https://zh.wikipedia.org/wiki/%E9%80%9A%E7%94%A8%E7%BC%96%E7%A8%8B%E8%AF%AD%E8%A8%80\" title=\"\\xe9\\x80\\x9a\\xe7\\x94\\xa8\\xe7\\xbc\\x96\\xe7\\xa8\\x8b\\xe8\\xaf\\xad\\xe8\\xa8\\x80 \\xe2\\x80\\x93 Chinese\" lang=\"zh\" hreflang=\"zh\" class=\"interlanguage-link-target\">\\xe4\\xb8\\xad\\xe6\\x96\\x87</a></li></ul>\\n\\t\\t<div class=\"after-portlet after-portlet-lang\"><span class=\"wb-langlinks-edit wb-langlinks-link\"><a href=\"https://www.wikidata.org/wiki/Special:EntityPage/Q951497#sitelinks-wikipedia\" title=\"Edit interlanguage links\" class=\"wbc-editpage\">Edit links</a></span></div>\\n\\t</div>\\n</nav>\\n\\n</div>\\n\\n</div>\\n<footer id=\"footer\" class=\"mw-footer\" role=\"contentinfo\" >\\n\\t<ul id=\"footer-info\" >\\n\\t<li id=\"footer-info-lastmod\"> This page was last edited on 17 January 2021, at 02:38<span class=\"anonymous-show\">&#160;(UTC)</span>.</li>\\n\\t<li id=\"footer-info-copyright\">Text is available under the <a rel=\"license\" href=\"//en.wikipedia.org/wiki/Wikipedia:Text_of_Creative_Commons_Attribution-ShareAlike_3.0_Unported_License\">Creative Commons Attribution-ShareAlike License</a><a rel=\"license\" href=\"//creativecommons.org/licenses/by-sa/3.0/\" style=\"display:none;\"></a>;\\nadditional terms may apply.  By using this site, you agree to the <a href=\"//foundation.wikimedia.org/wiki/Terms_of_Use\">Terms of Use</a> and <a href=\"//foundation.wikimedia.org/wiki/Privacy_policy\">Privacy Policy</a>. Wikipedia\\xc2\\xae is a registered trademark of the <a href=\"//www.wikimediafoundation.org/\">Wikimedia Foundation, Inc.</a>, a non-profit organization.</li>\\n</ul>\\n\\n\\t<ul id=\"footer-places\" >\\n\\t<li id=\"footer-places-privacy\"><a href=\"https://foundation.wikimedia.org/wiki/Privacy_policy\" class=\"extiw\" title=\"wmf:Privacy policy\">Privacy policy</a></li>\\n\\t<li id=\"footer-places-about\"><a href=\"/wiki/Wikipedia:About\" title=\"Wikipedia:About\">About Wikipedia</a></li>\\n\\t<li id=\"footer-places-disclaimer\"><a href=\"/wiki/Wikipedia:General_disclaimer\" title=\"Wikipedia:General disclaimer\">Disclaimers</a></li>\\n\\t<li id=\"footer-places-contact\"><a href=\"//en.wikipedia.org/wiki/Wikipedia:Contact_us\">Contact Wikipedia</a></li>\\n\\t<li id=\"footer-places-mobileview\"><a href=\"//en.m.wikipedia.org/w/index.php?title=General-purpose_programming_language&amp;mobileaction=toggle_view_mobile\" class=\"noprint stopMobileRedirectToggle\">Mobile view</a></li>\\n\\t<li id=\"footer-places-developers\"><a href=\"https://www.mediawiki.org/wiki/Special:MyLanguage/How_to_contribute\">Developers</a></li>\\n\\t<li id=\"footer-places-statslink\"><a href=\"https://stats.wikimedia.org/#/en.wikipedia.org\">Statistics</a></li>\\n\\t<li id=\"footer-places-cookiestatement\"><a href=\"https://foundation.wikimedia.org/wiki/Cookie_statement\">Cookie statement</a></li>\\n</ul>\\n\\n\\t<ul id=\"footer-icons\" class=\"noprint\">\\n\\t<li id=\"footer-copyrightico\"><a href=\"https://wikimediafoundation.org/\"><img src=\"/static/images/footer/wikimedia-button.png\" srcset=\"/static/images/footer/wikimedia-button-1.5x.png 1.5x, /static/images/footer/wikimedia-button-2x.png 2x\" width=\"88\" height=\"31\" alt=\"Wikimedia Foundation\" loading=\"lazy\" /></a></li>\\n\\t<li id=\"footer-poweredbyico\"><a href=\"https://www.mediawiki.org/\"><img src=\"/static/images/footer/poweredby_mediawiki_88x31.png\" alt=\"Powered by MediaWiki\" srcset=\"/static/images/footer/poweredby_mediawiki_132x47.png 1.5x, /static/images/footer/poweredby_mediawiki_176x62.png 2x\" width=\"88\" height=\"31\" loading=\"lazy\"/></a></li>\\n</ul>\\n\\n\\t<div style=\"clear: both;\"></div>\\n</footer>\\n\\n\\n<script>(RLQ=window.RLQ||[]).push(function(){mw.config.set({\"wgPageParseReport\":{\"limitreport\":{\"cputime\":\"0.221\",\"walltime\":\"0.785\",\"ppvisitednodes\":{\"value\":298,\"limit\":1000000},\"postexpandincludesize\":{\"value\":12364,\"limit\":2097152},\"templateargumentsize\":{\"value\":311,\"limit\":2097152},\"expansiondepth\":{\"value\":10,\"limit\":40},\"expensivefunctioncount\":{\"value\":2,\"limit\":500},\"unstrip-depth\":{\"value\":0,\"limit\":20},\"unstrip-size\":{\"value\":2767,\"limit\":5000000},\"entityaccesscount\":{\"value\":0,\"limit\":400},\"timingprofile\":[\"100.00%  731.979      1 -total\",\" 47.08%  344.586      1 Template:One_source\",\" 39.76%  291.030      1 Template:Ambox\",\" 22.19%  162.462      1 Template:Find_sources_mainspace\",\" 20.93%  153.172      1 Template:Prog-lang-stub\",\" 18.67%  136.671      1 Template:Asbox\",\" 13.42%   98.252      1 Template:Div_col\",\"  9.74%   71.294      1 Template:Doi\",\"  7.83%   57.326      1 Template:Div_col_end\",\"  3.66%   26.803      2 Template:Hide_in_print\"]},\"scribunto\":{\"limitreport-timeusage\":{\"value\":\"0.100\",\"limit\":\"10.000\"},\"limitreport-memusage\":{\"value\":1781533,\"limit\":52428800}},\"cachereport\":{\"origin\":\"mw1333\",\"timestamp\":\"20210308213845\",\"ttl\":2592000,\"transientcontent\":false}}});});</script>\\n<script type=\"application/ld+json\">{\"@context\":\"https:\\\\/\\\\/schema.org\",\"@type\":\"Article\",\"name\":\"General-purpose programming language\",\"url\":\"https:\\\\/\\\\/en.wikipedia.org\\\\/wiki\\\\/General-purpose_programming_language\",\"sameAs\":\"http:\\\\/\\\\/www.wikidata.org\\\\/entity\\\\/Q951497\",\"mainEntity\":\"http:\\\\/\\\\/www.wikidata.org\\\\/entity\\\\/Q951497\",\"author\":{\"@type\":\"Organization\",\"name\":\"Contributors to Wikimedia projects\"},\"publisher\":{\"@type\":\"Organization\",\"name\":\"Wikimedia Foundation, Inc.\",\"logo\":{\"@type\":\"ImageObject\",\"url\":\"https:\\\\/\\\\/www.wikimedia.org\\\\/static\\\\/images\\\\/wmf-hor-googpub.png\"}},\"datePublished\":\"2004-08-11T05:07:56Z\",\"dateModified\":\"2021-01-17T02:38:43Z\",\"headline\":\"programming language designed to be used in the widest variety of application domains\"}</script>\\n<script>(RLQ=window.RLQ||[]).push(function(){mw.config.set({\"wgBackendResponseTime\":264,\"wgHostname\":\"mw1271\"});});</script>\\n</body></html>'"
      ]
     },
     "execution_count": 14,
     "metadata": {},
     "output_type": "execute_result"
    }
   ],
   "source": [
    "response.content"
   ]
  },
  {
   "cell_type": "code",
   "execution_count": 15,
   "metadata": {},
   "outputs": [
    {
     "data": {
      "text/html": [
       "<div>\n",
       "<style scoped>\n",
       "    .dataframe tbody tr th:only-of-type {\n",
       "        vertical-align: middle;\n",
       "    }\n",
       "\n",
       "    .dataframe tbody tr th {\n",
       "        vertical-align: top;\n",
       "    }\n",
       "\n",
       "    .dataframe thead th {\n",
       "        text-align: right;\n",
       "    }\n",
       "</style>\n",
       "<table border=\"1\" class=\"dataframe\">\n",
       "  <thead>\n",
       "    <tr style=\"text-align: right;\">\n",
       "      <th></th>\n",
       "      <th>Unnamed: 0</th>\n",
       "      <th>Multiday Operating Margin Forecast Report</th>\n",
       "      <th>Unnamed: 2</th>\n",
       "      <th>Unnamed: 3</th>\n",
       "      <th>Unnamed: 4</th>\n",
       "      <th>Unnamed: 5</th>\n",
       "      <th>Unnamed: 6</th>\n",
       "      <th>Unnamed: 7</th>\n",
       "      <th>Unnamed: 8</th>\n",
       "      <th>Unnamed: 9</th>\n",
       "      <th>Unnamed: 10</th>\n",
       "      <th>Unnamed: 11</th>\n",
       "    </tr>\n",
       "  </thead>\n",
       "  <tbody>\n",
       "    <tr>\n",
       "      <th>0</th>\n",
       "      <td>NaN</td>\n",
       "      <td>Publish Date: February 03, 2021</td>\n",
       "      <td>NaN</td>\n",
       "      <td>NaN</td>\n",
       "      <td>NaN</td>\n",
       "      <td>NaN</td>\n",
       "      <td>NaN</td>\n",
       "      <td>NaN</td>\n",
       "      <td>NaN</td>\n",
       "      <td>NaN</td>\n",
       "      <td>NaN</td>\n",
       "      <td>NaN</td>\n",
       "    </tr>\n",
       "    <tr>\n",
       "      <th>1</th>\n",
       "      <td>NaN</td>\n",
       "      <td>Market Date: February 03, 2021</td>\n",
       "      <td>NaN</td>\n",
       "      <td>NaN</td>\n",
       "      <td>NaN</td>\n",
       "      <td>NaN</td>\n",
       "      <td>NaN</td>\n",
       "      <td>NaN</td>\n",
       "      <td>NaN</td>\n",
       "      <td>NaN</td>\n",
       "      <td>NaN</td>\n",
       "      <td>NaN</td>\n",
       "    </tr>\n",
       "    <tr>\n",
       "      <th>2</th>\n",
       "      <td>NaN</td>\n",
       "      <td>NaN</td>\n",
       "      <td>NaN</td>\n",
       "      <td>NaN</td>\n",
       "      <td>NaN</td>\n",
       "      <td>NaN</td>\n",
       "      <td>NaN</td>\n",
       "      <td>NaN</td>\n",
       "      <td>NaN</td>\n",
       "      <td>NaN</td>\n",
       "      <td>NaN</td>\n",
       "      <td>NaN</td>\n",
       "    </tr>\n",
       "    <tr>\n",
       "      <th>3</th>\n",
       "      <td>NaN</td>\n",
       "      <td>2/4/21 HE 20**</td>\n",
       "      <td>2/5/21 HE 10**</td>\n",
       "      <td>2/6/21 HE 11</td>\n",
       "      <td>2/7/21 HE 20</td>\n",
       "      <td>2/8/21 HE 09**</td>\n",
       "      <td>2/9/21 HE 20**</td>\n",
       "      <td>NaN</td>\n",
       "      <td>NaN</td>\n",
       "      <td>NaN</td>\n",
       "      <td>NaN</td>\n",
       "      <td>NaN</td>\n",
       "    </tr>\n",
       "    <tr>\n",
       "      <th>4</th>\n",
       "      <td>RESOURCE COMMITTED</td>\n",
       "      <td>73143.8</td>\n",
       "      <td>70132.1</td>\n",
       "      <td>69823.7</td>\n",
       "      <td>80472.5</td>\n",
       "      <td>85188.6</td>\n",
       "      <td>82408.8</td>\n",
       "      <td>NaN</td>\n",
       "      <td>NaN</td>\n",
       "      <td>NaN</td>\n",
       "      <td>NaN</td>\n",
       "      <td>NaN</td>\n",
       "    </tr>\n",
       "  </tbody>\n",
       "</table>\n",
       "</div>"
      ],
      "text/plain": [
       "           Unnamed: 0 Multiday Operating Margin Forecast Report  \\\n",
       "0                 NaN           Publish Date: February 03, 2021   \n",
       "1                 NaN            Market Date: February 03, 2021   \n",
       "2                 NaN                                       NaN   \n",
       "3                 NaN                            2/4/21 HE 20**   \n",
       "4  RESOURCE COMMITTED                                   73143.8   \n",
       "\n",
       "       Unnamed: 2    Unnamed: 3    Unnamed: 4      Unnamed: 5      Unnamed: 6  \\\n",
       "0             NaN           NaN           NaN             NaN             NaN   \n",
       "1             NaN           NaN           NaN             NaN             NaN   \n",
       "2             NaN           NaN           NaN             NaN             NaN   \n",
       "3  2/5/21 HE 10**  2/6/21 HE 11  2/7/21 HE 20  2/8/21 HE 09**  2/9/21 HE 20**   \n",
       "4         70132.1       69823.7       80472.5         85188.6         82408.8   \n",
       "\n",
       "   Unnamed: 7  Unnamed: 8  Unnamed: 9  Unnamed: 10  Unnamed: 11  \n",
       "0         NaN         NaN         NaN          NaN          NaN  \n",
       "1         NaN         NaN         NaN          NaN          NaN  \n",
       "2         NaN         NaN         NaN          NaN          NaN  \n",
       "3         NaN         NaN         NaN          NaN          NaN  \n",
       "4         NaN         NaN         NaN          NaN          NaN  "
      ]
     },
     "execution_count": 15,
     "metadata": {},
     "output_type": "execute_result"
    }
   ],
   "source": [
    "res = rq.get(datafile_url)\n",
    "df = pd.read_excel(res.content)\n",
    "df.head()"
   ]
  },
  {
   "cell_type": "code",
   "execution_count": 16,
   "metadata": {},
   "outputs": [],
   "source": [
    "r = rq.get('https://api.github.com/events')\n",
    "d = r.json()"
   ]
  },
  {
   "cell_type": "code",
   "execution_count": 17,
   "metadata": {},
   "outputs": [
    {
     "data": {
      "text/plain": [
       "30"
      ]
     },
     "execution_count": 17,
     "metadata": {},
     "output_type": "execute_result"
    }
   ],
   "source": [
    "len(d)"
   ]
  },
  {
   "cell_type": "code",
   "execution_count": 18,
   "metadata": {},
   "outputs": [
    {
     "data": {
      "text/plain": [
       "dict"
      ]
     },
     "execution_count": 18,
     "metadata": {},
     "output_type": "execute_result"
    }
   ],
   "source": [
    "type(d[0])"
   ]
  },
  {
   "cell_type": "code",
   "execution_count": 19,
   "metadata": {},
   "outputs": [
    {
     "data": {
      "text/plain": [
       "dict_keys(['id', 'type', 'actor', 'repo', 'payload', 'public', 'created_at'])"
      ]
     },
     "execution_count": 19,
     "metadata": {},
     "output_type": "execute_result"
    }
   ],
   "source": [
    "d[0].keys()"
   ]
  },
  {
   "cell_type": "markdown",
   "metadata": {},
   "source": [
    "## Downloading several files"
   ]
  },
  {
   "cell_type": "code",
   "execution_count": 20,
   "metadata": {},
   "outputs": [],
   "source": [
    "url = 'https://docs.misoenergy.org/marketreports/{}_mom.xlsx'"
   ]
  },
  {
   "cell_type": "code",
   "execution_count": 21,
   "metadata": {
    "scrolled": true
   },
   "outputs": [
    {
     "data": {
      "text/plain": [
       "Index(['20191106', '20191107', '20191108', '20191109', '20191110', '20191111',\n",
       "       '20191112', '20191113', '20191114', '20191115',\n",
       "       ...\n",
       "       '20210127', '20210128', '20210129', '20210130', '20210131', '20210201',\n",
       "       '20210202', '20210203', '20210204', '20210205'],\n",
       "      dtype='object', length=458)"
      ]
     },
     "execution_count": 21,
     "metadata": {},
     "output_type": "execute_result"
    }
   ],
   "source": [
    "dates = pd.date_range(start='20191106', end='20210205')\n",
    "dates = dates.strftime(date_format='%Y%m%d')\n",
    "dates"
   ]
  },
  {
   "cell_type": "code",
   "execution_count": 22,
   "metadata": {},
   "outputs": [],
   "source": [
    "import os\n",
    "from urllib.error import HTTPError\n",
    "\n",
    "for d in dates:\n",
    "    filename = f'mom_reports/{d}_mom.xlsx'\n",
    "    if os.path.exists(filename):\n",
    "        continue\n",
    "    \n",
    "    try:\n",
    "        urlretrieve(url.format(d), filename)\n",
    "    except HTTPError:\n",
    "        continue"
   ]
  },
  {
   "cell_type": "code",
   "execution_count": 23,
   "metadata": {},
   "outputs": [],
   "source": [
    "from glob import glob\n",
    "excel_files = glob('mom_reports/*.xlsx')"
   ]
  },
  {
   "cell_type": "code",
   "execution_count": 24,
   "metadata": {},
   "outputs": [],
   "source": [
    "from xlrd import XLRDError\n",
    "\n",
    "def extract_miso_forecasts(path):\n",
    "    \"\"\"\n",
    "    Takes a filepath to .xlsx MISO MOM reports and extracts wind and load forecasts.\n",
    "    Saves data to an Excel file - miso_forecasts.xlsx, and returns the DataFrame.\n",
    "    \"\"\"\n",
    "    excel_files = glob(os.path.join(path, '*.xlsx'))\n",
    "    full_forecast_df = None\n",
    "    for file in excel_files:\n",
    "        try:\n",
    "            df = pd.read_excel(file, sheet_name='MISO', skiprows=4, nrows=17, index_col=0, usecols=range(7))\n",
    "        except XLRDError:\n",
    "            df = pd.read_excel(file, sheet_name='MOM Report', skiprows=4, nrows=17, index_col=0, usecols=range(7))\n",
    "        \n",
    "        # get data\n",
    "        loads = df.loc['Projected Load', :].to_list()\n",
    "        wind = df.loc['Renewable Forecast', :].to_list()\n",
    "        \n",
    "        # make column labels\n",
    "        load_labels = [f'load_d{d}' for d in range(1, 7)]\n",
    "        wind_labels = [f'wind_d{d}' for d in range(1, 7)]\n",
    "        \n",
    "        # create and append dataframe\n",
    "        data_dict = {col: val for col, val in zip(load_labels + wind_labels, loads + wind)}\n",
    "        date = pd.to_datetime(file.split('\\\\')[-1].split('_')[0])\n",
    "        forecast_df = pd.DataFrame.from_records(data=data_dict, index=[date])\n",
    "        if full_forecast_df is None:\n",
    "            full_forecast_df = forecast_df.copy()\n",
    "        else:\n",
    "            full_forecast_df = full_forecast_df.append(forecast_df)\n",
    "    \n",
    "    full_forecast_df.sort_index(inplace=True)\n",
    "    full_forecast_df.to_excel('miso_forecasts.xlsx')\n",
    "    return full_forecast_df"
   ]
  },
  {
   "cell_type": "code",
   "execution_count": 25,
   "metadata": {},
   "outputs": [],
   "source": [
    "df = extract_miso_forecasts('mom_reports')"
   ]
  },
  {
   "cell_type": "code",
   "execution_count": 26,
   "metadata": {},
   "outputs": [],
   "source": [
    "plot_df = pd.concat([df['wind_d1'], df['wind_d2'].shift(), df['wind_d3'].shift(2)], axis=1)\n",
    "plot_df.index += pd.DateOffset(1)"
   ]
  },
  {
   "cell_type": "code",
   "execution_count": 27,
   "metadata": {},
   "outputs": [
    {
     "data": {
      "image/png": "[encoded data removed]",
      "text/plain": [
       "<Figure size 396x396 with 1 Axes>"
      ]
     },
     "metadata": {},
     "output_type": "display_data"
    }
   ],
   "source": [
    "import matplotlib.pyplot as plt\n",
    "# uncommenting the next line makes the plot interactive\n",
    "#%matplotlib widget\n",
    "\n",
    "f = plt.figure(figsize=(5.5, 5.5))\n",
    "f.patch.set_facecolor('w')  # sets background color behind axis labels\n",
    "plot_df.plot(ax=plt.gca())\n",
    "plt.savefig('B17030_07_01.png', dpi=300)"
   ]
  },
  {
   "cell_type": "code",
   "execution_count": 28,
   "metadata": {},
   "outputs": [
    {
     "data": {
      "text/plain": [
       "0.12833704788159286"
      ]
     },
     "execution_count": 28,
     "metadata": {},
     "output_type": "execute_result"
    }
   ],
   "source": [
    "(plot_df['wind_d2'] - plot_df['wind_d1']).abs().mean() / plot_df['wind_d1'].mean()"
   ]
  },
  {
   "cell_type": "code",
   "execution_count": 29,
   "metadata": {},
   "outputs": [
    {
     "data": {
      "text/plain": [
       "inf"
      ]
     },
     "execution_count": 29,
     "metadata": {},
     "output_type": "execute_result"
    }
   ],
   "source": [
    "((plot_df['wind_d2'] - plot_df['wind_d1']) / plot_df['wind_d1']).abs().mean()"
   ]
  },
  {
   "cell_type": "markdown",
   "metadata": {},
   "source": [
    "## Parsing HTML from scraped pages"
   ]
  },
  {
   "cell_type": "markdown",
   "metadata": {},
   "source": [
    "urllib and requests don't work with JavaScript, use requests-html, Scrapy with scrapy-splash, or Selenium (there are probably other options too)."
   ]
  },
  {
   "cell_type": "code",
   "execution_count": 30,
   "metadata": {},
   "outputs": [],
   "source": [
    "res = rq.get('https://www.packtpub.com/')\n",
    "with open('packt.html', 'wb') as f:\n",
    "    f.write(res.content)"
   ]
  },
  {
   "cell_type": "code",
   "execution_count": 31,
   "metadata": {},
   "outputs": [],
   "source": [
    "url = 'https://en.wikipedia.org/wiki/General-purpose_programming_language'\n",
    "wiki_text = urlopen(url).read().decode('utf-8')"
   ]
  },
  {
   "cell_type": "code",
   "execution_count": 32,
   "metadata": {},
   "outputs": [
    {
     "data": {
      "text/plain": [
       "'<!DOCTYPE html>\\n<html class=\"client-nojs\" lang=\"en'"
      ]
     },
     "execution_count": 32,
     "metadata": {},
     "output_type": "execute_result"
    }
   ],
   "source": [
    "wiki_text[:50]"
   ]
  },
  {
   "cell_type": "code",
   "execution_count": 33,
   "metadata": {},
   "outputs": [],
   "source": [
    "from bs4 import BeautifulSoup as bs\n",
    "import lxml"
   ]
  },
  {
   "cell_type": "code",
   "execution_count": 34,
   "metadata": {},
   "outputs": [],
   "source": [
    "soup = bs(wiki_text)"
   ]
  },
  {
   "cell_type": "code",
   "execution_count": 35,
   "metadata": {},
   "outputs": [
    {
     "data": {
      "text/plain": [
       "<a class=\"image\" href=\"/wiki/File:HelloWorld.svg\"><img alt=\"Stub icon\" data-file-height=\"256\" data-file-width=\"512\" decoding=\"async\" height=\"25\" src=\"//upload.wikimedia.org/wikipedia/commons/thumb/2/28/HelloWorld.svg/50px-HelloWorld.svg.png\" srcset=\"//upload.wikimedia.org/wikipedia/commons/thumb/2/28/HelloWorld.svg/75px-HelloWorld.svg.png 1.5x, //upload.wikimedia.org/wikipedia/commons/thumb/2/28/HelloWorld.svg/100px-HelloWorld.svg.png 2x\" width=\"50\"/></a>"
      ]
     },
     "execution_count": 35,
     "metadata": {},
     "output_type": "execute_result"
    }
   ],
   "source": [
    "links = soup.find_all('a')\n",
    "links[100]"
   ]
  },
  {
   "cell_type": "code",
   "execution_count": 36,
   "metadata": {},
   "outputs": [
    {
     "data": {
      "text/plain": [
       "[<a href=\"/wiki/Programming_language\" title=\"Programming language\">programming language</a>,\n",
       " <a href=\"/wiki/Programming_language\" title=\"Programming language\">programming-language</a>]"
      ]
     },
     "execution_count": 36,
     "metadata": {},
     "output_type": "execute_result"
    }
   ],
   "source": [
    "soup.find_all('a', {'title': 'Programming language'})"
   ]
  },
  {
   "cell_type": "code",
   "execution_count": 37,
   "metadata": {
    "scrolled": true
   },
   "outputs": [
    {
     "data": {
      "text/plain": [
       "[<a href=\"/wiki/Python_(programming_language)\" title=\"Python (programming language)\">Python</a>]"
      ]
     },
     "execution_count": 37,
     "metadata": {},
     "output_type": "execute_result"
    }
   ],
   "source": [
    "soup.find_all('a', text='Python')"
   ]
  },
  {
   "cell_type": "code",
   "execution_count": 38,
   "metadata": {},
   "outputs": [
    {
     "data": {
      "text/plain": [
       "[<a class=\"external text\" href=\"//www.google.com/search?as_eq=wikipedia&amp;q=%22General-purpose+programming+language%22\" rel=\"nofollow\">\"General-purpose programming language\"</a>,\n",
       " <a href=\"/wiki/Programming_language\" title=\"Programming language\">programming language</a>,\n",
       " <a href=\"/wiki/Systems_programming\" title=\"Systems programming\">Systems programming</a>,\n",
       " <a class=\"mw-redirect\" href=\"/wiki/Domain-specific_programming_language\" title=\"Domain-specific programming language\">domain-specific programming language</a>,\n",
       " <a href=\"/wiki/Programming_language\" title=\"Programming language\">programming-language</a>,\n",
       " <a dir=\"ltr\" href=\"https://en.wikipedia.org/w/index.php?title=General-purpose_programming_language&amp;oldid=1000861471\">https://en.wikipedia.org/w/index.php?title=General-purpose_programming_language&amp;oldid=1000861471</a>]"
      ]
     },
     "execution_count": 38,
     "metadata": {},
     "output_type": "execute_result"
    }
   ],
   "source": [
    "import re\n",
    "\n",
    "soup.find_all('a', text=re.compile('.*programming.*'))"
   ]
  },
  {
   "cell_type": "code",
   "execution_count": 39,
   "metadata": {},
   "outputs": [],
   "source": [
    "import lxml.html\n",
    "\n",
    "tree = lxml.html.fromstring(wiki_text)\n",
    "link_div = tree.xpath('//*[@id=\"mw-content-text\"]/div[1]/div[2]')"
   ]
  },
  {
   "cell_type": "code",
   "execution_count": 40,
   "metadata": {},
   "outputs": [
    {
     "data": {
      "text/plain": [
       "'html'"
      ]
     },
     "execution_count": 40,
     "metadata": {},
     "output_type": "execute_result"
    }
   ],
   "source": [
    "tree.xpath('/*')[0].tag"
   ]
  },
  {
   "cell_type": "code",
   "execution_count": 41,
   "metadata": {},
   "outputs": [
    {
     "data": {
      "text/plain": [
       "[<Element html at 0x215c62010e0>,\n",
       " <Element head at 0x215c51e6770>,\n",
       " <Element meta at 0x215c61f8680>,\n",
       " <Element title at 0x215c61f8cc0>,\n",
       " <Element script at 0x215c61f8b80>]"
      ]
     },
     "execution_count": 41,
     "metadata": {},
     "output_type": "execute_result"
    }
   ],
   "source": [
    "# gets all elements in the document\n",
    "tree.xpath('//*')[:5]"
   ]
  },
  {
   "cell_type": "code",
   "execution_count": 42,
   "metadata": {},
   "outputs": [
    {
     "data": {
      "text/plain": [
       "['https://wikipedia.org/wiki/C%2B%2B',\n",
       " 'https://wikipedia.org/wiki/C_Sharp_(programming_language)',\n",
       " 'https://wikipedia.org/wiki/Clojure',\n",
       " 'https://wikipedia.org/wiki/Crystal_(programming_language)',\n",
       " 'https://wikipedia.org/wiki/Dart_(programming_language)']"
      ]
     },
     "execution_count": 42,
     "metadata": {},
     "output_type": "execute_result"
    }
   ],
   "source": [
    "wiki_url = 'https://wikipedia.org'\n",
    "\n",
    "link_elements = tree.xpath('//*[@id=\"mw-content-text\"]/div[1]/div[2]//a')\n",
    "links = [wiki_url + l.attrib['href'] for l in link_elements]\n",
    "links[:5]"
   ]
  },
  {
   "cell_type": "markdown",
   "metadata": {},
   "source": [
    "#### Other methods for extracting the list of links\n",
    "We could also specify the full child path - a ul element inside the div, and li elements in the ul."
   ]
  },
  {
   "cell_type": "code",
   "execution_count": 43,
   "metadata": {},
   "outputs": [
    {
     "data": {
      "text/plain": [
       "['https://wikipedia.org/wiki/C%2B%2B',\n",
       " 'https://wikipedia.org/wiki/C_Sharp_(programming_language)',\n",
       " 'https://wikipedia.org/wiki/Clojure',\n",
       " 'https://wikipedia.org/wiki/Crystal_(programming_language)',\n",
       " 'https://wikipedia.org/wiki/Dart_(programming_language)']"
      ]
     },
     "execution_count": 43,
     "metadata": {},
     "output_type": "execute_result"
    }
   ],
   "source": [
    "link_elements = tree.xpath('//*[@id=\"mw-content-text\"]/div[1]/div[2]/ul/li/a')\n",
    "links = [wiki_url + l.attrib['href'] for l in link_elements]\n",
    "links[:5]"
   ]
  },
  {
   "cell_type": "markdown",
   "metadata": {},
   "source": [
    "We can loop through the li elements within the div and get the href attributes using the `find` method too. Note we have to find each child element one at a time (e.g. we find the ul element, then the li, then the a elements)."
   ]
  },
  {
   "cell_type": "code",
   "execution_count": 44,
   "metadata": {},
   "outputs": [
    {
     "data": {
      "text/plain": [
       "['/wiki/C%2B%2B',\n",
       " '/wiki/C_Sharp_(programming_language)',\n",
       " '/wiki/Clojure',\n",
       " '/wiki/Crystal_(programming_language)',\n",
       " '/wiki/Dart_(programming_language)']"
      ]
     },
     "execution_count": 44,
     "metadata": {},
     "output_type": "execute_result"
    }
   ],
   "source": [
    "links = [el.find('a').attrib['href'] for el in link_div[0].find('ul').findall('li')]\n",
    "links[:5]"
   ]
  },
  {
   "cell_type": "markdown",
   "metadata": {},
   "source": [
    "We can also search the entire lxml object by prefixing our tag with `.//` (basically using XPath notation again), instead of stepping down the tree one child node at a time:"
   ]
  },
  {
   "cell_type": "code",
   "execution_count": 45,
   "metadata": {},
   "outputs": [
    {
     "data": {
      "text/plain": [
       "['/wiki/C%2B%2B',\n",
       " '/wiki/C_Sharp_(programming_language)',\n",
       " '/wiki/Clojure',\n",
       " '/wiki/Crystal_(programming_language)',\n",
       " '/wiki/Dart_(programming_language)']"
      ]
     },
     "execution_count": 45,
     "metadata": {},
     "output_type": "execute_result"
    }
   ],
   "source": [
    "links = [el.attrib['href'] for el in link_div[0].findall('.//a')]\n",
    "links[:5]"
   ]
  },
  {
   "cell_type": "markdown",
   "metadata": {},
   "source": [
    "Last, we could convert the resulting element from our original XPath search into a bs4 object, and search it that way:"
   ]
  },
  {
   "cell_type": "code",
   "execution_count": 46,
   "metadata": {},
   "outputs": [
    {
     "data": {
      "text/plain": [
       "['/wiki/C%2B%2B',\n",
       " '/wiki/C_Sharp_(programming_language)',\n",
       " '/wiki/Clojure',\n",
       " '/wiki/Crystal_(programming_language)',\n",
       " '/wiki/Dart_(programming_language)']"
      ]
     },
     "execution_count": 46,
     "metadata": {},
     "output_type": "execute_result"
    }
   ],
   "source": [
    "div_soup = bs(lxml.etree.tostring(link_div[0]).decode('utf-8'))\n",
    "links = [a.attrs['href'] for a in div_soup.find_all('a')]\n",
    "links[:5]"
   ]
  },
  {
   "cell_type": "markdown",
   "metadata": {},
   "source": [
    "#### Using bs4 to find the links"
   ]
  },
  {
   "cell_type": "code",
   "execution_count": 47,
   "metadata": {},
   "outputs": [
    {
     "data": {
      "text/plain": [
       "['https://wikipedia.org/wiki/C%2B%2B',\n",
       " 'https://wikipedia.org/wiki/C_Sharp_(programming_language)',\n",
       " 'https://wikipedia.org/wiki/Clojure',\n",
       " 'https://wikipedia.org/wiki/Crystal_(programming_language)',\n",
       " 'https://wikipedia.org/wiki/Dart_(programming_language)']"
      ]
     },
     "execution_count": 47,
     "metadata": {},
     "output_type": "execute_result"
    }
   ],
   "source": [
    "language_link_elements = soup.find_all('ul')[1].find_all('a')\n",
    "language_links = [wiki_url + l.attrs['href'] for l in language_link_elements]\n",
    "language_links[:5]"
   ]
  },
  {
   "cell_type": "code",
   "execution_count": 60,
   "metadata": {},
   "outputs": [
    {
     "data": {
      "text/plain": [
       "1"
      ]
     },
     "execution_count": 60,
     "metadata": {},
     "output_type": "execute_result"
    }
   ],
   "source": [
    "import numpy as np\n",
    "\n",
    "index = np.where(['C++' in u.text for u in soup.find_all('ul')])[0][0]\n",
    "index"
   ]
  },
  {
   "cell_type": "markdown",
   "metadata": {},
   "source": [
    "### Collecting data from several pages"
   ]
  },
  {
   "cell_type": "code",
   "execution_count": 49,
   "metadata": {},
   "outputs": [],
   "source": [
    "all_text = []\n",
    "for link in language_links:\n",
    "    html = rq.get(link).text\n",
    "    soup = bs(html)\n",
    "    paragraph_text = soup.find_all('p')\n",
    "    all_text.extend([p.text for p in paragraph_text])\n",
    "    \n",
    "text = ' '.join(all_text)"
   ]
  },
  {
   "cell_type": "code",
   "execution_count": 50,
   "metadata": {},
   "outputs": [
    {
     "data": {
      "text/plain": [
       "'\\n \\n C++ (/ˌsiːˌplʌsˈplʌs/) is a general-purpose programming language created by Bjarne Stroustrup as'"
      ]
     },
     "execution_count": 50,
     "metadata": {},
     "output_type": "execute_result"
    }
   ],
   "source": [
    "text[:100]"
   ]
  },
  {
   "cell_type": "code",
   "execution_count": 51,
   "metadata": {},
   "outputs": [],
   "source": [
    "import string\n",
    "\n",
    "from nltk import FreqDist, bigrams\n",
    "from nltk.corpus import stopwords\n",
    "\n",
    "en_stopwords = set(stopwords.words('english'))\n",
    "# if we get text from the entire page, these stopwords are helpful\n",
    "wiki_stops = set(['wikipedia', 'encyclopedia', 'free', 'jump', 'navigation', 'retrieved', 'programming', 'language', 'code'])\n",
    "full_stops = en_stopwords | wiki_stops\n",
    "\n",
    "translator = str.maketrans('', '', string.punctuation + string.digits)\n",
    "cleaned_text = text.translate(translator)\n",
    "\n",
    "cleaned_words = [w for w in cleaned_text.lower().split() if w not in en_stopwords and len(w) > 3]"
   ]
  },
  {
   "cell_type": "code",
   "execution_count": 52,
   "metadata": {},
   "outputs": [],
   "source": [
    "unigram_freq = FreqDist(cleaned_words)"
   ]
  },
  {
   "cell_type": "code",
   "execution_count": 53,
   "metadata": {},
   "outputs": [
    {
     "data": {
      "text/plain": [
       "[('language', 655),\n",
       " ('code', 420),\n",
       " ('programming', 370),\n",
       " ('used', 338),\n",
       " ('type', 329),\n",
       " ('java', 313),\n",
       " ('perl', 311),\n",
       " ('also', 301),\n",
       " ('class', 283),\n",
       " ('languages', 216),\n",
       " ('using', 213),\n",
       " ('system', 207),\n",
       " ('compiler', 205),\n",
       " ('features', 202),\n",
       " ('support', 201),\n",
       " ('object', 200),\n",
       " ('function', 198),\n",
       " ('types', 195),\n",
       " ('data', 182),\n",
       " ('standard', 179)]"
      ]
     },
     "execution_count": 53,
     "metadata": {},
     "output_type": "execute_result"
    }
   ],
   "source": [
    "unigram_freq.most_common(20)"
   ]
  },
  {
   "cell_type": "code",
   "execution_count": 54,
   "metadata": {},
   "outputs": [
    {
     "data": {
      "text/plain": [
       "['ˌsiːˌplʌsˈplʌs generalpurpose',\n",
       " 'generalpurpose programming',\n",
       " 'programming language',\n",
       " 'language created',\n",
       " 'created bjarne',\n",
       " 'bjarne stroustrup',\n",
       " 'stroustrup extension',\n",
       " 'extension programming',\n",
       " 'programming language',\n",
       " 'language classes',\n",
       " 'classes language',\n",
       " 'language expanded',\n",
       " 'expanded significantly',\n",
       " 'significantly time',\n",
       " 'time modern',\n",
       " 'modern objectoriented',\n",
       " 'objectoriented generic',\n",
       " 'generic functional',\n",
       " 'functional features',\n",
       " 'features addition',\n",
       " 'addition facilities',\n",
       " 'facilities lowlevel',\n",
       " 'lowlevel memory',\n",
       " 'memory manipulation',\n",
       " 'manipulation almost',\n",
       " 'almost always',\n",
       " 'always implemented',\n",
       " 'implemented compiled',\n",
       " 'compiled language',\n",
       " 'language many',\n",
       " 'many vendors',\n",
       " 'vendors provide',\n",
       " 'provide compilers',\n",
       " 'compilers including',\n",
       " 'including free',\n",
       " 'free software',\n",
       " 'software foundation',\n",
       " 'foundation llvm',\n",
       " 'llvm microsoft',\n",
       " 'microsoft intel',\n",
       " 'intel oracle',\n",
       " 'oracle available',\n",
       " 'available many',\n",
       " 'many platforms',\n",
       " 'platforms designed',\n",
       " 'designed bias',\n",
       " 'bias toward',\n",
       " 'toward system',\n",
       " 'system programming',\n",
       " 'programming embedded',\n",
       " 'embedded resourceconstrained',\n",
       " 'resourceconstrained software',\n",
       " 'software large',\n",
       " 'large systems',\n",
       " 'systems performance',\n",
       " 'performance efficiency',\n",
       " 'efficiency flexibility',\n",
       " 'flexibility design',\n",
       " 'design highlights',\n",
       " 'highlights also',\n",
       " 'also found',\n",
       " 'found useful',\n",
       " 'useful many',\n",
       " 'many contexts',\n",
       " 'contexts strengths',\n",
       " 'strengths software',\n",
       " 'software infrastructure',\n",
       " 'infrastructure resourceconstrained',\n",
       " 'resourceconstrained applications',\n",
       " 'applications including',\n",
       " 'including desktop',\n",
       " 'desktop applications',\n",
       " 'applications video',\n",
       " 'video games',\n",
       " 'games servers',\n",
       " 'servers ecommerce',\n",
       " 'ecommerce search',\n",
       " 'search servers',\n",
       " 'servers performancecritical',\n",
       " 'performancecritical applications',\n",
       " 'applications telephone',\n",
       " 'telephone switches',\n",
       " 'switches space',\n",
       " 'space probes',\n",
       " 'probes standardized',\n",
       " 'standardized international',\n",
       " 'international organization',\n",
       " 'organization standardization',\n",
       " 'standardization latest',\n",
       " 'latest standard',\n",
       " 'standard version',\n",
       " 'version ratified',\n",
       " 'ratified published',\n",
       " 'published december',\n",
       " 'december isoiec',\n",
       " 'isoiec informally',\n",
       " 'informally known',\n",
       " 'known programming',\n",
       " 'programming language',\n",
       " 'language initially',\n",
       " 'initially standardized',\n",
       " 'standardized isoiec',\n",
       " 'isoiec amended',\n",
       " 'amended standards',\n",
       " 'standards current',\n",
       " 'current standard',\n",
       " 'standard supersedes',\n",
       " 'supersedes features',\n",
       " 'features enlarged',\n",
       " 'enlarged standard',\n",
       " 'standard library',\n",
       " 'library initial',\n",
       " 'initial standardization',\n",
       " 'standardization developed',\n",
       " 'developed danish',\n",
       " 'danish computer',\n",
       " 'computer scientist',\n",
       " 'scientist bjarne',\n",
       " 'bjarne stroustrup',\n",
       " 'stroustrup bell',\n",
       " 'bell labs',\n",
       " 'labs since',\n",
       " 'since extension',\n",
       " 'extension language',\n",
       " 'language wanted',\n",
       " 'wanted efficient',\n",
       " 'efficient flexible',\n",
       " 'flexible language',\n",
       " 'language similar',\n",
       " 'similar also',\n",
       " 'also provided',\n",
       " 'provided highlevel',\n",
       " 'highlevel features',\n",
       " 'features program',\n",
       " 'program organization',\n",
       " 'organization since',\n",
       " 'since threeyear',\n",
       " 'threeyear release',\n",
       " 'release schedule',\n",
       " 'schedule next',\n",
       " 'next planned',\n",
       " 'planned standard',\n",
       " 'standard bjarne',\n",
       " 'bjarne stroustrup',\n",
       " 'stroustrup danish',\n",
       " 'danish computer',\n",
       " 'computer scientist',\n",
       " 'scientist began',\n",
       " 'began work',\n",
       " 'work classes',\n",
       " 'classes predecessor',\n",
       " 'predecessor motivation',\n",
       " 'motivation creating',\n",
       " 'creating language',\n",
       " 'language originated',\n",
       " 'originated stroustrups',\n",
       " 'stroustrups experience',\n",
       " 'experience programming',\n",
       " 'programming thesis',\n",
       " 'thesis stroustrup',\n",
       " 'stroustrup found',\n",
       " 'found simula',\n",
       " 'simula features',\n",
       " 'features helpful',\n",
       " 'helpful large',\n",
       " 'large software',\n",
       " 'software development',\n",
       " 'development language',\n",
       " 'language slow',\n",
       " 'slow practical',\n",
       " 'practical bcpl',\n",
       " 'bcpl fast',\n",
       " 'fast lowlevel',\n",
       " 'lowlevel suitable',\n",
       " 'suitable large',\n",
       " 'large software',\n",
       " 'software development',\n",
       " 'development stroustrup',\n",
       " 'stroustrup started',\n",
       " 'started working',\n",
       " 'working bell',\n",
       " 'bell labs',\n",
       " 'labs problem',\n",
       " 'problem analyzing',\n",
       " 'analyzing unix',\n",
       " 'unix kernel',\n",
       " 'kernel respect',\n",
       " 'respect distributed',\n",
       " 'distributed computing',\n",
       " 'computing remembering',\n",
       " 'remembering experience',\n",
       " 'experience stroustrup',\n",
       " 'stroustrup enhance',\n",
       " 'enhance language',\n",
       " 'language simulalike',\n",
       " 'simulalike features',\n",
       " 'features chosen',\n",
       " 'chosen generalpurpose',\n",
       " 'generalpurpose fast',\n",
       " 'fast portable',\n",
       " 'portable widely',\n",
       " 'widely used',\n",
       " 'used well',\n",
       " 'well simulas',\n",
       " 'simulas influences',\n",
       " 'influences languages',\n",
       " 'languages also',\n",
       " 'also influenced',\n",
       " 'influenced language',\n",
       " 'language including',\n",
       " 'including algol',\n",
       " 'algol initially',\n",
       " 'initially stroustrups',\n",
       " 'stroustrups classes',\n",
       " 'classes added',\n",
       " 'added features',\n",
       " 'features compiler',\n",
       " 'compiler cpre',\n",
       " 'cpre including',\n",
       " 'including classes',\n",
       " 'classes derived',\n",
       " 'derived classes',\n",
       " 'classes strong',\n",
       " 'strong typing',\n",
       " 'typing inlining',\n",
       " 'inlining default',\n",
       " 'default arguments',\n",
       " 'arguments stroustrup',\n",
       " 'stroustrup started',\n",
       " 'started develop',\n",
       " 'develop successor',\n",
       " 'successor classes',\n",
       " 'classes named',\n",
       " 'named increment',\n",
       " 'increment operator',\n",
       " 'operator going',\n",
       " 'going several',\n",
       " 'several names',\n",
       " 'names features',\n",
       " 'features added',\n",
       " 'added including',\n",
       " 'including virtual',\n",
       " 'virtual functions',\n",
       " 'functions function',\n",
       " 'function name',\n",
       " 'name operator',\n",
       " 'operator overloading',\n",
       " 'overloading references',\n",
       " 'references constants',\n",
       " 'constants typesafe',\n",
       " 'typesafe freestore',\n",
       " 'freestore memory',\n",
       " 'memory allocation',\n",
       " 'allocation newdelete',\n",
       " 'newdelete improved',\n",
       " 'improved type',\n",
       " 'type checking',\n",
       " 'checking bcpl',\n",
       " 'bcpl style',\n",
       " 'style singleline',\n",
       " 'singleline comments',\n",
       " 'comments forward',\n",
       " 'forward slashes',\n",
       " 'slashes furthermore',\n",
       " 'furthermore stroustrup',\n",
       " 'stroustrup developed',\n",
       " 'developed standalone',\n",
       " 'standalone compiler',\n",
       " 'compiler cfront',\n",
       " 'cfront stroustrup',\n",
       " 'stroustrup implemented',\n",
       " 'implemented first',\n",
       " 'first stream',\n",
       " 'stream inputoutput',\n",
       " 'inputoutput library',\n",
       " 'library idea',\n",
       " 'idea providing',\n",
       " 'providing output',\n",
       " 'output operator',\n",
       " 'operator rather',\n",
       " 'rather named',\n",
       " 'named output',\n",
       " 'output function',\n",
       " 'function suggested',\n",
       " 'suggested doug',\n",
       " 'doug mcilroy',\n",
       " 'mcilroy previously',\n",
       " 'previously suggested',\n",
       " 'suggested unix',\n",
       " 'unix pipes',\n",
       " 'pipes first',\n",
       " 'first edition',\n",
       " 'edition programming',\n",
       " 'programming language',\n",
       " 'language released',\n",
       " 'released became',\n",
       " 'became definitive',\n",
       " 'definitive reference',\n",
       " 'reference language',\n",
       " 'language official',\n",
       " 'official standard',\n",
       " 'standard first',\n",
       " 'first commercial',\n",
       " 'commercial implementation',\n",
       " 'implementation released',\n",
       " 'released october',\n",
       " 'october year',\n",
       " 'year released',\n",
       " 'released followed',\n",
       " 'followed updated',\n",
       " 'updated second',\n",
       " 'second edition',\n",
       " 'edition programming',\n",
       " 'programming language',\n",
       " 'language features',\n",
       " 'features included',\n",
       " 'included multiple',\n",
       " 'multiple inheritance',\n",
       " 'inheritance abstract',\n",
       " 'abstract classes',\n",
       " 'classes static',\n",
       " 'static member',\n",
       " 'member functions',\n",
       " 'functions const',\n",
       " 'const member',\n",
       " 'member functions',\n",
       " 'functions protected',\n",
       " 'protected members',\n",
       " 'members annotated',\n",
       " 'annotated reference',\n",
       " 'reference manual',\n",
       " 'manual published',\n",
       " 'published work',\n",
       " 'work became',\n",
       " 'became basis',\n",
       " 'basis future',\n",
       " 'future standard',\n",
       " 'standard later',\n",
       " 'later feature',\n",
       " 'feature additions',\n",
       " 'additions included',\n",
       " 'included templates',\n",
       " 'templates exceptions',\n",
       " 'exceptions namespaces',\n",
       " 'namespaces casts',\n",
       " 'casts boolean',\n",
       " 'boolean type',\n",
       " 'type released',\n",
       " 'released standardizing',\n",
       " 'standardizing language',\n",
       " 'language minor',\n",
       " 'minor update',\n",
       " 'update released',\n",
       " 'released evolved',\n",
       " 'evolved relatively',\n",
       " 'relatively slowly',\n",
       " 'slowly standard',\n",
       " 'standard released',\n",
       " 'released adding',\n",
       " 'adding numerous',\n",
       " 'numerous features',\n",
       " 'features enlarging',\n",
       " 'enlarging standard',\n",
       " 'standard library',\n",
       " 'library providing',\n",
       " 'providing facilities',\n",
       " 'facilities programmers',\n",
       " 'programmers minor',\n",
       " 'minor update',\n",
       " 'update released',\n",
       " 'released december',\n",
       " 'december various',\n",
       " 'various additions',\n",
       " 'additions introduced',\n",
       " 'introduced becoming',\n",
       " 'becoming finalized',\n",
       " 'finalized february',\n",
       " 'february draft',\n",
       " 'draft standard',\n",
       " 'standard approved',\n",
       " 'approved september',\n",
       " 'september officially',\n",
       " 'officially published',\n",
       " 'published december',\n",
       " 'december january',\n",
       " 'january stroustrup',\n",
       " 'stroustrup announced',\n",
       " 'announced winner',\n",
       " 'winner charles',\n",
       " 'charles stark',\n",
       " 'stark draper',\n",
       " 'draper prize',\n",
       " 'prize engineering',\n",
       " 'engineering conceptualizing',\n",
       " 'conceptualizing developing',\n",
       " 'developing programming',\n",
       " 'programming language',\n",
       " 'language update',\n",
       " 'update ranked',\n",
       " 'ranked fourth',\n",
       " 'fourth tiobe',\n",
       " 'tiobe index',\n",
       " 'index measure',\n",
       " 'measure popularity',\n",
       " 'popularity programming',\n",
       " 'programming languages',\n",
       " 'languages java',\n",
       " 'java python',\n",
       " 'python according',\n",
       " 'according stroustrup',\n",
       " 'stroustrup name',\n",
       " 'name signifies',\n",
       " 'signifies evolutionary',\n",
       " 'evolutionary nature',\n",
       " 'nature changes',\n",
       " 'changes name',\n",
       " 'name credited',\n",
       " 'credited rick',\n",
       " 'rick mascitti',\n",
       " 'mascitti first',\n",
       " 'first used',\n",
       " 'used december',\n",
       " 'december mascitti',\n",
       " 'mascitti questioned',\n",
       " 'questioned informally',\n",
       " 'informally naming',\n",
       " 'naming indicated',\n",
       " 'indicated given',\n",
       " 'given tongueincheek',\n",
       " 'tongueincheek spirit',\n",
       " 'spirit name',\n",
       " 'name comes',\n",
       " 'comes operator',\n",
       " 'operator increments',\n",
       " 'increments value',\n",
       " 'value variable',\n",
       " 'variable common',\n",
       " 'common naming',\n",
       " 'naming convention',\n",
       " 'convention using',\n",
       " 'using indicate',\n",
       " 'indicate enhanced',\n",
       " 'enhanced computer',\n",
       " 'computer program',\n",
       " 'program development',\n",
       " 'development period',\n",
       " 'period language',\n",
       " 'language referred',\n",
       " 'referred classes',\n",
       " 'classes acquiring',\n",
       " 'acquiring final',\n",
       " 'final name',\n",
       " 'name throughout',\n",
       " 'throughout life',\n",
       " 'life development',\n",
       " 'development evolution',\n",
       " 'evolution guided',\n",
       " 'guided principles',\n",
       " 'principles standardized',\n",
       " 'standardized working',\n",
       " 'working group',\n",
       " 'group known',\n",
       " 'known jtcscwg',\n",
       " 'jtcscwg published',\n",
       " 'published revisions',\n",
       " 'revisions standard',\n",
       " 'standard currently',\n",
       " 'currently working',\n",
       " 'working next',\n",
       " 'next revision',\n",
       " 'revision working',\n",
       " 'working group',\n",
       " 'group standardized',\n",
       " 'standardized first',\n",
       " 'first time',\n",
       " 'time isoiec',\n",
       " 'isoiec informally',\n",
       " 'informally known',\n",
       " 'known published',\n",
       " 'published version',\n",
       " 'version standard',\n",
       " 'standard called',\n",
       " 'called isoiec',\n",
       " 'isoiec fixed',\n",
       " 'fixed problems',\n",
       " 'problems identified',\n",
       " 'identified next',\n",
       " 'next major',\n",
       " 'major revision',\n",
       " 'revision standard',\n",
       " 'standard informally',\n",
       " 'informally referred',\n",
       " 'referred released',\n",
       " 'released included',\n",
       " 'included many',\n",
       " 'many additions',\n",
       " 'additions core',\n",
       " 'core language',\n",
       " 'language standard',\n",
       " 'standard library',\n",
       " 'library also',\n",
       " 'also known',\n",
       " 'known released',\n",
       " 'released small',\n",
       " 'small extension',\n",
       " 'extension featuring',\n",
       " 'featuring mainly',\n",
       " 'mainly fixes',\n",
       " 'fixes small',\n",
       " 'small improvements',\n",
       " 'improvements draft',\n",
       " 'draft international',\n",
       " 'international standard',\n",
       " 'standard ballot',\n",
       " 'ballot procedures',\n",
       " 'procedures completed',\n",
       " 'completed midaugust',\n",
       " 'midaugust major',\n",
       " 'major revision',\n",
       " 'revision informally',\n",
       " 'informally known',\n",
       " 'known completed',\n",
       " 'completed committee',\n",
       " 'committee july',\n",
       " 'july approved',\n",
       " 'approved published',\n",
       " 'published december',\n",
       " 'december part',\n",
       " 'part standardization',\n",
       " 'standardization process',\n",
       " 'process also',\n",
       " 'also publishes',\n",
       " 'publishes technical',\n",
       " 'technical reports',\n",
       " 'reports specifications',\n",
       " 'specifications technical',\n",
       " 'technical specifications',\n",
       " 'specifications development',\n",
       " 'development pending',\n",
       " 'pending approval',\n",
       " 'approval including',\n",
       " 'including static',\n",
       " 'static reflection',\n",
       " 'reflection language',\n",
       " 'language main',\n",
       " 'main components',\n",
       " 'components direct',\n",
       " 'direct mapping',\n",
       " 'mapping hardware',\n",
       " 'hardware features',\n",
       " 'features provided',\n",
       " 'provided primarily',\n",
       " 'primarily subset',\n",
       " 'subset zerooverhead',\n",
       " 'zerooverhead abstractions',\n",
       " 'abstractions based',\n",
       " 'based mappings',\n",
       " 'mappings stroustrup',\n",
       " 'stroustrup describes',\n",
       " 'describes lightweight',\n",
       " 'lightweight abstraction',\n",
       " 'abstraction programming',\n",
       " 'programming language',\n",
       " 'language designed',\n",
       " 'designed building',\n",
       " 'building using',\n",
       " 'using efficient',\n",
       " 'efficient elegant',\n",
       " 'elegant abstractions',\n",
       " 'abstractions offering',\n",
       " 'offering hardware',\n",
       " 'hardware access',\n",
       " 'access abstraction',\n",
       " 'abstraction basis',\n",
       " 'basis efficiently',\n",
       " 'efficiently distinguishes',\n",
       " 'distinguishes languages',\n",
       " 'languages inherits',\n",
       " 'inherits syntax',\n",
       " 'syntax following',\n",
       " 'following bjarne',\n",
       " 'bjarne stroustrups',\n",
       " 'stroustrups version',\n",
       " 'version hello',\n",
       " 'hello world',\n",
       " 'world program',\n",
       " 'program uses',\n",
       " 'uses standard',\n",
       " 'standard library',\n",
       " 'library stream',\n",
       " 'stream facility',\n",
       " 'facility write',\n",
       " 'write message',\n",
       " 'message standard',\n",
       " 'standard output',\n",
       " 'output supports',\n",
       " 'supports four',\n",
       " 'four types',\n",
       " 'types memory',\n",
       " 'memory management',\n",
       " 'management static',\n",
       " 'static storage',\n",
       " 'storage duration',\n",
       " 'duration objects',\n",
       " 'objects thread',\n",
       " 'thread storage',\n",
       " 'storage duration',\n",
       " 'duration objects',\n",
       " 'objects automatic',\n",
       " 'automatic storage',\n",
       " 'storage duration',\n",
       " 'duration objects',\n",
       " 'objects dynamic',\n",
       " 'dynamic storage',\n",
       " 'storage duration',\n",
       " 'duration objects',\n",
       " 'objects static',\n",
       " 'static storage',\n",
       " 'storage duration',\n",
       " 'duration objects',\n",
       " 'objects created',\n",
       " 'created main',\n",
       " 'main entered',\n",
       " 'entered exceptions',\n",
       " 'exceptions destroyed',\n",
       " 'destroyed reverse',\n",
       " 'reverse order',\n",
       " 'order creation',\n",
       " 'creation main',\n",
       " 'main exits',\n",
       " 'exits exact',\n",
       " 'exact order',\n",
       " 'order creation',\n",
       " 'creation specified',\n",
       " 'specified standard',\n",
       " 'standard though',\n",
       " 'though rules',\n",
       " 'rules defined',\n",
       " 'defined allow',\n",
       " 'allow implementations',\n",
       " 'implementations freedom',\n",
       " 'freedom organize',\n",
       " 'organize implementation',\n",
       " 'implementation formally',\n",
       " 'formally objects',\n",
       " 'objects type',\n",
       " 'type lifespan',\n",
       " 'lifespan shall',\n",
       " 'shall last',\n",
       " 'last duration',\n",
       " 'duration program',\n",
       " 'program static',\n",
       " 'static storage',\n",
       " 'storage duration',\n",
       " 'duration objects',\n",
       " 'objects initialized',\n",
       " 'initialized phases',\n",
       " 'phases first',\n",
       " 'first static',\n",
       " 'static initialization',\n",
       " 'initialization performed',\n",
       " 'performed static',\n",
       " 'static initialization',\n",
       " 'initialization performed',\n",
       " 'performed dynamic',\n",
       " 'dynamic initialization',\n",
       " 'initialization performed',\n",
       " 'performed static',\n",
       " 'static initialization',\n",
       " 'initialization objects',\n",
       " 'objects first',\n",
       " 'first initialized',\n",
       " 'initialized zeros',\n",
       " 'zeros objects',\n",
       " 'objects constant',\n",
       " 'constant initialization',\n",
       " 'initialization phase',\n",
       " 'phase initialized',\n",
       " 'initialized constant',\n",
       " 'constant expression',\n",
       " 'expression variables',\n",
       " 'variables initialized',\n",
       " 'initialized literal',\n",
       " 'literal constexpr',\n",
       " 'constexpr though',\n",
       " 'though specified',\n",
       " 'specified standard',\n",
       " 'standard static',\n",
       " 'static initialization',\n",
       " 'initialization phase',\n",
       " 'phase completed',\n",
       " 'completed compile',\n",
       " 'compile time',\n",
       " 'time saved',\n",
       " 'saved data',\n",
       " 'data partition',\n",
       " 'partition executable',\n",
       " 'executable dynamic',\n",
       " 'dynamic initialization',\n",
       " 'initialization involves',\n",
       " 'involves object',\n",
       " 'object initialization',\n",
       " 'initialization done',\n",
       " 'done constructor',\n",
       " 'constructor function',\n",
       " 'function call',\n",
       " 'call unless',\n",
       " 'unless function',\n",
       " 'function marked',\n",
       " 'marked constexpr',\n",
       " 'constexpr dynamic',\n",
       " 'dynamic initialization',\n",
       " 'initialization order',\n",
       " 'order defined',\n",
       " 'defined order',\n",
       " 'order declaration',\n",
       " 'declaration within',\n",
       " 'within compilation',\n",
       " 'compilation unit',\n",
       " 'unit file',\n",
       " 'file guarantees',\n",
       " 'guarantees provided',\n",
       " 'provided order',\n",
       " 'order initialization',\n",
       " 'initialization compilation',\n",
       " 'compilation units',\n",
       " 'units variables',\n",
       " 'variables type',\n",
       " 'type similar',\n",
       " 'similar static',\n",
       " 'static storage',\n",
       " 'storage duration',\n",
       " 'duration objects',\n",
       " 'objects main',\n",
       " 'main difference',\n",
       " 'difference creation',\n",
       " 'creation time',\n",
       " 'time prior',\n",
       " 'prior thread',\n",
       " 'thread creation',\n",
       " 'creation destruction',\n",
       " 'destruction done',\n",
       " 'done thread',\n",
       " 'thread joined',\n",
       " 'joined common',\n",
       " 'common variable',\n",
       " 'variable types',\n",
       " 'types local',\n",
       " 'local variables',\n",
       " 'variables inside',\n",
       " 'inside function',\n",
       " 'function block',\n",
       " 'block temporary',\n",
       " 'temporary variables',\n",
       " 'variables common',\n",
       " 'common feature',\n",
       " 'feature automatic',\n",
       " 'automatic variables',\n",
       " 'variables lifetime',\n",
       " 'lifetime limited',\n",
       " 'limited scope',\n",
       " 'scope variable',\n",
       " 'variable created',\n",
       " 'created potentially',\n",
       " 'potentially initialized',\n",
       " 'initialized point',\n",
       " 'point declaration',\n",
       " 'declaration details',\n",
       " 'details destroyed',\n",
       " 'destroyed reverse',\n",
       " 'reverse order',\n",
       " 'order creation',\n",
       " 'creation scope',\n",
       " 'scope left',\n",
       " 'left implemented',\n",
       " 'implemented allocation',\n",
       " 'allocation stack',\n",
       " 'stack local',\n",
       " 'local variables',\n",
       " 'variables created',\n",
       " 'created point',\n",
       " 'point execution',\n",
       " 'execution passes',\n",
       " 'passes declaration',\n",
       " 'declaration point',\n",
       " 'point variable',\n",
       " 'variable constructor',\n",
       " 'constructor initializer',\n",
       " 'initializer used',\n",
       " 'used define',\n",
       " 'define initial',\n",
       " 'initial state',\n",
       " 'state object',\n",
       " 'object local',\n",
       " 'local variables',\n",
       " 'variables destroyed',\n",
       " 'destroyed local',\n",
       " 'local block',\n",
       " 'block function',\n",
       " 'function declared',\n",
       " 'declared closed',\n",
       " 'closed destructors',\n",
       " 'destructors local',\n",
       " 'local variables',\n",
       " 'variables called',\n",
       " 'called object',\n",
       " 'object lifetime',\n",
       " 'lifetime allowing',\n",
       " 'allowing discipline',\n",
       " 'discipline automatic',\n",
       " 'automatic resource',\n",
       " 'resource management',\n",
       " 'management termed',\n",
       " 'termed raii',\n",
       " 'raii widely',\n",
       " 'widely used',\n",
       " 'used member',\n",
       " 'member variables',\n",
       " 'variables created',\n",
       " 'created parent',\n",
       " 'parent object',\n",
       " 'object created',\n",
       " 'created array',\n",
       " 'array members',\n",
       " 'members initialized',\n",
       " 'initialized last',\n",
       " 'last member',\n",
       " 'member array',\n",
       " 'array order',\n",
       " 'order member',\n",
       " 'member variables',\n",
       " 'variables destroyed',\n",
       " 'destroyed parent',\n",
       " 'parent object',\n",
       " 'object destroyed',\n",
       " 'destroyed reverse',\n",
       " 'reverse order',\n",
       " 'order creation',\n",
       " 'creation parent',\n",
       " 'parent automatic',\n",
       " 'automatic object',\n",
       " 'object destroyed',\n",
       " 'destroyed goes',\n",
       " 'goes scope',\n",
       " 'scope triggers',\n",
       " 'triggers destruction',\n",
       " 'destruction members',\n",
       " 'members temporary',\n",
       " 'temporary variables',\n",
       " 'variables created',\n",
       " 'created result',\n",
       " 'result expression',\n",
       " 'expression evaluation',\n",
       " 'evaluation destroyed',\n",
       " 'destroyed statement',\n",
       " 'statement containing',\n",
       " 'containing expression',\n",
       " 'expression fully',\n",
       " 'fully evaluated',\n",
       " 'evaluated usually',\n",
       " 'usually statement',\n",
       " 'statement objects',\n",
       " 'objects dynamic',\n",
       " 'dynamic lifespan',\n",
       " 'lifespan created',\n",
       " 'created directly',\n",
       " 'directly call',\n",
       " 'call destroyed',\n",
       " 'destroyed explicitly',\n",
       " 'explicitly call',\n",
       " 'call delete',\n",
       " 'delete also',\n",
       " 'also supports',\n",
       " 'supports malloc',\n",
       " 'malloc free',\n",
       " 'free compatible',\n",
       " 'compatible delete',\n",
       " 'delete returns',\n",
       " 'returns address',\n",
       " 'address allocated',\n",
       " 'allocated memory',\n",
       " 'memory core',\n",
       " 'core guidelines',\n",
       " 'guidelines advise',\n",
       " 'advise using',\n",
       " 'using directly',\n",
       " 'directly creating',\n",
       " 'creating dynamic',\n",
       " 'dynamic objects',\n",
       " 'objects favor',\n",
       " 'favor smart',\n",
       " 'smart pointers',\n",
       " 'pointers makeuniquet',\n",
       " 'makeuniquet single',\n",
       " 'single ownership',\n",
       " 'ownership makesharedt',\n",
       " 'makesharedt referencecounted',\n",
       " 'referencecounted multiple',\n",
       " 'multiple ownership',\n",
       " 'ownership introduced',\n",
       " 'introduced templates',\n",
       " 'templates enable',\n",
       " 'enable generic',\n",
       " 'generic programming',\n",
       " 'programming supports',\n",
       " 'supports function',\n",
       " 'function class',\n",
       " 'class alias',\n",
       " 'alias variable',\n",
       " 'variable templates',\n",
       " 'templates templates',\n",
       " 'templates parameterized',\n",
       " 'parameterized types',\n",
       " 'types compiletime',\n",
       " 'compiletime constants',\n",
       " 'constants templates',\n",
       " 'templates templates',\n",
       " 'templates implemented',\n",
       " 'implemented instantiation',\n",
       " 'instantiation compiletime',\n",
       " 'compiletime instantiate',\n",
       " 'instantiate template',\n",
       " 'template compilers',\n",
       " 'compilers substitute',\n",
       " 'substitute specific',\n",
       " 'specific arguments',\n",
       " 'arguments templates',\n",
       " 'templates parameters',\n",
       " 'parameters generate',\n",
       " 'generate concrete',\n",
       " 'concrete function',\n",
       " 'function class',\n",
       " 'class instance',\n",
       " 'instance substitutions',\n",
       " 'substitutions possible',\n",
       " 'possible eliminated',\n",
       " 'eliminated overload',\n",
       " 'overload resolution',\n",
       " 'resolution policy',\n",
       " 'policy described',\n",
       " 'described phrase',\n",
       " 'phrase substitution',\n",
       " 'substitution failure',\n",
       " 'failure error',\n",
       " 'error sfinae',\n",
       " 'sfinae templates',\n",
       " 'templates powerful',\n",
       " 'powerful tool',\n",
       " 'tool used',\n",
       " 'used generic',\n",
       " 'generic programming',\n",
       " 'programming template',\n",
       " 'template metaprogramming',\n",
       " 'metaprogramming code',\n",
       " 'code optimization',\n",
       " 'optimization power',\n",
       " 'power implies',\n",
       " 'implies cost',\n",
       " 'cost template',\n",
       " 'template increase',\n",
       " 'increase code',\n",
       " 'code size',\n",
       " 'size template',\n",
       " 'template instantiation',\n",
       " 'instantiation produces',\n",
       " 'produces copy',\n",
       " 'copy template',\n",
       " 'template code',\n",
       " 'code template',\n",
       " 'template arguments',\n",
       " 'arguments however',\n",
       " 'however smaller',\n",
       " 'smaller amount',\n",
       " 'amount code',\n",
       " 'code would',\n",
       " 'would generated',\n",
       " 'generated code',\n",
       " 'code written',\n",
       " 'written hand',\n",
       " 'hand contrast',\n",
       " 'contrast runtime',\n",
       " 'runtime generics',\n",
       " 'generics seen',\n",
       " 'seen languages',\n",
       " 'languages java',\n",
       " 'java compiletime',\n",
       " 'compiletime type',\n",
       " 'type erased',\n",
       " 'erased single',\n",
       " 'single template',\n",
       " 'template body',\n",
       " 'body preserved',\n",
       " 'preserved templates',\n",
       " 'templates different',\n",
       " 'different macros',\n",
       " 'macros compiletime',\n",
       " 'compiletime language',\n",
       " 'language features',\n",
       " 'features enable',\n",
       " 'enable conditional',\n",
       " ...]"
      ]
     },
     "execution_count": 54,
     "metadata": {},
     "output_type": "execute_result"
    }
   ],
   "source": [
    "bg = [' '.join(bigr) for bigr in bigrams(cleaned_words)]\n",
    "bg_fd = FreqDist(bg)\n",
    "list(bg)"
   ]
  },
  {
   "cell_type": "code",
   "execution_count": 55,
   "metadata": {},
   "outputs": [
    {
     "data": {
      "text/plain": [
       "[('programming language', 120),\n",
       " ('visual basic', 81),\n",
       " ('programming languages', 47),\n",
       " ('standard library', 45),\n",
       " ('operating system', 37),\n",
       " ('source code', 36),\n",
       " ('functional programming', 35),\n",
       " ('objectoriented programming', 34),\n",
       " ('hello world', 32),\n",
       " ('virtual machine', 31),\n",
       " ('type system', 30),\n",
       " ('scripting language', 29),\n",
       " ('operating systems', 28),\n",
       " ('open source', 28),\n",
       " ('compile time', 26),\n",
       " ('garbage collection', 26),\n",
       " ('data structures', 24),\n",
       " ('language features', 23),\n",
       " ('data types', 22),\n",
       " ('base class', 22)]"
      ]
     },
     "execution_count": 55,
     "metadata": {},
     "output_type": "execute_result"
    }
   ],
   "source": [
    "bg_fd.most_common(20)"
   ]
  },
  {
   "cell_type": "code",
   "execution_count": 56,
   "metadata": {},
   "outputs": [],
   "source": [
    "import matplotlib.pyplot as plt\n",
    "%matplotlib inline"
   ]
  },
  {
   "cell_type": "code",
   "execution_count": 57,
   "metadata": {},
   "outputs": [
    {
     "data": {
      "image/png": "[encoded data removed]",
      "text/plain": [
       "<Figure size 432x288 with 1 Axes>"
      ]
     },
     "metadata": {
      "needs_background": "light"
     },
     "output_type": "display_data"
    },
    {
     "data": {
      "text/plain": [
       "<AxesSubplot:xlabel='Samples', ylabel='Counts'>"
      ]
     },
     "execution_count": 57,
     "metadata": {},
     "output_type": "execute_result"
    }
   ],
   "source": [
    "unigram_freq.plot(20)"
   ]
  },
  {
   "cell_type": "code",
   "execution_count": 58,
   "metadata": {},
   "outputs": [
    {
     "data": {
      "image/png": "[encoded data removed]",
      "text/plain": [
       "<Figure size 432x288 with 1 Axes>"
      ]
     },
     "metadata": {
      "needs_background": "light"
     },
     "output_type": "display_data"
    },
    {
     "data": {
      "text/plain": [
       "<AxesSubplot:xlabel='Samples', ylabel='Counts'>"
      ]
     },
     "execution_count": 58,
     "metadata": {},
     "output_type": "execute_result"
    }
   ],
   "source": [
    "bg_fd.plot(20)"
   ]
  },
  {
   "cell_type": "markdown",
   "metadata": {},
   "source": [
    "# Using APIs to collect data"
   ]
  },
  {
   "cell_type": "code",
   "execution_count": 59,
   "metadata": {},
   "outputs": [
    {
     "data": {
      "text/plain": [
       "{'DateTimeEST': '2021-02-07 12:00:00 AM',\n",
       " 'HourEndingEST': '1',\n",
       " 'Value': '5098.00'}"
      ]
     },
     "execution_count": 59,
     "metadata": {},
     "output_type": "execute_result"
    }
   ],
   "source": [
    "url = 'https://api.misoenergy.org/MISORTWDDataBroker/DataBrokerServices.asmx?messageType=getWindForecast&returnType=json'\n",
    "res = rq.get(url)\n",
    "res.json()['Forecast'][0]"
   ]
  },
  {
   "cell_type": "code",
   "execution_count": 60,
   "metadata": {},
   "outputs": [
    {
     "data": {
      "text/plain": [
       "dict_keys(['MktDay', 'RefId', 'Forecast'])"
      ]
     },
     "execution_count": 60,
     "metadata": {},
     "output_type": "execute_result"
    }
   ],
   "source": [
    "res.json().keys()"
   ]
  },
  {
   "cell_type": "code",
   "execution_count": 61,
   "metadata": {},
   "outputs": [
    {
     "data": {
      "text/html": [
       "<div>\n",
       "<style scoped>\n",
       "    .dataframe tbody tr th:only-of-type {\n",
       "        vertical-align: middle;\n",
       "    }\n",
       "\n",
       "    .dataframe tbody tr th {\n",
       "        vertical-align: top;\n",
       "    }\n",
       "\n",
       "    .dataframe thead th {\n",
       "        text-align: right;\n",
       "    }\n",
       "</style>\n",
       "<table border=\"1\" class=\"dataframe\">\n",
       "  <thead>\n",
       "    <tr style=\"text-align: right;\">\n",
       "      <th></th>\n",
       "      <th>DateTimeEST</th>\n",
       "      <th>HourEndingEST</th>\n",
       "      <th>Value</th>\n",
       "    </tr>\n",
       "  </thead>\n",
       "  <tbody>\n",
       "    <tr>\n",
       "      <th>0</th>\n",
       "      <td>2021-02-07 12:00:00 AM</td>\n",
       "      <td>1</td>\n",
       "      <td>5098.00</td>\n",
       "    </tr>\n",
       "    <tr>\n",
       "      <th>1</th>\n",
       "      <td>2021-02-07 1:00:00 AM</td>\n",
       "      <td>2</td>\n",
       "      <td>4616.00</td>\n",
       "    </tr>\n",
       "    <tr>\n",
       "      <th>2</th>\n",
       "      <td>2021-02-07 2:00:00 AM</td>\n",
       "      <td>3</td>\n",
       "      <td>4286.00</td>\n",
       "    </tr>\n",
       "    <tr>\n",
       "      <th>3</th>\n",
       "      <td>2021-02-07 3:00:00 AM</td>\n",
       "      <td>4</td>\n",
       "      <td>4104.00</td>\n",
       "    </tr>\n",
       "    <tr>\n",
       "      <th>4</th>\n",
       "      <td>2021-02-07 4:00:00 AM</td>\n",
       "      <td>5</td>\n",
       "      <td>4099.00</td>\n",
       "    </tr>\n",
       "  </tbody>\n",
       "</table>\n",
       "</div>"
      ],
      "text/plain": [
       "              DateTimeEST HourEndingEST    Value\n",
       "0  2021-02-07 12:00:00 AM             1  5098.00\n",
       "1   2021-02-07 1:00:00 AM             2  4616.00\n",
       "2   2021-02-07 2:00:00 AM             3  4286.00\n",
       "3   2021-02-07 3:00:00 AM             4  4104.00\n",
       "4   2021-02-07 4:00:00 AM             5  4099.00"
      ]
     },
     "execution_count": 61,
     "metadata": {},
     "output_type": "execute_result"
    }
   ],
   "source": [
    "df = pd.json_normalize(res.json()['Forecast'])\n",
    "df.head()"
   ]
  },
  {
   "cell_type": "code",
   "execution_count": 62,
   "metadata": {},
   "outputs": [
    {
     "data": {
      "text/plain": [
       "[{'DateTimeEST': '2021-02-07 12:00:00 AM',\n",
       "  'HourEndingEST': '1',\n",
       "  'Value': '5098.00'},\n",
       " {'DateTimeEST': '2021-02-07 1:00:00 AM',\n",
       "  'HourEndingEST': '2',\n",
       "  'Value': '4616.00'},\n",
       " {'DateTimeEST': '2021-02-07 2:00:00 AM',\n",
       "  'HourEndingEST': '3',\n",
       "  'Value': '4286.00'},\n",
       " {'DateTimeEST': '2021-02-07 3:00:00 AM',\n",
       "  'HourEndingEST': '4',\n",
       "  'Value': '4104.00'},\n",
       " {'DateTimeEST': '2021-02-07 4:00:00 AM',\n",
       "  'HourEndingEST': '5',\n",
       "  'Value': '4099.00'},\n",
       " {'DateTimeEST': '2021-02-07 5:00:00 AM',\n",
       "  'HourEndingEST': '6',\n",
       "  'Value': '3997.00'},\n",
       " {'DateTimeEST': '2021-02-07 6:00:00 AM',\n",
       "  'HourEndingEST': '7',\n",
       "  'Value': '3715.00'},\n",
       " {'DateTimeEST': '2021-02-07 7:00:00 AM',\n",
       "  'HourEndingEST': '8',\n",
       "  'Value': '3377.00'},\n",
       " {'DateTimeEST': '2021-02-07 8:00:00 AM',\n",
       "  'HourEndingEST': '9',\n",
       "  'Value': '2936.00'},\n",
       " {'DateTimeEST': '2021-02-07 9:00:00 AM',\n",
       "  'HourEndingEST': '10',\n",
       "  'Value': '2495.00'},\n",
       " {'DateTimeEST': '2021-02-07 10:00:00 AM',\n",
       "  'HourEndingEST': '11',\n",
       "  'Value': '2116.00'},\n",
       " {'DateTimeEST': '2021-02-07 11:00:00 AM',\n",
       "  'HourEndingEST': '12',\n",
       "  'Value': '1872.00'},\n",
       " {'DateTimeEST': '2021-02-07 12:00:00 PM',\n",
       "  'HourEndingEST': '13',\n",
       "  'Value': '1785.00'},\n",
       " {'DateTimeEST': '2021-02-07 1:00:00 PM',\n",
       "  'HourEndingEST': '14',\n",
       "  'Value': '1780.00'},\n",
       " {'DateTimeEST': '2021-02-07 2:00:00 PM',\n",
       "  'HourEndingEST': '15',\n",
       "  'Value': '1832.00'},\n",
       " {'DateTimeEST': '2021-02-07 3:00:00 PM',\n",
       "  'HourEndingEST': '16',\n",
       "  'Value': '1894.00'},\n",
       " {'DateTimeEST': '2021-02-07 4:00:00 PM',\n",
       "  'HourEndingEST': '17',\n",
       "  'Value': '1879.00'},\n",
       " {'DateTimeEST': '2021-02-07 5:00:00 PM',\n",
       "  'HourEndingEST': '18',\n",
       "  'Value': '1746.00'},\n",
       " {'DateTimeEST': '2021-02-07 6:00:00 PM',\n",
       "  'HourEndingEST': '19',\n",
       "  'Value': '1631.00'},\n",
       " {'DateTimeEST': '2021-02-07 7:00:00 PM',\n",
       "  'HourEndingEST': '20',\n",
       "  'Value': '1604.00'},\n",
       " {'DateTimeEST': '2021-02-07 8:00:00 PM',\n",
       "  'HourEndingEST': '21',\n",
       "  'Value': '1575.00'},\n",
       " {'DateTimeEST': '2021-02-07 9:00:00 PM',\n",
       "  'HourEndingEST': '22',\n",
       "  'Value': '1497.00'},\n",
       " {'DateTimeEST': '2021-02-07 10:00:00 PM',\n",
       "  'HourEndingEST': '23',\n",
       "  'Value': '1412.00'},\n",
       " {'DateTimeEST': '2021-02-07 11:00:00 PM',\n",
       "  'HourEndingEST': '24',\n",
       "  'Value': '1402.00'},\n",
       " {'DateTimeEST': '2021-02-08 12:00:00 AM',\n",
       "  'HourEndingEST': '1',\n",
       "  'Value': '1430.00'},\n",
       " {'DateTimeEST': '2021-02-08 1:00:00 AM',\n",
       "  'HourEndingEST': '2',\n",
       "  'Value': '1396.00'},\n",
       " {'DateTimeEST': '2021-02-08 2:00:00 AM',\n",
       "  'HourEndingEST': '3',\n",
       "  'Value': '1355.00'},\n",
       " {'DateTimeEST': '2021-02-08 3:00:00 AM',\n",
       "  'HourEndingEST': '4',\n",
       "  'Value': '1349.00'},\n",
       " {'DateTimeEST': '2021-02-08 4:00:00 AM',\n",
       "  'HourEndingEST': '5',\n",
       "  'Value': '1312.00'},\n",
       " {'DateTimeEST': '2021-02-08 5:00:00 AM',\n",
       "  'HourEndingEST': '6',\n",
       "  'Value': '1277.00'},\n",
       " {'DateTimeEST': '2021-02-08 6:00:00 AM',\n",
       "  'HourEndingEST': '7',\n",
       "  'Value': '1285.00'},\n",
       " {'DateTimeEST': '2021-02-08 7:00:00 AM',\n",
       "  'HourEndingEST': '8',\n",
       "  'Value': '1312.00'},\n",
       " {'DateTimeEST': '2021-02-08 8:00:00 AM',\n",
       "  'HourEndingEST': '9',\n",
       "  'Value': '1347.00'},\n",
       " {'DateTimeEST': '2021-02-08 9:00:00 AM',\n",
       "  'HourEndingEST': '10',\n",
       "  'Value': '1280.00'},\n",
       " {'DateTimeEST': '2021-02-08 10:00:00 AM',\n",
       "  'HourEndingEST': '11',\n",
       "  'Value': '1191.00'},\n",
       " {'DateTimeEST': '2021-02-08 11:00:00 AM',\n",
       "  'HourEndingEST': '12',\n",
       "  'Value': '1149.00'},\n",
       " {'DateTimeEST': '2021-02-08 12:00:00 PM',\n",
       "  'HourEndingEST': '13',\n",
       "  'Value': '1198.00'},\n",
       " {'DateTimeEST': '2021-02-08 1:00:00 PM',\n",
       "  'HourEndingEST': '14',\n",
       "  'Value': '1363.00'},\n",
       " {'DateTimeEST': '2021-02-08 2:00:00 PM',\n",
       "  'HourEndingEST': '15',\n",
       "  'Value': '1607.00'},\n",
       " {'DateTimeEST': '2021-02-08 3:00:00 PM',\n",
       "  'HourEndingEST': '16',\n",
       "  'Value': '1972.00'},\n",
       " {'DateTimeEST': '2021-02-08 4:00:00 PM',\n",
       "  'HourEndingEST': '17',\n",
       "  'Value': '2394.00'},\n",
       " {'DateTimeEST': '2021-02-08 5:00:00 PM',\n",
       "  'HourEndingEST': '18',\n",
       "  'Value': '2745.00'},\n",
       " {'DateTimeEST': '2021-02-08 6:00:00 PM',\n",
       "  'HourEndingEST': '19',\n",
       "  'Value': '3057.00'},\n",
       " {'DateTimeEST': '2021-02-08 7:00:00 PM',\n",
       "  'HourEndingEST': '20',\n",
       "  'Value': '3377.00'},\n",
       " {'DateTimeEST': '2021-02-08 8:00:00 PM',\n",
       "  'HourEndingEST': '21',\n",
       "  'Value': '3537.00'},\n",
       " {'DateTimeEST': '2021-02-08 9:00:00 PM',\n",
       "  'HourEndingEST': '22',\n",
       "  'Value': '3716.00'},\n",
       " {'DateTimeEST': '2021-02-08 10:00:00 PM',\n",
       "  'HourEndingEST': '23',\n",
       "  'Value': '3916.00'},\n",
       " {'DateTimeEST': '2021-02-08 11:00:00 PM',\n",
       "  'HourEndingEST': '24',\n",
       "  'Value': '4067.00'}]"
      ]
     },
     "execution_count": 62,
     "metadata": {},
     "output_type": "execute_result"
    }
   ],
   "source": [
    "res.json()['Forecast']"
   ]
  },
  {
   "cell_type": "code",
   "execution_count": 63,
   "metadata": {},
   "outputs": [
    {
     "data": {
      "text/plain": [
       "'02-07-2021'"
      ]
     },
     "execution_count": 63,
     "metadata": {},
     "output_type": "execute_result"
    }
   ],
   "source": [
    "res.json()['MktDay']"
   ]
  },
  {
   "cell_type": "code",
   "execution_count": 64,
   "metadata": {},
   "outputs": [],
   "source": [
    "df.to_excel('miso_wind_forecast_{}.xlsx'.format(res.json()['MktDay']))"
   ]
  },
  {
   "cell_type": "markdown",
   "metadata": {},
   "source": [
    "## Using API wrappers\n",
    "### Using PRAW"
   ]
  },
  {
   "cell_type": "code",
   "execution_count": 65,
   "metadata": {},
   "outputs": [
    {
     "name": "stderr",
     "output_type": "stream",
     "text": [
      "Version 7.0.0 of praw is outdated. Version 7.1.3 was released 1 day ago.\n"
     ]
    }
   ],
   "source": [
    "import praw\n",
    "\n",
    "reddit = praw.Reddit(\n",
    "    client_id=\"_ZKiZks98gi6yQ\",\n",
    "    client_secret=\"ONbY1wJvXiM2t41O9hVm9weSmfpvxQ\",\n",
    "    user_agent=\"python_book_demo\"\n",
    ")"
   ]
  },
  {
   "cell_type": "code",
   "execution_count": 66,
   "metadata": {},
   "outputs": [],
   "source": [
    "post_text_list = []\n",
    "comment_text_list = []\n",
    "for post in reddit.subreddit(\"california\").hot(limit=100):\n",
    "    post_text_list.append(post.selftext)\n",
    "    # removes 'show more comments' instances\n",
    "    post.comments.replace_more(limit=0)\n",
    "    comments = post.comments.list()\n",
    "    for c in comments:\n",
    "        comment_text_list.append(c.body)\n",
    "\n",
    "all_text = ' '.join(post_text_list + comment_text_list)"
   ]
  },
  {
   "cell_type": "code",
   "execution_count": 67,
   "metadata": {},
   "outputs": [
    {
     "data": {
      "text/plain": [
       "4918"
      ]
     },
     "execution_count": 67,
     "metadata": {},
     "output_type": "execute_result"
    }
   ],
   "source": [
    "len(comment_text_list)"
   ]
  },
  {
   "cell_type": "code",
   "execution_count": 68,
   "metadata": {},
   "outputs": [],
   "source": [
    "translator = str.maketrans('', '', string.punctuation + string.digits)\n",
    "cleaned_text = all_text.translate(translator)\n",
    "\n",
    "reddit_stopwords = set(['removed', 'dont']) | en_stopwords\n",
    "cleaned_words = [w for w in cleaned_text.lower().split() if w not in reddit_stopwords and len(w) > 3]"
   ]
  },
  {
   "cell_type": "code",
   "execution_count": 69,
   "metadata": {},
   "outputs": [
    {
     "data": {
      "text/plain": [
       "[('property taxes', 41),\n",
       " ('middle class', 41),\n",
       " ('outdoor dining', 34),\n",
       " ('stay home', 33),\n",
       " ('climate change', 33),\n",
       " ('southern california', 32),\n",
       " ('seems like', 30),\n",
       " ('many people', 29),\n",
       " ('public transit', 27),\n",
       " ('santa cruz', 26)]"
      ]
     },
     "execution_count": 69,
     "metadata": {},
     "output_type": "execute_result"
    }
   ],
   "source": [
    "bg = [' '.join(bigr) for bigr in bigrams(cleaned_words)]\n",
    "bg_fd = FreqDist(bg)\n",
    "bg_fd.most_common(10)"
   ]
  },
  {
   "cell_type": "code",
   "execution_count": 70,
   "metadata": {},
   "outputs": [
    {
     "data": {
      "text/plain": [
       "True"
      ]
     },
     "execution_count": 70,
     "metadata": {},
     "output_type": "execute_result"
    }
   ],
   "source": [
    "\"don't\" in en_stopwords"
   ]
  },
  {
   "cell_type": "code",
   "execution_count": 71,
   "metadata": {},
   "outputs": [
    {
     "data": {
      "text/plain": [
       "{'User-Agent': 'python-requests/2.25.1', 'Accept-Encoding': 'gzip, deflate', 'Accept': '*/*', 'Connection': 'keep-alive'}"
      ]
     },
     "execution_count": 71,
     "metadata": {},
     "output_type": "execute_result"
    }
   ],
   "source": [
    "rq.utils.default_headers()"
   ]
  }
 ],
 "metadata": {
  "kernelspec": {
   "display_name": "Python 3",
   "language": "python",
   "name": "python3"
  },
  "language_info": {
   "codemirror_mode": {
    "name": "ipython",
    "version": 3
   },
   "file_extension": ".py",
   "mimetype": "text/x-python",
   "name": "python",
   "nbconvert_exporter": "python",
   "pygments_lexer": "ipython3",
   "version": "3.8.5"
  }
 },
 "nbformat": 4,
 "nbformat_minor": 4
}

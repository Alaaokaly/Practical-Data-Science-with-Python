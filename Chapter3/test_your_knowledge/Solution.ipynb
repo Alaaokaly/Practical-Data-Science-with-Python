{
 "cells": [
  {
   "cell_type": "markdown",
   "metadata": {},
   "source": [
    "This is a solution to the \"test your knowledge\" challenges at the end of chapter 3. Be sure to try the challenges first before looking at the solutions! "
   ]
  },
  {
   "cell_type": "markdown",
   "metadata": {},
   "source": [
    "## Bitcoin price data"
   ]
  },
  {
   "cell_type": "code",
   "execution_count": 54,
   "metadata": {},
   "outputs": [],
   "source": [
    "# ensure the db file is deleted so we are able to create it\n",
    "import os\n",
    "os.remove('bitcoin_data.sql')"
   ]
  },
  {
   "cell_type": "code",
   "execution_count": 55,
   "metadata": {},
   "outputs": [
    {
     "data": {
      "text/plain": [
       "{'symbol': 'btcusd',\n",
       " 'time': 1364688000000,\n",
       " 'open': 92.5,\n",
       " 'close': 93.033,\n",
       " 'high': 93.74999,\n",
       " 'low': 91.0,\n",
       " 'volume': 3083.07979075}"
      ]
     },
     "execution_count": 55,
     "metadata": {},
     "output_type": "execute_result"
    }
   ],
   "source": [
    "# load json data\n",
    "import json\n",
    "with open('bitcoin_price.json') as f:\n",
    "    data = json.load(f)\n",
    "\n",
    "data[0]"
   ]
  },
  {
   "cell_type": "code",
   "execution_count": 56,
   "metadata": {},
   "outputs": [
    {
     "data": {
      "text/plain": [
       "'btcusd'"
      ]
     },
     "execution_count": 56,
     "metadata": {},
     "output_type": "execute_result"
    }
   ],
   "source": [
    "# we can see the data is organized in a list of dictionaries\n",
    "data[0]['symbol']"
   ]
  },
  {
   "cell_type": "code",
   "execution_count": 57,
   "metadata": {},
   "outputs": [],
   "source": [
    "import sqlite3"
   ]
  },
  {
   "cell_type": "code",
   "execution_count": 58,
   "metadata": {},
   "outputs": [],
   "source": [
    "db = sqlite3.connect('bitcoin_data.sql')\n",
    "cur = db.cursor()"
   ]
  },
  {
   "cell_type": "code",
   "execution_count": 59,
   "metadata": {},
   "outputs": [
    {
     "data": {
      "text/plain": [
       "<sqlite3.Cursor at 0x252d8dbc490>"
      ]
     },
     "execution_count": 59,
     "metadata": {},
     "output_type": "execute_result"
    }
   ],
   "source": [
    "cur.execute('CREATE TABLE bitcoin_price (time INTEGER, open REAL, close REAL, high REAL, low REAL, volume REAL);')"
   ]
  },
  {
   "cell_type": "code",
   "execution_count": 60,
   "metadata": {},
   "outputs": [],
   "source": [
    "data_list = []\n",
    "for d in data:\n",
    "    data_list.append([d['time'], d['open'], d['close'], d['high'], d['low'], d['volume']])"
   ]
  },
  {
   "cell_type": "code",
   "execution_count": 61,
   "metadata": {},
   "outputs": [
    {
     "data": {
      "text/plain": [
       "[1364688000000, 92.5, 93.033, 93.74999, 91.0, 3083.07979075]"
      ]
     },
     "execution_count": 61,
     "metadata": {},
     "output_type": "execute_result"
    }
   ],
   "source": [
    "data_list[0]"
   ]
  },
  {
   "cell_type": "code",
   "execution_count": 62,
   "metadata": {},
   "outputs": [
    {
     "data": {
      "text/plain": [
       "<sqlite3.Cursor at 0x252d8dbc490>"
      ]
     },
     "execution_count": 62,
     "metadata": {},
     "output_type": "execute_result"
    }
   ],
   "source": [
    "cur.executemany('INSERT INTO bitcoin_price VALUES (?, ?, ?, ?, ?, ?)', data_list)"
   ]
  },
  {
   "cell_type": "code",
   "execution_count": 63,
   "metadata": {},
   "outputs": [],
   "source": [
    "db.commit()"
   ]
  },
  {
   "cell_type": "code",
   "execution_count": 64,
   "metadata": {},
   "outputs": [],
   "source": [
    "db.close()"
   ]
  },
  {
   "cell_type": "code",
   "execution_count": 65,
   "metadata": {},
   "outputs": [],
   "source": [
    "# re-connect to check data was properly saved\n",
    "db = sqlite3.connect('bitcoin_data.sql')\n",
    "cur = db.cursor()"
   ]
  },
  {
   "cell_type": "code",
   "execution_count": 66,
   "metadata": {},
   "outputs": [
    {
     "data": {
      "text/plain": [
       "1606521600000"
      ]
     },
     "execution_count": 66,
     "metadata": {},
     "output_type": "execute_result"
    }
   ],
   "source": [
    "# get latest date in the data\n",
    "res = cur.execute('SELECT MAX(time) FROM bitcoin_price;')\n",
    "max_time = res.fetchone()[0]\n",
    "max_time"
   ]
  },
  {
   "cell_type": "code",
   "execution_count": 67,
   "metadata": {},
   "outputs": [
    {
     "data": {
      "text/plain": [
       "datetime.datetime(2020, 11, 27, 17, 0)"
      ]
     },
     "execution_count": 67,
     "metadata": {},
     "output_type": "execute_result"
    }
   ],
   "source": [
    "import datetime\n",
    "datetime.datetime.fromtimestamp(max_time // 1000)"
   ]
  },
  {
   "cell_type": "code",
   "execution_count": 68,
   "metadata": {},
   "outputs": [
    {
     "data": {
      "text/plain": [
       "datetime.datetime(2013, 3, 30, 18, 0)"
      ]
     },
     "execution_count": 68,
     "metadata": {},
     "output_type": "execute_result"
    }
   ],
   "source": [
    "# get earliest date\n",
    "res = cur.execute('SELECT MIN(time) FROM bitcoin_price;')\n",
    "min_time = res.fetchone()[0]\n",
    "datetime.datetime.fromtimestamp(min_time // 1000)"
   ]
  },
  {
   "cell_type": "code",
   "execution_count": 71,
   "metadata": {},
   "outputs": [
    {
     "data": {
      "text/plain": [
       "[(1138.5, '2013'),\n",
       " (919.24, '2014'),\n",
       " (466.01, '2015'),\n",
       " (981.7, '2016'),\n",
       " (19210.0, '2017'),\n",
       " (17169.0, '2018'),\n",
       " (12876.0, '2019'),\n",
       " (19131.0, '2020')]"
      ]
     },
     "execution_count": 71,
     "metadata": {},
     "output_type": "execute_result"
    }
   ],
   "source": [
    "# get maximum price for each year, grouped and sorted by year\n",
    "# first we need to create a year column\n",
    "query = \"\"\"\n",
    "SELECT MAX(close), STRFTIME('%Y', DATE(ROUND(time / 1000), 'unixepoch')) as year\n",
    "FROM bitcoin_price\n",
    "GROUP BY year\n",
    "ORDER BY year;\n",
    "\"\"\"\n",
    "res = cur.execute(query)\n",
    "res.fetchall()"
   ]
  },
  {
   "cell_type": "code",
   "execution_count": 72,
   "metadata": {},
   "outputs": [],
   "source": [
    "db.close()"
   ]
  },
  {
   "cell_type": "markdown",
   "metadata": {},
   "source": [
    "## chinook/sqlalchemy"
   ]
  },
  {
   "cell_type": "code",
   "execution_count": 83,
   "metadata": {},
   "outputs": [],
   "source": [
    "from sqlalchemy import create_engine\n",
    "engine = create_engine(\"sqlite:///../chinook.db\")\n",
    "conn = engine.connect()"
   ]
  },
  {
   "cell_type": "code",
   "execution_count": 89,
   "metadata": {},
   "outputs": [
    {
     "data": {
      "text/plain": [
       "[(2911.7830384615386, 'Sci Fi & Fantasy'),\n",
       " (2625.549076923077, 'Science Fiction'),\n",
       " (2575.28378125, 'Drama'),\n",
       " (2145.041021505376, 'TV Shows'),\n",
       " (1585.263705882353, 'Comedy'),\n",
       " (309.74944385026737, 'Metal'),\n",
       " (302.9858, 'Electronica/Dance'),\n",
       " (297.4529285714286, 'Heavy Metal'),\n",
       " (293.86756756756756, 'Classical'),\n",
       " (291.75537692307694, 'Jazz'),\n",
       " (283.9100431765613, 'Rock'),\n",
       " (270.35977777777777, 'Blues'),\n",
       " (264.05852500000003, 'Alternative'),\n",
       " (247.17775862068964, 'Reggae'),\n",
       " (244.37088372093024, 'Soundtrack'),\n",
       " (234.35384939759035, 'Alternative & Punk'),\n",
       " (232.85926252158893, 'Latin'),\n",
       " (229.03410416666665, 'Pop'),\n",
       " (224.92382142857142, 'World'),\n",
       " (220.0668524590164, 'R&B/Soul'),\n",
       " (219.59, 'Bossa Nova'),\n",
       " (189.16420833333333, 'Easy Listening'),\n",
       " (178.1762857142857, 'Hip Hop/Rap'),\n",
       " (174.813, 'Opera'),\n",
       " (134.6435, 'Rock And Roll')]"
      ]
     },
     "execution_count": 89,
     "metadata": {},
     "output_type": "execute_result"
    }
   ],
   "source": [
    "query = \"\"\"\n",
    "SELECT AVG(tracks.Milliseconds) / 1000, genres.Name\n",
    "FROM tracks\n",
    "JOIN genres\n",
    "ON tracks.genreid = genres.genreid\n",
    "GROUP BY tracks.genreid\n",
    "ORDER BY AVG(Tracks.Milliseconds) DESC;\n",
    "\"\"\"\n",
    "res = conn.execute(query)\n",
    "list(res)"
   ]
  }
 ],
 "metadata": {
  "kernelspec": {
   "display_name": "Python 3",
   "language": "python",
   "name": "python3"
  },
  "language_info": {
   "codemirror_mode": {
    "name": "ipython",
    "version": 3
   },
   "file_extension": ".py",
   "mimetype": "text/x-python",
   "name": "python",
   "nbconvert_exporter": "python",
   "pygments_lexer": "ipython3",
   "version": "3.8.5"
  }
 },
 "nbformat": 4,
 "nbformat_minor": 4
}

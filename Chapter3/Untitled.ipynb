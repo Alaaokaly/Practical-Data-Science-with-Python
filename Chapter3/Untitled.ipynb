{
 "cells": [
  {
   "cell_type": "code",
   "execution_count": 1,
   "metadata": {},
   "outputs": [],
   "source": [
    "import sqlite3"
   ]
  },
  {
   "cell_type": "code",
   "execution_count": 11,
   "metadata": {},
   "outputs": [],
   "source": [
    "with open('C:/Users/words/Desktop/BikeStores Sample Database - create objects.sql', 'r') as f:\n",
    "    create_objects = f.read()"
   ]
  },
  {
   "cell_type": "code",
   "execution_count": 12,
   "metadata": {},
   "outputs": [
    {
     "data": {
      "text/plain": [
       "'/*\\n--------------------------------------------------------------------\\nÂ© 2017 sqlservertutorial.net All Rights Reserved\\n--------------------------------------------------------------------\\nName   : BikeStores\\nLink   : http://www.sqlservertutorial.net/load-sample-database/\\nVersion: 1.0\\n--------------------------------------------------------------------\\n*/\\n-- create schemas\\nCREATE SCHEMA production;\\ngo\\n\\nCREATE SCHEMA sales;\\ngo\\n\\n-- create tables\\nCREATE TABLE production.categories (\\n\\tcategory_id INT IDENTITY (1, 1) PRIMARY KEY,\\n\\tcategory_name VARCHAR (255) NOT NULL\\n);\\n\\nCREATE TABLE production.brands (\\n\\tbrand_id INT IDENTITY (1, 1) PRIMARY KEY,\\n\\tbrand_name VARCHAR (255) NOT NULL\\n);\\n\\nCREATE TABLE production.products (\\n\\tproduct_id INT IDENTITY (1, 1) PRIMARY KEY,\\n\\tproduct_name VARCHAR (255) NOT NULL,\\n\\tbrand_id INT NOT NULL,\\n\\tcategory_id INT NOT NULL,\\n\\tmodel_year SMALLINT NOT NULL,\\n\\tlist_price DECIMAL (10, 2) NOT NULL,\\n\\tFOREIGN KEY (category_id) REFERENCES production.categories (category_id) ON DELETE CASCADE ON UPDATE CASCADE,\\n\\tFOREIGN KEY (brand_id) REFERENCES production.brands (brand_id) ON DELETE CASCADE ON UPDATE CASCADE\\n);\\n\\nCREATE TABLE sales.customers (\\n\\tcustomer_id INT IDENTITY (1, 1) PRIMARY KEY,\\n\\tfirst_name VARCHAR (255) NOT NULL,\\n\\tlast_name VARCHAR (255) NOT NULL,\\n\\tphone VARCHAR (25),\\n\\temail VARCHAR (255) NOT NULL,\\n\\tstreet VARCHAR (255),\\n\\tcity VARCHAR (50),\\n\\tstate VARCHAR (25),\\n\\tzip_code VARCHAR (5)\\n);\\n\\nCREATE TABLE sales.stores (\\n\\tstore_id INT IDENTITY (1, 1) PRIMARY KEY,\\n\\tstore_name VARCHAR (255) NOT NULL,\\n\\tphone VARCHAR (25),\\n\\temail VARCHAR (255),\\n\\tstreet VARCHAR (255),\\n\\tcity VARCHAR (255),\\n\\tstate VARCHAR (10),\\n\\tzip_code VARCHAR (5)\\n);\\n\\nCREATE TABLE sales.staffs (\\n\\tstaff_id INT IDENTITY (1, 1) PRIMARY KEY,\\n\\tfirst_name VARCHAR (50) NOT NULL,\\n\\tlast_name VARCHAR (50) NOT NULL,\\n\\temail VARCHAR (255) NOT NULL UNIQUE,\\n\\tphone VARCHAR (25),\\n\\tactive tinyint NOT NULL,\\n\\tstore_id INT NOT NULL,\\n\\tmanager_id INT,\\n\\tFOREIGN KEY (store_id) REFERENCES sales.stores (store_id) ON DELETE CASCADE ON UPDATE CASCADE,\\n\\tFOREIGN KEY (manager_id) REFERENCES sales.staffs (staff_id) ON DELETE NO ACTION ON UPDATE NO ACTION\\n);\\n\\nCREATE TABLE sales.orders (\\n\\torder_id INT IDENTITY (1, 1) PRIMARY KEY,\\n\\tcustomer_id INT,\\n\\torder_status tinyint NOT NULL,\\n\\t-- Order status: 1 = Pending; 2 = Processing; 3 = Rejected; 4 = Completed\\n\\torder_date DATE NOT NULL,\\n\\trequired_date DATE NOT NULL,\\n\\tshipped_date DATE,\\n\\tstore_id INT NOT NULL,\\n\\tstaff_id INT NOT NULL,\\n\\tFOREIGN KEY (customer_id) REFERENCES sales.customers (customer_id) ON DELETE CASCADE ON UPDATE CASCADE,\\n\\tFOREIGN KEY (store_id) REFERENCES sales.stores (store_id) ON DELETE CASCADE ON UPDATE CASCADE,\\n\\tFOREIGN KEY (staff_id) REFERENCES sales.staffs (staff_id) ON DELETE NO ACTION ON UPDATE NO ACTION\\n);\\n\\nCREATE TABLE sales.order_items (\\n\\torder_id INT,\\n\\titem_id INT,\\n\\tproduct_id INT NOT NULL,\\n\\tquantity INT NOT NULL,\\n\\tlist_price DECIMAL (10, 2) NOT NULL,\\n\\tdiscount DECIMAL (4, 2) NOT NULL DEFAULT 0,\\n\\tPRIMARY KEY (order_id, item_id),\\n\\tFOREIGN KEY (order_id) REFERENCES sales.orders (order_id) ON DELETE CASCADE ON UPDATE CASCADE,\\n\\tFOREIGN KEY (product_id) REFERENCES production.products (product_id) ON DELETE CASCADE ON UPDATE CASCADE\\n);\\n\\nCREATE TABLE production.stocks (\\n\\tstore_id INT,\\n\\tproduct_id INT,\\n\\tquantity INT,\\n\\tPRIMARY KEY (store_id, product_id),\\n\\tFOREIGN KEY (store_id) REFERENCES sales.stores (store_id) ON DELETE CASCADE ON UPDATE CASCADE,\\n\\tFOREIGN KEY (product_id) REFERENCES production.products (product_id) ON DELETE CASCADE ON UPDATE CASCADE\\n);'"
      ]
     },
     "execution_count": 12,
     "metadata": {},
     "output_type": "execute_result"
    }
   ],
   "source": [
    "create_objects"
   ]
  },
  {
   "cell_type": "code",
   "execution_count": 15,
   "metadata": {},
   "outputs": [],
   "source": [
    "testdb = sqlite3.connect('testdb.db')"
   ]
  },
  {
   "cell_type": "code",
   "execution_count": 17,
   "metadata": {},
   "outputs": [
    {
     "ename": "OperationalError",
     "evalue": "near \"SCHEMA\": syntax error",
     "output_type": "error",
     "traceback": [
      "\u001b[1;31m---------------------------------------------------------------------------\u001b[0m",
      "\u001b[1;31mOperationalError\u001b[0m                          Traceback (most recent call last)",
      "\u001b[1;32m<ipython-input-17-30e7b77da53f>\u001b[0m in \u001b[0;36m<module>\u001b[1;34m\u001b[0m\n\u001b[1;32m----> 1\u001b[1;33m \u001b[0mtestdb\u001b[0m\u001b[1;33m.\u001b[0m\u001b[0mexecute\u001b[0m\u001b[1;33m(\u001b[0m\u001b[0mcreate_objects\u001b[0m\u001b[1;33m)\u001b[0m\u001b[1;33m\u001b[0m\u001b[1;33m\u001b[0m\u001b[0m\n\u001b[0m",
      "\u001b[1;31mOperationalError\u001b[0m: near \"SCHEMA\": syntax error"
     ]
    }
   ],
   "source": [
    "testdb.execute(create_objects)"
   ]
  },
  {
   "cell_type": "code",
   "execution_count": null,
   "metadata": {},
   "outputs": [],
   "source": []
  }
 ],
 "metadata": {
  "kernelspec": {
   "display_name": "Python 3",
   "language": "python",
   "name": "python3"
  },
  "language_info": {
   "codemirror_mode": {
    "name": "ipython",
    "version": 3
   },
   "file_extension": ".py",
   "mimetype": "text/x-python",
   "name": "python",
   "nbconvert_exporter": "python",
   "pygments_lexer": "ipython3",
   "version": "3.9.0"
  }
 },
 "nbformat": 4,
 "nbformat_minor": 4
}

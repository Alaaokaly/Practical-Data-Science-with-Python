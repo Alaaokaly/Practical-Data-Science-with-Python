{
 "cells": [
  {
   "cell_type": "code",
   "execution_count": 1,
   "metadata": {},
   "outputs": [],
   "source": [
    "import os\n",
    "from glob import glob\n",
    "from urllib.request import urlretrieve\n",
    "\n",
    "import pandas as pd"
   ]
  },
  {
   "cell_type": "code",
   "execution_count": 2,
   "metadata": {},
   "outputs": [],
   "source": [
    "url = 'https://docs.misoenergy.org/marketreports/PeakHourOverview_{}.csv'\n",
    "# date strings look like this: 02072021"
   ]
  },
  {
   "cell_type": "code",
   "execution_count": 3,
   "metadata": {},
   "outputs": [],
   "source": [
    "dates = pd.date_range(start='01-01-2019', end='02-07-2021')\n",
    "date_strs = dates.strftime('%m%d%Y')"
   ]
  },
  {
   "cell_type": "code",
   "execution_count": 4,
   "metadata": {},
   "outputs": [],
   "source": [
    "for d in date_strs:\n",
    "    filename = 'miso/PeakHourOverview_{}.csv'.format(d)\n",
    "    if not os.path.exists(filename):\n",
    "        urlretrieve(url.format(d), filename)"
   ]
  },
  {
   "cell_type": "markdown",
   "metadata": {},
   "source": [
    "Prototyping data cleaning and loading"
   ]
  },
  {
   "cell_type": "code",
   "execution_count": 5,
   "metadata": {},
   "outputs": [
    {
     "data": {
      "text/html": [
       "<div>\n",
       "<style scoped>\n",
       "    .dataframe tbody tr th:only-of-type {\n",
       "        vertical-align: middle;\n",
       "    }\n",
       "\n",
       "    .dataframe tbody tr th {\n",
       "        vertical-align: top;\n",
       "    }\n",
       "\n",
       "    .dataframe thead th {\n",
       "        text-align: right;\n",
       "    }\n",
       "</style>\n",
       "<table border=\"1\" class=\"dataframe\">\n",
       "  <thead>\n",
       "    <tr style=\"text-align: right;\">\n",
       "      <th>Hourly Summary for 07-Feb-2021 (HE 20)</th>\n",
       "      <th>(+)  Committed + Available Short-Lead Generation</th>\n",
       "      <th>(+) NSI</th>\n",
       "      <th>(+) Behind-Meter Generation</th>\n",
       "      <th>Total Resources</th>\n",
       "      <th>(+) Forecasted Load</th>\n",
       "      <th>(+) Operating Reserve Requirement</th>\n",
       "      <th>Total Obligation</th>\n",
       "      <th>FORECASTED CAPACITY MARGIN</th>\n",
       "    </tr>\n",
       "  </thead>\n",
       "  <tbody>\n",
       "    <tr>\n",
       "      <th>Unnamed: 1</th>\n",
       "      <td>104289</td>\n",
       "      <td>3156</td>\n",
       "      <td>1203</td>\n",
       "      <td>108648</td>\n",
       "      <td>86118</td>\n",
       "      <td>2410</td>\n",
       "      <td>88528</td>\n",
       "      <td>20120</td>\n",
       "    </tr>\n",
       "  </tbody>\n",
       "</table>\n",
       "</div>"
      ],
      "text/plain": [
       "Hourly Summary for 07-Feb-2021 (HE 20) (+)  Committed + Available Short-Lead Generation  \\\n",
       "Unnamed: 1                                                                       104289   \n",
       "\n",
       "Hourly Summary for 07-Feb-2021 (HE 20) (+) NSI (+) Behind-Meter Generation  \\\n",
       "Unnamed: 1                                3156                        1203   \n",
       "\n",
       "Hourly Summary for 07-Feb-2021 (HE 20) Total Resources (+) Forecasted Load  \\\n",
       "Unnamed: 1                                      108648               86118   \n",
       "\n",
       "Hourly Summary for 07-Feb-2021 (HE 20) (+) Operating Reserve Requirement  \\\n",
       "Unnamed: 1                                                          2410   \n",
       "\n",
       "Hourly Summary for 07-Feb-2021 (HE 20) Total Obligation  \\\n",
       "Unnamed: 1                                        88528   \n",
       "\n",
       "Hourly Summary for 07-Feb-2021 (HE 20) FORECASTED CAPACITY MARGIN  \n",
       "Unnamed: 1                                                  20120  "
      ]
     },
     "execution_count": 5,
     "metadata": {},
     "output_type": "execute_result"
    }
   ],
   "source": [
    "df = pd.read_csv('miso/PeakHourOverview_{}.csv'.format(d))\n",
    "df = df.iloc[:-2].T\n",
    "df.columns = df.iloc[0]\n",
    "df = pd.DataFrame(df.iloc[-1])\n",
    "df.dropna(inplace=True)\n",
    "df.T"
   ]
  },
  {
   "cell_type": "code",
   "execution_count": 6,
   "metadata": {},
   "outputs": [],
   "source": [
    "csvs = glob('miso/*.csv')"
   ]
  },
  {
   "cell_type": "code",
   "execution_count": 7,
   "metadata": {},
   "outputs": [],
   "source": [
    "dfs = []\n",
    "for d, c in zip(date_strs, csvs):\n",
    "    df = pd.read_csv('miso/PeakHourOverview_{}.csv'.format(d))\n",
    "    df = df.iloc[:-2].T\n",
    "    df.columns = df.iloc[0]\n",
    "    df = pd.DataFrame(df.iloc[-1])\n",
    "    df.dropna(inplace=True)\n",
    "    df = df.T\n",
    "    df.index = [pd.to_datetime(d, format='%m%d%Y')]\n",
    "    dfs.append(df)\n",
    "\n",
    "full_df = pd.concat(dfs)"
   ]
  },
  {
   "cell_type": "code",
   "execution_count": 8,
   "metadata": {},
   "outputs": [
    {
     "data": {
      "text/plain": [
       "(769, 8)"
      ]
     },
     "execution_count": 8,
     "metadata": {},
     "output_type": "execute_result"
    }
   ],
   "source": [
    "full_df.shape"
   ]
  },
  {
   "cell_type": "code",
   "execution_count": 9,
   "metadata": {},
   "outputs": [
    {
     "data": {
      "text/html": [
       "<div>\n",
       "<style scoped>\n",
       "    .dataframe tbody tr th:only-of-type {\n",
       "        vertical-align: middle;\n",
       "    }\n",
       "\n",
       "    .dataframe tbody tr th {\n",
       "        vertical-align: top;\n",
       "    }\n",
       "\n",
       "    .dataframe thead th {\n",
       "        text-align: right;\n",
       "    }\n",
       "</style>\n",
       "<table border=\"1\" class=\"dataframe\">\n",
       "  <thead>\n",
       "    <tr style=\"text-align: right;\">\n",
       "      <th></th>\n",
       "      <th>(+)  Committed + Available Short-Lead Generation</th>\n",
       "      <th>(+) NSI</th>\n",
       "      <th>(+) Behind-Meter Generation</th>\n",
       "      <th>Total Resources</th>\n",
       "      <th>(+) Forecasted Load</th>\n",
       "      <th>(+) Operating Reserve Requirement</th>\n",
       "      <th>Total Obligation</th>\n",
       "      <th>FORECASTED CAPACITY MARGIN</th>\n",
       "    </tr>\n",
       "  </thead>\n",
       "  <tbody>\n",
       "    <tr>\n",
       "      <th>2019-01-01</th>\n",
       "      <td>101371</td>\n",
       "      <td>7900</td>\n",
       "      <td>914</td>\n",
       "      <td>110185</td>\n",
       "      <td>78664</td>\n",
       "      <td>2410</td>\n",
       "      <td>81074</td>\n",
       "      <td>29111</td>\n",
       "    </tr>\n",
       "    <tr>\n",
       "      <th>2019-01-02</th>\n",
       "      <td>111035</td>\n",
       "      <td>7540</td>\n",
       "      <td>910</td>\n",
       "      <td>119485</td>\n",
       "      <td>85092</td>\n",
       "      <td>2410</td>\n",
       "      <td>87502</td>\n",
       "      <td>31983</td>\n",
       "    </tr>\n",
       "    <tr>\n",
       "      <th>2019-01-03</th>\n",
       "      <td>114651</td>\n",
       "      <td>5735</td>\n",
       "      <td>929</td>\n",
       "      <td>121315</td>\n",
       "      <td>86508</td>\n",
       "      <td>2410</td>\n",
       "      <td>88918</td>\n",
       "      <td>32397</td>\n",
       "    </tr>\n",
       "    <tr>\n",
       "      <th>2019-01-04</th>\n",
       "      <td>108478</td>\n",
       "      <td>6649</td>\n",
       "      <td>961</td>\n",
       "      <td>116088</td>\n",
       "      <td>84147</td>\n",
       "      <td>2410</td>\n",
       "      <td>86557</td>\n",
       "      <td>29531</td>\n",
       "    </tr>\n",
       "    <tr>\n",
       "      <th>2019-01-05</th>\n",
       "      <td>104357</td>\n",
       "      <td>6114</td>\n",
       "      <td>820</td>\n",
       "      <td>111291</td>\n",
       "      <td>77116</td>\n",
       "      <td>2410</td>\n",
       "      <td>79526</td>\n",
       "      <td>31766</td>\n",
       "    </tr>\n",
       "  </tbody>\n",
       "</table>\n",
       "</div>"
      ],
      "text/plain": [
       "           (+)  Committed + Available Short-Lead Generation (+) NSI  \\\n",
       "2019-01-01                                           101371    7900   \n",
       "2019-01-02                                           111035    7540   \n",
       "2019-01-03                                           114651    5735   \n",
       "2019-01-04                                           108478    6649   \n",
       "2019-01-05                                           104357    6114   \n",
       "\n",
       "           (+) Behind-Meter Generation Total Resources (+) Forecasted Load  \\\n",
       "2019-01-01                         914          110185               78664   \n",
       "2019-01-02                         910          119485               85092   \n",
       "2019-01-03                         929          121315               86508   \n",
       "2019-01-04                         961          116088               84147   \n",
       "2019-01-05                         820          111291               77116   \n",
       "\n",
       "           (+) Operating Reserve Requirement Total Obligation  \\\n",
       "2019-01-01                              2410            81074   \n",
       "2019-01-02                              2410            87502   \n",
       "2019-01-03                              2410            88918   \n",
       "2019-01-04                              2410            86557   \n",
       "2019-01-05                              2410            79526   \n",
       "\n",
       "           FORECASTED CAPACITY MARGIN  \n",
       "2019-01-01                      29111  \n",
       "2019-01-02                      31983  \n",
       "2019-01-03                      32397  \n",
       "2019-01-04                      29531  \n",
       "2019-01-05                      31766  "
      ]
     },
     "execution_count": 9,
     "metadata": {},
     "output_type": "execute_result"
    }
   ],
   "source": [
    "full_df.head()"
   ]
  },
  {
   "cell_type": "code",
   "execution_count": 10,
   "metadata": {},
   "outputs": [
    {
     "data": {
      "text/plain": [
       "<AxesSubplot:>"
      ]
     },
     "execution_count": 10,
     "metadata": {},
     "output_type": "execute_result"
    },
    {
     "data": {
      "image/png": "[encoded data removed]",
      "text/plain": [
       "<Figure size 432x288 with 1 Axes>"
      ]
     },
     "metadata": {
      "needs_background": "light"
     },
     "output_type": "display_data"
    }
   ],
   "source": [
    "full_df['FORECASTED CAPACITY MARGIN'].plot()"
   ]
  },
  {
   "cell_type": "markdown",
   "metadata": {},
   "source": [
    "It's very odd that there is a huge dip there. Investigating further..."
   ]
  },
  {
   "cell_type": "code",
   "execution_count": 11,
   "metadata": {},
   "outputs": [
    {
     "data": {
      "text/html": [
       "<div>\n",
       "<style scoped>\n",
       "    .dataframe tbody tr th:only-of-type {\n",
       "        vertical-align: middle;\n",
       "    }\n",
       "\n",
       "    .dataframe tbody tr th {\n",
       "        vertical-align: top;\n",
       "    }\n",
       "\n",
       "    .dataframe thead th {\n",
       "        text-align: right;\n",
       "    }\n",
       "</style>\n",
       "<table border=\"1\" class=\"dataframe\">\n",
       "  <thead>\n",
       "    <tr style=\"text-align: right;\">\n",
       "      <th></th>\n",
       "      <th>(+)  Committed + Available Short-Lead Generation</th>\n",
       "      <th>(+) NSI</th>\n",
       "      <th>(+) Behind-Meter Generation</th>\n",
       "      <th>Total Resources</th>\n",
       "      <th>(+) Forecasted Load</th>\n",
       "      <th>(+) Operating Reserve Requirement</th>\n",
       "      <th>Total Obligation</th>\n",
       "      <th>FORECASTED CAPACITY MARGIN</th>\n",
       "    </tr>\n",
       "  </thead>\n",
       "  <tbody>\n",
       "    <tr>\n",
       "      <th>2020-08-08</th>\n",
       "      <td>0</td>\n",
       "      <td>8069</td>\n",
       "      <td>929</td>\n",
       "      <td>8998</td>\n",
       "      <td>101805</td>\n",
       "      <td>2410</td>\n",
       "      <td>104215</td>\n",
       "      <td>-95218</td>\n",
       "    </tr>\n",
       "  </tbody>\n",
       "</table>\n",
       "</div>"
      ],
      "text/plain": [
       "           (+)  Committed + Available Short-Lead Generation (+) NSI  \\\n",
       "2020-08-08                                                0    8069   \n",
       "\n",
       "           (+) Behind-Meter Generation Total Resources (+) Forecasted Load  \\\n",
       "2020-08-08                         929            8998              101805   \n",
       "\n",
       "           (+) Operating Reserve Requirement Total Obligation  \\\n",
       "2020-08-08                              2410           104215   \n",
       "\n",
       "           FORECASTED CAPACITY MARGIN  \n",
       "2020-08-08                     -95218  "
      ]
     },
     "execution_count": 11,
     "metadata": {},
     "output_type": "execute_result"
    }
   ],
   "source": [
    "full_df[full_df['FORECASTED CAPACITY MARGIN'] < 0]"
   ]
  },
  {
   "cell_type": "markdown",
   "metadata": {},
   "source": [
    "Something must've went wrong that day, like a major power generator going offline. Or, there was a fatfinger typo in the data. Otherwise, it looks like the data roughly seasonally oscillates -- lower predicted margin the summer, higher in the winter. At this point, I'm not sure why this is."
   ]
  },
  {
   "cell_type": "code",
   "execution_count": 12,
   "metadata": {},
   "outputs": [
    {
     "data": {
      "text/plain": [
       "<AxesSubplot:>"
      ]
     },
     "execution_count": 12,
     "metadata": {},
     "output_type": "execute_result"
    },
    {
     "data": {
      "image/png": "[encoded data removed]",
      "text/plain": [
       "<Figure size 432x288 with 1 Axes>"
      ]
     },
     "metadata": {
      "needs_background": "light"
     },
     "output_type": "display_data"
    }
   ],
   "source": [
    "full_df[full_df['FORECASTED CAPACITY MARGIN'] > 0]['FORECASTED CAPACITY MARGIN'].plot()"
   ]
  }
 ],
 "metadata": {
  "kernelspec": {
   "display_name": "Python 3",
   "language": "python",
   "name": "python3"
  },
  "language_info": {
   "codemirror_mode": {
    "name": "ipython",
    "version": 3
   },
   "file_extension": ".py",
   "mimetype": "text/x-python",
   "name": "python",
   "nbconvert_exporter": "python",
   "pygments_lexer": "ipython3",
   "version": "3.8.5"
  }
 },
 "nbformat": 4,
 "nbformat_minor": 4
}

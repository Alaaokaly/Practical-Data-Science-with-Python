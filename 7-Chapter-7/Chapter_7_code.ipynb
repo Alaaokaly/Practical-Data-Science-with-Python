{
 "cells": [
  {
   "cell_type": "markdown",
   "metadata": {},
   "source": [
    "# urllib basics"
   ]
  },
  {
   "cell_type": "code",
   "execution_count": 1,
   "metadata": {},
   "outputs": [],
   "source": [
    "from urllib.request import urlopen\n",
    "\n",
    "url = 'https://en.wikipedia.org/wiki/General-purpose_programming_language'\n",
    "page = urlopen(url).read()"
   ]
  },
  {
   "cell_type": "code",
   "execution_count": 2,
   "metadata": {},
   "outputs": [
    {
     "data": {
      "text/plain": [
       "b'<!DOCTYPE html>\\n<html class=\"client-nojs\" lang=\"en'"
      ]
     },
     "execution_count": 2,
     "metadata": {},
     "output_type": "execute_result"
    }
   ],
   "source": [
    "page[:50]"
   ]
  },
  {
   "cell_type": "code",
   "execution_count": 3,
   "metadata": {},
   "outputs": [
    {
     "data": {
      "text/plain": [
       "'<!DOCTYPE html>\\n<html class=\"client-nojs\" lang=\"en'"
      ]
     },
     "execution_count": 3,
     "metadata": {},
     "output_type": "execute_result"
    }
   ],
   "source": [
    "page[:50].decode('utf-8')"
   ]
  },
  {
   "cell_type": "code",
   "execution_count": 4,
   "metadata": {},
   "outputs": [
    {
     "data": {
      "text/plain": [
       "b'ion(){mw.config.set({\"wgBackendResponseTime\":126,\"wgHostname\":\"mw1330\"});});</script>\\n</body></html>'"
      ]
     },
     "execution_count": 4,
     "metadata": {},
     "output_type": "execute_result"
    }
   ],
   "source": [
    "page[-100:]"
   ]
  },
  {
   "cell_type": "code",
   "execution_count": 5,
   "metadata": {},
   "outputs": [],
   "source": [
    "from bs4 import UnicodeDammit"
   ]
  },
  {
   "cell_type": "code",
   "execution_count": 6,
   "metadata": {},
   "outputs": [
    {
     "data": {
      "text/plain": [
       "'utf-8'"
      ]
     },
     "execution_count": 6,
     "metadata": {},
     "output_type": "execute_result"
    }
   ],
   "source": [
    "suggestion = UnicodeDammit(page)\n",
    "suggestion.original_encoding"
   ]
  },
  {
   "cell_type": "code",
   "execution_count": 7,
   "metadata": {},
   "outputs": [
    {
     "data": {
      "text/plain": [
       "b'PK\\x03\\x04\\n\\x00\\x08\\x08\\x08\\x00j\\xa4CR\\x00\\x00\\x00\\x00\\x00\\x00'"
      ]
     },
     "execution_count": 7,
     "metadata": {},
     "output_type": "execute_result"
    }
   ],
   "source": [
    "datafile_url = 'https://docs.misoenergy.org/marketreports/20210203_mom.xlsx'\n",
    "mom_data = urlopen(datafile_url).read()\n",
    "mom_data[:20]"
   ]
  },
  {
   "cell_type": "code",
   "execution_count": 8,
   "metadata": {},
   "outputs": [
    {
     "name": "stderr",
     "output_type": "stream",
     "text": [
      "C:\\Users\\words\\anaconda3\\envs\\datasci\\lib\\site-packages\\openpyxl\\styles\\stylesheet.py:221: UserWarning: Workbook contains no default style, apply openpyxl's default\n",
      "  warn(\"Workbook contains no default style, apply openpyxl's default\")\n"
     ]
    },
    {
     "data": {
      "text/html": [
       "<div>\n",
       "<style scoped>\n",
       "    .dataframe tbody tr th:only-of-type {\n",
       "        vertical-align: middle;\n",
       "    }\n",
       "\n",
       "    .dataframe tbody tr th {\n",
       "        vertical-align: top;\n",
       "    }\n",
       "\n",
       "    .dataframe thead th {\n",
       "        text-align: right;\n",
       "    }\n",
       "</style>\n",
       "<table border=\"1\" class=\"dataframe\">\n",
       "  <thead>\n",
       "    <tr style=\"text-align: right;\">\n",
       "      <th></th>\n",
       "      <th>Unnamed: 0</th>\n",
       "      <th>Multiday Operating Margin Forecast Report</th>\n",
       "      <th>Unnamed: 2</th>\n",
       "      <th>Unnamed: 3</th>\n",
       "      <th>Unnamed: 4</th>\n",
       "      <th>Unnamed: 5</th>\n",
       "      <th>Unnamed: 6</th>\n",
       "    </tr>\n",
       "  </thead>\n",
       "  <tbody>\n",
       "    <tr>\n",
       "      <th>0</th>\n",
       "      <td>NaN</td>\n",
       "      <td>Publish Date: February 03, 2021</td>\n",
       "      <td>NaN</td>\n",
       "      <td>NaN</td>\n",
       "      <td>NaN</td>\n",
       "      <td>NaN</td>\n",
       "      <td>NaN</td>\n",
       "    </tr>\n",
       "    <tr>\n",
       "      <th>1</th>\n",
       "      <td>NaN</td>\n",
       "      <td>Market Date: February 03, 2021</td>\n",
       "      <td>NaN</td>\n",
       "      <td>NaN</td>\n",
       "      <td>NaN</td>\n",
       "      <td>NaN</td>\n",
       "      <td>NaN</td>\n",
       "    </tr>\n",
       "    <tr>\n",
       "      <th>2</th>\n",
       "      <td>NaN</td>\n",
       "      <td>NaN</td>\n",
       "      <td>NaN</td>\n",
       "      <td>NaN</td>\n",
       "      <td>NaN</td>\n",
       "      <td>NaN</td>\n",
       "      <td>NaN</td>\n",
       "    </tr>\n",
       "    <tr>\n",
       "      <th>3</th>\n",
       "      <td>NaN</td>\n",
       "      <td>2/4/21 HE 20**</td>\n",
       "      <td>2/5/21 HE 10**</td>\n",
       "      <td>2/6/21 HE 11</td>\n",
       "      <td>2/7/21 HE 20</td>\n",
       "      <td>2/8/21 HE 09**</td>\n",
       "      <td>2/9/21 HE 20**</td>\n",
       "    </tr>\n",
       "    <tr>\n",
       "      <th>4</th>\n",
       "      <td>RESOURCE COMMITTED</td>\n",
       "      <td>73143.8</td>\n",
       "      <td>70132.1</td>\n",
       "      <td>69823.7</td>\n",
       "      <td>80472.5</td>\n",
       "      <td>85188.6</td>\n",
       "      <td>82408.8</td>\n",
       "    </tr>\n",
       "  </tbody>\n",
       "</table>\n",
       "</div>"
      ],
      "text/plain": [
       "           Unnamed: 0 Multiday Operating Margin Forecast Report  \\\n",
       "0                 NaN           Publish Date: February 03, 2021   \n",
       "1                 NaN            Market Date: February 03, 2021   \n",
       "2                 NaN                                       NaN   \n",
       "3                 NaN                            2/4/21 HE 20**   \n",
       "4  RESOURCE COMMITTED                                   73143.8   \n",
       "\n",
       "       Unnamed: 2    Unnamed: 3    Unnamed: 4      Unnamed: 5      Unnamed: 6  \n",
       "0             NaN           NaN           NaN             NaN             NaN  \n",
       "1             NaN           NaN           NaN             NaN             NaN  \n",
       "2             NaN           NaN           NaN             NaN             NaN  \n",
       "3  2/5/21 HE 10**  2/6/21 HE 11  2/7/21 HE 20  2/8/21 HE 09**  2/9/21 HE 20**  \n",
       "4         70132.1       69823.7       80472.5         85188.6         82408.8  "
      ]
     },
     "execution_count": 8,
     "metadata": {},
     "output_type": "execute_result"
    }
   ],
   "source": [
    "import pandas as pd\n",
    "df = pd.read_excel(mom_data)\n",
    "df.head()"
   ]
  },
  {
   "cell_type": "code",
   "execution_count": 9,
   "metadata": {},
   "outputs": [
    {
     "name": "stderr",
     "output_type": "stream",
     "text": [
      "C:\\Users\\words\\anaconda3\\envs\\datasci\\lib\\site-packages\\openpyxl\\styles\\stylesheet.py:221: UserWarning: Workbook contains no default style, apply openpyxl's default\n",
      "  warn(\"Workbook contains no default style, apply openpyxl's default\")\n"
     ]
    },
    {
     "data": {
      "text/html": [
       "<div>\n",
       "<style scoped>\n",
       "    .dataframe tbody tr th:only-of-type {\n",
       "        vertical-align: middle;\n",
       "    }\n",
       "\n",
       "    .dataframe tbody tr th {\n",
       "        vertical-align: top;\n",
       "    }\n",
       "\n",
       "    .dataframe thead th {\n",
       "        text-align: right;\n",
       "    }\n",
       "</style>\n",
       "<table border=\"1\" class=\"dataframe\">\n",
       "  <thead>\n",
       "    <tr style=\"text-align: right;\">\n",
       "      <th></th>\n",
       "      <th>Unnamed: 0</th>\n",
       "      <th>Multiday Operating Margin Forecast Report</th>\n",
       "      <th>Unnamed: 2</th>\n",
       "      <th>Unnamed: 3</th>\n",
       "      <th>Unnamed: 4</th>\n",
       "      <th>Unnamed: 5</th>\n",
       "      <th>Unnamed: 6</th>\n",
       "    </tr>\n",
       "  </thead>\n",
       "  <tbody>\n",
       "    <tr>\n",
       "      <th>0</th>\n",
       "      <td>NaN</td>\n",
       "      <td>Publish Date: February 03, 2021</td>\n",
       "      <td>NaN</td>\n",
       "      <td>NaN</td>\n",
       "      <td>NaN</td>\n",
       "      <td>NaN</td>\n",
       "      <td>NaN</td>\n",
       "    </tr>\n",
       "    <tr>\n",
       "      <th>1</th>\n",
       "      <td>NaN</td>\n",
       "      <td>Market Date: February 03, 2021</td>\n",
       "      <td>NaN</td>\n",
       "      <td>NaN</td>\n",
       "      <td>NaN</td>\n",
       "      <td>NaN</td>\n",
       "      <td>NaN</td>\n",
       "    </tr>\n",
       "    <tr>\n",
       "      <th>2</th>\n",
       "      <td>NaN</td>\n",
       "      <td>NaN</td>\n",
       "      <td>NaN</td>\n",
       "      <td>NaN</td>\n",
       "      <td>NaN</td>\n",
       "      <td>NaN</td>\n",
       "      <td>NaN</td>\n",
       "    </tr>\n",
       "    <tr>\n",
       "      <th>3</th>\n",
       "      <td>NaN</td>\n",
       "      <td>2/4/21 HE 20**</td>\n",
       "      <td>2/5/21 HE 10**</td>\n",
       "      <td>2/6/21 HE 11</td>\n",
       "      <td>2/7/21 HE 20</td>\n",
       "      <td>2/8/21 HE 09**</td>\n",
       "      <td>2/9/21 HE 20**</td>\n",
       "    </tr>\n",
       "    <tr>\n",
       "      <th>4</th>\n",
       "      <td>RESOURCE COMMITTED</td>\n",
       "      <td>73143.8</td>\n",
       "      <td>70132.1</td>\n",
       "      <td>69823.7</td>\n",
       "      <td>80472.5</td>\n",
       "      <td>85188.6</td>\n",
       "      <td>82408.8</td>\n",
       "    </tr>\n",
       "  </tbody>\n",
       "</table>\n",
       "</div>"
      ],
      "text/plain": [
       "           Unnamed: 0 Multiday Operating Margin Forecast Report  \\\n",
       "0                 NaN           Publish Date: February 03, 2021   \n",
       "1                 NaN            Market Date: February 03, 2021   \n",
       "2                 NaN                                       NaN   \n",
       "3                 NaN                            2/4/21 HE 20**   \n",
       "4  RESOURCE COMMITTED                                   73143.8   \n",
       "\n",
       "       Unnamed: 2    Unnamed: 3    Unnamed: 4      Unnamed: 5      Unnamed: 6  \n",
       "0             NaN           NaN           NaN             NaN             NaN  \n",
       "1             NaN           NaN           NaN             NaN             NaN  \n",
       "2             NaN           NaN           NaN             NaN             NaN  \n",
       "3  2/5/21 HE 10**  2/6/21 HE 11  2/7/21 HE 20  2/8/21 HE 09**  2/9/21 HE 20**  \n",
       "4         70132.1       69823.7       80472.5         85188.6         82408.8  "
      ]
     },
     "execution_count": 9,
     "metadata": {},
     "output_type": "execute_result"
    }
   ],
   "source": [
    "df = pd.read_excel(datafile_url)\n",
    "df.head()"
   ]
  },
  {
   "cell_type": "code",
   "execution_count": 10,
   "metadata": {},
   "outputs": [],
   "source": [
    "df.to_excel('mom_report.xlsx')"
   ]
  },
  {
   "cell_type": "code",
   "execution_count": 11,
   "metadata": {},
   "outputs": [],
   "source": [
    "with open('mom_report.xlsx', 'wb') as f:\n",
    "    f.write(mom_data)"
   ]
  },
  {
   "cell_type": "code",
   "execution_count": 12,
   "metadata": {},
   "outputs": [
    {
     "name": "stderr",
     "output_type": "stream",
     "text": [
      "C:\\Users\\words\\anaconda3\\envs\\datasci\\lib\\site-packages\\openpyxl\\styles\\stylesheet.py:221: UserWarning: Workbook contains no default style, apply openpyxl's default\n",
      "  warn(\"Workbook contains no default style, apply openpyxl's default\")\n"
     ]
    },
    {
     "data": {
      "text/html": [
       "<div>\n",
       "<style scoped>\n",
       "    .dataframe tbody tr th:only-of-type {\n",
       "        vertical-align: middle;\n",
       "    }\n",
       "\n",
       "    .dataframe tbody tr th {\n",
       "        vertical-align: top;\n",
       "    }\n",
       "\n",
       "    .dataframe thead th {\n",
       "        text-align: right;\n",
       "    }\n",
       "</style>\n",
       "<table border=\"1\" class=\"dataframe\">\n",
       "  <thead>\n",
       "    <tr style=\"text-align: right;\">\n",
       "      <th></th>\n",
       "      <th>Unnamed: 0</th>\n",
       "      <th>Multiday Operating Margin Forecast Report</th>\n",
       "      <th>Unnamed: 2</th>\n",
       "      <th>Unnamed: 3</th>\n",
       "      <th>Unnamed: 4</th>\n",
       "      <th>Unnamed: 5</th>\n",
       "      <th>Unnamed: 6</th>\n",
       "    </tr>\n",
       "  </thead>\n",
       "  <tbody>\n",
       "    <tr>\n",
       "      <th>0</th>\n",
       "      <td>NaN</td>\n",
       "      <td>Publish Date: February 03, 2021</td>\n",
       "      <td>NaN</td>\n",
       "      <td>NaN</td>\n",
       "      <td>NaN</td>\n",
       "      <td>NaN</td>\n",
       "      <td>NaN</td>\n",
       "    </tr>\n",
       "    <tr>\n",
       "      <th>1</th>\n",
       "      <td>NaN</td>\n",
       "      <td>Market Date: February 03, 2021</td>\n",
       "      <td>NaN</td>\n",
       "      <td>NaN</td>\n",
       "      <td>NaN</td>\n",
       "      <td>NaN</td>\n",
       "      <td>NaN</td>\n",
       "    </tr>\n",
       "    <tr>\n",
       "      <th>2</th>\n",
       "      <td>NaN</td>\n",
       "      <td>NaN</td>\n",
       "      <td>NaN</td>\n",
       "      <td>NaN</td>\n",
       "      <td>NaN</td>\n",
       "      <td>NaN</td>\n",
       "      <td>NaN</td>\n",
       "    </tr>\n",
       "    <tr>\n",
       "      <th>3</th>\n",
       "      <td>NaN</td>\n",
       "      <td>2/4/21 HE 20**</td>\n",
       "      <td>2/5/21 HE 10**</td>\n",
       "      <td>2/6/21 HE 11</td>\n",
       "      <td>2/7/21 HE 20</td>\n",
       "      <td>2/8/21 HE 09**</td>\n",
       "      <td>2/9/21 HE 20**</td>\n",
       "    </tr>\n",
       "    <tr>\n",
       "      <th>4</th>\n",
       "      <td>RESOURCE COMMITTED</td>\n",
       "      <td>73143.8</td>\n",
       "      <td>70132.1</td>\n",
       "      <td>69823.7</td>\n",
       "      <td>80472.5</td>\n",
       "      <td>85188.6</td>\n",
       "      <td>82408.8</td>\n",
       "    </tr>\n",
       "  </tbody>\n",
       "</table>\n",
       "</div>"
      ],
      "text/plain": [
       "           Unnamed: 0 Multiday Operating Margin Forecast Report  \\\n",
       "0                 NaN           Publish Date: February 03, 2021   \n",
       "1                 NaN            Market Date: February 03, 2021   \n",
       "2                 NaN                                       NaN   \n",
       "3                 NaN                            2/4/21 HE 20**   \n",
       "4  RESOURCE COMMITTED                                   73143.8   \n",
       "\n",
       "       Unnamed: 2    Unnamed: 3    Unnamed: 4      Unnamed: 5      Unnamed: 6  \n",
       "0             NaN           NaN           NaN             NaN             NaN  \n",
       "1             NaN           NaN           NaN             NaN             NaN  \n",
       "2             NaN           NaN           NaN             NaN             NaN  \n",
       "3  2/5/21 HE 10**  2/6/21 HE 11  2/7/21 HE 20  2/8/21 HE 09**  2/9/21 HE 20**  \n",
       "4         70132.1       69823.7       80472.5         85188.6         82408.8  "
      ]
     },
     "execution_count": 12,
     "metadata": {},
     "output_type": "execute_result"
    }
   ],
   "source": [
    "from urllib.request import urlretrieve\n",
    "\n",
    "urlretrieve(datafile_url, 'mom_report.xlsx')\n",
    "\n",
    "df = pd.read_excel('mom_report.xlsx')\n",
    "df.head()"
   ]
  },
  {
   "cell_type": "markdown",
   "metadata": {},
   "source": [
    "## requests"
   ]
  },
  {
   "cell_type": "code",
   "execution_count": 13,
   "metadata": {},
   "outputs": [
    {
     "data": {
      "text/plain": [
       "'<!DOCTYPE html>\\n<html class=\"client-nojs\" lang=\"en'"
      ]
     },
     "execution_count": 13,
     "metadata": {},
     "output_type": "execute_result"
    }
   ],
   "source": [
    "import requests as rq\n",
    "\n",
    "url = 'https://en.wikipedia.org/wiki/General-purpose_programming_language'\n",
    "response = rq.get(url)\n",
    "response.text[:50]"
   ]
  },
  {
   "cell_type": "code",
   "execution_count": 14,
   "metadata": {},
   "outputs": [
    {
     "data": {
      "text/plain": [
       "b'<!DOCTYPE html>\\n<html class=\"client-nojs\" lang=\"en\" dir=\"ltr\">\\n<head>\\n<meta charset=\"UTF-8\"/>\\n<title>General-purpose programming language - Wikipedia</title>\\n<script>document.documentElement.className=\"client-js\";RLCONF={\"wgBreakFrames\":!1,\"wgSeparatorTransformTable\":[\"\",\"\"],\"wgDigitTransformTable\":[\"\",\"\"],\"wgDefaultDateFormat\":\"dmy\",\"wgMonthNames\":[\"\",\"January\",\"February\",\"March\",\"April\",\"May\",\"June\",\"July\",\"August\",\"September\",\"October\",\"November\",\"December\"],\"wgRequestId\":\"dabbe61c-c3ba-4d5f-8990-634f91aacdcd\",\"wgCSPNonce\":!1,\"wgCanonicalNamespace\":\"\",\"wgCanonicalSpecialPageName\":!1,\"wgNamespaceNumber\":0,\"wgPageName\":\"General-purpose_programming_language\",\"wgTitle\":\"General-purpose programming language\",\"wgCurRevisionId\":1042781005,\"wgRevisionId\":1042781005,\"wgArticleId\":891926,\"wgIsArticle\":!0,\"wgIsRedirect\":!1,\"wgAction\":\"view\",\"wgUserName\":null,\"wgUserGroups\":[\"*\"],\"wgCategories\":[\"Articles with short description\",\"Articles with long short description\",\"Short description is different from Wikidata\",\"Articles needing additional references from January 2021\",\"All articles needing additional references\",\"All stub articles\",\\n\"Programming languages\",\"Programming language topic stubs\"],\"wgPageContentLanguage\":\"en\",\"wgPageContentModel\":\"wikitext\",\"wgRelevantPageName\":\"General-purpose_programming_language\",\"wgRelevantArticleId\":891926,\"wgIsProbablyEditable\":!0,\"wgRelevantPageIsProbablyEditable\":!0,\"wgRestrictionEdit\":[],\"wgRestrictionMove\":[],\"wgFlaggedRevsParams\":{\"tags\":{\"status\":{\"levels\":-1}}},\"wgMediaViewerOnClick\":!0,\"wgMediaViewerEnabledByDefault\":!0,\"wgPopupsFlags\":10,\"wgVisualEditor\":{\"pageLanguageCode\":\"en\",\"pageLanguageDir\":\"ltr\",\"pageVariantFallbacks\":\"en\"},\"wgMFDisplayWikibaseDescriptions\":{\"search\":!0,\"nearby\":!0,\"watchlist\":!0,\"tagline\":!1},\"wgWMESchemaEditAttemptStepOversample\":!1,\"wgULSCurrentAutonym\":\"English\",\"wgNoticeProject\":\"wikipedia\",\"wgEditSubmitButtonLabelPublish\":!0,\"wgULSPosition\":\"interlanguage\",\"wgULSisCompactLinksEnabled\":!0,\"wgGENewcomerTasksGuidanceEnabled\":!0,\"wgGEAskQuestionEnabled\":!1,\"wgGELinkRecommendationsFrontendEnabled\":!1,\\n\"wgCentralAuthMobileDomain\":!1,\"wgWikibaseItemId\":\"Q951497\"};RLSTATE={\"ext.globalCssJs.user.styles\":\"ready\",\"site.styles\":\"ready\",\"noscript\":\"ready\",\"user.styles\":\"ready\",\"ext.globalCssJs.user\":\"ready\",\"user\":\"ready\",\"user.options\":\"loading\",\"ext.cite.styles\":\"ready\",\"skins.vector.styles.legacy\":\"ready\",\"ext.visualEditor.desktopArticleTarget.noscript\":\"ready\",\"ext.uls.interlanguage\":\"ready\",\"ext.wikimediaBadges\":\"ready\",\"wikibase.client.init\":\"ready\"};RLPAGEMODULES=[\"ext.cite.ux-enhancements\",\"site\",\"mediawiki.page.ready\",\"mediawiki.toc\",\"skins.vector.legacy.js\",\"ext.gadget.ReferenceTooltips\",\"ext.gadget.charinsert\",\"ext.gadget.extra-toolbar-buttons\",\"ext.gadget.refToolbar\",\"ext.gadget.switcher\",\"mmv.head\",\"mmv.bootstrap.autostart\",\"ext.popups\",\"ext.visualEditor.desktopArticleTarget.init\",\"ext.visualEditor.targetLoader\",\"ext.eventLogging\",\"ext.wikimediaEvents\",\"ext.navigationTiming\",\"ext.uls.compactlinks\",\"ext.uls.interface\",\"ext.cx.eventlogging.campaigns\",\"ext.centralNotice.geoIP\",\\n\"ext.centralNotice.startUp\",\"ext.centralauth.centralautologin\",\"ext.growthExperiments.SuggestedEditSession\"];</script>\\n<script>(RLQ=window.RLQ||[]).push(function(){mw.loader.implement(\"user.options@1hzgi\",function($,jQuery,require,module){/*@nomin*/mw.user.tokens.set({\"patrolToken\":\"+\\\\\\\\\",\"watchToken\":\"+\\\\\\\\\",\"csrfToken\":\"+\\\\\\\\\"});\\n});});</script>\\n<link rel=\"stylesheet\" href=\"/w/load.php?lang=en&amp;modules=ext.cite.styles%7Cext.uls.interlanguage%7Cext.visualEditor.desktopArticleTarget.noscript%7Cext.wikimediaBadges%7Cskins.vector.styles.legacy%7Cwikibase.client.init&amp;only=styles&amp;skin=vector\"/>\\n<script async=\"\" src=\"/w/load.php?lang=en&amp;modules=startup&amp;only=scripts&amp;raw=1&amp;skin=vector\"></script>\\n<meta name=\"ResourceLoaderDynamicStyles\" content=\"\"/>\\n<link rel=\"stylesheet\" href=\"/w/load.php?lang=en&amp;modules=site.styles&amp;only=styles&amp;skin=vector\"/>\\n<meta name=\"generator\" content=\"MediaWiki 1.37.0-wmf.23\"/>\\n<meta name=\"referrer\" content=\"origin\"/>\\n<meta name=\"referrer\" content=\"origin-when-crossorigin\"/>\\n<meta name=\"referrer\" content=\"origin-when-cross-origin\"/>\\n<meta name=\"format-detection\" content=\"telephone=no\"/>\\n<meta property=\"og:title\" content=\"General-purpose programming language - Wikipedia\"/>\\n<meta property=\"og:type\" content=\"website\"/>\\n<link rel=\"preconnect\" href=\"//upload.wikimedia.org\"/>\\n<link rel=\"alternate\" media=\"only screen and (max-width: 720px)\" href=\"//en.m.wikipedia.org/wiki/General-purpose_programming_language\"/>\\n<link rel=\"alternate\" type=\"application/x-wiki\" title=\"Edit this page\" href=\"/w/index.php?title=General-purpose_programming_language&amp;action=edit\"/>\\n<link rel=\"edit\" title=\"Edit this page\" href=\"/w/index.php?title=General-purpose_programming_language&amp;action=edit\"/>\\n<link rel=\"apple-touch-icon\" href=\"/static/apple-touch/wikipedia.png\"/>\\n<link rel=\"shortcut icon\" href=\"/static/favicon/wikipedia.ico\"/>\\n<link rel=\"search\" type=\"application/opensearchdescription+xml\" href=\"/w/opensearch_desc.php\" title=\"Wikipedia (en)\"/>\\n<link rel=\"EditURI\" type=\"application/rsd+xml\" href=\"//en.wikipedia.org/w/api.php?action=rsd\"/>\\n<link rel=\"license\" href=\"//creativecommons.org/licenses/by-sa/3.0/\"/>\\n<link rel=\"canonical\" href=\"https://en.wikipedia.org/wiki/General-purpose_programming_language\"/>\\n<link rel=\"dns-prefetch\" href=\"//meta.wikimedia.org\" />\\n<link rel=\"dns-prefetch\" href=\"//login.wikimedia.org\"/>\\n</head>\\n<body class=\"mediawiki ltr sitedir-ltr mw-hide-empty-elt ns-0 ns-subject mw-editable page-General-purpose_programming_language rootpage-General-purpose_programming_language skin-vector action-view skin-vector-legacy\"><div id=\"mw-page-base\" class=\"noprint\"></div>\\n<div id=\"mw-head-base\" class=\"noprint\"></div>\\n<div id=\"content\" class=\"mw-body\" role=\"main\">\\n\\t<a id=\"top\"></a>\\n\\t<div id=\"siteNotice\"><!-- CentralNotice --></div>\\n\\t<div class=\"mw-indicators\">\\n\\t</div>\\n\\t<h1 id=\"firstHeading\" class=\"firstHeading\" >General-purpose programming language</h1>\\n\\t<div id=\"bodyContent\" class=\"vector-body\">\\n\\t\\t<div id=\"siteSub\" class=\"noprint\">From Wikipedia, the free encyclopedia</div>\\n\\t\\t<div id=\"contentSub\"></div>\\n\\t\\t<div id=\"contentSub2\"></div>\\n\\t\\t\\n\\t\\t<div id=\"jump-to-nav\"></div>\\n\\t\\t<a class=\"mw-jump-link\" href=\"#mw-head\">Jump to navigation</a>\\n\\t\\t<a class=\"mw-jump-link\" href=\"#searchInput\">Jump to search</a>\\n\\t\\t<div id=\"mw-content-text\" class=\"mw-body-content mw-content-ltr\" lang=\"en\" dir=\"ltr\"><div class=\"mw-parser-output\"><div class=\"shortdescription nomobile noexcerpt noprint searchaux\" style=\"display:none\">Programming language designed to be used for building software in a wide variety of application domains</div>\\n<table class=\"box-One_source plainlinks metadata ambox ambox-content ambox-one_source\" role=\"presentation\"><tbody><tr><td class=\"mbox-image\"><div style=\"width:52px\"><a href=\"/wiki/File:Question_book-new.svg\" class=\"image\"><img alt=\"Question book-new.svg\" src=\"//upload.wikimedia.org/wikipedia/en/thumb/9/99/Question_book-new.svg/50px-Question_book-new.svg.png\" decoding=\"async\" width=\"50\" height=\"39\" srcset=\"//upload.wikimedia.org/wikipedia/en/thumb/9/99/Question_book-new.svg/75px-Question_book-new.svg.png 1.5x, //upload.wikimedia.org/wikipedia/en/thumb/9/99/Question_book-new.svg/100px-Question_book-new.svg.png 2x\" data-file-width=\"512\" data-file-height=\"399\" /></a></div></td><td class=\"mbox-text\"><div class=\"mbox-text-span\">This article <b>relies largely or entirely on a <a href=\"/wiki/Wikipedia:Articles_with_a_single_source\" title=\"Wikipedia:Articles with a single source\">single source</a></b>.<span class=\"hide-when-compact\"> Relevant discussion may be found on the <a href=\"/wiki/Talk:General-purpose_programming_language##\" title=\"Talk:General-purpose programming language\">talk page</a>. Please help <a class=\"external text\" href=\"https://en.wikipedia.org/w/index.php?title=General-purpose_programming_language&amp;action=edit\">improve this article</a> by <a href=\"/wiki/Help:Referencing_for_beginners\" title=\"Help:Referencing for beginners\">introducing  citations to additional sources</a>.<br /><small><span class=\"plainlinks\"><i>Find sources:</i>&#160;<a rel=\"nofollow\" class=\"external text\" href=\"//www.google.com/search?as_eq=wikipedia&amp;q=%22General-purpose+programming+language%22\">\"General-purpose programming language\"</a>&#160;\\xe2\\x80\\x93&#160;<a rel=\"nofollow\" class=\"external text\" href=\"//www.google.com/search?tbm=nws&amp;q=%22General-purpose+programming+language%22+-wikipedia\">news</a>&#160;<b>\\xc2\\xb7</b> <a rel=\"nofollow\" class=\"external text\" href=\"//www.google.com/search?&amp;q=%22General-purpose+programming+language%22&amp;tbs=bkt:s&amp;tbm=bks\">newspapers</a>&#160;<b>\\xc2\\xb7</b> <a rel=\"nofollow\" class=\"external text\" href=\"//www.google.com/search?tbs=bks:1&amp;q=%22General-purpose+programming+language%22+-wikipedia\">books</a>&#160;<b>\\xc2\\xb7</b> <a rel=\"nofollow\" class=\"external text\" href=\"//scholar.google.com/scholar?q=%22General-purpose+programming+language%22\">scholar</a>&#160;<b>\\xc2\\xb7</b> <a rel=\"nofollow\" class=\"external text\" href=\"https://www.jstor.org/action/doBasicSearch?Query=%22General-purpose+programming+language%22&amp;acc=on&amp;wc=on\">JSTOR</a></span></small></span>  <span class=\"date-container\"><i>(<span class=\"date\">January 2021</span>)</i></span></div></td></tr></tbody></table>\\n<p>In <a href=\"/wiki/Computer_software\" class=\"mw-redirect\" title=\"Computer software\">computer software</a>, a <b>general-purpose programming language</b> is a <a href=\"/wiki/Programming_language\" title=\"Programming language\">programming language</a> dedicated to a <a href=\"/wiki/General-purpose_language\" title=\"General-purpose language\">general-purpose</a>, designed to be used for building <a href=\"/wiki/Software\" title=\"Software\">software</a> in a wide variety of application <a href=\"/wiki/Domain_(software_engineering)\" title=\"Domain (software engineering)\">domains</a>.\\n</p>\\n<div id=\"toc\" class=\"toc\" role=\"navigation\" aria-labelledby=\"mw-toc-heading\"><input type=\"checkbox\" role=\"button\" id=\"toctogglecheckbox\" class=\"toctogglecheckbox\" style=\"display:none\" /><div class=\"toctitle\" lang=\"en\" dir=\"ltr\"><h2 id=\"mw-toc-heading\">Contents</h2><span class=\"toctogglespan\"><label class=\"toctogglelabel\" for=\"toctogglecheckbox\"></label></span></div>\\n<ul>\\n<li class=\"toclevel-1 tocsection-1\"><a href=\"#History\"><span class=\"tocnumber\">1</span> <span class=\"toctext\">History</span></a></li>\\n<li class=\"toclevel-1 tocsection-2\"><a href=\"#Definitions\"><span class=\"tocnumber\">2</span> <span class=\"toctext\">Definitions</span></a></li>\\n<li class=\"toclevel-1 tocsection-3\"><a href=\"#List\"><span class=\"tocnumber\">3</span> <span class=\"toctext\">List</span></a></li>\\n<li class=\"toclevel-1 tocsection-4\"><a href=\"#Notes\"><span class=\"tocnumber\">4</span> <span class=\"toctext\">Notes</span></a></li>\\n<li class=\"toclevel-1 tocsection-5\"><a href=\"#See_also\"><span class=\"tocnumber\">5</span> <span class=\"toctext\">See also</span></a></li>\\n</ul>\\n</div>\\n\\n<h2><span class=\"mw-headline\" id=\"History\">History</span><span class=\"mw-editsection\"><span class=\"mw-editsection-bracket\">[</span><a href=\"/w/index.php?title=General-purpose_programming_language&amp;action=edit&amp;section=1\" title=\"Edit section: History\">edit</a><span class=\"mw-editsection-bracket\">]</span></span></h2>\\n<p>Early programming languages were designed either for scientific computing (numerical calculations) or commercial data processing, as was computer hardware. Scientific languages such as <a href=\"/wiki/Fortran\" title=\"Fortran\">Fortran</a> and <a href=\"/wiki/ALGOL\" title=\"ALGOL\">Algol</a> supported floating-point calculations and multidimensional arrays, while business languages such as <a href=\"/wiki/COBOL\" title=\"COBOL\">COBOL</a> supported fixed-field file formats and <a href=\"/wiki/Record_(computer_science)\" title=\"Record (computer science)\">data records</a>. Much less widely used were specialized languages such as <a href=\"/wiki/IPL-V\" class=\"mw-redirect\" title=\"IPL-V\">IPL-V</a> and <a href=\"/wiki/LISP\" class=\"mw-redirect\" title=\"LISP\">LISP</a> for <a href=\"/wiki/List_(abstract_data_type)\" title=\"List (abstract data type)\">symbolic list processing</a>; <a href=\"/wiki/COMIT\" title=\"COMIT\">COMIT</a> for string manipulation; <a href=\"/wiki/APT_(programming_language)\" title=\"APT (programming language)\">APT</a> for <a href=\"/wiki/Numerical_control\" title=\"Numerical control\">numerically controlled machines</a>. <a href=\"/wiki/Systems_programming\" title=\"Systems programming\">Systems programming</a> requiring <a href=\"/wiki/Pointer_(computer_programming)\" title=\"Pointer (computer programming)\">pointer manipulation</a> was typically done in <a href=\"/wiki/Assembly_language\" title=\"Assembly language\">assembly language</a>, though <a href=\"/wiki/JOVIAL\" title=\"JOVIAL\">JOVIAL</a> was used for some military applications.<sup id=\"cite_ref-sammet_1-0\" class=\"reference\"><a href=\"#cite_note-sammet-1\">&#91;1&#93;</a></sup>\\n</p><p><a href=\"/wiki/IBM\" title=\"IBM\">IBM</a>\\'s <a href=\"/wiki/IBM_System/360\" title=\"IBM System/360\">System/360</a>, announced in 1964, was designed as a unified hardware architecture supporting both scientific and commercial applications, and IBM developed <a href=\"/wiki/PL/I\" title=\"PL/I\">PL/I</a> for it as a single, general-purpose language that supported scientific, commercial, and systems programming. Indeed, PL/I was used as the standard systems programming language for the <a href=\"/wiki/Multics\" title=\"Multics\">Multics</a> operating system.\\n</p><p>Since PL/I, the distinction between scientific and commercial programming languages has diminished, with most languages supporting the basic features required by both, and much of the special file format handling delegated to specialized <a href=\"/wiki/Database#Database_management_system\" title=\"Database\">database management systems</a>.\\n</p><p>Many specialized languages were also developed starting in the 1960s: <a href=\"/wiki/GPSS\" title=\"GPSS\">GPSS</a> and <a href=\"/wiki/Simula\" title=\"Simula\">Simula</a> for discrete event simulation; <a href=\"/wiki/MAD_(programming_language)\" title=\"MAD (programming language)\">MAD</a>, <a href=\"/wiki/BASIC\" title=\"BASIC\">BASIC</a>, <a href=\"/wiki/Logo_(programming_language)\" title=\"Logo (programming language)\">Logo</a>, and <a href=\"/wiki/Pascal_(programming_language)\" title=\"Pascal (programming language)\">Pascal</a> for teaching programming; <a href=\"/wiki/C_(programming_language)\" title=\"C (programming language)\">C</a> for systems programming; <a href=\"/wiki/JOSS\" title=\"JOSS\">JOSS</a> and <a href=\"/wiki/APL%5C360\" class=\"mw-redirect\" title=\"APL\\\\360\">APL\\\\360</a> for interactive programming.<sup id=\"cite_ref-sammet_1-1\" class=\"reference\"><a href=\"#cite_note-sammet-1\">&#91;1&#93;</a></sup>\\n</p>\\n<h2><span class=\"mw-headline\" id=\"Definitions\">Definitions</span><span class=\"mw-editsection\"><span class=\"mw-editsection-bracket\">[</span><a href=\"/w/index.php?title=General-purpose_programming_language&amp;action=edit&amp;section=2\" title=\"Edit section: Definitions\">edit</a><span class=\"mw-editsection-bracket\">]</span></span></h2>\\n<p>A <a href=\"/wiki/Domain-specific_programming_language\" class=\"mw-redirect\" title=\"Domain-specific programming language\">domain-specific programming language</a> is designed to be used within a specific application domain.  Examples include <a href=\"/wiki/Page_description_language\" title=\"Page description language\">page description languages</a> and <a href=\"/wiki/Database_query_language\" class=\"mw-redirect\" title=\"Database query language\">database query languages</a>.\\n</p>\\n<h2><span class=\"mw-headline\" id=\"List\">List</span><span class=\"mw-editsection\"><span class=\"mw-editsection-bracket\">[</span><a href=\"/w/index.php?title=General-purpose_programming_language&amp;action=edit&amp;section=3\" title=\"Edit section: List\">edit</a><span class=\"mw-editsection-bracket\">]</span></span></h2>\\n<p>The following are some general-purpose programming languages:\\n</p>\\n<style data-mw-deduplicate=\"TemplateStyles:r998391716\">.mw-parser-output .div-col{margin-top:0.3em;column-width:30em}.mw-parser-output .div-col-small{font-size:90%}.mw-parser-output .div-col-rules{column-rule:1px solid #aaa}.mw-parser-output .div-col dl,.mw-parser-output .div-col ol,.mw-parser-output .div-col ul{margin-top:0}.mw-parser-output .div-col li,.mw-parser-output .div-col dd{page-break-inside:avoid;break-inside:avoid-column}</style><div class=\"div-col\" style=\"column-width: 15em;\">\\n<ul><li><a href=\"/wiki/C_(programming_language)\" title=\"C (programming language)\"> C</a></li>\\n<li><a href=\"/wiki/C%2B%2B\" title=\"C++\">C++</a></li>\\n<li><a href=\"/wiki/C_Sharp_(programming_language)\" title=\"C Sharp (programming language)\">C#</a></li>\\n<li><a href=\"/wiki/Clojure\" title=\"Clojure\">Clojure</a></li>\\n<li><a href=\"/wiki/Crystal_(programming_language)\" title=\"Crystal (programming language)\">Crystal</a></li>\\n<li><a href=\"/wiki/Dart_(programming_language)\" title=\"Dart (programming language)\">Dart</a></li>\\n<li><a href=\"/wiki/Elixir_(programming_language)\" title=\"Elixir (programming language)\">Elixir</a></li>\\n<li><a href=\"/wiki/Erlang_(programming_language)\" title=\"Erlang (programming language)\">Erlang</a></li>\\n<li><a href=\"/wiki/F_Sharp_(programming_language)\" title=\"F Sharp (programming language)\">F#</a></li>\\n<li><a href=\"/wiki/Go_(programming_language)\" title=\"Go (programming language)\">Go</a></li>\\n<li><a href=\"/wiki/Harbour_compiler\" class=\"mw-redirect\" title=\"Harbour compiler\">Harbour</a></li>\\n<li><a href=\"/wiki/Haskell_(programming_language)\" title=\"Haskell (programming language)\">Haskell</a></li>\\n<li><a href=\"/wiki/Java_(programming_language)\" title=\"Java (programming language)\">Java</a></li>\\n<li><a href=\"/wiki/JavaScript_(programming_language)\" class=\"mw-redirect\" title=\"JavaScript (programming language)\">JavaScript</a></li>\\n<li><a href=\"/wiki/Julia_(programming_language)\" title=\"Julia (programming language)\">Julia</a></li>\\n<li><a href=\"/wiki/Kotlin_(programming_language)\" title=\"Kotlin (programming language)\">Kotlin</a></li>\\n<li><a href=\"/wiki/Lua_(programming_language)\" title=\"Lua (programming language)\">Lua</a></li>\\n<li><a href=\"/wiki/Modula-2\" title=\"Modula-2\">Modula-2</a></li>\\n<li><a href=\"/wiki/Oberon_(programming_language)\" title=\"Oberon (programming language)\">Oberon</a></li>\\n<li><a href=\"/wiki/Objective-C\" title=\"Objective-C\">Objective-C</a></li>\\n<li><a href=\"/wiki/Perl\" title=\"Perl\">Perl</a></li>\\n<li><a href=\"/wiki/PHP\" title=\"PHP\">PHP</a></li>\\n<li><a href=\"/wiki/Pike_(programming_language)\" class=\"mw-redirect\" title=\"Pike (programming language)\">Pike</a></li>\\n<li><a href=\"/wiki/PL/I\" title=\"PL/I\">PL/I</a></li>\\n<li><a href=\"/wiki/Python_(programming_language)\" title=\"Python (programming language)\">Python</a></li>\\n<li><a href=\"/wiki/Racket_(programming_language)\" title=\"Racket (programming language)\">Racket</a></li>\\n<li><a href=\"/wiki/Ruby_(programming_language)\" title=\"Ruby (programming language)\">Ruby</a></li>\\n<li><a href=\"/wiki/Rust_(programming_language)\" title=\"Rust (programming language)\">Rust</a></li>\\n<li><a href=\"/wiki/Scala_(programming_language)\" title=\"Scala (programming language)\">Scala</a></li>\\n<li><a href=\"/wiki/Swift_(programming_language)\" title=\"Swift (programming language)\">Swift</a></li>\\n<li><a href=\"/wiki/Tcl\" title=\"Tcl\">Tcl</a></li>\\n<li><a href=\"/wiki/Visual_Basic\" title=\"Visual Basic\">Visual Basic</a></li>\\n<li><a href=\"/wiki/Visual_Basic_.NET\" title=\"Visual Basic .NET\">Visual Basic .NET</a></li></ul>\\n</div>\\n<h2><span class=\"mw-headline\" id=\"Notes\">Notes</span><span class=\"mw-editsection\"><span class=\"mw-editsection-bracket\">[</span><a href=\"/w/index.php?title=General-purpose_programming_language&amp;action=edit&amp;section=4\" title=\"Edit section: Notes\">edit</a><span class=\"mw-editsection-bracket\">]</span></span></h2>\\n<div class=\"mw-references-wrap\"><ol class=\"references\">\\n<li id=\"cite_note-sammet-1\"><span class=\"mw-cite-backlink\">^ <a href=\"#cite_ref-sammet_1-0\"><sup><i><b>a</b></i></sup></a> <a href=\"#cite_ref-sammet_1-1\"><sup><i><b>b</b></i></sup></a></span> <span class=\"reference-text\">Jean E. Sammet, \"Programming Languages: History and Future\", <i>Communications of the ACM</i> <b>15</b>:7:601-610 (July 1972) <a href=\"/wiki/Doi_(identifier)\" class=\"mw-redirect\" title=\"Doi (identifier)\">doi</a>:<a rel=\"nofollow\" class=\"external text\" href=\"https://doi.org/10.1145%2F361454.361485\">10.1145/361454.361485</a></span>\\n</li>\\n</ol></div>\\n<h2><span class=\"mw-headline\" id=\"See_also\">See also</span><span class=\"mw-editsection\"><span class=\"mw-editsection-bracket\">[</span><a href=\"/w/index.php?title=General-purpose_programming_language&amp;action=edit&amp;section=5\" title=\"Edit section: See also\">edit</a><span class=\"mw-editsection-bracket\">]</span></span></h2>\\n<ul><li><a href=\"/wiki/General-purpose_markup_language\" title=\"General-purpose markup language\">General-purpose markup language</a></li>\\n<li><a href=\"/wiki/General-purpose_modeling_language\" class=\"mw-redirect\" title=\"General-purpose modeling language\">General-purpose modeling language</a></li></ul>\\n<p><br />\\n</p>\\n<style data-mw-deduplicate=\"TemplateStyles:r1012311289\">.mw-parser-output .asbox{position:relative;overflow:hidden}.mw-parser-output .asbox table{background:transparent}.mw-parser-output .asbox p{margin:0}.mw-parser-output .asbox p+p{margin-top:0.25em}.mw-parser-output .asbox-body{font-style:italic}.mw-parser-output .asbox-note{font-size:smaller}.mw-parser-output .asbox .navbar{position:absolute;top:-0.75em;right:1em;display:none}</style><div role=\"note\" class=\"metadata plainlinks asbox stub\"><table role=\"presentation\"><tbody><tr class=\"noresize\"><td><a href=\"/wiki/File:HelloWorld_in_black_and_white.svg\" class=\"image\"><img alt=\"Stub icon\" src=\"//upload.wikimedia.org/wikipedia/commons/thumb/7/74/HelloWorld_in_black_and_white.svg/50px-HelloWorld_in_black_and_white.svg.png\" decoding=\"async\" width=\"50\" height=\"25\" srcset=\"//upload.wikimedia.org/wikipedia/commons/thumb/7/74/HelloWorld_in_black_and_white.svg/75px-HelloWorld_in_black_and_white.svg.png 1.5x, //upload.wikimedia.org/wikipedia/commons/thumb/7/74/HelloWorld_in_black_and_white.svg/100px-HelloWorld_in_black_and_white.svg.png 2x\" data-file-width=\"512\" data-file-height=\"256\" /></a></td><td><p class=\"asbox-body\">This <a href=\"/wiki/Programming_language\" title=\"Programming language\">programming-language</a>-related article is a <a href=\"/wiki/Wikipedia:Stub\" title=\"Wikipedia:Stub\">stub</a>. You can help Wikipedia by <a class=\"external text\" href=\"https://en.wikipedia.org/w/index.php?title=General-purpose_programming_language&amp;action=edit\">expanding it</a>.</p></td></tr></tbody></table><style data-mw-deduplicate=\"TemplateStyles:r992953826\">.mw-parser-output .navbar{display:inline;font-size:88%;font-weight:normal}.mw-parser-output .navbar-collapse{float:left;text-align:left}.mw-parser-output .navbar-boxtext{word-spacing:0}.mw-parser-output .navbar ul{display:inline-block;white-space:nowrap;line-height:inherit}.mw-parser-output .navbar-brackets::before{margin-right:-0.125em;content:\"[ \"}.mw-parser-output .navbar-brackets::after{margin-left:-0.125em;content:\" ]\"}.mw-parser-output .navbar li{word-spacing:-0.125em}.mw-parser-output .navbar-mini abbr{font-variant:small-caps;border-bottom:none;text-decoration:none;cursor:inherit}.mw-parser-output .navbar-ct-full{font-size:114%;margin:0 7em}.mw-parser-output .navbar-ct-mini{font-size:114%;margin:0 4em}.mw-parser-output .infobox .navbar{font-size:100%}.mw-parser-output .navbox .navbar{display:block;font-size:100%}.mw-parser-output .navbox-title .navbar{float:left;text-align:left;margin-right:0.5em}</style><div class=\"navbar plainlinks hlist navbar-mini\"><ul><li class=\"nv-view\"><a href=\"/wiki/Template:Prog-lang-stub\" title=\"Template:Prog-lang-stub\"><abbr title=\"View this template\" style=\";text-decoration:inherit;\">v</abbr></a></li><li class=\"nv-talk\"><a href=\"/wiki/Template_talk:Prog-lang-stub\" title=\"Template talk:Prog-lang-stub\"><abbr title=\"Discuss this template\" style=\";text-decoration:inherit;\">t</abbr></a></li><li class=\"nv-edit\"><a class=\"external text\" href=\"https://en.wikipedia.org/w/index.php?title=Template:Prog-lang-stub&amp;action=edit\"><abbr title=\"Edit this template\" style=\";text-decoration:inherit;\">e</abbr></a></li></ul></div></div>\\n<!-- \\nNewPP limit report\\nParsed by mw2312\\nCached time: 20210911163337\\nCache expiry: 1814400\\nReduced expiry: false\\nComplications: []\\nCPU time usage: 0.194 seconds\\nReal time usage: 0.354 seconds\\nPreprocessor visited node count: 389/1000000\\nPost\\xe2\\x80\\x90expand include size: 15060/2097152 bytes\\nTemplate argument size: 892/2097152 bytes\\nHighest expansion depth: 9/40\\nExpensive parser function count: 2/500\\nUnstrip recursion depth: 0/20\\nUnstrip post\\xe2\\x80\\x90expand size: 2783/5000000 bytes\\nLua time usage: 0.103/10.000 seconds\\nLua memory usage: 2182220/52428800 bytes\\nNumber of Wikibase entities loaded: 0/400\\n-->\\n<!--\\nTransclusion expansion time report (%,ms,calls,template)\\n100.00%  314.803      1 -total\\n 29.68%   93.444      1 Template:One_source\\n 27.14%   85.444      1 Template:Ambox\\n 21.61%   68.024      1 Template:Short_description\\n 19.02%   59.876      1 Template:Prog-lang-stub\\n 18.34%   57.720      1 Template:Asbox\\n 15.29%   48.142      1 Template:Find_sources_mainspace\\n 13.26%   41.730      2 Template:Pagetype\\n  5.26%   16.559      1 Template:Div_col\\n  4.57%   14.392      3 Template:Main_other\\n-->\\n\\n<!-- Saved in parser cache with key enwiki:pcache:idhash:891926-0!canonical and timestamp 20210911163336 and revision id 1042781005. Serialized with JSON.\\n -->\\n</div><noscript><img src=\"//en.wikipedia.org/wiki/Special:CentralAutoLogin/start?type=1x1\" alt=\"\" title=\"\" width=\"1\" height=\"1\" style=\"border: none; position: absolute;\" /></noscript>\\n<div class=\"printfooter\">Retrieved from \"<a dir=\"ltr\" href=\"https://en.wikipedia.org/w/index.php?title=General-purpose_programming_language&amp;oldid=1042781005\">https://en.wikipedia.org/w/index.php?title=General-purpose_programming_language&amp;oldid=1042781005</a>\"</div></div>\\n\\t\\t<div id=\"catlinks\" class=\"catlinks\" data-mw=\"interface\"><div id=\"mw-normal-catlinks\" class=\"mw-normal-catlinks\"><a href=\"/wiki/Help:Category\" title=\"Help:Category\">Categories</a>: <ul><li><a href=\"/wiki/Category:Programming_languages\" title=\"Category:Programming languages\">Programming languages</a></li><li><a href=\"/wiki/Category:Programming_language_topic_stubs\" title=\"Category:Programming language topic stubs\">Programming language topic stubs</a></li></ul></div><div id=\"mw-hidden-catlinks\" class=\"mw-hidden-catlinks mw-hidden-cats-hidden\">Hidden categories: <ul><li><a href=\"/wiki/Category:Articles_with_short_description\" title=\"Category:Articles with short description\">Articles with short description</a></li><li><a href=\"/wiki/Category:Articles_with_long_short_description\" title=\"Category:Articles with long short description\">Articles with long short description</a></li><li><a href=\"/wiki/Category:Short_description_is_different_from_Wikidata\" title=\"Category:Short description is different from Wikidata\">Short description is different from Wikidata</a></li><li><a href=\"/wiki/Category:Articles_needing_additional_references_from_January_2021\" title=\"Category:Articles needing additional references from January 2021\">Articles needing additional references from January 2021</a></li><li><a href=\"/wiki/Category:All_articles_needing_additional_references\" title=\"Category:All articles needing additional references\">All articles needing additional references</a></li><li><a href=\"/wiki/Category:All_stub_articles\" title=\"Category:All stub articles\">All stub articles</a></li></ul></div></div>\\n\\t</div>\\n</div>\\n<div id=\\'mw-data-after-content\\'>\\n\\t<div class=\"read-more-container\"></div>\\n</div>\\n\\n<div id=\"mw-navigation\">\\n\\t<h2>Navigation menu</h2>\\n\\t<div id=\"mw-head\">\\n\\t\\t<nav id=\"p-personal\" class=\"mw-portlet mw-portlet-personal vector-user-menu-legacy vector-menu\" aria-labelledby=\"p-personal-label\" role=\"navigation\" \\n\\t >\\n\\t<h3 id=\"p-personal-label\" class=\"vector-menu-heading\"> <span>Personal tools</span>\\n\\t</h3>\\n\\t<div class=\"vector-menu-content\">\\n\\t\\t\\n\\t\\t<ul class=\"vector-menu-content-list\"><li id=\"pt-anonuserpage\" class=\"mw-list-item\">Not logged in</li><li id=\"pt-anontalk\" class=\"mw-list-item\"><a href=\"/wiki/Special:MyTalk\" title=\"Discussion about edits from this IP address [n]\" accesskey=\"n\">Talk</a></li><li id=\"pt-anoncontribs\" class=\"mw-list-item\"><a href=\"/wiki/Special:MyContributions\" title=\"A list of edits made from this IP address [y]\" accesskey=\"y\">Contributions</a></li><li id=\"pt-createaccount\" class=\"mw-list-item\"><a href=\"/w/index.php?title=Special:CreateAccount&amp;returnto=General-purpose+programming+language\" title=\"You are encouraged to create an account and log in; however, it is not mandatory\">Create account</a></li><li id=\"pt-login\" class=\"mw-list-item\"><a href=\"/w/index.php?title=Special:UserLogin&amp;returnto=General-purpose+programming+language\" title=\"You&#039;re encouraged to log in; however, it&#039;s not mandatory. [o]\" accesskey=\"o\">Log in</a></li></ul>\\n\\t\\t\\n\\t</div>\\n</nav>\\n\\n\\t\\t<div id=\"left-navigation\">\\n\\t\\t\\t<nav id=\"p-namespaces\" class=\"mw-portlet mw-portlet-namespaces vector-menu vector-menu-tabs\" aria-labelledby=\"p-namespaces-label\" role=\"navigation\" \\n\\t >\\n\\t<h3 id=\"p-namespaces-label\" class=\"vector-menu-heading\"> <span>Namespaces</span>\\n\\t</h3>\\n\\t<div class=\"vector-menu-content\">\\n\\t\\t\\n\\t\\t<ul class=\"vector-menu-content-list\"><li id=\"ca-nstab-main\" class=\"selected mw-list-item\"><a href=\"/wiki/General-purpose_programming_language\" title=\"View the content page [c]\" accesskey=\"c\">Article</a></li><li id=\"ca-talk\" class=\"mw-list-item\"><a href=\"/wiki/Talk:General-purpose_programming_language\" rel=\"discussion\" title=\"Discuss improvements to the content page [t]\" accesskey=\"t\">Talk</a></li></ul>\\n\\t\\t\\n\\t</div>\\n</nav>\\n\\n\\t\\t\\t<nav id=\"p-variants\" class=\"mw-portlet mw-portlet-variants emptyPortlet vector-menu-dropdown-noicon vector-menu vector-menu-dropdown\" aria-labelledby=\"p-variants-label\" role=\"navigation\" \\n\\t >\\n\\t<input type=\"checkbox\"\\n\\t\\tid=\"p-variants-checkbox\"\\n\\t\\trole=\"button\"\\n\\t\\taria-haspopup=\"true\"\\n\\t\\tdata-event-name=\"ui.dropdown-p-variants\"\\n\\t\\tclass=\" vector-menu-checkbox\" aria-labelledby=\"p-variants-label\" />\\n\\t<h3 id=\"p-variants-label\" class=\"vector-menu-heading\"> <span>Variants</span>\\n\\t\\t\\t<span class=\"vector-menu-checkbox-expanded\">expanded</span>\\n\\t\\t\\t<span class=\"vector-menu-checkbox-collapsed\">collapsed</span>\\n\\t</h3>\\n\\t<div class=\"vector-menu-content\">\\n\\t\\t\\n\\t\\t<ul class=\"vector-menu-content-list\"></ul>\\n\\t\\t\\n\\t</div>\\n</nav>\\n\\n\\t\\t</div>\\n\\t\\t<div id=\"right-navigation\">\\n\\t\\t\\t<nav id=\"p-views\" class=\"mw-portlet mw-portlet-views vector-menu vector-menu-tabs\" aria-labelledby=\"p-views-label\" role=\"navigation\" \\n\\t >\\n\\t<h3 id=\"p-views-label\" class=\"vector-menu-heading\"> <span>Views</span>\\n\\t</h3>\\n\\t<div class=\"vector-menu-content\">\\n\\t\\t\\n\\t\\t<ul class=\"vector-menu-content-list\"><li id=\"ca-view\" class=\"selected mw-list-item\"><a href=\"/wiki/General-purpose_programming_language\">Read</a></li><li id=\"ca-edit\" class=\"mw-list-item\"><a href=\"/w/index.php?title=General-purpose_programming_language&amp;action=edit\" title=\"Edit this page [e]\" accesskey=\"e\">Edit</a></li><li id=\"ca-history\" class=\"mw-list-item\"><a href=\"/w/index.php?title=General-purpose_programming_language&amp;action=history\" title=\"Past revisions of this page [h]\" accesskey=\"h\">View history</a></li></ul>\\n\\t\\t\\n\\t</div>\\n</nav>\\n\\n\\t\\t\\t<nav id=\"p-cactions\" class=\"mw-portlet mw-portlet-cactions emptyPortlet vector-menu-dropdown-noicon vector-menu vector-menu-dropdown\" aria-labelledby=\"p-cactions-label\" role=\"navigation\"  title=\"More options\"\\n\\t >\\n\\t<input type=\"checkbox\"\\n\\t\\tid=\"p-cactions-checkbox\"\\n\\t\\trole=\"button\"\\n\\t\\taria-haspopup=\"true\"\\n\\t\\tdata-event-name=\"ui.dropdown-p-cactions\"\\n\\t\\tclass=\" vector-menu-checkbox\" aria-labelledby=\"p-cactions-label\" />\\n\\t<h3 id=\"p-cactions-label\" class=\"vector-menu-heading\"> <span>More</span>\\n\\t\\t\\t<span class=\"vector-menu-checkbox-expanded\">expanded</span>\\n\\t\\t\\t<span class=\"vector-menu-checkbox-collapsed\">collapsed</span>\\n\\t</h3>\\n\\t<div class=\"vector-menu-content\">\\n\\t\\t\\n\\t\\t<ul class=\"vector-menu-content-list\"></ul>\\n\\t\\t\\n\\t</div>\\n</nav>\\n\\n\\t\\t\\t<div id=\"p-search\" role=\"search\" class=\"vector-search-box\">\\n\\t<div>\\n\\t\\t<h3 >\\n\\t\\t\\t<label for=\"searchInput\">Search</label>\\n\\t\\t</h3>\\n\\t\\t<form action=\"/w/index.php\" id=\"searchform\">\\n\\t\\t\\t<div id=\"simpleSearch\" data-search-loc=\"header-navigation\">\\n\\t\\t\\t\\t<input type=\"search\" name=\"search\" placeholder=\"Search Wikipedia\" autocapitalize=\"sentences\" title=\"Search Wikipedia [f]\" accesskey=\"f\" id=\"searchInput\"/>\\n\\t\\t\\t\\t<input type=\"hidden\" name=\"title\" value=\"Special:Search\"/>\\n\\t\\t\\t\\t<input type=\"submit\" name=\"fulltext\" value=\"Search\" title=\"Search Wikipedia for this text\" id=\"mw-searchButton\" class=\"searchButton mw-fallbackSearchButton\"/>\\n\\t\\t\\t\\t<input type=\"submit\" name=\"go\" value=\"Go\" title=\"Go to a page with this exact name if it exists\" id=\"searchButton\" class=\"searchButton\"/>\\n\\t\\t\\t</div>\\n\\t\\t</form>\\n\\t</div>\\n</div>\\n\\n\\t\\t</div>\\n\\t</div>\\n\\t\\n<div id=\"mw-panel\">\\n\\t<div id=\"p-logo\" role=\"banner\">\\n\\t\\t<a class=\"mw-wiki-logo\" href=\"/wiki/Main_Page\"\\n\\t\\t\\ttitle=\"Visit the main page\"></a>\\n\\t</div>\\n\\t<nav id=\"p-navigation\" class=\"mw-portlet mw-portlet-navigation vector-menu vector-menu-portal portal\" aria-labelledby=\"p-navigation-label\" role=\"navigation\" \\n\\t >\\n\\t<h3 id=\"p-navigation-label\" class=\"vector-menu-heading\"> <span>Navigation</span>\\n\\t</h3>\\n\\t<div class=\"vector-menu-content\">\\n\\t\\t\\n\\t\\t<ul class=\"vector-menu-content-list\"><li id=\"n-mainpage-description\" class=\"mw-list-item\"><a href=\"/wiki/Main_Page\" title=\"Visit the main page [z]\" accesskey=\"z\">Main page</a></li><li id=\"n-contents\" class=\"mw-list-item\"><a href=\"/wiki/Wikipedia:Contents\" title=\"Guides to browsing Wikipedia\">Contents</a></li><li id=\"n-currentevents\" class=\"mw-list-item\"><a href=\"/wiki/Portal:Current_events\" title=\"Articles related to current events\">Current events</a></li><li id=\"n-randompage\" class=\"mw-list-item\"><a href=\"/wiki/Special:Random\" title=\"Visit a randomly selected article [x]\" accesskey=\"x\">Random article</a></li><li id=\"n-aboutsite\" class=\"mw-list-item\"><a href=\"/wiki/Wikipedia:About\" title=\"Learn about Wikipedia and how it works\">About Wikipedia</a></li><li id=\"n-contactpage\" class=\"mw-list-item\"><a href=\"//en.wikipedia.org/wiki/Wikipedia:Contact_us\" title=\"How to contact Wikipedia\">Contact us</a></li><li id=\"n-sitesupport\" class=\"mw-list-item\"><a href=\"https://donate.wikimedia.org/wiki/Special:FundraiserRedirector?utm_source=donate&amp;utm_medium=sidebar&amp;utm_campaign=C13_en.wikipedia.org&amp;uselang=en\" title=\"Support us by donating to the Wikimedia Foundation\">Donate</a></li></ul>\\n\\t\\t\\n\\t</div>\\n</nav>\\n\\n\\t<nav id=\"p-interaction\" class=\"mw-portlet mw-portlet-interaction vector-menu vector-menu-portal portal\" aria-labelledby=\"p-interaction-label\" role=\"navigation\" \\n\\t >\\n\\t<h3 id=\"p-interaction-label\" class=\"vector-menu-heading\"> <span>Contribute</span>\\n\\t</h3>\\n\\t<div class=\"vector-menu-content\">\\n\\t\\t\\n\\t\\t<ul class=\"vector-menu-content-list\"><li id=\"n-help\" class=\"mw-list-item\"><a href=\"/wiki/Help:Contents\" title=\"Guidance on how to use and edit Wikipedia\">Help</a></li><li id=\"n-introduction\" class=\"mw-list-item\"><a href=\"/wiki/Help:Introduction\" title=\"Learn how to edit Wikipedia\">Learn to edit</a></li><li id=\"n-portal\" class=\"mw-list-item\"><a href=\"/wiki/Wikipedia:Community_portal\" title=\"The hub for editors\">Community portal</a></li><li id=\"n-recentchanges\" class=\"mw-list-item\"><a href=\"/wiki/Special:RecentChanges\" title=\"A list of recent changes to Wikipedia [r]\" accesskey=\"r\">Recent changes</a></li><li id=\"n-upload\" class=\"mw-list-item\"><a href=\"/wiki/Wikipedia:File_Upload_Wizard\" title=\"Add images or other media for use on Wikipedia\">Upload file</a></li></ul>\\n\\t\\t\\n\\t</div>\\n</nav>\\n<nav id=\"p-tb\" class=\"mw-portlet mw-portlet-tb vector-menu vector-menu-portal portal\" aria-labelledby=\"p-tb-label\" role=\"navigation\" \\n\\t >\\n\\t<h3 id=\"p-tb-label\" class=\"vector-menu-heading\"> <span>Tools</span>\\n\\t</h3>\\n\\t<div class=\"vector-menu-content\">\\n\\t\\t\\n\\t\\t<ul class=\"vector-menu-content-list\"><li id=\"t-whatlinkshere\" class=\"mw-list-item\"><a href=\"/wiki/Special:WhatLinksHere/General-purpose_programming_language\" title=\"List of all English Wikipedia pages containing links to this page [j]\" accesskey=\"j\">What links here</a></li><li id=\"t-recentchangeslinked\" class=\"mw-list-item\"><a href=\"/wiki/Special:RecentChangesLinked/General-purpose_programming_language\" rel=\"nofollow\" title=\"Recent changes in pages linked from this page [k]\" accesskey=\"k\">Related changes</a></li><li id=\"t-upload\" class=\"mw-list-item\"><a href=\"/wiki/Wikipedia:File_Upload_Wizard\" title=\"Upload files [u]\" accesskey=\"u\">Upload file</a></li><li id=\"t-specialpages\" class=\"mw-list-item\"><a href=\"/wiki/Special:SpecialPages\" title=\"A list of all special pages [q]\" accesskey=\"q\">Special pages</a></li><li id=\"t-permalink\" class=\"mw-list-item\"><a href=\"/w/index.php?title=General-purpose_programming_language&amp;oldid=1042781005\" title=\"Permanent link to this revision of this page\">Permanent link</a></li><li id=\"t-info\" class=\"mw-list-item\"><a href=\"/w/index.php?title=General-purpose_programming_language&amp;action=info\" title=\"More information about this page\">Page information</a></li><li id=\"t-cite\" class=\"mw-list-item\"><a href=\"/w/index.php?title=Special:CiteThisPage&amp;page=General-purpose_programming_language&amp;id=1042781005&amp;wpFormIdentifier=titleform\" title=\"Information on how to cite this page\">Cite this page</a></li><li id=\"t-wikibase\" class=\"mw-list-item\"><a href=\"https://www.wikidata.org/wiki/Special:EntityPage/Q951497\" title=\"Structured data on this page hosted by Wikidata [g]\" accesskey=\"g\">Wikidata item</a></li></ul>\\n\\t\\t\\n\\t</div>\\n</nav>\\n<nav id=\"p-coll-print_export\" class=\"mw-portlet mw-portlet-coll-print_export vector-menu vector-menu-portal portal\" aria-labelledby=\"p-coll-print_export-label\" role=\"navigation\" \\n\\t >\\n\\t<h3 id=\"p-coll-print_export-label\" class=\"vector-menu-heading\"> <span>Print/export</span>\\n\\t</h3>\\n\\t<div class=\"vector-menu-content\">\\n\\t\\t\\n\\t\\t<ul class=\"vector-menu-content-list\"><li id=\"coll-download-as-rl\" class=\"mw-list-item\"><a href=\"/w/index.php?title=Special:DownloadAsPdf&amp;page=General-purpose_programming_language&amp;action=show-download-screen\" title=\"Download this page as a PDF file\">Download as PDF</a></li><li id=\"t-print\" class=\"mw-list-item\"><a href=\"/w/index.php?title=General-purpose_programming_language&amp;printable=yes\" title=\"Printable version of this page [p]\" accesskey=\"p\">Printable version</a></li></ul>\\n\\t\\t\\n\\t</div>\\n</nav>\\n\\n\\t<nav id=\"p-lang\" class=\"mw-portlet mw-portlet-lang vector-menu vector-menu-portal portal\" aria-labelledby=\"p-lang-label\" role=\"navigation\" \\n\\t >\\n\\t<h3 id=\"p-lang-label\" class=\"vector-menu-heading\"> <span>Languages</span>\\n\\t</h3>\\n\\t<div class=\"vector-menu-content\">\\n\\t\\t\\n\\t\\t<ul class=\"vector-menu-content-list\"><li class=\"interlanguage-link interwiki-ar mw-list-item\"><a href=\"https://ar.wikipedia.org/wiki/%D9%84%D8%BA%D8%A9_%D8%A8%D8%B1%D9%85%D8%AC%D8%A9_%D9%85%D8%AA%D8%B9%D8%AF%D8%AF%D8%A9_%D8%A7%D9%84%D8%A7%D8%B3%D8%AA%D8%AE%D8%AF%D8%A7%D9%85%D8%A7%D8%AA\" title=\"\\xd9\\x84\\xd8\\xba\\xd8\\xa9 \\xd8\\xa8\\xd8\\xb1\\xd9\\x85\\xd8\\xac\\xd8\\xa9 \\xd9\\x85\\xd8\\xaa\\xd8\\xb9\\xd8\\xaf\\xd8\\xaf\\xd8\\xa9 \\xd8\\xa7\\xd9\\x84\\xd8\\xa7\\xd8\\xb3\\xd8\\xaa\\xd8\\xae\\xd8\\xaf\\xd8\\xa7\\xd9\\x85\\xd8\\xa7\\xd8\\xaa \\xe2\\x80\\x93 Arabic\" lang=\"ar\" hreflang=\"ar\" class=\"interlanguage-link-target\">\\xd8\\xa7\\xd9\\x84\\xd8\\xb9\\xd8\\xb1\\xd8\\xa8\\xd9\\x8a\\xd8\\xa9</a></li><li class=\"interlanguage-link interwiki-az mw-list-item\"><a href=\"https://az.wikipedia.org/wiki/%C3%87oxm%C9%99qs%C9%99dli_dil\" title=\"\\xc3\\x87oxm\\xc9\\x99qs\\xc9\\x99dli dil \\xe2\\x80\\x93 Azerbaijani\" lang=\"az\" hreflang=\"az\" class=\"interlanguage-link-target\">Az\\xc9\\x99rbaycanca</a></li><li class=\"interlanguage-link interwiki-bs mw-list-item\"><a href=\"https://bs.wikipedia.org/wiki/Programski_jezik_op%C4%87e_namjene\" title=\"Programski jezik op\\xc4\\x87e namjene \\xe2\\x80\\x93 Bosnian\" lang=\"bs\" hreflang=\"bs\" class=\"interlanguage-link-target\">Bosanski</a></li><li class=\"interlanguage-link interwiki-ca mw-list-item\"><a href=\"https://ca.wikipedia.org/wiki/Llenguatge_de_programaci%C3%B3_de_prop%C3%B2sit_general\" title=\"Llenguatge de programaci\\xc3\\xb3 de prop\\xc3\\xb2sit general \\xe2\\x80\\x93 Catalan\" lang=\"ca\" hreflang=\"ca\" class=\"interlanguage-link-target\">Catal\\xc3\\xa0</a></li><li class=\"interlanguage-link interwiki-de mw-list-item\"><a href=\"https://de.wikipedia.org/wiki/General_Purpose_Language\" title=\"General Purpose Language \\xe2\\x80\\x93 German\" lang=\"de\" hreflang=\"de\" class=\"interlanguage-link-target\">Deutsch</a></li><li class=\"interlanguage-link interwiki-eo mw-list-item\"><a href=\"https://eo.wikipedia.org/wiki/%C4%9Ceneralcela_programlingvo\" title=\"\\xc4\\x9ceneralcela programlingvo \\xe2\\x80\\x93 Esperanto\" lang=\"eo\" hreflang=\"eo\" class=\"interlanguage-link-target\">Esperanto</a></li><li class=\"interlanguage-link interwiki-fa mw-list-item\"><a href=\"https://fa.wikipedia.org/wiki/%D8%B2%D8%A8%D8%A7%D9%86_%D8%A8%D8%B1%D9%86%D8%A7%D9%85%D9%87%E2%80%8C%D9%86%D9%88%DB%8C%D8%B3%DB%8C_%D9%87%D9%85%D9%87%E2%80%8C%D9%85%D9%86%D8%B8%D9%88%D8%B1%D9%87\" title=\"\\xd8\\xb2\\xd8\\xa8\\xd8\\xa7\\xd9\\x86 \\xd8\\xa8\\xd8\\xb1\\xd9\\x86\\xd8\\xa7\\xd9\\x85\\xd9\\x87\\xe2\\x80\\x8c\\xd9\\x86\\xd9\\x88\\xdb\\x8c\\xd8\\xb3\\xdb\\x8c \\xd9\\x87\\xd9\\x85\\xd9\\x87\\xe2\\x80\\x8c\\xd9\\x85\\xd9\\x86\\xd8\\xb8\\xd9\\x88\\xd8\\xb1\\xd9\\x87 \\xe2\\x80\\x93 Persian\" lang=\"fa\" hreflang=\"fa\" class=\"interlanguage-link-target\">\\xd9\\x81\\xd8\\xa7\\xd8\\xb1\\xd8\\xb3\\xdb\\x8c</a></li><li class=\"interlanguage-link interwiki-fr mw-list-item\"><a href=\"https://fr.wikipedia.org/wiki/Langage_de_programmation_%C3%A0_usage_g%C3%A9n%C3%A9ral\" title=\"Langage de programmation \\xc3\\xa0 usage g\\xc3\\xa9n\\xc3\\xa9ral \\xe2\\x80\\x93 French\" lang=\"fr\" hreflang=\"fr\" class=\"interlanguage-link-target\">Fran\\xc3\\xa7ais</a></li><li class=\"interlanguage-link interwiki-ko mw-list-item\"><a href=\"https://ko.wikipedia.org/wiki/%EB%B2%94%EC%9A%A9_%ED%94%84%EB%A1%9C%EA%B7%B8%EB%9E%98%EB%B0%8D_%EC%96%B8%EC%96%B4\" title=\"\\xeb\\xb2\\x94\\xec\\x9a\\xa9 \\xed\\x94\\x84\\xeb\\xa1\\x9c\\xea\\xb7\\xb8\\xeb\\x9e\\x98\\xeb\\xb0\\x8d \\xec\\x96\\xb8\\xec\\x96\\xb4 \\xe2\\x80\\x93 Korean\" lang=\"ko\" hreflang=\"ko\" class=\"interlanguage-link-target\">\\xed\\x95\\x9c\\xea\\xb5\\xad\\xec\\x96\\xb4</a></li><li class=\"interlanguage-link interwiki-hi mw-list-item\"><a href=\"https://hi.wikipedia.org/wiki/%E0%A4%B5%E0%A5%8D%E0%A4%AF%E0%A4%BE%E0%A4%AA%E0%A4%95-%E0%A4%89%E0%A4%A6%E0%A5%8D%E0%A4%A6%E0%A5%87%E0%A4%B6%E0%A5%80%E0%A4%AF_%E0%A4%95%E0%A5%8D%E0%A4%B0%E0%A4%AE%E0%A4%BE%E0%A4%A6%E0%A5%87%E0%A4%B6_%E0%A4%AD%E0%A4%BE%E0%A4%B7%E0%A4%BE\" title=\"\\xe0\\xa4\\xb5\\xe0\\xa5\\x8d\\xe0\\xa4\\xaf\\xe0\\xa4\\xbe\\xe0\\xa4\\xaa\\xe0\\xa4\\x95-\\xe0\\xa4\\x89\\xe0\\xa4\\xa6\\xe0\\xa5\\x8d\\xe0\\xa4\\xa6\\xe0\\xa5\\x87\\xe0\\xa4\\xb6\\xe0\\xa5\\x80\\xe0\\xa4\\xaf \\xe0\\xa4\\x95\\xe0\\xa5\\x8d\\xe0\\xa4\\xb0\\xe0\\xa4\\xae\\xe0\\xa4\\xbe\\xe0\\xa4\\xa6\\xe0\\xa5\\x87\\xe0\\xa4\\xb6 \\xe0\\xa4\\xad\\xe0\\xa4\\xbe\\xe0\\xa4\\xb7\\xe0\\xa4\\xbe \\xe2\\x80\\x93 Hindi\" lang=\"hi\" hreflang=\"hi\" class=\"interlanguage-link-target\">\\xe0\\xa4\\xb9\\xe0\\xa4\\xbf\\xe0\\xa4\\xa8\\xe0\\xa5\\x8d\\xe0\\xa4\\xa6\\xe0\\xa5\\x80</a></li><li class=\"interlanguage-link interwiki-hu mw-list-item\"><a href=\"https://hu.wikipedia.org/wiki/%C3%81ltal%C3%A1nos_c%C3%A9l%C3%BA_programoz%C3%A1si_nyelv\" title=\"\\xc3\\x81ltal\\xc3\\xa1nos c\\xc3\\xa9l\\xc3\\xba programoz\\xc3\\xa1si nyelv \\xe2\\x80\\x93 Hungarian\" lang=\"hu\" hreflang=\"hu\" class=\"interlanguage-link-target\">Magyar</a></li><li class=\"interlanguage-link interwiki-ja mw-list-item\"><a href=\"https://ja.wikipedia.org/wiki/%E6%B1%8E%E7%94%A8%E3%83%97%E3%83%AD%E3%82%B0%E3%83%A9%E3%83%9F%E3%83%B3%E3%82%B0%E8%A8%80%E8%AA%9E\" title=\"\\xe6\\xb1\\x8e\\xe7\\x94\\xa8\\xe3\\x83\\x97\\xe3\\x83\\xad\\xe3\\x82\\xb0\\xe3\\x83\\xa9\\xe3\\x83\\x9f\\xe3\\x83\\xb3\\xe3\\x82\\xb0\\xe8\\xa8\\x80\\xe8\\xaa\\x9e \\xe2\\x80\\x93 Japanese\" lang=\"ja\" hreflang=\"ja\" class=\"interlanguage-link-target\">\\xe6\\x97\\xa5\\xe6\\x9c\\xac\\xe8\\xaa\\x9e</a></li><li class=\"interlanguage-link interwiki-pt mw-list-item\"><a href=\"https://pt.wikipedia.org/wiki/Linguagem_de_programa%C3%A7%C3%A3o_para_prop%C3%B3sitos_diversos\" title=\"Linguagem de programa\\xc3\\xa7\\xc3\\xa3o para prop\\xc3\\xb3sitos diversos \\xe2\\x80\\x93 Portuguese\" lang=\"pt\" hreflang=\"pt\" class=\"interlanguage-link-target\">Portugu\\xc3\\xaas</a></li><li class=\"interlanguage-link interwiki-simple mw-list-item\"><a href=\"https://simple.wikipedia.org/wiki/General-purpose_programming_language\" title=\"General-purpose programming language \\xe2\\x80\\x93 Simple English\" lang=\"en-simple\" hreflang=\"en-simple\" class=\"interlanguage-link-target\">Simple English</a></li><li class=\"interlanguage-link interwiki-fi mw-list-item\"><a href=\"https://fi.wikipedia.org/wiki/Yleisk%C3%A4ytt%C3%B6inen_ohjelmointikieli\" title=\"Yleisk\\xc3\\xa4ytt\\xc3\\xb6inen ohjelmointikieli \\xe2\\x80\\x93 Finnish\" lang=\"fi\" hreflang=\"fi\" class=\"interlanguage-link-target\">Suomi</a></li><li class=\"interlanguage-link interwiki-uk mw-list-item\"><a href=\"https://uk.wikipedia.org/wiki/%D0%9C%D0%BE%D0%B2%D0%B0_%D0%BF%D1%80%D0%BE%D0%B3%D1%80%D0%B0%D0%BC%D1%83%D0%B2%D0%B0%D0%BD%D0%BD%D1%8F_%D0%B7%D0%B0%D0%B3%D0%B0%D0%BB%D1%8C%D0%BD%D0%BE%D0%B3%D0%BE_%D0%BF%D1%80%D0%B8%D0%B7%D0%BD%D0%B0%D1%87%D0%B5%D0%BD%D0%BD%D1%8F\" title=\"\\xd0\\x9c\\xd0\\xbe\\xd0\\xb2\\xd0\\xb0 \\xd0\\xbf\\xd1\\x80\\xd0\\xbe\\xd0\\xb3\\xd1\\x80\\xd0\\xb0\\xd0\\xbc\\xd1\\x83\\xd0\\xb2\\xd0\\xb0\\xd0\\xbd\\xd0\\xbd\\xd1\\x8f \\xd0\\xb7\\xd0\\xb0\\xd0\\xb3\\xd0\\xb0\\xd0\\xbb\\xd1\\x8c\\xd0\\xbd\\xd0\\xbe\\xd0\\xb3\\xd0\\xbe \\xd0\\xbf\\xd1\\x80\\xd0\\xb8\\xd0\\xb7\\xd0\\xbd\\xd0\\xb0\\xd1\\x87\\xd0\\xb5\\xd0\\xbd\\xd0\\xbd\\xd1\\x8f \\xe2\\x80\\x93 Ukrainian\" lang=\"uk\" hreflang=\"uk\" class=\"interlanguage-link-target\">\\xd0\\xa3\\xd0\\xba\\xd1\\x80\\xd0\\xb0\\xd1\\x97\\xd0\\xbd\\xd1\\x81\\xd1\\x8c\\xd0\\xba\\xd0\\xb0</a></li><li class=\"interlanguage-link interwiki-zh mw-list-item\"><a href=\"https://zh.wikipedia.org/wiki/%E9%80%9A%E7%94%A8%E7%BC%96%E7%A8%8B%E8%AF%AD%E8%A8%80\" title=\"\\xe9\\x80\\x9a\\xe7\\x94\\xa8\\xe7\\xbc\\x96\\xe7\\xa8\\x8b\\xe8\\xaf\\xad\\xe8\\xa8\\x80 \\xe2\\x80\\x93 Chinese\" lang=\"zh\" hreflang=\"zh\" class=\"interlanguage-link-target\">\\xe4\\xb8\\xad\\xe6\\x96\\x87</a></li></ul>\\n\\t\\t<div class=\"after-portlet after-portlet-lang\"><span class=\"wb-langlinks-edit wb-langlinks-link\"><a href=\"https://www.wikidata.org/wiki/Special:EntityPage/Q951497#sitelinks-wikipedia\" title=\"Edit interlanguage links\" class=\"wbc-editpage\">Edit links</a></span></div>\\n\\t</div>\\n</nav>\\n\\n</div>\\n\\n</div>\\n<footer id=\"footer\" class=\"mw-footer\" role=\"contentinfo\" >\\n\\t<ul id=\"footer-info\" >\\n\\t<li id=\"footer-info-lastmod\"> This page was last edited on 6 September 2021, at 18:52<span class=\"anonymous-show\">&#160;(UTC)</span>.</li>\\n\\t<li id=\"footer-info-copyright\">Text is available under the <a rel=\"license\" href=\"//en.wikipedia.org/wiki/Wikipedia:Text_of_Creative_Commons_Attribution-ShareAlike_3.0_Unported_License\">Creative Commons Attribution-ShareAlike License</a><a rel=\"license\" href=\"//creativecommons.org/licenses/by-sa/3.0/\" style=\"display:none;\"></a>;\\nadditional terms may apply.  By using this site, you agree to the <a href=\"//foundation.wikimedia.org/wiki/Terms_of_Use\">Terms of Use</a> and <a href=\"//foundation.wikimedia.org/wiki/Privacy_policy\">Privacy Policy</a>. Wikipedia\\xc2\\xae is a registered trademark of the <a href=\"//www.wikimediafoundation.org/\">Wikimedia Foundation, Inc.</a>, a non-profit organization.</li>\\n</ul>\\n\\n\\t<ul id=\"footer-places\" >\\n\\t<li id=\"footer-places-privacy\"><a href=\"https://foundation.wikimedia.org/wiki/Privacy_policy\" class=\"extiw\" title=\"wmf:Privacy policy\">Privacy policy</a></li>\\n\\t<li id=\"footer-places-about\"><a href=\"/wiki/Wikipedia:About\" title=\"Wikipedia:About\">About Wikipedia</a></li>\\n\\t<li id=\"footer-places-disclaimer\"><a href=\"/wiki/Wikipedia:General_disclaimer\" title=\"Wikipedia:General disclaimer\">Disclaimers</a></li>\\n\\t<li id=\"footer-places-contact\"><a href=\"//en.wikipedia.org/wiki/Wikipedia:Contact_us\">Contact Wikipedia</a></li>\\n\\t<li id=\"footer-places-mobileview\"><a href=\"//en.m.wikipedia.org/w/index.php?title=General-purpose_programming_language&amp;mobileaction=toggle_view_mobile\" class=\"noprint stopMobileRedirectToggle\">Mobile view</a></li>\\n\\t<li id=\"footer-places-developers\"><a href=\"https://www.mediawiki.org/wiki/Special:MyLanguage/How_to_contribute\">Developers</a></li>\\n\\t<li id=\"footer-places-statslink\"><a href=\"https://stats.wikimedia.org/#/en.wikipedia.org\">Statistics</a></li>\\n\\t<li id=\"footer-places-cookiestatement\"><a href=\"https://foundation.wikimedia.org/wiki/Cookie_statement\">Cookie statement</a></li>\\n</ul>\\n\\n\\t<ul id=\"footer-icons\" class=\"noprint\">\\n\\t<li id=\"footer-copyrightico\"><a href=\"https://wikimediafoundation.org/\"><img src=\"/static/images/footer/wikimedia-button.png\" srcset=\"/static/images/footer/wikimedia-button-1.5x.png 1.5x, /static/images/footer/wikimedia-button-2x.png 2x\" width=\"88\" height=\"31\" alt=\"Wikimedia Foundation\" loading=\"lazy\" /></a></li>\\n\\t<li id=\"footer-poweredbyico\"><a href=\"https://www.mediawiki.org/\"><img src=\"/static/images/footer/poweredby_mediawiki_88x31.png\" alt=\"Powered by MediaWiki\" srcset=\"/static/images/footer/poweredby_mediawiki_132x47.png 1.5x, /static/images/footer/poweredby_mediawiki_176x62.png 2x\" width=\"88\" height=\"31\" loading=\"lazy\"/></a></li>\\n</ul>\\n\\n</footer>\\n\\n\\n<script>(RLQ=window.RLQ||[]).push(function(){mw.config.set({\"wgPageParseReport\":{\"limitreport\":{\"cputime\":\"0.194\",\"walltime\":\"0.354\",\"ppvisitednodes\":{\"value\":389,\"limit\":1000000},\"postexpandincludesize\":{\"value\":15060,\"limit\":2097152},\"templateargumentsize\":{\"value\":892,\"limit\":2097152},\"expansiondepth\":{\"value\":9,\"limit\":40},\"expensivefunctioncount\":{\"value\":2,\"limit\":500},\"unstrip-depth\":{\"value\":0,\"limit\":20},\"unstrip-size\":{\"value\":2783,\"limit\":5000000},\"entityaccesscount\":{\"value\":0,\"limit\":400},\"timingprofile\":[\"100.00%  314.803      1 -total\",\" 29.68%   93.444      1 Template:One_source\",\" 27.14%   85.444      1 Template:Ambox\",\" 21.61%   68.024      1 Template:Short_description\",\" 19.02%   59.876      1 Template:Prog-lang-stub\",\" 18.34%   57.720      1 Template:Asbox\",\" 15.29%   48.142      1 Template:Find_sources_mainspace\",\" 13.26%   41.730      2 Template:Pagetype\",\"  5.26%   16.559      1 Template:Div_col\",\"  4.57%   14.392      3 Template:Main_other\"]},\"scribunto\":{\"limitreport-timeusage\":{\"value\":\"0.103\",\"limit\":\"10.000\"},\"limitreport-memusage\":{\"value\":2182220,\"limit\":52428800}},\"cachereport\":{\"origin\":\"mw2312\",\"timestamp\":\"20210911163337\",\"ttl\":1814400,\"transientcontent\":false}}});});</script>\\n<script type=\"application/ld+json\">{\"@context\":\"https:\\\\/\\\\/schema.org\",\"@type\":\"Article\",\"name\":\"General-purpose programming language\",\"url\":\"https:\\\\/\\\\/en.wikipedia.org\\\\/wiki\\\\/General-purpose_programming_language\",\"sameAs\":\"http:\\\\/\\\\/www.wikidata.org\\\\/entity\\\\/Q951497\",\"mainEntity\":\"http:\\\\/\\\\/www.wikidata.org\\\\/entity\\\\/Q951497\",\"author\":{\"@type\":\"Organization\",\"name\":\"Contributors to Wikimedia projects\"},\"publisher\":{\"@type\":\"Organization\",\"name\":\"Wikimedia Foundation, Inc.\",\"logo\":{\"@type\":\"ImageObject\",\"url\":\"https:\\\\/\\\\/www.wikimedia.org\\\\/static\\\\/images\\\\/wmf-hor-googpub.png\"}},\"datePublished\":\"2004-08-11T05:07:56Z\",\"dateModified\":\"2021-09-06T18:52:34Z\",\"headline\":\"programming language designed to be used in the widest variety of application domains\"}</script>\\n<script>(RLQ=window.RLQ||[]).push(function(){mw.config.set({\"wgBackendResponseTime\":126,\"wgHostname\":\"mw1330\"});});</script>\\n</body></html>'"
      ]
     },
     "execution_count": 14,
     "metadata": {},
     "output_type": "execute_result"
    }
   ],
   "source": [
    "response.content"
   ]
  },
  {
   "cell_type": "code",
   "execution_count": 15,
   "metadata": {},
   "outputs": [
    {
     "name": "stderr",
     "output_type": "stream",
     "text": [
      "C:\\Users\\words\\anaconda3\\envs\\datasci\\lib\\site-packages\\openpyxl\\styles\\stylesheet.py:221: UserWarning: Workbook contains no default style, apply openpyxl's default\n",
      "  warn(\"Workbook contains no default style, apply openpyxl's default\")\n"
     ]
    },
    {
     "data": {
      "text/html": [
       "<div>\n",
       "<style scoped>\n",
       "    .dataframe tbody tr th:only-of-type {\n",
       "        vertical-align: middle;\n",
       "    }\n",
       "\n",
       "    .dataframe tbody tr th {\n",
       "        vertical-align: top;\n",
       "    }\n",
       "\n",
       "    .dataframe thead th {\n",
       "        text-align: right;\n",
       "    }\n",
       "</style>\n",
       "<table border=\"1\" class=\"dataframe\">\n",
       "  <thead>\n",
       "    <tr style=\"text-align: right;\">\n",
       "      <th></th>\n",
       "      <th>Unnamed: 0</th>\n",
       "      <th>Multiday Operating Margin Forecast Report</th>\n",
       "      <th>Unnamed: 2</th>\n",
       "      <th>Unnamed: 3</th>\n",
       "      <th>Unnamed: 4</th>\n",
       "      <th>Unnamed: 5</th>\n",
       "      <th>Unnamed: 6</th>\n",
       "    </tr>\n",
       "  </thead>\n",
       "  <tbody>\n",
       "    <tr>\n",
       "      <th>0</th>\n",
       "      <td>NaN</td>\n",
       "      <td>Publish Date: February 03, 2021</td>\n",
       "      <td>NaN</td>\n",
       "      <td>NaN</td>\n",
       "      <td>NaN</td>\n",
       "      <td>NaN</td>\n",
       "      <td>NaN</td>\n",
       "    </tr>\n",
       "    <tr>\n",
       "      <th>1</th>\n",
       "      <td>NaN</td>\n",
       "      <td>Market Date: February 03, 2021</td>\n",
       "      <td>NaN</td>\n",
       "      <td>NaN</td>\n",
       "      <td>NaN</td>\n",
       "      <td>NaN</td>\n",
       "      <td>NaN</td>\n",
       "    </tr>\n",
       "    <tr>\n",
       "      <th>2</th>\n",
       "      <td>NaN</td>\n",
       "      <td>NaN</td>\n",
       "      <td>NaN</td>\n",
       "      <td>NaN</td>\n",
       "      <td>NaN</td>\n",
       "      <td>NaN</td>\n",
       "      <td>NaN</td>\n",
       "    </tr>\n",
       "    <tr>\n",
       "      <th>3</th>\n",
       "      <td>NaN</td>\n",
       "      <td>2/4/21 HE 20**</td>\n",
       "      <td>2/5/21 HE 10**</td>\n",
       "      <td>2/6/21 HE 11</td>\n",
       "      <td>2/7/21 HE 20</td>\n",
       "      <td>2/8/21 HE 09**</td>\n",
       "      <td>2/9/21 HE 20**</td>\n",
       "    </tr>\n",
       "    <tr>\n",
       "      <th>4</th>\n",
       "      <td>RESOURCE COMMITTED</td>\n",
       "      <td>73143.8</td>\n",
       "      <td>70132.1</td>\n",
       "      <td>69823.7</td>\n",
       "      <td>80472.5</td>\n",
       "      <td>85188.6</td>\n",
       "      <td>82408.8</td>\n",
       "    </tr>\n",
       "  </tbody>\n",
       "</table>\n",
       "</div>"
      ],
      "text/plain": [
       "           Unnamed: 0 Multiday Operating Margin Forecast Report  \\\n",
       "0                 NaN           Publish Date: February 03, 2021   \n",
       "1                 NaN            Market Date: February 03, 2021   \n",
       "2                 NaN                                       NaN   \n",
       "3                 NaN                            2/4/21 HE 20**   \n",
       "4  RESOURCE COMMITTED                                   73143.8   \n",
       "\n",
       "       Unnamed: 2    Unnamed: 3    Unnamed: 4      Unnamed: 5      Unnamed: 6  \n",
       "0             NaN           NaN           NaN             NaN             NaN  \n",
       "1             NaN           NaN           NaN             NaN             NaN  \n",
       "2             NaN           NaN           NaN             NaN             NaN  \n",
       "3  2/5/21 HE 10**  2/6/21 HE 11  2/7/21 HE 20  2/8/21 HE 09**  2/9/21 HE 20**  \n",
       "4         70132.1       69823.7       80472.5         85188.6         82408.8  "
      ]
     },
     "execution_count": 15,
     "metadata": {},
     "output_type": "execute_result"
    }
   ],
   "source": [
    "res = rq.get(datafile_url)\n",
    "df = pd.read_excel(res.content)\n",
    "df.head()"
   ]
  },
  {
   "cell_type": "code",
   "execution_count": 16,
   "metadata": {},
   "outputs": [],
   "source": [
    "r = rq.get('https://api.github.com/events')\n",
    "d = r.json()"
   ]
  },
  {
   "cell_type": "code",
   "execution_count": 17,
   "metadata": {},
   "outputs": [
    {
     "data": {
      "text/plain": [
       "30"
      ]
     },
     "execution_count": 17,
     "metadata": {},
     "output_type": "execute_result"
    }
   ],
   "source": [
    "len(d)"
   ]
  },
  {
   "cell_type": "code",
   "execution_count": 18,
   "metadata": {},
   "outputs": [
    {
     "data": {
      "text/plain": [
       "dict"
      ]
     },
     "execution_count": 18,
     "metadata": {},
     "output_type": "execute_result"
    }
   ],
   "source": [
    "type(d[0])"
   ]
  },
  {
   "cell_type": "code",
   "execution_count": 19,
   "metadata": {},
   "outputs": [
    {
     "data": {
      "text/plain": [
       "dict_keys(['id', 'type', 'actor', 'repo', 'payload', 'public', 'created_at'])"
      ]
     },
     "execution_count": 19,
     "metadata": {},
     "output_type": "execute_result"
    }
   ],
   "source": [
    "d[0].keys()"
   ]
  },
  {
   "cell_type": "markdown",
   "metadata": {},
   "source": [
    "## Downloading several files"
   ]
  },
  {
   "cell_type": "code",
   "execution_count": 20,
   "metadata": {},
   "outputs": [],
   "source": [
    "url = 'https://docs.misoenergy.org/marketreports/{}_mom.xlsx'"
   ]
  },
  {
   "cell_type": "code",
   "execution_count": 21,
   "metadata": {
    "scrolled": true
   },
   "outputs": [
    {
     "data": {
      "text/plain": [
       "Index(['20191106', '20191107', '20191108', '20191109', '20191110', '20191111',\n",
       "       '20191112', '20191113', '20191114', '20191115',\n",
       "       ...\n",
       "       '20210127', '20210128', '20210129', '20210130', '20210131', '20210201',\n",
       "       '20210202', '20210203', '20210204', '20210205'],\n",
       "      dtype='object', length=458)"
      ]
     },
     "execution_count": 21,
     "metadata": {},
     "output_type": "execute_result"
    }
   ],
   "source": [
    "dates = pd.date_range(start='20191106', end='20210205')\n",
    "dates = dates.strftime(date_format='%Y%m%d')\n",
    "dates"
   ]
  },
  {
   "cell_type": "code",
   "execution_count": 22,
   "metadata": {},
   "outputs": [],
   "source": [
    "import os\n",
    "from urllib.error import HTTPError\n",
    "\n",
    "for d in dates:\n",
    "    filename = f'mom_reports/{d}_mom.xlsx'\n",
    "    if os.path.exists(filename):\n",
    "        continue\n",
    "    \n",
    "    try:\n",
    "        urlretrieve(url.format(d), filename)\n",
    "    except HTTPError:\n",
    "        continue"
   ]
  },
  {
   "cell_type": "code",
   "execution_count": 23,
   "metadata": {},
   "outputs": [],
   "source": [
    "from glob import glob\n",
    "excel_files = glob('mom_reports/*.xlsx')"
   ]
  },
  {
   "cell_type": "code",
   "execution_count": 24,
   "metadata": {},
   "outputs": [],
   "source": [
    "from xlrd import XLRDError\n",
    "\n",
    "def extract_miso_forecasts(path):\n",
    "    \"\"\"\n",
    "    Takes a filepath to .xlsx MISO MOM reports and extracts wind and load forecasts.\n",
    "    Saves data to an Excel file - miso_forecasts.xlsx, and returns the DataFrame.\n",
    "    \"\"\"\n",
    "    excel_files = glob(os.path.join(path, '*.xlsx'))\n",
    "    full_forecast_df = None\n",
    "    for file in excel_files:\n",
    "        try:\n",
    "            df = pd.read_excel(file, sheet_name='MISO', skiprows=4, nrows=17, index_col=0, usecols=range(7))\n",
    "        except (XLRDError, ValueError):\n",
    "            df = pd.read_excel(file, sheet_name='MOM Report', skiprows=4, nrows=17, index_col=0, usecols=range(7))\n",
    "        \n",
    "        # get data\n",
    "        loads = df.loc['Projected Load', :].to_list()\n",
    "        wind = df.loc['Renewable Forecast', :].to_list()\n",
    "        \n",
    "        # make column labels\n",
    "        load_labels = [f'load_d{d}' for d in range(1, 7)]\n",
    "        wind_labels = [f'wind_d{d}' for d in range(1, 7)]\n",
    "        \n",
    "        # create and append dataframe\n",
    "        data_dict = {col: val for col, val in zip(load_labels + wind_labels, loads + wind)}\n",
    "        date = pd.to_datetime(file.split('\\\\')[-1].split('_')[0])\n",
    "        forecast_df = pd.DataFrame.from_records(data=data_dict, index=[date])\n",
    "        if full_forecast_df is None:\n",
    "            full_forecast_df = forecast_df.copy()\n",
    "        else:\n",
    "            full_forecast_df = full_forecast_df.append(forecast_df)\n",
    "    \n",
    "    full_forecast_df.sort_index(inplace=True)\n",
    "    full_forecast_df.to_excel('miso_forecasts.xlsx')\n",
    "    return full_forecast_df"
   ]
  },
  {
   "cell_type": "code",
   "execution_count": 25,
   "metadata": {},
   "outputs": [
    {
     "name": "stderr",
     "output_type": "stream",
     "text": [
      "C:\\Users\\words\\anaconda3\\envs\\datasci\\lib\\site-packages\\openpyxl\\styles\\stylesheet.py:221: UserWarning: Workbook contains no default style, apply openpyxl's default\n",
      "  warn(\"Workbook contains no default style, apply openpyxl's default\")\n"
     ]
    }
   ],
   "source": [
    "df = extract_miso_forecasts('mom_reports')"
   ]
  },
  {
   "cell_type": "code",
   "execution_count": 26,
   "metadata": {},
   "outputs": [],
   "source": [
    "plot_df = pd.concat([df['wind_d1'], df['wind_d2'].shift(), df['wind_d3'].shift(2)], axis=1)\n",
    "plot_df.index += pd.DateOffset(1)"
   ]
  },
  {
   "cell_type": "code",
   "execution_count": 27,
   "metadata": {},
   "outputs": [
    {
     "data": {
      "image/png": "[encoded data removed]",
      "text/plain": [
       "<Figure size 396x396 with 1 Axes>"
      ]
     },
     "metadata": {},
     "output_type": "display_data"
    }
   ],
   "source": [
    "import matplotlib.pyplot as plt\n",
    "# uncommenting the next line makes the plot interactive\n",
    "#%matplotlib widget\n",
    "\n",
    "f = plt.figure(figsize=(5.5, 5.5))\n",
    "f.patch.set_facecolor('w')  # sets background color behind axis labels\n",
    "plot_df.plot(ax=plt.gca())"
   ]
  },
  {
   "cell_type": "code",
   "execution_count": 28,
   "metadata": {},
   "outputs": [
    {
     "data": {
      "text/plain": [
       "0.1283370478815929"
      ]
     },
     "execution_count": 28,
     "metadata": {},
     "output_type": "execute_result"
    }
   ],
   "source": [
    "(plot_df['wind_d2'] - plot_df['wind_d1']).abs().mean() / plot_df['wind_d1'].mean()"
   ]
  },
  {
   "cell_type": "code",
   "execution_count": 29,
   "metadata": {},
   "outputs": [
    {
     "data": {
      "text/plain": [
       "inf"
      ]
     },
     "execution_count": 29,
     "metadata": {},
     "output_type": "execute_result"
    }
   ],
   "source": [
    "((plot_df['wind_d2'] - plot_df['wind_d1']) / plot_df['wind_d1']).abs().mean()"
   ]
  },
  {
   "cell_type": "markdown",
   "metadata": {},
   "source": [
    "## Parsing HTML from scraped pages"
   ]
  },
  {
   "cell_type": "markdown",
   "metadata": {},
   "source": [
    "urllib and requests don't work with JavaScript, use requests-html, Scrapy with scrapy-splash, or Selenium (there are probably other options too)."
   ]
  },
  {
   "cell_type": "code",
   "execution_count": 30,
   "metadata": {},
   "outputs": [],
   "source": [
    "res = rq.get('https://www.packtpub.com/')\n",
    "with open('packt.html', 'wb') as f:\n",
    "    f.write(res.content)"
   ]
  },
  {
   "cell_type": "code",
   "execution_count": 31,
   "metadata": {},
   "outputs": [],
   "source": [
    "url = 'https://en.wikipedia.org/wiki/General-purpose_programming_language'\n",
    "wiki_text = urlopen(url).read().decode('utf-8')"
   ]
  },
  {
   "cell_type": "code",
   "execution_count": 32,
   "metadata": {},
   "outputs": [
    {
     "data": {
      "text/plain": [
       "'<!DOCTYPE html>\\n<html class=\"client-nojs\" lang=\"en'"
      ]
     },
     "execution_count": 32,
     "metadata": {},
     "output_type": "execute_result"
    }
   ],
   "source": [
    "wiki_text[:50]"
   ]
  },
  {
   "cell_type": "code",
   "execution_count": 33,
   "metadata": {},
   "outputs": [],
   "source": [
    "from bs4 import BeautifulSoup as bs\n",
    "import lxml"
   ]
  },
  {
   "cell_type": "code",
   "execution_count": 34,
   "metadata": {},
   "outputs": [],
   "source": [
    "soup = bs(wiki_text)"
   ]
  },
  {
   "cell_type": "code",
   "execution_count": 35,
   "metadata": {},
   "outputs": [
    {
     "data": {
      "text/plain": [
       "<a href=\"/wiki/Programming_language\" title=\"Programming language\">programming-language</a>"
      ]
     },
     "execution_count": 35,
     "metadata": {},
     "output_type": "execute_result"
    }
   ],
   "source": [
    "links = soup.find_all('a')\n",
    "links[102]"
   ]
  },
  {
   "cell_type": "markdown",
   "metadata": {},
   "source": [
    "This index will likely change over time. You can find the current index for the programming-language link by searching the output below:"
   ]
  },
  {
   "cell_type": "code",
   "execution_count": 36,
   "metadata": {},
   "outputs": [
    {
     "data": {
      "text/plain": [
       "[(0, <a id=\"top\"></a>),\n",
       " (1, <a class=\"mw-jump-link\" href=\"#mw-head\">Jump to navigation</a>),\n",
       " (2, <a class=\"mw-jump-link\" href=\"#searchInput\">Jump to search</a>),\n",
       " (3,\n",
       "  <a class=\"image\" href=\"/wiki/File:Question_book-new.svg\"><img alt=\"Question book-new.svg\" data-file-height=\"399\" data-file-width=\"512\" decoding=\"async\" height=\"39\" src=\"//upload.wikimedia.org/wikipedia/en/thumb/9/99/Question_book-new.svg/50px-Question_book-new.svg.png\" srcset=\"//upload.wikimedia.org/wikipedia/en/thumb/9/99/Question_book-new.svg/75px-Question_book-new.svg.png 1.5x, //upload.wikimedia.org/wikipedia/en/thumb/9/99/Question_book-new.svg/100px-Question_book-new.svg.png 2x\" width=\"50\"/></a>),\n",
       " (4,\n",
       "  <a href=\"/wiki/Wikipedia:Articles_with_a_single_source\" title=\"Wikipedia:Articles with a single source\">single source</a>),\n",
       " (5,\n",
       "  <a href=\"/wiki/Talk:General-purpose_programming_language##\" title=\"Talk:General-purpose programming language\">talk page</a>),\n",
       " (6,\n",
       "  <a class=\"external text\" href=\"https://en.wikipedia.org/w/index.php?title=General-purpose_programming_language&amp;action=edit\">improve this article</a>),\n",
       " (7,\n",
       "  <a href=\"/wiki/Help:Referencing_for_beginners\" title=\"Help:Referencing for beginners\">introducing  citations to additional sources</a>),\n",
       " (8,\n",
       "  <a class=\"external text\" href=\"//www.google.com/search?as_eq=wikipedia&amp;q=%22General-purpose+programming+language%22\" rel=\"nofollow\">\"General-purpose programming language\"</a>),\n",
       " (9,\n",
       "  <a class=\"external text\" href=\"//www.google.com/search?tbm=nws&amp;q=%22General-purpose+programming+language%22+-wikipedia\" rel=\"nofollow\">news</a>),\n",
       " (10,\n",
       "  <a class=\"external text\" href=\"//www.google.com/search?&amp;q=%22General-purpose+programming+language%22&amp;tbs=bkt:s&amp;tbm=bks\" rel=\"nofollow\">newspapers</a>),\n",
       " (11,\n",
       "  <a class=\"external text\" href=\"//www.google.com/search?tbs=bks:1&amp;q=%22General-purpose+programming+language%22+-wikipedia\" rel=\"nofollow\">books</a>),\n",
       " (12,\n",
       "  <a class=\"external text\" href=\"//scholar.google.com/scholar?q=%22General-purpose+programming+language%22\" rel=\"nofollow\">scholar</a>),\n",
       " (13,\n",
       "  <a class=\"external text\" href=\"https://www.jstor.org/action/doBasicSearch?Query=%22General-purpose+programming+language%22&amp;acc=on&amp;wc=on\" rel=\"nofollow\">JSTOR</a>),\n",
       " (14,\n",
       "  <a class=\"mw-redirect\" href=\"/wiki/Computer_software\" title=\"Computer software\">computer software</a>),\n",
       " (15,\n",
       "  <a href=\"/wiki/Programming_language\" title=\"Programming language\">programming language</a>),\n",
       " (16,\n",
       "  <a href=\"/wiki/General-purpose_language\" title=\"General-purpose language\">general-purpose</a>),\n",
       " (17, <a href=\"/wiki/Software\" title=\"Software\">software</a>),\n",
       " (18,\n",
       "  <a href=\"/wiki/Domain_(software_engineering)\" title=\"Domain (software engineering)\">domains</a>),\n",
       " (19,\n",
       "  <a href=\"#History\"><span class=\"tocnumber\">1</span> <span class=\"toctext\">History</span></a>),\n",
       " (20,\n",
       "  <a href=\"#Definitions\"><span class=\"tocnumber\">2</span> <span class=\"toctext\">Definitions</span></a>),\n",
       " (21,\n",
       "  <a href=\"#List\"><span class=\"tocnumber\">3</span> <span class=\"toctext\">List</span></a>),\n",
       " (22,\n",
       "  <a href=\"#Notes\"><span class=\"tocnumber\">4</span> <span class=\"toctext\">Notes</span></a>),\n",
       " (23,\n",
       "  <a href=\"#See_also\"><span class=\"tocnumber\">5</span> <span class=\"toctext\">See also</span></a>),\n",
       " (24,\n",
       "  <a href=\"/w/index.php?title=General-purpose_programming_language&amp;action=edit&amp;section=1\" title=\"Edit section: History\">edit</a>),\n",
       " (25, <a href=\"/wiki/Fortran\" title=\"Fortran\">Fortran</a>),\n",
       " (26, <a href=\"/wiki/ALGOL\" title=\"ALGOL\">Algol</a>),\n",
       " (27, <a href=\"/wiki/COBOL\" title=\"COBOL\">COBOL</a>),\n",
       " (28,\n",
       "  <a href=\"/wiki/Record_(computer_science)\" title=\"Record (computer science)\">data records</a>),\n",
       " (29, <a class=\"mw-redirect\" href=\"/wiki/IPL-V\" title=\"IPL-V\">IPL-V</a>),\n",
       " (30, <a class=\"mw-redirect\" href=\"/wiki/LISP\" title=\"LISP\">LISP</a>),\n",
       " (31,\n",
       "  <a href=\"/wiki/List_(abstract_data_type)\" title=\"List (abstract data type)\">symbolic list processing</a>),\n",
       " (32, <a href=\"/wiki/COMIT\" title=\"COMIT\">COMIT</a>),\n",
       " (33,\n",
       "  <a href=\"/wiki/APT_(programming_language)\" title=\"APT (programming language)\">APT</a>),\n",
       " (34,\n",
       "  <a href=\"/wiki/Numerical_control\" title=\"Numerical control\">numerically controlled machines</a>),\n",
       " (35,\n",
       "  <a href=\"/wiki/Systems_programming\" title=\"Systems programming\">Systems programming</a>),\n",
       " (36,\n",
       "  <a href=\"/wiki/Pointer_(computer_programming)\" title=\"Pointer (computer programming)\">pointer manipulation</a>),\n",
       " (37,\n",
       "  <a href=\"/wiki/Assembly_language\" title=\"Assembly language\">assembly language</a>),\n",
       " (38, <a href=\"/wiki/JOVIAL\" title=\"JOVIAL\">JOVIAL</a>),\n",
       " (39, <a href=\"#cite_note-sammet-1\">[1]</a>),\n",
       " (40, <a href=\"/wiki/IBM\" title=\"IBM\">IBM</a>),\n",
       " (41, <a href=\"/wiki/IBM_System/360\" title=\"IBM System/360\">System/360</a>),\n",
       " (42, <a href=\"/wiki/PL/I\" title=\"PL/I\">PL/I</a>),\n",
       " (43, <a href=\"/wiki/Multics\" title=\"Multics\">Multics</a>),\n",
       " (44,\n",
       "  <a href=\"/wiki/Database#Database_management_system\" title=\"Database\">database management systems</a>),\n",
       " (45, <a href=\"/wiki/GPSS\" title=\"GPSS\">GPSS</a>),\n",
       " (46, <a href=\"/wiki/Simula\" title=\"Simula\">Simula</a>),\n",
       " (47,\n",
       "  <a href=\"/wiki/MAD_(programming_language)\" title=\"MAD (programming language)\">MAD</a>),\n",
       " (48, <a href=\"/wiki/BASIC\" title=\"BASIC\">BASIC</a>),\n",
       " (49,\n",
       "  <a href=\"/wiki/Logo_(programming_language)\" title=\"Logo (programming language)\">Logo</a>),\n",
       " (50,\n",
       "  <a href=\"/wiki/Pascal_(programming_language)\" title=\"Pascal (programming language)\">Pascal</a>),\n",
       " (51,\n",
       "  <a href=\"/wiki/C_(programming_language)\" title=\"C (programming language)\">C</a>),\n",
       " (52, <a href=\"/wiki/JOSS\" title=\"JOSS\">JOSS</a>),\n",
       " (53,\n",
       "  <a class=\"mw-redirect\" href=\"/wiki/APL%5C360\" title=\"APL\\360\">APL\\360</a>),\n",
       " (54, <a href=\"#cite_note-sammet-1\">[1]</a>),\n",
       " (55,\n",
       "  <a href=\"/w/index.php?title=General-purpose_programming_language&amp;action=edit&amp;section=2\" title=\"Edit section: Definitions\">edit</a>),\n",
       " (56,\n",
       "  <a class=\"mw-redirect\" href=\"/wiki/Domain-specific_programming_language\" title=\"Domain-specific programming language\">domain-specific programming language</a>),\n",
       " (57,\n",
       "  <a href=\"/wiki/Page_description_language\" title=\"Page description language\">page description languages</a>),\n",
       " (58,\n",
       "  <a class=\"mw-redirect\" href=\"/wiki/Database_query_language\" title=\"Database query language\">database query languages</a>),\n",
       " (59,\n",
       "  <a href=\"/w/index.php?title=General-purpose_programming_language&amp;action=edit&amp;section=3\" title=\"Edit section: List\">edit</a>),\n",
       " (60,\n",
       "  <a href=\"/wiki/C_(programming_language)\" title=\"C (programming language)\"> C</a>),\n",
       " (61, <a href=\"/wiki/C%2B%2B\" title=\"C++\">C++</a>),\n",
       " (62,\n",
       "  <a href=\"/wiki/C_Sharp_(programming_language)\" title=\"C Sharp (programming language)\">C#</a>),\n",
       " (63, <a href=\"/wiki/Clojure\" title=\"Clojure\">Clojure</a>),\n",
       " (64,\n",
       "  <a href=\"/wiki/Crystal_(programming_language)\" title=\"Crystal (programming language)\">Crystal</a>),\n",
       " (65,\n",
       "  <a href=\"/wiki/Dart_(programming_language)\" title=\"Dart (programming language)\">Dart</a>),\n",
       " (66,\n",
       "  <a href=\"/wiki/Elixir_(programming_language)\" title=\"Elixir (programming language)\">Elixir</a>),\n",
       " (67,\n",
       "  <a href=\"/wiki/Erlang_(programming_language)\" title=\"Erlang (programming language)\">Erlang</a>),\n",
       " (68,\n",
       "  <a href=\"/wiki/F_Sharp_(programming_language)\" title=\"F Sharp (programming language)\">F#</a>),\n",
       " (69,\n",
       "  <a href=\"/wiki/Go_(programming_language)\" title=\"Go (programming language)\">Go</a>),\n",
       " (70,\n",
       "  <a class=\"mw-redirect\" href=\"/wiki/Harbour_compiler\" title=\"Harbour compiler\">Harbour</a>),\n",
       " (71,\n",
       "  <a href=\"/wiki/Haskell_(programming_language)\" title=\"Haskell (programming language)\">Haskell</a>),\n",
       " (72,\n",
       "  <a href=\"/wiki/Java_(programming_language)\" title=\"Java (programming language)\">Java</a>),\n",
       " (73,\n",
       "  <a class=\"mw-redirect\" href=\"/wiki/JavaScript_(programming_language)\" title=\"JavaScript (programming language)\">JavaScript</a>),\n",
       " (74,\n",
       "  <a href=\"/wiki/Julia_(programming_language)\" title=\"Julia (programming language)\">Julia</a>),\n",
       " (75,\n",
       "  <a href=\"/wiki/Kotlin_(programming_language)\" title=\"Kotlin (programming language)\">Kotlin</a>),\n",
       " (76,\n",
       "  <a href=\"/wiki/Lua_(programming_language)\" title=\"Lua (programming language)\">Lua</a>),\n",
       " (77, <a href=\"/wiki/Modula-2\" title=\"Modula-2\">Modula-2</a>),\n",
       " (78,\n",
       "  <a href=\"/wiki/Oberon_(programming_language)\" title=\"Oberon (programming language)\">Oberon</a>),\n",
       " (79, <a href=\"/wiki/Objective-C\" title=\"Objective-C\">Objective-C</a>),\n",
       " (80, <a href=\"/wiki/Perl\" title=\"Perl\">Perl</a>),\n",
       " (81, <a href=\"/wiki/PHP\" title=\"PHP\">PHP</a>),\n",
       " (82,\n",
       "  <a class=\"mw-redirect\" href=\"/wiki/Pike_(programming_language)\" title=\"Pike (programming language)\">Pike</a>),\n",
       " (83, <a href=\"/wiki/PL/I\" title=\"PL/I\">PL/I</a>),\n",
       " (84,\n",
       "  <a href=\"/wiki/Python_(programming_language)\" title=\"Python (programming language)\">Python</a>),\n",
       " (85,\n",
       "  <a href=\"/wiki/Racket_(programming_language)\" title=\"Racket (programming language)\">Racket</a>),\n",
       " (86,\n",
       "  <a href=\"/wiki/Ruby_(programming_language)\" title=\"Ruby (programming language)\">Ruby</a>),\n",
       " (87,\n",
       "  <a href=\"/wiki/Rust_(programming_language)\" title=\"Rust (programming language)\">Rust</a>),\n",
       " (88,\n",
       "  <a href=\"/wiki/Scala_(programming_language)\" title=\"Scala (programming language)\">Scala</a>),\n",
       " (89,\n",
       "  <a href=\"/wiki/Swift_(programming_language)\" title=\"Swift (programming language)\">Swift</a>),\n",
       " (90, <a href=\"/wiki/Tcl\" title=\"Tcl\">Tcl</a>),\n",
       " (91, <a href=\"/wiki/Visual_Basic\" title=\"Visual Basic\">Visual Basic</a>),\n",
       " (92,\n",
       "  <a href=\"/wiki/Visual_Basic_.NET\" title=\"Visual Basic .NET\">Visual Basic .NET</a>),\n",
       " (93,\n",
       "  <a href=\"/w/index.php?title=General-purpose_programming_language&amp;action=edit&amp;section=4\" title=\"Edit section: Notes\">edit</a>),\n",
       " (94, <a href=\"#cite_ref-sammet_1-0\"><sup><i><b>a</b></i></sup></a>),\n",
       " (95, <a href=\"#cite_ref-sammet_1-1\"><sup><i><b>b</b></i></sup></a>),\n",
       " (96,\n",
       "  <a class=\"mw-redirect\" href=\"/wiki/Doi_(identifier)\" title=\"Doi (identifier)\">doi</a>),\n",
       " (97,\n",
       "  <a class=\"external text\" href=\"https://doi.org/10.1145%2F361454.361485\" rel=\"nofollow\">10.1145/361454.361485</a>),\n",
       " (98,\n",
       "  <a href=\"/w/index.php?title=General-purpose_programming_language&amp;action=edit&amp;section=5\" title=\"Edit section: See also\">edit</a>),\n",
       " (99,\n",
       "  <a href=\"/wiki/General-purpose_markup_language\" title=\"General-purpose markup language\">General-purpose markup language</a>),\n",
       " (100,\n",
       "  <a class=\"mw-redirect\" href=\"/wiki/General-purpose_modeling_language\" title=\"General-purpose modeling language\">General-purpose modeling language</a>),\n",
       " (101,\n",
       "  <a class=\"image\" href=\"/wiki/File:HelloWorld_in_black_and_white.svg\"><img alt=\"Stub icon\" data-file-height=\"256\" data-file-width=\"512\" decoding=\"async\" height=\"25\" src=\"//upload.wikimedia.org/wikipedia/commons/thumb/7/74/HelloWorld_in_black_and_white.svg/50px-HelloWorld_in_black_and_white.svg.png\" srcset=\"//upload.wikimedia.org/wikipedia/commons/thumb/7/74/HelloWorld_in_black_and_white.svg/75px-HelloWorld_in_black_and_white.svg.png 1.5x, //upload.wikimedia.org/wikipedia/commons/thumb/7/74/HelloWorld_in_black_and_white.svg/100px-HelloWorld_in_black_and_white.svg.png 2x\" width=\"50\"/></a>),\n",
       " (102,\n",
       "  <a href=\"/wiki/Programming_language\" title=\"Programming language\">programming-language</a>),\n",
       " (103, <a href=\"/wiki/Wikipedia:Stub\" title=\"Wikipedia:Stub\">stub</a>),\n",
       " (104,\n",
       "  <a class=\"external text\" href=\"https://en.wikipedia.org/w/index.php?title=General-purpose_programming_language&amp;action=edit\">expanding it</a>),\n",
       " (105,\n",
       "  <a href=\"/wiki/Template:Prog-lang-stub\" title=\"Template:Prog-lang-stub\"><abbr style=\";text-decoration:inherit;\" title=\"View this template\">v</abbr></a>),\n",
       " (106,\n",
       "  <a href=\"/wiki/Template_talk:Prog-lang-stub\" title=\"Template talk:Prog-lang-stub\"><abbr style=\";text-decoration:inherit;\" title=\"Discuss this template\">t</abbr></a>),\n",
       " (107,\n",
       "  <a class=\"external text\" href=\"https://en.wikipedia.org/w/index.php?title=Template:Prog-lang-stub&amp;action=edit\"><abbr style=\";text-decoration:inherit;\" title=\"Edit this template\">e</abbr></a>),\n",
       " (108,\n",
       "  <a dir=\"ltr\" href=\"https://en.wikipedia.org/w/index.php?title=General-purpose_programming_language&amp;oldid=1042781005\">https://en.wikipedia.org/w/index.php?title=General-purpose_programming_language&amp;oldid=1042781005</a>),\n",
       " (109, <a href=\"/wiki/Help:Category\" title=\"Help:Category\">Categories</a>),\n",
       " (110,\n",
       "  <a href=\"/wiki/Category:Programming_languages\" title=\"Category:Programming languages\">Programming languages</a>),\n",
       " (111,\n",
       "  <a href=\"/wiki/Category:Programming_language_topic_stubs\" title=\"Category:Programming language topic stubs\">Programming language topic stubs</a>),\n",
       " (112,\n",
       "  <a href=\"/wiki/Category:Articles_with_short_description\" title=\"Category:Articles with short description\">Articles with short description</a>),\n",
       " (113,\n",
       "  <a href=\"/wiki/Category:Articles_with_long_short_description\" title=\"Category:Articles with long short description\">Articles with long short description</a>),\n",
       " (114,\n",
       "  <a href=\"/wiki/Category:Short_description_is_different_from_Wikidata\" title=\"Category:Short description is different from Wikidata\">Short description is different from Wikidata</a>),\n",
       " (115,\n",
       "  <a href=\"/wiki/Category:Articles_needing_additional_references_from_January_2021\" title=\"Category:Articles needing additional references from January 2021\">Articles needing additional references from January 2021</a>),\n",
       " (116,\n",
       "  <a href=\"/wiki/Category:All_articles_needing_additional_references\" title=\"Category:All articles needing additional references\">All articles needing additional references</a>),\n",
       " (117,\n",
       "  <a href=\"/wiki/Category:All_stub_articles\" title=\"Category:All stub articles\">All stub articles</a>),\n",
       " (118,\n",
       "  <a accesskey=\"n\" href=\"/wiki/Special:MyTalk\" title=\"Discussion about edits from this IP address [n]\">Talk</a>),\n",
       " (119,\n",
       "  <a accesskey=\"y\" href=\"/wiki/Special:MyContributions\" title=\"A list of edits made from this IP address [y]\">Contributions</a>),\n",
       " (120,\n",
       "  <a href=\"/w/index.php?title=Special:CreateAccount&amp;returnto=General-purpose+programming+language\" title=\"You are encouraged to create an account and log in; however, it is not mandatory\">Create account</a>),\n",
       " (121,\n",
       "  <a accesskey=\"o\" href=\"/w/index.php?title=Special:UserLogin&amp;returnto=General-purpose+programming+language\" title=\"You're encouraged to log in; however, it's not mandatory. [o]\">Log in</a>),\n",
       " (122,\n",
       "  <a accesskey=\"c\" href=\"/wiki/General-purpose_programming_language\" title=\"View the content page [c]\">Article</a>),\n",
       " (123,\n",
       "  <a accesskey=\"t\" href=\"/wiki/Talk:General-purpose_programming_language\" rel=\"discussion\" title=\"Discuss improvements to the content page [t]\">Talk</a>),\n",
       " (124, <a href=\"/wiki/General-purpose_programming_language\">Read</a>),\n",
       " (125,\n",
       "  <a accesskey=\"e\" href=\"/w/index.php?title=General-purpose_programming_language&amp;action=edit\" title=\"Edit this page [e]\">Edit</a>),\n",
       " (126,\n",
       "  <a accesskey=\"h\" href=\"/w/index.php?title=General-purpose_programming_language&amp;action=history\" title=\"Past revisions of this page [h]\">View history</a>),\n",
       " (127,\n",
       "  <a class=\"mw-wiki-logo\" href=\"/wiki/Main_Page\" title=\"Visit the main page\"></a>),\n",
       " (128,\n",
       "  <a accesskey=\"z\" href=\"/wiki/Main_Page\" title=\"Visit the main page [z]\">Main page</a>),\n",
       " (129,\n",
       "  <a href=\"/wiki/Wikipedia:Contents\" title=\"Guides to browsing Wikipedia\">Contents</a>),\n",
       " (130,\n",
       "  <a href=\"/wiki/Portal:Current_events\" title=\"Articles related to current events\">Current events</a>),\n",
       " (131,\n",
       "  <a accesskey=\"x\" href=\"/wiki/Special:Random\" title=\"Visit a randomly selected article [x]\">Random article</a>),\n",
       " (132,\n",
       "  <a href=\"/wiki/Wikipedia:About\" title=\"Learn about Wikipedia and how it works\">About Wikipedia</a>),\n",
       " (133,\n",
       "  <a href=\"//en.wikipedia.org/wiki/Wikipedia:Contact_us\" title=\"How to contact Wikipedia\">Contact us</a>),\n",
       " (134,\n",
       "  <a href=\"https://donate.wikimedia.org/wiki/Special:FundraiserRedirector?utm_source=donate&amp;utm_medium=sidebar&amp;utm_campaign=C13_en.wikipedia.org&amp;uselang=en\" title=\"Support us by donating to the Wikimedia Foundation\">Donate</a>),\n",
       " (135,\n",
       "  <a href=\"/wiki/Help:Contents\" title=\"Guidance on how to use and edit Wikipedia\">Help</a>),\n",
       " (136,\n",
       "  <a href=\"/wiki/Help:Introduction\" title=\"Learn how to edit Wikipedia\">Learn to edit</a>),\n",
       " (137,\n",
       "  <a href=\"/wiki/Wikipedia:Community_portal\" title=\"The hub for editors\">Community portal</a>),\n",
       " (138,\n",
       "  <a accesskey=\"r\" href=\"/wiki/Special:RecentChanges\" title=\"A list of recent changes to Wikipedia [r]\">Recent changes</a>),\n",
       " (139,\n",
       "  <a href=\"/wiki/Wikipedia:File_Upload_Wizard\" title=\"Add images or other media for use on Wikipedia\">Upload file</a>),\n",
       " (140,\n",
       "  <a accesskey=\"j\" href=\"/wiki/Special:WhatLinksHere/General-purpose_programming_language\" title=\"List of all English Wikipedia pages containing links to this page [j]\">What links here</a>),\n",
       " (141,\n",
       "  <a accesskey=\"k\" href=\"/wiki/Special:RecentChangesLinked/General-purpose_programming_language\" rel=\"nofollow\" title=\"Recent changes in pages linked from this page [k]\">Related changes</a>),\n",
       " (142,\n",
       "  <a accesskey=\"u\" href=\"/wiki/Wikipedia:File_Upload_Wizard\" title=\"Upload files [u]\">Upload file</a>),\n",
       " (143,\n",
       "  <a accesskey=\"q\" href=\"/wiki/Special:SpecialPages\" title=\"A list of all special pages [q]\">Special pages</a>),\n",
       " (144,\n",
       "  <a href=\"/w/index.php?title=General-purpose_programming_language&amp;oldid=1042781005\" title=\"Permanent link to this revision of this page\">Permanent link</a>),\n",
       " (145,\n",
       "  <a href=\"/w/index.php?title=General-purpose_programming_language&amp;action=info\" title=\"More information about this page\">Page information</a>),\n",
       " (146,\n",
       "  <a href=\"/w/index.php?title=Special:CiteThisPage&amp;page=General-purpose_programming_language&amp;id=1042781005&amp;wpFormIdentifier=titleform\" title=\"Information on how to cite this page\">Cite this page</a>),\n",
       " (147,\n",
       "  <a accesskey=\"g\" href=\"https://www.wikidata.org/wiki/Special:EntityPage/Q951497\" title=\"Structured data on this page hosted by Wikidata [g]\">Wikidata item</a>),\n",
       " (148,\n",
       "  <a href=\"/w/index.php?title=Special:DownloadAsPdf&amp;page=General-purpose_programming_language&amp;action=show-download-screen\" title=\"Download this page as a PDF file\">Download as PDF</a>),\n",
       " (149,\n",
       "  <a accesskey=\"p\" href=\"/w/index.php?title=General-purpose_programming_language&amp;printable=yes\" title=\"Printable version of this page [p]\">Printable version</a>),\n",
       " (150,\n",
       "  <a class=\"interlanguage-link-target\" href=\"https://ar.wikipedia.org/wiki/%D9%84%D8%BA%D8%A9_%D8%A8%D8%B1%D9%85%D8%AC%D8%A9_%D9%85%D8%AA%D8%B9%D8%AF%D8%AF%D8%A9_%D8%A7%D9%84%D8%A7%D8%B3%D8%AA%D8%AE%D8%AF%D8%A7%D9%85%D8%A7%D8%AA\" hreflang=\"ar\" lang=\"ar\" title=\"لغة برمجة متعددة الاستخدامات – Arabic\">العربية</a>),\n",
       " (151,\n",
       "  <a class=\"interlanguage-link-target\" href=\"https://az.wikipedia.org/wiki/%C3%87oxm%C9%99qs%C9%99dli_dil\" hreflang=\"az\" lang=\"az\" title=\"Çoxməqsədli dil – Azerbaijani\">Azərbaycanca</a>),\n",
       " (152,\n",
       "  <a class=\"interlanguage-link-target\" href=\"https://bs.wikipedia.org/wiki/Programski_jezik_op%C4%87e_namjene\" hreflang=\"bs\" lang=\"bs\" title=\"Programski jezik opće namjene – Bosnian\">Bosanski</a>),\n",
       " (153,\n",
       "  <a class=\"interlanguage-link-target\" href=\"https://ca.wikipedia.org/wiki/Llenguatge_de_programaci%C3%B3_de_prop%C3%B2sit_general\" hreflang=\"ca\" lang=\"ca\" title=\"Llenguatge de programació de propòsit general – Catalan\">Català</a>),\n",
       " (154,\n",
       "  <a class=\"interlanguage-link-target\" href=\"https://de.wikipedia.org/wiki/General_Purpose_Language\" hreflang=\"de\" lang=\"de\" title=\"General Purpose Language – German\">Deutsch</a>),\n",
       " (155,\n",
       "  <a class=\"interlanguage-link-target\" href=\"https://eo.wikipedia.org/wiki/%C4%9Ceneralcela_programlingvo\" hreflang=\"eo\" lang=\"eo\" title=\"Ĝeneralcela programlingvo – Esperanto\">Esperanto</a>),\n",
       " (156,\n",
       "  <a class=\"interlanguage-link-target\" href=\"https://fa.wikipedia.org/wiki/%D8%B2%D8%A8%D8%A7%D9%86_%D8%A8%D8%B1%D9%86%D8%A7%D9%85%D9%87%E2%80%8C%D9%86%D9%88%DB%8C%D8%B3%DB%8C_%D9%87%D9%85%D9%87%E2%80%8C%D9%85%D9%86%D8%B8%D9%88%D8%B1%D9%87\" hreflang=\"fa\" lang=\"fa\" title=\"زبان برنامه‌نویسی همه‌منظوره – Persian\">فارسی</a>),\n",
       " (157,\n",
       "  <a class=\"interlanguage-link-target\" href=\"https://fr.wikipedia.org/wiki/Langage_de_programmation_%C3%A0_usage_g%C3%A9n%C3%A9ral\" hreflang=\"fr\" lang=\"fr\" title=\"Langage de programmation à usage général – French\">Français</a>),\n",
       " (158,\n",
       "  <a class=\"interlanguage-link-target\" href=\"https://ko.wikipedia.org/wiki/%EB%B2%94%EC%9A%A9_%ED%94%84%EB%A1%9C%EA%B7%B8%EB%9E%98%EB%B0%8D_%EC%96%B8%EC%96%B4\" hreflang=\"ko\" lang=\"ko\" title=\"범용 프로그래밍 언어 – Korean\">한국어</a>),\n",
       " (159,\n",
       "  <a class=\"interlanguage-link-target\" href=\"https://hi.wikipedia.org/wiki/%E0%A4%B5%E0%A5%8D%E0%A4%AF%E0%A4%BE%E0%A4%AA%E0%A4%95-%E0%A4%89%E0%A4%A6%E0%A5%8D%E0%A4%A6%E0%A5%87%E0%A4%B6%E0%A5%80%E0%A4%AF_%E0%A4%95%E0%A5%8D%E0%A4%B0%E0%A4%AE%E0%A4%BE%E0%A4%A6%E0%A5%87%E0%A4%B6_%E0%A4%AD%E0%A4%BE%E0%A4%B7%E0%A4%BE\" hreflang=\"hi\" lang=\"hi\" title=\"व्यापक-उद्देशीय क्रमादेश भाषा – Hindi\">हिन्दी</a>),\n",
       " (160,\n",
       "  <a class=\"interlanguage-link-target\" href=\"https://hu.wikipedia.org/wiki/%C3%81ltal%C3%A1nos_c%C3%A9l%C3%BA_programoz%C3%A1si_nyelv\" hreflang=\"hu\" lang=\"hu\" title=\"Általános célú programozási nyelv – Hungarian\">Magyar</a>),\n",
       " (161,\n",
       "  <a class=\"interlanguage-link-target\" href=\"https://ja.wikipedia.org/wiki/%E6%B1%8E%E7%94%A8%E3%83%97%E3%83%AD%E3%82%B0%E3%83%A9%E3%83%9F%E3%83%B3%E3%82%B0%E8%A8%80%E8%AA%9E\" hreflang=\"ja\" lang=\"ja\" title=\"汎用プログラミング言語 – Japanese\">日本語</a>),\n",
       " (162,\n",
       "  <a class=\"interlanguage-link-target\" href=\"https://pt.wikipedia.org/wiki/Linguagem_de_programa%C3%A7%C3%A3o_para_prop%C3%B3sitos_diversos\" hreflang=\"pt\" lang=\"pt\" title=\"Linguagem de programação para propósitos diversos – Portuguese\">Português</a>),\n",
       " (163,\n",
       "  <a class=\"interlanguage-link-target\" href=\"https://simple.wikipedia.org/wiki/General-purpose_programming_language\" hreflang=\"en-simple\" lang=\"en-simple\" title=\"General-purpose programming language – Simple English\">Simple English</a>),\n",
       " (164,\n",
       "  <a class=\"interlanguage-link-target\" href=\"https://fi.wikipedia.org/wiki/Yleisk%C3%A4ytt%C3%B6inen_ohjelmointikieli\" hreflang=\"fi\" lang=\"fi\" title=\"Yleiskäyttöinen ohjelmointikieli – Finnish\">Suomi</a>),\n",
       " (165,\n",
       "  <a class=\"interlanguage-link-target\" href=\"https://uk.wikipedia.org/wiki/%D0%9C%D0%BE%D0%B2%D0%B0_%D0%BF%D1%80%D0%BE%D0%B3%D1%80%D0%B0%D0%BC%D1%83%D0%B2%D0%B0%D0%BD%D0%BD%D1%8F_%D0%B7%D0%B0%D0%B3%D0%B0%D0%BB%D1%8C%D0%BD%D0%BE%D0%B3%D0%BE_%D0%BF%D1%80%D0%B8%D0%B7%D0%BD%D0%B0%D1%87%D0%B5%D0%BD%D0%BD%D1%8F\" hreflang=\"uk\" lang=\"uk\" title=\"Мова програмування загального призначення – Ukrainian\">Українська</a>),\n",
       " (166,\n",
       "  <a class=\"interlanguage-link-target\" href=\"https://zh.wikipedia.org/wiki/%E9%80%9A%E7%94%A8%E7%BC%96%E7%A8%8B%E8%AF%AD%E8%A8%80\" hreflang=\"zh\" lang=\"zh\" title=\"通用编程语言 – Chinese\">中文</a>),\n",
       " (167,\n",
       "  <a class=\"wbc-editpage\" href=\"https://www.wikidata.org/wiki/Special:EntityPage/Q951497#sitelinks-wikipedia\" title=\"Edit interlanguage links\">Edit links</a>),\n",
       " (168,\n",
       "  <a href=\"//en.wikipedia.org/wiki/Wikipedia:Text_of_Creative_Commons_Attribution-ShareAlike_3.0_Unported_License\" rel=\"license\">Creative Commons Attribution-ShareAlike License</a>),\n",
       " (169,\n",
       "  <a href=\"//creativecommons.org/licenses/by-sa/3.0/\" rel=\"license\" style=\"display:none;\"></a>),\n",
       " (170,\n",
       "  <a href=\"//foundation.wikimedia.org/wiki/Terms_of_Use\">Terms of Use</a>),\n",
       " (171,\n",
       "  <a href=\"//foundation.wikimedia.org/wiki/Privacy_policy\">Privacy Policy</a>),\n",
       " (172,\n",
       "  <a href=\"//www.wikimediafoundation.org/\">Wikimedia Foundation, Inc.</a>),\n",
       " (173,\n",
       "  <a class=\"extiw\" href=\"https://foundation.wikimedia.org/wiki/Privacy_policy\" title=\"wmf:Privacy policy\">Privacy policy</a>),\n",
       " (174,\n",
       "  <a href=\"/wiki/Wikipedia:About\" title=\"Wikipedia:About\">About Wikipedia</a>),\n",
       " (175,\n",
       "  <a href=\"/wiki/Wikipedia:General_disclaimer\" title=\"Wikipedia:General disclaimer\">Disclaimers</a>),\n",
       " (176,\n",
       "  <a href=\"//en.wikipedia.org/wiki/Wikipedia:Contact_us\">Contact Wikipedia</a>),\n",
       " (177,\n",
       "  <a class=\"noprint stopMobileRedirectToggle\" href=\"//en.m.wikipedia.org/w/index.php?title=General-purpose_programming_language&amp;mobileaction=toggle_view_mobile\">Mobile view</a>),\n",
       " (178,\n",
       "  <a href=\"https://www.mediawiki.org/wiki/Special:MyLanguage/How_to_contribute\">Developers</a>),\n",
       " (179,\n",
       "  <a href=\"https://stats.wikimedia.org/#/en.wikipedia.org\">Statistics</a>),\n",
       " (180,\n",
       "  <a href=\"https://foundation.wikimedia.org/wiki/Cookie_statement\">Cookie statement</a>),\n",
       " (181,\n",
       "  <a href=\"https://wikimediafoundation.org/\"><img alt=\"Wikimedia Foundation\" height=\"31\" loading=\"lazy\" src=\"/static/images/footer/wikimedia-button.png\" srcset=\"/static/images/footer/wikimedia-button-1.5x.png 1.5x, /static/images/footer/wikimedia-button-2x.png 2x\" width=\"88\"/></a>),\n",
       " (182,\n",
       "  <a href=\"https://www.mediawiki.org/\"><img alt=\"Powered by MediaWiki\" height=\"31\" loading=\"lazy\" src=\"/static/images/footer/poweredby_mediawiki_88x31.png\" srcset=\"/static/images/footer/poweredby_mediawiki_132x47.png 1.5x, /static/images/footer/poweredby_mediawiki_176x62.png 2x\" width=\"88\"/></a>)]"
      ]
     },
     "execution_count": 36,
     "metadata": {},
     "output_type": "execute_result"
    }
   ],
   "source": [
    "list(enumerate(links))"
   ]
  },
  {
   "cell_type": "code",
   "execution_count": 37,
   "metadata": {},
   "outputs": [
    {
     "data": {
      "text/plain": [
       "[<a href=\"/wiki/Programming_language\" title=\"Programming language\">programming language</a>,\n",
       " <a href=\"/wiki/Programming_language\" title=\"Programming language\">programming-language</a>]"
      ]
     },
     "execution_count": 37,
     "metadata": {},
     "output_type": "execute_result"
    }
   ],
   "source": [
    "soup.find_all('a', {'title': 'Programming language'})"
   ]
  },
  {
   "cell_type": "code",
   "execution_count": 38,
   "metadata": {
    "scrolled": true
   },
   "outputs": [
    {
     "data": {
      "text/plain": [
       "[<a href=\"/wiki/Python_(programming_language)\" title=\"Python (programming language)\">Python</a>]"
      ]
     },
     "execution_count": 38,
     "metadata": {},
     "output_type": "execute_result"
    }
   ],
   "source": [
    "soup.find_all('a', text='Python')"
   ]
  },
  {
   "cell_type": "code",
   "execution_count": 39,
   "metadata": {},
   "outputs": [
    {
     "data": {
      "text/plain": [
       "[<a class=\"external text\" href=\"//www.google.com/search?as_eq=wikipedia&amp;q=%22General-purpose+programming+language%22\" rel=\"nofollow\">\"General-purpose programming language\"</a>,\n",
       " <a href=\"/wiki/Programming_language\" title=\"Programming language\">programming language</a>,\n",
       " <a href=\"/wiki/Systems_programming\" title=\"Systems programming\">Systems programming</a>,\n",
       " <a class=\"mw-redirect\" href=\"/wiki/Domain-specific_programming_language\" title=\"Domain-specific programming language\">domain-specific programming language</a>,\n",
       " <a href=\"/wiki/Programming_language\" title=\"Programming language\">programming-language</a>,\n",
       " <a dir=\"ltr\" href=\"https://en.wikipedia.org/w/index.php?title=General-purpose_programming_language&amp;oldid=1042781005\">https://en.wikipedia.org/w/index.php?title=General-purpose_programming_language&amp;oldid=1042781005</a>]"
      ]
     },
     "execution_count": 39,
     "metadata": {},
     "output_type": "execute_result"
    }
   ],
   "source": [
    "import re\n",
    "\n",
    "soup.find_all('a', text=re.compile('.*programming.*'))"
   ]
  },
  {
   "cell_type": "code",
   "execution_count": 40,
   "metadata": {},
   "outputs": [],
   "source": [
    "import lxml.html\n",
    "\n",
    "tree = lxml.html.fromstring(wiki_text)\n",
    "link_div = tree.xpath('//*[@id=\"mw-content-text\"]/div[1]/div[3]')"
   ]
  },
  {
   "cell_type": "code",
   "execution_count": 41,
   "metadata": {},
   "outputs": [
    {
     "data": {
      "text/plain": [
       "'html'"
      ]
     },
     "execution_count": 41,
     "metadata": {},
     "output_type": "execute_result"
    }
   ],
   "source": [
    "tree.xpath('/*')[0].tag"
   ]
  },
  {
   "cell_type": "code",
   "execution_count": 42,
   "metadata": {},
   "outputs": [
    {
     "data": {
      "text/plain": [
       "[<Element html at 0x22d1e8a6680>,\n",
       " <Element head at 0x22d1e8d7e00>,\n",
       " <Element meta at 0x22d1e8d7d60>,\n",
       " <Element title at 0x22d1e8d7ea0>,\n",
       " <Element script at 0x22d1e8d7e50>]"
      ]
     },
     "execution_count": 42,
     "metadata": {},
     "output_type": "execute_result"
    }
   ],
   "source": [
    "# gets all elements in the document\n",
    "tree.xpath('//*')[:5]"
   ]
  },
  {
   "cell_type": "code",
   "execution_count": 43,
   "metadata": {},
   "outputs": [
    {
     "data": {
      "text/plain": [
       "['https://wikipedia.org/wiki/C_(programming_language)',\n",
       " 'https://wikipedia.org/wiki/C%2B%2B',\n",
       " 'https://wikipedia.org/wiki/C_Sharp_(programming_language)',\n",
       " 'https://wikipedia.org/wiki/Clojure',\n",
       " 'https://wikipedia.org/wiki/Crystal_(programming_language)']"
      ]
     },
     "execution_count": 43,
     "metadata": {},
     "output_type": "execute_result"
    }
   ],
   "source": [
    "wiki_url = 'https://wikipedia.org'\n",
    "\n",
    "link_elements = tree.xpath('//*[@id=\"mw-content-text\"]/div[1]/div[3]//a')\n",
    "links = [wiki_url + link.attrib['href'] for link in link_elements]\n",
    "links[:5]"
   ]
  },
  {
   "cell_type": "markdown",
   "metadata": {},
   "source": [
    "#### Other methods for extracting the list of links\n",
    "We could also specify the full child path - a ul element inside the div, and li elements in the ul."
   ]
  },
  {
   "cell_type": "code",
   "execution_count": 44,
   "metadata": {},
   "outputs": [
    {
     "data": {
      "text/plain": [
       "['https://wikipedia.org#History',\n",
       " 'https://wikipedia.org#Definitions',\n",
       " 'https://wikipedia.org#List',\n",
       " 'https://wikipedia.org#Notes',\n",
       " 'https://wikipedia.org#See_also']"
      ]
     },
     "execution_count": 44,
     "metadata": {},
     "output_type": "execute_result"
    }
   ],
   "source": [
    "link_elements = tree.xpath('//*[@id=\"mw-content-text\"]/div[1]/div[2]/ul/li/a')\n",
    "links = [wiki_url + link.attrib['href'] for link in link_elements]\n",
    "links[:5]"
   ]
  },
  {
   "cell_type": "markdown",
   "metadata": {},
   "source": [
    "We can loop through the li elements within the div and get the href attributes using the `find` method too. Note we have to find each child element one at a time (e.g. we find the ul element, then the li, then the a elements)."
   ]
  },
  {
   "cell_type": "code",
   "execution_count": 45,
   "metadata": {},
   "outputs": [
    {
     "data": {
      "text/plain": [
       "['/wiki/C_(programming_language)',\n",
       " '/wiki/C%2B%2B',\n",
       " '/wiki/C_Sharp_(programming_language)',\n",
       " '/wiki/Clojure',\n",
       " '/wiki/Crystal_(programming_language)']"
      ]
     },
     "execution_count": 45,
     "metadata": {},
     "output_type": "execute_result"
    }
   ],
   "source": [
    "links = [el.find('a').attrib['href'] for el in link_div[0].find('ul').findall('li')]\n",
    "links[:5]"
   ]
  },
  {
   "cell_type": "markdown",
   "metadata": {},
   "source": [
    "We can also search the entire lxml object by prefixing our tag with `.//` (basically using XPath notation again), instead of stepping down the tree one child node at a time:"
   ]
  },
  {
   "cell_type": "code",
   "execution_count": 46,
   "metadata": {},
   "outputs": [
    {
     "data": {
      "text/plain": [
       "['/wiki/C_(programming_language)',\n",
       " '/wiki/C%2B%2B',\n",
       " '/wiki/C_Sharp_(programming_language)',\n",
       " '/wiki/Clojure',\n",
       " '/wiki/Crystal_(programming_language)']"
      ]
     },
     "execution_count": 46,
     "metadata": {},
     "output_type": "execute_result"
    }
   ],
   "source": [
    "links = [el.attrib['href'] for el in link_div[0].findall('.//a')]\n",
    "links[:5]"
   ]
  },
  {
   "cell_type": "markdown",
   "metadata": {},
   "source": [
    "Last, we could convert the resulting element from our original XPath search into a bs4 object, and search it that way:"
   ]
  },
  {
   "cell_type": "code",
   "execution_count": 47,
   "metadata": {},
   "outputs": [
    {
     "data": {
      "text/plain": [
       "['/wiki/C_(programming_language)',\n",
       " '/wiki/C%2B%2B',\n",
       " '/wiki/C_Sharp_(programming_language)',\n",
       " '/wiki/Clojure',\n",
       " '/wiki/Crystal_(programming_language)']"
      ]
     },
     "execution_count": 47,
     "metadata": {},
     "output_type": "execute_result"
    }
   ],
   "source": [
    "div_soup = bs(lxml.etree.tostring(link_div[0]).decode('utf-8'))\n",
    "links = [a.attrs['href'] for a in div_soup.find_all('a')]\n",
    "links[:5]"
   ]
  },
  {
   "cell_type": "markdown",
   "metadata": {},
   "source": [
    "#### Using bs4 to find the links"
   ]
  },
  {
   "cell_type": "code",
   "execution_count": 48,
   "metadata": {},
   "outputs": [
    {
     "data": {
      "text/plain": [
       "['https://wikipedia.org/wiki/C_(programming_language)',\n",
       " 'https://wikipedia.org/wiki/C%2B%2B',\n",
       " 'https://wikipedia.org/wiki/C_Sharp_(programming_language)',\n",
       " 'https://wikipedia.org/wiki/Clojure',\n",
       " 'https://wikipedia.org/wiki/Crystal_(programming_language)']"
      ]
     },
     "execution_count": 48,
     "metadata": {},
     "output_type": "execute_result"
    }
   ],
   "source": [
    "language_link_elements = soup.find_all('ul')[1].find_all('a')\n",
    "language_links = [wiki_url + link.attrs['href'] for link in language_link_elements]\n",
    "language_links[:5]"
   ]
  },
  {
   "cell_type": "code",
   "execution_count": 49,
   "metadata": {},
   "outputs": [
    {
     "data": {
      "text/plain": [
       "1"
      ]
     },
     "execution_count": 49,
     "metadata": {},
     "output_type": "execute_result"
    }
   ],
   "source": [
    "import numpy as np\n",
    "\n",
    "index = np.where(['C++' in u.text for u in soup.find_all('ul')])[0][0]\n",
    "index"
   ]
  },
  {
   "cell_type": "markdown",
   "metadata": {},
   "source": [
    "### Collecting data from several pages"
   ]
  },
  {
   "cell_type": "code",
   "execution_count": 50,
   "metadata": {},
   "outputs": [],
   "source": [
    "all_text = []\n",
    "for link in language_links:\n",
    "    html = rq.get(link).text\n",
    "    soup = bs(html)\n",
    "    paragraph_text = soup.find_all('p')\n",
    "    all_text.extend([p.text for p in paragraph_text])\n",
    "    \n",
    "text = ' '.join(all_text)"
   ]
  },
  {
   "cell_type": "code",
   "execution_count": 51,
   "metadata": {},
   "outputs": [
    {
     "data": {
      "text/plain": [
       "'\\n C (/ˈsiː/, as in the letter c) is a general-purpose, procedural computer programming language supp'"
      ]
     },
     "execution_count": 51,
     "metadata": {},
     "output_type": "execute_result"
    }
   ],
   "source": [
    "text[:100]"
   ]
  },
  {
   "cell_type": "code",
   "execution_count": 52,
   "metadata": {},
   "outputs": [],
   "source": [
    "import string\n",
    "\n",
    "from nltk import FreqDist, bigrams\n",
    "from nltk.corpus import stopwords\n",
    "\n",
    "en_stopwords = set(stopwords.words('english'))\n",
    "# if we get text from the entire page, these stopwords are helpful\n",
    "wiki_stops = set(['wikipedia', 'encyclopedia', 'free', 'jump', 'navigation', 'retrieved', 'programming', 'language', 'code'])\n",
    "full_stops = en_stopwords | wiki_stops\n",
    "\n",
    "translator = str.maketrans('', '', string.punctuation + string.digits)\n",
    "cleaned_text = text.translate(translator)\n",
    "\n",
    "cleaned_words = [w for w in cleaned_text.lower().split() if w not in en_stopwords and len(w) > 3]"
   ]
  },
  {
   "cell_type": "code",
   "execution_count": 53,
   "metadata": {},
   "outputs": [],
   "source": [
    "unigram_freq = FreqDist(cleaned_words)"
   ]
  },
  {
   "cell_type": "code",
   "execution_count": 54,
   "metadata": {},
   "outputs": [
    {
     "data": {
      "text/plain": [
       "[('language', 715),\n",
       " ('code', 449),\n",
       " ('programming', 408),\n",
       " ('used', 395),\n",
       " ('type', 362),\n",
       " ('also', 323),\n",
       " ('java', 320),\n",
       " ('perl', 305),\n",
       " ('class', 279),\n",
       " ('system', 253),\n",
       " ('compiler', 235),\n",
       " ('languages', 234),\n",
       " ('function', 234),\n",
       " ('using', 232),\n",
       " ('features', 231),\n",
       " ('support', 227),\n",
       " ('standard', 225),\n",
       " ('types', 209),\n",
       " ('object', 207),\n",
       " ('functions', 194)]"
      ]
     },
     "execution_count": 54,
     "metadata": {},
     "output_type": "execute_result"
    }
   ],
   "source": [
    "unigram_freq.most_common(20)"
   ]
  },
  {
   "cell_type": "code",
   "execution_count": 55,
   "metadata": {},
   "outputs": [
    {
     "data": {
      "text/plain": [
       "['ˈsiː letter',\n",
       " 'letter generalpurpose',\n",
       " 'generalpurpose procedural',\n",
       " 'procedural computer',\n",
       " 'computer programming',\n",
       " 'programming language',\n",
       " 'language supporting',\n",
       " 'supporting structured',\n",
       " 'structured programming',\n",
       " 'programming lexical',\n",
       " 'lexical variable',\n",
       " 'variable scope',\n",
       " 'scope recursion',\n",
       " 'recursion static',\n",
       " 'static type',\n",
       " 'type system',\n",
       " 'system design',\n",
       " 'design provides',\n",
       " 'provides constructs',\n",
       " 'constructs efficiently',\n",
       " 'efficiently typical',\n",
       " 'typical machine',\n",
       " 'machine instructions',\n",
       " 'instructions found',\n",
       " 'found lasting',\n",
       " 'lasting applications',\n",
       " 'applications previously',\n",
       " 'previously coded',\n",
       " 'coded assembly',\n",
       " 'assembly language',\n",
       " 'language applications',\n",
       " 'applications include',\n",
       " 'include operating',\n",
       " 'operating systems',\n",
       " 'systems various',\n",
       " 'various application',\n",
       " 'application software',\n",
       " 'software computer',\n",
       " 'computer architectures',\n",
       " 'architectures range',\n",
       " 'range supercomputers',\n",
       " 'supercomputers plcs',\n",
       " 'plcs embedded',\n",
       " 'embedded systems',\n",
       " 'systems successor',\n",
       " 'successor programming',\n",
       " 'programming language',\n",
       " 'language originally',\n",
       " 'originally developed',\n",
       " 'developed bell',\n",
       " 'bell labs',\n",
       " 'labs dennis',\n",
       " 'dennis ritchie',\n",
       " 'ritchie construct',\n",
       " 'construct utilities',\n",
       " 'utilities running',\n",
       " 'running unix',\n",
       " 'unix applied',\n",
       " 'applied reimplementing',\n",
       " 'reimplementing kernel',\n",
       " 'kernel unix',\n",
       " 'unix operating',\n",
       " 'operating system',\n",
       " 'system gradually',\n",
       " 'gradually gained',\n",
       " 'gained popularity',\n",
       " 'popularity become',\n",
       " 'become widely',\n",
       " 'widely used',\n",
       " 'used programming',\n",
       " 'programming languages',\n",
       " 'languages compilers',\n",
       " 'compilers various',\n",
       " 'various vendors',\n",
       " 'vendors available',\n",
       " 'available majority',\n",
       " 'majority existing',\n",
       " 'existing computer',\n",
       " 'computer architectures',\n",
       " 'architectures operating',\n",
       " 'operating systems',\n",
       " 'systems standardized',\n",
       " 'standardized ansi',\n",
       " 'ansi since',\n",
       " 'since ansi',\n",
       " 'ansi international',\n",
       " 'international organization',\n",
       " 'organization standardization',\n",
       " 'standardization imperative',\n",
       " 'imperative procedural',\n",
       " 'procedural language',\n",
       " 'language designed',\n",
       " 'designed compiled',\n",
       " 'compiled provide',\n",
       " 'provide lowlevel',\n",
       " 'lowlevel access',\n",
       " 'access memory',\n",
       " 'memory language',\n",
       " 'language constructs',\n",
       " 'constructs efficiently',\n",
       " 'efficiently machine',\n",
       " 'machine instructions',\n",
       " 'instructions minimal',\n",
       " 'minimal runtime',\n",
       " 'runtime support',\n",
       " 'support despite',\n",
       " 'despite lowlevel',\n",
       " 'lowlevel capabilities',\n",
       " 'capabilities language',\n",
       " 'language designed',\n",
       " 'designed encourage',\n",
       " 'encourage crossplatform',\n",
       " 'crossplatform programming',\n",
       " 'programming standardscompliant',\n",
       " 'standardscompliant program',\n",
       " 'program written',\n",
       " 'written portability',\n",
       " 'portability mind',\n",
       " 'mind compiled',\n",
       " 'compiled wide',\n",
       " 'wide variety',\n",
       " 'variety computer',\n",
       " 'computer platforms',\n",
       " 'platforms operating',\n",
       " 'operating systems',\n",
       " 'systems changes',\n",
       " 'changes source',\n",
       " 'source code',\n",
       " 'code january',\n",
       " 'january update',\n",
       " 'update ranked',\n",
       " 'ranked first',\n",
       " 'first tiobe',\n",
       " 'tiobe index',\n",
       " 'index measure',\n",
       " 'measure popularity',\n",
       " 'popularity programming',\n",
       " 'programming languages',\n",
       " 'languages moving',\n",
       " 'moving spot',\n",
       " 'spot previous',\n",
       " 'previous year',\n",
       " 'year like',\n",
       " 'like procedural',\n",
       " 'procedural languages',\n",
       " 'languages algol',\n",
       " 'algol tradition',\n",
       " 'tradition facilities',\n",
       " 'facilities structured',\n",
       " 'structured programming',\n",
       " 'programming allows',\n",
       " 'allows lexical',\n",
       " 'lexical variable',\n",
       " 'variable scope',\n",
       " 'scope recursion',\n",
       " 'recursion static',\n",
       " 'static type',\n",
       " 'type system',\n",
       " 'system prevents',\n",
       " 'prevents unintended',\n",
       " 'unintended operations',\n",
       " 'operations executable',\n",
       " 'executable code',\n",
       " 'code contained',\n",
       " 'contained within',\n",
       " 'within subroutines',\n",
       " 'subroutines also',\n",
       " 'also called',\n",
       " 'called functions',\n",
       " 'functions though',\n",
       " 'though strictly',\n",
       " 'strictly sense',\n",
       " 'sense functional',\n",
       " 'functional programming',\n",
       " 'programming function',\n",
       " 'function parameters',\n",
       " 'parameters always',\n",
       " 'always passed',\n",
       " 'passed value',\n",
       " 'value except',\n",
       " 'except arrays',\n",
       " 'arrays passbyreference',\n",
       " 'passbyreference simulated',\n",
       " 'simulated explicitly',\n",
       " 'explicitly passing',\n",
       " 'passing pointer',\n",
       " 'pointer values',\n",
       " 'values program',\n",
       " 'program source',\n",
       " 'source text',\n",
       " 'text freeformat',\n",
       " 'freeformat using',\n",
       " 'using semicolon',\n",
       " 'semicolon statement',\n",
       " 'statement terminator',\n",
       " 'terminator curly',\n",
       " 'curly braces',\n",
       " 'braces grouping',\n",
       " 'grouping blocks',\n",
       " 'blocks statements',\n",
       " 'statements language',\n",
       " 'language also',\n",
       " 'also exhibits',\n",
       " 'exhibits following',\n",
       " 'following characteristics',\n",
       " 'characteristics include',\n",
       " 'include certain',\n",
       " 'certain features',\n",
       " 'features found',\n",
       " 'found languages',\n",
       " 'languages object',\n",
       " 'object orientation',\n",
       " 'orientation garbage',\n",
       " 'garbage collection',\n",
       " 'collection implemented',\n",
       " 'implemented emulated',\n",
       " 'emulated often',\n",
       " 'often external',\n",
       " 'external libraries',\n",
       " 'libraries glib',\n",
       " 'glib object',\n",
       " 'object system',\n",
       " 'system boehm',\n",
       " 'boehm garbage',\n",
       " 'garbage collector',\n",
       " 'collector many',\n",
       " 'many later',\n",
       " 'later languages',\n",
       " 'languages borrowed',\n",
       " 'borrowed directly',\n",
       " 'directly indirectly',\n",
       " 'indirectly including',\n",
       " 'including unixs',\n",
       " 'unixs shell',\n",
       " 'shell java',\n",
       " 'java javascript',\n",
       " 'javascript including',\n",
       " 'including transpilers',\n",
       " 'transpilers julia',\n",
       " 'julia limbo',\n",
       " 'limbo objectivec',\n",
       " 'objectivec perl',\n",
       " 'perl python',\n",
       " 'python ruby',\n",
       " 'ruby rust',\n",
       " 'rust swift',\n",
       " 'swift verilog',\n",
       " 'verilog systemverilog',\n",
       " 'systemverilog hardware',\n",
       " 'hardware description',\n",
       " 'description languages',\n",
       " 'languages languages',\n",
       " 'languages drawn',\n",
       " 'drawn many',\n",
       " 'many control',\n",
       " 'control structures',\n",
       " 'structures basic',\n",
       " 'basic features',\n",
       " 'features python',\n",
       " 'python dramatic',\n",
       " 'dramatic exception',\n",
       " 'exception also',\n",
       " 'also express',\n",
       " 'express highly',\n",
       " 'highly similar',\n",
       " 'similar syntax',\n",
       " 'syntax tend',\n",
       " 'tend combine',\n",
       " 'combine recognizable',\n",
       " 'recognizable expression',\n",
       " 'expression statement',\n",
       " 'statement syntax',\n",
       " 'syntax underlying',\n",
       " 'underlying type',\n",
       " 'type systems',\n",
       " 'systems data',\n",
       " 'data models',\n",
       " 'models semantics',\n",
       " 'semantics radically',\n",
       " 'radically different',\n",
       " 'different origin',\n",
       " 'origin closely',\n",
       " 'closely tied',\n",
       " 'tied development',\n",
       " 'development unix',\n",
       " 'unix operating',\n",
       " 'operating system',\n",
       " 'system originally',\n",
       " 'originally implemented',\n",
       " 'implemented assembly',\n",
       " 'assembly language',\n",
       " 'language dennis',\n",
       " 'dennis ritchie',\n",
       " 'ritchie thompson',\n",
       " 'thompson incorporating',\n",
       " 'incorporating several',\n",
       " 'several ideas',\n",
       " 'ideas colleagues',\n",
       " 'colleagues eventually',\n",
       " 'eventually decided',\n",
       " 'decided port',\n",
       " 'port operating',\n",
       " 'operating system',\n",
       " 'system original',\n",
       " 'original version',\n",
       " 'version unix',\n",
       " 'unix also',\n",
       " 'also developed',\n",
       " 'developed assembly',\n",
       " 'assembly language',\n",
       " 'language thompson',\n",
       " 'thompson desired',\n",
       " 'desired programming',\n",
       " 'programming language',\n",
       " 'language make',\n",
       " 'make utilities',\n",
       " 'utilities platform',\n",
       " 'platform first',\n",
       " 'first tried',\n",
       " 'tried make',\n",
       " 'make fortran',\n",
       " 'fortran compiler',\n",
       " 'compiler soon',\n",
       " 'soon gave',\n",
       " 'gave idea',\n",
       " 'idea instead',\n",
       " 'instead created',\n",
       " 'created cutdown',\n",
       " 'cutdown version',\n",
       " 'version recently',\n",
       " 'recently developed',\n",
       " 'developed bcpl',\n",
       " 'bcpl systems',\n",
       " 'systems programming',\n",
       " 'programming language',\n",
       " 'language official',\n",
       " 'official description',\n",
       " 'description bcpl',\n",
       " 'bcpl available',\n",
       " 'available time',\n",
       " 'time thompson',\n",
       " 'thompson modified',\n",
       " 'modified syntax',\n",
       " 'syntax less',\n",
       " 'less wordy',\n",
       " 'wordy producing',\n",
       " 'producing similar',\n",
       " 'similar somewhat',\n",
       " 'somewhat simpler',\n",
       " 'simpler however',\n",
       " 'however utilities',\n",
       " 'utilities ultimately',\n",
       " 'ultimately written',\n",
       " 'written slow',\n",
       " 'slow could',\n",
       " 'could take',\n",
       " 'take advantage',\n",
       " 'advantage features',\n",
       " 'features byte',\n",
       " 'byte addressability',\n",
       " 'addressability ritchie',\n",
       " 'ritchie started',\n",
       " 'started improve',\n",
       " 'improve resulted',\n",
       " 'resulted creating',\n",
       " 'creating language',\n",
       " 'language compiler',\n",
       " 'compiler utilities',\n",
       " 'utilities made',\n",
       " 'made included',\n",
       " 'included version',\n",
       " 'version unix',\n",
       " 'unix version',\n",
       " 'version unix',\n",
       " 'unix released',\n",
       " 'released november',\n",
       " 'november unix',\n",
       " 'unix kernel',\n",
       " 'kernel extensively',\n",
       " 'extensively reimplemented',\n",
       " 'reimplemented time',\n",
       " 'time language',\n",
       " 'language acquired',\n",
       " 'acquired powerful',\n",
       " 'powerful features',\n",
       " 'features struct',\n",
       " 'struct types',\n",
       " 'types preprocessor',\n",
       " 'preprocessor introduced',\n",
       " 'introduced around',\n",
       " 'around urging',\n",
       " 'urging alan',\n",
       " 'alan snyder',\n",
       " 'snyder also',\n",
       " 'also recognition',\n",
       " 'recognition usefulness',\n",
       " 'usefulness fileinclusion',\n",
       " 'fileinclusion mechanisms',\n",
       " 'mechanisms available',\n",
       " 'available bcpl',\n",
       " 'bcpl original',\n",
       " 'original version',\n",
       " 'version provided',\n",
       " 'provided included',\n",
       " 'included files',\n",
       " 'files simple',\n",
       " 'simple string',\n",
       " 'string replacements',\n",
       " 'replacements include',\n",
       " 'include define',\n",
       " 'define parameterless',\n",
       " 'parameterless macros',\n",
       " 'macros soon',\n",
       " 'soon extended',\n",
       " 'extended mostly',\n",
       " 'mostly mike',\n",
       " 'mike lesk',\n",
       " 'lesk john',\n",
       " 'john reiser',\n",
       " 'reiser incorporate',\n",
       " 'incorporate macros',\n",
       " 'macros arguments',\n",
       " 'arguments conditional',\n",
       " 'conditional compilation',\n",
       " 'compilation unix',\n",
       " 'unix first',\n",
       " 'first operating',\n",
       " 'operating system',\n",
       " 'system kernels',\n",
       " 'kernels implemented',\n",
       " 'implemented language',\n",
       " 'language assembly',\n",
       " 'assembly earlier',\n",
       " 'earlier instances',\n",
       " 'instances include',\n",
       " 'include multics',\n",
       " 'multics system',\n",
       " 'system written',\n",
       " 'written master',\n",
       " 'master control',\n",
       " 'control program',\n",
       " 'program burroughs',\n",
       " 'burroughs written',\n",
       " 'written algol',\n",
       " 'algol around',\n",
       " 'around ritchie',\n",
       " 'ritchie stephen',\n",
       " 'stephen johnson',\n",
       " 'johnson made',\n",
       " 'made changes',\n",
       " 'changes language',\n",
       " 'language facilitate',\n",
       " 'facilitate portability',\n",
       " 'portability unix',\n",
       " 'unix operating',\n",
       " 'operating system',\n",
       " 'system johnsons',\n",
       " 'johnsons portable',\n",
       " 'portable compiler',\n",
       " 'compiler served',\n",
       " 'served basis',\n",
       " 'basis several',\n",
       " 'several implementations',\n",
       " 'implementations platforms',\n",
       " 'platforms brian',\n",
       " 'brian kernighan',\n",
       " 'kernighan dennis',\n",
       " 'dennis ritchie',\n",
       " 'ritchie published',\n",
       " 'published first',\n",
       " 'first edition',\n",
       " 'edition programming',\n",
       " 'programming language',\n",
       " 'language book',\n",
       " 'book known',\n",
       " 'known programmers',\n",
       " 'programmers served',\n",
       " 'served many',\n",
       " 'many years',\n",
       " 'years informal',\n",
       " 'informal specification',\n",
       " 'specification language',\n",
       " 'language version',\n",
       " 'version describes',\n",
       " 'describes commonly',\n",
       " 'commonly referred',\n",
       " 'referred released',\n",
       " 'released also',\n",
       " 'also referred',\n",
       " 'referred second',\n",
       " 'second edition',\n",
       " 'edition book',\n",
       " 'book covers',\n",
       " 'covers later',\n",
       " 'later ansi',\n",
       " 'ansi standard',\n",
       " 'standard described',\n",
       " 'described introduced',\n",
       " 'introduced several',\n",
       " 'several language',\n",
       " 'language features',\n",
       " 'features even',\n",
       " 'even publication',\n",
       " 'publication ansi',\n",
       " 'ansi standard',\n",
       " 'standard many',\n",
       " 'many years',\n",
       " 'years still',\n",
       " 'still considered',\n",
       " 'considered lowest',\n",
       " 'lowest common',\n",
       " 'common denominator',\n",
       " 'denominator programmers',\n",
       " 'programmers restricted',\n",
       " 'restricted maximum',\n",
       " 'maximum portability',\n",
       " 'portability desired',\n",
       " 'desired since',\n",
       " 'since many',\n",
       " 'many older',\n",
       " 'older compilers',\n",
       " 'compilers still',\n",
       " 'still carefully',\n",
       " 'carefully written',\n",
       " 'written code',\n",
       " 'code legal',\n",
       " 'legal standard',\n",
       " 'standard well',\n",
       " 'well early',\n",
       " 'early versions',\n",
       " 'versions functions',\n",
       " 'functions return',\n",
       " 'return types',\n",
       " 'types must',\n",
       " 'must declared',\n",
       " 'declared used',\n",
       " 'used function',\n",
       " 'function definition',\n",
       " 'definition functions',\n",
       " 'functions used',\n",
       " 'used without',\n",
       " 'without prior',\n",
       " 'prior declaration',\n",
       " 'declaration presumed',\n",
       " 'presumed return',\n",
       " 'return type',\n",
       " 'type example',\n",
       " 'example type',\n",
       " 'type specifiers',\n",
       " 'specifiers commented',\n",
       " 'commented could',\n",
       " 'could omitted',\n",
       " 'omitted required',\n",
       " 'required later',\n",
       " 'later standards',\n",
       " 'standards since',\n",
       " 'since function',\n",
       " 'function declarations',\n",
       " 'declarations include',\n",
       " 'include information',\n",
       " 'information function',\n",
       " 'function arguments',\n",
       " 'arguments function',\n",
       " 'function parameter',\n",
       " 'parameter type',\n",
       " 'type checks',\n",
       " 'checks performed',\n",
       " 'performed although',\n",
       " 'although compilers',\n",
       " 'compilers would',\n",
       " 'would issue',\n",
       " 'issue warning',\n",
       " 'warning message',\n",
       " 'message local',\n",
       " 'local function',\n",
       " 'function called',\n",
       " 'called wrong',\n",
       " 'wrong number',\n",
       " 'number arguments',\n",
       " 'arguments multiple',\n",
       " 'multiple calls',\n",
       " 'calls external',\n",
       " 'external function',\n",
       " 'function used',\n",
       " 'used different',\n",
       " 'different numbers',\n",
       " 'numbers types',\n",
       " 'types arguments',\n",
       " 'arguments separate',\n",
       " 'separate tools',\n",
       " 'tools unixs',\n",
       " 'unixs lint',\n",
       " 'lint utility',\n",
       " 'utility developed',\n",
       " 'developed among',\n",
       " 'among things',\n",
       " 'things could',\n",
       " 'could check',\n",
       " 'check consistency',\n",
       " 'consistency function',\n",
       " 'function across',\n",
       " 'across multiple',\n",
       " 'multiple source',\n",
       " 'source files',\n",
       " 'files years',\n",
       " 'years following',\n",
       " 'following publication',\n",
       " 'publication several',\n",
       " 'several features',\n",
       " 'features added',\n",
       " 'added language',\n",
       " 'language supported',\n",
       " 'supported compilers',\n",
       " 'compilers particular',\n",
       " 'particular vendors',\n",
       " 'vendors included',\n",
       " 'included large',\n",
       " 'large number',\n",
       " 'number extensions',\n",
       " 'extensions lack',\n",
       " 'lack agreement',\n",
       " 'agreement standard',\n",
       " 'standard library',\n",
       " 'library together',\n",
       " 'together language',\n",
       " 'language popularity',\n",
       " 'popularity fact',\n",
       " 'fact even',\n",
       " 'even unix',\n",
       " 'unix compilers',\n",
       " 'compilers precisely',\n",
       " 'precisely implemented',\n",
       " 'implemented specification',\n",
       " 'specification necessity',\n",
       " 'necessity standardization',\n",
       " 'standardization late',\n",
       " 'late versions',\n",
       " 'versions implemented',\n",
       " 'implemented wide',\n",
       " 'wide variety',\n",
       " 'variety mainframe',\n",
       " 'mainframe computers',\n",
       " 'computers minicomputers',\n",
       " 'minicomputers microcomputers',\n",
       " 'microcomputers including',\n",
       " 'including popularity',\n",
       " 'popularity began',\n",
       " 'began increase',\n",
       " 'increase significantly',\n",
       " 'significantly american',\n",
       " 'american national',\n",
       " 'national standards',\n",
       " 'standards institute',\n",
       " 'institute ansi',\n",
       " 'ansi formed',\n",
       " 'formed committee',\n",
       " 'committee establish',\n",
       " 'establish standard',\n",
       " 'standard specification',\n",
       " 'specification based',\n",
       " 'based standard',\n",
       " 'standard unix',\n",
       " 'unix implementation',\n",
       " 'implementation however',\n",
       " 'however nonportable',\n",
       " 'nonportable portion',\n",
       " 'portion unix',\n",
       " 'unix library',\n",
       " 'library handed',\n",
       " 'handed ieee',\n",
       " 'ieee working',\n",
       " 'working group',\n",
       " 'group become',\n",
       " 'become basis',\n",
       " 'basis posix',\n",
       " 'posix standard',\n",
       " 'standard standard',\n",
       " 'standard ratified',\n",
       " 'ratified ansi',\n",
       " 'ansi programming',\n",
       " 'programming language',\n",
       " 'language version',\n",
       " 'version language',\n",
       " 'language often',\n",
       " 'often referred',\n",
       " 'referred ansi',\n",
       " 'ansi standard',\n",
       " 'standard sometimes',\n",
       " 'sometimes ansi',\n",
       " 'ansi standard',\n",
       " 'standard formatting',\n",
       " 'formatting changes',\n",
       " 'changes adopted',\n",
       " 'adopted international',\n",
       " 'international organization',\n",
       " 'organization standardization',\n",
       " 'standardization isoiec',\n",
       " 'isoiec sometimes',\n",
       " 'sometimes called',\n",
       " 'called therefore',\n",
       " 'therefore terms',\n",
       " 'terms refer',\n",
       " 'refer programming',\n",
       " 'programming language',\n",
       " 'language ansi',\n",
       " 'ansi like',\n",
       " 'like national',\n",
       " 'national standards',\n",
       " 'standards bodies',\n",
       " 'bodies longer',\n",
       " 'longer develops',\n",
       " 'develops standard',\n",
       " 'standard independently',\n",
       " 'independently defers',\n",
       " 'defers international',\n",
       " 'international standard',\n",
       " 'standard maintained',\n",
       " 'maintained working',\n",
       " 'working group',\n",
       " 'group isoiec',\n",
       " 'isoiec jtcscwg',\n",
       " 'jtcscwg national',\n",
       " 'national adoption',\n",
       " 'adoption update',\n",
       " 'update international',\n",
       " 'international standard',\n",
       " 'standard typically',\n",
       " 'typically occurs',\n",
       " 'occurs within',\n",
       " 'within year',\n",
       " 'year publication',\n",
       " 'publication aims',\n",
       " 'aims standardization',\n",
       " 'standardization process',\n",
       " 'process produce',\n",
       " 'produce superset',\n",
       " 'superset incorporating',\n",
       " 'incorporating many',\n",
       " 'many subsequently',\n",
       " 'subsequently introduced',\n",
       " 'introduced unofficial',\n",
       " 'unofficial features',\n",
       " 'features standards',\n",
       " 'standards committee',\n",
       " 'committee also',\n",
       " 'also included',\n",
       " 'included several',\n",
       " 'several additional',\n",
       " 'additional features',\n",
       " 'features function',\n",
       " 'function prototypes',\n",
       " 'prototypes borrowed',\n",
       " 'borrowed void',\n",
       " 'void pointers',\n",
       " 'pointers support',\n",
       " 'support international',\n",
       " 'international character',\n",
       " 'character sets',\n",
       " 'sets locales',\n",
       " 'locales preprocessor',\n",
       " 'preprocessor enhancements',\n",
       " 'enhancements although',\n",
       " 'although syntax',\n",
       " 'syntax parameter',\n",
       " 'parameter declarations',\n",
       " 'declarations augmented',\n",
       " 'augmented include',\n",
       " 'include style',\n",
       " 'style used',\n",
       " 'used interface',\n",
       " 'interface continued',\n",
       " 'continued permitted',\n",
       " 'permitted compatibility',\n",
       " 'compatibility existing',\n",
       " 'existing source',\n",
       " 'source code',\n",
       " 'code supported',\n",
       " 'supported current',\n",
       " 'current compilers',\n",
       " 'compilers modern',\n",
       " 'modern code',\n",
       " 'code based',\n",
       " 'based program',\n",
       " 'program written',\n",
       " 'written standard',\n",
       " 'standard without',\n",
       " 'without hardwaredependent',\n",
       " 'hardwaredependent assumptions',\n",
       " 'assumptions correctly',\n",
       " 'correctly platform',\n",
       " 'platform conforming',\n",
       " 'conforming implementation',\n",
       " 'implementation within',\n",
       " 'within resource',\n",
       " 'resource limits',\n",
       " 'limits without',\n",
       " 'without precautions',\n",
       " 'precautions programs',\n",
       " 'programs compile',\n",
       " 'compile certain',\n",
       " 'certain platform',\n",
       " 'platform particular',\n",
       " 'particular compiler',\n",
       " 'compiler example',\n",
       " 'example nonstandard',\n",
       " 'nonstandard libraries',\n",
       " 'libraries libraries',\n",
       " 'libraries reliance',\n",
       " 'reliance compiler',\n",
       " 'compiler platformspecific',\n",
       " 'platformspecific attributes',\n",
       " 'attributes exact',\n",
       " 'exact size',\n",
       " 'size data',\n",
       " 'data types',\n",
       " 'types byte',\n",
       " 'byte endianness',\n",
       " 'endianness cases',\n",
       " 'cases code',\n",
       " 'code must',\n",
       " 'must compilable',\n",
       " 'compilable either',\n",
       " 'either standardconforming',\n",
       " 'standardconforming cbased',\n",
       " 'cbased compilers',\n",
       " 'compilers stdc',\n",
       " 'stdc macro',\n",
       " 'macro used',\n",
       " 'used split',\n",
       " 'split code',\n",
       " 'code standard',\n",
       " 'standard sections',\n",
       " 'sections prevent',\n",
       " 'prevent cbased',\n",
       " 'cbased compiler',\n",
       " 'compiler features',\n",
       " 'features available',\n",
       " 'available standard',\n",
       " 'standard ansiiso',\n",
       " 'ansiiso standardization',\n",
       " 'standardization process',\n",
       " 'process language',\n",
       " 'language specification',\n",
       " 'specification remained',\n",
       " 'remained relatively',\n",
       " 'relatively static',\n",
       " 'static several',\n",
       " 'several years',\n",
       " 'years normative',\n",
       " 'normative amendment',\n",
       " 'amendment standard',\n",
       " 'standard isoiec',\n",
       " 'isoiec known',\n",
       " 'known informally',\n",
       " 'informally published',\n",
       " 'published correct',\n",
       " 'correct details',\n",
       " 'details extensive',\n",
       " 'extensive support',\n",
       " 'support international',\n",
       " 'international character',\n",
       " 'character sets',\n",
       " 'sets standard',\n",
       " 'standard revised',\n",
       " 'revised late',\n",
       " 'late leading',\n",
       " 'leading publication',\n",
       " 'publication isoiec',\n",
       " 'isoiec commonly',\n",
       " 'commonly referred',\n",
       " 'referred since',\n",
       " 'since amended',\n",
       " 'amended three',\n",
       " 'three times',\n",
       " 'times technical',\n",
       " 'technical corrigenda',\n",
       " 'corrigenda introduced',\n",
       " 'introduced several',\n",
       " 'several features',\n",
       " 'features including',\n",
       " 'including inline',\n",
       " 'inline functions',\n",
       " 'functions several',\n",
       " 'several data',\n",
       " 'data types',\n",
       " 'types including',\n",
       " 'including long',\n",
       " 'long long',\n",
       " 'long complex',\n",
       " 'complex type',\n",
       " 'type represent',\n",
       " 'represent complex',\n",
       " 'complex numbers',\n",
       " 'numbers variablelength',\n",
       " 'variablelength arrays',\n",
       " 'arrays flexible',\n",
       " 'flexible array',\n",
       " 'array members',\n",
       " 'members improved',\n",
       " 'improved support',\n",
       " 'support ieee',\n",
       " 'ieee floating',\n",
       " 'floating point',\n",
       " 'point support',\n",
       " 'support variadic',\n",
       " 'variadic macros',\n",
       " 'macros macros',\n",
       " 'macros variable',\n",
       " 'variable arity',\n",
       " 'arity support',\n",
       " 'support oneline',\n",
       " 'oneline comments',\n",
       " 'comments beginning',\n",
       " 'beginning bcpl',\n",
       " 'bcpl many',\n",
       " 'many already',\n",
       " 'already implemented',\n",
       " 'implemented extensions',\n",
       " 'extensions several',\n",
       " 'several compilers',\n",
       " 'compilers part',\n",
       " 'part backward',\n",
       " 'backward compatible',\n",
       " 'compatible stricter',\n",
       " 'stricter ways',\n",
       " 'ways particular',\n",
       " 'particular declaration',\n",
       " 'declaration lacks',\n",
       " 'lacks type',\n",
       " 'type specifier',\n",
       " 'specifier longer',\n",
       " 'longer implicitly',\n",
       " 'implicitly assumed',\n",
       " 'assumed standard',\n",
       " 'standard macro',\n",
       " 'macro stdcversion',\n",
       " 'stdcversion defined',\n",
       " 'defined value',\n",
       " 'value indicate',\n",
       " 'indicate support',\n",
       " 'support available',\n",
       " 'available solaris',\n",
       " 'solaris studio',\n",
       " 'studio compilers',\n",
       " 'compilers support',\n",
       " 'support many',\n",
       " 'many features',\n",
       " 'features compiler',\n",
       " 'compiler microsoft',\n",
       " 'microsoft visual',\n",
       " 'visual however',\n",
       " 'however implements',\n",
       " 'implements standard',\n",
       " 'standard parts',\n",
       " 'parts required',\n",
       " 'required compatibility',\n",
       " 'compatibility cneeds',\n",
       " 'cneeds update',\n",
       " 'update addition',\n",
       " 'addition support',\n",
       " 'support unicode',\n",
       " 'unicode identifiers',\n",
       " 'identifiers variable',\n",
       " 'variable function',\n",
       " 'function names',\n",
       " 'names form',\n",
       " 'form escaped',\n",
       " 'escaped characters',\n",
       " 'characters required',\n",
       " 'required support',\n",
       " 'support unicode',\n",
       " 'unicode names',\n",
       " 'names optional',\n",
       " 'optional work',\n",
       " 'work began',\n",
       " 'began another',\n",
       " 'another revision',\n",
       " 'revision standard',\n",
       " 'standard informally',\n",
       " 'informally called',\n",
       " 'called official',\n",
       " 'official publication',\n",
       " 'publication standards',\n",
       " 'standards committee',\n",
       " 'committee adopted',\n",
       " 'adopted guidelines',\n",
       " 'guidelines limit',\n",
       " 'limit adoption',\n",
       " 'adoption features',\n",
       " 'features tested',\n",
       " 'tested existing',\n",
       " 'existing implementations',\n",
       " 'implementations standard',\n",
       " 'standard adds',\n",
       " 'adds numerous',\n",
       " 'numerous features',\n",
       " 'features library',\n",
       " 'library including',\n",
       " 'including type',\n",
       " 'type generic',\n",
       " ...]"
      ]
     },
     "execution_count": 55,
     "metadata": {},
     "output_type": "execute_result"
    }
   ],
   "source": [
    "bg = [' '.join(bigr) for bigr in bigrams(cleaned_words)]\n",
    "bg_fd = FreqDist(bg)\n",
    "list(bg)"
   ]
  },
  {
   "cell_type": "code",
   "execution_count": 56,
   "metadata": {},
   "outputs": [
    {
     "data": {
      "text/plain": [
       "[('programming language', 129),\n",
       " ('visual basic', 57),\n",
       " ('programming languages', 53),\n",
       " ('standard library', 53),\n",
       " ('operating system', 43),\n",
       " ('source code', 43),\n",
       " ('functional programming', 37),\n",
       " ('type system', 36),\n",
       " ('hello world', 35),\n",
       " ('objectoriented programming', 35),\n",
       " ('virtual machine', 32),\n",
       " ('operating systems', 31),\n",
       " ('garbage collection', 31),\n",
       " ('compile time', 31),\n",
       " ('scripting language', 28),\n",
       " ('data structures', 27),\n",
       " ('open source', 26),\n",
       " ('language features', 25),\n",
       " ('data types', 25),\n",
       " ('base class', 22)]"
      ]
     },
     "execution_count": 56,
     "metadata": {},
     "output_type": "execute_result"
    }
   ],
   "source": [
    "bg_fd.most_common(20)"
   ]
  },
  {
   "cell_type": "code",
   "execution_count": 57,
   "metadata": {},
   "outputs": [],
   "source": [
    "import matplotlib.pyplot as plt\n",
    "%matplotlib inline"
   ]
  },
  {
   "cell_type": "code",
   "execution_count": 58,
   "metadata": {},
   "outputs": [
    {
     "data": {
      "image/png": "[encoded data removed]",
      "text/plain": [
       "<Figure size 432x288 with 1 Axes>"
      ]
     },
     "metadata": {
      "needs_background": "light"
     },
     "output_type": "display_data"
    },
    {
     "data": {
      "text/plain": [
       "<AxesSubplot:xlabel='Samples', ylabel='Counts'>"
      ]
     },
     "execution_count": 58,
     "metadata": {},
     "output_type": "execute_result"
    }
   ],
   "source": [
    "unigram_freq.plot(20)"
   ]
  },
  {
   "cell_type": "code",
   "execution_count": 59,
   "metadata": {},
   "outputs": [
    {
     "data": {
      "image/png": "[encoded data removed]",
      "text/plain": [
       "<Figure size 432x288 with 1 Axes>"
      ]
     },
     "metadata": {
      "needs_background": "light"
     },
     "output_type": "display_data"
    },
    {
     "data": {
      "text/plain": [
       "<AxesSubplot:xlabel='Samples', ylabel='Counts'>"
      ]
     },
     "execution_count": 59,
     "metadata": {},
     "output_type": "execute_result"
    }
   ],
   "source": [
    "bg_fd.plot(20)"
   ]
  },
  {
   "cell_type": "markdown",
   "metadata": {},
   "source": [
    "# Using APIs to collect data"
   ]
  },
  {
   "cell_type": "code",
   "execution_count": 60,
   "metadata": {},
   "outputs": [
    {
     "data": {
      "text/plain": [
       "{'DateTimeEST': '2021-09-19 12:00:00 AM',\n",
       " 'HourEndingEST': '1',\n",
       " 'Value': '16300.00'}"
      ]
     },
     "execution_count": 60,
     "metadata": {},
     "output_type": "execute_result"
    }
   ],
   "source": [
    "url = 'https://api.misoenergy.org/MISORTWDDataBroker/DataBrokerServices.asmx?messageType=getWindForecast&returnType=json'\n",
    "res = rq.get(url)\n",
    "res.json()['Forecast'][0]"
   ]
  },
  {
   "cell_type": "code",
   "execution_count": 61,
   "metadata": {},
   "outputs": [
    {
     "data": {
      "text/plain": [
       "dict_keys(['MktDay', 'RefId', 'Forecast'])"
      ]
     },
     "execution_count": 61,
     "metadata": {},
     "output_type": "execute_result"
    }
   ],
   "source": [
    "res.json().keys()"
   ]
  },
  {
   "cell_type": "code",
   "execution_count": 62,
   "metadata": {},
   "outputs": [
    {
     "data": {
      "text/html": [
       "<div>\n",
       "<style scoped>\n",
       "    .dataframe tbody tr th:only-of-type {\n",
       "        vertical-align: middle;\n",
       "    }\n",
       "\n",
       "    .dataframe tbody tr th {\n",
       "        vertical-align: top;\n",
       "    }\n",
       "\n",
       "    .dataframe thead th {\n",
       "        text-align: right;\n",
       "    }\n",
       "</style>\n",
       "<table border=\"1\" class=\"dataframe\">\n",
       "  <thead>\n",
       "    <tr style=\"text-align: right;\">\n",
       "      <th></th>\n",
       "      <th>DateTimeEST</th>\n",
       "      <th>HourEndingEST</th>\n",
       "      <th>Value</th>\n",
       "    </tr>\n",
       "  </thead>\n",
       "  <tbody>\n",
       "    <tr>\n",
       "      <th>0</th>\n",
       "      <td>2021-09-19 12:00:00 AM</td>\n",
       "      <td>1</td>\n",
       "      <td>16300.00</td>\n",
       "    </tr>\n",
       "    <tr>\n",
       "      <th>1</th>\n",
       "      <td>2021-09-19 1:00:00 AM</td>\n",
       "      <td>2</td>\n",
       "      <td>16199.00</td>\n",
       "    </tr>\n",
       "    <tr>\n",
       "      <th>2</th>\n",
       "      <td>2021-09-19 2:00:00 AM</td>\n",
       "      <td>3</td>\n",
       "      <td>15973.00</td>\n",
       "    </tr>\n",
       "    <tr>\n",
       "      <th>3</th>\n",
       "      <td>2021-09-19 3:00:00 AM</td>\n",
       "      <td>4</td>\n",
       "      <td>15634.00</td>\n",
       "    </tr>\n",
       "    <tr>\n",
       "      <th>4</th>\n",
       "      <td>2021-09-19 4:00:00 AM</td>\n",
       "      <td>5</td>\n",
       "      <td>15345.00</td>\n",
       "    </tr>\n",
       "  </tbody>\n",
       "</table>\n",
       "</div>"
      ],
      "text/plain": [
       "              DateTimeEST HourEndingEST     Value\n",
       "0  2021-09-19 12:00:00 AM             1  16300.00\n",
       "1   2021-09-19 1:00:00 AM             2  16199.00\n",
       "2   2021-09-19 2:00:00 AM             3  15973.00\n",
       "3   2021-09-19 3:00:00 AM             4  15634.00\n",
       "4   2021-09-19 4:00:00 AM             5  15345.00"
      ]
     },
     "execution_count": 62,
     "metadata": {},
     "output_type": "execute_result"
    }
   ],
   "source": [
    "df = pd.json_normalize(res.json()['Forecast'])\n",
    "df.head()"
   ]
  },
  {
   "cell_type": "code",
   "execution_count": 63,
   "metadata": {},
   "outputs": [
    {
     "data": {
      "text/plain": [
       "[{'DateTimeEST': '2021-09-19 12:00:00 AM',\n",
       "  'HourEndingEST': '1',\n",
       "  'Value': '16300.00'},\n",
       " {'DateTimeEST': '2021-09-19 1:00:00 AM',\n",
       "  'HourEndingEST': '2',\n",
       "  'Value': '16199.00'},\n",
       " {'DateTimeEST': '2021-09-19 2:00:00 AM',\n",
       "  'HourEndingEST': '3',\n",
       "  'Value': '15973.00'},\n",
       " {'DateTimeEST': '2021-09-19 3:00:00 AM',\n",
       "  'HourEndingEST': '4',\n",
       "  'Value': '15634.00'},\n",
       " {'DateTimeEST': '2021-09-19 4:00:00 AM',\n",
       "  'HourEndingEST': '5',\n",
       "  'Value': '15345.00'},\n",
       " {'DateTimeEST': '2021-09-19 5:00:00 AM',\n",
       "  'HourEndingEST': '6',\n",
       "  'Value': '15248.00'},\n",
       " {'DateTimeEST': '2021-09-19 6:00:00 AM',\n",
       "  'HourEndingEST': '7',\n",
       "  'Value': '15313.00'},\n",
       " {'DateTimeEST': '2021-09-19 7:00:00 AM',\n",
       "  'HourEndingEST': '8',\n",
       "  'Value': '15230.00'},\n",
       " {'DateTimeEST': '2021-09-19 8:00:00 AM',\n",
       "  'HourEndingEST': '9',\n",
       "  'Value': '14000.00'},\n",
       " {'DateTimeEST': '2021-09-19 9:00:00 AM',\n",
       "  'HourEndingEST': '10',\n",
       "  'Value': '13127.00'},\n",
       " {'DateTimeEST': '2021-09-19 10:00:00 AM',\n",
       "  'HourEndingEST': '11',\n",
       "  'Value': '13704.00'},\n",
       " {'DateTimeEST': '2021-09-19 11:00:00 AM',\n",
       "  'HourEndingEST': '12',\n",
       "  'Value': '14639.00'},\n",
       " {'DateTimeEST': '2021-09-19 12:00:00 PM',\n",
       "  'HourEndingEST': '13',\n",
       "  'Value': '15418.00'},\n",
       " {'DateTimeEST': '2021-09-19 1:00:00 PM',\n",
       "  'HourEndingEST': '14',\n",
       "  'Value': '15809.00'},\n",
       " {'DateTimeEST': '2021-09-19 2:00:00 PM',\n",
       "  'HourEndingEST': '15',\n",
       "  'Value': '15948.00'},\n",
       " {'DateTimeEST': '2021-09-19 3:00:00 PM',\n",
       "  'HourEndingEST': '16',\n",
       "  'Value': '16013.00'},\n",
       " {'DateTimeEST': '2021-09-19 4:00:00 PM',\n",
       "  'HourEndingEST': '17',\n",
       "  'Value': '16044.00'},\n",
       " {'DateTimeEST': '2021-09-19 5:00:00 PM',\n",
       "  'HourEndingEST': '18',\n",
       "  'Value': '16015.00'},\n",
       " {'DateTimeEST': '2021-09-19 6:00:00 PM',\n",
       "  'HourEndingEST': '19',\n",
       "  'Value': '16356.00'},\n",
       " {'DateTimeEST': '2021-09-19 7:00:00 PM',\n",
       "  'HourEndingEST': '20',\n",
       "  'Value': '17302.00'},\n",
       " {'DateTimeEST': '2021-09-19 8:00:00 PM',\n",
       "  'HourEndingEST': '21',\n",
       "  'Value': '18286.00'},\n",
       " {'DateTimeEST': '2021-09-19 9:00:00 PM',\n",
       "  'HourEndingEST': '22',\n",
       "  'Value': '19076.00'},\n",
       " {'DateTimeEST': '2021-09-19 10:00:00 PM',\n",
       "  'HourEndingEST': '23',\n",
       "  'Value': '19448.00'},\n",
       " {'DateTimeEST': '2021-09-19 11:00:00 PM',\n",
       "  'HourEndingEST': '24',\n",
       "  'Value': '19270.00'},\n",
       " {'DateTimeEST': '2021-09-20 12:00:00 AM',\n",
       "  'HourEndingEST': '1',\n",
       "  'Value': '19072.00'},\n",
       " {'DateTimeEST': '2021-09-20 1:00:00 AM',\n",
       "  'HourEndingEST': '2',\n",
       "  'Value': '18369.00'},\n",
       " {'DateTimeEST': '2021-09-20 2:00:00 AM',\n",
       "  'HourEndingEST': '3',\n",
       "  'Value': '17028.00'},\n",
       " {'DateTimeEST': '2021-09-20 3:00:00 AM',\n",
       "  'HourEndingEST': '4',\n",
       "  'Value': '16131.00'},\n",
       " {'DateTimeEST': '2021-09-20 4:00:00 AM',\n",
       "  'HourEndingEST': '5',\n",
       "  'Value': '15127.00'},\n",
       " {'DateTimeEST': '2021-09-20 5:00:00 AM',\n",
       "  'HourEndingEST': '6',\n",
       "  'Value': '14214.00'},\n",
       " {'DateTimeEST': '2021-09-20 6:00:00 AM',\n",
       "  'HourEndingEST': '7',\n",
       "  'Value': '13381.00'},\n",
       " {'DateTimeEST': '2021-09-20 7:00:00 AM',\n",
       "  'HourEndingEST': '8',\n",
       "  'Value': '12800.00'},\n",
       " {'DateTimeEST': '2021-09-20 8:00:00 AM',\n",
       "  'HourEndingEST': '9',\n",
       "  'Value': '12435.00'},\n",
       " {'DateTimeEST': '2021-09-20 9:00:00 AM',\n",
       "  'HourEndingEST': '10',\n",
       "  'Value': '12375.00'},\n",
       " {'DateTimeEST': '2021-09-20 10:00:00 AM',\n",
       "  'HourEndingEST': '11',\n",
       "  'Value': '12616.00'},\n",
       " {'DateTimeEST': '2021-09-20 11:00:00 AM',\n",
       "  'HourEndingEST': '12',\n",
       "  'Value': '12921.00'},\n",
       " {'DateTimeEST': '2021-09-20 12:00:00 PM',\n",
       "  'HourEndingEST': '13',\n",
       "  'Value': '13243.00'},\n",
       " {'DateTimeEST': '2021-09-20 1:00:00 PM',\n",
       "  'HourEndingEST': '14',\n",
       "  'Value': '13727.00'},\n",
       " {'DateTimeEST': '2021-09-20 2:00:00 PM',\n",
       "  'HourEndingEST': '15',\n",
       "  'Value': '14415.00'},\n",
       " {'DateTimeEST': '2021-09-20 3:00:00 PM',\n",
       "  'HourEndingEST': '16',\n",
       "  'Value': '15104.00'},\n",
       " {'DateTimeEST': '2021-09-20 4:00:00 PM',\n",
       "  'HourEndingEST': '17',\n",
       "  'Value': '15468.00'},\n",
       " {'DateTimeEST': '2021-09-20 5:00:00 PM',\n",
       "  'HourEndingEST': '18',\n",
       "  'Value': '15546.00'},\n",
       " {'DateTimeEST': '2021-09-20 6:00:00 PM',\n",
       "  'HourEndingEST': '19',\n",
       "  'Value': '15113.00'},\n",
       " {'DateTimeEST': '2021-09-20 7:00:00 PM',\n",
       "  'HourEndingEST': '20',\n",
       "  'Value': '15025.00'},\n",
       " {'DateTimeEST': '2021-09-20 8:00:00 PM',\n",
       "  'HourEndingEST': '21',\n",
       "  'Value': '14897.00'},\n",
       " {'DateTimeEST': '2021-09-20 9:00:00 PM',\n",
       "  'HourEndingEST': '22',\n",
       "  'Value': '14874.00'},\n",
       " {'DateTimeEST': '2021-09-20 10:00:00 PM',\n",
       "  'HourEndingEST': '23',\n",
       "  'Value': '14965.00'},\n",
       " {'DateTimeEST': '2021-09-20 11:00:00 PM',\n",
       "  'HourEndingEST': '24',\n",
       "  'Value': '14933.00'}]"
      ]
     },
     "execution_count": 63,
     "metadata": {},
     "output_type": "execute_result"
    }
   ],
   "source": [
    "res.json()['Forecast']"
   ]
  },
  {
   "cell_type": "code",
   "execution_count": 64,
   "metadata": {},
   "outputs": [
    {
     "data": {
      "text/plain": [
       "'09-19-2021'"
      ]
     },
     "execution_count": 64,
     "metadata": {},
     "output_type": "execute_result"
    }
   ],
   "source": [
    "res.json()['MktDay']"
   ]
  },
  {
   "cell_type": "code",
   "execution_count": 65,
   "metadata": {},
   "outputs": [],
   "source": [
    "df.to_excel('miso_wind_forecast_{}.xlsx'.format(res.json()['MktDay']))"
   ]
  },
  {
   "cell_type": "markdown",
   "metadata": {},
   "source": [
    "## Using API wrappers\n",
    "### Using PRAW"
   ]
  },
  {
   "cell_type": "markdown",
   "metadata": {},
   "source": [
    "This has been rerun since the first draft of the book, so the results differ a little bit."
   ]
  },
  {
   "cell_type": "code",
   "execution_count": 66,
   "metadata": {},
   "outputs": [
    {
     "name": "stderr",
     "output_type": "stream",
     "text": [
      "Version 7.0.0 of praw is outdated. Version 7.4.0 was released Friday July 30, 2021.\n"
     ]
    }
   ],
   "source": [
    "import praw\n",
    "\n",
    "reddit = praw.Reddit(\n",
    "    client_id=\"8MB3NbLPbbHxgHSLCQR5Dw\",\n",
    "    client_secret=\"-tQdj_O7hPWhMkfgcAcBYotvWd1-KQ\",\n",
    "    user_agent=\"test\"\n",
    ")"
   ]
  },
  {
   "cell_type": "code",
   "execution_count": 67,
   "metadata": {},
   "outputs": [],
   "source": [
    "post_text_list = []\n",
    "comment_text_list = []\n",
    "for post in reddit.subreddit(\"california\").hot(limit=100):\n",
    "    post_text_list.append(post.selftext)\n",
    "    # removes 'show more comments' instances\n",
    "    post.comments.replace_more(limit=0)\n",
    "    comments = post.comments.list()\n",
    "    for c in comments:\n",
    "        comment_text_list.append(c.body)\n",
    "\n",
    "all_text = ' '.join(post_text_list + comment_text_list)"
   ]
  },
  {
   "cell_type": "code",
   "execution_count": 68,
   "metadata": {},
   "outputs": [
    {
     "data": {
      "text/plain": [
       "7013"
      ]
     },
     "execution_count": 68,
     "metadata": {},
     "output_type": "execute_result"
    }
   ],
   "source": [
    "len(comment_text_list)"
   ]
  },
  {
   "cell_type": "code",
   "execution_count": 69,
   "metadata": {},
   "outputs": [],
   "source": [
    "translator = str.maketrans('', '', string.punctuation + string.digits)\n",
    "cleaned_text = all_text.translate(translator)\n",
    "\n",
    "reddit_stopwords = set(['removed', 'dont']) | en_stopwords\n",
    "cleaned_words = [w for w in cleaned_text.lower().split() if w not in reddit_stopwords and len(w) > 3]"
   ]
  },
  {
   "cell_type": "code",
   "execution_count": 70,
   "metadata": {},
   "outputs": [
    {
     "data": {
      "text/plain": [
       "[('climate change', 81),\n",
       " ('minimum wage', 79),\n",
       " ('single family', 64),\n",
       " ('many people', 55),\n",
       " ('uber lyft', 46),\n",
       " ('property taxes', 44),\n",
       " ('seems like', 41),\n",
       " ('larry elder', 40),\n",
       " ('last year', 40),\n",
       " ('central valley', 36)]"
      ]
     },
     "execution_count": 70,
     "metadata": {},
     "output_type": "execute_result"
    }
   ],
   "source": [
    "bg = [' '.join(bigr) for bigr in bigrams(cleaned_words)]\n",
    "bg_fd = FreqDist(bg)\n",
    "bg_fd.most_common(10)"
   ]
  },
  {
   "cell_type": "code",
   "execution_count": 71,
   "metadata": {},
   "outputs": [
    {
     "data": {
      "text/plain": [
       "True"
      ]
     },
     "execution_count": 71,
     "metadata": {},
     "output_type": "execute_result"
    }
   ],
   "source": [
    "\"don't\" in en_stopwords"
   ]
  },
  {
   "cell_type": "code",
   "execution_count": 72,
   "metadata": {},
   "outputs": [
    {
     "data": {
      "text/plain": [
       "{'User-Agent': 'python-requests/2.26.0', 'Accept-Encoding': 'gzip, deflate, br', 'Accept': '*/*', 'Connection': 'keep-alive'}"
      ]
     },
     "execution_count": 72,
     "metadata": {},
     "output_type": "execute_result"
    }
   ],
   "source": [
    "rq.utils.default_headers()"
   ]
  }
 ],
 "metadata": {
  "kernelspec": {
   "display_name": "Python 3 (ipykernel)",
   "language": "python",
   "name": "python3"
  },
  "language_info": {
   "codemirror_mode": {
    "name": "ipython",
    "version": 3
   },
   "file_extension": ".py",
   "mimetype": "text/x-python",
   "name": "python",
   "nbconvert_exporter": "python",
   "pygments_lexer": "ipython3",
   "version": "3.9.7"
  }
 },
 "nbformat": 4,
 "nbformat_minor": 4
}

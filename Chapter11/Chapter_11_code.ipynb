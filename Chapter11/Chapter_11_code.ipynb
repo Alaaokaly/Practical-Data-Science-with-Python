{
 "cells": [
  {
   "cell_type": "code",
   "execution_count": 1,
   "metadata": {},
   "outputs": [
    {
     "data": {
      "text/html": [
       "<div>\n",
       "<style scoped>\n",
       "    .dataframe tbody tr th:only-of-type {\n",
       "        vertical-align: middle;\n",
       "    }\n",
       "\n",
       "    .dataframe tbody tr th {\n",
       "        vertical-align: top;\n",
       "    }\n",
       "\n",
       "    .dataframe thead th {\n",
       "        text-align: right;\n",
       "    }\n",
       "</style>\n",
       "<table border=\"1\" class=\"dataframe\">\n",
       "  <thead>\n",
       "    <tr style=\"text-align: right;\">\n",
       "      <th></th>\n",
       "      <th>LIMIT_BAL</th>\n",
       "      <th>SEX</th>\n",
       "      <th>EDUCATION</th>\n",
       "      <th>MARRIAGE</th>\n",
       "      <th>AGE</th>\n",
       "      <th>PAY_0</th>\n",
       "      <th>PAY_2</th>\n",
       "      <th>PAY_3</th>\n",
       "      <th>PAY_4</th>\n",
       "      <th>PAY_5</th>\n",
       "      <th>...</th>\n",
       "      <th>BILL_AMT4</th>\n",
       "      <th>BILL_AMT5</th>\n",
       "      <th>BILL_AMT6</th>\n",
       "      <th>PAY_AMT1</th>\n",
       "      <th>PAY_AMT2</th>\n",
       "      <th>PAY_AMT3</th>\n",
       "      <th>PAY_AMT4</th>\n",
       "      <th>PAY_AMT5</th>\n",
       "      <th>PAY_AMT6</th>\n",
       "      <th>default payment next month</th>\n",
       "    </tr>\n",
       "    <tr>\n",
       "      <th>ID</th>\n",
       "      <th></th>\n",
       "      <th></th>\n",
       "      <th></th>\n",
       "      <th></th>\n",
       "      <th></th>\n",
       "      <th></th>\n",
       "      <th></th>\n",
       "      <th></th>\n",
       "      <th></th>\n",
       "      <th></th>\n",
       "      <th></th>\n",
       "      <th></th>\n",
       "      <th></th>\n",
       "      <th></th>\n",
       "      <th></th>\n",
       "      <th></th>\n",
       "      <th></th>\n",
       "      <th></th>\n",
       "      <th></th>\n",
       "      <th></th>\n",
       "      <th></th>\n",
       "    </tr>\n",
       "  </thead>\n",
       "  <tbody>\n",
       "    <tr>\n",
       "      <th>1</th>\n",
       "      <td>20000</td>\n",
       "      <td>2</td>\n",
       "      <td>2</td>\n",
       "      <td>1</td>\n",
       "      <td>24</td>\n",
       "      <td>2</td>\n",
       "      <td>2</td>\n",
       "      <td>-1</td>\n",
       "      <td>-1</td>\n",
       "      <td>-2</td>\n",
       "      <td>...</td>\n",
       "      <td>0</td>\n",
       "      <td>0</td>\n",
       "      <td>0</td>\n",
       "      <td>0</td>\n",
       "      <td>689</td>\n",
       "      <td>0</td>\n",
       "      <td>0</td>\n",
       "      <td>0</td>\n",
       "      <td>0</td>\n",
       "      <td>1</td>\n",
       "    </tr>\n",
       "    <tr>\n",
       "      <th>2</th>\n",
       "      <td>120000</td>\n",
       "      <td>2</td>\n",
       "      <td>2</td>\n",
       "      <td>2</td>\n",
       "      <td>26</td>\n",
       "      <td>-1</td>\n",
       "      <td>2</td>\n",
       "      <td>0</td>\n",
       "      <td>0</td>\n",
       "      <td>0</td>\n",
       "      <td>...</td>\n",
       "      <td>3272</td>\n",
       "      <td>3455</td>\n",
       "      <td>3261</td>\n",
       "      <td>0</td>\n",
       "      <td>1000</td>\n",
       "      <td>1000</td>\n",
       "      <td>1000</td>\n",
       "      <td>0</td>\n",
       "      <td>2000</td>\n",
       "      <td>1</td>\n",
       "    </tr>\n",
       "    <tr>\n",
       "      <th>3</th>\n",
       "      <td>90000</td>\n",
       "      <td>2</td>\n",
       "      <td>2</td>\n",
       "      <td>2</td>\n",
       "      <td>34</td>\n",
       "      <td>0</td>\n",
       "      <td>0</td>\n",
       "      <td>0</td>\n",
       "      <td>0</td>\n",
       "      <td>0</td>\n",
       "      <td>...</td>\n",
       "      <td>14331</td>\n",
       "      <td>14948</td>\n",
       "      <td>15549</td>\n",
       "      <td>1518</td>\n",
       "      <td>1500</td>\n",
       "      <td>1000</td>\n",
       "      <td>1000</td>\n",
       "      <td>1000</td>\n",
       "      <td>5000</td>\n",
       "      <td>0</td>\n",
       "    </tr>\n",
       "    <tr>\n",
       "      <th>4</th>\n",
       "      <td>50000</td>\n",
       "      <td>2</td>\n",
       "      <td>2</td>\n",
       "      <td>1</td>\n",
       "      <td>37</td>\n",
       "      <td>0</td>\n",
       "      <td>0</td>\n",
       "      <td>0</td>\n",
       "      <td>0</td>\n",
       "      <td>0</td>\n",
       "      <td>...</td>\n",
       "      <td>28314</td>\n",
       "      <td>28959</td>\n",
       "      <td>29547</td>\n",
       "      <td>2000</td>\n",
       "      <td>2019</td>\n",
       "      <td>1200</td>\n",
       "      <td>1100</td>\n",
       "      <td>1069</td>\n",
       "      <td>1000</td>\n",
       "      <td>0</td>\n",
       "    </tr>\n",
       "    <tr>\n",
       "      <th>5</th>\n",
       "      <td>50000</td>\n",
       "      <td>1</td>\n",
       "      <td>2</td>\n",
       "      <td>1</td>\n",
       "      <td>57</td>\n",
       "      <td>-1</td>\n",
       "      <td>0</td>\n",
       "      <td>-1</td>\n",
       "      <td>0</td>\n",
       "      <td>0</td>\n",
       "      <td>...</td>\n",
       "      <td>20940</td>\n",
       "      <td>19146</td>\n",
       "      <td>19131</td>\n",
       "      <td>2000</td>\n",
       "      <td>36681</td>\n",
       "      <td>10000</td>\n",
       "      <td>9000</td>\n",
       "      <td>689</td>\n",
       "      <td>679</td>\n",
       "      <td>0</td>\n",
       "    </tr>\n",
       "  </tbody>\n",
       "</table>\n",
       "<p>5 rows × 24 columns</p>\n",
       "</div>"
      ],
      "text/plain": [
       "    LIMIT_BAL  SEX  EDUCATION  MARRIAGE  AGE  PAY_0  PAY_2  PAY_3  PAY_4  \\\n",
       "ID                                                                         \n",
       "1       20000    2          2         1   24      2      2     -1     -1   \n",
       "2      120000    2          2         2   26     -1      2      0      0   \n",
       "3       90000    2          2         2   34      0      0      0      0   \n",
       "4       50000    2          2         1   37      0      0      0      0   \n",
       "5       50000    1          2         1   57     -1      0     -1      0   \n",
       "\n",
       "    PAY_5  ...  BILL_AMT4  BILL_AMT5  BILL_AMT6  PAY_AMT1  PAY_AMT2  PAY_AMT3  \\\n",
       "ID         ...                                                                  \n",
       "1      -2  ...          0          0          0         0       689         0   \n",
       "2       0  ...       3272       3455       3261         0      1000      1000   \n",
       "3       0  ...      14331      14948      15549      1518      1500      1000   \n",
       "4       0  ...      28314      28959      29547      2000      2019      1200   \n",
       "5       0  ...      20940      19146      19131      2000     36681     10000   \n",
       "\n",
       "    PAY_AMT4  PAY_AMT5  PAY_AMT6  default payment next month  \n",
       "ID                                                            \n",
       "1          0         0         0                           1  \n",
       "2       1000         0      2000                           1  \n",
       "3       1000      1000      5000                           0  \n",
       "4       1100      1069      1000                           0  \n",
       "5       9000       689       679                           0  \n",
       "\n",
       "[5 rows x 24 columns]"
      ]
     },
     "execution_count": 1,
     "metadata": {},
     "output_type": "execute_result"
    }
   ],
   "source": [
    "import pandas as pd\n",
    "from pandas_profiling import ProfileReport\n",
    "\n",
    "df = pd.read_excel('data/default of credit card clients.xls',\n",
    "                   skiprows=1, index_col=0)\n",
    "df.head()"
   ]
  },
  {
   "cell_type": "code",
   "execution_count": 2,
   "metadata": {},
   "outputs": [
    {
     "name": "stdout",
     "output_type": "stream",
     "text": [
      "<class 'pandas.core.frame.DataFrame'>\n",
      "Int64Index: 30000 entries, 1 to 30000\n",
      "Data columns (total 24 columns):\n",
      " #   Column                      Non-Null Count  Dtype\n",
      "---  ------                      --------------  -----\n",
      " 0   LIMIT_BAL                   30000 non-null  int64\n",
      " 1   SEX                         30000 non-null  int64\n",
      " 2   EDUCATION                   30000 non-null  int64\n",
      " 3   MARRIAGE                    30000 non-null  int64\n",
      " 4   AGE                         30000 non-null  int64\n",
      " 5   PAY_0                       30000 non-null  int64\n",
      " 6   PAY_2                       30000 non-null  int64\n",
      " 7   PAY_3                       30000 non-null  int64\n",
      " 8   PAY_4                       30000 non-null  int64\n",
      " 9   PAY_5                       30000 non-null  int64\n",
      " 10  PAY_6                       30000 non-null  int64\n",
      " 11  BILL_AMT1                   30000 non-null  int64\n",
      " 12  BILL_AMT2                   30000 non-null  int64\n",
      " 13  BILL_AMT3                   30000 non-null  int64\n",
      " 14  BILL_AMT4                   30000 non-null  int64\n",
      " 15  BILL_AMT5                   30000 non-null  int64\n",
      " 16  BILL_AMT6                   30000 non-null  int64\n",
      " 17  PAY_AMT1                    30000 non-null  int64\n",
      " 18  PAY_AMT2                    30000 non-null  int64\n",
      " 19  PAY_AMT3                    30000 non-null  int64\n",
      " 20  PAY_AMT4                    30000 non-null  int64\n",
      " 21  PAY_AMT5                    30000 non-null  int64\n",
      " 22  PAY_AMT6                    30000 non-null  int64\n",
      " 23  default payment next month  30000 non-null  int64\n",
      "dtypes: int64(24)\n",
      "memory usage: 5.7 MB\n"
     ]
    }
   ],
   "source": [
    "# double-check datatypes are correct\n",
    "df.info()"
   ]
  },
  {
   "cell_type": "code",
   "execution_count": 3,
   "metadata": {},
   "outputs": [
    {
     "data": {
      "application/vnd.jupyter.widget-view+json": {
       "model_id": "9c9b0a8b0e394b018f03f0774fed6899",
       "version_major": 2,
       "version_minor": 0
      },
      "text/plain": [
       "Summarize dataset:   0%|          | 0/39 [00:00<?, ?it/s]"
      ]
     },
     "metadata": {},
     "output_type": "display_data"
    },
    {
     "data": {
      "application/vnd.jupyter.widget-view+json": {
       "model_id": "445c007e50814ac2a359038e1824253b",
       "version_major": 2,
       "version_minor": 0
      },
      "text/plain": [
       "Generate report structure:   0%|          | 0/1 [00:00<?, ?it/s]"
      ]
     },
     "metadata": {},
     "output_type": "display_data"
    },
    {
     "data": {
      "application/vnd.jupyter.widget-view+json": {
       "model_id": "87a10208b5624391bd9e58a95525c4d8",
       "version_major": 2,
       "version_minor": 0
      },
      "text/plain": [
       "Render HTML:   0%|          | 0/1 [00:00<?, ?it/s]"
      ]
     },
     "metadata": {},
     "output_type": "display_data"
    },
    {
     "data": {
      "application/vnd.jupyter.widget-view+json": {
       "model_id": "441ab3e6c36d41b3962a3c2facc67742",
       "version_major": 2,
       "version_minor": 0
      },
      "text/plain": [
       "Export report to file:   0%|          | 0/1 [00:00<?, ?it/s]"
      ]
     },
     "metadata": {},
     "output_type": "display_data"
    }
   ],
   "source": [
    "report = ProfileReport(df, interactions=None)\n",
    "report.to_file('cc_defaults.html')"
   ]
  },
  {
   "cell_type": "code",
   "execution_count": 4,
   "metadata": {},
   "outputs": [
    {
     "data": {
      "text/plain": [
       "LIMIT_BAL                    -0.153520\n",
       "SEX                          -0.039961\n",
       "EDUCATION                     0.028006\n",
       "MARRIAGE                     -0.024339\n",
       "AGE                           0.013890\n",
       "PAY_0                         0.324794\n",
       "PAY_2                         0.263551\n",
       "PAY_3                         0.235253\n",
       "PAY_4                         0.216614\n",
       "PAY_5                         0.204149\n",
       "PAY_6                         0.186866\n",
       "BILL_AMT1                    -0.019644\n",
       "BILL_AMT2                    -0.014193\n",
       "BILL_AMT3                    -0.014076\n",
       "BILL_AMT4                    -0.010156\n",
       "BILL_AMT5                    -0.006760\n",
       "BILL_AMT6                    -0.005372\n",
       "PAY_AMT1                     -0.072929\n",
       "PAY_AMT2                     -0.058579\n",
       "PAY_AMT3                     -0.056250\n",
       "PAY_AMT4                     -0.056827\n",
       "PAY_AMT5                     -0.055124\n",
       "PAY_AMT6                     -0.053183\n",
       "default payment next month    1.000000\n",
       "Name: default payment next month, dtype: float64"
      ]
     },
     "execution_count": 4,
     "metadata": {},
     "output_type": "execute_result"
    }
   ],
   "source": [
    "df.corr().loc['default payment next month']"
   ]
  },
  {
   "cell_type": "code",
   "execution_count": 5,
   "metadata": {},
   "outputs": [],
   "source": [
    "train_features = df.drop('default payment next month', axis=1)\n",
    "train_targets = df['default payment next month']"
   ]
  },
  {
   "cell_type": "markdown",
   "metadata": {},
   "source": [
    "### sklearn logistic regression"
   ]
  },
  {
   "cell_type": "code",
   "execution_count": 6,
   "metadata": {
    "scrolled": true
   },
   "outputs": [
    {
     "name": "stderr",
     "output_type": "stream",
     "text": [
      "C:\\Users\\words\\Anaconda3\\envs\\datasci\\lib\\site-packages\\sklearn\\linear_model\\_logistic.py:762: ConvergenceWarning: lbfgs failed to converge (status=1):\n",
      "STOP: TOTAL NO. of ITERATIONS REACHED LIMIT.\n",
      "\n",
      "Increase the number of iterations (max_iter) or scale the data as shown in:\n",
      "    https://scikit-learn.org/stable/modules/preprocessing.html\n",
      "Please also refer to the documentation for alternative solver options:\n",
      "    https://scikit-learn.org/stable/modules/linear_model.html#logistic-regression\n",
      "  n_iter_i = _check_optimize_result(\n"
     ]
    },
    {
     "data": {
      "text/plain": [
       "LogisticRegression()"
      ]
     },
     "execution_count": 6,
     "metadata": {},
     "output_type": "execute_result"
    }
   ],
   "source": [
    "from sklearn.linear_model import LogisticRegression\n",
    "\n",
    "lr_sklearn = LogisticRegression()\n",
    "lr_sklearn.fit(train_features, train_targets)"
   ]
  },
  {
   "cell_type": "code",
   "execution_count": 7,
   "metadata": {},
   "outputs": [
    {
     "data": {
      "text/plain": [
       "0.7788333333333334"
      ]
     },
     "execution_count": 7,
     "metadata": {},
     "output_type": "execute_result"
    }
   ],
   "source": [
    "lr_sklearn.score(train_features, train_targets)"
   ]
  },
  {
   "cell_type": "code",
   "execution_count": 8,
   "metadata": {},
   "outputs": [
    {
     "data": {
      "text/plain": [
       "0    0.7788\n",
       "1    0.2212\n",
       "Name: default payment next month, dtype: float64"
      ]
     },
     "execution_count": 8,
     "metadata": {},
     "output_type": "execute_result"
    }
   ],
   "source": [
    "train_targets.value_counts(normalize=True)"
   ]
  },
  {
   "cell_type": "code",
   "execution_count": 9,
   "metadata": {},
   "outputs": [
    {
     "data": {
      "text/plain": [
       "array([0, 0, 0, ..., 0, 0, 0], dtype=int64)"
      ]
     },
     "execution_count": 9,
     "metadata": {},
     "output_type": "execute_result"
    }
   ],
   "source": [
    "predictions = lr_sklearn.predict(train_features)\n",
    "predictions"
   ]
  },
  {
   "cell_type": "code",
   "execution_count": 10,
   "metadata": {},
   "outputs": [
    {
     "data": {
      "text/plain": [
       "array([0], dtype=int64)"
      ]
     },
     "execution_count": 10,
     "metadata": {},
     "output_type": "execute_result"
    }
   ],
   "source": [
    "lr_sklearn.predict(train_features.iloc[-1].values.reshape(1, -1))"
   ]
  },
  {
   "cell_type": "code",
   "execution_count": 11,
   "metadata": {},
   "outputs": [
    {
     "data": {
      "text/plain": [
       "array([[0.5413097 , 0.4586903 ],\n",
       "       [0.65880917, 0.34119083],\n",
       "       [0.65864368, 0.34135632],\n",
       "       ...,\n",
       "       [0.59329774, 0.40670226],\n",
       "       [0.977336  , 0.022664  ],\n",
       "       [0.60781943, 0.39218057]])"
      ]
     },
     "execution_count": 11,
     "metadata": {},
     "output_type": "execute_result"
    }
   ],
   "source": [
    "lr_sklearn.predict_proba(train_features)"
   ]
  },
  {
   "cell_type": "code",
   "execution_count": 12,
   "metadata": {},
   "outputs": [],
   "source": [
    "proba_predictions = lr_sklearn.predict_proba(train_features)[:, 1]\n",
    "proba_predictions = (proba_predictions >= 0.5).astype('int')"
   ]
  },
  {
   "cell_type": "code",
   "execution_count": 13,
   "metadata": {},
   "outputs": [
    {
     "data": {
      "text/plain": [
       "True"
      ]
     },
     "execution_count": 13,
     "metadata": {},
     "output_type": "execute_result"
    }
   ],
   "source": [
    "import numpy as np\n",
    "\n",
    "predictions = lr_sklearn.predict(train_features)\n",
    "np.array_equal(predictions, np.round(proba_predictions))"
   ]
  },
  {
   "cell_type": "markdown",
   "metadata": {},
   "source": [
    "#### Predicting the probability for a single datapoint"
   ]
  },
  {
   "cell_type": "code",
   "execution_count": 14,
   "metadata": {},
   "outputs": [
    {
     "data": {
      "text/plain": [
       "array([[50000,     1,     2,     1,    46,     0,     0,     0,     0,\n",
       "            0,     0, 47929, 48905, 49764, 36535, 32428, 15313,  2078,\n",
       "         1800,  1430,  1000,  1000,  1000]], dtype=int64)"
      ]
     },
     "execution_count": 14,
     "metadata": {},
     "output_type": "execute_result"
    }
   ],
   "source": [
    "train_features.iloc[-1].values.reshape(1, -1)"
   ]
  },
  {
   "cell_type": "code",
   "execution_count": 15,
   "metadata": {},
   "outputs": [
    {
     "data": {
      "text/plain": [
       "1"
      ]
     },
     "execution_count": 15,
     "metadata": {},
     "output_type": "execute_result"
    }
   ],
   "source": [
    "train_targets.iloc[-1]"
   ]
  },
  {
   "cell_type": "code",
   "execution_count": 16,
   "metadata": {},
   "outputs": [
    {
     "data": {
      "text/plain": [
       "array([[0.60781943, 0.39218057]])"
      ]
     },
     "execution_count": 16,
     "metadata": {},
     "output_type": "execute_result"
    }
   ],
   "source": [
    "lr_sklearn.predict_proba(train_features.iloc[-1].values.reshape(1, -1))"
   ]
  },
  {
   "cell_type": "markdown",
   "metadata": {},
   "source": [
    "## How logistic regression works"
   ]
  },
  {
   "cell_type": "code",
   "execution_count": 17,
   "metadata": {},
   "outputs": [
    {
     "data": {
      "text/plain": [
       "<matplotlib.legend.Legend at 0x26b44c1b2b0>"
      ]
     },
     "execution_count": 17,
     "metadata": {},
     "output_type": "execute_result"
    },
    {
     "data": {
      "image/png": "[encoded data removed]",
      "text/plain": [
       "<Figure size 396x396 with 1 Axes>"
      ]
     },
     "metadata": {
      "needs_background": "light"
     },
     "output_type": "display_data"
    }
   ],
   "source": [
    "import matplotlib.pyplot as plt \n",
    "import numpy as np \n",
    "import math \n",
    "\n",
    "# f, ax = plt.subplots(1, 1)\n",
    "f = plt.figure(figsize=(5.5, 5.5))\n",
    "x = np.linspace(-10, 10, 100) \n",
    "y = 1/(1 + np.exp(-(1 + 0.5*x)))\n",
    "  \n",
    "plt.plot(x, y, label='b0 = 1; b1 = 0.5') \n",
    "plt.xlabel(\"x\") \n",
    "plt.ylabel(\"p(y=1)\")\n",
    "\n",
    "y = 1/(1 + np.exp(-(1 + 5*x)))\n",
    "plt.plot(x, y, label='b0 = 1; b1 = 5', linestyle='dashed') \n",
    "plt.xlabel(\"x\") \n",
    "plt.ylabel(\"p(y=1)\")\n",
    "\n",
    "y = 1/(1 + np.exp(-(10 + 5*x)))\n",
    "plt.plot(x, y, label='b0 = 10; b1 = 5', linestyle='dotted') \n",
    "plt.xlabel(\"x\") \n",
    "plt.ylabel(\"p(y=1)\")\n",
    "\n",
    "\n",
    "plt.legend()"
   ]
  },
  {
   "cell_type": "code",
   "execution_count": 18,
   "metadata": {},
   "outputs": [
    {
     "data": {
      "text/plain": [
       "array([-2.24725158e-05])"
      ]
     },
     "execution_count": 18,
     "metadata": {},
     "output_type": "execute_result"
    }
   ],
   "source": [
    "lr_sklearn.intercept_"
   ]
  },
  {
   "cell_type": "code",
   "execution_count": 19,
   "metadata": {},
   "outputs": [
    {
     "data": {
      "text/plain": [
       "array([[-5.06174142e-06, -3.90339041e-05, -4.82612466e-05,\n",
       "        -4.08602655e-05, -6.92131758e-04,  5.07229250e-05,\n",
       "         3.93757000e-05,  3.47522424e-05,  3.27504528e-05,\n",
       "         3.07778722e-05,  2.87985222e-05, -7.78289355e-06,\n",
       "        -1.39246756e-07,  2.43678773e-06,  3.72212875e-06,\n",
       "         2.41779144e-06,  3.85986835e-06, -3.79861658e-05,\n",
       "        -2.65870439e-05, -1.43884850e-05, -1.07654293e-05,\n",
       "        -1.02277973e-05,  4.02837208e-07]])"
      ]
     },
     "execution_count": 19,
     "metadata": {},
     "output_type": "execute_result"
    }
   ],
   "source": [
    "lr_sklearn.coef_"
   ]
  },
  {
   "cell_type": "code",
   "execution_count": 20,
   "metadata": {},
   "outputs": [
    {
     "data": {
      "text/plain": [
       "array([[0.99999494, 0.99996097, 0.99995174, 0.99995914, 0.99930811,\n",
       "        1.00005072, 1.00003938, 1.00003475, 1.00003275, 1.00003078,\n",
       "        1.0000288 , 0.99999222, 0.99999986, 1.00000244, 1.00000372,\n",
       "        1.00000242, 1.00000386, 0.99996201, 0.99997341, 0.99998561,\n",
       "        0.99998923, 0.99998977, 1.0000004 ]])"
      ]
     },
     "execution_count": 20,
     "metadata": {},
     "output_type": "execute_result"
    }
   ],
   "source": [
    "np.exp(lr_sklearn.coef_)"
   ]
  },
  {
   "cell_type": "markdown",
   "metadata": {},
   "source": [
    "### Re-fit to scaled data, then plot feature importances"
   ]
  },
  {
   "cell_type": "code",
   "execution_count": 21,
   "metadata": {},
   "outputs": [
    {
     "data": {
      "image/png": "[encoded data removed]",
      "text/plain": [
       "<Figure size 396x396 with 1 Axes>"
      ]
     },
     "metadata": {
      "needs_background": "light"
     },
     "output_type": "display_data"
    }
   ],
   "source": [
    "from sklearn.preprocessing import StandardScaler\n",
    "import matplotlib.pyplot as plt\n",
    "\n",
    "scaler = StandardScaler()\n",
    "scaled_features = scaler.fit_transform(train_features)\n",
    "scaled_lr_model = LogisticRegression(random_state=42)\n",
    "scaled_lr_model.fit(scaled_features, train_targets)\n",
    "\n",
    "logit_coef = np.exp(scaled_lr_model.coef_[0]) - 1\n",
    "idx = abs(logit_coef).argsort()[::-1]\n",
    "f = plt.figure(figsize=(5.5, 5.5))\n",
    "plt.bar(range(len(idx)), logit_coef[idx])\n",
    "_ = plt.xticks(range(len(idx)), train_features.columns[idx], rotation=90)\n",
    "plt.tight_layout()"
   ]
  },
  {
   "cell_type": "markdown",
   "metadata": {},
   "source": [
    "### Statsmodels logistic regression"
   ]
  },
  {
   "cell_type": "code",
   "execution_count": 22,
   "metadata": {
    "scrolled": true
   },
   "outputs": [
    {
     "name": "stdout",
     "output_type": "stream",
     "text": [
      "Optimization terminated successfully.\n",
      "         Current function value: 0.464620\n",
      "         Iterations 7\n"
     ]
    },
    {
     "data": {
      "text/html": [
       "<table class=\"simpletable\">\n",
       "<caption>Logit Regression Results</caption>\n",
       "<tr>\n",
       "  <th>Dep. Variable:</th>   <td>default payment next month</td> <th>  No. Observations:  </th>  <td> 30000</td> \n",
       "</tr>\n",
       "<tr>\n",
       "  <th>Model:</th>                      <td>Logit</td>           <th>  Df Residuals:      </th>  <td> 29976</td> \n",
       "</tr>\n",
       "<tr>\n",
       "  <th>Method:</th>                      <td>MLE</td>            <th>  Df Model:          </th>  <td>    23</td> \n",
       "</tr>\n",
       "<tr>\n",
       "  <th>Date:</th>                 <td>Sat, 01 May 2021</td>      <th>  Pseudo R-squ.:     </th>  <td>0.1207</td> \n",
       "</tr>\n",
       "<tr>\n",
       "  <th>Time:</th>                     <td>09:50:33</td>          <th>  Log-Likelihood:    </th> <td> -13939.</td>\n",
       "</tr>\n",
       "<tr>\n",
       "  <th>converged:</th>                  <td>True</td>            <th>  LL-Null:           </th> <td> -15853.</td>\n",
       "</tr>\n",
       "<tr>\n",
       "  <th>Covariance Type:</th>          <td>nonrobust</td>         <th>  LLR p-value:       </th>  <td> 0.000</td> \n",
       "</tr>\n",
       "</table>\n",
       "<table class=\"simpletable\">\n",
       "<tr>\n",
       "      <td></td>         <th>coef</th>     <th>std err</th>      <th>z</th>      <th>P>|z|</th>  <th>[0.025</th>    <th>0.975]</th>  \n",
       "</tr>\n",
       "<tr>\n",
       "  <th>const</th>     <td>   -0.6863</td> <td>    0.119</td> <td>   -5.784</td> <td> 0.000</td> <td>   -0.919</td> <td>   -0.454</td>\n",
       "</tr>\n",
       "<tr>\n",
       "  <th>LIMIT_BAL</th> <td>-7.623e-07</td> <td> 1.57e-07</td> <td>   -4.859</td> <td> 0.000</td> <td>-1.07e-06</td> <td>-4.55e-07</td>\n",
       "</tr>\n",
       "<tr>\n",
       "  <th>SEX</th>       <td>   -0.1087</td> <td>    0.031</td> <td>   -3.541</td> <td> 0.000</td> <td>   -0.169</td> <td>   -0.049</td>\n",
       "</tr>\n",
       "<tr>\n",
       "  <th>EDUCATION</th> <td>   -0.1016</td> <td>    0.021</td> <td>   -4.844</td> <td> 0.000</td> <td>   -0.143</td> <td>   -0.060</td>\n",
       "</tr>\n",
       "<tr>\n",
       "  <th>MARRIAGE</th>  <td>   -0.1544</td> <td>    0.032</td> <td>   -4.869</td> <td> 0.000</td> <td>   -0.216</td> <td>   -0.092</td>\n",
       "</tr>\n",
       "<tr>\n",
       "  <th>AGE</th>       <td>    0.0074</td> <td>    0.002</td> <td>    4.170</td> <td> 0.000</td> <td>    0.004</td> <td>    0.011</td>\n",
       "</tr>\n",
       "<tr>\n",
       "  <th>PAY_0</th>     <td>    0.5774</td> <td>    0.018</td> <td>   32.632</td> <td> 0.000</td> <td>    0.543</td> <td>    0.612</td>\n",
       "</tr>\n",
       "<tr>\n",
       "  <th>PAY_2</th>     <td>    0.0828</td> <td>    0.020</td> <td>    4.103</td> <td> 0.000</td> <td>    0.043</td> <td>    0.122</td>\n",
       "</tr>\n",
       "<tr>\n",
       "  <th>PAY_3</th>     <td>    0.0721</td> <td>    0.023</td> <td>    3.192</td> <td> 0.001</td> <td>    0.028</td> <td>    0.116</td>\n",
       "</tr>\n",
       "<tr>\n",
       "  <th>PAY_4</th>     <td>    0.0239</td> <td>    0.025</td> <td>    0.956</td> <td> 0.339</td> <td>   -0.025</td> <td>    0.073</td>\n",
       "</tr>\n",
       "<tr>\n",
       "  <th>PAY_5</th>     <td>    0.0340</td> <td>    0.027</td> <td>    1.266</td> <td> 0.206</td> <td>   -0.019</td> <td>    0.087</td>\n",
       "</tr>\n",
       "<tr>\n",
       "  <th>PAY_6</th>     <td>    0.0080</td> <td>    0.022</td> <td>    0.363</td> <td> 0.716</td> <td>   -0.035</td> <td>    0.051</td>\n",
       "</tr>\n",
       "<tr>\n",
       "  <th>BILL_AMT1</th> <td>-5.492e-06</td> <td> 1.14e-06</td> <td>   -4.835</td> <td> 0.000</td> <td>-7.72e-06</td> <td>-3.27e-06</td>\n",
       "</tr>\n",
       "<tr>\n",
       "  <th>BILL_AMT2</th> <td> 2.356e-06</td> <td>  1.5e-06</td> <td>    1.566</td> <td> 0.117</td> <td>-5.92e-07</td> <td>  5.3e-06</td>\n",
       "</tr>\n",
       "<tr>\n",
       "  <th>BILL_AMT3</th> <td> 1.365e-06</td> <td> 1.32e-06</td> <td>    1.032</td> <td> 0.302</td> <td>-1.23e-06</td> <td> 3.96e-06</td>\n",
       "</tr>\n",
       "<tr>\n",
       "  <th>BILL_AMT4</th> <td>-1.821e-07</td> <td> 1.35e-06</td> <td>   -0.135</td> <td> 0.893</td> <td>-2.83e-06</td> <td> 2.46e-06</td>\n",
       "</tr>\n",
       "<tr>\n",
       "  <th>BILL_AMT5</th> <td> 6.155e-07</td> <td> 1.52e-06</td> <td>    0.405</td> <td> 0.685</td> <td>-2.36e-06</td> <td> 3.59e-06</td>\n",
       "</tr>\n",
       "<tr>\n",
       "  <th>BILL_AMT6</th> <td> 3.938e-07</td> <td> 1.19e-06</td> <td>    0.330</td> <td> 0.742</td> <td>-1.95e-06</td> <td> 2.74e-06</td>\n",
       "</tr>\n",
       "<tr>\n",
       "  <th>PAY_AMT1</th>  <td>-1.363e-05</td> <td> 2.31e-06</td> <td>   -5.913</td> <td> 0.000</td> <td>-1.81e-05</td> <td>-9.11e-06</td>\n",
       "</tr>\n",
       "<tr>\n",
       "  <th>PAY_AMT2</th>  <td>-9.616e-06</td> <td> 2.09e-06</td> <td>   -4.590</td> <td> 0.000</td> <td>-1.37e-05</td> <td>-5.51e-06</td>\n",
       "</tr>\n",
       "<tr>\n",
       "  <th>PAY_AMT3</th>  <td>-2.742e-06</td> <td> 1.72e-06</td> <td>   -1.592</td> <td> 0.111</td> <td>-6.12e-06</td> <td> 6.34e-07</td>\n",
       "</tr>\n",
       "<tr>\n",
       "  <th>PAY_AMT4</th>  <td>-4.023e-06</td> <td> 1.78e-06</td> <td>   -2.254</td> <td> 0.024</td> <td>-7.52e-06</td> <td>-5.25e-07</td>\n",
       "</tr>\n",
       "<tr>\n",
       "  <th>PAY_AMT5</th>  <td>-3.311e-06</td> <td> 1.78e-06</td> <td>   -1.864</td> <td> 0.062</td> <td>-6.79e-06</td> <td> 1.71e-07</td>\n",
       "</tr>\n",
       "<tr>\n",
       "  <th>PAY_AMT6</th>  <td>-2.064e-06</td> <td>  1.3e-06</td> <td>   -1.593</td> <td> 0.111</td> <td> -4.6e-06</td> <td> 4.76e-07</td>\n",
       "</tr>\n",
       "</table>"
      ],
      "text/plain": [
       "<class 'statsmodels.iolib.summary.Summary'>\n",
       "\"\"\"\n",
       "                               Logit Regression Results                               \n",
       "======================================================================================\n",
       "Dep. Variable:     default payment next month   No. Observations:                30000\n",
       "Model:                                  Logit   Df Residuals:                    29976\n",
       "Method:                                   MLE   Df Model:                           23\n",
       "Date:                        Sat, 01 May 2021   Pseudo R-squ.:                  0.1207\n",
       "Time:                                09:50:33   Log-Likelihood:                -13939.\n",
       "converged:                               True   LL-Null:                       -15853.\n",
       "Covariance Type:                    nonrobust   LLR p-value:                     0.000\n",
       "==============================================================================\n",
       "                 coef    std err          z      P>|z|      [0.025      0.975]\n",
       "------------------------------------------------------------------------------\n",
       "const         -0.6863      0.119     -5.784      0.000      -0.919      -0.454\n",
       "LIMIT_BAL  -7.623e-07   1.57e-07     -4.859      0.000   -1.07e-06   -4.55e-07\n",
       "SEX           -0.1087      0.031     -3.541      0.000      -0.169      -0.049\n",
       "EDUCATION     -0.1016      0.021     -4.844      0.000      -0.143      -0.060\n",
       "MARRIAGE      -0.1544      0.032     -4.869      0.000      -0.216      -0.092\n",
       "AGE            0.0074      0.002      4.170      0.000       0.004       0.011\n",
       "PAY_0          0.5774      0.018     32.632      0.000       0.543       0.612\n",
       "PAY_2          0.0828      0.020      4.103      0.000       0.043       0.122\n",
       "PAY_3          0.0721      0.023      3.192      0.001       0.028       0.116\n",
       "PAY_4          0.0239      0.025      0.956      0.339      -0.025       0.073\n",
       "PAY_5          0.0340      0.027      1.266      0.206      -0.019       0.087\n",
       "PAY_6          0.0080      0.022      0.363      0.716      -0.035       0.051\n",
       "BILL_AMT1  -5.492e-06   1.14e-06     -4.835      0.000   -7.72e-06   -3.27e-06\n",
       "BILL_AMT2   2.356e-06    1.5e-06      1.566      0.117   -5.92e-07     5.3e-06\n",
       "BILL_AMT3   1.365e-06   1.32e-06      1.032      0.302   -1.23e-06    3.96e-06\n",
       "BILL_AMT4  -1.821e-07   1.35e-06     -0.135      0.893   -2.83e-06    2.46e-06\n",
       "BILL_AMT5   6.155e-07   1.52e-06      0.405      0.685   -2.36e-06    3.59e-06\n",
       "BILL_AMT6   3.938e-07   1.19e-06      0.330      0.742   -1.95e-06    2.74e-06\n",
       "PAY_AMT1   -1.363e-05   2.31e-06     -5.913      0.000   -1.81e-05   -9.11e-06\n",
       "PAY_AMT2   -9.616e-06   2.09e-06     -4.590      0.000   -1.37e-05   -5.51e-06\n",
       "PAY_AMT3   -2.742e-06   1.72e-06     -1.592      0.111   -6.12e-06    6.34e-07\n",
       "PAY_AMT4   -4.023e-06   1.78e-06     -2.254      0.024   -7.52e-06   -5.25e-07\n",
       "PAY_AMT5   -3.311e-06   1.78e-06     -1.864      0.062   -6.79e-06    1.71e-07\n",
       "PAY_AMT6   -2.064e-06    1.3e-06     -1.593      0.111    -4.6e-06    4.76e-07\n",
       "==============================================================================\n",
       "\"\"\""
      ]
     },
     "execution_count": 22,
     "metadata": {},
     "output_type": "execute_result"
    }
   ],
   "source": [
    "import statsmodels.api as sm\n",
    "\n",
    "lr_model = sm.Logit(train_targets, sm.add_constant(train_features))\n",
    "lr_results = lr_model.fit()\n",
    "lr_results.summary()"
   ]
  },
  {
   "cell_type": "code",
   "execution_count": 23,
   "metadata": {
    "scrolled": true
   },
   "outputs": [
    {
     "data": {
      "text/html": [
       "<table class=\"simpletable\">\n",
       "<tr>\n",
       "        <td>Model:</td>                   <td>Logit</td>           <td>Pseudo R-squared:</td>    <td>0.121</td>  \n",
       "</tr>\n",
       "<tr>\n",
       "  <td>Dependent Variable:</td> <td>default payment next month</td>       <td>AIC:</td>        <td>27925.2001</td>\n",
       "</tr>\n",
       "<tr>\n",
       "         <td>Date:</td>             <td>2021-05-01 09:50</td>            <td>BIC:</td>        <td>28124.6150</td>\n",
       "</tr>\n",
       "<tr>\n",
       "   <td>No. Observations:</td>             <td>30000</td>            <td>Log-Likelihood:</td>    <td>-13939.</td> \n",
       "</tr>\n",
       "<tr>\n",
       "       <td>Df Model:</td>                  <td>23</td>                 <td>LL-Null:</td>        <td>-15853.</td> \n",
       "</tr>\n",
       "<tr>\n",
       "     <td>Df Residuals:</td>               <td>29976</td>             <td>LLR p-value:</td>      <td>0.0000</td>  \n",
       "</tr>\n",
       "<tr>\n",
       "      <td>Converged:</td>                <td>1.0000</td>                <td>Scale:</td>         <td>1.0000</td>  \n",
       "</tr>\n",
       "<tr>\n",
       "    <td>No. Iterations:</td>             <td>7.0000</td>                   <td></td>               <td></td>     \n",
       "</tr>\n",
       "</table>\n",
       "<table class=\"simpletable\">\n",
       "<tr>\n",
       "      <td></td>       <th>Coef.</th>  <th>Std.Err.</th>    <th>z</th>     <th>P>|z|</th> <th>[0.025</th>  <th>0.975]</th> \n",
       "</tr>\n",
       "<tr>\n",
       "  <th>const</th>     <td>-0.6863</td>  <td>0.1187</td>  <td>-5.7838</td> <td>0.0000</td> <td>-0.9188</td> <td>-0.4537</td>\n",
       "</tr>\n",
       "<tr>\n",
       "  <th>LIMIT_BAL</th> <td>-0.0000</td>  <td>0.0000</td>  <td>-4.8587</td> <td>0.0000</td> <td>-0.0000</td> <td>-0.0000</td>\n",
       "</tr>\n",
       "<tr>\n",
       "  <th>SEX</th>       <td>-0.1087</td>  <td>0.0307</td>  <td>-3.5408</td> <td>0.0004</td> <td>-0.1688</td> <td>-0.0485</td>\n",
       "</tr>\n",
       "<tr>\n",
       "  <th>EDUCATION</th> <td>-0.1016</td>  <td>0.0210</td>  <td>-4.8444</td> <td>0.0000</td> <td>-0.1427</td> <td>-0.0605</td>\n",
       "</tr>\n",
       "<tr>\n",
       "  <th>MARRIAGE</th>  <td>-0.1544</td>  <td>0.0317</td>  <td>-4.8687</td> <td>0.0000</td> <td>-0.2165</td> <td>-0.0922</td>\n",
       "</tr>\n",
       "<tr>\n",
       "  <th>AGE</th>       <td>0.0074</td>   <td>0.0018</td>  <td>4.1703</td>  <td>0.0000</td> <td>0.0039</td>  <td>0.0109</td> \n",
       "</tr>\n",
       "<tr>\n",
       "  <th>PAY_0</th>     <td>0.5774</td>   <td>0.0177</td>  <td>32.6324</td> <td>0.0000</td> <td>0.5427</td>  <td>0.6121</td> \n",
       "</tr>\n",
       "<tr>\n",
       "  <th>PAY_2</th>     <td>0.0828</td>   <td>0.0202</td>  <td>4.1033</td>  <td>0.0000</td> <td>0.0433</td>  <td>0.1224</td> \n",
       "</tr>\n",
       "<tr>\n",
       "  <th>PAY_3</th>     <td>0.0721</td>   <td>0.0226</td>  <td>3.1915</td>  <td>0.0014</td> <td>0.0278</td>  <td>0.1164</td> \n",
       "</tr>\n",
       "<tr>\n",
       "  <th>PAY_4</th>     <td>0.0239</td>   <td>0.0250</td>  <td>0.9555</td>  <td>0.3393</td> <td>-0.0251</td> <td>0.0729</td> \n",
       "</tr>\n",
       "<tr>\n",
       "  <th>PAY_5</th>     <td>0.0340</td>   <td>0.0269</td>  <td>1.2655</td>  <td>0.2057</td> <td>-0.0187</td> <td>0.0867</td> \n",
       "</tr>\n",
       "<tr>\n",
       "  <th>PAY_6</th>     <td>0.0080</td>   <td>0.0221</td>  <td>0.3632</td>  <td>0.7164</td> <td>-0.0353</td> <td>0.0514</td> \n",
       "</tr>\n",
       "<tr>\n",
       "  <th>BILL_AMT1</th> <td>-0.0000</td>  <td>0.0000</td>  <td>-4.8352</td> <td>0.0000</td> <td>-0.0000</td> <td>-0.0000</td>\n",
       "</tr>\n",
       "<tr>\n",
       "  <th>BILL_AMT2</th> <td>0.0000</td>   <td>0.0000</td>  <td>1.5663</td>  <td>0.1173</td> <td>-0.0000</td> <td>0.0000</td> \n",
       "</tr>\n",
       "<tr>\n",
       "  <th>BILL_AMT3</th> <td>0.0000</td>   <td>0.0000</td>  <td>1.0320</td>  <td>0.3021</td> <td>-0.0000</td> <td>0.0000</td> \n",
       "</tr>\n",
       "<tr>\n",
       "  <th>BILL_AMT4</th> <td>-0.0000</td>  <td>0.0000</td>  <td>-0.1350</td> <td>0.8926</td> <td>-0.0000</td> <td>0.0000</td> \n",
       "</tr>\n",
       "<tr>\n",
       "  <th>BILL_AMT5</th> <td>0.0000</td>   <td>0.0000</td>  <td>0.4053</td>  <td>0.6852</td> <td>-0.0000</td> <td>0.0000</td> \n",
       "</tr>\n",
       "<tr>\n",
       "  <th>BILL_AMT6</th> <td>0.0000</td>   <td>0.0000</td>  <td>0.3296</td>  <td>0.7417</td> <td>-0.0000</td> <td>0.0000</td> \n",
       "</tr>\n",
       "<tr>\n",
       "  <th>PAY_AMT1</th>  <td>-0.0000</td>  <td>0.0000</td>  <td>-5.9131</td> <td>0.0000</td> <td>-0.0000</td> <td>-0.0000</td>\n",
       "</tr>\n",
       "<tr>\n",
       "  <th>PAY_AMT2</th>  <td>-0.0000</td>  <td>0.0000</td>  <td>-4.5903</td> <td>0.0000</td> <td>-0.0000</td> <td>-0.0000</td>\n",
       "</tr>\n",
       "<tr>\n",
       "  <th>PAY_AMT3</th>  <td>-0.0000</td>  <td>0.0000</td>  <td>-1.5917</td> <td>0.1115</td> <td>-0.0000</td> <td>0.0000</td> \n",
       "</tr>\n",
       "<tr>\n",
       "  <th>PAY_AMT4</th>  <td>-0.0000</td>  <td>0.0000</td>  <td>-2.2542</td> <td>0.0242</td> <td>-0.0000</td> <td>-0.0000</td>\n",
       "</tr>\n",
       "<tr>\n",
       "  <th>PAY_AMT5</th>  <td>-0.0000</td>  <td>0.0000</td>  <td>-1.8635</td> <td>0.0624</td> <td>-0.0000</td> <td>0.0000</td> \n",
       "</tr>\n",
       "<tr>\n",
       "  <th>PAY_AMT6</th>  <td>-0.0000</td>  <td>0.0000</td>  <td>-1.5928</td> <td>0.1112</td> <td>-0.0000</td> <td>0.0000</td> \n",
       "</tr>\n",
       "</table>"
      ],
      "text/plain": [
       "<class 'statsmodels.iolib.summary2.Summary'>\n",
       "\"\"\"\n",
       "                              Results: Logit\n",
       "===========================================================================\n",
       "Model:              Logit                      Pseudo R-squared: 0.121     \n",
       "Dependent Variable: default payment next month AIC:              27925.2001\n",
       "Date:               2021-05-01 09:50           BIC:              28124.6150\n",
       "No. Observations:   30000                      Log-Likelihood:   -13939.   \n",
       "Df Model:           23                         LL-Null:          -15853.   \n",
       "Df Residuals:       29976                      LLR p-value:      0.0000    \n",
       "Converged:          1.0000                     Scale:            1.0000    \n",
       "No. Iterations:     7.0000                                                 \n",
       "------------------------------------------------------------------------------\n",
       "                 Coef.     Std.Err.       z       P>|z|      [0.025     0.975]\n",
       "------------------------------------------------------------------------------\n",
       "const           -0.6863      0.1187    -5.7838    0.0000    -0.9188    -0.4537\n",
       "LIMIT_BAL       -0.0000      0.0000    -4.8587    0.0000    -0.0000    -0.0000\n",
       "SEX             -0.1087      0.0307    -3.5408    0.0004    -0.1688    -0.0485\n",
       "EDUCATION       -0.1016      0.0210    -4.8444    0.0000    -0.1427    -0.0605\n",
       "MARRIAGE        -0.1544      0.0317    -4.8687    0.0000    -0.2165    -0.0922\n",
       "AGE              0.0074      0.0018     4.1703    0.0000     0.0039     0.0109\n",
       "PAY_0            0.5774      0.0177    32.6324    0.0000     0.5427     0.6121\n",
       "PAY_2            0.0828      0.0202     4.1033    0.0000     0.0433     0.1224\n",
       "PAY_3            0.0721      0.0226     3.1915    0.0014     0.0278     0.1164\n",
       "PAY_4            0.0239      0.0250     0.9555    0.3393    -0.0251     0.0729\n",
       "PAY_5            0.0340      0.0269     1.2655    0.2057    -0.0187     0.0867\n",
       "PAY_6            0.0080      0.0221     0.3632    0.7164    -0.0353     0.0514\n",
       "BILL_AMT1       -0.0000      0.0000    -4.8352    0.0000    -0.0000    -0.0000\n",
       "BILL_AMT2        0.0000      0.0000     1.5663    0.1173    -0.0000     0.0000\n",
       "BILL_AMT3        0.0000      0.0000     1.0320    0.3021    -0.0000     0.0000\n",
       "BILL_AMT4       -0.0000      0.0000    -0.1350    0.8926    -0.0000     0.0000\n",
       "BILL_AMT5        0.0000      0.0000     0.4053    0.6852    -0.0000     0.0000\n",
       "BILL_AMT6        0.0000      0.0000     0.3296    0.7417    -0.0000     0.0000\n",
       "PAY_AMT1        -0.0000      0.0000    -5.9131    0.0000    -0.0000    -0.0000\n",
       "PAY_AMT2        -0.0000      0.0000    -4.5903    0.0000    -0.0000    -0.0000\n",
       "PAY_AMT3        -0.0000      0.0000    -1.5917    0.1115    -0.0000     0.0000\n",
       "PAY_AMT4        -0.0000      0.0000    -2.2542    0.0242    -0.0000    -0.0000\n",
       "PAY_AMT5        -0.0000      0.0000    -1.8635    0.0624    -0.0000     0.0000\n",
       "PAY_AMT6        -0.0000      0.0000    -1.5928    0.1112    -0.0000     0.0000\n",
       "===========================================================================\n",
       "\n",
       "\"\"\""
      ]
     },
     "execution_count": 23,
     "metadata": {},
     "output_type": "execute_result"
    }
   ],
   "source": [
    "lr_results.summary2()"
   ]
  },
  {
   "cell_type": "code",
   "execution_count": 24,
   "metadata": {
    "scrolled": true
   },
   "outputs": [
    {
     "name": "stdout",
     "output_type": "stream",
     "text": [
      "Optimization terminated successfully.\n",
      "         Current function value: 0.465428\n",
      "         Iterations 7\n"
     ]
    },
    {
     "data": {
      "text/html": [
       "<table class=\"simpletable\">\n",
       "<caption>Logit Regression Results</caption>\n",
       "<tr>\n",
       "  <th>Dep. Variable:</th>   <td>default payment next month</td> <th>  No. Observations:  </th>  <td> 30000</td> \n",
       "</tr>\n",
       "<tr>\n",
       "  <th>Model:</th>                      <td>Logit</td>           <th>  Df Residuals:      </th>  <td> 29987</td> \n",
       "</tr>\n",
       "<tr>\n",
       "  <th>Method:</th>                      <td>MLE</td>            <th>  Df Model:          </th>  <td>    12</td> \n",
       "</tr>\n",
       "<tr>\n",
       "  <th>Date:</th>                 <td>Sat, 01 May 2021</td>      <th>  Pseudo R-squ.:     </th>  <td>0.1192</td> \n",
       "</tr>\n",
       "<tr>\n",
       "  <th>Time:</th>                     <td>09:50:33</td>          <th>  Log-Likelihood:    </th> <td> -13963.</td>\n",
       "</tr>\n",
       "<tr>\n",
       "  <th>converged:</th>                  <td>True</td>            <th>  LL-Null:           </th> <td> -15853.</td>\n",
       "</tr>\n",
       "<tr>\n",
       "  <th>Covariance Type:</th>          <td>nonrobust</td>         <th>  LLR p-value:       </th>  <td> 0.000</td> \n",
       "</tr>\n",
       "</table>\n",
       "<table class=\"simpletable\">\n",
       "<tr>\n",
       "      <td></td>         <th>coef</th>     <th>std err</th>      <th>z</th>      <th>P>|z|</th>  <th>[0.025</th>    <th>0.975]</th>  \n",
       "</tr>\n",
       "<tr>\n",
       "  <th>const</th>     <td>   -0.7030</td> <td>    0.118</td> <td>   -5.936</td> <td> 0.000</td> <td>   -0.935</td> <td>   -0.471</td>\n",
       "</tr>\n",
       "<tr>\n",
       "  <th>LIMIT_BAL</th> <td> -8.98e-07</td> <td> 1.53e-07</td> <td>   -5.889</td> <td> 0.000</td> <td> -1.2e-06</td> <td>-5.99e-07</td>\n",
       "</tr>\n",
       "<tr>\n",
       "  <th>SEX</th>       <td>   -0.1048</td> <td>    0.031</td> <td>   -3.419</td> <td> 0.001</td> <td>   -0.165</td> <td>   -0.045</td>\n",
       "</tr>\n",
       "<tr>\n",
       "  <th>EDUCATION</th> <td>   -0.1044</td> <td>    0.021</td> <td>   -4.994</td> <td> 0.000</td> <td>   -0.145</td> <td>   -0.063</td>\n",
       "</tr>\n",
       "<tr>\n",
       "  <th>MARRIAGE</th>  <td>   -0.1572</td> <td>    0.032</td> <td>   -4.966</td> <td> 0.000</td> <td>   -0.219</td> <td>   -0.095</td>\n",
       "</tr>\n",
       "<tr>\n",
       "  <th>AGE</th>       <td>    0.0076</td> <td>    0.002</td> <td>    4.260</td> <td> 0.000</td> <td>    0.004</td> <td>    0.011</td>\n",
       "</tr>\n",
       "<tr>\n",
       "  <th>PAY_0</th>     <td>    0.5920</td> <td>    0.018</td> <td>   33.765</td> <td> 0.000</td> <td>    0.558</td> <td>    0.626</td>\n",
       "</tr>\n",
       "<tr>\n",
       "  <th>PAY_2</th>     <td>    0.0848</td> <td>    0.020</td> <td>    4.257</td> <td> 0.000</td> <td>    0.046</td> <td>    0.124</td>\n",
       "</tr>\n",
       "<tr>\n",
       "  <th>PAY_3</th>     <td>    0.1200</td> <td>    0.018</td> <td>    6.525</td> <td> 0.000</td> <td>    0.084</td> <td>    0.156</td>\n",
       "</tr>\n",
       "<tr>\n",
       "  <th>BILL_AMT1</th> <td>-1.766e-06</td> <td> 2.64e-07</td> <td>   -6.690</td> <td> 0.000</td> <td>-2.28e-06</td> <td>-1.25e-06</td>\n",
       "</tr>\n",
       "<tr>\n",
       "  <th>PAY_AMT1</th>  <td>-1.169e-05</td> <td> 2.08e-06</td> <td>   -5.624</td> <td> 0.000</td> <td>-1.58e-05</td> <td>-7.61e-06</td>\n",
       "</tr>\n",
       "<tr>\n",
       "  <th>PAY_AMT2</th>  <td>-8.209e-06</td> <td> 1.79e-06</td> <td>   -4.577</td> <td> 0.000</td> <td>-1.17e-05</td> <td>-4.69e-06</td>\n",
       "</tr>\n",
       "<tr>\n",
       "  <th>PAY_AMT4</th>  <td>-4.396e-06</td> <td> 1.55e-06</td> <td>   -2.834</td> <td> 0.005</td> <td>-7.44e-06</td> <td>-1.36e-06</td>\n",
       "</tr>\n",
       "</table>"
      ],
      "text/plain": [
       "<class 'statsmodels.iolib.summary.Summary'>\n",
       "\"\"\"\n",
       "                               Logit Regression Results                               \n",
       "======================================================================================\n",
       "Dep. Variable:     default payment next month   No. Observations:                30000\n",
       "Model:                                  Logit   Df Residuals:                    29987\n",
       "Method:                                   MLE   Df Model:                           12\n",
       "Date:                        Sat, 01 May 2021   Pseudo R-squ.:                  0.1192\n",
       "Time:                                09:50:33   Log-Likelihood:                -13963.\n",
       "converged:                               True   LL-Null:                       -15853.\n",
       "Covariance Type:                    nonrobust   LLR p-value:                     0.000\n",
       "==============================================================================\n",
       "                 coef    std err          z      P>|z|      [0.025      0.975]\n",
       "------------------------------------------------------------------------------\n",
       "const         -0.7030      0.118     -5.936      0.000      -0.935      -0.471\n",
       "LIMIT_BAL   -8.98e-07   1.53e-07     -5.889      0.000    -1.2e-06   -5.99e-07\n",
       "SEX           -0.1048      0.031     -3.419      0.001      -0.165      -0.045\n",
       "EDUCATION     -0.1044      0.021     -4.994      0.000      -0.145      -0.063\n",
       "MARRIAGE      -0.1572      0.032     -4.966      0.000      -0.219      -0.095\n",
       "AGE            0.0076      0.002      4.260      0.000       0.004       0.011\n",
       "PAY_0          0.5920      0.018     33.765      0.000       0.558       0.626\n",
       "PAY_2          0.0848      0.020      4.257      0.000       0.046       0.124\n",
       "PAY_3          0.1200      0.018      6.525      0.000       0.084       0.156\n",
       "BILL_AMT1  -1.766e-06   2.64e-07     -6.690      0.000   -2.28e-06   -1.25e-06\n",
       "PAY_AMT1   -1.169e-05   2.08e-06     -5.624      0.000   -1.58e-05   -7.61e-06\n",
       "PAY_AMT2   -8.209e-06   1.79e-06     -4.577      0.000   -1.17e-05   -4.69e-06\n",
       "PAY_AMT4   -4.396e-06   1.55e-06     -2.834      0.005   -7.44e-06   -1.36e-06\n",
       "==============================================================================\n",
       "\"\"\""
      ]
     },
     "execution_count": 24,
     "metadata": {},
     "output_type": "execute_result"
    }
   ],
   "source": [
    "selected_features = sm.add_constant(\n",
    "    train_features).loc[:, lr_results.pvalues < 0.05]\n",
    "lr_model_trimmed = sm.Logit(train_targets, selected_features)\n",
    "lr_trimmed_results = lr_model_trimmed.fit()\n",
    "lr_trimmed_results.summary()"
   ]
  },
  {
   "cell_type": "code",
   "execution_count": 25,
   "metadata": {
    "scrolled": true
   },
   "outputs": [
    {
     "data": {
      "text/html": [
       "<table class=\"simpletable\">\n",
       "<tr>\n",
       "        <td>Model:</td>                   <td>Logit</td>           <td>Pseudo R-squared:</td>    <td>0.119</td>  \n",
       "</tr>\n",
       "<tr>\n",
       "  <td>Dependent Variable:</td> <td>default payment next month</td>       <td>AIC:</td>        <td>27951.6577</td>\n",
       "</tr>\n",
       "<tr>\n",
       "         <td>Date:</td>             <td>2021-05-01 09:50</td>            <td>BIC:</td>        <td>28059.6741</td>\n",
       "</tr>\n",
       "<tr>\n",
       "   <td>No. Observations:</td>             <td>30000</td>            <td>Log-Likelihood:</td>    <td>-13963.</td> \n",
       "</tr>\n",
       "<tr>\n",
       "       <td>Df Model:</td>                  <td>12</td>                 <td>LL-Null:</td>        <td>-15853.</td> \n",
       "</tr>\n",
       "<tr>\n",
       "     <td>Df Residuals:</td>               <td>29987</td>             <td>LLR p-value:</td>      <td>0.0000</td>  \n",
       "</tr>\n",
       "<tr>\n",
       "      <td>Converged:</td>                <td>1.0000</td>                <td>Scale:</td>         <td>1.0000</td>  \n",
       "</tr>\n",
       "<tr>\n",
       "    <td>No. Iterations:</td>             <td>7.0000</td>                   <td></td>               <td></td>     \n",
       "</tr>\n",
       "</table>\n",
       "<table class=\"simpletable\">\n",
       "<tr>\n",
       "      <td></td>       <th>Coef.</th>  <th>Std.Err.</th>    <th>z</th>     <th>P>|z|</th> <th>[0.025</th>  <th>0.975]</th> \n",
       "</tr>\n",
       "<tr>\n",
       "  <th>const</th>     <td>-0.7030</td>  <td>0.1184</td>  <td>-5.9358</td> <td>0.0000</td> <td>-0.9351</td> <td>-0.4709</td>\n",
       "</tr>\n",
       "<tr>\n",
       "  <th>LIMIT_BAL</th> <td>-0.0000</td>  <td>0.0000</td>  <td>-5.8885</td> <td>0.0000</td> <td>-0.0000</td> <td>-0.0000</td>\n",
       "</tr>\n",
       "<tr>\n",
       "  <th>SEX</th>       <td>-0.1048</td>  <td>0.0306</td>  <td>-3.4192</td> <td>0.0006</td> <td>-0.1648</td> <td>-0.0447</td>\n",
       "</tr>\n",
       "<tr>\n",
       "  <th>EDUCATION</th> <td>-0.1044</td>  <td>0.0209</td>  <td>-4.9940</td> <td>0.0000</td> <td>-0.1453</td> <td>-0.0634</td>\n",
       "</tr>\n",
       "<tr>\n",
       "  <th>MARRIAGE</th>  <td>-0.1572</td>  <td>0.0317</td>  <td>-4.9659</td> <td>0.0000</td> <td>-0.2192</td> <td>-0.0951</td>\n",
       "</tr>\n",
       "<tr>\n",
       "  <th>AGE</th>       <td>0.0076</td>   <td>0.0018</td>  <td>4.2602</td>  <td>0.0000</td> <td>0.0041</td>  <td>0.0111</td> \n",
       "</tr>\n",
       "<tr>\n",
       "  <th>PAY_0</th>     <td>0.5920</td>   <td>0.0175</td>  <td>33.7648</td> <td>0.0000</td> <td>0.5577</td>  <td>0.6264</td> \n",
       "</tr>\n",
       "<tr>\n",
       "  <th>PAY_2</th>     <td>0.0848</td>   <td>0.0199</td>  <td>4.2571</td>  <td>0.0000</td> <td>0.0458</td>  <td>0.1239</td> \n",
       "</tr>\n",
       "<tr>\n",
       "  <th>PAY_3</th>     <td>0.1200</td>   <td>0.0184</td>  <td>6.5253</td>  <td>0.0000</td> <td>0.0840</td>  <td>0.1561</td> \n",
       "</tr>\n",
       "<tr>\n",
       "  <th>BILL_AMT1</th> <td>-0.0000</td>  <td>0.0000</td>  <td>-6.6899</td> <td>0.0000</td> <td>-0.0000</td> <td>-0.0000</td>\n",
       "</tr>\n",
       "<tr>\n",
       "  <th>PAY_AMT1</th>  <td>-0.0000</td>  <td>0.0000</td>  <td>-5.6240</td> <td>0.0000</td> <td>-0.0000</td> <td>-0.0000</td>\n",
       "</tr>\n",
       "<tr>\n",
       "  <th>PAY_AMT2</th>  <td>-0.0000</td>  <td>0.0000</td>  <td>-4.5775</td> <td>0.0000</td> <td>-0.0000</td> <td>-0.0000</td>\n",
       "</tr>\n",
       "<tr>\n",
       "  <th>PAY_AMT4</th>  <td>-0.0000</td>  <td>0.0000</td>  <td>-2.8337</td> <td>0.0046</td> <td>-0.0000</td> <td>-0.0000</td>\n",
       "</tr>\n",
       "</table>"
      ],
      "text/plain": [
       "<class 'statsmodels.iolib.summary2.Summary'>\n",
       "\"\"\"\n",
       "                              Results: Logit\n",
       "===========================================================================\n",
       "Model:              Logit                      Pseudo R-squared: 0.119     \n",
       "Dependent Variable: default payment next month AIC:              27951.6577\n",
       "Date:               2021-05-01 09:50           BIC:              28059.6741\n",
       "No. Observations:   30000                      Log-Likelihood:   -13963.   \n",
       "Df Model:           12                         LL-Null:          -15853.   \n",
       "Df Residuals:       29987                      LLR p-value:      0.0000    \n",
       "Converged:          1.0000                     Scale:            1.0000    \n",
       "No. Iterations:     7.0000                                                 \n",
       "------------------------------------------------------------------------------\n",
       "                 Coef.     Std.Err.       z       P>|z|      [0.025     0.975]\n",
       "------------------------------------------------------------------------------\n",
       "const           -0.7030      0.1184    -5.9358    0.0000    -0.9351    -0.4709\n",
       "LIMIT_BAL       -0.0000      0.0000    -5.8885    0.0000    -0.0000    -0.0000\n",
       "SEX             -0.1048      0.0306    -3.4192    0.0006    -0.1648    -0.0447\n",
       "EDUCATION       -0.1044      0.0209    -4.9940    0.0000    -0.1453    -0.0634\n",
       "MARRIAGE        -0.1572      0.0317    -4.9659    0.0000    -0.2192    -0.0951\n",
       "AGE              0.0076      0.0018     4.2602    0.0000     0.0041     0.0111\n",
       "PAY_0            0.5920      0.0175    33.7648    0.0000     0.5577     0.6264\n",
       "PAY_2            0.0848      0.0199     4.2571    0.0000     0.0458     0.1239\n",
       "PAY_3            0.1200      0.0184     6.5253    0.0000     0.0840     0.1561\n",
       "BILL_AMT1       -0.0000      0.0000    -6.6899    0.0000    -0.0000    -0.0000\n",
       "PAY_AMT1        -0.0000      0.0000    -5.6240    0.0000    -0.0000    -0.0000\n",
       "PAY_AMT2        -0.0000      0.0000    -4.5775    0.0000    -0.0000    -0.0000\n",
       "PAY_AMT4        -0.0000      0.0000    -2.8337    0.0046    -0.0000    -0.0000\n",
       "===========================================================================\n",
       "\n",
       "\"\"\""
      ]
     },
     "execution_count": 25,
     "metadata": {},
     "output_type": "execute_result"
    }
   ],
   "source": [
    "lr_trimmed_results.summary2()"
   ]
  },
  {
   "cell_type": "code",
   "execution_count": 26,
   "metadata": {},
   "outputs": [
    {
     "data": {
      "text/plain": [
       "ID\n",
       "1        0.526598\n",
       "2        0.143535\n",
       "3        0.206673\n",
       "4        0.236682\n",
       "5        0.132577\n",
       "           ...   \n",
       "29996    0.142965\n",
       "29997    0.109561\n",
       "29998    0.853243\n",
       "29999    0.172265\n",
       "30000    0.269257\n",
       "Length: 30000, dtype: float64"
      ]
     },
     "execution_count": 26,
     "metadata": {},
     "output_type": "execute_result"
    }
   ],
   "source": [
    "lr_trimmed_results.predict(selected_features)"
   ]
  },
  {
   "cell_type": "code",
   "execution_count": 27,
   "metadata": {},
   "outputs": [],
   "source": [
    "predictions = (lr_trimmed_results.predict(\n",
    "    selected_features) > 0.5).astype('int')"
   ]
  },
  {
   "cell_type": "code",
   "execution_count": 28,
   "metadata": {},
   "outputs": [
    {
     "data": {
      "text/plain": [
       "0.8091"
      ]
     },
     "execution_count": 28,
     "metadata": {},
     "output_type": "execute_result"
    }
   ],
   "source": [
    "from sklearn.metrics import accuracy_score\n",
    "\n",
    "accuracy_score(train_targets, predictions)"
   ]
  },
  {
   "cell_type": "markdown",
   "metadata": {},
   "source": [
    "Using the same Newton solver with sklearn yields similar accuracy and coefficients as with statsmodels:"
   ]
  },
  {
   "cell_type": "code",
   "execution_count": 29,
   "metadata": {
    "scrolled": true
   },
   "outputs": [
    {
     "name": "stderr",
     "output_type": "stream",
     "text": [
      "C:\\Users\\words\\Anaconda3\\envs\\datasci\\lib\\site-packages\\scipy\\optimize\\linesearch.py:477: LineSearchWarning: The line search algorithm did not converge\n",
      "  warn('The line search algorithm did not converge', LineSearchWarning)\n",
      "C:\\Users\\words\\Anaconda3\\envs\\datasci\\lib\\site-packages\\scipy\\optimize\\linesearch.py:327: LineSearchWarning: The line search algorithm did not converge\n",
      "  warn('The line search algorithm did not converge', LineSearchWarning)\n",
      "C:\\Users\\words\\Anaconda3\\envs\\datasci\\lib\\site-packages\\scipy\\optimize\\linesearch.py:477: LineSearchWarning: The line search algorithm did not converge\n",
      "  warn('The line search algorithm did not converge', LineSearchWarning)\n",
      "C:\\Users\\words\\Anaconda3\\envs\\datasci\\lib\\site-packages\\scipy\\optimize\\linesearch.py:327: LineSearchWarning: The line search algorithm did not converge\n",
      "  warn('The line search algorithm did not converge', LineSearchWarning)\n",
      "C:\\Users\\words\\Anaconda3\\envs\\datasci\\lib\\site-packages\\scipy\\optimize\\linesearch.py:477: LineSearchWarning: The line search algorithm did not converge\n",
      "  warn('The line search algorithm did not converge', LineSearchWarning)\n",
      "C:\\Users\\words\\Anaconda3\\envs\\datasci\\lib\\site-packages\\scipy\\optimize\\linesearch.py:327: LineSearchWarning: The line search algorithm did not converge\n",
      "  warn('The line search algorithm did not converge', LineSearchWarning)\n",
      "C:\\Users\\words\\Anaconda3\\envs\\datasci\\lib\\site-packages\\scipy\\optimize\\linesearch.py:477: LineSearchWarning: The line search algorithm did not converge\n",
      "  warn('The line search algorithm did not converge', LineSearchWarning)\n",
      "C:\\Users\\words\\Anaconda3\\envs\\datasci\\lib\\site-packages\\scipy\\optimize\\linesearch.py:327: LineSearchWarning: The line search algorithm did not converge\n",
      "  warn('The line search algorithm did not converge', LineSearchWarning)\n",
      "C:\\Users\\words\\Anaconda3\\envs\\datasci\\lib\\site-packages\\scipy\\optimize\\linesearch.py:477: LineSearchWarning: The line search algorithm did not converge\n",
      "  warn('The line search algorithm did not converge', LineSearchWarning)\n",
      "C:\\Users\\words\\Anaconda3\\envs\\datasci\\lib\\site-packages\\scipy\\optimize\\linesearch.py:327: LineSearchWarning: The line search algorithm did not converge\n",
      "  warn('The line search algorithm did not converge', LineSearchWarning)\n",
      "C:\\Users\\words\\Anaconda3\\envs\\datasci\\lib\\site-packages\\scipy\\optimize\\linesearch.py:477: LineSearchWarning: The line search algorithm did not converge\n",
      "  warn('The line search algorithm did not converge', LineSearchWarning)\n",
      "C:\\Users\\words\\Anaconda3\\envs\\datasci\\lib\\site-packages\\scipy\\optimize\\linesearch.py:327: LineSearchWarning: The line search algorithm did not converge\n",
      "  warn('The line search algorithm did not converge', LineSearchWarning)\n",
      "C:\\Users\\words\\Anaconda3\\envs\\datasci\\lib\\site-packages\\scipy\\optimize\\linesearch.py:477: LineSearchWarning: The line search algorithm did not converge\n",
      "  warn('The line search algorithm did not converge', LineSearchWarning)\n",
      "C:\\Users\\words\\Anaconda3\\envs\\datasci\\lib\\site-packages\\scipy\\optimize\\linesearch.py:327: LineSearchWarning: The line search algorithm did not converge\n",
      "  warn('The line search algorithm did not converge', LineSearchWarning)\n",
      "C:\\Users\\words\\Anaconda3\\envs\\datasci\\lib\\site-packages\\scipy\\optimize\\linesearch.py:477: LineSearchWarning: The line search algorithm did not converge\n",
      "  warn('The line search algorithm did not converge', LineSearchWarning)\n",
      "C:\\Users\\words\\Anaconda3\\envs\\datasci\\lib\\site-packages\\scipy\\optimize\\linesearch.py:327: LineSearchWarning: The line search algorithm did not converge\n",
      "  warn('The line search algorithm did not converge', LineSearchWarning)\n",
      "C:\\Users\\words\\Anaconda3\\envs\\datasci\\lib\\site-packages\\scipy\\optimize\\linesearch.py:477: LineSearchWarning: The line search algorithm did not converge\n",
      "  warn('The line search algorithm did not converge', LineSearchWarning)\n",
      "C:\\Users\\words\\Anaconda3\\envs\\datasci\\lib\\site-packages\\scipy\\optimize\\linesearch.py:327: LineSearchWarning: The line search algorithm did not converge\n",
      "  warn('The line search algorithm did not converge', LineSearchWarning)\n",
      "C:\\Users\\words\\Anaconda3\\envs\\datasci\\lib\\site-packages\\scipy\\optimize\\linesearch.py:477: LineSearchWarning: The line search algorithm did not converge\n",
      "  warn('The line search algorithm did not converge', LineSearchWarning)\n",
      "C:\\Users\\words\\Anaconda3\\envs\\datasci\\lib\\site-packages\\scipy\\optimize\\linesearch.py:327: LineSearchWarning: The line search algorithm did not converge\n",
      "  warn('The line search algorithm did not converge', LineSearchWarning)\n"
     ]
    },
    {
     "name": "stdout",
     "output_type": "stream",
     "text": [
      "0.8111\n"
     ]
    },
    {
     "name": "stderr",
     "output_type": "stream",
     "text": [
      "C:\\Users\\words\\Anaconda3\\envs\\datasci\\lib\\site-packages\\scipy\\optimize\\linesearch.py:477: LineSearchWarning: The line search algorithm did not converge\n",
      "  warn('The line search algorithm did not converge', LineSearchWarning)\n",
      "C:\\Users\\words\\Anaconda3\\envs\\datasci\\lib\\site-packages\\scipy\\optimize\\linesearch.py:327: LineSearchWarning: The line search algorithm did not converge\n",
      "  warn('The line search algorithm did not converge', LineSearchWarning)\n",
      "C:\\Users\\words\\Anaconda3\\envs\\datasci\\lib\\site-packages\\scipy\\optimize\\linesearch.py:437: LineSearchWarning: Rounding errors prevent the line search from converging\n",
      "  warn(msg, LineSearchWarning)\n",
      "C:\\Users\\words\\Anaconda3\\envs\\datasci\\lib\\site-packages\\scipy\\optimize\\linesearch.py:327: LineSearchWarning: The line search algorithm did not converge\n",
      "  warn('The line search algorithm did not converge', LineSearchWarning)\n",
      "C:\\Users\\words\\Anaconda3\\envs\\datasci\\lib\\site-packages\\sklearn\\utils\\optimize.py:204: UserWarning: Line Search failed\n",
      "  warnings.warn('Line Search failed')\n"
     ]
    },
    {
     "data": {
      "text/plain": [
       "array([[-7.65728530e-07, -1.10570053e-01, -1.02326712e-01,\n",
       "        -1.57135608e-01,  7.26690169e-03,  5.77183731e-01,\n",
       "         8.27601061e-02,  7.20143655e-02,  2.39180317e-02,\n",
       "         3.40383489e-02,  8.15876572e-03, -5.49429646e-06,\n",
       "         2.35762624e-06,  1.36693575e-06, -1.82521980e-07,\n",
       "         6.15315551e-07,  3.93711154e-07, -1.36415892e-05,\n",
       "        -9.62347385e-06, -2.74399632e-06, -4.02619917e-06,\n",
       "        -3.31037334e-06, -2.06458807e-06]])"
      ]
     },
     "execution_count": 29,
     "metadata": {},
     "output_type": "execute_result"
    }
   ],
   "source": [
    "lr_sklearn = LogisticRegression(solver='newton-cg', max_iter=1000)\n",
    "lr_sklearn.fit(train_features, train_targets)\n",
    "print(lr_sklearn.score(train_features, train_targets))\n",
    "lr_sklearn.coef_"
   ]
  },
  {
   "cell_type": "code",
   "execution_count": 30,
   "metadata": {},
   "outputs": [
    {
     "data": {
      "text/plain": [
       "array([185])"
      ]
     },
     "execution_count": 30,
     "metadata": {},
     "output_type": "execute_result"
    }
   ],
   "source": [
    "lr_sklearn.n_iter_"
   ]
  },
  {
   "cell_type": "code",
   "execution_count": 31,
   "metadata": {},
   "outputs": [
    {
     "data": {
      "text/plain": [
       "0.8109666666666666"
      ]
     },
     "execution_count": 31,
     "metadata": {},
     "output_type": "execute_result"
    }
   ],
   "source": [
    "accuracy_score(train_targets, (lr_results.predict(\n",
    "    sm.add_constant(train_features)) > 0.5).astype('int'))"
   ]
  },
  {
   "cell_type": "code",
   "execution_count": 32,
   "metadata": {},
   "outputs": [
    {
     "data": {
      "image/png": "[encoded data removed]",
      "text/plain": [
       "<Figure size 396x396 with 1 Axes>"
      ]
     },
     "metadata": {
      "needs_background": "light"
     },
     "output_type": "display_data"
    }
   ],
   "source": [
    "f = plt.figure(figsize=(5.5, 5.5))\n",
    "x = np.linspace(0.01, 1, 100)\n",
    "y = np.log(x)\n",
    "plt.plot(x, y)\n",
    "plt.xlabel('x')\n",
    "_ = plt.ylabel('log(x)')"
   ]
  },
  {
   "cell_type": "markdown",
   "metadata": {},
   "source": [
    "## Regularization"
   ]
  },
  {
   "cell_type": "code",
   "execution_count": 33,
   "metadata": {},
   "outputs": [
    {
     "name": "stdout",
     "output_type": "stream",
     "text": [
      "0.8111\n"
     ]
    },
    {
     "data": {
      "text/plain": [
       "array([[-7.67415625e-07, -1.10464076e-01, -1.02188813e-01,\n",
       "        -1.57322543e-01,  7.20811318e-03,  5.77106705e-01,\n",
       "         8.26883082e-02,  7.20854876e-02,  2.38772522e-02,\n",
       "         3.39423442e-02,  7.99395413e-03, -5.45484613e-06,\n",
       "         2.29099635e-06,  1.40514436e-06, -2.14454479e-07,\n",
       "         6.60917074e-07,  3.71645560e-07, -1.36072855e-05,\n",
       "        -9.65614085e-06, -2.73093192e-06, -4.05340761e-06,\n",
       "        -3.29364916e-06, -2.07150796e-06]])"
      ]
     },
     "execution_count": 33,
     "metadata": {},
     "output_type": "execute_result"
    }
   ],
   "source": [
    "lr_sklearn = LogisticRegression(penalty='l1', solver='liblinear')\n",
    "lr_sklearn.fit(train_features, train_targets)\n",
    "print(lr_sklearn.score(train_features, train_targets))\n",
    "lr_sklearn.coef_"
   ]
  },
  {
   "cell_type": "code",
   "execution_count": 34,
   "metadata": {},
   "outputs": [
    {
     "data": {
      "text/plain": [
       "array([20], dtype=int32)"
      ]
     },
     "execution_count": 34,
     "metadata": {},
     "output_type": "execute_result"
    }
   ],
   "source": [
    "lr_sklearn.n_iter_"
   ]
  },
  {
   "cell_type": "code",
   "execution_count": 35,
   "metadata": {},
   "outputs": [
    {
     "name": "stdout",
     "output_type": "stream",
     "text": [
      "0.8090666666666667\n"
     ]
    },
    {
     "data": {
      "text/plain": [
       "array([[-0.09177583, -0.03149434, -0.04190645, -0.05807328,  0.04759609,\n",
       "         0.638766  ,  0.09257704,  0.09008588,  0.02364863,  0.03699925,\n",
       "         0.00536357, -0.11606928,  0.        ,  0.        ,  0.        ,\n",
       "         0.        ,  0.        , -0.12243714, -0.09714686, -0.02069721,\n",
       "        -0.03081422, -0.02785163, -0.01939372]])"
      ]
     },
     "execution_count": 35,
     "metadata": {},
     "output_type": "execute_result"
    }
   ],
   "source": [
    "scaler = StandardScaler()\n",
    "scaled_features = scaler.fit_transform(train_features)\n",
    "\n",
    "lr_sklearn = LogisticRegression(penalty='l1', solver='liblinear', C=0.01)\n",
    "lr_sklearn.fit(scaled_features, train_targets)\n",
    "print(lr_sklearn.score(scaled_features, train_targets))\n",
    "lr_sklearn.coef_"
   ]
  },
  {
   "cell_type": "code",
   "execution_count": 36,
   "metadata": {},
   "outputs": [
    {
     "data": {
      "text/plain": [
       "array([-1.4079757])"
      ]
     },
     "execution_count": 36,
     "metadata": {},
     "output_type": "execute_result"
    }
   ],
   "source": [
    "# intercept is not 0\n",
    "lr_sklearn.intercept_"
   ]
  },
  {
   "cell_type": "code",
   "execution_count": 37,
   "metadata": {},
   "outputs": [
    {
     "data": {
      "text/plain": [
       "Index(['BILL_AMT2', 'BILL_AMT3', 'BILL_AMT4', 'BILL_AMT5', 'BILL_AMT6'], dtype='object')"
      ]
     },
     "execution_count": 37,
     "metadata": {},
     "output_type": "execute_result"
    }
   ],
   "source": [
    "train_features.columns[lr_sklearn.coef_[0] == 0]"
   ]
  },
  {
   "cell_type": "markdown",
   "metadata": {},
   "source": [
    "#### Regularization with statsmodels"
   ]
  },
  {
   "cell_type": "code",
   "execution_count": 38,
   "metadata": {},
   "outputs": [
    {
     "name": "stdout",
     "output_type": "stream",
     "text": [
      "Optimization terminated successfully    (Exit mode 0)\n",
      "            Current function value: 0.47567931369409666\n",
      "            Iterations: 57\n",
      "            Function evaluations: 57\n",
      "            Gradient evaluations: 57\n"
     ]
    },
    {
     "data": {
      "text/html": [
       "<table class=\"simpletable\">\n",
       "<caption>Logit Regression Results</caption>\n",
       "<tr>\n",
       "  <th>Dep. Variable:</th>   <td>default payment next month</td> <th>  No. Observations:  </th>  <td> 30000</td> \n",
       "</tr>\n",
       "<tr>\n",
       "  <th>Model:</th>                      <td>Logit</td>           <th>  Df Residuals:      </th>  <td> 29981</td> \n",
       "</tr>\n",
       "<tr>\n",
       "  <th>Method:</th>                      <td>MLE</td>            <th>  Df Model:          </th>  <td>    18</td> \n",
       "</tr>\n",
       "<tr>\n",
       "  <th>Date:</th>                 <td>Sat, 01 May 2021</td>      <th>  Pseudo R-squ.:     </th>  <td>0.1187</td> \n",
       "</tr>\n",
       "<tr>\n",
       "  <th>Time:</th>                     <td>09:50:39</td>          <th>  Log-Likelihood:    </th> <td> -13970.</td>\n",
       "</tr>\n",
       "<tr>\n",
       "  <th>converged:</th>                  <td>True</td>            <th>  LL-Null:           </th> <td> -15853.</td>\n",
       "</tr>\n",
       "<tr>\n",
       "  <th>Covariance Type:</th>          <td>nonrobust</td>         <th>  LLR p-value:       </th>  <td> 0.000</td> \n",
       "</tr>\n",
       "</table>\n",
       "<table class=\"simpletable\">\n",
       "<tr>\n",
       "      <td></td>         <th>coef</th>     <th>std err</th>      <th>z</th>      <th>P>|z|</th>  <th>[0.025</th>    <th>0.975]</th>  \n",
       "</tr>\n",
       "<tr>\n",
       "  <th>const</th>     <td>   -1.4080</td> <td>    0.016</td> <td>  -88.843</td> <td> 0.000</td> <td>   -1.439</td> <td>   -1.377</td>\n",
       "</tr>\n",
       "<tr>\n",
       "  <th>LIMIT_BAL</th> <td>   -0.0918</td> <td>    0.020</td> <td>   -4.634</td> <td> 0.000</td> <td>   -0.131</td> <td>   -0.053</td>\n",
       "</tr>\n",
       "<tr>\n",
       "  <th>SEX</th>       <td>   -0.0315</td> <td>    0.015</td> <td>   -2.122</td> <td> 0.034</td> <td>   -0.061</td> <td>   -0.002</td>\n",
       "</tr>\n",
       "<tr>\n",
       "  <th>EDUCATION</th> <td>   -0.0419</td> <td>    0.016</td> <td>   -2.600</td> <td> 0.009</td> <td>   -0.074</td> <td>   -0.010</td>\n",
       "</tr>\n",
       "<tr>\n",
       "  <th>MARRIAGE</th>  <td>   -0.0581</td> <td>    0.016</td> <td>   -3.562</td> <td> 0.000</td> <td>   -0.090</td> <td>   -0.026</td>\n",
       "</tr>\n",
       "<tr>\n",
       "  <th>AGE</th>       <td>    0.0476</td> <td>    0.016</td> <td>    2.933</td> <td> 0.003</td> <td>    0.016</td> <td>    0.079</td>\n",
       "</tr>\n",
       "<tr>\n",
       "  <th>PAY_0</th>     <td>    0.6387</td> <td>    0.020</td> <td>   32.484</td> <td> 0.000</td> <td>    0.600</td> <td>    0.677</td>\n",
       "</tr>\n",
       "<tr>\n",
       "  <th>PAY_2</th>     <td>    0.0926</td> <td>    0.024</td> <td>    3.869</td> <td> 0.000</td> <td>    0.046</td> <td>    0.139</td>\n",
       "</tr>\n",
       "<tr>\n",
       "  <th>PAY_3</th>     <td>    0.0901</td> <td>    0.027</td> <td>    3.384</td> <td> 0.001</td> <td>    0.038</td> <td>    0.142</td>\n",
       "</tr>\n",
       "<tr>\n",
       "  <th>PAY_4</th>     <td>    0.0237</td> <td>    0.029</td> <td>    0.821</td> <td> 0.412</td> <td>   -0.033</td> <td>    0.080</td>\n",
       "</tr>\n",
       "<tr>\n",
       "  <th>PAY_5</th>     <td>    0.0370</td> <td>    0.030</td> <td>    1.230</td> <td> 0.219</td> <td>   -0.022</td> <td>    0.096</td>\n",
       "</tr>\n",
       "<tr>\n",
       "  <th>PAY_6</th>     <td>    0.0053</td> <td>    0.025</td> <td>    0.214</td> <td> 0.831</td> <td>   -0.044</td> <td>    0.054</td>\n",
       "</tr>\n",
       "<tr>\n",
       "  <th>BILL_AMT1</th> <td>   -0.1160</td> <td>    0.019</td> <td>   -6.130</td> <td> 0.000</td> <td>   -0.153</td> <td>   -0.079</td>\n",
       "</tr>\n",
       "<tr>\n",
       "  <th>BILL_AMT2</th> <td>         0</td> <td>      nan</td> <td>      nan</td> <td>   nan</td> <td>      nan</td> <td>      nan</td>\n",
       "</tr>\n",
       "<tr>\n",
       "  <th>BILL_AMT3</th> <td>         0</td> <td>      nan</td> <td>      nan</td> <td>   nan</td> <td>      nan</td> <td>      nan</td>\n",
       "</tr>\n",
       "<tr>\n",
       "  <th>BILL_AMT4</th> <td>         0</td> <td>      nan</td> <td>      nan</td> <td>   nan</td> <td>      nan</td> <td>      nan</td>\n",
       "</tr>\n",
       "<tr>\n",
       "  <th>BILL_AMT5</th> <td>         0</td> <td>      nan</td> <td>      nan</td> <td>   nan</td> <td>      nan</td> <td>      nan</td>\n",
       "</tr>\n",
       "<tr>\n",
       "  <th>BILL_AMT6</th> <td>         0</td> <td>      nan</td> <td>      nan</td> <td>   nan</td> <td>      nan</td> <td>      nan</td>\n",
       "</tr>\n",
       "<tr>\n",
       "  <th>PAY_AMT1</th>  <td>   -0.1224</td> <td>    0.028</td> <td>   -4.330</td> <td> 0.000</td> <td>   -0.178</td> <td>   -0.067</td>\n",
       "</tr>\n",
       "<tr>\n",
       "  <th>PAY_AMT2</th>  <td>   -0.0972</td> <td>    0.033</td> <td>   -2.974</td> <td> 0.003</td> <td>   -0.161</td> <td>   -0.033</td>\n",
       "</tr>\n",
       "<tr>\n",
       "  <th>PAY_AMT3</th>  <td>   -0.0207</td> <td>    0.022</td> <td>   -0.919</td> <td> 0.358</td> <td>   -0.065</td> <td>    0.023</td>\n",
       "</tr>\n",
       "<tr>\n",
       "  <th>PAY_AMT4</th>  <td>   -0.0308</td> <td>    0.021</td> <td>   -1.455</td> <td> 0.146</td> <td>   -0.072</td> <td>    0.011</td>\n",
       "</tr>\n",
       "<tr>\n",
       "  <th>PAY_AMT5</th>  <td>   -0.0278</td> <td>    0.020</td> <td>   -1.378</td> <td> 0.168</td> <td>   -0.067</td> <td>    0.012</td>\n",
       "</tr>\n",
       "<tr>\n",
       "  <th>PAY_AMT6</th>  <td>   -0.0194</td> <td>    0.020</td> <td>   -0.955</td> <td> 0.339</td> <td>   -0.059</td> <td>    0.020</td>\n",
       "</tr>\n",
       "</table>"
      ],
      "text/plain": [
       "<class 'statsmodels.iolib.summary.Summary'>\n",
       "\"\"\"\n",
       "                               Logit Regression Results                               \n",
       "======================================================================================\n",
       "Dep. Variable:     default payment next month   No. Observations:                30000\n",
       "Model:                                  Logit   Df Residuals:                    29981\n",
       "Method:                                   MLE   Df Model:                           18\n",
       "Date:                        Sat, 01 May 2021   Pseudo R-squ.:                  0.1187\n",
       "Time:                                09:50:39   Log-Likelihood:                -13970.\n",
       "converged:                               True   LL-Null:                       -15853.\n",
       "Covariance Type:                    nonrobust   LLR p-value:                     0.000\n",
       "==============================================================================\n",
       "                 coef    std err          z      P>|z|      [0.025      0.975]\n",
       "------------------------------------------------------------------------------\n",
       "const         -1.4080      0.016    -88.843      0.000      -1.439      -1.377\n",
       "LIMIT_BAL     -0.0918      0.020     -4.634      0.000      -0.131      -0.053\n",
       "SEX           -0.0315      0.015     -2.122      0.034      -0.061      -0.002\n",
       "EDUCATION     -0.0419      0.016     -2.600      0.009      -0.074      -0.010\n",
       "MARRIAGE      -0.0581      0.016     -3.562      0.000      -0.090      -0.026\n",
       "AGE            0.0476      0.016      2.933      0.003       0.016       0.079\n",
       "PAY_0          0.6387      0.020     32.484      0.000       0.600       0.677\n",
       "PAY_2          0.0926      0.024      3.869      0.000       0.046       0.139\n",
       "PAY_3          0.0901      0.027      3.384      0.001       0.038       0.142\n",
       "PAY_4          0.0237      0.029      0.821      0.412      -0.033       0.080\n",
       "PAY_5          0.0370      0.030      1.230      0.219      -0.022       0.096\n",
       "PAY_6          0.0053      0.025      0.214      0.831      -0.044       0.054\n",
       "BILL_AMT1     -0.1160      0.019     -6.130      0.000      -0.153      -0.079\n",
       "BILL_AMT2           0        nan        nan        nan         nan         nan\n",
       "BILL_AMT3           0        nan        nan        nan         nan         nan\n",
       "BILL_AMT4           0        nan        nan        nan         nan         nan\n",
       "BILL_AMT5           0        nan        nan        nan         nan         nan\n",
       "BILL_AMT6           0        nan        nan        nan         nan         nan\n",
       "PAY_AMT1      -0.1224      0.028     -4.330      0.000      -0.178      -0.067\n",
       "PAY_AMT2      -0.0972      0.033     -2.974      0.003      -0.161      -0.033\n",
       "PAY_AMT3      -0.0207      0.022     -0.919      0.358      -0.065       0.023\n",
       "PAY_AMT4      -0.0308      0.021     -1.455      0.146      -0.072       0.011\n",
       "PAY_AMT5      -0.0278      0.020     -1.378      0.168      -0.067       0.012\n",
       "PAY_AMT6      -0.0194      0.020     -0.955      0.339      -0.059       0.020\n",
       "==============================================================================\n",
       "\"\"\""
      ]
     },
     "execution_count": 38,
     "metadata": {},
     "output_type": "execute_result"
    }
   ],
   "source": [
    "scaled_features_df = pd.DataFrame(\n",
    "    scaled_features, columns=train_features.columns, index=train_features.index)\n",
    "lr_model = sm.Logit(train_targets, sm.add_constant(scaled_features_df))\n",
    "reg_results = lr_model.fit_regularized(alpha=100)\n",
    "reg_results.summary()"
   ]
  },
  {
   "cell_type": "markdown",
   "metadata": {},
   "source": [
    "## Hyperparameters and cross-validation"
   ]
  },
  {
   "cell_type": "code",
   "execution_count": 39,
   "metadata": {},
   "outputs": [
    {
     "data": {
      "text/plain": [
       "LogisticRegressionCV(Cs=[0.001, 0.01, 0.1, 1, 10, 100], n_jobs=-1, penalty='l1',\n",
       "                     random_state=42, solver='liblinear')"
      ]
     },
     "execution_count": 39,
     "metadata": {},
     "output_type": "execute_result"
    }
   ],
   "source": [
    "from sklearn.linear_model import LogisticRegressionCV\n",
    "\n",
    "lr_cv = LogisticRegressionCV(Cs=[0.001, 0.01, 0.1, 1, 10, 100],\n",
    "                             solver='liblinear',\n",
    "                             penalty='l1',\n",
    "                             n_jobs=-1,\n",
    "                             random_state=42)\n",
    "lr_cv.fit(scaled_features, train_targets)"
   ]
  },
  {
   "cell_type": "code",
   "execution_count": 40,
   "metadata": {},
   "outputs": [
    {
     "data": {
      "text/plain": [
       "array([1.])"
      ]
     },
     "execution_count": 40,
     "metadata": {},
     "output_type": "execute_result"
    }
   ],
   "source": [
    "lr_cv.C_"
   ]
  },
  {
   "cell_type": "code",
   "execution_count": 41,
   "metadata": {},
   "outputs": [
    {
     "data": {
      "text/plain": [
       "array([0.78556667, 0.80863333, 0.8094    , 0.80996667, 0.80993333,\n",
       "       0.80993333])"
      ]
     },
     "execution_count": 41,
     "metadata": {},
     "output_type": "execute_result"
    }
   ],
   "source": [
    "lr_cv.scores_[1].mean(axis=0)"
   ]
  },
  {
   "cell_type": "markdown",
   "metadata": {},
   "source": [
    "### Using H2O for logistic regression\n",
    "Ideally we would use the scaled version of the data here so the feature importances are more comparable.\n",
    "\n",
    "There are a lot of settings for the GLM, which can be found in the documentation:\n",
    "https://docs.h2o.ai/h2o/latest-stable/h2o-docs/data-science/glm.html\n",
    "https://docs.h2o.ai/h2o/latest-stable/h2o-r/docs/reference/h2o.glm.html"
   ]
  },
  {
   "cell_type": "code",
   "execution_count": 42,
   "metadata": {},
   "outputs": [
    {
     "name": "stdout",
     "output_type": "stream",
     "text": [
      "Checking whether there is an H2O instance running at http://localhost:54321 ..... not found.\n",
      "Attempting to start a local H2O server...\n",
      "; Java HotSpot(TM) 64-Bit Server VM (build 15+36-1562, mixed mode, sharing)\n",
      "  Starting server from C:\\Users\\words\\anaconda3\\envs\\datasci\\lib\\site-packages\\h2o\\backend\\bin\\h2o.jar\n",
      "  Ice root: C:\\Users\\words\\AppData\\Local\\Temp\\tmpyhfah541\n",
      "  JVM stdout: C:\\Users\\words\\AppData\\Local\\Temp\\tmpyhfah541\\h2o_words_started_from_python.out\n",
      "  JVM stderr: C:\\Users\\words\\AppData\\Local\\Temp\\tmpyhfah541\\h2o_words_started_from_python.err\n",
      "  Server is running at http://127.0.0.1:54321\n",
      "Connecting to H2O server at http://127.0.0.1:54321 ... successful.\n"
     ]
    },
    {
     "data": {
      "text/html": [
       "<div style=\"overflow:auto\"><table style=\"width:50%\"><tr><td>H2O_cluster_uptime:</td>\n",
       "<td>02 secs</td></tr>\n",
       "<tr><td>H2O_cluster_timezone:</td>\n",
       "<td>America/Denver</td></tr>\n",
       "<tr><td>H2O_data_parsing_timezone:</td>\n",
       "<td>UTC</td></tr>\n",
       "<tr><td>H2O_cluster_version:</td>\n",
       "<td>3.32.1.1</td></tr>\n",
       "<tr><td>H2O_cluster_version_age:</td>\n",
       "<td>1 month and 5 days </td></tr>\n",
       "<tr><td>H2O_cluster_name:</td>\n",
       "<td>H2O_from_python_words_e2ba31</td></tr>\n",
       "<tr><td>H2O_cluster_total_nodes:</td>\n",
       "<td>1</td></tr>\n",
       "<tr><td>H2O_cluster_free_memory:</td>\n",
       "<td>7.977 Gb</td></tr>\n",
       "<tr><td>H2O_cluster_total_cores:</td>\n",
       "<td>8</td></tr>\n",
       "<tr><td>H2O_cluster_allowed_cores:</td>\n",
       "<td>8</td></tr>\n",
       "<tr><td>H2O_cluster_status:</td>\n",
       "<td>accepting new members, healthy</td></tr>\n",
       "<tr><td>H2O_connection_url:</td>\n",
       "<td>http://127.0.0.1:54321</td></tr>\n",
       "<tr><td>H2O_connection_proxy:</td>\n",
       "<td>{\"http\": null, \"https\": null}</td></tr>\n",
       "<tr><td>H2O_internal_security:</td>\n",
       "<td>False</td></tr>\n",
       "<tr><td>H2O_API_Extensions:</td>\n",
       "<td>Amazon S3, Algos, AutoML, Core V3, TargetEncoder, Core V4</td></tr>\n",
       "<tr><td>Python_version:</td>\n",
       "<td>3.8.5 final</td></tr></table></div>"
      ],
      "text/plain": [
       "--------------------------  ---------------------------------------------------------\n",
       "H2O_cluster_uptime:         02 secs\n",
       "H2O_cluster_timezone:       America/Denver\n",
       "H2O_data_parsing_timezone:  UTC\n",
       "H2O_cluster_version:        3.32.1.1\n",
       "H2O_cluster_version_age:    1 month and 5 days\n",
       "H2O_cluster_name:           H2O_from_python_words_e2ba31\n",
       "H2O_cluster_total_nodes:    1\n",
       "H2O_cluster_free_memory:    7.977 Gb\n",
       "H2O_cluster_total_cores:    8\n",
       "H2O_cluster_allowed_cores:  8\n",
       "H2O_cluster_status:         accepting new members, healthy\n",
       "H2O_connection_url:         http://127.0.0.1:54321\n",
       "H2O_connection_proxy:       {\"http\": null, \"https\": null}\n",
       "H2O_internal_security:      False\n",
       "H2O_API_Extensions:         Amazon S3, Algos, AutoML, Core V3, TargetEncoder, Core V4\n",
       "Python_version:             3.8.5 final\n",
       "--------------------------  ---------------------------------------------------------"
      ]
     },
     "metadata": {},
     "output_type": "display_data"
    },
    {
     "name": "stdout",
     "output_type": "stream",
     "text": [
      "Parse progress: |█████████████████████████████████████████████████████████| 100%\n",
      "glm Model Build progress: |███████████████████████████████████████████████| 100%\n"
     ]
    }
   ],
   "source": [
    "from h2o.estimators.glm import H2OGeneralizedLinearEstimator\n",
    "import h2o\n",
    "h2o.init()\n",
    "\n",
    "glm_model = H2OGeneralizedLinearEstimator(family=\"binomial\",\n",
    "                                          lambda_=0,\n",
    "                                          compute_p_values=True)\n",
    "\n",
    "hdf = h2o.H2OFrame(df)\n",
    "response_col = 'default payment next month'\n",
    "predictors = df.drop(response_col, axis=1).columns.tolist()\n",
    "\n",
    "glm_model.train(predictors, response_col, training_frame=hdf)"
   ]
  },
  {
   "cell_type": "code",
   "execution_count": 43,
   "metadata": {
    "scrolled": false
   },
   "outputs": [
    {
     "data": {
      "image/png": "[encoded data removed]",
      "text/plain": [
       "<Figure size 1008x720 with 1 Axes>"
      ]
     },
     "metadata": {
      "needs_background": "light"
     },
     "output_type": "display_data"
    }
   ],
   "source": [
    "glm_model.std_coef_plot()"
   ]
  },
  {
   "cell_type": "markdown",
   "metadata": {},
   "source": [
    "# Naive Bayes"
   ]
  },
  {
   "cell_type": "code",
   "execution_count": 44,
   "metadata": {},
   "outputs": [
    {
     "data": {
      "text/plain": [
       "0.15773333333333334"
      ]
     },
     "execution_count": 44,
     "metadata": {},
     "output_type": "execute_result"
    }
   ],
   "source": [
    "df[(df['default payment next month'] == 0) & (\n",
    "    df['PAY_0'] == -1)].shape[0] / df.shape[0]"
   ]
  },
  {
   "cell_type": "markdown",
   "metadata": {},
   "source": [
    "We can use other NB algos if we properly prepare our data:"
   ]
  },
  {
   "cell_type": "code",
   "execution_count": 45,
   "metadata": {},
   "outputs": [
    {
     "data": {
      "text/plain": [
       "0.7788"
      ]
     },
     "execution_count": 45,
     "metadata": {},
     "output_type": "execute_result"
    }
   ],
   "source": [
    "from sklearn.naive_bayes import MultinomialNB\n",
    "\n",
    "nb = MultinomialNB()\n",
    "temp_feats = train_features[['LIMIT_BAL', 'SEX']].copy()\n",
    "temp_feats['LIMIT_BAL']\n",
    "\n",
    "nb.fit(temp_feats, train_targets)\n",
    "nb.score(temp_feats, train_targets)"
   ]
  },
  {
   "cell_type": "code",
   "execution_count": 46,
   "metadata": {},
   "outputs": [
    {
     "data": {
      "text/plain": [
       "0.378"
      ]
     },
     "execution_count": 46,
     "metadata": {},
     "output_type": "execute_result"
    }
   ],
   "source": [
    "from sklearn.naive_bayes import GaussianNB\n",
    "\n",
    "gnb = GaussianNB()\n",
    "gnb.fit(train_features, train_targets)\n",
    "gnb.score(train_features, train_targets)"
   ]
  },
  {
   "cell_type": "markdown",
   "metadata": {},
   "source": [
    "## KNN"
   ]
  },
  {
   "cell_type": "markdown",
   "metadata": {},
   "source": [
    "Scale only numeric features, keep categorical features the same."
   ]
  },
  {
   "cell_type": "code",
   "execution_count": 47,
   "metadata": {},
   "outputs": [
    {
     "data": {
      "text/plain": [
       "Index(['LIMIT_BAL', 'SEX', 'EDUCATION', 'MARRIAGE', 'AGE', 'PAY_0', 'PAY_2',\n",
       "       'PAY_3', 'PAY_4', 'PAY_5', 'PAY_6', 'BILL_AMT1', 'BILL_AMT2',\n",
       "       'BILL_AMT3', 'BILL_AMT4', 'BILL_AMT5', 'BILL_AMT6', 'PAY_AMT1',\n",
       "       'PAY_AMT2', 'PAY_AMT3', 'PAY_AMT4', 'PAY_AMT5', 'PAY_AMT6',\n",
       "       'default payment next month'],\n",
       "      dtype='object')"
      ]
     },
     "execution_count": 47,
     "metadata": {},
     "output_type": "execute_result"
    }
   ],
   "source": [
    "df.columns"
   ]
  },
  {
   "cell_type": "code",
   "execution_count": 48,
   "metadata": {},
   "outputs": [],
   "source": [
    "numeric_columns = ['LIMIT_BAL', 'AGE'] + \\\n",
    "    [f'BILL_AMT{i}' for i in range(1, 7)] + \\\n",
    "    [f'PAY_AMT{i}' for i in range(1, 7)]\n",
    "categorical_columns = ['SEX', 'EDUCATION', 'MARRIAGE'] + \\\n",
    "    ['PAY_0'] + [f'PAY_{i}' for i in range(2, 6)]\n",
    "\n",
    "scaler = StandardScaler()\n",
    "scaled_numeric_features = scaler.fit_transform(train_features[numeric_columns])\n",
    "\n",
    "scaled_features = pd.concat([pd.DataFrame(data=scaled_numeric_features, columns=numeric_columns, index=df.index),\n",
    "                             train_features[categorical_columns]], axis=1)"
   ]
  },
  {
   "cell_type": "code",
   "execution_count": 49,
   "metadata": {},
   "outputs": [
    {
     "data": {
      "text/plain": [
       "0.8462666666666666"
      ]
     },
     "execution_count": 49,
     "metadata": {},
     "output_type": "execute_result"
    }
   ],
   "source": [
    "from sklearn.neighbors import KNeighborsClassifier\n",
    "\n",
    "knn = KNeighborsClassifier(n_jobs=-1)\n",
    "knn.fit(scaled_features, train_targets)\n",
    "knn.score(scaled_features, train_targets)"
   ]
  },
  {
   "cell_type": "markdown",
   "metadata": {},
   "source": [
    "# Multiclass classification"
   ]
  },
  {
   "cell_type": "code",
   "execution_count": 50,
   "metadata": {},
   "outputs": [
    {
     "data": {
      "text/plain": [
       "LogisticRegression(max_iter=1000)"
      ]
     },
     "execution_count": 50,
     "metadata": {},
     "output_type": "execute_result"
    }
   ],
   "source": [
    "pay_0_target = df['PAY_0'].replace({i: 1 for i in range(1, 9)})\n",
    "pay_0_features = df.drop(['PAY_0', 'default payment next month'], axis=1)\n",
    "\n",
    "lr_multi = LogisticRegression(max_iter=1000)\n",
    "lr_multi.fit(pay_0_features, pay_0_target)"
   ]
  },
  {
   "cell_type": "code",
   "execution_count": 51,
   "metadata": {},
   "outputs": [
    {
     "data": {
      "text/plain": [
       "0.6067666666666667"
      ]
     },
     "execution_count": 51,
     "metadata": {},
     "output_type": "execute_result"
    }
   ],
   "source": [
    "lr_multi.score(pay_0_features, pay_0_target)"
   ]
  },
  {
   "cell_type": "code",
   "execution_count": 52,
   "metadata": {},
   "outputs": [
    {
     "data": {
      "text/plain": [
       "array([-2, -1,  0,  1], dtype=int64)"
      ]
     },
     "execution_count": 52,
     "metadata": {},
     "output_type": "execute_result"
    }
   ],
   "source": [
    "np.unique(lr_multi.predict(pay_0_features))"
   ]
  },
  {
   "cell_type": "code",
   "execution_count": 53,
   "metadata": {},
   "outputs": [
    {
     "data": {
      "text/plain": [
       " 0    14737\n",
       " 1     6818\n",
       "-1     5686\n",
       "-2     2759\n",
       "Name: PAY_0, dtype: int64"
      ]
     },
     "execution_count": 53,
     "metadata": {},
     "output_type": "execute_result"
    }
   ],
   "source": [
    "pay_0_target.value_counts()"
   ]
  },
  {
   "cell_type": "code",
   "execution_count": 54,
   "metadata": {},
   "outputs": [
    {
     "data": {
      "text/plain": [
       "array([1., 1., 1., ..., 1., 1., 1.])"
      ]
     },
     "execution_count": 54,
     "metadata": {},
     "output_type": "execute_result"
    }
   ],
   "source": [
    "lr_multi.predict_proba(pay_0_features).sum(axis=1)"
   ]
  },
  {
   "cell_type": "code",
   "execution_count": 55,
   "metadata": {},
   "outputs": [
    {
     "data": {
      "text/plain": [
       "array([938])"
      ]
     },
     "execution_count": 55,
     "metadata": {},
     "output_type": "execute_result"
    }
   ],
   "source": [
    "lr_multi.n_iter_"
   ]
  },
  {
   "cell_type": "code",
   "execution_count": 56,
   "metadata": {},
   "outputs": [
    {
     "data": {
      "text/plain": [
       "(4, 22)"
      ]
     },
     "execution_count": 56,
     "metadata": {},
     "output_type": "execute_result"
    }
   ],
   "source": [
    "lr_multi.coef_.shape"
   ]
  },
  {
   "cell_type": "code",
   "execution_count": 57,
   "metadata": {},
   "outputs": [
    {
     "name": "stdout",
     "output_type": "stream",
     "text": [
      "Optimization terminated successfully.\n",
      "         Current function value: 0.762369\n",
      "         Iterations 10\n"
     ]
    },
    {
     "data": {
      "text/html": [
       "<table class=\"simpletable\">\n",
       "<caption>MNLogit Regression Results</caption>\n",
       "<tr>\n",
       "  <th>Dep. Variable:</th>         <td>PAY_0</td>      <th>  No. Observations:  </th>  <td> 30000</td> \n",
       "</tr>\n",
       "<tr>\n",
       "  <th>Model:</th>                <td>MNLogit</td>     <th>  Df Residuals:      </th>  <td> 29931</td> \n",
       "</tr>\n",
       "<tr>\n",
       "  <th>Method:</th>                 <td>MLE</td>       <th>  Df Model:          </th>  <td>    66</td> \n",
       "</tr>\n",
       "<tr>\n",
       "  <th>Date:</th>            <td>Sat, 01 May 2021</td> <th>  Pseudo R-squ.:     </th>  <td>0.3754</td> \n",
       "</tr>\n",
       "<tr>\n",
       "  <th>Time:</th>                <td>09:51:33</td>     <th>  Log-Likelihood:    </th> <td> -22871.</td>\n",
       "</tr>\n",
       "<tr>\n",
       "  <th>converged:</th>             <td>True</td>       <th>  LL-Null:           </th> <td> -36618.</td>\n",
       "</tr>\n",
       "<tr>\n",
       "  <th>Covariance Type:</th>     <td>nonrobust</td>    <th>  LLR p-value:       </th>  <td> 0.000</td> \n",
       "</tr>\n",
       "</table>\n",
       "<table class=\"simpletable\">\n",
       "<tr>\n",
       "  <th>PAY_0=-1</th>     <th>coef</th>     <th>std err</th>      <th>z</th>      <th>P>|z|</th>  <th>[0.025</th>    <th>0.975]</th>  \n",
       "</tr>\n",
       "<tr>\n",
       "  <th>const</th>     <td>    8.7368</td> <td>    0.328</td> <td>   26.622</td> <td> 0.000</td> <td>    8.094</td> <td>    9.380</td>\n",
       "</tr>\n",
       "<tr>\n",
       "  <th>LIMIT_BAL</th> <td>-1.051e-06</td> <td> 2.92e-07</td> <td>   -3.596</td> <td> 0.000</td> <td>-1.62e-06</td> <td>-4.78e-07</td>\n",
       "</tr>\n",
       "<tr>\n",
       "  <th>SEX</th>       <td>   -0.1590</td> <td>    0.072</td> <td>   -2.223</td> <td> 0.026</td> <td>   -0.299</td> <td>   -0.019</td>\n",
       "</tr>\n",
       "<tr>\n",
       "  <th>EDUCATION</th> <td>   -0.2542</td> <td>    0.044</td> <td>   -5.838</td> <td> 0.000</td> <td>   -0.339</td> <td>   -0.169</td>\n",
       "</tr>\n",
       "<tr>\n",
       "  <th>MARRIAGE</th>  <td>   -0.0991</td> <td>    0.073</td> <td>   -1.351</td> <td> 0.177</td> <td>   -0.243</td> <td>    0.045</td>\n",
       "</tr>\n",
       "<tr>\n",
       "  <th>AGE</th>       <td>    0.0074</td> <td>    0.004</td> <td>    1.684</td> <td> 0.092</td> <td>   -0.001</td> <td>    0.016</td>\n",
       "</tr>\n",
       "<tr>\n",
       "  <th>PAY_2</th>     <td>    4.2855</td> <td>    0.114</td> <td>   37.478</td> <td> 0.000</td> <td>    4.061</td> <td>    4.510</td>\n",
       "</tr>\n",
       "<tr>\n",
       "  <th>PAY_3</th>     <td>   -0.4013</td> <td>    0.079</td> <td>   -5.059</td> <td> 0.000</td> <td>   -0.557</td> <td>   -0.246</td>\n",
       "</tr>\n",
       "<tr>\n",
       "  <th>PAY_4</th>     <td>    0.2645</td> <td>    0.088</td> <td>    3.013</td> <td> 0.003</td> <td>    0.092</td> <td>    0.437</td>\n",
       "</tr>\n",
       "<tr>\n",
       "  <th>PAY_5</th>     <td>    0.1763</td> <td>    0.088</td> <td>    2.005</td> <td> 0.045</td> <td>    0.004</td> <td>    0.349</td>\n",
       "</tr>\n",
       "<tr>\n",
       "  <th>PAY_6</th>     <td>    0.3368</td> <td>    0.070</td> <td>    4.840</td> <td> 0.000</td> <td>    0.200</td> <td>    0.473</td>\n",
       "</tr>\n",
       "<tr>\n",
       "  <th>BILL_AMT1</th> <td>-1.451e-05</td> <td>    2e-06</td> <td>   -7.256</td> <td> 0.000</td> <td>-1.84e-05</td> <td>-1.06e-05</td>\n",
       "</tr>\n",
       "<tr>\n",
       "  <th>BILL_AMT2</th> <td> -3.93e-05</td> <td> 3.27e-06</td> <td>  -12.005</td> <td> 0.000</td> <td>-4.57e-05</td> <td>-3.29e-05</td>\n",
       "</tr>\n",
       "<tr>\n",
       "  <th>BILL_AMT3</th> <td>-8.032e-06</td> <td> 3.09e-06</td> <td>   -2.600</td> <td> 0.009</td> <td>-1.41e-05</td> <td>-1.98e-06</td>\n",
       "</tr>\n",
       "<tr>\n",
       "  <th>BILL_AMT4</th> <td> 2.279e-06</td> <td> 2.89e-06</td> <td>    0.789</td> <td> 0.430</td> <td>-3.38e-06</td> <td> 7.94e-06</td>\n",
       "</tr>\n",
       "<tr>\n",
       "  <th>BILL_AMT5</th> <td> -1.86e-06</td> <td> 3.16e-06</td> <td>   -0.589</td> <td> 0.556</td> <td>-8.05e-06</td> <td> 4.33e-06</td>\n",
       "</tr>\n",
       "<tr>\n",
       "  <th>BILL_AMT6</th> <td> -7.21e-06</td> <td> 2.64e-06</td> <td>   -2.734</td> <td> 0.006</td> <td>-1.24e-05</td> <td>-2.04e-06</td>\n",
       "</tr>\n",
       "<tr>\n",
       "  <th>PAY_AMT1</th>  <td> 3.423e-05</td> <td> 3.06e-06</td> <td>   11.201</td> <td> 0.000</td> <td> 2.82e-05</td> <td> 4.02e-05</td>\n",
       "</tr>\n",
       "<tr>\n",
       "  <th>PAY_AMT2</th>  <td>   3.8e-06</td> <td> 1.92e-06</td> <td>    1.975</td> <td> 0.048</td> <td> 2.95e-08</td> <td> 7.57e-06</td>\n",
       "</tr>\n",
       "<tr>\n",
       "  <th>PAY_AMT3</th>  <td> 4.261e-07</td> <td> 2.74e-06</td> <td>    0.156</td> <td> 0.876</td> <td>-4.94e-06</td> <td> 5.79e-06</td>\n",
       "</tr>\n",
       "<tr>\n",
       "  <th>PAY_AMT4</th>  <td>  3.94e-07</td> <td> 2.84e-06</td> <td>    0.139</td> <td> 0.890</td> <td>-5.17e-06</td> <td> 5.96e-06</td>\n",
       "</tr>\n",
       "<tr>\n",
       "  <th>PAY_AMT5</th>  <td> 6.995e-08</td> <td> 2.96e-06</td> <td>    0.024</td> <td> 0.981</td> <td>-5.72e-06</td> <td> 5.86e-06</td>\n",
       "</tr>\n",
       "<tr>\n",
       "  <th>PAY_AMT6</th>  <td>-2.944e-06</td> <td> 1.65e-06</td> <td>   -1.780</td> <td> 0.075</td> <td>-6.19e-06</td> <td> 2.98e-07</td>\n",
       "</tr>\n",
       "<tr>\n",
       "   <th>PAY_0=0</th>     <th>coef</th>     <th>std err</th>      <th>z</th>      <th>P>|z|</th>  <th>[0.025</th>    <th>0.975]</th>  \n",
       "</tr>\n",
       "<tr>\n",
       "  <th>const</th>     <td>    8.9797</td> <td>    0.333</td> <td>   26.930</td> <td> 0.000</td> <td>    8.326</td> <td>    9.633</td>\n",
       "</tr>\n",
       "<tr>\n",
       "  <th>LIMIT_BAL</th> <td>-4.532e-06</td> <td> 3.07e-07</td> <td>  -14.777</td> <td> 0.000</td> <td>-5.13e-06</td> <td>-3.93e-06</td>\n",
       "</tr>\n",
       "<tr>\n",
       "  <th>SEX</th>       <td>   -0.2313</td> <td>    0.073</td> <td>   -3.155</td> <td> 0.002</td> <td>   -0.375</td> <td>   -0.088</td>\n",
       "</tr>\n",
       "<tr>\n",
       "  <th>EDUCATION</th> <td>   -0.0285</td> <td>    0.044</td> <td>   -0.651</td> <td> 0.515</td> <td>   -0.115</td> <td>    0.057</td>\n",
       "</tr>\n",
       "<tr>\n",
       "  <th>MARRIAGE</th>  <td>    0.0287</td> <td>    0.075</td> <td>    0.383</td> <td> 0.702</td> <td>   -0.118</td> <td>    0.176</td>\n",
       "</tr>\n",
       "<tr>\n",
       "  <th>AGE</th>       <td>   -0.0047</td> <td>    0.004</td> <td>   -1.053</td> <td> 0.292</td> <td>   -0.014</td> <td>    0.004</td>\n",
       "</tr>\n",
       "<tr>\n",
       "  <th>PAY_2</th>     <td>    3.8719</td> <td>    0.114</td> <td>   33.887</td> <td> 0.000</td> <td>    3.648</td> <td>    4.096</td>\n",
       "</tr>\n",
       "<tr>\n",
       "  <th>PAY_3</th>     <td>   -0.2820</td> <td>    0.079</td> <td>   -3.553</td> <td> 0.000</td> <td>   -0.438</td> <td>   -0.126</td>\n",
       "</tr>\n",
       "<tr>\n",
       "  <th>PAY_4</th>     <td>    0.4448</td> <td>    0.088</td> <td>    5.082</td> <td> 0.000</td> <td>    0.273</td> <td>    0.616</td>\n",
       "</tr>\n",
       "<tr>\n",
       "  <th>PAY_5</th>     <td>    0.2042</td> <td>    0.088</td> <td>    2.321</td> <td> 0.020</td> <td>    0.032</td> <td>    0.377</td>\n",
       "</tr>\n",
       "<tr>\n",
       "  <th>PAY_6</th>     <td>    0.4338</td> <td>    0.070</td> <td>    6.226</td> <td> 0.000</td> <td>    0.297</td> <td>    0.570</td>\n",
       "</tr>\n",
       "<tr>\n",
       "  <th>BILL_AMT1</th> <td> 7.103e-06</td> <td> 1.76e-06</td> <td>    4.039</td> <td> 0.000</td> <td> 3.66e-06</td> <td> 1.05e-05</td>\n",
       "</tr>\n",
       "<tr>\n",
       "  <th>BILL_AMT2</th> <td>-6.862e-06</td> <td> 2.86e-06</td> <td>   -2.402</td> <td> 0.016</td> <td>-1.25e-05</td> <td>-1.26e-06</td>\n",
       "</tr>\n",
       "<tr>\n",
       "  <th>BILL_AMT3</th> <td> 2.105e-06</td> <td> 3.25e-06</td> <td>    0.648</td> <td> 0.517</td> <td>-4.26e-06</td> <td> 8.47e-06</td>\n",
       "</tr>\n",
       "<tr>\n",
       "  <th>BILL_AMT4</th> <td> -1.78e-06</td> <td> 3.15e-06</td> <td>   -0.565</td> <td> 0.572</td> <td>-7.95e-06</td> <td> 4.39e-06</td>\n",
       "</tr>\n",
       "<tr>\n",
       "  <th>BILL_AMT5</th> <td> 3.998e-06</td> <td> 3.57e-06</td> <td>    1.120</td> <td> 0.263</td> <td>   -3e-06</td> <td>  1.1e-05</td>\n",
       "</tr>\n",
       "<tr>\n",
       "  <th>BILL_AMT6</th> <td> 3.818e-06</td> <td> 2.76e-06</td> <td>    1.381</td> <td> 0.167</td> <td> -1.6e-06</td> <td> 9.24e-06</td>\n",
       "</tr>\n",
       "<tr>\n",
       "  <th>PAY_AMT1</th>  <td>-1.115e-05</td> <td> 2.49e-06</td> <td>   -4.480</td> <td> 0.000</td> <td> -1.6e-05</td> <td>-6.27e-06</td>\n",
       "</tr>\n",
       "<tr>\n",
       "  <th>PAY_AMT2</th>  <td>-1.146e-05</td> <td> 2.47e-06</td> <td>   -4.641</td> <td> 0.000</td> <td>-1.63e-05</td> <td>-6.62e-06</td>\n",
       "</tr>\n",
       "<tr>\n",
       "  <th>PAY_AMT3</th>  <td>-8.701e-06</td> <td> 2.66e-06</td> <td>   -3.267</td> <td> 0.001</td> <td>-1.39e-05</td> <td>-3.48e-06</td>\n",
       "</tr>\n",
       "<tr>\n",
       "  <th>PAY_AMT4</th>  <td>-1.289e-05</td> <td> 2.99e-06</td> <td>   -4.313</td> <td> 0.000</td> <td>-1.87e-05</td> <td>-7.03e-06</td>\n",
       "</tr>\n",
       "<tr>\n",
       "  <th>PAY_AMT5</th>  <td>-1.132e-05</td> <td> 3.15e-06</td> <td>   -3.593</td> <td> 0.000</td> <td>-1.75e-05</td> <td>-5.15e-06</td>\n",
       "</tr>\n",
       "<tr>\n",
       "  <th>PAY_AMT6</th>  <td>-8.818e-06</td> <td> 1.97e-06</td> <td>   -4.476</td> <td> 0.000</td> <td>-1.27e-05</td> <td>-4.96e-06</td>\n",
       "</tr>\n",
       "<tr>\n",
       "   <th>PAY_0=1</th>     <th>coef</th>     <th>std err</th>      <th>z</th>      <th>P>|z|</th>  <th>[0.025</th>    <th>0.975]</th>  \n",
       "</tr>\n",
       "<tr>\n",
       "  <th>const</th>     <td>    8.5661</td> <td>    0.346</td> <td>   24.767</td> <td> 0.000</td> <td>    7.888</td> <td>    9.244</td>\n",
       "</tr>\n",
       "<tr>\n",
       "  <th>LIMIT_BAL</th> <td>-1.844e-06</td> <td> 3.25e-07</td> <td>   -5.680</td> <td> 0.000</td> <td>-2.48e-06</td> <td>-1.21e-06</td>\n",
       "</tr>\n",
       "<tr>\n",
       "  <th>SEX</th>       <td>   -0.2155</td> <td>    0.077</td> <td>   -2.801</td> <td> 0.005</td> <td>   -0.366</td> <td>   -0.065</td>\n",
       "</tr>\n",
       "<tr>\n",
       "  <th>EDUCATION</th> <td>   -0.1804</td> <td>    0.047</td> <td>   -3.824</td> <td> 0.000</td> <td>   -0.273</td> <td>   -0.088</td>\n",
       "</tr>\n",
       "<tr>\n",
       "  <th>MARRIAGE</th>  <td>   -0.1131</td> <td>    0.079</td> <td>   -1.433</td> <td> 0.152</td> <td>   -0.268</td> <td>    0.042</td>\n",
       "</tr>\n",
       "<tr>\n",
       "  <th>AGE</th>       <td>    0.0051</td> <td>    0.005</td> <td>    1.082</td> <td> 0.279</td> <td>   -0.004</td> <td>    0.014</td>\n",
       "</tr>\n",
       "<tr>\n",
       "  <th>PAY_2</th>     <td>    4.9348</td> <td>    0.115</td> <td>   42.861</td> <td> 0.000</td> <td>    4.709</td> <td>    5.160</td>\n",
       "</tr>\n",
       "<tr>\n",
       "  <th>PAY_3</th>     <td>   -0.4706</td> <td>    0.081</td> <td>   -5.790</td> <td> 0.000</td> <td>   -0.630</td> <td>   -0.311</td>\n",
       "</tr>\n",
       "<tr>\n",
       "  <th>PAY_4</th>     <td>    0.4015</td> <td>    0.090</td> <td>    4.476</td> <td> 0.000</td> <td>    0.226</td> <td>    0.577</td>\n",
       "</tr>\n",
       "<tr>\n",
       "  <th>PAY_5</th>     <td>    0.1736</td> <td>    0.091</td> <td>    1.917</td> <td> 0.055</td> <td>   -0.004</td> <td>    0.351</td>\n",
       "</tr>\n",
       "<tr>\n",
       "  <th>PAY_6</th>     <td>    0.3552</td> <td>    0.072</td> <td>    4.942</td> <td> 0.000</td> <td>    0.214</td> <td>    0.496</td>\n",
       "</tr>\n",
       "<tr>\n",
       "  <th>BILL_AMT1</th> <td>-2.314e-05</td> <td> 2.44e-06</td> <td>   -9.474</td> <td> 0.000</td> <td>-2.79e-05</td> <td>-1.84e-05</td>\n",
       "</tr>\n",
       "<tr>\n",
       "  <th>BILL_AMT2</th> <td> 4.186e-06</td> <td> 3.46e-06</td> <td>    1.211</td> <td> 0.226</td> <td>-2.59e-06</td> <td>  1.1e-05</td>\n",
       "</tr>\n",
       "<tr>\n",
       "  <th>BILL_AMT3</th> <td> 4.224e-06</td> <td> 3.59e-06</td> <td>    1.175</td> <td> 0.240</td> <td>-2.82e-06</td> <td> 1.13e-05</td>\n",
       "</tr>\n",
       "<tr>\n",
       "  <th>BILL_AMT4</th> <td> -1.01e-06</td> <td> 3.53e-06</td> <td>   -0.286</td> <td> 0.775</td> <td>-7.93e-06</td> <td> 5.91e-06</td>\n",
       "</tr>\n",
       "<tr>\n",
       "  <th>BILL_AMT5</th> <td> 1.317e-05</td> <td> 3.88e-06</td> <td>    3.398</td> <td> 0.001</td> <td> 5.58e-06</td> <td> 2.08e-05</td>\n",
       "</tr>\n",
       "<tr>\n",
       "  <th>BILL_AMT6</th> <td> 3.084e-06</td> <td> 2.98e-06</td> <td>    1.036</td> <td> 0.300</td> <td>-2.75e-06</td> <td> 8.92e-06</td>\n",
       "</tr>\n",
       "<tr>\n",
       "  <th>PAY_AMT1</th>  <td> -3.61e-05</td> <td> 3.52e-06</td> <td>  -10.246</td> <td> 0.000</td> <td> -4.3e-05</td> <td>-2.92e-05</td>\n",
       "</tr>\n",
       "<tr>\n",
       "  <th>PAY_AMT2</th>  <td>-2.341e-05</td> <td> 3.08e-06</td> <td>   -7.606</td> <td> 0.000</td> <td>-2.94e-05</td> <td>-1.74e-05</td>\n",
       "</tr>\n",
       "<tr>\n",
       "  <th>PAY_AMT3</th>  <td>-2.167e-05</td> <td> 3.45e-06</td> <td>   -6.281</td> <td> 0.000</td> <td>-2.84e-05</td> <td>-1.49e-05</td>\n",
       "</tr>\n",
       "<tr>\n",
       "  <th>PAY_AMT4</th>  <td>-2.499e-05</td> <td> 3.61e-06</td> <td>   -6.933</td> <td> 0.000</td> <td>-3.21e-05</td> <td>-1.79e-05</td>\n",
       "</tr>\n",
       "<tr>\n",
       "  <th>PAY_AMT5</th>  <td>-1.809e-05</td> <td> 3.75e-06</td> <td>   -4.821</td> <td> 0.000</td> <td>-2.54e-05</td> <td>-1.07e-05</td>\n",
       "</tr>\n",
       "<tr>\n",
       "  <th>PAY_AMT6</th>  <td>-1.122e-05</td> <td> 2.35e-06</td> <td>   -4.779</td> <td> 0.000</td> <td>-1.58e-05</td> <td>-6.62e-06</td>\n",
       "</tr>\n",
       "</table>"
      ],
      "text/plain": [
       "<class 'statsmodels.iolib.summary.Summary'>\n",
       "\"\"\"\n",
       "                          MNLogit Regression Results                          \n",
       "==============================================================================\n",
       "Dep. Variable:                  PAY_0   No. Observations:                30000\n",
       "Model:                        MNLogit   Df Residuals:                    29931\n",
       "Method:                           MLE   Df Model:                           66\n",
       "Date:                Sat, 01 May 2021   Pseudo R-squ.:                  0.3754\n",
       "Time:                        09:51:33   Log-Likelihood:                -22871.\n",
       "converged:                       True   LL-Null:                       -36618.\n",
       "Covariance Type:            nonrobust   LLR p-value:                     0.000\n",
       "==============================================================================\n",
       "  PAY_0=-1       coef    std err          z      P>|z|      [0.025      0.975]\n",
       "------------------------------------------------------------------------------\n",
       "const          8.7368      0.328     26.622      0.000       8.094       9.380\n",
       "LIMIT_BAL  -1.051e-06   2.92e-07     -3.596      0.000   -1.62e-06   -4.78e-07\n",
       "SEX           -0.1590      0.072     -2.223      0.026      -0.299      -0.019\n",
       "EDUCATION     -0.2542      0.044     -5.838      0.000      -0.339      -0.169\n",
       "MARRIAGE      -0.0991      0.073     -1.351      0.177      -0.243       0.045\n",
       "AGE            0.0074      0.004      1.684      0.092      -0.001       0.016\n",
       "PAY_2          4.2855      0.114     37.478      0.000       4.061       4.510\n",
       "PAY_3         -0.4013      0.079     -5.059      0.000      -0.557      -0.246\n",
       "PAY_4          0.2645      0.088      3.013      0.003       0.092       0.437\n",
       "PAY_5          0.1763      0.088      2.005      0.045       0.004       0.349\n",
       "PAY_6          0.3368      0.070      4.840      0.000       0.200       0.473\n",
       "BILL_AMT1  -1.451e-05      2e-06     -7.256      0.000   -1.84e-05   -1.06e-05\n",
       "BILL_AMT2   -3.93e-05   3.27e-06    -12.005      0.000   -4.57e-05   -3.29e-05\n",
       "BILL_AMT3  -8.032e-06   3.09e-06     -2.600      0.009   -1.41e-05   -1.98e-06\n",
       "BILL_AMT4   2.279e-06   2.89e-06      0.789      0.430   -3.38e-06    7.94e-06\n",
       "BILL_AMT5   -1.86e-06   3.16e-06     -0.589      0.556   -8.05e-06    4.33e-06\n",
       "BILL_AMT6   -7.21e-06   2.64e-06     -2.734      0.006   -1.24e-05   -2.04e-06\n",
       "PAY_AMT1    3.423e-05   3.06e-06     11.201      0.000    2.82e-05    4.02e-05\n",
       "PAY_AMT2      3.8e-06   1.92e-06      1.975      0.048    2.95e-08    7.57e-06\n",
       "PAY_AMT3    4.261e-07   2.74e-06      0.156      0.876   -4.94e-06    5.79e-06\n",
       "PAY_AMT4     3.94e-07   2.84e-06      0.139      0.890   -5.17e-06    5.96e-06\n",
       "PAY_AMT5    6.995e-08   2.96e-06      0.024      0.981   -5.72e-06    5.86e-06\n",
       "PAY_AMT6   -2.944e-06   1.65e-06     -1.780      0.075   -6.19e-06    2.98e-07\n",
       "------------------------------------------------------------------------------\n",
       "   PAY_0=0       coef    std err          z      P>|z|      [0.025      0.975]\n",
       "------------------------------------------------------------------------------\n",
       "const          8.9797      0.333     26.930      0.000       8.326       9.633\n",
       "LIMIT_BAL  -4.532e-06   3.07e-07    -14.777      0.000   -5.13e-06   -3.93e-06\n",
       "SEX           -0.2313      0.073     -3.155      0.002      -0.375      -0.088\n",
       "EDUCATION     -0.0285      0.044     -0.651      0.515      -0.115       0.057\n",
       "MARRIAGE       0.0287      0.075      0.383      0.702      -0.118       0.176\n",
       "AGE           -0.0047      0.004     -1.053      0.292      -0.014       0.004\n",
       "PAY_2          3.8719      0.114     33.887      0.000       3.648       4.096\n",
       "PAY_3         -0.2820      0.079     -3.553      0.000      -0.438      -0.126\n",
       "PAY_4          0.4448      0.088      5.082      0.000       0.273       0.616\n",
       "PAY_5          0.2042      0.088      2.321      0.020       0.032       0.377\n",
       "PAY_6          0.4338      0.070      6.226      0.000       0.297       0.570\n",
       "BILL_AMT1   7.103e-06   1.76e-06      4.039      0.000    3.66e-06    1.05e-05\n",
       "BILL_AMT2  -6.862e-06   2.86e-06     -2.402      0.016   -1.25e-05   -1.26e-06\n",
       "BILL_AMT3   2.105e-06   3.25e-06      0.648      0.517   -4.26e-06    8.47e-06\n",
       "BILL_AMT4   -1.78e-06   3.15e-06     -0.565      0.572   -7.95e-06    4.39e-06\n",
       "BILL_AMT5   3.998e-06   3.57e-06      1.120      0.263      -3e-06     1.1e-05\n",
       "BILL_AMT6   3.818e-06   2.76e-06      1.381      0.167    -1.6e-06    9.24e-06\n",
       "PAY_AMT1   -1.115e-05   2.49e-06     -4.480      0.000    -1.6e-05   -6.27e-06\n",
       "PAY_AMT2   -1.146e-05   2.47e-06     -4.641      0.000   -1.63e-05   -6.62e-06\n",
       "PAY_AMT3   -8.701e-06   2.66e-06     -3.267      0.001   -1.39e-05   -3.48e-06\n",
       "PAY_AMT4   -1.289e-05   2.99e-06     -4.313      0.000   -1.87e-05   -7.03e-06\n",
       "PAY_AMT5   -1.132e-05   3.15e-06     -3.593      0.000   -1.75e-05   -5.15e-06\n",
       "PAY_AMT6   -8.818e-06   1.97e-06     -4.476      0.000   -1.27e-05   -4.96e-06\n",
       "------------------------------------------------------------------------------\n",
       "   PAY_0=1       coef    std err          z      P>|z|      [0.025      0.975]\n",
       "------------------------------------------------------------------------------\n",
       "const          8.5661      0.346     24.767      0.000       7.888       9.244\n",
       "LIMIT_BAL  -1.844e-06   3.25e-07     -5.680      0.000   -2.48e-06   -1.21e-06\n",
       "SEX           -0.2155      0.077     -2.801      0.005      -0.366      -0.065\n",
       "EDUCATION     -0.1804      0.047     -3.824      0.000      -0.273      -0.088\n",
       "MARRIAGE      -0.1131      0.079     -1.433      0.152      -0.268       0.042\n",
       "AGE            0.0051      0.005      1.082      0.279      -0.004       0.014\n",
       "PAY_2          4.9348      0.115     42.861      0.000       4.709       5.160\n",
       "PAY_3         -0.4706      0.081     -5.790      0.000      -0.630      -0.311\n",
       "PAY_4          0.4015      0.090      4.476      0.000       0.226       0.577\n",
       "PAY_5          0.1736      0.091      1.917      0.055      -0.004       0.351\n",
       "PAY_6          0.3552      0.072      4.942      0.000       0.214       0.496\n",
       "BILL_AMT1  -2.314e-05   2.44e-06     -9.474      0.000   -2.79e-05   -1.84e-05\n",
       "BILL_AMT2   4.186e-06   3.46e-06      1.211      0.226   -2.59e-06     1.1e-05\n",
       "BILL_AMT3   4.224e-06   3.59e-06      1.175      0.240   -2.82e-06    1.13e-05\n",
       "BILL_AMT4   -1.01e-06   3.53e-06     -0.286      0.775   -7.93e-06    5.91e-06\n",
       "BILL_AMT5   1.317e-05   3.88e-06      3.398      0.001    5.58e-06    2.08e-05\n",
       "BILL_AMT6   3.084e-06   2.98e-06      1.036      0.300   -2.75e-06    8.92e-06\n",
       "PAY_AMT1    -3.61e-05   3.52e-06    -10.246      0.000    -4.3e-05   -2.92e-05\n",
       "PAY_AMT2   -2.341e-05   3.08e-06     -7.606      0.000   -2.94e-05   -1.74e-05\n",
       "PAY_AMT3   -2.167e-05   3.45e-06     -6.281      0.000   -2.84e-05   -1.49e-05\n",
       "PAY_AMT4   -2.499e-05   3.61e-06     -6.933      0.000   -3.21e-05   -1.79e-05\n",
       "PAY_AMT5   -1.809e-05   3.75e-06     -4.821      0.000   -2.54e-05   -1.07e-05\n",
       "PAY_AMT6   -1.122e-05   2.35e-06     -4.779      0.000   -1.58e-05   -6.62e-06\n",
       "==============================================================================\n",
       "\"\"\""
      ]
     },
     "execution_count": 57,
     "metadata": {},
     "output_type": "execute_result"
    }
   ],
   "source": [
    "multi_sm = sm.MNLogit(pay_0_target, sm.add_constant(pay_0_features))\n",
    "multi_sm_results = multi_sm.fit()\n",
    "multi_sm_results.summary()"
   ]
  },
  {
   "cell_type": "code",
   "execution_count": 58,
   "metadata": {},
   "outputs": [
    {
     "data": {
      "text/html": [
       "<div>\n",
       "<style scoped>\n",
       "    .dataframe tbody tr th:only-of-type {\n",
       "        vertical-align: middle;\n",
       "    }\n",
       "\n",
       "    .dataframe tbody tr th {\n",
       "        vertical-align: top;\n",
       "    }\n",
       "\n",
       "    .dataframe thead th {\n",
       "        text-align: right;\n",
       "    }\n",
       "</style>\n",
       "<table border=\"1\" class=\"dataframe\">\n",
       "  <thead>\n",
       "    <tr style=\"text-align: right;\">\n",
       "      <th></th>\n",
       "      <th>0</th>\n",
       "      <th>1</th>\n",
       "      <th>2</th>\n",
       "      <th>3</th>\n",
       "    </tr>\n",
       "    <tr>\n",
       "      <th>ID</th>\n",
       "      <th></th>\n",
       "      <th></th>\n",
       "      <th></th>\n",
       "      <th></th>\n",
       "    </tr>\n",
       "  </thead>\n",
       "  <tbody>\n",
       "    <tr>\n",
       "      <th>1</th>\n",
       "      <td>4.428132e-08</td>\n",
       "      <td>0.231129</td>\n",
       "      <td>0.096030</td>\n",
       "      <td>0.672841</td>\n",
       "    </tr>\n",
       "    <tr>\n",
       "      <th>2</th>\n",
       "      <td>1.021591e-08</td>\n",
       "      <td>0.216915</td>\n",
       "      <td>0.141629</td>\n",
       "      <td>0.641456</td>\n",
       "    </tr>\n",
       "    <tr>\n",
       "      <th>3</th>\n",
       "      <td>1.944061e-04</td>\n",
       "      <td>0.161322</td>\n",
       "      <td>0.622301</td>\n",
       "      <td>0.216183</td>\n",
       "    </tr>\n",
       "    <tr>\n",
       "      <th>4</th>\n",
       "      <td>1.786463e-04</td>\n",
       "      <td>0.024741</td>\n",
       "      <td>0.705208</td>\n",
       "      <td>0.269872</td>\n",
       "    </tr>\n",
       "    <tr>\n",
       "      <th>5</th>\n",
       "      <td>1.185660e-04</td>\n",
       "      <td>0.428542</td>\n",
       "      <td>0.373894</td>\n",
       "      <td>0.197445</td>\n",
       "    </tr>\n",
       "    <tr>\n",
       "      <th>...</th>\n",
       "      <td>...</td>\n",
       "      <td>...</td>\n",
       "      <td>...</td>\n",
       "      <td>...</td>\n",
       "    </tr>\n",
       "    <tr>\n",
       "      <th>29996</th>\n",
       "      <td>5.221196e-04</td>\n",
       "      <td>0.000011</td>\n",
       "      <td>0.967483</td>\n",
       "      <td>0.031983</td>\n",
       "    </tr>\n",
       "    <tr>\n",
       "      <th>29997</th>\n",
       "      <td>1.145075e-02</td>\n",
       "      <td>0.417066</td>\n",
       "      <td>0.450799</td>\n",
       "      <td>0.120684</td>\n",
       "    </tr>\n",
       "    <tr>\n",
       "      <th>29998</th>\n",
       "      <td>5.753944e-10</td>\n",
       "      <td>0.181388</td>\n",
       "      <td>0.090747</td>\n",
       "      <td>0.727865</td>\n",
       "    </tr>\n",
       "    <tr>\n",
       "      <th>29999</th>\n",
       "      <td>5.334293e-02</td>\n",
       "      <td>0.554710</td>\n",
       "      <td>0.368543</td>\n",
       "      <td>0.023404</td>\n",
       "    </tr>\n",
       "    <tr>\n",
       "      <th>30000</th>\n",
       "      <td>1.506246e-04</td>\n",
       "      <td>0.028115</td>\n",
       "      <td>0.682795</td>\n",
       "      <td>0.288939</td>\n",
       "    </tr>\n",
       "  </tbody>\n",
       "</table>\n",
       "<p>30000 rows × 4 columns</p>\n",
       "</div>"
      ],
      "text/plain": [
       "                  0         1         2         3\n",
       "ID                                               \n",
       "1      4.428132e-08  0.231129  0.096030  0.672841\n",
       "2      1.021591e-08  0.216915  0.141629  0.641456\n",
       "3      1.944061e-04  0.161322  0.622301  0.216183\n",
       "4      1.786463e-04  0.024741  0.705208  0.269872\n",
       "5      1.185660e-04  0.428542  0.373894  0.197445\n",
       "...             ...       ...       ...       ...\n",
       "29996  5.221196e-04  0.000011  0.967483  0.031983\n",
       "29997  1.145075e-02  0.417066  0.450799  0.120684\n",
       "29998  5.753944e-10  0.181388  0.090747  0.727865\n",
       "29999  5.334293e-02  0.554710  0.368543  0.023404\n",
       "30000  1.506246e-04  0.028115  0.682795  0.288939\n",
       "\n",
       "[30000 rows x 4 columns]"
      ]
     },
     "execution_count": 58,
     "metadata": {},
     "output_type": "execute_result"
    }
   ],
   "source": [
    "multi_sm_results.predict(sm.add_constant(pay_0_features))"
   ]
  },
  {
   "cell_type": "markdown",
   "metadata": {},
   "source": [
    "## OVR and OVO"
   ]
  },
  {
   "cell_type": "code",
   "execution_count": 59,
   "metadata": {},
   "outputs": [
    {
     "data": {
      "text/plain": [
       "0.5974"
      ]
     },
     "execution_count": 59,
     "metadata": {},
     "output_type": "execute_result"
    }
   ],
   "source": [
    "pay_0_target = df['PAY_0'].replace({i: 1 for i in range(1, 9)})\n",
    "pay_0_features = df.drop(['PAY_0', 'default payment next month'], axis=1)\n",
    "\n",
    "lr_multi_ovr = LogisticRegression(max_iter=1000, multi_class='ovr')\n",
    "lr_multi_ovr.fit(pay_0_features, pay_0_target)\n",
    "lr_multi_ovr.score(pay_0_features, pay_0_target)"
   ]
  },
  {
   "cell_type": "code",
   "execution_count": 60,
   "metadata": {},
   "outputs": [
    {
     "data": {
      "text/plain": [
       "array([[ 3.76339785e-06, -2.61943332e-03, -3.27977181e-03,\n",
       "        -2.79671406e-03, -5.63444622e-02, -2.16915294e-03,\n",
       "        -1.79800887e-03, -1.46193082e-03, -1.21425085e-03,\n",
       "        -1.04419951e-03, -1.15164601e-05, -3.75126835e-05,\n",
       "        -1.03034594e-05, -7.74161093e-06, -7.43352714e-06,\n",
       "        -7.33941944e-06,  3.68128599e-05,  1.11385954e-05,\n",
       "         7.37549208e-06,  1.12728426e-05,  7.93168584e-06,\n",
       "         9.74946911e-07],\n",
       "       [ 1.51173406e-06, -1.06905476e-03, -1.52973081e-03,\n",
       "        -1.13044409e-03, -2.17097103e-02,  6.33623720e-04,\n",
       "         5.02455998e-04,  4.13458935e-04,  5.05428411e-04,\n",
       "         5.18292534e-04, -1.01322969e-05, -3.88911198e-05,\n",
       "        -1.11001042e-05,  2.82104496e-06, -3.42796106e-06,\n",
       "        -9.01355091e-06,  4.95620254e-05,  1.17372938e-05,\n",
       "         7.44096991e-06,  8.95532416e-06,  9.30501269e-06,\n",
       "         3.00957301e-06],\n",
       "       [-3.51707274e-06, -2.70424403e-04, -1.97014475e-04,\n",
       "        -1.50058056e-04, -7.66974860e-03, -6.48449094e-04,\n",
       "        -2.72388627e-05,  1.76210611e-04,  1.99365499e-04,\n",
       "         2.48069283e-04,  1.83015225e-05,  8.00374350e-07,\n",
       "         2.43378122e-06, -1.44972864e-06, -5.14890346e-06,\n",
       "         2.31799602e-06,  2.28636172e-06, -2.14617552e-06,\n",
       "         7.32703168e-07,  2.77843302e-06, -1.89168732e-06,\n",
       "        -3.04792618e-06],\n",
       "       [-2.52966204e-06, -7.39394307e-04, -9.04867519e-04,\n",
       "        -7.78087655e-04, -1.37284035e-02,  2.09996583e-03,\n",
       "         1.32789832e-03,  1.08755188e-03,  9.89929949e-04,\n",
       "         9.08216629e-04, -2.45950028e-05,  1.38433037e-05,\n",
       "         2.55788093e-06,  1.90482313e-06,  9.63654162e-06,\n",
       "         2.22896456e-06, -5.41051859e-05, -1.66370694e-05,\n",
       "        -1.91267917e-05, -1.52981632e-05, -8.81728591e-06,\n",
       "        -2.96266561e-06]])"
      ]
     },
     "execution_count": 60,
     "metadata": {},
     "output_type": "execute_result"
    }
   ],
   "source": [
    "lr_multi_ovr.coef_"
   ]
  },
  {
   "cell_type": "code",
   "execution_count": 61,
   "metadata": {},
   "outputs": [
    {
     "data": {
      "text/plain": [
       "0.5974"
      ]
     },
     "execution_count": 61,
     "metadata": {},
     "output_type": "execute_result"
    }
   ],
   "source": [
    "lr_multi.score(pay_0_features, pay_0_target)\n",
    "lr_multi_ovr.score(pay_0_features, pay_0_target)"
   ]
  },
  {
   "cell_type": "code",
   "execution_count": 62,
   "metadata": {},
   "outputs": [
    {
     "data": {
      "text/plain": [
       "OneVsOneClassifier(estimator=LogisticRegression(max_iter=1000), n_jobs=-1)"
      ]
     },
     "execution_count": 62,
     "metadata": {},
     "output_type": "execute_result"
    }
   ],
   "source": [
    "from sklearn.multiclass import OneVsOneClassifier, OneVsRestClassifier\n",
    "\n",
    "lr_ovr = OneVsRestClassifier(LogisticRegression(max_iter=1000), n_jobs=-1)\n",
    "lr_ovo = OneVsOneClassifier(LogisticRegression(max_iter=1000), n_jobs=-1)\n",
    "\n",
    "lr_ovr.fit(pay_0_features, pay_0_target)\n",
    "lr_ovo.fit(pay_0_features, pay_0_target)"
   ]
  },
  {
   "cell_type": "code",
   "execution_count": 63,
   "metadata": {},
   "outputs": [
    {
     "data": {
      "text/plain": [
       "array([ 0, -1,  0, ...,  0, -1,  0], dtype=int64)"
      ]
     },
     "execution_count": 63,
     "metadata": {},
     "output_type": "execute_result"
    }
   ],
   "source": [
    "lr_ovr.predict(pay_0_features)"
   ]
  },
  {
   "cell_type": "code",
   "execution_count": 64,
   "metadata": {},
   "outputs": [
    {
     "data": {
      "text/plain": [
       "array([[0.13812798, 0.24798879, 0.33044773, 0.2834355 ],\n",
       "       [0.17816991, 0.28987173, 0.27630182, 0.25565654],\n",
       "       [0.05903398, 0.17519591, 0.51043729, 0.25533281],\n",
       "       ...,\n",
       "       [0.07624011, 0.26684169, 0.37618774, 0.28073046],\n",
       "       [0.0534159 , 0.48558246, 0.44764525, 0.01335639],\n",
       "       [0.0033056 , 0.02317678, 0.65222486, 0.32129275]])"
      ]
     },
     "execution_count": 64,
     "metadata": {},
     "output_type": "execute_result"
    }
   ],
   "source": [
    "lr_ovr.predict_proba(pay_0_features)"
   ]
  },
  {
   "cell_type": "code",
   "execution_count": 65,
   "metadata": {},
   "outputs": [
    {
     "data": {
      "text/plain": [
       "0.5974666666666667"
      ]
     },
     "execution_count": 65,
     "metadata": {},
     "output_type": "execute_result"
    }
   ],
   "source": [
    "lr_ovr.score(pay_0_features, pay_0_target)"
   ]
  },
  {
   "cell_type": "code",
   "execution_count": 66,
   "metadata": {},
   "outputs": [
    {
     "data": {
      "text/plain": [
       "array([-2, -1,  0,  1], dtype=int64)"
      ]
     },
     "execution_count": 66,
     "metadata": {},
     "output_type": "execute_result"
    }
   ],
   "source": [
    "lr_ovr.classes_"
   ]
  },
  {
   "cell_type": "code",
   "execution_count": 67,
   "metadata": {},
   "outputs": [
    {
     "data": {
      "text/plain": [
       "array([[ 3.76306709e-06, -2.61944999e-03, -3.27979184e-03,\n",
       "        -2.79673712e-03, -5.63447147e-02, -2.16920850e-03,\n",
       "        -1.79805586e-03, -1.46196970e-03, -1.21428605e-03,\n",
       "        -1.04423119e-03, -1.15024845e-05, -3.75195792e-05,\n",
       "        -1.03044741e-05, -7.74847708e-06, -7.44791608e-06,\n",
       "        -7.33596645e-06,  3.68096992e-05,  1.11364068e-05,\n",
       "         7.38738664e-06,  1.12905320e-05,  7.93079047e-06,\n",
       "         9.83138475e-07]])"
      ]
     },
     "execution_count": 67,
     "metadata": {},
     "output_type": "execute_result"
    }
   ],
   "source": [
    "lr_ovr.estimators_[0].coef_"
   ]
  },
  {
   "cell_type": "code",
   "execution_count": 68,
   "metadata": {},
   "outputs": [
    {
     "data": {
      "text/plain": [
       "array([-2, -1,  0,  1], dtype=int64)"
      ]
     },
     "execution_count": 68,
     "metadata": {},
     "output_type": "execute_result"
    }
   ],
   "source": [
    "lr_ovo.classes_"
   ]
  },
  {
   "cell_type": "code",
   "execution_count": 69,
   "metadata": {},
   "outputs": [
    {
     "data": {
      "text/plain": [
       "-2"
      ]
     },
     "execution_count": 69,
     "metadata": {},
     "output_type": "execute_result"
    }
   ],
   "source": [
    "lr_ovo.predict(pay_0_features)[9]"
   ]
  },
  {
   "cell_type": "code",
   "execution_count": 70,
   "metadata": {},
   "outputs": [
    {
     "data": {
      "text/plain": [
       "array([[   64],\n",
       "       [  122],\n",
       "       [  138],\n",
       "       [  206],\n",
       "       [  325],\n",
       "       [  495],\n",
       "       [  504],\n",
       "       [  562],\n",
       "       [  635],\n",
       "       [  732],\n",
       "       [  750],\n",
       "       [  779],\n",
       "       [  849],\n",
       "       [  874],\n",
       "       [  941],\n",
       "       [ 1050],\n",
       "       [ 1118],\n",
       "       [ 1187],\n",
       "       [ 1233],\n",
       "       [ 1234],\n",
       "       [ 1325],\n",
       "       [ 1339],\n",
       "       [ 1375],\n",
       "       [ 1442],\n",
       "       [ 1460],\n",
       "       [ 1661],\n",
       "       [ 1716],\n",
       "       [ 1801],\n",
       "       [ 1820],\n",
       "       [ 1920],\n",
       "       [ 1933],\n",
       "       [ 2013],\n",
       "       [ 2076],\n",
       "       [ 2120],\n",
       "       [ 2208],\n",
       "       [ 2320],\n",
       "       [ 2530],\n",
       "       [ 2539],\n",
       "       [ 2805],\n",
       "       [ 2973],\n",
       "       [ 2981],\n",
       "       [ 3066],\n",
       "       [ 3086],\n",
       "       [ 3211],\n",
       "       [ 3292],\n",
       "       [ 3331],\n",
       "       [ 3367],\n",
       "       [ 3378],\n",
       "       [ 3468],\n",
       "       [ 3586],\n",
       "       [ 3703],\n",
       "       [ 3712],\n",
       "       [ 3720],\n",
       "       [ 3773],\n",
       "       [ 3815],\n",
       "       [ 3852],\n",
       "       [ 4036],\n",
       "       [ 4241],\n",
       "       [ 4300],\n",
       "       [ 4376],\n",
       "       [ 4381],\n",
       "       [ 4395],\n",
       "       [ 4400],\n",
       "       [ 4415],\n",
       "       [ 4436],\n",
       "       [ 4517],\n",
       "       [ 4604],\n",
       "       [ 4650],\n",
       "       [ 4894],\n",
       "       [ 4907],\n",
       "       [ 4910],\n",
       "       [ 4912],\n",
       "       [ 4914],\n",
       "       [ 5000],\n",
       "       [ 5028],\n",
       "       [ 5083],\n",
       "       [ 5191],\n",
       "       [ 5209],\n",
       "       [ 5253],\n",
       "       [ 5283],\n",
       "       [ 5284],\n",
       "       [ 5293],\n",
       "       [ 5301],\n",
       "       [ 5313],\n",
       "       [ 5450],\n",
       "       [ 5471],\n",
       "       [ 5482],\n",
       "       [ 5519],\n",
       "       [ 5563],\n",
       "       [ 5645],\n",
       "       [ 5656],\n",
       "       [ 5679],\n",
       "       [ 5690],\n",
       "       [ 5814],\n",
       "       [ 5816],\n",
       "       [ 5854],\n",
       "       [ 5915],\n",
       "       [ 6015],\n",
       "       [ 6055],\n",
       "       [ 6106],\n",
       "       [ 6173],\n",
       "       [ 6204],\n",
       "       [ 6308],\n",
       "       [ 6354],\n",
       "       [ 6430],\n",
       "       [ 6509],\n",
       "       [ 6511],\n",
       "       [ 6523],\n",
       "       [ 6530],\n",
       "       [ 6541],\n",
       "       [ 6545],\n",
       "       [ 6556],\n",
       "       [ 6570],\n",
       "       [ 6615],\n",
       "       [ 6650],\n",
       "       [ 6906],\n",
       "       [ 6962],\n",
       "       [ 6981],\n",
       "       [ 7051],\n",
       "       [ 7179],\n",
       "       [ 7185],\n",
       "       [ 7243],\n",
       "       [ 7264],\n",
       "       [ 7362],\n",
       "       [ 7429],\n",
       "       [ 7453],\n",
       "       [ 7491],\n",
       "       [ 7516],\n",
       "       [ 7521],\n",
       "       [ 7553],\n",
       "       [ 7600],\n",
       "       [ 7788],\n",
       "       [ 7932],\n",
       "       [ 7991],\n",
       "       [ 8064],\n",
       "       [ 8218],\n",
       "       [ 8232],\n",
       "       [ 8339],\n",
       "       [ 8377],\n",
       "       [ 8393],\n",
       "       [ 8397],\n",
       "       [ 8491],\n",
       "       [ 8495],\n",
       "       [ 8560],\n",
       "       [ 8704],\n",
       "       [ 8812],\n",
       "       [ 8815],\n",
       "       [ 8995],\n",
       "       [ 9022],\n",
       "       [ 9053],\n",
       "       [ 9057],\n",
       "       [ 9085],\n",
       "       [ 9093],\n",
       "       [ 9106],\n",
       "       [ 9440],\n",
       "       [ 9508],\n",
       "       [ 9593],\n",
       "       [ 9615],\n",
       "       [ 9616],\n",
       "       [ 9624],\n",
       "       [ 9671],\n",
       "       [ 9675],\n",
       "       [ 9701],\n",
       "       [ 9710],\n",
       "       [ 9724],\n",
       "       [ 9791],\n",
       "       [ 9823],\n",
       "       [ 9870],\n",
       "       [ 9889],\n",
       "       [ 9902],\n",
       "       [ 9942],\n",
       "       [10060],\n",
       "       [10208],\n",
       "       [10251],\n",
       "       [10261],\n",
       "       [10386],\n",
       "       [10465],\n",
       "       [10592],\n",
       "       [10600],\n",
       "       [10695],\n",
       "       [10827],\n",
       "       [10861],\n",
       "       [10885],\n",
       "       [10951],\n",
       "       [11023],\n",
       "       [11039],\n",
       "       [11110],\n",
       "       [11301],\n",
       "       [11419],\n",
       "       [11453],\n",
       "       [11576],\n",
       "       [11587],\n",
       "       [11614],\n",
       "       [11766],\n",
       "       [12002],\n",
       "       [12018],\n",
       "       [12054],\n",
       "       [12169],\n",
       "       [12202],\n",
       "       [12212],\n",
       "       [12259],\n",
       "       [12593],\n",
       "       [12628],\n",
       "       [12641],\n",
       "       [12649],\n",
       "       [12669],\n",
       "       [12753],\n",
       "       [12813],\n",
       "       [12885],\n",
       "       [12900],\n",
       "       [12955],\n",
       "       [12962],\n",
       "       [13035],\n",
       "       [13077],\n",
       "       [13086],\n",
       "       [13279],\n",
       "       [13382],\n",
       "       [13448],\n",
       "       [13484],\n",
       "       [13497],\n",
       "       [13517],\n",
       "       [13530],\n",
       "       [13583],\n",
       "       [13974],\n",
       "       [14115],\n",
       "       [14124],\n",
       "       [14155],\n",
       "       [14157],\n",
       "       [14206],\n",
       "       [14214],\n",
       "       [14225],\n",
       "       [14259],\n",
       "       [14262],\n",
       "       [14293],\n",
       "       [14352],\n",
       "       [14369],\n",
       "       [14465],\n",
       "       [14501],\n",
       "       [14552],\n",
       "       [14561],\n",
       "       [14574],\n",
       "       [14614],\n",
       "       [14626],\n",
       "       [14801],\n",
       "       [14872],\n",
       "       [14884],\n",
       "       [14904],\n",
       "       [14914],\n",
       "       [14923],\n",
       "       [15100],\n",
       "       [15113],\n",
       "       [15123],\n",
       "       [15190],\n",
       "       [15385],\n",
       "       [15414],\n",
       "       [15419],\n",
       "       [15443],\n",
       "       [15508],\n",
       "       [15600],\n",
       "       [15730],\n",
       "       [15985],\n",
       "       [15997],\n",
       "       [16039],\n",
       "       [16043],\n",
       "       [16046],\n",
       "       [16099],\n",
       "       [16115],\n",
       "       [16170],\n",
       "       [16212],\n",
       "       [16322],\n",
       "       [16327],\n",
       "       [16443],\n",
       "       [16482],\n",
       "       [16853],\n",
       "       [16931],\n",
       "       [16952],\n",
       "       [17285],\n",
       "       [17306],\n",
       "       [17354],\n",
       "       [17405],\n",
       "       [17588],\n",
       "       [17621],\n",
       "       [17741],\n",
       "       [17743],\n",
       "       [17751],\n",
       "       [17758],\n",
       "       [17781],\n",
       "       [17783],\n",
       "       [17877],\n",
       "       [17903],\n",
       "       [17971],\n",
       "       [18091],\n",
       "       [18175],\n",
       "       [18184],\n",
       "       [18434],\n",
       "       [18440],\n",
       "       [18910],\n",
       "       [19175],\n",
       "       [19201],\n",
       "       [19231],\n",
       "       [19315],\n",
       "       [19327],\n",
       "       [19382],\n",
       "       [19564],\n",
       "       [19571],\n",
       "       [19602],\n",
       "       [19826],\n",
       "       [19831],\n",
       "       [19897],\n",
       "       [20089],\n",
       "       [20151],\n",
       "       [20217],\n",
       "       [20251],\n",
       "       [20252],\n",
       "       [20285],\n",
       "       [20322],\n",
       "       [20328],\n",
       "       [20342],\n",
       "       [20353],\n",
       "       [20666],\n",
       "       [20667],\n",
       "       [20735],\n",
       "       [20788],\n",
       "       [20817],\n",
       "       [20861],\n",
       "       [20903],\n",
       "       [20949],\n",
       "       [20999],\n",
       "       [21000],\n",
       "       [21012],\n",
       "       [21242],\n",
       "       [21262],\n",
       "       [21274],\n",
       "       [21286],\n",
       "       [21313],\n",
       "       [21314],\n",
       "       [21347],\n",
       "       [21393],\n",
       "       [21511],\n",
       "       [21515],\n",
       "       [21667],\n",
       "       [21698],\n",
       "       [22432],\n",
       "       [22476],\n",
       "       [22534],\n",
       "       [22603],\n",
       "       [22667],\n",
       "       [22724],\n",
       "       [22748],\n",
       "       [22814],\n",
       "       [22866],\n",
       "       [22924],\n",
       "       [22991],\n",
       "       [23093],\n",
       "       [23401],\n",
       "       [23458],\n",
       "       [23562],\n",
       "       [23696],\n",
       "       [23699],\n",
       "       [23716],\n",
       "       [23741],\n",
       "       [23753],\n",
       "       [23778],\n",
       "       [23782],\n",
       "       [23789],\n",
       "       [23808],\n",
       "       [23844],\n",
       "       [23849],\n",
       "       [23874],\n",
       "       [23993],\n",
       "       [24081],\n",
       "       [24149],\n",
       "       [24333],\n",
       "       [24345],\n",
       "       [24410],\n",
       "       [24424],\n",
       "       [24484],\n",
       "       [24515],\n",
       "       [24570],\n",
       "       [24674],\n",
       "       [24805],\n",
       "       [24814],\n",
       "       [24899],\n",
       "       [24962],\n",
       "       [24983],\n",
       "       [25136],\n",
       "       [25302],\n",
       "       [25410],\n",
       "       [25433],\n",
       "       [25534],\n",
       "       [25573],\n",
       "       [25642],\n",
       "       [25681],\n",
       "       [25790],\n",
       "       [25844],\n",
       "       [25929],\n",
       "       [25969],\n",
       "       [26404],\n",
       "       [26469],\n",
       "       [26471],\n",
       "       [26499],\n",
       "       [26620],\n",
       "       [26946],\n",
       "       [26964],\n",
       "       [26990],\n",
       "       [27027],\n",
       "       [27071],\n",
       "       [27088],\n",
       "       [27104],\n",
       "       [27160],\n",
       "       [27249],\n",
       "       [27419],\n",
       "       [27457],\n",
       "       [27481],\n",
       "       [27526],\n",
       "       [27542],\n",
       "       [27546],\n",
       "       [27550],\n",
       "       [27587],\n",
       "       [27589],\n",
       "       [27724],\n",
       "       [27915],\n",
       "       [28071],\n",
       "       [28083],\n",
       "       [28243],\n",
       "       [28270],\n",
       "       [28325],\n",
       "       [28400],\n",
       "       [28482],\n",
       "       [28504],\n",
       "       [28605],\n",
       "       [28606],\n",
       "       [28688],\n",
       "       [28796],\n",
       "       [28860],\n",
       "       [29003],\n",
       "       [29016],\n",
       "       [29044],\n",
       "       [29080],\n",
       "       [29154],\n",
       "       [29320],\n",
       "       [29343],\n",
       "       [29366],\n",
       "       [29415],\n",
       "       [29512],\n",
       "       [29530],\n",
       "       [29697]], dtype=int64)"
      ]
     },
     "execution_count": 70,
     "metadata": {},
     "output_type": "execute_result"
    }
   ],
   "source": [
    "np.argwhere(lr_ovo.predict(pay_0_features) == 1)"
   ]
  },
  {
   "cell_type": "code",
   "execution_count": 71,
   "metadata": {},
   "outputs": [
    {
     "data": {
      "text/plain": [
       "array([[0.32967304, 0.67032696],\n",
       "       [0.36315769, 0.63684231],\n",
       "       [0.26728288, 0.73271712],\n",
       "       ...,\n",
       "       [0.21916195, 0.78083805],\n",
       "       [0.15861473, 0.84138527],\n",
       "       [0.15549302, 0.84450698]])"
      ]
     },
     "execution_count": 71,
     "metadata": {},
     "output_type": "execute_result"
    }
   ],
   "source": [
    "lr_ovo.estimators_[0].predict_proba(pay_0_features)"
   ]
  },
  {
   "cell_type": "code",
   "execution_count": 72,
   "metadata": {},
   "outputs": [
    {
     "name": "stdout",
     "output_type": "stream",
     "text": [
      "0.6181666666666666\n",
      "0.5974666666666667\n"
     ]
    }
   ],
   "source": [
    "print(lr_ovo.score(pay_0_features, pay_0_target))\n",
    "print(lr_ovr.score(pay_0_features, pay_0_target))"
   ]
  },
  {
   "cell_type": "markdown",
   "metadata": {},
   "source": [
    "## Multioutput classifiers with multiclass and multilabel problems"
   ]
  },
  {
   "cell_type": "code",
   "execution_count": 73,
   "metadata": {},
   "outputs": [],
   "source": [
    "import swifter\n",
    "\n",
    "pay_cols = ['PAY_0'] + [f'PAY_{i}' for i in range(2, 7)]\n",
    "mo_targets = df[pay_cols].copy()\n",
    "mo_targets = mo_targets.swifter.apply(lambda x: (x > 0).astype(int), axis=1)\n",
    "\n",
    "mo_features = df[[c for c in df.columns if c not in pay_cols +\n",
    "                  ['default payment next month']]]"
   ]
  },
  {
   "cell_type": "code",
   "execution_count": 74,
   "metadata": {},
   "outputs": [
    {
     "data": {
      "text/html": [
       "<div>\n",
       "<style scoped>\n",
       "    .dataframe tbody tr th:only-of-type {\n",
       "        vertical-align: middle;\n",
       "    }\n",
       "\n",
       "    .dataframe tbody tr th {\n",
       "        vertical-align: top;\n",
       "    }\n",
       "\n",
       "    .dataframe thead th {\n",
       "        text-align: right;\n",
       "    }\n",
       "</style>\n",
       "<table border=\"1\" class=\"dataframe\">\n",
       "  <thead>\n",
       "    <tr style=\"text-align: right;\">\n",
       "      <th></th>\n",
       "      <th>PAY_0</th>\n",
       "      <th>PAY_2</th>\n",
       "      <th>PAY_3</th>\n",
       "      <th>PAY_4</th>\n",
       "      <th>PAY_5</th>\n",
       "      <th>PAY_6</th>\n",
       "    </tr>\n",
       "    <tr>\n",
       "      <th>ID</th>\n",
       "      <th></th>\n",
       "      <th></th>\n",
       "      <th></th>\n",
       "      <th></th>\n",
       "      <th></th>\n",
       "      <th></th>\n",
       "    </tr>\n",
       "  </thead>\n",
       "  <tbody>\n",
       "    <tr>\n",
       "      <th>1</th>\n",
       "      <td>1</td>\n",
       "      <td>1</td>\n",
       "      <td>0</td>\n",
       "      <td>0</td>\n",
       "      <td>0</td>\n",
       "      <td>0</td>\n",
       "    </tr>\n",
       "    <tr>\n",
       "      <th>2</th>\n",
       "      <td>0</td>\n",
       "      <td>1</td>\n",
       "      <td>0</td>\n",
       "      <td>0</td>\n",
       "      <td>0</td>\n",
       "      <td>1</td>\n",
       "    </tr>\n",
       "    <tr>\n",
       "      <th>3</th>\n",
       "      <td>0</td>\n",
       "      <td>0</td>\n",
       "      <td>0</td>\n",
       "      <td>0</td>\n",
       "      <td>0</td>\n",
       "      <td>0</td>\n",
       "    </tr>\n",
       "    <tr>\n",
       "      <th>4</th>\n",
       "      <td>0</td>\n",
       "      <td>0</td>\n",
       "      <td>0</td>\n",
       "      <td>0</td>\n",
       "      <td>0</td>\n",
       "      <td>0</td>\n",
       "    </tr>\n",
       "    <tr>\n",
       "      <th>5</th>\n",
       "      <td>0</td>\n",
       "      <td>0</td>\n",
       "      <td>0</td>\n",
       "      <td>0</td>\n",
       "      <td>0</td>\n",
       "      <td>0</td>\n",
       "    </tr>\n",
       "    <tr>\n",
       "      <th>...</th>\n",
       "      <td>...</td>\n",
       "      <td>...</td>\n",
       "      <td>...</td>\n",
       "      <td>...</td>\n",
       "      <td>...</td>\n",
       "      <td>...</td>\n",
       "    </tr>\n",
       "    <tr>\n",
       "      <th>29996</th>\n",
       "      <td>0</td>\n",
       "      <td>0</td>\n",
       "      <td>0</td>\n",
       "      <td>0</td>\n",
       "      <td>0</td>\n",
       "      <td>0</td>\n",
       "    </tr>\n",
       "    <tr>\n",
       "      <th>29997</th>\n",
       "      <td>0</td>\n",
       "      <td>0</td>\n",
       "      <td>0</td>\n",
       "      <td>0</td>\n",
       "      <td>0</td>\n",
       "      <td>0</td>\n",
       "    </tr>\n",
       "    <tr>\n",
       "      <th>29998</th>\n",
       "      <td>1</td>\n",
       "      <td>1</td>\n",
       "      <td>1</td>\n",
       "      <td>0</td>\n",
       "      <td>0</td>\n",
       "      <td>0</td>\n",
       "    </tr>\n",
       "    <tr>\n",
       "      <th>29999</th>\n",
       "      <td>1</td>\n",
       "      <td>0</td>\n",
       "      <td>0</td>\n",
       "      <td>0</td>\n",
       "      <td>0</td>\n",
       "      <td>0</td>\n",
       "    </tr>\n",
       "    <tr>\n",
       "      <th>30000</th>\n",
       "      <td>0</td>\n",
       "      <td>0</td>\n",
       "      <td>0</td>\n",
       "      <td>0</td>\n",
       "      <td>0</td>\n",
       "      <td>0</td>\n",
       "    </tr>\n",
       "  </tbody>\n",
       "</table>\n",
       "<p>30000 rows × 6 columns</p>\n",
       "</div>"
      ],
      "text/plain": [
       "       PAY_0  PAY_2  PAY_3  PAY_4  PAY_5  PAY_6\n",
       "ID                                             \n",
       "1          1      1      0      0      0      0\n",
       "2          0      1      0      0      0      1\n",
       "3          0      0      0      0      0      0\n",
       "4          0      0      0      0      0      0\n",
       "5          0      0      0      0      0      0\n",
       "...      ...    ...    ...    ...    ...    ...\n",
       "29996      0      0      0      0      0      0\n",
       "29997      0      0      0      0      0      0\n",
       "29998      1      1      1      0      0      0\n",
       "29999      1      0      0      0      0      0\n",
       "30000      0      0      0      0      0      0\n",
       "\n",
       "[30000 rows x 6 columns]"
      ]
     },
     "execution_count": 74,
     "metadata": {},
     "output_type": "execute_result"
    }
   ],
   "source": [
    "mo_targets"
   ]
  },
  {
   "cell_type": "code",
   "execution_count": 75,
   "metadata": {
    "scrolled": true
   },
   "outputs": [
    {
     "data": {
      "text/plain": [
       "MultiOutputClassifier(estimator=LogisticRegression(max_iter=1000), n_jobs=-1)"
      ]
     },
     "execution_count": 75,
     "metadata": {},
     "output_type": "execute_result"
    }
   ],
   "source": [
    "from sklearn.multioutput import MultiOutputClassifier\n",
    "\n",
    "mo_clf = MultiOutputClassifier(LogisticRegression(max_iter=1000), n_jobs=-1)\n",
    "mo_clf.fit(mo_features, mo_targets)"
   ]
  },
  {
   "cell_type": "code",
   "execution_count": 76,
   "metadata": {},
   "outputs": [
    {
     "data": {
      "text/plain": [
       "0.6721333333333334"
      ]
     },
     "execution_count": 76,
     "metadata": {},
     "output_type": "execute_result"
    }
   ],
   "source": [
    "mo_clf.score(mo_features, mo_targets)"
   ]
  },
  {
   "cell_type": "code",
   "execution_count": 77,
   "metadata": {},
   "outputs": [
    {
     "data": {
      "text/plain": [
       "0.6719666666666667"
      ]
     },
     "execution_count": 77,
     "metadata": {},
     "output_type": "execute_result"
    }
   ],
   "source": [
    "from sklearn.multioutput import ClassifierChain\n",
    "\n",
    "cc_clf = ClassifierChain(LogisticRegression(max_iter=1000))\n",
    "cc_clf.fit(mo_features, mo_targets)\n",
    "cc_clf.score(mo_features, mo_targets)"
   ]
  }
 ],
 "metadata": {
  "kernelspec": {
   "display_name": "Python 3",
   "language": "python",
   "name": "python3"
  },
  "language_info": {
   "codemirror_mode": {
    "name": "ipython",
    "version": 3
   },
   "file_extension": ".py",
   "mimetype": "text/x-python",
   "name": "python",
   "nbconvert_exporter": "python",
   "pygments_lexer": "ipython3",
   "version": "3.8.5"
  }
 },
 "nbformat": 4,
 "nbformat_minor": 4
}

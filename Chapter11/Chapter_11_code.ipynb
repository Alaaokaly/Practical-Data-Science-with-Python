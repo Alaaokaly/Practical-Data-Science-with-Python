{
 "cells": [
  {
   "cell_type": "code",
   "execution_count": 3,
   "metadata": {},
   "outputs": [
    {
     "data": {
      "text/html": [
       "<div>\n",
       "<style scoped>\n",
       "    .dataframe tbody tr th:only-of-type {\n",
       "        vertical-align: middle;\n",
       "    }\n",
       "\n",
       "    .dataframe tbody tr th {\n",
       "        vertical-align: top;\n",
       "    }\n",
       "\n",
       "    .dataframe thead th {\n",
       "        text-align: right;\n",
       "    }\n",
       "</style>\n",
       "<table border=\"1\" class=\"dataframe\">\n",
       "  <thead>\n",
       "    <tr style=\"text-align: right;\">\n",
       "      <th></th>\n",
       "      <th>LIMIT_BAL</th>\n",
       "      <th>SEX</th>\n",
       "      <th>EDUCATION</th>\n",
       "      <th>MARRIAGE</th>\n",
       "      <th>AGE</th>\n",
       "      <th>PAY_0</th>\n",
       "      <th>PAY_2</th>\n",
       "      <th>PAY_3</th>\n",
       "      <th>PAY_4</th>\n",
       "      <th>PAY_5</th>\n",
       "      <th>...</th>\n",
       "      <th>BILL_AMT4</th>\n",
       "      <th>BILL_AMT5</th>\n",
       "      <th>BILL_AMT6</th>\n",
       "      <th>PAY_AMT1</th>\n",
       "      <th>PAY_AMT2</th>\n",
       "      <th>PAY_AMT3</th>\n",
       "      <th>PAY_AMT4</th>\n",
       "      <th>PAY_AMT5</th>\n",
       "      <th>PAY_AMT6</th>\n",
       "      <th>default payment next month</th>\n",
       "    </tr>\n",
       "    <tr>\n",
       "      <th>ID</th>\n",
       "      <th></th>\n",
       "      <th></th>\n",
       "      <th></th>\n",
       "      <th></th>\n",
       "      <th></th>\n",
       "      <th></th>\n",
       "      <th></th>\n",
       "      <th></th>\n",
       "      <th></th>\n",
       "      <th></th>\n",
       "      <th></th>\n",
       "      <th></th>\n",
       "      <th></th>\n",
       "      <th></th>\n",
       "      <th></th>\n",
       "      <th></th>\n",
       "      <th></th>\n",
       "      <th></th>\n",
       "      <th></th>\n",
       "      <th></th>\n",
       "      <th></th>\n",
       "    </tr>\n",
       "  </thead>\n",
       "  <tbody>\n",
       "    <tr>\n",
       "      <th>1</th>\n",
       "      <td>20000</td>\n",
       "      <td>2</td>\n",
       "      <td>2</td>\n",
       "      <td>1</td>\n",
       "      <td>24</td>\n",
       "      <td>2</td>\n",
       "      <td>2</td>\n",
       "      <td>-1</td>\n",
       "      <td>-1</td>\n",
       "      <td>-2</td>\n",
       "      <td>...</td>\n",
       "      <td>0</td>\n",
       "      <td>0</td>\n",
       "      <td>0</td>\n",
       "      <td>0</td>\n",
       "      <td>689</td>\n",
       "      <td>0</td>\n",
       "      <td>0</td>\n",
       "      <td>0</td>\n",
       "      <td>0</td>\n",
       "      <td>1</td>\n",
       "    </tr>\n",
       "    <tr>\n",
       "      <th>2</th>\n",
       "      <td>120000</td>\n",
       "      <td>2</td>\n",
       "      <td>2</td>\n",
       "      <td>2</td>\n",
       "      <td>26</td>\n",
       "      <td>-1</td>\n",
       "      <td>2</td>\n",
       "      <td>0</td>\n",
       "      <td>0</td>\n",
       "      <td>0</td>\n",
       "      <td>...</td>\n",
       "      <td>3272</td>\n",
       "      <td>3455</td>\n",
       "      <td>3261</td>\n",
       "      <td>0</td>\n",
       "      <td>1000</td>\n",
       "      <td>1000</td>\n",
       "      <td>1000</td>\n",
       "      <td>0</td>\n",
       "      <td>2000</td>\n",
       "      <td>1</td>\n",
       "    </tr>\n",
       "    <tr>\n",
       "      <th>3</th>\n",
       "      <td>90000</td>\n",
       "      <td>2</td>\n",
       "      <td>2</td>\n",
       "      <td>2</td>\n",
       "      <td>34</td>\n",
       "      <td>0</td>\n",
       "      <td>0</td>\n",
       "      <td>0</td>\n",
       "      <td>0</td>\n",
       "      <td>0</td>\n",
       "      <td>...</td>\n",
       "      <td>14331</td>\n",
       "      <td>14948</td>\n",
       "      <td>15549</td>\n",
       "      <td>1518</td>\n",
       "      <td>1500</td>\n",
       "      <td>1000</td>\n",
       "      <td>1000</td>\n",
       "      <td>1000</td>\n",
       "      <td>5000</td>\n",
       "      <td>0</td>\n",
       "    </tr>\n",
       "    <tr>\n",
       "      <th>4</th>\n",
       "      <td>50000</td>\n",
       "      <td>2</td>\n",
       "      <td>2</td>\n",
       "      <td>1</td>\n",
       "      <td>37</td>\n",
       "      <td>0</td>\n",
       "      <td>0</td>\n",
       "      <td>0</td>\n",
       "      <td>0</td>\n",
       "      <td>0</td>\n",
       "      <td>...</td>\n",
       "      <td>28314</td>\n",
       "      <td>28959</td>\n",
       "      <td>29547</td>\n",
       "      <td>2000</td>\n",
       "      <td>2019</td>\n",
       "      <td>1200</td>\n",
       "      <td>1100</td>\n",
       "      <td>1069</td>\n",
       "      <td>1000</td>\n",
       "      <td>0</td>\n",
       "    </tr>\n",
       "    <tr>\n",
       "      <th>5</th>\n",
       "      <td>50000</td>\n",
       "      <td>1</td>\n",
       "      <td>2</td>\n",
       "      <td>1</td>\n",
       "      <td>57</td>\n",
       "      <td>-1</td>\n",
       "      <td>0</td>\n",
       "      <td>-1</td>\n",
       "      <td>0</td>\n",
       "      <td>0</td>\n",
       "      <td>...</td>\n",
       "      <td>20940</td>\n",
       "      <td>19146</td>\n",
       "      <td>19131</td>\n",
       "      <td>2000</td>\n",
       "      <td>36681</td>\n",
       "      <td>10000</td>\n",
       "      <td>9000</td>\n",
       "      <td>689</td>\n",
       "      <td>679</td>\n",
       "      <td>0</td>\n",
       "    </tr>\n",
       "  </tbody>\n",
       "</table>\n",
       "<p>5 rows × 24 columns</p>\n",
       "</div>"
      ],
      "text/plain": [
       "    LIMIT_BAL  SEX  EDUCATION  MARRIAGE  AGE  PAY_0  PAY_2  PAY_3  PAY_4  \\\n",
       "ID                                                                         \n",
       "1       20000    2          2         1   24      2      2     -1     -1   \n",
       "2      120000    2          2         2   26     -1      2      0      0   \n",
       "3       90000    2          2         2   34      0      0      0      0   \n",
       "4       50000    2          2         1   37      0      0      0      0   \n",
       "5       50000    1          2         1   57     -1      0     -1      0   \n",
       "\n",
       "    PAY_5  ...  BILL_AMT4  BILL_AMT5  BILL_AMT6  PAY_AMT1  PAY_AMT2  PAY_AMT3  \\\n",
       "ID         ...                                                                  \n",
       "1      -2  ...          0          0          0         0       689         0   \n",
       "2       0  ...       3272       3455       3261         0      1000      1000   \n",
       "3       0  ...      14331      14948      15549      1518      1500      1000   \n",
       "4       0  ...      28314      28959      29547      2000      2019      1200   \n",
       "5       0  ...      20940      19146      19131      2000     36681     10000   \n",
       "\n",
       "    PAY_AMT4  PAY_AMT5  PAY_AMT6  default payment next month  \n",
       "ID                                                            \n",
       "1          0         0         0                           1  \n",
       "2       1000         0      2000                           1  \n",
       "3       1000      1000      5000                           0  \n",
       "4       1100      1069      1000                           0  \n",
       "5       9000       689       679                           0  \n",
       "\n",
       "[5 rows x 24 columns]"
      ]
     },
     "execution_count": 3,
     "metadata": {},
     "output_type": "execute_result"
    }
   ],
   "source": [
    "import pandas as pd\n",
    "from pandas_profiling import ProfileReport\n",
    "\n",
    "df = pd.read_excel('data/default of credit card clients.xls',\n",
    "                   skiprows=1, index_col=0)\n",
    "df.head()"
   ]
  },
  {
   "cell_type": "code",
   "execution_count": 4,
   "metadata": {},
   "outputs": [
    {
     "name": "stdout",
     "output_type": "stream",
     "text": [
      "<class 'pandas.core.frame.DataFrame'>\n",
      "Int64Index: 30000 entries, 1 to 30000\n",
      "Data columns (total 24 columns):\n",
      " #   Column                      Non-Null Count  Dtype\n",
      "---  ------                      --------------  -----\n",
      " 0   LIMIT_BAL                   30000 non-null  int64\n",
      " 1   SEX                         30000 non-null  int64\n",
      " 2   EDUCATION                   30000 non-null  int64\n",
      " 3   MARRIAGE                    30000 non-null  int64\n",
      " 4   AGE                         30000 non-null  int64\n",
      " 5   PAY_0                       30000 non-null  int64\n",
      " 6   PAY_2                       30000 non-null  int64\n",
      " 7   PAY_3                       30000 non-null  int64\n",
      " 8   PAY_4                       30000 non-null  int64\n",
      " 9   PAY_5                       30000 non-null  int64\n",
      " 10  PAY_6                       30000 non-null  int64\n",
      " 11  BILL_AMT1                   30000 non-null  int64\n",
      " 12  BILL_AMT2                   30000 non-null  int64\n",
      " 13  BILL_AMT3                   30000 non-null  int64\n",
      " 14  BILL_AMT4                   30000 non-null  int64\n",
      " 15  BILL_AMT5                   30000 non-null  int64\n",
      " 16  BILL_AMT6                   30000 non-null  int64\n",
      " 17  PAY_AMT1                    30000 non-null  int64\n",
      " 18  PAY_AMT2                    30000 non-null  int64\n",
      " 19  PAY_AMT3                    30000 non-null  int64\n",
      " 20  PAY_AMT4                    30000 non-null  int64\n",
      " 21  PAY_AMT5                    30000 non-null  int64\n",
      " 22  PAY_AMT6                    30000 non-null  int64\n",
      " 23  default payment next month  30000 non-null  int64\n",
      "dtypes: int64(24)\n",
      "memory usage: 5.7 MB\n"
     ]
    }
   ],
   "source": [
    "# double-check datatypes are correct\n",
    "df.info()"
   ]
  },
  {
   "cell_type": "code",
   "execution_count": 5,
   "metadata": {},
   "outputs": [
    {
     "data": {
      "application/vnd.jupyter.widget-view+json": {
       "model_id": "f88ae76a05ab45748aa5948ace20a3dc",
       "version_major": 2,
       "version_minor": 0
      },
      "text/plain": [
       "Summarize dataset:   0%|          | 0/39 [00:00<?, ?it/s]"
      ]
     },
     "metadata": {},
     "output_type": "display_data"
    },
    {
     "data": {
      "application/vnd.jupyter.widget-view+json": {
       "model_id": "ab3c7eaa83494b4c984e6c6fc43aa2c6",
       "version_major": 2,
       "version_minor": 0
      },
      "text/plain": [
       "Generate report structure:   0%|          | 0/1 [00:00<?, ?it/s]"
      ]
     },
     "metadata": {},
     "output_type": "display_data"
    },
    {
     "data": {
      "application/vnd.jupyter.widget-view+json": {
       "model_id": "ab1c316dc6d7474e92431aef432a3ea5",
       "version_major": 2,
       "version_minor": 0
      },
      "text/plain": [
       "Render HTML:   0%|          | 0/1 [00:00<?, ?it/s]"
      ]
     },
     "metadata": {},
     "output_type": "display_data"
    },
    {
     "data": {
      "application/vnd.jupyter.widget-view+json": {
       "model_id": "88ccd8008cf744ee9bc7d63b99564794",
       "version_major": 2,
       "version_minor": 0
      },
      "text/plain": [
       "Export report to file:   0%|          | 0/1 [00:00<?, ?it/s]"
      ]
     },
     "metadata": {},
     "output_type": "display_data"
    }
   ],
   "source": [
    "report = ProfileReport(df, interactions=None)\n",
    "report.to_file('cc_defaults.html')"
   ]
  },
  {
   "cell_type": "code",
   "execution_count": 6,
   "metadata": {},
   "outputs": [
    {
     "data": {
      "text/plain": [
       "LIMIT_BAL                    -0.153520\n",
       "SEX                          -0.039961\n",
       "EDUCATION                     0.028006\n",
       "MARRIAGE                     -0.024339\n",
       "AGE                           0.013890\n",
       "PAY_0                         0.324794\n",
       "PAY_2                         0.263551\n",
       "PAY_3                         0.235253\n",
       "PAY_4                         0.216614\n",
       "PAY_5                         0.204149\n",
       "PAY_6                         0.186866\n",
       "BILL_AMT1                    -0.019644\n",
       "BILL_AMT2                    -0.014193\n",
       "BILL_AMT3                    -0.014076\n",
       "BILL_AMT4                    -0.010156\n",
       "BILL_AMT5                    -0.006760\n",
       "BILL_AMT6                    -0.005372\n",
       "PAY_AMT1                     -0.072929\n",
       "PAY_AMT2                     -0.058579\n",
       "PAY_AMT3                     -0.056250\n",
       "PAY_AMT4                     -0.056827\n",
       "PAY_AMT5                     -0.055124\n",
       "PAY_AMT6                     -0.053183\n",
       "default payment next month    1.000000\n",
       "Name: default payment next month, dtype: float64"
      ]
     },
     "execution_count": 6,
     "metadata": {},
     "output_type": "execute_result"
    }
   ],
   "source": [
    "df.corr().loc['default payment next month']"
   ]
  },
  {
   "cell_type": "code",
   "execution_count": 7,
   "metadata": {},
   "outputs": [],
   "source": [
    "train_features = df.drop('default payment next month', axis=1)\n",
    "train_targets = df['default payment next month']"
   ]
  },
  {
   "cell_type": "markdown",
   "metadata": {},
   "source": [
    "### sklearn logistic regression"
   ]
  },
  {
   "cell_type": "code",
   "execution_count": 8,
   "metadata": {
    "scrolled": true
   },
   "outputs": [
    {
     "name": "stderr",
     "output_type": "stream",
     "text": [
      "C:\\Users\\words\\Anaconda3\\envs\\datasci\\lib\\site-packages\\sklearn\\linear_model\\_logistic.py:763: ConvergenceWarning: lbfgs failed to converge (status=1):\n",
      "STOP: TOTAL NO. of ITERATIONS REACHED LIMIT.\n",
      "\n",
      "Increase the number of iterations (max_iter) or scale the data as shown in:\n",
      "    https://scikit-learn.org/stable/modules/preprocessing.html\n",
      "Please also refer to the documentation for alternative solver options:\n",
      "    https://scikit-learn.org/stable/modules/linear_model.html#logistic-regression\n",
      "  n_iter_i = _check_optimize_result(\n"
     ]
    },
    {
     "data": {
      "text/plain": [
       "LogisticRegression()"
      ]
     },
     "execution_count": 8,
     "metadata": {},
     "output_type": "execute_result"
    }
   ],
   "source": [
    "from sklearn.linear_model import LogisticRegression\n",
    "\n",
    "lr_sklearn = LogisticRegression()\n",
    "lr_sklearn.fit(train_features, train_targets)"
   ]
  },
  {
   "cell_type": "code",
   "execution_count": 9,
   "metadata": {},
   "outputs": [
    {
     "data": {
      "text/plain": [
       "0.7788333333333334"
      ]
     },
     "execution_count": 9,
     "metadata": {},
     "output_type": "execute_result"
    }
   ],
   "source": [
    "lr_sklearn.score(train_features, train_targets)"
   ]
  },
  {
   "cell_type": "code",
   "execution_count": 10,
   "metadata": {},
   "outputs": [
    {
     "data": {
      "text/plain": [
       "array([0, 0, 0, ..., 0, 0, 0], dtype=int64)"
      ]
     },
     "execution_count": 10,
     "metadata": {},
     "output_type": "execute_result"
    }
   ],
   "source": [
    "predictions = lr_sklearn.predict(train_features)\n",
    "predictions"
   ]
  },
  {
   "cell_type": "code",
   "execution_count": 11,
   "metadata": {},
   "outputs": [
    {
     "data": {
      "text/plain": [
       "array([0], dtype=int64)"
      ]
     },
     "execution_count": 11,
     "metadata": {},
     "output_type": "execute_result"
    }
   ],
   "source": [
    "lr_sklearn.predict(train_features.iloc[-1].values.reshape(1, -1))"
   ]
  },
  {
   "cell_type": "code",
   "execution_count": 12,
   "metadata": {},
   "outputs": [
    {
     "data": {
      "text/plain": [
       "array([[0.54131094, 0.45868906],\n",
       "       [0.6588108 , 0.3411892 ],\n",
       "       [0.65863874, 0.34136126],\n",
       "       ...,\n",
       "       [0.59330578, 0.40669422],\n",
       "       [0.97733718, 0.02266282],\n",
       "       [0.60781983, 0.39218017]])"
      ]
     },
     "execution_count": 12,
     "metadata": {},
     "output_type": "execute_result"
    }
   ],
   "source": [
    "lr_sklearn.predict_proba(train_features)"
   ]
  },
  {
   "cell_type": "code",
   "execution_count": 13,
   "metadata": {},
   "outputs": [],
   "source": [
    "proba_predictions = lr_sklearn.predict_proba(train_features)[:, 1]\n",
    "proba_predictions = (proba_predictions >= 0.5).astype('int')"
   ]
  },
  {
   "cell_type": "code",
   "execution_count": 14,
   "metadata": {},
   "outputs": [
    {
     "data": {
      "text/plain": [
       "True"
      ]
     },
     "execution_count": 14,
     "metadata": {},
     "output_type": "execute_result"
    }
   ],
   "source": [
    "import numpy as np\n",
    "\n",
    "predictions = lr_sklearn.predict(train_features)\n",
    "np.array_equal(predictions, np.round(proba_predictions))"
   ]
  },
  {
   "cell_type": "markdown",
   "metadata": {},
   "source": [
    "#### Predicting the probability for a single datapoint"
   ]
  },
  {
   "cell_type": "code",
   "execution_count": 15,
   "metadata": {},
   "outputs": [
    {
     "data": {
      "text/plain": [
       "array([[50000,     1,     2,     1,    46,     0,     0,     0,     0,\n",
       "            0,     0, 47929, 48905, 49764, 36535, 32428, 15313,  2078,\n",
       "         1800,  1430,  1000,  1000,  1000]], dtype=int64)"
      ]
     },
     "execution_count": 15,
     "metadata": {},
     "output_type": "execute_result"
    }
   ],
   "source": [
    "train_features.iloc[-1].values.reshape(1, -1)"
   ]
  },
  {
   "cell_type": "code",
   "execution_count": 16,
   "metadata": {},
   "outputs": [
    {
     "data": {
      "text/plain": [
       "1"
      ]
     },
     "execution_count": 16,
     "metadata": {},
     "output_type": "execute_result"
    }
   ],
   "source": [
    "train_targets.iloc[-1]"
   ]
  },
  {
   "cell_type": "code",
   "execution_count": 17,
   "metadata": {},
   "outputs": [
    {
     "data": {
      "text/plain": [
       "array([[0.60781983, 0.39218017]])"
      ]
     },
     "execution_count": 17,
     "metadata": {},
     "output_type": "execute_result"
    }
   ],
   "source": [
    "lr_sklearn.predict_proba(train_features.iloc[-1].values.reshape(1, -1))"
   ]
  },
  {
   "cell_type": "code",
   "execution_count": 18,
   "metadata": {},
   "outputs": [
    {
     "data": {
      "text/plain": [
       "array([-2.24787236e-05])"
      ]
     },
     "execution_count": 18,
     "metadata": {},
     "output_type": "execute_result"
    }
   ],
   "source": [
    "lr_sklearn.intercept_"
   ]
  },
  {
   "cell_type": "code",
   "execution_count": 19,
   "metadata": {},
   "outputs": [
    {
     "data": {
      "text/plain": [
       "array([[-5.06177343e-06, -3.90446868e-05, -4.82745782e-05,\n",
       "        -4.08715527e-05, -6.92322951e-04,  5.07369368e-05,\n",
       "         3.93865772e-05,  3.47618425e-05,  3.27594999e-05,\n",
       "         3.07863744e-05,  2.88064776e-05, -7.78121905e-06,\n",
       "        -1.41072820e-07,  2.43687727e-06,  3.72324127e-06,\n",
       "         2.41691974e-06,  3.86007077e-06, -3.79852820e-05,\n",
       "        -2.65879985e-05, -1.43901048e-05, -1.07653375e-05,\n",
       "        -1.02284404e-05,  4.03456498e-07]])"
      ]
     },
     "execution_count": 19,
     "metadata": {},
     "output_type": "execute_result"
    }
   ],
   "source": [
    "lr_sklearn.coef_"
   ]
  },
  {
   "cell_type": "code",
   "execution_count": 20,
   "metadata": {},
   "outputs": [
    {
     "data": {
      "text/plain": [
       "array([[0.99999494, 0.99996096, 0.99995173, 0.99995913, 0.99930792,\n",
       "        1.00005074, 1.00003939, 1.00003476, 1.00003276, 1.00003079,\n",
       "        1.00002881, 0.99999222, 0.99999986, 1.00000244, 1.00000372,\n",
       "        1.00000242, 1.00000386, 0.99996202, 0.99997341, 0.99998561,\n",
       "        0.99998923, 0.99998977, 1.0000004 ]])"
      ]
     },
     "execution_count": 20,
     "metadata": {},
     "output_type": "execute_result"
    }
   ],
   "source": [
    "np.exp(lr_sklearn.coef_)"
   ]
  },
  {
   "cell_type": "markdown",
   "metadata": {},
   "source": [
    "### Re-fit to scaled data, then plot feature importances"
   ]
  },
  {
   "cell_type": "code",
   "execution_count": 21,
   "metadata": {},
   "outputs": [
    {
     "data": {
      "image/png": "[encoded data removed]",
      "text/plain": [
       "<Figure size 396x396 with 1 Axes>"
      ]
     },
     "metadata": {},
     "output_type": "display_data"
    }
   ],
   "source": [
    "from sklearn.preprocessing import StandardScaler\n",
    "import matplotlib.pyplot as plt\n",
    "\n",
    "scaler = StandardScaler()\n",
    "scaled_features = scaler.fit_transform(train_features)\n",
    "scaled_lr_model = LogisticRegression(random_state=42)\n",
    "scaled_lr_model.fit(scaled_features, train_targets)\n",
    "\n",
    "logit_coef = np.exp(scaled_lr_model.coef_[0]) - 1\n",
    "idx = abs(logit_coef).argsort()[::-1]\n",
    "f = plt.figure(figsize=(5.5, 5.5))\n",
    "plt.bar(range(len(idx)), logit_coef[idx])\n",
    "_ = plt.xticks(range(len(idx)), train_features.columns[idx], rotation=90)\n",
    "plt.tight_layout()\n",
    "plt.savefig('B17030_11_02.png', dpi=300)"
   ]
  },
  {
   "cell_type": "markdown",
   "metadata": {},
   "source": [
    "### Statsmodels logistic regression"
   ]
  },
  {
   "cell_type": "code",
   "execution_count": 22,
   "metadata": {
    "scrolled": true
   },
   "outputs": [
    {
     "name": "stdout",
     "output_type": "stream",
     "text": [
      "Optimization terminated successfully.\n",
      "         Current function value: 0.464620\n",
      "         Iterations 7\n"
     ]
    },
    {
     "data": {
      "text/html": [
       "<table class=\"simpletable\">\n",
       "<caption>Logit Regression Results</caption>\n",
       "<tr>\n",
       "  <th>Dep. Variable:</th>   <td>default payment next month</td> <th>  No. Observations:  </th>  <td> 30000</td> \n",
       "</tr>\n",
       "<tr>\n",
       "  <th>Model:</th>                      <td>Logit</td>           <th>  Df Residuals:      </th>  <td> 29976</td> \n",
       "</tr>\n",
       "<tr>\n",
       "  <th>Method:</th>                      <td>MLE</td>            <th>  Df Model:          </th>  <td>    23</td> \n",
       "</tr>\n",
       "<tr>\n",
       "  <th>Date:</th>                 <td>Mon, 29 Mar 2021</td>      <th>  Pseudo R-squ.:     </th>  <td>0.1207</td> \n",
       "</tr>\n",
       "<tr>\n",
       "  <th>Time:</th>                     <td>21:09:56</td>          <th>  Log-Likelihood:    </th> <td> -13939.</td>\n",
       "</tr>\n",
       "<tr>\n",
       "  <th>converged:</th>                  <td>True</td>            <th>  LL-Null:           </th> <td> -15853.</td>\n",
       "</tr>\n",
       "<tr>\n",
       "  <th>Covariance Type:</th>          <td>nonrobust</td>         <th>  LLR p-value:       </th>  <td> 0.000</td> \n",
       "</tr>\n",
       "</table>\n",
       "<table class=\"simpletable\">\n",
       "<tr>\n",
       "      <td></td>         <th>coef</th>     <th>std err</th>      <th>z</th>      <th>P>|z|</th>  <th>[0.025</th>    <th>0.975]</th>  \n",
       "</tr>\n",
       "<tr>\n",
       "  <th>const</th>     <td>   -0.6863</td> <td>    0.119</td> <td>   -5.784</td> <td> 0.000</td> <td>   -0.919</td> <td>   -0.454</td>\n",
       "</tr>\n",
       "<tr>\n",
       "  <th>LIMIT_BAL</th> <td>-7.623e-07</td> <td> 1.57e-07</td> <td>   -4.859</td> <td> 0.000</td> <td>-1.07e-06</td> <td>-4.55e-07</td>\n",
       "</tr>\n",
       "<tr>\n",
       "  <th>SEX</th>       <td>   -0.1087</td> <td>    0.031</td> <td>   -3.541</td> <td> 0.000</td> <td>   -0.169</td> <td>   -0.049</td>\n",
       "</tr>\n",
       "<tr>\n",
       "  <th>EDUCATION</th> <td>   -0.1016</td> <td>    0.021</td> <td>   -4.844</td> <td> 0.000</td> <td>   -0.143</td> <td>   -0.060</td>\n",
       "</tr>\n",
       "<tr>\n",
       "  <th>MARRIAGE</th>  <td>   -0.1544</td> <td>    0.032</td> <td>   -4.869</td> <td> 0.000</td> <td>   -0.216</td> <td>   -0.092</td>\n",
       "</tr>\n",
       "<tr>\n",
       "  <th>AGE</th>       <td>    0.0074</td> <td>    0.002</td> <td>    4.170</td> <td> 0.000</td> <td>    0.004</td> <td>    0.011</td>\n",
       "</tr>\n",
       "<tr>\n",
       "  <th>PAY_0</th>     <td>    0.5774</td> <td>    0.018</td> <td>   32.632</td> <td> 0.000</td> <td>    0.543</td> <td>    0.612</td>\n",
       "</tr>\n",
       "<tr>\n",
       "  <th>PAY_2</th>     <td>    0.0828</td> <td>    0.020</td> <td>    4.103</td> <td> 0.000</td> <td>    0.043</td> <td>    0.122</td>\n",
       "</tr>\n",
       "<tr>\n",
       "  <th>PAY_3</th>     <td>    0.0721</td> <td>    0.023</td> <td>    3.192</td> <td> 0.001</td> <td>    0.028</td> <td>    0.116</td>\n",
       "</tr>\n",
       "<tr>\n",
       "  <th>PAY_4</th>     <td>    0.0239</td> <td>    0.025</td> <td>    0.956</td> <td> 0.339</td> <td>   -0.025</td> <td>    0.073</td>\n",
       "</tr>\n",
       "<tr>\n",
       "  <th>PAY_5</th>     <td>    0.0340</td> <td>    0.027</td> <td>    1.266</td> <td> 0.206</td> <td>   -0.019</td> <td>    0.087</td>\n",
       "</tr>\n",
       "<tr>\n",
       "  <th>PAY_6</th>     <td>    0.0080</td> <td>    0.022</td> <td>    0.363</td> <td> 0.716</td> <td>   -0.035</td> <td>    0.051</td>\n",
       "</tr>\n",
       "<tr>\n",
       "  <th>BILL_AMT1</th> <td>-5.492e-06</td> <td> 1.14e-06</td> <td>   -4.835</td> <td> 0.000</td> <td>-7.72e-06</td> <td>-3.27e-06</td>\n",
       "</tr>\n",
       "<tr>\n",
       "  <th>BILL_AMT2</th> <td> 2.356e-06</td> <td>  1.5e-06</td> <td>    1.566</td> <td> 0.117</td> <td>-5.92e-07</td> <td>  5.3e-06</td>\n",
       "</tr>\n",
       "<tr>\n",
       "  <th>BILL_AMT3</th> <td> 1.365e-06</td> <td> 1.32e-06</td> <td>    1.032</td> <td> 0.302</td> <td>-1.23e-06</td> <td> 3.96e-06</td>\n",
       "</tr>\n",
       "<tr>\n",
       "  <th>BILL_AMT4</th> <td>-1.821e-07</td> <td> 1.35e-06</td> <td>   -0.135</td> <td> 0.893</td> <td>-2.83e-06</td> <td> 2.46e-06</td>\n",
       "</tr>\n",
       "<tr>\n",
       "  <th>BILL_AMT5</th> <td> 6.155e-07</td> <td> 1.52e-06</td> <td>    0.405</td> <td> 0.685</td> <td>-2.36e-06</td> <td> 3.59e-06</td>\n",
       "</tr>\n",
       "<tr>\n",
       "  <th>BILL_AMT6</th> <td> 3.938e-07</td> <td> 1.19e-06</td> <td>    0.330</td> <td> 0.742</td> <td>-1.95e-06</td> <td> 2.74e-06</td>\n",
       "</tr>\n",
       "<tr>\n",
       "  <th>PAY_AMT1</th>  <td>-1.363e-05</td> <td> 2.31e-06</td> <td>   -5.913</td> <td> 0.000</td> <td>-1.81e-05</td> <td>-9.11e-06</td>\n",
       "</tr>\n",
       "<tr>\n",
       "  <th>PAY_AMT2</th>  <td>-9.616e-06</td> <td> 2.09e-06</td> <td>   -4.590</td> <td> 0.000</td> <td>-1.37e-05</td> <td>-5.51e-06</td>\n",
       "</tr>\n",
       "<tr>\n",
       "  <th>PAY_AMT3</th>  <td>-2.742e-06</td> <td> 1.72e-06</td> <td>   -1.592</td> <td> 0.111</td> <td>-6.12e-06</td> <td> 6.34e-07</td>\n",
       "</tr>\n",
       "<tr>\n",
       "  <th>PAY_AMT4</th>  <td>-4.023e-06</td> <td> 1.78e-06</td> <td>   -2.254</td> <td> 0.024</td> <td>-7.52e-06</td> <td>-5.25e-07</td>\n",
       "</tr>\n",
       "<tr>\n",
       "  <th>PAY_AMT5</th>  <td>-3.311e-06</td> <td> 1.78e-06</td> <td>   -1.864</td> <td> 0.062</td> <td>-6.79e-06</td> <td> 1.71e-07</td>\n",
       "</tr>\n",
       "<tr>\n",
       "  <th>PAY_AMT6</th>  <td>-2.064e-06</td> <td>  1.3e-06</td> <td>   -1.593</td> <td> 0.111</td> <td> -4.6e-06</td> <td> 4.76e-07</td>\n",
       "</tr>\n",
       "</table>"
      ],
      "text/plain": [
       "<class 'statsmodels.iolib.summary.Summary'>\n",
       "\"\"\"\n",
       "                               Logit Regression Results                               \n",
       "======================================================================================\n",
       "Dep. Variable:     default payment next month   No. Observations:                30000\n",
       "Model:                                  Logit   Df Residuals:                    29976\n",
       "Method:                                   MLE   Df Model:                           23\n",
       "Date:                        Mon, 29 Mar 2021   Pseudo R-squ.:                  0.1207\n",
       "Time:                                21:09:56   Log-Likelihood:                -13939.\n",
       "converged:                               True   LL-Null:                       -15853.\n",
       "Covariance Type:                    nonrobust   LLR p-value:                     0.000\n",
       "==============================================================================\n",
       "                 coef    std err          z      P>|z|      [0.025      0.975]\n",
       "------------------------------------------------------------------------------\n",
       "const         -0.6863      0.119     -5.784      0.000      -0.919      -0.454\n",
       "LIMIT_BAL  -7.623e-07   1.57e-07     -4.859      0.000   -1.07e-06   -4.55e-07\n",
       "SEX           -0.1087      0.031     -3.541      0.000      -0.169      -0.049\n",
       "EDUCATION     -0.1016      0.021     -4.844      0.000      -0.143      -0.060\n",
       "MARRIAGE      -0.1544      0.032     -4.869      0.000      -0.216      -0.092\n",
       "AGE            0.0074      0.002      4.170      0.000       0.004       0.011\n",
       "PAY_0          0.5774      0.018     32.632      0.000       0.543       0.612\n",
       "PAY_2          0.0828      0.020      4.103      0.000       0.043       0.122\n",
       "PAY_3          0.0721      0.023      3.192      0.001       0.028       0.116\n",
       "PAY_4          0.0239      0.025      0.956      0.339      -0.025       0.073\n",
       "PAY_5          0.0340      0.027      1.266      0.206      -0.019       0.087\n",
       "PAY_6          0.0080      0.022      0.363      0.716      -0.035       0.051\n",
       "BILL_AMT1  -5.492e-06   1.14e-06     -4.835      0.000   -7.72e-06   -3.27e-06\n",
       "BILL_AMT2   2.356e-06    1.5e-06      1.566      0.117   -5.92e-07     5.3e-06\n",
       "BILL_AMT3   1.365e-06   1.32e-06      1.032      0.302   -1.23e-06    3.96e-06\n",
       "BILL_AMT4  -1.821e-07   1.35e-06     -0.135      0.893   -2.83e-06    2.46e-06\n",
       "BILL_AMT5   6.155e-07   1.52e-06      0.405      0.685   -2.36e-06    3.59e-06\n",
       "BILL_AMT6   3.938e-07   1.19e-06      0.330      0.742   -1.95e-06    2.74e-06\n",
       "PAY_AMT1   -1.363e-05   2.31e-06     -5.913      0.000   -1.81e-05   -9.11e-06\n",
       "PAY_AMT2   -9.616e-06   2.09e-06     -4.590      0.000   -1.37e-05   -5.51e-06\n",
       "PAY_AMT3   -2.742e-06   1.72e-06     -1.592      0.111   -6.12e-06    6.34e-07\n",
       "PAY_AMT4   -4.023e-06   1.78e-06     -2.254      0.024   -7.52e-06   -5.25e-07\n",
       "PAY_AMT5   -3.311e-06   1.78e-06     -1.864      0.062   -6.79e-06    1.71e-07\n",
       "PAY_AMT6   -2.064e-06    1.3e-06     -1.593      0.111    -4.6e-06    4.76e-07\n",
       "==============================================================================\n",
       "\"\"\""
      ]
     },
     "execution_count": 22,
     "metadata": {},
     "output_type": "execute_result"
    }
   ],
   "source": [
    "import statsmodels.api as sm\n",
    "\n",
    "lr_model = sm.Logit(train_targets, sm.add_constant(train_features))\n",
    "lr_results = lr_model.fit()\n",
    "lr_results.summary()"
   ]
  },
  {
   "cell_type": "code",
   "execution_count": 23,
   "metadata": {
    "scrolled": true
   },
   "outputs": [
    {
     "data": {
      "text/html": [
       "<table class=\"simpletable\">\n",
       "<tr>\n",
       "        <td>Model:</td>                   <td>Logit</td>           <td>Pseudo R-squared:</td>    <td>0.121</td>  \n",
       "</tr>\n",
       "<tr>\n",
       "  <td>Dependent Variable:</td> <td>default payment next month</td>       <td>AIC:</td>        <td>27925.2001</td>\n",
       "</tr>\n",
       "<tr>\n",
       "         <td>Date:</td>             <td>2021-03-29 21:09</td>            <td>BIC:</td>        <td>28124.6150</td>\n",
       "</tr>\n",
       "<tr>\n",
       "   <td>No. Observations:</td>             <td>30000</td>            <td>Log-Likelihood:</td>    <td>-13939.</td> \n",
       "</tr>\n",
       "<tr>\n",
       "       <td>Df Model:</td>                  <td>23</td>                 <td>LL-Null:</td>        <td>-15853.</td> \n",
       "</tr>\n",
       "<tr>\n",
       "     <td>Df Residuals:</td>               <td>29976</td>             <td>LLR p-value:</td>      <td>0.0000</td>  \n",
       "</tr>\n",
       "<tr>\n",
       "      <td>Converged:</td>                <td>1.0000</td>                <td>Scale:</td>         <td>1.0000</td>  \n",
       "</tr>\n",
       "<tr>\n",
       "    <td>No. Iterations:</td>             <td>7.0000</td>                   <td></td>               <td></td>     \n",
       "</tr>\n",
       "</table>\n",
       "<table class=\"simpletable\">\n",
       "<tr>\n",
       "      <td></td>       <th>Coef.</th>  <th>Std.Err.</th>    <th>z</th>     <th>P>|z|</th> <th>[0.025</th>  <th>0.975]</th> \n",
       "</tr>\n",
       "<tr>\n",
       "  <th>const</th>     <td>-0.6863</td>  <td>0.1187</td>  <td>-5.7838</td> <td>0.0000</td> <td>-0.9188</td> <td>-0.4537</td>\n",
       "</tr>\n",
       "<tr>\n",
       "  <th>LIMIT_BAL</th> <td>-0.0000</td>  <td>0.0000</td>  <td>-4.8587</td> <td>0.0000</td> <td>-0.0000</td> <td>-0.0000</td>\n",
       "</tr>\n",
       "<tr>\n",
       "  <th>SEX</th>       <td>-0.1087</td>  <td>0.0307</td>  <td>-3.5408</td> <td>0.0004</td> <td>-0.1688</td> <td>-0.0485</td>\n",
       "</tr>\n",
       "<tr>\n",
       "  <th>EDUCATION</th> <td>-0.1016</td>  <td>0.0210</td>  <td>-4.8444</td> <td>0.0000</td> <td>-0.1427</td> <td>-0.0605</td>\n",
       "</tr>\n",
       "<tr>\n",
       "  <th>MARRIAGE</th>  <td>-0.1544</td>  <td>0.0317</td>  <td>-4.8687</td> <td>0.0000</td> <td>-0.2165</td> <td>-0.0922</td>\n",
       "</tr>\n",
       "<tr>\n",
       "  <th>AGE</th>       <td>0.0074</td>   <td>0.0018</td>  <td>4.1703</td>  <td>0.0000</td> <td>0.0039</td>  <td>0.0109</td> \n",
       "</tr>\n",
       "<tr>\n",
       "  <th>PAY_0</th>     <td>0.5774</td>   <td>0.0177</td>  <td>32.6324</td> <td>0.0000</td> <td>0.5427</td>  <td>0.6121</td> \n",
       "</tr>\n",
       "<tr>\n",
       "  <th>PAY_2</th>     <td>0.0828</td>   <td>0.0202</td>  <td>4.1033</td>  <td>0.0000</td> <td>0.0433</td>  <td>0.1224</td> \n",
       "</tr>\n",
       "<tr>\n",
       "  <th>PAY_3</th>     <td>0.0721</td>   <td>0.0226</td>  <td>3.1915</td>  <td>0.0014</td> <td>0.0278</td>  <td>0.1164</td> \n",
       "</tr>\n",
       "<tr>\n",
       "  <th>PAY_4</th>     <td>0.0239</td>   <td>0.0250</td>  <td>0.9555</td>  <td>0.3393</td> <td>-0.0251</td> <td>0.0729</td> \n",
       "</tr>\n",
       "<tr>\n",
       "  <th>PAY_5</th>     <td>0.0340</td>   <td>0.0269</td>  <td>1.2655</td>  <td>0.2057</td> <td>-0.0187</td> <td>0.0867</td> \n",
       "</tr>\n",
       "<tr>\n",
       "  <th>PAY_6</th>     <td>0.0080</td>   <td>0.0221</td>  <td>0.3632</td>  <td>0.7164</td> <td>-0.0353</td> <td>0.0514</td> \n",
       "</tr>\n",
       "<tr>\n",
       "  <th>BILL_AMT1</th> <td>-0.0000</td>  <td>0.0000</td>  <td>-4.8352</td> <td>0.0000</td> <td>-0.0000</td> <td>-0.0000</td>\n",
       "</tr>\n",
       "<tr>\n",
       "  <th>BILL_AMT2</th> <td>0.0000</td>   <td>0.0000</td>  <td>1.5663</td>  <td>0.1173</td> <td>-0.0000</td> <td>0.0000</td> \n",
       "</tr>\n",
       "<tr>\n",
       "  <th>BILL_AMT3</th> <td>0.0000</td>   <td>0.0000</td>  <td>1.0320</td>  <td>0.3021</td> <td>-0.0000</td> <td>0.0000</td> \n",
       "</tr>\n",
       "<tr>\n",
       "  <th>BILL_AMT4</th> <td>-0.0000</td>  <td>0.0000</td>  <td>-0.1350</td> <td>0.8926</td> <td>-0.0000</td> <td>0.0000</td> \n",
       "</tr>\n",
       "<tr>\n",
       "  <th>BILL_AMT5</th> <td>0.0000</td>   <td>0.0000</td>  <td>0.4053</td>  <td>0.6852</td> <td>-0.0000</td> <td>0.0000</td> \n",
       "</tr>\n",
       "<tr>\n",
       "  <th>BILL_AMT6</th> <td>0.0000</td>   <td>0.0000</td>  <td>0.3296</td>  <td>0.7417</td> <td>-0.0000</td> <td>0.0000</td> \n",
       "</tr>\n",
       "<tr>\n",
       "  <th>PAY_AMT1</th>  <td>-0.0000</td>  <td>0.0000</td>  <td>-5.9131</td> <td>0.0000</td> <td>-0.0000</td> <td>-0.0000</td>\n",
       "</tr>\n",
       "<tr>\n",
       "  <th>PAY_AMT2</th>  <td>-0.0000</td>  <td>0.0000</td>  <td>-4.5903</td> <td>0.0000</td> <td>-0.0000</td> <td>-0.0000</td>\n",
       "</tr>\n",
       "<tr>\n",
       "  <th>PAY_AMT3</th>  <td>-0.0000</td>  <td>0.0000</td>  <td>-1.5917</td> <td>0.1115</td> <td>-0.0000</td> <td>0.0000</td> \n",
       "</tr>\n",
       "<tr>\n",
       "  <th>PAY_AMT4</th>  <td>-0.0000</td>  <td>0.0000</td>  <td>-2.2542</td> <td>0.0242</td> <td>-0.0000</td> <td>-0.0000</td>\n",
       "</tr>\n",
       "<tr>\n",
       "  <th>PAY_AMT5</th>  <td>-0.0000</td>  <td>0.0000</td>  <td>-1.8635</td> <td>0.0624</td> <td>-0.0000</td> <td>0.0000</td> \n",
       "</tr>\n",
       "<tr>\n",
       "  <th>PAY_AMT6</th>  <td>-0.0000</td>  <td>0.0000</td>  <td>-1.5928</td> <td>0.1112</td> <td>-0.0000</td> <td>0.0000</td> \n",
       "</tr>\n",
       "</table>"
      ],
      "text/plain": [
       "<class 'statsmodels.iolib.summary2.Summary'>\n",
       "\"\"\"\n",
       "                              Results: Logit\n",
       "===========================================================================\n",
       "Model:              Logit                      Pseudo R-squared: 0.121     \n",
       "Dependent Variable: default payment next month AIC:              27925.2001\n",
       "Date:               2021-03-29 21:09           BIC:              28124.6150\n",
       "No. Observations:   30000                      Log-Likelihood:   -13939.   \n",
       "Df Model:           23                         LL-Null:          -15853.   \n",
       "Df Residuals:       29976                      LLR p-value:      0.0000    \n",
       "Converged:          1.0000                     Scale:            1.0000    \n",
       "No. Iterations:     7.0000                                                 \n",
       "------------------------------------------------------------------------------\n",
       "                 Coef.     Std.Err.       z       P>|z|      [0.025     0.975]\n",
       "------------------------------------------------------------------------------\n",
       "const           -0.6863      0.1187    -5.7838    0.0000    -0.9188    -0.4537\n",
       "LIMIT_BAL       -0.0000      0.0000    -4.8587    0.0000    -0.0000    -0.0000\n",
       "SEX             -0.1087      0.0307    -3.5408    0.0004    -0.1688    -0.0485\n",
       "EDUCATION       -0.1016      0.0210    -4.8444    0.0000    -0.1427    -0.0605\n",
       "MARRIAGE        -0.1544      0.0317    -4.8687    0.0000    -0.2165    -0.0922\n",
       "AGE              0.0074      0.0018     4.1703    0.0000     0.0039     0.0109\n",
       "PAY_0            0.5774      0.0177    32.6324    0.0000     0.5427     0.6121\n",
       "PAY_2            0.0828      0.0202     4.1033    0.0000     0.0433     0.1224\n",
       "PAY_3            0.0721      0.0226     3.1915    0.0014     0.0278     0.1164\n",
       "PAY_4            0.0239      0.0250     0.9555    0.3393    -0.0251     0.0729\n",
       "PAY_5            0.0340      0.0269     1.2655    0.2057    -0.0187     0.0867\n",
       "PAY_6            0.0080      0.0221     0.3632    0.7164    -0.0353     0.0514\n",
       "BILL_AMT1       -0.0000      0.0000    -4.8352    0.0000    -0.0000    -0.0000\n",
       "BILL_AMT2        0.0000      0.0000     1.5663    0.1173    -0.0000     0.0000\n",
       "BILL_AMT3        0.0000      0.0000     1.0320    0.3021    -0.0000     0.0000\n",
       "BILL_AMT4       -0.0000      0.0000    -0.1350    0.8926    -0.0000     0.0000\n",
       "BILL_AMT5        0.0000      0.0000     0.4053    0.6852    -0.0000     0.0000\n",
       "BILL_AMT6        0.0000      0.0000     0.3296    0.7417    -0.0000     0.0000\n",
       "PAY_AMT1        -0.0000      0.0000    -5.9131    0.0000    -0.0000    -0.0000\n",
       "PAY_AMT2        -0.0000      0.0000    -4.5903    0.0000    -0.0000    -0.0000\n",
       "PAY_AMT3        -0.0000      0.0000    -1.5917    0.1115    -0.0000     0.0000\n",
       "PAY_AMT4        -0.0000      0.0000    -2.2542    0.0242    -0.0000    -0.0000\n",
       "PAY_AMT5        -0.0000      0.0000    -1.8635    0.0624    -0.0000     0.0000\n",
       "PAY_AMT6        -0.0000      0.0000    -1.5928    0.1112    -0.0000     0.0000\n",
       "===========================================================================\n",
       "\n",
       "\"\"\""
      ]
     },
     "execution_count": 23,
     "metadata": {},
     "output_type": "execute_result"
    }
   ],
   "source": [
    "lr_results.summary2()"
   ]
  },
  {
   "cell_type": "code",
   "execution_count": 24,
   "metadata": {
    "scrolled": true
   },
   "outputs": [
    {
     "name": "stdout",
     "output_type": "stream",
     "text": [
      "Optimization terminated successfully.\n",
      "         Current function value: 0.465428\n",
      "         Iterations 7\n"
     ]
    },
    {
     "data": {
      "text/html": [
       "<table class=\"simpletable\">\n",
       "<caption>Logit Regression Results</caption>\n",
       "<tr>\n",
       "  <th>Dep. Variable:</th>   <td>default payment next month</td> <th>  No. Observations:  </th>  <td> 30000</td> \n",
       "</tr>\n",
       "<tr>\n",
       "  <th>Model:</th>                      <td>Logit</td>           <th>  Df Residuals:      </th>  <td> 29987</td> \n",
       "</tr>\n",
       "<tr>\n",
       "  <th>Method:</th>                      <td>MLE</td>            <th>  Df Model:          </th>  <td>    12</td> \n",
       "</tr>\n",
       "<tr>\n",
       "  <th>Date:</th>                 <td>Mon, 29 Mar 2021</td>      <th>  Pseudo R-squ.:     </th>  <td>0.1192</td> \n",
       "</tr>\n",
       "<tr>\n",
       "  <th>Time:</th>                     <td>21:09:57</td>          <th>  Log-Likelihood:    </th> <td> -13963.</td>\n",
       "</tr>\n",
       "<tr>\n",
       "  <th>converged:</th>                  <td>True</td>            <th>  LL-Null:           </th> <td> -15853.</td>\n",
       "</tr>\n",
       "<tr>\n",
       "  <th>Covariance Type:</th>          <td>nonrobust</td>         <th>  LLR p-value:       </th>  <td> 0.000</td> \n",
       "</tr>\n",
       "</table>\n",
       "<table class=\"simpletable\">\n",
       "<tr>\n",
       "      <td></td>         <th>coef</th>     <th>std err</th>      <th>z</th>      <th>P>|z|</th>  <th>[0.025</th>    <th>0.975]</th>  \n",
       "</tr>\n",
       "<tr>\n",
       "  <th>const</th>     <td>   -0.7030</td> <td>    0.118</td> <td>   -5.936</td> <td> 0.000</td> <td>   -0.935</td> <td>   -0.471</td>\n",
       "</tr>\n",
       "<tr>\n",
       "  <th>LIMIT_BAL</th> <td> -8.98e-07</td> <td> 1.53e-07</td> <td>   -5.889</td> <td> 0.000</td> <td> -1.2e-06</td> <td>-5.99e-07</td>\n",
       "</tr>\n",
       "<tr>\n",
       "  <th>SEX</th>       <td>   -0.1048</td> <td>    0.031</td> <td>   -3.419</td> <td> 0.001</td> <td>   -0.165</td> <td>   -0.045</td>\n",
       "</tr>\n",
       "<tr>\n",
       "  <th>EDUCATION</th> <td>   -0.1044</td> <td>    0.021</td> <td>   -4.994</td> <td> 0.000</td> <td>   -0.145</td> <td>   -0.063</td>\n",
       "</tr>\n",
       "<tr>\n",
       "  <th>MARRIAGE</th>  <td>   -0.1572</td> <td>    0.032</td> <td>   -4.966</td> <td> 0.000</td> <td>   -0.219</td> <td>   -0.095</td>\n",
       "</tr>\n",
       "<tr>\n",
       "  <th>AGE</th>       <td>    0.0076</td> <td>    0.002</td> <td>    4.260</td> <td> 0.000</td> <td>    0.004</td> <td>    0.011</td>\n",
       "</tr>\n",
       "<tr>\n",
       "  <th>PAY_0</th>     <td>    0.5920</td> <td>    0.018</td> <td>   33.765</td> <td> 0.000</td> <td>    0.558</td> <td>    0.626</td>\n",
       "</tr>\n",
       "<tr>\n",
       "  <th>PAY_2</th>     <td>    0.0848</td> <td>    0.020</td> <td>    4.257</td> <td> 0.000</td> <td>    0.046</td> <td>    0.124</td>\n",
       "</tr>\n",
       "<tr>\n",
       "  <th>PAY_3</th>     <td>    0.1200</td> <td>    0.018</td> <td>    6.525</td> <td> 0.000</td> <td>    0.084</td> <td>    0.156</td>\n",
       "</tr>\n",
       "<tr>\n",
       "  <th>BILL_AMT1</th> <td>-1.766e-06</td> <td> 2.64e-07</td> <td>   -6.690</td> <td> 0.000</td> <td>-2.28e-06</td> <td>-1.25e-06</td>\n",
       "</tr>\n",
       "<tr>\n",
       "  <th>PAY_AMT1</th>  <td>-1.169e-05</td> <td> 2.08e-06</td> <td>   -5.624</td> <td> 0.000</td> <td>-1.58e-05</td> <td>-7.61e-06</td>\n",
       "</tr>\n",
       "<tr>\n",
       "  <th>PAY_AMT2</th>  <td>-8.209e-06</td> <td> 1.79e-06</td> <td>   -4.577</td> <td> 0.000</td> <td>-1.17e-05</td> <td>-4.69e-06</td>\n",
       "</tr>\n",
       "<tr>\n",
       "  <th>PAY_AMT4</th>  <td>-4.396e-06</td> <td> 1.55e-06</td> <td>   -2.834</td> <td> 0.005</td> <td>-7.44e-06</td> <td>-1.36e-06</td>\n",
       "</tr>\n",
       "</table>"
      ],
      "text/plain": [
       "<class 'statsmodels.iolib.summary.Summary'>\n",
       "\"\"\"\n",
       "                               Logit Regression Results                               \n",
       "======================================================================================\n",
       "Dep. Variable:     default payment next month   No. Observations:                30000\n",
       "Model:                                  Logit   Df Residuals:                    29987\n",
       "Method:                                   MLE   Df Model:                           12\n",
       "Date:                        Mon, 29 Mar 2021   Pseudo R-squ.:                  0.1192\n",
       "Time:                                21:09:57   Log-Likelihood:                -13963.\n",
       "converged:                               True   LL-Null:                       -15853.\n",
       "Covariance Type:                    nonrobust   LLR p-value:                     0.000\n",
       "==============================================================================\n",
       "                 coef    std err          z      P>|z|      [0.025      0.975]\n",
       "------------------------------------------------------------------------------\n",
       "const         -0.7030      0.118     -5.936      0.000      -0.935      -0.471\n",
       "LIMIT_BAL   -8.98e-07   1.53e-07     -5.889      0.000    -1.2e-06   -5.99e-07\n",
       "SEX           -0.1048      0.031     -3.419      0.001      -0.165      -0.045\n",
       "EDUCATION     -0.1044      0.021     -4.994      0.000      -0.145      -0.063\n",
       "MARRIAGE      -0.1572      0.032     -4.966      0.000      -0.219      -0.095\n",
       "AGE            0.0076      0.002      4.260      0.000       0.004       0.011\n",
       "PAY_0          0.5920      0.018     33.765      0.000       0.558       0.626\n",
       "PAY_2          0.0848      0.020      4.257      0.000       0.046       0.124\n",
       "PAY_3          0.1200      0.018      6.525      0.000       0.084       0.156\n",
       "BILL_AMT1  -1.766e-06   2.64e-07     -6.690      0.000   -2.28e-06   -1.25e-06\n",
       "PAY_AMT1   -1.169e-05   2.08e-06     -5.624      0.000   -1.58e-05   -7.61e-06\n",
       "PAY_AMT2   -8.209e-06   1.79e-06     -4.577      0.000   -1.17e-05   -4.69e-06\n",
       "PAY_AMT4   -4.396e-06   1.55e-06     -2.834      0.005   -7.44e-06   -1.36e-06\n",
       "==============================================================================\n",
       "\"\"\""
      ]
     },
     "execution_count": 24,
     "metadata": {},
     "output_type": "execute_result"
    }
   ],
   "source": [
    "selected_features = sm.add_constant(\n",
    "    train_features).loc[:, lr_results.pvalues < 0.05]\n",
    "lr_model_trimmed = sm.Logit(train_targets, selected_features)\n",
    "lr_trimmed_results = lr_model_trimmed.fit()\n",
    "lr_trimmed_results.summary()"
   ]
  },
  {
   "cell_type": "code",
   "execution_count": 25,
   "metadata": {
    "scrolled": true
   },
   "outputs": [
    {
     "data": {
      "text/html": [
       "<table class=\"simpletable\">\n",
       "<tr>\n",
       "        <td>Model:</td>                   <td>Logit</td>           <td>Pseudo R-squared:</td>    <td>0.119</td>  \n",
       "</tr>\n",
       "<tr>\n",
       "  <td>Dependent Variable:</td> <td>default payment next month</td>       <td>AIC:</td>        <td>27951.6577</td>\n",
       "</tr>\n",
       "<tr>\n",
       "         <td>Date:</td>             <td>2021-03-29 21:09</td>            <td>BIC:</td>        <td>28059.6741</td>\n",
       "</tr>\n",
       "<tr>\n",
       "   <td>No. Observations:</td>             <td>30000</td>            <td>Log-Likelihood:</td>    <td>-13963.</td> \n",
       "</tr>\n",
       "<tr>\n",
       "       <td>Df Model:</td>                  <td>12</td>                 <td>LL-Null:</td>        <td>-15853.</td> \n",
       "</tr>\n",
       "<tr>\n",
       "     <td>Df Residuals:</td>               <td>29987</td>             <td>LLR p-value:</td>      <td>0.0000</td>  \n",
       "</tr>\n",
       "<tr>\n",
       "      <td>Converged:</td>                <td>1.0000</td>                <td>Scale:</td>         <td>1.0000</td>  \n",
       "</tr>\n",
       "<tr>\n",
       "    <td>No. Iterations:</td>             <td>7.0000</td>                   <td></td>               <td></td>     \n",
       "</tr>\n",
       "</table>\n",
       "<table class=\"simpletable\">\n",
       "<tr>\n",
       "      <td></td>       <th>Coef.</th>  <th>Std.Err.</th>    <th>z</th>     <th>P>|z|</th> <th>[0.025</th>  <th>0.975]</th> \n",
       "</tr>\n",
       "<tr>\n",
       "  <th>const</th>     <td>-0.7030</td>  <td>0.1184</td>  <td>-5.9358</td> <td>0.0000</td> <td>-0.9351</td> <td>-0.4709</td>\n",
       "</tr>\n",
       "<tr>\n",
       "  <th>LIMIT_BAL</th> <td>-0.0000</td>  <td>0.0000</td>  <td>-5.8885</td> <td>0.0000</td> <td>-0.0000</td> <td>-0.0000</td>\n",
       "</tr>\n",
       "<tr>\n",
       "  <th>SEX</th>       <td>-0.1048</td>  <td>0.0306</td>  <td>-3.4192</td> <td>0.0006</td> <td>-0.1648</td> <td>-0.0447</td>\n",
       "</tr>\n",
       "<tr>\n",
       "  <th>EDUCATION</th> <td>-0.1044</td>  <td>0.0209</td>  <td>-4.9940</td> <td>0.0000</td> <td>-0.1453</td> <td>-0.0634</td>\n",
       "</tr>\n",
       "<tr>\n",
       "  <th>MARRIAGE</th>  <td>-0.1572</td>  <td>0.0317</td>  <td>-4.9659</td> <td>0.0000</td> <td>-0.2192</td> <td>-0.0951</td>\n",
       "</tr>\n",
       "<tr>\n",
       "  <th>AGE</th>       <td>0.0076</td>   <td>0.0018</td>  <td>4.2602</td>  <td>0.0000</td> <td>0.0041</td>  <td>0.0111</td> \n",
       "</tr>\n",
       "<tr>\n",
       "  <th>PAY_0</th>     <td>0.5920</td>   <td>0.0175</td>  <td>33.7648</td> <td>0.0000</td> <td>0.5577</td>  <td>0.6264</td> \n",
       "</tr>\n",
       "<tr>\n",
       "  <th>PAY_2</th>     <td>0.0848</td>   <td>0.0199</td>  <td>4.2571</td>  <td>0.0000</td> <td>0.0458</td>  <td>0.1239</td> \n",
       "</tr>\n",
       "<tr>\n",
       "  <th>PAY_3</th>     <td>0.1200</td>   <td>0.0184</td>  <td>6.5253</td>  <td>0.0000</td> <td>0.0840</td>  <td>0.1561</td> \n",
       "</tr>\n",
       "<tr>\n",
       "  <th>BILL_AMT1</th> <td>-0.0000</td>  <td>0.0000</td>  <td>-6.6899</td> <td>0.0000</td> <td>-0.0000</td> <td>-0.0000</td>\n",
       "</tr>\n",
       "<tr>\n",
       "  <th>PAY_AMT1</th>  <td>-0.0000</td>  <td>0.0000</td>  <td>-5.6240</td> <td>0.0000</td> <td>-0.0000</td> <td>-0.0000</td>\n",
       "</tr>\n",
       "<tr>\n",
       "  <th>PAY_AMT2</th>  <td>-0.0000</td>  <td>0.0000</td>  <td>-4.5775</td> <td>0.0000</td> <td>-0.0000</td> <td>-0.0000</td>\n",
       "</tr>\n",
       "<tr>\n",
       "  <th>PAY_AMT4</th>  <td>-0.0000</td>  <td>0.0000</td>  <td>-2.8337</td> <td>0.0046</td> <td>-0.0000</td> <td>-0.0000</td>\n",
       "</tr>\n",
       "</table>"
      ],
      "text/plain": [
       "<class 'statsmodels.iolib.summary2.Summary'>\n",
       "\"\"\"\n",
       "                              Results: Logit\n",
       "===========================================================================\n",
       "Model:              Logit                      Pseudo R-squared: 0.119     \n",
       "Dependent Variable: default payment next month AIC:              27951.6577\n",
       "Date:               2021-03-29 21:09           BIC:              28059.6741\n",
       "No. Observations:   30000                      Log-Likelihood:   -13963.   \n",
       "Df Model:           12                         LL-Null:          -15853.   \n",
       "Df Residuals:       29987                      LLR p-value:      0.0000    \n",
       "Converged:          1.0000                     Scale:            1.0000    \n",
       "No. Iterations:     7.0000                                                 \n",
       "------------------------------------------------------------------------------\n",
       "                 Coef.     Std.Err.       z       P>|z|      [0.025     0.975]\n",
       "------------------------------------------------------------------------------\n",
       "const           -0.7030      0.1184    -5.9358    0.0000    -0.9351    -0.4709\n",
       "LIMIT_BAL       -0.0000      0.0000    -5.8885    0.0000    -0.0000    -0.0000\n",
       "SEX             -0.1048      0.0306    -3.4192    0.0006    -0.1648    -0.0447\n",
       "EDUCATION       -0.1044      0.0209    -4.9940    0.0000    -0.1453    -0.0634\n",
       "MARRIAGE        -0.1572      0.0317    -4.9659    0.0000    -0.2192    -0.0951\n",
       "AGE              0.0076      0.0018     4.2602    0.0000     0.0041     0.0111\n",
       "PAY_0            0.5920      0.0175    33.7648    0.0000     0.5577     0.6264\n",
       "PAY_2            0.0848      0.0199     4.2571    0.0000     0.0458     0.1239\n",
       "PAY_3            0.1200      0.0184     6.5253    0.0000     0.0840     0.1561\n",
       "BILL_AMT1       -0.0000      0.0000    -6.6899    0.0000    -0.0000    -0.0000\n",
       "PAY_AMT1        -0.0000      0.0000    -5.6240    0.0000    -0.0000    -0.0000\n",
       "PAY_AMT2        -0.0000      0.0000    -4.5775    0.0000    -0.0000    -0.0000\n",
       "PAY_AMT4        -0.0000      0.0000    -2.8337    0.0046    -0.0000    -0.0000\n",
       "===========================================================================\n",
       "\n",
       "\"\"\""
      ]
     },
     "execution_count": 25,
     "metadata": {},
     "output_type": "execute_result"
    }
   ],
   "source": [
    "lr_trimmed_results.summary2()"
   ]
  },
  {
   "cell_type": "code",
   "execution_count": 26,
   "metadata": {},
   "outputs": [
    {
     "data": {
      "text/plain": [
       "ID\n",
       "1        0.526598\n",
       "2        0.143535\n",
       "3        0.206673\n",
       "4        0.236682\n",
       "5        0.132577\n",
       "           ...   \n",
       "29996    0.142965\n",
       "29997    0.109561\n",
       "29998    0.853243\n",
       "29999    0.172265\n",
       "30000    0.269257\n",
       "Length: 30000, dtype: float64"
      ]
     },
     "execution_count": 26,
     "metadata": {},
     "output_type": "execute_result"
    }
   ],
   "source": [
    "lr_trimmed_results.predict(selected_features)"
   ]
  },
  {
   "cell_type": "code",
   "execution_count": 27,
   "metadata": {},
   "outputs": [],
   "source": [
    "predictions = (lr_trimmed_results.predict(\n",
    "    selected_features) > 0.5).astype('int')"
   ]
  },
  {
   "cell_type": "code",
   "execution_count": 28,
   "metadata": {},
   "outputs": [
    {
     "data": {
      "text/plain": [
       "0.8091"
      ]
     },
     "execution_count": 28,
     "metadata": {},
     "output_type": "execute_result"
    }
   ],
   "source": [
    "from sklearn.metrics import accuracy_score\n",
    "\n",
    "accuracy_score(train_targets, predictions)"
   ]
  },
  {
   "cell_type": "markdown",
   "metadata": {},
   "source": [
    "Using the same Newton solver with sklearn yields similar accuracy and coefficients as with statsmodels:"
   ]
  },
  {
   "cell_type": "code",
   "execution_count": 29,
   "metadata": {
    "scrolled": true
   },
   "outputs": [
    {
     "name": "stderr",
     "output_type": "stream",
     "text": [
      "C:\\Users\\words\\Anaconda3\\envs\\datasci\\lib\\site-packages\\scipy\\optimize\\linesearch.py:477: LineSearchWarning: The line search algorithm did not converge\n",
      "  warn('The line search algorithm did not converge', LineSearchWarning)\n",
      "C:\\Users\\words\\Anaconda3\\envs\\datasci\\lib\\site-packages\\scipy\\optimize\\linesearch.py:327: LineSearchWarning: The line search algorithm did not converge\n",
      "  warn('The line search algorithm did not converge', LineSearchWarning)\n",
      "C:\\Users\\words\\Anaconda3\\envs\\datasci\\lib\\site-packages\\scipy\\optimize\\linesearch.py:477: LineSearchWarning: The line search algorithm did not converge\n",
      "  warn('The line search algorithm did not converge', LineSearchWarning)\n",
      "C:\\Users\\words\\Anaconda3\\envs\\datasci\\lib\\site-packages\\scipy\\optimize\\linesearch.py:327: LineSearchWarning: The line search algorithm did not converge\n",
      "  warn('The line search algorithm did not converge', LineSearchWarning)\n",
      "C:\\Users\\words\\Anaconda3\\envs\\datasci\\lib\\site-packages\\scipy\\optimize\\linesearch.py:477: LineSearchWarning: The line search algorithm did not converge\n",
      "  warn('The line search algorithm did not converge', LineSearchWarning)\n",
      "C:\\Users\\words\\Anaconda3\\envs\\datasci\\lib\\site-packages\\scipy\\optimize\\linesearch.py:327: LineSearchWarning: The line search algorithm did not converge\n",
      "  warn('The line search algorithm did not converge', LineSearchWarning)\n",
      "C:\\Users\\words\\Anaconda3\\envs\\datasci\\lib\\site-packages\\scipy\\optimize\\linesearch.py:477: LineSearchWarning: The line search algorithm did not converge\n",
      "  warn('The line search algorithm did not converge', LineSearchWarning)\n",
      "C:\\Users\\words\\Anaconda3\\envs\\datasci\\lib\\site-packages\\scipy\\optimize\\linesearch.py:327: LineSearchWarning: The line search algorithm did not converge\n",
      "  warn('The line search algorithm did not converge', LineSearchWarning)\n",
      "C:\\Users\\words\\Anaconda3\\envs\\datasci\\lib\\site-packages\\scipy\\optimize\\linesearch.py:477: LineSearchWarning: The line search algorithm did not converge\n",
      "  warn('The line search algorithm did not converge', LineSearchWarning)\n",
      "C:\\Users\\words\\Anaconda3\\envs\\datasci\\lib\\site-packages\\scipy\\optimize\\linesearch.py:327: LineSearchWarning: The line search algorithm did not converge\n",
      "  warn('The line search algorithm did not converge', LineSearchWarning)\n",
      "C:\\Users\\words\\Anaconda3\\envs\\datasci\\lib\\site-packages\\scipy\\optimize\\linesearch.py:477: LineSearchWarning: The line search algorithm did not converge\n",
      "  warn('The line search algorithm did not converge', LineSearchWarning)\n",
      "C:\\Users\\words\\Anaconda3\\envs\\datasci\\lib\\site-packages\\scipy\\optimize\\linesearch.py:327: LineSearchWarning: The line search algorithm did not converge\n",
      "  warn('The line search algorithm did not converge', LineSearchWarning)\n",
      "C:\\Users\\words\\Anaconda3\\envs\\datasci\\lib\\site-packages\\scipy\\optimize\\linesearch.py:477: LineSearchWarning: The line search algorithm did not converge\n",
      "  warn('The line search algorithm did not converge', LineSearchWarning)\n",
      "C:\\Users\\words\\Anaconda3\\envs\\datasci\\lib\\site-packages\\scipy\\optimize\\linesearch.py:327: LineSearchWarning: The line search algorithm did not converge\n",
      "  warn('The line search algorithm did not converge', LineSearchWarning)\n",
      "C:\\Users\\words\\Anaconda3\\envs\\datasci\\lib\\site-packages\\scipy\\optimize\\linesearch.py:477: LineSearchWarning: The line search algorithm did not converge\n",
      "  warn('The line search algorithm did not converge', LineSearchWarning)\n",
      "C:\\Users\\words\\Anaconda3\\envs\\datasci\\lib\\site-packages\\scipy\\optimize\\linesearch.py:327: LineSearchWarning: The line search algorithm did not converge\n",
      "  warn('The line search algorithm did not converge', LineSearchWarning)\n",
      "C:\\Users\\words\\Anaconda3\\envs\\datasci\\lib\\site-packages\\scipy\\optimize\\linesearch.py:477: LineSearchWarning: The line search algorithm did not converge\n",
      "  warn('The line search algorithm did not converge', LineSearchWarning)\n",
      "C:\\Users\\words\\Anaconda3\\envs\\datasci\\lib\\site-packages\\scipy\\optimize\\linesearch.py:327: LineSearchWarning: The line search algorithm did not converge\n",
      "  warn('The line search algorithm did not converge', LineSearchWarning)\n",
      "C:\\Users\\words\\Anaconda3\\envs\\datasci\\lib\\site-packages\\scipy\\optimize\\linesearch.py:477: LineSearchWarning: The line search algorithm did not converge\n",
      "  warn('The line search algorithm did not converge', LineSearchWarning)\n",
      "C:\\Users\\words\\Anaconda3\\envs\\datasci\\lib\\site-packages\\scipy\\optimize\\linesearch.py:327: LineSearchWarning: The line search algorithm did not converge\n",
      "  warn('The line search algorithm did not converge', LineSearchWarning)\n",
      "C:\\Users\\words\\Anaconda3\\envs\\datasci\\lib\\site-packages\\scipy\\optimize\\linesearch.py:477: LineSearchWarning: The line search algorithm did not converge\n",
      "  warn('The line search algorithm did not converge', LineSearchWarning)\n",
      "C:\\Users\\words\\Anaconda3\\envs\\datasci\\lib\\site-packages\\scipy\\optimize\\linesearch.py:327: LineSearchWarning: The line search algorithm did not converge\n",
      "  warn('The line search algorithm did not converge', LineSearchWarning)\n",
      "C:\\Users\\words\\Anaconda3\\envs\\datasci\\lib\\site-packages\\scipy\\optimize\\linesearch.py:477: LineSearchWarning: The line search algorithm did not converge\n",
      "  warn('The line search algorithm did not converge', LineSearchWarning)\n",
      "C:\\Users\\words\\Anaconda3\\envs\\datasci\\lib\\site-packages\\scipy\\optimize\\linesearch.py:327: LineSearchWarning: The line search algorithm did not converge\n",
      "  warn('The line search algorithm did not converge', LineSearchWarning)\n"
     ]
    },
    {
     "name": "stdout",
     "output_type": "stream",
     "text": [
      "0.8111333333333334\n"
     ]
    },
    {
     "name": "stderr",
     "output_type": "stream",
     "text": [
      "C:\\Users\\words\\Anaconda3\\envs\\datasci\\lib\\site-packages\\scipy\\optimize\\linesearch.py:477: LineSearchWarning: The line search algorithm did not converge\n",
      "  warn('The line search algorithm did not converge', LineSearchWarning)\n",
      "C:\\Users\\words\\Anaconda3\\envs\\datasci\\lib\\site-packages\\scipy\\optimize\\linesearch.py:327: LineSearchWarning: The line search algorithm did not converge\n",
      "  warn('The line search algorithm did not converge', LineSearchWarning)\n",
      "C:\\Users\\words\\Anaconda3\\envs\\datasci\\lib\\site-packages\\scipy\\optimize\\linesearch.py:437: LineSearchWarning: Rounding errors prevent the line search from converging\n",
      "  warn(msg, LineSearchWarning)\n",
      "C:\\Users\\words\\Anaconda3\\envs\\datasci\\lib\\site-packages\\scipy\\optimize\\linesearch.py:327: LineSearchWarning: The line search algorithm did not converge\n",
      "  warn('The line search algorithm did not converge', LineSearchWarning)\n",
      "C:\\Users\\words\\Anaconda3\\envs\\datasci\\lib\\site-packages\\sklearn\\utils\\optimize.py:195: UserWarning: Line Search failed\n",
      "  warnings.warn('Line Search failed')\n"
     ]
    },
    {
     "data": {
      "text/plain": [
       "array([[-7.67509585e-07, -1.11541446e-01, -1.02914717e-01,\n",
       "        -1.58493994e-01,  7.19433327e-03,  5.76981396e-01,\n",
       "         8.28842458e-02,  7.21255674e-02,  2.39009041e-02,\n",
       "         3.39748449e-02,  8.13785255e-03, -5.49513622e-06,\n",
       "         2.35742414e-06,  1.36769690e-06, -1.82707231e-07,\n",
       "         6.15478314e-07,  3.93872650e-07, -1.36461581e-05,\n",
       "        -9.62486010e-06, -2.74457801e-06, -4.02789437e-06,\n",
       "        -3.31091456e-06, -2.06512146e-06]])"
      ]
     },
     "execution_count": 29,
     "metadata": {},
     "output_type": "execute_result"
    }
   ],
   "source": [
    "lr_sklearn = LogisticRegression(solver='newton-cg', max_iter=1000)\n",
    "lr_sklearn.fit(train_features, train_targets)\n",
    "print(lr_sklearn.score(train_features, train_targets))\n",
    "lr_sklearn.coef_"
   ]
  },
  {
   "cell_type": "code",
   "execution_count": 30,
   "metadata": {},
   "outputs": [
    {
     "data": {
      "text/plain": [
       "array([190])"
      ]
     },
     "execution_count": 30,
     "metadata": {},
     "output_type": "execute_result"
    }
   ],
   "source": [
    "lr_sklearn.n_iter_"
   ]
  },
  {
   "cell_type": "code",
   "execution_count": 31,
   "metadata": {},
   "outputs": [
    {
     "data": {
      "text/plain": [
       "0.8109666666666666"
      ]
     },
     "execution_count": 31,
     "metadata": {},
     "output_type": "execute_result"
    }
   ],
   "source": [
    "accuracy_score(train_targets, (lr_results.predict(\n",
    "    sm.add_constant(train_features)) > 0.5).astype('int'))"
   ]
  },
  {
   "cell_type": "code",
   "execution_count": 32,
   "metadata": {},
   "outputs": [
    {
     "data": {
      "image/png": "[encoded data removed]",
      "text/plain": [
       "<Figure size 396x396 with 1 Axes>"
      ]
     },
     "metadata": {},
     "output_type": "display_data"
    }
   ],
   "source": [
    "f = plt.figure(figsize=(5.5, 5.5))\n",
    "x = np.linspace(0.01, 1, 100)\n",
    "y = np.log(x)\n",
    "plt.plot(x, y)\n",
    "plt.xlabel('x')\n",
    "_ = plt.ylabel('log(x)')\n",
    "plt.savefig('B17030_11_04.png', dpi=300)"
   ]
  },
  {
   "cell_type": "markdown",
   "metadata": {},
   "source": [
    "## Regularization"
   ]
  },
  {
   "cell_type": "code",
   "execution_count": 33,
   "metadata": {},
   "outputs": [
    {
     "name": "stdout",
     "output_type": "stream",
     "text": [
      "0.8110666666666667\n"
     ]
    },
    {
     "data": {
      "text/plain": [
       "array([[-7.66211171e-07, -1.09844103e-01, -1.01972827e-01,\n",
       "        -1.56390230e-01,  7.26585672e-03,  5.77146581e-01,\n",
       "         8.27047959e-02,  7.21125646e-02,  2.38470952e-02,\n",
       "         3.39675973e-02,  7.99144068e-03, -5.45815201e-06,\n",
       "         2.29701082e-06,  1.39608839e-06, -1.91110815e-07,\n",
       "         6.22461209e-07,  3.92668716e-07, -1.36057738e-05,\n",
       "        -9.64900459e-06, -2.74025211e-06, -4.03292571e-06,\n",
       "        -3.31122211e-06, -2.06816967e-06]])"
      ]
     },
     "execution_count": 33,
     "metadata": {},
     "output_type": "execute_result"
    }
   ],
   "source": [
    "lr_sklearn = LogisticRegression(penalty='l1', solver='liblinear')\n",
    "lr_sklearn.fit(train_features, train_targets)\n",
    "print(lr_sklearn.score(train_features, train_targets))\n",
    "lr_sklearn.coef_"
   ]
  },
  {
   "cell_type": "code",
   "execution_count": 34,
   "metadata": {},
   "outputs": [
    {
     "data": {
      "text/plain": [
       "array([21], dtype=int32)"
      ]
     },
     "execution_count": 34,
     "metadata": {},
     "output_type": "execute_result"
    }
   ],
   "source": [
    "lr_sklearn.n_iter_"
   ]
  },
  {
   "cell_type": "code",
   "execution_count": 35,
   "metadata": {},
   "outputs": [
    {
     "name": "stdout",
     "output_type": "stream",
     "text": [
      "0.8090666666666667\n"
     ]
    },
    {
     "data": {
      "text/plain": [
       "array([[-0.09179527, -0.03149405, -0.04191172, -0.0580727 ,  0.04759958,\n",
       "         0.63876412,  0.092599  ,  0.09008615,  0.02352473,  0.03720568,\n",
       "         0.00523245, -0.11606074,  0.        ,  0.        ,  0.        ,\n",
       "         0.        ,  0.        , -0.12243242, -0.09714386, -0.02071323,\n",
       "        -0.0307947 , -0.0278557 , -0.019394  ]])"
      ]
     },
     "execution_count": 35,
     "metadata": {},
     "output_type": "execute_result"
    }
   ],
   "source": [
    "scaler = StandardScaler()\n",
    "scaled_features = scaler.fit_transform(train_features)\n",
    "\n",
    "lr_sklearn = LogisticRegression(penalty='l1', solver='liblinear', C=0.01)\n",
    "lr_sklearn.fit(scaled_features, train_targets)\n",
    "print(lr_sklearn.score(scaled_features, train_targets))\n",
    "lr_sklearn.coef_"
   ]
  },
  {
   "cell_type": "code",
   "execution_count": 36,
   "metadata": {},
   "outputs": [
    {
     "data": {
      "text/plain": [
       "array([-1.40797784])"
      ]
     },
     "execution_count": 36,
     "metadata": {},
     "output_type": "execute_result"
    }
   ],
   "source": [
    "# intercept is not 0\n",
    "lr_sklearn.intercept_"
   ]
  },
  {
   "cell_type": "code",
   "execution_count": 37,
   "metadata": {},
   "outputs": [
    {
     "data": {
      "text/plain": [
       "Index(['BILL_AMT2', 'BILL_AMT3', 'BILL_AMT4', 'BILL_AMT5', 'BILL_AMT6'], dtype='object')"
      ]
     },
     "execution_count": 37,
     "metadata": {},
     "output_type": "execute_result"
    }
   ],
   "source": [
    "train_features.columns[lr_sklearn.coef_[0] == 0]"
   ]
  },
  {
   "cell_type": "markdown",
   "metadata": {},
   "source": [
    "#### Regularization with statsmodels"
   ]
  },
  {
   "cell_type": "code",
   "execution_count": 38,
   "metadata": {},
   "outputs": [
    {
     "name": "stdout",
     "output_type": "stream",
     "text": [
      "Optimization terminated successfully    (Exit mode 0)\n",
      "            Current function value: 0.47567931369409666\n",
      "            Iterations: 57\n",
      "            Function evaluations: 57\n",
      "            Gradient evaluations: 57\n"
     ]
    },
    {
     "data": {
      "text/html": [
       "<table class=\"simpletable\">\n",
       "<caption>Logit Regression Results</caption>\n",
       "<tr>\n",
       "  <th>Dep. Variable:</th>   <td>default payment next month</td> <th>  No. Observations:  </th>  <td> 30000</td> \n",
       "</tr>\n",
       "<tr>\n",
       "  <th>Model:</th>                      <td>Logit</td>           <th>  Df Residuals:      </th>  <td> 29981</td> \n",
       "</tr>\n",
       "<tr>\n",
       "  <th>Method:</th>                      <td>MLE</td>            <th>  Df Model:          </th>  <td>    18</td> \n",
       "</tr>\n",
       "<tr>\n",
       "  <th>Date:</th>                 <td>Mon, 29 Mar 2021</td>      <th>  Pseudo R-squ.:     </th>  <td>0.1187</td> \n",
       "</tr>\n",
       "<tr>\n",
       "  <th>Time:</th>                     <td>21:10:04</td>          <th>  Log-Likelihood:    </th> <td> -13970.</td>\n",
       "</tr>\n",
       "<tr>\n",
       "  <th>converged:</th>                  <td>True</td>            <th>  LL-Null:           </th> <td> -15853.</td>\n",
       "</tr>\n",
       "<tr>\n",
       "  <th>Covariance Type:</th>          <td>nonrobust</td>         <th>  LLR p-value:       </th>  <td> 0.000</td> \n",
       "</tr>\n",
       "</table>\n",
       "<table class=\"simpletable\">\n",
       "<tr>\n",
       "      <td></td>         <th>coef</th>     <th>std err</th>      <th>z</th>      <th>P>|z|</th>  <th>[0.025</th>    <th>0.975]</th>  \n",
       "</tr>\n",
       "<tr>\n",
       "  <th>const</th>     <td>   -1.4080</td> <td>    0.016</td> <td>  -88.843</td> <td> 0.000</td> <td>   -1.439</td> <td>   -1.377</td>\n",
       "</tr>\n",
       "<tr>\n",
       "  <th>LIMIT_BAL</th> <td>   -0.0918</td> <td>    0.020</td> <td>   -4.634</td> <td> 0.000</td> <td>   -0.131</td> <td>   -0.053</td>\n",
       "</tr>\n",
       "<tr>\n",
       "  <th>SEX</th>       <td>   -0.0315</td> <td>    0.015</td> <td>   -2.122</td> <td> 0.034</td> <td>   -0.061</td> <td>   -0.002</td>\n",
       "</tr>\n",
       "<tr>\n",
       "  <th>EDUCATION</th> <td>   -0.0419</td> <td>    0.016</td> <td>   -2.600</td> <td> 0.009</td> <td>   -0.074</td> <td>   -0.010</td>\n",
       "</tr>\n",
       "<tr>\n",
       "  <th>MARRIAGE</th>  <td>   -0.0581</td> <td>    0.016</td> <td>   -3.562</td> <td> 0.000</td> <td>   -0.090</td> <td>   -0.026</td>\n",
       "</tr>\n",
       "<tr>\n",
       "  <th>AGE</th>       <td>    0.0476</td> <td>    0.016</td> <td>    2.933</td> <td> 0.003</td> <td>    0.016</td> <td>    0.079</td>\n",
       "</tr>\n",
       "<tr>\n",
       "  <th>PAY_0</th>     <td>    0.6387</td> <td>    0.020</td> <td>   32.484</td> <td> 0.000</td> <td>    0.600</td> <td>    0.677</td>\n",
       "</tr>\n",
       "<tr>\n",
       "  <th>PAY_2</th>     <td>    0.0926</td> <td>    0.024</td> <td>    3.869</td> <td> 0.000</td> <td>    0.046</td> <td>    0.139</td>\n",
       "</tr>\n",
       "<tr>\n",
       "  <th>PAY_3</th>     <td>    0.0901</td> <td>    0.027</td> <td>    3.384</td> <td> 0.001</td> <td>    0.038</td> <td>    0.142</td>\n",
       "</tr>\n",
       "<tr>\n",
       "  <th>PAY_4</th>     <td>    0.0237</td> <td>    0.029</td> <td>    0.821</td> <td> 0.412</td> <td>   -0.033</td> <td>    0.080</td>\n",
       "</tr>\n",
       "<tr>\n",
       "  <th>PAY_5</th>     <td>    0.0370</td> <td>    0.030</td> <td>    1.230</td> <td> 0.219</td> <td>   -0.022</td> <td>    0.096</td>\n",
       "</tr>\n",
       "<tr>\n",
       "  <th>PAY_6</th>     <td>    0.0053</td> <td>    0.025</td> <td>    0.214</td> <td> 0.831</td> <td>   -0.044</td> <td>    0.054</td>\n",
       "</tr>\n",
       "<tr>\n",
       "  <th>BILL_AMT1</th> <td>   -0.1160</td> <td>    0.019</td> <td>   -6.130</td> <td> 0.000</td> <td>   -0.153</td> <td>   -0.079</td>\n",
       "</tr>\n",
       "<tr>\n",
       "  <th>BILL_AMT2</th> <td>         0</td> <td>      nan</td> <td>      nan</td> <td>   nan</td> <td>      nan</td> <td>      nan</td>\n",
       "</tr>\n",
       "<tr>\n",
       "  <th>BILL_AMT3</th> <td>         0</td> <td>      nan</td> <td>      nan</td> <td>   nan</td> <td>      nan</td> <td>      nan</td>\n",
       "</tr>\n",
       "<tr>\n",
       "  <th>BILL_AMT4</th> <td>         0</td> <td>      nan</td> <td>      nan</td> <td>   nan</td> <td>      nan</td> <td>      nan</td>\n",
       "</tr>\n",
       "<tr>\n",
       "  <th>BILL_AMT5</th> <td>         0</td> <td>      nan</td> <td>      nan</td> <td>   nan</td> <td>      nan</td> <td>      nan</td>\n",
       "</tr>\n",
       "<tr>\n",
       "  <th>BILL_AMT6</th> <td>         0</td> <td>      nan</td> <td>      nan</td> <td>   nan</td> <td>      nan</td> <td>      nan</td>\n",
       "</tr>\n",
       "<tr>\n",
       "  <th>PAY_AMT1</th>  <td>   -0.1224</td> <td>    0.028</td> <td>   -4.330</td> <td> 0.000</td> <td>   -0.178</td> <td>   -0.067</td>\n",
       "</tr>\n",
       "<tr>\n",
       "  <th>PAY_AMT2</th>  <td>   -0.0972</td> <td>    0.033</td> <td>   -2.974</td> <td> 0.003</td> <td>   -0.161</td> <td>   -0.033</td>\n",
       "</tr>\n",
       "<tr>\n",
       "  <th>PAY_AMT3</th>  <td>   -0.0207</td> <td>    0.022</td> <td>   -0.919</td> <td> 0.358</td> <td>   -0.065</td> <td>    0.023</td>\n",
       "</tr>\n",
       "<tr>\n",
       "  <th>PAY_AMT4</th>  <td>   -0.0308</td> <td>    0.021</td> <td>   -1.455</td> <td> 0.146</td> <td>   -0.072</td> <td>    0.011</td>\n",
       "</tr>\n",
       "<tr>\n",
       "  <th>PAY_AMT5</th>  <td>   -0.0278</td> <td>    0.020</td> <td>   -1.378</td> <td> 0.168</td> <td>   -0.067</td> <td>    0.012</td>\n",
       "</tr>\n",
       "<tr>\n",
       "  <th>PAY_AMT6</th>  <td>   -0.0194</td> <td>    0.020</td> <td>   -0.955</td> <td> 0.339</td> <td>   -0.059</td> <td>    0.020</td>\n",
       "</tr>\n",
       "</table>"
      ],
      "text/plain": [
       "<class 'statsmodels.iolib.summary.Summary'>\n",
       "\"\"\"\n",
       "                               Logit Regression Results                               \n",
       "======================================================================================\n",
       "Dep. Variable:     default payment next month   No. Observations:                30000\n",
       "Model:                                  Logit   Df Residuals:                    29981\n",
       "Method:                                   MLE   Df Model:                           18\n",
       "Date:                        Mon, 29 Mar 2021   Pseudo R-squ.:                  0.1187\n",
       "Time:                                21:10:04   Log-Likelihood:                -13970.\n",
       "converged:                               True   LL-Null:                       -15853.\n",
       "Covariance Type:                    nonrobust   LLR p-value:                     0.000\n",
       "==============================================================================\n",
       "                 coef    std err          z      P>|z|      [0.025      0.975]\n",
       "------------------------------------------------------------------------------\n",
       "const         -1.4080      0.016    -88.843      0.000      -1.439      -1.377\n",
       "LIMIT_BAL     -0.0918      0.020     -4.634      0.000      -0.131      -0.053\n",
       "SEX           -0.0315      0.015     -2.122      0.034      -0.061      -0.002\n",
       "EDUCATION     -0.0419      0.016     -2.600      0.009      -0.074      -0.010\n",
       "MARRIAGE      -0.0581      0.016     -3.562      0.000      -0.090      -0.026\n",
       "AGE            0.0476      0.016      2.933      0.003       0.016       0.079\n",
       "PAY_0          0.6387      0.020     32.484      0.000       0.600       0.677\n",
       "PAY_2          0.0926      0.024      3.869      0.000       0.046       0.139\n",
       "PAY_3          0.0901      0.027      3.384      0.001       0.038       0.142\n",
       "PAY_4          0.0237      0.029      0.821      0.412      -0.033       0.080\n",
       "PAY_5          0.0370      0.030      1.230      0.219      -0.022       0.096\n",
       "PAY_6          0.0053      0.025      0.214      0.831      -0.044       0.054\n",
       "BILL_AMT1     -0.1160      0.019     -6.130      0.000      -0.153      -0.079\n",
       "BILL_AMT2           0        nan        nan        nan         nan         nan\n",
       "BILL_AMT3           0        nan        nan        nan         nan         nan\n",
       "BILL_AMT4           0        nan        nan        nan         nan         nan\n",
       "BILL_AMT5           0        nan        nan        nan         nan         nan\n",
       "BILL_AMT6           0        nan        nan        nan         nan         nan\n",
       "PAY_AMT1      -0.1224      0.028     -4.330      0.000      -0.178      -0.067\n",
       "PAY_AMT2      -0.0972      0.033     -2.974      0.003      -0.161      -0.033\n",
       "PAY_AMT3      -0.0207      0.022     -0.919      0.358      -0.065       0.023\n",
       "PAY_AMT4      -0.0308      0.021     -1.455      0.146      -0.072       0.011\n",
       "PAY_AMT5      -0.0278      0.020     -1.378      0.168      -0.067       0.012\n",
       "PAY_AMT6      -0.0194      0.020     -0.955      0.339      -0.059       0.020\n",
       "==============================================================================\n",
       "\"\"\""
      ]
     },
     "execution_count": 38,
     "metadata": {},
     "output_type": "execute_result"
    }
   ],
   "source": [
    "scaled_features_df = pd.DataFrame(\n",
    "    scaled_features, columns=train_features.columns, index=train_features.index)\n",
    "lr_model = sm.Logit(train_targets, sm.add_constant(scaled_features_df))\n",
    "reg_results = lr_model.fit_regularized(alpha=100)\n",
    "reg_results.summary()"
   ]
  },
  {
   "cell_type": "markdown",
   "metadata": {},
   "source": [
    "## Hyperparameters and cross-validation"
   ]
  },
  {
   "cell_type": "code",
   "execution_count": 39,
   "metadata": {},
   "outputs": [
    {
     "data": {
      "text/plain": [
       "LogisticRegressionCV(Cs=[0.001, 0.01, 0.1, 1, 10, 100], n_jobs=-1, penalty='l1',\n",
       "                     random_state=42, solver='liblinear')"
      ]
     },
     "execution_count": 39,
     "metadata": {},
     "output_type": "execute_result"
    }
   ],
   "source": [
    "from sklearn.linear_model import LogisticRegressionCV\n",
    "\n",
    "lr_cv = LogisticRegressionCV(Cs=[0.001, 0.01, 0.1, 1, 10, 100],\n",
    "                             solver='liblinear',\n",
    "                             penalty='l1',\n",
    "                             n_jobs=-1,\n",
    "                             random_state=42)\n",
    "lr_cv.fit(scaled_features, train_targets)"
   ]
  },
  {
   "cell_type": "code",
   "execution_count": 40,
   "metadata": {},
   "outputs": [
    {
     "data": {
      "text/plain": [
       "array([1.])"
      ]
     },
     "execution_count": 40,
     "metadata": {},
     "output_type": "execute_result"
    }
   ],
   "source": [
    "lr_cv.C_"
   ]
  },
  {
   "cell_type": "code",
   "execution_count": 41,
   "metadata": {},
   "outputs": [
    {
     "data": {
      "text/plain": [
       "array([0.78556667, 0.80863333, 0.8094    , 0.80996667, 0.80993333,\n",
       "       0.80993333])"
      ]
     },
     "execution_count": 41,
     "metadata": {},
     "output_type": "execute_result"
    }
   ],
   "source": [
    "lr_cv.scores_[1].mean(axis=0)"
   ]
  },
  {
   "cell_type": "markdown",
   "metadata": {},
   "source": [
    "### Using H2O for logistic regression\n",
    "Ideally we would use the scaled version of the data here so the feature importances are more comparable.\n",
    "\n",
    "There are a lot of settings for the GLM, which can be found in the documentation:\n",
    "https://docs.h2o.ai/h2o/latest-stable/h2o-docs/data-science/glm.html\n",
    "https://docs.h2o.ai/h2o/latest-stable/h2o-r/docs/reference/h2o.glm.html"
   ]
  },
  {
   "cell_type": "code",
   "execution_count": 42,
   "metadata": {},
   "outputs": [
    {
     "name": "stdout",
     "output_type": "stream",
     "text": [
      "Checking whether there is an H2O instance running at http://localhost:54321 . connected.\n"
     ]
    },
    {
     "data": {
      "text/html": [
       "<div style=\"overflow:auto\"><table style=\"width:50%\"><tr><td>H2O_cluster_uptime:</td>\n",
       "<td>2 days 0 hours 35 mins</td></tr>\n",
       "<tr><td>H2O_cluster_timezone:</td>\n",
       "<td>America/Denver</td></tr>\n",
       "<tr><td>H2O_data_parsing_timezone:</td>\n",
       "<td>UTC</td></tr>\n",
       "<tr><td>H2O_cluster_version:</td>\n",
       "<td>3.32.1.1</td></tr>\n",
       "<tr><td>H2O_cluster_version_age:</td>\n",
       "<td>4 days </td></tr>\n",
       "<tr><td>H2O_cluster_name:</td>\n",
       "<td>H2O_from_python_words_q5gayb</td></tr>\n",
       "<tr><td>H2O_cluster_total_nodes:</td>\n",
       "<td>1</td></tr>\n",
       "<tr><td>H2O_cluster_free_memory:</td>\n",
       "<td>7.942 Gb</td></tr>\n",
       "<tr><td>H2O_cluster_total_cores:</td>\n",
       "<td>8</td></tr>\n",
       "<tr><td>H2O_cluster_allowed_cores:</td>\n",
       "<td>8</td></tr>\n",
       "<tr><td>H2O_cluster_status:</td>\n",
       "<td>locked, healthy</td></tr>\n",
       "<tr><td>H2O_connection_url:</td>\n",
       "<td>http://localhost:54321</td></tr>\n",
       "<tr><td>H2O_connection_proxy:</td>\n",
       "<td>{\"http\": null, \"https\": null}</td></tr>\n",
       "<tr><td>H2O_internal_security:</td>\n",
       "<td>False</td></tr>\n",
       "<tr><td>H2O_API_Extensions:</td>\n",
       "<td>Amazon S3, Algos, AutoML, Core V3, TargetEncoder, Core V4</td></tr>\n",
       "<tr><td>Python_version:</td>\n",
       "<td>3.8.5 final</td></tr></table></div>"
      ],
      "text/plain": [
       "--------------------------  ---------------------------------------------------------\n",
       "H2O_cluster_uptime:         2 days 0 hours 35 mins\n",
       "H2O_cluster_timezone:       America/Denver\n",
       "H2O_data_parsing_timezone:  UTC\n",
       "H2O_cluster_version:        3.32.1.1\n",
       "H2O_cluster_version_age:    4 days\n",
       "H2O_cluster_name:           H2O_from_python_words_q5gayb\n",
       "H2O_cluster_total_nodes:    1\n",
       "H2O_cluster_free_memory:    7.942 Gb\n",
       "H2O_cluster_total_cores:    8\n",
       "H2O_cluster_allowed_cores:  8\n",
       "H2O_cluster_status:         locked, healthy\n",
       "H2O_connection_url:         http://localhost:54321\n",
       "H2O_connection_proxy:       {\"http\": null, \"https\": null}\n",
       "H2O_internal_security:      False\n",
       "H2O_API_Extensions:         Amazon S3, Algos, AutoML, Core V3, TargetEncoder, Core V4\n",
       "Python_version:             3.8.5 final\n",
       "--------------------------  ---------------------------------------------------------"
      ]
     },
     "metadata": {},
     "output_type": "display_data"
    },
    {
     "name": "stdout",
     "output_type": "stream",
     "text": [
      "Parse progress: |█████████████████████████████████████████████████████████| 100%\n",
      "glm Model Build progress: |███████████████████████████████████████████████| 100%\n"
     ]
    }
   ],
   "source": [
    "from h2o.estimators.glm import H2OGeneralizedLinearEstimator\n",
    "import h2o\n",
    "h2o.init()\n",
    "\n",
    "glm_model = H2OGeneralizedLinearEstimator(family=\"binomial\",\n",
    "                                          lambda_=0,\n",
    "                                          compute_p_values=True)\n",
    "\n",
    "hdf = h2o.H2OFrame(df)\n",
    "response_col = 'default payment next month'\n",
    "predictors = df.drop(response_col, axis=1).columns.tolist()\n",
    "\n",
    "glm_model.train(predictors, response_col, training_frame=hdf)"
   ]
  },
  {
   "cell_type": "code",
   "execution_count": 43,
   "metadata": {
    "scrolled": false
   },
   "outputs": [
    {
     "data": {
      "image/png": "[encoded data removed]",
      "text/plain": [
       "<Figure size 1008x720 with 1 Axes>"
      ]
     },
     "metadata": {},
     "output_type": "display_data"
    }
   ],
   "source": [
    "glm_model.std_coef_plot()"
   ]
  },
  {
   "cell_type": "markdown",
   "metadata": {},
   "source": [
    "# Naive Bayes"
   ]
  },
  {
   "cell_type": "code",
   "execution_count": 44,
   "metadata": {},
   "outputs": [
    {
     "data": {
      "text/plain": [
       "0.15773333333333334"
      ]
     },
     "execution_count": 44,
     "metadata": {},
     "output_type": "execute_result"
    }
   ],
   "source": [
    "df[(df['default payment next month'] == 0) & (\n",
    "    df['PAY_0'] == -1)].shape[0] / df.shape[0]"
   ]
  },
  {
   "cell_type": "markdown",
   "metadata": {},
   "source": [
    "We can use other NB algos if we properly prepare our data:"
   ]
  },
  {
   "cell_type": "code",
   "execution_count": 45,
   "metadata": {},
   "outputs": [
    {
     "data": {
      "text/plain": [
       "0.7788"
      ]
     },
     "execution_count": 45,
     "metadata": {},
     "output_type": "execute_result"
    }
   ],
   "source": [
    "from sklearn.naive_bayes import MultinomialNB\n",
    "\n",
    "nb = MultinomialNB()\n",
    "temp_feats = train_features[['LIMIT_BAL', 'SEX']].copy()\n",
    "temp_feats['LIMIT_BAL']\n",
    "\n",
    "nb.fit(temp_feats, train_targets)\n",
    "nb.score(temp_feats, train_targets)"
   ]
  },
  {
   "cell_type": "code",
   "execution_count": 46,
   "metadata": {},
   "outputs": [
    {
     "data": {
      "text/plain": [
       "0.378"
      ]
     },
     "execution_count": 46,
     "metadata": {},
     "output_type": "execute_result"
    }
   ],
   "source": [
    "from sklearn.naive_bayes import GaussianNB\n",
    "\n",
    "gnb = GaussianNB()\n",
    "gnb.fit(train_features, train_targets)\n",
    "gnb.score(train_features, train_targets)"
   ]
  },
  {
   "cell_type": "markdown",
   "metadata": {},
   "source": [
    "## KNN"
   ]
  },
  {
   "cell_type": "markdown",
   "metadata": {},
   "source": [
    "Scale only numeric features, keep categorical features the same."
   ]
  },
  {
   "cell_type": "code",
   "execution_count": 47,
   "metadata": {},
   "outputs": [
    {
     "data": {
      "text/plain": [
       "Index(['LIMIT_BAL', 'SEX', 'EDUCATION', 'MARRIAGE', 'AGE', 'PAY_0', 'PAY_2',\n",
       "       'PAY_3', 'PAY_4', 'PAY_5', 'PAY_6', 'BILL_AMT1', 'BILL_AMT2',\n",
       "       'BILL_AMT3', 'BILL_AMT4', 'BILL_AMT5', 'BILL_AMT6', 'PAY_AMT1',\n",
       "       'PAY_AMT2', 'PAY_AMT3', 'PAY_AMT4', 'PAY_AMT5', 'PAY_AMT6',\n",
       "       'default payment next month'],\n",
       "      dtype='object')"
      ]
     },
     "execution_count": 47,
     "metadata": {},
     "output_type": "execute_result"
    }
   ],
   "source": [
    "df.columns"
   ]
  },
  {
   "cell_type": "code",
   "execution_count": 48,
   "metadata": {},
   "outputs": [],
   "source": [
    "numeric_columns = ['LIMIT_BAL', 'AGE'] + \\\n",
    "    [f'BILL_AMT{i}' for i in range(1, 7)] + \\\n",
    "    [f'PAY_AMT{i}' for i in range(1, 7)]\n",
    "categorical_columns = ['SEX', 'EDUCATION', 'MARRIAGE'] + \\\n",
    "    ['PAY_0'] + [f'PAY_{i}' for i in range(2, 6)]\n",
    "\n",
    "scaler = StandardScaler()\n",
    "scaled_numeric_features = scaler.fit_transform(train_features[numeric_columns])\n",
    "\n",
    "scaled_features = pd.concat([pd.DataFrame(data=scaled_numeric_features, columns=numeric_columns, index=df.index),\n",
    "                             train_features[categorical_columns]], axis=1)"
   ]
  },
  {
   "cell_type": "code",
   "execution_count": 49,
   "metadata": {},
   "outputs": [
    {
     "data": {
      "text/plain": [
       "0.8464"
      ]
     },
     "execution_count": 49,
     "metadata": {},
     "output_type": "execute_result"
    }
   ],
   "source": [
    "from sklearn.neighbors import KNeighborsClassifier\n",
    "\n",
    "knn = KNeighborsClassifier(n_jobs=-1)\n",
    "knn.fit(scaled_features, train_targets)\n",
    "knn.score(scaled_features, train_targets)"
   ]
  },
  {
   "cell_type": "markdown",
   "metadata": {},
   "source": [
    "# Multiclass classification"
   ]
  },
  {
   "cell_type": "code",
   "execution_count": 50,
   "metadata": {},
   "outputs": [
    {
     "name": "stderr",
     "output_type": "stream",
     "text": [
      "C:\\Users\\words\\Anaconda3\\envs\\datasci\\lib\\site-packages\\sklearn\\linear_model\\_logistic.py:763: ConvergenceWarning: lbfgs failed to converge (status=1):\n",
      "STOP: TOTAL NO. of ITERATIONS REACHED LIMIT.\n",
      "\n",
      "Increase the number of iterations (max_iter) or scale the data as shown in:\n",
      "    https://scikit-learn.org/stable/modules/preprocessing.html\n",
      "Please also refer to the documentation for alternative solver options:\n",
      "    https://scikit-learn.org/stable/modules/linear_model.html#logistic-regression\n",
      "  n_iter_i = _check_optimize_result(\n"
     ]
    },
    {
     "data": {
      "text/plain": [
       "LogisticRegression(max_iter=1000)"
      ]
     },
     "execution_count": 50,
     "metadata": {},
     "output_type": "execute_result"
    }
   ],
   "source": [
    "pay_0_target = df['PAY_0'].replace({i: 1 for i in range(1, 9)})\n",
    "pay_0_features = df.drop(['PAY_0', 'default payment next month'], axis=1)\n",
    "\n",
    "lr_multi = LogisticRegression(max_iter=1000)\n",
    "lr_multi.fit(pay_0_features, pay_0_target)"
   ]
  },
  {
   "cell_type": "code",
   "execution_count": 51,
   "metadata": {},
   "outputs": [
    {
     "data": {
      "text/plain": [
       "0.6034"
      ]
     },
     "execution_count": 51,
     "metadata": {},
     "output_type": "execute_result"
    }
   ],
   "source": [
    "lr_multi.score(pay_0_features, pay_0_target)"
   ]
  },
  {
   "cell_type": "code",
   "execution_count": 52,
   "metadata": {},
   "outputs": [
    {
     "data": {
      "text/plain": [
       "array([-2, -1,  0,  1], dtype=int64)"
      ]
     },
     "execution_count": 52,
     "metadata": {},
     "output_type": "execute_result"
    }
   ],
   "source": [
    "np.unique(lr_multi.predict(pay_0_features))"
   ]
  },
  {
   "cell_type": "code",
   "execution_count": 53,
   "metadata": {},
   "outputs": [
    {
     "data": {
      "text/plain": [
       " 0    14737\n",
       " 1     6818\n",
       "-1     5686\n",
       "-2     2759\n",
       "Name: PAY_0, dtype: int64"
      ]
     },
     "execution_count": 53,
     "metadata": {},
     "output_type": "execute_result"
    }
   ],
   "source": [
    "pay_0_target.value_counts()"
   ]
  },
  {
   "cell_type": "code",
   "execution_count": 54,
   "metadata": {},
   "outputs": [
    {
     "data": {
      "text/plain": [
       "array([1., 1., 1., ..., 1., 1., 1.])"
      ]
     },
     "execution_count": 54,
     "metadata": {},
     "output_type": "execute_result"
    }
   ],
   "source": [
    "lr_multi.predict_proba(pay_0_features).sum(axis=1)"
   ]
  },
  {
   "cell_type": "code",
   "execution_count": 55,
   "metadata": {},
   "outputs": [
    {
     "data": {
      "text/plain": [
       "array([1000])"
      ]
     },
     "execution_count": 55,
     "metadata": {},
     "output_type": "execute_result"
    }
   ],
   "source": [
    "lr_multi.n_iter_"
   ]
  },
  {
   "cell_type": "code",
   "execution_count": 56,
   "metadata": {},
   "outputs": [
    {
     "data": {
      "text/plain": [
       "(4, 22)"
      ]
     },
     "execution_count": 56,
     "metadata": {},
     "output_type": "execute_result"
    }
   ],
   "source": [
    "lr_multi.coef_.shape"
   ]
  },
  {
   "cell_type": "code",
   "execution_count": 57,
   "metadata": {},
   "outputs": [
    {
     "name": "stdout",
     "output_type": "stream",
     "text": [
      "Optimization terminated successfully.\n",
      "         Current function value: 0.762369\n",
      "         Iterations 10\n"
     ]
    },
    {
     "data": {
      "text/html": [
       "<table class=\"simpletable\">\n",
       "<caption>MNLogit Regression Results</caption>\n",
       "<tr>\n",
       "  <th>Dep. Variable:</th>         <td>PAY_0</td>      <th>  No. Observations:  </th>  <td> 30000</td> \n",
       "</tr>\n",
       "<tr>\n",
       "  <th>Model:</th>                <td>MNLogit</td>     <th>  Df Residuals:      </th>  <td> 29931</td> \n",
       "</tr>\n",
       "<tr>\n",
       "  <th>Method:</th>                 <td>MLE</td>       <th>  Df Model:          </th>  <td>    66</td> \n",
       "</tr>\n",
       "<tr>\n",
       "  <th>Date:</th>            <td>Mon, 29 Mar 2021</td> <th>  Pseudo R-squ.:     </th>  <td>0.3754</td> \n",
       "</tr>\n",
       "<tr>\n",
       "  <th>Time:</th>                <td>21:11:19</td>     <th>  Log-Likelihood:    </th> <td> -22871.</td>\n",
       "</tr>\n",
       "<tr>\n",
       "  <th>converged:</th>             <td>True</td>       <th>  LL-Null:           </th> <td> -36618.</td>\n",
       "</tr>\n",
       "<tr>\n",
       "  <th>Covariance Type:</th>     <td>nonrobust</td>    <th>  LLR p-value:       </th>  <td> 0.000</td> \n",
       "</tr>\n",
       "</table>\n",
       "<table class=\"simpletable\">\n",
       "<tr>\n",
       "  <th>PAY_0=-1</th>     <th>coef</th>     <th>std err</th>      <th>z</th>      <th>P>|z|</th>  <th>[0.025</th>    <th>0.975]</th>  \n",
       "</tr>\n",
       "<tr>\n",
       "  <th>const</th>     <td>    8.7368</td> <td>    0.328</td> <td>   26.622</td> <td> 0.000</td> <td>    8.094</td> <td>    9.380</td>\n",
       "</tr>\n",
       "<tr>\n",
       "  <th>LIMIT_BAL</th> <td>-1.051e-06</td> <td> 2.92e-07</td> <td>   -3.596</td> <td> 0.000</td> <td>-1.62e-06</td> <td>-4.78e-07</td>\n",
       "</tr>\n",
       "<tr>\n",
       "  <th>SEX</th>       <td>   -0.1590</td> <td>    0.072</td> <td>   -2.223</td> <td> 0.026</td> <td>   -0.299</td> <td>   -0.019</td>\n",
       "</tr>\n",
       "<tr>\n",
       "  <th>EDUCATION</th> <td>   -0.2542</td> <td>    0.044</td> <td>   -5.838</td> <td> 0.000</td> <td>   -0.339</td> <td>   -0.169</td>\n",
       "</tr>\n",
       "<tr>\n",
       "  <th>MARRIAGE</th>  <td>   -0.0991</td> <td>    0.073</td> <td>   -1.351</td> <td> 0.177</td> <td>   -0.243</td> <td>    0.045</td>\n",
       "</tr>\n",
       "<tr>\n",
       "  <th>AGE</th>       <td>    0.0074</td> <td>    0.004</td> <td>    1.684</td> <td> 0.092</td> <td>   -0.001</td> <td>    0.016</td>\n",
       "</tr>\n",
       "<tr>\n",
       "  <th>PAY_2</th>     <td>    4.2855</td> <td>    0.114</td> <td>   37.478</td> <td> 0.000</td> <td>    4.061</td> <td>    4.510</td>\n",
       "</tr>\n",
       "<tr>\n",
       "  <th>PAY_3</th>     <td>   -0.4013</td> <td>    0.079</td> <td>   -5.059</td> <td> 0.000</td> <td>   -0.557</td> <td>   -0.246</td>\n",
       "</tr>\n",
       "<tr>\n",
       "  <th>PAY_4</th>     <td>    0.2645</td> <td>    0.088</td> <td>    3.013</td> <td> 0.003</td> <td>    0.092</td> <td>    0.437</td>\n",
       "</tr>\n",
       "<tr>\n",
       "  <th>PAY_5</th>     <td>    0.1763</td> <td>    0.088</td> <td>    2.005</td> <td> 0.045</td> <td>    0.004</td> <td>    0.349</td>\n",
       "</tr>\n",
       "<tr>\n",
       "  <th>PAY_6</th>     <td>    0.3368</td> <td>    0.070</td> <td>    4.840</td> <td> 0.000</td> <td>    0.200</td> <td>    0.473</td>\n",
       "</tr>\n",
       "<tr>\n",
       "  <th>BILL_AMT1</th> <td>-1.451e-05</td> <td>    2e-06</td> <td>   -7.256</td> <td> 0.000</td> <td>-1.84e-05</td> <td>-1.06e-05</td>\n",
       "</tr>\n",
       "<tr>\n",
       "  <th>BILL_AMT2</th> <td> -3.93e-05</td> <td> 3.27e-06</td> <td>  -12.005</td> <td> 0.000</td> <td>-4.57e-05</td> <td>-3.29e-05</td>\n",
       "</tr>\n",
       "<tr>\n",
       "  <th>BILL_AMT3</th> <td>-8.032e-06</td> <td> 3.09e-06</td> <td>   -2.600</td> <td> 0.009</td> <td>-1.41e-05</td> <td>-1.98e-06</td>\n",
       "</tr>\n",
       "<tr>\n",
       "  <th>BILL_AMT4</th> <td> 2.279e-06</td> <td> 2.89e-06</td> <td>    0.789</td> <td> 0.430</td> <td>-3.38e-06</td> <td> 7.94e-06</td>\n",
       "</tr>\n",
       "<tr>\n",
       "  <th>BILL_AMT5</th> <td> -1.86e-06</td> <td> 3.16e-06</td> <td>   -0.589</td> <td> 0.556</td> <td>-8.05e-06</td> <td> 4.33e-06</td>\n",
       "</tr>\n",
       "<tr>\n",
       "  <th>BILL_AMT6</th> <td> -7.21e-06</td> <td> 2.64e-06</td> <td>   -2.734</td> <td> 0.006</td> <td>-1.24e-05</td> <td>-2.04e-06</td>\n",
       "</tr>\n",
       "<tr>\n",
       "  <th>PAY_AMT1</th>  <td> 3.423e-05</td> <td> 3.06e-06</td> <td>   11.201</td> <td> 0.000</td> <td> 2.82e-05</td> <td> 4.02e-05</td>\n",
       "</tr>\n",
       "<tr>\n",
       "  <th>PAY_AMT2</th>  <td>   3.8e-06</td> <td> 1.92e-06</td> <td>    1.975</td> <td> 0.048</td> <td> 2.95e-08</td> <td> 7.57e-06</td>\n",
       "</tr>\n",
       "<tr>\n",
       "  <th>PAY_AMT3</th>  <td> 4.261e-07</td> <td> 2.74e-06</td> <td>    0.156</td> <td> 0.876</td> <td>-4.94e-06</td> <td> 5.79e-06</td>\n",
       "</tr>\n",
       "<tr>\n",
       "  <th>PAY_AMT4</th>  <td>  3.94e-07</td> <td> 2.84e-06</td> <td>    0.139</td> <td> 0.890</td> <td>-5.17e-06</td> <td> 5.96e-06</td>\n",
       "</tr>\n",
       "<tr>\n",
       "  <th>PAY_AMT5</th>  <td> 6.995e-08</td> <td> 2.96e-06</td> <td>    0.024</td> <td> 0.981</td> <td>-5.72e-06</td> <td> 5.86e-06</td>\n",
       "</tr>\n",
       "<tr>\n",
       "  <th>PAY_AMT6</th>  <td>-2.944e-06</td> <td> 1.65e-06</td> <td>   -1.780</td> <td> 0.075</td> <td>-6.19e-06</td> <td> 2.98e-07</td>\n",
       "</tr>\n",
       "<tr>\n",
       "   <th>PAY_0=0</th>     <th>coef</th>     <th>std err</th>      <th>z</th>      <th>P>|z|</th>  <th>[0.025</th>    <th>0.975]</th>  \n",
       "</tr>\n",
       "<tr>\n",
       "  <th>const</th>     <td>    8.9797</td> <td>    0.333</td> <td>   26.930</td> <td> 0.000</td> <td>    8.326</td> <td>    9.633</td>\n",
       "</tr>\n",
       "<tr>\n",
       "  <th>LIMIT_BAL</th> <td>-4.532e-06</td> <td> 3.07e-07</td> <td>  -14.777</td> <td> 0.000</td> <td>-5.13e-06</td> <td>-3.93e-06</td>\n",
       "</tr>\n",
       "<tr>\n",
       "  <th>SEX</th>       <td>   -0.2313</td> <td>    0.073</td> <td>   -3.155</td> <td> 0.002</td> <td>   -0.375</td> <td>   -0.088</td>\n",
       "</tr>\n",
       "<tr>\n",
       "  <th>EDUCATION</th> <td>   -0.0285</td> <td>    0.044</td> <td>   -0.651</td> <td> 0.515</td> <td>   -0.115</td> <td>    0.057</td>\n",
       "</tr>\n",
       "<tr>\n",
       "  <th>MARRIAGE</th>  <td>    0.0287</td> <td>    0.075</td> <td>    0.383</td> <td> 0.702</td> <td>   -0.118</td> <td>    0.176</td>\n",
       "</tr>\n",
       "<tr>\n",
       "  <th>AGE</th>       <td>   -0.0047</td> <td>    0.004</td> <td>   -1.053</td> <td> 0.292</td> <td>   -0.014</td> <td>    0.004</td>\n",
       "</tr>\n",
       "<tr>\n",
       "  <th>PAY_2</th>     <td>    3.8719</td> <td>    0.114</td> <td>   33.887</td> <td> 0.000</td> <td>    3.648</td> <td>    4.096</td>\n",
       "</tr>\n",
       "<tr>\n",
       "  <th>PAY_3</th>     <td>   -0.2820</td> <td>    0.079</td> <td>   -3.553</td> <td> 0.000</td> <td>   -0.438</td> <td>   -0.126</td>\n",
       "</tr>\n",
       "<tr>\n",
       "  <th>PAY_4</th>     <td>    0.4448</td> <td>    0.088</td> <td>    5.082</td> <td> 0.000</td> <td>    0.273</td> <td>    0.616</td>\n",
       "</tr>\n",
       "<tr>\n",
       "  <th>PAY_5</th>     <td>    0.2042</td> <td>    0.088</td> <td>    2.321</td> <td> 0.020</td> <td>    0.032</td> <td>    0.377</td>\n",
       "</tr>\n",
       "<tr>\n",
       "  <th>PAY_6</th>     <td>    0.4338</td> <td>    0.070</td> <td>    6.226</td> <td> 0.000</td> <td>    0.297</td> <td>    0.570</td>\n",
       "</tr>\n",
       "<tr>\n",
       "  <th>BILL_AMT1</th> <td> 7.103e-06</td> <td> 1.76e-06</td> <td>    4.039</td> <td> 0.000</td> <td> 3.66e-06</td> <td> 1.05e-05</td>\n",
       "</tr>\n",
       "<tr>\n",
       "  <th>BILL_AMT2</th> <td>-6.862e-06</td> <td> 2.86e-06</td> <td>   -2.402</td> <td> 0.016</td> <td>-1.25e-05</td> <td>-1.26e-06</td>\n",
       "</tr>\n",
       "<tr>\n",
       "  <th>BILL_AMT3</th> <td> 2.105e-06</td> <td> 3.25e-06</td> <td>    0.648</td> <td> 0.517</td> <td>-4.26e-06</td> <td> 8.47e-06</td>\n",
       "</tr>\n",
       "<tr>\n",
       "  <th>BILL_AMT4</th> <td> -1.78e-06</td> <td> 3.15e-06</td> <td>   -0.565</td> <td> 0.572</td> <td>-7.95e-06</td> <td> 4.39e-06</td>\n",
       "</tr>\n",
       "<tr>\n",
       "  <th>BILL_AMT5</th> <td> 3.998e-06</td> <td> 3.57e-06</td> <td>    1.120</td> <td> 0.263</td> <td>   -3e-06</td> <td>  1.1e-05</td>\n",
       "</tr>\n",
       "<tr>\n",
       "  <th>BILL_AMT6</th> <td> 3.818e-06</td> <td> 2.76e-06</td> <td>    1.381</td> <td> 0.167</td> <td> -1.6e-06</td> <td> 9.24e-06</td>\n",
       "</tr>\n",
       "<tr>\n",
       "  <th>PAY_AMT1</th>  <td>-1.115e-05</td> <td> 2.49e-06</td> <td>   -4.480</td> <td> 0.000</td> <td> -1.6e-05</td> <td>-6.27e-06</td>\n",
       "</tr>\n",
       "<tr>\n",
       "  <th>PAY_AMT2</th>  <td>-1.146e-05</td> <td> 2.47e-06</td> <td>   -4.641</td> <td> 0.000</td> <td>-1.63e-05</td> <td>-6.62e-06</td>\n",
       "</tr>\n",
       "<tr>\n",
       "  <th>PAY_AMT3</th>  <td>-8.701e-06</td> <td> 2.66e-06</td> <td>   -3.267</td> <td> 0.001</td> <td>-1.39e-05</td> <td>-3.48e-06</td>\n",
       "</tr>\n",
       "<tr>\n",
       "  <th>PAY_AMT4</th>  <td>-1.289e-05</td> <td> 2.99e-06</td> <td>   -4.313</td> <td> 0.000</td> <td>-1.87e-05</td> <td>-7.03e-06</td>\n",
       "</tr>\n",
       "<tr>\n",
       "  <th>PAY_AMT5</th>  <td>-1.132e-05</td> <td> 3.15e-06</td> <td>   -3.593</td> <td> 0.000</td> <td>-1.75e-05</td> <td>-5.15e-06</td>\n",
       "</tr>\n",
       "<tr>\n",
       "  <th>PAY_AMT6</th>  <td>-8.818e-06</td> <td> 1.97e-06</td> <td>   -4.476</td> <td> 0.000</td> <td>-1.27e-05</td> <td>-4.96e-06</td>\n",
       "</tr>\n",
       "<tr>\n",
       "   <th>PAY_0=1</th>     <th>coef</th>     <th>std err</th>      <th>z</th>      <th>P>|z|</th>  <th>[0.025</th>    <th>0.975]</th>  \n",
       "</tr>\n",
       "<tr>\n",
       "  <th>const</th>     <td>    8.5661</td> <td>    0.346</td> <td>   24.767</td> <td> 0.000</td> <td>    7.888</td> <td>    9.244</td>\n",
       "</tr>\n",
       "<tr>\n",
       "  <th>LIMIT_BAL</th> <td>-1.844e-06</td> <td> 3.25e-07</td> <td>   -5.680</td> <td> 0.000</td> <td>-2.48e-06</td> <td>-1.21e-06</td>\n",
       "</tr>\n",
       "<tr>\n",
       "  <th>SEX</th>       <td>   -0.2155</td> <td>    0.077</td> <td>   -2.801</td> <td> 0.005</td> <td>   -0.366</td> <td>   -0.065</td>\n",
       "</tr>\n",
       "<tr>\n",
       "  <th>EDUCATION</th> <td>   -0.1804</td> <td>    0.047</td> <td>   -3.824</td> <td> 0.000</td> <td>   -0.273</td> <td>   -0.088</td>\n",
       "</tr>\n",
       "<tr>\n",
       "  <th>MARRIAGE</th>  <td>   -0.1131</td> <td>    0.079</td> <td>   -1.433</td> <td> 0.152</td> <td>   -0.268</td> <td>    0.042</td>\n",
       "</tr>\n",
       "<tr>\n",
       "  <th>AGE</th>       <td>    0.0051</td> <td>    0.005</td> <td>    1.082</td> <td> 0.279</td> <td>   -0.004</td> <td>    0.014</td>\n",
       "</tr>\n",
       "<tr>\n",
       "  <th>PAY_2</th>     <td>    4.9348</td> <td>    0.115</td> <td>   42.861</td> <td> 0.000</td> <td>    4.709</td> <td>    5.160</td>\n",
       "</tr>\n",
       "<tr>\n",
       "  <th>PAY_3</th>     <td>   -0.4706</td> <td>    0.081</td> <td>   -5.790</td> <td> 0.000</td> <td>   -0.630</td> <td>   -0.311</td>\n",
       "</tr>\n",
       "<tr>\n",
       "  <th>PAY_4</th>     <td>    0.4015</td> <td>    0.090</td> <td>    4.476</td> <td> 0.000</td> <td>    0.226</td> <td>    0.577</td>\n",
       "</tr>\n",
       "<tr>\n",
       "  <th>PAY_5</th>     <td>    0.1736</td> <td>    0.091</td> <td>    1.917</td> <td> 0.055</td> <td>   -0.004</td> <td>    0.351</td>\n",
       "</tr>\n",
       "<tr>\n",
       "  <th>PAY_6</th>     <td>    0.3552</td> <td>    0.072</td> <td>    4.942</td> <td> 0.000</td> <td>    0.214</td> <td>    0.496</td>\n",
       "</tr>\n",
       "<tr>\n",
       "  <th>BILL_AMT1</th> <td>-2.314e-05</td> <td> 2.44e-06</td> <td>   -9.474</td> <td> 0.000</td> <td>-2.79e-05</td> <td>-1.84e-05</td>\n",
       "</tr>\n",
       "<tr>\n",
       "  <th>BILL_AMT2</th> <td> 4.186e-06</td> <td> 3.46e-06</td> <td>    1.211</td> <td> 0.226</td> <td>-2.59e-06</td> <td>  1.1e-05</td>\n",
       "</tr>\n",
       "<tr>\n",
       "  <th>BILL_AMT3</th> <td> 4.224e-06</td> <td> 3.59e-06</td> <td>    1.175</td> <td> 0.240</td> <td>-2.82e-06</td> <td> 1.13e-05</td>\n",
       "</tr>\n",
       "<tr>\n",
       "  <th>BILL_AMT4</th> <td> -1.01e-06</td> <td> 3.53e-06</td> <td>   -0.286</td> <td> 0.775</td> <td>-7.93e-06</td> <td> 5.91e-06</td>\n",
       "</tr>\n",
       "<tr>\n",
       "  <th>BILL_AMT5</th> <td> 1.317e-05</td> <td> 3.88e-06</td> <td>    3.398</td> <td> 0.001</td> <td> 5.58e-06</td> <td> 2.08e-05</td>\n",
       "</tr>\n",
       "<tr>\n",
       "  <th>BILL_AMT6</th> <td> 3.084e-06</td> <td> 2.98e-06</td> <td>    1.036</td> <td> 0.300</td> <td>-2.75e-06</td> <td> 8.92e-06</td>\n",
       "</tr>\n",
       "<tr>\n",
       "  <th>PAY_AMT1</th>  <td> -3.61e-05</td> <td> 3.52e-06</td> <td>  -10.246</td> <td> 0.000</td> <td> -4.3e-05</td> <td>-2.92e-05</td>\n",
       "</tr>\n",
       "<tr>\n",
       "  <th>PAY_AMT2</th>  <td>-2.341e-05</td> <td> 3.08e-06</td> <td>   -7.606</td> <td> 0.000</td> <td>-2.94e-05</td> <td>-1.74e-05</td>\n",
       "</tr>\n",
       "<tr>\n",
       "  <th>PAY_AMT3</th>  <td>-2.167e-05</td> <td> 3.45e-06</td> <td>   -6.281</td> <td> 0.000</td> <td>-2.84e-05</td> <td>-1.49e-05</td>\n",
       "</tr>\n",
       "<tr>\n",
       "  <th>PAY_AMT4</th>  <td>-2.499e-05</td> <td> 3.61e-06</td> <td>   -6.933</td> <td> 0.000</td> <td>-3.21e-05</td> <td>-1.79e-05</td>\n",
       "</tr>\n",
       "<tr>\n",
       "  <th>PAY_AMT5</th>  <td>-1.809e-05</td> <td> 3.75e-06</td> <td>   -4.821</td> <td> 0.000</td> <td>-2.54e-05</td> <td>-1.07e-05</td>\n",
       "</tr>\n",
       "<tr>\n",
       "  <th>PAY_AMT6</th>  <td>-1.122e-05</td> <td> 2.35e-06</td> <td>   -4.779</td> <td> 0.000</td> <td>-1.58e-05</td> <td>-6.62e-06</td>\n",
       "</tr>\n",
       "</table>"
      ],
      "text/plain": [
       "<class 'statsmodels.iolib.summary.Summary'>\n",
       "\"\"\"\n",
       "                          MNLogit Regression Results                          \n",
       "==============================================================================\n",
       "Dep. Variable:                  PAY_0   No. Observations:                30000\n",
       "Model:                        MNLogit   Df Residuals:                    29931\n",
       "Method:                           MLE   Df Model:                           66\n",
       "Date:                Mon, 29 Mar 2021   Pseudo R-squ.:                  0.3754\n",
       "Time:                        21:11:19   Log-Likelihood:                -22871.\n",
       "converged:                       True   LL-Null:                       -36618.\n",
       "Covariance Type:            nonrobust   LLR p-value:                     0.000\n",
       "==============================================================================\n",
       "  PAY_0=-1       coef    std err          z      P>|z|      [0.025      0.975]\n",
       "------------------------------------------------------------------------------\n",
       "const          8.7368      0.328     26.622      0.000       8.094       9.380\n",
       "LIMIT_BAL  -1.051e-06   2.92e-07     -3.596      0.000   -1.62e-06   -4.78e-07\n",
       "SEX           -0.1590      0.072     -2.223      0.026      -0.299      -0.019\n",
       "EDUCATION     -0.2542      0.044     -5.838      0.000      -0.339      -0.169\n",
       "MARRIAGE      -0.0991      0.073     -1.351      0.177      -0.243       0.045\n",
       "AGE            0.0074      0.004      1.684      0.092      -0.001       0.016\n",
       "PAY_2          4.2855      0.114     37.478      0.000       4.061       4.510\n",
       "PAY_3         -0.4013      0.079     -5.059      0.000      -0.557      -0.246\n",
       "PAY_4          0.2645      0.088      3.013      0.003       0.092       0.437\n",
       "PAY_5          0.1763      0.088      2.005      0.045       0.004       0.349\n",
       "PAY_6          0.3368      0.070      4.840      0.000       0.200       0.473\n",
       "BILL_AMT1  -1.451e-05      2e-06     -7.256      0.000   -1.84e-05   -1.06e-05\n",
       "BILL_AMT2   -3.93e-05   3.27e-06    -12.005      0.000   -4.57e-05   -3.29e-05\n",
       "BILL_AMT3  -8.032e-06   3.09e-06     -2.600      0.009   -1.41e-05   -1.98e-06\n",
       "BILL_AMT4   2.279e-06   2.89e-06      0.789      0.430   -3.38e-06    7.94e-06\n",
       "BILL_AMT5   -1.86e-06   3.16e-06     -0.589      0.556   -8.05e-06    4.33e-06\n",
       "BILL_AMT6   -7.21e-06   2.64e-06     -2.734      0.006   -1.24e-05   -2.04e-06\n",
       "PAY_AMT1    3.423e-05   3.06e-06     11.201      0.000    2.82e-05    4.02e-05\n",
       "PAY_AMT2      3.8e-06   1.92e-06      1.975      0.048    2.95e-08    7.57e-06\n",
       "PAY_AMT3    4.261e-07   2.74e-06      0.156      0.876   -4.94e-06    5.79e-06\n",
       "PAY_AMT4     3.94e-07   2.84e-06      0.139      0.890   -5.17e-06    5.96e-06\n",
       "PAY_AMT5    6.995e-08   2.96e-06      0.024      0.981   -5.72e-06    5.86e-06\n",
       "PAY_AMT6   -2.944e-06   1.65e-06     -1.780      0.075   -6.19e-06    2.98e-07\n",
       "------------------------------------------------------------------------------\n",
       "   PAY_0=0       coef    std err          z      P>|z|      [0.025      0.975]\n",
       "------------------------------------------------------------------------------\n",
       "const          8.9797      0.333     26.930      0.000       8.326       9.633\n",
       "LIMIT_BAL  -4.532e-06   3.07e-07    -14.777      0.000   -5.13e-06   -3.93e-06\n",
       "SEX           -0.2313      0.073     -3.155      0.002      -0.375      -0.088\n",
       "EDUCATION     -0.0285      0.044     -0.651      0.515      -0.115       0.057\n",
       "MARRIAGE       0.0287      0.075      0.383      0.702      -0.118       0.176\n",
       "AGE           -0.0047      0.004     -1.053      0.292      -0.014       0.004\n",
       "PAY_2          3.8719      0.114     33.887      0.000       3.648       4.096\n",
       "PAY_3         -0.2820      0.079     -3.553      0.000      -0.438      -0.126\n",
       "PAY_4          0.4448      0.088      5.082      0.000       0.273       0.616\n",
       "PAY_5          0.2042      0.088      2.321      0.020       0.032       0.377\n",
       "PAY_6          0.4338      0.070      6.226      0.000       0.297       0.570\n",
       "BILL_AMT1   7.103e-06   1.76e-06      4.039      0.000    3.66e-06    1.05e-05\n",
       "BILL_AMT2  -6.862e-06   2.86e-06     -2.402      0.016   -1.25e-05   -1.26e-06\n",
       "BILL_AMT3   2.105e-06   3.25e-06      0.648      0.517   -4.26e-06    8.47e-06\n",
       "BILL_AMT4   -1.78e-06   3.15e-06     -0.565      0.572   -7.95e-06    4.39e-06\n",
       "BILL_AMT5   3.998e-06   3.57e-06      1.120      0.263      -3e-06     1.1e-05\n",
       "BILL_AMT6   3.818e-06   2.76e-06      1.381      0.167    -1.6e-06    9.24e-06\n",
       "PAY_AMT1   -1.115e-05   2.49e-06     -4.480      0.000    -1.6e-05   -6.27e-06\n",
       "PAY_AMT2   -1.146e-05   2.47e-06     -4.641      0.000   -1.63e-05   -6.62e-06\n",
       "PAY_AMT3   -8.701e-06   2.66e-06     -3.267      0.001   -1.39e-05   -3.48e-06\n",
       "PAY_AMT4   -1.289e-05   2.99e-06     -4.313      0.000   -1.87e-05   -7.03e-06\n",
       "PAY_AMT5   -1.132e-05   3.15e-06     -3.593      0.000   -1.75e-05   -5.15e-06\n",
       "PAY_AMT6   -8.818e-06   1.97e-06     -4.476      0.000   -1.27e-05   -4.96e-06\n",
       "------------------------------------------------------------------------------\n",
       "   PAY_0=1       coef    std err          z      P>|z|      [0.025      0.975]\n",
       "------------------------------------------------------------------------------\n",
       "const          8.5661      0.346     24.767      0.000       7.888       9.244\n",
       "LIMIT_BAL  -1.844e-06   3.25e-07     -5.680      0.000   -2.48e-06   -1.21e-06\n",
       "SEX           -0.2155      0.077     -2.801      0.005      -0.366      -0.065\n",
       "EDUCATION     -0.1804      0.047     -3.824      0.000      -0.273      -0.088\n",
       "MARRIAGE      -0.1131      0.079     -1.433      0.152      -0.268       0.042\n",
       "AGE            0.0051      0.005      1.082      0.279      -0.004       0.014\n",
       "PAY_2          4.9348      0.115     42.861      0.000       4.709       5.160\n",
       "PAY_3         -0.4706      0.081     -5.790      0.000      -0.630      -0.311\n",
       "PAY_4          0.4015      0.090      4.476      0.000       0.226       0.577\n",
       "PAY_5          0.1736      0.091      1.917      0.055      -0.004       0.351\n",
       "PAY_6          0.3552      0.072      4.942      0.000       0.214       0.496\n",
       "BILL_AMT1  -2.314e-05   2.44e-06     -9.474      0.000   -2.79e-05   -1.84e-05\n",
       "BILL_AMT2   4.186e-06   3.46e-06      1.211      0.226   -2.59e-06     1.1e-05\n",
       "BILL_AMT3   4.224e-06   3.59e-06      1.175      0.240   -2.82e-06    1.13e-05\n",
       "BILL_AMT4   -1.01e-06   3.53e-06     -0.286      0.775   -7.93e-06    5.91e-06\n",
       "BILL_AMT5   1.317e-05   3.88e-06      3.398      0.001    5.58e-06    2.08e-05\n",
       "BILL_AMT6   3.084e-06   2.98e-06      1.036      0.300   -2.75e-06    8.92e-06\n",
       "PAY_AMT1    -3.61e-05   3.52e-06    -10.246      0.000    -4.3e-05   -2.92e-05\n",
       "PAY_AMT2   -2.341e-05   3.08e-06     -7.606      0.000   -2.94e-05   -1.74e-05\n",
       "PAY_AMT3   -2.167e-05   3.45e-06     -6.281      0.000   -2.84e-05   -1.49e-05\n",
       "PAY_AMT4   -2.499e-05   3.61e-06     -6.933      0.000   -3.21e-05   -1.79e-05\n",
       "PAY_AMT5   -1.809e-05   3.75e-06     -4.821      0.000   -2.54e-05   -1.07e-05\n",
       "PAY_AMT6   -1.122e-05   2.35e-06     -4.779      0.000   -1.58e-05   -6.62e-06\n",
       "==============================================================================\n",
       "\"\"\""
      ]
     },
     "execution_count": 57,
     "metadata": {},
     "output_type": "execute_result"
    }
   ],
   "source": [
    "multi_sm = sm.MNLogit(pay_0_target, sm.add_constant(pay_0_features))\n",
    "multi_sm_results = multi_sm.fit()\n",
    "multi_sm_results.summary()"
   ]
  },
  {
   "cell_type": "code",
   "execution_count": 58,
   "metadata": {},
   "outputs": [
    {
     "data": {
      "text/html": [
       "<div>\n",
       "<style scoped>\n",
       "    .dataframe tbody tr th:only-of-type {\n",
       "        vertical-align: middle;\n",
       "    }\n",
       "\n",
       "    .dataframe tbody tr th {\n",
       "        vertical-align: top;\n",
       "    }\n",
       "\n",
       "    .dataframe thead th {\n",
       "        text-align: right;\n",
       "    }\n",
       "</style>\n",
       "<table border=\"1\" class=\"dataframe\">\n",
       "  <thead>\n",
       "    <tr style=\"text-align: right;\">\n",
       "      <th></th>\n",
       "      <th>0</th>\n",
       "      <th>1</th>\n",
       "      <th>2</th>\n",
       "      <th>3</th>\n",
       "    </tr>\n",
       "    <tr>\n",
       "      <th>ID</th>\n",
       "      <th></th>\n",
       "      <th></th>\n",
       "      <th></th>\n",
       "      <th></th>\n",
       "    </tr>\n",
       "  </thead>\n",
       "  <tbody>\n",
       "    <tr>\n",
       "      <th>1</th>\n",
       "      <td>4.428132e-08</td>\n",
       "      <td>0.231129</td>\n",
       "      <td>0.096030</td>\n",
       "      <td>0.672841</td>\n",
       "    </tr>\n",
       "    <tr>\n",
       "      <th>2</th>\n",
       "      <td>1.021591e-08</td>\n",
       "      <td>0.216915</td>\n",
       "      <td>0.141629</td>\n",
       "      <td>0.641456</td>\n",
       "    </tr>\n",
       "    <tr>\n",
       "      <th>3</th>\n",
       "      <td>1.944061e-04</td>\n",
       "      <td>0.161322</td>\n",
       "      <td>0.622301</td>\n",
       "      <td>0.216183</td>\n",
       "    </tr>\n",
       "    <tr>\n",
       "      <th>4</th>\n",
       "      <td>1.786463e-04</td>\n",
       "      <td>0.024741</td>\n",
       "      <td>0.705208</td>\n",
       "      <td>0.269872</td>\n",
       "    </tr>\n",
       "    <tr>\n",
       "      <th>5</th>\n",
       "      <td>1.185660e-04</td>\n",
       "      <td>0.428542</td>\n",
       "      <td>0.373894</td>\n",
       "      <td>0.197445</td>\n",
       "    </tr>\n",
       "    <tr>\n",
       "      <th>...</th>\n",
       "      <td>...</td>\n",
       "      <td>...</td>\n",
       "      <td>...</td>\n",
       "      <td>...</td>\n",
       "    </tr>\n",
       "    <tr>\n",
       "      <th>29996</th>\n",
       "      <td>5.221196e-04</td>\n",
       "      <td>0.000011</td>\n",
       "      <td>0.967483</td>\n",
       "      <td>0.031983</td>\n",
       "    </tr>\n",
       "    <tr>\n",
       "      <th>29997</th>\n",
       "      <td>1.145075e-02</td>\n",
       "      <td>0.417066</td>\n",
       "      <td>0.450799</td>\n",
       "      <td>0.120684</td>\n",
       "    </tr>\n",
       "    <tr>\n",
       "      <th>29998</th>\n",
       "      <td>5.753944e-10</td>\n",
       "      <td>0.181388</td>\n",
       "      <td>0.090747</td>\n",
       "      <td>0.727865</td>\n",
       "    </tr>\n",
       "    <tr>\n",
       "      <th>29999</th>\n",
       "      <td>5.334293e-02</td>\n",
       "      <td>0.554710</td>\n",
       "      <td>0.368543</td>\n",
       "      <td>0.023404</td>\n",
       "    </tr>\n",
       "    <tr>\n",
       "      <th>30000</th>\n",
       "      <td>1.506246e-04</td>\n",
       "      <td>0.028115</td>\n",
       "      <td>0.682795</td>\n",
       "      <td>0.288939</td>\n",
       "    </tr>\n",
       "  </tbody>\n",
       "</table>\n",
       "<p>30000 rows × 4 columns</p>\n",
       "</div>"
      ],
      "text/plain": [
       "                  0         1         2         3\n",
       "ID                                               \n",
       "1      4.428132e-08  0.231129  0.096030  0.672841\n",
       "2      1.021591e-08  0.216915  0.141629  0.641456\n",
       "3      1.944061e-04  0.161322  0.622301  0.216183\n",
       "4      1.786463e-04  0.024741  0.705208  0.269872\n",
       "5      1.185660e-04  0.428542  0.373894  0.197445\n",
       "...             ...       ...       ...       ...\n",
       "29996  5.221196e-04  0.000011  0.967483  0.031983\n",
       "29997  1.145075e-02  0.417066  0.450799  0.120684\n",
       "29998  5.753944e-10  0.181388  0.090747  0.727865\n",
       "29999  5.334293e-02  0.554710  0.368543  0.023404\n",
       "30000  1.506246e-04  0.028115  0.682795  0.288939\n",
       "\n",
       "[30000 rows x 4 columns]"
      ]
     },
     "execution_count": 58,
     "metadata": {},
     "output_type": "execute_result"
    }
   ],
   "source": [
    "multi_sm_results.predict(sm.add_constant(pay_0_features))"
   ]
  },
  {
   "cell_type": "markdown",
   "metadata": {},
   "source": [
    "## OVR and OVO"
   ]
  },
  {
   "cell_type": "code",
   "execution_count": 59,
   "metadata": {},
   "outputs": [
    {
     "data": {
      "text/plain": [
       "0.5973333333333334"
      ]
     },
     "execution_count": 59,
     "metadata": {},
     "output_type": "execute_result"
    }
   ],
   "source": [
    "pay_0_target = df['PAY_0'].replace({i: 1 for i in range(1, 9)})\n",
    "pay_0_features = df.drop(['PAY_0', 'default payment next month'], axis=1)\n",
    "\n",
    "lr_multi_ovr = LogisticRegression(max_iter=1000, multi_class='ovr')\n",
    "lr_multi_ovr.fit(pay_0_features, pay_0_target)\n",
    "lr_multi_ovr.score(pay_0_features, pay_0_target)"
   ]
  },
  {
   "cell_type": "code",
   "execution_count": 60,
   "metadata": {},
   "outputs": [
    {
     "data": {
      "text/plain": [
       "array([[ 3.76345238e-06, -2.61971137e-03, -3.28011577e-03,\n",
       "        -2.79702379e-03, -5.63501430e-02, -2.16946575e-03,\n",
       "        -1.79826830e-03, -1.46215270e-03, -1.21444071e-03,\n",
       "        -1.04436617e-03, -1.15019729e-05, -3.74977417e-05,\n",
       "        -1.03085787e-05, -7.82723445e-06, -7.37491773e-06,\n",
       "        -7.35732438e-06,  3.68141299e-05,  1.11498189e-05,\n",
       "         7.45238226e-06,  1.12219980e-05,  7.95711624e-06,\n",
       "         9.84712767e-07],\n",
       "       [ 1.51201052e-06, -1.06909244e-03, -1.52979012e-03,\n",
       "        -1.13049415e-03, -2.17100772e-02,  6.33667138e-04,\n",
       "         5.02486661e-04,  4.13478654e-04,  5.05454619e-04,\n",
       "         5.18318586e-04, -1.01244896e-05, -3.89185906e-05,\n",
       "        -1.11057080e-05,  2.82960701e-06, -3.41645890e-06,\n",
       "        -9.01850208e-06,  4.95888152e-05,  1.17356217e-05,\n",
       "         7.42923181e-06,  8.94655825e-06,  9.31301175e-06,\n",
       "         3.00671749e-06],\n",
       "       [-3.51922062e-06, -2.69856080e-04, -1.96600846e-04,\n",
       "        -1.49742933e-04, -7.65362867e-03, -6.47084909e-04,\n",
       "        -2.71815932e-05,  1.75839886e-04,  1.98946091e-04,\n",
       "         2.47547427e-04,  1.83087216e-05,  7.85815789e-07,\n",
       "         2.43318879e-06, -1.43311784e-06, -5.15852663e-06,\n",
       "         2.31488446e-06,  2.30890664e-06, -2.15483742e-06,\n",
       "         7.13883843e-07,  2.79829251e-06, -1.88569700e-06,\n",
       "        -3.05270473e-06],\n",
       "       [-2.53249061e-06, -7.38450475e-04, -9.03716090e-04,\n",
       "        -7.77092705e-04, -1.37110159e-02,  2.09723093e-03,\n",
       "         1.32616759e-03,  1.08613485e-03,  9.88641250e-04,\n",
       "         9.07034738e-04, -2.45976526e-05,  1.38390688e-05,\n",
       "         2.58161514e-06,  1.90424648e-06,  9.61469138e-06,\n",
       "         2.23616107e-06, -5.42369470e-05, -1.66449538e-05,\n",
       "        -1.91162200e-05, -1.53037196e-05, -8.79505352e-06,\n",
       "        -2.90999487e-06]])"
      ]
     },
     "execution_count": 60,
     "metadata": {},
     "output_type": "execute_result"
    }
   ],
   "source": [
    "lr_multi_ovr.coef_"
   ]
  },
  {
   "cell_type": "code",
   "execution_count": 61,
   "metadata": {},
   "outputs": [
    {
     "data": {
      "text/plain": [
       "0.5973333333333334"
      ]
     },
     "execution_count": 61,
     "metadata": {},
     "output_type": "execute_result"
    }
   ],
   "source": [
    "lr_multi.score(pay_0_features, pay_0_target)\n",
    "lr_multi_ovr.score(pay_0_features, pay_0_target)"
   ]
  },
  {
   "cell_type": "code",
   "execution_count": 62,
   "metadata": {},
   "outputs": [
    {
     "data": {
      "text/plain": [
       "OneVsOneClassifier(estimator=LogisticRegression(max_iter=1000), n_jobs=-1)"
      ]
     },
     "execution_count": 62,
     "metadata": {},
     "output_type": "execute_result"
    }
   ],
   "source": [
    "from sklearn.multiclass import OneVsOneClassifier, OneVsRestClassifier\n",
    "\n",
    "lr_ovr = OneVsRestClassifier(LogisticRegression(max_iter=1000), n_jobs=-1)\n",
    "lr_ovo = OneVsOneClassifier(LogisticRegression(max_iter=1000), n_jobs=-1)\n",
    "\n",
    "lr_ovr.fit(pay_0_features, pay_0_target)\n",
    "lr_ovo.fit(pay_0_features, pay_0_target)"
   ]
  },
  {
   "cell_type": "code",
   "execution_count": 63,
   "metadata": {},
   "outputs": [
    {
     "data": {
      "text/plain": [
       "array([ 0, -1,  0, ...,  0, -1,  0], dtype=int64)"
      ]
     },
     "execution_count": 63,
     "metadata": {},
     "output_type": "execute_result"
    }
   ],
   "source": [
    "lr_ovr.predict(pay_0_features)"
   ]
  },
  {
   "cell_type": "code",
   "execution_count": 64,
   "metadata": {},
   "outputs": [
    {
     "data": {
      "text/plain": [
       "array([[0.1381463 , 0.24803889, 0.33036255, 0.28345226],\n",
       "       [0.17816854, 0.28990241, 0.27626337, 0.25566568],\n",
       "       [0.05904036, 0.17526991, 0.51039155, 0.25529818],\n",
       "       ...,\n",
       "       [0.07621878, 0.26694391, 0.37589221, 0.2809451 ],\n",
       "       [0.0535112 , 0.48565511, 0.44754756, 0.01328613],\n",
       "       [0.00330878, 0.02320897, 0.65208867, 0.32139358]])"
      ]
     },
     "execution_count": 64,
     "metadata": {},
     "output_type": "execute_result"
    }
   ],
   "source": [
    "lr_ovr.predict_proba(pay_0_features)"
   ]
  },
  {
   "cell_type": "code",
   "execution_count": 65,
   "metadata": {},
   "outputs": [
    {
     "data": {
      "text/plain": [
       "0.5974333333333334"
      ]
     },
     "execution_count": 65,
     "metadata": {},
     "output_type": "execute_result"
    }
   ],
   "source": [
    "lr_ovr.score(pay_0_features, pay_0_target)"
   ]
  },
  {
   "cell_type": "code",
   "execution_count": 66,
   "metadata": {},
   "outputs": [
    {
     "data": {
      "text/plain": [
       "array([-2, -1,  0,  1], dtype=int64)"
      ]
     },
     "execution_count": 66,
     "metadata": {},
     "output_type": "execute_result"
    }
   ],
   "source": [
    "lr_ovr.classes_"
   ]
  },
  {
   "cell_type": "code",
   "execution_count": 67,
   "metadata": {},
   "outputs": [
    {
     "data": {
      "text/plain": [
       "array([[ 3.76268112e-06, -2.61933828e-03, -3.27965319e-03,\n",
       "        -2.79661572e-03, -5.63423701e-02, -2.16909765e-03,\n",
       "        -1.79796308e-03, -1.46189486e-03, -1.21422201e-03,\n",
       "        -1.04417470e-03, -1.15145878e-05, -3.74830870e-05,\n",
       "        -1.03233270e-05, -7.74363162e-06, -7.43077562e-06,\n",
       "        -7.35369311e-06,  3.67917844e-05,  1.11560127e-05,\n",
       "         7.37961470e-06,  1.12802737e-05,  7.95886961e-06,\n",
       "         9.65817061e-07]])"
      ]
     },
     "execution_count": 67,
     "metadata": {},
     "output_type": "execute_result"
    }
   ],
   "source": [
    "lr_ovr.estimators_[0].coef_"
   ]
  },
  {
   "cell_type": "code",
   "execution_count": 68,
   "metadata": {},
   "outputs": [
    {
     "data": {
      "text/plain": [
       "array([-2, -1,  0,  1], dtype=int64)"
      ]
     },
     "execution_count": 68,
     "metadata": {},
     "output_type": "execute_result"
    }
   ],
   "source": [
    "lr_ovo.classes_"
   ]
  },
  {
   "cell_type": "code",
   "execution_count": 69,
   "metadata": {},
   "outputs": [
    {
     "data": {
      "text/plain": [
       "-1"
      ]
     },
     "execution_count": 69,
     "metadata": {},
     "output_type": "execute_result"
    }
   ],
   "source": [
    "lr_ovo.predict(pay_0_features)[9]"
   ]
  },
  {
   "cell_type": "code",
   "execution_count": 70,
   "metadata": {},
   "outputs": [
    {
     "data": {
      "text/plain": [
       "array([[   47],\n",
       "       [   64],\n",
       "       [  122],\n",
       "       ...,\n",
       "       [29862],\n",
       "       [29865],\n",
       "       [29919]], dtype=int64)"
      ]
     },
     "execution_count": 70,
     "metadata": {},
     "output_type": "execute_result"
    }
   ],
   "source": [
    "np.argwhere(lr_ovo.predict(pay_0_features) == 1)"
   ]
  },
  {
   "cell_type": "code",
   "execution_count": 71,
   "metadata": {},
   "outputs": [
    {
     "data": {
      "text/plain": [
       "array([[0.32962839, 0.67037161],\n",
       "       [0.36312027, 0.63687973],\n",
       "       [0.26720252, 0.73279748],\n",
       "       ...,\n",
       "       [0.21906841, 0.78093159],\n",
       "       [0.15871452, 0.84128548],\n",
       "       [0.15546927, 0.84453073]])"
      ]
     },
     "execution_count": 71,
     "metadata": {},
     "output_type": "execute_result"
    }
   ],
   "source": [
    "lr_ovo.estimators_[0].predict_proba(pay_0_features)"
   ]
  },
  {
   "cell_type": "code",
   "execution_count": 72,
   "metadata": {},
   "outputs": [
    {
     "name": "stdout",
     "output_type": "stream",
     "text": [
      "0.6147\n",
      "0.5974333333333334\n"
     ]
    }
   ],
   "source": [
    "print(lr_ovo.score(pay_0_features, pay_0_target))\n",
    "print(lr_ovr.score(pay_0_features, pay_0_target))"
   ]
  },
  {
   "cell_type": "markdown",
   "metadata": {},
   "source": [
    "## Multioutput classifiers with multiclass and multilabel problems"
   ]
  },
  {
   "cell_type": "code",
   "execution_count": 73,
   "metadata": {},
   "outputs": [],
   "source": [
    "import swifter\n",
    "\n",
    "pay_cols = ['PAY_0'] + [f'PAY_{i}' for i in range(2, 7)]\n",
    "mo_targets = df[pay_cols].copy()\n",
    "mo_targets = mo_targets.swifter.apply(lambda x: (x > 0).astype(int), axis=1)\n",
    "\n",
    "mo_features = df[[c for c in df.columns if c not in pay_cols +\n",
    "                  ['default payment next month']]]"
   ]
  },
  {
   "cell_type": "code",
   "execution_count": 74,
   "metadata": {},
   "outputs": [
    {
     "data": {
      "text/html": [
       "<div>\n",
       "<style scoped>\n",
       "    .dataframe tbody tr th:only-of-type {\n",
       "        vertical-align: middle;\n",
       "    }\n",
       "\n",
       "    .dataframe tbody tr th {\n",
       "        vertical-align: top;\n",
       "    }\n",
       "\n",
       "    .dataframe thead th {\n",
       "        text-align: right;\n",
       "    }\n",
       "</style>\n",
       "<table border=\"1\" class=\"dataframe\">\n",
       "  <thead>\n",
       "    <tr style=\"text-align: right;\">\n",
       "      <th></th>\n",
       "      <th>PAY_0</th>\n",
       "      <th>PAY_2</th>\n",
       "      <th>PAY_3</th>\n",
       "      <th>PAY_4</th>\n",
       "      <th>PAY_5</th>\n",
       "      <th>PAY_6</th>\n",
       "    </tr>\n",
       "    <tr>\n",
       "      <th>ID</th>\n",
       "      <th></th>\n",
       "      <th></th>\n",
       "      <th></th>\n",
       "      <th></th>\n",
       "      <th></th>\n",
       "      <th></th>\n",
       "    </tr>\n",
       "  </thead>\n",
       "  <tbody>\n",
       "    <tr>\n",
       "      <th>1</th>\n",
       "      <td>1</td>\n",
       "      <td>1</td>\n",
       "      <td>0</td>\n",
       "      <td>0</td>\n",
       "      <td>0</td>\n",
       "      <td>0</td>\n",
       "    </tr>\n",
       "    <tr>\n",
       "      <th>2</th>\n",
       "      <td>0</td>\n",
       "      <td>1</td>\n",
       "      <td>0</td>\n",
       "      <td>0</td>\n",
       "      <td>0</td>\n",
       "      <td>1</td>\n",
       "    </tr>\n",
       "    <tr>\n",
       "      <th>3</th>\n",
       "      <td>0</td>\n",
       "      <td>0</td>\n",
       "      <td>0</td>\n",
       "      <td>0</td>\n",
       "      <td>0</td>\n",
       "      <td>0</td>\n",
       "    </tr>\n",
       "    <tr>\n",
       "      <th>4</th>\n",
       "      <td>0</td>\n",
       "      <td>0</td>\n",
       "      <td>0</td>\n",
       "      <td>0</td>\n",
       "      <td>0</td>\n",
       "      <td>0</td>\n",
       "    </tr>\n",
       "    <tr>\n",
       "      <th>5</th>\n",
       "      <td>0</td>\n",
       "      <td>0</td>\n",
       "      <td>0</td>\n",
       "      <td>0</td>\n",
       "      <td>0</td>\n",
       "      <td>0</td>\n",
       "    </tr>\n",
       "    <tr>\n",
       "      <th>...</th>\n",
       "      <td>...</td>\n",
       "      <td>...</td>\n",
       "      <td>...</td>\n",
       "      <td>...</td>\n",
       "      <td>...</td>\n",
       "      <td>...</td>\n",
       "    </tr>\n",
       "    <tr>\n",
       "      <th>29996</th>\n",
       "      <td>0</td>\n",
       "      <td>0</td>\n",
       "      <td>0</td>\n",
       "      <td>0</td>\n",
       "      <td>0</td>\n",
       "      <td>0</td>\n",
       "    </tr>\n",
       "    <tr>\n",
       "      <th>29997</th>\n",
       "      <td>0</td>\n",
       "      <td>0</td>\n",
       "      <td>0</td>\n",
       "      <td>0</td>\n",
       "      <td>0</td>\n",
       "      <td>0</td>\n",
       "    </tr>\n",
       "    <tr>\n",
       "      <th>29998</th>\n",
       "      <td>1</td>\n",
       "      <td>1</td>\n",
       "      <td>1</td>\n",
       "      <td>0</td>\n",
       "      <td>0</td>\n",
       "      <td>0</td>\n",
       "    </tr>\n",
       "    <tr>\n",
       "      <th>29999</th>\n",
       "      <td>1</td>\n",
       "      <td>0</td>\n",
       "      <td>0</td>\n",
       "      <td>0</td>\n",
       "      <td>0</td>\n",
       "      <td>0</td>\n",
       "    </tr>\n",
       "    <tr>\n",
       "      <th>30000</th>\n",
       "      <td>0</td>\n",
       "      <td>0</td>\n",
       "      <td>0</td>\n",
       "      <td>0</td>\n",
       "      <td>0</td>\n",
       "      <td>0</td>\n",
       "    </tr>\n",
       "  </tbody>\n",
       "</table>\n",
       "<p>30000 rows × 6 columns</p>\n",
       "</div>"
      ],
      "text/plain": [
       "       PAY_0  PAY_2  PAY_3  PAY_4  PAY_5  PAY_6\n",
       "ID                                             \n",
       "1          1      1      0      0      0      0\n",
       "2          0      1      0      0      0      1\n",
       "3          0      0      0      0      0      0\n",
       "4          0      0      0      0      0      0\n",
       "5          0      0      0      0      0      0\n",
       "...      ...    ...    ...    ...    ...    ...\n",
       "29996      0      0      0      0      0      0\n",
       "29997      0      0      0      0      0      0\n",
       "29998      1      1      1      0      0      0\n",
       "29999      1      0      0      0      0      0\n",
       "30000      0      0      0      0      0      0\n",
       "\n",
       "[30000 rows x 6 columns]"
      ]
     },
     "execution_count": 74,
     "metadata": {},
     "output_type": "execute_result"
    }
   ],
   "source": [
    "mo_targets"
   ]
  },
  {
   "cell_type": "code",
   "execution_count": 75,
   "metadata": {
    "scrolled": true
   },
   "outputs": [
    {
     "data": {
      "text/plain": [
       "MultiOutputClassifier(estimator=LogisticRegression(max_iter=1000), n_jobs=-1)"
      ]
     },
     "execution_count": 75,
     "metadata": {},
     "output_type": "execute_result"
    }
   ],
   "source": [
    "from sklearn.multioutput import MultiOutputClassifier\n",
    "\n",
    "mo_clf = MultiOutputClassifier(LogisticRegression(max_iter=1000), n_jobs=-1)\n",
    "mo_clf.fit(mo_features, mo_targets)"
   ]
  },
  {
   "cell_type": "code",
   "execution_count": 76,
   "metadata": {},
   "outputs": [
    {
     "data": {
      "text/plain": [
       "0.6721333333333334"
      ]
     },
     "execution_count": 76,
     "metadata": {},
     "output_type": "execute_result"
    }
   ],
   "source": [
    "mo_clf.score(mo_features, mo_targets)"
   ]
  },
  {
   "cell_type": "code",
   "execution_count": 77,
   "metadata": {},
   "outputs": [
    {
     "data": {
      "text/plain": [
       "0.672"
      ]
     },
     "execution_count": 77,
     "metadata": {},
     "output_type": "execute_result"
    }
   ],
   "source": [
    "from sklearn.multioutput import ClassifierChain\n",
    "\n",
    "cc_clf = ClassifierChain(LogisticRegression(max_iter=1000))\n",
    "cc_clf.fit(mo_features, mo_targets)\n",
    "cc_clf.score(mo_features, mo_targets)"
   ]
  },
  {
   "cell_type": "markdown",
   "metadata": {},
   "source": [
    "# Evaluating classification algorithm performance with metrics"
   ]
  },
  {
   "cell_type": "code",
   "execution_count": 78,
   "metadata": {},
   "outputs": [],
   "source": [
    "from sklearn.model_selection import train_test_split\n",
    "\n",
    "target_col = 'default payment next month'\n",
    "x_train, x_test, y_train, y_test = train_test_split(df.drop(target_col, axis=1),\n",
    "                                                    df[target_col],\n",
    "                                                    train_size=0.75,\n",
    "                                                    stratify=train_targets)"
   ]
  },
  {
   "cell_type": "code",
   "execution_count": 79,
   "metadata": {},
   "outputs": [
    {
     "data": {
      "text/plain": [
       "LogisticRegression(max_iter=1000)"
      ]
     },
     "execution_count": 79,
     "metadata": {},
     "output_type": "execute_result"
    }
   ],
   "source": [
    "lr_model = LogisticRegression(max_iter=1000)\n",
    "lr_model.fit(x_train, y_train)"
   ]
  },
  {
   "cell_type": "markdown",
   "metadata": {},
   "source": [
    "## Accuracy"
   ]
  },
  {
   "cell_type": "code",
   "execution_count": 80,
   "metadata": {},
   "outputs": [
    {
     "name": "stdout",
     "output_type": "stream",
     "text": [
      "0.7787555555555555\n",
      "0.7788\n"
     ]
    }
   ],
   "source": [
    "print(lr_model.score(x_train, y_train))\n",
    "print(lr_model.score(x_test, y_test))"
   ]
  },
  {
   "cell_type": "code",
   "execution_count": 81,
   "metadata": {
    "scrolled": true
   },
   "outputs": [
    {
     "data": {
      "text/plain": [
       "0    0.7788\n",
       "1    0.2212\n",
       "Name: default payment next month, dtype: float64"
      ]
     },
     "execution_count": 81,
     "metadata": {},
     "output_type": "execute_result"
    }
   ],
   "source": [
    "df['default payment next month'].value_counts() / df.shape[0]"
   ]
  },
  {
   "cell_type": "code",
   "execution_count": 82,
   "metadata": {},
   "outputs": [
    {
     "name": "stdout",
     "output_type": "stream",
     "text": [
      "0.37909999999999994\n",
      "0.8097666666666667\n",
      "0.7551\n",
      "0.7965\n"
     ]
    }
   ],
   "source": [
    "from sklearn.model_selection import cross_val_score\n",
    "\n",
    "print(cross_val_score(gnb, train_features, train_targets, n_jobs=-1).mean())\n",
    "print(cross_val_score(lr_cv, train_features, train_targets, n_jobs=-1).mean())\n",
    "print(cross_val_score(knn, train_features, train_targets, n_jobs=-1).mean())\n",
    "print(cross_val_score(knn, scaled_features, train_targets, n_jobs=-1).mean())"
   ]
  },
  {
   "cell_type": "code",
   "execution_count": 83,
   "metadata": {},
   "outputs": [
    {
     "data": {
      "text/plain": [
       "0.8092"
      ]
     },
     "execution_count": 83,
     "metadata": {},
     "output_type": "execute_result"
    }
   ],
   "source": [
    "lr_cv.fit(x_train, y_train)\n",
    "lr_cv.score(x_test, y_test)"
   ]
  },
  {
   "cell_type": "markdown",
   "metadata": {},
   "source": [
    "## Cohen's Kappa"
   ]
  },
  {
   "cell_type": "code",
   "execution_count": 84,
   "metadata": {},
   "outputs": [
    {
     "data": {
      "text/plain": [
       "0.0"
      ]
     },
     "execution_count": 84,
     "metadata": {},
     "output_type": "execute_result"
    }
   ],
   "source": [
    "from sklearn.metrics import cohen_kappa_score\n",
    "\n",
    "cohen_kappa_score(y_test, lr_model.predict(x_test))"
   ]
  },
  {
   "cell_type": "code",
   "execution_count": 85,
   "metadata": {},
   "outputs": [
    {
     "name": "stdout",
     "output_type": "stream",
     "text": [
      "-6.663869982279636e-05\n"
     ]
    }
   ],
   "source": [
    "from sklearn.metrics import make_scorer\n",
    "\n",
    "print(cross_val_score(lr_model, train_features, train_targets, scoring=make_scorer(cohen_kappa_score), n_jobs=-1).mean())"
   ]
  },
  {
   "cell_type": "markdown",
   "metadata": {},
   "source": [
    "## The confusion matrix"
   ]
  },
  {
   "cell_type": "code",
   "execution_count": 86,
   "metadata": {},
   "outputs": [
    {
     "data": {
      "image/png": "[encoded data removed]",
      "text/plain": [
       "<Figure size 396x396 with 1 Axes>"
      ]
     },
     "metadata": {},
     "output_type": "display_data"
    }
   ],
   "source": [
    "from sklearn.metrics import plot_confusion_matrix\n",
    "\n",
    "f, ax = plt.subplots(1, 1, figsize=(5.5, 5.5))\n",
    "plot_confusion_matrix(lr_model,\n",
    "                      x_test,\n",
    "                      y_test,\n",
    "                      cmap=plt.cm.Blues,\n",
    "                      display_labels=['not defaulted', 'defaulted'],\n",
    "                      colorbar=False,\n",
    "                      ax=ax)\n",
    "plt.grid(b=None)\n",
    "plt.tight_layout()\n",
    "f.savefig('B17030_11_06.png', dpi=300)"
   ]
  },
  {
   "cell_type": "markdown",
   "metadata": {},
   "source": [
    "Using the yellowbrick package:"
   ]
  },
  {
   "cell_type": "code",
   "execution_count": 87,
   "metadata": {},
   "outputs": [
    {
     "data": {
      "image/png": "[encoded data removed]",
      "text/plain": [
       "<Figure size 396x396 with 1 Axes>"
      ]
     },
     "metadata": {},
     "output_type": "display_data"
    },
    {
     "data": {
      "text/plain": [
       "<Figure size 576x396 with 0 Axes>"
      ]
     },
     "metadata": {},
     "output_type": "display_data"
    }
   ],
   "source": [
    "from yellowbrick.classifier import confusion_matrix as yb_confusion_matrix\n",
    "\n",
    "f, ax = plt.subplots(1, 1, figsize=(5.5, 5.5))\n",
    "yb_confusion_matrix(\n",
    "    lr_model,\n",
    "    x_train, y_train, x_test, y_test,\n",
    "    classes=['not defaulted', 'defaulted'],\n",
    "    ax=ax)\n",
    "plt.tight_layout()\n",
    "f.savefig('B17030_11_06.png', dpi=300)"
   ]
  },
  {
   "cell_type": "markdown",
   "metadata": {},
   "source": [
    "Using the mlxtend package:"
   ]
  },
  {
   "cell_type": "code",
   "execution_count": 89,
   "metadata": {},
   "outputs": [
    {
     "data": {
      "image/png": "[encoded data removed]",
      "text/plain": [
       "<Figure size 576x396 with 1 Axes>"
      ]
     },
     "metadata": {},
     "output_type": "display_data"
    }
   ],
   "source": [
    "from mlxtend.plotting import plot_confusion_matrix as mlx_plot_confusion_matrix\n",
    "from sklearn.metrics import confusion_matrix\n",
    "\n",
    "mlx_plot_confusion_matrix(conf_mat=confusion_matrix(y_test, lr_model.predict(x_test)),\n",
    "                     class_names=['not defaulted', 'defaulted'])\n",
    "plt.tight_layout()"
   ]
  },
  {
   "cell_type": "code",
   "execution_count": 90,
   "metadata": {},
   "outputs": [
    {
     "data": {
      "image/png": "[encoded data removed]",
      "text/plain": [
       "<Figure size 396x396 with 1 Axes>"
      ]
     },
     "metadata": {},
     "output_type": "display_data"
    }
   ],
   "source": [
    "f, ax = plt.subplots(1, 1, figsize=(5.5, 5.5))\n",
    "plot_confusion_matrix(lr_multi,\n",
    "                      pay_0_features,\n",
    "                      pay_0_target,\n",
    "                      display_labels=['no consumption', 'paid on-time', 'revolving credit', 'late'],\n",
    "                      cmap=plt.cm.Blues,\n",
    "                      colorbar=False,\n",
    "                      ax=ax)\n",
    "plt.grid(b=None)\n",
    "plt.tight_layout()\n",
    "f.savefig('B17030_11_07.png', dpi=300)"
   ]
  },
  {
   "cell_type": "code",
   "execution_count": 91,
   "metadata": {},
   "outputs": [
    {
     "data": {
      "image/png": "[encoded data removed]",
      "text/plain": [
       "<Figure size 576x396 with 1 Axes>"
      ]
     },
     "metadata": {},
     "output_type": "display_data"
    },
    {
     "data": {
      "image/png": "[encoded data removed]",
      "text/plain": [
       "<Figure size 576x396 with 1 Axes>"
      ]
     },
     "metadata": {},
     "output_type": "display_data"
    },
    {
     "data": {
      "image/png": "[encoded data removed]",
      "text/plain": [
       "<Figure size 576x396 with 1 Axes>"
      ]
     },
     "metadata": {},
     "output_type": "display_data"
    },
    {
     "data": {
      "image/png": "[encoded data removed]",
      "text/plain": [
       "<Figure size 576x396 with 1 Axes>"
      ]
     },
     "metadata": {},
     "output_type": "display_data"
    },
    {
     "data": {
      "image/png": "[encoded data removed]",
      "text/plain": [
       "<Figure size 576x396 with 1 Axes>"
      ]
     },
     "metadata": {},
     "output_type": "display_data"
    },
    {
     "data": {
      "image/png": "[encoded data removed]",
      "text/plain": [
       "<Figure size 576x396 with 1 Axes>"
      ]
     },
     "metadata": {},
     "output_type": "display_data"
    }
   ],
   "source": [
    "from sklearn.metrics import multilabel_confusion_matrix, ConfusionMatrixDisplay\n",
    "\n",
    "ml_cm = multilabel_confusion_matrix(mo_targets, mo_clf.predict(mo_features))\n",
    "\n",
    "for i, cl in enumerate(mo_targets.columns):\n",
    "    f = ConfusionMatrixDisplay(ml_cm[i], display_labels=['on-time', 'late'])\n",
    "    f.plot(cmap=plt.cm.Blues, colorbar=False)\n",
    "    plt.title(cl)\n",
    "    plt.grid(b=None)"
   ]
  },
  {
   "cell_type": "markdown",
   "metadata": {},
   "source": [
    "## Precision, Recall, and the F1 score"
   ]
  },
  {
   "cell_type": "code",
   "execution_count": 92,
   "metadata": {},
   "outputs": [
    {
     "name": "stderr",
     "output_type": "stream",
     "text": [
      "C:\\Users\\words\\Anaconda3\\envs\\datasci\\lib\\site-packages\\sklearn\\metrics\\_classification.py:1245: UndefinedMetricWarning: Precision and F-score are ill-defined and being set to 0.0 in labels with no predicted samples. Use `zero_division` parameter to control this behavior.\n",
      "  _warn_prf(average, modifier, msg_start, len(result))\n",
      "C:\\Users\\words\\Anaconda3\\envs\\datasci\\lib\\site-packages\\sklearn\\metrics\\_classification.py:1245: UndefinedMetricWarning: Precision and F-score are ill-defined and being set to 0.0 in labels with no predicted samples. Use `zero_division` parameter to control this behavior.\n",
      "  _warn_prf(average, modifier, msg_start, len(result))\n",
      "C:\\Users\\words\\Anaconda3\\envs\\datasci\\lib\\site-packages\\sklearn\\metrics\\_classification.py:1245: UndefinedMetricWarning: Precision and F-score are ill-defined and being set to 0.0 in labels with no predicted samples. Use `zero_division` parameter to control this behavior.\n",
      "  _warn_prf(average, modifier, msg_start, len(result))\n"
     ]
    },
    {
     "name": "stdout",
     "output_type": "stream",
     "text": [
      "              precision    recall  f1-score   support\n",
      "\n",
      "  no default       0.78      1.00      0.88      5841\n",
      "     default       0.00      0.00      0.00      1659\n",
      "\n",
      "    accuracy                           0.78      7500\n",
      "   macro avg       0.39      0.50      0.44      7500\n",
      "weighted avg       0.61      0.78      0.68      7500\n",
      "\n"
     ]
    }
   ],
   "source": [
    "from sklearn.metrics import classification_report\n",
    "\n",
    "print(classification_report(y_test, lr_model.predict(x_test), target_names=['no default', 'default']))"
   ]
  },
  {
   "cell_type": "code",
   "execution_count": 93,
   "metadata": {},
   "outputs": [
    {
     "name": "stderr",
     "output_type": "stream",
     "text": [
      "C:\\Users\\words\\Anaconda3\\envs\\datasci\\lib\\site-packages\\yellowbrick\\classifier\\base.py:232: YellowbrickWarning: could not determine class_counts_ from previously fitted classifier\n",
      "  warnings.warn(\n",
      "C:\\Users\\words\\Anaconda3\\envs\\datasci\\lib\\site-packages\\sklearn\\metrics\\_classification.py:1245: UndefinedMetricWarning: Precision and F-score are ill-defined and being set to 0.0 in labels with no predicted samples. Use `zero_division` parameter to control this behavior.\n",
      "  _warn_prf(average, modifier, msg_start, len(result))\n"
     ]
    },
    {
     "data": {
      "image/png": "[encoded data removed]",
      "text/plain": [
       "<Figure size 396x396 with 1 Axes>"
      ]
     },
     "metadata": {},
     "output_type": "display_data"
    }
   ],
   "source": [
    "from yellowbrick.classifier import ClassificationReport\n",
    "\n",
    "f, ax = plt.subplots(1, 1, figsize=(5.5, 5.5))\n",
    "viz = ClassificationReport(lr_model,\n",
    "                           support=True,\n",
    "                           classes=['no default', 'default'],\n",
    "                           cmap='Blues')\n",
    "viz.score(x_test, y_test)\n",
    "plt.gcf().delaxes(f.axes[0])\n",
    "viz.show()\n",
    "f.savefig('B17030_11_09.png', dpi=300)"
   ]
  },
  {
   "cell_type": "code",
   "execution_count": 94,
   "metadata": {},
   "outputs": [
    {
     "name": "stderr",
     "output_type": "stream",
     "text": [
      "C:\\Users\\words\\Anaconda3\\envs\\datasci\\lib\\site-packages\\yellowbrick\\classifier\\base.py:232: YellowbrickWarning: could not determine class_counts_ from previously fitted classifier\n",
      "  warnings.warn(\n"
     ]
    },
    {
     "data": {
      "image/png": "[encoded data removed]",
      "text/plain": [
       "<Figure size 396x396 with 1 Axes>"
      ]
     },
     "metadata": {},
     "output_type": "display_data"
    },
    {
     "data": {
      "text/plain": [
       "<AxesSubplot:title={'center':'LogisticRegression Classification Report'}>"
      ]
     },
     "execution_count": 94,
     "metadata": {},
     "output_type": "execute_result"
    }
   ],
   "source": [
    "f, ax = plt.subplots(1, 1, figsize=(5.5, 5.5))\n",
    "viz = ClassificationReport(lr_multi,\n",
    "                           support=True,\n",
    "                           classes=['no consumption', 'on time', 'credit', 'late'],\n",
    "                           cmap='Blues')\n",
    "viz.score(pay_0_features, pay_0_target)\n",
    "plt.gcf().delaxes(f.axes[0])\n",
    "viz.show()"
   ]
  },
  {
   "cell_type": "code",
   "execution_count": 95,
   "metadata": {},
   "outputs": [
    {
     "name": "stdout",
     "output_type": "stream",
     "text": [
      "                precision    recall  f1-score   support\n",
      "\n",
      "no consumption       0.49      0.01      0.02      2759\n",
      "       on time       0.46      0.75      0.57      5686\n",
      "        credit       0.67      0.94      0.78     14737\n",
      "          late       0.16      0.00      0.00      6818\n",
      "\n",
      "      accuracy                           0.60     30000\n",
      "     macro avg       0.44      0.43      0.34     30000\n",
      "  weighted avg       0.50      0.60      0.49     30000\n",
      "\n"
     ]
    }
   ],
   "source": [
    "print(classification_report(pay_0_target,\n",
    "                            lr_multi.predict(pay_0_features),\n",
    "                            target_names=['no consumption', 'on time', 'credit', 'late']))"
   ]
  },
  {
   "cell_type": "markdown",
   "metadata": {},
   "source": [
    "## AUC score"
   ]
  },
  {
   "cell_type": "code",
   "execution_count": 96,
   "metadata": {},
   "outputs": [
    {
     "data": {
      "image/png": "[encoded data removed]",
      "text/plain": [
       "<Figure size 576x396 with 1 Axes>"
      ]
     },
     "metadata": {},
     "output_type": "display_data"
    }
   ],
   "source": [
    "from yellowbrick.classifier.rocauc import roc_auc\n",
    "\n",
    "roc = roc_auc(lr_model, x_train, y_train, x_test, y_test, classes=['no default', 'default'], macro=False, micro=False)"
   ]
  },
  {
   "cell_type": "code",
   "execution_count": 97,
   "metadata": {},
   "outputs": [
    {
     "data": {
      "image/png": "[encoded data removed]",
      "text/plain": [
       "<Figure size 576x396 with 1 Axes>"
      ]
     },
     "metadata": {},
     "output_type": "display_data"
    }
   ],
   "source": [
    "from sklearn.metrics import plot_roc_curve\n",
    "\n",
    "roc = roc_auc(lr_multi, pay_0_features, pay_0_target, macro=False, micro=False)"
   ]
  },
  {
   "cell_type": "code",
   "execution_count": 98,
   "metadata": {},
   "outputs": [
    {
     "data": {
      "image/png": "[encoded data removed]",
      "text/plain": [
       "<Figure size 396x396 with 1 Axes>"
      ]
     },
     "metadata": {},
     "output_type": "display_data"
    }
   ],
   "source": [
    "from sklearn.metrics import plot_roc_curve\n",
    "\n",
    "f, ax = plt.subplots(1, 1, figsize=(5.5, 5.5))\n",
    "roc = plot_roc_curve(lr_model, x_test, y_test, ax=ax)\n",
    "plt.plot([0, 1], [0, 1], c='k', linestyle='dotted', label='random model')\n",
    "plt.plot([0, 0, 1], [0, 1, 1], c='k', linestyle='dashed', label='perfect model')\n",
    "plt.legend()\n",
    "plt.tight_layout()\n",
    "f.savefig('B17030_11_10.png', dpi=300)"
   ]
  },
  {
   "cell_type": "code",
   "execution_count": 99,
   "metadata": {},
   "outputs": [
    {
     "data": {
      "text/plain": [
       "0.6456388653342097"
      ]
     },
     "execution_count": 99,
     "metadata": {},
     "output_type": "execute_result"
    }
   ],
   "source": [
    "roc.roc_auc"
   ]
  },
  {
   "cell_type": "markdown",
   "metadata": {},
   "source": [
    "### Choosing the optimal threshold"
   ]
  },
  {
   "cell_type": "code",
   "execution_count": 100,
   "metadata": {},
   "outputs": [
    {
     "data": {
      "text/plain": [
       "array([0.00000000e+00, 6.02772755e-04, 6.02772755e-04, ...,\n",
       "       9.99397227e-01, 1.00000000e+00, 1.00000000e+00])"
      ]
     },
     "execution_count": 100,
     "metadata": {},
     "output_type": "execute_result"
    }
   ],
   "source": [
    "roc.tpr"
   ]
  },
  {
   "cell_type": "code",
   "execution_count": 101,
   "metadata": {},
   "outputs": [
    {
     "data": {
      "text/plain": [
       "array([0.00000000e+00, 0.00000000e+00, 1.71203561e-04, ...,\n",
       "       9.99486389e-01, 9.99486389e-01, 1.00000000e+00])"
      ]
     },
     "execution_count": 101,
     "metadata": {},
     "output_type": "execute_result"
    }
   ],
   "source": [
    "roc.fpr"
   ]
  },
  {
   "cell_type": "code",
   "execution_count": 102,
   "metadata": {},
   "outputs": [
    {
     "data": {
      "text/plain": [
       "0.24672308152058456"
      ]
     },
     "execution_count": 102,
     "metadata": {},
     "output_type": "execute_result"
    },
    {
     "data": {
      "image/png": "[encoded data removed]",
      "text/plain": [
       "<Figure size 576x396 with 1 Axes>"
      ]
     },
     "metadata": {},
     "output_type": "display_data"
    }
   ],
   "source": [
    "roc = plot_roc_curve(lr_model, x_test, y_test, drop_intermediate=False)\n",
    "youdens_idx = np.argmax(roc.tpr - roc.fpr)\n",
    "thresholds = np.unique(lr_model.predict_proba(x_test)[:, 1])\n",
    "thresholds.sort()\n",
    "thresholds = [1] + list(thresholds[::-1])\n",
    "y_thresh = thresholds[youdens_idx]\n",
    "y_thresh"
   ]
  },
  {
   "cell_type": "code",
   "execution_count": 103,
   "metadata": {},
   "outputs": [
    {
     "data": {
      "text/plain": [
       "0.24672308152058456"
      ]
     },
     "execution_count": 103,
     "metadata": {},
     "output_type": "execute_result"
    }
   ],
   "source": [
    "upper_left_array = np.vstack((np.zeros(roc.tpr.shape[0]), np.ones(roc.tpr.shape[0]))).T\n",
    "roc_curve_points = np.vstack((roc.fpr, roc.tpr)).T\n",
    "topleft_idx = np.argmin(np.linalg.norm(upper_left_array - roc_curve_points, axis=1))\n",
    "tl_thresh = thresholds[topleft_idx]\n",
    "tl_thresh"
   ]
  },
  {
   "cell_type": "code",
   "execution_count": 104,
   "metadata": {},
   "outputs": [
    {
     "data": {
      "image/png": "[encoded data removed]",
      "text/plain": [
       "<Figure size 396x396 with 1 Axes>"
      ]
     },
     "metadata": {},
     "output_type": "display_data"
    }
   ],
   "source": [
    "from yellowbrick.classifier.threshold import discrimination_threshold\n",
    "\n",
    "f = plt.figure(figsize=(5.5, 5.5))\n",
    "dt = discrimination_threshold(lr_model, x_train, y_train, show=False)\n",
    "plt.savefig('B17030_11_11.png', dpi=300)"
   ]
  },
  {
   "cell_type": "code",
   "execution_count": 105,
   "metadata": {},
   "outputs": [
    {
     "data": {
      "text/plain": [
       "0.25194686211635364"
      ]
     },
     "execution_count": 105,
     "metadata": {},
     "output_type": "execute_result"
    }
   ],
   "source": [
    "f_idx = dt.cv_scores_['fscore'].argmax()\n",
    "f_thresh = dt.thresholds_[f_idx]\n",
    "f_thresh"
   ]
  },
  {
   "cell_type": "code",
   "execution_count": 106,
   "metadata": {},
   "outputs": [
    {
     "data": {
      "text/plain": [
       "[<matplotlib.lines.Line2D at 0x2b8cc9d3ac0>]"
      ]
     },
     "execution_count": 106,
     "metadata": {},
     "output_type": "execute_result"
    },
    {
     "data": {
      "image/png": "[encoded data removed]",
      "text/plain": [
       "<Figure size 576x396 with 1 Axes>"
      ]
     },
     "metadata": {},
     "output_type": "display_data"
    }
   ],
   "source": [
    "# the \"queue rate\"\n",
    "plt.plot(thresholds, roc.fpr)"
   ]
  },
  {
   "cell_type": "code",
   "execution_count": 107,
   "metadata": {},
   "outputs": [
    {
     "name": "stdout",
     "output_type": "stream",
     "text": [
      "0.5777333333333333\n",
      "0.5777333333333333\n",
      "0.5844\n"
     ]
    }
   ],
   "source": [
    "for t in [y_thresh, tl_thresh, f_thresh]:\n",
    "    print(accuracy_score(y_test, lr_model.predict_proba(x_test)[:, 1] >= t))"
   ]
  },
  {
   "cell_type": "code",
   "execution_count": 108,
   "metadata": {},
   "outputs": [
    {
     "data": {
      "text/plain": [
       "<Figure size 396x396 with 0 Axes>"
      ]
     },
     "metadata": {},
     "output_type": "display_data"
    },
    {
     "data": {
      "image/png": "[encoded data removed]",
      "text/plain": [
       "<Figure size 576x396 with 1 Axes>"
      ]
     },
     "metadata": {},
     "output_type": "display_data"
    }
   ],
   "source": [
    "f = plt.figure(figsize=(5.5, 5.5))\n",
    "mlx_plot_confusion_matrix(confusion_matrix(y_test, lr_model.predict_proba(x_test)[:, 1] >= y_thresh))\n",
    "f.tight_layout()\n",
    "plt.savefig('B17030_11_12.png', dpi=300)"
   ]
  },
  {
   "cell_type": "markdown",
   "metadata": {},
   "source": [
    "# Sampling"
   ]
  },
  {
   "cell_type": "markdown",
   "metadata": {},
   "source": [
    "## Downsampling"
   ]
  },
  {
   "cell_type": "code",
   "execution_count": 109,
   "metadata": {},
   "outputs": [],
   "source": [
    "_, x_sample, _, y_sample = train_test_split(train_features, train_targets, test_size=0.1, stratify=train_targets)"
   ]
  },
  {
   "cell_type": "code",
   "execution_count": 110,
   "metadata": {},
   "outputs": [
    {
     "data": {
      "text/plain": [
       "array([0.77866667, 0.22133333])"
      ]
     },
     "execution_count": 110,
     "metadata": {},
     "output_type": "execute_result"
    }
   ],
   "source": [
    "np.bincount(y_sample) / y_sample.shape[0]"
   ]
  },
  {
   "cell_type": "code",
   "execution_count": 111,
   "metadata": {},
   "outputs": [
    {
     "data": {
      "text/plain": [
       "0    0.7788\n",
       "1    0.2212\n",
       "Name: default payment next month, dtype: float64"
      ]
     },
     "execution_count": 111,
     "metadata": {},
     "output_type": "execute_result"
    }
   ],
   "source": [
    "train_targets.value_counts() / train_targets.shape[0]"
   ]
  },
  {
   "cell_type": "code",
   "execution_count": 112,
   "metadata": {},
   "outputs": [],
   "source": [
    "from imblearn.under_sampling import RandomUnderSampler\n",
    "\n",
    "rus = RandomUnderSampler(random_state=0)\n",
    "x_resampled, y_resampled = rus.fit_resample(train_features, train_targets)"
   ]
  },
  {
   "cell_type": "code",
   "execution_count": 113,
   "metadata": {},
   "outputs": [
    {
     "data": {
      "text/plain": [
       "1    6636\n",
       "0    6636\n",
       "Name: default payment next month, dtype: int64"
      ]
     },
     "execution_count": 113,
     "metadata": {},
     "output_type": "execute_result"
    }
   ],
   "source": [
    "y_resampled.value_counts()"
   ]
  },
  {
   "cell_type": "code",
   "execution_count": 114,
   "metadata": {},
   "outputs": [
    {
     "data": {
      "text/plain": [
       "0    17523\n",
       "1     4977\n",
       "Name: default payment next month, dtype: int64"
      ]
     },
     "execution_count": 114,
     "metadata": {},
     "output_type": "execute_result"
    }
   ],
   "source": [
    "y_train.value_counts()"
   ]
  },
  {
   "cell_type": "markdown",
   "metadata": {},
   "source": [
    "## Oversampling"
   ]
  },
  {
   "cell_type": "code",
   "execution_count": 115,
   "metadata": {},
   "outputs": [],
   "source": [
    "target_col = 'default payment next month'\n",
    "x_train, x_test, y_train, y_test = train_test_split(df.drop(target_col, axis=1), df[target_col], random_state=42)"
   ]
  },
  {
   "cell_type": "code",
   "execution_count": 116,
   "metadata": {},
   "outputs": [],
   "source": [
    "from sklearn.metrics import roc_auc_score\n",
    "from imblearn.over_sampling import RandomOverSampler\n",
    "\n",
    "ros = RandomOverSampler(random_state=0)\n",
    "x_resampled, y_resampled = ros.fit_resample(x_train, y_train)"
   ]
  },
  {
   "cell_type": "code",
   "execution_count": 117,
   "metadata": {},
   "outputs": [
    {
     "data": {
      "text/plain": [
       "1    17491\n",
       "0    17491\n",
       "Name: default payment next month, dtype: int64"
      ]
     },
     "execution_count": 117,
     "metadata": {},
     "output_type": "execute_result"
    }
   ],
   "source": [
    "y_resampled.value_counts()"
   ]
  },
  {
   "cell_type": "code",
   "execution_count": 118,
   "metadata": {},
   "outputs": [
    {
     "name": "stdout",
     "output_type": "stream",
     "text": [
      "unmodified: 0.6482482993072692\n"
     ]
    }
   ],
   "source": [
    "lr_model = LogisticRegressionCV(max_iter=1000)\n",
    "lr_model.fit(x_train, y_train)\n",
    "print('unmodified:', roc_auc_score(y_test, lr_model.predict_proba(x_test)[:, 1]))"
   ]
  },
  {
   "cell_type": "code",
   "execution_count": 119,
   "metadata": {},
   "outputs": [
    {
     "name": "stdout",
     "output_type": "stream",
     "text": [
      "resampled: 0.6529705649314925\n"
     ]
    }
   ],
   "source": [
    "lr_model_rs = LogisticRegressionCV(max_iter=1000)\n",
    "lr_model_rs.fit(x_resampled, y_resampled)\n",
    "print('resampled:', roc_auc_score(y_test, lr_model_rs.predict_proba(x_test)[:, 1]))"
   ]
  },
  {
   "cell_type": "markdown",
   "metadata": {},
   "source": [
    "## SMOTE and other synthetic sampling methods"
   ]
  },
  {
   "cell_type": "code",
   "execution_count": 120,
   "metadata": {},
   "outputs": [
    {
     "name": "stdout",
     "output_type": "stream",
     "text": [
      "resampled: 0.650524087447782\n"
     ]
    }
   ],
   "source": [
    "from imblearn.over_sampling import KMeansSMOTE\n",
    "\n",
    "kmSMOTE = KMeansSMOTE(random_state=42, k_neighbors=5, cluster_balance_threshold=0.2, n_jobs=-1)\n",
    "x_resampled, y_resampled = kmSMOTE.fit_resample(x_train, y_train)\n",
    "\n",
    "lr_model_rs = LogisticRegressionCV(max_iter=1000)\n",
    "lr_model_rs.fit(x_resampled, y_resampled)\n",
    "print('resampled:', roc_auc_score(y_test, lr_model_rs.predict_proba(x_test)[:, 1]))"
   ]
  },
  {
   "cell_type": "code",
   "execution_count": 121,
   "metadata": {},
   "outputs": [
    {
     "name": "stdout",
     "output_type": "stream",
     "text": [
      "SMOTE(random_state=42)                                  0.6614621242859121\n",
      "BorderlineSMOTE(random_state=42)                        0.6582137941059536\n",
      "BorderlineSMOTE(kind='borderline-2', random_state=42)   0.6548044026757308\n",
      "SVMSMOTE(random_state=42)                               0.6654890741552578\n",
      "ADASYN(random_state=42)                                 0.6576074335575248\n",
      "SMOTEENN(random_state=42)                               0.6545750028962769\n",
      "SMOTETomek(random_state=42)                             0.6615719054759883\n"
     ]
    }
   ],
   "source": [
    "from imblearn.over_sampling import SMOTE, BorderlineSMOTE, SVMSMOTE, ADASYN\n",
    "from imblearn.combine import SMOTEENN, SMOTETomek\n",
    "\n",
    "samplers = [\n",
    "    SMOTE(random_state=42),\n",
    "    BorderlineSMOTE(random_state=42, kind=\"borderline-1\"),\n",
    "    BorderlineSMOTE(random_state=42, kind=\"borderline-2\"),\n",
    "    SVMSMOTE(random_state=42),\n",
    "    ADASYN(random_state=42),\n",
    "    SMOTEENN(random_state=42),\n",
    "    SMOTETomek(random_state=42)\n",
    "]\n",
    "\n",
    "for s in samplers:\n",
    "    x_resampled, y_resampled = s.fit_resample(x_train, y_train)\n",
    "    lr_model_rs = LogisticRegressionCV(max_iter=1000)\n",
    "    lr_model_rs.fit(x_resampled, y_resampled)\n",
    "    print(f'{str(s):<55} {roc_auc_score(y_test, lr_model_rs.predict_proba(x_test)[:, 1])}')"
   ]
  }
 ],
 "metadata": {
  "kernelspec": {
   "display_name": "Python 3",
   "language": "python",
   "name": "python3"
  },
  "language_info": {
   "codemirror_mode": {
    "name": "ipython",
    "version": 3
   },
   "file_extension": ".py",
   "mimetype": "text/x-python",
   "name": "python",
   "nbconvert_exporter": "python",
   "pygments_lexer": "ipython3",
   "version": "3.8.5"
  }
 },
 "nbformat": 4,
 "nbformat_minor": 4
}
